{
 "cells": [
  {
   "cell_type": "code",
   "execution_count": 2,
   "id": "ebee2986-4115-4a36-8b13-e3811a178817",
   "metadata": {},
   "outputs": [],
   "source": [
    "from sklearn.linear_model import LogisticRegression\n",
    "from sklearn.svm import SVC\n",
    "from sklearn.ensemble import RandomForestClassifier\n",
    "from sklearn.datasets import load_iris\n",
    "\n",
    "iris = load_iris()"
   ]
  },
  {
   "cell_type": "code",
   "execution_count": 4,
   "id": "93a2016c-fbc7-40dc-9a8e-3242800e00d0",
   "metadata": {},
   "outputs": [
    {
     "data": {
      "text/plain": [
       "['DESCR',\n",
       " 'data',\n",
       " 'data_module',\n",
       " 'feature_names',\n",
       " 'filename',\n",
       " 'frame',\n",
       " 'target',\n",
       " 'target_names']"
      ]
     },
     "execution_count": 4,
     "metadata": {},
     "output_type": "execute_result"
    }
   ],
   "source": [
    "dir(iris)"
   ]
  },
  {
   "cell_type": "code",
   "execution_count": 6,
   "id": "12d5631b-6ca3-4be1-bda1-26c63869f27b",
   "metadata": {},
   "outputs": [],
   "source": [
    "from sklearn.model_selection import cross_val_score"
   ]
  },
  {
   "cell_type": "code",
   "execution_count": 18,
   "id": "99b46a21-350d-42e0-8cbf-87db7b15d03d",
   "metadata": {},
   "outputs": [
    {
     "name": "stdout",
     "output_type": "stream",
     "text": [
      "0.9733333333333334\n"
     ]
    },
    {
     "name": "stderr",
     "output_type": "stream",
     "text": [
      "C:\\Users\\yoges\\anaconda3\\Lib\\site-packages\\sklearn\\linear_model\\_logistic.py:469: ConvergenceWarning: lbfgs failed to converge (status=1):\n",
      "STOP: TOTAL NO. of ITERATIONS REACHED LIMIT.\n",
      "\n",
      "Increase the number of iterations (max_iter) or scale the data as shown in:\n",
      "    https://scikit-learn.org/stable/modules/preprocessing.html\n",
      "Please also refer to the documentation for alternative solver options:\n",
      "    https://scikit-learn.org/stable/modules/linear_model.html#logistic-regression\n",
      "  n_iter_i = _check_optimize_result(\n"
     ]
    }
   ],
   "source": [
    "a = cross_val_score(LogisticRegression(),iris.data, iris.target)\n",
    "div = len(a)\n",
    "res = 0\n",
    "for i in a:\n",
    "    res+=i\n",
    "\n",
    "avg = res/div\n",
    "print(avg)"
   ]
  },
  {
   "cell_type": "code",
   "execution_count": 20,
   "id": "6b71d364-3505-4b4a-a4b1-996d2057b33f",
   "metadata": {},
   "outputs": [
    {
     "name": "stdout",
     "output_type": "stream",
     "text": [
      "0.9666666666666666\n"
     ]
    }
   ],
   "source": [
    "a = cross_val_score(SVC(),iris.data, iris.target)\n",
    "div = len(a)\n",
    "res = 0\n",
    "for i in a:\n",
    "    res+=i\n",
    "\n",
    "avg = res/div\n",
    "print(avg)"
   ]
  },
  {
   "cell_type": "code",
   "execution_count": 22,
   "id": "12dbd56c-0d23-47a9-b0be-644108d2966b",
   "metadata": {},
   "outputs": [
    {
     "name": "stdout",
     "output_type": "stream",
     "text": [
      "0.9466666666666667\n"
     ]
    }
   ],
   "source": [
    "a = cross_val_score(RandomForestClassifier(n_estimators=10),iris.data, iris.target)\n",
    "div = len(a)\n",
    "res = 0\n",
    "for i in a:\n",
    "    res+=i\n",
    "\n",
    "avg = res/div\n",
    "print(avg)"
   ]
  },
  {
   "cell_type": "markdown",
   "id": "9b31b184-e0d9-46d7-b407-d40e74a7ec6b",
   "metadata": {},
   "source": [
    "#### SVM is the best performing model here for the Iris dataset on evaluating with the K-Fold Cross Validation with an accuracy of 96.7%"
   ]
  },
  {
   "cell_type": "code",
   "execution_count": 27,
   "id": "7a1eed67-a2e5-4548-9b03-42883ef2b48e",
   "metadata": {},
   "outputs": [
    {
     "name": "stdout",
     "output_type": "stream",
     "text": [
      "0.9666666666666666\n"
     ]
    }
   ],
   "source": [
    "import numpy as np\n",
    "a = cross_val_score(SVC(),iris.data, iris.target)\n",
    "print(np.average(a))"
   ]
  },
  {
   "cell_type": "code",
   "execution_count": 31,
   "id": "5046971d-d40b-487d-9b95-7d9453e03d67",
   "metadata": {},
   "outputs": [
    {
     "name": "stdout",
     "output_type": "stream",
     "text": [
      "0.9733333333333334\n"
     ]
    },
    {
     "name": "stderr",
     "output_type": "stream",
     "text": [
      "C:\\Users\\yoges\\anaconda3\\Lib\\site-packages\\sklearn\\linear_model\\_logistic.py:469: ConvergenceWarning: lbfgs failed to converge (status=1):\n",
      "STOP: TOTAL NO. of ITERATIONS REACHED LIMIT.\n",
      "\n",
      "Increase the number of iterations (max_iter) or scale the data as shown in:\n",
      "    https://scikit-learn.org/stable/modules/preprocessing.html\n",
      "Please also refer to the documentation for alternative solver options:\n",
      "    https://scikit-learn.org/stable/modules/linear_model.html#logistic-regression\n",
      "  n_iter_i = _check_optimize_result(\n"
     ]
    }
   ],
   "source": [
    "b = cross_val_score(LogisticRegression(),iris.data, iris.target)\n",
    "print(np.average(b))"
   ]
  },
  {
   "cell_type": "code",
   "execution_count": 33,
   "id": "cfdcff39-d2c2-435f-8953-7d68c43abdd5",
   "metadata": {},
   "outputs": [
    {
     "name": "stdout",
     "output_type": "stream",
     "text": [
      "0.9533333333333334\n"
     ]
    }
   ],
   "source": [
    "import numpy as np\n",
    "c = cross_val_score(RandomForestClassifier(n_estimators=10),iris.data, iris.target)\n",
    "print(np.average(c))"
   ]
  },
  {
   "cell_type": "markdown",
   "id": "c6f5cb22-dccf-4437-be11-86110b2bd908",
   "metadata": {},
   "source": [
    "#### The best model here when we use the 'average' function of Numpy is I am getting it as 'Logistic Regression'"
   ]
  },
  {
   "cell_type": "code",
   "execution_count": null,
   "id": "60747d5a-f914-4bab-9314-a239c43767ab",
   "metadata": {},
   "outputs": [],
   "source": []
  }
 ],
 "metadata": {
  "kernelspec": {
   "display_name": "Python 3 (ipykernel)",
   "language": "python",
   "name": "python3"
  },
  "language_info": {
   "codemirror_mode": {
    "name": "ipython",
    "version": 3
   },
   "file_extension": ".py",
   "mimetype": "text/x-python",
   "name": "python",
   "nbconvert_exporter": "python",
   "pygments_lexer": "ipython3",
   "version": "3.12.4"
  }
 },
 "nbformat": 4,
 "nbformat_minor": 5
}

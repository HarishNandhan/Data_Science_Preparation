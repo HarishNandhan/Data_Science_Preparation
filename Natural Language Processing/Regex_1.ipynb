{
 "cells": [
  {
   "cell_type": "code",
   "execution_count": 27,
   "id": "d5ec5916-2752-4b0e-ab3f-43991469f3eb",
   "metadata": {},
   "outputs": [],
   "source": [
    "import re # re - regular expression"
   ]
  },
  {
   "cell_type": "code",
   "execution_count": 28,
   "id": "1bbe046f-08cb-4273-8bf0-2e4341a4b032",
   "metadata": {},
   "outputs": [],
   "source": [
    "chat1 = 'codebasics: you ask lot of questions 😠  1235678912, abc@xyz.com, 9360759407'\n",
    "chat2 = 'codebasics: here it is: (123)-567-8912, abc@xyz.com'\n",
    "chat3 = 'codebasics: yes, phone: 1235678912 email: abc@xyz.com'"
   ]
  },
  {
   "cell_type": "markdown",
   "id": "4fc142ba-a088-4689-b640-48bf6c646279",
   "metadata": {},
   "source": [
    "To extract the phone numbers using Regular expression:"
   ]
  },
  {
   "cell_type": "code",
   "execution_count": 29,
   "id": "4ac22f4a-86ba-4031-b06b-84748e1c967c",
   "metadata": {
    "scrolled": true
   },
   "outputs": [
    {
     "data": {
      "text/plain": [
       "['1235678912', '9360759407']"
      ]
     },
     "execution_count": 29,
     "metadata": {},
     "output_type": "execute_result"
    }
   ],
   "source": [
    "pattern = r'\\d{10}|\\(\\d{3}\\)-\\d{3}-\\d{4}}'\n",
    "\n",
    "matches = re.findall(pattern,chat1)\n",
    "matches"
   ]
  },
  {
   "cell_type": "code",
   "execution_count": 30,
   "id": "28b00c13-3b76-43fd-984e-4155c321ef53",
   "metadata": {},
   "outputs": [
    {
     "data": {
      "text/plain": [
       "['(123)-567-8912']"
      ]
     },
     "execution_count": 30,
     "metadata": {},
     "output_type": "execute_result"
    }
   ],
   "source": [
    "pattern = r'\\d{10}|\\(\\d{3}\\)-\\d{3}-\\d{4}'\n",
    "\n",
    "matches = re.findall(pattern,chat2)\n",
    "matches"
   ]
  },
  {
   "cell_type": "markdown",
   "id": "968b4308-6b60-4738-a792-e932fb3d7c12",
   "metadata": {},
   "source": [
    "To extract the email-ids using Regular expression:"
   ]
  },
  {
   "cell_type": "code",
   "execution_count": 32,
   "id": "e3c3783f-0d8d-4ff6-be3b-4f359c3e6fad",
   "metadata": {},
   "outputs": [
    {
     "data": {
      "text/plain": [
       "['abc@xyz.com']"
      ]
     },
     "execution_count": 32,
     "metadata": {},
     "output_type": "execute_result"
    }
   ],
   "source": [
    "pattern = r'[a-z0-9A-Z_]*@[a-z0-9A-Z]*\\.[a-zA-Z]*'\n",
    "\n",
    "matches = re.findall(pattern,chat2)\n",
    "matches"
   ]
  },
  {
   "cell_type": "code",
   "execution_count": 33,
   "id": "32b2101c-7ed3-4d34-ae8b-75e583769ccc",
   "metadata": {},
   "outputs": [
    {
     "data": {
      "text/plain": [
       "['abc@xyz.com']"
      ]
     },
     "execution_count": 33,
     "metadata": {},
     "output_type": "execute_result"
    }
   ],
   "source": [
    "pattern = r'[a-z0-9A-Z_]*@[a-z0-9A-Z]*\\.[a-zA-Z]*'\n",
    "\n",
    "matches = re.findall(pattern,chat1)\n",
    "matches"
   ]
  },
  {
   "cell_type": "code",
   "execution_count": 34,
   "id": "25874edb-e9fb-42db-b883-604307e58284",
   "metadata": {},
   "outputs": [],
   "source": [
    "chat1='codebasics: Hello, I am having an issue with my order # 412889912'\n",
    "chat2='codebasics: I have a problem with my order number 412889912'\n",
    "chat3='codebasics: My order 412889912 is having an issue, I was charged 300$ when online it says 280$'"
   ]
  },
  {
   "cell_type": "code",
   "execution_count": 35,
   "id": "da7fa29b-9045-4633-8823-f99369ece825",
   "metadata": {},
   "outputs": [
    {
     "data": {
      "text/plain": [
       "['412889912']"
      ]
     },
     "execution_count": 35,
     "metadata": {},
     "output_type": "execute_result"
    }
   ],
   "source": [
    "pattern = r'order[^\\d]*(\\d*)'\n",
    "\n",
    "matches = re.findall(pattern,chat1)\n",
    "matches"
   ]
  },
  {
   "cell_type": "markdown",
   "id": "502450bf-f7bf-42e3-b490-c295ed1e8a75",
   "metadata": {},
   "source": [
    "Example Problems for Information Extraction:"
   ]
  },
  {
   "cell_type": "code",
   "execution_count": null,
   "id": "6ba2af1b-2bc9-42f0-9638-4625f4e433ac",
   "metadata": {},
   "outputs": [],
   "source": []
  }
 ],
 "metadata": {
  "kernelspec": {
   "display_name": "Python 3 (ipykernel)",
   "language": "python",
   "name": "python3"
  },
  "language_info": {
   "codemirror_mode": {
    "name": "ipython",
    "version": 3
   },
   "file_extension": ".py",
   "mimetype": "text/x-python",
   "name": "python",
   "nbconvert_exporter": "python",
   "pygments_lexer": "ipython3",
   "version": "3.12.5"
  }
 },
 "nbformat": 4,
 "nbformat_minor": 5
}

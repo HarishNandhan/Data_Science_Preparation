{
 "cells": [
  {
   "cell_type": "markdown",
   "metadata": {
    "nbgrader": {
     "cell_type": "markdown",
     "checksum": "c10650a2505fbdb3713260eef15f86a4",
     "grade": false,
     "grade_id": "cell-028a6aaacd367700",
     "locked": true,
     "schema_version": 3,
     "solution": false,
     "task": false
    }
   },
   "source": [
    "# Homework #6\n",
    "\n",
    "**See Canvas for the HW #6 assignment and due date**. Complete all of the following problems. Ideally, the theoretical problems should be answered in a Markdown cell directly underneath the question. If you don't know LaTex/Markdown, you may submit separate handwritten solutions to the theoretical problems, but please see the [class scanning policy](https://docs.google.com/document/d/17y5ksolrn2rEuXYBv_3HeZhkPbYwt48UojNT1OvcB_w/edit?usp=sharing). Please do not turn in messy work. Computational problems should be completed in this notebook (using the R kernel). Computational questions may require code, plots, analysis, interpretation, etc. Working in small groups is allowed, but it is important that you make an effort to master the material and hand in your own work. \n",
    "\n"
   ]
  },
  {
   "cell_type": "markdown",
   "metadata": {
    "id": "Vpxs_7xzuHD8",
    "nbgrader": {
     "cell_type": "markdown",
     "checksum": "889b7205d3b70ef0d561cf6199d4a771",
     "grade": false,
     "grade_id": "cell-690073cfc39a9520",
     "locked": true,
     "schema_version": 3,
     "solution": false,
     "task": false
    }
   },
   "source": [
    "## A. Theoretical Problems"
   ]
  },
  {
   "cell_type": "markdown",
   "metadata": {
    "nbgrader": {
     "cell_type": "markdown",
     "checksum": "3e3d61907206a4990a70dfec22807fa3",
     "grade": false,
     "grade_id": "cell-0ace3c29ea921fa1",
     "locked": true,
     "schema_version": 3,
     "solution": false,
     "task": false
    }
   },
   "source": [
    "## A.1 [10 points] Approximate Confidence Interval for Proportions\n",
    "\n",
    "Recall from an earlier assignment that if $np > 5$ and $n(1-p) > 5$, then $X \\sim \\text{Bin}(n,p)$ is well-approximated by $Y \\sim N\\left(np, np(1-p)\\right)$. Use this approximation in the question below. In particular, an approximate $(1-\\alpha)\\times 100\\%$ confidence interval for a population proportion $p$ is given by\n",
    "\n",
    "\\begin{align*}\n",
    "\\widehat{p} \\pm z_{1-\\alpha/2}\\sqrt{\\frac{\\widehat{p}(1-\\widehat{p})}{n}},\n",
    "\\end{align*}\n",
    "\n",
    "where $\\widehat{p}$ is the sample proportion. \n",
    "\n",
    "**Suppose that 12 people in a sample of 95 are members of the Green Party. Calculate an approximate 90% confidence interval for the true proportion of Green Party members in the population. Interpret this interval.**"
   ]
  },
  {
   "cell_type": "markdown",
   "metadata": {
    "nbgrader": {
     "cell_type": "markdown",
     "checksum": "5c53dbcdd380ac42c24a7fbbc921bb76",
     "grade": true,
     "grade_id": "cell-3782b231697a2fe3",
     "locked": false,
     "points": 10,
     "schema_version": 3,
     "solution": true,
     "task": false
    }
   },
   "source": []
  },
  {
   "cell_type": "markdown",
   "metadata": {
    "nbgrader": {
     "cell_type": "markdown",
     "checksum": "a96f285a8426324cafb44271f22d7e4c",
     "grade": false,
     "grade_id": "cell-cae651bd0f49963b",
     "locked": true,
     "schema_version": 3,
     "solution": false,
     "task": false
    }
   },
   "source": [
    "## A.2 [10 points] Speed of Light\n",
    "\n",
    "In 1881 Michelson and Newcomb measured the time light took to travel a distance of $7400$ meters. From a study of their experimental setup and a descriptive study of their $64$ measurements, we conclude that the data can be assumed to be i.i.d. These measurements yield the following sample quantities in microseconds for the sample mean $\\bar x$ and sample standard deviation $s$:\n",
    "$$\\bar{x}=27.75, s=5.08$$\n",
    "Construct a 95% confidence interval for the time light takes to travel $7400$ meters.\n",
    "\n"
   ]
  },
  {
   "cell_type": "markdown",
   "metadata": {
    "nbgrader": {
     "cell_type": "markdown",
     "checksum": "b86d8bfb0ce7520bafaea9bbe6916b7e",
     "grade": true,
     "grade_id": "cell-e066ce487afd0eba",
     "locked": false,
     "points": 10,
     "schema_version": 3,
     "solution": true,
     "task": false
    }
   },
   "source": []
  },
  {
   "cell_type": "markdown",
   "metadata": {
    "nbgrader": {
     "cell_type": "markdown",
     "checksum": "6cbff0cc91cf3d400b517b0e6bef320e",
     "grade": false,
     "grade_id": "cell-945b2dfa8eca5ce0",
     "locked": true,
     "schema_version": 3,
     "solution": false,
     "task": false
    }
   },
   "source": [
    "## A.3 A Change in Confidence\n",
    "\n",
    "A journal article reports that a sample of size $n = 5$ was used as a basis for calculating a $95\\%$ CI for the true average natural frequency (Hz) of delaminated beams of a certain type. The resulting interval was $(229.764, 233.504)$. You decide that a confidence level of 99% is more appropriate than the 95% level used.\n",
    "\n",
    "**A.3 [14 points] (a) What are the limits of the 99% interval?**\n"
   ]
  },
  {
   "cell_type": "markdown",
   "metadata": {
    "nbgrader": {
     "cell_type": "markdown",
     "checksum": "ef9eda1858181ae40e6c9c6c27ffdd8d",
     "grade": true,
     "grade_id": "cell-811846eea8d9c207",
     "locked": false,
     "points": 10,
     "schema_version": 3,
     "solution": true,
     "task": false
    }
   },
   "source": []
  },
  {
   "cell_type": "markdown",
   "metadata": {
    "nbgrader": {
     "cell_type": "markdown",
     "checksum": "3a27d161a245847af7145e54afd6c16e",
     "grade": false,
     "grade_id": "cell-e84c0076ff00570b",
     "locked": true,
     "schema_version": 3,
     "solution": false,
     "task": false
    }
   },
   "source": [
    "## A.4 MLEs\n",
    "\n",
    "Suppose that $X_1,...,X_n \\overset{iid}{\\sim}N(\\mu, \\sigma^2)$, where $\\sigma$ is known, and we are ultimately interested in an estimator for $\\theta = \\mu^2$.\n",
    "\n",
    "**A.4 (a) [12 points] First, find the MLE of $\\mu$.**"
   ]
  },
  {
   "cell_type": "markdown",
   "metadata": {
    "nbgrader": {
     "cell_type": "markdown",
     "checksum": "c96c27547dbddd8ee6d7f16dfb0ce9c7",
     "grade": true,
     "grade_id": "cell-7519ca88bed55bfd",
     "locked": false,
     "points": 12,
     "schema_version": 3,
     "solution": true,
     "task": false
    }
   },
   "source": []
  },
  {
   "cell_type": "markdown",
   "metadata": {
    "nbgrader": {
     "cell_type": "markdown",
     "checksum": "9e81782355dd2f4bb01a9a6cd8318b2a",
     "grade": false,
     "grade_id": "cell-0b554f25e22c97e6",
     "locked": true,
     "schema_version": 3,
     "solution": false,
     "task": false
    }
   },
   "source": [
    "**A.4 (b) [4 points] Find the maximum likelihood estimator (MLE) for $\\theta$, denoted $\\widehat{\\theta}$.**\n",
    "\n",
    "This should be easy!"
   ]
  },
  {
   "cell_type": "markdown",
   "metadata": {
    "collapsed": true,
    "jupyter": {
     "outputs_hidden": true
    },
    "nbgrader": {
     "cell_type": "markdown",
     "checksum": "19c055e11c7fc94b07dbfb02e173505c",
     "grade": true,
     "grade_id": "cell-65b16047cc5c6d09",
     "locked": false,
     "points": 4,
     "schema_version": 3,
     "solution": true,
     "task": false
    }
   },
   "source": []
  },
  {
   "cell_type": "markdown",
   "metadata": {
    "nbgrader": {
     "cell_type": "markdown",
     "checksum": "44ed220e9cfe53ebc1d00029dea6fe55",
     "grade": false,
     "grade_id": "cell-df74d04cdc3740a0",
     "locked": true,
     "schema_version": 3,
     "solution": false,
     "task": false
    }
   },
   "source": [
    "**A.4(c) [10 points] Compute the bias of $\\widehat{\\theta}$, denoted $\\text{Bias}(\\widehat{\\theta})$. Recall that $Bias(\\widehat{\\theta}) = E(\\widehat{\\theta}) - \\theta$.**"
   ]
  },
  {
   "cell_type": "markdown",
   "metadata": {
    "nbgrader": {
     "cell_type": "markdown",
     "checksum": "e1bc8f8d14e59d8eb1ebb3ddde0f8453",
     "grade": true,
     "grade_id": "cell-caa3ef70c91d454c",
     "locked": false,
     "points": 10,
     "schema_version": 3,
     "solution": true,
     "task": false
    }
   },
   "source": []
  },
  {
   "cell_type": "markdown",
   "metadata": {
    "id": "Vpxs_7xzuHD8",
    "nbgrader": {
     "cell_type": "markdown",
     "checksum": "863bef8aad0ca2ae7c337ef66e89090d",
     "grade": false,
     "grade_id": "cell-9b5c20c493d92330",
     "locked": true,
     "schema_version": 3,
     "solution": false,
     "task": false
    }
   },
   "source": [
    "## B. Computational Problems"
   ]
  },
  {
   "cell_type": "markdown",
   "metadata": {
    "nbgrader": {
     "cell_type": "markdown",
     "checksum": "08b6bcad6b7732af01a9e332435d0e80",
     "grade": false,
     "grade_id": "cell-046dbeb30b0f9fe2",
     "locked": true,
     "schema_version": 3,
     "solution": false,
     "task": false
    }
   },
   "source": [
    "## B.1 Hubble Data\n",
    "\n",
    "Load `hubble.csv` into `R`. A description of the variables can be obtained from page 73 of https://cran.r-project.org/web/packages/gamair/gamair.pdf."
   ]
  },
  {
   "cell_type": "code",
   "execution_count": 7,
   "metadata": {
    "nbgrader": {
     "cell_type": "code",
     "checksum": "b94199cf30da56f599e25782c526b7e9",
     "grade": false,
     "grade_id": "cell-d213b1826a1d034a",
     "locked": true,
     "schema_version": 3,
     "solution": false,
     "task": false
    }
   },
   "outputs": [
    {
     "data": {
      "text/html": [
       "<table>\n",
       "<thead><tr><th scope=col>X</th><th scope=col>Galaxy</th><th scope=col>y</th><th scope=col>x</th></tr></thead>\n",
       "<tbody>\n",
       "\t<tr><td>1       </td><td>NGC0300 </td><td> 133    </td><td> 2.00   </td></tr>\n",
       "\t<tr><td>2       </td><td>NGC0925 </td><td> 664    </td><td> 9.16   </td></tr>\n",
       "\t<tr><td>3       </td><td>NGC1326A</td><td>1794    </td><td>16.14   </td></tr>\n",
       "\t<tr><td>4       </td><td>NGC1365 </td><td>1594    </td><td>17.95   </td></tr>\n",
       "\t<tr><td>5       </td><td>NGC1425 </td><td>1473    </td><td>21.88   </td></tr>\n",
       "\t<tr><td>6       </td><td>NGC2403 </td><td> 278    </td><td> 3.22   </td></tr>\n",
       "</tbody>\n",
       "</table>\n"
      ],
      "text/latex": [
       "\\begin{tabular}{r|llll}\n",
       " X & Galaxy & y & x\\\\\n",
       "\\hline\n",
       "\t 1        & NGC0300  &  133     &  2.00   \\\\\n",
       "\t 2        & NGC0925  &  664     &  9.16   \\\\\n",
       "\t 3        & NGC1326A & 1794     & 16.14   \\\\\n",
       "\t 4        & NGC1365  & 1594     & 17.95   \\\\\n",
       "\t 5        & NGC1425  & 1473     & 21.88   \\\\\n",
       "\t 6        & NGC2403  &  278     &  3.22   \\\\\n",
       "\\end{tabular}\n"
      ],
      "text/markdown": [
       "\n",
       "| X | Galaxy | y | x |\n",
       "|---|---|---|---|\n",
       "| 1        | NGC0300  |  133     |  2.00    |\n",
       "| 2        | NGC0925  |  664     |  9.16    |\n",
       "| 3        | NGC1326A | 1794     | 16.14    |\n",
       "| 4        | NGC1365  | 1594     | 17.95    |\n",
       "| 5        | NGC1425  | 1473     | 21.88    |\n",
       "| 6        | NGC2403  |  278     |  3.22    |\n",
       "\n"
      ],
      "text/plain": [
       "  X Galaxy   y    x    \n",
       "1 1 NGC0300   133  2.00\n",
       "2 2 NGC0925   664  9.16\n",
       "3 3 NGC1326A 1794 16.14\n",
       "4 4 NGC1365  1594 17.95\n",
       "5 5 NGC1425  1473 21.88\n",
       "6 6 NGC2403   278  3.22"
      ]
     },
     "metadata": {},
     "output_type": "display_data"
    },
    {
     "data": {
      "text/html": [
       "24"
      ],
      "text/latex": [
       "24"
      ],
      "text/markdown": [
       "24"
      ],
      "text/plain": [
       "[1] 24"
      ]
     },
     "metadata": {},
     "output_type": "display_data"
    }
   ],
   "source": [
    "data = read.csv(\"hubble.csv\",header=TRUE)\n",
    "head(data)\n",
    "length(data[,1])"
   ]
  },
  {
   "cell_type": "markdown",
   "metadata": {
    "nbgrader": {
     "cell_type": "markdown",
     "checksum": "976329acb39bb037b5caeb41a0883af4",
     "grade": false,
     "grade_id": "cell-1fcef01f50067eaf",
     "locked": true,
     "schema_version": 3,
     "solution": false,
     "task": false
    }
   },
   "source": [
    "**B.1 (a) [20 points] Calculate the $85\\%$ confidence interval for the mean of a galaxy's distance from Earth in megaparsecs in `R` by doing the computation explicitly.**"
   ]
  },
  {
   "cell_type": "code",
   "execution_count": 9,
   "metadata": {
    "nbgrader": {
     "cell_type": "code",
     "checksum": "a3e8f070b0c8a615c12493c7f64fc43e",
     "grade": true,
     "grade_id": "cell-33ac20015847e7b0",
     "locked": false,
     "points": 10,
     "schema_version": 3,
     "solution": true,
     "task": false
    }
   },
   "outputs": [
    {
     "data": {
      "text/html": [
       "10.2869454144418"
      ],
      "text/latex": [
       "10.2869454144418"
      ],
      "text/markdown": [
       "10.2869454144418"
      ],
      "text/plain": [
       "[1] 10.28695"
      ]
     },
     "metadata": {},
     "output_type": "display_data"
    },
    {
     "data": {
      "text/html": [
       "13.8222212522248"
      ],
      "text/latex": [
       "13.8222212522248"
      ],
      "text/markdown": [
       "13.8222212522248"
      ],
      "text/plain": [
       "[1] 13.82222"
      ]
     },
     "metadata": {},
     "output_type": "display_data"
    }
   ],
   "source": [
    "# Here the size of n is less than 30 (ie. 24), so we will use the t-distribution \n",
    "alpha = 0.15\n",
    "n = length(data$x)\n",
    "s = sd(data$x)\n",
    "xbar = mean(data$x)\n",
    "t_value = qt(1-alpha/2,n-1)\n",
    "\n",
    "lower_CI = xbar - t_value * (s/sqrt(n))\n",
    "upper_CI = xbar + t_value * (s/sqrt(n))\n",
    "\n",
    "lower_CI\n",
    "upper_CI\n"
   ]
  },
  {
   "cell_type": "markdown",
   "metadata": {
    "nbgrader": {
     "cell_type": "markdown",
     "checksum": "9386bcf53d879bac106e358e525d8667",
     "grade": false,
     "grade_id": "cell-6cf54d007ba6919b",
     "locked": true,
     "schema_version": 3,
     "solution": false,
     "task": false
    }
   },
   "source": [
    "**B.1 (b) [10 points] Find a built-in `R` function that does this computation automatically and verify that the built in `R` function does the same thing as the confidence interval formula used in part (a).**"
   ]
  },
  {
   "cell_type": "code",
   "execution_count": 11,
   "metadata": {
    "nbgrader": {
     "cell_type": "code",
     "checksum": "beb9c278ab235e9c8a6fda00f2d0b7b1",
     "grade": true,
     "grade_id": "cell-8200b423fc265b7f",
     "locked": false,
     "points": 4,
     "schema_version": 3,
     "solution": true,
     "task": false
    }
   },
   "outputs": [
    {
     "data": {
      "text/html": [
       "<ol class=list-inline>\n",
       "\t<li>10.2869454144418</li>\n",
       "\t<li>13.8222212522248</li>\n",
       "</ol>\n"
      ],
      "text/latex": [
       "\\begin{enumerate*}\n",
       "\\item 10.2869454144418\n",
       "\\item 13.8222212522248\n",
       "\\end{enumerate*}\n"
      ],
      "text/markdown": [
       "1. 10.2869454144418\n",
       "2. 13.8222212522248\n",
       "\n",
       "\n"
      ],
      "text/plain": [
       "[1] 10.28695 13.82222\n",
       "attr(,\"conf.level\")\n",
       "[1] 0.85"
      ]
     },
     "metadata": {},
     "output_type": "display_data"
    }
   ],
   "source": [
    "t_test_R = t.test(data$x, conf.level = 0.85)\n",
    "t_test_R$conf.int"
   ]
  },
  {
   "cell_type": "markdown",
   "metadata": {},
   "source": [
    "The calculation by using the Built in function and the calculation by using the formula both gave the same result."
   ]
  },
  {
   "cell_type": "markdown",
   "metadata": {
    "nbgrader": {
     "cell_type": "markdown",
     "checksum": "8f03ac946313bbf955912983833bb612",
     "grade": false,
     "grade_id": "cell-dfb440ec24b2d910",
     "locked": true,
     "schema_version": 3,
     "solution": false,
     "task": false
    }
   },
   "source": [
    "**B.1(c) [10 points] Interpret the confidence interval.**"
   ]
  },
  {
   "cell_type": "markdown",
   "metadata": {
    "nbgrader": {
     "cell_type": "markdown",
     "checksum": "215ce8b5a3473cd67097db77086631df",
     "grade": true,
     "grade_id": "cell-98cd6fafd05a355c",
     "locked": false,
     "points": 5,
     "schema_version": 3,
     "solution": true,
     "task": false
    }
   },
   "source": [
    "- We are 85% confident that the true mean of a galaxy's distance from the earth lies within the range of 10.2869 - 13.82222.\n",
    "- In repeated sampling, 85% of all Confidence Intervals obtained from the sampling will contain the true population mean of a galaxy's distance from the earth.\n",
    "- It does not mean that there is an 85% probability that the true population mean lies in this interval."
   ]
  },
  {
   "cell_type": "code",
   "execution_count": null,
   "metadata": {},
   "outputs": [],
   "source": []
  }
 ],
 "metadata": {
  "kernelspec": {
   "display_name": "Python 3 (ipykernel)",
   "language": "python",
   "name": "python3"
  },
  "language_info": {
   "codemirror_mode": {
    "name": "ipython",
    "version": 3
   },
   "file_extension": ".py",
   "mimetype": "text/x-python",
   "name": "python",
   "nbconvert_exporter": "python",
   "pygments_lexer": "ipython3",
   "version": "3.12.7"
  }
 },
 "nbformat": 4,
 "nbformat_minor": 4
}

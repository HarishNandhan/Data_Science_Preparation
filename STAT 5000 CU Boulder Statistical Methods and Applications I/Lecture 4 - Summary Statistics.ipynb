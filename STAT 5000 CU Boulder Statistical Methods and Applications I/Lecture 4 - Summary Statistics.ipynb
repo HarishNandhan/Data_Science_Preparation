{
 "cells": [
  {
   "cell_type": "markdown",
   "id": "55fc1bc7-50d7-41cc-8091-d96b8e74e16b",
   "metadata": {},
   "source": [
    "# Lecture 4: Summary Statistics and Boulder Weather Data\n",
    "***\n",
    "\n",
    "In this notebook we'll: \n",
    "- Compute summary statistics on Boulder weather data \n",
    "- Figure out how summary statistics like mean and standard deviation change under transformations of the data\n",
    " "
   ]
  },
  {
   "cell_type": "markdown",
   "id": "84e54573-461b-41fe-b8a2-8b9889072777",
   "metadata": {},
   "source": [
    "The data we'll explore in this notebook concerns temperatures and other weather observations in Boulder County over the month of July 2017.  The data was obtained from the National Oceanic and Atmospheric Administration's [Climate.gov](https://www.climate.gov/) website.  You can find and download loads of climate-related data from NOAA [here](https://www.climate.gov/maps-data/datasets).   \n",
    "\n",
    "The data is stored in a .csv file called clean_boulder_weather.csv.  "
   ]
  },
  {
   "cell_type": "code",
   "execution_count": 2,
   "id": "c11379e8-6ce1-418c-ac69-c6b5f2171ee8",
   "metadata": {},
   "outputs": [
    {
     "data": {
      "text/html": [
       "<table>\n",
       "<thead><tr><th scope=col>STATION</th><th scope=col>NAME</th><th scope=col>DATE</th><th scope=col>PRCP</th><th scope=col>TMAX</th><th scope=col>TMIN</th></tr></thead>\n",
       "<tbody>\n",
       "\t<tr><td>USW00094075        </td><td>BOULDER 14 W, CO US</td><td>2017-07-01         </td><td>0.00               </td><td>68                 </td><td>31                 </td></tr>\n",
       "\t<tr><td>USW00094075        </td><td>BOULDER 14 W, CO US</td><td>2017-07-02         </td><td>0.00               </td><td>73                 </td><td>35                 </td></tr>\n",
       "\t<tr><td>USW00094075        </td><td>BOULDER 14 W, CO US</td><td>2017-07-03         </td><td>0.00               </td><td>68                 </td><td>46                 </td></tr>\n",
       "\t<tr><td>USW00094075        </td><td>BOULDER 14 W, CO US</td><td>2017-07-04         </td><td>0.05               </td><td>68                 </td><td>43                 </td></tr>\n",
       "\t<tr><td>USW00094075        </td><td>BOULDER 14 W, CO US</td><td>2017-07-05         </td><td>0.01               </td><td>73                 </td><td>40                 </td></tr>\n",
       "\t<tr><td>USW00094075        </td><td>BOULDER 14 W, CO US</td><td>2017-07-06         </td><td>0.00               </td><td>76                 </td><td>48                 </td></tr>\n",
       "\t<tr><td>USW00094075        </td><td>BOULDER 14 W, CO US</td><td>2017-07-07         </td><td>0.02               </td><td>74                 </td><td>43                 </td></tr>\n",
       "\t<tr><td>USW00094075        </td><td>BOULDER 14 W, CO US</td><td>2017-07-08         </td><td>0.00               </td><td>65                 </td><td>44                 </td></tr>\n",
       "\t<tr><td>USW00094075        </td><td>BOULDER 14 W, CO US</td><td>2017-07-09         </td><td>0.01               </td><td>73                 </td><td>39                 </td></tr>\n",
       "\t<tr><td>USW00094075        </td><td>BOULDER 14 W, CO US</td><td>2017-07-10         </td><td>0.01               </td><td>75                 </td><td>44                 </td></tr>\n",
       "\t<tr><td>USW00094075        </td><td>BOULDER 14 W, CO US</td><td>2017-07-11         </td><td>0.01               </td><td>71                 </td><td>52                 </td></tr>\n",
       "\t<tr><td>USW00094075        </td><td>BOULDER 14 W, CO US</td><td>2017-07-12         </td><td>0.10               </td><td>54                 </td><td>43                 </td></tr>\n",
       "\t<tr><td>USW00094075        </td><td>BOULDER 14 W, CO US</td><td>2017-07-13         </td><td>0.00               </td><td>67                 </td><td>41                 </td></tr>\n",
       "\t<tr><td>USW00094075        </td><td>BOULDER 14 W, CO US</td><td>2017-07-14         </td><td>0.00               </td><td>67                 </td><td>39                 </td></tr>\n",
       "\t<tr><td>USW00094075        </td><td>BOULDER 14 W, CO US</td><td>2017-07-15         </td><td>0.00               </td><td>65                 </td><td>40                 </td></tr>\n",
       "\t<tr><td>USW00094075        </td><td>BOULDER 14 W, CO US</td><td>2017-07-16         </td><td>0.05               </td><td>68                 </td><td>38                 </td></tr>\n",
       "\t<tr><td>USW00094075        </td><td>BOULDER 14 W, CO US</td><td>2017-07-17         </td><td>0.01               </td><td>72                 </td><td>47                 </td></tr>\n",
       "\t<tr><td>USW00094075        </td><td>BOULDER 14 W, CO US</td><td>2017-07-18         </td><td>0.00               </td><td>71                 </td><td>47                 </td></tr>\n",
       "\t<tr><td>USW00094075        </td><td>BOULDER 14 W, CO US</td><td>2017-07-19         </td><td>0.03               </td><td>80                 </td><td>45                 </td></tr>\n",
       "\t<tr><td>USW00094075        </td><td>BOULDER 14 W, CO US</td><td>2017-07-20         </td><td>0.00               </td><td>74                 </td><td>46                 </td></tr>\n",
       "\t<tr><td>USW00094075        </td><td>BOULDER 14 W, CO US</td><td>2017-07-21         </td><td>0.16               </td><td>74                 </td><td>48                 </td></tr>\n",
       "\t<tr><td>USW00094075        </td><td>BOULDER 14 W, CO US</td><td>2017-07-22         </td><td>0.11               </td><td>66                 </td><td>46                 </td></tr>\n",
       "\t<tr><td>USW00094075        </td><td>BOULDER 14 W, CO US</td><td>2017-07-23         </td><td>0.56               </td><td>69                 </td><td>43                 </td></tr>\n",
       "\t<tr><td>USW00094075        </td><td>BOULDER 14 W, CO US</td><td>2017-07-24         </td><td>0.00               </td><td>72                 </td><td>45                 </td></tr>\n",
       "\t<tr><td>USW00094075        </td><td>BOULDER 14 W, CO US</td><td>2017-07-25         </td><td>0.24               </td><td>69                 </td><td>47                 </td></tr>\n",
       "\t<tr><td>USW00094075        </td><td>BOULDER 14 W, CO US</td><td>2017-07-26         </td><td>0.28               </td><td>62                 </td><td>44                 </td></tr>\n",
       "\t<tr><td>USW00094075        </td><td>BOULDER 14 W, CO US</td><td>2017-07-27         </td><td>0.02               </td><td>65                 </td><td>44                 </td></tr>\n",
       "\t<tr><td>USW00094075        </td><td>BOULDER 14 W, CO US</td><td>2017-07-28         </td><td>0.12               </td><td>69                 </td><td>45                 </td></tr>\n",
       "\t<tr><td>USW00094075        </td><td>BOULDER 14 W, CO US</td><td>2017-07-29         </td><td>0.14               </td><td>59                 </td><td>47                 </td></tr>\n",
       "\t<tr><td>USW00094075        </td><td>BOULDER 14 W, CO US</td><td>2017-07-30         </td><td>0.48               </td><td>61                 </td><td>41                 </td></tr>\n",
       "\t<tr><td>...</td><td>...</td><td>...</td><td>...</td><td>...</td><td>...</td></tr>\n",
       "\t<tr><td>USC00055984      </td><td>NORTHGLENN, CO US</td><td>2017-07-01       </td><td>0.00             </td><td> 74              </td><td>51               </td></tr>\n",
       "\t<tr><td>USC00055984      </td><td>NORTHGLENN, CO US</td><td>2017-07-02       </td><td>0.00             </td><td> 91              </td><td>55               </td></tr>\n",
       "\t<tr><td>USC00055984      </td><td>NORTHGLENN, CO US</td><td>2017-07-03       </td><td>0.00             </td><td> 91              </td><td>57               </td></tr>\n",
       "\t<tr><td>USC00055984      </td><td>NORTHGLENN, CO US</td><td>2017-07-04       </td><td>0.00             </td><td> 91              </td><td>56               </td></tr>\n",
       "\t<tr><td>USC00055984      </td><td>NORTHGLENN, CO US</td><td>2017-07-05       </td><td>0.00             </td><td> 96              </td><td>56               </td></tr>\n",
       "\t<tr><td>USC00055984      </td><td>NORTHGLENN, CO US</td><td>2017-07-06       </td><td>0.00             </td><td>101              </td><td>60               </td></tr>\n",
       "\t<tr><td>USC00055984      </td><td>NORTHGLENN, CO US</td><td>2017-07-07       </td><td>0.00             </td><td> 99              </td><td>61               </td></tr>\n",
       "\t<tr><td>USC00055984      </td><td>NORTHGLENN, CO US</td><td>2017-07-08       </td><td>0.00             </td><td> 90              </td><td>57               </td></tr>\n",
       "\t<tr><td>USC00055984      </td><td>NORTHGLENN, CO US</td><td>2017-07-09       </td><td>0.00             </td><td> 91              </td><td>61               </td></tr>\n",
       "\t<tr><td>USC00055984      </td><td>NORTHGLENN, CO US</td><td>2017-07-10       </td><td>0.00             </td><td> 98              </td><td>58               </td></tr>\n",
       "\t<tr><td>USC00055984      </td><td>NORTHGLENN, CO US</td><td>2017-07-11       </td><td>0.00             </td><td> 98              </td><td>58               </td></tr>\n",
       "\t<tr><td>USC00055984      </td><td>NORTHGLENN, CO US</td><td>2017-07-12       </td><td>0.00             </td><td> 95              </td><td>68               </td></tr>\n",
       "\t<tr><td>USC00055984      </td><td>NORTHGLENN, CO US</td><td>2017-07-13       </td><td>0.00             </td><td> 76              </td><td>55               </td></tr>\n",
       "\t<tr><td>USC00055984      </td><td>NORTHGLENN, CO US</td><td>2017-07-14       </td><td>0.00             </td><td> 89              </td><td>57               </td></tr>\n",
       "\t<tr><td>USC00055984      </td><td>NORTHGLENN, CO US</td><td>2017-07-15       </td><td>0.00             </td><td> 92              </td><td>59               </td></tr>\n",
       "\t<tr><td>USC00055984      </td><td>NORTHGLENN, CO US</td><td>2017-07-17       </td><td>0.00             </td><td> 89              </td><td>55               </td></tr>\n",
       "\t<tr><td>USC00055984      </td><td>NORTHGLENN, CO US</td><td>2017-07-18       </td><td>0.00             </td><td> 97              </td><td>64               </td></tr>\n",
       "\t<tr><td>USC00055984      </td><td>NORTHGLENN, CO US</td><td>2017-07-19       </td><td>0.00             </td><td> 97              </td><td>64               </td></tr>\n",
       "\t<tr><td>USC00055984      </td><td>NORTHGLENN, CO US</td><td>2017-07-20       </td><td>0.00             </td><td>100              </td><td>63               </td></tr>\n",
       "\t<tr><td>USC00055984      </td><td>NORTHGLENN, CO US</td><td>2017-07-21       </td><td>0.01             </td><td>100              </td><td>63               </td></tr>\n",
       "\t<tr><td>USC00055984      </td><td>NORTHGLENN, CO US</td><td>2017-07-22       </td><td>0.05             </td><td>101              </td><td>65               </td></tr>\n",
       "\t<tr><td>USC00055984      </td><td>NORTHGLENN, CO US</td><td>2017-07-23       </td><td>0.00             </td><td> 93              </td><td>45               </td></tr>\n",
       "\t<tr><td>USC00055984      </td><td>NORTHGLENN, CO US</td><td>2017-07-24       </td><td>0.00             </td><td> 94              </td><td>66               </td></tr>\n",
       "\t<tr><td>USC00055984      </td><td>NORTHGLENN, CO US</td><td>2017-07-25       </td><td>0.00             </td><td>101              </td><td>65               </td></tr>\n",
       "\t<tr><td>USC00055984      </td><td>NORTHGLENN, CO US</td><td>2017-07-26       </td><td>0.10             </td><td> 99              </td><td>63               </td></tr>\n",
       "\t<tr><td>USC00055984      </td><td>NORTHGLENN, CO US</td><td>2017-07-27       </td><td>0.16             </td><td> 84              </td><td>60               </td></tr>\n",
       "\t<tr><td>USC00055984      </td><td>NORTHGLENN, CO US</td><td>2017-07-28       </td><td>0.00             </td><td> 88              </td><td>63               </td></tr>\n",
       "\t<tr><td>USC00055984      </td><td>NORTHGLENN, CO US</td><td>2017-07-29       </td><td>0.28             </td><td> 93              </td><td>65               </td></tr>\n",
       "\t<tr><td>USC00055984      </td><td>NORTHGLENN, CO US</td><td>2017-07-30       </td><td>0.00             </td><td> 78              </td><td>62               </td></tr>\n",
       "\t<tr><td>USC00055984      </td><td>NORTHGLENN, CO US</td><td>2017-07-31       </td><td>0.05             </td><td> 84              </td><td>58               </td></tr>\n",
       "</tbody>\n",
       "</table>\n"
      ],
      "text/latex": [
       "\\begin{tabular}{r|llllll}\n",
       " STATION & NAME & DATE & PRCP & TMAX & TMIN\\\\\n",
       "\\hline\n",
       "\t USW00094075         & BOULDER 14 W, CO US & 2017-07-01          & 0.00                & 68                  & 31                 \\\\\n",
       "\t USW00094075         & BOULDER 14 W, CO US & 2017-07-02          & 0.00                & 73                  & 35                 \\\\\n",
       "\t USW00094075         & BOULDER 14 W, CO US & 2017-07-03          & 0.00                & 68                  & 46                 \\\\\n",
       "\t USW00094075         & BOULDER 14 W, CO US & 2017-07-04          & 0.05                & 68                  & 43                 \\\\\n",
       "\t USW00094075         & BOULDER 14 W, CO US & 2017-07-05          & 0.01                & 73                  & 40                 \\\\\n",
       "\t USW00094075         & BOULDER 14 W, CO US & 2017-07-06          & 0.00                & 76                  & 48                 \\\\\n",
       "\t USW00094075         & BOULDER 14 W, CO US & 2017-07-07          & 0.02                & 74                  & 43                 \\\\\n",
       "\t USW00094075         & BOULDER 14 W, CO US & 2017-07-08          & 0.00                & 65                  & 44                 \\\\\n",
       "\t USW00094075         & BOULDER 14 W, CO US & 2017-07-09          & 0.01                & 73                  & 39                 \\\\\n",
       "\t USW00094075         & BOULDER 14 W, CO US & 2017-07-10          & 0.01                & 75                  & 44                 \\\\\n",
       "\t USW00094075         & BOULDER 14 W, CO US & 2017-07-11          & 0.01                & 71                  & 52                 \\\\\n",
       "\t USW00094075         & BOULDER 14 W, CO US & 2017-07-12          & 0.10                & 54                  & 43                 \\\\\n",
       "\t USW00094075         & BOULDER 14 W, CO US & 2017-07-13          & 0.00                & 67                  & 41                 \\\\\n",
       "\t USW00094075         & BOULDER 14 W, CO US & 2017-07-14          & 0.00                & 67                  & 39                 \\\\\n",
       "\t USW00094075         & BOULDER 14 W, CO US & 2017-07-15          & 0.00                & 65                  & 40                 \\\\\n",
       "\t USW00094075         & BOULDER 14 W, CO US & 2017-07-16          & 0.05                & 68                  & 38                 \\\\\n",
       "\t USW00094075         & BOULDER 14 W, CO US & 2017-07-17          & 0.01                & 72                  & 47                 \\\\\n",
       "\t USW00094075         & BOULDER 14 W, CO US & 2017-07-18          & 0.00                & 71                  & 47                 \\\\\n",
       "\t USW00094075         & BOULDER 14 W, CO US & 2017-07-19          & 0.03                & 80                  & 45                 \\\\\n",
       "\t USW00094075         & BOULDER 14 W, CO US & 2017-07-20          & 0.00                & 74                  & 46                 \\\\\n",
       "\t USW00094075         & BOULDER 14 W, CO US & 2017-07-21          & 0.16                & 74                  & 48                 \\\\\n",
       "\t USW00094075         & BOULDER 14 W, CO US & 2017-07-22          & 0.11                & 66                  & 46                 \\\\\n",
       "\t USW00094075         & BOULDER 14 W, CO US & 2017-07-23          & 0.56                & 69                  & 43                 \\\\\n",
       "\t USW00094075         & BOULDER 14 W, CO US & 2017-07-24          & 0.00                & 72                  & 45                 \\\\\n",
       "\t USW00094075         & BOULDER 14 W, CO US & 2017-07-25          & 0.24                & 69                  & 47                 \\\\\n",
       "\t USW00094075         & BOULDER 14 W, CO US & 2017-07-26          & 0.28                & 62                  & 44                 \\\\\n",
       "\t USW00094075         & BOULDER 14 W, CO US & 2017-07-27          & 0.02                & 65                  & 44                 \\\\\n",
       "\t USW00094075         & BOULDER 14 W, CO US & 2017-07-28          & 0.12                & 69                  & 45                 \\\\\n",
       "\t USW00094075         & BOULDER 14 W, CO US & 2017-07-29          & 0.14                & 59                  & 47                 \\\\\n",
       "\t USW00094075         & BOULDER 14 W, CO US & 2017-07-30          & 0.48                & 61                  & 41                 \\\\\n",
       "\t ... & ... & ... & ... & ... & ...\\\\\n",
       "\t USC00055984       & NORTHGLENN, CO US & 2017-07-01        & 0.00              &  74               & 51               \\\\\n",
       "\t USC00055984       & NORTHGLENN, CO US & 2017-07-02        & 0.00              &  91               & 55               \\\\\n",
       "\t USC00055984       & NORTHGLENN, CO US & 2017-07-03        & 0.00              &  91               & 57               \\\\\n",
       "\t USC00055984       & NORTHGLENN, CO US & 2017-07-04        & 0.00              &  91               & 56               \\\\\n",
       "\t USC00055984       & NORTHGLENN, CO US & 2017-07-05        & 0.00              &  96               & 56               \\\\\n",
       "\t USC00055984       & NORTHGLENN, CO US & 2017-07-06        & 0.00              & 101               & 60               \\\\\n",
       "\t USC00055984       & NORTHGLENN, CO US & 2017-07-07        & 0.00              &  99               & 61               \\\\\n",
       "\t USC00055984       & NORTHGLENN, CO US & 2017-07-08        & 0.00              &  90               & 57               \\\\\n",
       "\t USC00055984       & NORTHGLENN, CO US & 2017-07-09        & 0.00              &  91               & 61               \\\\\n",
       "\t USC00055984       & NORTHGLENN, CO US & 2017-07-10        & 0.00              &  98               & 58               \\\\\n",
       "\t USC00055984       & NORTHGLENN, CO US & 2017-07-11        & 0.00              &  98               & 58               \\\\\n",
       "\t USC00055984       & NORTHGLENN, CO US & 2017-07-12        & 0.00              &  95               & 68               \\\\\n",
       "\t USC00055984       & NORTHGLENN, CO US & 2017-07-13        & 0.00              &  76               & 55               \\\\\n",
       "\t USC00055984       & NORTHGLENN, CO US & 2017-07-14        & 0.00              &  89               & 57               \\\\\n",
       "\t USC00055984       & NORTHGLENN, CO US & 2017-07-15        & 0.00              &  92               & 59               \\\\\n",
       "\t USC00055984       & NORTHGLENN, CO US & 2017-07-17        & 0.00              &  89               & 55               \\\\\n",
       "\t USC00055984       & NORTHGLENN, CO US & 2017-07-18        & 0.00              &  97               & 64               \\\\\n",
       "\t USC00055984       & NORTHGLENN, CO US & 2017-07-19        & 0.00              &  97               & 64               \\\\\n",
       "\t USC00055984       & NORTHGLENN, CO US & 2017-07-20        & 0.00              & 100               & 63               \\\\\n",
       "\t USC00055984       & NORTHGLENN, CO US & 2017-07-21        & 0.01              & 100               & 63               \\\\\n",
       "\t USC00055984       & NORTHGLENN, CO US & 2017-07-22        & 0.05              & 101               & 65               \\\\\n",
       "\t USC00055984       & NORTHGLENN, CO US & 2017-07-23        & 0.00              &  93               & 45               \\\\\n",
       "\t USC00055984       & NORTHGLENN, CO US & 2017-07-24        & 0.00              &  94               & 66               \\\\\n",
       "\t USC00055984       & NORTHGLENN, CO US & 2017-07-25        & 0.00              & 101               & 65               \\\\\n",
       "\t USC00055984       & NORTHGLENN, CO US & 2017-07-26        & 0.10              &  99               & 63               \\\\\n",
       "\t USC00055984       & NORTHGLENN, CO US & 2017-07-27        & 0.16              &  84               & 60               \\\\\n",
       "\t USC00055984       & NORTHGLENN, CO US & 2017-07-28        & 0.00              &  88               & 63               \\\\\n",
       "\t USC00055984       & NORTHGLENN, CO US & 2017-07-29        & 0.28              &  93               & 65               \\\\\n",
       "\t USC00055984       & NORTHGLENN, CO US & 2017-07-30        & 0.00              &  78               & 62               \\\\\n",
       "\t USC00055984       & NORTHGLENN, CO US & 2017-07-31        & 0.05              &  84               & 58               \\\\\n",
       "\\end{tabular}\n"
      ],
      "text/markdown": [
       "\n",
       "| STATION | NAME | DATE | PRCP | TMAX | TMIN |\n",
       "|---|---|---|---|---|---|\n",
       "| USW00094075         | BOULDER 14 W, CO US | 2017-07-01          | 0.00                | 68                  | 31                  |\n",
       "| USW00094075         | BOULDER 14 W, CO US | 2017-07-02          | 0.00                | 73                  | 35                  |\n",
       "| USW00094075         | BOULDER 14 W, CO US | 2017-07-03          | 0.00                | 68                  | 46                  |\n",
       "| USW00094075         | BOULDER 14 W, CO US | 2017-07-04          | 0.05                | 68                  | 43                  |\n",
       "| USW00094075         | BOULDER 14 W, CO US | 2017-07-05          | 0.01                | 73                  | 40                  |\n",
       "| USW00094075         | BOULDER 14 W, CO US | 2017-07-06          | 0.00                | 76                  | 48                  |\n",
       "| USW00094075         | BOULDER 14 W, CO US | 2017-07-07          | 0.02                | 74                  | 43                  |\n",
       "| USW00094075         | BOULDER 14 W, CO US | 2017-07-08          | 0.00                | 65                  | 44                  |\n",
       "| USW00094075         | BOULDER 14 W, CO US | 2017-07-09          | 0.01                | 73                  | 39                  |\n",
       "| USW00094075         | BOULDER 14 W, CO US | 2017-07-10          | 0.01                | 75                  | 44                  |\n",
       "| USW00094075         | BOULDER 14 W, CO US | 2017-07-11          | 0.01                | 71                  | 52                  |\n",
       "| USW00094075         | BOULDER 14 W, CO US | 2017-07-12          | 0.10                | 54                  | 43                  |\n",
       "| USW00094075         | BOULDER 14 W, CO US | 2017-07-13          | 0.00                | 67                  | 41                  |\n",
       "| USW00094075         | BOULDER 14 W, CO US | 2017-07-14          | 0.00                | 67                  | 39                  |\n",
       "| USW00094075         | BOULDER 14 W, CO US | 2017-07-15          | 0.00                | 65                  | 40                  |\n",
       "| USW00094075         | BOULDER 14 W, CO US | 2017-07-16          | 0.05                | 68                  | 38                  |\n",
       "| USW00094075         | BOULDER 14 W, CO US | 2017-07-17          | 0.01                | 72                  | 47                  |\n",
       "| USW00094075         | BOULDER 14 W, CO US | 2017-07-18          | 0.00                | 71                  | 47                  |\n",
       "| USW00094075         | BOULDER 14 W, CO US | 2017-07-19          | 0.03                | 80                  | 45                  |\n",
       "| USW00094075         | BOULDER 14 W, CO US | 2017-07-20          | 0.00                | 74                  | 46                  |\n",
       "| USW00094075         | BOULDER 14 W, CO US | 2017-07-21          | 0.16                | 74                  | 48                  |\n",
       "| USW00094075         | BOULDER 14 W, CO US | 2017-07-22          | 0.11                | 66                  | 46                  |\n",
       "| USW00094075         | BOULDER 14 W, CO US | 2017-07-23          | 0.56                | 69                  | 43                  |\n",
       "| USW00094075         | BOULDER 14 W, CO US | 2017-07-24          | 0.00                | 72                  | 45                  |\n",
       "| USW00094075         | BOULDER 14 W, CO US | 2017-07-25          | 0.24                | 69                  | 47                  |\n",
       "| USW00094075         | BOULDER 14 W, CO US | 2017-07-26          | 0.28                | 62                  | 44                  |\n",
       "| USW00094075         | BOULDER 14 W, CO US | 2017-07-27          | 0.02                | 65                  | 44                  |\n",
       "| USW00094075         | BOULDER 14 W, CO US | 2017-07-28          | 0.12                | 69                  | 45                  |\n",
       "| USW00094075         | BOULDER 14 W, CO US | 2017-07-29          | 0.14                | 59                  | 47                  |\n",
       "| USW00094075         | BOULDER 14 W, CO US | 2017-07-30          | 0.48                | 61                  | 41                  |\n",
       "| ... | ... | ... | ... | ... | ... |\n",
       "| USC00055984       | NORTHGLENN, CO US | 2017-07-01        | 0.00              |  74               | 51                |\n",
       "| USC00055984       | NORTHGLENN, CO US | 2017-07-02        | 0.00              |  91               | 55                |\n",
       "| USC00055984       | NORTHGLENN, CO US | 2017-07-03        | 0.00              |  91               | 57                |\n",
       "| USC00055984       | NORTHGLENN, CO US | 2017-07-04        | 0.00              |  91               | 56                |\n",
       "| USC00055984       | NORTHGLENN, CO US | 2017-07-05        | 0.00              |  96               | 56                |\n",
       "| USC00055984       | NORTHGLENN, CO US | 2017-07-06        | 0.00              | 101               | 60                |\n",
       "| USC00055984       | NORTHGLENN, CO US | 2017-07-07        | 0.00              |  99               | 61                |\n",
       "| USC00055984       | NORTHGLENN, CO US | 2017-07-08        | 0.00              |  90               | 57                |\n",
       "| USC00055984       | NORTHGLENN, CO US | 2017-07-09        | 0.00              |  91               | 61                |\n",
       "| USC00055984       | NORTHGLENN, CO US | 2017-07-10        | 0.00              |  98               | 58                |\n",
       "| USC00055984       | NORTHGLENN, CO US | 2017-07-11        | 0.00              |  98               | 58                |\n",
       "| USC00055984       | NORTHGLENN, CO US | 2017-07-12        | 0.00              |  95               | 68                |\n",
       "| USC00055984       | NORTHGLENN, CO US | 2017-07-13        | 0.00              |  76               | 55                |\n",
       "| USC00055984       | NORTHGLENN, CO US | 2017-07-14        | 0.00              |  89               | 57                |\n",
       "| USC00055984       | NORTHGLENN, CO US | 2017-07-15        | 0.00              |  92               | 59                |\n",
       "| USC00055984       | NORTHGLENN, CO US | 2017-07-17        | 0.00              |  89               | 55                |\n",
       "| USC00055984       | NORTHGLENN, CO US | 2017-07-18        | 0.00              |  97               | 64                |\n",
       "| USC00055984       | NORTHGLENN, CO US | 2017-07-19        | 0.00              |  97               | 64                |\n",
       "| USC00055984       | NORTHGLENN, CO US | 2017-07-20        | 0.00              | 100               | 63                |\n",
       "| USC00055984       | NORTHGLENN, CO US | 2017-07-21        | 0.01              | 100               | 63                |\n",
       "| USC00055984       | NORTHGLENN, CO US | 2017-07-22        | 0.05              | 101               | 65                |\n",
       "| USC00055984       | NORTHGLENN, CO US | 2017-07-23        | 0.00              |  93               | 45                |\n",
       "| USC00055984       | NORTHGLENN, CO US | 2017-07-24        | 0.00              |  94               | 66                |\n",
       "| USC00055984       | NORTHGLENN, CO US | 2017-07-25        | 0.00              | 101               | 65                |\n",
       "| USC00055984       | NORTHGLENN, CO US | 2017-07-26        | 0.10              |  99               | 63                |\n",
       "| USC00055984       | NORTHGLENN, CO US | 2017-07-27        | 0.16              |  84               | 60                |\n",
       "| USC00055984       | NORTHGLENN, CO US | 2017-07-28        | 0.00              |  88               | 63                |\n",
       "| USC00055984       | NORTHGLENN, CO US | 2017-07-29        | 0.28              |  93               | 65                |\n",
       "| USC00055984       | NORTHGLENN, CO US | 2017-07-30        | 0.00              |  78               | 62                |\n",
       "| USC00055984       | NORTHGLENN, CO US | 2017-07-31        | 0.05              |  84               | 58                |\n",
       "\n"
      ],
      "text/plain": [
       "    STATION     NAME                DATE       PRCP TMAX TMIN\n",
       "1   USW00094075 BOULDER 14 W, CO US 2017-07-01 0.00 68   31  \n",
       "2   USW00094075 BOULDER 14 W, CO US 2017-07-02 0.00 73   35  \n",
       "3   USW00094075 BOULDER 14 W, CO US 2017-07-03 0.00 68   46  \n",
       "4   USW00094075 BOULDER 14 W, CO US 2017-07-04 0.05 68   43  \n",
       "5   USW00094075 BOULDER 14 W, CO US 2017-07-05 0.01 73   40  \n",
       "6   USW00094075 BOULDER 14 W, CO US 2017-07-06 0.00 76   48  \n",
       "7   USW00094075 BOULDER 14 W, CO US 2017-07-07 0.02 74   43  \n",
       "8   USW00094075 BOULDER 14 W, CO US 2017-07-08 0.00 65   44  \n",
       "9   USW00094075 BOULDER 14 W, CO US 2017-07-09 0.01 73   39  \n",
       "10  USW00094075 BOULDER 14 W, CO US 2017-07-10 0.01 75   44  \n",
       "11  USW00094075 BOULDER 14 W, CO US 2017-07-11 0.01 71   52  \n",
       "12  USW00094075 BOULDER 14 W, CO US 2017-07-12 0.10 54   43  \n",
       "13  USW00094075 BOULDER 14 W, CO US 2017-07-13 0.00 67   41  \n",
       "14  USW00094075 BOULDER 14 W, CO US 2017-07-14 0.00 67   39  \n",
       "15  USW00094075 BOULDER 14 W, CO US 2017-07-15 0.00 65   40  \n",
       "16  USW00094075 BOULDER 14 W, CO US 2017-07-16 0.05 68   38  \n",
       "17  USW00094075 BOULDER 14 W, CO US 2017-07-17 0.01 72   47  \n",
       "18  USW00094075 BOULDER 14 W, CO US 2017-07-18 0.00 71   47  \n",
       "19  USW00094075 BOULDER 14 W, CO US 2017-07-19 0.03 80   45  \n",
       "20  USW00094075 BOULDER 14 W, CO US 2017-07-20 0.00 74   46  \n",
       "21  USW00094075 BOULDER 14 W, CO US 2017-07-21 0.16 74   48  \n",
       "22  USW00094075 BOULDER 14 W, CO US 2017-07-22 0.11 66   46  \n",
       "23  USW00094075 BOULDER 14 W, CO US 2017-07-23 0.56 69   43  \n",
       "24  USW00094075 BOULDER 14 W, CO US 2017-07-24 0.00 72   45  \n",
       "25  USW00094075 BOULDER 14 W, CO US 2017-07-25 0.24 69   47  \n",
       "26  USW00094075 BOULDER 14 W, CO US 2017-07-26 0.28 62   44  \n",
       "27  USW00094075 BOULDER 14 W, CO US 2017-07-27 0.02 65   44  \n",
       "28  USW00094075 BOULDER 14 W, CO US 2017-07-28 0.12 69   45  \n",
       "29  USW00094075 BOULDER 14 W, CO US 2017-07-29 0.14 59   47  \n",
       "30  USW00094075 BOULDER 14 W, CO US 2017-07-30 0.48 61   41  \n",
       "... ...         ...                 ...        ...  ...  ... \n",
       "185 USC00055984 NORTHGLENN, CO US   2017-07-01 0.00  74  51  \n",
       "186 USC00055984 NORTHGLENN, CO US   2017-07-02 0.00  91  55  \n",
       "187 USC00055984 NORTHGLENN, CO US   2017-07-03 0.00  91  57  \n",
       "188 USC00055984 NORTHGLENN, CO US   2017-07-04 0.00  91  56  \n",
       "189 USC00055984 NORTHGLENN, CO US   2017-07-05 0.00  96  56  \n",
       "190 USC00055984 NORTHGLENN, CO US   2017-07-06 0.00 101  60  \n",
       "191 USC00055984 NORTHGLENN, CO US   2017-07-07 0.00  99  61  \n",
       "192 USC00055984 NORTHGLENN, CO US   2017-07-08 0.00  90  57  \n",
       "193 USC00055984 NORTHGLENN, CO US   2017-07-09 0.00  91  61  \n",
       "194 USC00055984 NORTHGLENN, CO US   2017-07-10 0.00  98  58  \n",
       "195 USC00055984 NORTHGLENN, CO US   2017-07-11 0.00  98  58  \n",
       "196 USC00055984 NORTHGLENN, CO US   2017-07-12 0.00  95  68  \n",
       "197 USC00055984 NORTHGLENN, CO US   2017-07-13 0.00  76  55  \n",
       "198 USC00055984 NORTHGLENN, CO US   2017-07-14 0.00  89  57  \n",
       "199 USC00055984 NORTHGLENN, CO US   2017-07-15 0.00  92  59  \n",
       "200 USC00055984 NORTHGLENN, CO US   2017-07-17 0.00  89  55  \n",
       "201 USC00055984 NORTHGLENN, CO US   2017-07-18 0.00  97  64  \n",
       "202 USC00055984 NORTHGLENN, CO US   2017-07-19 0.00  97  64  \n",
       "203 USC00055984 NORTHGLENN, CO US   2017-07-20 0.00 100  63  \n",
       "204 USC00055984 NORTHGLENN, CO US   2017-07-21 0.01 100  63  \n",
       "205 USC00055984 NORTHGLENN, CO US   2017-07-22 0.05 101  65  \n",
       "206 USC00055984 NORTHGLENN, CO US   2017-07-23 0.00  93  45  \n",
       "207 USC00055984 NORTHGLENN, CO US   2017-07-24 0.00  94  66  \n",
       "208 USC00055984 NORTHGLENN, CO US   2017-07-25 0.00 101  65  \n",
       "209 USC00055984 NORTHGLENN, CO US   2017-07-26 0.10  99  63  \n",
       "210 USC00055984 NORTHGLENN, CO US   2017-07-27 0.16  84  60  \n",
       "211 USC00055984 NORTHGLENN, CO US   2017-07-28 0.00  88  63  \n",
       "212 USC00055984 NORTHGLENN, CO US   2017-07-29 0.28  93  65  \n",
       "213 USC00055984 NORTHGLENN, CO US   2017-07-30 0.00  78  62  \n",
       "214 USC00055984 NORTHGLENN, CO US   2017-07-31 0.05  84  58  "
      ]
     },
     "metadata": {},
     "output_type": "display_data"
    }
   ],
   "source": [
    "# First we read in the data\n",
    "# 1) Code Here\n",
    "weather_data = read.csv(\"clean_boulder_weather.csv\")\n",
    "weather_data"
   ]
  },
  {
   "cell_type": "code",
   "execution_count": 3,
   "id": "d118b516-e569-4b65-a79a-61cbdb66f419",
   "metadata": {},
   "outputs": [
    {
     "data": {
      "text/html": [
       "<table>\n",
       "<thead><tr><th scope=col>STATION</th><th scope=col>NAME</th><th scope=col>DATE</th><th scope=col>PRCP</th><th scope=col>TMAX</th><th scope=col>TMIN</th></tr></thead>\n",
       "<tbody>\n",
       "\t<tr><td>USW00094075        </td><td>BOULDER 14 W, CO US</td><td>2017-07-01         </td><td>0.00               </td><td>68                 </td><td>31                 </td></tr>\n",
       "\t<tr><td>USW00094075        </td><td>BOULDER 14 W, CO US</td><td>2017-07-02         </td><td>0.00               </td><td>73                 </td><td>35                 </td></tr>\n",
       "\t<tr><td>USW00094075        </td><td>BOULDER 14 W, CO US</td><td>2017-07-03         </td><td>0.00               </td><td>68                 </td><td>46                 </td></tr>\n",
       "\t<tr><td>USW00094075        </td><td>BOULDER 14 W, CO US</td><td>2017-07-04         </td><td>0.05               </td><td>68                 </td><td>43                 </td></tr>\n",
       "\t<tr><td>USW00094075        </td><td>BOULDER 14 W, CO US</td><td>2017-07-05         </td><td>0.01               </td><td>73                 </td><td>40                 </td></tr>\n",
       "\t<tr><td>USW00094075        </td><td>BOULDER 14 W, CO US</td><td>2017-07-06         </td><td>0.00               </td><td>76                 </td><td>48                 </td></tr>\n",
       "\t<tr><td>USW00094075        </td><td>BOULDER 14 W, CO US</td><td>2017-07-07         </td><td>0.02               </td><td>74                 </td><td>43                 </td></tr>\n",
       "\t<tr><td>USW00094075        </td><td>BOULDER 14 W, CO US</td><td>2017-07-08         </td><td>0.00               </td><td>65                 </td><td>44                 </td></tr>\n",
       "\t<tr><td>USW00094075        </td><td>BOULDER 14 W, CO US</td><td>2017-07-09         </td><td>0.01               </td><td>73                 </td><td>39                 </td></tr>\n",
       "\t<tr><td>USW00094075        </td><td>BOULDER 14 W, CO US</td><td>2017-07-10         </td><td>0.01               </td><td>75                 </td><td>44                 </td></tr>\n",
       "</tbody>\n",
       "</table>\n"
      ],
      "text/latex": [
       "\\begin{tabular}{r|llllll}\n",
       " STATION & NAME & DATE & PRCP & TMAX & TMIN\\\\\n",
       "\\hline\n",
       "\t USW00094075         & BOULDER 14 W, CO US & 2017-07-01          & 0.00                & 68                  & 31                 \\\\\n",
       "\t USW00094075         & BOULDER 14 W, CO US & 2017-07-02          & 0.00                & 73                  & 35                 \\\\\n",
       "\t USW00094075         & BOULDER 14 W, CO US & 2017-07-03          & 0.00                & 68                  & 46                 \\\\\n",
       "\t USW00094075         & BOULDER 14 W, CO US & 2017-07-04          & 0.05                & 68                  & 43                 \\\\\n",
       "\t USW00094075         & BOULDER 14 W, CO US & 2017-07-05          & 0.01                & 73                  & 40                 \\\\\n",
       "\t USW00094075         & BOULDER 14 W, CO US & 2017-07-06          & 0.00                & 76                  & 48                 \\\\\n",
       "\t USW00094075         & BOULDER 14 W, CO US & 2017-07-07          & 0.02                & 74                  & 43                 \\\\\n",
       "\t USW00094075         & BOULDER 14 W, CO US & 2017-07-08          & 0.00                & 65                  & 44                 \\\\\n",
       "\t USW00094075         & BOULDER 14 W, CO US & 2017-07-09          & 0.01                & 73                  & 39                 \\\\\n",
       "\t USW00094075         & BOULDER 14 W, CO US & 2017-07-10          & 0.01                & 75                  & 44                 \\\\\n",
       "\\end{tabular}\n"
      ],
      "text/markdown": [
       "\n",
       "| STATION | NAME | DATE | PRCP | TMAX | TMIN |\n",
       "|---|---|---|---|---|---|\n",
       "| USW00094075         | BOULDER 14 W, CO US | 2017-07-01          | 0.00                | 68                  | 31                  |\n",
       "| USW00094075         | BOULDER 14 W, CO US | 2017-07-02          | 0.00                | 73                  | 35                  |\n",
       "| USW00094075         | BOULDER 14 W, CO US | 2017-07-03          | 0.00                | 68                  | 46                  |\n",
       "| USW00094075         | BOULDER 14 W, CO US | 2017-07-04          | 0.05                | 68                  | 43                  |\n",
       "| USW00094075         | BOULDER 14 W, CO US | 2017-07-05          | 0.01                | 73                  | 40                  |\n",
       "| USW00094075         | BOULDER 14 W, CO US | 2017-07-06          | 0.00                | 76                  | 48                  |\n",
       "| USW00094075         | BOULDER 14 W, CO US | 2017-07-07          | 0.02                | 74                  | 43                  |\n",
       "| USW00094075         | BOULDER 14 W, CO US | 2017-07-08          | 0.00                | 65                  | 44                  |\n",
       "| USW00094075         | BOULDER 14 W, CO US | 2017-07-09          | 0.01                | 73                  | 39                  |\n",
       "| USW00094075         | BOULDER 14 W, CO US | 2017-07-10          | 0.01                | 75                  | 44                  |\n",
       "\n"
      ],
      "text/plain": [
       "   STATION     NAME                DATE       PRCP TMAX TMIN\n",
       "1  USW00094075 BOULDER 14 W, CO US 2017-07-01 0.00 68   31  \n",
       "2  USW00094075 BOULDER 14 W, CO US 2017-07-02 0.00 73   35  \n",
       "3  USW00094075 BOULDER 14 W, CO US 2017-07-03 0.00 68   46  \n",
       "4  USW00094075 BOULDER 14 W, CO US 2017-07-04 0.05 68   43  \n",
       "5  USW00094075 BOULDER 14 W, CO US 2017-07-05 0.01 73   40  \n",
       "6  USW00094075 BOULDER 14 W, CO US 2017-07-06 0.00 76   48  \n",
       "7  USW00094075 BOULDER 14 W, CO US 2017-07-07 0.02 74   43  \n",
       "8  USW00094075 BOULDER 14 W, CO US 2017-07-08 0.00 65   44  \n",
       "9  USW00094075 BOULDER 14 W, CO US 2017-07-09 0.01 73   39  \n",
       "10 USW00094075 BOULDER 14 W, CO US 2017-07-10 0.01 75   44  "
      ]
     },
     "metadata": {},
     "output_type": "display_data"
    }
   ],
   "source": [
    "# Next we examine the first few rows of the data file using the head() function.\n",
    "# 2) Code Here\n",
    "head(weather_data,10)"
   ]
  },
  {
   "cell_type": "markdown",
   "id": "d24ce5ce-5e84-4c52-a3ab-22d192fea3e0",
   "metadata": {},
   "source": [
    "Investigate what the very useful `summary()` function does."
   ]
  },
  {
   "cell_type": "code",
   "execution_count": 4,
   "id": "3f583544-9d23-416f-bc5b-b193fcea71d8",
   "metadata": {
    "editable": true,
    "slideshow": {
     "slide_type": ""
    },
    "tags": []
   },
   "outputs": [
    {
     "data": {
      "text/plain": [
       "        STATION                          NAME            DATE    \n",
       " USC00050848:30   BOULDER 14 W, CO US      :31   2017-07-02:  7  \n",
       " USC00053629:31   BOULDER, CO US           :30   2017-07-03:  7  \n",
       " USC00055984:30   GROSS RESERVOIR, CO US   :31   2017-07-04:  7  \n",
       " USC00056816:30   NIWOT, CO US             :31   2017-07-05:  7  \n",
       " USR0000CBDR:31   NORTHGLENN, CO US        :30   2017-07-06:  7  \n",
       " USS0005J42S:31   RALSTON RESERVOIR, CO US :30   2017-07-07:  7  \n",
       " USW00094075:31   SUGARLOAF COLORADO, CO US:31   (Other)   :172  \n",
       "      PRCP              TMAX             TMIN      \n",
       " Min.   :0.00000   Min.   : 54.00   Min.   :31.00  \n",
       " 1st Qu.:0.00000   1st Qu.: 74.00   1st Qu.:47.00  \n",
       " Median :0.00000   Median : 83.00   Median :55.00  \n",
       " Mean   :0.04346   Mean   : 81.48   Mean   :53.59  \n",
       " 3rd Qu.:0.02750   3rd Qu.: 89.00   3rd Qu.:60.75  \n",
       " Max.   :0.69000   Max.   :101.00   Max.   :68.00  \n",
       " NA's   :32                                        "
      ]
     },
     "metadata": {},
     "output_type": "display_data"
    }
   ],
   "source": [
    "# 3) Code Here\n",
    "summary(weather_data)"
   ]
  },
  {
   "cell_type": "markdown",
   "id": "99317132-2d5e-46c6-b6c7-4e7ccb9cd11e",
   "metadata": {},
   "source": [
    "From this you should see that each row in the DataFrame refers to a particular weather station / date combination.  The columns of the DataFrame are as follows: \n",
    "\n",
    "- **STATION**: The unique identification code for each weather station \n",
    "- **NAME**: The location / name of the weather station \n",
    "- **DATE**: The date of the observation \n",
    "- **PRCP**: The precipitation (in inches)\n",
    "- **TMAX**: The daily maximum temperature (in Fahrenheit)\n",
    "- **TMIN**: The daily minimum temperature (in Fahrenheit)\n",
    "\n",
    "From the printed DataFrame above you can see that we actually have data from multiple weather stations.  To see how many, we can pass the **NAME** column (or the **STATION** column) into R's unique function."
   ]
  },
  {
   "cell_type": "code",
   "execution_count": 10,
   "id": "51b04c4e-6cd8-4f70-a6bd-ca034187b441",
   "metadata": {},
   "outputs": [
    {
     "data": {
      "text/html": [
       "<table>\n",
       "<thead><tr><th></th><th scope=col>NAME</th></tr></thead>\n",
       "<tbody>\n",
       "\t<tr><th scope=row>1</th><td>BOULDER 14 W, CO US      </td></tr>\n",
       "\t<tr><th scope=row>32</th><td>GROSS RESERVOIR, CO US   </td></tr>\n",
       "\t<tr><th scope=row>63</th><td>SUGARLOAF COLORADO, CO US</td></tr>\n",
       "\t<tr><th scope=row>94</th><td>NIWOT, CO US             </td></tr>\n",
       "\t<tr><th scope=row>125</th><td>BOULDER, CO US           </td></tr>\n",
       "\t<tr><th scope=row>155</th><td>RALSTON RESERVOIR, CO US </td></tr>\n",
       "\t<tr><th scope=row>185</th><td>NORTHGLENN, CO US        </td></tr>\n",
       "</tbody>\n",
       "</table>\n"
      ],
      "text/latex": [
       "\\begin{tabular}{r|l}\n",
       "  & NAME\\\\\n",
       "\\hline\n",
       "\t1 & BOULDER 14 W, CO US      \\\\\n",
       "\t32 & GROSS RESERVOIR, CO US   \\\\\n",
       "\t63 & SUGARLOAF COLORADO, CO US\\\\\n",
       "\t94 & NIWOT, CO US             \\\\\n",
       "\t125 & BOULDER, CO US           \\\\\n",
       "\t155 & RALSTON RESERVOIR, CO US \\\\\n",
       "\t185 & NORTHGLENN, CO US        \\\\\n",
       "\\end{tabular}\n"
      ],
      "text/markdown": [
       "\n",
       "| <!--/--> | NAME |\n",
       "|---|---|\n",
       "| 1 | BOULDER 14 W, CO US       |\n",
       "| 32 | GROSS RESERVOIR, CO US    |\n",
       "| 63 | SUGARLOAF COLORADO, CO US |\n",
       "| 94 | NIWOT, CO US              |\n",
       "| 125 | BOULDER, CO US            |\n",
       "| 155 | RALSTON RESERVOIR, CO US  |\n",
       "| 185 | NORTHGLENN, CO US         |\n",
       "\n"
      ],
      "text/plain": [
       "    NAME                     \n",
       "1   BOULDER 14 W, CO US      \n",
       "32  GROSS RESERVOIR, CO US   \n",
       "63  SUGARLOAF COLORADO, CO US\n",
       "94  NIWOT, CO US             \n",
       "125 BOULDER, CO US           \n",
       "155 RALSTON RESERVOIR, CO US \n",
       "185 NORTHGLENN, CO US        "
      ]
     },
     "metadata": {},
     "output_type": "display_data"
    }
   ],
   "source": [
    "# 4) Code Here\n",
    "## unique(weather_data$NAME)\n",
    "unique(weather_data[\"NAME\"])"
   ]
  },
  {
   "cell_type": "markdown",
   "id": "bb7a6e01-f33d-432f-ab07-4cc84028951f",
   "metadata": {},
   "source": [
    "It looks like we have data from seven different weather stations.  For consistency, let's reduce the data to just the reports from the weather station in Niwot.  "
   ]
  },
  {
   "cell_type": "markdown",
   "id": "01941e00-8c39-4846-970b-0629a60f99f9",
   "metadata": {},
   "source": [
    "### Exercise 1\n",
    "***\n",
    "Extract the rows of the DataFrame concerned with the Niwot weather station.  Store this data in a new DataFrame called dfNiwot."
   ]
  },
  {
   "cell_type": "code",
   "execution_count": 13,
   "id": "26fdc6ca-439c-4529-a771-ecb98853800d",
   "metadata": {},
   "outputs": [],
   "source": [
    "# 5) Code Here\n",
    "dfNiwot = weather_data[weather_data$NAME =='NIWOT, CO US',]"
   ]
  },
  {
   "cell_type": "code",
   "execution_count": 14,
   "id": "66ba32ad-cd5e-4fca-88f6-0edd1a604122",
   "metadata": {},
   "outputs": [
    {
     "data": {
      "text/html": [
       "<table>\n",
       "<thead><tr><th></th><th scope=col>STATION</th><th scope=col>NAME</th><th scope=col>DATE</th><th scope=col>PRCP</th><th scope=col>TMAX</th><th scope=col>TMIN</th></tr></thead>\n",
       "<tbody>\n",
       "\t<tr><th scope=row>94</th><td>USS0005J42S </td><td>NIWOT, CO US</td><td>2017-07-01  </td><td>0.0         </td><td>69          </td><td>32          </td></tr>\n",
       "\t<tr><th scope=row>95</th><td>USS0005J42S </td><td>NIWOT, CO US</td><td>2017-07-02  </td><td>0.0         </td><td>73          </td><td>37          </td></tr>\n",
       "\t<tr><th scope=row>96</th><td>USS0005J42S </td><td>NIWOT, CO US</td><td>2017-07-03  </td><td>0.0         </td><td>68          </td><td>47          </td></tr>\n",
       "\t<tr><th scope=row>97</th><td>USS0005J42S </td><td>NIWOT, CO US</td><td>2017-07-04  </td><td>0.1         </td><td>70          </td><td>41          </td></tr>\n",
       "\t<tr><th scope=row>98</th><td>USS0005J42S </td><td>NIWOT, CO US</td><td>2017-07-05  </td><td>0.0         </td><td>74          </td><td>40          </td></tr>\n",
       "\t<tr><th scope=row>99</th><td>USS0005J42S </td><td>NIWOT, CO US</td><td>2017-07-06  </td><td>0.0         </td><td>78          </td><td>47          </td></tr>\n",
       "\t<tr><th scope=row>100</th><td>USS0005J42S </td><td>NIWOT, CO US</td><td>2017-07-07  </td><td>0.0         </td><td>74          </td><td>44          </td></tr>\n",
       "\t<tr><th scope=row>101</th><td>USS0005J42S </td><td>NIWOT, CO US</td><td>2017-07-08  </td><td>0.0         </td><td>67          </td><td>43          </td></tr>\n",
       "\t<tr><th scope=row>102</th><td>USS0005J42S </td><td>NIWOT, CO US</td><td>2017-07-09  </td><td>0.0         </td><td>75          </td><td>41          </td></tr>\n",
       "\t<tr><th scope=row>103</th><td>USS0005J42S </td><td>NIWOT, CO US</td><td>2017-07-10  </td><td>0.0         </td><td>75          </td><td>44          </td></tr>\n",
       "\t<tr><th scope=row>104</th><td>USS0005J42S </td><td>NIWOT, CO US</td><td>2017-07-11  </td><td>0.0         </td><td>75          </td><td>52          </td></tr>\n",
       "\t<tr><th scope=row>105</th><td>USS0005J42S </td><td>NIWOT, CO US</td><td>2017-07-12  </td><td>0.1         </td><td>54          </td><td>43          </td></tr>\n",
       "\t<tr><th scope=row>106</th><td>USS0005J42S </td><td>NIWOT, CO US</td><td>2017-07-13  </td><td>0.0         </td><td>69          </td><td>41          </td></tr>\n",
       "\t<tr><th scope=row>107</th><td>USS0005J42S </td><td>NIWOT, CO US</td><td>2017-07-14  </td><td>0.0         </td><td>69          </td><td>40          </td></tr>\n",
       "\t<tr><th scope=row>108</th><td>USS0005J42S </td><td>NIWOT, CO US</td><td>2017-07-15  </td><td>0.0         </td><td>68          </td><td>42          </td></tr>\n",
       "\t<tr><th scope=row>109</th><td>USS0005J42S </td><td>NIWOT, CO US</td><td>2017-07-16  </td><td>0.0         </td><td>71          </td><td>39          </td></tr>\n",
       "\t<tr><th scope=row>110</th><td>USS0005J42S </td><td>NIWOT, CO US</td><td>2017-07-17  </td><td>0.0         </td><td>74          </td><td>47          </td></tr>\n",
       "\t<tr><th scope=row>111</th><td>USS0005J42S </td><td>NIWOT, CO US</td><td>2017-07-18  </td><td>0.0         </td><td>71          </td><td>46          </td></tr>\n",
       "\t<tr><th scope=row>112</th><td>USS0005J42S </td><td>NIWOT, CO US</td><td>2017-07-19  </td><td>0.0         </td><td>80          </td><td>46          </td></tr>\n",
       "\t<tr><th scope=row>113</th><td>USS0005J42S </td><td>NIWOT, CO US</td><td>2017-07-20  </td><td>0.0         </td><td>75          </td><td>47          </td></tr>\n",
       "\t<tr><th scope=row>114</th><td>USS0005J42S </td><td>NIWOT, CO US</td><td>2017-07-21  </td><td>0.2         </td><td>74          </td><td>48          </td></tr>\n",
       "\t<tr><th scope=row>115</th><td>USS0005J42S </td><td>NIWOT, CO US</td><td>2017-07-22  </td><td>0.2         </td><td>66          </td><td>44          </td></tr>\n",
       "\t<tr><th scope=row>116</th><td>USS0005J42S </td><td>NIWOT, CO US</td><td>2017-07-23  </td><td>0.2         </td><td>66          </td><td>41          </td></tr>\n",
       "\t<tr><th scope=row>117</th><td>USS0005J42S </td><td>NIWOT, CO US</td><td>2017-07-24  </td><td>0.1         </td><td>74          </td><td>47          </td></tr>\n",
       "\t<tr><th scope=row>118</th><td>USS0005J42S </td><td>NIWOT, CO US</td><td>2017-07-25  </td><td>0.2         </td><td>70          </td><td>47          </td></tr>\n",
       "\t<tr><th scope=row>119</th><td>USS0005J42S </td><td>NIWOT, CO US</td><td>2017-07-26  </td><td>0.3         </td><td>64          </td><td>46          </td></tr>\n",
       "\t<tr><th scope=row>120</th><td>USS0005J42S </td><td>NIWOT, CO US</td><td>2017-07-27  </td><td>0.0         </td><td>65          </td><td>44          </td></tr>\n",
       "\t<tr><th scope=row>121</th><td>USS0005J42S </td><td>NIWOT, CO US</td><td>2017-07-28  </td><td>0.1         </td><td>71          </td><td>46          </td></tr>\n",
       "\t<tr><th scope=row>122</th><td>USS0005J42S </td><td>NIWOT, CO US</td><td>2017-07-29  </td><td>0.2         </td><td>58          </td><td>48          </td></tr>\n",
       "\t<tr><th scope=row>123</th><td>USS0005J42S </td><td>NIWOT, CO US</td><td>2017-07-30  </td><td>0.2         </td><td>62          </td><td>41          </td></tr>\n",
       "\t<tr><th scope=row>124</th><td>USS0005J42S </td><td>NIWOT, CO US</td><td>2017-07-31  </td><td>0.0         </td><td>66          </td><td>39          </td></tr>\n",
       "</tbody>\n",
       "</table>\n"
      ],
      "text/latex": [
       "\\begin{tabular}{r|llllll}\n",
       "  & STATION & NAME & DATE & PRCP & TMAX & TMIN\\\\\n",
       "\\hline\n",
       "\t94 & USS0005J42S  & NIWOT, CO US & 2017-07-01   & 0.0          & 69           & 32          \\\\\n",
       "\t95 & USS0005J42S  & NIWOT, CO US & 2017-07-02   & 0.0          & 73           & 37          \\\\\n",
       "\t96 & USS0005J42S  & NIWOT, CO US & 2017-07-03   & 0.0          & 68           & 47          \\\\\n",
       "\t97 & USS0005J42S  & NIWOT, CO US & 2017-07-04   & 0.1          & 70           & 41          \\\\\n",
       "\t98 & USS0005J42S  & NIWOT, CO US & 2017-07-05   & 0.0          & 74           & 40          \\\\\n",
       "\t99 & USS0005J42S  & NIWOT, CO US & 2017-07-06   & 0.0          & 78           & 47          \\\\\n",
       "\t100 & USS0005J42S  & NIWOT, CO US & 2017-07-07   & 0.0          & 74           & 44          \\\\\n",
       "\t101 & USS0005J42S  & NIWOT, CO US & 2017-07-08   & 0.0          & 67           & 43          \\\\\n",
       "\t102 & USS0005J42S  & NIWOT, CO US & 2017-07-09   & 0.0          & 75           & 41          \\\\\n",
       "\t103 & USS0005J42S  & NIWOT, CO US & 2017-07-10   & 0.0          & 75           & 44          \\\\\n",
       "\t104 & USS0005J42S  & NIWOT, CO US & 2017-07-11   & 0.0          & 75           & 52          \\\\\n",
       "\t105 & USS0005J42S  & NIWOT, CO US & 2017-07-12   & 0.1          & 54           & 43          \\\\\n",
       "\t106 & USS0005J42S  & NIWOT, CO US & 2017-07-13   & 0.0          & 69           & 41          \\\\\n",
       "\t107 & USS0005J42S  & NIWOT, CO US & 2017-07-14   & 0.0          & 69           & 40          \\\\\n",
       "\t108 & USS0005J42S  & NIWOT, CO US & 2017-07-15   & 0.0          & 68           & 42          \\\\\n",
       "\t109 & USS0005J42S  & NIWOT, CO US & 2017-07-16   & 0.0          & 71           & 39          \\\\\n",
       "\t110 & USS0005J42S  & NIWOT, CO US & 2017-07-17   & 0.0          & 74           & 47          \\\\\n",
       "\t111 & USS0005J42S  & NIWOT, CO US & 2017-07-18   & 0.0          & 71           & 46          \\\\\n",
       "\t112 & USS0005J42S  & NIWOT, CO US & 2017-07-19   & 0.0          & 80           & 46          \\\\\n",
       "\t113 & USS0005J42S  & NIWOT, CO US & 2017-07-20   & 0.0          & 75           & 47          \\\\\n",
       "\t114 & USS0005J42S  & NIWOT, CO US & 2017-07-21   & 0.2          & 74           & 48          \\\\\n",
       "\t115 & USS0005J42S  & NIWOT, CO US & 2017-07-22   & 0.2          & 66           & 44          \\\\\n",
       "\t116 & USS0005J42S  & NIWOT, CO US & 2017-07-23   & 0.2          & 66           & 41          \\\\\n",
       "\t117 & USS0005J42S  & NIWOT, CO US & 2017-07-24   & 0.1          & 74           & 47          \\\\\n",
       "\t118 & USS0005J42S  & NIWOT, CO US & 2017-07-25   & 0.2          & 70           & 47          \\\\\n",
       "\t119 & USS0005J42S  & NIWOT, CO US & 2017-07-26   & 0.3          & 64           & 46          \\\\\n",
       "\t120 & USS0005J42S  & NIWOT, CO US & 2017-07-27   & 0.0          & 65           & 44          \\\\\n",
       "\t121 & USS0005J42S  & NIWOT, CO US & 2017-07-28   & 0.1          & 71           & 46          \\\\\n",
       "\t122 & USS0005J42S  & NIWOT, CO US & 2017-07-29   & 0.2          & 58           & 48          \\\\\n",
       "\t123 & USS0005J42S  & NIWOT, CO US & 2017-07-30   & 0.2          & 62           & 41          \\\\\n",
       "\t124 & USS0005J42S  & NIWOT, CO US & 2017-07-31   & 0.0          & 66           & 39          \\\\\n",
       "\\end{tabular}\n"
      ],
      "text/markdown": [
       "\n",
       "| <!--/--> | STATION | NAME | DATE | PRCP | TMAX | TMIN |\n",
       "|---|---|---|---|---|---|---|\n",
       "| 94 | USS0005J42S  | NIWOT, CO US | 2017-07-01   | 0.0          | 69           | 32           |\n",
       "| 95 | USS0005J42S  | NIWOT, CO US | 2017-07-02   | 0.0          | 73           | 37           |\n",
       "| 96 | USS0005J42S  | NIWOT, CO US | 2017-07-03   | 0.0          | 68           | 47           |\n",
       "| 97 | USS0005J42S  | NIWOT, CO US | 2017-07-04   | 0.1          | 70           | 41           |\n",
       "| 98 | USS0005J42S  | NIWOT, CO US | 2017-07-05   | 0.0          | 74           | 40           |\n",
       "| 99 | USS0005J42S  | NIWOT, CO US | 2017-07-06   | 0.0          | 78           | 47           |\n",
       "| 100 | USS0005J42S  | NIWOT, CO US | 2017-07-07   | 0.0          | 74           | 44           |\n",
       "| 101 | USS0005J42S  | NIWOT, CO US | 2017-07-08   | 0.0          | 67           | 43           |\n",
       "| 102 | USS0005J42S  | NIWOT, CO US | 2017-07-09   | 0.0          | 75           | 41           |\n",
       "| 103 | USS0005J42S  | NIWOT, CO US | 2017-07-10   | 0.0          | 75           | 44           |\n",
       "| 104 | USS0005J42S  | NIWOT, CO US | 2017-07-11   | 0.0          | 75           | 52           |\n",
       "| 105 | USS0005J42S  | NIWOT, CO US | 2017-07-12   | 0.1          | 54           | 43           |\n",
       "| 106 | USS0005J42S  | NIWOT, CO US | 2017-07-13   | 0.0          | 69           | 41           |\n",
       "| 107 | USS0005J42S  | NIWOT, CO US | 2017-07-14   | 0.0          | 69           | 40           |\n",
       "| 108 | USS0005J42S  | NIWOT, CO US | 2017-07-15   | 0.0          | 68           | 42           |\n",
       "| 109 | USS0005J42S  | NIWOT, CO US | 2017-07-16   | 0.0          | 71           | 39           |\n",
       "| 110 | USS0005J42S  | NIWOT, CO US | 2017-07-17   | 0.0          | 74           | 47           |\n",
       "| 111 | USS0005J42S  | NIWOT, CO US | 2017-07-18   | 0.0          | 71           | 46           |\n",
       "| 112 | USS0005J42S  | NIWOT, CO US | 2017-07-19   | 0.0          | 80           | 46           |\n",
       "| 113 | USS0005J42S  | NIWOT, CO US | 2017-07-20   | 0.0          | 75           | 47           |\n",
       "| 114 | USS0005J42S  | NIWOT, CO US | 2017-07-21   | 0.2          | 74           | 48           |\n",
       "| 115 | USS0005J42S  | NIWOT, CO US | 2017-07-22   | 0.2          | 66           | 44           |\n",
       "| 116 | USS0005J42S  | NIWOT, CO US | 2017-07-23   | 0.2          | 66           | 41           |\n",
       "| 117 | USS0005J42S  | NIWOT, CO US | 2017-07-24   | 0.1          | 74           | 47           |\n",
       "| 118 | USS0005J42S  | NIWOT, CO US | 2017-07-25   | 0.2          | 70           | 47           |\n",
       "| 119 | USS0005J42S  | NIWOT, CO US | 2017-07-26   | 0.3          | 64           | 46           |\n",
       "| 120 | USS0005J42S  | NIWOT, CO US | 2017-07-27   | 0.0          | 65           | 44           |\n",
       "| 121 | USS0005J42S  | NIWOT, CO US | 2017-07-28   | 0.1          | 71           | 46           |\n",
       "| 122 | USS0005J42S  | NIWOT, CO US | 2017-07-29   | 0.2          | 58           | 48           |\n",
       "| 123 | USS0005J42S  | NIWOT, CO US | 2017-07-30   | 0.2          | 62           | 41           |\n",
       "| 124 | USS0005J42S  | NIWOT, CO US | 2017-07-31   | 0.0          | 66           | 39           |\n",
       "\n"
      ],
      "text/plain": [
       "    STATION     NAME         DATE       PRCP TMAX TMIN\n",
       "94  USS0005J42S NIWOT, CO US 2017-07-01 0.0  69   32  \n",
       "95  USS0005J42S NIWOT, CO US 2017-07-02 0.0  73   37  \n",
       "96  USS0005J42S NIWOT, CO US 2017-07-03 0.0  68   47  \n",
       "97  USS0005J42S NIWOT, CO US 2017-07-04 0.1  70   41  \n",
       "98  USS0005J42S NIWOT, CO US 2017-07-05 0.0  74   40  \n",
       "99  USS0005J42S NIWOT, CO US 2017-07-06 0.0  78   47  \n",
       "100 USS0005J42S NIWOT, CO US 2017-07-07 0.0  74   44  \n",
       "101 USS0005J42S NIWOT, CO US 2017-07-08 0.0  67   43  \n",
       "102 USS0005J42S NIWOT, CO US 2017-07-09 0.0  75   41  \n",
       "103 USS0005J42S NIWOT, CO US 2017-07-10 0.0  75   44  \n",
       "104 USS0005J42S NIWOT, CO US 2017-07-11 0.0  75   52  \n",
       "105 USS0005J42S NIWOT, CO US 2017-07-12 0.1  54   43  \n",
       "106 USS0005J42S NIWOT, CO US 2017-07-13 0.0  69   41  \n",
       "107 USS0005J42S NIWOT, CO US 2017-07-14 0.0  69   40  \n",
       "108 USS0005J42S NIWOT, CO US 2017-07-15 0.0  68   42  \n",
       "109 USS0005J42S NIWOT, CO US 2017-07-16 0.0  71   39  \n",
       "110 USS0005J42S NIWOT, CO US 2017-07-17 0.0  74   47  \n",
       "111 USS0005J42S NIWOT, CO US 2017-07-18 0.0  71   46  \n",
       "112 USS0005J42S NIWOT, CO US 2017-07-19 0.0  80   46  \n",
       "113 USS0005J42S NIWOT, CO US 2017-07-20 0.0  75   47  \n",
       "114 USS0005J42S NIWOT, CO US 2017-07-21 0.2  74   48  \n",
       "115 USS0005J42S NIWOT, CO US 2017-07-22 0.2  66   44  \n",
       "116 USS0005J42S NIWOT, CO US 2017-07-23 0.2  66   41  \n",
       "117 USS0005J42S NIWOT, CO US 2017-07-24 0.1  74   47  \n",
       "118 USS0005J42S NIWOT, CO US 2017-07-25 0.2  70   47  \n",
       "119 USS0005J42S NIWOT, CO US 2017-07-26 0.3  64   46  \n",
       "120 USS0005J42S NIWOT, CO US 2017-07-27 0.0  65   44  \n",
       "121 USS0005J42S NIWOT, CO US 2017-07-28 0.1  71   46  \n",
       "122 USS0005J42S NIWOT, CO US 2017-07-29 0.2  58   48  \n",
       "123 USS0005J42S NIWOT, CO US 2017-07-30 0.2  62   41  \n",
       "124 USS0005J42S NIWOT, CO US 2017-07-31 0.0  66   39  "
      ]
     },
     "metadata": {},
     "output_type": "display_data"
    }
   ],
   "source": [
    "dfNiwot"
   ]
  },
  {
   "cell_type": "markdown",
   "id": "6ddad2b2-0ff1-421c-980e-6dacf29d1538",
   "metadata": {},
   "source": [
    "### Exercise 2  \n",
    "***\n",
    "\n",
    "R has canned functions that compute each of the summary statistics discussed in lecture.  We'll use the mean( ) function as an example.  \n",
    "\n",
    "Using the mean() function, find the sample mean of the maximum daily temperature in Niwot. "
   ]
  },
  {
   "cell_type": "code",
   "execution_count": 16,
   "id": "f7b30830-88da-4191-881a-3006f23cc661",
   "metadata": {},
   "outputs": [
    {
     "data": {
      "text/html": [
       "69.8387096774194"
      ],
      "text/latex": [
       "69.8387096774194"
      ],
      "text/markdown": [
       "69.8387096774194"
      ],
      "text/plain": [
       "[1] 69.83871"
      ]
     },
     "metadata": {},
     "output_type": "display_data"
    }
   ],
   "source": [
    "# 6) Code Here\n",
    "mean_tmax = mean(dfNiwot$TMAX)\n",
    "mean_tmax"
   ]
  },
  {
   "cell_type": "markdown",
   "id": "9fc8088e-e309-4c7a-8076-1e2ebf638aa4",
   "metadata": {},
   "source": [
    "Let's see what happens if we call mean( ) on the entire DataFrame. "
   ]
  },
  {
   "cell_type": "code",
   "execution_count": 17,
   "id": "1443ecee-7e7d-4dc0-aa9e-8e715eabd3a9",
   "metadata": {},
   "outputs": [
    {
     "name": "stderr",
     "output_type": "stream",
     "text": [
      "Warning message in mean.default(dfNiwot):\n",
      "\"argument is not numeric or logical: returning NA\""
     ]
    },
    {
     "data": {
      "text/html": [
       "&lt;NA&gt;"
      ],
      "text/latex": [
       "<NA>"
      ],
      "text/markdown": [
       "&lt;NA&gt;"
      ],
      "text/plain": [
       "[1] NA"
      ]
     },
     "metadata": {},
     "output_type": "display_data"
    }
   ],
   "source": [
    "# 7) Code Here\n",
    "mean_dfNiwot = mean(dfNiwot)\n",
    "mean_dfNiwot"
   ]
  },
  {
   "cell_type": "code",
   "execution_count": 19,
   "id": "94e444d3-9e7f-40c7-8d14-1d072493f4d2",
   "metadata": {},
   "outputs": [
    {
     "data": {
      "text/html": [
       "<table>\n",
       "<thead><tr><th scope=col>PRCP</th><th scope=col>TMAX</th><th scope=col>TMIN</th></tr></thead>\n",
       "<tbody>\n",
       "\t<tr><td>0.06129032</td><td>69.83871  </td><td>43.54839  </td></tr>\n",
       "</tbody>\n",
       "</table>\n"
      ],
      "text/latex": [
       "\\begin{tabular}{r|lll}\n",
       " PRCP & TMAX & TMIN\\\\\n",
       "\\hline\n",
       "\t 0.06129032 & 69.83871   & 43.54839  \\\\\n",
       "\\end{tabular}\n"
      ],
      "text/markdown": [
       "\n",
       "| PRCP | TMAX | TMIN |\n",
       "|---|---|---|\n",
       "| 0.06129032 | 69.83871   | 43.54839   |\n",
       "\n"
      ],
      "text/plain": [
       "  PRCP       TMAX     TMIN    \n",
       "1 0.06129032 69.83871 43.54839"
      ]
     },
     "metadata": {},
     "output_type": "display_data"
    }
   ],
   "source": [
    "# And the fix...\n",
    "library(dplyr)\n",
    "dfNiwot %>% \n",
    "summarize_if(is.numeric, mean, na.rm=T)"
   ]
  },
  {
   "cell_type": "markdown",
   "id": "e9a2f3ce-508a-47a1-8051-a7e6cb3823a9",
   "metadata": {},
   "source": [
    "The functions for the other summary statistics are as follows: \n",
    "\n",
    "\\begin{array}{l|l}\n",
    "\\textrm{Function} & \\textrm{Statistics} \\\\\n",
    "\\hline\n",
    "\\textrm{var()} & \\textrm{variance} \\\\\n",
    "\\textrm{sd()} & \\textrm{standard deviation} \\\\\n",
    "\\textrm{min()} & \\textrm{minimum value} \\\\\n",
    "\\textrm{max()} & \\textrm{maximum value} \\\\\n",
    "\\textrm{median()} & \\textrm{value} \\\\\n",
    "\\textrm{quantile(data, probs=c(...)} & \\textrm{quantile, where data is the desired input and probs specifies the desired percentile(s) as a decimal} \\\\\n",
    "\\end{array}\n",
    "\n",
    "Your job is to use these functions to compute the 5-number summary for the maximum daily temperature for the Niwot weather station. "
   ]
  },
  {
   "cell_type": "code",
   "execution_count": 22,
   "id": "0c9083b0-6efa-4555-a8ed-4874847d8e82",
   "metadata": {},
   "outputs": [
    {
     "name": "stdout",
     "output_type": "stream",
     "text": [
      "Five Number summary :  54 66.5 70 74 80"
     ]
    }
   ],
   "source": [
    "# 8) Code Here\n",
    "minimum = min(dfNiwot$TMAX)\n",
    "Q1 = quantile(dfNiwot$TMAX,.25)\n",
    "Q2 = median(dfNiwot$TMAX)\n",
    "Q3 = quantile(dfNiwot$TMAX,.75)\n",
    "maximum = max(dfNiwot$TMAX)\n",
    "\n",
    "cat(\"Five Number summary : \", minimum, Q1, Q2, Q3, maximum)"
   ]
  },
  {
   "cell_type": "markdown",
   "id": "98b704b3-7a76-4530-81b5-f4f07ee16690",
   "metadata": {},
   "source": [
    "### Exercise 3 \n",
    "***\n",
    "It turns out that R has a nice function called fivenum( ) that will compute all of the standard summary statistics for you.  \n",
    "\n",
    "Run the fivenum( ) function on the **TMAX** column of your DataFrame, and check that the results agree with your computations from Exercise 2. "
   ]
  },
  {
   "cell_type": "code",
   "execution_count": 23,
   "id": "9280e14d-0e5c-4e1b-9c8b-4665d220140c",
   "metadata": {},
   "outputs": [
    {
     "data": {
      "text/html": [
       "<ol class=list-inline>\n",
       "\t<li>54</li>\n",
       "\t<li>66.5</li>\n",
       "\t<li>70</li>\n",
       "\t<li>74</li>\n",
       "\t<li>80</li>\n",
       "</ol>\n"
      ],
      "text/latex": [
       "\\begin{enumerate*}\n",
       "\\item 54\n",
       "\\item 66.5\n",
       "\\item 70\n",
       "\\item 74\n",
       "\\item 80\n",
       "\\end{enumerate*}\n"
      ],
      "text/markdown": [
       "1. 54\n",
       "2. 66.5\n",
       "3. 70\n",
       "4. 74\n",
       "5. 80\n",
       "\n",
       "\n"
      ],
      "text/plain": [
       "[1] 54.0 66.5 70.0 74.0 80.0"
      ]
     },
     "metadata": {},
     "output_type": "display_data"
    }
   ],
   "source": [
    "# 9) Code Here\n",
    "fivenum(dfNiwot$TMAX)"
   ]
  },
  {
   "cell_type": "markdown",
   "id": "6651aa67-1d64-41ed-b95b-eb8cdfe1d940",
   "metadata": {},
   "source": [
    "### Exercise 4 \n",
    "***\n",
    "In this exercise we'll explore how the mean and the standard deviation change when we perform basic transformations on the data.  In particular, we're interested in what happens if we \n",
    "\n",
    "1. Add or subtract some value from every entry in the data set \n",
    "1. Multiply every entry in the data set by some value \n",
    "\n",
    "We know from above that the mean and standard deviation of the Niwot **TMAX** value are 69.83871 and 5.621962.  Experiment by adding and multiplying nice integer values with the **TMAX** column and then recomputing the statistics.  From your observations, can you guess how the mean and std dev change under these transformations? \n"
   ]
  },
  {
   "cell_type": "code",
   "execution_count": 37,
   "id": "44e34557-c237-4928-99ca-1b16821eb598",
   "metadata": {},
   "outputs": [
    {
     "data": {
      "text/html": [
       "69.8387096774194"
      ],
      "text/latex": [
       "69.8387096774194"
      ],
      "text/markdown": [
       "69.8387096774194"
      ],
      "text/plain": [
       "[1] 69.83871"
      ]
     },
     "metadata": {},
     "output_type": "display_data"
    },
    {
     "data": {
      "text/html": [
       "209.516129032258"
      ],
      "text/latex": [
       "209.516129032258"
      ],
      "text/markdown": [
       "209.516129032258"
      ],
      "text/plain": [
       "[1] 209.5161"
      ]
     },
     "metadata": {},
     "output_type": "display_data"
    },
    {
     "data": {
      "text/html": [
       "5.62196154495059"
      ],
      "text/latex": [
       "5.62196154495059"
      ],
      "text/markdown": [
       "5.62196154495059"
      ],
      "text/plain": [
       "[1] 5.621962"
      ]
     },
     "metadata": {},
     "output_type": "display_data"
    },
    {
     "data": {
      "text/html": [
       "5.62196154495059"
      ],
      "text/latex": [
       "5.62196154495059"
      ],
      "text/markdown": [
       "5.62196154495059"
      ],
      "text/plain": [
       "[1] 5.621962"
      ]
     },
     "metadata": {},
     "output_type": "display_data"
    }
   ],
   "source": [
    "# 10) Code Here\n",
    "#Checking the mean after modification of the data\n",
    "mean(dfNiwot$TMAX)\n",
    "mean(dfNiwot$TMAX * )\n",
    "\n",
    "#Checking the standard deviation after modification of the data\n",
    "sd(dfNiwot$TMAX)\n",
    "sd(dfNiwot$TMAX - 3)"
   ]
  },
  {
   "cell_type": "markdown",
   "id": "b335bf47-c9a8-4271-85e2-6b6e16465b1e",
   "metadata": {},
   "source": [
    "See if you can prove that your guess works in general mathematically using the formulas for the two statistics: \n",
    "\n",
    "$$\n",
    "\\bar{x} = \\frac{1}{n} \\displaystyle\\sum_{k=1}^n x_k \\quad \\quad \\textrm{and} \\quad \\quad s = \\sqrt{\\frac{1}{n-1} \\sum_{k=1}^n \\left( x_k - \\bar{x}\\right)^2} \n",
    "$$"
   ]
  },
  {
   "cell_type": "markdown",
   "id": "e0bc5925-3b51-43d1-a658-98784b9b9794",
   "metadata": {},
   "source": [
    "$$\\bar{y} = \\frac{1}{n} \\sum_{k=1}^n (x_k + a) $$\n"
   ]
  },
  {
   "cell_type": "code",
   "execution_count": null,
   "id": "26b96880-21eb-47f3-873a-6431b7572de2",
   "metadata": {},
   "outputs": [],
   "source": []
  },
  {
   "cell_type": "markdown",
   "id": "228c4990-ea5e-4455-85eb-91c4dd7372b0",
   "metadata": {},
   "source": [
    "### Exercise 5 \n",
    "***\n",
    "OK, let's apply a common transformation to the **TMAX** and **TMIN** columns by converting the temperatures from Fahrenheit to Celsius.  Remember that the transformation is given by \n",
    "\n",
    "$$\n",
    "\\textrm{CELSIUS} = \\frac{5}{9} (\\textrm{FAHRENHEIT}-32) \n",
    "$$\n",
    "\n",
    "First, use the Fahrenheit data in columns **TMAX** and **TMIN** to create Celsius columns in the Niwot DataFrame called **TMAX_C** and **TMIN_C**."
   ]
  },
  {
   "cell_type": "code",
   "execution_count": 42,
   "id": "1ba73740-e15b-415a-878d-c6c18fd1274a",
   "metadata": {},
   "outputs": [
    {
     "data": {
      "text/html": [
       "<table>\n",
       "<thead><tr><th></th><th scope=col>STATION</th><th scope=col>NAME</th><th scope=col>DATE</th><th scope=col>PRCP</th><th scope=col>TMAX</th><th scope=col>TMIN</th><th scope=col>TMAX_C</th><th scope=col>TMIN_C</th></tr></thead>\n",
       "<tbody>\n",
       "\t<tr><th scope=row>94</th><td>USS0005J42S </td><td>NIWOT, CO US</td><td>2017-07-01  </td><td>0.0         </td><td>69          </td><td>32          </td><td>20.55556    </td><td> 0.000000   </td></tr>\n",
       "\t<tr><th scope=row>95</th><td>USS0005J42S </td><td>NIWOT, CO US</td><td>2017-07-02  </td><td>0.0         </td><td>73          </td><td>37          </td><td>22.77778    </td><td> 2.777778   </td></tr>\n",
       "\t<tr><th scope=row>96</th><td>USS0005J42S </td><td>NIWOT, CO US</td><td>2017-07-03  </td><td>0.0         </td><td>68          </td><td>47          </td><td>20.00000    </td><td> 8.333333   </td></tr>\n",
       "\t<tr><th scope=row>97</th><td>USS0005J42S </td><td>NIWOT, CO US</td><td>2017-07-04  </td><td>0.1         </td><td>70          </td><td>41          </td><td>21.11111    </td><td> 5.000000   </td></tr>\n",
       "\t<tr><th scope=row>98</th><td>USS0005J42S </td><td>NIWOT, CO US</td><td>2017-07-05  </td><td>0.0         </td><td>74          </td><td>40          </td><td>23.33333    </td><td> 4.444444   </td></tr>\n",
       "\t<tr><th scope=row>99</th><td>USS0005J42S </td><td>NIWOT, CO US</td><td>2017-07-06  </td><td>0.0         </td><td>78          </td><td>47          </td><td>25.55556    </td><td> 8.333333   </td></tr>\n",
       "\t<tr><th scope=row>100</th><td>USS0005J42S </td><td>NIWOT, CO US</td><td>2017-07-07  </td><td>0.0         </td><td>74          </td><td>44          </td><td>23.33333    </td><td> 6.666667   </td></tr>\n",
       "\t<tr><th scope=row>101</th><td>USS0005J42S </td><td>NIWOT, CO US</td><td>2017-07-08  </td><td>0.0         </td><td>67          </td><td>43          </td><td>19.44444    </td><td> 6.111111   </td></tr>\n",
       "\t<tr><th scope=row>102</th><td>USS0005J42S </td><td>NIWOT, CO US</td><td>2017-07-09  </td><td>0.0         </td><td>75          </td><td>41          </td><td>23.88889    </td><td> 5.000000   </td></tr>\n",
       "\t<tr><th scope=row>103</th><td>USS0005J42S </td><td>NIWOT, CO US</td><td>2017-07-10  </td><td>0.0         </td><td>75          </td><td>44          </td><td>23.88889    </td><td> 6.666667   </td></tr>\n",
       "\t<tr><th scope=row>104</th><td>USS0005J42S </td><td>NIWOT, CO US</td><td>2017-07-11  </td><td>0.0         </td><td>75          </td><td>52          </td><td>23.88889    </td><td>11.111111   </td></tr>\n",
       "\t<tr><th scope=row>105</th><td>USS0005J42S </td><td>NIWOT, CO US</td><td>2017-07-12  </td><td>0.1         </td><td>54          </td><td>43          </td><td>12.22222    </td><td> 6.111111   </td></tr>\n",
       "\t<tr><th scope=row>106</th><td>USS0005J42S </td><td>NIWOT, CO US</td><td>2017-07-13  </td><td>0.0         </td><td>69          </td><td>41          </td><td>20.55556    </td><td> 5.000000   </td></tr>\n",
       "\t<tr><th scope=row>107</th><td>USS0005J42S </td><td>NIWOT, CO US</td><td>2017-07-14  </td><td>0.0         </td><td>69          </td><td>40          </td><td>20.55556    </td><td> 4.444444   </td></tr>\n",
       "\t<tr><th scope=row>108</th><td>USS0005J42S </td><td>NIWOT, CO US</td><td>2017-07-15  </td><td>0.0         </td><td>68          </td><td>42          </td><td>20.00000    </td><td> 5.555556   </td></tr>\n",
       "\t<tr><th scope=row>109</th><td>USS0005J42S </td><td>NIWOT, CO US</td><td>2017-07-16  </td><td>0.0         </td><td>71          </td><td>39          </td><td>21.66667    </td><td> 3.888889   </td></tr>\n",
       "\t<tr><th scope=row>110</th><td>USS0005J42S </td><td>NIWOT, CO US</td><td>2017-07-17  </td><td>0.0         </td><td>74          </td><td>47          </td><td>23.33333    </td><td> 8.333333   </td></tr>\n",
       "\t<tr><th scope=row>111</th><td>USS0005J42S </td><td>NIWOT, CO US</td><td>2017-07-18  </td><td>0.0         </td><td>71          </td><td>46          </td><td>21.66667    </td><td> 7.777778   </td></tr>\n",
       "\t<tr><th scope=row>112</th><td>USS0005J42S </td><td>NIWOT, CO US</td><td>2017-07-19  </td><td>0.0         </td><td>80          </td><td>46          </td><td>26.66667    </td><td> 7.777778   </td></tr>\n",
       "\t<tr><th scope=row>113</th><td>USS0005J42S </td><td>NIWOT, CO US</td><td>2017-07-20  </td><td>0.0         </td><td>75          </td><td>47          </td><td>23.88889    </td><td> 8.333333   </td></tr>\n",
       "\t<tr><th scope=row>114</th><td>USS0005J42S </td><td>NIWOT, CO US</td><td>2017-07-21  </td><td>0.2         </td><td>74          </td><td>48          </td><td>23.33333    </td><td> 8.888889   </td></tr>\n",
       "\t<tr><th scope=row>115</th><td>USS0005J42S </td><td>NIWOT, CO US</td><td>2017-07-22  </td><td>0.2         </td><td>66          </td><td>44          </td><td>18.88889    </td><td> 6.666667   </td></tr>\n",
       "\t<tr><th scope=row>116</th><td>USS0005J42S </td><td>NIWOT, CO US</td><td>2017-07-23  </td><td>0.2         </td><td>66          </td><td>41          </td><td>18.88889    </td><td> 5.000000   </td></tr>\n",
       "\t<tr><th scope=row>117</th><td>USS0005J42S </td><td>NIWOT, CO US</td><td>2017-07-24  </td><td>0.1         </td><td>74          </td><td>47          </td><td>23.33333    </td><td> 8.333333   </td></tr>\n",
       "\t<tr><th scope=row>118</th><td>USS0005J42S </td><td>NIWOT, CO US</td><td>2017-07-25  </td><td>0.2         </td><td>70          </td><td>47          </td><td>21.11111    </td><td> 8.333333   </td></tr>\n",
       "\t<tr><th scope=row>119</th><td>USS0005J42S </td><td>NIWOT, CO US</td><td>2017-07-26  </td><td>0.3         </td><td>64          </td><td>46          </td><td>17.77778    </td><td> 7.777778   </td></tr>\n",
       "\t<tr><th scope=row>120</th><td>USS0005J42S </td><td>NIWOT, CO US</td><td>2017-07-27  </td><td>0.0         </td><td>65          </td><td>44          </td><td>18.33333    </td><td> 6.666667   </td></tr>\n",
       "\t<tr><th scope=row>121</th><td>USS0005J42S </td><td>NIWOT, CO US</td><td>2017-07-28  </td><td>0.1         </td><td>71          </td><td>46          </td><td>21.66667    </td><td> 7.777778   </td></tr>\n",
       "\t<tr><th scope=row>122</th><td>USS0005J42S </td><td>NIWOT, CO US</td><td>2017-07-29  </td><td>0.2         </td><td>58          </td><td>48          </td><td>14.44444    </td><td> 8.888889   </td></tr>\n",
       "\t<tr><th scope=row>123</th><td>USS0005J42S </td><td>NIWOT, CO US</td><td>2017-07-30  </td><td>0.2         </td><td>62          </td><td>41          </td><td>16.66667    </td><td> 5.000000   </td></tr>\n",
       "\t<tr><th scope=row>124</th><td>USS0005J42S </td><td>NIWOT, CO US</td><td>2017-07-31  </td><td>0.0         </td><td>66          </td><td>39          </td><td>18.88889    </td><td> 3.888889   </td></tr>\n",
       "</tbody>\n",
       "</table>\n"
      ],
      "text/latex": [
       "\\begin{tabular}{r|llllllll}\n",
       "  & STATION & NAME & DATE & PRCP & TMAX & TMIN & TMAX\\_C & TMIN\\_C\\\\\n",
       "\\hline\n",
       "\t94 & USS0005J42S  & NIWOT, CO US & 2017-07-01   & 0.0          & 69           & 32           & 20.55556     &  0.000000   \\\\\n",
       "\t95 & USS0005J42S  & NIWOT, CO US & 2017-07-02   & 0.0          & 73           & 37           & 22.77778     &  2.777778   \\\\\n",
       "\t96 & USS0005J42S  & NIWOT, CO US & 2017-07-03   & 0.0          & 68           & 47           & 20.00000     &  8.333333   \\\\\n",
       "\t97 & USS0005J42S  & NIWOT, CO US & 2017-07-04   & 0.1          & 70           & 41           & 21.11111     &  5.000000   \\\\\n",
       "\t98 & USS0005J42S  & NIWOT, CO US & 2017-07-05   & 0.0          & 74           & 40           & 23.33333     &  4.444444   \\\\\n",
       "\t99 & USS0005J42S  & NIWOT, CO US & 2017-07-06   & 0.0          & 78           & 47           & 25.55556     &  8.333333   \\\\\n",
       "\t100 & USS0005J42S  & NIWOT, CO US & 2017-07-07   & 0.0          & 74           & 44           & 23.33333     &  6.666667   \\\\\n",
       "\t101 & USS0005J42S  & NIWOT, CO US & 2017-07-08   & 0.0          & 67           & 43           & 19.44444     &  6.111111   \\\\\n",
       "\t102 & USS0005J42S  & NIWOT, CO US & 2017-07-09   & 0.0          & 75           & 41           & 23.88889     &  5.000000   \\\\\n",
       "\t103 & USS0005J42S  & NIWOT, CO US & 2017-07-10   & 0.0          & 75           & 44           & 23.88889     &  6.666667   \\\\\n",
       "\t104 & USS0005J42S  & NIWOT, CO US & 2017-07-11   & 0.0          & 75           & 52           & 23.88889     & 11.111111   \\\\\n",
       "\t105 & USS0005J42S  & NIWOT, CO US & 2017-07-12   & 0.1          & 54           & 43           & 12.22222     &  6.111111   \\\\\n",
       "\t106 & USS0005J42S  & NIWOT, CO US & 2017-07-13   & 0.0          & 69           & 41           & 20.55556     &  5.000000   \\\\\n",
       "\t107 & USS0005J42S  & NIWOT, CO US & 2017-07-14   & 0.0          & 69           & 40           & 20.55556     &  4.444444   \\\\\n",
       "\t108 & USS0005J42S  & NIWOT, CO US & 2017-07-15   & 0.0          & 68           & 42           & 20.00000     &  5.555556   \\\\\n",
       "\t109 & USS0005J42S  & NIWOT, CO US & 2017-07-16   & 0.0          & 71           & 39           & 21.66667     &  3.888889   \\\\\n",
       "\t110 & USS0005J42S  & NIWOT, CO US & 2017-07-17   & 0.0          & 74           & 47           & 23.33333     &  8.333333   \\\\\n",
       "\t111 & USS0005J42S  & NIWOT, CO US & 2017-07-18   & 0.0          & 71           & 46           & 21.66667     &  7.777778   \\\\\n",
       "\t112 & USS0005J42S  & NIWOT, CO US & 2017-07-19   & 0.0          & 80           & 46           & 26.66667     &  7.777778   \\\\\n",
       "\t113 & USS0005J42S  & NIWOT, CO US & 2017-07-20   & 0.0          & 75           & 47           & 23.88889     &  8.333333   \\\\\n",
       "\t114 & USS0005J42S  & NIWOT, CO US & 2017-07-21   & 0.2          & 74           & 48           & 23.33333     &  8.888889   \\\\\n",
       "\t115 & USS0005J42S  & NIWOT, CO US & 2017-07-22   & 0.2          & 66           & 44           & 18.88889     &  6.666667   \\\\\n",
       "\t116 & USS0005J42S  & NIWOT, CO US & 2017-07-23   & 0.2          & 66           & 41           & 18.88889     &  5.000000   \\\\\n",
       "\t117 & USS0005J42S  & NIWOT, CO US & 2017-07-24   & 0.1          & 74           & 47           & 23.33333     &  8.333333   \\\\\n",
       "\t118 & USS0005J42S  & NIWOT, CO US & 2017-07-25   & 0.2          & 70           & 47           & 21.11111     &  8.333333   \\\\\n",
       "\t119 & USS0005J42S  & NIWOT, CO US & 2017-07-26   & 0.3          & 64           & 46           & 17.77778     &  7.777778   \\\\\n",
       "\t120 & USS0005J42S  & NIWOT, CO US & 2017-07-27   & 0.0          & 65           & 44           & 18.33333     &  6.666667   \\\\\n",
       "\t121 & USS0005J42S  & NIWOT, CO US & 2017-07-28   & 0.1          & 71           & 46           & 21.66667     &  7.777778   \\\\\n",
       "\t122 & USS0005J42S  & NIWOT, CO US & 2017-07-29   & 0.2          & 58           & 48           & 14.44444     &  8.888889   \\\\\n",
       "\t123 & USS0005J42S  & NIWOT, CO US & 2017-07-30   & 0.2          & 62           & 41           & 16.66667     &  5.000000   \\\\\n",
       "\t124 & USS0005J42S  & NIWOT, CO US & 2017-07-31   & 0.0          & 66           & 39           & 18.88889     &  3.888889   \\\\\n",
       "\\end{tabular}\n"
      ],
      "text/markdown": [
       "\n",
       "| <!--/--> | STATION | NAME | DATE | PRCP | TMAX | TMIN | TMAX_C | TMIN_C |\n",
       "|---|---|---|---|---|---|---|---|---|\n",
       "| 94 | USS0005J42S  | NIWOT, CO US | 2017-07-01   | 0.0          | 69           | 32           | 20.55556     |  0.000000    |\n",
       "| 95 | USS0005J42S  | NIWOT, CO US | 2017-07-02   | 0.0          | 73           | 37           | 22.77778     |  2.777778    |\n",
       "| 96 | USS0005J42S  | NIWOT, CO US | 2017-07-03   | 0.0          | 68           | 47           | 20.00000     |  8.333333    |\n",
       "| 97 | USS0005J42S  | NIWOT, CO US | 2017-07-04   | 0.1          | 70           | 41           | 21.11111     |  5.000000    |\n",
       "| 98 | USS0005J42S  | NIWOT, CO US | 2017-07-05   | 0.0          | 74           | 40           | 23.33333     |  4.444444    |\n",
       "| 99 | USS0005J42S  | NIWOT, CO US | 2017-07-06   | 0.0          | 78           | 47           | 25.55556     |  8.333333    |\n",
       "| 100 | USS0005J42S  | NIWOT, CO US | 2017-07-07   | 0.0          | 74           | 44           | 23.33333     |  6.666667    |\n",
       "| 101 | USS0005J42S  | NIWOT, CO US | 2017-07-08   | 0.0          | 67           | 43           | 19.44444     |  6.111111    |\n",
       "| 102 | USS0005J42S  | NIWOT, CO US | 2017-07-09   | 0.0          | 75           | 41           | 23.88889     |  5.000000    |\n",
       "| 103 | USS0005J42S  | NIWOT, CO US | 2017-07-10   | 0.0          | 75           | 44           | 23.88889     |  6.666667    |\n",
       "| 104 | USS0005J42S  | NIWOT, CO US | 2017-07-11   | 0.0          | 75           | 52           | 23.88889     | 11.111111    |\n",
       "| 105 | USS0005J42S  | NIWOT, CO US | 2017-07-12   | 0.1          | 54           | 43           | 12.22222     |  6.111111    |\n",
       "| 106 | USS0005J42S  | NIWOT, CO US | 2017-07-13   | 0.0          | 69           | 41           | 20.55556     |  5.000000    |\n",
       "| 107 | USS0005J42S  | NIWOT, CO US | 2017-07-14   | 0.0          | 69           | 40           | 20.55556     |  4.444444    |\n",
       "| 108 | USS0005J42S  | NIWOT, CO US | 2017-07-15   | 0.0          | 68           | 42           | 20.00000     |  5.555556    |\n",
       "| 109 | USS0005J42S  | NIWOT, CO US | 2017-07-16   | 0.0          | 71           | 39           | 21.66667     |  3.888889    |\n",
       "| 110 | USS0005J42S  | NIWOT, CO US | 2017-07-17   | 0.0          | 74           | 47           | 23.33333     |  8.333333    |\n",
       "| 111 | USS0005J42S  | NIWOT, CO US | 2017-07-18   | 0.0          | 71           | 46           | 21.66667     |  7.777778    |\n",
       "| 112 | USS0005J42S  | NIWOT, CO US | 2017-07-19   | 0.0          | 80           | 46           | 26.66667     |  7.777778    |\n",
       "| 113 | USS0005J42S  | NIWOT, CO US | 2017-07-20   | 0.0          | 75           | 47           | 23.88889     |  8.333333    |\n",
       "| 114 | USS0005J42S  | NIWOT, CO US | 2017-07-21   | 0.2          | 74           | 48           | 23.33333     |  8.888889    |\n",
       "| 115 | USS0005J42S  | NIWOT, CO US | 2017-07-22   | 0.2          | 66           | 44           | 18.88889     |  6.666667    |\n",
       "| 116 | USS0005J42S  | NIWOT, CO US | 2017-07-23   | 0.2          | 66           | 41           | 18.88889     |  5.000000    |\n",
       "| 117 | USS0005J42S  | NIWOT, CO US | 2017-07-24   | 0.1          | 74           | 47           | 23.33333     |  8.333333    |\n",
       "| 118 | USS0005J42S  | NIWOT, CO US | 2017-07-25   | 0.2          | 70           | 47           | 21.11111     |  8.333333    |\n",
       "| 119 | USS0005J42S  | NIWOT, CO US | 2017-07-26   | 0.3          | 64           | 46           | 17.77778     |  7.777778    |\n",
       "| 120 | USS0005J42S  | NIWOT, CO US | 2017-07-27   | 0.0          | 65           | 44           | 18.33333     |  6.666667    |\n",
       "| 121 | USS0005J42S  | NIWOT, CO US | 2017-07-28   | 0.1          | 71           | 46           | 21.66667     |  7.777778    |\n",
       "| 122 | USS0005J42S  | NIWOT, CO US | 2017-07-29   | 0.2          | 58           | 48           | 14.44444     |  8.888889    |\n",
       "| 123 | USS0005J42S  | NIWOT, CO US | 2017-07-30   | 0.2          | 62           | 41           | 16.66667     |  5.000000    |\n",
       "| 124 | USS0005J42S  | NIWOT, CO US | 2017-07-31   | 0.0          | 66           | 39           | 18.88889     |  3.888889    |\n",
       "\n"
      ],
      "text/plain": [
       "    STATION     NAME         DATE       PRCP TMAX TMIN TMAX_C   TMIN_C   \n",
       "94  USS0005J42S NIWOT, CO US 2017-07-01 0.0  69   32   20.55556  0.000000\n",
       "95  USS0005J42S NIWOT, CO US 2017-07-02 0.0  73   37   22.77778  2.777778\n",
       "96  USS0005J42S NIWOT, CO US 2017-07-03 0.0  68   47   20.00000  8.333333\n",
       "97  USS0005J42S NIWOT, CO US 2017-07-04 0.1  70   41   21.11111  5.000000\n",
       "98  USS0005J42S NIWOT, CO US 2017-07-05 0.0  74   40   23.33333  4.444444\n",
       "99  USS0005J42S NIWOT, CO US 2017-07-06 0.0  78   47   25.55556  8.333333\n",
       "100 USS0005J42S NIWOT, CO US 2017-07-07 0.0  74   44   23.33333  6.666667\n",
       "101 USS0005J42S NIWOT, CO US 2017-07-08 0.0  67   43   19.44444  6.111111\n",
       "102 USS0005J42S NIWOT, CO US 2017-07-09 0.0  75   41   23.88889  5.000000\n",
       "103 USS0005J42S NIWOT, CO US 2017-07-10 0.0  75   44   23.88889  6.666667\n",
       "104 USS0005J42S NIWOT, CO US 2017-07-11 0.0  75   52   23.88889 11.111111\n",
       "105 USS0005J42S NIWOT, CO US 2017-07-12 0.1  54   43   12.22222  6.111111\n",
       "106 USS0005J42S NIWOT, CO US 2017-07-13 0.0  69   41   20.55556  5.000000\n",
       "107 USS0005J42S NIWOT, CO US 2017-07-14 0.0  69   40   20.55556  4.444444\n",
       "108 USS0005J42S NIWOT, CO US 2017-07-15 0.0  68   42   20.00000  5.555556\n",
       "109 USS0005J42S NIWOT, CO US 2017-07-16 0.0  71   39   21.66667  3.888889\n",
       "110 USS0005J42S NIWOT, CO US 2017-07-17 0.0  74   47   23.33333  8.333333\n",
       "111 USS0005J42S NIWOT, CO US 2017-07-18 0.0  71   46   21.66667  7.777778\n",
       "112 USS0005J42S NIWOT, CO US 2017-07-19 0.0  80   46   26.66667  7.777778\n",
       "113 USS0005J42S NIWOT, CO US 2017-07-20 0.0  75   47   23.88889  8.333333\n",
       "114 USS0005J42S NIWOT, CO US 2017-07-21 0.2  74   48   23.33333  8.888889\n",
       "115 USS0005J42S NIWOT, CO US 2017-07-22 0.2  66   44   18.88889  6.666667\n",
       "116 USS0005J42S NIWOT, CO US 2017-07-23 0.2  66   41   18.88889  5.000000\n",
       "117 USS0005J42S NIWOT, CO US 2017-07-24 0.1  74   47   23.33333  8.333333\n",
       "118 USS0005J42S NIWOT, CO US 2017-07-25 0.2  70   47   21.11111  8.333333\n",
       "119 USS0005J42S NIWOT, CO US 2017-07-26 0.3  64   46   17.77778  7.777778\n",
       "120 USS0005J42S NIWOT, CO US 2017-07-27 0.0  65   44   18.33333  6.666667\n",
       "121 USS0005J42S NIWOT, CO US 2017-07-28 0.1  71   46   21.66667  7.777778\n",
       "122 USS0005J42S NIWOT, CO US 2017-07-29 0.2  58   48   14.44444  8.888889\n",
       "123 USS0005J42S NIWOT, CO US 2017-07-30 0.2  62   41   16.66667  5.000000\n",
       "124 USS0005J42S NIWOT, CO US 2017-07-31 0.0  66   39   18.88889  3.888889"
      ]
     },
     "metadata": {},
     "output_type": "display_data"
    }
   ],
   "source": [
    "# 11) Code Here\n",
    "# This is the code for adding new columns\n",
    "dfNiwot$TMAX_C = (5/9) * (dfNiwot$TMAX - 32)\n",
    "dfNiwot$TMIN_C = (5/9) * (dfNiwot$TMIN - 32)\n",
    "dfNiwot"
   ]
  },
  {
   "cell_type": "markdown",
   "id": "b3147fb2-f5ba-4161-8b2a-6205fcc39559",
   "metadata": {},
   "source": [
    "Based on the stuff we proved in **Exercise 4**, what do you expect the mean and the standard deviation of the daily maximum temperature to be in Celsius? "
   ]
  },
  {
   "cell_type": "code",
   "execution_count": 48,
   "id": "f5c0133e-2b9b-4ae2-b449-474f39cd29c7",
   "metadata": {},
   "outputs": [
    {
     "name": "stdout",
     "output_type": "stream",
     "text": [
      "Guess for the mean TMAX in Celsius:  21.02151Original mean for TMAX in Celcius:  21.02151"
     ]
    }
   ],
   "source": [
    "cat(\"Guess for the mean TMAX in Celsius: \",(5/9)*mean(dfNiwot$TMAX-32))\n",
    "## print(\"\\n\")\n",
    "cat(\"Original mean for TMAX in Celcius: \",mean(dfNiwot$TMAX_C))"
   ]
  },
  {
   "cell_type": "markdown",
   "id": "c90b96f7-b6bf-4527-a732-338ed4ac20c1",
   "metadata": {},
   "source": [
    "Once you've made your guess, see if you're right by applying the mean( ) and sd( ) methods to **TMAX_C** and **TMIN_C**. "
   ]
  },
  {
   "cell_type": "code",
   "execution_count": null,
   "id": "e6d68cfa-9423-4d1e-9ee5-d7cdd909afef",
   "metadata": {},
   "outputs": [],
   "source": []
  },
  {
   "cell_type": "markdown",
   "id": "5f704ad0-e2e6-4400-adad-697a55457dd3",
   "metadata": {},
   "source": [
    "### Exercise 6 \n",
    "***\n",
    "\n",
    "Compute the daily temperature range (max minus min) for each row in the Niwot DataFrame and store it in a column called **TDIFF**.  Then answer these questions.  \n",
    "\n",
    "- What is the mean temperature difference over the month of July? \n",
    "- What is the difference between the means of the max and min daily temperatures? \n",
    "- Do you see a relationship between these two quantities?  If so, can you prove that it's always the case for mean difference and difference of means? "
   ]
  },
  {
   "cell_type": "code",
   "execution_count": 13,
   "id": "41f16267-d79e-4b6e-bf25-d38a758dab53",
   "metadata": {},
   "outputs": [],
   "source": [
    "# 12) Code Here"
   ]
  },
  {
   "cell_type": "markdown",
   "id": "31d454a0-b851-4499-8370-41435df6c95b",
   "metadata": {},
   "source": [
    "To calculate the mean temperature difference, we need to get the mean of the **TDIFF** column we just created:"
   ]
  },
  {
   "cell_type": "code",
   "execution_count": 14,
   "id": "5a343eeb-89ef-4943-b443-8d6c858bd4e6",
   "metadata": {},
   "outputs": [],
   "source": [
    "# 13) Code Here"
   ]
  },
  {
   "cell_type": "markdown",
   "id": "8cf25860-7c50-4ace-9727-7ab4f5ee8856",
   "metadata": {},
   "source": [
    "The difference between the means of the max and min temperatures is:"
   ]
  },
  {
   "cell_type": "code",
   "execution_count": 52,
   "id": "660f6df7-4b95-40d6-9270-b51ba5028400",
   "metadata": {},
   "outputs": [
    {
     "name": "stdout",
     "output_type": "stream",
     "text": [
      "The diff of the means is  26.29032"
     ]
    }
   ],
   "source": [
    "diff_means = mean(dfNiwot$TMAX)-mean(dfNiwot$TMIN)\n",
    "cat(\"The diff of the means is \", diff_means)"
   ]
  },
  {
   "cell_type": "markdown",
   "id": "9952c921-5e19-4707-9130-d231205cbf74",
   "metadata": {},
   "source": [
    "It looks like they're the same! Can we show mathematically that this is true in general? "
   ]
  },
  {
   "cell_type": "markdown",
   "id": "a0912344-432b-4270-933f-93e1fd7715f9",
   "metadata": {},
   "source": []
  },
  {
   "cell_type": "code",
   "execution_count": null,
   "id": "f9b01191-f920-4587-a1c9-ef52e31267e3",
   "metadata": {},
   "outputs": [],
   "source": []
  }
 ],
 "metadata": {
  "kernelspec": {
   "display_name": "Python 3 (ipykernel)",
   "language": "python",
   "name": "python3"
  },
  "language_info": {
   "codemirror_mode": {
    "name": "ipython",
    "version": 3
   },
   "file_extension": ".py",
   "mimetype": "text/x-python",
   "name": "python",
   "nbconvert_exporter": "python",
   "pygments_lexer": "ipython3",
   "version": "3.12.4"
  }
 },
 "nbformat": 4,
 "nbformat_minor": 5
}

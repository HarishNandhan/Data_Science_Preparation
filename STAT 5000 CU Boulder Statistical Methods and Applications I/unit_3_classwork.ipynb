{
 "cells": [
  {
   "cell_type": "markdown",
   "metadata": {
    "nbgrader": {
     "cell_type": "markdown",
     "checksum": "4b2d2dc37062f8d7d6723a7b0d1ec679",
     "grade": false,
     "grade_id": "cell-e0d1f28bb04be6d2",
     "locked": true,
     "schema_version": 3,
     "solution": false,
     "task": false
    }
   },
   "source": [
    "# Unit 3 Classwork\n",
    "\n",
    "The goals of this assignment are to help you (1) calculate expectations of random variables using R, (2) simulate probabilistic processes, and (3) estimate probabilities and other quantities through numerical (computer) simulation. Such simulations can be useful. We can use simulations to help confirm that we've calculated a probability \"by hand\" correctly, or to estimate other quantities, like areas/integrals!"
   ]
  },
  {
   "cell_type": "markdown",
   "metadata": {
    "nbgrader": {
     "cell_type": "markdown",
     "checksum": "fbea7d0d93c16fe2efe06f7cc50ed908",
     "grade": false,
     "grade_id": "cell-0d531a8b23868a1c",
     "locked": true,
     "schema_version": 3,
     "solution": false,
     "task": false
    }
   },
   "source": [
    "## Problem #1\n",
    "\n",
    "**1.(a) Write a function to calculate the expected value of a binomial random variable, using the definition of expectation. In other words, if $X \\sim \\text{Bin}(n, p)$, your function should take $n$ and $p$ as inputs, and return $E[X]$.**\n",
    "\n"
   ]
  },
  {
   "cell_type": "code",
   "execution_count": 5,
   "metadata": {
    "nbgrader": {
     "cell_type": "code",
     "checksum": "9dc3d054c3e727f801afd14afb391c6f",
     "grade": true,
     "grade_id": "cell-bf2111bcfe1bab51",
     "locked": false,
     "points": 2,
     "schema_version": 3,
     "solution": true,
     "task": false
    },
    "vscode": {
     "languageId": "r"
    }
   },
   "outputs": [
    {
     "data": {
      "text/html": [
       "90"
      ],
      "text/latex": [
       "90"
      ],
      "text/markdown": [
       "90"
      ],
      "text/plain": [
       "[1] 90"
      ]
     },
     "metadata": {},
     "output_type": "display_data"
    }
   ],
   "source": [
    "bin_exp = function(n,p){\n",
    "    x = 0:n\n",
    "    expectation = sum(x*dbinom(x,n,p))\n",
    "    return(expectation)\n",
    "}\n",
    "\n",
    "bin_exp(100,0.9)"
   ]
  },
  {
   "cell_type": "markdown",
   "metadata": {
    "nbgrader": {
     "cell_type": "markdown",
     "checksum": "8acdb14c00d6ae2aa6ec2a2aac18f39e",
     "grade": false,
     "grade_id": "cell-44f4eda3281f811d",
     "locked": true,
     "schema_version": 3,
     "solution": false,
     "task": false
    }
   },
   "source": [
    "**1.(b) Store $m = 10,000$ binomial random numbers in a vector `x`. Each entry of `x` should represent the number of heads in $50$ flips of a biased coin (where $P(\\text{Heads}) = 0.75$).**"
   ]
  },
  {
   "cell_type": "code",
   "execution_count": 6,
   "metadata": {
    "nbgrader": {
     "cell_type": "code",
     "checksum": "940b53dfe9607184d1cc9463728a4cb8",
     "grade": true,
     "grade_id": "cell-c258123b13c3173b",
     "locked": false,
     "points": 2,
     "schema_version": 3,
     "solution": true,
     "task": false
    },
    "vscode": {
     "languageId": "r"
    }
   },
   "outputs": [
    {
     "data": {
      "text/html": [
       "<ol class=list-inline>\n",
       "\t<li>35</li>\n",
       "\t<li>38</li>\n",
       "\t<li>38</li>\n",
       "\t<li>38</li>\n",
       "\t<li>40</li>\n",
       "\t<li>29</li>\n",
       "\t<li>34</li>\n",
       "\t<li>40</li>\n",
       "\t<li>36</li>\n",
       "\t<li>40</li>\n",
       "\t<li>32</li>\n",
       "\t<li>37</li>\n",
       "\t<li>39</li>\n",
       "\t<li>40</li>\n",
       "\t<li>36</li>\n",
       "\t<li>41</li>\n",
       "\t<li>35</li>\n",
       "\t<li>34</li>\n",
       "\t<li>40</li>\n",
       "\t<li>37</li>\n",
       "</ol>\n"
      ],
      "text/latex": [
       "\\begin{enumerate*}\n",
       "\\item 35\n",
       "\\item 38\n",
       "\\item 38\n",
       "\\item 38\n",
       "\\item 40\n",
       "\\item 29\n",
       "\\item 34\n",
       "\\item 40\n",
       "\\item 36\n",
       "\\item 40\n",
       "\\item 32\n",
       "\\item 37\n",
       "\\item 39\n",
       "\\item 40\n",
       "\\item 36\n",
       "\\item 41\n",
       "\\item 35\n",
       "\\item 34\n",
       "\\item 40\n",
       "\\item 37\n",
       "\\end{enumerate*}\n"
      ],
      "text/markdown": [
       "1. 35\n",
       "2. 38\n",
       "3. 38\n",
       "4. 38\n",
       "5. 40\n",
       "6. 29\n",
       "7. 34\n",
       "8. 40\n",
       "9. 36\n",
       "10. 40\n",
       "11. 32\n",
       "12. 37\n",
       "13. 39\n",
       "14. 40\n",
       "15. 36\n",
       "16. 41\n",
       "17. 35\n",
       "18. 34\n",
       "19. 40\n",
       "20. 37\n",
       "\n",
       "\n"
      ],
      "text/plain": [
       " [1] 35 38 38 38 40 29 34 40 36 40 32 37 39 40 36 41 35 34 40 37"
      ]
     },
     "metadata": {},
     "output_type": "display_data"
    }
   ],
   "source": [
    "n =  50\n",
    "p = 0.75\n",
    "m = 10000\n",
    "\n",
    "x = rbinom(m,n,p)\n",
    "head(x,20)"
   ]
  },
  {
   "cell_type": "markdown",
   "metadata": {
    "nbgrader": {
     "cell_type": "markdown",
     "checksum": "2951ed52715414ac4ceec869688a55e8",
     "grade": false,
     "grade_id": "cell-83f8ea783c675c0c",
     "locked": true,
     "schema_version": 3,
     "solution": false,
     "task": false
    }
   },
   "source": [
    "**(c) Calculate the (sample) mean of `x`. Then, use the formula for the mean of a binomial, and the function above, to calculuate the mean of the random variable $X$, where $X$ counts the number of tails in 50 flips of a biased coin (again, $P(\\text{Heads}) = 0.75$). What do you notice? Do these answers match?**"
   ]
  },
  {
   "cell_type": "code",
   "execution_count": 7,
   "metadata": {
    "nbgrader": {
     "cell_type": "code",
     "checksum": "36f27e2c59e74d00b314cebb4f834de2",
     "grade": true,
     "grade_id": "cell-68356bed0321af9a",
     "locked": false,
     "points": 1,
     "schema_version": 3,
     "solution": true,
     "task": false
    },
    "vscode": {
     "languageId": "r"
    }
   },
   "outputs": [
    {
     "data": {
      "text/html": [
       "37.4907"
      ],
      "text/latex": [
       "37.4907"
      ],
      "text/markdown": [
       "37.4907"
      ],
      "text/plain": [
       "[1] 37.4907"
      ]
     },
     "metadata": {},
     "output_type": "display_data"
    },
    {
     "data": {
      "text/html": [
       "37.5"
      ],
      "text/latex": [
       "37.5"
      ],
      "text/markdown": [
       "37.5"
      ],
      "text/plain": [
       "[1] 37.5"
      ]
     },
     "metadata": {},
     "output_type": "display_data"
    },
    {
     "data": {
      "text/html": [
       "37.5"
      ],
      "text/latex": [
       "37.5"
      ],
      "text/markdown": [
       "37.5"
      ],
      "text/plain": [
       "[1] 37.5"
      ]
     },
     "metadata": {},
     "output_type": "display_data"
    }
   ],
   "source": [
    "# computing the sample mean\n",
    "mean(x)\n",
    "\n",
    "#computing n*p\n",
    "n*p\n",
    "\n",
    "# use the function we wrote in part A\n",
    "bin_exp(n,p)"
   ]
  },
  {
   "cell_type": "markdown",
   "metadata": {},
   "source": [
    "The formula $E[X] = n \\cdot p$ and the function `bin_exp()` both yield the same value, since the latter can compute this value very accurately given that $X$ is a discrete random variable. However, the sample mean is slightly different, since it comes from a random sampling of $X$."
   ]
  },
  {
   "cell_type": "markdown",
   "metadata": {
    "nbgrader": {
     "cell_type": "markdown",
     "checksum": "10de7b21cba704915779cd86e7c22c44",
     "grade": false,
     "grade_id": "cell-1e37676823b6830a",
     "locked": true,
     "schema_version": 3,
     "solution": false,
     "task": false
    }
   },
   "source": [
    "## Problem #2 \n",
    "\n",
    "**2.(a) First, write a function to calculate the expected value of an exponential random variable for an arbitrary $\\lambda$. Then, use it to compute the expected value $E[X]$, where $X \\sim \\text{Exp}(1/4)$. Hint: first make a function `integrand()` which takes a vector `x` and `lambda` as arguments, and then pass it to the `integrate()` function in `R`.**"
   ]
  },
  {
   "cell_type": "code",
   "execution_count": 7,
   "metadata": {
    "nbgrader": {
     "cell_type": "code",
     "checksum": "474c02eb99366f544fe44bc9216d73b2",
     "grade": true,
     "grade_id": "cell-e0905a3aa915ca0f",
     "locked": false,
     "points": 1,
     "schema_version": 3,
     "solution": true,
     "task": false
    },
    "vscode": {
     "languageId": "r"
    }
   },
   "outputs": [
    {
     "data": {
      "text/plain": [
       "4 with absolute error < 1.2e-05"
      ]
     },
     "metadata": {},
     "output_type": "display_data"
    }
   ],
   "source": [
    "integrand = function(x,lambda){\n",
    "    fx = x*dexp(x,lambda)\n",
    "    return(fx)\n",
    "}\n",
    "\n",
    "exp_exp = function(l){\n",
    "    I = integrate(integrand, lower = 0, upper = Inf, lambda = l)\n",
    "    return(I)\n",
    "}\n",
    "\n",
    "exp_exp(1/4)"
   ]
  },
  {
   "cell_type": "markdown",
   "metadata": {
    "nbgrader": {
     "cell_type": "markdown",
     "checksum": "194088912b5591c7f542ac91bb928b2a",
     "grade": false,
     "grade_id": "cell-2f0892e70c275690",
     "locked": true,
     "schema_version": 3,
     "solution": false,
     "task": false
    }
   },
   "source": [
    "**2.(b) Consider the PDF $f(x) = \\frac{3}{2}(1-x^2)$ on $0 \\le x \\le 1$ (zero elsewhere). Suppose that $f(x)$ is the PDF for a random variable $X$. Find $E[X^3]$.** (*Note*: you may do this in `R` using the integrate function, or by hand)."
   ]
  },
  {
   "cell_type": "code",
   "execution_count": 8,
   "metadata": {
    "nbgrader": {
     "cell_type": "code",
     "checksum": "684975b5aa4218ef6a99ccb0b429625c",
     "grade": true,
     "grade_id": "cell-5a36d8a47db2491f",
     "locked": false,
     "points": 2,
     "schema_version": 3,
     "solution": true,
     "task": false
    },
    "vscode": {
     "languageId": "r"
    }
   },
   "outputs": [
    {
     "data": {
      "text/plain": [
       "0.125 with absolute error < 1.4e-15"
      ]
     },
     "metadata": {},
     "output_type": "display_data"
    }
   ],
   "source": [
    "m = 100\n",
    "x = seq(0,1,length.out = m)\n",
    "\n",
    "f = function(x){\n",
    "    f = x^3 * 3/2 * (1-x^2)\n",
    "    return(f)\n",
    "}\n",
    "integrate(f,0,1)"
   ]
  },
  {
   "cell_type": "markdown",
   "metadata": {
    "nbgrader": {
     "cell_type": "markdown",
     "checksum": "501781719fad600927935bc5ab03a4e5",
     "grade": false,
     "grade_id": "cell-9ee9f704dd1e2a22",
     "locked": true,
     "schema_version": 3,
     "solution": false,
     "task": false
    }
   },
   "source": [
    "**2.(c) Estimate $E[X^3]$ using Monte Carlo integration. How could you get a better estimate?**"
   ]
  },
  {
   "cell_type": "code",
   "execution_count": 9,
   "metadata": {
    "nbgrader": {
     "cell_type": "code",
     "checksum": "f0ed6b1ddfe0042c7b3bb6ac6eb9929b",
     "grade": true,
     "grade_id": "cell-a97aa1b2b198e404",
     "locked": false,
     "points": 2,
     "schema_version": 3,
     "solution": true,
     "task": false
    },
    "vscode": {
     "languageId": "r"
    }
   },
   "outputs": [
    {
     "data": {
      "text/html": [
       "0.12726"
      ],
      "text/latex": [
       "0.12726"
      ],
      "text/markdown": [
       "0.12726"
      ],
      "text/plain": [
       "[1] 0.12726"
      ]
     },
     "metadata": {},
     "output_type": "display_data"
    }
   ],
   "source": [
    "m = 50000\n",
    "x = runif(m,0,1)\n",
    "y = runif(m,0,1)\n",
    "\n",
    "below = sum(y<f(x))/m\n",
    "below"
   ]
  },
  {
   "cell_type": "markdown",
   "metadata": {
    "nbgrader": {
     "cell_type": "markdown",
     "checksum": "2b59fafb14bfeaf927606030252b54c3",
     "grade": false,
     "grade_id": "cell-833cd507db801709",
     "locked": true,
     "schema_version": 3,
     "solution": false,
     "task": false
    }
   },
   "source": [
    "## Problem #3\n",
    "\n",
    "In class, we emphasized that variables can be uncorrelated but dependent. Let's look at an example of this.\n",
    "\n",
    "**3.(a) Generate $n = 5000$ random variables from a $\\text{Unif}(-1,1)$ distribution. Store these values in `x`. Then, create a variable `y` such that $y = x^2$. Plot `x` and `y` and compute the (sample) correlation coefficient using `cor()`. What do you notice?**"
   ]
  },
  {
   "cell_type": "code",
   "execution_count": 11,
   "metadata": {
    "nbgrader": {
     "cell_type": "code",
     "checksum": "7aceea4c208ac1e2473a4d3a64a990ad",
     "grade": true,
     "grade_id": "cell-186e43ab4551a21b",
     "locked": false,
     "points": 0,
     "schema_version": 3,
     "solution": true,
     "task": false
    },
    "vscode": {
     "languageId": "r"
    }
   },
   "outputs": [
    {
     "data": {
      "text/html": [
       "0.0136716856667969"
      ],
      "text/latex": [
       "0.0136716856667969"
      ],
      "text/markdown": [
       "0.0136716856667969"
      ],
      "text/plain": [
       "[1] 0.01367169"
      ]
     },
     "metadata": {},
     "output_type": "display_data"
    },
    {
     "data": {
      "image/png": "[encoded data removed]",
      "text/plain": [
       "Plot with title \"Plot of X and Y\""
      ]
     },
     "metadata": {},
     "output_type": "display_data"
    }
   ],
   "source": [
    "set.seed(27)\n",
    "n = 5000\n",
    "x = runif(n,-1,1)\n",
    "y = x^2\n",
    "plot(x,y,main=\"Plot of X and Y\")\n",
    "corr_coef = cor(x,y)\n",
    "corr_coef"
   ]
  },
  {
   "cell_type": "markdown",
   "metadata": {},
   "source": [
    "The y = x^2 function makes all values positive and it will create a parabola out of it. The correlation coefficient here will be close to 0 and it indicates that there won't be any linear relationship between x and y so there won't be any correlation here."
   ]
  },
  {
   "cell_type": "markdown",
   "metadata": {
    "nbgrader": {
     "cell_type": "markdown",
     "checksum": "68cde6c37fe314343a88bae4e03fd4b2",
     "grade": false,
     "grade_id": "cell-aadb59191727ae1e",
     "locked": true,
     "schema_version": 3,
     "solution": false,
     "task": false
    }
   },
   "source": [
    "**3.(b) Now add various degrees of \"noise\" to `y`, by adding random normal numbers to the `y` equation. Use `rnorm(n,0,b)`, where `b` is set to values like `0.01`, `0.1`, and `1`. What do you notice about the plot and corresponding correlation coefficient?**"
   ]
  },
  {
   "cell_type": "code",
   "execution_count": 12,
   "metadata": {
    "nbgrader": {
     "cell_type": "code",
     "checksum": "ab681610643b7cac6cfe508e860d2909",
     "grade": true,
     "grade_id": "cell-0496972f3200ce25",
     "locked": false,
     "points": 0,
     "schema_version": 3,
     "solution": true,
     "task": false
    },
    "vscode": {
     "languageId": "r"
    }
   },
   "outputs": [
    {
     "data": {
      "text/html": [
       "0.0132122773687015"
      ],
      "text/latex": [
       "0.0132122773687015"
      ],
      "text/markdown": [
       "0.0132122773687015"
      ],
      "text/plain": [
       "[1] 0.01321228"
      ]
     },
     "metadata": {},
     "output_type": "display_data"
    },
    {
     "data": {
      "image/png": "[encoded data removed]",
      "text/plain": [
       "Plot with title \"Plot of X and Y\""
      ]
     },
     "metadata": {},
     "output_type": "display_data"
    }
   ],
   "source": [
    "set.seed(27)\n",
    "n = 5000 \n",
    "x = runif(n,-1,1)\n",
    "y = x^2 + rnorm(n,0,0.01)\n",
    "plot(x,y,main=\"Plot of X and Y\")\n",
    "corr_coef = cor(x,y)\n",
    "corr_coef"
   ]
  },
  {
   "cell_type": "code",
   "execution_count": 13,
   "metadata": {
    "nbgrader": {
     "cell_type": "code",
     "checksum": "9f556b4326b3666cb3791ed1cd5d50de",
     "grade": true,
     "grade_id": "cell-506be8983beafca1",
     "locked": false,
     "points": 0,
     "schema_version": 3,
     "solution": true,
     "task": false
    },
    "vscode": {
     "languageId": "r"
    }
   },
   "outputs": [
    {
     "data": {
      "text/html": [
       "0.0086651096739208"
      ],
      "text/latex": [
       "0.0086651096739208"
      ],
      "text/markdown": [
       "0.0086651096739208"
      ],
      "text/plain": [
       "[1] 0.00866511"
      ]
     },
     "metadata": {},
     "output_type": "display_data"
    },
    {
     "data": {
      "image/png": "[encoded data removed]",
      "text/plain": [
       "Plot with title \"Plot of X and Y\""
      ]
     },
     "metadata": {},
     "output_type": "display_data"
    }
   ],
   "source": [
    "set.seed(27)\n",
    "n = 5000 \n",
    "x = runif(n,-1,1)\n",
    "y = x^2 + rnorm(n,0,0.1)\n",
    "plot(x,y,main=\"Plot of X and Y\")\n",
    "corr_coef = cor(x,y)\n",
    "corr_coef"
   ]
  },
  {
   "cell_type": "code",
   "execution_count": 14,
   "metadata": {
    "nbgrader": {
     "cell_type": "code",
     "checksum": "9da4aa02ba785f12863945d85d5870e7",
     "grade": true,
     "grade_id": "cell-d6bf93abc7fc6c26",
     "locked": false,
     "points": 0,
     "schema_version": 3,
     "solution": true,
     "task": false
    },
    "vscode": {
     "languageId": "r"
    }
   },
   "outputs": [
    {
     "data": {
      "text/html": [
       "-0.00893948663629421"
      ],
      "text/latex": [
       "-0.00893948663629421"
      ],
      "text/markdown": [
       "-0.00893948663629421"
      ],
      "text/plain": [
       "[1] -0.008939487"
      ]
     },
     "metadata": {},
     "output_type": "display_data"
    },
    {
     "data": {
      "image/png": "[encoded data removed]",
      "text/plain": [
       "Plot with title \"Plot of X and Y\""
      ]
     },
     "metadata": {},
     "output_type": "display_data"
    }
   ],
   "source": [
    "set.seed(27)\n",
    "n = 5000 \n",
    "x = runif(n,-1,1)\n",
    "y = x^2 + rnorm(n,0,1)\n",
    "plot(x,y,main=\"Plot of X and Y\")\n",
    "corr_coef = cor(x,y)\n",
    "corr_coef"
   ]
  },
  {
   "cell_type": "markdown",
   "metadata": {},
   "source": [
    "1. By adding the noise of '0.01' the pure parabolic curve become spoiled slightly, with very few points come out of the curve, the correlation coefficient is very close to 0 and the linear relationship b/w x and y is very weak.\n",
    "2. In case of the noise '0.1' the parabolic curve is slightly visible but the points are scattered the spread of points are more around the curve. The linear correlation didn't improved but it's slightly reduced after increasing the noise and there isn't any linear relationship exists b/w x and y.\n",
    "3. In case of the noise '1' the parabolic curve is no longer visible and only the scattered points at different parts of the plot is visible. The correlation coefficient turned negative but closer to '0' and it indicates that there is no relationship between the x and y even if we add up subsequent noise into it."
   ]
  },
  {
   "cell_type": "code",
   "execution_count": null,
   "metadata": {},
   "outputs": [],
   "source": []
  }
 ],
 "metadata": {
  "kernelspec": {
   "display_name": "Python 3 (ipykernel)",
   "language": "python",
   "name": "python3"
  },
  "language_info": {
   "codemirror_mode": {
    "name": "ipython",
    "version": 3
   },
   "file_extension": ".py",
   "mimetype": "text/x-python",
   "name": "python",
   "nbconvert_exporter": "python",
   "pygments_lexer": "ipython3",
   "version": "3.12.4"
  }
 },
 "nbformat": 4,
 "nbformat_minor": 4
}

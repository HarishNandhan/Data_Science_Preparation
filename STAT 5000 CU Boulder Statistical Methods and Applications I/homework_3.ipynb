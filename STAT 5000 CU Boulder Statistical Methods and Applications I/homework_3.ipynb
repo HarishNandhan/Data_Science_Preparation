{
 "cells": [
  {
   "cell_type": "markdown",
   "metadata": {
    "id": "BgJMy-Po9eH-",
    "nbgrader": {
     "cell_type": "markdown",
     "checksum": "777c8d326aba73d50ec00a04afd0d59d",
     "grade": false,
     "grade_id": "cell-506044151ea0ea95",
     "locked": true,
     "schema_version": 3,
     "solution": false,
     "task": false
    }
   },
   "source": [
    "# Homework #3\n",
    "\n",
    "**See Canvas for HW #3 assignment due date**. Complete all of the following problems. Ideally, the theoretical problems should be answered in a Markdown cell directly underneath the question. If you don't know LaTex/Markdown, you may submit separate handwritten solutions to the theoretical problems, but please see the class scanning policy. Please do not turn in messy work. Computational problems should be completed in this notebook (using the `R` kernel). Computational questions may require code, plots, analysis, interpretation, etc. Working in small groups is allowed, but it is important that you make an effort to master the material and hand in your own work."
   ]
  },
  {
   "cell_type": "markdown",
   "metadata": {
    "id": "Vpxs_7xzuHD8",
    "nbgrader": {
     "cell_type": "markdown",
     "checksum": "889b7205d3b70ef0d561cf6199d4a771",
     "grade": false,
     "grade_id": "cell-690073cfc39a9520",
     "locked": true,
     "schema_version": 3,
     "solution": false,
     "task": false
    }
   },
   "source": [
    "## A. Theoretical Problems"
   ]
  },
  {
   "cell_type": "markdown",
   "metadata": {
    "nbgrader": {
     "cell_type": "markdown",
     "checksum": "51427d34b6c90d40c5e8bf9b7a77b9a9",
     "grade": false,
     "grade_id": "cell-65d6ccfd6b276f94",
     "locked": true,
     "schema_version": 3,
     "solution": false,
     "task": false
    }
   },
   "source": [
    "## A.1 Fraud detection\n",
    "\n",
    "Let $X$ be the leading digit of a randomly selected number from a large accounting ledger. So, for example, if we randomly draw the number $\\$20,695$, then $X = 2$. People who make up numbers to commit accounting fraud tend to give $X$ a (discrete) uniform distribution, i.e., $P(X = x) = \\frac 19$, for $x \\in \\{1,...,9\\}$. However, there is some empirical evidence that suggests that \"naturally occurring\" numbers (like numbers in a non-fraudulent accounting ledger) have leading digits that do not follow a uniform distribution. Instead, they follow a distribution defined by:\n",
    "\n",
    "\\begin{align*}\n",
    "f(x) = \\log_{10}\\bigg(\\frac{x+1}{x}\\bigg), \\,\\,\\,\\, x = 1,2,...,9.\n",
    "\\end{align*} \n",
    "\n",
    "\n",
    "**A.1(a) [10 points] Show that $f(x) = P(X = x)$ is, in fact, a probability mass function (you may use `R` to verify values, but give a proof).**"
   ]
  },
  {
   "cell_type": "markdown",
   "metadata": {
    "nbgrader": {
     "cell_type": "markdown",
     "checksum": "fd754de1d23af592538b2beba1d17b5e",
     "grade": true,
     "grade_id": "cell-f5bf027c328820eb",
     "locked": false,
     "points": 6,
     "schema_version": 3,
     "solution": true,
     "task": false
    }
   },
   "source": []
  },
  {
   "cell_type": "code",
   "execution_count": 29,
   "metadata": {
    "scrolled": true
   },
   "outputs": [
    {
     "data": {
      "text/html": [
       "1"
      ],
      "text/latex": [
       "1"
      ],
      "text/markdown": [
       "1"
      ],
      "text/plain": [
       "[1] 1"
      ]
     },
     "metadata": {},
     "output_type": "display_data"
    },
    {
     "name": "stdout",
     "output_type": "stream",
     "text": [
      "This function is a valid Probability mass function"
     ]
    }
   ],
   "source": [
    "f_x = function(x){\n",
    "    log10((x+1)/x)\n",
    "    }\n",
    "pmf_rand = 1:9\n",
    "pmf = f_x(pmf_rand)\n",
    "\n",
    "cdf = sum(pmf)\n",
    "cdf\n",
    "cat(\"This function is a valid Probability mass function\")"
   ]
  },
  {
   "cell_type": "markdown",
   "metadata": {
    "nbgrader": {
     "cell_type": "markdown",
     "checksum": "11a1d1d6139cfe82be6bce2ec0540eb1",
     "grade": false,
     "grade_id": "cell-8d08b6b592761633",
     "locked": true,
     "schema_version": 3,
     "solution": false,
     "task": false
    }
   },
   "source": [
    "**A.1(b) [6 points] Compute the individual probabilities for $x \\in \\{1,...,9\\}$, and compare them to the corresponding discrete uniform distribution (i.e., $P(X = x) = 1/9$). What do you notice?**"
   ]
  },
  {
   "cell_type": "markdown",
   "metadata": {},
   "source": [
    "On comparing the values of the individual probabilities of $P(X = x) = \\frac 19$, for $x \\in \\{1,...,9\\}$. and $P(X = x) = 1/9$, I notice that the values upto x = 3 is higher than the uniformly distributed values and after that the values decreases below the uniformly distributed value. And In this as the x value increases the pmf value decreases because of the log parameter. So the logarithmic distribution tends to give larger probability values to the smaller numbers and smaller values to larger numbers but in uniform distribution all the pmfs will have the same probability. "
   ]
  },
  {
   "cell_type": "code",
   "execution_count": 30,
   "metadata": {
    "nbgrader": {
     "cell_type": "markdown",
     "checksum": "07da676692a303504012f5a0f6c6c0ad",
     "grade": true,
     "grade_id": "cell-096db750d06a316f",
     "locked": false,
     "points": 5,
     "schema_version": 3,
     "solution": true,
     "task": false
    }
   },
   "outputs": [
    {
     "name": "stdout",
     "output_type": "stream",
     "text": [
      "PMF"
     ]
    },
    {
     "data": {
      "text/html": [
       "<ol class=list-inline>\n",
       "\t<li>0.301029995663981</li>\n",
       "\t<li>0.176091259055681</li>\n",
       "\t<li>0.1249387366083</li>\n",
       "\t<li>0.0969100130080564</li>\n",
       "\t<li>0.0791812460476248</li>\n",
       "\t<li>0.0669467896306132</li>\n",
       "\t<li>0.0579919469776867</li>\n",
       "\t<li>0.0511525224473813</li>\n",
       "\t<li>0.0457574905606751</li>\n",
       "</ol>\n"
      ],
      "text/latex": [
       "\\begin{enumerate*}\n",
       "\\item 0.301029995663981\n",
       "\\item 0.176091259055681\n",
       "\\item 0.1249387366083\n",
       "\\item 0.0969100130080564\n",
       "\\item 0.0791812460476248\n",
       "\\item 0.0669467896306132\n",
       "\\item 0.0579919469776867\n",
       "\\item 0.0511525224473813\n",
       "\\item 0.0457574905606751\n",
       "\\end{enumerate*}\n"
      ],
      "text/markdown": [
       "1. 0.301029995663981\n",
       "2. 0.176091259055681\n",
       "3. 0.1249387366083\n",
       "4. 0.0969100130080564\n",
       "5. 0.0791812460476248\n",
       "6. 0.0669467896306132\n",
       "7. 0.0579919469776867\n",
       "8. 0.0511525224473813\n",
       "9. 0.0457574905606751\n",
       "\n",
       "\n"
      ],
      "text/plain": [
       "[1] 0.30103000 0.17609126 0.12493874 0.09691001 0.07918125 0.06694679 0.05799195\n",
       "[8] 0.05115252 0.04575749"
      ]
     },
     "metadata": {},
     "output_type": "display_data"
    },
    {
     "data": {
      "text/html": [
       "'Uniform Distribution values'"
      ],
      "text/latex": [
       "'Uniform Distribution values'"
      ],
      "text/markdown": [
       "'Uniform Distribution values'"
      ],
      "text/plain": [
       "[1] \"Uniform Distribution values\""
      ]
     },
     "metadata": {},
     "output_type": "display_data"
    },
    {
     "data": {
      "text/html": [
       "<ol class=list-inline>\n",
       "\t<li>0.111111111111111</li>\n",
       "\t<li>0.111111111111111</li>\n",
       "\t<li>0.111111111111111</li>\n",
       "\t<li>0.111111111111111</li>\n",
       "\t<li>0.111111111111111</li>\n",
       "\t<li>0.111111111111111</li>\n",
       "\t<li>0.111111111111111</li>\n",
       "\t<li>0.111111111111111</li>\n",
       "\t<li>0.111111111111111</li>\n",
       "</ol>\n"
      ],
      "text/latex": [
       "\\begin{enumerate*}\n",
       "\\item 0.111111111111111\n",
       "\\item 0.111111111111111\n",
       "\\item 0.111111111111111\n",
       "\\item 0.111111111111111\n",
       "\\item 0.111111111111111\n",
       "\\item 0.111111111111111\n",
       "\\item 0.111111111111111\n",
       "\\item 0.111111111111111\n",
       "\\item 0.111111111111111\n",
       "\\end{enumerate*}\n"
      ],
      "text/markdown": [
       "1. 0.111111111111111\n",
       "2. 0.111111111111111\n",
       "3. 0.111111111111111\n",
       "4. 0.111111111111111\n",
       "5. 0.111111111111111\n",
       "6. 0.111111111111111\n",
       "7. 0.111111111111111\n",
       "8. 0.111111111111111\n",
       "9. 0.111111111111111\n",
       "\n",
       "\n"
      ],
      "text/plain": [
       "[1] 0.1111111 0.1111111 0.1111111 0.1111111 0.1111111 0.1111111 0.1111111\n",
       "[8] 0.1111111 0.1111111"
      ]
     },
     "metadata": {},
     "output_type": "display_data"
    }
   ],
   "source": [
    "f_x = function(x){\n",
    "    log10((x+1)/x)\n",
    "    }\n",
    "pmf_rand = 1:9\n",
    "pmf = f_x(pmf_rand)\n",
    "cat(\"PMF\")\n",
    "pmf\n",
    "\n",
    "(\"Uniform Distribution values\")\n",
    "uniform = rep(1/9,9)\n",
    "uniform"
   ]
  },
  {
   "cell_type": "markdown",
   "metadata": {
    "nbgrader": {
     "cell_type": "markdown",
     "checksum": "a7309e6a1b96c2a2e6ceb8851eb72a8c",
     "grade": false,
     "grade_id": "cell-4a391cbb2f664c13",
     "locked": true,
     "schema_version": 3,
     "solution": false,
     "task": false
    }
   },
   "source": [
    "**A.1(c) [10 points] Obtain a formula for the cumulative distribution function (CDF) of $X$ (your formula should not have sigma notation).**"
   ]
  },
  {
   "cell_type": "markdown",
   "metadata": {},
   "source": []
  },
  {
   "cell_type": "markdown",
   "metadata": {
    "nbgrader": {
     "cell_type": "markdown",
     "checksum": "859995887a6ceaed19b0f048c79ebf26",
     "grade": false,
     "grade_id": "cell-cf6cefcaae961c7d",
     "locked": true,
     "schema_version": 3,
     "solution": false,
     "task": false
    }
   },
   "source": [
    "**A.1(d) [6 points] Using the CDF, what is the probability that the leading digit is at most $4$? At least $5$?**"
   ]
  },
  {
   "cell_type": "markdown",
   "metadata": {
    "nbgrader": {
     "cell_type": "markdown",
     "checksum": "cbbcacee4175de8ca0e92d1577a96f23",
     "grade": true,
     "grade_id": "cell-6e092676f1d3dab3",
     "locked": false,
     "points": 4,
     "schema_version": 3,
     "solution": true,
     "task": false
    }
   },
   "source": []
  },
  {
   "cell_type": "code",
   "execution_count": 31,
   "metadata": {},
   "outputs": [
    {
     "name": "stdout",
     "output_type": "stream",
     "text": [
      "P(X <= 4) = 0.69897\n",
      "P(X >= 5) = 0.30103"
     ]
    }
   ],
   "source": [
    "F_x <- function(x) {\n",
    "  log10(x+1)             \n",
    "}\n",
    "at_most_4 <- F_x(4)\n",
    "at_least_5 <- 1 - at_most_4\n",
    "cat(\"P(X <= 4) =\", at_most_4)\n",
    "cat(\"\\n\")\n",
    "cat(\"P(X >= 5) =\", at_least_5)\n"
   ]
  },
  {
   "cell_type": "markdown",
   "metadata": {
    "nbgrader": {
     "cell_type": "markdown",
     "checksum": "806ad00ddaec1dffc057e81d5e8b8fd0",
     "grade": false,
     "grade_id": "cell-a3192920d87e51da",
     "locked": true,
     "schema_version": 3,
     "solution": false,
     "task": false
    }
   },
   "source": [
    "## A.2\n",
    "\n",
    "An aircraft seam requires $20$ rivets. The seam will have to be reworked if any\n",
    "of these rivets is defective. Suppose rivets are defective independently of one\n",
    "another, each with the same probability.\n",
    "\n",
    "**A.2(a) [10 points] If $18\\%$ of all seams need reworking, what is the probability that a rivet is\n",
    "defective?**"
   ]
  },
  {
   "cell_type": "markdown",
   "metadata": {
    "nbgrader": {
     "cell_type": "markdown",
     "checksum": "1c692af98b0e34f555f229084db555b0",
     "grade": true,
     "grade_id": "cell-5112010776b2b918",
     "locked": false,
     "points": 5,
     "schema_version": 3,
     "solution": true,
     "task": false
    }
   },
   "source": []
  },
  {
   "cell_type": "markdown",
   "metadata": {
    "nbgrader": {
     "cell_type": "markdown",
     "checksum": "ba140072a5c4c9e250fd86e1870c4aa9",
     "grade": false,
     "grade_id": "cell-104aaec2d7df3340",
     "locked": true,
     "schema_version": 3,
     "solution": false,
     "task": false
    }
   },
   "source": [
    "**A.2(b)[6 points]  How small should the probability of a defective rivet be to ensure that only\n",
    "$10\\%$ of all seams need reworking?**"
   ]
  },
  {
   "cell_type": "markdown",
   "metadata": {
    "nbgrader": {
     "cell_type": "markdown",
     "checksum": "da11889cd58cb0ace0e00452fcf7beef",
     "grade": true,
     "grade_id": "cell-9aee9b2af09aab1a",
     "locked": false,
     "points": 4,
     "schema_version": 3,
     "solution": true,
     "task": false
    }
   },
   "source": []
  },
  {
   "cell_type": "markdown",
   "metadata": {
    "nbgrader": {
     "cell_type": "markdown",
     "checksum": "aa9c4f42b2133221e0eb4bc5dc617342",
     "grade": false,
     "grade_id": "cell-715f2599c4f41dda",
     "locked": true,
     "schema_version": 3,
     "solution": false,
     "task": false
    }
   },
   "source": [
    "## A.3 How long will this series take?\n",
    "\n",
    "Individuals $A$ and $B$ play a sequence of chess games until one player wins $9$ games. $A$ wins an individual game with probability $p$, and $B$ wins a game with probability $1 − p$ (there are no draws). Let $X$ denote the number of games played.\n",
    "\n",
    "**A.3(a) [4 points] What are the possible values of $X$?**"
   ]
  },
  {
   "cell_type": "markdown",
   "metadata": {
    "nbgrader": {
     "cell_type": "markdown",
     "checksum": "7663506e17a9246abe2ee554da8961b5",
     "grade": true,
     "grade_id": "cell-972d81179fe4efbc",
     "locked": false,
     "points": 3,
     "schema_version": 3,
     "solution": true,
     "task": false
    }
   },
   "source": []
  },
  {
   "cell_type": "markdown",
   "metadata": {
    "nbgrader": {
     "cell_type": "markdown",
     "checksum": "d036b79bbfa50ccb6f473a63afa20b18",
     "grade": false,
     "grade_id": "cell-7d7522db45711cfe",
     "locked": true,
     "schema_version": 3,
     "solution": false,
     "task": false
    }
   },
   "source": [
    "**A.3(b) [10 points] (*STAT 5000 ONLY*) Write out a mathematical expression for $P(X = x)$.**"
   ]
  },
  {
   "cell_type": "markdown",
   "metadata": {
    "nbgrader": {
     "cell_type": "markdown",
     "checksum": "f8160dc7e1343eae266760989a270274",
     "grade": true,
     "grade_id": "cell-3779838952bf488f",
     "locked": false,
     "points": 8,
     "schema_version": 3,
     "solution": true,
     "task": false
    }
   },
   "source": []
  },
  {
   "cell_type": "markdown",
   "metadata": {
    "nbgrader": {
     "cell_type": "markdown",
     "checksum": "1390e57dbede3c2f4faac196cbc14018",
     "grade": false,
     "grade_id": "cell-536718ef505112ab",
     "locked": true,
     "schema_version": 3,
     "solution": false,
     "task": false
    }
   },
   "source": [
    "**A.3(c) [6 points] (*STAT 5000 ONLY*) Let $p = 0.5$. Find $P(X = 12)$.**"
   ]
  },
  {
   "cell_type": "markdown",
   "metadata": {
    "nbgrader": {
     "cell_type": "markdown",
     "checksum": "af556c5fe2607208ff9bcff051277c7c",
     "grade": true,
     "grade_id": "cell-4661139d90fa73db",
     "locked": false,
     "points": 4,
     "schema_version": 3,
     "solution": true,
     "task": false
    }
   },
   "source": []
  },
  {
   "cell_type": "markdown",
   "metadata": {
    "nbgrader": {
     "cell_type": "markdown",
     "checksum": "fddefe97024e17dd3fb3515d736b2215",
     "grade": false,
     "grade_id": "cell-7504331067b39837",
     "locked": true,
     "schema_version": 3,
     "solution": false,
     "task": false
    }
   },
   "source": [
    "## A.4 Independence of Complementary Events\n",
    "\n",
    "**[12 points] Assume that $A$ and $B$ are independent events. Show that $A^c$ and $B$ are also independent. (Hint: establish a relationship between $P(A^c \\cap B)$, $P(B)$, and $P(A\\cap B)$; think about what $P(A \\mid B)$ must be given what you know about $A$ and $B$.)**"
   ]
  },
  {
   "cell_type": "markdown",
   "metadata": {
    "nbgrader": {
     "cell_type": "markdown",
     "checksum": "b2b01eb103c1ae6fb6f2f27f9fbf5b8d",
     "grade": true,
     "grade_id": "cell-2043770665e1d6dc",
     "locked": false,
     "points": 6,
     "schema_version": 3,
     "solution": true,
     "task": false
    }
   },
   "source": []
  },
  {
   "cell_type": "markdown",
   "metadata": {
    "nbgrader": {
     "cell_type": "markdown",
     "checksum": "ca73a6d7d9089efdb002559f21084ff0",
     "grade": false,
     "grade_id": "cell-02c572aba4e41255",
     "locked": true,
     "schema_version": 3,
     "solution": false,
     "task": false
    }
   },
   "source": [
    "## B.1 More Fraud Detection\n",
    "\n",
    "Let $X =$ the leading digit of a randomly selected number from a large accounting ledger. So, for example, if we randomly draw the number $\\$20,695$, then $X = 2$. People who make up numbers to commit accounting fraud tend to give $X$ a (discrete) uniform distribution, i.e., $P(X = x) = 1/9$, for $x \\in \\{1,...,9\\}$. However, some suggest that there is empirical evidence that ``naturally occurring\" numbers (e.g., numbers in a non-fraudulent accounting ledger) have leading digits that do not follow a uniform distribution. Instead, they follow a distribution defined by:\n",
    "\n",
    "\\begin{align*}\n",
    "f(x) = \\log_{10}\\bigg(\\frac{x+1}{x}\\bigg), \\,\\,\\,\\, x = 1,2,...,9.\n",
    "\\end{align*} \n",
    "\n",
    "**[20 points] Using `tax.csv`, a dataset containing the taxable incomes for individuals in 1978, decide whether there is any evidence that the dataset is fraudulent.**"
   ]
  },
  {
   "cell_type": "code",
   "execution_count": 34,
   "metadata": {},
   "outputs": [
    {
     "name": "stderr",
     "output_type": "stream",
     "text": [
      "Parsed with column specification:\n",
      "cols(\n",
      "  taxIncomes = col_double()\n",
      ")\n"
     ]
    },
    {
     "data": {
      "image/png": "[encoded data removed]",
      "text/plain": [
       "Plot with title \"Observed vs Expected Leading Digit Distribution (f(x))\""
      ]
     },
     "metadata": {},
     "output_type": "display_data"
    }
   ],
   "source": [
    "df <- read_csv(\"tax.csv\")\n",
    "ld <- function(x) {\n",
    "  as.numeric(substr(as.character(abs(x)), 1, 1))\n",
    "}\n",
    "df$ld <- sapply(df$taxIncomes, ld)\n",
    "f_x <- function(x) {\n",
    "  log10((x + 1) / x)\n",
    "}\n",
    "expected_freq <- f_x(1:9)\n",
    "observed_freq <- table(factor(df$ld, levels = 1:9)) / nrow(df)\n",
    "\n",
    "barplot(rbind(observed_freq, expected_freq),\n",
    "        beside = TRUE,\n",
    "        col = c(\"green\", \"blue\"),\n",
    "        legend = c(\"Observed frequency\", \"Expected frequency\"),\n",
    "        main = \"Observed vs Expected Leading Digit Distribution (f(x))\",\n",
    "        names.arg = 1:9,\n",
    "        xlab = \"Leading Digit in TaxIncomes column\",\n",
    "        ylab = \"Frequency(no. of times occuring)\")\n"
   ]
  },
  {
   "cell_type": "markdown",
   "metadata": {},
   "source": [
    "Here the leading digits 1-2 occurs more time in this data in the observed frequency, and from 3 to 9 digits occurs more time in the expected frequency compared to the observed frequency. So here we can clearly see a variation in the no. of times occuring. There is no digit which shows the exactly same uniform distribution. As per the concept, the digit which shows exactly same frequency in both observed and expected is the fraudulent accounting fraud. But, here all the digits shows different frequencies in both expected and observed so clearly there is no fraudulent accounting frauds are present in this data. \n"
   ]
  }
 ],
 "metadata": {
  "colab": {
   "name": "hwk1_Sp18_appm4570-computational.ipynb",
   "provenance": []
  },
  "kernelspec": {
   "display_name": "Python 3 (ipykernel)",
   "language": "python",
   "name": "python3"
  },
  "language_info": {
   "codemirror_mode": {
    "name": "ipython",
    "version": 3
   },
   "file_extension": ".py",
   "mimetype": "text/x-python",
   "name": "python",
   "nbconvert_exporter": "python",
   "pygments_lexer": "ipython3",
   "version": "3.12.4"
  }
 },
 "nbformat": 4,
 "nbformat_minor": 4
}

{
 "cells": [
  {
   "cell_type": "markdown",
   "metadata": {
    "id": "BgJMy-Po9eH-",
    "nbgrader": {
     "cell_type": "markdown",
     "checksum": "1979e73ce19ac4f21125d3dc2e0987d5",
     "grade": false,
     "grade_id": "cell-506044151ea0ea95",
     "locked": true,
     "schema_version": 3,
     "solution": false,
     "task": false
    }
   },
   "source": [
    "# Homework #4\n",
    "\n",
    "**See Canvas for HW #4 assignment due date**. Complete all of the following problems. Ideally, the theoretical problems should be answered in a Markdown cell directly underneath the question. If you don't know LaTex/Markdown, you may submit separate handwritten solutions to the theoretical problems, but please see the class scanning policy in the syllabus. Please do not turn in messy work. Computational problems should be completed in this notebook (using the `R` kernel). Computational questions may require code, plots, analysis, interpretation, etc. Working in small groups is allowed, but it is important that you make an effort to master the material and hand in your own work. \n"
   ]
  },
  {
   "cell_type": "markdown",
   "metadata": {
    "id": "Vpxs_7xzuHD8",
    "nbgrader": {
     "cell_type": "markdown",
     "checksum": "889b7205d3b70ef0d561cf6199d4a771",
     "grade": false,
     "grade_id": "cell-690073cfc39a9520",
     "locked": true,
     "schema_version": 3,
     "solution": false,
     "task": false
    }
   },
   "source": [
    "## A. Theoretical Problems"
   ]
  },
  {
   "cell_type": "markdown",
   "metadata": {
    "id": "vNWAtVsRQO7D",
    "nbgrader": {
     "cell_type": "markdown",
     "checksum": "453fa1a85c6fa7bb8395dbbc13fb5848",
     "grade": false,
     "grade_id": "cell-65d6ccfd6b276f94",
     "locked": true,
     "schema_version": 3,
     "solution": false,
     "task": false
    }
   },
   "source": [
    "## A.1 The median of the exponential distribution\n",
    "\n",
    "\n",
    "- In class, we defined the mean of a random variable $X$ with probability density function $f(x)$ to be $E[X] = \\int^{\\infty}_{-\\infty}xf(x) dx$. \n",
    "\n",
    "- We also defined the median of a random variable $X$ with probability density function $f(x)$ to be the value $m$ such that $P(X \\le m) = 0.5$.\n",
    "\n",
    "The exponential distribution has a density function $$f(x) = \\lambda e^{-\\lambda x},$$ for $x \\ge 0$, where $\\lambda > 0$ is the rate parameter. We showed in class that if $X \\sim Exp(\\lambda)$, then $E[X] = \\frac{1}{\\lambda}$.\n",
    "\n",
    "**A.1(a) [5 points] Let $\\lambda = 1$. Prove that the median of $X \\sim Exp(1)$ is $\\log(2)$ (on this problem, the notation $\\log(\\cdot)$ denotes the natural logarithm).**"
   ]
  },
  {
   "cell_type": "markdown",
   "metadata": {
    "id": "SCcZVE0eQO7F",
    "nbgrader": {
     "cell_type": "markdown",
     "checksum": "07da676692a303504012f5a0f6c6c0ad",
     "grade": true,
     "grade_id": "cell-096db750d06a316f",
     "locked": false,
     "points": 5,
     "schema_version": 3,
     "solution": true,
     "task": false
    }
   },
   "source": [
    " "
   ]
  },
  {
   "cell_type": "markdown",
   "metadata": {
    "id": "4b3BjLMhQO7H",
    "nbgrader": {
     "cell_type": "markdown",
     "checksum": "bdd0f1521e2098bb573d10dd1ccf8908",
     "grade": false,
     "grade_id": "cell-4a391cbb2f664c13",
     "locked": true,
     "schema_version": 3,
     "solution": false,
     "task": false
    }
   },
   "source": [
    "**A.1(b) [5 points] Let $\\lambda = 2$. Prove that the median of $X \\sim Exp(2)$ is $\\frac{\\log(2)}{2}$.**"
   ]
  },
  {
   "cell_type": "markdown",
   "metadata": {
    "id": "OUWdbhkFQO7H",
    "nbgrader": {
     "cell_type": "markdown",
     "checksum": "3e18d2ad9671dd1812b003ef9670f1e9",
     "grade": true,
     "grade_id": "cell-17c86b1026683490",
     "locked": false,
     "points": 5,
     "schema_version": 3,
     "solution": true,
     "task": false
    }
   },
   "source": []
  },
  {
   "cell_type": "markdown",
   "metadata": {
    "id": "ltHNgT3UQO7K",
    "nbgrader": {
     "cell_type": "markdown",
     "checksum": "c6f22b4cda8d411691e66bef8113499a",
     "grade": false,
     "grade_id": "cell-cf6cefcaae961c7d",
     "locked": true,
     "schema_version": 3,
     "solution": false,
     "task": false
    }
   },
   "source": [
    "**A.1(c) [7 points] Prove that for $X \\sim Exp(\\lambda)$, the median is given by $\\frac{\\log(2)}{\\lambda}$**"
   ]
  },
  {
   "cell_type": "markdown",
   "metadata": {
    "id": "cPaLmv5kQO7L",
    "nbgrader": {
     "cell_type": "markdown",
     "checksum": "9eb5e92245c0d947d7775385d56e59a9",
     "grade": true,
     "grade_id": "cell-6e092676f1d3dab3",
     "locked": false,
     "points": 7,
     "schema_version": 3,
     "solution": true,
     "task": false
    }
   },
   "source": []
  },
  {
   "cell_type": "markdown",
   "metadata": {
    "id": "MImd4UC0QO7M",
    "nbgrader": {
     "cell_type": "markdown",
     "checksum": "4c82f4a602b1a7d18bc226bd4be2990d",
     "grade": false,
     "grade_id": "cell-61ff50abcce0b1c1",
     "locked": true,
     "schema_version": 3,
     "solution": false,
     "task": false
    }
   },
   "source": [
    "## A.2 [8 points] Expected values and bets\n",
    "\n",
    "**Let $X =$ the outcome when a fair die is rolled once. Suppose that, before the die is rolled, you are offered a choice:** \n",
    "\n",
    "*Option 1: a guarantee of $1/4$ dollars (whatever the outcome of the roll)*\n",
    "\n",
    "*Option 2: $h(X) = 1/X$ dollars. Which option would you prefer?* \n",
    "\n",
    "**Justify your answer.**"
   ]
  },
  {
   "cell_type": "markdown",
   "metadata": {
    "id": "u_IPyoz5QO7O",
    "nbgrader": {
     "cell_type": "markdown",
     "checksum": "ff8480e78318dc8a26e9704f8e6d9463",
     "grade": true,
     "grade_id": "cell-2f35385d6859b192",
     "locked": false,
     "points": 6,
     "schema_version": 3,
     "solution": true,
     "task": false
    }
   },
   "source": []
  },
  {
   "cell_type": "markdown",
   "metadata": {
    "id": "HBXryLwMQO7R",
    "nbgrader": {
     "cell_type": "markdown",
     "checksum": "a9ec469a1a2403c7e73480234374f44f",
     "grade": false,
     "grade_id": "cell-f345d6dcfdfb9bde",
     "locked": true,
     "schema_version": 3,
     "solution": false,
     "task": false
    }
   },
   "source": [
    "## A.3 [8 points] More fraud\n",
    "\n",
    "Recall the random variable from the previous homework: $X$ is the leading digit of a randomly selected number from a large accounting ledger. The PMF was defined by:\n",
    "$$ P(X=x) = f(x) = \\log_{10}\\left(\\frac{x+1}{x}\\right), \\quad x=1,2,...,9. $$\n",
    "\n",
    "\n",
    "**Give an expression for $E[X]$, and then calculate it in `R`.**"
   ]
  },
  {
   "cell_type": "markdown",
   "metadata": {
    "id": "x_hdgSaaQO7T",
    "nbgrader": {
     "cell_type": "markdown",
     "checksum": "98147c5217d60958ff090a1b21a9c781",
     "grade": true,
     "grade_id": "cell-09190d0149665ebf",
     "locked": false,
     "points": 6,
     "schema_version": 3,
     "solution": true,
     "task": false
    }
   },
   "source": []
  },
  {
   "cell_type": "code",
   "execution_count": 5,
   "metadata": {},
   "outputs": [
    {
     "data": {
      "text/html": [
       "3.44023696712321"
      ],
      "text/latex": [
       "3.44023696712321"
      ],
      "text/markdown": [
       "3.44023696712321"
      ],
      "text/plain": [
       "[1] 3.440237"
      ]
     },
     "metadata": {},
     "output_type": "display_data"
    }
   ],
   "source": [
    "pmf <- function(x) {\n",
    "  return(log10((x + 1) / x))\n",
    "}\n",
    "E_X<- sum(1:9 * pmf(1:9))\n",
    "E_X"
   ]
  },
  {
   "cell_type": "markdown",
   "metadata": {
    "id": "KuWHwVzkQO7d",
    "nbgrader": {
     "cell_type": "markdown",
     "checksum": "1b2aaef79457fe454a7a4738d19d14c7",
     "grade": false,
     "grade_id": "cell-2cfefee8cb2cad10",
     "locked": true,
     "schema_version": 3,
     "solution": false,
     "task": false
    }
   },
   "source": [
    "## A.4 Mixture distributions\n",
    "\n",
    "Most of the distributions we've looked at so far have been unimodal, flat, or monotonically increasing/decreasing. Let's take a look at a class of distributions that are multimodal.\n",
    "\n",
    "Let $X_1,...,X_n$ be continuous random variables with PDFs $f_{X_i}(x)$, $i = 1,...,n$. Define a *mixture distribution* to be a random variable $X$ with pdf\n",
    "\n",
    "\\begin{align*}\n",
    "f_X(x) = \\sum^n_{i=1}\\alpha_i f_{X_i}(x) \n",
    "\\end{align*}\n",
    "\n",
    "where $\\alpha_i$ are nonnegative real numbers such that $\\sum^n_{i=1}\\alpha_1 = 1$. You can think of $f_X(x)$ as being a weighted average of the PDFs $f_{X_i}(x)$.\n",
    "\n",
    "**A.4(a) [6 points] Show that $f_X(x)$ is a PDF.**"
   ]
  },
  {
   "cell_type": "markdown",
   "metadata": {
    "id": "Qc7mB4njQO7e",
    "nbgrader": {
     "cell_type": "markdown",
     "checksum": "164793d21070993f91c68e26d82626c2",
     "grade": true,
     "grade_id": "cell-bb54c7ea5618fa75",
     "locked": false,
     "points": 7,
     "schema_version": 3,
     "solution": true,
     "task": false
    }
   },
   "source": []
  },
  {
   "cell_type": "markdown",
   "metadata": {
    "id": "rbwh1Bu-QO7f",
    "nbgrader": {
     "cell_type": "markdown",
     "checksum": "f0b4621e9f03ec3c7262a31b5ae15a7e",
     "grade": false,
     "grade_id": "cell-0c0f6c640f164ca7",
     "locked": true,
     "schema_version": 3,
     "solution": false,
     "task": false
    }
   },
   "source": [
    "**A.4(b) [6 points] Find the expected value of $X$.**"
   ]
  },
  {
   "cell_type": "markdown",
   "metadata": {
    "id": "stc_Syw3QO7f",
    "nbgrader": {
     "cell_type": "markdown",
     "checksum": "346c8d8e0f9dcc0a7496eebbbb1a593e",
     "grade": true,
     "grade_id": "cell-649185f4aa412a88",
     "locked": false,
     "points": 8,
     "schema_version": 3,
     "solution": true,
     "task": false
    }
   },
   "source": []
  },
  {
   "cell_type": "markdown",
   "metadata": {
    "id": "yPn6IDBMQO7g",
    "nbgrader": {
     "cell_type": "markdown",
     "checksum": "02b09c6982fb37936dd310332279d671",
     "grade": false,
     "grade_id": "cell-a5620531ec643b60",
     "locked": true,
     "schema_version": 3,
     "solution": false,
     "task": false
    }
   },
   "source": [
    "**A.4(c) [6 points] [*Optional for STAT 4000 students*] Show that**\n",
    "\n",
    "$$\\displaystyle Var[X] = \\left(\\sum^n_{i=1}\\alpha_i\\left(\\sigma^2_i + \\mu_i^2 \\right)\\right) - \\mu^2,$$\n",
    "\n",
    "**where $\\sigma^2_i = Var[X_i]$, $\\mu_i = E[X_i]$, and $\\mu = E[X]$ (note that the $\\mu^2$ is outside the summation).**\n",
    "\n",
    "HINT: Use the fact that, for a random variable $Y$, $Var[Y] = E[Y^2] - [E(Y)]^2$ (it may be helpful at some point to re-arrange these terms)."
   ]
  },
  {
   "cell_type": "markdown",
   "metadata": {
    "id": "0jYWRFkYQO7h",
    "nbgrader": {
     "cell_type": "markdown",
     "checksum": "05477e6af215c4fd55572342cfa7b614",
     "grade": true,
     "grade_id": "cell-a2f4f890daa14982",
     "locked": false,
     "points": 8,
     "schema_version": 3,
     "solution": true,
     "task": false
    }
   },
   "source": []
  },
  {
   "cell_type": "markdown",
   "metadata": {
    "id": "sLSmY7CFQO7h",
    "nbgrader": {
     "cell_type": "markdown",
     "checksum": "b1d4f9afa5522f1a02b2c49de37c8edd",
     "grade": false,
     "grade_id": "cell-b85424149eb8ec08",
     "locked": true,
     "schema_version": 3,
     "solution": false,
     "task": false
    }
   },
   "source": [
    "# B Computational problems\n",
    "\n",
    "## B.1 Monte Carlo estimation\n",
    "\n",
    "One really cool (and useful!) application of random variables is approximating integrals/the area under a curve. Consider $f(x) = sin(x)$ on the interval $0 \\le x \\le \\pi$. Let's use uniform random variables to approximate the area under $f(x)$ on this interval. Note that this general idea is used often to solve really important but hard integrals.\n",
    "\n",
    " \n",
    "**B.1(a) [6 points] By hand, and using the `integrate()` function in `R`, calculate the true area under $f(x)$.**\n"
   ]
  },
  {
   "cell_type": "markdown",
   "metadata": {
    "id": "8LUC4O-FQO7j",
    "nbgrader": {
     "cell_type": "markdown",
     "checksum": "31ba53bed446a964f464ee33f6705431",
     "grade": true,
     "grade_id": "cell-1b323f362eacd76f",
     "locked": false,
     "points": 3,
     "schema_version": 3,
     "solution": true,
     "task": false
    }
   },
   "source": []
  },
  {
   "cell_type": "code",
   "execution_count": 9,
   "metadata": {
    "colab": {
     "base_uri": "https://localhost:8080/",
     "height": 36
    },
    "executionInfo": {
     "elapsed": 45,
     "status": "ok",
     "timestamp": 1632964272228,
     "user": {
      "displayName": "Eric Young",
      "photoUrl": "https://lh3.googleusercontent.com/a/default-user=s64",
      "userId": "14315698820705127118"
     },
     "user_tz": 360
    },
    "id": "68mlISv1QO7j",
    "nbgrader": {
     "cell_type": "code",
     "checksum": "94fde04a90f1981e9ff871abce3c93bf",
     "grade": true,
     "grade_id": "cell-8cff4ecc7a3b82b6",
     "locked": false,
     "points": 3,
     "schema_version": 3,
     "solution": true,
     "task": false
    },
    "outputId": "2ed5f6f7-74b3-4aa8-ff1c-b4d55487fde6"
   },
   "outputs": [
    {
     "data": {
      "text/html": [
       "2"
      ],
      "text/latex": [
       "2"
      ],
      "text/markdown": [
       "2"
      ],
      "text/plain": [
       "[1] 2"
      ]
     },
     "metadata": {},
     "output_type": "display_data"
    }
   ],
   "source": [
    "fn = function(x) {\n",
    "  sin(x)\n",
    "}\n",
    "integ_val = integrate(fn, 0, pi)\n",
    "integ_val$value\n"
   ]
  },
  {
   "cell_type": "markdown",
   "metadata": {
    "id": "oZagWNiXQO7k",
    "nbgrader": {
     "cell_type": "markdown",
     "checksum": "8cef8862c1c3b217cd13620e488b1540",
     "grade": false,
     "grade_id": "cell-e22a337269ad0801",
     "locked": true,
     "schema_version": 3,
     "solution": false,
     "task": false
    }
   },
   "source": [
    "**B.1(b) [3 points] Generate $n = 5,000$ uniform random $(x,y)$ coordinates in the rectangle $x \\in [0,\\pi], \\, y \\in [0,1]$.**"
   ]
  },
  {
   "cell_type": "code",
   "execution_count": 18,
   "metadata": {
    "colab": {
     "base_uri": "https://localhost:8080/",
     "height": 255
    },
    "executionInfo": {
     "elapsed": 42,
     "status": "ok",
     "timestamp": 1632964272230,
     "user": {
      "displayName": "Eric Young",
      "photoUrl": "https://lh3.googleusercontent.com/a/default-user=s64",
      "userId": "14315698820705127118"
     },
     "user_tz": 360
    },
    "id": "_5hb2rDhQO7l",
    "nbgrader": {
     "cell_type": "code",
     "checksum": "0c158ff5ad5bdb4327e28438d54ae683",
     "grade": true,
     "grade_id": "cell-2b47948aba1aa9b7",
     "locked": false,
     "points": 3,
     "schema_version": 3,
     "solution": true,
     "task": false
    },
    "outputId": "d1641cec-c173-459d-b1e4-40866e965029"
   },
   "outputs": [
    {
     "data": {
      "text/html": [
       "<table>\n",
       "<thead><tr><th scope=col>x</th><th scope=col>y</th></tr></thead>\n",
       "<tbody>\n",
       "\t<tr><td>0.8606168</td><td>0.7690353</td></tr>\n",
       "\t<tr><td>1.6813567</td><td>0.9585164</td></tr>\n",
       "\t<tr><td>1.9931374</td><td>0.5511703</td></tr>\n",
       "\t<tr><td>2.4864047</td><td>0.9820963</td></tr>\n",
       "\t<tr><td>2.6679696</td><td>0.3561905</td></tr>\n",
       "\t<tr><td>2.1855998</td><td>0.4559417</td></tr>\n",
       "</tbody>\n",
       "</table>\n"
      ],
      "text/latex": [
       "\\begin{tabular}{r|ll}\n",
       " x & y\\\\\n",
       "\\hline\n",
       "\t 0.8606168 & 0.7690353\\\\\n",
       "\t 1.6813567 & 0.9585164\\\\\n",
       "\t 1.9931374 & 0.5511703\\\\\n",
       "\t 2.4864047 & 0.9820963\\\\\n",
       "\t 2.6679696 & 0.3561905\\\\\n",
       "\t 2.1855998 & 0.4559417\\\\\n",
       "\\end{tabular}\n"
      ],
      "text/markdown": [
       "\n",
       "| x | y |\n",
       "|---|---|\n",
       "| 0.8606168 | 0.7690353 |\n",
       "| 1.6813567 | 0.9585164 |\n",
       "| 1.9931374 | 0.5511703 |\n",
       "| 2.4864047 | 0.9820963 |\n",
       "| 2.6679696 | 0.3561905 |\n",
       "| 2.1855998 | 0.4559417 |\n",
       "\n"
      ],
      "text/plain": [
       "  x         y        \n",
       "1 0.8606168 0.7690353\n",
       "2 1.6813567 0.9585164\n",
       "3 1.9931374 0.5511703\n",
       "4 2.4864047 0.9820963\n",
       "5 2.6679696 0.3561905\n",
       "6 2.1855998 0.4559417"
      ]
     },
     "metadata": {},
     "output_type": "display_data"
    }
   ],
   "source": [
    "n = 5000\n",
    "x = runif(n, 0, pi)\n",
    "y = runif(n, 0, 1) \n",
    "\n",
    "dist_points = data.frame(x,y)\n",
    "head(dist_points)"
   ]
  },
  {
   "cell_type": "markdown",
   "metadata": {
    "id": "SeoqDaQvQO7o",
    "nbgrader": {
     "cell_type": "markdown",
     "checksum": "6de16fdf41480c15fa2468a5bed8bc6c",
     "grade": false,
     "grade_id": "cell-75bf4a0648322171",
     "locked": true,
     "schema_version": 3,
     "solution": false,
     "task": false
    }
   },
   "source": [
    "**B.1(c)  [6 points] Calculate the proportion of points from B.1(b) that fall below $f(x)$ and use this proportion to approximate the area under $f(x)$.**"
   ]
  },
  {
   "cell_type": "code",
   "execution_count": 15,
   "metadata": {
    "colab": {
     "base_uri": "https://localhost:8080/",
     "height": 34
    },
    "executionInfo": {
     "elapsed": 36,
     "status": "ok",
     "timestamp": 1632964272231,
     "user": {
      "displayName": "Eric Young",
      "photoUrl": "https://lh3.googleusercontent.com/a/default-user=s64",
      "userId": "14315698820705127118"
     },
     "user_tz": 360
    },
    "id": "SqsAlqPtQO7o",
    "nbgrader": {
     "cell_type": "code",
     "checksum": "478eea3177bc0d88618d5c2a221aadf8",
     "grade": true,
     "grade_id": "cell-492f20441f91f172",
     "locked": false,
     "points": 4,
     "schema_version": 3,
     "solution": true,
     "task": false
    },
    "outputId": "145a9f24-8079-4b6e-ada4-7d77277b132d"
   },
   "outputs": [
    {
     "name": "stdout",
     "output_type": "stream",
     "text": [
      "[1] 1.974805\n"
     ]
    }
   ],
   "source": [
    "f_x = sin(x)\n",
    "points_und_curve  = y<=f_x\n",
    "prop = sum(points_und_curve)/n\n",
    "approx = prop * pi\n",
    "print(approx)"
   ]
  },
  {
   "cell_type": "markdown",
   "metadata": {
    "id": "ZVFzFqV7QO7q",
    "nbgrader": {
     "cell_type": "markdown",
     "checksum": "46f9ac3dabacd94a4c8f132b6389639d",
     "grade": true,
     "grade_id": "cell-bd3e77300b26d2ac",
     "locked": false,
     "points": 2,
     "schema_version": 3,
     "solution": true,
     "task": false
    }
   },
   "source": [
    "The approx gives the approximate of proportion of points which lies under the curve. "
   ]
  },
  {
   "cell_type": "markdown",
   "metadata": {
    "id": "nTQkf2xJQO7q"
   },
   "source": [
    "**B.1(d) [4 points] Find the absolute difference between our approximation and the true area calculated in B.1(a). How can we make this error smaller?**"
   ]
  },
  {
   "cell_type": "code",
   "execution_count": 20,
   "metadata": {
    "colab": {
     "base_uri": "https://localhost:8080/",
     "height": 34
    },
    "executionInfo": {
     "elapsed": 27,
     "status": "ok",
     "timestamp": 1632964272232,
     "user": {
      "displayName": "Eric Young",
      "photoUrl": "https://lh3.googleusercontent.com/a/default-user=s64",
      "userId": "14315698820705127118"
     },
     "user_tz": 360
    },
    "id": "q_j2ZriRQO7q",
    "nbgrader": {
     "cell_type": "code",
     "checksum": "036c0455ecb1af42a5a9cbe056ff288b",
     "grade": true,
     "grade_id": "cell-43303e21eb386ce4",
     "locked": false,
     "points": 2,
     "schema_version": 3,
     "solution": true,
     "task": false
    },
    "outputId": "d32dee67-23a9-4792-fbe4-019c5407d1e0"
   },
   "outputs": [
    {
     "data": {
      "text/html": [
       "0.025194857953456"
      ],
      "text/latex": [
       "0.025194857953456"
      ],
      "text/markdown": [
       "0.025194857953456"
      ],
      "text/plain": [
       "[1] 0.02519486"
      ]
     },
     "metadata": {},
     "output_type": "display_data"
    }
   ],
   "source": [
    "absolute_difference = abs(integ_val$value - approx)\n",
    "absolute_difference"
   ]
  },
  {
   "cell_type": "markdown",
   "metadata": {
    "id": "uZtLDg0QQO7r",
    "nbgrader": {
     "cell_type": "markdown",
     "checksum": "dd3cad8c9888577d1adc06d757e757e5",
     "grade": true,
     "grade_id": "cell-e070d8facf11f1fa",
     "locked": false,
     "points": 2,
     "schema_version": 3,
     "solution": true,
     "task": false
    }
   },
   "source": [
    "On increasing the number of points 'n', the error (absolute_difference) decreases and it will get equal to the true area value(integ_val$value)."
   ]
  },
  {
   "cell_type": "markdown",
   "metadata": {
    "id": "xBzbLXQMQO7u",
    "nbgrader": {
     "cell_type": "markdown",
     "checksum": "f9bd62a6018726fac7b26ac33fb7df22",
     "grade": false,
     "grade_id": "cell-b999b1fb135d9f79",
     "locked": true,
     "schema_version": 3,
     "solution": false,
     "task": false
    }
   },
   "source": [
    "## B.2\n",
    "\n",
    "For this problem, let's assume that the probability of an event $E$, $P(E)$, means something like \"the degree to which you believe $E$\".\n",
    "\n",
    "**B.2(a) [8 points] Plot the PDFs of four different Beta distributions:**\n",
    "                                  \n",
    "1. Beta$(1, 1)$\n",
    "2. Beta$(0.5, 0.5)$\n",
    "3. Beta$(5, 5)$\n",
    "4. Beta$(1, 5)$\n",
    "\n",
    "**What is another name for Beta$(1, 1)$?**"
   ]
  },
  {
   "cell_type": "code",
   "execution_count": 45,
   "metadata": {},
   "outputs": [
    {
     "data": {
      "image/png": "[encoded data removed]",
      "text/plain": [
       "Plot with title \"Beta Distributions\""
      ]
     },
     "metadata": {},
     "output_type": "display_data"
    }
   ],
   "source": [
    "x <- seq(0, 1, length.out = 100)\n",
    "\n",
    "beta_a <- dbeta(x, 1, 1)\n",
    "beta_b <- dbeta(x, 0.5, 0.5)\n",
    "beta_c <- dbeta(x, 5, 5)\n",
    "beta_d <- dbeta(x, 1, 5)\n",
    "\n",
    "plot(x, beta_a, type = \"b\", col = \"blue\", lwd = 5, ylim = c(0, 6), \n",
    "     ylab = \"Density\", xlab = \"x\", main = \"Beta Distributions\")\n",
    "lines(x, beta_b, type = \"b\" , col = \"red\", lwd = 5)\n",
    "lines(x, beta_c, type = \"b\", col = \"green\", lwd = 5)\n",
    "lines(x, beta_d, type = \"b\", col = \"purple\", lwd = 5)\n",
    "\n",
    "legend(\"topright\", legend = c(\"beta_a\", \"beta_b\", \"beta_c\", \"beta_d\"), col = c(\"blue\", \"red\", \"green\", \"purple\"), lwd = 5)\n"
   ]
  },
  {
   "cell_type": "markdown",
   "metadata": {},
   "source": [
    "The another name for Beta(1,1) is the Uniform(0,1)"
   ]
  },
  {
   "cell_type": "markdown",
   "metadata": {
    "id": "dDza9eyTQO7v",
    "nbgrader": {
     "cell_type": "markdown",
     "checksum": "c7ef057763b08c8cd08e7a48e1a26f74",
     "grade": false,
     "grade_id": "cell-c461fa8edb42e2ac",
     "locked": true,
     "schema_version": 3,
     "solution": false,
     "task": false
    }
   },
   "source": [
    "**B.2(b) [8 points] Now, suppose your friend has a coin whose probabilities are unknown to you. Since the beta distribution has support $[0,1]$, it is well-suited to model your beliefs about the probability of heads. Match the following descriptions with the beta distributions from the previous part.**\n",
    "\n",
    "\n",
    "i. I am pretty confident that this is a two-headed or two-tailed coin.\n",
    "\n",
    "ii. I have no idea what the probability of heads is.\n",
    "\n",
    "iii. I believe that the probability of heads is low.\n",
    "\n",
    "iv. I believe that the coin is close to fair."
   ]
  },
  {
   "cell_type": "markdown",
   "metadata": {
    "collapsed": true,
    "id": "nBVUi_vPQO7x",
    "jupyter": {
     "outputs_hidden": true
    },
    "nbgrader": {
     "cell_type": "markdown",
     "checksum": "1baea67b008879d2477f4ab098e06f9c",
     "grade": true,
     "grade_id": "cell-ec987c9fb761b0bc",
     "locked": false,
     "points": 4,
     "schema_version": 3,
     "solution": true,
     "task": false
    }
   },
   "source": [
    " - i. beta_b ie. Beta[0.5,0.5]\n",
    " - ii. beta_a ie. Beta[1,1]\n",
    " - iii. beta_d ie. Beta[1,5]\n",
    " - iv. beta_c ie. Beta[5,5]"
   ]
  },
  {
   "cell_type": "markdown",
   "metadata": {
    "id": "lNZuWczzQO7y",
    "nbgrader": {
     "cell_type": "markdown",
     "checksum": "8897df570da8eb9b4c3bb181b997822f",
     "grade": false,
     "grade_id": "cell-7ce43ad881f1d876",
     "locked": true,
     "schema_version": 3,
     "solution": false,
     "task": false
    }
   },
   "source": [
    "## B.3 Mixture distributions\n",
    "\n",
    "Most of the distributions we've looked at so far have been unimodal, flat, or monotonically increasing/decreasing. Let's take a look at a class of distributions that are multimodal. You proved some results about these in problem **A.4**, but recall the definition:\n",
    "\n",
    "Let $X_1,...,X_n$ be continuous random variables with pdfs $f_{X_i}(x)$, $i = 1,...,n$. Define a *mixture distribution* to be a random variable $X$ with PDF\n",
    "\n",
    "\\begin{align*}\n",
    "f_X(x) = \\sum^n_{i=1}\\alpha_i f_{X_i}(x) \n",
    "\\end{align*}\n",
    "\n",
    "where $\\alpha_i$ are nonnegative real numbers such that $\\sum^n_{i=1}\\alpha_1 = 1$.\n",
    "\n",
    "**B.3(a) [8 points] For this question, let's create a specific mixture distribution and plot the PDF in R.**\n",
    "\n",
    "1. First, create a grid of `n = 100` `x` values evenly spaced between `0` and `15`.\n",
    "2. Construct an `alpha` vector with entries `1/5`, `2/5`, and `2/5`.\n",
    "3. At each value of `x`, calculate the following:\n",
    "    - the PDF of an exponential with rate parameter `1`.\n",
    "    - the PDF of a normal distribution with mean `5` and standard deviation `1`.\n",
    "    - the PDF of a normal distribution with mean `10` and standard deviation `2`.\n",
    "4. Construct the PDF of the mixture random variable using `alpha` and PDFs from 3.\n",
    "5. Plot the pdf of the mixture distribution. What do you notice about it's shape? How does the shape relate to the shape of the original distributions?"
   ]
  },
  {
   "cell_type": "code",
   "execution_count": 48,
   "metadata": {
    "colab": {
     "base_uri": "https://localhost:8080/",
     "height": 437
    },
    "executionInfo": {
     "elapsed": 15,
     "status": "ok",
     "timestamp": 1632964272526,
     "user": {
      "displayName": "Eric Young",
      "photoUrl": "https://lh3.googleusercontent.com/a/default-user=s64",
      "userId": "14315698820705127118"
     },
     "user_tz": 360
    },
    "id": "FTy_m2iAQO7y",
    "nbgrader": {
     "cell_type": "code",
     "checksum": "15b745abc9201fa343dfdfab95b4ebb9",
     "grade": true,
     "grade_id": "cell-3dc865de13b480de",
     "locked": false,
     "points": 8,
     "schema_version": 3,
     "solution": true,
     "task": false
    },
    "outputId": "4446d978-194d-40a2-e1da-61e34b62e19a"
   },
   "outputs": [
    {
     "data": {
      "image/png": "[encoded data removed]",
      "text/plain": [
       "Plot with title \"Mixture Distribution and Components\""
      ]
     },
     "metadata": {},
     "output_type": "display_data"
    }
   ],
   "source": [
    "n = 100\n",
    "x = seq(0, 15, length.out = n)\n",
    "alpha = c(1/ 5, 2/5, 2/5)\n",
    "exponential_dist_pdf  = dexp(x,rate = 1)\n",
    "normal_dist_pdf1 = dnorm(x, mean = 5, sd = 1)\n",
    "normal_dist_pdf2 = dnorm(x, mean = 10, sd = 2)\n",
    "mixture_dist_pdf = alpha[1]*exponential_dist_pdf + alpha[2]*normal_dist_pdf1 + alpha[3]*normal_dist_pdf2\n",
    "# Plot the mixture distribution\n",
    "plot(x, mixture_dist_pdf, type = \"b\", col = \"blue\", lwd = 5, ylim = c(0, 0.6), \n",
    "     ylab = \"Density\", xlab = \"x\", main = \"Mixture Distribution and Components\")\n",
    "\n",
    "# Plot the individual PDFs\n",
    "lines(x, exponential_dist_pdf, type = \"b\", col = \"red\", lwd = 5, lty = 2)  # Exponential PDF\n",
    "lines(x, normal_dist_pdf1,type = \"b\", col = \"green\", lwd = 5, lty = 2)  # Normal PDF (mean 5)\n",
    "lines(x, normal_dist_pdf2, type = \"b\", col = \"purple\", lwd = 5, lty = 2)  # Normal PDF (mean 10)\n",
    "\n",
    "# Add a legend\n",
    "legend(\"topright\", legend = c(\"Mixture PDF\", \"Exponential PDF\", \"Normal PDF1 (mean 5)\", \"Normal PDF2 (mean 10)\"),\n",
    "       col = c(\"blue\", \"red\", \"green\", \"purple\"), lwd = 5, lty = c(1, 2, 2, 2))"
   ]
  },
  {
   "cell_type": "markdown",
   "metadata": {
    "nbgrader": {
     "cell_type": "markdown",
     "checksum": "0ae8e2491272543e179ffc1221a51620",
     "grade": true,
     "grade_id": "cell-e16c24eaac3f11b5",
     "locked": false,
     "points": 0,
     "schema_version": 3,
     "solution": true,
     "task": false
    }
   },
   "source": [
    "Here the plot of mixed distribution has a multimodal mixed shape which has the shape of Exponential(peaks near 0), Normal 1(peaks at 5) and Normal 2(peaks at 10) [Generally the normal distribution peaks will be at it's mean]. "
   ]
  },
  {
   "cell_type": "markdown",
   "metadata": {
    "id": "CydHdEybQO7z",
    "nbgrader": {
     "cell_type": "markdown",
     "checksum": "c2dcac69f65d090f1837c58f6910c853",
     "grade": false,
     "grade_id": "cell-e1f442344da8e691",
     "locked": true,
     "schema_version": 3,
     "solution": false,
     "task": false
    }
   },
   "source": [
    "**B.3(b) [8 points] In this part, generate $m = 50,000$ random numbers from the mixture distribution that we worked with in B.3(a), and store those numbers in a vector `v`. The algorithm below should help!**\n",
    "\n",
    "1. Generate a single random number from the continuous uniform distribution $U(0,1)$. Call this number `u`. \n",
    "2. Use `u` to select among the three distributions from B.3(a) (i.e., $Exp(1)$, $N(5,1)$ or $N(10,2)$). For example, generate a random number from $Exp(1)$ if `u < 1/5`.  \n",
    "2. Repeat this process `m = 50,000` times.\n",
    "\n",
    "Then, create a histogram of `v`, and set `breaks = 30`. What do you notice about the distribution?"
   ]
  },
  {
   "cell_type": "code",
   "execution_count": 6,
   "metadata": {
    "colab": {
     "base_uri": "https://localhost:8080/",
     "height": 437
    },
    "executionInfo": {
     "elapsed": 5390,
     "status": "ok",
     "timestamp": 1632965910906,
     "user": {
      "displayName": "Eric Young",
      "photoUrl": "https://lh3.googleusercontent.com/a/default-user=s64",
      "userId": "14315698820705127118"
     },
     "user_tz": 360
    },
    "id": "i4PmtY-dQO70",
    "nbgrader": {
     "cell_type": "code",
     "checksum": "52a94b6d6e986ca70d6e1130bc3fc9b4",
     "grade": true,
     "grade_id": "cell-1851074d32914ad7",
     "locked": false,
     "points": 10,
     "schema_version": 3,
     "solution": true,
     "task": false
    },
    "outputId": "3ebfa2ce-90b0-498b-b5e7-a52b3e5b58b4"
   },
   "outputs": [
    {
     "data": {
      "image/png": "[encoded data removed]",
      "text/plain": [
       "Plot with title \"Histogram representing Numbers from Mixture Distribution\""
      ]
     },
     "metadata": {},
     "output_type": "display_data"
    }
   ],
   "source": [
    "m = 50000\n",
    "v = numeric(m)\n",
    "probs = c(1/5, 2/5, 2/5)\n",
    "for (i in 1:m) {\n",
    "\n",
    "  dist_index = sample(1:3, size = 1, prob = probs)\n",
    "  \n",
    "  if (dist_index == 1) {\n",
    "    v[i] = rexp(1, rate = 1) \n",
    "  } else if (dist_index == 2) {\n",
    "    v[i] = rnorm(1, mean = 5, sd = 1)  \n",
    "  } else {\n",
    "    v[i] = rnorm(1, mean = 10, sd = 2) \n",
    "  }\n",
    "}\n",
    "hist(v, breaks = 30, main = \"Histogram representing Numbers from Mixture Distribution\", \n",
    "     xlab = \"Values\", ylab = \"Frequency\", col = \"pink\", border = \"black\")\n",
    "# lines(density(v), col = \"red\", lwd = 5)"
   ]
  },
  {
   "cell_type": "markdown",
   "metadata": {
    "id": "HS-csGPuQO71",
    "nbgrader": {
     "cell_type": "markdown",
     "checksum": "077c1b70dce1ac79e8d523c2f3f4a973",
     "grade": true,
     "grade_id": "cell-ab7a8f02181b6476",
     "locked": false,
     "points": 3,
     "schema_version": 3,
     "solution": true,
     "task": false
    }
   },
   "source": [
    "I'm noticing the multimodal distribution here, Where I noticed a peak at '0' because of the exponential distribution's function, noticed a peak at '5' because of normal distribution 1 and noticed a peak at '10 because of the normal distribution 2.\n",
    "The overall distribution reflects the mixture of three different distributions. "
   ]
  },
  {
   "cell_type": "markdown",
   "metadata": {
    "nbgrader": {
     "cell_type": "markdown",
     "checksum": "4bfec50bc8d09dd73d155b92e15d7a83",
     "grade": false,
     "grade_id": "cell-15aea8ddb95584a4",
     "locked": true,
     "schema_version": 3,
     "solution": false,
     "task": false
    }
   },
   "source": [
    "**B.3(c) [4 points] Compute the theoretical mean and variance for this mixture, i.e., $E[X]$ and $Var[X]$ from the formulas in Problem A.4. Then, compare those values to the sample mean and variance of `v`. What do you notice?**"
   ]
  },
  {
   "cell_type": "code",
   "execution_count": 7,
   "metadata": {
    "nbgrader": {
     "cell_type": "code",
     "checksum": "fe6f21d6ccbefdebb3de05eaf8d51bef",
     "grade": true,
     "grade_id": "cell-e9db5c2884519c28",
     "locked": false,
     "points": 0,
     "schema_version": 3,
     "solution": true,
     "task": false
    }
   },
   "outputs": [
    {
     "name": "stdout",
     "output_type": "stream",
     "text": [
      "Theoretical Mean:  6.2 \n",
      "Theoretical Variance:  13.96 \n",
      "Sample Mean:  6.214352 \n",
      "Sample Variance:  14.00508 \n"
     ]
    }
   ],
   "source": [
    "alpha = c(1/5, 2/5, 2/5) \n",
    "\n",
    "mean_exp = 1    \n",
    "mean_norm1 = 5    \n",
    "mean_norm2 = 10   \n",
    "\n",
    "var_exp = 1^2  \n",
    "var_norm1 = 1^2  \n",
    "var_norm2 = 2^2  \n",
    "\n",
    "t_mean = alpha[1]*mean_exp + alpha[2]*mean_norm1 + alpha[3]*mean_norm2\n",
    "cat(\"Theoretical Mean: \", t_mean, \"\\n\")\n",
    "\n",
    "t_variance = alpha[1]*(var_exp + mean_exp^2) + \n",
    "                       alpha[2]*(var_norm1 + mean_norm1^2) + \n",
    "                       alpha[3]*(var_norm2 + mean_norm2^2) - t_mean^2\n",
    "cat(\"Theoretical Variance: \", t_variance, \"\\n\")\n",
    "\n",
    "s_mean = mean(v)\n",
    "s_variance = var(v)\n",
    "\n",
    "# Print the sample mean and variance\n",
    "cat(\"Sample Mean: \", s_mean, \"\\n\")\n",
    "cat(\"Sample Variance: \", s_variance, \"\\n\")\n"
   ]
  },
  {
   "cell_type": "markdown",
   "metadata": {
    "nbgrader": {
     "cell_type": "markdown",
     "checksum": "857bd1e801b738f03b9320cbef7f3c6c",
     "grade": true,
     "grade_id": "cell-ff74f9aa0d83edc0",
     "locked": false,
     "points": 0,
     "schema_version": 3,
     "solution": true,
     "task": false
    }
   },
   "source": [
    "Here, the both the theoretical mean and the sample mean are almost the same because here the number of iterations are 50,000 and as the 'n' is large we'll get the sample mean and theoretical mean closer to same.\n",
    "\n",
    "Here, both the theoretical variance and sample variance are also almost similar due to the larger iterations if the n value is lower we might have seen a larger difference."
   ]
  },
  {
   "cell_type": "code",
   "execution_count": null,
   "metadata": {},
   "outputs": [],
   "source": []
  }
 ],
 "metadata": {
  "colab": {
   "name": "STAT5000_HW4_Solutions.ipynb",
   "provenance": []
  },
  "kernelspec": {
   "display_name": "R",
   "language": "R",
   "name": "ir"
  },
  "language_info": {
   "codemirror_mode": "r",
   "file_extension": ".r",
   "mimetype": "text/x-r-source",
   "name": "R",
   "pygments_lexer": "r",
   "version": "3.6.1"
  }
 },
 "nbformat": 4,
 "nbformat_minor": 4
}

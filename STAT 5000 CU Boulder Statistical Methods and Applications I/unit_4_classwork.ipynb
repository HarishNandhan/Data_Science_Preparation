{
 "cells": [
  {
   "cell_type": "markdown",
   "metadata": {
    "nbgrader": {
     "cell_type": "markdown",
     "checksum": "f29405ff9b18384c56860d01fdf81cf1",
     "grade": false,
     "grade_id": "cell-10b1a9d3bc816a20",
     "locked": true,
     "schema_version": 3,
     "solution": false,
     "task": false
    }
   },
   "source": [
    "# Unit 4 Classwork \n",
    "\n",
    "The goals of this assignment are to help you (1) use numerical simulation to analyze and interpret the Central Limit Theorem, (2) calculate probabilities using `R`, and (3) estimate probabilities and other quantities through numerical (computer) simulation. Such simulations can be useful. We can use simulations to help confirm that we've calculated a probability \"by hand\" correctly, or to estimate other quantities, like areas/integrals!\n",
    "\n",
    "\n",
    "## Problem 1\n",
    "\n",
    "**1.(a) In a matrix `x`, generate $500$ samples, each of size $n = 50$, from your favorite (non-normal) distribution.**\n",
    "\n",
    "*Note! In any practical scenario, we would only have one sample of size $n$. The purpose here is the study the distribution of the sample mean, $\\bar{x}$, over many (here, $500$) samples. This is an extremely important concept for statistical inference. The distribution of the sample mean, as well as the distribution of other estimators, over many samples will be used used heavily in the statistical inference portion of the class.*"
   ]
  },
  {
   "cell_type": "code",
   "execution_count": 28,
   "metadata": {
    "nbgrader": {
     "cell_type": "code",
     "checksum": "b82c45936a7abc064ccb6a1d8191015e",
     "grade": true,
     "grade_id": "cell-a5b95824956f6472",
     "locked": false,
     "points": 1,
     "schema_version": 3,
     "solution": true,
     "task": false
    },
    "vscode": {
     "languageId": "r"
    }
   },
   "outputs": [
    {
     "data": {
      "text/html": [
       "<table>\n",
       "<tbody>\n",
       "\t<tr><td>25 </td><td>27 </td><td>25 </td><td>23 </td><td>23 </td><td>23 </td><td>20 </td><td>20 </td><td>22 </td><td>25 </td><td>...</td><td>27 </td><td>25 </td><td>27 </td><td>26 </td><td>28 </td><td>29 </td><td>26 </td><td>25 </td><td>23 </td><td>21 </td></tr>\n",
       "\t<tr><td>26 </td><td>29 </td><td>29 </td><td>26 </td><td>24 </td><td>28 </td><td>19 </td><td>27 </td><td>24 </td><td>25 </td><td>...</td><td>26 </td><td>24 </td><td>24 </td><td>27 </td><td>19 </td><td>24 </td><td>26 </td><td>20 </td><td>29 </td><td>23 </td></tr>\n",
       "\t<tr><td>22 </td><td>30 </td><td>25 </td><td>17 </td><td>24 </td><td>25 </td><td>21 </td><td>22 </td><td>33 </td><td>22 </td><td>...</td><td>20 </td><td>21 </td><td>28 </td><td>25 </td><td>25 </td><td>32 </td><td>26 </td><td>26 </td><td>27 </td><td>27 </td></tr>\n",
       "\t<tr><td>28 </td><td>24 </td><td>19 </td><td>25 </td><td>21 </td><td>24 </td><td>21 </td><td>22 </td><td>27 </td><td>29 </td><td>...</td><td>26 </td><td>30 </td><td>23 </td><td>28 </td><td>25 </td><td>23 </td><td>32 </td><td>25 </td><td>26 </td><td>23 </td></tr>\n",
       "\t<tr><td>20 </td><td>29 </td><td>29 </td><td>27 </td><td>22 </td><td>21 </td><td>27 </td><td>28 </td><td>29 </td><td>24 </td><td>...</td><td>27 </td><td>25 </td><td>22 </td><td>24 </td><td>22 </td><td>23 </td><td>24 </td><td>32 </td><td>28 </td><td>23 </td></tr>\n",
       "\t<tr><td>29 </td><td>31 </td><td>22 </td><td>25 </td><td>23 </td><td>27 </td><td>26 </td><td>31 </td><td>21 </td><td>27 </td><td>...</td><td>26 </td><td>26 </td><td>26 </td><td>21 </td><td>24 </td><td>25 </td><td>20 </td><td>29 </td><td>21 </td><td>21 </td></tr>\n",
       "</tbody>\n",
       "</table>\n"
      ],
      "text/latex": [
       "\\begin{tabular}{llllllllllllllllllllllllllllllllllllllllllllllllll}\n",
       "\t 25  & 27  & 25  & 23  & 23  & 23  & 20  & 20  & 22  & 25  & ... & 27  & 25  & 27  & 26  & 28  & 29  & 26  & 25  & 23  & 21 \\\\\n",
       "\t 26  & 29  & 29  & 26  & 24  & 28  & 19  & 27  & 24  & 25  & ... & 26  & 24  & 24  & 27  & 19  & 24  & 26  & 20  & 29  & 23 \\\\\n",
       "\t 22  & 30  & 25  & 17  & 24  & 25  & 21  & 22  & 33  & 22  & ... & 20  & 21  & 28  & 25  & 25  & 32  & 26  & 26  & 27  & 27 \\\\\n",
       "\t 28  & 24  & 19  & 25  & 21  & 24  & 21  & 22  & 27  & 29  & ... & 26  & 30  & 23  & 28  & 25  & 23  & 32  & 25  & 26  & 23 \\\\\n",
       "\t 20  & 29  & 29  & 27  & 22  & 21  & 27  & 28  & 29  & 24  & ... & 27  & 25  & 22  & 24  & 22  & 23  & 24  & 32  & 28  & 23 \\\\\n",
       "\t 29  & 31  & 22  & 25  & 23  & 27  & 26  & 31  & 21  & 27  & ... & 26  & 26  & 26  & 21  & 24  & 25  & 20  & 29  & 21  & 21 \\\\\n",
       "\\end{tabular}\n"
      ],
      "text/markdown": [
       "\n",
       "| 25  | 27  | 25  | 23  | 23  | 23  | 20  | 20  | 22  | 25  | ... | 27  | 25  | 27  | 26  | 28  | 29  | 26  | 25  | 23  | 21  |\n",
       "| 26  | 29  | 29  | 26  | 24  | 28  | 19  | 27  | 24  | 25  | ... | 26  | 24  | 24  | 27  | 19  | 24  | 26  | 20  | 29  | 23  |\n",
       "| 22  | 30  | 25  | 17  | 24  | 25  | 21  | 22  | 33  | 22  | ... | 20  | 21  | 28  | 25  | 25  | 32  | 26  | 26  | 27  | 27  |\n",
       "| 28  | 24  | 19  | 25  | 21  | 24  | 21  | 22  | 27  | 29  | ... | 26  | 30  | 23  | 28  | 25  | 23  | 32  | 25  | 26  | 23  |\n",
       "| 20  | 29  | 29  | 27  | 22  | 21  | 27  | 28  | 29  | 24  | ... | 27  | 25  | 22  | 24  | 22  | 23  | 24  | 32  | 28  | 23  |\n",
       "| 29  | 31  | 22  | 25  | 23  | 27  | 26  | 31  | 21  | 27  | ... | 26  | 26  | 26  | 21  | 24  | 25  | 20  | 29  | 21  | 21  |\n",
       "\n"
      ],
      "text/plain": [
       "     [,1] [,2] [,3] [,4] [,5] [,6] [,7] [,8] [,9] [,10] [,11] [,12] [,13] [,14]\n",
       "[1,] 25   27   25   23   23   23   20   20   22   25    ...   27    25    27   \n",
       "[2,] 26   29   29   26   24   28   19   27   24   25    ...   26    24    24   \n",
       "[3,] 22   30   25   17   24   25   21   22   33   22    ...   20    21    28   \n",
       "[4,] 28   24   19   25   21   24   21   22   27   29    ...   26    30    23   \n",
       "[5,] 20   29   29   27   22   21   27   28   29   24    ...   27    25    22   \n",
       "[6,] 29   31   22   25   23   27   26   31   21   27    ...   26    26    26   \n",
       "     [,15] [,16] [,17] [,18] [,19] [,20] [,21]\n",
       "[1,] 26    28    29    26    25    23    21   \n",
       "[2,] 27    19    24    26    20    29    23   \n",
       "[3,] 25    25    32    26    26    27    27   \n",
       "[4,] 28    25    23    32    25    26    23   \n",
       "[5,] 24    22    23    24    32    28    23   \n",
       "[6,] 21    24    25    20    29    21    21   "
      ]
     },
     "metadata": {},
     "output_type": "display_data"
    },
    {
     "data": {
      "text/html": [
       "<ol class=list-inline>\n",
       "\t<li>500</li>\n",
       "\t<li>50</li>\n",
       "</ol>\n"
      ],
      "text/latex": [
       "\\begin{enumerate*}\n",
       "\\item 500\n",
       "\\item 50\n",
       "\\end{enumerate*}\n"
      ],
      "text/markdown": [
       "1. 500\n",
       "2. 50\n",
       "\n",
       "\n"
      ],
      "text/plain": [
       "[1] 500  50"
      ]
     },
     "metadata": {},
     "output_type": "display_data"
    }
   ],
   "source": [
    "m = 500\n",
    "n = 50\n",
    "\n",
    "# for a binomial random variable\n",
    "p = 0.5\n",
    "\n",
    "x = t(replicate(m, expr = rbinom(50, n, p)))\n",
    "head(x)\n",
    "dim(x)"
   ]
  },
  {
   "cell_type": "markdown",
   "metadata": {
    "nbgrader": {
     "cell_type": "markdown",
     "checksum": "2551f6ca2b65b06d897d0179df753395",
     "grade": false,
     "grade_id": "cell-76719d63ae6732db",
     "locked": true,
     "schema_version": 3,
     "solution": false,
     "task": false
    }
   },
   "source": [
    "**1.(b) Calculate the mean of each sample. This should be a vector of size $500$. Call this vector `xbar`.**\n",
    "\n",
    "*Note: `xbar` represents the means of $500$ different samples (again: in the real world, we'd only have one of these samples; but this allows us to think about the distribution of the estimator `xbar`).*\n"
   ]
  },
  {
   "cell_type": "code",
   "execution_count": 29,
   "metadata": {
    "nbgrader": {
     "cell_type": "code",
     "checksum": "3fa8de14efe6130a1ce543f115012a76",
     "grade": true,
     "grade_id": "cell-55f6e05894def81f",
     "locked": false,
     "points": 1,
     "schema_version": 3,
     "solution": true,
     "task": false
    },
    "vscode": {
     "languageId": "r"
    }
   },
   "outputs": [
    {
     "data": {
      "text/html": [
       "<ol class=list-inline>\n",
       "\t<li>25.28</li>\n",
       "\t<li>24.48</li>\n",
       "\t<li>25.4</li>\n",
       "\t<li>25.14</li>\n",
       "\t<li>24.98</li>\n",
       "\t<li>25.06</li>\n",
       "</ol>\n"
      ],
      "text/latex": [
       "\\begin{enumerate*}\n",
       "\\item 25.28\n",
       "\\item 24.48\n",
       "\\item 25.4\n",
       "\\item 25.14\n",
       "\\item 24.98\n",
       "\\item 25.06\n",
       "\\end{enumerate*}\n"
      ],
      "text/markdown": [
       "1. 25.28\n",
       "2. 24.48\n",
       "3. 25.4\n",
       "4. 25.14\n",
       "5. 24.98\n",
       "6. 25.06\n",
       "\n",
       "\n"
      ],
      "text/plain": [
       "[1] 25.28 24.48 25.40 25.14 24.98 25.06"
      ]
     },
     "metadata": {},
     "output_type": "display_data"
    }
   ],
   "source": [
    "xbar = rowMeans(x)\n",
    "head(xbar)"
   ]
  },
  {
   "cell_type": "markdown",
   "metadata": {
    "nbgrader": {
     "cell_type": "markdown",
     "checksum": "bd4c78a986762810d4722ee492ef3dc5",
     "grade": false,
     "grade_id": "cell-4349250b66d99c1e",
     "locked": true,
     "schema_version": 3,
     "solution": false,
     "task": false
    }
   },
   "source": [
    "**1.(c) Construct a histogram of the means. Characterize the distribution of `xbar`. What is the sample mean of `xbar`? The variance of `xbar`?**"
   ]
  },
  {
   "cell_type": "code",
   "execution_count": 30,
   "metadata": {
    "nbgrader": {
     "cell_type": "code",
     "checksum": "dc4fdce588ad15b7c94a8cb38f603214",
     "grade": true,
     "grade_id": "cell-01f0a85442b77c95",
     "locked": false,
     "points": 1,
     "schema_version": 3,
     "solution": true,
     "task": false
    },
    "vscode": {
     "languageId": "r"
    }
   },
   "outputs": [
    {
     "data": {
      "text/html": [
       "25.04132"
      ],
      "text/latex": [
       "25.04132"
      ],
      "text/markdown": [
       "25.04132"
      ],
      "text/plain": [
       "[1] 25.04132"
      ]
     },
     "metadata": {},
     "output_type": "display_data"
    },
    {
     "data": {
      "text/html": [
       "0.271502061723447"
      ],
      "text/latex": [
       "0.271502061723447"
      ],
      "text/markdown": [
       "0.271502061723447"
      ],
      "text/plain": [
       "[1] 0.2715021"
      ]
     },
     "metadata": {},
     "output_type": "display_data"
    },
    {
     "data": {
      "image/png": "[encoded data removed]",
      "text/plain": [
       "Plot with title \"Histogram of xbar\""
      ]
     },
     "metadata": {},
     "output_type": "display_data"
    }
   ],
   "source": [
    "mean(xbar)\n",
    "var(xbar)\n",
    "\n",
    "hist(xbar, freq=FALSE, breaks = 15, ylim = c(0,0.9), c = 'blue')\n",
    "curve(dnorm(x,mean = n*p, sd= sqrt(p*(1-p))),add=TRUE)"
   ]
  },
  {
   "cell_type": "markdown",
   "metadata": {
    "nbgrader": {
     "cell_type": "markdown",
     "checksum": "4f42a264950fdb8842687358ac923f2b",
     "grade": false,
     "grade_id": "cell-dbbd743779399c64",
     "locked": true,
     "schema_version": 3,
     "solution": false,
     "task": false
    }
   },
   "source": [
    "**1.(d) What theoretical result from class is this a demonstration of?**"
   ]
  },
  {
   "cell_type": "markdown",
   "metadata": {
    "collapsed": true,
    "jupyter": {
     "outputs_hidden": true
    },
    "nbgrader": {
     "cell_type": "markdown",
     "checksum": "36bb1548372c9dd319862dec2048335d",
     "grade": true,
     "grade_id": "cell-b8bdf8452699280b",
     "locked": false,
     "points": 1,
     "schema_version": 3,
     "solution": true,
     "task": false
    }
   },
   "source": [
    "Central Limit Theorem"
   ]
  },
  {
   "cell_type": "markdown",
   "metadata": {},
   "source": [
    "## Problem 2\n",
    "\n",
    "The amount of impurity in a batch of a chemical product is a random variable with mean value $4.0 \\, \\text{g}$ and standard deviation $1.5 \\, \\text{g}$. The distribution of this random variable is unknown.\n",
    "\n",
    "**If 50 batches are independently prepared, what is the (approximate) probability that the average amount of impurity in these $50$ batches is between $3.5 \\, \\text{g}$ and $3.8 \\, \\text{g}$?**"
   ]
  },
  {
   "cell_type": "code",
   "execution_count": 39,
   "metadata": {
    "vscode": {
     "languageId": "r"
    }
   },
   "outputs": [
    {
     "data": {
      "text/html": [
       "0.16367823034853"
      ],
      "text/latex": [
       "0.16367823034853"
      ],
      "text/markdown": [
       "0.16367823034853"
      ],
      "text/plain": [
       "[1] 0.1636782"
      ]
     },
     "metadata": {},
     "output_type": "display_data"
    }
   ],
   "source": [
    "n = 50\n",
    "mu = 4\n",
    "sigma = 1.5\n",
    "xbar_sigma = 1.5/sqrt(n)\n",
    "pnorm(3.8,mu,xbar_sigma) - pnorm(3.5,mu,xbar_sigma)"
   ]
  },
  {
   "cell_type": "markdown",
   "metadata": {
    "nbgrader": {
     "cell_type": "markdown",
     "checksum": "6e9fb9a61216382a8d1e27b09d229e93",
     "grade": false,
     "grade_id": "cell-2cb754dca07d8179",
     "locked": true,
     "schema_version": 3,
     "solution": false,
     "task": false
    }
   },
   "source": [
    "## Problem 3\n",
    "\n",
    "Suppose that we are going to collect data containing information for $480$ purchases at Monk's Cafe. Further, suppose we know two out of every three purchases at Monk's Cafe are paid for by credit cards.\n",
    "\n",
    "**3.(a) What is the probability that greater than $300$ (of the $480$) purchases will be made by credit card? Use a binomially distributed random variable here.**"
   ]
  },
  {
   "cell_type": "code",
   "execution_count": 32,
   "metadata": {
    "nbgrader": {
     "cell_type": "code",
     "checksum": "82310de3a677310e08be1baa8aea8d82",
     "grade": true,
     "grade_id": "cell-162339bf16c02c7e",
     "locked": false,
     "points": 1,
     "schema_version": 3,
     "solution": true,
     "task": false
    },
    "vscode": {
     "languageId": "r"
    }
   },
   "outputs": [
    {
     "data": {
      "text/html": [
       "0.969637219442597"
      ],
      "text/latex": [
       "0.969637219442597"
      ],
      "text/markdown": [
       "0.969637219442597"
      ],
      "text/plain": [
       "[1] 0.9696372"
      ]
     },
     "metadata": {},
     "output_type": "display_data"
    }
   ],
   "source": [
    "# Compute the Exact Probability\n",
    "n = 480\n",
    "p = 2/3\n",
    "# prob(creditcards)>300\n",
    "1 - pbinom(300,n,p)"
   ]
  },
  {
   "cell_type": "markdown",
   "metadata": {
    "nbgrader": {
     "cell_type": "markdown",
     "checksum": "eb072d9e94f2b405f29ae820459d87d7",
     "grade": false,
     "grade_id": "cell-3e0ac2e70a1b6168",
     "locked": true,
     "schema_version": 3,
     "solution": false,
     "task": false
    }
   },
   "source": [
    "**3.(b) Now, consider $X \\sim N\\left(\\mu=np, \\sigma= \\sqrt{np(1 - p)}\\right)$, for appropriate values of $n$ and $p$. Find the probability that $X$ is greater than $300$. Compare this to the answer in part 3.(a).**"
   ]
  },
  {
   "cell_type": "code",
   "execution_count": 33,
   "metadata": {
    "nbgrader": {
     "cell_type": "code",
     "checksum": "0ca70b7fa502e883f6d3c64528902b38",
     "grade": true,
     "grade_id": "cell-93879c8df6a6dedf",
     "locked": false,
     "points": 1,
     "schema_version": 3,
     "solution": true,
     "task": false
    },
    "vscode": {
     "languageId": "r"
    }
   },
   "outputs": [
    {
     "data": {
      "text/html": [
       "0.973596244291943"
      ],
      "text/latex": [
       "0.973596244291943"
      ],
      "text/markdown": [
       "0.973596244291943"
      ],
      "text/plain": [
       "[1] 0.9735962"
      ]
     },
     "metadata": {},
     "output_type": "display_data"
    }
   ],
   "source": [
    "n = 480\n",
    "p = 2/3\n",
    "#After Applying the Central Limit Theorem\n",
    "1 - pnorm((300 - n*p)/sqrt(n*p*(1-p)))"
   ]
  },
  {
   "cell_type": "markdown",
   "metadata": {},
   "source": [
    "Here both the methods give the probability of around 97%. The normal approx. is close to binomial's value. Binomial distributions with the Larger n value(m=480) and the probability is not too close to 0 or 1 and it can be approximated by normal distribution. But here, Binomial distribution predicts it's accurate precise value."
   ]
  },
  {
   "cell_type": "markdown",
   "metadata": {
    "nbgrader": {
     "cell_type": "markdown",
     "checksum": "5dc75932037bfed458473445c2f0111a",
     "grade": false,
     "grade_id": "cell-7a5f0fe53ff53299",
     "locked": true,
     "schema_version": 3,
     "solution": false,
     "task": false
    }
   },
   "source": [
    "**3.(c) Plot the PMF of the binomial random variable used in 3.(a) and the PDF of $X$ from part 3.(b). Comment on the plots.**\n"
   ]
  },
  {
   "cell_type": "code",
   "execution_count": 34,
   "metadata": {
    "nbgrader": {
     "cell_type": "code",
     "checksum": "b0e1f458f7a940ddbc3bdaa86ddfeeab",
     "grade": true,
     "grade_id": "cell-283bc7553c7c2af9",
     "locked": false,
     "points": 1,
     "schema_version": 3,
     "solution": true,
     "task": false
    },
    "vscode": {
     "languageId": "r"
    }
   },
   "outputs": [
    {
     "data": {
      "image/png": "[encoded data removed]",
      "text/plain": [
       "Plot with title \"pmf_binomial vs pdf_normal\""
      ]
     },
     "metadata": {},
     "output_type": "display_data"
    }
   ],
   "source": [
    "x <- 250:390\n",
    "pmf_binomial = dbinom(x, n, p)\n",
    "pdf_normal = dnorm(x, n*p, sqrt(n*p*(1-p)))\n",
    "plot(x, pmf_binomial, type = \"h\", lwd = 5, col = \"red\",\n",
    "     main = \"pmf_binomial vs pdf_normal\",\n",
    "     xlab = \"No. of credit card purchase\",\n",
    "     ylab = \"Prob\",\n",
    "     ylim = c(0, max(pmf_binomial,pdf_normal)))\n",
    "\n",
    "lines(x, pdf_normal, col = 'blue', lwd = 5)\n",
    "legend(\"topright\", legend = c(\"PMF Binomial\", \"PDF Normal\"),\n",
    "       col = c(\"red\", \"blue\"), lwd = 5)"
   ]
  },
  {
   "cell_type": "markdown",
   "metadata": {
    "nbgrader": {
     "cell_type": "markdown",
     "checksum": "e7e129a5c66215cc67ea3bbc66ffdc8f",
     "grade": true,
     "grade_id": "cell-9a298bd63f367482",
     "locked": false,
     "points": 0,
     "schema_version": 3,
     "solution": true,
     "task": false
    }
   },
   "source": [
    "- Both the distribution shows a bell shaped curve.\n",
    "- The curves are symmetric and they are centered around the mean.\n",
    "- Binomial dist. here is 'discrete' and Normal Dist. here is 'continuous'.\n",
    "- Here the normal approximation works because of the large 'n' value and p value(n=480) which is not of the extreme case like either '0' or '1'(p=2/3).\n"
   ]
  },
  {
   "cell_type": "markdown",
   "metadata": {
    "nbgrader": {
     "cell_type": "markdown",
     "checksum": "8d08eee200438de81fade36e0adffb34",
     "grade": false,
     "grade_id": "cell-b6ee105a1f36bf40",
     "locked": true,
     "schema_version": 3,
     "solution": false,
     "task": false
    }
   },
   "source": [
    "**3.(d) Find the probability that between $300$ and $320$ people will pay for their purchases using a credit card. Use both the binomial distribution and the normal approximation given above.**"
   ]
  },
  {
   "cell_type": "code",
   "execution_count": 35,
   "metadata": {
    "nbgrader": {
     "cell_type": "code",
     "checksum": "580585edf4448de2e97e6470c429318e",
     "grade": true,
     "grade_id": "cell-1a7a243bf1c14460",
     "locked": false,
     "points": 1,
     "schema_version": 3,
     "solution": true,
     "task": false
    },
    "vscode": {
     "languageId": "r"
    }
   },
   "outputs": [],
   "source": [
    "prob_binomial <- pbinom(320, n, p) - pbinom(300, n, p)\n",
    "prob_normal <- pnorm(320.5, n*p, sqrt(n*p*(1-p))) - pnorm(299.5, n*p, sqrt(n*p*(1-p))) #Continuity Correction for Normal Distribution"
   ]
  },
  {
   "cell_type": "code",
   "execution_count": 36,
   "metadata": {},
   "outputs": [
    {
     "data": {
      "text/html": [
       "0.486798501977237"
      ],
      "text/latex": [
       "0.486798501977237"
      ],
      "text/markdown": [
       "0.486798501977237"
      ],
      "text/plain": [
       "[1] 0.4867985"
      ]
     },
     "metadata": {},
     "output_type": "display_data"
    }
   ],
   "source": [
    "prob_binomial"
   ]
  },
  {
   "cell_type": "code",
   "execution_count": 27,
   "metadata": {},
   "outputs": [
    {
     "data": {
      "text/html": [
       "0.495728589743681"
      ],
      "text/latex": [
       "0.495728589743681"
      ],
      "text/markdown": [
       "0.495728589743681"
      ],
      "text/plain": [
       "[1] 0.4957286"
      ]
     },
     "metadata": {},
     "output_type": "display_data"
    }
   ],
   "source": [
    "prob_normal"
   ]
  }
 ],
 "metadata": {
  "kernelspec": {
   "display_name": "R",
   "language": "R",
   "name": "ir"
  },
  "language_info": {
   "codemirror_mode": "r",
   "file_extension": ".r",
   "mimetype": "text/x-r-source",
   "name": "R",
   "pygments_lexer": "r",
   "version": "3.6.1"
  }
 },
 "nbformat": 4,
 "nbformat_minor": 4
}

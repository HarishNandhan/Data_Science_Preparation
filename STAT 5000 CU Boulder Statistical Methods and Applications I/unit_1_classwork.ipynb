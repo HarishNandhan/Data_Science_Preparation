{
 "cells": [
  {
   "cell_type": "markdown",
   "metadata": {
    "deletable": false,
    "nbgrader": {
     "cell_type": "markdown",
     "checksum": "dc79ad1b924a4f794ef725efb808f0a3",
     "grade": false,
     "grade_id": "cell-c7e24a7157064630",
     "locked": true,
     "schema_version": 3,
     "solution": false,
     "task": false
    }
   },
   "source": [
    "# Unit 1: Probability\n",
    "\n",
    "The goals of this assignment are to help you (1) calculate probabilities, (2) simulate probabilistic processes, and (3) estimate probabilities through numerical (computer) simulation. Such simulations can be useful. We can use simulations to help confirm that we've calculated a probability \"by hand\" correctly."
   ]
  },
  {
   "cell_type": "markdown",
   "metadata": {
    "deletable": false,
    "nbgrader": {
     "cell_type": "markdown",
     "checksum": "57a5ff05489fae28611fa1b9ce6ad869",
     "grade": false,
     "grade_id": "cell-d874abece47154cb",
     "locked": true,
     "schema_version": 3,
     "solution": false,
     "task": false
    }
   },
   "source": [
    "## Problem 1\n",
    "\n",
    "**1.(a) Construct a vector/array that represents a coin. The vector, called `coin`, should have two entries, one for heads and one for tails.**"
   ]
  },
  {
   "cell_type": "code",
   "execution_count": 52,
   "metadata": {
    "deletable": false,
    "nbgrader": {
     "cell_type": "code",
     "checksum": "9ab478b48e5787ef62974b47b9cc9f50",
     "grade": true,
     "grade_id": "cell-3562daacea45754d",
     "locked": false,
     "points": 1,
     "schema_version": 3,
     "solution": true,
     "task": false
    },
    "vscode": {
     "languageId": "r"
    }
   },
   "outputs": [
    {
     "data": {
      "text/html": [
       "<ol class=list-inline>\n",
       "\t<li>'H'</li>\n",
       "\t<li>'T'</li>\n",
       "</ol>\n"
      ],
      "text/latex": [
       "\\begin{enumerate*}\n",
       "\\item 'H'\n",
       "\\item 'T'\n",
       "\\end{enumerate*}\n"
      ],
      "text/markdown": [
       "1. 'H'\n",
       "2. 'T'\n",
       "\n",
       "\n"
      ],
      "text/plain": [
       "[1] \"H\" \"T\""
      ]
     },
     "metadata": {},
     "output_type": "display_data"
    }
   ],
   "source": [
    "coin = c(\"H\",\"T\")\n",
    "coin"
   ]
  },
  {
   "cell_type": "markdown",
   "metadata": {
    "deletable": false,
    "nbgrader": {
     "cell_type": "markdown",
     "checksum": "94e25b5fa0e519146e4eaf3898f0fed3",
     "grade": false,
     "grade_id": "cell-1063ff767a2d5d12",
     "locked": true,
     "schema_version": 3,
     "solution": false,
     "task": false
    }
   },
   "source": [
    "**1.(b) Simulate flipping the coin $500$ times (the function `sample()` may be useful here)**"
   ]
  },
  {
   "cell_type": "code",
   "execution_count": 53,
   "metadata": {
    "deletable": false,
    "nbgrader": {
     "cell_type": "code",
     "checksum": "58d57eedaa0668dbb4e1612fd5b47d09",
     "grade": true,
     "grade_id": "cell-dbe64190b2b71589",
     "locked": false,
     "points": 2,
     "schema_version": 3,
     "solution": true,
     "task": false
    },
    "vscode": {
     "languageId": "r"
    }
   },
   "outputs": [
    {
     "data": {
      "text/html": [
       "<ol class=list-inline>\n",
       "\t<li>'T'</li>\n",
       "\t<li>'H'</li>\n",
       "\t<li>'T'</li>\n",
       "\t<li>'H'</li>\n",
       "\t<li>'H'</li>\n",
       "\t<li>'T'</li>\n",
       "</ol>\n"
      ],
      "text/latex": [
       "\\begin{enumerate*}\n",
       "\\item 'T'\n",
       "\\item 'H'\n",
       "\\item 'T'\n",
       "\\item 'H'\n",
       "\\item 'H'\n",
       "\\item 'T'\n",
       "\\end{enumerate*}\n"
      ],
      "text/markdown": [
       "1. 'T'\n",
       "2. 'H'\n",
       "3. 'T'\n",
       "4. 'H'\n",
       "5. 'H'\n",
       "6. 'T'\n",
       "\n",
       "\n"
      ],
      "text/plain": [
       "[1] \"T\" \"H\" \"T\" \"H\" \"H\" \"T\""
      ]
     },
     "metadata": {},
     "output_type": "display_data"
    },
    {
     "data": {
      "text/html": [
       "<ol class=list-inline>\n",
       "\t<li>'T'</li>\n",
       "\t<li>'H'</li>\n",
       "\t<li>'T'</li>\n",
       "\t<li>'T'</li>\n",
       "\t<li>'H'</li>\n",
       "\t<li>'H'</li>\n",
       "</ol>\n"
      ],
      "text/latex": [
       "\\begin{enumerate*}\n",
       "\\item 'T'\n",
       "\\item 'H'\n",
       "\\item 'T'\n",
       "\\item 'T'\n",
       "\\item 'H'\n",
       "\\item 'H'\n",
       "\\end{enumerate*}\n"
      ],
      "text/markdown": [
       "1. 'T'\n",
       "2. 'H'\n",
       "3. 'T'\n",
       "4. 'T'\n",
       "5. 'H'\n",
       "6. 'H'\n",
       "\n",
       "\n"
      ],
      "text/plain": [
       "[1] \"T\" \"H\" \"T\" \"T\" \"H\" \"H\""
      ]
     },
     "metadata": {},
     "output_type": "display_data"
    }
   ],
   "source": [
    "set.seed(123)\n",
    "flips = sample(coin, size=500, prob = c(0.5,0.5), replace=TRUE)\n",
    "head(flips)\n",
    "tail(flips)"
   ]
  },
  {
   "cell_type": "markdown",
   "metadata": {
    "deletable": false,
    "nbgrader": {
     "cell_type": "markdown",
     "checksum": "d0b2bb3b04cf60f02110f9d5791f9dfc",
     "grade": false,
     "grade_id": "cell-9fac75e0fa33c5c3",
     "locked": true,
     "schema_version": 3,
     "solution": false,
     "task": false
    }
   },
   "source": [
    "**1.(c) Plot the proportion of times the \"coin\" landed on heads up to the $i^{th}$ flip, for $i = 1,...,500$. The $x$-axis should represent the number of flips, starting at $1$ and going to $500$, and the y-axis should represent the cumulative proportion of heads at flip $i$. Why does this number fluctuate more when the number of flips is smaller?**"
   ]
  },
  {
   "cell_type": "code",
   "execution_count": 54,
   "metadata": {
    "deletable": false,
    "nbgrader": {
     "cell_type": "code",
     "checksum": "42498c79fceb8ced8b553a31e56e7b0f",
     "grade": true,
     "grade_id": "cell-5ba3aa8eb98f5cc6",
     "locked": false,
     "points": 2,
     "schema_version": 3,
     "solution": true,
     "task": false
    },
    "vscode": {
     "languageId": "r"
    }
   },
   "outputs": [
    {
     "data": {
      "image/png": "[encoded data removed]",
      "text/plain": [
       "plot without title"
      ]
     },
     "metadata": {},
     "output_type": "display_data"
    }
   ],
   "source": [
    "cumulative_heads = 0\n",
    "plot_proportions = c()\n",
    "\n",
    "for (i in 1:length(flips)){\n",
    "    heads = flips[i] == \"H\"\n",
    "    cumulative_heads = cumulative_heads + heads\n",
    "    proportion_heads = cumulative_heads/i\n",
    "    plot_proportions = c(plot_proportions,proportion_heads)\n",
    "    }\n",
    "x = seq(1,length(flips))\n",
    "plot(x,plot_proportions,type = \"l\",ylim=c(0,1))\n",
    "abline(0.5,0)"
   ]
  },
  {
   "cell_type": "markdown",
   "metadata": {
    "deletable": false,
    "nbgrader": {
     "cell_type": "markdown",
     "checksum": "113627655d34192667af789c597c4065",
     "grade": true,
     "grade_id": "cell-527680e9754f02cb",
     "locked": false,
     "points": 1,
     "schema_version": 3,
     "solution": true,
     "task": false
    }
   },
   "source": [
    "Here, as we increase the number of flips the fluctuations will get decrease and the graph will get smoother to the 0.5 line. Smaller number of flips will have more fluctuations and graph will show more variation."
   ]
  },
  {
   "cell_type": "markdown",
   "metadata": {
    "deletable": false,
    "nbgrader": {
     "cell_type": "markdown",
     "checksum": "b2c769710e39fd9fbed5a2089e456db8",
     "grade": false,
     "grade_id": "cell-b46eb1ba8437fad3",
     "locked": true,
     "schema_version": 3,
     "solution": false,
     "task": false
    }
   },
   "source": [
    "#### (d) Repeat this process for a biased coin, where the probability of heads is $0.75$."
   ]
  },
  {
   "cell_type": "code",
   "execution_count": 55,
   "metadata": {
    "deletable": false,
    "nbgrader": {
     "cell_type": "code",
     "checksum": "2f90b2b82b9a86322eb8b3224a7aa0bc",
     "grade": true,
     "grade_id": "cell-25f898681bde5fe6",
     "locked": false,
     "points": 2,
     "schema_version": 3,
     "solution": true,
     "task": false
    },
    "vscode": {
     "languageId": "r"
    }
   },
   "outputs": [
    {
     "data": {
      "text/html": [
       "<ol class=list-inline>\n",
       "\t<li>'H'</li>\n",
       "\t<li>'H'</li>\n",
       "\t<li>'H'</li>\n",
       "\t<li>'H'</li>\n",
       "\t<li>'H'</li>\n",
       "\t<li>'H'</li>\n",
       "</ol>\n"
      ],
      "text/latex": [
       "\\begin{enumerate*}\n",
       "\\item 'H'\n",
       "\\item 'H'\n",
       "\\item 'H'\n",
       "\\item 'H'\n",
       "\\item 'H'\n",
       "\\item 'H'\n",
       "\\end{enumerate*}\n"
      ],
      "text/markdown": [
       "1. 'H'\n",
       "2. 'H'\n",
       "3. 'H'\n",
       "4. 'H'\n",
       "5. 'H'\n",
       "6. 'H'\n",
       "\n",
       "\n"
      ],
      "text/plain": [
       "[1] \"H\" \"H\" \"H\" \"H\" \"H\" \"H\""
      ]
     },
     "metadata": {},
     "output_type": "display_data"
    },
    {
     "data": {
      "text/html": [
       "<ol class=list-inline>\n",
       "\t<li>'H'</li>\n",
       "\t<li>'T'</li>\n",
       "\t<li>'H'</li>\n",
       "\t<li>'H'</li>\n",
       "\t<li>'H'</li>\n",
       "\t<li>'H'</li>\n",
       "</ol>\n"
      ],
      "text/latex": [
       "\\begin{enumerate*}\n",
       "\\item 'H'\n",
       "\\item 'T'\n",
       "\\item 'H'\n",
       "\\item 'H'\n",
       "\\item 'H'\n",
       "\\item 'H'\n",
       "\\end{enumerate*}\n"
      ],
      "text/markdown": [
       "1. 'H'\n",
       "2. 'T'\n",
       "3. 'H'\n",
       "4. 'H'\n",
       "5. 'H'\n",
       "6. 'H'\n",
       "\n",
       "\n"
      ],
      "text/plain": [
       "[1] \"H\" \"T\" \"H\" \"H\" \"H\" \"H\""
      ]
     },
     "metadata": {},
     "output_type": "display_data"
    },
    {
     "data": {
      "image/png": "[encoded data removed]",
      "text/plain": [
       "plot without title"
      ]
     },
     "metadata": {},
     "output_type": "display_data"
    }
   ],
   "source": [
    "flips = sample(coin, size=500, prob = c(0.75,0.25), replace=TRUE)\n",
    "head(flips)\n",
    "tail(flips)\n",
    "\n",
    "cumulative_heads = 0\n",
    "plot_proportions = c()\n",
    "\n",
    "for (i in 1:length(flips)){\n",
    "    heads = flips[i] == \"H\"\n",
    "    cumulative_heads = cumulative_heads + heads\n",
    "    proportion_heads = cumulative_heads/i\n",
    "    plot_proportions = c(plot_proportions,proportion_heads)\n",
    "    }\n",
    "x = seq(1,length(flips))\n",
    "plot(x,plot_proportions,type = \"s\",ylim=c(0,1))\n",
    "abline(0.5,0)\n"
   ]
  },
  {
   "cell_type": "markdown",
   "metadata": {
    "deletable": false,
    "nbgrader": {
     "cell_type": "markdown",
     "checksum": "67765c7dfdb39fd52302b31d0f758226",
     "grade": false,
     "grade_id": "cell-6c5a254eb7b24ea9",
     "locked": true,
     "schema_version": 3,
     "solution": false,
     "task": false
    }
   },
   "source": [
    "## Problem 2\n",
    "\n",
    "Suppose that your music app contains $100$ songs, $10$ of which are by the group BLACKPINK. Using the shuffle feature, what is the probability that the first BLACKPINK song heard is the fifth song played?\n",
    "\n",
    "Let's run a simulation to estimate the probability.\n",
    "\n",
    "1. Create a variable to represent the $100$ songs in your library, where $10$ are BLACKPINK songs (denoted with a `1`) and $90$ are non-BLACKPINK songs (denoted with a `0`). The result should be a vector named `songs` of length $100$, with $10$ `1`s and $90$ `0`s. Using `rep()` will make life easier!\n",
    "\n",
    "2. Randomly draw five songs, *without replacement*, from `songs` with the `sample()` function. What does the result look like?\n",
    "\n",
    "3. Write code to test whether the five-song draw from step 2 meets the description \"the first BLACKPINK song heard is the fifth song played\". \n",
    "\n",
    "4. Repeat step 2 `m = 10,000` times.\n",
    "\n",
    "5. Repeat step 3 for each of the `m` five song draws created in step 4.\n",
    "\n",
    "6. Estimate the probability that \"the first BLACKPINK song heard is the fifth song played\". What could make your answer more accurate? Less accurate?\n"
   ]
  },
  {
   "cell_type": "code",
   "execution_count": 46,
   "metadata": {
    "deletable": false,
    "nbgrader": {
     "cell_type": "code",
     "checksum": "55a4ac0a28c8564b1e70bc7382c65649",
     "grade": true,
     "grade_id": "cell-91f1c4497a246ac9",
     "locked": false,
     "points": 1,
     "schema_version": 3,
     "solution": true,
     "task": false
    },
    "vscode": {
     "languageId": "r"
    }
   },
   "outputs": [
    {
     "data": {
      "text/html": [
       "<ol class=list-inline>\n",
       "\t<li>1</li>\n",
       "\t<li>1</li>\n",
       "\t<li>1</li>\n",
       "\t<li>1</li>\n",
       "\t<li>1</li>\n",
       "\t<li>1</li>\n",
       "</ol>\n"
      ],
      "text/latex": [
       "\\begin{enumerate*}\n",
       "\\item 1\n",
       "\\item 1\n",
       "\\item 1\n",
       "\\item 1\n",
       "\\item 1\n",
       "\\item 1\n",
       "\\end{enumerate*}\n"
      ],
      "text/markdown": [
       "1. 1\n",
       "2. 1\n",
       "3. 1\n",
       "4. 1\n",
       "5. 1\n",
       "6. 1\n",
       "\n",
       "\n"
      ],
      "text/plain": [
       "[1] 1 1 1 1 1 1"
      ]
     },
     "metadata": {},
     "output_type": "display_data"
    },
    {
     "data": {
      "text/html": [
       "<ol class=list-inline>\n",
       "\t<li>0</li>\n",
       "\t<li>0</li>\n",
       "\t<li>0</li>\n",
       "\t<li>0</li>\n",
       "\t<li>0</li>\n",
       "\t<li>0</li>\n",
       "</ol>\n"
      ],
      "text/latex": [
       "\\begin{enumerate*}\n",
       "\\item 0\n",
       "\\item 0\n",
       "\\item 0\n",
       "\\item 0\n",
       "\\item 0\n",
       "\\item 0\n",
       "\\end{enumerate*}\n"
      ],
      "text/markdown": [
       "1. 0\n",
       "2. 0\n",
       "3. 0\n",
       "4. 0\n",
       "5. 0\n",
       "6. 0\n",
       "\n",
       "\n"
      ],
      "text/plain": [
       "[1] 0 0 0 0 0 0"
      ]
     },
     "metadata": {},
     "output_type": "display_data"
    }
   ],
   "source": [
    "#1 \n",
    "songs = 100\n",
    "blackpink = 10\n",
    "non_blackpink = 90\n",
    "\n",
    "songs = c(rep(1,blackpink),rep(0,non_blackpink))\n",
    "head(songs)\n",
    "tail(songs)"
   ]
  },
  {
   "cell_type": "code",
   "execution_count": 47,
   "metadata": {
    "deletable": false,
    "nbgrader": {
     "cell_type": "code",
     "checksum": "ee95986f4989fc83f320f183073c3a1a",
     "grade": true,
     "grade_id": "cell-2d6cfed52b36e52f",
     "locked": false,
     "points": 1,
     "schema_version": 3,
     "solution": true,
     "task": false
    },
    "vscode": {
     "languageId": "r"
    }
   },
   "outputs": [
    {
     "data": {
      "text/html": [
       "<ol class=list-inline>\n",
       "\t<li>0</li>\n",
       "\t<li>0</li>\n",
       "\t<li>0</li>\n",
       "\t<li>0</li>\n",
       "\t<li>0</li>\n",
       "</ol>\n"
      ],
      "text/latex": [
       "\\begin{enumerate*}\n",
       "\\item 0\n",
       "\\item 0\n",
       "\\item 0\n",
       "\\item 0\n",
       "\\item 0\n",
       "\\end{enumerate*}\n"
      ],
      "text/markdown": [
       "1. 0\n",
       "2. 0\n",
       "3. 0\n",
       "4. 0\n",
       "5. 0\n",
       "\n",
       "\n"
      ],
      "text/plain": [
       "[1] 0 0 0 0 0"
      ]
     },
     "metadata": {},
     "output_type": "display_data"
    }
   ],
   "source": [
    "#2\n",
    "five_random_songs = sample(songs,size=5,replace=FALSE)\n",
    "five_random_songs"
   ]
  },
  {
   "cell_type": "code",
   "execution_count": 48,
   "metadata": {
    "deletable": false,
    "nbgrader": {
     "cell_type": "code",
     "checksum": "03795923b0cfd478e9d9d8790563f151",
     "grade": true,
     "grade_id": "cell-bcc2b276db4b9301",
     "locked": false,
     "points": 1,
     "schema_version": 3,
     "solution": true,
     "task": false
    },
    "vscode": {
     "languageId": "r"
    }
   },
   "outputs": [
    {
     "data": {
      "text/html": [
       "FALSE"
      ],
      "text/latex": [
       "FALSE"
      ],
      "text/markdown": [
       "FALSE"
      ],
      "text/plain": [
       "[1] FALSE"
      ]
     },
     "metadata": {},
     "output_type": "display_data"
    }
   ],
   "source": [
    "#3\n",
    "condition = all(five_random_songs[1:4]==0) && five_random_songs[5] == 1\n",
    "condition"
   ]
  },
  {
   "cell_type": "code",
   "execution_count": 49,
   "metadata": {
    "deletable": false,
    "nbgrader": {
     "cell_type": "code",
     "checksum": "4a79d9c5a5d3fd80748b37d402685553",
     "grade": true,
     "grade_id": "cell-684196bdc46bca32",
     "locked": false,
     "points": 1,
     "schema_version": 3,
     "solution": true,
     "task": false
    },
    "vscode": {
     "languageId": "r"
    }
   },
   "outputs": [],
   "source": [
    "#4\n",
    "set.seed(99)\n",
    "m = 10000\n",
    "resultant_vec = rep(NA,m)"
   ]
  },
  {
   "cell_type": "markdown",
   "metadata": {},
   "source": [
    "Here\n",
    "The 'FALSE' represents if the set of vector is not in the form ' 0 0 0 0 1'\n",
    "The 'TRUE'  represents if the set of vector is in the form ' 0 0 0 0 1'  "
   ]
  },
  {
   "cell_type": "code",
   "execution_count": 50,
   "metadata": {
    "deletable": false,
    "nbgrader": {
     "cell_type": "code",
     "checksum": "81bf4ad0f8797ad8d575dd6e828fbf34",
     "grade": true,
     "grade_id": "cell-6c6027cc2a08321b",
     "locked": false,
     "points": 2,
     "schema_version": 3,
     "solution": true,
     "task": false
    },
    "vscode": {
     "languageId": "r"
    }
   },
   "outputs": [
    {
     "data": {
      "text/html": [
       "<ol class=list-inline>\n",
       "\t<li>FALSE</li>\n",
       "\t<li>FALSE</li>\n",
       "\t<li>FALSE</li>\n",
       "\t<li>TRUE</li>\n",
       "\t<li>FALSE</li>\n",
       "\t<li>FALSE</li>\n",
       "</ol>\n"
      ],
      "text/latex": [
       "\\begin{enumerate*}\n",
       "\\item FALSE\n",
       "\\item FALSE\n",
       "\\item FALSE\n",
       "\\item TRUE\n",
       "\\item FALSE\n",
       "\\item FALSE\n",
       "\\end{enumerate*}\n"
      ],
      "text/markdown": [
       "1. FALSE\n",
       "2. FALSE\n",
       "3. FALSE\n",
       "4. TRUE\n",
       "5. FALSE\n",
       "6. FALSE\n",
       "\n",
       "\n"
      ],
      "text/plain": [
       "[1] FALSE FALSE FALSE  TRUE FALSE FALSE"
      ]
     },
     "metadata": {},
     "output_type": "display_data"
    }
   ],
   "source": [
    "#5\n",
    "for (i in 1:m) {\n",
    "  five_random_songs = sample(songs, 5, replace = FALSE)\n",
    "  resultant_vec[i] = all(five_random_songs[1:4] == 0) && five_random_songs[5] == 1\n",
    "}\n",
    "head(resultant_vec)"
   ]
  },
  {
   "cell_type": "code",
   "execution_count": 51,
   "metadata": {},
   "outputs": [
    {
     "data": {
      "text/html": [
       "0.0697"
      ],
      "text/latex": [
       "0.0697"
      ],
      "text/markdown": [
       "0.0697"
      ],
      "text/plain": [
       "[1] 0.0697"
      ]
     },
     "metadata": {},
     "output_type": "display_data"
    }
   ],
   "source": [
    "#6\n",
    "prob = mean(resultant_vec)\n",
    "prob"
   ]
  },
  {
   "cell_type": "markdown",
   "metadata": {
    "deletable": false,
    "nbgrader": {
     "cell_type": "markdown",
     "checksum": "8d1c436a5c6e6f6794f8a5cf9ca88af7",
     "grade": true,
     "grade_id": "cell-b55465887808fd0b",
     "locked": false,
     "points": 1,
     "schema_version": 3,
     "solution": true,
     "task": false
    }
   },
   "source": [
    "The probability here decreases when the number of iterations increases, and the accuracy of the expected outcome '0 0 0 0 1' will increase if we increase the iterations so that we will get more vectors that will have four consecutive Non-Black Pink songs and the fifth Black Pink Song."
   ]
  },
  {
   "cell_type": "markdown",
   "metadata": {
    "deletable": false,
    "nbgrader": {
     "cell_type": "markdown",
     "checksum": "268ea62dc293ab92b6ba86343b9c2d07",
     "grade": false,
     "grade_id": "cell-1a06a5e4e7fe097e",
     "locked": true,
     "schema_version": 3,
     "solution": false,
     "task": false
    }
   },
   "source": [
    "# Problem 3\n",
    "\n",
    "Imagine two unmarked bags filled with poker chips. Each bag contains both red poker chips and white poker chips. In bag one, there are $75\\%$ red and $25\\%$ white; in bag two, there are $75\\%$ white and $25\\%$ red. Imagine that you pick one bag at random, and, without looking inside, begin to pull chips out, one at a time. \n",
    "\n",
    "**3.(a) Before you start picking out chips, what is the probability that you choose bag one?**"
   ]
  },
  {
   "cell_type": "markdown",
   "metadata": {
    "deletable": false,
    "nbgrader": {
     "cell_type": "markdown",
     "checksum": "5a9df8b2a65fb7cb28dd2fc97ef35150",
     "grade": true,
     "grade_id": "cell-38647572ceb38702",
     "locked": false,
     "points": 0,
     "schema_version": 3,
     "solution": true,
     "task": false
    }
   },
   "source": [
    "$$P('One') = \\frac{1}{2}$$"
   ]
  },
  {
   "cell_type": "markdown",
   "metadata": {
    "deletable": false,
    "nbgrader": {
     "cell_type": "markdown",
     "checksum": "f29131383d89f4e821e90854375cf37a",
     "grade": false,
     "grade_id": "cell-425b7f0cc03b37e0",
     "locked": true,
     "schema_version": 3,
     "solution": false,
     "task": false
    }
   },
   "source": [
    "**3.(b) What is the probability that you chose bag one given that you draw a red chip?**"
   ]
  },
  {
   "cell_type": "markdown",
   "metadata": {
    "deletable": false,
    "nbgrader": {
     "cell_type": "markdown",
     "checksum": "f52db8a0c0be9c6dec797d287647a27b",
     "grade": true,
     "grade_id": "cell-cb9052b85d7a073f",
     "locked": false,
     "points": 1,
     "schema_version": 3,
     "solution": true,
     "task": false
    }
   },
   "source": [
    "$$P('One' |  R) = \\frac{P(R | 'One')P('One')}{P(R | 'One')P('One') + P(R | 'Two')P('Two')}$$"
   ]
  },
  {
   "cell_type": "markdown",
   "metadata": {
    "deletable": false,
    "nbgrader": {
     "cell_type": "code",
     "checksum": "84304f60f9e52a745515dd288597c260",
     "grade": true,
     "grade_id": "cell-0ee5637e9a63513c",
     "locked": false,
     "points": 2,
     "schema_version": 3,
     "solution": true,
     "task": false
    },
    "vscode": {
     "languageId": "r"
    }
   },
   "source": [
    "$$\\textbf{The values are}$$\n",
    "\n",
    "$$P(R|'One') = 75\\% = 0.75$$\n",
    "\n",
    "$$P('One') = 50\\% = 0.50$$\n",
    "\n",
    "$$P(R|'Two') = 25\\% = 0.25$$\n",
    "\n",
    "$$P('Two') = 50\\% = 0.5$$\n",
    "\n",
    "$$\\textbf{On substituting,}$$\n",
    "\n",
    "$$P('One'|R) = \\frac{0.75 * 0.50}{(0.75 * 0.5) + (0.25 * 0.5)}$$\n",
    "\n",
    "$$P('One'|R) = 0.75 = 75\\%$$"
   ]
  },
  {
   "cell_type": "markdown",
   "metadata": {
    "deletable": false,
    "nbgrader": {
     "cell_type": "markdown",
     "checksum": "a59c5e728eee1d44a4f54cb6a0ac6b98",
     "grade": false,
     "grade_id": "cell-dd4391ea63090e00",
     "locked": true,
     "schema_version": 3,
     "solution": false,
     "task": false
    }
   },
   "source": [
    "**3.(c) What is the probability that you have bag one given that your first two draws are red chips? What about three? Is there a pattern?**\n",
    "\n",
    "*Hint:* to investigate whether there is a pattern, it may be useful to look at the *odds*, which is given by the fraction $\\displaystyle{\\frac{p}{1 - p}}$, for the probability $p$ of the events you calculate in 3(b) and 3(c)."
   ]
  },
  {
   "cell_type": "markdown",
   "metadata": {
    "deletable": false,
    "nbgrader": {
     "cell_type": "markdown",
     "checksum": "60dafdcabf033692a3300da3afdcc421",
     "grade": true,
     "grade_id": "cell-be6938aeea0782b9",
     "locked": false,
     "points": 2,
     "schema_version": 3,
     "solution": true,
     "task": false
    }
   },
   "source": [
    "$$\\text{Probability of Bag 1, with first two draws are Red}$$\n",
    "\n",
    "$$P('One'|RR) = \\frac{P(RR|'One')P('One')}{P(RR|'One')P('One') + P(RR|'Two')P('Two')}$$\n",
    "\n",
    "$$\\text{Where, } P(RR|'One') = 0.5625, P('One') = 0.5, P(RR|'Two') = 0.0625, P('Two') = 0.5$$\n",
    "\n",
    "$$\\text{On substituting,}$$\n",
    "\n",
    "$$P('One'|RR) = \\frac{0.5625 * 0.5}{(0.5625 * 0.5) + (0.0625 * 0.5)}$$\n",
    "\n",
    "$$P('One'|RR) = 0.9 = 90\\%$$\n",
    "\n",
    "$$\\text{Probability of Bag 1, with first three draws are Red}$$\n",
    "\n",
    "$$P('One'|RRR) = \\frac{P(RRR|'One')P('One')}{P(RRR|'One')P('One') + P(RRR|'Two')P('Two')}$$\n",
    "\n",
    "$$\\text{Where, } P(RRR|'One') = (0.15)^3 = 0.421875, P(RRR|'Two') = (0.15)^3 = 0.015625$$\n",
    "\n",
    "$$\\text{On substituting,}$$\n",
    "\n",
    "$$P('One'|RRR) = \\frac{0.421875 * 0.5}{(0.421875 * 0.5) + (0.015625 * 0.5)}$$\n",
    "\n",
    "$$P('One'|RRR) = 0.97 = 97\\%$$\n"
   ]
  },
  {
   "cell_type": "markdown",
   "metadata": {},
   "source": [
    "The pattern here is the probability of 'Bag one' given the number of reds taken from it increases if we increase getting no. of red chips. When 1 red chip taken from bag 1 it's probility is 75%, 2 red chips taken from it it's probability is 90% and for three red chips the probability again increases to 97%."
   ]
  },
  {
   "cell_type": "code",
   "execution_count": null,
   "metadata": {},
   "outputs": [],
   "source": []
  }
 ],
 "metadata": {
  "kernelspec": {
   "display_name": "Python 3 (ipykernel)",
   "language": "python",
   "name": "python3"
  },
  "language_info": {
   "codemirror_mode": {
    "name": "ipython",
    "version": 3
   },
   "file_extension": ".py",
   "mimetype": "text/x-python",
   "name": "python",
   "nbconvert_exporter": "python",
   "pygments_lexer": "ipython3",
   "version": "3.12.4"
  }
 },
 "nbformat": 4,
 "nbformat_minor": 4
}

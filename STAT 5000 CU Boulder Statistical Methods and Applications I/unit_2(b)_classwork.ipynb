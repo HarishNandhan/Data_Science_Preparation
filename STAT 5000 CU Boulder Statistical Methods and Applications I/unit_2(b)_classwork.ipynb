{
 "cells": [
  {
   "cell_type": "markdown",
   "metadata": {
    "nbgrader": {
     "cell_type": "markdown",
     "checksum": "a6dbbcf3e948069fdf02b296d96fe9d1",
     "grade": false,
     "grade_id": "cell-e0d1f28bb04be6d2",
     "locked": true,
     "schema_version": 3,
     "solution": false,
     "task": false
    }
   },
   "source": [
    "# Unit 2(b) Classwork\n",
    "\n",
    "The goals of this assignment are to help you (1) calculate probabilities, plot density functions, etc., involving random variables using `R`, (2) simulate probabilistic processes, and (3) estimate probabilities and other quantities through numerical (computer) simulation. Such simulations can be useful. We can use simulations to help confirm that we've calculated a probability \"by hand\" correctly, or to estimate other quantities, like areas/integrals!"
   ]
  },
  {
   "cell_type": "markdown",
   "metadata": {
    "nbgrader": {
     "cell_type": "markdown",
     "checksum": "6497f5161b1d5cf1fda1a24d3e3a6ea3",
     "grade": false,
     "grade_id": "cell-376da07a78f67212",
     "locked": true,
     "schema_version": 3,
     "solution": false,
     "task": false
    }
   },
   "source": [
    "# Problem 1\n",
    "\n",
    "#### Use `dexp()` to plot the PDFs of exponential distributions for $\\lambda \\in \\{1, 2, 5, 7\\}$. More concretely, create a vector consisting of the elements $1,2,5,7$. Then generate a grid of `x` values between $0$ and $15$ (with, say, $1000$ points). Finally, calculate the PDF of the exponential at each `x` value, and plot them in separate code cells."
   ]
  },
  {
   "cell_type": "code",
   "execution_count": 1,
   "metadata": {
    "nbgrader": {
     "cell_type": "code",
     "checksum": "5ce66878716f8163eb38e7c895800f60",
     "grade": true,
     "grade_id": "cell-c3f2d173f469ddaa",
     "locked": false,
     "points": 1,
     "schema_version": 3,
     "solution": true,
     "task": false
    }
   },
   "outputs": [],
   "source": [
    "# dexp probability density function\n",
    "lambda = c(1,2,5,7)\n",
    "n = 1000\n",
    "x = seq(0,15,length.out=n)\n",
    "\n",
    "y = matrix(data=NA, ncol=4, nrow=1000)\n",
    "\n",
    "for(i in 1:4){\n",
    "    y[,i] = dexp(x,lambda[i])\n",
    "    }"
   ]
  },
  {
   "cell_type": "code",
   "execution_count": 3,
   "metadata": {},
   "outputs": [
    {
     "data": {
      "image/png": "[encoded data removed]",
      "text/plain": [
       "plot without title"
      ]
     },
     "metadata": {},
     "output_type": "display_data"
    }
   ],
   "source": [
    "matplot(y,type='l',pch=26, col=1:4)\n",
    "legend(\"topright\",legend=c('lambda=1','lambda=2','lambda=5','lambda=7')\n",
    "       ,col=1:4,pch=23)"
   ]
  },
  {
   "cell_type": "code",
   "execution_count": null,
   "metadata": {},
   "outputs": [],
   "source": []
  },
  {
   "cell_type": "code",
   "execution_count": null,
   "metadata": {},
   "outputs": [],
   "source": []
  },
  {
   "cell_type": "code",
   "execution_count": null,
   "metadata": {},
   "outputs": [],
   "source": []
  },
  {
   "cell_type": "markdown",
   "metadata": {
    "nbgrader": {
     "cell_type": "markdown",
     "checksum": "45d6511ec85de75ba8f2f7f59fb984d0",
     "grade": false,
     "grade_id": "cell-95de5c24bb546c30",
     "locked": true,
     "schema_version": 3,
     "solution": false,
     "task": false
    }
   },
   "source": [
    "# Problem 2\n",
    "Monte Carlo Estimation of the number $\\pi$.\n",
    "\n",
    "**2.(a) Generate two vectors of $10,000$ random numbers, sampled from the uniform distribution on $[-1, 1]$. Call them `x` and `y`. Find the first quartile and $30$th percentile of $X \\sim \\text{Unif}(-1,1)$.**"
   ]
  },
  {
   "cell_type": "code",
   "execution_count": 9,
   "metadata": {
    "nbgrader": {
     "cell_type": "code",
     "checksum": "36b8bded7f69b367c8a1761653d7e677",
     "grade": true,
     "grade_id": "cell-61b29fb6e2b66130",
     "locked": false,
     "points": 1,
     "schema_version": 3,
     "solution": true,
     "task": false
    }
   },
   "outputs": [
    {
     "data": {
      "text/html": [
       "-0.5"
      ],
      "text/latex": [
       "-0.5"
      ],
      "text/markdown": [
       "-0.5"
      ],
      "text/plain": [
       "[1] -0.5"
      ]
     },
     "metadata": {},
     "output_type": "display_data"
    },
    {
     "data": {
      "text/html": [
       "-0.4"
      ],
      "text/latex": [
       "-0.4"
      ],
      "text/markdown": [
       "-0.4"
      ],
      "text/plain": [
       "[1] -0.4"
      ]
     },
     "metadata": {},
     "output_type": "display_data"
    }
   ],
   "source": [
    "set.seed(27)\n",
    "n = 10000\n",
    "x = runif(n,-1,1)\n",
    "y = runif(n,-1,1)\n",
    "\n",
    "Q1 = qunif(0.25,min=-1,max=1)\n",
    "p30 = qunif(0.3,min=-1,max=1)\n",
    "\n",
    "Q1\n",
    "p30"
   ]
  },
  {
   "cell_type": "markdown",
   "metadata": {
    "nbgrader": {
     "cell_type": "markdown",
     "checksum": "5da1f46920a8e7bbf0d60458fdae28ce",
     "grade": false,
     "grade_id": "cell-d7d8fdce4cf30c8e",
     "locked": true,
     "schema_version": 3,
     "solution": false,
     "task": false
    }
   },
   "source": [
    "**2.(b) Create a vector of logicals, called `incircle`, that is equal to TRUE if $x^2 + y^2 \\le 1^2$ and FALSE otherwise, where the values for $x$ and $y$ come from the vectors `x` and `y` generated in 2.(a)).**"
   ]
  },
  {
   "cell_type": "code",
   "execution_count": 10,
   "metadata": {
    "nbgrader": {
     "cell_type": "code",
     "checksum": "b4e9d9ee5ed68c78898fb102fbeb2e45",
     "grade": true,
     "grade_id": "cell-bc73d61d90c24fea",
     "locked": false,
     "points": 1,
     "schema_version": 3,
     "solution": true,
     "task": false
    }
   },
   "outputs": [
    {
     "data": {
      "text/html": [
       "<ol class=list-inline>\n",
       "\t<li>TRUE</li>\n",
       "\t<li>TRUE</li>\n",
       "\t<li>TRUE</li>\n",
       "\t<li>TRUE</li>\n",
       "\t<li>TRUE</li>\n",
       "\t<li>TRUE</li>\n",
       "</ol>\n"
      ],
      "text/latex": [
       "\\begin{enumerate*}\n",
       "\\item TRUE\n",
       "\\item TRUE\n",
       "\\item TRUE\n",
       "\\item TRUE\n",
       "\\item TRUE\n",
       "\\item TRUE\n",
       "\\end{enumerate*}\n"
      ],
      "text/markdown": [
       "1. TRUE\n",
       "2. TRUE\n",
       "3. TRUE\n",
       "4. TRUE\n",
       "5. TRUE\n",
       "6. TRUE\n",
       "\n",
       "\n"
      ],
      "text/plain": [
       "[1] TRUE TRUE TRUE TRUE TRUE TRUE"
      ]
     },
     "metadata": {},
     "output_type": "display_data"
    }
   ],
   "source": [
    "incircle = x^2 + y^2 <=1\n",
    "head(incircle)"
   ]
  },
  {
   "cell_type": "markdown",
   "metadata": {
    "nbgrader": {
     "cell_type": "markdown",
     "checksum": "95f451911de3b09f6dbb172599ee9d3c",
     "grade": false,
     "grade_id": "cell-1544aa083abe550f",
     "locked": true,
     "schema_version": 3,
     "solution": false,
     "task": false
    }
   },
   "source": [
    "**2.(c) Calculate the number of values of `incircle` that are equal to TRUE. Use this value to estimate $\\pi$. Describe why this works.**"
   ]
  },
  {
   "cell_type": "code",
   "execution_count": 11,
   "metadata": {
    "nbgrader": {
     "cell_type": "code",
     "checksum": "dbaac1bcd424d4723108ed9d87d1a21a",
     "grade": true,
     "grade_id": "cell-770e3635f3335d3f",
     "locked": false,
     "points": 0,
     "schema_version": 3,
     "solution": true,
     "task": false
    }
   },
   "outputs": [
    {
     "data": {
      "text/html": [
       "3.1596"
      ],
      "text/latex": [
       "3.1596"
      ],
      "text/markdown": [
       "3.1596"
      ],
      "text/plain": [
       "[1] 3.1596"
      ]
     },
     "metadata": {},
     "output_type": "display_data"
    },
    {
     "data": {
      "text/html": [
       "7899"
      ],
      "text/latex": [
       "7899"
      ],
      "text/markdown": [
       "7899"
      ],
      "text/plain": [
       "[1] 7899"
      ]
     },
     "metadata": {},
     "output_type": "display_data"
    }
   ],
   "source": [
    "incircle_true = sum(incircle)\n",
    "pi_approx = 4*incircle_true/n\n",
    "pi_approx\n",
    "incircle_true"
   ]
  },
  {
   "cell_type": "markdown",
   "metadata": {
    "nbgrader": {
     "cell_type": "markdown",
     "checksum": "3d532e7829fd97b00b179f681249cccc",
     "grade": true,
     "grade_id": "cell-2bf4690e0a99db70",
     "locked": false,
     "points": 0,
     "schema_version": 3,
     "solution": true,
     "task": false
    }
   },
   "source": [
    "Generating randomly generated distribution with Uniform distribution in an interval of [-1,1] This will generate a square of length (s=2) on all sides. So the area would be s^2 = 2^2 = 4.\n",
    "\n",
    "Then we are checking whether the points lie inside a circle with radius 1 ie. x^2+y^2 <= 1. So the fraction of points will tend to form a condition that is the proportion of area of the circle divided by the area of square.\n",
    "\n",
    "For estimating the 'pi' value, pi value = 4 x (The number of points inside the circle/the total number of points). This formula gives the pi estimate."
   ]
  },
  {
   "cell_type": "markdown",
   "metadata": {
    "collapsed": true,
    "jupyter": {
     "outputs_hidden": true
    },
    "nbgrader": {
     "cell_type": "markdown",
     "checksum": "df10f4d90ac17d66955f5fbe8d5956f9",
     "grade": false,
     "grade_id": "cell-41ab8a15102b58ac",
     "locked": true,
     "schema_version": 3,
     "solution": false,
     "task": false
    }
   },
   "source": [
    "**2.(d) How could you use this to estimate the area of a circle with radius 2 centered at the origin?**"
   ]
  },
  {
   "cell_type": "markdown",
   "metadata": {
    "collapsed": true,
    "jupyter": {
     "outputs_hidden": true
    },
    "nbgrader": {
     "cell_type": "markdown",
     "checksum": "8b0edfa718c102cda4ff0ea6f0cbf490",
     "grade": true,
     "grade_id": "cell-74eaeeff3c4c3db1",
     "locked": false,
     "points": 1,
     "schema_version": 3,
     "solution": true,
     "task": false
    }
   },
   "source": [
    "Generating randomly generated distribution with Uniform distribution in an interval of [-2,2] This will generate a square of length (s=4) on all sides. So the area would be s^2 = 4^4 = 16.\n",
    "\n",
    "Then we are checking whether the points lie inside a circle with radius 2 ie. x^2+y^2 <= 2^2 = 4. So the fraction of points will tend to form a condition that is the proportion of area of the circle divided by the area of square.\n",
    "\n",
    "For estimating the 'pi' value, pi value = 16 x (The number of points inside the circle/the total number of points). This formula gives the pi estimate."
   ]
  },
  {
   "cell_type": "code",
   "execution_count": 12,
   "metadata": {
    "nbgrader": {
     "cell_type": "code",
     "checksum": "d3829ae42a316370404c562ff7c20f21",
     "grade": true,
     "grade_id": "cell-53fbf0e656128cae",
     "locked": false,
     "points": 0,
     "schema_version": 3,
     "solution": true,
     "task": false
    }
   },
   "outputs": [
    {
     "data": {
      "text/html": [
       "12.6384"
      ],
      "text/latex": [
       "12.6384"
      ],
      "text/markdown": [
       "12.6384"
      ],
      "text/plain": [
       "[1] 12.6384"
      ]
     },
     "metadata": {},
     "output_type": "display_data"
    },
    {
     "data": {
      "text/html": [
       "7899"
      ],
      "text/latex": [
       "7899"
      ],
      "text/markdown": [
       "7899"
      ],
      "text/plain": [
       "[1] 7899"
      ]
     },
     "metadata": {},
     "output_type": "display_data"
    }
   ],
   "source": [
    "set.seed(27)\n",
    "n = 10000\n",
    "x = runif(n,-2,2)\n",
    "y = runif(n,-2,2)\n",
    "\n",
    "Q1 = qunif(0.25,min=-2,max=2)\n",
    "p30 = qunif(0.3,min=-2,max=2)\n",
    "\n",
    "incircle = x^2 + y^2 <= 4\n",
    "\n",
    "incircle_true = sum(incircle)\n",
    "pi_approx = 16*incircle_true/n\n",
    "pi_approx\n",
    "\n",
    "incircle_true"
   ]
  },
  {
   "cell_type": "code",
   "execution_count": null,
   "metadata": {},
   "outputs": [],
   "source": []
  }
 ],
 "metadata": {
  "kernelspec": {
   "display_name": "Python 3 (ipykernel)",
   "language": "python",
   "name": "python3"
  },
  "language_info": {
   "codemirror_mode": {
    "name": "ipython",
    "version": 3
   },
   "file_extension": ".py",
   "mimetype": "text/x-python",
   "name": "python",
   "nbconvert_exporter": "python",
   "pygments_lexer": "ipython3",
   "version": "3.12.4"
  }
 },
 "nbformat": 4,
 "nbformat_minor": 4
}

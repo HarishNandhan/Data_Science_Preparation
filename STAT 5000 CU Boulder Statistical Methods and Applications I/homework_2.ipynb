{
 "cells": [
  {
   "cell_type": "markdown",
   "metadata": {
    "id": "BgJMy-Po9eH-",
    "nbgrader": {
     "grade": false,
     "grade_id": "cell-506044151ea0ea95",
     "locked": true,
     "schema_version": 3,
     "solution": false,
     "task": false
    }
   },
   "source": [
    "# Homework #2\n",
    "\n",
    "**See Canvas for HW #2 assignment due date**. Complete all of the following problems. Ideally, the theoretical problems should be answered in a Markdown cell directly underneath the question. If you don't know LaTex/Markdown, you may submit separate handwritten solutions to the theoretical problems, but please see the scanning policy in the syllabus. Please do not turn in messy work. Computational problems should be completed in this notebook (using the R kernel). Computational questions may require code, plots, analysis, interpretation, etc. Working in small groups is allowed, but it is important that you make an effort to master the material and hand in your own work. \n"
   ]
  },
  {
   "cell_type": "markdown",
   "metadata": {
    "id": "Vpxs_7xzuHD8",
    "nbgrader": {
     "grade": false,
     "grade_id": "cell-690073cfc39a9520",
     "locked": true,
     "schema_version": 3,
     "solution": false,
     "task": false
    }
   },
   "source": [
    "## A. Theoretical Problems"
   ]
  },
  {
   "cell_type": "markdown",
   "metadata": {
    "id": "HyxFekUVdpcg",
    "nbgrader": {
     "grade": false,
     "grade_id": "cell-0f6e53cdf66fd1ea",
     "locked": true,
     "schema_version": 3,
     "solution": false,
     "task": false
    }
   },
   "source": [
    "## A.1 Some probability calculations\n",
    "\n",
    "**A.1(a) [10 points] The CU Boulder triathlon team has $12$ women and $9$ men. The team is going to a race and can only enter $5$ participants. What is the probability of randomly selecting a race squad of $5$ participants with exactly $3$ women?**"
   ]
  },
  {
   "cell_type": "markdown",
   "metadata": {},
   "source": [
    "\\begin{aligned}\n",
    "\\text{Sample Space} &= \\text{Choosing 5 participants from 21 members} \\\\\n",
    "C(21,5) &= \\frac{21!}{(21-5)!5!} = \\frac{21!}{16!5!} = 20349 \\\\\n",
    "\\text{condition} &= \\text{Choosing 3 women from 12 women and 2 men from 9 men} \\\\\n",
    "_{12}C_{3} \\times _{9}C_{2} &= \\frac{12 \\times 11 \\times 10}{1 \\times 2 \\times 3} \\times \\frac{9 \\times 8}{1 \\times 2} = 220 \\times 36 \\\\\n",
    "\\text{Probability (condition)} &= \\frac{220 \\times 36}{20349} = 0.389\n",
    "\\end{aligned}"
   ]
  },
  {
   "cell_type": "markdown",
   "metadata": {
    "id": "FxoV4dFsdpci",
    "nbgrader": {
     "grade": false,
     "grade_id": "cell-0713b61c6d807010",
     "locked": true,
     "schema_version": 3,
     "solution": false,
     "task": false
    }
   },
   "source": [
    "**A.1(b) [10 points] What is the probability that that at least two people in a room of 45 have the same birthday? Assume that all possible birthdays are equally likely, and ignore leap year. (HINT: You might consider using the theorem $P(A^C) = 1−P(A)$. If you use factorials and get overflow errors, or that the probability is $0$, I suggest writing a loop in `R` to calculate the probability.)**"
   ]
  },
  {
   "cell_type": "markdown",
   "metadata": {},
   "source": [
    "\\begin{aligned}\n",
    "\\text{By Complement Rule,} \\\\\n",
    "\\text{Let A = all 45 have different birthdays} \\\\\n",
    "P(A) &= \\frac{365 \\times 364 \\times 363 \\times \\cdots \\times 321}{365^{45}} \\\\\n",
    "&= 0.06 \\\\\n",
    "P(A^C) &= 1 - P(A) \\\\\n",
    "&= 1 - 0.06 \\\\\n",
    "&= 0.94\n",
    "\\end{aligned}"
   ]
  },
  {
   "cell_type": "code",
   "execution_count": 6,
   "metadata": {},
   "outputs": [
    {
     "data": {
      "text/html": [
       "0.940975899465775"
      ],
      "text/latex": [
       "0.940975899465775"
      ],
      "text/markdown": [
       "0.940975899465775"
      ],
      "text/plain": [
       "[1] 0.9409759"
      ]
     },
     "metadata": {},
     "output_type": "display_data"
    }
   ],
   "source": [
    "j = 1\n",
    "for(i in 1:45){\n",
    "    j = j * (365 - i + 1)\n",
    "}\n",
    "s = 365^45\n",
    "proba = j/s\n",
    "proba_c = 1 - proba\n",
    "proba_c"
   ]
  },
  {
   "cell_type": "markdown",
   "metadata": {
    "id": "8pGLRaYedpcp",
    "nbgrader": {
     "grade": false,
     "grade_id": "cell-8d8435cd384b90da",
     "locked": true,
     "schema_version": 3,
     "solution": false,
     "task": false
    }
   },
   "source": [
    "**A.1(c) [10 points] Three dice are thrown. What is the probability that a sum of $12$ appears on the faces?**"
   ]
  },
  {
   "cell_type": "markdown",
   "metadata": {},
   "source": [
    "\\begin{aligned}\n",
    "(6,5,1) &\\rightarrow 3! = 6 \\\\\n",
    "(6,4,2) &\\rightarrow 3! = 6 \\\\\n",
    "(6,3,3) &\\rightarrow \\frac{3!}{2!} = 3 \\\\\n",
    "(5,5,2) &\\rightarrow \\frac{3!}{2!} = 3 \\\\\n",
    "(5,4,3) &\\rightarrow 3! = 6 \\\\\n",
    "(4,4,4) &\\rightarrow \\frac{31}{3!} = 1 \\\\\n",
    "\\text{Total} &= 25 \\\\\n",
    "\\text{Sample space} &= 6 \\times 6 \\times 6 = 216 \\\\\n",
    "P(\\text{sum of 12}) &= \\frac{25}{216} = 0.116\n",
    "\\end{aligned}"
   ]
  },
  {
   "cell_type": "markdown",
   "metadata": {
    "id": "O5ONjnVTdpct",
    "nbgrader": {
     "grade": false,
     "grade_id": "cell-cef8c1eb2cecba04",
     "locked": true,
     "schema_version": 3,
     "solution": false,
     "task": false
    }
   },
   "source": [
    "## A.2 Probability and Causality\n",
    "\n",
    "What does it mean for one event C to cause another event E—for example, smoking (C) to cause cancer (E)? There is a long history in philosophy, statistics, and the sciences of trying to clearly analyze the concept of a cause. One tradition says that causes raise the probability of their effects; we may write this symbolically as\n",
    "\n",
    "$$P(E | C)>P(E) \\quad \\quad (1)$$\n",
    "\n",
    "\n",
    "**A.2(a) [10 points] Does equation (1) imply that $P(C | E) > P(C)$? If so, prove it. If not, give a counter example.**\n",
    "\n",
    "\n"
   ]
  },
  {
   "cell_type": "markdown",
   "metadata": {},
   "source": [
    "$$\\textbf{To verify: } P(E|C) > P(E) \\implies P(C|E) > P(C)$$\n",
    "\n",
    "$$\\text{By Bayes Theorem,}$$\n",
    "\\begin{align*}\n",
    "P(E|C) &= \\frac{P(C|E)P(E)}{P(C)} \\\\\n",
    "\\end{align*}\n",
    "\n",
    "$$\\text{ We can substitute in P(E|C) as,}$$\n",
    "\\begin{align*}\n",
    "\\frac{P(C|E)P(E)}{P(C)} &> P(E) \\\\\n",
    "\\text{(÷ by P(E))} \\\\\n",
    "\\implies P(C|E) &> P(C)\n",
    "\\end{align*}\n",
    "\n",
    "$$\\text{Therefore, } P(E|C) > P(E) \\text{ implies } P(C|E) > P(C)$$\n"
   ]
  },
  {
   "cell_type": "markdown",
   "metadata": {
    "id": "tEOC42STdpcw",
    "nbgrader": {
     "grade": false,
     "grade_id": "cell-5a19c1fb48128b0c",
     "locked": true,
     "schema_version": 3,
     "solution": false,
     "task": false
    }
   },
   "source": [
    "**A.2(b) [10 points] [*Optional for students in STAT 4000*] Another way to formulate a probabilistic theory of causation is to say that**\n",
    "\n",
    "$$P (E | C) > P(E | C^C). \\qquad \\qquad (2)$$ \n",
    "\n",
    "**Show that equation (1) from A.2(a) implies equation (2).**"
   ]
  },
  {
   "cell_type": "markdown",
   "metadata": {},
   "source": [
    "$$\\textbf{To show: } P(E|C) > P(E) \\implies P(E|C) > P(E|C^c)$$\n",
    "$$P(E) = P(E|C)P(C) + P(E|C^c)P(C^c)$$\n",
    "$$\\text{In eqn (1),}$$\n",
    "\\begin{align*}\n",
    "\\implies P(E|C) &> P(E|C)P(C) + P(E|C^c)P(C^c) \\\\\n",
    "\\implies P(E|C) - P(E|C)P(C) &> P(E|C^c)P(C^c) \\\\\n",
    "\\implies P(E|C)[1 - P(C)] &> P(E|C^c)P(C^c) \\\\\n",
    "\\implies P(E|C)P(C^c) &> P(E|C^c)P(C^c) \\\\\n",
    "\\implies P(E|C) &> P(E|C^c)\n",
    "\\end{align*}\n",
    "\n",
    "$$\\text{The condition is proved.}$$"
   ]
  },
  {
   "cell_type": "markdown",
   "metadata": {
    "id": "EjP0XRLCdpc1",
    "nbgrader": {
     "grade": false,
     "grade_id": "cell-00826816761d0d9d",
     "locked": true,
     "schema_version": 3,
     "solution": false,
     "task": false
    }
   },
   "source": [
    "## A.3 Conditional probabilities\n",
    "\n",
    "Suppose a particular crime is committed in Jerry’s apartment. We’d like to know whether Newman is guilty of the crime. We are torn as to whether we think he is guilty: we think it’s equally likely that he guilty or not guilty. Suppose that, in similar situations, we know that if a suspect is guilty, 85% of the time their finger prints are found at the scene, and, we know that if a suspect is not guilty, 30% of the time their finger prints are found at the scene.\n",
    "\n",
    "**A.3(a) [5 points] What is the probability that Newman’s finger prints are found at the scene?**"
   ]
  },
  {
   "cell_type": "markdown",
   "metadata": {},
   "source": [
    "$$P(\\text{Guilty}) = P(\\text{Not Guilty}) = \\frac{1}{2} = 0.5$$\n",
    "\n",
    "$$P(\\text{Fingerprints}|\\text{Guilty}) = 0.85$$\n",
    "\n",
    "$$P(\\text{Fingerprints}|\\text{Not Guilty}) = 0.30$$\n",
    "\n",
    "$$\\text{By Law of Total Probability,}$$\n",
    "\\begin{align*}\n",
    "P(\\text{Fingerprints}) &= P(\\text{Fingerprints}|\\text{Guilty}) \\times P(\\text{Guilty}) \\\\\n",
    "&+ P(\\text{Fingerprints}|\\text{Not Guilty}) \\times P(\\text{Not Guilty}) \\\\\n",
    "&= 0.85 \\times 0.5 + 0.30 \\times 0.5 \\\\\n",
    "&= 0.425 + 0.15 \\\\\n",
    "&= 0.575\n",
    "\\end{align*}"
   ]
  },
  {
   "cell_type": "markdown",
   "metadata": {
    "id": "Vz0SjNmJdpc3",
    "nbgrader": {
     "grade": false,
     "grade_id": "cell-2f07fe62df9f86f8",
     "locked": true,
     "schema_version": 3,
     "solution": false,
     "task": false
    }
   },
   "source": [
    "**A.3(b) [5 points] If Newman’s finger prints are found at the scene, how likely is it that he is guilty?**"
   ]
  },
  {
   "cell_type": "markdown",
   "metadata": {},
   "source": [
    "$$\\text{P(Guilty|Fingerprints)} = \\frac{P(\\text{Fingerprints}|\\text{Guilty}) \\times P(\\text{Guilty})}{P(\\text{Fingerprints})}$$\n",
    "\n",
    "$$= \\frac{0.85 \\times 0.5}{0.575}$$\n",
    "\n",
    "$$= \\frac{0.425}{0.575}$$\n",
    "\n",
    "$$\\text{P(Guilty|Fingerprints)} = 0.739$$"
   ]
  },
  {
   "cell_type": "markdown",
   "metadata": {
    "id": "biKYgwIbdpc4",
    "nbgrader": {
     "grade": false,
     "grade_id": "cell-4dfebe0372c9d728",
     "locked": true,
     "schema_version": 3,
     "solution": false,
     "task": false
    }
   },
   "source": [
    "**A.3(c) [7 points] If Newman’s finger prints are not found at the scene, how likely is it that he is guilty?**"
   ]
  },
  {
   "cell_type": "markdown",
   "metadata": {},
   "source": [
    "$$\\text{P(Guilty|No Fingerprints)} = \\frac{P(\\text{No Fingerprints}|\\text{Guilty}) \\times P(\\text{Guilty})}{P(\\text{No Fingerprints})}$$\n",
    "$$\\textbf{Here, } P(\\text{No fingerprints}|\\text{Guilty}) = 1 - P(\\text{Fingerprints}|\\text{Guilty})$$\n",
    "$$= 1 - 0.85$$\n",
    "$$= 0.15$$\n",
    "\n",
    "$$P(\\text{No fingerprints}) = 1 - P(\\text{Fingerprints})$$\n",
    "$$= 1 - 0.575$$\n",
    "$$= 0.425$$\n",
    "\n",
    "$$P(\\text{Guilty}|\\text{No fingerprints}) = \\frac{0.15 \\times 0.5}{0.425}$$\n",
    "\n",
    "$$P(\\text{Guilty}|\\text{No fingerprints}) = 0.176$$"
   ]
  },
  {
   "cell_type": "markdown",
   "metadata": {
    "id": "5ggqUKfgdpc8",
    "nbgrader": {
     "grade": false,
     "grade_id": "cell-5adfbe5707e6cdb2",
     "locked": true,
     "schema_version": 3,
     "solution": false,
     "task": false
    }
   },
   "source": [
    "## B. Computational Problems"
   ]
  },
  {
   "cell_type": "markdown",
   "metadata": {
    "id": "O7THfavCdpc9",
    "nbgrader": {
     "grade": false,
     "grade_id": "cell-85c805f65e07f9d5",
     "locked": true,
     "schema_version": 3,
     "solution": false,
     "task": false
    }
   },
   "source": [
    "## B.1 Probability Simulations\n",
    "\n",
    "There is an urn that has $100$ marbles in it: $2$ are red, $70$ are yellow, $13$ are green and $15$ are blue. Simulate data to imitate someone drawing a marble from the urn (replacing after each draw), with the color recorded at each draw (HINT: the `sample()` function in `R` will be useful here).\n",
    "\n",
    "**B.1(a) [8 points] Plot the fraction of times a yellow marble is drawn in the first $1000$ draws. On the $x$-axis, include the number of draws, and on the $y$-axis, include the cumulative fraction of yellow draws. Why does this number fluctuate more when the number of draws is smaller?**"
   ]
  },
  {
   "cell_type": "code",
   "execution_count": 1,
   "metadata": {
    "colab": {
     "base_uri": "https://localhost:8080/",
     "height": 437
    },
    "executionInfo": {
     "elapsed": 380,
     "status": "ok",
     "timestamp": 1631805576640,
     "user": {
      "displayName": "Eric Young",
      "photoUrl": "https://lh3.googleusercontent.com/a/default-user=s64",
      "userId": "14315698820705127118"
     },
     "user_tz": 360
    },
    "id": "rcPptiwldpc-",
    "nbgrader": {
     "grade": true,
     "grade_id": "cell-ccc1a5721e8b062f",
     "locked": false,
     "points": 8,
     "schema_version": 3,
     "solution": true,
     "task": false
    },
    "outputId": "0a004860-12dc-40f6-c6c3-486220bb3874"
   },
   "outputs": [
    {
     "data": {
      "image/png": "[encoded data removed]",
      "text/plain": [
       "plot without title"
      ]
     },
     "metadata": {},
     "output_type": "display_data"
    }
   ],
   "source": [
    "marbles = c(\"red\",\"yellow\",\"green\",\"blue\")\n",
    "probs = c(0.02,0.70,0.13,0.15)\n",
    "\n",
    "set.seed(99)\n",
    "g = sample(marbles,size=1000, replace = TRUE, prob = probs)\n",
    "\n",
    "cumulative_yellow = 0\n",
    "plot_proportions = c()\n",
    "\n",
    "for (i in 1:length(g)){\n",
    "    marble = g[i] == \"yellow\"\n",
    "    cumulative_yellow = cumulative_yellow + marble\n",
    "    proportion_yellow = cumulative_yellow/i\n",
    "    plot_proportions = c(plot_proportions,proportion_yellow)\n",
    "    }\n",
    "x = seq(1,length(g))\n",
    "plot(x,plot_proportions,type = \"l\",col=\"blue\",xlab=\"Number of Draws\", ylab=\"Cumulative fraction of Yellow Draws\")"
   ]
  },
  {
   "cell_type": "markdown",
   "metadata": {
    "id": "THQNle1MdpdH",
    "nbgrader": {
     "grade": false,
     "grade_id": "cell-9e8cf10c2ace5e5c",
     "locked": true,
     "schema_version": 3,
     "solution": false,
     "task": false
    }
   },
   "source": [
    "**B.1(b) [5 points] About how many draws are needed before the proportion of yellow marbles drawn in the simulated data is within $0.1$ of the true probability of drawing a yellow marble? You can answer using a visual assessment of your plot from the previous part.**"
   ]
  },
  {
   "cell_type": "markdown",
   "metadata": {},
   "source": [
    "As per the above generated visual plot, if the sample size increases, the sample proportion value will stabilize and tend to fit into the true probability and the fluctuations decrease.\n",
    "150 - 200 draws are needed for stabilizing the cumulative fraction of yellow at 0.1 of the true probability so that it will stay in the 0.6 - 0.8 range."
   ]
  },
  {
   "cell_type": "markdown",
   "metadata": {
    "id": "c9BJeD_ddpdI",
    "nbgrader": {
     "grade": false,
     "grade_id": "cell-52e6b2e1b3a99b04",
     "locked": true,
     "schema_version": 3,
     "solution": false,
     "task": false
    }
   },
   "source": [
    "**B.1(c) [8 points] Repeat the two steps above for the red marble. What do you notice that is different, and why do you think it is different?**\n",
    "\n"
   ]
  },
  {
   "cell_type": "code",
   "execution_count": 2,
   "metadata": {
    "colab": {
     "base_uri": "https://localhost:8080/",
     "height": 437
    },
    "executionInfo": {
     "elapsed": 291,
     "status": "ok",
     "timestamp": 1631800412004,
     "user": {
      "displayName": "Eric Young",
      "photoUrl": "https://lh3.googleusercontent.com/a/default-user=s64",
      "userId": "14315698820705127118"
     },
     "user_tz": 360
    },
    "id": "JBQVoLbydpdI",
    "nbgrader": {
     "grade": true,
     "grade_id": "cell-29a5064b25e1d3e9",
     "locked": false,
     "points": 5,
     "schema_version": 3,
     "solution": true,
     "task": false
    },
    "outputId": "4dd49ac5-7aa3-4a1c-bcad-6539590a9d96"
   },
   "outputs": [
    {
     "data": {
      "image/png": "[encoded data removed]",
      "text/plain": [
       "plot without title"
      ]
     },
     "metadata": {},
     "output_type": "display_data"
    }
   ],
   "source": [
    "marbles = c(\"red\",\"yellow\",\"green\",\"blue\")\n",
    "probs = c(0.02,0.70,0.13,0.15)\n",
    "\n",
    "set.seed(99)\n",
    "g = sample(marbles,size=1000, replace = TRUE, prob = probs)\n",
    "\n",
    "cumulative_red = 0\n",
    "plot_proportions = c()\n",
    "\n",
    "for (i in 1:length(g)){\n",
    "    marble = g[i] == \"red\"\n",
    "    cumulative_red = cumulative_red + marble\n",
    "    proportion_red = cumulative_red/i\n",
    "    plot_proportions = c(plot_proportions,proportion_red)\n",
    "    }\n",
    "x = seq(1,length(g))\n",
    "plot(x,plot_proportions,type = \"l\",col=\"red\",xlab=\"Number of Draws\", ylab=\"Cumulative fraction of Red Draws\")\n"
   ]
  },
  {
   "cell_type": "markdown",
   "metadata": {
    "id": "ggPxZd-AdpdN",
    "nbgrader": {
     "grade": true,
     "grade_id": "cell-134a6991b7fc577e",
     "locked": false,
     "points": 3,
     "schema_version": 3,
     "solution": true,
     "task": false
    }
   },
   "source": [
    "150 - 200 draws are needed for stabilizing the cumulative fraction of red at 0.1 of the true probability so that it will stay in the 0-0.12 range."
   ]
  },
  {
   "cell_type": "markdown",
   "metadata": {
    "id": "dy7Kj2WgdpdN",
    "nbgrader": {
     "grade": false,
     "grade_id": "cell-fac13010933d8223",
     "locked": true,
     "schema_version": 3,
     "solution": false,
     "task": false
    }
   },
   "source": [
    "## B.2 Probability confirmations?\n",
    "\n",
    "**B.2(a) [6 points] Run a simulation that estimates the probability calculation in theoretical question A.1(b). That is, simulate the birthdays (you can use the numbers 1 through 365)  of 45 people many many times (e.g., `m = 100,000`), and find the relative frequency of cases in which at least two people share a birthday (HINT: The `anyDuplicated()`, `sample()}` and `replicate()}` functions may be useful here).**"
   ]
  },
  {
   "cell_type": "code",
   "execution_count": 5,
   "metadata": {
    "colab": {
     "base_uri": "https://localhost:8080/",
     "height": 34
    },
    "executionInfo": {
     "elapsed": 1805,
     "status": "ok",
     "timestamp": 1631800413799,
     "user": {
      "displayName": "Eric Young",
      "photoUrl": "https://lh3.googleusercontent.com/a/default-user=s64",
      "userId": "14315698820705127118"
     },
     "user_tz": 360
    },
    "id": "fBS4896kdpdN",
    "nbgrader": {
     "grade": true,
     "grade_id": "cell-9f3bbcd948c1ab89",
     "locked": false,
     "points": 6,
     "schema_version": 3,
     "solution": true,
     "task": false
    },
    "outputId": "4cc5b812-cfc2-41e8-d62d-565ee8d610bb"
   },
   "outputs": [
    {
     "data": {
      "text/html": [
       "0.94195"
      ],
      "text/latex": [
       "0.94195"
      ],
      "text/markdown": [
       "0.94195"
      ],
      "text/plain": [
       "[1] 0.94195"
      ]
     },
     "metadata": {},
     "output_type": "display_data"
    }
   ],
   "source": [
    "people = 45\n",
    "simulation_size = 100000\n",
    "set.seed(99)\n",
    "simulation = replicate(simulation_size, {\n",
    "         birthdays = sample(1:365, people, replace = TRUE)\n",
    "         anyDuplicated(birthdays) > 0\n",
    "         })\n",
    "probability = mean(simulation)\n",
    "probability"
   ]
  },
  {
   "cell_type": "markdown",
   "metadata": {
    "id": "SLWqbRfmdpdP",
    "nbgrader": {
     "grade": false,
     "grade_id": "cell-c380f6bbfd0c4c19",
     "locked": true,
     "schema_version": 3,
     "solution": false,
     "task": false
    }
   },
   "source": [
    "**B.2(b) [6 points] Run a simulation that estimates the probability calculation in theoretical question A.1(c).**"
   ]
  },
  {
   "cell_type": "code",
   "execution_count": 13,
   "metadata": {
    "colab": {
     "base_uri": "https://localhost:8080/",
     "height": 52
    },
    "executionInfo": {
     "elapsed": 1599,
     "status": "ok",
     "timestamp": 1631800415392,
     "user": {
      "displayName": "Eric Young",
      "photoUrl": "https://lh3.googleusercontent.com/a/default-user=s64",
      "userId": "14315698820705127118"
     },
     "user_tz": 360
    },
    "id": "dQd2iSNQdpdR",
    "nbgrader": {
     "grade": true,
     "grade_id": "cell-cd0553062c5f2dad",
     "locked": false,
     "points": 6,
     "schema_version": 3,
     "solution": true,
     "task": false
    },
    "outputId": "63ff916b-dbd7-4fef-d28c-721e329c2dc6"
   },
   "outputs": [
    {
     "name": "stdout",
     "output_type": "stream",
     "text": [
      "[1] 0.11574\n"
     ]
    }
   ],
   "source": [
    "simulation_size <- 100000\n",
    "set.seed(99)\n",
    "sums <- replicate(simulation_size, {\n",
    "  rolling_three_dice <- sample(1:6, 3, replace = TRUE)\n",
    "  sum(rolling_three_dice)\n",
    "})\n",
    "probability <- mean(sums == 12)\n",
    "print(probability)"
   ]
  }
 ],
 "metadata": {
  "celltoolbar": "Create Assignment",
  "colab": {
   "name": "STAT5000_HW2_Solutions.ipynb",
   "provenance": []
  },
  "kernelspec": {
   "display_name": "Python 3 (ipykernel)",
   "language": "python",
   "name": "python3"
  },
  "language_info": {
   "codemirror_mode": {
    "name": "ipython",
    "version": 3
   },
   "file_extension": ".py",
   "mimetype": "text/x-python",
   "name": "python",
   "nbconvert_exporter": "python",
   "pygments_lexer": "ipython3",
   "version": "3.12.4"
  }
 },
 "nbformat": 4,
 "nbformat_minor": 4
}

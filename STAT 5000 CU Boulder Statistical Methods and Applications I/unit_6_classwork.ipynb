{
 "cells": [
  {
   "cell_type": "markdown",
   "metadata": {
    "nbgrader": {
     "cell_type": "markdown",
     "checksum": "9a05151801a55268d0db2aa1c4de5f5e",
     "grade": false,
     "grade_id": "cell-d6684dce14b5da4e",
     "locked": true,
     "schema_version": 3,
     "solution": false,
     "task": false
    }
   },
   "source": [
    "# Unit 6 Classwork\n",
    "\n",
    "The purpose of this in-class notebook is for you to gain some experience with bootstrap simulations. You are expected to complete all exercises and turn in your work on Canvas (due date will be on the Unit #6 Classwork Canvas assignment)."
   ]
  },
  {
   "cell_type": "markdown",
   "metadata": {
    "nbgrader": {
     "cell_type": "markdown",
     "checksum": "395dcb4e1a52091d24244fe2e46ed391",
     "grade": false,
     "grade_id": "cell-075ccec0509ff354",
     "locked": true,
     "schema_version": 3,
     "solution": false,
     "task": false
    }
   },
   "source": [
    "## Problem #1\n",
    "\n",
    "Let's compare the \"normal theory\" confidence intervals (what we covered in the previous unit) to boostrap confidence intervals.\n",
    "\n",
    "#### 1.(a) Generate a sample of size $n = 45$ from an exponential distribution with rate $\\lambda = 1$. Calculate $\\bar{X}$. "
   ]
  },
  {
   "cell_type": "code",
   "execution_count": 7,
   "metadata": {
    "nbgrader": {
     "cell_type": "code",
     "checksum": "e4995e2d111e32657c89f2d5ff7aaba2",
     "grade": true,
     "grade_id": "cell-46c2c1f59a3760d6",
     "locked": false,
     "points": 0,
     "schema_version": 3,
     "solution": true,
     "task": false
    }
   },
   "outputs": [
    {
     "data": {
      "text/html": [
       "1.04491021022892"
      ],
      "text/latex": [
       "1.04491021022892"
      ],
      "text/markdown": [
       "1.04491021022892"
      ],
      "text/plain": [
       "[1] 1.04491"
      ]
     },
     "metadata": {},
     "output_type": "display_data"
    }
   ],
   "source": [
    "n = 45\n",
    "x = rexp(n,1)\n",
    "xbar = mean(x)\n",
    "xbar"
   ]
  },
  {
   "cell_type": "markdown",
   "metadata": {
    "nbgrader": {
     "cell_type": "markdown",
     "checksum": "c48774b2a58598f2880779075d0f3b62",
     "grade": false,
     "grade_id": "cell-0ae2799bd4fdfb35",
     "locked": true,
     "schema_version": 3,
     "solution": false,
     "task": false
    }
   },
   "source": [
    "#### 1.(b) Calculate $B = 500$ bootstrap samples, each of size $n$. You might do this in a $B \\times n$ matrix, for example, where each row is a boostrap sample. Then, find the mean of each bootstrap sample, denoted $\\bar{X}^*_i$, for $i = 1,...,B$. "
   ]
  },
  {
   "cell_type": "code",
   "execution_count": 9,
   "metadata": {
    "nbgrader": {
     "cell_type": "code",
     "checksum": "9723719e00dec5b47c72781d4dc8824c",
     "grade": true,
     "grade_id": "cell-656321ce19977bc8",
     "locked": false,
     "points": 0,
     "schema_version": 3,
     "solution": true,
     "task": false
    }
   },
   "outputs": [
    {
     "data": {
      "text/html": [
       "<ol class=list-inline>\n",
       "\t<li>0.803309291957666</li>\n",
       "\t<li>1.05798148753889</li>\n",
       "\t<li>0.791984606128632</li>\n",
       "\t<li>0.869038813960479</li>\n",
       "\t<li>1.04492569302466</li>\n",
       "\t<li>0.815728623929165</li>\n",
       "</ol>\n"
      ],
      "text/latex": [
       "\\begin{enumerate*}\n",
       "\\item 0.803309291957666\n",
       "\\item 1.05798148753889\n",
       "\\item 0.791984606128632\n",
       "\\item 0.869038813960479\n",
       "\\item 1.04492569302466\n",
       "\\item 0.815728623929165\n",
       "\\end{enumerate*}\n"
      ],
      "text/markdown": [
       "1. 0.803309291957666\n",
       "2. 1.05798148753889\n",
       "3. 0.791984606128632\n",
       "4. 0.869038813960479\n",
       "5. 1.04492569302466\n",
       "6. 0.815728623929165\n",
       "\n",
       "\n"
      ],
      "text/plain": [
       "[1] 0.8033093 1.0579815 0.7919846 0.8690388 1.0449257 0.8157286"
      ]
     },
     "metadata": {},
     "output_type": "display_data"
    }
   ],
   "source": [
    "B = 500\n",
    "bootstraps = matrix(NA,B,n)\n",
    "\n",
    "for (i in 1:B) {\n",
    "    bootstraps[i, ] = sample(x, size = n, replace = TRUE)\n",
    "    \n",
    "}\n",
    "\n",
    "means = rowMeans(bootstraps)\n",
    "head(means)"
   ]
  },
  {
   "cell_type": "markdown",
   "metadata": {
    "nbgrader": {
     "cell_type": "markdown",
     "checksum": "af2c9fef85d536a8b58da04b20b47c98",
     "grade": false,
     "grade_id": "cell-25eae52959ac52bb",
     "locked": true,
     "schema_version": 3,
     "solution": false,
     "task": false
    }
   },
   "source": [
    "#### 1.(c) Use the `quantile()` function to find the $2.5 \\text{th}$ and $97.5\\text{th}$ percentile of the distribution of $\\bar{X}^*$. Use these values to calculate the $95\\%$ pivot boostrap confidence interval for $\\mu$. "
   ]
  },
  {
   "cell_type": "code",
   "execution_count": 13,
   "metadata": {
    "nbgrader": {
     "cell_type": "code",
     "checksum": "a4aab5cc2b99d09676a8e03e024b9a52",
     "grade": true,
     "grade_id": "cell-ef69ba19dc52e3f1",
     "locked": false,
     "points": 0,
     "schema_version": 3,
     "solution": true,
     "task": false
    }
   },
   "outputs": [
    {
     "data": {
      "text/html": [
       "<dl class=dl-horizontal>\n",
       "\t<dt>2.5%</dt>\n",
       "\t\t<dd>0.766371754582243</dd>\n",
       "\t<dt>97.5%</dt>\n",
       "\t\t<dd>1.31160170105309</dd>\n",
       "</dl>\n"
      ],
      "text/latex": [
       "\\begin{description*}\n",
       "\\item[2.5\\textbackslash{}\\%] 0.766371754582243\n",
       "\\item[97.5\\textbackslash{}\\%] 1.31160170105309\n",
       "\\end{description*}\n"
      ],
      "text/markdown": [
       "2.5%\n",
       ":   0.76637175458224397.5%\n",
       ":   1.31160170105309\n",
       "\n"
      ],
      "text/plain": [
       "     2.5%     97.5% \n",
       "0.7663718 1.3116017 "
      ]
     },
     "metadata": {},
     "output_type": "display_data"
    },
    {
     "name": "stdout",
     "output_type": "stream",
     "text": [
      "[1] 0.7782187 1.3234487\n"
     ]
    }
   ],
   "source": [
    "percentile_CI = quantile(means, c(0.025, 0.975))\n",
    "percentile_CI\n",
    "\n",
    "\n",
    "# pivot_CI : [2*xbar - percentile_CI[2], 2*xbar - percentile_CI[1]]\n",
    "lower_pivot = 2*xbar - as.numeric(percentile_CI[2])\n",
    "upper_pivot = 2*xbar - as.numeric(percentile_CI[1])\n",
    "print(c(lower_pivot,upper_pivot))"
   ]
  },
  {
   "cell_type": "markdown",
   "metadata": {
    "nbgrader": {
     "cell_type": "markdown",
     "checksum": "75883c22df245e819d0b89564a1159ea",
     "grade": false,
     "grade_id": "cell-148445bad00d1fd0",
     "locked": true,
     "schema_version": 3,
     "solution": false,
     "task": false
    }
   },
   "source": [
    "#### 1.(d) Compute the appropriate \"normal theory\" confidence interval (what we covered in the previous unit) for $\\mu$, and the bootstrap percentile confidence interval for $\\mu$. "
   ]
  },
  {
   "cell_type": "code",
   "execution_count": 15,
   "metadata": {
    "nbgrader": {
     "cell_type": "code",
     "checksum": "a7baf3fc598d2d86f049325a900c478d",
     "grade": true,
     "grade_id": "cell-00ca4ad9875363db",
     "locked": false,
     "points": 0,
     "schema_version": 3,
     "solution": true,
     "task": false
    }
   },
   "outputs": [
    {
     "data": {
      "text/html": [
       "<ol class=list-inline>\n",
       "\t<li>0.752736030036726</li>\n",
       "\t<li>1.33708439042111</li>\n",
       "</ol>\n"
      ],
      "text/latex": [
       "\\begin{enumerate*}\n",
       "\\item 0.752736030036726\n",
       "\\item 1.33708439042111\n",
       "\\end{enumerate*}\n"
      ],
      "text/markdown": [
       "1. 0.752736030036726\n",
       "2. 1.33708439042111\n",
       "\n",
       "\n"
      ],
      "text/plain": [
       "[1] 0.752736 1.337084"
      ]
     },
     "metadata": {},
     "output_type": "display_data"
    },
    {
     "data": {
      "text/html": [
       "<dl class=dl-horizontal>\n",
       "\t<dt>2.5%</dt>\n",
       "\t\t<dd>0.766371754582243</dd>\n",
       "\t<dt>97.5%</dt>\n",
       "\t\t<dd>1.31160170105309</dd>\n",
       "</dl>\n"
      ],
      "text/latex": [
       "\\begin{description*}\n",
       "\\item[2.5\\textbackslash{}\\%] 0.766371754582243\n",
       "\\item[97.5\\textbackslash{}\\%] 1.31160170105309\n",
       "\\end{description*}\n"
      ],
      "text/markdown": [
       "2.5%\n",
       ":   0.76637175458224397.5%\n",
       ":   1.31160170105309\n",
       "\n"
      ],
      "text/plain": [
       "     2.5%     97.5% \n",
       "0.7663718 1.3116017 "
      ]
     },
     "metadata": {},
     "output_type": "display_data"
    },
    {
     "name": "stdout",
     "output_type": "stream",
     "text": [
      "[1] 0.7782187 1.3234487\n"
     ]
    }
   ],
   "source": [
    "alpha = 0.05\n",
    "lower_CI_theory = xbar - qnorm(0.975) * 1 / sqrt(n)\n",
    "upper_CI_theory = xbar + qnorm(0.975) * 1 / sqrt(n)\n",
    "c(lower_CI_theory, upper_CI_theory)\n",
    "\n",
    "percentile_CI = quantile(means, c(0.025, 0.975))\n",
    "percentile_CI\n",
    "\n",
    "\n",
    "# pivot_CI : [2*xbar - percentile_CI[2], 2*xbar - percentile_CI[1]]\n",
    "lower_pivot = 2*xbar - as.numeric(percentile_CI[2])\n",
    "upper_pivot = 2*xbar - as.numeric(percentile_CI[1])\n",
    "print(c(lower_pivot,upper_pivot))"
   ]
  },
  {
   "cell_type": "markdown",
   "metadata": {
    "nbgrader": {
     "cell_type": "markdown",
     "checksum": "24ee4e247ba152190e7c5538ff0fa9a1",
     "grade": false,
     "grade_id": "cell-2d03935137aee2ff",
     "locked": true,
     "schema_version": 3,
     "solution": false,
     "task": false
    }
   },
   "source": [
    "#### 1.(e) What values can you change above to make these interval estimates closer to each other?"
   ]
  },
  {
   "cell_type": "markdown",
   "metadata": {
    "nbgrader": {
     "cell_type": "markdown",
     "checksum": "a8f89e8c2208036edbd8a188f738905e",
     "grade": false,
     "grade_id": "cell-4e89ac87597694ef",
     "locked": true,
     "schema_version": 3,
     "solution": false,
     "task": false
    }
   },
   "source": [
    "- Increasing the sample size 'n' (mostly)\n",
    "- Increasing 'B' the bootstrap samples could also help"
   ]
  },
  {
   "cell_type": "markdown",
   "metadata": {
    "nbgrader": {
     "cell_type": "markdown",
     "checksum": "09441f1fafcfe7ca2ed5cb48dfacdcfa",
     "grade": false,
     "grade_id": "cell-f1ae9ab87cf85869",
     "locked": true,
     "schema_version": 3,
     "solution": false,
     "task": false
    }
   },
   "source": [
    "## Problem #2\n",
    "\n",
    " Suppose that $X_1,...,X_8 \\overset{iid}{\\sim} Exp(\\lambda)$. Let's use the pivot bootstrap to compute a $90\\%$ confidence interval for the population variance: $\\text{Var}[X_i] = 1/\\lambda^2 = \\theta$.\n",
    "\n",
    "\n",
    "#### 2.(a) Generate a sample of size $n = 8$ from the distribution $Exp(\\lambda = 3)$ and calculate the population variance, $\\theta$ (in this example, we are generating data so that we can see how well our estimation procedure (the confidence interval) will do)."
   ]
  },
  {
   "cell_type": "code",
   "execution_count": 32,
   "metadata": {
    "nbgrader": {
     "cell_type": "code",
     "checksum": "dea7fa50199e5217ca6206d42812c6a4",
     "grade": true,
     "grade_id": "cell-75b558fa869cdc1c",
     "locked": false,
     "points": 0,
     "schema_version": 3,
     "solution": true,
     "task": false
    }
   },
   "outputs": [
    {
     "data": {
      "text/html": [
       "0.111111111111111"
      ],
      "text/latex": [
       "0.111111111111111"
      ],
      "text/markdown": [
       "0.111111111111111"
      ],
      "text/plain": [
       "[1] 0.1111111"
      ]
     },
     "metadata": {},
     "output_type": "display_data"
    },
    {
     "data": {
      "text/html": [
       "0.0789165572225856"
      ],
      "text/latex": [
       "0.0789165572225856"
      ],
      "text/markdown": [
       "0.0789165572225856"
      ],
      "text/plain": [
       "[1] 0.07891656"
      ]
     },
     "metadata": {},
     "output_type": "display_data"
    }
   ],
   "source": [
    "n = 8\n",
    "lambda = 3\n",
    "x = rexp(n,lambda)\n",
    "1/lambda^2\n",
    "pop_var = var(x)\n",
    "pop_var"
   ]
  },
  {
   "cell_type": "markdown",
   "metadata": {
    "nbgrader": {
     "cell_type": "markdown",
     "checksum": "a8842c5e931ea3d649e5386492da5377",
     "grade": false,
     "grade_id": "cell-f3cd954b351018ba",
     "locked": true,
     "schema_version": 3,
     "solution": false,
     "task": false
    }
   },
   "source": [
    "#### (b) Generate $B = 200$ bootstrap samples from the above sample. \n",
    "\n",
    "Again, use `replicate()` and `sample()`..."
   ]
  },
  {
   "cell_type": "code",
   "execution_count": 33,
   "metadata": {
    "nbgrader": {
     "cell_type": "code",
     "checksum": "4f0582e5b3a9fa1c7aea87c89c0f468c",
     "grade": true,
     "grade_id": "cell-c524c01f9e4d102c",
     "locked": false,
     "points": 0,
     "schema_version": 3,
     "solution": true,
     "task": false
    }
   },
   "outputs": [
    {
     "data": {
      "text/html": [
       "<table>\n",
       "<tbody>\n",
       "\t<tr><td>0.31855841</td><td>0.08752308</td><td>0.73206878</td><td>0.09096589</td><td>0.31855841</td><td>0.08752308</td><td>0.73206878</td><td>0.09096589</td></tr>\n",
       "\t<tr><td>0.44948147</td><td>0.44948147</td><td>0.30831719</td><td>0.44948147</td><td>0.44948147</td><td>0.06348967</td><td>0.31855841</td><td>0.76926621</td></tr>\n",
       "\t<tr><td>0.76926621</td><td>0.76926621</td><td>0.09096589</td><td>0.76926621</td><td>0.09096589</td><td>0.06348967</td><td>0.44948147</td><td>0.76926621</td></tr>\n",
       "\t<tr><td>0.09096589</td><td>0.08752308</td><td>0.73206878</td><td>0.08752308</td><td>0.06348967</td><td>0.08752308</td><td>0.30831719</td><td>0.08752308</td></tr>\n",
       "\t<tr><td>0.44948147</td><td>0.09096589</td><td>0.08752308</td><td>0.30831719</td><td>0.09096589</td><td>0.06348967</td><td>0.06348967</td><td>0.73206878</td></tr>\n",
       "\t<tr><td>0.44948147</td><td>0.08752308</td><td>0.30831719</td><td>0.73206878</td><td>0.73206878</td><td>0.09096589</td><td>0.44948147</td><td>0.06348967</td></tr>\n",
       "</tbody>\n",
       "</table>\n"
      ],
      "text/latex": [
       "\\begin{tabular}{llllllll}\n",
       "\t 0.31855841 & 0.08752308 & 0.73206878 & 0.09096589 & 0.31855841 & 0.08752308 & 0.73206878 & 0.09096589\\\\\n",
       "\t 0.44948147 & 0.44948147 & 0.30831719 & 0.44948147 & 0.44948147 & 0.06348967 & 0.31855841 & 0.76926621\\\\\n",
       "\t 0.76926621 & 0.76926621 & 0.09096589 & 0.76926621 & 0.09096589 & 0.06348967 & 0.44948147 & 0.76926621\\\\\n",
       "\t 0.09096589 & 0.08752308 & 0.73206878 & 0.08752308 & 0.06348967 & 0.08752308 & 0.30831719 & 0.08752308\\\\\n",
       "\t 0.44948147 & 0.09096589 & 0.08752308 & 0.30831719 & 0.09096589 & 0.06348967 & 0.06348967 & 0.73206878\\\\\n",
       "\t 0.44948147 & 0.08752308 & 0.30831719 & 0.73206878 & 0.73206878 & 0.09096589 & 0.44948147 & 0.06348967\\\\\n",
       "\\end{tabular}\n"
      ],
      "text/markdown": [
       "\n",
       "| 0.31855841 | 0.08752308 | 0.73206878 | 0.09096589 | 0.31855841 | 0.08752308 | 0.73206878 | 0.09096589 |\n",
       "| 0.44948147 | 0.44948147 | 0.30831719 | 0.44948147 | 0.44948147 | 0.06348967 | 0.31855841 | 0.76926621 |\n",
       "| 0.76926621 | 0.76926621 | 0.09096589 | 0.76926621 | 0.09096589 | 0.06348967 | 0.44948147 | 0.76926621 |\n",
       "| 0.09096589 | 0.08752308 | 0.73206878 | 0.08752308 | 0.06348967 | 0.08752308 | 0.30831719 | 0.08752308 |\n",
       "| 0.44948147 | 0.09096589 | 0.08752308 | 0.30831719 | 0.09096589 | 0.06348967 | 0.06348967 | 0.73206878 |\n",
       "| 0.44948147 | 0.08752308 | 0.30831719 | 0.73206878 | 0.73206878 | 0.09096589 | 0.44948147 | 0.06348967 |\n",
       "\n"
      ],
      "text/plain": [
       "     [,1]       [,2]       [,3]       [,4]       [,5]       [,6]      \n",
       "[1,] 0.31855841 0.08752308 0.73206878 0.09096589 0.31855841 0.08752308\n",
       "[2,] 0.44948147 0.44948147 0.30831719 0.44948147 0.44948147 0.06348967\n",
       "[3,] 0.76926621 0.76926621 0.09096589 0.76926621 0.09096589 0.06348967\n",
       "[4,] 0.09096589 0.08752308 0.73206878 0.08752308 0.06348967 0.08752308\n",
       "[5,] 0.44948147 0.09096589 0.08752308 0.30831719 0.09096589 0.06348967\n",
       "[6,] 0.44948147 0.08752308 0.30831719 0.73206878 0.73206878 0.09096589\n",
       "     [,7]       [,8]      \n",
       "[1,] 0.73206878 0.09096589\n",
       "[2,] 0.31855841 0.76926621\n",
       "[3,] 0.44948147 0.76926621\n",
       "[4,] 0.30831719 0.08752308\n",
       "[5,] 0.06348967 0.73206878\n",
       "[6,] 0.44948147 0.06348967"
      ]
     },
     "metadata": {},
     "output_type": "display_data"
    }
   ],
   "source": [
    "B = 200\n",
    "\n",
    "bootstraps = t(replicate(B, sample(x,size=n, replace = TRUE)))\n",
    "\n",
    "head(bootstraps)"
   ]
  },
  {
   "cell_type": "markdown",
   "metadata": {},
   "source": [
    "#### (c) Calculate the MLE of $\\theta$ for the original sample. Denote this as $\\widehat{\\theta}$. Then, calculate the MLE of $\\theta$ for each bootstrap sample. Denote this as $\\widehat{\\theta}^*_i$, for $i = 1,...,B$. Avoid loops! (HINT: use the apply() function.)"
   ]
  },
  {
   "cell_type": "code",
   "execution_count": 35,
   "metadata": {},
   "outputs": [
    {
     "data": {
      "text/html": [
       "<ol class=list-inline>\n",
       "\t<li>0.0944204080975494</li>\n",
       "\t<li>0.165807500264522</li>\n",
       "\t<li>0.222308447652044</li>\n",
       "\t<li>0.0372940718413177</li>\n",
       "\t<li>0.0555958415970421</li>\n",
       "\t<li>0.132623096143099</li>\n",
       "</ol>\n"
      ],
      "text/latex": [
       "\\begin{enumerate*}\n",
       "\\item 0.0944204080975494\n",
       "\\item 0.165807500264522\n",
       "\\item 0.222308447652044\n",
       "\\item 0.0372940718413177\n",
       "\\item 0.0555958415970421\n",
       "\\item 0.132623096143099\n",
       "\\end{enumerate*}\n"
      ],
      "text/markdown": [
       "1. 0.0944204080975494\n",
       "2. 0.165807500264522\n",
       "3. 0.222308447652044\n",
       "4. 0.0372940718413177\n",
       "5. 0.0555958415970421\n",
       "6. 0.132623096143099\n",
       "\n",
       "\n"
      ],
      "text/plain": [
       "[1] 0.09442041 0.16580750 0.22230845 0.03729407 0.05559584 0.13262310"
      ]
     },
     "metadata": {},
     "output_type": "display_data"
    }
   ],
   "source": [
    "unbiased_variances = apply(bootstraps, 1, var)\n",
    "\n",
    "#We can recall that the MLE of variance = xbar^2 \n",
    "\n",
    "mle_f = function(x){\n",
    "    return(mean(x)^2)\n",
    "}\n",
    "mle_variance = apply(bootstraps, 1, mle_f)\n",
    "head(mle_variance)"
   ]
  },
  {
   "cell_type": "markdown",
   "metadata": {
    "nbgrader": {
     "cell_type": "markdown",
     "checksum": "ad5178e58610996be3633c2f17af7428",
     "grade": false,
     "grade_id": "cell-4de756811238e9cb",
     "locked": true,
     "schema_version": 3,
     "solution": false,
     "task": false
    }
   },
   "source": [
    "#### (d) Use the `quantile()` function to find the $5\\text{th}$ and $95\\text{th}$ percentile of the distribution of $\\widehat{\\theta}^*_i$. Use these values to calculate the $90\\%$ pivot bootstrap confidence interval for $\\theta$. "
   ]
  },
  {
   "cell_type": "code",
   "execution_count": 40,
   "metadata": {
    "nbgrader": {
     "cell_type": "code",
     "checksum": "e384011b9776d5e1e853b2a7d53b0b25",
     "grade": true,
     "grade_id": "cell-25c850fd16d644d8",
     "locked": false,
     "points": 0,
     "schema_version": 3,
     "solution": true,
     "task": false
    }
   },
   "outputs": [
    {
     "data": {
      "text/html": [
       "<dl class=dl-horizontal>\n",
       "\t<dt>5%</dt>\n",
       "\t\t<dd>0.0420134858886432</dd>\n",
       "\t<dt>95%</dt>\n",
       "\t\t<dd>0.256649327459458</dd>\n",
       "</dl>\n"
      ],
      "text/latex": [
       "\\begin{description*}\n",
       "\\item[5\\textbackslash{}\\%] 0.0420134858886432\n",
       "\\item[95\\textbackslash{}\\%] 0.256649327459458\n",
       "\\end{description*}\n"
      ],
      "text/markdown": [
       "5%\n",
       ":   0.042013485888643295%\n",
       ":   0.256649327459458\n",
       "\n"
      ],
      "text/plain": [
       "        5%        95% \n",
       "0.04201349 0.25664933 "
      ]
     },
     "metadata": {},
     "output_type": "display_data"
    },
    {
     "data": {
      "text/html": [
       "<strong>95%:</strong> -0.00819486350775661"
      ],
      "text/latex": [
       "\\textbf{95\\textbackslash{}\\%:} -0.00819486350775661"
      ],
      "text/markdown": [
       "**95%:** -0.00819486350775661"
      ],
      "text/plain": [
       "         95% \n",
       "-0.008194864 "
      ]
     },
     "metadata": {},
     "output_type": "display_data"
    },
    {
     "data": {
      "text/html": [
       "<strong>5%:</strong> 0.206440978063058"
      ],
      "text/latex": [
       "\\textbf{5\\textbackslash{}\\%:} 0.206440978063058"
      ],
      "text/markdown": [
       "**5%:** 0.206440978063058"
      ],
      "text/plain": [
       "      5% \n",
       "0.206441 "
      ]
     },
     "metadata": {},
     "output_type": "display_data"
    }
   ],
   "source": [
    "percentile_CI_var = quantile(mle_variance, c(0.05, 0.95))\n",
    "percentile_CI_var\n",
    "\n",
    "lower_pivot = 2*mean(x)^2 - percentile_CI_var[2]\n",
    "upper_pivot = 2*mean(x)^2 - percentile_CI_var[1]\n",
    "\n",
    "lower_pivot\n",
    "upper_pivot\n",
    "\n"
   ]
  },
  {
   "cell_type": "markdown",
   "metadata": {
    "nbgrader": {
     "cell_type": "markdown",
     "checksum": "6726ad83f0cfc2b1d510373258a95399",
     "grade": false,
     "grade_id": "cell-86f1d9644b162c2a",
     "locked": true,
     "schema_version": 3,
     "solution": false,
     "task": false
    }
   },
   "source": [
    "#### (e) Interpret this confidence interval."
   ]
  },
  {
   "cell_type": "markdown",
   "metadata": {
    "nbgrader": {
     "cell_type": "markdown",
     "checksum": "24bdd5e8d837df8a0b327939eff391bd",
     "grade": true,
     "grade_id": "cell-54e4334f8178c453",
     "locked": false,
     "points": 0,
     "schema_version": 3,
     "solution": true,
     "task": false
    }
   },
   "source": [
    "We are 90% confident that the true variance lies within this interval (ie. if we did 100 times 90 of the intervals will contain the true variance)"
   ]
  }
 ],
 "metadata": {
  "kernelspec": {
   "display_name": "Python 3 (ipykernel)",
   "language": "python",
   "name": "python3"
  },
  "language_info": {
   "codemirror_mode": {
    "name": "ipython",
    "version": 3
   },
   "file_extension": ".py",
   "mimetype": "text/x-python",
   "name": "python",
   "nbconvert_exporter": "python",
   "pygments_lexer": "ipython3",
   "version": "3.12.4"
  }
 },
 "nbformat": 4,
 "nbformat_minor": 4
}

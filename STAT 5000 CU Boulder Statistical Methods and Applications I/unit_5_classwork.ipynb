{
 "cells": [
  {
   "cell_type": "markdown",
   "metadata": {
    "nbgrader": {
     "cell_type": "markdown",
     "checksum": "96397c7d4e3c38921ed0a14d2821b659",
     "grade": false,
     "grade_id": "cell-eeea60546af01e26",
     "locked": true,
     "schema_version": 3,
     "solution": false,
     "task": false
    }
   },
   "source": [
    "# Unit 5 Classwork\n",
    "\n",
    "The goals of this assignment are to help you (1) use numerical simulation to analyze and interpret important statistical inference quantities, (2) calculate probabilities using `R`, and (3) estimate probabilities and other quantities through numerical (computer) simulation. Such simulations can be useful. We can use simulations to help confirm that we've calculated a probability \"by hand\" correctly, or to estimate other quantities, like areas/integrals.\n"
   ]
  },
  {
   "cell_type": "markdown",
   "metadata": {
    "nbgrader": {
     "cell_type": "markdown",
     "checksum": "396cf7927293b117286f9154f615238c",
     "grade": false,
     "grade_id": "cell-302c8d9b770b558b",
     "locked": true,
     "schema_version": 3,
     "solution": false,
     "task": false
    }
   },
   "source": [
    "## Problem #1\n",
    "\n",
    "Let $\\widehat{\\theta}$ be an estimator of the parameter $\\theta$ (e.g., we might think of $\\widehat{\\theta} = \\bar{X}$ and $\\theta = \\mu$, where $\\mu$ is a population mean). We say that $\\widehat{\\theta}$ is *unbiased* if $E(\\widehat{\\theta}) = \\theta$.\n",
    "\n",
    "**1.(a) Let $X_1,...,X_n \\stackrel{iid}\\sim \\text{Pois}(\\lambda).$ Find an unbiased estimator for $\\lambda$.**"
   ]
  },
  {
   "cell_type": "markdown",
   "metadata": {
    "nbgrader": {
     "cell_type": "markdown",
     "checksum": "7c982ce01162814cd6811b044dbbdef7",
     "grade": true,
     "grade_id": "cell-fdf4a771a183fd57",
     "locked": false,
     "points": 1,
     "schema_version": 3,
     "solution": true,
     "task": false
    }
   },
   "source": []
  },
  {
   "cell_type": "markdown",
   "metadata": {
    "nbgrader": {
     "cell_type": "markdown",
     "checksum": "9e93997e222ba9102936bade4588c469",
     "grade": false,
     "grade_id": "cell-baaaa50fc257855f",
     "locked": true,
     "schema_version": 3,
     "solution": false,
     "task": false
    }
   },
   "source": [
    "**1.(b) Let $X_1,...,X_n \\stackrel{iid}\\sim \\text{Exp}(\\lambda).$ Find the maximum likelihood estimator (MLE) for $\\lambda$.**"
   ]
  },
  {
   "cell_type": "markdown",
   "metadata": {
    "nbgrader": {
     "cell_type": "markdown",
     "checksum": "89a4a51b7fde0f2a52edf86f3c18cbb1",
     "grade": true,
     "grade_id": "cell-1a50e82dc3941461",
     "locked": false,
     "points": 1,
     "schema_version": 3,
     "solution": true,
     "task": false
    }
   },
   "source": []
  },
  {
   "cell_type": "markdown",
   "metadata": {
    "nbgrader": {
     "cell_type": "markdown",
     "checksum": "e871dfbd555252ad8e0934742f8f1d41",
     "grade": false,
     "grade_id": "cell-58c046df5d131fc7",
     "locked": true,
     "schema_version": 3,
     "solution": false,
     "task": false
    }
   },
   "source": [
    "## Problem #2 (Optional for STAT 4000 Students)\n",
    "\n",
    "Let $X_1,...,X_n$ be an i.i.d. sample from a population with mean $\\mu$ and variance $\\sigma^2$.\n",
    "\n",
    "**2.(a)   Show that \n",
    "\\begin{align*}\n",
    "    S^2 = \\frac{1}{n-1}\\sum^n_{i=1}(X_i - \\bar{X})^2\n",
    "\\end{align*}\n",
    "is an unbiased estimator of $\\sigma^2$. This answers the question of why we divide by $n-1$ in $S^2$!**"
   ]
  },
  {
   "cell_type": "markdown",
   "metadata": {},
   "source": []
  },
  {
   "cell_type": "markdown",
   "metadata": {
    "nbgrader": {
     "cell_type": "markdown",
     "checksum": "2e9b478590b3aff4a60b913a1efd5903",
     "grade": false,
     "grade_id": "cell-3550691894f61c5e",
     "locked": true,
     "schema_version": 3,
     "solution": false,
     "task": false
    }
   },
   "source": [
    "**2.(b)Assume that $E\\left[ \\sqrt{X} \\right] < \\sqrt{E(X)}$. Show that $S$ is a *biased* estimator of $\\sigma$.**"
   ]
  },
  {
   "cell_type": "markdown",
   "metadata": {
    "nbgrader": {
     "cell_type": "markdown",
     "checksum": "e996de0e5af3b5f288646603a8cbe58b",
     "grade": true,
     "grade_id": "cell-8aa257f1a03f81c7",
     "locked": false,
     "points": 0,
     "schema_version": 3,
     "solution": true,
     "task": false
    }
   },
   "source": []
  },
  {
   "cell_type": "markdown",
   "metadata": {
    "nbgrader": {
     "cell_type": "markdown",
     "checksum": "1295cdbf5a85f945ac5dd87b62177c6b",
     "grade": false,
     "grade_id": "cell-5c63e079d64781a0",
     "locked": true,
     "schema_version": 3,
     "solution": false,
     "task": false
    }
   },
   "source": [
    "**2.(c) Use simulations to provide some evidence that $S$ is biased. Specifically:**\n",
    "\n",
    "1. Generate `m = 500` different samples of size `n = 5` from $\\text{Exp}(\\lambda = 1)$.\n",
    "2. Calculate $S$ for each sample.\n",
    "3. What is the mean of the distribution of $S$? \n",
    "4. Creat a histogram of the distribution of $S$. Comment on the distribution. How does this provide evidence that $S$ is biased?\n"
   ]
  },
  {
   "cell_type": "code",
   "execution_count": 14,
   "metadata": {
    "nbgrader": {
     "cell_type": "code",
     "checksum": "991334f7628ea35549a5ba3434247783",
     "grade": true,
     "grade_id": "cell-7b73df163fa38eea",
     "locked": false,
     "points": 0,
     "schema_version": 3,
     "solution": true,
     "task": false
    }
   },
   "outputs": [
    {
     "data": {
      "text/html": [
       "0.87934015428628"
      ],
      "text/latex": [
       "0.87934015428628"
      ],
      "text/markdown": [
       "0.87934015428628"
      ],
      "text/plain": [
       "[1] 0.8793402"
      ]
     },
     "metadata": {},
     "output_type": "display_data"
    },
    {
     "data": {
      "image/png": "[encoded data removed]",
      "text/plain": [
       "Plot with title \"Histogram of S\""
      ]
     },
     "metadata": {},
     "output_type": "display_data"
    }
   ],
   "source": [
    "m = 500\n",
    "n = 5\n",
    "set.seed(123)\n",
    "x = t(replicate(m, expr=rexp(5,1)))\n",
    "S = apply(x,1,sd)\n",
    "mean(S)\n",
    "hist(S)\n"
   ]
  },
  {
   "cell_type": "markdown",
   "metadata": {
    "nbgrader": {
     "cell_type": "markdown",
     "checksum": "dad6766b5b4dfd18bb378827fe3e9afc",
     "grade": true,
     "grade_id": "cell-9a39c93cf0dfc396",
     "locked": false,
     "points": 1,
     "schema_version": 3,
     "solution": true,
     "task": false
    }
   },
   "source": [
    "The distribution of S is right/positively skewed. Mean of S here is 0.87 and it's less than true std of 1 and it shows that S is a biased estimator of sigma(sd). It implies as same as the $$\\mathbb{E}[\\sqrt{X}] < \\sqrt{\\mathbb{E}[X]}$$ So S is a biased estimator by this evidence."
   ]
  },
  {
   "cell_type": "markdown",
   "metadata": {
    "nbgrader": {
     "cell_type": "markdown",
     "checksum": "4276e7c01479d571b71debcd59bf2320",
     "grade": false,
     "grade_id": "cell-b851a6408303d693",
     "locked": true,
     "schema_version": 3,
     "solution": false,
     "task": false
    }
   },
   "source": [
    "**2.(d) Repeat the process described in (e) for $S^2$. What do you notice?**"
   ]
  },
  {
   "cell_type": "code",
   "execution_count": 12,
   "metadata": {
    "nbgrader": {
     "cell_type": "code",
     "checksum": "4aec15baa591b0a694f54e703da396a8",
     "grade": true,
     "grade_id": "cell-e226860ce717176a",
     "locked": false,
     "points": 1,
     "schema_version": 3,
     "solution": true,
     "task": false
    }
   },
   "outputs": [
    {
     "data": {
      "text/html": [
       "1.0215635785094"
      ],
      "text/latex": [
       "1.0215635785094"
      ],
      "text/markdown": [
       "1.0215635785094"
      ],
      "text/plain": [
       "[1] 1.021564"
      ]
     },
     "metadata": {},
     "output_type": "display_data"
    },
    {
     "data": {
      "image/png": "[encoded data removed]",
      "text/plain": [
       "Plot with title \"Histogram of S\""
      ]
     },
     "metadata": {},
     "output_type": "display_data"
    }
   ],
   "source": [
    "m = 500\n",
    "n = 5\n",
    "set.seed(123)\n",
    "x = t(replicate(m, expr=rexp(5,1)))\n",
    "S = apply(x,1,var)\n",
    "mean(S)\n",
    "hist(S)"
   ]
  },
  {
   "cell_type": "markdown",
   "metadata": {
    "nbgrader": {
     "cell_type": "markdown",
     "checksum": "ca620bf3aae765eefa49d141cfb62c54",
     "grade": true,
     "grade_id": "cell-416b0a5c5227bd5f",
     "locked": false,
     "points": 1,
     "schema_version": 3,
     "solution": true,
     "task": false
    }
   },
   "source": [
    "sample standard deviation is biased and sample variance is not because if we change the value of 'm' the true variance will approach to 1 and it won't be biased. And the S remains biased even if we change the sample size 'm'."
   ]
  },
  {
   "cell_type": "markdown",
   "metadata": {
    "nbgrader": {
     "cell_type": "markdown",
     "checksum": "a1c944d7d6d2d34e2eabec9de227aba4",
     "grade": false,
     "grade_id": "cell-41b4d9f3a1078848",
     "locked": true,
     "schema_version": 3,
     "solution": false,
     "task": false
    }
   },
   "source": [
    "## Problem #3\n",
    "\n",
    "A response time is normally distributed with standard deviation of 25 milliseconds. A new system has been installed, and we wish to estimate the true average response time, $\\mu$, for the new environment. \n",
    "\n",
    "**Assuming that the response times are still normally distributed with $\\sigma = 25$, what sample size is necessary to ensure that the resulting $95\\%$ confidence has a width of (at most) $10$?**"
   ]
  },
  {
   "cell_type": "code",
   "execution_count": 20,
   "metadata": {
    "nbgrader": {
     "cell_type": "code",
     "checksum": "5bcf20fb72cedafe052da73c16c665d8",
     "grade": true,
     "grade_id": "cell-5f1d6a451180ed51",
     "locked": false,
     "points": 0,
     "schema_version": 3,
     "solution": true,
     "task": false
    }
   },
   "outputs": [
    {
     "data": {
      "text/html": [
       "96.0364705173531"
      ],
      "text/latex": [
       "96.0364705173531"
      ],
      "text/markdown": [
       "96.0364705173531"
      ],
      "text/plain": [
       "[1] 96.03647"
      ]
     },
     "metadata": {},
     "output_type": "display_data"
    }
   ],
   "source": [
    "# 2*z_crt*sigma/sqrt(n) = 10\n",
    "# (2*z_crt*sigma/10)^2 = n\n",
    "\n",
    "sigma = 25\n",
    "alpha = 0.05\n",
    "z_crit = qnorm(1-alpha/2,0,1)\n",
    "n = (2*z_crit*sigma/10)^2\n",
    "n"
   ]
  },
  {
   "cell_type": "markdown",
   "metadata": {},
   "source": [
    "n should be atleast 97"
   ]
  },
  {
   "cell_type": "markdown",
   "metadata": {
    "nbgrader": {
     "cell_type": "markdown",
     "checksum": "359e369d43f9d22bd73625199254314f",
     "grade": false,
     "grade_id": "cell-163f9d2795e368c1",
     "locked": true,
     "schema_version": 3,
     "solution": false,
     "task": false
    }
   },
   "source": [
    "## Problem #4\n",
    "\n",
    "The dataset contained in the file `winequality-red.csv` is related to a red Portuguese \"Vinho Verde\" wine. Make sure you download it from Canvas, and load it with the following code:"
   ]
  },
  {
   "cell_type": "code",
   "execution_count": 25,
   "metadata": {
    "nbgrader": {
     "cell_type": "code",
     "checksum": "619d70c708fe24e3792f03482ee146fa",
     "grade": false,
     "grade_id": "cell-451a8e22be3168c7",
     "locked": true,
     "schema_version": 3,
     "solution": false,
     "task": false
    }
   },
   "outputs": [
    {
     "data": {
      "text/html": [
       "<table>\n",
       "<thead><tr><th scope=col>X</th><th scope=col>fixed.acidity</th><th scope=col>volatile.acidity</th><th scope=col>citric.acid</th><th scope=col>residual.sugar</th><th scope=col>chlorides</th><th scope=col>free.sulfur.dioxide</th><th scope=col>total.sulfur.dioxide</th><th scope=col>density</th><th scope=col>pH</th><th scope=col>sulphates</th><th scope=col>alcohol</th><th scope=col>quality</th></tr></thead>\n",
       "<tbody>\n",
       "\t<tr><td>1     </td><td> 7.4  </td><td>0.70  </td><td>0.00  </td><td>1.9   </td><td>0.076 </td><td>11    </td><td>34    </td><td>0.9978</td><td>3.51  </td><td>0.56  </td><td>9.4   </td><td>5     </td></tr>\n",
       "\t<tr><td>2     </td><td> 7.8  </td><td>0.88  </td><td>0.00  </td><td>2.6   </td><td>0.098 </td><td>25    </td><td>67    </td><td>0.9968</td><td>3.20  </td><td>0.68  </td><td>9.8   </td><td>5     </td></tr>\n",
       "\t<tr><td>3     </td><td> 7.8  </td><td>0.76  </td><td>0.04  </td><td>2.3   </td><td>0.092 </td><td>15    </td><td>54    </td><td>0.9970</td><td>3.26  </td><td>0.65  </td><td>9.8   </td><td>5     </td></tr>\n",
       "\t<tr><td>4     </td><td>11.2  </td><td>0.28  </td><td>0.56  </td><td>1.9   </td><td>0.075 </td><td>17    </td><td>60    </td><td>0.9980</td><td>3.16  </td><td>0.58  </td><td>9.8   </td><td>6     </td></tr>\n",
       "\t<tr><td>5     </td><td> 7.4  </td><td>0.70  </td><td>0.00  </td><td>1.9   </td><td>0.076 </td><td>11    </td><td>34    </td><td>0.9978</td><td>3.51  </td><td>0.56  </td><td>9.4   </td><td>5     </td></tr>\n",
       "\t<tr><td>6     </td><td> 7.4  </td><td>0.66  </td><td>0.00  </td><td>1.8   </td><td>0.075 </td><td>13    </td><td>40    </td><td>0.9978</td><td>3.51  </td><td>0.56  </td><td>9.4   </td><td>5     </td></tr>\n",
       "</tbody>\n",
       "</table>\n"
      ],
      "text/latex": [
       "\\begin{tabular}{r|lllllllllllll}\n",
       " X & fixed.acidity & volatile.acidity & citric.acid & residual.sugar & chlorides & free.sulfur.dioxide & total.sulfur.dioxide & density & pH & sulphates & alcohol & quality\\\\\n",
       "\\hline\n",
       "\t 1      &  7.4   & 0.70   & 0.00   & 1.9    & 0.076  & 11     & 34     & 0.9978 & 3.51   & 0.56   & 9.4    & 5     \\\\\n",
       "\t 2      &  7.8   & 0.88   & 0.00   & 2.6    & 0.098  & 25     & 67     & 0.9968 & 3.20   & 0.68   & 9.8    & 5     \\\\\n",
       "\t 3      &  7.8   & 0.76   & 0.04   & 2.3    & 0.092  & 15     & 54     & 0.9970 & 3.26   & 0.65   & 9.8    & 5     \\\\\n",
       "\t 4      & 11.2   & 0.28   & 0.56   & 1.9    & 0.075  & 17     & 60     & 0.9980 & 3.16   & 0.58   & 9.8    & 6     \\\\\n",
       "\t 5      &  7.4   & 0.70   & 0.00   & 1.9    & 0.076  & 11     & 34     & 0.9978 & 3.51   & 0.56   & 9.4    & 5     \\\\\n",
       "\t 6      &  7.4   & 0.66   & 0.00   & 1.8    & 0.075  & 13     & 40     & 0.9978 & 3.51   & 0.56   & 9.4    & 5     \\\\\n",
       "\\end{tabular}\n"
      ],
      "text/markdown": [
       "\n",
       "| X | fixed.acidity | volatile.acidity | citric.acid | residual.sugar | chlorides | free.sulfur.dioxide | total.sulfur.dioxide | density | pH | sulphates | alcohol | quality |\n",
       "|---|---|---|---|---|---|---|---|---|---|---|---|---|\n",
       "| 1      |  7.4   | 0.70   | 0.00   | 1.9    | 0.076  | 11     | 34     | 0.9978 | 3.51   | 0.56   | 9.4    | 5      |\n",
       "| 2      |  7.8   | 0.88   | 0.00   | 2.6    | 0.098  | 25     | 67     | 0.9968 | 3.20   | 0.68   | 9.8    | 5      |\n",
       "| 3      |  7.8   | 0.76   | 0.04   | 2.3    | 0.092  | 15     | 54     | 0.9970 | 3.26   | 0.65   | 9.8    | 5      |\n",
       "| 4      | 11.2   | 0.28   | 0.56   | 1.9    | 0.075  | 17     | 60     | 0.9980 | 3.16   | 0.58   | 9.8    | 6      |\n",
       "| 5      |  7.4   | 0.70   | 0.00   | 1.9    | 0.076  | 11     | 34     | 0.9978 | 3.51   | 0.56   | 9.4    | 5      |\n",
       "| 6      |  7.4   | 0.66   | 0.00   | 1.8    | 0.075  | 13     | 40     | 0.9978 | 3.51   | 0.56   | 9.4    | 5      |\n",
       "\n"
      ],
      "text/plain": [
       "  X fixed.acidity volatile.acidity citric.acid residual.sugar chlorides\n",
       "1 1  7.4          0.70             0.00        1.9            0.076    \n",
       "2 2  7.8          0.88             0.00        2.6            0.098    \n",
       "3 3  7.8          0.76             0.04        2.3            0.092    \n",
       "4 4 11.2          0.28             0.56        1.9            0.075    \n",
       "5 5  7.4          0.70             0.00        1.9            0.076    \n",
       "6 6  7.4          0.66             0.00        1.8            0.075    \n",
       "  free.sulfur.dioxide total.sulfur.dioxide density pH   sulphates alcohol\n",
       "1 11                  34                   0.9978  3.51 0.56      9.4    \n",
       "2 25                  67                   0.9968  3.20 0.68      9.8    \n",
       "3 15                  54                   0.9970  3.26 0.65      9.8    \n",
       "4 17                  60                   0.9980  3.16 0.58      9.8    \n",
       "5 11                  34                   0.9978  3.51 0.56      9.4    \n",
       "6 13                  40                   0.9978  3.51 0.56      9.4    \n",
       "  quality\n",
       "1 5      \n",
       "2 5      \n",
       "3 5      \n",
       "4 6      \n",
       "5 5      \n",
       "6 5      "
      ]
     },
     "metadata": {},
     "output_type": "display_data"
    },
    {
     "data": {
      "text/html": [
       "<ol class=list-inline>\n",
       "\t<li>1599</li>\n",
       "\t<li>13</li>\n",
       "</ol>\n"
      ],
      "text/latex": [
       "\\begin{enumerate*}\n",
       "\\item 1599\n",
       "\\item 13\n",
       "\\end{enumerate*}\n"
      ],
      "text/markdown": [
       "1. 1599\n",
       "2. 13\n",
       "\n",
       "\n"
      ],
      "text/plain": [
       "[1] 1599   13"
      ]
     },
     "metadata": {},
     "output_type": "display_data"
    }
   ],
   "source": [
    "wine = read.table(\"winequality-red.csv\", header = TRUE, sep=\",\")\n",
    "head(wine)\n",
    "dim(wine)"
   ]
  },
  {
   "cell_type": "markdown",
   "metadata": {
    "nbgrader": {
     "cell_type": "markdown",
     "checksum": "040ba2b1246f377cf0c7ccf47e38f89e",
     "grade": false,
     "grade_id": "cell-c0c44ac200e9e471",
     "locked": true,
     "schema_version": 3,
     "solution": false,
     "task": false
    }
   },
   "source": [
    "**Calculate a 90% confidence interval for the mean $\\text{pH}$ level.**"
   ]
  },
  {
   "cell_type": "code",
   "execution_count": 28,
   "metadata": {
    "nbgrader": {
     "cell_type": "code",
     "checksum": "a685c771e9a6dd4bae2b2a76e8387789",
     "grade": true,
     "grade_id": "cell-ca4d3c763ea36699",
     "locked": false,
     "points": 1,
     "schema_version": 3,
     "solution": true,
     "task": false
    }
   },
   "outputs": [
    {
     "data": {
      "text/html": [
       "3.30476263246741"
      ],
      "text/latex": [
       "3.30476263246741"
      ],
      "text/markdown": [
       "3.30476263246741"
      ],
      "text/plain": [
       "[1] 3.304763"
      ]
     },
     "metadata": {},
     "output_type": "display_data"
    },
    {
     "data": {
      "text/html": [
       "3.31746375902727"
      ],
      "text/latex": [
       "3.31746375902727"
      ],
      "text/markdown": [
       "3.31746375902727"
      ],
      "text/plain": [
       "[1] 3.317464"
      ]
     },
     "metadata": {},
     "output_type": "display_data"
    }
   ],
   "source": [
    "alpha = 0.1\n",
    "n = length(wine$pH)\n",
    "s = sd(wine$pH)\n",
    "xbar = mean(wine$pH)\n",
    "z_score = qnorm(1-alpha/2,0,1)\n",
    "\n",
    "lower_CI = xbar - z_score * s / sqrt(n)\n",
    "upper_CI = xbar + z_score * s / sqrt(n)\n",
    "\n",
    "lower_CI\n",
    "upper_CI"
   ]
  },
  {
   "cell_type": "markdown",
   "metadata": {
    "nbgrader": {
     "cell_type": "markdown",
     "checksum": "d9d9970d08c7bfe5ff164445985c7adc",
     "grade": false,
     "grade_id": "cell-067a60a42464ac8b",
     "locked": true,
     "schema_version": 3,
     "solution": false,
     "task": false
    }
   },
   "source": [
    "## Problem #5\n",
    "\n",
    "In this example, we will construct a simulation to verify the “coverage properties” of a confidence interval for the mean of a normal distribution.\n",
    "\n",
    "**5.(a) Simulate a matrix with `m = 1000` rows and `n = 100` columns, where each entry is a random number from the population model $N(0, 1)$. Interpret each row as a sample from the population.**\n"
   ]
  },
  {
   "cell_type": "code",
   "execution_count": 1,
   "metadata": {
    "nbgrader": {
     "cell_type": "code",
     "checksum": "c66c06385ef82af5fe53462c114da59c",
     "grade": true,
     "grade_id": "cell-de64b39e3681ff07",
     "locked": false,
     "points": 0,
     "schema_version": 3,
     "solution": true,
     "task": false
    }
   },
   "outputs": [
    {
     "data": {
      "text/html": [
       "<table>\n",
       "<tbody>\n",
       "\t<tr><td> 1.90716256 </td><td> 1.1448769  </td><td>-0.76453074 </td><td>-1.4574325  </td><td>-1.0934689  </td><td> 0.295241218</td><td> 0.006885942</td><td> 1.1574109  </td><td> 2.1346379  </td><td> 0.23784461 </td><td>...         </td><td>-0.4624085  </td><td>-0.5699504  </td><td> 1.4104926  </td><td>-0.001317237</td><td>-0.6473553  </td><td> 0.5706706  </td><td>-0.2866201  </td><td> 1.22077188 </td><td> 0.8008214  </td><td>-0.4989064  </td></tr>\n",
       "\t<tr><td> 0.44197317 </td><td> 1.6338766  </td><td>-0.13137608 </td><td> 0.1680593  </td><td> 1.0169366  </td><td> 0.113106511</td><td> 0.065358330</td><td> 0.2614911  </td><td> 0.5129595  </td><td>-0.28140273 </td><td>...         </td><td> 1.7560754  </td><td> 1.0450613  </td><td>-2.5394225  </td><td>-0.583217723</td><td> 0.5879156  </td><td> 1.0923020  </td><td> 0.7109421  </td><td> 0.08896238 </td><td> 2.5514585  </td><td> 1.5711233  </td></tr>\n",
       "\t<tr><td>-0.45379998 </td><td>-0.4078867  </td><td> 0.18792487 </td><td>-0.9008257  </td><td> 1.2479190  </td><td>-0.348302328</td><td>-0.933590523</td><td>-0.9580862  </td><td>-1.0186299  </td><td>-0.35629160 </td><td>...         </td><td>-1.1970194  </td><td> 1.1774207  </td><td> 1.2020899  </td><td>-1.554591735</td><td> 1.3040662  </td><td> 0.3768069  </td><td>-0.4973960  </td><td> 1.38174082 </td><td> 0.6371029  </td><td> 0.3435139  </td></tr>\n",
       "\t<tr><td>-1.74071124 </td><td>-1.4487110  </td><td> 0.05406800 </td><td> 1.2868098  </td><td> 1.4079696  </td><td>-0.578524032</td><td>-0.772652539</td><td>-0.6832470  </td><td>-1.1652467  </td><td>-1.42305282 </td><td>...         </td><td>-2.3106692  </td><td> 1.6086921  </td><td> 1.0806638  </td><td> 1.133682218</td><td> 0.9631973  </td><td>-0.7778417  </td><td> 0.3377329  </td><td>-0.34196630 </td><td>-1.0365953  </td><td> 1.3652572  </td></tr>\n",
       "\t<tr><td> 0.08880658 </td><td>-0.1513777  </td><td>-0.01922019 </td><td> 0.4914049  </td><td>-0.5546491  </td><td>-0.790112612</td><td>-1.010442525</td><td> 1.4284508  </td><td> 0.5790034  </td><td>-0.07425952 </td><td>...         </td><td> 0.4140903  </td><td> 1.2226364  </td><td>-0.2571791  </td><td>-1.185133418</td><td>-2.0132539  </td><td>-0.9296666  </td><td>-1.7507311  </td><td> 0.91475422 </td><td>-1.2935610  </td><td>-1.0311096  </td></tr>\n",
       "\t<tr><td> 0.30297695 </td><td> 1.8895576  </td><td> 2.08549378 </td><td> 0.1980162  </td><td> 0.1437736  </td><td> 0.001636573</td><td> 0.589109624</td><td>-1.7729072  </td><td>-0.4031553  </td><td>-0.02059150 </td><td>...         </td><td> 0.6084561  </td><td> 1.3844253  </td><td> 0.2842347  </td><td> 0.330156694</td><td>-0.3753233  </td><td>-0.4406906  </td><td>-1.3567964  </td><td> 0.76922950 </td><td>-1.7284605  </td><td> 1.2827261  </td></tr>\n",
       "</tbody>\n",
       "</table>\n"
      ],
      "text/latex": [
       "\\begin{tabular}{llllllllllllllllllllllllllllllllllllllllllllllllllllllllllllllllllllllllllllllllllllllllllllllllllll}\n",
       "\t  1.90716256  &  1.1448769   & -0.76453074  & -1.4574325   & -1.0934689   &  0.295241218 &  0.006885942 &  1.1574109   &  2.1346379   &  0.23784461  & ...          & -0.4624085   & -0.5699504   &  1.4104926   & -0.001317237 & -0.6473553   &  0.5706706   & -0.2866201   &  1.22077188  &  0.8008214   & -0.4989064  \\\\\n",
       "\t  0.44197317  &  1.6338766   & -0.13137608  &  0.1680593   &  1.0169366   &  0.113106511 &  0.065358330 &  0.2614911   &  0.5129595   & -0.28140273  & ...          &  1.7560754   &  1.0450613   & -2.5394225   & -0.583217723 &  0.5879156   &  1.0923020   &  0.7109421   &  0.08896238  &  2.5514585   &  1.5711233  \\\\\n",
       "\t -0.45379998  & -0.4078867   &  0.18792487  & -0.9008257   &  1.2479190   & -0.348302328 & -0.933590523 & -0.9580862   & -1.0186299   & -0.35629160  & ...          & -1.1970194   &  1.1774207   &  1.2020899   & -1.554591735 &  1.3040662   &  0.3768069   & -0.4973960   &  1.38174082  &  0.6371029   &  0.3435139  \\\\\n",
       "\t -1.74071124  & -1.4487110   &  0.05406800  &  1.2868098   &  1.4079696   & -0.578524032 & -0.772652539 & -0.6832470   & -1.1652467   & -1.42305282  & ...          & -2.3106692   &  1.6086921   &  1.0806638   &  1.133682218 &  0.9631973   & -0.7778417   &  0.3377329   & -0.34196630  & -1.0365953   &  1.3652572  \\\\\n",
       "\t  0.08880658  & -0.1513777   & -0.01922019  &  0.4914049   & -0.5546491   & -0.790112612 & -1.010442525 &  1.4284508   &  0.5790034   & -0.07425952  & ...          &  0.4140903   &  1.2226364   & -0.2571791   & -1.185133418 & -2.0132539   & -0.9296666   & -1.7507311   &  0.91475422  & -1.2935610   & -1.0311096  \\\\\n",
       "\t  0.30297695  &  1.8895576   &  2.08549378  &  0.1980162   &  0.1437736   &  0.001636573 &  0.589109624 & -1.7729072   & -0.4031553   & -0.02059150  & ...          &  0.6084561   &  1.3844253   &  0.2842347   &  0.330156694 & -0.3753233   & -0.4406906   & -1.3567964   &  0.76922950  & -1.7284605   &  1.2827261  \\\\\n",
       "\\end{tabular}\n"
      ],
      "text/markdown": [
       "\n",
       "|  1.90716256  |  1.1448769   | -0.76453074  | -1.4574325   | -1.0934689   |  0.295241218 |  0.006885942 |  1.1574109   |  2.1346379   |  0.23784461  | ...          | -0.4624085   | -0.5699504   |  1.4104926   | -0.001317237 | -0.6473553   |  0.5706706   | -0.2866201   |  1.22077188  |  0.8008214   | -0.4989064   |\n",
       "|  0.44197317  |  1.6338766   | -0.13137608  |  0.1680593   |  1.0169366   |  0.113106511 |  0.065358330 |  0.2614911   |  0.5129595   | -0.28140273  | ...          |  1.7560754   |  1.0450613   | -2.5394225   | -0.583217723 |  0.5879156   |  1.0923020   |  0.7109421   |  0.08896238  |  2.5514585   |  1.5711233   |\n",
       "| -0.45379998  | -0.4078867   |  0.18792487  | -0.9008257   |  1.2479190   | -0.348302328 | -0.933590523 | -0.9580862   | -1.0186299   | -0.35629160  | ...          | -1.1970194   |  1.1774207   |  1.2020899   | -1.554591735 |  1.3040662   |  0.3768069   | -0.4973960   |  1.38174082  |  0.6371029   |  0.3435139   |\n",
       "| -1.74071124  | -1.4487110   |  0.05406800  |  1.2868098   |  1.4079696   | -0.578524032 | -0.772652539 | -0.6832470   | -1.1652467   | -1.42305282  | ...          | -2.3106692   |  1.6086921   |  1.0806638   |  1.133682218 |  0.9631973   | -0.7778417   |  0.3377329   | -0.34196630  | -1.0365953   |  1.3652572   |\n",
       "|  0.08880658  | -0.1513777   | -0.01922019  |  0.4914049   | -0.5546491   | -0.790112612 | -1.010442525 |  1.4284508   |  0.5790034   | -0.07425952  | ...          |  0.4140903   |  1.2226364   | -0.2571791   | -1.185133418 | -2.0132539   | -0.9296666   | -1.7507311   |  0.91475422  | -1.2935610   | -1.0311096   |\n",
       "|  0.30297695  |  1.8895576   |  2.08549378  |  0.1980162   |  0.1437736   |  0.001636573 |  0.589109624 | -1.7729072   | -0.4031553   | -0.02059150  | ...          |  0.6084561   |  1.3844253   |  0.2842347   |  0.330156694 | -0.3753233   | -0.4406906   | -1.3567964   |  0.76922950  | -1.7284605   |  1.2827261   |\n",
       "\n"
      ],
      "text/plain": [
       "     [,1]        [,2]       [,3]        [,4]       [,5]       [,6]        \n",
       "[1,]  1.90716256  1.1448769 -0.76453074 -1.4574325 -1.0934689  0.295241218\n",
       "[2,]  0.44197317  1.6338766 -0.13137608  0.1680593  1.0169366  0.113106511\n",
       "[3,] -0.45379998 -0.4078867  0.18792487 -0.9008257  1.2479190 -0.348302328\n",
       "[4,] -1.74071124 -1.4487110  0.05406800  1.2868098  1.4079696 -0.578524032\n",
       "[5,]  0.08880658 -0.1513777 -0.01922019  0.4914049 -0.5546491 -0.790112612\n",
       "[6,]  0.30297695  1.8895576  2.08549378  0.1980162  0.1437736  0.001636573\n",
       "     [,7]         [,8]       [,9]       [,10]       [,11] [,12]      [,13]     \n",
       "[1,]  0.006885942  1.1574109  2.1346379  0.23784461 ...   -0.4624085 -0.5699504\n",
       "[2,]  0.065358330  0.2614911  0.5129595 -0.28140273 ...    1.7560754  1.0450613\n",
       "[3,] -0.933590523 -0.9580862 -1.0186299 -0.35629160 ...   -1.1970194  1.1774207\n",
       "[4,] -0.772652539 -0.6832470 -1.1652467 -1.42305282 ...   -2.3106692  1.6086921\n",
       "[5,] -1.010442525  1.4284508  0.5790034 -0.07425952 ...    0.4140903  1.2226364\n",
       "[6,]  0.589109624 -1.7729072 -0.4031553 -0.02059150 ...    0.6084561  1.3844253\n",
       "     [,14]      [,15]        [,16]      [,17]      [,18]      [,19]      \n",
       "[1,]  1.4104926 -0.001317237 -0.6473553  0.5706706 -0.2866201  1.22077188\n",
       "[2,] -2.5394225 -0.583217723  0.5879156  1.0923020  0.7109421  0.08896238\n",
       "[3,]  1.2020899 -1.554591735  1.3040662  0.3768069 -0.4973960  1.38174082\n",
       "[4,]  1.0806638  1.133682218  0.9631973 -0.7778417  0.3377329 -0.34196630\n",
       "[5,] -0.2571791 -1.185133418 -2.0132539 -0.9296666 -1.7507311  0.91475422\n",
       "[6,]  0.2842347  0.330156694 -0.3753233 -0.4406906 -1.3567964  0.76922950\n",
       "     [,20]      [,21]     \n",
       "[1,]  0.8008214 -0.4989064\n",
       "[2,]  2.5514585  1.5711233\n",
       "[3,]  0.6371029  0.3435139\n",
       "[4,] -1.0365953  1.3652572\n",
       "[5,] -1.2935610 -1.0311096\n",
       "[6,] -1.7284605  1.2827261"
      ]
     },
     "metadata": {},
     "output_type": "display_data"
    }
   ],
   "source": [
    "m = 1000\n",
    "n = 100\n",
    "\n",
    "set.seed(27)\n",
    "x = t(replicate(m, rnorm(n, 0, 1)))\n",
    "head(x)"
   ]
  },
  {
   "cell_type": "markdown",
   "metadata": {
    "nbgrader": {
     "cell_type": "markdown",
     "checksum": "9e276a753436ea161eab19a5d7370341",
     "grade": false,
     "grade_id": "cell-a0b5ef96a6a0310f",
     "locked": true,
     "schema_version": 3,
     "solution": false,
     "task": false
    }
   },
   "source": [
    "**5.(b) Suppose that we didn’t know the population mean, $\\mu$, but wanted to estimate it using a confidence interval. For each sample, calculate the $95\\%$ confidence for the mean, $\\mu$. Assume $\\sigma = 1$ is known.**"
   ]
  },
  {
   "cell_type": "code",
   "execution_count": 7,
   "metadata": {
    "nbgrader": {
     "cell_type": "code",
     "checksum": "a57779b4c51baf1b3f1be35484bce606",
     "grade": true,
     "grade_id": "cell-6bbe19bb24ae3242",
     "locked": false,
     "points": 0,
     "schema_version": 3,
     "solution": true,
     "task": false
    }
   },
   "outputs": [
    {
     "data": {
      "text/html": [
       "<table>\n",
       "<tbody>\n",
       "\t<tr><td>-0.16746197</td><td>0.2245380  </td></tr>\n",
       "\t<tr><td>-0.08223542</td><td>0.3097646  </td></tr>\n",
       "\t<tr><td>-0.25611011</td><td>0.1358899  </td></tr>\n",
       "\t<tr><td>-0.24933315</td><td>0.1426669  </td></tr>\n",
       "\t<tr><td>-0.12301996</td><td>0.2689800  </td></tr>\n",
       "\t<tr><td>-0.24465478</td><td>0.1473452  </td></tr>\n",
       "</tbody>\n",
       "</table>\n"
      ],
      "text/latex": [
       "\\begin{tabular}{ll}\n",
       "\t -0.16746197 & 0.2245380  \\\\\n",
       "\t -0.08223542 & 0.3097646  \\\\\n",
       "\t -0.25611011 & 0.1358899  \\\\\n",
       "\t -0.24933315 & 0.1426669  \\\\\n",
       "\t -0.12301996 & 0.2689800  \\\\\n",
       "\t -0.24465478 & 0.1473452  \\\\\n",
       "\\end{tabular}\n"
      ],
      "text/markdown": [
       "\n",
       "| -0.16746197 | 0.2245380   |\n",
       "| -0.08223542 | 0.3097646   |\n",
       "| -0.25611011 | 0.1358899   |\n",
       "| -0.24933315 | 0.1426669   |\n",
       "| -0.12301996 | 0.2689800   |\n",
       "| -0.24465478 | 0.1473452   |\n",
       "\n"
      ],
      "text/plain": [
       "     [,1]        [,2]     \n",
       "[1,] -0.16746197 0.2245380\n",
       "[2,] -0.08223542 0.3097646\n",
       "[3,] -0.25611011 0.1358899\n",
       "[4,] -0.24933315 0.1426669\n",
       "[5,] -0.12301996 0.2689800\n",
       "[6,] -0.24465478 0.1473452"
      ]
     },
     "metadata": {},
     "output_type": "display_data"
    }
   ],
   "source": [
    "z_alphaby2 = 1.96\n",
    "sigma = 1\n",
    "n = 100\n",
    "\n",
    "CI = t(apply(x, 1, function(row) {\n",
    "    xbar = mean(row)\n",
    "    moe = z_alphaby2 * sigma / sqrt(n)\n",
    "    lowerCI = xbar - moe\n",
    "    upperCI = xbar + moe\n",
    "    c(lowerCI, upperCI)\n",
    "}))\n",
    "head(CI)"
   ]
  },
  {
   "cell_type": "markdown",
   "metadata": {
    "nbgrader": {
     "cell_type": "markdown",
     "checksum": "0a71eb04646ad2e9439c748faf6968d0",
     "grade": false,
     "grade_id": "cell-f89ea0c22453a605",
     "locked": true,
     "schema_version": 3,
     "solution": false,
     "task": false
    }
   },
   "source": [
    "**5.(c) Why would we use a confidence interval instead of just reporting the sample mean $\\bar{x}$?**"
   ]
  },
  {
   "cell_type": "markdown",
   "metadata": {
    "collapsed": true,
    "jupyter": {
     "outputs_hidden": true
    },
    "nbgrader": {
     "cell_type": "markdown",
     "checksum": "ee8af534a1f6be74368a248d85839dec",
     "grade": true,
     "grade_id": "cell-a1fc368f7b7ac8c1",
     "locked": false,
     "points": 1,
     "schema_version": 3,
     "solution": true,
     "task": false
    }
   },
   "source": [
    "- Because CI provides a range of values in which the True population mean lies, not just as a single estimate.\n",
    "- It gives a level of confidence how accurate our sample mean will be.\n",
    "- It is helpful in making the decisions by showing the uncertainties around the mean."
   ]
  },
  {
   "cell_type": "markdown",
   "metadata": {
    "nbgrader": {
     "cell_type": "markdown",
     "checksum": "1ac7e947365b3d55b850a3af51887f68",
     "grade": false,
     "grade_id": "cell-c6c66370afd224d7",
     "locked": true,
     "schema_version": 3,
     "solution": false,
     "task": false
    }
   },
   "source": [
    "**5.(d) Print and interpret the confidence interval for the first sample (i.e., when `m = 1`).**"
   ]
  },
  {
   "cell_type": "code",
   "execution_count": 10,
   "metadata": {
    "nbgrader": {
     "cell_type": "code",
     "checksum": "4ae7fe5593d4d80f98b92bea9c455196",
     "grade": true,
     "grade_id": "cell-15f2c805d38b7b2c",
     "locked": false,
     "points": 1,
     "schema_version": 3,
     "solution": true,
     "task": false
    }
   },
   "outputs": [
    {
     "data": {
      "text/html": [
       "<ol class=list-inline>\n",
       "\t<li>-0.167461967751917</li>\n",
       "\t<li>0.224538032248083</li>\n",
       "</ol>\n"
      ],
      "text/latex": [
       "\\begin{enumerate*}\n",
       "\\item -0.167461967751917\n",
       "\\item 0.224538032248083\n",
       "\\end{enumerate*}\n"
      ],
      "text/markdown": [
       "1. -0.167461967751917\n",
       "2. 0.224538032248083\n",
       "\n",
       "\n"
      ],
      "text/plain": [
       "[1] -0.167462  0.224538"
      ]
     },
     "metadata": {},
     "output_type": "display_data"
    }
   ],
   "source": [
    "sample1_CI<- CI[1,]\n",
    "sample1_CI\n"
   ]
  },
  {
   "cell_type": "markdown",
   "metadata": {
    "collapsed": true,
    "jupyter": {
     "outputs_hidden": true
    },
    "nbgrader": {
     "cell_type": "markdown",
     "checksum": "4f9f1f82de727dec2fcc4eb923742da4",
     "grade": true,
     "grade_id": "cell-674b187e0984d4cc",
     "locked": false,
     "points": 1,
     "schema_version": 3,
     "solution": true,
     "task": false
    }
   },
   "source": [
    "- It indicates that we are 95% confident that the true population mean lies in the range of -0.167 to 0.225.\n",
    "- This interval gives the Margin of error around the sample mean, showing the uncertainty due to the xbar.\n",
    "- This range helps to understand where the true mean may likely fall, assuming the sample ~ population (accurately represents)."
   ]
  },
  {
   "cell_type": "markdown",
   "metadata": {
    "nbgrader": {
     "cell_type": "markdown",
     "checksum": "6920e2fe8f88f6c3022178941e674259",
     "grade": false,
     "grade_id": "cell-d9e31483b1cd1be4",
     "locked": true,
     "schema_version": 3,
     "solution": false,
     "task": false
    }
   },
   "source": [
    "**5.(e) Justify why, in part (b), you can use critical values from the normal distribution instead of critical values from the $t$ distribution.**"
   ]
  },
  {
   "cell_type": "markdown",
   "metadata": {
    "collapsed": true,
    "jupyter": {
     "outputs_hidden": true
    },
    "nbgrader": {
     "cell_type": "markdown",
     "checksum": "247fc2959ac2fabfe4c4c65a0d0c5ce0",
     "grade": true,
     "grade_id": "cell-fdb9b8b212dd16f8",
     "locked": false,
     "points": 1,
     "schema_version": 3,
     "solution": true,
     "task": false
    }
   },
   "source": [
    "- Here the population sd is known (sd = 1), so no need to estimate from the sample.\n",
    "- sample size n=100 large enough to make it as Normal by CLT.\n",
    "- When population sd is known, then Normal dist. provides the correct critical values for CIs and t dist. is usually used when population sd is unknown and when it is estimated from the sample. so here Normal dist. gives the 95% accurate CI of the mean."
   ]
  },
  {
   "cell_type": "markdown",
   "metadata": {
    "nbgrader": {
     "cell_type": "markdown",
     "checksum": "2493f3c7ec90dfa51a50817eea13dc9f",
     "grade": false,
     "grade_id": "cell-c82d943fab39df15",
     "locked": true,
     "schema_version": 3,
     "solution": false,
     "task": false
    }
   },
   "source": [
    "**5.(f) Calculate the proportion of confidence intervals that cover the true $\\mu$. Does it match what theory suggests? If it deviates from what theory suggests, explain why.**"
   ]
  },
  {
   "cell_type": "code",
   "execution_count": 13,
   "metadata": {
    "nbgrader": {
     "cell_type": "code",
     "checksum": "5200e508ef07e6eae62d3e879ef577f9",
     "grade": true,
     "grade_id": "cell-b5cb5c70a6f28d30",
     "locked": false,
     "points": 1,
     "schema_version": 3,
     "solution": true,
     "task": false
    }
   },
   "outputs": [
    {
     "data": {
      "text/html": [
       "0.961"
      ],
      "text/latex": [
       "0.961"
      ],
      "text/markdown": [
       "0.961"
      ],
      "text/plain": [
       "[1] 0.961"
      ]
     },
     "metadata": {},
     "output_type": "display_data"
    }
   ],
   "source": [
    "true_mu <- 0\n",
    "\n",
    "true_mean_cov <- apply(CI, 1, function(row) {\n",
    "  row[1] <= true_mu && row[2] >= true_mu\n",
    "})\n",
    "true_mean_cov_prop = mean(true_mean_cov)\n",
    "true_mean_cov_prop"
   ]
  },
  {
   "cell_type": "markdown",
   "metadata": {},
   "source": [
    "- The prop of coverage of CI is 96% which is close to the nominal 95% and it aligns with the theory.\n",
    "- The slight variation is due to the sample size it will come closer to 95% if we increase the sample size. for eg. n = 1000\n",
    "- So here the Normal dist. CI's and the critical values are appropriate. "
   ]
  }
 ],
 "metadata": {
  "kernelspec": {
   "display_name": "Python 3 (ipykernel)",
   "language": "python",
   "name": "python3"
  },
  "language_info": {
   "codemirror_mode": {
    "name": "ipython",
    "version": 3
   },
   "file_extension": ".py",
   "mimetype": "text/x-python",
   "name": "python",
   "nbconvert_exporter": "python",
   "pygments_lexer": "ipython3",
   "version": "3.12.7"
  }
 },
 "nbformat": 4,
 "nbformat_minor": 4
}

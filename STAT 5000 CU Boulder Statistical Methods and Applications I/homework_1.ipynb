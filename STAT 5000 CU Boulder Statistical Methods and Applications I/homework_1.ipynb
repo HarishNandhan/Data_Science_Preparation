{
 "cells": [
  {
   "cell_type": "markdown",
   "metadata": {
    "id": "BgJMy-Po9eH-",
    "nbgrader": {
     "grade": false,
     "grade_id": "cell-506044151ea0ea95",
     "locked": true,
     "schema_version": 3,
     "solution": false,
     "task": false
    }
   },
   "source": [
    "# Homework #1\n",
    "\n",
    "**See Canvas for HW #1 assignment due date**. Complete all of the following problems. Ideally, the theoretical problems should be answered in a Markdown cell directly underneath the question. If you don't know LaTex/Markdown, you may submit separate handwritten solutions to the theoretical problems, but please see the class scanning policy. Please do not turn in messy work. Computational problems should be completed in this notebook (using the `R` kernel). Computational questions may require code, plots, analysis, interpretation, etc. Working in small groups is allowed, but it is important that you make an effort to master the material and hand in your own work. \n"
   ]
  },
  {
   "cell_type": "markdown",
   "metadata": {
    "id": "Vpxs_7xzuHD8",
    "nbgrader": {
     "grade": false,
     "grade_id": "cell-690073cfc39a9520",
     "locked": true,
     "schema_version": 3,
     "solution": false,
     "task": false
    }
   },
   "source": [
    "## A. Theoretical Problems"
   ]
  },
  {
   "cell_type": "markdown",
   "metadata": {
    "nbgrader": {
     "grade": false,
     "grade_id": "cell-d14ac6d29851c22d",
     "locked": true,
     "schema_version": 3,
     "solution": false,
     "task": false
    }
   },
   "source": [
    "## Problem A.1\n",
    "\n",
    "Let $x_1,...,x_n$ be a variable measured for units in a sample. Let $\\mu$ denote the mean of the *population* from which the sample came. The mean of the *sample*, as always, is $\\displaystyle \\bar{x} = \\frac{1}{n}\\sum^n_{i=1}x_i$. The sample variance is $\\displaystyle s_x^2 =\\frac{1}{n-1}\\sum^n_{i=1}(x_i - \\bar{x})^2$.\n",
    "\n",
    "\n",
    "**A.1 (a) [7 points] For what value of $c$ is the quantity $\\sum^n_{i=1}(x_i - c)^2$ minimized? Treat $x_i$, $i= 1,...,n$ as fixed constants. (Remember calculus?!)**"
   ]
  },
  {
   "cell_type": "markdown",
   "metadata": {},
   "source": [
    "<div align=\"center\">\r",
    "    \n",
    "$f(c) = \\sum_{i=1}^{n}(x_{i}-c)^{2}$\r\n",
    "\r\n",
    "$f'(c) = \\frac{d}{dc}(\\sum_{i=1}^{n}(x_{i}-c)^{2})$\r\n",
    "\r\n",
    "$= \\sum_{i=1}^{n}\\frac{d}{dc}(x_i-c)^{2}$\r\n",
    "\r\n",
    "$f'(c) = \\sum_{i=1}^{n} 2(x_i-c)(-1) \\quad \\text{[By the Chain Rule]}$\r\n",
    "\r\n",
    "$\\text{Set } f'(c) = 0 \\text{ to find the inflection points}$\r\n",
    "\r\n",
    "$-2 \\sum_{i=1}^{n}(x_i-c) = 0$\r\n",
    "\r\n",
    "$\\sum_{i=1}^{n} x_i - \\sum_{i=1}^{n} c = 0$\r\n",
    "\r\n",
    "$\\sum_{i=1}^{n} x_i - cn = 0$\r\n",
    "\r\n",
    "$\\sum_{i=1}^{n} x_i = cn$\r\n",
    "\r\n",
    "$\\frac{\\sum_{i=1}^{n} x_i}{n} = c$\r\n",
    "\r\n",
    "$c = \\overline{x}$\r\n",
    "\r\n",
    "$\\text{The sample mean } \\overline{x} \\text{ is the inflection point (or) Central value that minimizes the squared deviations from the data points.}$\r\n",
    "</div>"
   ]
  },
  {
   "cell_type": "markdown",
   "metadata": {
    "nbgrader": {
     "grade": false,
     "grade_id": "cell-aa6659408af2dfbd",
     "locked": true,
     "schema_version": 3,
     "solution": false,
     "task": false
    }
   },
   "source": [
    "**A.1 (b) [4 points] Using the result from part (a), which of the two quantities $\\sum^n_{i=1}(x_i - \\bar{x})^2$ and $\\sum^n_{i=1}(x_i - \\mu)^2$ will be smaller than the other (assuming that $\\bar{x} \\ne \\mu$)?**"
   ]
  },
  {
   "cell_type": "markdown",
   "metadata": {},
   "source": [
    "$\\sum_{i=1}^{n}(x_{i}-\\overline{x})^{2} \\text{ and } \\sum_{i=1}^{n}(x_{i}-\\mu)^{2}$\n",
    "\n",
    "$\\text{assuming that } \\overline{x} \\neq \\mu.$\n",
    "\n",
    "$\\text{Let } \\overline{x}-\\mu=d$\n",
    "\n",
    "$\\sum_{i=1}^{n}(x_{i}-\\mu)^{2} = \\sum_{i=1}^{n}(x_{i}-\\overline{x}+\\overline{x}-\\mu)^{2}$\n",
    "\n",
    "$= \\sum_{i=1}^{n}[(x_{i}-\\overline{x})^{2}+2(x_{i}-\\overline{x})(\\overline{x}-\\mu)+(x_{i}-\\mu)^{2}]$\n",
    "\n",
    "$= \\sum_{i=1}^{n}(x_{i}-\\overline{x})^{2}+2(\\overline{x}-\\mu)\\sum_{i=1}^{n}(x_{i}-\\overline{x})+n(\\overline{x}-\\mu)^{2}$\n",
    "\n",
    "$\\sum_{i=1}^{n}(x_{i}-\\overline{x})=0$\n",
    "\n",
    "$\\sum_{i=1}^{n}(x_{i}-\\mu)^{2}=\\sum_{i=1}^{n}(x_{i}-\\overline{x})^{2}+n(\\overline{x}-\\mu)^{2}$\n",
    "\n",
    "$n(\\overline{x}-\\mu)^{2} \\geq 0 \\text{ (non-negative)}$\n",
    "\n",
    "$\\therefore \\sum_{i=1}^{n}(x_{i}-\\mu)^{2} \\geq \\sum_{i=1}^{n}(x_{i}-\\overline{x})^{2}$\n",
    "\n",
    "$\\text{So, } \\sum_{i=1}^{n}(x_{i}-\\overline{x})^{2} \\text{ is smaller}$"
   ]
  },
  {
   "cell_type": "markdown",
   "metadata": {
    "nbgrader": {
     "grade": false,
     "grade_id": "cell-be05da32d1443537",
     "locked": true,
     "schema_version": 3,
     "solution": false,
     "task": false
    }
   },
   "source": [
    "**A.1 (c) [8 points] Let $y_i = x_i - \\bar{x}$, for $i = 1,...,n$. How does the value of $s_y^2$ compare to $s_x^2$? Prove your result. (You might start by simulating some data in `R` to see what happens; but then prove it in general!)**"
   ]
  },
  {
   "cell_type": "markdown",
   "metadata": {},
   "source": [
    "$\\text{To prove } s_{y}^{2}=s_{x}^{2}$\n",
    "\n",
    "$\\text{Given } y_{i}=x_{i}-\\overline{x}$\n",
    "\n",
    "$\\text{Sample Variance } s_{y}^{2}=\\frac{1}{n-1}\\sum_{i=1}^{n}(y_{i}-\\overline{y})^{2} \\quad (1)$\n",
    "\n",
    "$\\overline{y} = \\frac{1}{n}\\sum_{i=1}^{n}y_{i}=\\frac{1}{n}\\sum_{i=1}^{n}(x_{i}-\\overline{x})$\n",
    "\n",
    "$= \\frac{1}{n}\\left(\\sum_{i=1}^{n}x_{i}-\\sum_{i=1}^{n}\\overline{x}\\right)$\n",
    "\n",
    "$\\overline{y} = \\overline{x}-\\frac{n\\overline{x}}{n}=\\overline{x}-\\overline{x}=0$\n",
    "\n",
    "$\\therefore \\overline{y}=0 \\quad (2)$\n",
    "\n",
    "$\\text{Now from (1) and (2)}$\n",
    "\n",
    "$s_{y}^{2}=\\frac{1}{n-1}\\sum_{i=1}^{n}(y_{i})^{2}$\n",
    "\n",
    "$s_{y}^{2}=\\frac{1}{n-1}\\sum_{i=1}^{n}(x_{i}-\\overline{x})^{2} \\quad (3)$\n",
    "\n",
    "$\\text{Sample variance } s_{x}^{2}=\\frac{1}{n-1}\\sum_{i=1}^{n}(x_{i}-\\overline{x})^{2} \\quad (4)$\n",
    "\n",
    "$\\text{Comparing (3) and (4)}$\n",
    "\n",
    "$s_{x}^{2}=s_{y}^{2}$"
   ]
  },
  {
   "cell_type": "markdown",
   "metadata": {
    "nbgrader": {
     "grade": false,
     "grade_id": "cell-7a8b4b206db26fed",
     "locked": true,
     "schema_version": 3,
     "solution": false,
     "task": false
    }
   },
   "source": [
    "**A.1 (d) [8 points] Let $\\displaystyle z_i =  (x_i - \\bar{x})/s_x$ for $i = 1,...,n$. What are $s_z^2$ and $s_z$? Prove your result. (You might start by simulating some data in `R` to see what happens; but then prove it in general!)**"
   ]
  },
  {
   "cell_type": "markdown",
   "metadata": {},
   "source": [
    "$\\text{Let } z_{i}=\\frac{x_{i}-\\overline{x}}{s_{x}}$\n",
    "\n",
    "$s_{z}^{2}=? \\quad s_{z}=?$\n",
    "\n",
    "$\\overline{z}=\\frac{1}{n}\\sum_{i=1}^{n}z_{i}=\\frac{1}{n}\\sum_{i=1}^{n}\\left(\\frac{x_{i}-\\overline{x}}{s_{x}}\\right)$\n",
    "\n",
    "$=\\frac{1}{n}\\left[\\sum_{i=1}^{n}x_{i}-\\sum_{i=1}^{n}\\overline{x}\\right]$\n",
    "\n",
    "$=\\frac{1}{n}\\left[n\\overline{x}-n\\overline{x}\\right]=0$\n",
    "\n",
    "$\\therefore \\overline{z}=0$\n",
    "\n",
    "$s_{z}^{2}=\\frac{1}{n-1}\\sum_{i=1}^{n}(z_{i}-\\overline{z})^{2}$\n",
    "\n",
    "$=\\frac{1}{n-1}\\sum_{i=1}^{n}\\left(\\frac{x_{i}-\\overline{x}}{s_{x}}-\\overline{z}\\right)^{2}$\n",
    "\n",
    "$s_{z}^{2}=\\frac{1}{(n-1)(s_{x})^{2}}\\sum_{i=1}^{n}(x_{i}-\\overline{x})^{2}$\n",
    "\n",
    "$s_{x}^{2}=\\frac{1}{n-1}\\sum_{i=1}^{n}(x_{i}-\\overline{x})^{2}$\n",
    "\n",
    "$\\therefore s_{z}^{2}=\\frac{s_{x}^{2}}{(s_{x})^{2}}=1$\n",
    "\n",
    "$s_{z}=\\sqrt{s_{z}^{2}}=\\sqrt{1}=1$"
   ]
  },
  {
   "cell_type": "markdown",
   "metadata": {
    "id": "Vpxs_7xzuHD8",
    "nbgrader": {
     "grade": false,
     "grade_id": "cell-5adfbe5707e6cdb2",
     "locked": true,
     "schema_version": 3,
     "solution": false,
     "task": false
    }
   },
   "source": [
    "## B. Computational Problems"
   ]
  },
  {
   "cell_type": "markdown",
   "metadata": {
    "id": "Z8yE69ee9eIA",
    "nbgrader": {
     "grade": false,
     "grade_id": "cell-dd0b78fd212df05f",
     "locked": true,
     "schema_version": 3,
     "solution": false,
     "task": false
    }
   },
   "source": [
    "## Problem B.1: Numerical Summaries\n",
    "\n",
    "\n",
    "The dataset below contains information on 522 homes for sale. The variables are:\n",
    "\n",
    "1. `ID`: house ID nubmer\n",
    "2. `Price`: the sale price of the house\n",
    "3. `Sqft`: the size of the house in square feet\n",
    "4. `Bedroom`: the number of bedrooms in the house\n",
    "5. `Bathroom`: the number of bathrooms in the house\n",
    "6. `Airconditioning`: whether the house has air conditioning or not (`0` is no, `1` is yes)\n",
    "7. `Garage`: the number of garages associated with the house\n",
    "8. `Pool`: whether the house has a pool (`0` is no, `1` is yes)\n",
    "9. other variables that we won't use!\n",
    "\n",
    "First, we load in the data:"
   ]
  },
  {
   "cell_type": "code",
   "execution_count": 2,
   "metadata": {
    "id": "V7CCnNBl9eIB"
   },
   "outputs": [
    {
     "data": {
      "text/html": [
       "<table>\n",
       "<thead><tr><th scope=col>ID</th><th scope=col>Price</th><th scope=col>Sqft</th><th scope=col>Bedroom</th><th scope=col>Bathroom</th><th scope=col>Airconditioning</th><th scope=col>Garage</th><th scope=col>Pool</th><th scope=col>YearBuild</th><th scope=col>Quality</th><th scope=col>Lot</th><th scope=col>AdjHighway</th></tr></thead>\n",
       "<tbody>\n",
       "\t<tr><td> 1    </td><td>360000</td><td>3032  </td><td>4     </td><td>4     </td><td>1     </td><td>2     </td><td>0     </td><td>1972  </td><td>2     </td><td>22221 </td><td>0     </td></tr>\n",
       "\t<tr><td> 2    </td><td>340000</td><td>2058  </td><td>4     </td><td>2     </td><td>1     </td><td>2     </td><td>0     </td><td>1976  </td><td>2     </td><td>22912 </td><td>0     </td></tr>\n",
       "\t<tr><td> 3    </td><td>250000</td><td>1780  </td><td>4     </td><td>3     </td><td>1     </td><td>2     </td><td>0     </td><td>1980  </td><td>2     </td><td>21345 </td><td>0     </td></tr>\n",
       "\t<tr><td> 4    </td><td>205500</td><td>1638  </td><td>4     </td><td>2     </td><td>1     </td><td>2     </td><td>0     </td><td>1963  </td><td>2     </td><td>17342 </td><td>0     </td></tr>\n",
       "\t<tr><td> 5    </td><td>275500</td><td>2196  </td><td>4     </td><td>3     </td><td>1     </td><td>2     </td><td>0     </td><td>1968  </td><td>2     </td><td>21786 </td><td>0     </td></tr>\n",
       "\t<tr><td> 6    </td><td>248000</td><td>1966  </td><td>4     </td><td>3     </td><td>1     </td><td>5     </td><td>1     </td><td>1972  </td><td>2     </td><td>18902 </td><td>0     </td></tr>\n",
       "\t<tr><td> 7    </td><td>229900</td><td>2216  </td><td>3     </td><td>2     </td><td>1     </td><td>2     </td><td>0     </td><td>1972  </td><td>2     </td><td>18639 </td><td>0     </td></tr>\n",
       "\t<tr><td> 8    </td><td>150000</td><td>1597  </td><td>2     </td><td>1     </td><td>1     </td><td>1     </td><td>0     </td><td>1955  </td><td>2     </td><td>22112 </td><td>0     </td></tr>\n",
       "\t<tr><td> 9    </td><td>195000</td><td>1622  </td><td>3     </td><td>2     </td><td>1     </td><td>2     </td><td>0     </td><td>1975  </td><td>3     </td><td>14321 </td><td>0     </td></tr>\n",
       "\t<tr><td>10    </td><td>160000</td><td>1976  </td><td>3     </td><td>3     </td><td>0     </td><td>1     </td><td>0     </td><td>1918  </td><td>3     </td><td>32358 </td><td>0     </td></tr>\n",
       "\t<tr><td>11    </td><td>190000</td><td>2812  </td><td>7     </td><td>5     </td><td>0     </td><td>2     </td><td>1     </td><td>1966  </td><td>3     </td><td>56639 </td><td>0     </td></tr>\n",
       "\t<tr><td>12    </td><td>559000</td><td>2791  </td><td>3     </td><td>4     </td><td>1     </td><td>3     </td><td>0     </td><td>1992  </td><td>1     </td><td>30595 </td><td>0     </td></tr>\n",
       "\t<tr><td>13    </td><td>535000</td><td>3381  </td><td>5     </td><td>4     </td><td>1     </td><td>3     </td><td>0     </td><td>1988  </td><td>1     </td><td>23172 </td><td>0     </td></tr>\n",
       "\t<tr><td>14    </td><td>525000</td><td>3459  </td><td>5     </td><td>4     </td><td>1     </td><td>2     </td><td>0     </td><td>1978  </td><td>1     </td><td>35351 </td><td>0     </td></tr>\n",
       "\t<tr><td>15    </td><td>299900</td><td>2090  </td><td>3     </td><td>3     </td><td>1     </td><td>2     </td><td>0     </td><td>1987  </td><td>2     </td><td>24025 </td><td>0     </td></tr>\n",
       "\t<tr><td>16    </td><td>527000</td><td>3232  </td><td>5     </td><td>5     </td><td>1     </td><td>2     </td><td>0     </td><td>1984  </td><td>2     </td><td>21445 </td><td>0     </td></tr>\n",
       "\t<tr><td>17    </td><td>169900</td><td>1502  </td><td>2     </td><td>2     </td><td>1     </td><td>2     </td><td>0     </td><td>1956  </td><td>2     </td><td>28958 </td><td>0     </td></tr>\n",
       "\t<tr><td>18    </td><td>335250</td><td>2747  </td><td>3     </td><td>4     </td><td>1     </td><td>2     </td><td>0     </td><td>1993  </td><td>2     </td><td>22241 </td><td>0     </td></tr>\n",
       "\t<tr><td>19    </td><td>323900</td><td>2890  </td><td>4     </td><td>3     </td><td>1     </td><td>2     </td><td>0     </td><td>1954  </td><td>2     </td><td>41992 </td><td>0     </td></tr>\n",
       "\t<tr><td>20    </td><td>200000</td><td>1825  </td><td>3     </td><td>3     </td><td>1     </td><td>2     </td><td>0     </td><td>1957  </td><td>2     </td><td>30266 </td><td>0     </td></tr>\n",
       "\t<tr><td>21    </td><td>211000</td><td>1578  </td><td>4     </td><td>3     </td><td>1     </td><td>2     </td><td>0     </td><td>1986  </td><td>2     </td><td>18829 </td><td>0     </td></tr>\n",
       "\t<tr><td>22    </td><td>212000</td><td>1763  </td><td>3     </td><td>3     </td><td>1     </td><td>2     </td><td>0     </td><td>1959  </td><td>2     </td><td>24726 </td><td>0     </td></tr>\n",
       "\t<tr><td>23    </td><td>245000</td><td>2517  </td><td>4     </td><td>3     </td><td>1     </td><td>2     </td><td>0     </td><td>1965  </td><td>2     </td><td>23261 </td><td>0     </td></tr>\n",
       "\t<tr><td>24    </td><td>140400</td><td>1872  </td><td>3     </td><td>2     </td><td>1     </td><td>2     </td><td>0     </td><td>1985  </td><td>2     </td><td>24017 </td><td>0     </td></tr>\n",
       "\t<tr><td>25    </td><td>295000</td><td>3266  </td><td>3     </td><td>3     </td><td>1     </td><td>2     </td><td>0     </td><td>1908  </td><td>2     </td><td>24881 </td><td>0     </td></tr>\n",
       "\t<tr><td>26    </td><td>170900</td><td>2020  </td><td>1     </td><td>2     </td><td>1     </td><td>1     </td><td>0     </td><td>1956  </td><td>2     </td><td>21385 </td><td>0     </td></tr>\n",
       "\t<tr><td>27    </td><td>229000</td><td>2164  </td><td>4     </td><td>2     </td><td>1     </td><td>2     </td><td>0     </td><td>1965  </td><td>2     </td><td>28291 </td><td>0     </td></tr>\n",
       "\t<tr><td>28    </td><td>218500</td><td>2080  </td><td>3     </td><td>2     </td><td>1     </td><td>2     </td><td>1     </td><td>1959  </td><td>2     </td><td>14752 </td><td>0     </td></tr>\n",
       "\t<tr><td>29    </td><td>160000</td><td>2208  </td><td>2     </td><td>2     </td><td>1     </td><td>2     </td><td>0     </td><td>1985  </td><td>2     </td><td> 8058 </td><td>0     </td></tr>\n",
       "\t<tr><td>30    </td><td>259000</td><td>3048  </td><td>6     </td><td>4     </td><td>1     </td><td>3     </td><td>0     </td><td>1960  </td><td>2     </td><td>29307 </td><td>0     </td></tr>\n",
       "\t<tr><td>...</td><td>...</td><td>...</td><td>...</td><td>...</td><td>...</td><td>...</td><td>...</td><td>...</td><td>...</td><td>...</td><td>...</td></tr>\n",
       "\t<tr><td>493   </td><td>175000</td><td>2035  </td><td>4     </td><td>2     </td><td>1     </td><td>3     </td><td>0     </td><td>1962  </td><td>3     </td><td>20131 </td><td>0     </td></tr>\n",
       "\t<tr><td>494   </td><td>147000</td><td>1534  </td><td>3     </td><td>2     </td><td>0     </td><td>1     </td><td>0     </td><td>1955  </td><td>3     </td><td>15361 </td><td>0     </td></tr>\n",
       "\t<tr><td>495   </td><td>155000</td><td>1624  </td><td>2     </td><td>2     </td><td>1     </td><td>2     </td><td>0     </td><td>1955  </td><td>3     </td><td>16721 </td><td>0     </td></tr>\n",
       "\t<tr><td>496   </td><td>150000</td><td>1700  </td><td>4     </td><td>2     </td><td>1     </td><td>1     </td><td>0     </td><td>1954  </td><td>3     </td><td>15391 </td><td>0     </td></tr>\n",
       "\t<tr><td>497   </td><td>165000</td><td>1630  </td><td>3     </td><td>2     </td><td>1     </td><td>2     </td><td>0     </td><td>1978  </td><td>3     </td><td>24963 </td><td>0     </td></tr>\n",
       "\t<tr><td>498   </td><td>147000</td><td>1526  </td><td>3     </td><td>2     </td><td>1     </td><td>1     </td><td>0     </td><td>1957  </td><td>3     </td><td>15007 </td><td>0     </td></tr>\n",
       "\t<tr><td>499   </td><td>146250</td><td>1672  </td><td>3     </td><td>1     </td><td>1     </td><td>2     </td><td>0     </td><td>1949  </td><td>3     </td><td>22617 </td><td>0     </td></tr>\n",
       "\t<tr><td>500   </td><td>177500</td><td>1588  </td><td>4     </td><td>2     </td><td>1     </td><td>2     </td><td>0     </td><td>1980  </td><td>3     </td><td>21925 </td><td>0     </td></tr>\n",
       "\t<tr><td>501   </td><td>153650</td><td>1752  </td><td>4     </td><td>2     </td><td>1     </td><td>2     </td><td>0     </td><td>1950  </td><td>3     </td><td> 9126 </td><td>0     </td></tr>\n",
       "\t<tr><td>502   </td><td>199500</td><td>1674  </td><td>4     </td><td>2     </td><td>0     </td><td>2     </td><td>0     </td><td>1947  </td><td>3     </td><td>33237 </td><td>0     </td></tr>\n",
       "\t<tr><td>503   </td><td>186000</td><td>1980  </td><td>3     </td><td>1     </td><td>0     </td><td>1     </td><td>0     </td><td>1927  </td><td>3     </td><td>47679 </td><td>0     </td></tr>\n",
       "\t<tr><td>504   </td><td>139900</td><td>1396  </td><td>1     </td><td>1     </td><td>0     </td><td>2     </td><td>0     </td><td>1950  </td><td>3     </td><td>25879 </td><td>0     </td></tr>\n",
       "\t<tr><td>505   </td><td>160000</td><td>1178  </td><td>1     </td><td>1     </td><td>0     </td><td>2     </td><td>0     </td><td>1959  </td><td>3     </td><td> 9941 </td><td>0     </td></tr>\n",
       "\t<tr><td>506   </td><td>125000</td><td>1263  </td><td>2     </td><td>2     </td><td>0     </td><td>0     </td><td>0     </td><td>1955  </td><td>3     </td><td>12357 </td><td>0     </td></tr>\n",
       "\t<tr><td>507   </td><td>359900</td><td>2377  </td><td>5     </td><td>2     </td><td>1     </td><td>2     </td><td>0     </td><td>1937  </td><td>3     </td><td>51005 </td><td>0     </td></tr>\n",
       "\t<tr><td>508   </td><td>184500</td><td>1304  </td><td>3     </td><td>1     </td><td>1     </td><td>2     </td><td>0     </td><td>1951  </td><td>3     </td><td>21305 </td><td>0     </td></tr>\n",
       "\t<tr><td>509   </td><td>155000</td><td>1340  </td><td>3     </td><td>1     </td><td>0     </td><td>0     </td><td>0     </td><td>1952  </td><td>3     </td><td> 5666 </td><td>0     </td></tr>\n",
       "\t<tr><td>510   </td><td>150000</td><td>1559  </td><td>2     </td><td>1     </td><td>0     </td><td>2     </td><td>0     </td><td>1952  </td><td>3     </td><td>23999 </td><td>0     </td></tr>\n",
       "\t<tr><td>511   </td><td>146000</td><td>1412  </td><td>1     </td><td>2     </td><td>1     </td><td>0     </td><td>0     </td><td>1920  </td><td>3     </td><td> 4560 </td><td>0     </td></tr>\n",
       "\t<tr><td>512   </td><td>129000</td><td>1198  </td><td>2     </td><td>2     </td><td>1     </td><td>2     </td><td>0     </td><td>1925  </td><td>3     </td><td>20918 </td><td>0     </td></tr>\n",
       "\t<tr><td>513   </td><td>145000</td><td>1424  </td><td>2     </td><td>1     </td><td>1     </td><td>2     </td><td>0     </td><td>1947  </td><td>3     </td><td>16414 </td><td>0     </td></tr>\n",
       "\t<tr><td>514   </td><td>200000</td><td>1370  </td><td>4     </td><td>1     </td><td>0     </td><td>1     </td><td>0     </td><td>1925  </td><td>3     </td><td> 8000 </td><td>0     </td></tr>\n",
       "\t<tr><td>515   </td><td>149900</td><td>1584  </td><td>3     </td><td>2     </td><td>1     </td><td>2     </td><td>0     </td><td>1957  </td><td>3     </td><td>13514 </td><td>0     </td></tr>\n",
       "\t<tr><td>516   </td><td>132000</td><td>1567  </td><td>2     </td><td>1     </td><td>1     </td><td>1     </td><td>0     </td><td>1934  </td><td>3     </td><td>12249 </td><td>0     </td></tr>\n",
       "\t<tr><td>517   </td><td>136900</td><td>1409  </td><td>2     </td><td>1     </td><td>0     </td><td>1     </td><td>0     </td><td>1951  </td><td>3     </td><td>28421 </td><td>0     </td></tr>\n",
       "\t<tr><td>518   </td><td>137000</td><td>1655  </td><td>2     </td><td>1     </td><td>0     </td><td>1     </td><td>0     </td><td>1935  </td><td>3     </td><td>54651 </td><td>0     </td></tr>\n",
       "\t<tr><td>519   </td><td>185000</td><td>1944  </td><td>3     </td><td>2     </td><td>1     </td><td>2     </td><td>0     </td><td>1939  </td><td>3     </td><td>17999 </td><td>0     </td></tr>\n",
       "\t<tr><td>520   </td><td>133500</td><td>1922  </td><td>3     </td><td>1     </td><td>0     </td><td>2     </td><td>0     </td><td>1950  </td><td>3     </td><td>14805 </td><td>0     </td></tr>\n",
       "\t<tr><td>521   </td><td>124000</td><td>1480  </td><td>3     </td><td>2     </td><td>1     </td><td>2     </td><td>0     </td><td>1953  </td><td>3     </td><td>28351 </td><td>0     </td></tr>\n",
       "\t<tr><td>522   </td><td> 95500</td><td>1184  </td><td>2     </td><td>1     </td><td>0     </td><td>1     </td><td>0     </td><td>1951  </td><td>3     </td><td>14786 </td><td>0     </td></tr>\n",
       "</tbody>\n",
       "</table>\n"
      ],
      "text/latex": [
       "\\begin{tabular}{r|llllllllllll}\n",
       " ID & Price & Sqft & Bedroom & Bathroom & Airconditioning & Garage & Pool & YearBuild & Quality & Lot & AdjHighway\\\\\n",
       "\\hline\n",
       "\t  1     & 360000 & 3032   & 4      & 4      & 1      & 2      & 0      & 1972   & 2      & 22221  & 0     \\\\\n",
       "\t  2     & 340000 & 2058   & 4      & 2      & 1      & 2      & 0      & 1976   & 2      & 22912  & 0     \\\\\n",
       "\t  3     & 250000 & 1780   & 4      & 3      & 1      & 2      & 0      & 1980   & 2      & 21345  & 0     \\\\\n",
       "\t  4     & 205500 & 1638   & 4      & 2      & 1      & 2      & 0      & 1963   & 2      & 17342  & 0     \\\\\n",
       "\t  5     & 275500 & 2196   & 4      & 3      & 1      & 2      & 0      & 1968   & 2      & 21786  & 0     \\\\\n",
       "\t  6     & 248000 & 1966   & 4      & 3      & 1      & 5      & 1      & 1972   & 2      & 18902  & 0     \\\\\n",
       "\t  7     & 229900 & 2216   & 3      & 2      & 1      & 2      & 0      & 1972   & 2      & 18639  & 0     \\\\\n",
       "\t  8     & 150000 & 1597   & 2      & 1      & 1      & 1      & 0      & 1955   & 2      & 22112  & 0     \\\\\n",
       "\t  9     & 195000 & 1622   & 3      & 2      & 1      & 2      & 0      & 1975   & 3      & 14321  & 0     \\\\\n",
       "\t 10     & 160000 & 1976   & 3      & 3      & 0      & 1      & 0      & 1918   & 3      & 32358  & 0     \\\\\n",
       "\t 11     & 190000 & 2812   & 7      & 5      & 0      & 2      & 1      & 1966   & 3      & 56639  & 0     \\\\\n",
       "\t 12     & 559000 & 2791   & 3      & 4      & 1      & 3      & 0      & 1992   & 1      & 30595  & 0     \\\\\n",
       "\t 13     & 535000 & 3381   & 5      & 4      & 1      & 3      & 0      & 1988   & 1      & 23172  & 0     \\\\\n",
       "\t 14     & 525000 & 3459   & 5      & 4      & 1      & 2      & 0      & 1978   & 1      & 35351  & 0     \\\\\n",
       "\t 15     & 299900 & 2090   & 3      & 3      & 1      & 2      & 0      & 1987   & 2      & 24025  & 0     \\\\\n",
       "\t 16     & 527000 & 3232   & 5      & 5      & 1      & 2      & 0      & 1984   & 2      & 21445  & 0     \\\\\n",
       "\t 17     & 169900 & 1502   & 2      & 2      & 1      & 2      & 0      & 1956   & 2      & 28958  & 0     \\\\\n",
       "\t 18     & 335250 & 2747   & 3      & 4      & 1      & 2      & 0      & 1993   & 2      & 22241  & 0     \\\\\n",
       "\t 19     & 323900 & 2890   & 4      & 3      & 1      & 2      & 0      & 1954   & 2      & 41992  & 0     \\\\\n",
       "\t 20     & 200000 & 1825   & 3      & 3      & 1      & 2      & 0      & 1957   & 2      & 30266  & 0     \\\\\n",
       "\t 21     & 211000 & 1578   & 4      & 3      & 1      & 2      & 0      & 1986   & 2      & 18829  & 0     \\\\\n",
       "\t 22     & 212000 & 1763   & 3      & 3      & 1      & 2      & 0      & 1959   & 2      & 24726  & 0     \\\\\n",
       "\t 23     & 245000 & 2517   & 4      & 3      & 1      & 2      & 0      & 1965   & 2      & 23261  & 0     \\\\\n",
       "\t 24     & 140400 & 1872   & 3      & 2      & 1      & 2      & 0      & 1985   & 2      & 24017  & 0     \\\\\n",
       "\t 25     & 295000 & 3266   & 3      & 3      & 1      & 2      & 0      & 1908   & 2      & 24881  & 0     \\\\\n",
       "\t 26     & 170900 & 2020   & 1      & 2      & 1      & 1      & 0      & 1956   & 2      & 21385  & 0     \\\\\n",
       "\t 27     & 229000 & 2164   & 4      & 2      & 1      & 2      & 0      & 1965   & 2      & 28291  & 0     \\\\\n",
       "\t 28     & 218500 & 2080   & 3      & 2      & 1      & 2      & 1      & 1959   & 2      & 14752  & 0     \\\\\n",
       "\t 29     & 160000 & 2208   & 2      & 2      & 1      & 2      & 0      & 1985   & 2      &  8058  & 0     \\\\\n",
       "\t 30     & 259000 & 3048   & 6      & 4      & 1      & 3      & 0      & 1960   & 2      & 29307  & 0     \\\\\n",
       "\t ... & ... & ... & ... & ... & ... & ... & ... & ... & ... & ... & ...\\\\\n",
       "\t 493    & 175000 & 2035   & 4      & 2      & 1      & 3      & 0      & 1962   & 3      & 20131  & 0     \\\\\n",
       "\t 494    & 147000 & 1534   & 3      & 2      & 0      & 1      & 0      & 1955   & 3      & 15361  & 0     \\\\\n",
       "\t 495    & 155000 & 1624   & 2      & 2      & 1      & 2      & 0      & 1955   & 3      & 16721  & 0     \\\\\n",
       "\t 496    & 150000 & 1700   & 4      & 2      & 1      & 1      & 0      & 1954   & 3      & 15391  & 0     \\\\\n",
       "\t 497    & 165000 & 1630   & 3      & 2      & 1      & 2      & 0      & 1978   & 3      & 24963  & 0     \\\\\n",
       "\t 498    & 147000 & 1526   & 3      & 2      & 1      & 1      & 0      & 1957   & 3      & 15007  & 0     \\\\\n",
       "\t 499    & 146250 & 1672   & 3      & 1      & 1      & 2      & 0      & 1949   & 3      & 22617  & 0     \\\\\n",
       "\t 500    & 177500 & 1588   & 4      & 2      & 1      & 2      & 0      & 1980   & 3      & 21925  & 0     \\\\\n",
       "\t 501    & 153650 & 1752   & 4      & 2      & 1      & 2      & 0      & 1950   & 3      &  9126  & 0     \\\\\n",
       "\t 502    & 199500 & 1674   & 4      & 2      & 0      & 2      & 0      & 1947   & 3      & 33237  & 0     \\\\\n",
       "\t 503    & 186000 & 1980   & 3      & 1      & 0      & 1      & 0      & 1927   & 3      & 47679  & 0     \\\\\n",
       "\t 504    & 139900 & 1396   & 1      & 1      & 0      & 2      & 0      & 1950   & 3      & 25879  & 0     \\\\\n",
       "\t 505    & 160000 & 1178   & 1      & 1      & 0      & 2      & 0      & 1959   & 3      &  9941  & 0     \\\\\n",
       "\t 506    & 125000 & 1263   & 2      & 2      & 0      & 0      & 0      & 1955   & 3      & 12357  & 0     \\\\\n",
       "\t 507    & 359900 & 2377   & 5      & 2      & 1      & 2      & 0      & 1937   & 3      & 51005  & 0     \\\\\n",
       "\t 508    & 184500 & 1304   & 3      & 1      & 1      & 2      & 0      & 1951   & 3      & 21305  & 0     \\\\\n",
       "\t 509    & 155000 & 1340   & 3      & 1      & 0      & 0      & 0      & 1952   & 3      &  5666  & 0     \\\\\n",
       "\t 510    & 150000 & 1559   & 2      & 1      & 0      & 2      & 0      & 1952   & 3      & 23999  & 0     \\\\\n",
       "\t 511    & 146000 & 1412   & 1      & 2      & 1      & 0      & 0      & 1920   & 3      &  4560  & 0     \\\\\n",
       "\t 512    & 129000 & 1198   & 2      & 2      & 1      & 2      & 0      & 1925   & 3      & 20918  & 0     \\\\\n",
       "\t 513    & 145000 & 1424   & 2      & 1      & 1      & 2      & 0      & 1947   & 3      & 16414  & 0     \\\\\n",
       "\t 514    & 200000 & 1370   & 4      & 1      & 0      & 1      & 0      & 1925   & 3      &  8000  & 0     \\\\\n",
       "\t 515    & 149900 & 1584   & 3      & 2      & 1      & 2      & 0      & 1957   & 3      & 13514  & 0     \\\\\n",
       "\t 516    & 132000 & 1567   & 2      & 1      & 1      & 1      & 0      & 1934   & 3      & 12249  & 0     \\\\\n",
       "\t 517    & 136900 & 1409   & 2      & 1      & 0      & 1      & 0      & 1951   & 3      & 28421  & 0     \\\\\n",
       "\t 518    & 137000 & 1655   & 2      & 1      & 0      & 1      & 0      & 1935   & 3      & 54651  & 0     \\\\\n",
       "\t 519    & 185000 & 1944   & 3      & 2      & 1      & 2      & 0      & 1939   & 3      & 17999  & 0     \\\\\n",
       "\t 520    & 133500 & 1922   & 3      & 1      & 0      & 2      & 0      & 1950   & 3      & 14805  & 0     \\\\\n",
       "\t 521    & 124000 & 1480   & 3      & 2      & 1      & 2      & 0      & 1953   & 3      & 28351  & 0     \\\\\n",
       "\t 522    &  95500 & 1184   & 2      & 1      & 0      & 1      & 0      & 1951   & 3      & 14786  & 0     \\\\\n",
       "\\end{tabular}\n"
      ],
      "text/markdown": [
       "\n",
       "| ID | Price | Sqft | Bedroom | Bathroom | Airconditioning | Garage | Pool | YearBuild | Quality | Lot | AdjHighway |\n",
       "|---|---|---|---|---|---|---|---|---|---|---|---|\n",
       "|  1     | 360000 | 3032   | 4      | 4      | 1      | 2      | 0      | 1972   | 2      | 22221  | 0      |\n",
       "|  2     | 340000 | 2058   | 4      | 2      | 1      | 2      | 0      | 1976   | 2      | 22912  | 0      |\n",
       "|  3     | 250000 | 1780   | 4      | 3      | 1      | 2      | 0      | 1980   | 2      | 21345  | 0      |\n",
       "|  4     | 205500 | 1638   | 4      | 2      | 1      | 2      | 0      | 1963   | 2      | 17342  | 0      |\n",
       "|  5     | 275500 | 2196   | 4      | 3      | 1      | 2      | 0      | 1968   | 2      | 21786  | 0      |\n",
       "|  6     | 248000 | 1966   | 4      | 3      | 1      | 5      | 1      | 1972   | 2      | 18902  | 0      |\n",
       "|  7     | 229900 | 2216   | 3      | 2      | 1      | 2      | 0      | 1972   | 2      | 18639  | 0      |\n",
       "|  8     | 150000 | 1597   | 2      | 1      | 1      | 1      | 0      | 1955   | 2      | 22112  | 0      |\n",
       "|  9     | 195000 | 1622   | 3      | 2      | 1      | 2      | 0      | 1975   | 3      | 14321  | 0      |\n",
       "| 10     | 160000 | 1976   | 3      | 3      | 0      | 1      | 0      | 1918   | 3      | 32358  | 0      |\n",
       "| 11     | 190000 | 2812   | 7      | 5      | 0      | 2      | 1      | 1966   | 3      | 56639  | 0      |\n",
       "| 12     | 559000 | 2791   | 3      | 4      | 1      | 3      | 0      | 1992   | 1      | 30595  | 0      |\n",
       "| 13     | 535000 | 3381   | 5      | 4      | 1      | 3      | 0      | 1988   | 1      | 23172  | 0      |\n",
       "| 14     | 525000 | 3459   | 5      | 4      | 1      | 2      | 0      | 1978   | 1      | 35351  | 0      |\n",
       "| 15     | 299900 | 2090   | 3      | 3      | 1      | 2      | 0      | 1987   | 2      | 24025  | 0      |\n",
       "| 16     | 527000 | 3232   | 5      | 5      | 1      | 2      | 0      | 1984   | 2      | 21445  | 0      |\n",
       "| 17     | 169900 | 1502   | 2      | 2      | 1      | 2      | 0      | 1956   | 2      | 28958  | 0      |\n",
       "| 18     | 335250 | 2747   | 3      | 4      | 1      | 2      | 0      | 1993   | 2      | 22241  | 0      |\n",
       "| 19     | 323900 | 2890   | 4      | 3      | 1      | 2      | 0      | 1954   | 2      | 41992  | 0      |\n",
       "| 20     | 200000 | 1825   | 3      | 3      | 1      | 2      | 0      | 1957   | 2      | 30266  | 0      |\n",
       "| 21     | 211000 | 1578   | 4      | 3      | 1      | 2      | 0      | 1986   | 2      | 18829  | 0      |\n",
       "| 22     | 212000 | 1763   | 3      | 3      | 1      | 2      | 0      | 1959   | 2      | 24726  | 0      |\n",
       "| 23     | 245000 | 2517   | 4      | 3      | 1      | 2      | 0      | 1965   | 2      | 23261  | 0      |\n",
       "| 24     | 140400 | 1872   | 3      | 2      | 1      | 2      | 0      | 1985   | 2      | 24017  | 0      |\n",
       "| 25     | 295000 | 3266   | 3      | 3      | 1      | 2      | 0      | 1908   | 2      | 24881  | 0      |\n",
       "| 26     | 170900 | 2020   | 1      | 2      | 1      | 1      | 0      | 1956   | 2      | 21385  | 0      |\n",
       "| 27     | 229000 | 2164   | 4      | 2      | 1      | 2      | 0      | 1965   | 2      | 28291  | 0      |\n",
       "| 28     | 218500 | 2080   | 3      | 2      | 1      | 2      | 1      | 1959   | 2      | 14752  | 0      |\n",
       "| 29     | 160000 | 2208   | 2      | 2      | 1      | 2      | 0      | 1985   | 2      |  8058  | 0      |\n",
       "| 30     | 259000 | 3048   | 6      | 4      | 1      | 3      | 0      | 1960   | 2      | 29307  | 0      |\n",
       "| ... | ... | ... | ... | ... | ... | ... | ... | ... | ... | ... | ... |\n",
       "| 493    | 175000 | 2035   | 4      | 2      | 1      | 3      | 0      | 1962   | 3      | 20131  | 0      |\n",
       "| 494    | 147000 | 1534   | 3      | 2      | 0      | 1      | 0      | 1955   | 3      | 15361  | 0      |\n",
       "| 495    | 155000 | 1624   | 2      | 2      | 1      | 2      | 0      | 1955   | 3      | 16721  | 0      |\n",
       "| 496    | 150000 | 1700   | 4      | 2      | 1      | 1      | 0      | 1954   | 3      | 15391  | 0      |\n",
       "| 497    | 165000 | 1630   | 3      | 2      | 1      | 2      | 0      | 1978   | 3      | 24963  | 0      |\n",
       "| 498    | 147000 | 1526   | 3      | 2      | 1      | 1      | 0      | 1957   | 3      | 15007  | 0      |\n",
       "| 499    | 146250 | 1672   | 3      | 1      | 1      | 2      | 0      | 1949   | 3      | 22617  | 0      |\n",
       "| 500    | 177500 | 1588   | 4      | 2      | 1      | 2      | 0      | 1980   | 3      | 21925  | 0      |\n",
       "| 501    | 153650 | 1752   | 4      | 2      | 1      | 2      | 0      | 1950   | 3      |  9126  | 0      |\n",
       "| 502    | 199500 | 1674   | 4      | 2      | 0      | 2      | 0      | 1947   | 3      | 33237  | 0      |\n",
       "| 503    | 186000 | 1980   | 3      | 1      | 0      | 1      | 0      | 1927   | 3      | 47679  | 0      |\n",
       "| 504    | 139900 | 1396   | 1      | 1      | 0      | 2      | 0      | 1950   | 3      | 25879  | 0      |\n",
       "| 505    | 160000 | 1178   | 1      | 1      | 0      | 2      | 0      | 1959   | 3      |  9941  | 0      |\n",
       "| 506    | 125000 | 1263   | 2      | 2      | 0      | 0      | 0      | 1955   | 3      | 12357  | 0      |\n",
       "| 507    | 359900 | 2377   | 5      | 2      | 1      | 2      | 0      | 1937   | 3      | 51005  | 0      |\n",
       "| 508    | 184500 | 1304   | 3      | 1      | 1      | 2      | 0      | 1951   | 3      | 21305  | 0      |\n",
       "| 509    | 155000 | 1340   | 3      | 1      | 0      | 0      | 0      | 1952   | 3      |  5666  | 0      |\n",
       "| 510    | 150000 | 1559   | 2      | 1      | 0      | 2      | 0      | 1952   | 3      | 23999  | 0      |\n",
       "| 511    | 146000 | 1412   | 1      | 2      | 1      | 0      | 0      | 1920   | 3      |  4560  | 0      |\n",
       "| 512    | 129000 | 1198   | 2      | 2      | 1      | 2      | 0      | 1925   | 3      | 20918  | 0      |\n",
       "| 513    | 145000 | 1424   | 2      | 1      | 1      | 2      | 0      | 1947   | 3      | 16414  | 0      |\n",
       "| 514    | 200000 | 1370   | 4      | 1      | 0      | 1      | 0      | 1925   | 3      |  8000  | 0      |\n",
       "| 515    | 149900 | 1584   | 3      | 2      | 1      | 2      | 0      | 1957   | 3      | 13514  | 0      |\n",
       "| 516    | 132000 | 1567   | 2      | 1      | 1      | 1      | 0      | 1934   | 3      | 12249  | 0      |\n",
       "| 517    | 136900 | 1409   | 2      | 1      | 0      | 1      | 0      | 1951   | 3      | 28421  | 0      |\n",
       "| 518    | 137000 | 1655   | 2      | 1      | 0      | 1      | 0      | 1935   | 3      | 54651  | 0      |\n",
       "| 519    | 185000 | 1944   | 3      | 2      | 1      | 2      | 0      | 1939   | 3      | 17999  | 0      |\n",
       "| 520    | 133500 | 1922   | 3      | 1      | 0      | 2      | 0      | 1950   | 3      | 14805  | 0      |\n",
       "| 521    | 124000 | 1480   | 3      | 2      | 1      | 2      | 0      | 1953   | 3      | 28351  | 0      |\n",
       "| 522    |  95500 | 1184   | 2      | 1      | 0      | 1      | 0      | 1951   | 3      | 14786  | 0      |\n",
       "\n"
      ],
      "text/plain": [
       "    ID  Price  Sqft Bedroom Bathroom Airconditioning Garage Pool YearBuild\n",
       "1    1  360000 3032 4       4        1               2      0    1972     \n",
       "2    2  340000 2058 4       2        1               2      0    1976     \n",
       "3    3  250000 1780 4       3        1               2      0    1980     \n",
       "4    4  205500 1638 4       2        1               2      0    1963     \n",
       "5    5  275500 2196 4       3        1               2      0    1968     \n",
       "6    6  248000 1966 4       3        1               5      1    1972     \n",
       "7    7  229900 2216 3       2        1               2      0    1972     \n",
       "8    8  150000 1597 2       1        1               1      0    1955     \n",
       "9    9  195000 1622 3       2        1               2      0    1975     \n",
       "10  10  160000 1976 3       3        0               1      0    1918     \n",
       "11  11  190000 2812 7       5        0               2      1    1966     \n",
       "12  12  559000 2791 3       4        1               3      0    1992     \n",
       "13  13  535000 3381 5       4        1               3      0    1988     \n",
       "14  14  525000 3459 5       4        1               2      0    1978     \n",
       "15  15  299900 2090 3       3        1               2      0    1987     \n",
       "16  16  527000 3232 5       5        1               2      0    1984     \n",
       "17  17  169900 1502 2       2        1               2      0    1956     \n",
       "18  18  335250 2747 3       4        1               2      0    1993     \n",
       "19  19  323900 2890 4       3        1               2      0    1954     \n",
       "20  20  200000 1825 3       3        1               2      0    1957     \n",
       "21  21  211000 1578 4       3        1               2      0    1986     \n",
       "22  22  212000 1763 3       3        1               2      0    1959     \n",
       "23  23  245000 2517 4       3        1               2      0    1965     \n",
       "24  24  140400 1872 3       2        1               2      0    1985     \n",
       "25  25  295000 3266 3       3        1               2      0    1908     \n",
       "26  26  170900 2020 1       2        1               1      0    1956     \n",
       "27  27  229000 2164 4       2        1               2      0    1965     \n",
       "28  28  218500 2080 3       2        1               2      1    1959     \n",
       "29  29  160000 2208 2       2        1               2      0    1985     \n",
       "30  30  259000 3048 6       4        1               3      0    1960     \n",
       "... ... ...    ...  ...     ...      ...             ...    ...  ...      \n",
       "493 493 175000 2035 4       2        1               3      0    1962     \n",
       "494 494 147000 1534 3       2        0               1      0    1955     \n",
       "495 495 155000 1624 2       2        1               2      0    1955     \n",
       "496 496 150000 1700 4       2        1               1      0    1954     \n",
       "497 497 165000 1630 3       2        1               2      0    1978     \n",
       "498 498 147000 1526 3       2        1               1      0    1957     \n",
       "499 499 146250 1672 3       1        1               2      0    1949     \n",
       "500 500 177500 1588 4       2        1               2      0    1980     \n",
       "501 501 153650 1752 4       2        1               2      0    1950     \n",
       "502 502 199500 1674 4       2        0               2      0    1947     \n",
       "503 503 186000 1980 3       1        0               1      0    1927     \n",
       "504 504 139900 1396 1       1        0               2      0    1950     \n",
       "505 505 160000 1178 1       1        0               2      0    1959     \n",
       "506 506 125000 1263 2       2        0               0      0    1955     \n",
       "507 507 359900 2377 5       2        1               2      0    1937     \n",
       "508 508 184500 1304 3       1        1               2      0    1951     \n",
       "509 509 155000 1340 3       1        0               0      0    1952     \n",
       "510 510 150000 1559 2       1        0               2      0    1952     \n",
       "511 511 146000 1412 1       2        1               0      0    1920     \n",
       "512 512 129000 1198 2       2        1               2      0    1925     \n",
       "513 513 145000 1424 2       1        1               2      0    1947     \n",
       "514 514 200000 1370 4       1        0               1      0    1925     \n",
       "515 515 149900 1584 3       2        1               2      0    1957     \n",
       "516 516 132000 1567 2       1        1               1      0    1934     \n",
       "517 517 136900 1409 2       1        0               1      0    1951     \n",
       "518 518 137000 1655 2       1        0               1      0    1935     \n",
       "519 519 185000 1944 3       2        1               2      0    1939     \n",
       "520 520 133500 1922 3       1        0               2      0    1950     \n",
       "521 521 124000 1480 3       2        1               2      0    1953     \n",
       "522 522  95500 1184 2       1        0               1      0    1951     \n",
       "    Quality Lot   AdjHighway\n",
       "1   2       22221 0         \n",
       "2   2       22912 0         \n",
       "3   2       21345 0         \n",
       "4   2       17342 0         \n",
       "5   2       21786 0         \n",
       "6   2       18902 0         \n",
       "7   2       18639 0         \n",
       "8   2       22112 0         \n",
       "9   3       14321 0         \n",
       "10  3       32358 0         \n",
       "11  3       56639 0         \n",
       "12  1       30595 0         \n",
       "13  1       23172 0         \n",
       "14  1       35351 0         \n",
       "15  2       24025 0         \n",
       "16  2       21445 0         \n",
       "17  2       28958 0         \n",
       "18  2       22241 0         \n",
       "19  2       41992 0         \n",
       "20  2       30266 0         \n",
       "21  2       18829 0         \n",
       "22  2       24726 0         \n",
       "23  2       23261 0         \n",
       "24  2       24017 0         \n",
       "25  2       24881 0         \n",
       "26  2       21385 0         \n",
       "27  2       28291 0         \n",
       "28  2       14752 0         \n",
       "29  2        8058 0         \n",
       "30  2       29307 0         \n",
       "... ...     ...   ...       \n",
       "493 3       20131 0         \n",
       "494 3       15361 0         \n",
       "495 3       16721 0         \n",
       "496 3       15391 0         \n",
       "497 3       24963 0         \n",
       "498 3       15007 0         \n",
       "499 3       22617 0         \n",
       "500 3       21925 0         \n",
       "501 3        9126 0         \n",
       "502 3       33237 0         \n",
       "503 3       47679 0         \n",
       "504 3       25879 0         \n",
       "505 3        9941 0         \n",
       "506 3       12357 0         \n",
       "507 3       51005 0         \n",
       "508 3       21305 0         \n",
       "509 3        5666 0         \n",
       "510 3       23999 0         \n",
       "511 3        4560 0         \n",
       "512 3       20918 0         \n",
       "513 3       16414 0         \n",
       "514 3        8000 0         \n",
       "515 3       13514 0         \n",
       "516 3       12249 0         \n",
       "517 3       28421 0         \n",
       "518 3       54651 0         \n",
       "519 3       17999 0         \n",
       "520 3       14805 0         \n",
       "521 3       28351 0         \n",
       "522 3       14786 0         "
      ]
     },
     "metadata": {},
     "output_type": "display_data"
    }
   ],
   "source": [
    "housing_data = read.csv(\"housing.txt\")\n",
    "housing_data"
   ]
  },
  {
   "cell_type": "markdown",
   "metadata": {
    "nbgrader": {
     "grade": false,
     "grade_id": "cell-3feda1bcd72c7efd",
     "locked": true,
     "schema_version": 3,
     "solution": false,
     "task": false
    }
   },
   "source": [
    "**B.1 (a) [5 points] Change the bedroom, bathroom, air conditiong, garage, and pool variables to factors. Remove the `YearBuild`, `Quality`, `Lot`, and `AdjHighway` variables. Store this new data frame in `house2`. Then print a summary of `house2`.**\n",
    "\n",
    "We will use `house2` for the rest of B.1."
   ]
  },
  {
   "cell_type": "code",
   "execution_count": 3,
   "metadata": {
    "nbgrader": {
     "grade": false,
     "grade_id": "cell-b2621c16b05e73ee",
     "locked": false,
     "schema_version": 3,
     "solution": true,
     "task": false
    }
   },
   "outputs": [
    {
     "data": {
      "text/plain": [
       "       ID            Price             Sqft         Bedroom       Bathroom  \n",
       " Min.   :  1.0   Min.   : 84000   Min.   : 980   3      :202   3      :175  \n",
       " 1st Qu.:131.2   1st Qu.:180000   1st Qu.:1701   4      :179   2      :171  \n",
       " Median :261.5   Median :229900   Median :2061   2      : 64   4      : 84  \n",
       " Mean   :261.5   Mean   :277894   Mean   :2261   5      : 52   1      : 71  \n",
       " 3rd Qu.:391.8   3rd Qu.:335000   3rd Qu.:2636   6      : 12   5      : 17  \n",
       " Max.   :522.0   Max.   :920000   Max.   :5032   1      :  9   7      :  2  \n",
       "                                                 (Other):  4   (Other):  2  \n",
       " Airconditioning Garage  Pool   \n",
       " 0: 88           0:  7   0:486  \n",
       " 1:434           1: 52   1: 36  \n",
       "                 2:353          \n",
       "                 3:106          \n",
       "                 4:  2          \n",
       "                 5:  1          \n",
       "                 7:  1          "
      ]
     },
     "metadata": {},
     "output_type": "display_data"
    }
   ],
   "source": [
    "housing_data$Bedroom = factor(housing_data$Bedroom)\n",
    "housing_data$Bathroom = factor(housing_data$Bathroom)\n",
    "housing_data$Airconditioning = factor(housing_data$Airconditioning)\n",
    "housing_data$Garage = factor(housing_data$Garage)\n",
    "housing_data$Pool = factor(housing_data$Pool)\n",
    "\n",
    "house2 = housing_data[,-c(9,10,11,12)]\n",
    "summary(house2)"
   ]
  },
  {
   "cell_type": "markdown",
   "metadata": {
    "id": "s7HubzyD9eIB",
    "nbgrader": {
     "grade": false,
     "grade_id": "cell-69536910d7d5e39c",
     "locked": true,
     "schema_version": 3,
     "solution": false,
     "task": false
    }
   },
   "source": [
    "**B.1 (b) [4 points] Write code that extracts all of the rows/houses with a pool. Store your answer as a data frame in `House_Pool`.**"
   ]
  },
  {
   "cell_type": "code",
   "execution_count": 4,
   "metadata": {
    "id": "_A0N0HcO9eIC",
    "nbgrader": {
     "grade": false,
     "grade_id": "cell-086049d7612da20e",
     "locked": false,
     "schema_version": 3,
     "solution": true,
     "task": false
    }
   },
   "outputs": [
    {
     "data": {
      "text/html": [
       "<table>\n",
       "<thead><tr><th></th><th scope=col>ID</th><th scope=col>Price</th><th scope=col>Sqft</th><th scope=col>Bedroom</th><th scope=col>Bathroom</th><th scope=col>Airconditioning</th><th scope=col>Garage</th><th scope=col>Pool</th></tr></thead>\n",
       "<tbody>\n",
       "\t<tr><th scope=row>6</th><td>  6   </td><td>248000</td><td>1966  </td><td>4     </td><td>3     </td><td>1     </td><td>5     </td><td>1     </td></tr>\n",
       "\t<tr><th scope=row>11</th><td> 11   </td><td>190000</td><td>2812  </td><td>7     </td><td>5     </td><td>0     </td><td>2     </td><td>1     </td></tr>\n",
       "\t<tr><th scope=row>28</th><td> 28   </td><td>218500</td><td>2080  </td><td>3     </td><td>2     </td><td>1     </td><td>2     </td><td>1     </td></tr>\n",
       "\t<tr><th scope=row>69</th><td> 69   </td><td>585000</td><td>2558  </td><td>2     </td><td>4     </td><td>1     </td><td>3     </td><td>1     </td></tr>\n",
       "\t<tr><th scope=row>70</th><td> 70   </td><td>549900</td><td>4000  </td><td>6     </td><td>5     </td><td>1     </td><td>3     </td><td>1     </td></tr>\n",
       "\t<tr><th scope=row>85</th><td> 85   </td><td>484530</td><td>2940  </td><td>3     </td><td>3     </td><td>1     </td><td>3     </td><td>1     </td></tr>\n",
       "\t<tr><th scope=row>91</th><td> 91   </td><td>399900</td><td>3321  </td><td>3     </td><td>4     </td><td>1     </td><td>3     </td><td>1     </td></tr>\n",
       "\t<tr><th scope=row>101</th><td>101   </td><td>610000</td><td>3251  </td><td>3     </td><td>4     </td><td>1     </td><td>3     </td><td>1     </td></tr>\n",
       "\t<tr><th scope=row>104</th><td>104   </td><td>545000</td><td>4973  </td><td>6     </td><td>6     </td><td>1     </td><td>3     </td><td>1     </td></tr>\n",
       "\t<tr><th scope=row>106</th><td>106   </td><td>629000</td><td>3139  </td><td>6     </td><td>4     </td><td>1     </td><td>2     </td><td>1     </td></tr>\n",
       "\t<tr><th scope=row>121</th><td>121   </td><td>470000</td><td>3430  </td><td>3     </td><td>4     </td><td>1     </td><td>2     </td><td>1     </td></tr>\n",
       "\t<tr><th scope=row>132</th><td>132   </td><td>550000</td><td>3828  </td><td>4     </td><td>5     </td><td>1     </td><td>2     </td><td>1     </td></tr>\n",
       "\t<tr><th scope=row>134</th><td>134   </td><td>440000</td><td>2821  </td><td>5     </td><td>4     </td><td>1     </td><td>2     </td><td>1     </td></tr>\n",
       "\t<tr><th scope=row>153</th><td>153   </td><td>400000</td><td>3540  </td><td>4     </td><td>4     </td><td>1     </td><td>3     </td><td>1     </td></tr>\n",
       "\t<tr><th scope=row>169</th><td>169   </td><td>340000</td><td>2756  </td><td>4     </td><td>3     </td><td>1     </td><td>2     </td><td>1     </td></tr>\n",
       "\t<tr><th scope=row>172</th><td>172   </td><td>389000</td><td>3148  </td><td>4     </td><td>4     </td><td>1     </td><td>3     </td><td>1     </td></tr>\n",
       "\t<tr><th scope=row>175</th><td>175   </td><td>295000</td><td>1954  </td><td>3     </td><td>3     </td><td>1     </td><td>3     </td><td>1     </td></tr>\n",
       "\t<tr><th scope=row>188</th><td>188   </td><td>360000</td><td>2588  </td><td>3     </td><td>3     </td><td>1     </td><td>2     </td><td>1     </td></tr>\n",
       "\t<tr><th scope=row>194</th><td>194   </td><td>387500</td><td>3164  </td><td>4     </td><td>4     </td><td>1     </td><td>2     </td><td>1     </td></tr>\n",
       "\t<tr><th scope=row>200</th><td>200   </td><td>333000</td><td>2736  </td><td>4     </td><td>3     </td><td>1     </td><td>2     </td><td>1     </td></tr>\n",
       "\t<tr><th scope=row>202</th><td>202   </td><td>374800</td><td>3536  </td><td>6     </td><td>4     </td><td>1     </td><td>2     </td><td>1     </td></tr>\n",
       "\t<tr><th scope=row>210</th><td>210   </td><td>390000</td><td>4050  </td><td>6     </td><td>5     </td><td>1     </td><td>2     </td><td>1     </td></tr>\n",
       "\t<tr><th scope=row>225</th><td>225   </td><td>281000</td><td>2062  </td><td>3     </td><td>3     </td><td>1     </td><td>2     </td><td>1     </td></tr>\n",
       "\t<tr><th scope=row>236</th><td>236   </td><td>275000</td><td>2007  </td><td>3     </td><td>3     </td><td>1     </td><td>2     </td><td>1     </td></tr>\n",
       "\t<tr><th scope=row>247</th><td>247   </td><td>465900</td><td>2852  </td><td>4     </td><td>3     </td><td>1     </td><td>2     </td><td>1     </td></tr>\n",
       "\t<tr><th scope=row>262</th><td>262   </td><td>261000</td><td>2404  </td><td>5     </td><td>3     </td><td>1     </td><td>3     </td><td>1     </td></tr>\n",
       "\t<tr><th scope=row>309</th><td>309   </td><td>222500</td><td>2120  </td><td>3     </td><td>2     </td><td>1     </td><td>2     </td><td>1     </td></tr>\n",
       "\t<tr><th scope=row>322</th><td>322   </td><td>204900</td><td>1626  </td><td>3     </td><td>3     </td><td>1     </td><td>2     </td><td>1     </td></tr>\n",
       "\t<tr><th scope=row>333</th><td>333   </td><td>239000</td><td>1814  </td><td>4     </td><td>3     </td><td>1     </td><td>2     </td><td>1     </td></tr>\n",
       "\t<tr><th scope=row>341</th><td>341   </td><td>275000</td><td>2554  </td><td>5     </td><td>3     </td><td>1     </td><td>2     </td><td>1     </td></tr>\n",
       "\t<tr><th scope=row>357</th><td>357   </td><td>228400</td><td>1904  </td><td>3     </td><td>3     </td><td>1     </td><td>2     </td><td>1     </td></tr>\n",
       "\t<tr><th scope=row>370</th><td>370   </td><td>182500</td><td>1691  </td><td>3     </td><td>2     </td><td>1     </td><td>2     </td><td>1     </td></tr>\n",
       "\t<tr><th scope=row>394</th><td>394   </td><td>232900</td><td>1550  </td><td>4     </td><td>2     </td><td>1     </td><td>2     </td><td>1     </td></tr>\n",
       "\t<tr><th scope=row>417</th><td>417   </td><td>215000</td><td>1883  </td><td>4     </td><td>2     </td><td>1     </td><td>2     </td><td>1     </td></tr>\n",
       "\t<tr><th scope=row>465</th><td>465   </td><td>175000</td><td>1628  </td><td>3     </td><td>1     </td><td>1     </td><td>2     </td><td>1     </td></tr>\n",
       "\t<tr><th scope=row>468</th><td>468   </td><td>229100</td><td>1956  </td><td>3     </td><td>2     </td><td>1     </td><td>2     </td><td>1     </td></tr>\n",
       "</tbody>\n",
       "</table>\n"
      ],
      "text/latex": [
       "\\begin{tabular}{r|llllllll}\n",
       "  & ID & Price & Sqft & Bedroom & Bathroom & Airconditioning & Garage & Pool\\\\\n",
       "\\hline\n",
       "\t6 &   6    & 248000 & 1966   & 4      & 3      & 1      & 5      & 1     \\\\\n",
       "\t11 &  11    & 190000 & 2812   & 7      & 5      & 0      & 2      & 1     \\\\\n",
       "\t28 &  28    & 218500 & 2080   & 3      & 2      & 1      & 2      & 1     \\\\\n",
       "\t69 &  69    & 585000 & 2558   & 2      & 4      & 1      & 3      & 1     \\\\\n",
       "\t70 &  70    & 549900 & 4000   & 6      & 5      & 1      & 3      & 1     \\\\\n",
       "\t85 &  85    & 484530 & 2940   & 3      & 3      & 1      & 3      & 1     \\\\\n",
       "\t91 &  91    & 399900 & 3321   & 3      & 4      & 1      & 3      & 1     \\\\\n",
       "\t101 & 101    & 610000 & 3251   & 3      & 4      & 1      & 3      & 1     \\\\\n",
       "\t104 & 104    & 545000 & 4973   & 6      & 6      & 1      & 3      & 1     \\\\\n",
       "\t106 & 106    & 629000 & 3139   & 6      & 4      & 1      & 2      & 1     \\\\\n",
       "\t121 & 121    & 470000 & 3430   & 3      & 4      & 1      & 2      & 1     \\\\\n",
       "\t132 & 132    & 550000 & 3828   & 4      & 5      & 1      & 2      & 1     \\\\\n",
       "\t134 & 134    & 440000 & 2821   & 5      & 4      & 1      & 2      & 1     \\\\\n",
       "\t153 & 153    & 400000 & 3540   & 4      & 4      & 1      & 3      & 1     \\\\\n",
       "\t169 & 169    & 340000 & 2756   & 4      & 3      & 1      & 2      & 1     \\\\\n",
       "\t172 & 172    & 389000 & 3148   & 4      & 4      & 1      & 3      & 1     \\\\\n",
       "\t175 & 175    & 295000 & 1954   & 3      & 3      & 1      & 3      & 1     \\\\\n",
       "\t188 & 188    & 360000 & 2588   & 3      & 3      & 1      & 2      & 1     \\\\\n",
       "\t194 & 194    & 387500 & 3164   & 4      & 4      & 1      & 2      & 1     \\\\\n",
       "\t200 & 200    & 333000 & 2736   & 4      & 3      & 1      & 2      & 1     \\\\\n",
       "\t202 & 202    & 374800 & 3536   & 6      & 4      & 1      & 2      & 1     \\\\\n",
       "\t210 & 210    & 390000 & 4050   & 6      & 5      & 1      & 2      & 1     \\\\\n",
       "\t225 & 225    & 281000 & 2062   & 3      & 3      & 1      & 2      & 1     \\\\\n",
       "\t236 & 236    & 275000 & 2007   & 3      & 3      & 1      & 2      & 1     \\\\\n",
       "\t247 & 247    & 465900 & 2852   & 4      & 3      & 1      & 2      & 1     \\\\\n",
       "\t262 & 262    & 261000 & 2404   & 5      & 3      & 1      & 3      & 1     \\\\\n",
       "\t309 & 309    & 222500 & 2120   & 3      & 2      & 1      & 2      & 1     \\\\\n",
       "\t322 & 322    & 204900 & 1626   & 3      & 3      & 1      & 2      & 1     \\\\\n",
       "\t333 & 333    & 239000 & 1814   & 4      & 3      & 1      & 2      & 1     \\\\\n",
       "\t341 & 341    & 275000 & 2554   & 5      & 3      & 1      & 2      & 1     \\\\\n",
       "\t357 & 357    & 228400 & 1904   & 3      & 3      & 1      & 2      & 1     \\\\\n",
       "\t370 & 370    & 182500 & 1691   & 3      & 2      & 1      & 2      & 1     \\\\\n",
       "\t394 & 394    & 232900 & 1550   & 4      & 2      & 1      & 2      & 1     \\\\\n",
       "\t417 & 417    & 215000 & 1883   & 4      & 2      & 1      & 2      & 1     \\\\\n",
       "\t465 & 465    & 175000 & 1628   & 3      & 1      & 1      & 2      & 1     \\\\\n",
       "\t468 & 468    & 229100 & 1956   & 3      & 2      & 1      & 2      & 1     \\\\\n",
       "\\end{tabular}\n"
      ],
      "text/markdown": [
       "\n",
       "| <!--/--> | ID | Price | Sqft | Bedroom | Bathroom | Airconditioning | Garage | Pool |\n",
       "|---|---|---|---|---|---|---|---|---|\n",
       "| 6 |   6    | 248000 | 1966   | 4      | 3      | 1      | 5      | 1      |\n",
       "| 11 |  11    | 190000 | 2812   | 7      | 5      | 0      | 2      | 1      |\n",
       "| 28 |  28    | 218500 | 2080   | 3      | 2      | 1      | 2      | 1      |\n",
       "| 69 |  69    | 585000 | 2558   | 2      | 4      | 1      | 3      | 1      |\n",
       "| 70 |  70    | 549900 | 4000   | 6      | 5      | 1      | 3      | 1      |\n",
       "| 85 |  85    | 484530 | 2940   | 3      | 3      | 1      | 3      | 1      |\n",
       "| 91 |  91    | 399900 | 3321   | 3      | 4      | 1      | 3      | 1      |\n",
       "| 101 | 101    | 610000 | 3251   | 3      | 4      | 1      | 3      | 1      |\n",
       "| 104 | 104    | 545000 | 4973   | 6      | 6      | 1      | 3      | 1      |\n",
       "| 106 | 106    | 629000 | 3139   | 6      | 4      | 1      | 2      | 1      |\n",
       "| 121 | 121    | 470000 | 3430   | 3      | 4      | 1      | 2      | 1      |\n",
       "| 132 | 132    | 550000 | 3828   | 4      | 5      | 1      | 2      | 1      |\n",
       "| 134 | 134    | 440000 | 2821   | 5      | 4      | 1      | 2      | 1      |\n",
       "| 153 | 153    | 400000 | 3540   | 4      | 4      | 1      | 3      | 1      |\n",
       "| 169 | 169    | 340000 | 2756   | 4      | 3      | 1      | 2      | 1      |\n",
       "| 172 | 172    | 389000 | 3148   | 4      | 4      | 1      | 3      | 1      |\n",
       "| 175 | 175    | 295000 | 1954   | 3      | 3      | 1      | 3      | 1      |\n",
       "| 188 | 188    | 360000 | 2588   | 3      | 3      | 1      | 2      | 1      |\n",
       "| 194 | 194    | 387500 | 3164   | 4      | 4      | 1      | 2      | 1      |\n",
       "| 200 | 200    | 333000 | 2736   | 4      | 3      | 1      | 2      | 1      |\n",
       "| 202 | 202    | 374800 | 3536   | 6      | 4      | 1      | 2      | 1      |\n",
       "| 210 | 210    | 390000 | 4050   | 6      | 5      | 1      | 2      | 1      |\n",
       "| 225 | 225    | 281000 | 2062   | 3      | 3      | 1      | 2      | 1      |\n",
       "| 236 | 236    | 275000 | 2007   | 3      | 3      | 1      | 2      | 1      |\n",
       "| 247 | 247    | 465900 | 2852   | 4      | 3      | 1      | 2      | 1      |\n",
       "| 262 | 262    | 261000 | 2404   | 5      | 3      | 1      | 3      | 1      |\n",
       "| 309 | 309    | 222500 | 2120   | 3      | 2      | 1      | 2      | 1      |\n",
       "| 322 | 322    | 204900 | 1626   | 3      | 3      | 1      | 2      | 1      |\n",
       "| 333 | 333    | 239000 | 1814   | 4      | 3      | 1      | 2      | 1      |\n",
       "| 341 | 341    | 275000 | 2554   | 5      | 3      | 1      | 2      | 1      |\n",
       "| 357 | 357    | 228400 | 1904   | 3      | 3      | 1      | 2      | 1      |\n",
       "| 370 | 370    | 182500 | 1691   | 3      | 2      | 1      | 2      | 1      |\n",
       "| 394 | 394    | 232900 | 1550   | 4      | 2      | 1      | 2      | 1      |\n",
       "| 417 | 417    | 215000 | 1883   | 4      | 2      | 1      | 2      | 1      |\n",
       "| 465 | 465    | 175000 | 1628   | 3      | 1      | 1      | 2      | 1      |\n",
       "| 468 | 468    | 229100 | 1956   | 3      | 2      | 1      | 2      | 1      |\n",
       "\n"
      ],
      "text/plain": [
       "    ID  Price  Sqft Bedroom Bathroom Airconditioning Garage Pool\n",
       "6     6 248000 1966 4       3        1               5      1   \n",
       "11   11 190000 2812 7       5        0               2      1   \n",
       "28   28 218500 2080 3       2        1               2      1   \n",
       "69   69 585000 2558 2       4        1               3      1   \n",
       "70   70 549900 4000 6       5        1               3      1   \n",
       "85   85 484530 2940 3       3        1               3      1   \n",
       "91   91 399900 3321 3       4        1               3      1   \n",
       "101 101 610000 3251 3       4        1               3      1   \n",
       "104 104 545000 4973 6       6        1               3      1   \n",
       "106 106 629000 3139 6       4        1               2      1   \n",
       "121 121 470000 3430 3       4        1               2      1   \n",
       "132 132 550000 3828 4       5        1               2      1   \n",
       "134 134 440000 2821 5       4        1               2      1   \n",
       "153 153 400000 3540 4       4        1               3      1   \n",
       "169 169 340000 2756 4       3        1               2      1   \n",
       "172 172 389000 3148 4       4        1               3      1   \n",
       "175 175 295000 1954 3       3        1               3      1   \n",
       "188 188 360000 2588 3       3        1               2      1   \n",
       "194 194 387500 3164 4       4        1               2      1   \n",
       "200 200 333000 2736 4       3        1               2      1   \n",
       "202 202 374800 3536 6       4        1               2      1   \n",
       "210 210 390000 4050 6       5        1               2      1   \n",
       "225 225 281000 2062 3       3        1               2      1   \n",
       "236 236 275000 2007 3       3        1               2      1   \n",
       "247 247 465900 2852 4       3        1               2      1   \n",
       "262 262 261000 2404 5       3        1               3      1   \n",
       "309 309 222500 2120 3       2        1               2      1   \n",
       "322 322 204900 1626 3       3        1               2      1   \n",
       "333 333 239000 1814 4       3        1               2      1   \n",
       "341 341 275000 2554 5       3        1               2      1   \n",
       "357 357 228400 1904 3       3        1               2      1   \n",
       "370 370 182500 1691 3       2        1               2      1   \n",
       "394 394 232900 1550 4       2        1               2      1   \n",
       "417 417 215000 1883 4       2        1               2      1   \n",
       "465 465 175000 1628 3       1        1               2      1   \n",
       "468 468 229100 1956 3       2        1               2      1   "
      ]
     },
     "metadata": {},
     "output_type": "display_data"
    }
   ],
   "source": [
    "House_pool = house2[house2$Pool == 1,]\n",
    "House_pool"
   ]
  },
  {
   "cell_type": "markdown",
   "metadata": {
    "id": "RfWtBrjH9eIC",
    "nbgrader": {
     "grade": false,
     "grade_id": "cell-16e9b18e18309b1f",
     "locked": true,
     "schema_version": 3,
     "solution": false,
     "task": false
    }
   },
   "source": [
    "**B.1 (c) [4 points] Write code that extracts all of the rows/houses with square footage less than the median. Store your answer as a data frame in `House_Small`.**\n"
   ]
  },
  {
   "cell_type": "code",
   "execution_count": 5,
   "metadata": {
    "id": "H7GTnb-B9eIC",
    "nbgrader": {
     "grade": false,
     "grade_id": "cell-39190acacd8f5ecb",
     "locked": false,
     "schema_version": 3,
     "solution": true,
     "task": false
    }
   },
   "outputs": [
    {
     "data": {
      "text/html": [
       "<table>\n",
       "<thead><tr><th></th><th scope=col>ID</th><th scope=col>Price</th><th scope=col>Sqft</th><th scope=col>Bedroom</th><th scope=col>Bathroom</th><th scope=col>Airconditioning</th><th scope=col>Garage</th><th scope=col>Pool</th></tr></thead>\n",
       "<tbody>\n",
       "\t<tr><th scope=row>2</th><td> 2    </td><td>340000</td><td>2058  </td><td>4     </td><td>2     </td><td>1     </td><td>2     </td><td>0     </td></tr>\n",
       "\t<tr><th scope=row>3</th><td> 3    </td><td>250000</td><td>1780  </td><td>4     </td><td>3     </td><td>1     </td><td>2     </td><td>0     </td></tr>\n",
       "\t<tr><th scope=row>4</th><td> 4    </td><td>205500</td><td>1638  </td><td>4     </td><td>2     </td><td>1     </td><td>2     </td><td>0     </td></tr>\n",
       "\t<tr><th scope=row>6</th><td> 6    </td><td>248000</td><td>1966  </td><td>4     </td><td>3     </td><td>1     </td><td>5     </td><td>1     </td></tr>\n",
       "\t<tr><th scope=row>8</th><td> 8    </td><td>150000</td><td>1597  </td><td>2     </td><td>1     </td><td>1     </td><td>1     </td><td>0     </td></tr>\n",
       "\t<tr><th scope=row>9</th><td> 9    </td><td>195000</td><td>1622  </td><td>3     </td><td>2     </td><td>1     </td><td>2     </td><td>0     </td></tr>\n",
       "\t<tr><th scope=row>10</th><td>10    </td><td>160000</td><td>1976  </td><td>3     </td><td>3     </td><td>0     </td><td>1     </td><td>0     </td></tr>\n",
       "\t<tr><th scope=row>17</th><td>17    </td><td>169900</td><td>1502  </td><td>2     </td><td>2     </td><td>1     </td><td>2     </td><td>0     </td></tr>\n",
       "\t<tr><th scope=row>20</th><td>20    </td><td>200000</td><td>1825  </td><td>3     </td><td>3     </td><td>1     </td><td>2     </td><td>0     </td></tr>\n",
       "\t<tr><th scope=row>21</th><td>21    </td><td>211000</td><td>1578  </td><td>4     </td><td>3     </td><td>1     </td><td>2     </td><td>0     </td></tr>\n",
       "\t<tr><th scope=row>22</th><td>22    </td><td>212000</td><td>1763  </td><td>3     </td><td>3     </td><td>1     </td><td>2     </td><td>0     </td></tr>\n",
       "\t<tr><th scope=row>24</th><td>24    </td><td>140400</td><td>1872  </td><td>3     </td><td>2     </td><td>1     </td><td>2     </td><td>0     </td></tr>\n",
       "\t<tr><th scope=row>26</th><td>26    </td><td>170900</td><td>2020  </td><td>1     </td><td>2     </td><td>1     </td><td>1     </td><td>0     </td></tr>\n",
       "\t<tr><th scope=row>31</th><td>31    </td><td>164500</td><td>1460  </td><td>3     </td><td>2     </td><td>1     </td><td>2     </td><td>0     </td></tr>\n",
       "\t<tr><th scope=row>36</th><td>36    </td><td>157500</td><td>1980  </td><td>3     </td><td>2     </td><td>1     </td><td>2     </td><td>0     </td></tr>\n",
       "\t<tr><th scope=row>39</th><td>39    </td><td>178000</td><td>1460  </td><td>4     </td><td>2     </td><td>1     </td><td>2     </td><td>0     </td></tr>\n",
       "\t<tr><th scope=row>40</th><td>40    </td><td>171900</td><td>1580  </td><td>2     </td><td>1     </td><td>0     </td><td>1     </td><td>0     </td></tr>\n",
       "\t<tr><th scope=row>41</th><td>41    </td><td>165500</td><td>1460  </td><td>3     </td><td>2     </td><td>1     </td><td>2     </td><td>0     </td></tr>\n",
       "\t<tr><th scope=row>42</th><td>42    </td><td>183500</td><td>1540  </td><td>3     </td><td>2     </td><td>1     </td><td>2     </td><td>0     </td></tr>\n",
       "\t<tr><th scope=row>43</th><td>43    </td><td>135000</td><td>1388  </td><td>2     </td><td>1     </td><td>0     </td><td>2     </td><td>0     </td></tr>\n",
       "\t<tr><th scope=row>44</th><td>44    </td><td>175000</td><td>1624  </td><td>3     </td><td>2     </td><td>1     </td><td>2     </td><td>0     </td></tr>\n",
       "\t<tr><th scope=row>45</th><td>45    </td><td>149500</td><td>1580  </td><td>2     </td><td>1     </td><td>1     </td><td>2     </td><td>0     </td></tr>\n",
       "\t<tr><th scope=row>46</th><td>46    </td><td>177500</td><td>1820  </td><td>3     </td><td>2     </td><td>1     </td><td>2     </td><td>0     </td></tr>\n",
       "\t<tr><th scope=row>47</th><td>47    </td><td>155000</td><td>1733  </td><td>4     </td><td>1     </td><td>1     </td><td>1     </td><td>0     </td></tr>\n",
       "\t<tr><th scope=row>48</th><td>48    </td><td>145000</td><td>1896  </td><td>3     </td><td>2     </td><td>0     </td><td>2     </td><td>0     </td></tr>\n",
       "\t<tr><th scope=row>49</th><td>49    </td><td>178000</td><td>2038  </td><td>2     </td><td>2     </td><td>0     </td><td>2     </td><td>0     </td></tr>\n",
       "\t<tr><th scope=row>50</th><td>50    </td><td>156000</td><td>1436  </td><td>3     </td><td>2     </td><td>0     </td><td>3     </td><td>0     </td></tr>\n",
       "\t<tr><th scope=row>51</th><td>51    </td><td>159000</td><td>1690  </td><td>3     </td><td>2     </td><td>0     </td><td>1     </td><td>0     </td></tr>\n",
       "\t<tr><th scope=row>52</th><td>52    </td><td>160000</td><td>1496  </td><td>2     </td><td>2     </td><td>0     </td><td>1     </td><td>0     </td></tr>\n",
       "\t<tr><th scope=row>53</th><td>53    </td><td>112000</td><td>1668  </td><td>2     </td><td>1     </td><td>0     </td><td>1     </td><td>0     </td></tr>\n",
       "\t<tr><th scope=row>...</th><td>...</td><td>...</td><td>...</td><td>...</td><td>...</td><td>...</td><td>...</td><td>...</td></tr>\n",
       "\t<tr><th scope=row>492</th><td>492   </td><td>158000</td><td>1604  </td><td>3     </td><td>2     </td><td>1     </td><td>1     </td><td>0     </td></tr>\n",
       "\t<tr><th scope=row>493</th><td>493   </td><td>175000</td><td>2035  </td><td>4     </td><td>2     </td><td>1     </td><td>3     </td><td>0     </td></tr>\n",
       "\t<tr><th scope=row>494</th><td>494   </td><td>147000</td><td>1534  </td><td>3     </td><td>2     </td><td>0     </td><td>1     </td><td>0     </td></tr>\n",
       "\t<tr><th scope=row>495</th><td>495   </td><td>155000</td><td>1624  </td><td>2     </td><td>2     </td><td>1     </td><td>2     </td><td>0     </td></tr>\n",
       "\t<tr><th scope=row>496</th><td>496   </td><td>150000</td><td>1700  </td><td>4     </td><td>2     </td><td>1     </td><td>1     </td><td>0     </td></tr>\n",
       "\t<tr><th scope=row>497</th><td>497   </td><td>165000</td><td>1630  </td><td>3     </td><td>2     </td><td>1     </td><td>2     </td><td>0     </td></tr>\n",
       "\t<tr><th scope=row>498</th><td>498   </td><td>147000</td><td>1526  </td><td>3     </td><td>2     </td><td>1     </td><td>1     </td><td>0     </td></tr>\n",
       "\t<tr><th scope=row>499</th><td>499   </td><td>146250</td><td>1672  </td><td>3     </td><td>1     </td><td>1     </td><td>2     </td><td>0     </td></tr>\n",
       "\t<tr><th scope=row>500</th><td>500   </td><td>177500</td><td>1588  </td><td>4     </td><td>2     </td><td>1     </td><td>2     </td><td>0     </td></tr>\n",
       "\t<tr><th scope=row>501</th><td>501   </td><td>153650</td><td>1752  </td><td>4     </td><td>2     </td><td>1     </td><td>2     </td><td>0     </td></tr>\n",
       "\t<tr><th scope=row>502</th><td>502   </td><td>199500</td><td>1674  </td><td>4     </td><td>2     </td><td>0     </td><td>2     </td><td>0     </td></tr>\n",
       "\t<tr><th scope=row>503</th><td>503   </td><td>186000</td><td>1980  </td><td>3     </td><td>1     </td><td>0     </td><td>1     </td><td>0     </td></tr>\n",
       "\t<tr><th scope=row>504</th><td>504   </td><td>139900</td><td>1396  </td><td>1     </td><td>1     </td><td>0     </td><td>2     </td><td>0     </td></tr>\n",
       "\t<tr><th scope=row>505</th><td>505   </td><td>160000</td><td>1178  </td><td>1     </td><td>1     </td><td>0     </td><td>2     </td><td>0     </td></tr>\n",
       "\t<tr><th scope=row>506</th><td>506   </td><td>125000</td><td>1263  </td><td>2     </td><td>2     </td><td>0     </td><td>0     </td><td>0     </td></tr>\n",
       "\t<tr><th scope=row>508</th><td>508   </td><td>184500</td><td>1304  </td><td>3     </td><td>1     </td><td>1     </td><td>2     </td><td>0     </td></tr>\n",
       "\t<tr><th scope=row>509</th><td>509   </td><td>155000</td><td>1340  </td><td>3     </td><td>1     </td><td>0     </td><td>0     </td><td>0     </td></tr>\n",
       "\t<tr><th scope=row>510</th><td>510   </td><td>150000</td><td>1559  </td><td>2     </td><td>1     </td><td>0     </td><td>2     </td><td>0     </td></tr>\n",
       "\t<tr><th scope=row>511</th><td>511   </td><td>146000</td><td>1412  </td><td>1     </td><td>2     </td><td>1     </td><td>0     </td><td>0     </td></tr>\n",
       "\t<tr><th scope=row>512</th><td>512   </td><td>129000</td><td>1198  </td><td>2     </td><td>2     </td><td>1     </td><td>2     </td><td>0     </td></tr>\n",
       "\t<tr><th scope=row>513</th><td>513   </td><td>145000</td><td>1424  </td><td>2     </td><td>1     </td><td>1     </td><td>2     </td><td>0     </td></tr>\n",
       "\t<tr><th scope=row>514</th><td>514   </td><td>200000</td><td>1370  </td><td>4     </td><td>1     </td><td>0     </td><td>1     </td><td>0     </td></tr>\n",
       "\t<tr><th scope=row>515</th><td>515   </td><td>149900</td><td>1584  </td><td>3     </td><td>2     </td><td>1     </td><td>2     </td><td>0     </td></tr>\n",
       "\t<tr><th scope=row>516</th><td>516   </td><td>132000</td><td>1567  </td><td>2     </td><td>1     </td><td>1     </td><td>1     </td><td>0     </td></tr>\n",
       "\t<tr><th scope=row>517</th><td>517   </td><td>136900</td><td>1409  </td><td>2     </td><td>1     </td><td>0     </td><td>1     </td><td>0     </td></tr>\n",
       "\t<tr><th scope=row>518</th><td>518   </td><td>137000</td><td>1655  </td><td>2     </td><td>1     </td><td>0     </td><td>1     </td><td>0     </td></tr>\n",
       "\t<tr><th scope=row>519</th><td>519   </td><td>185000</td><td>1944  </td><td>3     </td><td>2     </td><td>1     </td><td>2     </td><td>0     </td></tr>\n",
       "\t<tr><th scope=row>520</th><td>520   </td><td>133500</td><td>1922  </td><td>3     </td><td>1     </td><td>0     </td><td>2     </td><td>0     </td></tr>\n",
       "\t<tr><th scope=row>521</th><td>521   </td><td>124000</td><td>1480  </td><td>3     </td><td>2     </td><td>1     </td><td>2     </td><td>0     </td></tr>\n",
       "\t<tr><th scope=row>522</th><td>522   </td><td> 95500</td><td>1184  </td><td>2     </td><td>1     </td><td>0     </td><td>1     </td><td>0     </td></tr>\n",
       "</tbody>\n",
       "</table>\n"
      ],
      "text/latex": [
       "\\begin{tabular}{r|llllllll}\n",
       "  & ID & Price & Sqft & Bedroom & Bathroom & Airconditioning & Garage & Pool\\\\\n",
       "\\hline\n",
       "\t2 &  2     & 340000 & 2058   & 4      & 2      & 1      & 2      & 0     \\\\\n",
       "\t3 &  3     & 250000 & 1780   & 4      & 3      & 1      & 2      & 0     \\\\\n",
       "\t4 &  4     & 205500 & 1638   & 4      & 2      & 1      & 2      & 0     \\\\\n",
       "\t6 &  6     & 248000 & 1966   & 4      & 3      & 1      & 5      & 1     \\\\\n",
       "\t8 &  8     & 150000 & 1597   & 2      & 1      & 1      & 1      & 0     \\\\\n",
       "\t9 &  9     & 195000 & 1622   & 3      & 2      & 1      & 2      & 0     \\\\\n",
       "\t10 & 10     & 160000 & 1976   & 3      & 3      & 0      & 1      & 0     \\\\\n",
       "\t17 & 17     & 169900 & 1502   & 2      & 2      & 1      & 2      & 0     \\\\\n",
       "\t20 & 20     & 200000 & 1825   & 3      & 3      & 1      & 2      & 0     \\\\\n",
       "\t21 & 21     & 211000 & 1578   & 4      & 3      & 1      & 2      & 0     \\\\\n",
       "\t22 & 22     & 212000 & 1763   & 3      & 3      & 1      & 2      & 0     \\\\\n",
       "\t24 & 24     & 140400 & 1872   & 3      & 2      & 1      & 2      & 0     \\\\\n",
       "\t26 & 26     & 170900 & 2020   & 1      & 2      & 1      & 1      & 0     \\\\\n",
       "\t31 & 31     & 164500 & 1460   & 3      & 2      & 1      & 2      & 0     \\\\\n",
       "\t36 & 36     & 157500 & 1980   & 3      & 2      & 1      & 2      & 0     \\\\\n",
       "\t39 & 39     & 178000 & 1460   & 4      & 2      & 1      & 2      & 0     \\\\\n",
       "\t40 & 40     & 171900 & 1580   & 2      & 1      & 0      & 1      & 0     \\\\\n",
       "\t41 & 41     & 165500 & 1460   & 3      & 2      & 1      & 2      & 0     \\\\\n",
       "\t42 & 42     & 183500 & 1540   & 3      & 2      & 1      & 2      & 0     \\\\\n",
       "\t43 & 43     & 135000 & 1388   & 2      & 1      & 0      & 2      & 0     \\\\\n",
       "\t44 & 44     & 175000 & 1624   & 3      & 2      & 1      & 2      & 0     \\\\\n",
       "\t45 & 45     & 149500 & 1580   & 2      & 1      & 1      & 2      & 0     \\\\\n",
       "\t46 & 46     & 177500 & 1820   & 3      & 2      & 1      & 2      & 0     \\\\\n",
       "\t47 & 47     & 155000 & 1733   & 4      & 1      & 1      & 1      & 0     \\\\\n",
       "\t48 & 48     & 145000 & 1896   & 3      & 2      & 0      & 2      & 0     \\\\\n",
       "\t49 & 49     & 178000 & 2038   & 2      & 2      & 0      & 2      & 0     \\\\\n",
       "\t50 & 50     & 156000 & 1436   & 3      & 2      & 0      & 3      & 0     \\\\\n",
       "\t51 & 51     & 159000 & 1690   & 3      & 2      & 0      & 1      & 0     \\\\\n",
       "\t52 & 52     & 160000 & 1496   & 2      & 2      & 0      & 1      & 0     \\\\\n",
       "\t53 & 53     & 112000 & 1668   & 2      & 1      & 0      & 1      & 0     \\\\\n",
       "\t... & ... & ... & ... & ... & ... & ... & ... & ...\\\\\n",
       "\t492 & 492    & 158000 & 1604   & 3      & 2      & 1      & 1      & 0     \\\\\n",
       "\t493 & 493    & 175000 & 2035   & 4      & 2      & 1      & 3      & 0     \\\\\n",
       "\t494 & 494    & 147000 & 1534   & 3      & 2      & 0      & 1      & 0     \\\\\n",
       "\t495 & 495    & 155000 & 1624   & 2      & 2      & 1      & 2      & 0     \\\\\n",
       "\t496 & 496    & 150000 & 1700   & 4      & 2      & 1      & 1      & 0     \\\\\n",
       "\t497 & 497    & 165000 & 1630   & 3      & 2      & 1      & 2      & 0     \\\\\n",
       "\t498 & 498    & 147000 & 1526   & 3      & 2      & 1      & 1      & 0     \\\\\n",
       "\t499 & 499    & 146250 & 1672   & 3      & 1      & 1      & 2      & 0     \\\\\n",
       "\t500 & 500    & 177500 & 1588   & 4      & 2      & 1      & 2      & 0     \\\\\n",
       "\t501 & 501    & 153650 & 1752   & 4      & 2      & 1      & 2      & 0     \\\\\n",
       "\t502 & 502    & 199500 & 1674   & 4      & 2      & 0      & 2      & 0     \\\\\n",
       "\t503 & 503    & 186000 & 1980   & 3      & 1      & 0      & 1      & 0     \\\\\n",
       "\t504 & 504    & 139900 & 1396   & 1      & 1      & 0      & 2      & 0     \\\\\n",
       "\t505 & 505    & 160000 & 1178   & 1      & 1      & 0      & 2      & 0     \\\\\n",
       "\t506 & 506    & 125000 & 1263   & 2      & 2      & 0      & 0      & 0     \\\\\n",
       "\t508 & 508    & 184500 & 1304   & 3      & 1      & 1      & 2      & 0     \\\\\n",
       "\t509 & 509    & 155000 & 1340   & 3      & 1      & 0      & 0      & 0     \\\\\n",
       "\t510 & 510    & 150000 & 1559   & 2      & 1      & 0      & 2      & 0     \\\\\n",
       "\t511 & 511    & 146000 & 1412   & 1      & 2      & 1      & 0      & 0     \\\\\n",
       "\t512 & 512    & 129000 & 1198   & 2      & 2      & 1      & 2      & 0     \\\\\n",
       "\t513 & 513    & 145000 & 1424   & 2      & 1      & 1      & 2      & 0     \\\\\n",
       "\t514 & 514    & 200000 & 1370   & 4      & 1      & 0      & 1      & 0     \\\\\n",
       "\t515 & 515    & 149900 & 1584   & 3      & 2      & 1      & 2      & 0     \\\\\n",
       "\t516 & 516    & 132000 & 1567   & 2      & 1      & 1      & 1      & 0     \\\\\n",
       "\t517 & 517    & 136900 & 1409   & 2      & 1      & 0      & 1      & 0     \\\\\n",
       "\t518 & 518    & 137000 & 1655   & 2      & 1      & 0      & 1      & 0     \\\\\n",
       "\t519 & 519    & 185000 & 1944   & 3      & 2      & 1      & 2      & 0     \\\\\n",
       "\t520 & 520    & 133500 & 1922   & 3      & 1      & 0      & 2      & 0     \\\\\n",
       "\t521 & 521    & 124000 & 1480   & 3      & 2      & 1      & 2      & 0     \\\\\n",
       "\t522 & 522    &  95500 & 1184   & 2      & 1      & 0      & 1      & 0     \\\\\n",
       "\\end{tabular}\n"
      ],
      "text/markdown": [
       "\n",
       "| <!--/--> | ID | Price | Sqft | Bedroom | Bathroom | Airconditioning | Garage | Pool |\n",
       "|---|---|---|---|---|---|---|---|---|\n",
       "| 2 |  2     | 340000 | 2058   | 4      | 2      | 1      | 2      | 0      |\n",
       "| 3 |  3     | 250000 | 1780   | 4      | 3      | 1      | 2      | 0      |\n",
       "| 4 |  4     | 205500 | 1638   | 4      | 2      | 1      | 2      | 0      |\n",
       "| 6 |  6     | 248000 | 1966   | 4      | 3      | 1      | 5      | 1      |\n",
       "| 8 |  8     | 150000 | 1597   | 2      | 1      | 1      | 1      | 0      |\n",
       "| 9 |  9     | 195000 | 1622   | 3      | 2      | 1      | 2      | 0      |\n",
       "| 10 | 10     | 160000 | 1976   | 3      | 3      | 0      | 1      | 0      |\n",
       "| 17 | 17     | 169900 | 1502   | 2      | 2      | 1      | 2      | 0      |\n",
       "| 20 | 20     | 200000 | 1825   | 3      | 3      | 1      | 2      | 0      |\n",
       "| 21 | 21     | 211000 | 1578   | 4      | 3      | 1      | 2      | 0      |\n",
       "| 22 | 22     | 212000 | 1763   | 3      | 3      | 1      | 2      | 0      |\n",
       "| 24 | 24     | 140400 | 1872   | 3      | 2      | 1      | 2      | 0      |\n",
       "| 26 | 26     | 170900 | 2020   | 1      | 2      | 1      | 1      | 0      |\n",
       "| 31 | 31     | 164500 | 1460   | 3      | 2      | 1      | 2      | 0      |\n",
       "| 36 | 36     | 157500 | 1980   | 3      | 2      | 1      | 2      | 0      |\n",
       "| 39 | 39     | 178000 | 1460   | 4      | 2      | 1      | 2      | 0      |\n",
       "| 40 | 40     | 171900 | 1580   | 2      | 1      | 0      | 1      | 0      |\n",
       "| 41 | 41     | 165500 | 1460   | 3      | 2      | 1      | 2      | 0      |\n",
       "| 42 | 42     | 183500 | 1540   | 3      | 2      | 1      | 2      | 0      |\n",
       "| 43 | 43     | 135000 | 1388   | 2      | 1      | 0      | 2      | 0      |\n",
       "| 44 | 44     | 175000 | 1624   | 3      | 2      | 1      | 2      | 0      |\n",
       "| 45 | 45     | 149500 | 1580   | 2      | 1      | 1      | 2      | 0      |\n",
       "| 46 | 46     | 177500 | 1820   | 3      | 2      | 1      | 2      | 0      |\n",
       "| 47 | 47     | 155000 | 1733   | 4      | 1      | 1      | 1      | 0      |\n",
       "| 48 | 48     | 145000 | 1896   | 3      | 2      | 0      | 2      | 0      |\n",
       "| 49 | 49     | 178000 | 2038   | 2      | 2      | 0      | 2      | 0      |\n",
       "| 50 | 50     | 156000 | 1436   | 3      | 2      | 0      | 3      | 0      |\n",
       "| 51 | 51     | 159000 | 1690   | 3      | 2      | 0      | 1      | 0      |\n",
       "| 52 | 52     | 160000 | 1496   | 2      | 2      | 0      | 1      | 0      |\n",
       "| 53 | 53     | 112000 | 1668   | 2      | 1      | 0      | 1      | 0      |\n",
       "| ... | ... | ... | ... | ... | ... | ... | ... | ... |\n",
       "| 492 | 492    | 158000 | 1604   | 3      | 2      | 1      | 1      | 0      |\n",
       "| 493 | 493    | 175000 | 2035   | 4      | 2      | 1      | 3      | 0      |\n",
       "| 494 | 494    | 147000 | 1534   | 3      | 2      | 0      | 1      | 0      |\n",
       "| 495 | 495    | 155000 | 1624   | 2      | 2      | 1      | 2      | 0      |\n",
       "| 496 | 496    | 150000 | 1700   | 4      | 2      | 1      | 1      | 0      |\n",
       "| 497 | 497    | 165000 | 1630   | 3      | 2      | 1      | 2      | 0      |\n",
       "| 498 | 498    | 147000 | 1526   | 3      | 2      | 1      | 1      | 0      |\n",
       "| 499 | 499    | 146250 | 1672   | 3      | 1      | 1      | 2      | 0      |\n",
       "| 500 | 500    | 177500 | 1588   | 4      | 2      | 1      | 2      | 0      |\n",
       "| 501 | 501    | 153650 | 1752   | 4      | 2      | 1      | 2      | 0      |\n",
       "| 502 | 502    | 199500 | 1674   | 4      | 2      | 0      | 2      | 0      |\n",
       "| 503 | 503    | 186000 | 1980   | 3      | 1      | 0      | 1      | 0      |\n",
       "| 504 | 504    | 139900 | 1396   | 1      | 1      | 0      | 2      | 0      |\n",
       "| 505 | 505    | 160000 | 1178   | 1      | 1      | 0      | 2      | 0      |\n",
       "| 506 | 506    | 125000 | 1263   | 2      | 2      | 0      | 0      | 0      |\n",
       "| 508 | 508    | 184500 | 1304   | 3      | 1      | 1      | 2      | 0      |\n",
       "| 509 | 509    | 155000 | 1340   | 3      | 1      | 0      | 0      | 0      |\n",
       "| 510 | 510    | 150000 | 1559   | 2      | 1      | 0      | 2      | 0      |\n",
       "| 511 | 511    | 146000 | 1412   | 1      | 2      | 1      | 0      | 0      |\n",
       "| 512 | 512    | 129000 | 1198   | 2      | 2      | 1      | 2      | 0      |\n",
       "| 513 | 513    | 145000 | 1424   | 2      | 1      | 1      | 2      | 0      |\n",
       "| 514 | 514    | 200000 | 1370   | 4      | 1      | 0      | 1      | 0      |\n",
       "| 515 | 515    | 149900 | 1584   | 3      | 2      | 1      | 2      | 0      |\n",
       "| 516 | 516    | 132000 | 1567   | 2      | 1      | 1      | 1      | 0      |\n",
       "| 517 | 517    | 136900 | 1409   | 2      | 1      | 0      | 1      | 0      |\n",
       "| 518 | 518    | 137000 | 1655   | 2      | 1      | 0      | 1      | 0      |\n",
       "| 519 | 519    | 185000 | 1944   | 3      | 2      | 1      | 2      | 0      |\n",
       "| 520 | 520    | 133500 | 1922   | 3      | 1      | 0      | 2      | 0      |\n",
       "| 521 | 521    | 124000 | 1480   | 3      | 2      | 1      | 2      | 0      |\n",
       "| 522 | 522    |  95500 | 1184   | 2      | 1      | 0      | 1      | 0      |\n",
       "\n"
      ],
      "text/plain": [
       "    ID  Price  Sqft Bedroom Bathroom Airconditioning Garage Pool\n",
       "2    2  340000 2058 4       2        1               2      0   \n",
       "3    3  250000 1780 4       3        1               2      0   \n",
       "4    4  205500 1638 4       2        1               2      0   \n",
       "6    6  248000 1966 4       3        1               5      1   \n",
       "8    8  150000 1597 2       1        1               1      0   \n",
       "9    9  195000 1622 3       2        1               2      0   \n",
       "10  10  160000 1976 3       3        0               1      0   \n",
       "17  17  169900 1502 2       2        1               2      0   \n",
       "20  20  200000 1825 3       3        1               2      0   \n",
       "21  21  211000 1578 4       3        1               2      0   \n",
       "22  22  212000 1763 3       3        1               2      0   \n",
       "24  24  140400 1872 3       2        1               2      0   \n",
       "26  26  170900 2020 1       2        1               1      0   \n",
       "31  31  164500 1460 3       2        1               2      0   \n",
       "36  36  157500 1980 3       2        1               2      0   \n",
       "39  39  178000 1460 4       2        1               2      0   \n",
       "40  40  171900 1580 2       1        0               1      0   \n",
       "41  41  165500 1460 3       2        1               2      0   \n",
       "42  42  183500 1540 3       2        1               2      0   \n",
       "43  43  135000 1388 2       1        0               2      0   \n",
       "44  44  175000 1624 3       2        1               2      0   \n",
       "45  45  149500 1580 2       1        1               2      0   \n",
       "46  46  177500 1820 3       2        1               2      0   \n",
       "47  47  155000 1733 4       1        1               1      0   \n",
       "48  48  145000 1896 3       2        0               2      0   \n",
       "49  49  178000 2038 2       2        0               2      0   \n",
       "50  50  156000 1436 3       2        0               3      0   \n",
       "51  51  159000 1690 3       2        0               1      0   \n",
       "52  52  160000 1496 2       2        0               1      0   \n",
       "53  53  112000 1668 2       1        0               1      0   \n",
       "... ... ...    ...  ...     ...      ...             ...    ... \n",
       "492 492 158000 1604 3       2        1               1      0   \n",
       "493 493 175000 2035 4       2        1               3      0   \n",
       "494 494 147000 1534 3       2        0               1      0   \n",
       "495 495 155000 1624 2       2        1               2      0   \n",
       "496 496 150000 1700 4       2        1               1      0   \n",
       "497 497 165000 1630 3       2        1               2      0   \n",
       "498 498 147000 1526 3       2        1               1      0   \n",
       "499 499 146250 1672 3       1        1               2      0   \n",
       "500 500 177500 1588 4       2        1               2      0   \n",
       "501 501 153650 1752 4       2        1               2      0   \n",
       "502 502 199500 1674 4       2        0               2      0   \n",
       "503 503 186000 1980 3       1        0               1      0   \n",
       "504 504 139900 1396 1       1        0               2      0   \n",
       "505 505 160000 1178 1       1        0               2      0   \n",
       "506 506 125000 1263 2       2        0               0      0   \n",
       "508 508 184500 1304 3       1        1               2      0   \n",
       "509 509 155000 1340 3       1        0               0      0   \n",
       "510 510 150000 1559 2       1        0               2      0   \n",
       "511 511 146000 1412 1       2        1               0      0   \n",
       "512 512 129000 1198 2       2        1               2      0   \n",
       "513 513 145000 1424 2       1        1               2      0   \n",
       "514 514 200000 1370 4       1        0               1      0   \n",
       "515 515 149900 1584 3       2        1               2      0   \n",
       "516 516 132000 1567 2       1        1               1      0   \n",
       "517 517 136900 1409 2       1        0               1      0   \n",
       "518 518 137000 1655 2       1        0               1      0   \n",
       "519 519 185000 1944 3       2        1               2      0   \n",
       "520 520 133500 1922 3       1        0               2      0   \n",
       "521 521 124000 1480 3       2        1               2      0   \n",
       "522 522  95500 1184 2       1        0               1      0   "
      ]
     },
     "metadata": {},
     "output_type": "display_data"
    }
   ],
   "source": [
    "med_sqft = median(house2$Sqft, na.RM=TRUE)\n",
    "House_Small = house2[house2$Sqft < med_sqft,]\n",
    "House_Small"
   ]
  },
  {
   "cell_type": "markdown",
   "metadata": {
    "id": "zFSH7bqC9eIC",
    "nbgrader": {
     "grade": false,
     "grade_id": "cell-2a06e6356722a5fd",
     "locked": true,
     "schema_version": 3,
     "solution": false,
     "task": false
    }
   },
   "source": [
    "**B.1 (d) [4 points] What is the mean house price (across all variables, in `house2`)? Store your answer in `average_price`**"
   ]
  },
  {
   "cell_type": "code",
   "execution_count": 6,
   "metadata": {
    "id": "nTEE0E4v9eIC",
    "nbgrader": {
     "grade": false,
     "grade_id": "cell-bcad8e615f4542c1",
     "locked": false,
     "schema_version": 3,
     "solution": true,
     "task": false
    }
   },
   "outputs": [
    {
     "data": {
      "text/html": [
       "277894.147509579"
      ],
      "text/latex": [
       "277894.147509579"
      ],
      "text/markdown": [
       "277894.147509579"
      ],
      "text/plain": [
       "[1] 277894.1"
      ]
     },
     "metadata": {},
     "output_type": "display_data"
    }
   ],
   "source": [
    "average_price = mean(house2$Price, na.rm = TRUE)\n",
    "average_price"
   ]
  },
  {
   "cell_type": "markdown",
   "metadata": {
    "id": "xrvzb30F9eID",
    "nbgrader": {
     "grade": false,
     "grade_id": "cell-d6d1705652ec453c",
     "locked": true,
     "schema_version": 3,
     "solution": false,
     "task": false
    }
   },
   "source": [
    "**B.1 (e) [4 points] What is the average house price for houses with a pool (again, using `house2`)? Store your answer in `average_price_pool`.**"
   ]
  },
  {
   "cell_type": "code",
   "execution_count": 7,
   "metadata": {
    "id": "XuBYIbUD9eID",
    "nbgrader": {
     "grade": false,
     "grade_id": "cell-4f704f6477209fa6",
     "locked": false,
     "schema_version": 3,
     "solution": true,
     "task": false
    }
   },
   "outputs": [
    {
     "data": {
      "text/html": [
       "352120.277777778"
      ],
      "text/latex": [
       "352120.277777778"
      ],
      "text/markdown": [
       "352120.277777778"
      ],
      "text/plain": [
       "[1] 352120.3"
      ]
     },
     "metadata": {},
     "output_type": "display_data"
    }
   ],
   "source": [
    "House_pool = house2[house2$Pool == 1,]\n",
    "average_price_pool = mean(House_pool$Price, na.rm = TRUE)\n",
    "average_price_pool"
   ]
  },
  {
   "cell_type": "markdown",
   "metadata": {
    "id": "zOX2IZ1i9eID",
    "nbgrader": {
     "grade": false,
     "grade_id": "cell-16b8ab21b124d2eb",
     "locked": true,
     "schema_version": 3,
     "solution": false,
     "task": false
    }
   },
   "source": [
    "**B.1 (f) [5 points] Compare the average house price for houses with a pool to the average house price for houses without a pool. Which is larger?**\n",
    "\n",
    "**Based on the data alone, can you draw any *causal* conclusions about the effect of a pool on the price of a home? Why or why not?**"
   ]
  },
  {
   "cell_type": "code",
   "execution_count": 8,
   "metadata": {
    "nbgrader": {
     "grade": true,
     "grade_id": "cell-7c3c53cc51564e18",
     "locked": false,
     "points": 2,
     "schema_version": 3,
     "solution": true,
     "task": false
    }
   },
   "outputs": [
    {
     "data": {
      "text/html": [
       "272395.91563786"
      ],
      "text/latex": [
       "272395.91563786"
      ],
      "text/markdown": [
       "272395.91563786"
      ],
      "text/plain": [
       "[1] 272395.9"
      ]
     },
     "metadata": {},
     "output_type": "display_data"
    },
    {
     "data": {
      "text/html": [
       "352120.277777778"
      ],
      "text/latex": [
       "352120.277777778"
      ],
      "text/markdown": [
       "352120.277777778"
      ],
      "text/plain": [
       "[1] 352120.3"
      ]
     },
     "metadata": {},
     "output_type": "display_data"
    }
   ],
   "source": [
    "House_without_pool = house2[house2$Pool == 0,]\n",
    "average_price_without_pool = mean(House_without_pool$Price, na.rm = TRUE)\n",
    "average_price_without_pool\n",
    "average_price_pool"
   ]
  },
  {
   "cell_type": "markdown",
   "metadata": {
    "nbgrader": {
     "grade": true,
     "grade_id": "cell-11711f928e4a8014",
     "locked": false,
     "points": 3,
     "schema_version": 3,
     "solution": true,
     "task": false
    }
   },
   "source": [
    "The average price of houses with a pool is higher than that of houses without a pool. However, we cannot conclude that the pool alone is responsible for the price difference. Other factors, such as square footage, number of bedrooms, bathrooms, and more, also influence the price. Therefore, we cannot make a causal conclusion based on this data alone."
   ]
  },
  {
   "cell_type": "markdown",
   "metadata": {
    "id": "mUAqUY2E9eIE",
    "nbgrader": {
     "grade": false,
     "grade_id": "cell-36791f2648b5d267",
     "locked": true,
     "schema_version": 3,
     "solution": false,
     "task": false
    }
   },
   "source": [
    "## Problem B.2 [5 points]\n",
    "\n",
    "Verify the results of Problem A.1, parts (c) and (d), by simulating $x_1,...,x_{50}$ from `rnorm(50,5,1)` and performing the relevant computations. "
   ]
  },
  {
   "cell_type": "code",
   "execution_count": 9,
   "metadata": {
    "id": "sYTz818R9eIE",
    "nbgrader": {
     "grade": true,
     "grade_id": "cell-a6e2726847e2f04d",
     "locked": false,
     "points": 5,
     "schema_version": 3,
     "solution": true,
     "task": false
    }
   },
   "outputs": [
    {
     "name": "stdout",
     "output_type": "stream",
     "text": [
      "BY PROPERTY (s_y_square = s_x_square) where (y = x - x_bar)\n",
      "Sample Variance of y: 1.040106\n",
      "Sample Variance of x: 1.040106\n",
      " The sample variance of x and y is equal by the rule of A.1 part(c)\n",
      "\n",
      "\n",
      " BY PROPERTY (s_z = 1 & s_z_square = 1) where [z = (x - x_bar)/s_x]\n",
      "Sample Variance of z: 1\n",
      "Sample Standard Deviation of z: 1\n",
      "The sample variance of z and Sample standard deviation of z is equal to 1 by the rule of A.1 part(d)"
     ]
    }
   ],
   "source": [
    "set.seed(99)\n",
    "x = rnorm(50,5,1)\n",
    "\n",
    "cat(\"BY PROPERTY (s_y_square = s_x_square) where (y = x - x_bar)\")\n",
    "\n",
    "x_bar = mean(x)\n",
    "y = x - x_bar\n",
    "s_y_square = var(y)\n",
    "cat(\"\\nSample Variance of y:\",s_y_square)\n",
    "s_x_square = var(x)\n",
    "cat(\"\\nSample Variance of x:\",s_x_square)\n",
    "cat(\"\\n The sample variance of x and y is equal by the rule of A.1 part(c)\")\n",
    "\n",
    "cat(\"\\n\\n\\n BY PROPERTY (s_z = 1 & s_z_square = 1) where [z = (x - x_bar)/s_x]\")\n",
    "\n",
    "s_x=sd(x)\n",
    "z = (x-x_bar)/s_x\n",
    "s_z_square = var(z)\n",
    "s_z = sd(z)\n",
    "cat(\"\\nSample Variance of z:\",s_z_square)\n",
    "cat(\"\\nSample Standard Deviation of z:\",s_z)\n",
    "cat(\"\\nThe sample variance of z and Sample standard deviation of z is equal to 1 by the rule of A.1 part(d)\")"
   ]
  },
  {
   "cell_type": "markdown",
   "metadata": {
    "id": "u1lda-Qs9eIE",
    "nbgrader": {
     "grade": false,
     "grade_id": "cell-dc6b4bbcb85453f1",
     "locked": true,
     "schema_version": 3,
     "solution": false,
     "task": false
    }
   },
   "source": [
    "## Problem B.3: Graphical Summaries\n",
    "\n",
    "\n",
    "The dataset for this question contains information on 522 homes for sale (the same dataset as in B.1). The variables are:\n",
    "\n",
    "1. `ID`: house ID nubmer\n",
    "2. `Price`: the sale price of the house\n",
    "3. `Sqft`: the size of the house in square feet\n",
    "4. `Bedroom`: the number of bedrooms in the house\n",
    "5. `Bathroom`: the number of bathrooms in the house\n",
    "6. `Airconditioning`: whether the house has air conditioning or not (`0` is no, `1` is yes)\n",
    "7. `Garage`: the number of garages associated with the house\n",
    "8. `Pool`: whether the house has a pool (`0` is no, `1` is yes)\n",
    "9. other variables that we won't use!\n",
    "\n",
    "Use the `house2` version of this dataset that you created in B.1."
   ]
  },
  {
   "cell_type": "markdown",
   "metadata": {
    "id": "JUWj7Bx19eIG",
    "nbgrader": {
     "grade": false,
     "grade_id": "cell-d0a60e443227b160",
     "locked": true,
     "schema_version": 3,
     "solution": false,
     "task": false
    }
   },
   "source": [
    "**B.3 (a) [7 points] Create a scatterplot (preferably using `ggplot`, though you can earn full credit with a basic plot) of `Price` (vertical axis) against `Sqft` (horizontal axis). Use the plot to describe the relationship between these two variables.**"
   ]
  },
  {
   "cell_type": "code",
   "execution_count": 12,
   "metadata": {
    "id": "Evav6sy49eIG",
    "nbgrader": {
     "grade": true,
     "grade_id": "cell-3557afa344607962",
     "locked": false,
     "points": 4,
     "schema_version": 3,
     "solution": true,
     "task": false
    }
   },
   "outputs": [
    {
     "data": {
      "image/png": "[encoded data removed]",
      "text/plain": [
       "Plot with title \"Scatter plot of Price vs Sqft.\""
      ]
     },
     "metadata": {},
     "output_type": "display_data"
    }
   ],
   "source": [
    "library(ggplot2)\n",
    "plot(house2$Sqft, house2$Price, main=\"Scatter plot of Price vs Sqft.\" ,xlab='Square Foot', ylab='Price', col='darkmagenta') \n"
   ]
  },
  {
   "cell_type": "markdown",
   "metadata": {
    "nbgrader": {
     "grade": true,
     "grade_id": "cell-e00a6b251eed1530",
     "locked": false,
     "points": 3,
     "schema_version": 3,
     "solution": true,
     "task": false
    }
   },
   "source": [
    "This scatter plot represents an upward trend ie. As the Square foot increases the house price also increases. Also, in some points shows as square foot increases and the house price decreases. So, the square foot is not the only factor which decides the house price. There were some outliers in this plot where the house price and square foot is very high that won't be considered for computation."
   ]
  },
  {
   "cell_type": "markdown",
   "metadata": {
    "id": "uE3UI6lY9eIG",
    "nbgrader": {
     "grade": false,
     "grade_id": "cell-8f5e0e6a6204f76b",
     "locked": true,
     "schema_version": 3,
     "solution": false,
     "task": false
    }
   },
   "source": [
    "**B.3 (b) [12 points] Create histograms and characterize the distributions of the variables `Price` and `Sqft`. Are the distributions (i) symmetric/skewed, or (ii) unimodal/multimodal? (iii) Does it have any outliers?**"
   ]
  },
  {
   "cell_type": "code",
   "execution_count": 11,
   "metadata": {
    "id": "yDZ2wqWI9eIG",
    "nbgrader": {
     "grade": true,
     "grade_id": "cell-d1a4afa6e8485d62",
     "locked": false,
     "points": 6,
     "schema_version": 3,
     "solution": true,
     "task": false
    }
   },
   "outputs": [
    {
     "data": {
      "image/png": "[encoded data removed]",
      "text/plain": [
       "Plot with title \"Square Footage of Housing\""
      ]
     },
     "metadata": {},
     "output_type": "display_data"
    }
   ],
   "source": [
    "h = hist(house2$Sqft,\n",
    "    main = \"Square Footage of Housing\",\n",
    "    xlab = \"Square footage of a particular house\",\n",
    "     col= \"cyan\",\n",
    "    freq = NULL,breaks=25)\n"
   ]
  },
  {
   "cell_type": "code",
   "execution_count": 13,
   "metadata": {},
   "outputs": [
    {
     "data": {
      "image/png": "[encoded data removed]",
      "text/plain": [
       "Plot with title \"Price of Houses\""
      ]
     },
     "metadata": {},
     "output_type": "display_data"
    }
   ],
   "source": [
    "h = hist(house2$Price,\n",
    "    main = \"Price of Houses\",\n",
    "    xlab = \"Price\",\n",
    "     col= \"bisque\",\n",
    "    freq = NULL)\n"
   ]
  },
  {
   "cell_type": "markdown",
   "metadata": {
    "nbgrader": {
     "grade": true,
     "grade_id": "cell-b60fb0b520f4a0d6",
     "locked": false,
     "points": 6,
     "schema_version": 3,
     "solution": true,
     "task": false
    }
   },
   "source": [
    "The Square foot histogram is of Right Skewed and Unimodal. There's some potential outliers which is of higher square footage range which is outside of the Interquartile range.\n",
    "\n",
    "The House price histogram is of Right skewed and Unimodal. It's having some outliers which is represented as the tail in the histogram. Some houses is of very higer prices."
   ]
  },
  {
   "cell_type": "markdown",
   "metadata": {
    "id": "YXPsmePY9eIH",
    "nbgrader": {
     "grade": false,
     "grade_id": "cell-b63961f490c85ee0",
     "locked": true,
     "schema_version": 3,
     "solution": false,
     "task": false
    }
   },
   "source": [
    "**B.3(c) [10 points] Create a boxplot of `Price` conditioned on `Bedroom`. Are there any outliers? Does there appear to be a large difference in total price between homes with two bedrooms and homes with three bedrooms?**"
   ]
  },
  {
   "cell_type": "code",
   "execution_count": 13,
   "metadata": {
    "id": "qMx_-FMD9eIH",
    "nbgrader": {
     "grade": true,
     "grade_id": "cell-e5ffc03cf16965db",
     "locked": false,
     "points": 6,
     "schema_version": 3,
     "solution": true,
     "task": false
    }
   },
   "outputs": [
    {
     "data": {
      "image/png": "[encoded data removed]",
      "text/plain": [
       "plot without title"
      ]
     },
     "metadata": {},
     "output_type": "display_data"
    }
   ],
   "source": [
    "box = boxplot(Price ~ Bedroom,\n",
    "              data = house2, \"Box plot of price conditioned on Bedroom\",\n",
    "              xlab = \"Number of Bedrooms\", ylab = 'Price',\n",
    "              col = 'firebrick3')"
   ]
  },
  {
   "cell_type": "markdown",
   "metadata": {
    "nbgrader": {
     "grade": true,
     "grade_id": "cell-7bb35e8725916c64",
     "locked": false,
     "points": 4,
     "schema_version": 3,
     "solution": true,
     "task": false
    }
   },
   "source": [
    "This trend in these boxplots shows that as the number of bedrooms increases, the median prices of houses also increases. Outliers are present mostly in 2,3 and 4 bedroom houses which shows that the prices are extremely high and any other factor may also contribute to that increase in price."
   ]
  },
  {
   "cell_type": "markdown",
   "metadata": {
    "collapsed": true,
    "id": "Tte-cqxT9eIH",
    "jupyter": {
     "outputs_hidden": true
    },
    "nbgrader": {
     "grade": false,
     "grade_id": "cell-b585855443c44d7c",
     "locked": true,
     "schema_version": 3,
     "solution": false,
     "task": false
    }
   },
   "source": [
    "## Problem B.4 (Optional for students in STAT 4000) [13 points]\n",
    "\n",
    "Let's create a variable, `v`, that has a bimodal distribution. To do this, we'll make use of the following functions:\n",
    "\n",
    "- `replicate()`. We used this function in the Introduction to Jupyter and R Notebook from the first week. It's a short way to write loops!\n",
    "- `ifelse()`. This function will provide different tasks based on an output. For example, `ifelse(a < 5, 1, 0)` will output `1` if `a < 5` and `0` otherwise.\n",
    "- `runif(n, 0, 1)`. This function generates `n` random numbers between `0` and `1`.\n",
    "- `rnorm(n,a,b)`. We used this function in the Introduction to Jupyter and R Notebook from the first week. It generates `n` random numbers according to a bell curve, centered over `a`, with \"spread\" `b`\n",
    "\n",
    "Ok, here's how we'll create `v`: \n",
    "\n",
    "1. Generate a single random number between `0` and `1`. \n",
    "2. If the number from the previous step is greater than `0.5`, generate a random number from the bell curve centered at `0` with spread `1`. On the other hand, if the number from the previous step is less than `0.5`, generate a random number from the bell curve centered at `5` with spread `1`.\n",
    "2. Repeat this process `n = 1000` times.\n",
    "\n",
    "Then, create a histogram of `v`, and set `bins = 25`. What do you notice about the distribution?"
   ]
  },
  {
   "cell_type": "code",
   "execution_count": 15,
   "metadata": {
    "nbgrader": {
     "grade": true,
     "grade_id": "cell-a651ab9bb744525a",
     "locked": false,
     "points": 10,
     "schema_version": 3,
     "solution": true,
     "task": false
    }
   },
   "outputs": [],
   "source": [
    "v = replicate(n=1000,{\n",
    "    no <-runif(1,0,1)\n",
    "    ifelse(no>0.5,rnorm(1,0,1),rnorm(1,5,1))\n",
    "                      })"
   ]
  },
  {
   "cell_type": "code",
   "execution_count": 16,
   "metadata": {},
   "outputs": [
    {
     "data": {
      "image/png": "[encoded data removed]",
      "text/plain": [
       "Plot with title \"Histogram of v\""
      ]
     },
     "metadata": {},
     "output_type": "display_data"
    }
   ],
   "source": [
    "hist(v, breaks= 25,include.lowest = TRUE, col='gray')"
   ]
  },
  {
   "cell_type": "markdown",
   "metadata": {},
   "source": [
    "This histogram shows a Bimodal distribution since it's having two peaks. \n",
    "The first distribution is of Mean 0 and Standard Deviation 1 and the second distribution is of Mean 5 and Standard Deviation 1.\n",
    "When the random number generated is greater than that of 0.5 that is assigned in the First Distribution else they were assigned in the Second Distribution."
   ]
  },
  {
   "cell_type": "code",
   "execution_count": null,
   "metadata": {},
   "outputs": [],
   "source": []
  }
 ],
 "metadata": {
  "celltoolbar": "Create Assignment",
  "colab": {
   "name": "hwk1_Sp18_appm4570-computational.ipynb",
   "provenance": []
  },
  "kernelspec": {
   "display_name": "Python 3 (ipykernel)",
   "language": "python",
   "name": "python3"
  },
  "language_info": {
   "codemirror_mode": {
    "name": "ipython",
    "version": 3
   },
   "file_extension": ".py",
   "mimetype": "text/x-python",
   "name": "python",
   "nbconvert_exporter": "python",
   "pygments_lexer": "ipython3",
   "version": "3.12.4"
  }
 },
 "nbformat": 4,
 "nbformat_minor": 4
}

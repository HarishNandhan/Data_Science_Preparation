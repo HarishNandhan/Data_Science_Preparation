{
 "cells": [
  {
   "cell_type": "markdown",
   "metadata": {
    "nbgrader": {
     "cell_type": "markdown",
     "checksum": "be832641f3e685322acafae6145c438e",
     "grade": false,
     "grade_id": "cell-d406ccbe4c3d6257",
     "locked": true,
     "schema_version": 3,
     "solution": false,
     "task": false
    }
   },
   "source": [
    "# Unit 2(a) Classwork\n",
    "\n",
    "The goals of this assignment are to help you (1) calculate probabilities involving random variables using `R`, (2) simulate probabilistic processes, and (3) estimate probabilities through numerical (computer) simulation. Such simulations can be useful. We can use simulations to help confirm that we've calculated a probability \"by hand\" correctly."
   ]
  },
  {
   "cell_type": "markdown",
   "metadata": {
    "nbgrader": {
     "cell_type": "markdown",
     "checksum": "7d2400c4c0d5ef4de68e45194bfc0522",
     "grade": false,
     "grade_id": "cell-288cd5b7254b6c1f",
     "locked": true,
     "schema_version": 3,
     "solution": false,
     "task": false
    }
   },
   "source": [
    "# Problem 1\n",
    "\n",
    "**1.(a) Use `rbinom()` to generate $m = 500$ random numbers from a binomial distribution with $n = 50$ and $p = 0.3$. Store these values in `x`. Describe what $n$ and $p$ are, and state any assumptions needed for the binomial distribution to be an appropriate model.**"
   ]
  },
  {
   "cell_type": "code",
   "execution_count": 24,
   "metadata": {
    "nbgrader": {
     "cell_type": "code",
     "checksum": "2371fbd302d3671df50da84e0493c7d0",
     "grade": true,
     "grade_id": "cell-bf56b9cf77d2339d",
     "locked": false,
     "points": 1,
     "schema_version": 3,
     "solution": true,
     "task": false
    }
   },
   "outputs": [
    {
     "data": {
      "text/html": [
       "<ol class=list-inline>\n",
       "\t<li>9</li>\n",
       "\t<li>15</li>\n",
       "\t<li>15</li>\n",
       "\t<li>18</li>\n",
       "\t<li>18</li>\n",
       "\t<li>18</li>\n",
       "</ol>\n"
      ],
      "text/latex": [
       "\\begin{enumerate*}\n",
       "\\item 9\n",
       "\\item 15\n",
       "\\item 15\n",
       "\\item 18\n",
       "\\item 18\n",
       "\\item 18\n",
       "\\end{enumerate*}\n"
      ],
      "text/markdown": [
       "1. 9\n",
       "2. 15\n",
       "3. 15\n",
       "4. 18\n",
       "5. 18\n",
       "6. 18\n",
       "\n",
       "\n"
      ],
      "text/plain": [
       "[1]  9 15 15 18 18 18"
      ]
     },
     "metadata": {},
     "output_type": "display_data"
    }
   ],
   "source": [
    "m = 500\n",
    "n = 50\n",
    "p = 0.3\n",
    "x = rbinom(m,n,p)\n",
    "head(x)"
   ]
  },
  {
   "cell_type": "markdown",
   "metadata": {
    "nbgrader": {
     "cell_type": "markdown",
     "checksum": "8604ed3bdd72ed50a5dd22a3dcc8d20e",
     "grade": true,
     "grade_id": "cell-eae60e5d48365068",
     "locked": false,
     "points": 1,
     "schema_version": 3,
     "solution": true,
     "task": false
    }
   },
   "source": [
    "'n' represents the number of independent trials.\n",
    "'p' represents the probability of success.\n",
    "\n",
    "Assumptions:\n",
    "- Fixed number of observations\n",
    "- Each and every trial should be independent and it should not affect the outcome of the other.\n",
    "- Every trial should represent any one of the two outcomes either \"Sucess\" or \"Failure\"\n",
    "- The probability of success (p) should be same for all the observations"
   ]
  },
  {
   "cell_type": "markdown",
   "metadata": {
    "nbgrader": {
     "cell_type": "markdown",
     "checksum": "486ec655a3dfe57dc8d72f4a2b30b55a",
     "grade": false,
     "grade_id": "cell-30cd313676119d71",
     "locked": true,
     "schema_version": 3,
     "solution": false,
     "task": false
    }
   },
   "source": [
    "**1.(b) Print a density histogram of `x`. Describe why the distribution looks the way that it does. Print the mean of `x`. Is it what you might expect? Print the standard deviation of `x`.**"
   ]
  },
  {
   "cell_type": "code",
   "execution_count": 25,
   "metadata": {
    "nbgrader": {
     "cell_type": "code",
     "checksum": "b49fca7814bf679a950cd0a0900aaf88",
     "grade": true,
     "grade_id": "cell-6ae5fbec087a6c8f",
     "locked": false,
     "points": 1,
     "schema_version": 3,
     "solution": true,
     "task": false
    }
   },
   "outputs": [
    {
     "data": {
      "text/html": [
       "14.82"
      ],
      "text/latex": [
       "14.82"
      ],
      "text/markdown": [
       "14.82"
      ],
      "text/plain": [
       "[1] 14.82"
      ]
     },
     "metadata": {},
     "output_type": "display_data"
    },
    {
     "data": {
      "text/html": [
       "3.4133417355441"
      ],
      "text/latex": [
       "3.4133417355441"
      ],
      "text/markdown": [
       "3.4133417355441"
      ],
      "text/plain": [
       "[1] 3.413342"
      ]
     },
     "metadata": {},
     "output_type": "display_data"
    },
    {
     "data": {
      "image/png": "[encoded data removed]",
      "text/plain": [
       "Plot with title \"Histogram of x\""
      ]
     },
     "metadata": {},
     "output_type": "display_data"
    }
   ],
   "source": [
    "hist(x,freq=FALSE, col='coral')\n",
    "x_bar = mean(x)\n",
    "x_bar\n",
    "std_dev = sd(x)\n",
    "std_dev"
   ]
  },
  {
   "cell_type": "markdown",
   "metadata": {},
   "source": [
    "Here the distribution looks symmetric and it represents the curve like a normal distribution one."
   ]
  },
  {
   "cell_type": "markdown",
   "metadata": {
    "nbgrader": {
     "cell_type": "markdown",
     "checksum": "68ba97644055ed03fc450140fb0a0277",
     "grade": false,
     "grade_id": "cell-ae74aeeff7a9d972",
     "locked": true,
     "schema_version": 3,
     "solution": false,
     "task": false
    }
   },
   "source": [
    "**1.(c) Rerun the code above (parts (a) and (b)). What do you notice about the histogram and the values for the mean and standard deviation?**"
   ]
  },
  {
   "cell_type": "markdown",
   "metadata": {
    "nbgrader": {
     "cell_type": "markdown",
     "checksum": "1fcbfe08cb776b90e00da38c71b065c7",
     "grade": true,
     "grade_id": "cell-5c6c947cf25b55df",
     "locked": false,
     "points": 0,
     "schema_version": 3,
     "solution": true,
     "task": false
    }
   },
   "source": [
    "The histogram shows a symmetric Unimodal distribution, the mean is used to analyze the middle point of the histogram (mean here at Binomial distribution is n*p = 15(~approx.) and the standard deviation comes around 3.25 which is the sqrt. of variance which has the formula of n*p*q in binomial distribution."
   ]
  },
  {
   "cell_type": "markdown",
   "metadata": {
    "nbgrader": {
     "cell_type": "markdown",
     "checksum": "7aa811077a3fbbfcb2290df2a468bc33",
     "grade": false,
     "grade_id": "cell-6a99816deb5e82c4",
     "locked": true,
     "schema_version": 3,
     "solution": false,
     "task": false
    }
   },
   "source": [
    "**1.(d) Rewrite the code from (a) and (b) below, but insert `set.seed(92)` at the top of the cell. Run this code several times. What do you notice now? Change the number `92` to something else and run the code twice. What do you notice? What is `set.seed()` doing?**"
   ]
  },
  {
   "cell_type": "code",
   "execution_count": 26,
   "metadata": {
    "nbgrader": {
     "cell_type": "code",
     "checksum": "b20828f4b04317d093e8e2d025f7d2bd",
     "grade": true,
     "grade_id": "cell-b481f3510d15425d",
     "locked": false,
     "points": 1,
     "schema_version": 3,
     "solution": true,
     "task": false
    }
   },
   "outputs": [
    {
     "data": {
      "text/html": [
       "<ol class=list-inline>\n",
       "\t<li>15</li>\n",
       "\t<li>14</li>\n",
       "\t<li>14</li>\n",
       "\t<li>15</li>\n",
       "\t<li>13</li>\n",
       "\t<li>13</li>\n",
       "</ol>\n"
      ],
      "text/latex": [
       "\\begin{enumerate*}\n",
       "\\item 15\n",
       "\\item 14\n",
       "\\item 14\n",
       "\\item 15\n",
       "\\item 13\n",
       "\\item 13\n",
       "\\end{enumerate*}\n"
      ],
      "text/markdown": [
       "1. 15\n",
       "2. 14\n",
       "3. 14\n",
       "4. 15\n",
       "5. 13\n",
       "6. 13\n",
       "\n",
       "\n"
      ],
      "text/plain": [
       "[1] 15 14 14 15 13 13"
      ]
     },
     "metadata": {},
     "output_type": "display_data"
    },
    {
     "data": {
      "text/html": [
       "14.794"
      ],
      "text/latex": [
       "14.794"
      ],
      "text/markdown": [
       "14.794"
      ],
      "text/plain": [
       "[1] 14.794"
      ]
     },
     "metadata": {},
     "output_type": "display_data"
    },
    {
     "data": {
      "text/html": [
       "3.18808591219985"
      ],
      "text/latex": [
       "3.18808591219985"
      ],
      "text/markdown": [
       "3.18808591219985"
      ],
      "text/plain": [
       "[1] 3.188086"
      ]
     },
     "metadata": {},
     "output_type": "display_data"
    },
    {
     "data": {
      "image/png": "[encoded data removed]",
      "text/plain": [
       "Plot with title \"Histogram of x\""
      ]
     },
     "metadata": {},
     "output_type": "display_data"
    }
   ],
   "source": [
    "set.seed(98)\n",
    "m = 500\n",
    "n = 50\n",
    "p = 0.3\n",
    "x = rbinom(m,n,p)\n",
    "head(x)\n",
    "hist(x,freq=FALSE, col='coral')\n",
    "x_bar = mean(x)\n",
    "x_bar\n",
    "std_dev = sd(x)\n",
    "std_dev"
   ]
  },
  {
   "cell_type": "markdown",
   "metadata": {
    "nbgrader": {
     "cell_type": "markdown",
     "checksum": "46c3c708b68d75ca778adc453782e42f",
     "grade": true,
     "grade_id": "cell-ad595858ba5d1c4d",
     "locked": false,
     "points": 1,
     "schema_version": 3,
     "solution": true,
     "task": false
    }
   },
   "source": [
    "set.seed('any number') allows us to generate the same sequence multiple number of times by fixing the outcome to a specific seed value. \n",
    "When I tried to run by fixing set.seed(92) I got the same value multiple times and when I changed it to another no. ie)98 I got a different value and it's definitely depends upon the radomly generated values but when we use set.seed() we will get fixed set of outcomes."
   ]
  },
  {
   "cell_type": "markdown",
   "metadata": {
    "nbgrader": {
     "cell_type": "markdown",
     "checksum": "6b29adbcbcf06a0eed5e12bced49496d",
     "grade": false,
     "grade_id": "cell-b727705644555428",
     "locked": true,
     "schema_version": 3,
     "solution": false,
     "task": false
    }
   },
   "source": [
    "**1.(e) By changing $n$ and $p$ (and perhaps $m$), try to come up with a formula for the mean value of the randomly generated binomial numbers. How about for the standard deviation?** *Hint: try finding a formula for the variance before trying to find one for the standard deviation.*"
   ]
  },
  {
   "cell_type": "markdown",
   "metadata": {
    "nbgrader": {
     "cell_type": "markdown",
     "checksum": "059541f64b6c2712aab600a128508602",
     "grade": true,
     "grade_id": "cell-0cb15472402dfb50",
     "locked": false,
     "points": 1,
     "schema_version": 3,
     "solution": true,
     "task": false
    }
   },
   "source": [
    "- mean = np\n",
    "- std_dev = sqrt(np(1-p))"
   ]
  },
  {
   "cell_type": "markdown",
   "metadata": {
    "nbgrader": {
     "cell_type": "markdown",
     "checksum": "500df368e4917ce0c504c00cd88d4b51",
     "grade": false,
     "grade_id": "cell-916e9d10a8a5398e",
     "locked": true,
     "schema_version": 3,
     "solution": false,
     "task": false
    }
   },
   "source": [
    "# Problem 2\n",
    "\n",
    "**2.(a) Let $X \\sim Bin(50, 0.3)$. Use  `dbinom()` to find   `y` $= P(X = x)$ for all possible values of $x$ (you don't need a loop here!). Plot `y`. What do you notice?**"
   ]
  },
  {
   "cell_type": "code",
   "execution_count": 29,
   "metadata": {},
   "outputs": [
    {
     "data": {
      "image/png": "[encoded data removed]",
      "text/plain": [
       "plot without title"
      ]
     },
     "metadata": {},
     "output_type": "display_data"
    }
   ],
   "source": [
    "y = dbinom(x,n,p)\n",
    "plot(x,y,type=\"p\")"
   ]
  },
  {
   "cell_type": "markdown",
   "metadata": {},
   "source": [
    "Here the dbinom generated the probability density function of the binomial distribution and here I noticed a symmetric distribution"
   ]
  },
  {
   "cell_type": "markdown",
   "metadata": {
    "nbgrader": {
     "cell_type": "markdown",
     "checksum": "cb5e7419882dbf5f592f2ccdd552412d",
     "grade": false,
     "grade_id": "cell-5d7a25756507d351",
     "locked": true,
     "schema_version": 3,
     "solution": false,
     "task": false
    }
   },
   "source": [
    "**2.(b) Let $X \\sim Bin(50, 0.3)$. Calculate the CDF evaluated at $10$, i.e., $F(10)$, in two ways: (1) using `pbinom()` and (2) using `dbinom()`.**"
   ]
  },
  {
   "cell_type": "code",
   "execution_count": 11,
   "metadata": {
    "nbgrader": {
     "cell_type": "code",
     "checksum": "489eb091381203ca7dcaeedb83a34640",
     "grade": true,
     "grade_id": "cell-73a9e93ed653850b",
     "locked": false,
     "points": 1,
     "schema_version": 3,
     "solution": true,
     "task": false
    }
   },
   "outputs": [
    {
     "data": {
      "text/html": [
       "0.0788506248230563"
      ],
      "text/latex": [
       "0.0788506248230563"
      ],
      "text/markdown": [
       "0.0788506248230563"
      ],
      "text/plain": [
       "[1] 0.07885062"
      ]
     },
     "metadata": {},
     "output_type": "display_data"
    }
   ],
   "source": [
    "pbinom(10,n,p)"
   ]
  },
  {
   "cell_type": "code",
   "execution_count": 22,
   "metadata": {},
   "outputs": [
    {
     "data": {
      "text/html": [
       "0.0788506248230564"
      ],
      "text/latex": [
       "0.0788506248230564"
      ],
      "text/markdown": [
       "0.0788506248230564"
      ],
      "text/plain": [
       "[1] 0.07885062"
      ]
     },
     "metadata": {},
     "output_type": "display_data"
    }
   ],
   "source": [
    "sum(dbinom(0:10,n,p))"
   ]
  },
  {
   "cell_type": "markdown",
   "metadata": {
    "nbgrader": {
     "cell_type": "markdown",
     "checksum": "9644fa49125504a0f59afe29da9d0259",
     "grade": false,
     "grade_id": "cell-27c05829e8e07c3d",
     "locked": true,
     "schema_version": 3,
     "solution": false,
     "task": false
    }
   },
   "source": [
    "# Problem 3\n",
    "\n",
    "**3.(a) Generate $m = 500$ random numbers from a geometric distribution where $p = 0.5$. Store these values in `x`. Describe what $p$ is, and state any assumptions needed for the geometric distribution to be used as a model. Print a density histogram of `x`. Describe why the distribution looks the way that it does. In particular, why are there so few numbers greater than $5$ or $6$?**"
   ]
  },
  {
   "cell_type": "code",
   "execution_count": 46,
   "metadata": {
    "nbgrader": {
     "cell_type": "code",
     "checksum": "f565e046d405b1165e872d1cd3ddc086",
     "grade": true,
     "grade_id": "cell-f951d14c748547ac",
     "locked": false,
     "points": 1,
     "schema_version": 3,
     "solution": true,
     "task": false
    }
   },
   "outputs": [
    {
     "data": {
      "image/png": "[encoded data removed]",
      "text/plain": [
       "Plot with title \"Histogram of x\""
      ]
     },
     "metadata": {},
     "output_type": "display_data"
    }
   ],
   "source": [
    "x = rgeom(500,0.5)\n",
    "hist(x,prob=TRUE,col='coral')"
   ]
  },
  {
   "cell_type": "markdown",
   "metadata": {},
   "source": [
    "'p' represents the probability of success of any given observations\n",
    "This distribution is right skewed since the geometric distribution models the no. of failures before the first success in a series of bernoulli trials.\n",
    "Assumptions:\n",
    "- Each and every trial should be independent\n",
    "- Each trail is a bernoulli random variable with probability of success p.\n",
    "- The probability of success should remain constant across all the observations\n",
    "  Here, the number of failures decreases after achieving the first success (the distribution had the probability of 0.5),  since it achieved a first success so the suceessive failures after that will decrease. "
   ]
  },
  {
   "cell_type": "markdown",
   "metadata": {
    "nbgrader": {
     "cell_type": "markdown",
     "checksum": "0411a98a93d2b55cf6bcfd239c7fb5f2",
     "grade": false,
     "grade_id": "cell-e9e218b98bb0732f",
     "locked": true,
     "schema_version": 3,
     "solution": false,
     "task": false
    }
   },
   "source": [
    "**3.(b) Note that we can work with the Poisson distribution using `rpois()`. Generate a matrix with $m = 200$ rows and $n = 5$ columns. In the first column, generate $m$ random numbers from the Poisson with $\\lambda = 5$. In the second column, generate $m$ random numbers from the Poisson with $\\lambda = 10$, and so on, until the last column where $\\lambda = 25$. Plot each column. How does the distribution change as $\\lambda$ changes?**"
   ]
  },
  {
   "cell_type": "code",
   "execution_count": 54,
   "metadata": {
    "nbgrader": {
     "cell_type": "code",
     "checksum": "93b5859f5d9d0215244fcb97766349ab",
     "grade": true,
     "grade_id": "cell-41bb7ff8f1a05cbf",
     "locked": false,
     "points": 1,
     "schema_version": 3,
     "solution": true,
     "task": false
    }
   },
   "outputs": [],
   "source": [
    "M = 200"
   ]
  },
  {
   "cell_type": "code",
   "execution_count": 55,
   "metadata": {},
   "outputs": [],
   "source": [
    "x = cbind(\n",
    "    rpois(M,5),\n",
    "    rpois(M,10),\n",
    "    rpois(M,15),\n",
    "    rpois(M,20),\n",
    "    rpois(M,25)\n",
    ")"
   ]
  },
  {
   "cell_type": "code",
   "execution_count": 56,
   "metadata": {},
   "outputs": [
    {
     "data": {
      "text/html": [
       "<table>\n",
       "<tbody>\n",
       "\t<tr><td>7 </td><td>11</td><td>18</td><td>25</td><td>20</td></tr>\n",
       "\t<tr><td>1 </td><td> 6</td><td>13</td><td>21</td><td>24</td></tr>\n",
       "\t<tr><td>6 </td><td> 6</td><td>15</td><td>26</td><td>23</td></tr>\n",
       "\t<tr><td>9 </td><td>10</td><td>11</td><td>23</td><td>26</td></tr>\n",
       "\t<tr><td>8 </td><td> 8</td><td>15</td><td>26</td><td>28</td></tr>\n",
       "\t<tr><td>8 </td><td>12</td><td>18</td><td>22</td><td>25</td></tr>\n",
       "\t<tr><td>6 </td><td>10</td><td>13</td><td>11</td><td>18</td></tr>\n",
       "\t<tr><td>3 </td><td>11</td><td>17</td><td>18</td><td>32</td></tr>\n",
       "\t<tr><td>5 </td><td>13</td><td>19</td><td>14</td><td>33</td></tr>\n",
       "\t<tr><td>3 </td><td>10</td><td>12</td><td>14</td><td>27</td></tr>\n",
       "\t<tr><td>6 </td><td> 7</td><td>14</td><td>18</td><td>33</td></tr>\n",
       "\t<tr><td>5 </td><td>11</td><td>19</td><td>19</td><td>31</td></tr>\n",
       "\t<tr><td>4 </td><td>15</td><td>13</td><td>15</td><td>20</td></tr>\n",
       "\t<tr><td>1 </td><td> 7</td><td>13</td><td>28</td><td>24</td></tr>\n",
       "\t<tr><td>4 </td><td> 6</td><td>18</td><td>10</td><td>31</td></tr>\n",
       "\t<tr><td>1 </td><td> 7</td><td>22</td><td>23</td><td>27</td></tr>\n",
       "\t<tr><td>1 </td><td> 9</td><td>19</td><td>23</td><td>14</td></tr>\n",
       "\t<tr><td>6 </td><td>15</td><td>13</td><td>26</td><td>19</td></tr>\n",
       "\t<tr><td>9 </td><td>11</td><td>13</td><td>20</td><td>33</td></tr>\n",
       "\t<tr><td>4 </td><td>11</td><td>15</td><td>19</td><td>27</td></tr>\n",
       "\t<tr><td>6 </td><td> 9</td><td>20</td><td>23</td><td>20</td></tr>\n",
       "\t<tr><td>3 </td><td> 8</td><td>14</td><td> 9</td><td>27</td></tr>\n",
       "\t<tr><td>7 </td><td>13</td><td>18</td><td>11</td><td>16</td></tr>\n",
       "\t<tr><td>5 </td><td> 6</td><td>16</td><td>17</td><td>19</td></tr>\n",
       "\t<tr><td>4 </td><td>12</td><td>14</td><td>14</td><td>37</td></tr>\n",
       "\t<tr><td>3 </td><td>10</td><td>14</td><td>19</td><td>25</td></tr>\n",
       "\t<tr><td>4 </td><td>15</td><td>10</td><td>19</td><td>26</td></tr>\n",
       "\t<tr><td>2 </td><td>13</td><td>17</td><td>20</td><td>38</td></tr>\n",
       "\t<tr><td>3 </td><td>10</td><td>12</td><td>19</td><td>13</td></tr>\n",
       "\t<tr><td>4 </td><td> 2</td><td>18</td><td>19</td><td>27</td></tr>\n",
       "\t<tr><td>...</td><td>...</td><td>...</td><td>...</td><td>...</td></tr>\n",
       "\t<tr><td>6 </td><td>10</td><td>18</td><td>16</td><td>19</td></tr>\n",
       "\t<tr><td>5 </td><td>17</td><td>19</td><td>13</td><td>31</td></tr>\n",
       "\t<tr><td>7 </td><td> 7</td><td>12</td><td>20</td><td>22</td></tr>\n",
       "\t<tr><td>2 </td><td> 9</td><td>16</td><td>14</td><td>21</td></tr>\n",
       "\t<tr><td>3 </td><td> 5</td><td>11</td><td>21</td><td>22</td></tr>\n",
       "\t<tr><td>3 </td><td>10</td><td>12</td><td>21</td><td>25</td></tr>\n",
       "\t<tr><td>5 </td><td>10</td><td>17</td><td>16</td><td>18</td></tr>\n",
       "\t<tr><td>3 </td><td>12</td><td>20</td><td>25</td><td>24</td></tr>\n",
       "\t<tr><td>2 </td><td>10</td><td>16</td><td>21</td><td>31</td></tr>\n",
       "\t<tr><td>5 </td><td>12</td><td>10</td><td>16</td><td>31</td></tr>\n",
       "\t<tr><td>6 </td><td>10</td><td> 7</td><td>16</td><td>23</td></tr>\n",
       "\t<tr><td>7 </td><td> 9</td><td>16</td><td>18</td><td>21</td></tr>\n",
       "\t<tr><td>2 </td><td>12</td><td>15</td><td>27</td><td>22</td></tr>\n",
       "\t<tr><td>5 </td><td>15</td><td>16</td><td>21</td><td>28</td></tr>\n",
       "\t<tr><td>8 </td><td> 7</td><td>17</td><td>19</td><td>19</td></tr>\n",
       "\t<tr><td>2 </td><td> 5</td><td>18</td><td>18</td><td>24</td></tr>\n",
       "\t<tr><td>3 </td><td> 2</td><td>21</td><td>26</td><td>18</td></tr>\n",
       "\t<tr><td>6 </td><td> 5</td><td>12</td><td>20</td><td>34</td></tr>\n",
       "\t<tr><td>7 </td><td>11</td><td>11</td><td>32</td><td>27</td></tr>\n",
       "\t<tr><td>4 </td><td> 7</td><td>12</td><td>25</td><td>26</td></tr>\n",
       "\t<tr><td>4 </td><td> 9</td><td>10</td><td>18</td><td>25</td></tr>\n",
       "\t<tr><td>5 </td><td>11</td><td>13</td><td>27</td><td>21</td></tr>\n",
       "\t<tr><td>3 </td><td>12</td><td>11</td><td>31</td><td>20</td></tr>\n",
       "\t<tr><td>5 </td><td>12</td><td>23</td><td>11</td><td>29</td></tr>\n",
       "\t<tr><td>6 </td><td> 7</td><td>18</td><td>23</td><td>26</td></tr>\n",
       "\t<tr><td>2 </td><td>10</td><td>21</td><td>15</td><td>16</td></tr>\n",
       "\t<tr><td>9 </td><td>10</td><td>20</td><td>30</td><td>28</td></tr>\n",
       "\t<tr><td>4 </td><td>14</td><td>10</td><td>24</td><td>23</td></tr>\n",
       "\t<tr><td>9 </td><td>11</td><td>18</td><td>20</td><td>21</td></tr>\n",
       "\t<tr><td>7 </td><td>10</td><td>12</td><td>19</td><td>24</td></tr>\n",
       "</tbody>\n",
       "</table>\n"
      ],
      "text/latex": [
       "\\begin{tabular}{lllll}\n",
       "\t 7  & 11 & 18 & 25 & 20\\\\\n",
       "\t 1  &  6 & 13 & 21 & 24\\\\\n",
       "\t 6  &  6 & 15 & 26 & 23\\\\\n",
       "\t 9  & 10 & 11 & 23 & 26\\\\\n",
       "\t 8  &  8 & 15 & 26 & 28\\\\\n",
       "\t 8  & 12 & 18 & 22 & 25\\\\\n",
       "\t 6  & 10 & 13 & 11 & 18\\\\\n",
       "\t 3  & 11 & 17 & 18 & 32\\\\\n",
       "\t 5  & 13 & 19 & 14 & 33\\\\\n",
       "\t 3  & 10 & 12 & 14 & 27\\\\\n",
       "\t 6  &  7 & 14 & 18 & 33\\\\\n",
       "\t 5  & 11 & 19 & 19 & 31\\\\\n",
       "\t 4  & 15 & 13 & 15 & 20\\\\\n",
       "\t 1  &  7 & 13 & 28 & 24\\\\\n",
       "\t 4  &  6 & 18 & 10 & 31\\\\\n",
       "\t 1  &  7 & 22 & 23 & 27\\\\\n",
       "\t 1  &  9 & 19 & 23 & 14\\\\\n",
       "\t 6  & 15 & 13 & 26 & 19\\\\\n",
       "\t 9  & 11 & 13 & 20 & 33\\\\\n",
       "\t 4  & 11 & 15 & 19 & 27\\\\\n",
       "\t 6  &  9 & 20 & 23 & 20\\\\\n",
       "\t 3  &  8 & 14 &  9 & 27\\\\\n",
       "\t 7  & 13 & 18 & 11 & 16\\\\\n",
       "\t 5  &  6 & 16 & 17 & 19\\\\\n",
       "\t 4  & 12 & 14 & 14 & 37\\\\\n",
       "\t 3  & 10 & 14 & 19 & 25\\\\\n",
       "\t 4  & 15 & 10 & 19 & 26\\\\\n",
       "\t 2  & 13 & 17 & 20 & 38\\\\\n",
       "\t 3  & 10 & 12 & 19 & 13\\\\\n",
       "\t 4  &  2 & 18 & 19 & 27\\\\\n",
       "\t ... & ... & ... & ... & ...\\\\\n",
       "\t 6  & 10 & 18 & 16 & 19\\\\\n",
       "\t 5  & 17 & 19 & 13 & 31\\\\\n",
       "\t 7  &  7 & 12 & 20 & 22\\\\\n",
       "\t 2  &  9 & 16 & 14 & 21\\\\\n",
       "\t 3  &  5 & 11 & 21 & 22\\\\\n",
       "\t 3  & 10 & 12 & 21 & 25\\\\\n",
       "\t 5  & 10 & 17 & 16 & 18\\\\\n",
       "\t 3  & 12 & 20 & 25 & 24\\\\\n",
       "\t 2  & 10 & 16 & 21 & 31\\\\\n",
       "\t 5  & 12 & 10 & 16 & 31\\\\\n",
       "\t 6  & 10 &  7 & 16 & 23\\\\\n",
       "\t 7  &  9 & 16 & 18 & 21\\\\\n",
       "\t 2  & 12 & 15 & 27 & 22\\\\\n",
       "\t 5  & 15 & 16 & 21 & 28\\\\\n",
       "\t 8  &  7 & 17 & 19 & 19\\\\\n",
       "\t 2  &  5 & 18 & 18 & 24\\\\\n",
       "\t 3  &  2 & 21 & 26 & 18\\\\\n",
       "\t 6  &  5 & 12 & 20 & 34\\\\\n",
       "\t 7  & 11 & 11 & 32 & 27\\\\\n",
       "\t 4  &  7 & 12 & 25 & 26\\\\\n",
       "\t 4  &  9 & 10 & 18 & 25\\\\\n",
       "\t 5  & 11 & 13 & 27 & 21\\\\\n",
       "\t 3  & 12 & 11 & 31 & 20\\\\\n",
       "\t 5  & 12 & 23 & 11 & 29\\\\\n",
       "\t 6  &  7 & 18 & 23 & 26\\\\\n",
       "\t 2  & 10 & 21 & 15 & 16\\\\\n",
       "\t 9  & 10 & 20 & 30 & 28\\\\\n",
       "\t 4  & 14 & 10 & 24 & 23\\\\\n",
       "\t 9  & 11 & 18 & 20 & 21\\\\\n",
       "\t 7  & 10 & 12 & 19 & 24\\\\\n",
       "\\end{tabular}\n"
      ],
      "text/markdown": [
       "\n",
       "| 7  | 11 | 18 | 25 | 20 |\n",
       "| 1  |  6 | 13 | 21 | 24 |\n",
       "| 6  |  6 | 15 | 26 | 23 |\n",
       "| 9  | 10 | 11 | 23 | 26 |\n",
       "| 8  |  8 | 15 | 26 | 28 |\n",
       "| 8  | 12 | 18 | 22 | 25 |\n",
       "| 6  | 10 | 13 | 11 | 18 |\n",
       "| 3  | 11 | 17 | 18 | 32 |\n",
       "| 5  | 13 | 19 | 14 | 33 |\n",
       "| 3  | 10 | 12 | 14 | 27 |\n",
       "| 6  |  7 | 14 | 18 | 33 |\n",
       "| 5  | 11 | 19 | 19 | 31 |\n",
       "| 4  | 15 | 13 | 15 | 20 |\n",
       "| 1  |  7 | 13 | 28 | 24 |\n",
       "| 4  |  6 | 18 | 10 | 31 |\n",
       "| 1  |  7 | 22 | 23 | 27 |\n",
       "| 1  |  9 | 19 | 23 | 14 |\n",
       "| 6  | 15 | 13 | 26 | 19 |\n",
       "| 9  | 11 | 13 | 20 | 33 |\n",
       "| 4  | 11 | 15 | 19 | 27 |\n",
       "| 6  |  9 | 20 | 23 | 20 |\n",
       "| 3  |  8 | 14 |  9 | 27 |\n",
       "| 7  | 13 | 18 | 11 | 16 |\n",
       "| 5  |  6 | 16 | 17 | 19 |\n",
       "| 4  | 12 | 14 | 14 | 37 |\n",
       "| 3  | 10 | 14 | 19 | 25 |\n",
       "| 4  | 15 | 10 | 19 | 26 |\n",
       "| 2  | 13 | 17 | 20 | 38 |\n",
       "| 3  | 10 | 12 | 19 | 13 |\n",
       "| 4  |  2 | 18 | 19 | 27 |\n",
       "| ... | ... | ... | ... | ... |\n",
       "| 6  | 10 | 18 | 16 | 19 |\n",
       "| 5  | 17 | 19 | 13 | 31 |\n",
       "| 7  |  7 | 12 | 20 | 22 |\n",
       "| 2  |  9 | 16 | 14 | 21 |\n",
       "| 3  |  5 | 11 | 21 | 22 |\n",
       "| 3  | 10 | 12 | 21 | 25 |\n",
       "| 5  | 10 | 17 | 16 | 18 |\n",
       "| 3  | 12 | 20 | 25 | 24 |\n",
       "| 2  | 10 | 16 | 21 | 31 |\n",
       "| 5  | 12 | 10 | 16 | 31 |\n",
       "| 6  | 10 |  7 | 16 | 23 |\n",
       "| 7  |  9 | 16 | 18 | 21 |\n",
       "| 2  | 12 | 15 | 27 | 22 |\n",
       "| 5  | 15 | 16 | 21 | 28 |\n",
       "| 8  |  7 | 17 | 19 | 19 |\n",
       "| 2  |  5 | 18 | 18 | 24 |\n",
       "| 3  |  2 | 21 | 26 | 18 |\n",
       "| 6  |  5 | 12 | 20 | 34 |\n",
       "| 7  | 11 | 11 | 32 | 27 |\n",
       "| 4  |  7 | 12 | 25 | 26 |\n",
       "| 4  |  9 | 10 | 18 | 25 |\n",
       "| 5  | 11 | 13 | 27 | 21 |\n",
       "| 3  | 12 | 11 | 31 | 20 |\n",
       "| 5  | 12 | 23 | 11 | 29 |\n",
       "| 6  |  7 | 18 | 23 | 26 |\n",
       "| 2  | 10 | 21 | 15 | 16 |\n",
       "| 9  | 10 | 20 | 30 | 28 |\n",
       "| 4  | 14 | 10 | 24 | 23 |\n",
       "| 9  | 11 | 18 | 20 | 21 |\n",
       "| 7  | 10 | 12 | 19 | 24 |\n",
       "\n"
      ],
      "text/plain": [
       "      [,1] [,2] [,3] [,4] [,5]\n",
       " [1,] 7    11   18   25   20  \n",
       " [2,] 1     6   13   21   24  \n",
       " [3,] 6     6   15   26   23  \n",
       " [4,] 9    10   11   23   26  \n",
       " [5,] 8     8   15   26   28  \n",
       " [6,] 8    12   18   22   25  \n",
       " [7,] 6    10   13   11   18  \n",
       " [8,] 3    11   17   18   32  \n",
       " [9,] 5    13   19   14   33  \n",
       "[10,] 3    10   12   14   27  \n",
       "[11,] 6     7   14   18   33  \n",
       "[12,] 5    11   19   19   31  \n",
       "[13,] 4    15   13   15   20  \n",
       "[14,] 1     7   13   28   24  \n",
       "[15,] 4     6   18   10   31  \n",
       "[16,] 1     7   22   23   27  \n",
       "[17,] 1     9   19   23   14  \n",
       "[18,] 6    15   13   26   19  \n",
       "[19,] 9    11   13   20   33  \n",
       "[20,] 4    11   15   19   27  \n",
       "[21,] 6     9   20   23   20  \n",
       "[22,] 3     8   14    9   27  \n",
       "[23,] 7    13   18   11   16  \n",
       "[24,] 5     6   16   17   19  \n",
       "[25,] 4    12   14   14   37  \n",
       "[26,] 3    10   14   19   25  \n",
       "[27,] 4    15   10   19   26  \n",
       "[28,] 2    13   17   20   38  \n",
       "[29,] 3    10   12   19   13  \n",
       "[30,] 4     2   18   19   27  \n",
       "[31,] ...  ...  ...  ...  ... \n",
       "[32,] 6    10   18   16   19  \n",
       "[33,] 5    17   19   13   31  \n",
       "[34,] 7     7   12   20   22  \n",
       "[35,] 2     9   16   14   21  \n",
       "[36,] 3     5   11   21   22  \n",
       "[37,] 3    10   12   21   25  \n",
       "[38,] 5    10   17   16   18  \n",
       "[39,] 3    12   20   25   24  \n",
       "[40,] 2    10   16   21   31  \n",
       "[41,] 5    12   10   16   31  \n",
       "[42,] 6    10    7   16   23  \n",
       "[43,] 7     9   16   18   21  \n",
       "[44,] 2    12   15   27   22  \n",
       "[45,] 5    15   16   21   28  \n",
       "[46,] 8     7   17   19   19  \n",
       "[47,] 2     5   18   18   24  \n",
       "[48,] 3     2   21   26   18  \n",
       "[49,] 6     5   12   20   34  \n",
       "[50,] 7    11   11   32   27  \n",
       "[51,] 4     7   12   25   26  \n",
       "[52,] 4     9   10   18   25  \n",
       "[53,] 5    11   13   27   21  \n",
       "[54,] 3    12   11   31   20  \n",
       "[55,] 5    12   23   11   29  \n",
       "[56,] 6     7   18   23   26  \n",
       "[57,] 2    10   21   15   16  \n",
       "[58,] 9    10   20   30   28  \n",
       "[59,] 4    14   10   24   23  \n",
       "[60,] 9    11   18   20   21  \n",
       "[61,] 7    10   12   19   24  "
      ]
     },
     "metadata": {},
     "output_type": "display_data"
    }
   ],
   "source": [
    "x"
   ]
  },
  {
   "cell_type": "code",
   "execution_count": 57,
   "metadata": {},
   "outputs": [
    {
     "data": {
      "image/png": "[encoded data removed]",
      "text/plain": [
       "Plot with title \"Lambda value is 5\""
      ]
     },
     "metadata": {},
     "output_type": "display_data"
    }
   ],
   "source": [
    "hist(x[,1],col=\"coral\",main=\"Lambda value is 5\")"
   ]
  },
  {
   "cell_type": "code",
   "execution_count": 59,
   "metadata": {},
   "outputs": [
    {
     "data": {
      "image/png": "[encoded data removed]",
      "text/plain": [
       "Plot with title \"Lambda value is 10\""
      ]
     },
     "metadata": {},
     "output_type": "display_data"
    }
   ],
   "source": [
    "hist(x[,2],col=\"coral\",main=\"Lambda value is 10\")"
   ]
  },
  {
   "cell_type": "code",
   "execution_count": 60,
   "metadata": {},
   "outputs": [
    {
     "data": {
      "image/png": "[encoded data removed]",
      "text/plain": [
       "Plot with title \"Lambda value is 15\""
      ]
     },
     "metadata": {},
     "output_type": "display_data"
    }
   ],
   "source": [
    "hist(x[,3],col=\"coral\",main=\"Lambda value is 15\")"
   ]
  },
  {
   "cell_type": "code",
   "execution_count": 61,
   "metadata": {},
   "outputs": [
    {
     "data": {
      "image/png": "[encoded data removed]",
      "text/plain": [
       "Plot with title \"Lambda value is 20\""
      ]
     },
     "metadata": {},
     "output_type": "display_data"
    }
   ],
   "source": [
    "hist(x[,4],col=\"coral\",main=\"Lambda value is 20\")"
   ]
  },
  {
   "cell_type": "code",
   "execution_count": 62,
   "metadata": {},
   "outputs": [
    {
     "data": {
      "image/png": "[encoded data removed]",
      "text/plain": [
       "Plot with title \"Lambda value is 25\""
      ]
     },
     "metadata": {},
     "output_type": "display_data"
    }
   ],
   "source": [
    "hist(x[,5],col=\"coral\",main=\"Lambda value is 25\")"
   ]
  },
  {
   "cell_type": "markdown",
   "metadata": {},
   "source": [
    "As the lambda value increases the plot becomes less asymmetric, and the distribution will change more and more similar to normal distribution, more spread out and becomes bell shaped curve when we plot a curve in the histogram. \n",
    "suppose, if lambda is greater than 10 then the poisson distribution generally represents the normal distribution."
   ]
  },
  {
   "cell_type": "markdown",
   "metadata": {
    "nbgrader": {
     "cell_type": "markdown",
     "checksum": "a76353d064d91ecc93493e93397838c4",
     "grade": false,
     "grade_id": "cell-edb80144d55cfc0e",
     "locked": true,
     "schema_version": 3,
     "solution": false,
     "task": false
    }
   },
   "source": [
    "**3.(c) Finally, note that we can calculate quantiles (or, the inverse of the CDF) using `qpois()` (this holds for other distributions too). Use `qpois()` to compute the median of a Poisson distributed random variable with $\\lambda = 5$. Then, compute the sample median of the first column of the matrix from 3.(b) (i.e., random numbers from a Poisson distribution with rate $\\lambda=5$). Compare these two values. Are they the same? Will they always be the same?**"
   ]
  },
  {
   "cell_type": "code",
   "execution_count": 40,
   "metadata": {
    "nbgrader": {
     "cell_type": "code",
     "checksum": "ab60648362c480e3d3e6f298949c813e",
     "grade": true,
     "grade_id": "cell-cc3d26ff06e1ea2a",
     "locked": false,
     "points": 1,
     "schema_version": 3,
     "solution": true,
     "task": false
    }
   },
   "outputs": [
    {
     "name": "stdout",
     "output_type": "stream",
     "text": [
      "[1] 5\n",
      "[1] 5\n"
     ]
    }
   ],
   "source": [
    "qpois_median = qpois(0.5,lambda = 5)\n",
    "sample_median = median(x[,1])\n",
    "print(qpois_median)\n",
    "print(sample_median)"
   ]
  },
  {
   "cell_type": "markdown",
   "metadata": {},
   "source": [
    "Here the qpois median and sample median appears to be same but in most of the cases if the sample size is low then it won't be same for large sample size both the means appear as the same.\n",
    "qpois() calculate the no. of success to a particular percentile  of the distribution ie. Here, it's 50th percentile\n",
    "while the median directly calculate the 50th percentile in all the cases"
   ]
  }
 ],
 "metadata": {
  "kernelspec": {
   "display_name": "Python 3 (ipykernel)",
   "language": "python",
   "name": "python3"
  },
  "language_info": {
   "codemirror_mode": {
    "name": "ipython",
    "version": 3
   },
   "file_extension": ".py",
   "mimetype": "text/x-python",
   "name": "python",
   "nbconvert_exporter": "python",
   "pygments_lexer": "ipython3",
   "version": "3.12.4"
  }
 },
 "nbformat": 4,
 "nbformat_minor": 4
}

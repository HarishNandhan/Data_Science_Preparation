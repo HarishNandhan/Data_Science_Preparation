{
 "cells": [
  {
   "cell_type": "markdown",
   "metadata": {
    "nbgrader": {
     "cell_type": "markdown",
     "checksum": "fb080ddfc23c43a666e6e904c853cd83",
     "grade": false,
     "grade_id": "cell-eeb8b9d983446df1",
     "locked": true,
     "schema_version": 3,
     "solution": false,
     "task": false
    }
   },
   "source": [
    "# Homework #8\n",
    "\n",
    "**See Canvas for the HW #8 assignment and due date**. Complete all of the following problems. Ideally, the theoretical problems should be answered in a Markdown cell directly underneath the question. If you don't know LaTex/Markdown, you may submit separate handwritten solutions to the theoretical problems, but please see the [class scanning policy](https://docs.google.com/document/d/17y5ksolrn2rEuXYBv_3HeZhkPbYwt48UojNT1OvcB_w/?usp=sharing). Please do not turn in messy work. Computational problems should be completed in this notebook (using the R kernel). Computational questions may require code, plots, analysis, interpretation, etc. Working in small groups is allowed, but it is important that you make an effort to master the material and hand in your own work. "
   ]
  },
  {
   "cell_type": "markdown",
   "metadata": {
    "nbgrader": {
     "cell_type": "markdown",
     "checksum": "02a934bccc77a49a699113b5d175dd50",
     "grade": false,
     "grade_id": "cell-25843854fabf772d",
     "locked": true,
     "schema_version": 3,
     "solution": false,
     "task": false
    }
   },
   "source": [
    "## A. Theoretical Problems"
   ]
  },
  {
   "cell_type": "markdown",
   "metadata": {
    "nbgrader": {
     "cell_type": "markdown",
     "checksum": "6f2fcca6d052f65614cf83871919e75a",
     "grade": false,
     "grade_id": "cell-2e3d58bc55641ceb",
     "locked": true,
     "schema_version": 3,
     "solution": false,
     "task": false
    }
   },
   "source": [
    "## NOPE!\n"
   ]
  },
  {
   "cell_type": "markdown",
   "metadata": {
    "nbgrader": {
     "cell_type": "markdown",
     "checksum": "5b84c237401182d6b508601f643e7639",
     "grade": false,
     "grade_id": "cell-8d63ae4c3d2fab40",
     "locked": true,
     "schema_version": 3,
     "solution": false,
     "task": false
    }
   },
   "source": [
    "## B. Computational Problems"
   ]
  },
  {
   "cell_type": "markdown",
   "metadata": {
    "nbgrader": {
     "cell_type": "markdown",
     "checksum": "d3bb9f98a8fce1e24ade0e20d258f421",
     "grade": false,
     "grade_id": "cell-ad72d8eb0bba4986",
     "locked": true,
     "schema_version": 3,
     "solution": false,
     "task": false
    }
   },
   "source": [
    "## B.1 Do remote students perform worse?\n",
    "\n",
    "In spring 2019, STAT 5010 had two sections: an in-person section and an online/remote section. The Department of Applied Math is interested to know whether the in-person students performed better than the remote students. For this question, let $\\alpha = 0.05$. \n",
    "\n",
    "Each row of the dataset is a student from STAT 5010 in 2019. The variables in the dataset are:\n",
    "\n",
    "- `modality`: `1` denotes in-person, `2` denotes remote.\n",
    "- `score`: The final score in the class."
   ]
  },
  {
   "cell_type": "code",
   "execution_count": 49,
   "metadata": {
    "nbgrader": {
     "cell_type": "code",
     "checksum": "aff93dfcc278b9ab4967c54b94fd4c67",
     "grade": false,
     "grade_id": "cell-e9b6c9032912c0f9",
     "locked": true,
     "schema_version": 3,
     "solution": false,
     "task": false
    },
    "vscode": {
     "languageId": "r"
    }
   },
   "outputs": [
    {
     "data": {
      "text/plain": [
       "     score       modality\n",
       " Min.   :74.64   1:13    \n",
       " 1st Qu.:79.15   2:19    \n",
       " Median :80.69           \n",
       " Mean   :80.99           \n",
       " 3rd Qu.:82.04           \n",
       " Max.   :87.84           "
      ]
     },
     "metadata": {},
     "output_type": "display_data"
    },
    {
     "data": {
      "text/html": [
       "<ol class=list-inline>\n",
       "\t<li>32</li>\n",
       "\t<li>2</li>\n",
       "</ol>\n"
      ],
      "text/latex": [
       "\\begin{enumerate*}\n",
       "\\item 32\n",
       "\\item 2\n",
       "\\end{enumerate*}\n"
      ],
      "text/markdown": [
       "1. 32\n",
       "2. 2\n",
       "\n",
       "\n"
      ],
      "text/plain": [
       "[1] 32  2"
      ]
     },
     "metadata": {},
     "output_type": "display_data"
    }
   ],
   "source": [
    "# run this cell to load the dataset\n",
    "library(tidyverse)\n",
    "library(ggplot2)\n",
    "\n",
    "df = read.csv(\"InPersonRemote.csv\")\n",
    "df$modality = as.factor(df$modality)\n",
    "summary(df)\n",
    "dim(df)"
   ]
  },
  {
   "cell_type": "markdown",
   "metadata": {
    "nbgrader": {
     "cell_type": "markdown",
     "checksum": "9bec67f32f414c54016f6663f4af5354",
     "grade": false,
     "grade_id": "cell-fb6a16ca696dbaf3",
     "locked": true,
     "schema_version": 3,
     "solution": false,
     "task": false
    }
   },
   "source": [
    "**B.1 (a) [10 points] Explore the data to decide whether the normality and equal variance assumptions might be violated (see the \"Tests for Differences in Means\" section of the notes). If histograms don't help you determine whether the data come from a normally distributed population, you may want to investigate the `R` function `shapiro.test()`.**\n",
    "\n",
    "If you do not have evidence that the data are non-normal, you can carry on as if the data are normal. If you're not sure whether the variances are equal, assume they aren't."
   ]
  },
  {
   "cell_type": "code",
   "execution_count": 50,
   "metadata": {
    "nbgrader": {
     "cell_type": "code",
     "checksum": "0b45a38fda6482a1c00dfa1d54729d79",
     "grade": true,
     "grade_id": "cell-87a1aec85eb3aaf9",
     "locked": false,
     "points": 6,
     "schema_version": 3,
     "solution": true,
     "task": false
    },
    "vscode": {
     "languageId": "r"
    }
   },
   "outputs": [
    {
     "data": {
      "image/png": "[encoded data removed]",
      "text/plain": [
       "Plot with title \"in person\""
      ]
     },
     "metadata": {},
     "output_type": "display_data"
    },
    {
     "data": {
      "text/plain": [
       "\n",
       "\tShapiro-Wilk normality test\n",
       "\n",
       "data:  in_per_score\n",
       "W = 0.954, p-value = 0.6599\n"
      ]
     },
     "metadata": {},
     "output_type": "display_data"
    },
    {
     "data": {
      "text/plain": [
       "\n",
       "\tShapiro-Wilk normality test\n",
       "\n",
       "data:  remote_scores\n",
       "W = 0.91808, p-value = 0.1043\n"
      ]
     },
     "metadata": {},
     "output_type": "display_data"
    },
    {
     "data": {
      "image/png": "[encoded data removed]",
      "text/plain": [
       "Plot with title \"remote\""
      ]
     },
     "metadata": {},
     "output_type": "display_data"
    }
   ],
   "source": [
    "alpha = 0.05\n",
    "in_per_score = df$score[df$modality == '1']\n",
    "remote_scores = df$score[df$modality == '2']\n",
    "\n",
    "hist(in_per_score, main = \"in person\", col='blue')\n",
    "hist(remote_scores, main = \"remote\", col='red')\n",
    "\n",
    "s_test_in_p = shapiro.test(in_per_score)\n",
    "s_test_in_p\n",
    "s_test_rem = shapiro.test(remote_scores)\n",
    "s_test_rem"
   ]
  },
  {
   "cell_type": "markdown",
   "metadata": {
    "nbgrader": {
     "cell_type": "markdown",
     "checksum": "3547865aeaf71d660375eedcd3c5fd83",
     "grade": true,
     "grade_id": "cell-7f8905aef30e7197",
     "locked": false,
     "points": 4,
     "schema_version": 3,
     "solution": true,
     "task": false
    }
   },
   "source": [
    "Here, in both the groups after performing the 'shapiro test', the p values are > 0.05 so there is no evidence for non normality and the data is normally distributed.\n",
    "The variance is assumed as unequal and proceeding with this problem because it is difficult to infer about the variance at this point."
   ]
  },
  {
   "cell_type": "markdown",
   "metadata": {
    "nbgrader": {
     "cell_type": "markdown",
     "checksum": "d811e03a7080dca06fca8745ba77285f",
     "grade": false,
     "grade_id": "cell-e77efea510e80736",
     "locked": true,
     "schema_version": 3,
     "solution": false,
     "task": false
    }
   },
   "source": [
    "Let $\\mu_r$ represent the population mean of scores in the remote group. Let $\\mu_p$ represent the population mean of scores in the in-person group. \n",
    "\n",
    "**B.1 (b) [10 points] Test whether there is statistical evidence that the in-person group performed better than the remote group at the $\\alpha = 0.05$ level. Use the appropriate test, based on the results from B.1(a). Code the test yourself (without using a built-in `R` function). Be sure to write out your null and alternative hypotheses and clearly state your decision.**\n",
    "\n",
    "We'll assume that no other variables would be relevant to any difference in scores (but that's probably not true, and we learn how to deal with this kind of situation in STAT 5010!)."
   ]
  },
  {
   "cell_type": "code",
   "execution_count": null,
   "metadata": {
    "nbgrader": {
     "cell_type": "code",
     "checksum": "f9f77633954c333733cc614b60dcfe3d",
     "grade": true,
     "grade_id": "cell-f532ad9362004496",
     "locked": false,
     "points": 10,
     "schema_version": 3,
     "solution": true,
     "task": false
    },
    "vscode": {
     "languageId": "r"
    }
   },
   "outputs": [
    {
     "data": {
      "text/html": [
       "1.84968366720497"
      ],
      "text/latex": [
       "1.84968366720497"
      ],
      "text/markdown": [
       "1.84968366720497"
      ],
      "text/plain": [
       "[1] 1.849684"
      ]
     },
     "metadata": {},
     "output_type": "display_data"
    },
    {
     "data": {
      "text/html": [
       "19.3778143630515"
      ],
      "text/latex": [
       "19.3778143630515"
      ],
      "text/markdown": [
       "19.3778143630515"
      ],
      "text/plain": [
       "[1] 19.37781"
      ]
     },
     "metadata": {},
     "output_type": "display_data"
    },
    {
     "data": {
      "text/html": [
       "0.0398355870941778"
      ],
      "text/latex": [
       "0.0398355870941778"
      ],
      "text/markdown": [
       "0.0398355870941778"
      ],
      "text/plain": [
       "[1] 0.03983559"
      ]
     },
     "metadata": {},
     "output_type": "display_data"
    },
    {
     "name": "stdout",
     "output_type": "stream",
     "text": [
      "[1] \"mu_p > mu_r (There is a difference in means scores between inperson and remote students)\"\n"
     ]
    }
   ],
   "source": [
    "H0 = \"mu_p = mu_r (There is no difference in mean scores of inperson and remote students)\"\n",
    "H1 = \"mu_p > mu_r (There is a difference in means scores between inperson and remote students)\" \n",
    "alpha = 0.05\n",
    "# One tailed test\n",
    "\n",
    "mu_r = mean(remote_scores)\n",
    "mu_p = mean(in_per_score)\n",
    "\n",
    "s_sq_p = var(in_per_score)\n",
    "s_sq_r = var(remote_scores)\n",
    "\n",
    "n_p = length(in_per_score)\n",
    "n_r = length(remote_scores)\n",
    "\n",
    "t_stat <- (mu_p - mu_r) / sqrt((s_sq_p / n_p) + (s_sq_r / n_r))\n",
    "t_stat\n",
    "dof = ((s_sq_p / n_p) + (s_sq_r / n_r))^2 / (((s_sq_p / n_p)^2 / (n_p - 1)) + ((s_sq_r / n_r)^2 / (n_r - 1)))\n",
    "dof\n",
    "p = 1 - pt(t_stat, dof)\n",
    "p\n",
    "\n",
    "if(p<alpha){\n",
    "    print(H1)\n",
    "}else{\n",
    "    print(H0)\n",
    "}\n"
   ]
  },
  {
   "cell_type": "markdown",
   "metadata": {},
   "source": [
    "- p < alpha\n",
    "- So reject H0 and accept H1. mu_p > mu_r (In person means scores are greater than the mean scores of remote students so in person students performed better)"
   ]
  },
  {
   "cell_type": "markdown",
   "metadata": {
    "nbgrader": {
     "cell_type": "markdown",
     "checksum": "b85f2594b0f395d8a0f99b826e58003a",
     "grade": false,
     "grade_id": "cell-91583bb7d5adf764",
     "locked": true,
     "schema_version": 3,
     "solution": false,
     "task": false
    }
   },
   "source": [
    "**B.1 (c) [10 points] Now find an `R` function that conducts the test that you used in B.1(b). Interpret the confidence interval given by that function.**"
   ]
  },
  {
   "cell_type": "code",
   "execution_count": 52,
   "metadata": {
    "nbgrader": {
     "cell_type": "code",
     "checksum": "75df4715dd90d930bcafe419554098ed",
     "grade": true,
     "grade_id": "cell-6acc93925a9ce753",
     "locked": false,
     "points": 4,
     "schema_version": 3,
     "solution": true,
     "task": false
    },
    "vscode": {
     "languageId": "r"
    }
   },
   "outputs": [
    {
     "data": {
      "text/plain": [
       "\n",
       "\tWelch Two Sample t-test\n",
       "\n",
       "data:  score by modality\n",
       "t = 1.8497, df = 19.378, p-value = 0.03984\n",
       "alternative hypothesis: true difference in means is greater than 0\n",
       "95 percent confidence interval:\n",
       " 0.130191      Inf\n",
       "sample estimates:\n",
       "mean in group 1 mean in group 2 \n",
       "       82.16154        80.19211 \n"
      ]
     },
     "metadata": {},
     "output_type": "display_data"
    }
   ],
   "source": [
    "t_test = t.test(score ~ modality, data = df, var.equal = FALSE, alternative = \"greater\")\n",
    "t_test"
   ]
  },
  {
   "cell_type": "markdown",
   "metadata": {
    "nbgrader": {
     "cell_type": "markdown",
     "checksum": "3adab7007c00608c775fea2ecdb2b783",
     "grade": true,
     "grade_id": "cell-6dba80897a696916",
     "locked": false,
     "points": 6,
     "schema_version": 3,
     "solution": true,
     "task": false
    }
   },
   "source": [
    "- p value < alpha so we reject the null hypothesis.\n",
    "- In person students performed better than the remote students.\n",
    "- CI [0.1302,inf) which means, the mean score of in person students is 0.13 points higher than the mean score of remote students and the upper limit is 'inf' since it's a one tailed test.\n",
    "- The difference in average scores is at least 0.13 (mu_p = 82.16, mu_r = 80.19)"
   ]
  },
  {
   "cell_type": "markdown",
   "metadata": {
    "collapsed": true,
    "jupyter": {
     "outputs_hidden": true
    },
    "nbgrader": {
     "cell_type": "markdown",
     "checksum": "db4ca61d6b399b1e8b209265bfc5492d",
     "grade": false,
     "grade_id": "cell-40f14ead27b55947",
     "locked": true,
     "schema_version": 3,
     "solution": false,
     "task": false
    }
   },
   "source": [
    "## B.2 Parametric tests without normality\n",
    "Let $X ∼ \\text{Pois}(\\lambda)$. We want to test the null hypothesis that $\\lambda \\leq 15$, and the alternative hypothesis is that $\\lambda > 15$. Our sample size for this test is equal to $1$.  We will reject the null hypothesis if $X$ is greater than a certain value $c$.\n",
    "\n",
    "**B.2 (a) [18 points] What value should we choose for $c$ such that the probability of a type I error is at most $0.10$? In the first cell, write out the relevant formulas. In the second (code cell), construct a table of values for $c$ along with the corresponding type I errors. In the third, state $c$.**"
   ]
  },
  {
   "cell_type": "markdown",
   "metadata": {
    "nbgrader": {
     "cell_type": "markdown",
     "checksum": "2ecd6fa216b591fa4f6fa8ab998e5cfd",
     "grade": true,
     "grade_id": "cell-2a32439744d693e0",
     "locked": false,
     "points": 5,
     "schema_version": 3,
     "solution": true,
     "task": false
    }
   },
   "source": [
    "$$\n",
    "P(\\text{Type I Error}) = P(X > c) = 1 - P(X \\leq c) = 1 - Poisson(c, \\lambda = 15)\n",
    "$$\n"
   ]
  },
  {
   "cell_type": "code",
   "execution_count": null,
   "metadata": {
    "nbgrader": {
     "cell_type": "code",
     "checksum": "c3cf30f832806a9eb2170917665f52d8",
     "grade": true,
     "grade_id": "cell-1e7b998435678fa8",
     "locked": false,
     "points": 10,
     "schema_version": 3,
     "solution": true,
     "task": false
    },
    "vscode": {
     "languageId": "r"
    }
   },
   "outputs": [
    {
     "data": {
      "text/html": [
       "<table>\n",
       "<thead><tr><th scope=col>c</th><th scope=col>Type_I_Error</th></tr></thead>\n",
       "<tbody>\n",
       "\t<tr><td> 0          </td><td>0.9999996941</td></tr>\n",
       "\t<tr><td> 1          </td><td>0.9999951056</td></tr>\n",
       "\t<tr><td> 2          </td><td>0.9999606916</td></tr>\n",
       "\t<tr><td> 3          </td><td>0.9997886215</td></tr>\n",
       "\t<tr><td> 4          </td><td>0.9991433588</td></tr>\n",
       "\t<tr><td> 5          </td><td>0.9972075707</td></tr>\n",
       "\t<tr><td> 6          </td><td>0.9923681004</td></tr>\n",
       "\t<tr><td> 7          </td><td>0.9819978069</td></tr>\n",
       "\t<tr><td> 8          </td><td>0.9625535065</td></tr>\n",
       "\t<tr><td> 9          </td><td>0.9301463393</td></tr>\n",
       "\t<tr><td>10          </td><td>0.8815355885</td></tr>\n",
       "\t<tr><td>11          </td><td>0.8152482010</td></tr>\n",
       "\t<tr><td>12          </td><td>0.7323889666</td></tr>\n",
       "\t<tr><td>13          </td><td>0.6367821577</td></tr>\n",
       "\t<tr><td>14          </td><td>0.5343462911</td></tr>\n",
       "\t<tr><td>15          </td><td>0.4319104244</td></tr>\n",
       "\t<tr><td>16          </td><td>0.3358767994</td></tr>\n",
       "\t<tr><td>17          </td><td>0.2511412479</td></tr>\n",
       "\t<tr><td>18          </td><td>0.1805282884</td></tr>\n",
       "\t<tr><td>19          </td><td>0.1247812150</td></tr>\n",
       "\t<tr><td>20          </td><td>0.0829709100</td></tr>\n",
       "\t<tr><td>21          </td><td>0.0531064065</td></tr>\n",
       "\t<tr><td>22          </td><td>0.0327442449</td></tr>\n",
       "\t<tr><td>23          </td><td>0.0194645744</td></tr>\n",
       "\t<tr><td>24          </td><td>0.0111647803</td></tr>\n",
       "\t<tr><td>25          </td><td>0.0061849038</td></tr>\n",
       "\t<tr><td>26          </td><td>0.0033118982</td></tr>\n",
       "\t<tr><td>27          </td><td>0.0017157839</td></tr>\n",
       "\t<tr><td>28          </td><td>0.0008607227</td></tr>\n",
       "\t<tr><td>29          </td><td>0.0004184497</td></tr>\n",
       "\t<tr><td>30          </td><td>0.0001973131</td></tr>\n",
       "</tbody>\n",
       "</table>\n"
      ],
      "text/latex": [
       "\\begin{tabular}{r|ll}\n",
       " c & Type\\_I\\_Error\\\\\n",
       "\\hline\n",
       "\t  0           & 0.9999996941\\\\\n",
       "\t  1           & 0.9999951056\\\\\n",
       "\t  2           & 0.9999606916\\\\\n",
       "\t  3           & 0.9997886215\\\\\n",
       "\t  4           & 0.9991433588\\\\\n",
       "\t  5           & 0.9972075707\\\\\n",
       "\t  6           & 0.9923681004\\\\\n",
       "\t  7           & 0.9819978069\\\\\n",
       "\t  8           & 0.9625535065\\\\\n",
       "\t  9           & 0.9301463393\\\\\n",
       "\t 10           & 0.8815355885\\\\\n",
       "\t 11           & 0.8152482010\\\\\n",
       "\t 12           & 0.7323889666\\\\\n",
       "\t 13           & 0.6367821577\\\\\n",
       "\t 14           & 0.5343462911\\\\\n",
       "\t 15           & 0.4319104244\\\\\n",
       "\t 16           & 0.3358767994\\\\\n",
       "\t 17           & 0.2511412479\\\\\n",
       "\t 18           & 0.1805282884\\\\\n",
       "\t 19           & 0.1247812150\\\\\n",
       "\t 20           & 0.0829709100\\\\\n",
       "\t 21           & 0.0531064065\\\\\n",
       "\t 22           & 0.0327442449\\\\\n",
       "\t 23           & 0.0194645744\\\\\n",
       "\t 24           & 0.0111647803\\\\\n",
       "\t 25           & 0.0061849038\\\\\n",
       "\t 26           & 0.0033118982\\\\\n",
       "\t 27           & 0.0017157839\\\\\n",
       "\t 28           & 0.0008607227\\\\\n",
       "\t 29           & 0.0004184497\\\\\n",
       "\t 30           & 0.0001973131\\\\\n",
       "\\end{tabular}\n"
      ],
      "text/markdown": [
       "\n",
       "| c | Type_I_Error |\n",
       "|---|---|\n",
       "|  0           | 0.9999996941 |\n",
       "|  1           | 0.9999951056 |\n",
       "|  2           | 0.9999606916 |\n",
       "|  3           | 0.9997886215 |\n",
       "|  4           | 0.9991433588 |\n",
       "|  5           | 0.9972075707 |\n",
       "|  6           | 0.9923681004 |\n",
       "|  7           | 0.9819978069 |\n",
       "|  8           | 0.9625535065 |\n",
       "|  9           | 0.9301463393 |\n",
       "| 10           | 0.8815355885 |\n",
       "| 11           | 0.8152482010 |\n",
       "| 12           | 0.7323889666 |\n",
       "| 13           | 0.6367821577 |\n",
       "| 14           | 0.5343462911 |\n",
       "| 15           | 0.4319104244 |\n",
       "| 16           | 0.3358767994 |\n",
       "| 17           | 0.2511412479 |\n",
       "| 18           | 0.1805282884 |\n",
       "| 19           | 0.1247812150 |\n",
       "| 20           | 0.0829709100 |\n",
       "| 21           | 0.0531064065 |\n",
       "| 22           | 0.0327442449 |\n",
       "| 23           | 0.0194645744 |\n",
       "| 24           | 0.0111647803 |\n",
       "| 25           | 0.0061849038 |\n",
       "| 26           | 0.0033118982 |\n",
       "| 27           | 0.0017157839 |\n",
       "| 28           | 0.0008607227 |\n",
       "| 29           | 0.0004184497 |\n",
       "| 30           | 0.0001973131 |\n",
       "\n"
      ],
      "text/plain": [
       "   c  Type_I_Error\n",
       "1   0 0.9999996941\n",
       "2   1 0.9999951056\n",
       "3   2 0.9999606916\n",
       "4   3 0.9997886215\n",
       "5   4 0.9991433588\n",
       "6   5 0.9972075707\n",
       "7   6 0.9923681004\n",
       "8   7 0.9819978069\n",
       "9   8 0.9625535065\n",
       "10  9 0.9301463393\n",
       "11 10 0.8815355885\n",
       "12 11 0.8152482010\n",
       "13 12 0.7323889666\n",
       "14 13 0.6367821577\n",
       "15 14 0.5343462911\n",
       "16 15 0.4319104244\n",
       "17 16 0.3358767994\n",
       "18 17 0.2511412479\n",
       "19 18 0.1805282884\n",
       "20 19 0.1247812150\n",
       "21 20 0.0829709100\n",
       "22 21 0.0531064065\n",
       "23 22 0.0327442449\n",
       "24 23 0.0194645744\n",
       "25 24 0.0111647803\n",
       "26 25 0.0061849038\n",
       "27 26 0.0033118982\n",
       "28 27 0.0017157839\n",
       "29 28 0.0008607227\n",
       "30 29 0.0004184497\n",
       "31 30 0.0001973131"
      ]
     },
     "metadata": {},
     "output_type": "display_data"
    }
   ],
   "source": [
    "lambda = 15\n",
    "res = data.frame(c= 0:30, Type_I_Error = NA)\n",
    "\n",
    "for(i in 1:nrow(res)) {\n",
    "    c = res$c[i]\n",
    "    res$Type_I_Error[i] = 1 - ppois(c,lambda)\n",
    "}\n",
    "res"
   ]
  },
  {
   "cell_type": "markdown",
   "metadata": {
    "nbgrader": {
     "cell_type": "markdown",
     "checksum": "57728fcbd9fd6d14cd1886c9779309cc",
     "grade": true,
     "grade_id": "cell-baeacac566bc09e3",
     "locked": false,
     "points": 3,
     "schema_version": 3,
     "solution": true,
     "task": false
    }
   },
   "source": [
    "We will select c = 20 because of it's maximum value of Type I Error ie. 0.08 which is less than 0.10.\n"
   ]
  },
  {
   "cell_type": "markdown",
   "metadata": {
    "nbgrader": {
     "cell_type": "markdown",
     "checksum": "d5837da7ca044483f1087cc4b34cc32e",
     "grade": false,
     "grade_id": "cell-b573caffc3030570",
     "locked": true,
     "schema_version": 3,
     "solution": false,
     "task": false
    }
   },
   "source": [
    "**B.2 (b) [10 points] If $\\lambda$ is actually equal to $20$, what is the probability of making a Type II error using the cut-off point from B.2 (a)? In the first cell, write the appropriate formula. In the second, calculate it using `R`.**"
   ]
  },
  {
   "cell_type": "markdown",
   "metadata": {
    "nbgrader": {
     "cell_type": "markdown",
     "checksum": "fce24ba78acf1e52a12370d3be9348a6",
     "grade": true,
     "grade_id": "cell-2ed3174693c98cd4",
     "locked": false,
     "points": 2,
     "schema_version": 3,
     "solution": true,
     "task": false
    }
   },
   "source": [
    "$$\n",
    "P(\\text{Type II Error}) = P(X \\leq c \\,|\\, \\lambda = 20) = Poisson(c, \\lambda = 20)\n",
    "$$\n"
   ]
  },
  {
   "cell_type": "code",
   "execution_count": 54,
   "metadata": {
    "nbgrader": {
     "cell_type": "code",
     "checksum": "093138e6d9b78aba39c5b9e1ab259dd2",
     "grade": true,
     "grade_id": "cell-58f454dbe0a476bd",
     "locked": false,
     "points": 4,
     "schema_version": 3,
     "solution": true,
     "task": false
    },
    "vscode": {
     "languageId": "r"
    }
   },
   "outputs": [
    {
     "data": {
      "text/html": [
       "0.559092584231325"
      ],
      "text/latex": [
       "0.559092584231325"
      ],
      "text/markdown": [
       "0.559092584231325"
      ],
      "text/plain": [
       "[1] 0.5590926"
      ]
     },
     "metadata": {},
     "output_type": "display_data"
    }
   ],
   "source": [
    "lambda = 20\n",
    "c = 20\n",
    "\n",
    "Type_II_Error = ppois(c,lambda)\n",
    "Type_II_Error"
   ]
  },
  {
   "cell_type": "markdown",
   "metadata": {
    "nbgrader": {
     "cell_type": "markdown",
     "checksum": "cebccd5e7277ff0604797bbbb715472b",
     "grade": false,
     "grade_id": "cell-25a8aa0e6cf42de0",
     "locked": true,
     "schema_version": 3,
     "solution": false,
     "task": false
    }
   },
   "source": [
    "## B.3 Coin Flipping and Power\n",
    "\n",
    "Let $X$ be the number of heads in $n = 60$ tosses of a coin. Denote the probability of heads as $p$. In this example, we will explore properties of a test of whether the coin is biased toward heads. \n",
    "\n",
    "**B.3(a) [10 points] Explicitly write out the null and alternative hypotheses. Let the parameter space be all $p \\in (0,1)$.**"
   ]
  },
  {
   "cell_type": "markdown",
   "metadata": {
    "collapsed": true,
    "jupyter": {
     "outputs_hidden": true
    },
    "nbgrader": {
     "cell_type": "markdown",
     "checksum": "a870e55cd10efbe258a2ca3a2d89d125",
     "grade": true,
     "grade_id": "cell-9fc8c72c060b65e1",
     "locked": false,
     "points": 2,
     "schema_version": 3,
     "solution": true,
     "task": false
    }
   },
   "source": [
    "\\begin{align*}\n",
    "    &H_0: \\, p \\leq 0.5 \\text{ (There is no evidence that the coin is biased towards heads) } \\\\\n",
    "    &H_1: \\, p > 0.5. \\text{ (The coin is biased towards heads) }\n",
    "\\end{align*}"
   ]
  },
  {
   "cell_type": "markdown",
   "metadata": {
    "nbgrader": {
     "cell_type": "markdown",
     "checksum": "6d1c5b72670ef0752d2b32fa6fcc04b4",
     "grade": false,
     "grade_id": "cell-003b3760bb89529d",
     "locked": true,
     "schema_version": 3,
     "solution": false,
     "task": false
    }
   },
   "source": [
    "**B.3(b) [8 points] Define the rejection region to be  $X \\ge 37$.  Calculate the rate of type I error. (For this part, and all remaining parts, calculate probabilities exactly, i.e., without using the normal approximation).**"
   ]
  },
  {
   "cell_type": "code",
   "execution_count": 55,
   "metadata": {
    "nbgrader": {
     "cell_type": "code",
     "checksum": "7c5cb639af261da3d9ba8f664e31e5b7",
     "grade": true,
     "grade_id": "cell-e3d84d8692581f30",
     "locked": false,
     "points": 5,
     "schema_version": 3,
     "solution": true,
     "task": false
    },
    "vscode": {
     "languageId": "r"
    }
   },
   "outputs": [
    {
     "data": {
      "text/html": [
       "0.0462304905364621"
      ],
      "text/latex": [
       "0.0462304905364621"
      ],
      "text/markdown": [
       "0.0462304905364621"
      ],
      "text/plain": [
       "[1] 0.04623049"
      ]
     },
     "metadata": {},
     "output_type": "display_data"
    }
   ],
   "source": [
    "n = 60\n",
    "p = 0.5\n",
    "rej_reg = 37\n",
    "\n",
    "type_I_error = 1 - pbinom(rej_reg - 1,n,p)\n",
    "type_I_error"
   ]
  },
  {
   "cell_type": "markdown",
   "metadata": {
    "nbgrader": {
     "cell_type": "markdown",
     "checksum": "ddb321910b89d43c8b72ef9230f1798c",
     "grade": false,
     "grade_id": "cell-bff3c97fbb1e9073",
     "locked": true,
     "schema_version": 3,
     "solution": false,
     "task": false
    }
   },
   "source": [
    "**B.3(c) [14 points] Construct a grid of values for $p$ under the alternative hypothesis. For each value of $p$ in this grid, calculate the power of this test (remember that statistical power is the probability of rejecting the null hypothesis while an alternative hypothesis is true). Make a plot of the power ($y$-axis) vs $p$ ($x$-axis). Interpret/comment on this plot. In particular, as $p$ gets further from the $p$ specified under the null hypothesis, what happens to the power?**\n"
   ]
  },
  {
   "cell_type": "code",
   "execution_count": 56,
   "metadata": {
    "nbgrader": {
     "cell_type": "code",
     "checksum": "4c9542b0b4cb84d04e09d490600a6802",
     "grade": true,
     "grade_id": "cell-4a1c3c8460c067ea",
     "locked": false,
     "points": 6,
     "schema_version": 3,
     "solution": true,
     "task": false
    },
    "vscode": {
     "languageId": "r"
    }
   },
   "outputs": [
    {
     "data": {
      "image/png": "[encoded data removed]",
      "text/plain": [
       "Plot with title \"Power vs. Probability\""
      ]
     },
     "metadata": {},
     "output_type": "display_data"
    }
   ],
   "source": [
    "n = 60\n",
    "p_values = seq(0.5, 0.9, by = 0.05)\n",
    "\n",
    "power = sapply(p_values, function(p) 1 - pbinom(rej_reg - 1, n, p))\n",
    "\n",
    "df = data.frame(p_values,power)\n",
    "\n",
    "plot(df$p_values, df$power, type = \"b\", pch = 16, xlab = \"p\", \n",
    "     ylab = \"power\", main = \"Power vs. Probability\")\n"
   ]
  },
  {
   "cell_type": "markdown",
   "metadata": {
    "nbgrader": {
     "cell_type": "markdown",
     "checksum": "bad64bde42dbcac73ebcca85c3df48bf",
     "grade": true,
     "grade_id": "cell-875c1245d8164c27",
     "locked": false,
     "points": 4,
     "schema_version": 3,
     "solution": true,
     "task": false
    }
   },
   "source": [
    "From this plot it is clearly visible that the Power of the Test increases when p > 0.5 ie (when the alternative hypothesis is true) and not at the Null hypothesis probability.\n",
    "So the probablity of Rejecting the Null Hypothesis the power of a test increases. So in H1 the coin is biased towards the heads.\n"
   ]
  },
  {
   "cell_type": "markdown",
   "metadata": {
    "nbgrader": {
     "cell_type": "markdown",
     "checksum": "eb4151ab633b5de7a8cff00ec68cdf01",
     "grade": false,
     "grade_id": "cell-26cd7ab999a0a9b2",
     "locked": true,
     "schema_version": 3,
     "solution": false,
     "task": false
    }
   },
   "source": [
    "**B.3(d) [10 points] Suppose that you flip the coin and get $27$ heads out of $60$. Use this information to test your hypotheses from part B.3(a). State your conclusion.**\n"
   ]
  },
  {
   "cell_type": "code",
   "execution_count": 59,
   "metadata": {
    "nbgrader": {
     "cell_type": "code",
     "checksum": "45a1b1edd635c7900f6db8f9598261fe",
     "grade": true,
     "grade_id": "cell-d4ed703dbccce40f",
     "locked": false,
     "points": 3,
     "schema_version": 3,
     "solution": true,
     "task": false
    },
    "vscode": {
     "languageId": "r"
    }
   },
   "outputs": [
    {
     "data": {
      "text/html": [
       "0.816852996648354"
      ],
      "text/latex": [
       "0.816852996648354"
      ],
      "text/markdown": [
       "0.816852996648354"
      ],
      "text/plain": [
       "[1] 0.816853"
      ]
     },
     "metadata": {},
     "output_type": "display_data"
    },
    {
     "name": "stdout",
     "output_type": "stream",
     "text": [
      "There is no evidence that the coin is biased towards heads"
     ]
    }
   ],
   "source": [
    "H0 = \"There is no evidence that the coin is biased towards heads\"\n",
    "H1 = \"The coin is biased towards heads\"\n",
    "\n",
    "n = 60\n",
    "prob_H0 = 0.5\n",
    "x_heads = 27\n",
    "\n",
    "p_value = 1 - pbinom(x_heads-1,n,p)\n",
    "p_value\n",
    "\n",
    "alpha = 0.05\n",
    "\n",
    "if (p_value < alpha) {\n",
    "    cat(H1)\n",
    "} else {\n",
    "    cat(H0)\n",
    "} "
   ]
  },
  {
   "cell_type": "markdown",
   "metadata": {
    "nbgrader": {
     "cell_type": "markdown",
     "checksum": "0fafd6933431dceda499141f5541c468",
     "grade": true,
     "grade_id": "cell-8cbcd15e3ab22880",
     "locked": false,
     "points": 3,
     "schema_version": 3,
     "solution": true,
     "task": false
    }
   },
   "source": [
    "Here, p_value > significance level (alpha).  so, we fail to reject H0. \n",
    "- There is no evidence that the coin is biased. "
   ]
  }
 ],
 "metadata": {
  "kernelspec": {
   "display_name": "Python 3 (ipykernel)",
   "language": "python",
   "name": "python3"
  },
  "language_info": {
   "codemirror_mode": {
    "name": "ipython",
    "version": 3
   },
   "file_extension": ".py",
   "mimetype": "text/x-python",
   "name": "python",
   "nbconvert_exporter": "python",
   "pygments_lexer": "ipython3",
   "version": "3.12.4"
  }
 },
 "nbformat": 4,
 "nbformat_minor": 4
}

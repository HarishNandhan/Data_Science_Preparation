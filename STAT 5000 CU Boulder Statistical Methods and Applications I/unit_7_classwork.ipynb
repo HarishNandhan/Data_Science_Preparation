{
 "cells": [
  {
   "cell_type": "markdown",
   "metadata": {
    "nbgrader": {
     "cell_type": "markdown",
     "checksum": "02c4f9a42182c8e7d2a3bc8b13f4476e",
     "grade": false,
     "grade_id": "cell-d38bfb6db7a72de5",
     "locked": true,
     "schema_version": 3,
     "solution": false,
     "task": false
    }
   },
   "source": [
    "# Unit 7 Classwork\n",
    "\n",
    "The purpose of this in-class notebook is for you to gain some experience with hypothesis testing."
   ]
  },
  {
   "cell_type": "markdown",
   "metadata": {
    "nbgrader": {
     "cell_type": "markdown",
     "checksum": "b586c4d366261dc68a639c874ba0a588",
     "grade": false,
     "grade_id": "cell-547fc7d3fc454415",
     "locked": true,
     "schema_version": 3,
     "solution": false,
     "task": false
    }
   },
   "source": [
    "## Problem 1 \n",
    "\n",
    "Natural cork in wine bottles is subject to deterioration, and as a result wine in such bottles may experience contamination. \n",
    "\n",
    "The article “Effects of Bottle Closure Type on Consumer Perceptions of Wine Quality” (*Amer. J. of Enology and Viticulture, 2007: 182–191*) reported that, in a tasting of commercial chardonnays, $16$ of $91$ bottles were considered spoiled to some extent by cork-associated characteristics.\n",
    "\n",
    "**Do these data provide strong evidence for concluding that more than $15\\%$ of all such bottles are contaminated in this way?  Use a significance level $\\alpha = 0.10$.**\n"
   ]
  },
  {
   "cell_type": "markdown",
   "metadata": {
    "nbgrader": {
     "cell_type": "markdown",
     "checksum": "61de56cc8ac19fc84373f4516ef6aba9",
     "grade": true,
     "grade_id": "cell-c3f8a8c9686e9011",
     "locked": false,
     "points": 1,
     "schema_version": 3,
     "solution": true,
     "task": false
    }
   },
   "source": [
    "- H0 : p = 0.15\n",
    "- H1 : p > 0.15 (One-tailed test)"
   ]
  },
  {
   "cell_type": "code",
   "execution_count": 114,
   "metadata": {
    "nbgrader": {
     "cell_type": "code",
     "checksum": "f3ce534f7f73c72c767415846db59f06",
     "grade": true,
     "grade_id": "cell-4c40eb7276daf645",
     "locked": false,
     "points": 1,
     "schema_version": 3,
     "solution": true,
     "task": false
    },
    "vscode": {
     "languageId": "r"
    }
   },
   "outputs": [
    {
     "data": {
      "text/html": [
       "1.2815515655446"
      ],
      "text/latex": [
       "1.2815515655446"
      ],
      "text/markdown": [
       "1.2815515655446"
      ],
      "text/plain": [
       "[1] 1.281552"
      ]
     },
     "metadata": {},
     "output_type": "display_data"
    }
   ],
   "source": [
    "alpha = 0.10\n",
    "z_critical = qnorm(1 - alpha) # for upper tail we should have the positive value so '1 - alpha'\n",
    "z_critical\n"
   ]
  },
  {
   "cell_type": "code",
   "execution_count": 115,
   "metadata": {
    "vscode": {
     "languageId": "r"
    }
   },
   "outputs": [
    {
     "data": {
      "text/html": [
       "0.689909418247621"
      ],
      "text/latex": [
       "0.689909418247621"
      ],
      "text/markdown": [
       "0.689909418247621"
      ],
      "text/plain": [
       "[1] 0.6899094"
      ]
     },
     "metadata": {},
     "output_type": "display_data"
    }
   ],
   "source": [
    "p_hat = 16/91\n",
    "p0 = 0.15\n",
    "n = 91\n",
    "z_stat = (p_hat - p0)/sqrt(p0*(1-p0)/n)\n",
    "z_stat"
   ]
  },
  {
   "cell_type": "markdown",
   "metadata": {},
   "source": [
    "Upper-tail test\n",
    "- Therefore, since $z_{stat} < z_{critical}$, we fail to reject the null hypothesis.\n",
    "- We have not found the strong evidence that the percentage of contaminated wine bottles is more than 15%."
   ]
  },
  {
   "cell_type": "markdown",
   "metadata": {
    "nbgrader": {
     "cell_type": "markdown",
     "checksum": "fdecff629fe643d64ceb13e65a59de48",
     "grade": false,
     "grade_id": "cell-e0b66408b04bd95f",
     "locked": true,
     "schema_version": 3,
     "solution": false,
     "task": false
    }
   },
   "source": [
    "## Problem #2\n",
    "\n",
    "The goal of this problem is to learn about the distribution of $p$-values across many random samples from a normally distributed population. \n",
    "\n",
    "**2.(a) Consider the test $H_0: \\mu = 0$ vs $H_1: \\mu > 0$. Simulate $m = 10,000$ samples of size $n = 5$ under the null hypothesis. Fix $\\sigma = 1$ and assume that it is known.**"
   ]
  },
  {
   "cell_type": "code",
   "execution_count": 116,
   "metadata": {
    "nbgrader": {
     "cell_type": "code",
     "checksum": "a0156ed6af6afaabb215ba945fe8933b",
     "grade": true,
     "grade_id": "cell-248c18c5bc380434",
     "locked": false,
     "points": 1,
     "schema_version": 3,
     "solution": true,
     "task": false
    },
    "vscode": {
     "languageId": "r"
    }
   },
   "outputs": [
    {
     "data": {
      "text/html": [
       "<table>\n",
       "<tbody>\n",
       "\t<tr><td> 1.1037808</td><td> 1.6460173</td><td> 0.5704913</td><td>-0.7922212</td><td>-0.1581547</td></tr>\n",
       "\t<tr><td>-1.3189576</td><td>-1.7574148</td><td> 0.0227758</td><td>-1.0039691</td><td> 1.3850477</td></tr>\n",
       "\t<tr><td> 1.4978200</td><td> 1.1421981</td><td> 0.1717684</td><td> 0.1232424</td><td>-0.6457725</td></tr>\n",
       "\t<tr><td>-0.4486861</td><td> 0.6120102</td><td>-0.6611583</td><td>-0.1746192</td><td> 1.7803266</td></tr>\n",
       "\t<tr><td> 0.2361191</td><td> 0.3774207</td><td> 1.1863121</td><td>-1.3754823</td><td>-0.1068209</td></tr>\n",
       "\t<tr><td> 0.5597819</td><td> 0.1705977</td><td> 1.4244269</td><td>-0.4504553</td><td> 0.2340892</td></tr>\n",
       "</tbody>\n",
       "</table>\n"
      ],
      "text/latex": [
       "\\begin{tabular}{lllll}\n",
       "\t  1.1037808 &  1.6460173 &  0.5704913 & -0.7922212 & -0.1581547\\\\\n",
       "\t -1.3189576 & -1.7574148 &  0.0227758 & -1.0039691 &  1.3850477\\\\\n",
       "\t  1.4978200 &  1.1421981 &  0.1717684 &  0.1232424 & -0.6457725\\\\\n",
       "\t -0.4486861 &  0.6120102 & -0.6611583 & -0.1746192 &  1.7803266\\\\\n",
       "\t  0.2361191 &  0.3774207 &  1.1863121 & -1.3754823 & -0.1068209\\\\\n",
       "\t  0.5597819 &  0.1705977 &  1.4244269 & -0.4504553 &  0.2340892\\\\\n",
       "\\end{tabular}\n"
      ],
      "text/markdown": [
       "\n",
       "|  1.1037808 |  1.6460173 |  0.5704913 | -0.7922212 | -0.1581547 |\n",
       "| -1.3189576 | -1.7574148 |  0.0227758 | -1.0039691 |  1.3850477 |\n",
       "|  1.4978200 |  1.1421981 |  0.1717684 |  0.1232424 | -0.6457725 |\n",
       "| -0.4486861 |  0.6120102 | -0.6611583 | -0.1746192 |  1.7803266 |\n",
       "|  0.2361191 |  0.3774207 |  1.1863121 | -1.3754823 | -0.1068209 |\n",
       "|  0.5597819 |  0.1705977 |  1.4244269 | -0.4504553 |  0.2340892 |\n",
       "\n"
      ],
      "text/plain": [
       "     [,1]       [,2]       [,3]       [,4]       [,5]      \n",
       "[1,]  1.1037808  1.6460173  0.5704913 -0.7922212 -0.1581547\n",
       "[2,] -1.3189576 -1.7574148  0.0227758 -1.0039691  1.3850477\n",
       "[3,]  1.4978200  1.1421981  0.1717684  0.1232424 -0.6457725\n",
       "[4,] -0.4486861  0.6120102 -0.6611583 -0.1746192  1.7803266\n",
       "[5,]  0.2361191  0.3774207  1.1863121 -1.3754823 -0.1068209\n",
       "[6,]  0.5597819  0.1705977  1.4244269 -0.4504553  0.2340892"
      ]
     },
     "metadata": {},
     "output_type": "display_data"
    }
   ],
   "source": [
    "# One tailed test\n",
    "m = 10000\n",
    "n = 5\n",
    "\n",
    "x_null = t(replicate(m, rnorm(n, mean=0, sd=1)))\n",
    "\n",
    "head(x_null)"
   ]
  },
  {
   "cell_type": "markdown",
   "metadata": {
    "nbgrader": {
     "cell_type": "markdown",
     "checksum": "9373cc736998a70a790974eae2b42eca",
     "grade": false,
     "grade_id": "cell-fd9e45e6dea80ca7",
     "locked": true,
     "schema_version": 3,
     "solution": false,
     "task": false
    }
   },
   "source": [
    "**2.(b) Calculate the $p$-value for each sample (remember, the $p$-value is calculated assuming the null hypothesis is true). Print a histogram of these $p$-values. Comment on the distribution.**"
   ]
  },
  {
   "cell_type": "code",
   "execution_count": 117,
   "metadata": {
    "nbgrader": {
     "cell_type": "code",
     "checksum": "ab199bb481188a52c1384bf2da62b047",
     "grade": true,
     "grade_id": "cell-1fc9ce56c3dd58d5",
     "locked": false,
     "points": 1,
     "schema_version": 3,
     "solution": true,
     "task": false
    },
    "vscode": {
     "languageId": "r"
    }
   },
   "outputs": [
    {
     "data": {
      "image/png": "[encoded data removed]",
      "text/plain": [
       "Plot with title \"Histogram of p_values\""
      ]
     },
     "metadata": {},
     "output_type": "display_data"
    }
   ],
   "source": [
    "x_bars = rowMeans(x_null)\n",
    "mu = 0\n",
    "sigma = 1\n",
    "\n",
    "z_stats = (x_bars - mu)/(sigma/sqrt(n))\n",
    "p_values = 1 - pnorm(z_stats) # upper tailed test\n",
    "\n",
    "hist(p_values,col = 'blue')\n"
   ]
  },
  {
   "cell_type": "markdown",
   "metadata": {
    "nbgrader": {
     "cell_type": "markdown",
     "checksum": "a88acb98bc2024efaf2240c50278a987",
     "grade": true,
     "grade_id": "cell-7553ba20c6efd7a5",
     "locked": false,
     "points": 1,
     "schema_version": 3,
     "solution": true,
     "task": false
    }
   },
   "source": [
    "Uniform Distribution"
   ]
  },
  {
   "cell_type": "markdown",
   "metadata": {
    "nbgrader": {
     "cell_type": "markdown",
     "checksum": "5252b3156806f0a70bca3e960ea41fdb",
     "grade": false,
     "grade_id": "cell-bf5a8bd39e17f555",
     "locked": true,
     "schema_version": 3,
     "solution": false,
     "task": false
    }
   },
   "source": [
    "**2.(c) Suppose $\\alpha = 0.05$. What is the percentage of $p$-values that are less than $0.05$? How often, in this scenario, would you make a type I error? Does the answer which theory suggests match (roughly) the answer the simulation suggests?**"
   ]
  },
  {
   "cell_type": "code",
   "execution_count": 118,
   "metadata": {
    "nbgrader": {
     "cell_type": "code",
     "checksum": "2ca072c239618112db363d3bc36ab753",
     "grade": true,
     "grade_id": "cell-8a7ec312cf869f18",
     "locked": false,
     "points": 1,
     "schema_version": 3,
     "solution": true,
     "task": false
    },
    "vscode": {
     "languageId": "r"
    }
   },
   "outputs": [
    {
     "name": "stdout",
     "output_type": "stream",
     "text": [
      "[1] 0.0486\n"
     ]
    },
    {
     "data": {
      "text/html": [
       "4.86"
      ],
      "text/latex": [
       "4.86"
      ],
      "text/markdown": [
       "4.86"
      ],
      "text/plain": [
       "[1] 4.86"
      ]
     },
     "metadata": {},
     "output_type": "display_data"
    }
   ],
   "source": [
    "alpha = 0.05\n",
    "prop_null = sum(p_values<0.05)/m\n",
    "print(prop_null) * 100"
   ]
  },
  {
   "cell_type": "markdown",
   "metadata": {
    "nbgrader": {
     "cell_type": "markdown",
     "checksum": "8f71ed3ef66c28847b4fe9e558edc490",
     "grade": true,
     "grade_id": "cell-96d2cd80c94c48d7",
     "locked": false,
     "points": 1,
     "schema_version": 3,
     "solution": true,
     "task": false
    }
   },
   "source": [
    "We would reject the null hypothesis for approximately 5.04% of the times but we know we shouldn't reject the null hypothesis because the null hypothesis is actually true and it will lead to make a Type I error roughly 5.04%.\n",
    "For a significance level of $\\alpha=0.05$, theory would suggest that we would make a Type I error 5% of the time. Our simulation supports that theoritical value.\n"
   ]
  },
  {
   "cell_type": "markdown",
   "metadata": {
    "nbgrader": {
     "cell_type": "markdown",
     "checksum": "66d0883e40e2909f157ffa0070dcce4a",
     "grade": false,
     "grade_id": "cell-0921a76577c4d132",
     "locked": true,
     "schema_version": 3,
     "solution": false,
     "task": false
    }
   },
   "source": [
    "**2.(d) Now, considering the same test, i.e.,  $H_0: \\mu = 0$ vs. $H_1: \\mu > 0$, simulate data under the specific alternative $\\mu = 2$. Calculate the $p$-values for each sample (remember, the $p$-value is calculated assuming the null hypothesis is true). Print a histogram of these $p$-values. What does the distribution look like?**"
   ]
  },
  {
   "cell_type": "code",
   "execution_count": 119,
   "metadata": {
    "nbgrader": {
     "cell_type": "code",
     "checksum": "c805f92ecc1d0596e2fdf15b5e85159d",
     "grade": true,
     "grade_id": "cell-1c0f1524a5e76a74",
     "locked": false,
     "points": 1,
     "schema_version": 3,
     "solution": true,
     "task": false
    },
    "vscode": {
     "languageId": "r"
    }
   },
   "outputs": [
    {
     "data": {
      "image/png": "[encoded data removed]",
      "text/plain": [
       "Plot with title \"Histogram of p_values_new\""
      ]
     },
     "metadata": {},
     "output_type": "display_data"
    }
   ],
   "source": [
    "mu_alternative = 2\n",
    "x_new = t(replicate(m, rnorm(n, mean = mu_alternative, sd = 1)))\n",
    "\n",
    "x_bars_new = rowMeans(x_new)\n",
    "\n",
    "# Here mu = 0,  because we assume the same that Null Hypothesis is true.\n",
    "z_stats_new = (x_bars_new - 0)/(sigma/sqrt(n)) \n",
    "p_values_new  = 1 - pnorm(z_stats_new)\n",
    "hist(p_values_new,col = 'forestgreen')"
   ]
  },
  {
   "cell_type": "markdown",
   "metadata": {},
   "source": [
    "The distribution is Extremely skewed. Notice that the vast majority of time, our p-value is smaller than alpha. This indicated that we would reject the Null Hypothesis every time. This is a good outcome because our null hypothesis holds that the mean = 0, when we know that every sample of the 10000 comes from a normal distribution with men"
   ]
  },
  {
   "cell_type": "markdown",
   "metadata": {
    "nbgrader": {
     "cell_type": "markdown",
     "checksum": "3d66440c05fd5d0f0d2ba9de7db352ac",
     "grade": false,
     "grade_id": "cell-83251f860cbbe94e",
     "locked": true,
     "schema_version": 3,
     "solution": false,
     "task": false
    }
   },
   "source": [
    "**2.(e) Suppose $\\alpha = 0.05$. What is the proportion of $p$-values that are greater than $0.05$? How often, in this scenario, would you make a type II error?**"
   ]
  },
  {
   "cell_type": "code",
   "execution_count": 120,
   "metadata": {
    "nbgrader": {
     "cell_type": "code",
     "checksum": "7965f73b4999c35e2942b0b0d9360d36",
     "grade": true,
     "grade_id": "cell-d5ddf5acd3bce21d",
     "locked": false,
     "points": 1,
     "schema_version": 3,
     "solution": true,
     "task": false
    },
    "vscode": {
     "languageId": "r"
    }
   },
   "outputs": [
    {
     "data": {
      "text/html": [
       "0.0027"
      ],
      "text/latex": [
       "0.0027"
      ],
      "text/markdown": [
       "0.0027"
      ],
      "text/plain": [
       "[1] 0.0027"
      ]
     },
     "metadata": {},
     "output_type": "display_data"
    }
   ],
   "source": [
    "type_II_errors = sum(p_values_new > 0.05)/m\n",
    "type_II_errors"
   ]
  },
  {
   "cell_type": "markdown",
   "metadata": {
    "nbgrader": {
     "cell_type": "markdown",
     "checksum": "caa34405135dafe0cb0c1f87888fc193",
     "grade": false,
     "grade_id": "cell-fb701ba1395de196",
     "locked": true,
     "schema_version": 3,
     "solution": false,
     "task": false
    }
   },
   "source": [
    "**2.(f) The ${\\bf power}$ of a test is $1 - P(\\text{Type II Error})$. That is, the power of a hypothesis test is the probability of rejecting $H_0$ when $H_1$ is true. (High powered tests are desirable!) Calculate the power of this test.**"
   ]
  },
  {
   "cell_type": "code",
   "execution_count": 121,
   "metadata": {
    "nbgrader": {
     "cell_type": "code",
     "checksum": "d3bf44ec217f1b8587b91871ef2ade44",
     "grade": true,
     "grade_id": "cell-2b8c978d42a3b932",
     "locked": false,
     "points": 1,
     "schema_version": 3,
     "solution": true,
     "task": false
    },
    "vscode": {
     "languageId": "r"
    }
   },
   "outputs": [
    {
     "data": {
      "text/html": [
       "0.9973"
      ],
      "text/latex": [
       "0.9973"
      ],
      "text/markdown": [
       "0.9973"
      ],
      "text/plain": [
       "[1] 0.9973"
      ]
     },
     "metadata": {},
     "output_type": "display_data"
    }
   ],
   "source": [
    "1 - type_II_errors"
   ]
  },
  {
   "cell_type": "markdown",
   "metadata": {
    "nbgrader": {
     "cell_type": "markdown",
     "checksum": "76e3f94d25c92562ea81b16e6476ae9c",
     "grade": false,
     "grade_id": "cell-c5df259330c3be4a",
     "locked": true,
     "schema_version": 3,
     "solution": false,
     "task": false
    }
   },
   "source": [
    "**2.(g) How could you increase the power of the test? Verify your answer through simulation by changing values from above.**"
   ]
  },
  {
   "cell_type": "code",
   "execution_count": 122,
   "metadata": {
    "vscode": {
     "languageId": "r"
    }
   },
   "outputs": [
    {
     "name": "stdout",
     "output_type": "stream",
     "text": [
      "[1] 1\n"
     ]
    }
   ],
   "source": [
    "n_1 = 10\n",
    "mu_alternative = 2\n",
    "x_new = t(replicate(m, rnorm(n_1, mean = mu_alternative, sd = 1)))\n",
    "\n",
    "x_bars_new = rowMeans(x_new)\n",
    "\n",
    "# Here mu = 0,  because we assume the same that Null Hypothesis is true.\n",
    "sigma_new = 1\n",
    "z_stats_new = (x_bars_new - 0)/(sigma_new/sqrt(n_1)) \n",
    "p_values_new  = 1 - pnorm(z_stats_new)\n",
    "type_II_errors = sum(p_values_new > 0.05)/m\n",
    "\n",
    "power_of_test = 1 - type_II_errors\n",
    "print(power_of_test)"
   ]
  },
  {
   "cell_type": "markdown",
   "metadata": {
    "nbgrader": {
     "cell_type": "markdown",
     "checksum": "1d11684b794927afa55e9fac8a0200c3",
     "grade": true,
     "grade_id": "cell-59889e141a5c910f",
     "locked": false,
     "points": 1,
     "schema_version": 3,
     "solution": true,
     "task": false
    }
   },
   "source": [
    "Increase the sample size."
   ]
  },
  {
   "cell_type": "markdown",
   "metadata": {},
   "source": [
    "## Problem #3\n",
    "\n",
    "\n",
    "\n",
    "Analysis of a random sample consisting of $20$ specimens of cold-rolled steel to determine yield strengths resulted in a sample average strength of $29.8$ ksi. A second random sample of $25$ two-sided galvanized steel specimens gave a sample average strength of $34.7$ ksi.\n",
    "\n",
    "Assuming that the two yield-strength distributions are normal with $\\sigma_1 = 4.0$ and $\\sigma_2 = 5.0$, does the data indicate that the corresponding true average yield strengths $\\mu_1$ and $\\mu_2$ are different? \n",
    "\n",
    "Conduct the test at significance level  $\\alpha = 0.01$."
   ]
  },
  {
   "cell_type": "markdown",
   "metadata": {},
   "source": [
    "Note that $H_0: \\, \\mu_1 - \\mu_2 = 0$, vs. $H_1: \\, \\mu_1 - \\mu_2 \\neq 0$. This is a two-tailed test."
   ]
  },
  {
   "cell_type": "code",
   "execution_count": 123,
   "metadata": {
    "vscode": {
     "languageId": "r"
    }
   },
   "outputs": [
    {
     "data": {
      "text/html": [
       "-3.65224436324966"
      ],
      "text/latex": [
       "-3.65224436324966"
      ],
      "text/markdown": [
       "-3.65224436324966"
      ],
      "text/plain": [
       "[1] -3.652244"
      ]
     },
     "metadata": {},
     "output_type": "display_data"
    },
    {
     "data": {
      "text/html": [
       "0.000259958332754273"
      ],
      "text/latex": [
       "0.000259958332754273"
      ],
      "text/markdown": [
       "0.000259958332754273"
      ],
      "text/plain": [
       "[1] 0.0002599583"
      ]
     },
     "metadata": {},
     "output_type": "display_data"
    }
   ],
   "source": [
    "n1 = 20\n",
    "x_bar1 = 29.8\n",
    "sigma1 = 4\n",
    "\n",
    "n2= 25\n",
    "x_bar2=34.7\n",
    "sigma2 = 5\n",
    "\n",
    "zstat = (x_bar1 - x_bar2 - 0)/sqrt(sigma1^2/n1 + sigma2^2/n2)\n",
    "zstat\n",
    "p = 2*(1-pnorm(abs(zstat)))\n",
    "p"
   ]
  },
  {
   "cell_type": "markdown",
   "metadata": {},
   "source": [
    "The 'p' value is very less than the significance level and also the greater than the zstat value so, We reject H0."
   ]
  },
  {
   "cell_type": "markdown",
   "metadata": {},
   "source": []
  }
 ],
 "metadata": {
  "kernelspec": {
   "display_name": "Python 3 (ipykernel)",
   "language": "python",
   "name": "python3"
  },
  "language_info": {
   "codemirror_mode": {
    "name": "ipython",
    "version": 3
   },
   "file_extension": ".py",
   "mimetype": "text/x-python",
   "name": "python",
   "nbconvert_exporter": "python",
   "pygments_lexer": "ipython3",
   "version": "3.12.4"
  }
 },
 "nbformat": 4,
 "nbformat_minor": 4
}

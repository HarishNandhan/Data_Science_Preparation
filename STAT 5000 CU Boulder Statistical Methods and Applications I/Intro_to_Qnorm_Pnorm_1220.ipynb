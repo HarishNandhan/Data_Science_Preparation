{
 "cells": [
  {
   "cell_type": "markdown",
   "id": "9a409d99-2bb2-4739-9726-ed83c752a7d8",
   "metadata": {},
   "source": [
    "### Intro to Qnorm and Pnorm\n"
   ]
  },
  {
   "cell_type": "markdown",
   "id": "4d2fd073-5276-4991-b6ea-4e9e2cb23484",
   "metadata": {},
   "source": [
    "First, a _very_ brief intro to `tigerstats`"
   ]
  },
  {
   "cell_type": "code",
   "execution_count": 22,
   "id": "b270bc94-5a07-4d8e-97a8-1fa3600495df",
   "metadata": {},
   "outputs": [
    {
     "name": "stderr",
     "output_type": "stream",
     "text": [
      "Warning message:\n",
      "\"package 'mosaic' is not available (for R version 3.6.1)\"Warning message:\n",
      "\"unable to access index for repository https://cran.r-project.org/bin/windows/contrib/3.6:\n",
      "  cannot open URL 'https://cran.r-project.org/bin/windows/contrib/3.6/PACKAGES'\""
     ]
    }
   ],
   "source": [
    "install.packages(\"mosaic\")"
   ]
  },
  {
   "cell_type": "code",
   "execution_count": 17,
   "id": "c0e79e77-59dc-4144-8621-d564ce3ce886",
   "metadata": {},
   "outputs": [
    {
     "ename": "ERROR",
     "evalue": "Error in library(tigerstats): there is no package called 'tigerstats'\n",
     "output_type": "error",
     "traceback": [
      "Error in library(tigerstats): there is no package called 'tigerstats'\nTraceback:\n",
      "1. library(tigerstats)"
     ]
    }
   ],
   "source": [
    "library(tigerstats)"
   ]
  },
  {
   "cell_type": "code",
   "execution_count": 18,
   "id": "9685496d-3028-4cb4-ac61-a74dd5363543",
   "metadata": {},
   "outputs": [
    {
     "ename": "ERROR",
     "evalue": "Error in pnormGC(72, region = \"below\", mean = 70, sd = 3, graph = TRUE): could not find function \"pnormGC\"\n",
     "output_type": "error",
     "traceback": [
      "Error in pnormGC(72, region = \"below\", mean = 70, sd = 3, graph = TRUE): could not find function \"pnormGC\"\nTraceback:\n"
     ]
    }
   ],
   "source": [
    "pnormGC(72, region=\"below\", mean=70,\n",
    "        sd=3,graph=TRUE)"
   ]
  },
  {
   "cell_type": "code",
   "execution_count": 19,
   "id": "c09fb607-5130-4c79-84a2-662b0f753705",
   "metadata": {},
   "outputs": [
    {
     "data": {
      "text/html": [
       "73.1093001684814"
      ],
      "text/latex": [
       "73.1093001684814"
      ],
      "text/markdown": [
       "73.1093001684814"
      ],
      "text/plain": [
       "[1] 73.1093"
      ]
     },
     "metadata": {},
     "output_type": "display_data"
    }
   ],
   "source": [
    "qnorm(0.85,mean=70,sd=3)"
   ]
  },
  {
   "cell_type": "code",
   "execution_count": 20,
   "id": "7000e898-4c9e-4e62-a93f-afd802dc63e6",
   "metadata": {},
   "outputs": [
    {
     "ename": "ERROR",
     "evalue": "Error in pnormGC(73.1093, region = \"below\", mean = 70, sd = 3, graph = TRUE): could not find function \"pnormGC\"\n",
     "output_type": "error",
     "traceback": [
      "Error in pnormGC(73.1093, region = \"below\", mean = 70, sd = 3, graph = TRUE): could not find function \"pnormGC\"\nTraceback:\n"
     ]
    }
   ],
   "source": [
    "pnormGC(73.1093,region=\"below\",mean=70,\n",
    "        sd=3,graph=TRUE)"
   ]
  },
  {
   "cell_type": "code",
   "execution_count": null,
   "id": "b1f84e8e-72e8-4909-811f-02d4bd29d7a9",
   "metadata": {},
   "outputs": [],
   "source": [
    "qnorm(0.975,mean=0,sd=1)"
   ]
  },
  {
   "cell_type": "code",
   "execution_count": null,
   "id": "3460e0b9-ac8c-4f39-84e2-9380a2027d8e",
   "metadata": {},
   "outputs": [],
   "source": [
    "pnormGC(c(-1.96,1.96),region=\"between\",mean=0,\n",
    "        sd=1,graph=TRUE)"
   ]
  },
  {
   "cell_type": "markdown",
   "id": "b31cc10e-1295-4604-a8f6-a1d740accfbe",
   "metadata": {},
   "source": [
    "### Exercise 1\n",
    "*** \n",
    "\n",
    "\n",
    "Let $Z$ be a standard normal random variable, i.e. $Z \\sim N(0,1)$.  \n",
    "\n",
    "**Part A**: Use pnorm to compute $P(Z \\leq 1.25)$ and $P(Z \\geq 1.25)$. "
   ]
  },
  {
   "cell_type": "code",
   "execution_count": 4,
   "id": "e8f7c699-e82f-4dd5-b849-afabad8e2cfc",
   "metadata": {},
   "outputs": [
    {
     "data": {
      "text/html": [
       "0.894350226333145"
      ],
      "text/latex": [
       "0.894350226333145"
      ],
      "text/markdown": [
       "0.894350226333145"
      ],
      "text/plain": [
       "[1] 0.8943502"
      ]
     },
     "metadata": {},
     "output_type": "display_data"
    }
   ],
   "source": [
    "# P(Z <= 1.25)\n",
    "pnorm(1.25)"
   ]
  },
  {
   "cell_type": "code",
   "execution_count": 5,
   "id": "8b53f80e-ad49-441f-8683-20375e2efb38",
   "metadata": {},
   "outputs": [
    {
     "data": {
      "text/html": [
       "0.401293674317076"
      ],
      "text/latex": [
       "0.401293674317076"
      ],
      "text/markdown": [
       "0.401293674317076"
      ],
      "text/plain": [
       "[1] 0.4012937"
      ]
     },
     "metadata": {},
     "output_type": "display_data"
    }
   ],
   "source": [
    "# P(Z >= 1.25)\n",
    "pnorm(1-1.25)"
   ]
  },
  {
   "cell_type": "code",
   "execution_count": 12,
   "id": "678aeb2e-b3a2-4e66-bfd9-80b0cd0cf6ea",
   "metadata": {},
   "outputs": [
    {
     "data": {
      "text/html": [
       "0.351972707575837"
      ],
      "text/latex": [
       "0.351972707575837"
      ],
      "text/markdown": [
       "0.351972707575837"
      ],
      "text/plain": [
       "[1] 0.3519727"
      ]
     },
     "metadata": {},
     "output_type": "display_data"
    }
   ],
   "source": [
    "pnorm(-0.38)"
   ]
  },
  {
   "cell_type": "code",
   "execution_count": 7,
   "id": "2c861eff-648d-4e1b-b9b6-015037828f3a",
   "metadata": {},
   "outputs": [
    {
     "data": {
      "text/html": [
       "0.810570345223288"
      ],
      "text/latex": [
       "0.810570345223288"
      ],
      "text/markdown": [
       "0.810570345223288"
      ],
      "text/plain": [
       "[1] 0.8105703"
      ]
     },
     "metadata": {},
     "output_type": "display_data"
    }
   ],
   "source": [
    "pnorm(0.88)"
   ]
  },
  {
   "cell_type": "code",
   "execution_count": 25,
   "id": "c29895f1-abe9-4b60-b63e-6c27ba989ab4",
   "metadata": {},
   "outputs": [
    {
     "data": {
      "text/html": [
       "0.351972707575837"
      ],
      "text/latex": [
       "0.351972707575837"
      ],
      "text/markdown": [
       "0.351972707575837"
      ],
      "text/plain": [
       "[1] 0.3519727"
      ]
     },
     "metadata": {},
     "output_type": "display_data"
    }
   ],
   "source": [
    "1 - pnorm(0.38)"
   ]
  },
  {
   "cell_type": "markdown",
   "id": "2988ad87-a9e4-473a-883d-4da703680f52",
   "metadata": {},
   "source": [
    "**Part B**: Use R to find the critical value $z_\\alpha$ corresponding to a tail with probability mass $0.05$.  That is, the value of $z_\\alpha$ such that $P(Z \\geq z_\\alpha) = 0.05$. "
   ]
  },
  {
   "cell_type": "code",
   "execution_count": 13,
   "id": "97446a0d-07fb-4988-9fb4-1d0c2bbdd573",
   "metadata": {},
   "outputs": [
    {
     "data": {
      "text/html": [
       "1.64485362695147"
      ],
      "text/latex": [
       "1.64485362695147"
      ],
      "text/markdown": [
       "1.64485362695147"
      ],
      "text/plain": [
       "[1] 1.644854"
      ]
     },
     "metadata": {},
     "output_type": "display_data"
    }
   ],
   "source": [
    "qnorm(0.95)"
   ]
  },
  {
   "cell_type": "markdown",
   "id": "a36e74ed-f22d-47b5-946e-86f0e51056f6",
   "metadata": {},
   "source": [
    "**Part C**: Suppose you want to find $z_\\alpha$ such that $P(-z_\\alpha \\leq Z \\leq z_\\alpha) = 0.95$.  What is the value of $z_\\alpha$ that accomplishes this, and in particular, what is the corresponding value of $\\alpha$? "
   ]
  },
  {
   "cell_type": "code",
   "execution_count": 15,
   "id": "9b50b7b1-e537-41cb-b205-3527a83d37e8",
   "metadata": {},
   "outputs": [
    {
     "data": {
      "text/html": [
       "1.95996398454005"
      ],
      "text/latex": [
       "1.95996398454005"
      ],
      "text/markdown": [
       "1.95996398454005"
      ],
      "text/plain": [
       "[1] 1.959964"
      ]
     },
     "metadata": {},
     "output_type": "display_data"
    }
   ],
   "source": [
    "qnorm(0.975)"
   ]
  },
  {
   "cell_type": "markdown",
   "id": "26d9f17f-cf81-45dc-ab4b-eeefa374853c",
   "metadata": {},
   "source": [
    "Finally, we can check that $z_\\alpha$ such that $P(-z_\\alpha \\leq Z \\leq z_\\alpha) = 0.95$. "
   ]
  },
  {
   "cell_type": "code",
   "execution_count": 16,
   "id": "35c45aea-2026-458d-9f23-ac60f97b570e",
   "metadata": {},
   "outputs": [
    {
     "data": {
      "text/html": [
       "0.950004209703559"
      ],
      "text/latex": [
       "0.950004209703559"
      ],
      "text/markdown": [
       "0.950004209703559"
      ],
      "text/plain": [
       "[1] 0.9500042"
      ]
     },
     "metadata": {},
     "output_type": "display_data"
    }
   ],
   "source": [
    "pnorm(1.96) - pnorm(-1.96)"
   ]
  },
  {
   "cell_type": "code",
   "execution_count": null,
   "id": "30864b22-a030-41e8-a64f-2dfd8ce950bd",
   "metadata": {},
   "outputs": [],
   "source": []
  }
 ],
 "metadata": {
  "kernelspec": {
   "display_name": "Python 3 (ipykernel)",
   "language": "python",
   "name": "python3"
  },
  "language_info": {
   "codemirror_mode": {
    "name": "ipython",
    "version": 3
   },
   "file_extension": ".py",
   "mimetype": "text/x-python",
   "name": "python",
   "nbconvert_exporter": "python",
   "pygments_lexer": "ipython3",
   "version": "3.12.4"
  }
 },
 "nbformat": 4,
 "nbformat_minor": 5
}

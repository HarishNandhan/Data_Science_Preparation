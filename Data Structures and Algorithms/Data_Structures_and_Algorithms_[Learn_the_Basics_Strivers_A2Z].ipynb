{
  "nbformat": 4,
  "nbformat_minor": 0,
  "metadata": {
    "colab": {
      "provenance": []
    },
    "kernelspec": {
      "name": "python3",
      "display_name": "Python 3"
    },
    "language_info": {
      "name": "python"
    }
  },
  "cells": [
    {
      "cell_type": "markdown",
      "source": [
        "### Patterns - Logic Building"
      ],
      "metadata": {
        "id": "4XCYY3BobRJo"
      }
    },
    {
      "cell_type": "code",
      "execution_count": null,
      "metadata": {
        "colab": {
          "base_uri": "https://localhost:8080/"
        },
        "id": "W2AHJSWmZDj1",
        "outputId": "92880a4a-2909-4e43-8bf7-9990ab64267b"
      },
      "outputs": [
        {
          "output_type": "stream",
          "name": "stdout",
          "text": [
            "5\n",
            "\n",
            "* \n",
            "* * \n",
            "* * * \n",
            "* * * * \n",
            "* * * * * \n",
            "* * * * \n",
            "* * * \n",
            "* * \n",
            "* \n"
          ]
        }
      ],
      "source": [
        "def pattern10(n):\n",
        "    for i in range(0,2*n):\n",
        "        if i <= n:\n",
        "            for j in range(0,i):\n",
        "                print(\"*\",end=\" \")\n",
        "            print(end=\"\\n\")\n",
        "        else:\n",
        "            for j in range(0,2*n-i):\n",
        "                print(\"*\",end=\" \")\n",
        "            print(end=\"\\n\")\n",
        "\n",
        "n = int(input())\n",
        "pattern10(n)"
      ]
    },
    {
      "cell_type": "code",
      "source": [
        "def pattern11(n):\n",
        "  for i in range(0,n):\n",
        "    if i%2==0:\n",
        "      start = 1\n",
        "    else:\n",
        "      start = 0\n",
        "    for j in range(0,i+1):\n",
        "      print(start,end=\" \")\n",
        "      start = 1 - start\n",
        "    print(end=\"\\n\")\n",
        "n = int(input())\n",
        "pattern11(n)"
      ],
      "metadata": {
        "id": "ABD2BCEMZEbJ",
        "colab": {
          "base_uri": "https://localhost:8080/"
        },
        "outputId": "760aea74-a4cf-4f1e-f010-c831af051b78"
      },
      "execution_count": null,
      "outputs": [
        {
          "output_type": "stream",
          "name": "stdout",
          "text": [
            "5\n",
            "1 \n",
            "0 1 \n",
            "1 0 1 \n",
            "0 1 0 1 \n",
            "1 0 1 0 1 \n"
          ]
        }
      ]
    },
    {
      "cell_type": "code",
      "source": [
        "def pattern12(n):\n",
        "  space = 2 * (n-1)\n",
        "  for i in range(1,n+1):\n",
        "\n",
        "    # numbers\n",
        "    for j in range(1,i+1):\n",
        "      print(j,end=\"\")\n",
        "\n",
        "    # spaces\n",
        "    for j in range(1,space):\n",
        "      print(end=\" \")\n",
        "\n",
        "    # numbers\n",
        "    for j in range(i,0,-1):\n",
        "      print(j,end=\"\")\n",
        "    space -=2\n",
        "    print(end=\"\\n\")\n",
        "n = int(input())\n",
        "pattern12(n)"
      ],
      "metadata": {
        "colab": {
          "base_uri": "https://localhost:8080/"
        },
        "id": "qoLBxizkci5I",
        "outputId": "9105bd41-8adc-45e4-fd8b-b93a26f67f1f"
      },
      "execution_count": null,
      "outputs": [
        {
          "output_type": "stream",
          "name": "stdout",
          "text": [
            "5\n",
            "1       1\n",
            "12     21\n",
            "123   321\n",
            "1234 4321\n",
            "1234554321\n"
          ]
        }
      ]
    },
    {
      "cell_type": "code",
      "source": [
        "def pattern13(n):\n",
        "  num = 1\n",
        "  for i in range(0,n):\n",
        "    for j in range(0,i+1):\n",
        "      print(num,end=\" \")\n",
        "      num += 1\n",
        "    print(end=\"\\n\")\n",
        "n = int(input())\n",
        "pattern13(n)"
      ],
      "metadata": {
        "colab": {
          "base_uri": "https://localhost:8080/"
        },
        "id": "kRdCWPeffZmx",
        "outputId": "b3e1e7be-eeee-4f73-cab6-e9da18244cdb"
      },
      "execution_count": null,
      "outputs": [
        {
          "output_type": "stream",
          "name": "stdout",
          "text": [
            "5\n",
            "1 \n",
            "2 3 \n",
            "4 5 6 \n",
            "7 8 9 10 \n",
            "11 12 13 14 15 \n"
          ]
        }
      ]
    },
    {
      "cell_type": "code",
      "source": [
        "def pattern14(n):\n",
        "  for i in range(0,n):\n",
        "    for j in range(0,i+1):\n",
        "      print(chr(ord('A')+j),end=\" \")\n",
        "    print(end=\"\\n\")\n",
        "n = int(input())\n",
        "pattern14(n)"
      ],
      "metadata": {
        "colab": {
          "base_uri": "https://localhost:8080/"
        },
        "id": "AE_njHk-lFA6",
        "outputId": "9b18d113-aaaa-427d-dba3-197eab47d54c"
      },
      "execution_count": null,
      "outputs": [
        {
          "output_type": "stream",
          "name": "stdout",
          "text": [
            "5\n",
            "A \n",
            "A B \n",
            "A B C \n",
            "A B C D \n",
            "A B C D E \n"
          ]
        }
      ]
    },
    {
      "cell_type": "code",
      "source": [
        "def pattern15(n):\n",
        "  for i in range(0,n):\n",
        "    for j in range(0,n-i):\n",
        "      print(chr(ord('A')+j),end=\" \")\n",
        "    print(end=\"\\n\")\n",
        "n = int(input())\n",
        "pattern15(n)"
      ],
      "metadata": {
        "colab": {
          "base_uri": "https://localhost:8080/"
        },
        "id": "qa5peTcRodNi",
        "outputId": "60fa9973-2a2e-4cb6-e4fe-443d01ea2040"
      },
      "execution_count": null,
      "outputs": [
        {
          "output_type": "stream",
          "name": "stdout",
          "text": [
            "5\n",
            "A B C D E \n",
            "A B C D \n",
            "A B C \n",
            "A B \n",
            "A \n"
          ]
        }
      ]
    },
    {
      "cell_type": "code",
      "source": [
        "def pattern16(n):\n",
        "  for i in range(0,n):\n",
        "    for j in range(0,i+1):\n",
        "      print(chr(ord('A')+i),end=\" \")\n",
        "    print(end=\"\\n\")\n",
        "n = int(input())\n",
        "pattern16(n)"
      ],
      "metadata": {
        "colab": {
          "base_uri": "https://localhost:8080/"
        },
        "id": "FBvnyT2fqT85",
        "outputId": "e4b9fbb3-aa3c-482a-ba4a-33506e4f0850"
      },
      "execution_count": null,
      "outputs": [
        {
          "output_type": "stream",
          "name": "stdout",
          "text": [
            "5\n",
            "A \n",
            "B B \n",
            "C C C \n",
            "D D D D \n",
            "E E E E E \n"
          ]
        }
      ]
    },
    {
      "cell_type": "code",
      "source": [
        "def pattern17(n):\n",
        "  for i in range(0,n):\n",
        "\n",
        "\n",
        "    # spaces\n",
        "    for j in range(0,n-i-1):\n",
        "      print(\" \",end=\"\")\n",
        "\n",
        "    #alphabets\n",
        "    alpha = ord('A')\n",
        "    # breakpoint = ((2*i)+1)/2\n",
        "    for j in range(0,2*i+1):\n",
        "      print(chr(alpha),end=\"\")\n",
        "      if j<i:\n",
        "        alpha+=1\n",
        "      else:\n",
        "        alpha-=1\n",
        "\n",
        "    # spaces\n",
        "    for j in range(0,n-i-1):\n",
        "      print(\" \",end=\"\")\n",
        "    print(end=\"\\n\")\n",
        "\n",
        "n = int(input())\n",
        "pattern17(n)"
      ],
      "metadata": {
        "colab": {
          "base_uri": "https://localhost:8080/"
        },
        "id": "XbDVZjrwsMb0",
        "outputId": "99f71a63-d13d-4e72-eb2e-8639c4ff08fb"
      },
      "execution_count": null,
      "outputs": [
        {
          "output_type": "stream",
          "name": "stdout",
          "text": [
            "5\n",
            "    A    \n",
            "   ABA   \n",
            "  ABCBA  \n",
            " ABCDCBA \n",
            "ABCDEDCBA\n"
          ]
        }
      ]
    },
    {
      "cell_type": "code",
      "source": [
        "def pattern18(n):\n",
        "  for i in range(0,n):\n",
        "    alpha = ord('A')\n",
        "    alpha = alpha + (n-i-1)\n",
        "    for j in range(0,i+1):\n",
        "      print(chr(alpha),end=\"\")\n",
        "      alpha+=1\n",
        "    print(end=\"\\n\")\n",
        "n = int(input())\n",
        "pattern18(n)"
      ],
      "metadata": {
        "id": "tioBOHCFwv-s",
        "colab": {
          "base_uri": "https://localhost:8080/"
        },
        "outputId": "88aee307-044e-4d05-8c36-035bf4bbf31b"
      },
      "execution_count": null,
      "outputs": [
        {
          "output_type": "stream",
          "name": "stdout",
          "text": [
            "5\n",
            "E\n",
            "DE\n",
            "CDE\n",
            "BCDE\n",
            "ABCDE\n"
          ]
        }
      ]
    },
    {
      "cell_type": "code",
      "source": [
        "def pattern19(n):\n",
        "  # upper symmetry\n",
        "  init_space = 0\n",
        "  for i in range(0,n):\n",
        "    # stars\n",
        "    for j in range(0,n-i):\n",
        "      print('*',end=\"\")\n",
        "    # spaces\n",
        "    for j in range(0,init_space):\n",
        "      print(end=\" \")\n",
        "\n",
        "    #stars\n",
        "    for j in range(0,n-i):\n",
        "      print('*',end=\"\")\n",
        "    init_space+=2\n",
        "    print(end=\"\\n\")\n",
        "\n",
        "  # lower symmetry\n",
        "  init_space = 2*n - 2\n",
        "  for i in range(0,n):\n",
        "    # stars\n",
        "    for j in range(0,i+1):\n",
        "      print('*',end=\"\")\n",
        "    # spaces\n",
        "    for j in range(0,init_space):\n",
        "      print(end=\" \")\n",
        "\n",
        "    #stars\n",
        "    for j in range(0,i+1):\n",
        "      print('*',end=\"\")\n",
        "    init_space-=2\n",
        "    print(end=\"\\n\")\n",
        "\n",
        "n = int(input())\n",
        "pattern19(n)"
      ],
      "metadata": {
        "colab": {
          "base_uri": "https://localhost:8080/"
        },
        "id": "bhuzKl4rBn_o",
        "outputId": "538513b8-ab38-4251-d6bc-be1707568bc7"
      },
      "execution_count": null,
      "outputs": [
        {
          "output_type": "stream",
          "name": "stdout",
          "text": [
            "5\n",
            "**********\n",
            "****  ****\n",
            "***    ***\n",
            "**      **\n",
            "*        *\n",
            "*        *\n",
            "**      **\n",
            "***    ***\n",
            "****  ****\n",
            "**********\n"
          ]
        }
      ]
    },
    {
      "cell_type": "code",
      "source": [
        "def pattern20(n):\n",
        "  space = 2*n - 2\n",
        "  for i in range(1,2*n):\n",
        "    stars = i\n",
        "    if i > n:\n",
        "      stars = 2*n - i\n",
        "    # stars\n",
        "    for j in range(1,stars+1):\n",
        "      print(\"*\",end=\"\")\n",
        "    # spaces\n",
        "    for j in range(1,space+1):\n",
        "      print(end=\" \")\n",
        "    # stars\n",
        "    for j in range(1,stars+1):\n",
        "      print(\"*\",end=\"\")\n",
        "    print(end=\"\\n\")\n",
        "    if i < n:\n",
        "      space -= 2\n",
        "    else:\n",
        "      space += 2\n",
        "\n",
        "n = int(input())\n",
        "pattern20(n)"
      ],
      "metadata": {
        "colab": {
          "base_uri": "https://localhost:8080/"
        },
        "id": "rrQuoStrFLn1",
        "outputId": "441fda4b-897c-4d1b-f169-e1b8cba848df"
      },
      "execution_count": null,
      "outputs": [
        {
          "output_type": "stream",
          "name": "stdout",
          "text": [
            "5\n",
            "*        *\n",
            "**      **\n",
            "***    ***\n",
            "****  ****\n",
            "**********\n",
            "****  ****\n",
            "***    ***\n",
            "**      **\n",
            "*        *\n"
          ]
        }
      ]
    },
    {
      "cell_type": "code",
      "source": [
        "def pattern21(n):\n",
        "  for i in range(0,n):\n",
        "    for j in range(0,n):\n",
        "      if (i==0 or j==0 or i==n-1 or j==n-1):\n",
        "        print('*',end=\"\")\n",
        "      else:\n",
        "        print(end=\" \")\n",
        "    print(end=\"\\n\")\n",
        "n = int(input())\n",
        "pattern21(n)"
      ],
      "metadata": {
        "colab": {
          "base_uri": "https://localhost:8080/"
        },
        "id": "XqqLFzgWU-Xp",
        "outputId": "123bb0e0-1569-4136-d2b0-3f393700d5ff"
      },
      "execution_count": null,
      "outputs": [
        {
          "output_type": "stream",
          "name": "stdout",
          "text": [
            "4\n",
            "****\n",
            "*  *\n",
            "*  *\n",
            "****\n"
          ]
        }
      ]
    },
    {
      "cell_type": "code",
      "source": [
        "def pattern22(n):\n",
        "  for i in range(0,2*n-1):\n",
        "    for j in range(0,2*n-1):\n",
        "      top = i\n",
        "      left = j\n",
        "      bottom = (2*n - 2) - i\n",
        "      right = (2*n - 2) - j\n",
        "\n",
        "      ele = n - min(min(top,bottom),min(right,left))\n",
        "      print(ele,end=\"\")\n",
        "    print(end=\"\\n\")\n",
        "\n",
        "n = int(input())\n",
        "pattern22(n)"
      ],
      "metadata": {
        "id": "Oi4KCLyHLSEK",
        "colab": {
          "base_uri": "https://localhost:8080/"
        },
        "outputId": "81a1f972-0005-4a9e-a907-6e40926c72eb"
      },
      "execution_count": null,
      "outputs": [
        {
          "output_type": "stream",
          "name": "stdout",
          "text": [
            "4\n",
            "4444444\n",
            "4333334\n",
            "4322234\n",
            "4321234\n",
            "4322234\n",
            "4333334\n",
            "4444444\n"
          ]
        }
      ]
    },
    {
      "cell_type": "markdown",
      "source": [
        "### Know Basic Maths!"
      ],
      "metadata": {
        "id": "vT0foPrT9gEy"
      }
    },
    {
      "cell_type": "markdown",
      "source": [
        "##### Count Digits"
      ],
      "metadata": {
        "id": "AUgSu4yX9nXz"
      }
    },
    {
      "cell_type": "code",
      "source": [
        "def count_digits(n):\n",
        "  a = n\n",
        "  cnt = 0\n",
        "  while a>0:\n",
        "    a = a//10\n",
        "    cnt+=1\n",
        "  return cnt\n",
        "\n",
        "n = int(input())\n",
        "count_digits(n)\n"
      ],
      "metadata": {
        "id": "ss_yI9PyUvZ1",
        "colab": {
          "base_uri": "https://localhost:8080/"
        },
        "outputId": "c363190f-3086-4ede-ffa7-05ebf1c50d4c"
      },
      "execution_count": null,
      "outputs": [
        {
          "name": "stdout",
          "output_type": "stream",
          "text": [
            "1\n"
          ]
        },
        {
          "output_type": "execute_result",
          "data": {
            "text/plain": [
              "1"
            ]
          },
          "metadata": {},
          "execution_count": 6
        }
      ]
    },
    {
      "cell_type": "markdown",
      "source": [
        "Reversal of a Number\n",
        "- Leetcode: https://leetcode.com/problems/reverse-integer/description/"
      ],
      "metadata": {
        "id": "6nGbrdcg-fzz"
      }
    },
    {
      "cell_type": "code",
      "source": [
        "# Loop Solution\n",
        "class Solution:\n",
        "    def reverse(self, x: int) -> int:\n",
        "        sign = -1 if x < 0 else 1\n",
        "        x = abs(x)\n",
        "        rev_no = 0\n",
        "        while(x > 0):\n",
        "            ld = x % 10\n",
        "            rev_no = (rev_no * 10) + ld\n",
        "            x = x//10\n",
        "        rev_no *= sign\n",
        "\n",
        "        if rev_no < -2**31 or rev_no > 2**31 - 1:\n",
        "            return 0\n",
        "        return rev_no\n",
        "\n",
        "\n",
        "\n",
        "# Optimized Approach using Recursive Function\n",
        "class Solution:\n",
        "    def reverse(self, x: int) -> int:\n",
        "        def helper(x, rev):\n",
        "            if x == 0:\n",
        "                return rev\n",
        "            if rev > 2**31 // 10 or rev < -2**31 // 10:\n",
        "                return 0\n",
        "            rem = x % 10 if x > 0 else x % -10\n",
        "            x = x // 10\n",
        "            rev = rev * 10 + rem\n",
        "            return helper(x, rev)\n",
        "\n",
        "        return helper(x, 0)\n"
      ],
      "metadata": {
        "id": "h6TnuVx5_mK4"
      },
      "execution_count": null,
      "outputs": []
    },
    {
      "cell_type": "markdown",
      "source": [
        "Pallindrome Number\n",
        "- Leetcode: https://leetcode.com/problems/palindrome-number/"
      ],
      "metadata": {
        "id": "UjKKViTe-6md"
      }
    },
    {
      "cell_type": "code",
      "source": [
        "class Solution:\n",
        "    def isPalindrome(self, x: int) -> bool:\n",
        "        temp = x\n",
        "        rev_no = 0\n",
        "        if x<0:\n",
        "            return False\n",
        "\n",
        "        while(x > 0):\n",
        "            ld = x % 10\n",
        "            rev_no = (rev_no * 10) + ld\n",
        "            x = x//10\n",
        "\n",
        "        if rev_no < -2**31 or rev_no > 2**31 - 1:\n",
        "            return False\n",
        "        if rev_no == temp:\n",
        "            return True\n",
        "        else:\n",
        "            return False"
      ],
      "metadata": {
        "id": "k5uJWjG2-7xD"
      },
      "execution_count": null,
      "outputs": []
    },
    {
      "cell_type": "markdown",
      "source": [
        "Armstrong Number:\n",
        "Coding Ninjas: https://www.naukri.com/code360/problems/armstrong-number_1462443?interviewProblemRedirection=true&search=Armstrong%20Number&leftPanelTabValue=PROBLEM\n"
      ],
      "metadata": {
        "id": "wxf0qQ2Cu73j"
      }
    },
    {
      "cell_type": "code",
      "source": [
        "from os import *\n",
        "from sys import *\n",
        "from collections import *\n",
        "from math import *\n",
        "\n",
        "def isArmstrong(num):\n",
        "    # Write your code here.\n",
        "    temp = num\n",
        "    s = str(num)\n",
        "    power = len(s)\n",
        "    arm = 0\n",
        "    while(num>0):\n",
        "        r = num % 10\n",
        "        arm = arm + r**power\n",
        "        num = num//10\n",
        "    if(arm==temp):\n",
        "        return True\n",
        "    else:\n",
        "        return False\n"
      ],
      "metadata": {
        "id": "FGFE73EJu8OA"
      },
      "execution_count": null,
      "outputs": []
    },
    {
      "cell_type": "markdown",
      "source": [
        "Print All the divisors of a Number\n",
        "- Coding ninjas: https://www.naukri.com/code360/problems/print-all-divisors-of-a-number_1164188?leftPanelTabValue=PROBLEM"
      ],
      "metadata": {
        "id": "8GzCyaUUCnjq"
      }
    },
    {
      "cell_type": "code",
      "source": [
        "from typing import List\n",
        "import math\n",
        "\n",
        "def printDivisors(n: int) -> List[int]:\n",
        "    # Write your code here\n",
        "    l = []\n",
        "    for i in range(1,int(math.sqrt(n))+1):\n",
        "        if (n%i==0):\n",
        "            l.append(i)\n",
        "            if ((n//i)!=i):\n",
        "                l.append(n//i)\n",
        "\n",
        "    return sorted(l)"
      ],
      "metadata": {
        "id": "HF8Y-xYFk7CF"
      },
      "execution_count": null,
      "outputs": []
    },
    {
      "cell_type": "markdown",
      "source": [
        "Prime Number\n",
        "- Cofing Ninjas: https://www.naukri.com/code360/problems/check-prime_11302365?interviewProblemRedirection=true&search=Check%20Prime&leftPanelTabValue=PROBLEM\n"
      ],
      "metadata": {
        "id": "wsIJJzjlp-2z"
      }
    },
    {
      "cell_type": "code",
      "source": [
        "import math\n",
        "from collections import *\n",
        "from sys import *\n",
        "from os import *\n",
        "\n",
        "## Read input as specified in the question.\n",
        "## Print output as specified in the question.\n",
        "\n",
        "def prime_no(n):\n",
        "    cnt = 0\n",
        "    for i in range(1,int(math.sqrt(n))+1):\n",
        "        if(n%i==0):\n",
        "            cnt+=1\n",
        "            if((n//i)!=i):\n",
        "                cnt+=1\n",
        "    if(cnt==2):\n",
        "        return 'YES'\n",
        "    else:\n",
        "        return 'NO'\n",
        "\n",
        "n = int(input())\n",
        "print(prime_no(n))"
      ],
      "metadata": {
        "colab": {
          "base_uri": "https://localhost:8080/",
          "height": 53
        },
        "id": "WEJa3c-Zk-Wg",
        "outputId": "987a02e1-7e6c-48a4-ebbd-e06be730e584"
      },
      "execution_count": null,
      "outputs": [
        {
          "name": "stdout",
          "output_type": "stream",
          "text": [
            "5\n"
          ]
        },
        {
          "output_type": "execute_result",
          "data": {
            "text/plain": [
              "'YES'"
            ],
            "application/vnd.google.colaboratory.intrinsic+json": {
              "type": "string"
            }
          },
          "metadata": {},
          "execution_count": 4
        }
      ]
    },
    {
      "cell_type": "markdown",
      "source": [
        "### Recursion Basics"
      ],
      "metadata": {
        "id": "5qXX3crgMV_G"
      }
    },
    {
      "cell_type": "markdown",
      "source": [
        "1.1 Intro to Recursion - Recursion Tree - Stack Space"
      ],
      "metadata": {
        "id": "g9ktDdUrMriz"
      }
    },
    {
      "cell_type": "code",
      "source": [
        "count = 0\n",
        "\n",
        "def recur():\n",
        "  global count\n",
        "  if(count==4):\n",
        "    return\n",
        "  print(count)\n",
        "  count+=1\n",
        "  recur()\n",
        "\n",
        "recur()"
      ],
      "metadata": {
        "id": "2-YodDCupbTH",
        "colab": {
          "base_uri": "https://localhost:8080/"
        },
        "outputId": "1963fc60-7bdb-47ee-fe86-1885fc8aec19"
      },
      "execution_count": null,
      "outputs": [
        {
          "output_type": "stream",
          "name": "stdout",
          "text": [
            "0\n",
            "1\n",
            "2\n",
            "3\n"
          ]
        }
      ]
    },
    {
      "cell_type": "markdown",
      "source": [
        "1.2 Basic Problems in Recursion"
      ],
      "metadata": {
        "id": "RoYqTqINOvew"
      }
    },
    {
      "cell_type": "markdown",
      "source": [
        "a) Print Name N times using Recursion"
      ],
      "metadata": {
        "id": "ITAdlO91Oy_f"
      }
    },
    {
      "cell_type": "code",
      "source": [
        "def fun(i,N):\n",
        "  if(i>N):\n",
        "    return\n",
        "  print(\"Harish\")\n",
        "  fun(i+1,N)\n",
        "\n",
        "N = int(input())\n",
        "fun(1,N)"
      ],
      "metadata": {
        "colab": {
          "base_uri": "https://localhost:8080/"
        },
        "id": "xac1LNAANU6m",
        "outputId": "e4294097-280d-4733-ec7e-bd57990f656a"
      },
      "execution_count": null,
      "outputs": [
        {
          "output_type": "stream",
          "name": "stdout",
          "text": [
            "4\n",
            "Harish\n",
            "Harish\n",
            "Harish\n",
            "Harish\n"
          ]
        }
      ]
    },
    {
      "cell_type": "markdown",
      "source": [
        "b) Print Linearly 1 -> N"
      ],
      "metadata": {
        "id": "0l0SzqX-Vxu8"
      }
    },
    {
      "cell_type": "code",
      "source": [
        "def fun(i,N):\n",
        "  if(i>N):\n",
        "    return\n",
        "  print(i)\n",
        "  fun(i+1,N)\n",
        "\n",
        "N = int(input())\n",
        "fun(1,N)"
      ],
      "metadata": {
        "colab": {
          "base_uri": "https://localhost:8080/"
        },
        "id": "N-YXIU7zVely",
        "outputId": "4186d75c-99e8-4cc6-b638-419f10e7d142"
      },
      "execution_count": null,
      "outputs": [
        {
          "output_type": "stream",
          "name": "stdout",
          "text": [
            "4\n",
            "1\n",
            "2\n",
            "3\n",
            "4\n"
          ]
        }
      ]
    },
    {
      "cell_type": "markdown",
      "source": [
        "c) Print Linearly N -> 1"
      ],
      "metadata": {
        "id": "JTu4Q86WV87d"
      }
    },
    {
      "cell_type": "code",
      "source": [
        "def fun(i,N):\n",
        "  if(i<1):\n",
        "    return\n",
        "  print(i)\n",
        "  fun(i-1,N)\n",
        "\n",
        "N = int(input())\n",
        "fun(N,N)"
      ],
      "metadata": {
        "colab": {
          "base_uri": "https://localhost:8080/"
        },
        "id": "nJtthk0qV6G7",
        "outputId": "a9adeac3-0e02-4e18-ff14-2391767041ca"
      },
      "execution_count": null,
      "outputs": [
        {
          "output_type": "stream",
          "name": "stdout",
          "text": [
            "4\n",
            "4\n",
            "3\n",
            "2\n",
            "1\n"
          ]
        }
      ]
    },
    {
      "cell_type": "markdown",
      "source": [
        "d) Print Linearly N -> 1 (using Backtracking)"
      ],
      "metadata": {
        "id": "kUmy2KrTWQGY"
      }
    },
    {
      "cell_type": "code",
      "source": [
        "def fun(i,N):\n",
        "  if(i>N):\n",
        "    return\n",
        "  fun(i+1,N)\n",
        "  print(i)\n",
        "\n",
        "N = int(input())\n",
        "fun(1,N)"
      ],
      "metadata": {
        "colab": {
          "base_uri": "https://localhost:8080/"
        },
        "id": "YbbuR6S-WKyN",
        "outputId": "56db35cb-8b5b-425c-f24b-3bf3d4a026d5"
      },
      "execution_count": null,
      "outputs": [
        {
          "output_type": "stream",
          "name": "stdout",
          "text": [
            "4\n",
            "4\n",
            "3\n",
            "2\n",
            "1\n"
          ]
        }
      ]
    },
    {
      "cell_type": "markdown",
      "source": [
        "e) Print Linearly 1 -> N (using backtracking)"
      ],
      "metadata": {
        "id": "u7XJ31s1WzCm"
      }
    },
    {
      "cell_type": "code",
      "source": [
        "def fun(i,N):\n",
        "  if(i<1):\n",
        "    return\n",
        "  fun(i-1,N)\n",
        "  print(i)\n",
        "\n",
        "N = int(input())\n",
        "fun(N,N)"
      ],
      "metadata": {
        "colab": {
          "base_uri": "https://localhost:8080/"
        },
        "id": "Sv6WydmDWlUm",
        "outputId": "fd0ae006-6532-4cb5-9946-82fddab775db"
      },
      "execution_count": null,
      "outputs": [
        {
          "output_type": "stream",
          "name": "stdout",
          "text": [
            "4\n",
            "1\n",
            "2\n",
            "3\n",
            "4\n"
          ]
        }
      ]
    },
    {
      "cell_type": "markdown",
      "source": [
        "Factorial of a Number using Recursion"
      ],
      "metadata": {
        "id": "csvBPmGscl5o"
      }
    },
    {
      "cell_type": "code",
      "source": [
        "def fact(n):\n",
        "  if(n==0):\n",
        "    return 1\n",
        "  return n*fact(n-1)\n",
        "n = int(input())\n",
        "print(fact(n))"
      ],
      "metadata": {
        "colab": {
          "base_uri": "https://localhost:8080/"
        },
        "id": "Ukt4ViFnclNM",
        "outputId": "590fd5d2-6c25-47d5-9e13-d2b3b5a047ca"
      },
      "execution_count": null,
      "outputs": [
        {
          "output_type": "stream",
          "name": "stdout",
          "text": [
            "3\n",
            "6\n"
          ]
        }
      ]
    },
    {
      "cell_type": "markdown",
      "source": [
        "Reversal of an Array using recursion\n",
        "- https://www.naukri.com/code360/problems/reverse-the-array_1262298?interviewProblemRedirection=true&search=array&leftPanelTabValue=PROBLEM"
      ],
      "metadata": {
        "id": "UhjpEBUi2DyJ"
      }
    },
    {
      "cell_type": "code",
      "source": [
        "#2 pointer approach\n",
        "\n",
        "def rev_arr(arr,l,r):\n",
        "  if(l>=r):\n",
        "    print(arr)\n",
        "    return\n",
        "  arr[l],arr[r] = arr[r],arr[l] # swap function\n",
        "  rev_arr(arr,l+1,r-1) # recursive call\n",
        "\n",
        "\n",
        "n = int(input())\n",
        "li = []\n",
        "for i in range(n):\n",
        "  a = int(input())\n",
        "  li.append(a)\n",
        "print(li)\n",
        "rev_arr(li,0,n-1)"
      ],
      "metadata": {
        "id": "4sVvZ5YSWxwe",
        "colab": {
          "base_uri": "https://localhost:8080/"
        },
        "outputId": "69aa14c3-e886-41b8-f9ac-fada55b3c6a2"
      },
      "execution_count": null,
      "outputs": [
        {
          "output_type": "stream",
          "name": "stdout",
          "text": [
            "5\n",
            "1\n",
            "2\n",
            "3\n",
            "4\n",
            "5\n",
            "[1, 2, 3, 4, 5]\n",
            "[5, 4, 3, 2, 1]\n"
          ]
        }
      ]
    },
    {
      "cell_type": "code",
      "source": [
        "# 1 pointer approach\n",
        "\n",
        "def rev_arr(arr,i,n):\n",
        "  if(i>=(n//2)):\n",
        "    print(arr)\n",
        "    return\n",
        "  arr[i],arr[n-i-1] = arr[n-i-1],arr[i] # swap function\n",
        "  rev_arr(arr,i+1,n) # recursive call\n",
        "\n",
        "\n",
        "n = int(input())\n",
        "li = []\n",
        "for i in range(n):\n",
        "  a = int(input())\n",
        "  li.append(a)\n",
        "print(li)\n",
        "rev_arr(li,0,n)"
      ],
      "metadata": {
        "colab": {
          "base_uri": "https://localhost:8080/"
        },
        "id": "PD4qbDS04fMz",
        "outputId": "3c018224-2f19-4312-a557-6861d592661a"
      },
      "execution_count": null,
      "outputs": [
        {
          "output_type": "stream",
          "name": "stdout",
          "text": [
            "5\n",
            "1\n",
            "2\n",
            "3\n",
            "4\n",
            "5\n",
            "[1, 2, 3, 4, 5]\n",
            "[5, 4, 3, 2, 1]\n"
          ]
        }
      ]
    },
    {
      "cell_type": "code",
      "source": [
        "# Reverse the array - code 360 problem solution\n",
        "def reverseArray(arr, m):\n",
        "    # Write your code here.\n",
        "    n = len(arr)\n",
        "    start = m+1\n",
        "    end = n-1\n",
        "    def helper(arr,start,end):\n",
        "        if start>=end:\n",
        "            return\n",
        "        arr[start],arr[end] = arr[end],arr[start]\n",
        "        helper(arr,start+1,end-1)\n",
        "\n",
        "    helper(arr,start,end)\n",
        "    return arr"
      ],
      "metadata": {
        "id": "UH79Ab635S5b"
      },
      "execution_count": null,
      "outputs": []
    },
    {
      "cell_type": "markdown",
      "source": [
        "Pallindrome (String) using Recursion\n",
        "\n",
        "- Leetcode: https://leetcode.com/problems/valid-palindrome/"
      ],
      "metadata": {
        "id": "-WrAisDJE_JA"
      }
    },
    {
      "cell_type": "code",
      "source": [
        "\n",
        "import re\n",
        "\n",
        "class Solution:\n",
        "    def isPalindrome(self, s: str) -> bool:\n",
        "        se = re.sub(r'[^A-Za-z0-9]', '', s).lower() #using regex\n",
        "        n = len(se)\n",
        "        if n==0:\n",
        "            return True\n",
        "        start = 0\n",
        "        end = n-1\n",
        "        def helper(se,start,end):\n",
        "            if(start>=end):\n",
        "                return True\n",
        "            if(se[start]!=se[end]):\n",
        "                return False\n",
        "            return helper(se,start+1,end-1)\n",
        "\n",
        "        return helper(se,start,end)"
      ],
      "metadata": {
        "colab": {
          "base_uri": "https://localhost:8080/"
        },
        "id": "rreN6beiF4qV",
        "outputId": "d8f6d1db-395e-445e-dfbb-2ce3b41b9030"
      },
      "execution_count": null,
      "outputs": [
        {
          "output_type": "stream",
          "name": "stdout",
          "text": [
            "0\n"
          ]
        }
      ]
    },
    {
      "cell_type": "markdown",
      "source": [
        "Multiple recursion Call\n",
        "- Fibonacci Number problem: https://leetcode.com/problems/fibonacci-number/description/\n",
        "\n",
        "\n"
      ],
      "metadata": {
        "id": "2XVgMb1z3ZOU"
      }
    },
    {
      "cell_type": "code",
      "source": [
        "class Solution:\n",
        "    def fib(self, n: int) -> int:\n",
        "        if(n<=1):\n",
        "            return n\n",
        "        return self.fib(n-1)+self.fib(n-2)"
      ],
      "metadata": {
        "id": "LUdqHZSrF77k"
      },
      "execution_count": null,
      "outputs": []
    },
    {
      "cell_type": "markdown",
      "source": [
        "Hashing"
      ],
      "metadata": {
        "id": "I8a5C3BU-ztA"
      }
    },
    {
      "cell_type": "code",
      "source": [
        "n = int(input())\n",
        "arr = list(map(int,input().split()))\n",
        "\n",
        "# precomputing\n",
        "hash_arr = [0] * 13\n",
        "\n",
        "for num in arr:\n",
        "  hash_arr[num] += 1\n",
        "\n",
        "# Fetching\n",
        "q = int(input())\n",
        "for _ in range(q):\n",
        "  number = int(input())\n",
        "  print(hash_arr[number])"
      ],
      "metadata": {
        "id": "FJyiSrUG3obR",
        "colab": {
          "base_uri": "https://localhost:8080/"
        },
        "outputId": "72909e5f-04d3-4492-a9f9-5779e261c5e7"
      },
      "execution_count": null,
      "outputs": [
        {
          "output_type": "stream",
          "name": "stdout",
          "text": [
            "5\n",
            "1 3 2 1 3\n",
            "5\n",
            "1\n",
            "2\n",
            "4\n",
            "0\n",
            "3\n",
            "2\n",
            "1\n",
            "2\n",
            "2\n",
            "1\n"
          ]
        }
      ]
    },
    {
      "cell_type": "markdown",
      "source": [
        "Character Hashing - only small letters"
      ],
      "metadata": {
        "id": "On0OL8u2GjRF"
      }
    },
    {
      "cell_type": "code",
      "source": [
        "a = input()\n",
        "b = list(a)\n",
        "\n",
        "hash_arr = [0] * 26\n",
        "ch = ord('a')\n",
        "for i in b:\n",
        "  ore = ord(i)\n",
        "  hash_arr[ore - ch] +=1\n",
        "\n",
        "n = int(input())\n",
        "for i in range(n):\n",
        "  asd = input()\n",
        "  print(hash_arr[ord(asd) - ch])"
      ],
      "metadata": {
        "colab": {
          "base_uri": "https://localhost:8080/"
        },
        "id": "R2j3qnPHAdW_",
        "outputId": "191da8e7-5350-4375-bb98-5c46791d2e28"
      },
      "execution_count": null,
      "outputs": [
        {
          "output_type": "stream",
          "name": "stdout",
          "text": [
            "harish\n",
            "5\n",
            "h\n",
            "2\n",
            "a\n",
            "1\n",
            "r\n",
            "1\n",
            "i\n",
            "1\n",
            "s\n",
            "1\n"
          ]
        }
      ]
    },
    {
      "cell_type": "markdown",
      "source": [
        "Character Hashing - Both capital and Small letters"
      ],
      "metadata": {
        "id": "kDgek2TKHBlT"
      }
    },
    {
      "cell_type": "code",
      "source": [
        "a = input()\n",
        "b = list(a)\n",
        "\n",
        "hash_arr = [0] * 256\n",
        "ch = ord('a')\n",
        "for i in b:\n",
        "  ore = ord(i)\n",
        "  hash_arr[ore] +=1\n",
        "\n",
        "n = int(input())\n",
        "for i in range(n):\n",
        "  asd = input()\n",
        "  print(hash_arr[ord(asd)])"
      ],
      "metadata": {
        "colab": {
          "base_uri": "https://localhost:8080/"
        },
        "id": "PuldcWQ7FwSu",
        "outputId": "90c8d5f9-056e-428b-ee75-a921ab630eb3"
      },
      "execution_count": null,
      "outputs": [
        {
          "output_type": "stream",
          "name": "stdout",
          "text": [
            "Harish\n",
            "5\n",
            "H\n",
            "1\n",
            "h\n",
            "1\n",
            "a\n",
            "1\n",
            "r\n",
            "1\n",
            "i\n",
            "1\n"
          ]
        }
      ]
    },
    {
      "cell_type": "markdown",
      "source": [
        "Hashmap function"
      ],
      "metadata": {
        "id": "RlJT52AV8i62"
      }
    },
    {
      "cell_type": "code",
      "source": [
        "# approach 1 by using default dictionary\n",
        "\n",
        "from collections import defaultdict\n",
        "n = int(input())\n",
        "arr = list(map(int,input().split()))\n",
        "\n",
        "hash_map1 = defaultdict(int)\n",
        "\n",
        "# pre computing\n",
        "for i in arr:\n",
        "  hash_map1[i]+=1\n",
        "\n",
        "# fetching\n",
        "q = int(input())\n",
        "for i in range(q):\n",
        "  a = int(input())\n",
        "  print(hash_map1[a])\n",
        "\n",
        "print(hash_map1)"
      ],
      "metadata": {
        "colab": {
          "base_uri": "https://localhost:8080/"
        },
        "id": "QN1Vw34_ELWc",
        "outputId": "9886f21d-e6a6-4517-c20c-546b1cef19e6"
      },
      "execution_count": null,
      "outputs": [
        {
          "output_type": "stream",
          "name": "stdout",
          "text": [
            "4\n",
            "1 4 1 2 \n",
            "1\n",
            "1\n",
            "2\n",
            "defaultdict(<class 'int'>, {1: 2, 4: 1, 2: 1})\n"
          ]
        }
      ]
    },
    {
      "cell_type": "code",
      "source": [
        "# approach 2 without using defaultdict and using normal dict function\n",
        "n = int(input())\n",
        "arr = list(map(int,input().split()))\n",
        "\n",
        "hash_map1 = {}\n",
        "\n",
        "# pre computing\n",
        "for i in arr:\n",
        "  if i in hash_map1:\n",
        "    hash_map1[i]+=1\n",
        "  else:\n",
        "    hash_map1[i]=1\n",
        "\n",
        "# fetching\n",
        "q = int(input())\n",
        "for i in range(q):\n",
        "  a = int(input())\n",
        "  print(hash_map1.get(a,0))\n",
        "\n",
        "print(hash_map1)\n",
        "\n",
        "# here this is similar to the unordered map"
      ],
      "metadata": {
        "colab": {
          "base_uri": "https://localhost:8080/"
        },
        "id": "6afEGRUD92QS",
        "outputId": "0c80badc-6d61-41ab-bbaa-a6cb89574f58"
      },
      "execution_count": null,
      "outputs": [
        {
          "output_type": "stream",
          "name": "stdout",
          "text": [
            "5\n",
            "1 4 1 2 4\n",
            "1 \n",
            "1\n",
            "2\n",
            "{1: 2, 4: 2, 2: 1}\n"
          ]
        }
      ]
    },
    {
      "cell_type": "markdown",
      "source": [
        " Count Frequency in a range\n",
        " - Code360: https://www.naukri.com/code360/problems/count-frequency-in-a-range_8365446?leftPanelTabValue=PROBLEM"
      ],
      "metadata": {
        "id": "BRX8XePkixJr"
      }
    },
    {
      "cell_type": "code",
      "source": [
        "from typing import *\n",
        "from collections import defaultdict\n",
        "\n",
        "def countFrequency(n: int, m: int, edges: List[List[int]]):\n",
        "    hash_map = defaultdict(int)\n",
        "    for num in edges:\n",
        "        if 1<=num<=m:\n",
        "            hash_map[num]+=1\n",
        "\n",
        "\n",
        "    result=[]\n",
        "    for i in range(1,n+1):\n",
        "        result.append(hash_map.get(i,0))\n",
        "\n",
        "    return result\n"
      ],
      "metadata": {
        "id": "Baz0tejAizaM"
      },
      "execution_count": null,
      "outputs": []
    },
    {
      "cell_type": "markdown",
      "source": [
        "Frequency of the Most Frequent Element\n",
        "- Leetcode: https://leetcode.com/problems/frequency-of-the-most-frequent-element/description/"
      ],
      "metadata": {
        "id": "VmcORwogi5Uc"
      }
    },
    {
      "cell_type": "code",
      "source": [
        "# hashmap - dictionary only approach\n",
        "\n",
        "from collections import defaultdict\n",
        "\n",
        "class Solution:\n",
        "    def maxFrequency(self, nums, k):\n",
        "        nums.sort()  # Step 1: Sort the array → [1, 3, 5]\n",
        "        n = len(nums)\n",
        "        max_freq = 1\n",
        "\n",
        "        for i in range(n):\n",
        "            target = nums[i]\n",
        "            operations = 0\n",
        "            freq = 1  # The target itself\n",
        "\n",
        "            freq_map = defaultdict(int)\n",
        "            freq_map[target] += 1  # One occurrence of target already\n",
        "\n",
        "            # Loop over previous elements (smaller than target)\n",
        "            for j in range(i - 1, -1, -1):\n",
        "                cost = target - nums[j]  # Operations to make nums[j] = target\n",
        "                operations += cost\n",
        "\n",
        "                if operations > k:\n",
        "                    break\n",
        "\n",
        "                freq += 1\n",
        "                freq_map[target] += 1\n",
        "\n",
        "            max_freq = max(max_freq, freq_map[target])\n",
        "\n",
        "        return max_freq\n"
      ],
      "metadata": {
        "id": "QEKDraHajJd9"
      },
      "execution_count": null,
      "outputs": []
    },
    {
      "cell_type": "code",
      "source": [
        "# Optimized approach using sliding window\n",
        "class Solution:\n",
        "    def maxFrequency(self, nums: List[int], k: int) -> int:\n",
        "\n",
        "        nums.sort()\n",
        "        l = 0\n",
        "        total,res = 0,0\n",
        "\n",
        "        for r in range(len(nums)):\n",
        "            total+=nums[r]\n",
        "\n",
        "            while(nums[r]*(r-l+1)-total>k):\n",
        "                total-=nums[l]\n",
        "                l+=1\n",
        "\n",
        "            res = max(res,(r-l+1))\n",
        "        return res\n"
      ],
      "metadata": {
        "id": "d09nsnWjS5fW"
      },
      "execution_count": null,
      "outputs": []
    },
    {
      "cell_type": "markdown",
      "source": [
        "### 📌 LeetCode 1838 - Frequency of the Most Frequent Element\n",
        "### Example: nums = [1, 1, 1, 2, 2, 4], k = 2\n",
        "\n",
        "### ✅ Optimized Solution using prefix math (not sliding window terminology)\n",
        "class Solution:\n",
        "    def maxFrequency(self, nums, k):\n",
        "        nums.sort()\n",
        "        total = 0  # sum of current window elements\n",
        "        left = 0   # window start\n",
        "        res = 0    # max frequency found\n",
        "\n",
        "        for right in range(len(nums)):\n",
        "            total += nums[right]\n",
        "\n",
        "            # ❗ Check if operations needed to make all elements in [left, right] equal to nums[right] exceed k\n",
        "            while nums[right] * (right - left + 1) - total > k:\n",
        "                total -= nums[left]\n",
        "                left += 1\n",
        "\n",
        "            res = max(res, right - left + 1)\n",
        "\n",
        "        return res\n",
        "\n",
        "### -------------------------------------------------------------\n",
        "### 🔍 Step-by-Step Dry Run with: nums = [1, 1, 1, 2, 2, 4], k = 2\n",
        "\n",
        "### Step 1: Sort the array\n",
        "nums = [1, 1, 1, 2, 2, 4]\n",
        "k = 2\n",
        "\n",
        "### Step 2: Initialize\n",
        "### total = 0 (running sum of window)\n",
        "### left = 0 (start of the window)\n",
        "### res = 0  (max frequency)\n",
        "\n",
        "### Loop through each element as right bound\n",
        "### -------------------------------------------------------------------------\n",
        "### Iteration 1: right = 0 (nums[0] = 1)\n",
        "### total = 1\n",
        "### window = [1]\n",
        "### cost = 1*1 - 1 = 0 ≤ k → ✅\n",
        "### res = max(0, 1) = 1\n",
        "\n",
        "### Iteration 2: right = 1 (nums[1] = 1)\n",
        "### total = 2\n",
        "### window = [1, 1]\n",
        "### cost = 1*2 - 2 = 0 ≤ k → ✅\n",
        "### res = max(1, 2) = 2\n",
        "\n",
        "### Iteration 3: right = 2 (nums[2] = 1)\n",
        "### total = 3\n",
        "### window = [1, 1, 1]\n",
        "### cost = 1*3 - 3 = 0 ≤ k → ✅\n",
        "### res = max(2, 3) = 3\n",
        "\n",
        "### Iteration 4: right = 3 (nums[3] = 2)\n",
        "### total = 5\n",
        "### window = [1, 1, 1, 2]\n",
        "### cost = 2*4 - 5 = 8 - 5 = 3 > k → ❌\n",
        "### shrink window from left:\n",
        "###   total -= nums[0] → 4\n",
        "###   left = 1\n",
        "### New window = [1, 1, 2]\n",
        "### cost = 2*3 - 4 = 6 - 4 = 2 → ✅\n",
        "### res = max(3, 3) = 3\n",
        "\n",
        "### Iteration 5: right = 4 (nums[4] = 2)\n",
        "### total = 6\n",
        "### window = [1, 1, 2, 2]\n",
        "### cost = 2*4 - 6 = 8 - 6 = 2 → ✅\n",
        "### res = max(3, 4) = 4 ✅\n",
        "\n",
        "### Iteration 6: right = 5 (nums[5] = 4)\n",
        "### total = 10\n",
        "### window = [1, 1, 2, 2, 4]\n",
        "### cost = 4*5 - 10 = 20 - 10 = 10 > k → ❌\n",
        "### shrink:\n",
        "###   left = 2 → total = 9\n",
        "###   left = 3 → total = 8\n",
        "###   left = 4 → total = 6\n",
        "### Now window = [2, 4]\n",
        "### cost = 4*2 - 6 = 8 - 6 = 2 ≤ k → ✅\n",
        "### res = max(4, 2) = 4\n",
        "\n",
        "### -------------------------------------------------------------------------\n",
        "\n",
        "### ✅ Final Answer:\n",
        "### Maximum frequency of any element after at most k=2 operations is: 4\n"
      ],
      "metadata": {
        "id": "GVwlXybES1nD"
      }
    },
    {
      "cell_type": "markdown",
      "source": [
        "## Sorting Techniques\n",
        "\n",
        "#### Sorting - I"
      ],
      "metadata": {
        "id": "3BDU49cHY9hv"
      }
    },
    {
      "cell_type": "markdown",
      "source": [
        "##### Selection Sort\n",
        "\n",
        "- Example problem (Coding 360) : https://www.naukri.com/code360/problems/selection-sort_981162"
      ],
      "metadata": {
        "id": "bHhJ4GFUZCjd"
      }
    },
    {
      "cell_type": "code",
      "source": [
        "def selection_sort(arr,n):\n",
        "  for i in range(n-1):\n",
        "    min = i\n",
        "    for j in range(i,n):\n",
        "      if arr[j]<arr[min]:\n",
        "        min = j\n",
        "    arr[i],arr[min] = arr[min],arr[i]\n",
        "  return arr\n",
        "\n",
        "\n",
        "\n",
        "n = int(input())\n",
        "l = []\n",
        "for i in range(n):\n",
        "  a = int(input())\n",
        "  l.append(a)\n",
        "print(selection_sort(l,n))\n",
        "\n",
        "\n",
        "# Time complexity - O(N^2)\n",
        "\n",
        "\n"
      ],
      "metadata": {
        "id": "dtbgQm7syR30",
        "colab": {
          "base_uri": "https://localhost:8080/"
        },
        "outputId": "d13ae493-fc5e-4dfb-cf6c-f9304fc84021"
      },
      "execution_count": null,
      "outputs": [
        {
          "output_type": "stream",
          "name": "stdout",
          "text": [
            "5\n",
            "2\n",
            "8\n",
            "3\n",
            "5\n",
            "18\n",
            "[2, 3, 5, 8, 18]\n"
          ]
        }
      ]
    },
    {
      "cell_type": "markdown",
      "source": [
        "##### Bubble Sort\n",
        "- Example problem (Coding 360) : https://www.naukri.com/code360/problems/bubble-sort_980524?interviewProblemRedirection=true&search=bubble%20sort&leftPanelTabValue=PROBLEM\n"
      ],
      "metadata": {
        "id": "KonR0MyEcTdk"
      }
    },
    {
      "cell_type": "code",
      "source": [
        "def bubble_sort(arr,n):\n",
        "  for i in range(n-1,0,-1):\n",
        "    for j in range(i):\n",
        "      if arr[j]>arr[j+1]:\n",
        "        arr[j],arr[j+1] = arr[j+1],arr[j]\n",
        "  return arr\n",
        "\n",
        "\n",
        "\n",
        "n = int(input())\n",
        "l = []\n",
        "for i in range(n):\n",
        "  a = int(input())\n",
        "  l.append(a)\n",
        "print(bubble_sort(l,n))\n",
        "\n",
        "\n",
        "# Time complexity - O(N^2) - Worst case abd Average case\n",
        "# Best case would O(N) - case where the array is already sorted"
      ],
      "metadata": {
        "id": "1uc6I27LaMZm",
        "colab": {
          "base_uri": "https://localhost:8080/"
        },
        "outputId": "fe6b7c9b-a87c-4112-c311-7e7d026a7028"
      },
      "execution_count": null,
      "outputs": [
        {
          "output_type": "stream",
          "name": "stdout",
          "text": [
            "5\n",
            "2\n",
            "6\n",
            "3\n",
            "7\n",
            "1\n",
            "[1, 2, 3, 6, 7]\n"
          ]
        }
      ]
    },
    {
      "cell_type": "markdown",
      "source": [
        "##### Insertion Sort\n",
        "\n",
        "- Example problem (Coding360): https://www.naukri.com/code360/problems/insertion-sort_3155179?interviewProblemRedirection=true&search=insertion%20sort"
      ],
      "metadata": {
        "id": "GhHCk8LiWuqe"
      }
    },
    {
      "cell_type": "code",
      "source": [
        "def insertion_sort(arr,n):\n",
        "  for i in range(n):\n",
        "    j = i\n",
        "    while(j>0 and arr[j-1]>arr[j]):\n",
        "      arr[j-1],arr[j] = arr[j],arr[j-1]\n",
        "      j-=1\n",
        "  return arr\n",
        "\n",
        "\n",
        "\n",
        "n = int(input())\n",
        "l = []\n",
        "for i in range(n):\n",
        "  a = int(input())\n",
        "  l.append(a)\n",
        "print(insertion_sort(l,n))\n",
        "\n",
        "# Time complexity - O(N^2) - Worst case abd Average case\n",
        "# Best case would O(N) - case where the array is already sorted"
      ],
      "metadata": {
        "colab": {
          "base_uri": "https://localhost:8080/"
        },
        "id": "NbDn2jVlU-hu",
        "outputId": "c99929dd-700e-4844-deae-4ebdf904491b"
      },
      "execution_count": null,
      "outputs": [
        {
          "output_type": "stream",
          "name": "stdout",
          "text": [
            "5\n",
            "4\n",
            "2\n",
            "7\n",
            "9\n",
            "3\n",
            "[2, 3, 4, 7, 9]\n"
          ]
        }
      ]
    },
    {
      "cell_type": "markdown",
      "source": [
        "#### Sorting - II"
      ],
      "metadata": {
        "id": "LC1UeaGtsy5b"
      }
    },
    {
      "cell_type": "markdown",
      "source": [
        "##### Merge Sort\n",
        "\n",
        "- Example problem (Coding 360) : https://www.naukri.com/code360/problems/merge-sort_920442?interviewProblemRedirection=true&search=merge%20sort&leftPanelTabValue=PROBLEM"
      ],
      "metadata": {
        "id": "bES3LpnJs8lb"
      }
    },
    {
      "cell_type": "code",
      "source": [
        "def merge(arr,low,mid,high):\n",
        "    temp = []\n",
        "    left = low\n",
        "    right= mid+1\n",
        "    while(left<=mid and right<=high):\n",
        "        if(arr[left]<=arr[right]):\n",
        "            temp.append(arr[left])\n",
        "            left+=1\n",
        "        else:\n",
        "            temp.append(arr[right])\n",
        "            right+=1\n",
        "\n",
        "    while(left<=mid):\n",
        "        temp.append(arr[left])\n",
        "        left+=1\n",
        "    while(right<=high):\n",
        "        temp.append(arr[right])\n",
        "        right+=1\n",
        "\n",
        "    for i in range(low,high+1):\n",
        "        arr[i] = temp[i-low]\n",
        "\n",
        "\n",
        "\n",
        "def ms(arr,low,high):\n",
        "    if (low == high):\n",
        "        return\n",
        "    mid=(low+high)//2\n",
        "    ms(arr,low,mid)\n",
        "    ms(arr,mid+1,high)\n",
        "    merge(arr,low,mid,high)\n",
        "\n",
        "\n",
        "def mergeSort(arr, n):\n",
        "    ms(arr,0,n-1)\n",
        "    return arr"
      ],
      "metadata": {
        "id": "bLlYb0X5s5aL"
      },
      "execution_count": null,
      "outputs": []
    },
    {
      "cell_type": "markdown",
      "source": [
        "##### Quick Sort\n",
        "\n",
        "- Example problem (Coding 360) : https://www.naukri.com/code360/problems/quick-sort_983625?interviewProblemRedirection=true&search=quick"
      ],
      "metadata": {
        "id": "z4jJc4R05Xrm"
      }
    },
    {
      "cell_type": "code",
      "source": [
        "# Ascending Order\n",
        "def partition(arr,low,high):\n",
        "  pivot = arr[low]\n",
        "  i = low\n",
        "  j = high\n",
        "\n",
        "  while(i<j):\n",
        "    while(arr[i]<=pivot and i<=high-1):\n",
        "      i+=1\n",
        "    while(arr[j]> pivot and j>=low+1):\n",
        "      j-=1\n",
        "    if(i<j):\n",
        "      arr[i],arr[j] = arr[j],arr[i]\n",
        "  arr[low],arr[j] = arr[j],arr[low]\n",
        "  return j\n",
        "\n",
        "\n",
        "\n",
        "def quicksort(arr,low,high):\n",
        "  if(low<high):\n",
        "    partition_index = partition(arr,low,high)\n",
        "    quicksort(arr,low,partition_index-1)\n",
        "    quicksort(arr,partition_index+1,high)\n",
        "  return arr\n",
        "\n",
        "arr = []\n",
        "n = int(input())\n",
        "for i in range(0,n):\n",
        "  a = int(input())\n",
        "  arr.append(a)\n",
        "\n",
        "low = 0\n",
        "high = n-1\n",
        "\n",
        "quicksort(arr,low,high)\n",
        "\n"
      ],
      "metadata": {
        "id": "s2lZNEOX5dOQ",
        "colab": {
          "base_uri": "https://localhost:8080/"
        },
        "outputId": "62ec028e-3e62-408b-bfa8-ce42c6cab918"
      },
      "execution_count": null,
      "outputs": [
        {
          "name": "stdout",
          "output_type": "stream",
          "text": [
            "5\n",
            "9\n",
            "8\n",
            "2\n",
            "4\n",
            "19\n"
          ]
        },
        {
          "output_type": "execute_result",
          "data": {
            "text/plain": [
              "[2, 4, 8, 9, 19]"
            ]
          },
          "metadata": {},
          "execution_count": 9
        }
      ]
    },
    {
      "cell_type": "code",
      "source": [
        "# Descending Order\n",
        "\n",
        "def partition(arr,low,high):\n",
        "  pivot = arr[low]\n",
        "  i = low\n",
        "  j = high\n",
        "\n",
        "  while(i<j):\n",
        "    while(arr[i]>=pivot and i<=high-1):\n",
        "      i+=1\n",
        "    while(arr[j]<pivot and j>=low+1):\n",
        "      j-=1\n",
        "    if(i<j):\n",
        "      arr[i],arr[j] = arr[j],arr[i]\n",
        "  arr[low],arr[j] = arr[j],arr[low]\n",
        "  return j\n",
        "\n",
        "\n",
        "\n",
        "def quicksort(arr,low,high):\n",
        "  if(low<high):\n",
        "    partition_index = partition(arr,low,high)\n",
        "    quicksort(arr,low,partition_index-1)\n",
        "    quicksort(arr,partition_index+1,high)\n",
        "  return arr\n",
        "\n",
        "arr = []\n",
        "n = int(input())\n",
        "for i in range(0,n):\n",
        "  a = int(input())\n",
        "  arr.append(a)\n",
        "\n",
        "low = 0\n",
        "high = n-1\n",
        "\n",
        "quicksort(arr,low,high)\n",
        "\n"
      ],
      "metadata": {
        "colab": {
          "base_uri": "https://localhost:8080/"
        },
        "id": "yO0K-AhQBj_Y",
        "outputId": "a9eb9745-f771-4663-c8ec-e2dbe43c2e49"
      },
      "execution_count": null,
      "outputs": [
        {
          "name": "stdout",
          "output_type": "stream",
          "text": [
            "5\n",
            "9\n",
            "3\n",
            "8\n",
            "4\n",
            "6\n"
          ]
        },
        {
          "output_type": "execute_result",
          "data": {
            "text/plain": [
              "[9, 8, 6, 4, 3]"
            ]
          },
          "metadata": {},
          "execution_count": 11
        }
      ]
    },
    {
      "cell_type": "code",
      "source": [
        "# code 360 problem\n",
        "from os import *\n",
        "from sys import *\n",
        "from collections import *\n",
        "from math import *\n",
        "\n",
        "\n",
        "\n",
        "\n",
        "def quickSort(arr):\n",
        "    def partition(arr, low, high):\n",
        "        pivot = arr[low]\n",
        "        i = low\n",
        "        j = high\n",
        "\n",
        "        while i < j:\n",
        "            while i <= high - 1 and arr[i] <= pivot:\n",
        "                i += 1\n",
        "            while j >= low + 1 and arr[j] > pivot:\n",
        "                j -= 1\n",
        "            if i < j:\n",
        "                arr[i], arr[j] = arr[j], arr[i]\n",
        "\n",
        "        arr[low], arr[j] = arr[j], arr[low]\n",
        "        return j\n",
        "\n",
        "    def quicksort_helper(arr, low, high):\n",
        "        if low < high:\n",
        "            p = partition(arr, low, high)\n",
        "            quicksort_helper(arr, low, p - 1)\n",
        "            quicksort_helper(arr, p + 1, high)\n",
        "\n",
        "    quicksort_helper(arr, 0, len(arr) - 1)\n",
        "    return arr\n",
        "\n",
        "\n",
        "\n"
      ],
      "metadata": {
        "id": "qXw88L1NGnYU"
      },
      "execution_count": null,
      "outputs": []
    }
  ]
}
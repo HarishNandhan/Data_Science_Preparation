{
 "cells": [
  {
   "cell_type": "markdown",
   "id": "e30d7fed",
   "metadata": {},
   "source": [
    "Team Members: \n",
    "- Harish Nandhan Shanmugam\n",
    "- Manohar Korikana\n",
    "- Manidatta Anumandla\n",
    "- Ajay Tata"
   ]
  },
  {
   "cell_type": "markdown",
   "id": "83eec793",
   "metadata": {},
   "source": [
    "Study 1: Mitigating socio-demographic bias in language-based\n",
    "machine learning models of depression\n",
    "Patients with depression depict differences in language use compared to their healthy counter\u0002parts, such as an increased use of first-person singular pronoun use, increased use of negative\n",
    "emotion words, and decreased use of positive emotion words [7]. Yet, the use of language also\n",
    "carries evidence on the speaker’s socio-demographic characteristics, such as gender, race, and\n",
    "ethnicity. For example, in a study that analyzed English text, women used more words related\n",
    "to psychological and social processes, while men referred more to object properties and imper\u0002sonal topics [6]. A meta-review further found that women were more likely to use more tentative\n",
    "language than men [4]. This study explores the effectiveness of language-based ML models for\n",
    "automatically estimating the degree of depression severity, as well as gender and race/ethnicity\n",
    "bias in these models.\n",
    "The data for this study comes from the Extended Distress Analysis Interview Corpus (E-DAIC)\n",
    "dataset [2], which contains clinical interviews designed to support the diagnosis of psycho\u0002logical distress conditions such as depression. More details about the dataset, including the\n",
    "experimental setup and type of data, can be found here: https://dcapswoz.ict.usc.edu/.\n",
    "The data uploaded on CANVAS includes interview transcripts from 190 participants. The\n",
    "‘DAIC demographic data.xlsx’ file contains three tabs with information on participants’ gen\u0002der, race/ethnicity, and depression severity (PHQ Score). The folder ‘E-DAIC Transcripts’\n",
    "includes csv files (one per participant) with the transcript data. Each filename, named as\n",
    "‘x Transcript.csv’, where x is the participant ID, includes the transcripts from the responses\n",
    "provided by participant x during the clinical interview. In the following analysis, participants\n",
    "will be grouped by gender, including female and male participants, and by race/ethnicity, includ\u0002ing African American, Hispanic, and White American participants, along with the intersections\n",
    "of these categories.\n",
    "\n",
    "What we are going to do here?\n",
    "\n",
    "Identifying depression from language by using Machine Learning, Deep Learning and Transformer based approaches\n",
    "- Models are biased against certain genders/races/ethnicities\n",
    "- Interpretation of model\n",
    "- Protecting privacy when handling health/demographic data"
   ]
  },
  {
   "cell_type": "code",
   "execution_count": 1,
   "id": "750dd74c",
   "metadata": {},
   "outputs": [],
   "source": [
    "# Libraries\n",
    "import os # path operations\n",
    "import pandas as pd # Data loading and manipulation \n",
    "import numpy as np # Numerical Operations \n",
    "from sklearn.model_selection import StratifiedKFold # Data splitting\n"
   ]
  },
  {
   "cell_type": "code",
   "execution_count": 2,
   "id": "2ad393e6",
   "metadata": {},
   "outputs": [
    {
     "data": {
      "text/html": [
       "<div>\n",
       "<style scoped>\n",
       "    .dataframe tbody tr th:only-of-type {\n",
       "        vertical-align: middle;\n",
       "    }\n",
       "\n",
       "    .dataframe tbody tr th {\n",
       "        vertical-align: top;\n",
       "    }\n",
       "\n",
       "    .dataframe thead th {\n",
       "        text-align: right;\n",
       "    }\n",
       "</style>\n",
       "<table border=\"1\" class=\"dataframe\">\n",
       "  <thead>\n",
       "    <tr style=\"text-align: right;\">\n",
       "      <th></th>\n",
       "      <th>Partic#</th>\n",
       "      <th>Condition</th>\n",
       "      <th>gender</th>\n",
       "      <th>race</th>\n",
       "    </tr>\n",
       "  </thead>\n",
       "  <tbody>\n",
       "    <tr>\n",
       "      <th>0</th>\n",
       "      <td>Participant Number</td>\n",
       "      <td>Condition</td>\n",
       "      <td>What is your gender?</td>\n",
       "      <td>What is your race?</td>\n",
       "    </tr>\n",
       "    <tr>\n",
       "      <th>1</th>\n",
       "      <td>302</td>\n",
       "      <td>WoZ</td>\n",
       "      <td>1</td>\n",
       "      <td>1</td>\n",
       "    </tr>\n",
       "    <tr>\n",
       "      <th>2</th>\n",
       "      <td>303</td>\n",
       "      <td>WoZ</td>\n",
       "      <td>2</td>\n",
       "      <td>1</td>\n",
       "    </tr>\n",
       "    <tr>\n",
       "      <th>3</th>\n",
       "      <td>304</td>\n",
       "      <td>WoZ</td>\n",
       "      <td>2</td>\n",
       "      <td>1</td>\n",
       "    </tr>\n",
       "    <tr>\n",
       "      <th>4</th>\n",
       "      <td>305</td>\n",
       "      <td>WoZ</td>\n",
       "      <td>1</td>\n",
       "      <td>4</td>\n",
       "    </tr>\n",
       "  </tbody>\n",
       "</table>\n",
       "</div>"
      ],
      "text/plain": [
       "              Partic#  Condition                gender                race\n",
       "0  Participant Number  Condition  What is your gender?  What is your race?\n",
       "1                 302        WoZ                     1                   1\n",
       "2                 303        WoZ                     2                   1\n",
       "3                 304        WoZ                     2                   1\n",
       "4                 305        WoZ                     1                   4"
      ]
     },
     "execution_count": 2,
     "metadata": {},
     "output_type": "execute_result"
    }
   ],
   "source": [
    "# path of the directory & file location\n",
    "base_path = \"E-DAIC\"\n",
    "excel_path = os.path.join(base_path, \"DAIC demographic data.xlsx\")\n",
    "\n",
    "\n",
    "raw_demo_df = pd.read_excel(excel_path, sheet_name=\"Interview_Data\")\n",
    "\n",
    "\n",
    "phq_df = pd.read_excel(excel_path, sheet_name=\"Metadata_mapping\")\n",
    "\n",
    "\n",
    "key_df= pd.read_excel(excel_path, sheet_name=\"Variable Key\", skiprows=1)\n",
    "\n",
    "raw_demo_df.head()"
   ]
  },
  {
   "cell_type": "code",
   "execution_count": 3,
   "id": "308ce50a",
   "metadata": {},
   "outputs": [
    {
     "data": {
      "text/html": [
       "<div>\n",
       "<style scoped>\n",
       "    .dataframe tbody tr th:only-of-type {\n",
       "        vertical-align: middle;\n",
       "    }\n",
       "\n",
       "    .dataframe tbody tr th {\n",
       "        vertical-align: top;\n",
       "    }\n",
       "\n",
       "    .dataframe thead th {\n",
       "        text-align: right;\n",
       "    }\n",
       "</style>\n",
       "<table border=\"1\" class=\"dataframe\">\n",
       "  <thead>\n",
       "    <tr style=\"text-align: right;\">\n",
       "      <th></th>\n",
       "      <th>Partic#</th>\n",
       "      <th>Condition</th>\n",
       "      <th>gender</th>\n",
       "      <th>race</th>\n",
       "    </tr>\n",
       "  </thead>\n",
       "  <tbody>\n",
       "    <tr>\n",
       "      <th>0</th>\n",
       "      <td>302</td>\n",
       "      <td>WoZ</td>\n",
       "      <td>1</td>\n",
       "      <td>1</td>\n",
       "    </tr>\n",
       "    <tr>\n",
       "      <th>1</th>\n",
       "      <td>303</td>\n",
       "      <td>WoZ</td>\n",
       "      <td>2</td>\n",
       "      <td>1</td>\n",
       "    </tr>\n",
       "    <tr>\n",
       "      <th>2</th>\n",
       "      <td>304</td>\n",
       "      <td>WoZ</td>\n",
       "      <td>2</td>\n",
       "      <td>1</td>\n",
       "    </tr>\n",
       "    <tr>\n",
       "      <th>3</th>\n",
       "      <td>305</td>\n",
       "      <td>WoZ</td>\n",
       "      <td>1</td>\n",
       "      <td>4</td>\n",
       "    </tr>\n",
       "    <tr>\n",
       "      <th>4</th>\n",
       "      <td>306</td>\n",
       "      <td>WoZ</td>\n",
       "      <td>2</td>\n",
       "      <td>3</td>\n",
       "    </tr>\n",
       "    <tr>\n",
       "      <th>...</th>\n",
       "      <td>...</td>\n",
       "      <td>...</td>\n",
       "      <td>...</td>\n",
       "      <td>...</td>\n",
       "    </tr>\n",
       "    <tr>\n",
       "      <th>432</th>\n",
       "      <td>841</td>\n",
       "      <td>AI</td>\n",
       "      <td>1</td>\n",
       "      <td>4</td>\n",
       "    </tr>\n",
       "    <tr>\n",
       "      <th>433</th>\n",
       "      <td>NaN</td>\n",
       "      <td>NaN</td>\n",
       "      <td>NaN</td>\n",
       "      <td>154</td>\n",
       "    </tr>\n",
       "    <tr>\n",
       "      <th>434</th>\n",
       "      <td>NaN</td>\n",
       "      <td>NaN</td>\n",
       "      <td>NaN</td>\n",
       "      <td>17</td>\n",
       "    </tr>\n",
       "    <tr>\n",
       "      <th>435</th>\n",
       "      <td>NaN</td>\n",
       "      <td>NaN</td>\n",
       "      <td>NaN</td>\n",
       "      <td>167</td>\n",
       "    </tr>\n",
       "    <tr>\n",
       "      <th>436</th>\n",
       "      <td>NaN</td>\n",
       "      <td>NaN</td>\n",
       "      <td>NaN</td>\n",
       "      <td>56</td>\n",
       "    </tr>\n",
       "  </tbody>\n",
       "</table>\n",
       "<p>437 rows × 4 columns</p>\n",
       "</div>"
      ],
      "text/plain": [
       "    Partic# Condition gender race\n",
       "0       302       WoZ      1    1\n",
       "1       303       WoZ      2    1\n",
       "2       304       WoZ      2    1\n",
       "3       305       WoZ      1    4\n",
       "4       306       WoZ      2    3\n",
       "..      ...       ...    ...  ...\n",
       "432     841        AI      1    4\n",
       "433     NaN       NaN    NaN  154\n",
       "434     NaN       NaN    NaN   17\n",
       "435     NaN       NaN    NaN  167\n",
       "436     NaN       NaN    NaN   56\n",
       "\n",
       "[437 rows x 4 columns]"
      ]
     },
     "execution_count": 3,
     "metadata": {},
     "output_type": "execute_result"
    }
   ],
   "source": [
    "\n",
    "raw_demo_df = raw_demo_df.iloc[1:].reset_index(drop=True)\n",
    "raw_demo_df"
   ]
  },
  {
   "cell_type": "code",
   "execution_count": 4,
   "id": "7dc39df1",
   "metadata": {},
   "outputs": [
    {
     "data": {
      "text/html": [
       "<div>\n",
       "<style scoped>\n",
       "    .dataframe tbody tr th:only-of-type {\n",
       "        vertical-align: middle;\n",
       "    }\n",
       "\n",
       "    .dataframe tbody tr th {\n",
       "        vertical-align: top;\n",
       "    }\n",
       "\n",
       "    .dataframe thead th {\n",
       "        text-align: right;\n",
       "    }\n",
       "</style>\n",
       "<table border=\"1\" class=\"dataframe\">\n",
       "  <thead>\n",
       "    <tr style=\"text-align: right;\">\n",
       "      <th></th>\n",
       "      <th>Participant_ID</th>\n",
       "      <th>Condition</th>\n",
       "      <th>Gender_Code</th>\n",
       "      <th>Race_Code</th>\n",
       "    </tr>\n",
       "  </thead>\n",
       "  <tbody>\n",
       "    <tr>\n",
       "      <th>0</th>\n",
       "      <td>302</td>\n",
       "      <td>WoZ</td>\n",
       "      <td>1</td>\n",
       "      <td>1</td>\n",
       "    </tr>\n",
       "    <tr>\n",
       "      <th>1</th>\n",
       "      <td>303</td>\n",
       "      <td>WoZ</td>\n",
       "      <td>2</td>\n",
       "      <td>1</td>\n",
       "    </tr>\n",
       "    <tr>\n",
       "      <th>2</th>\n",
       "      <td>304</td>\n",
       "      <td>WoZ</td>\n",
       "      <td>2</td>\n",
       "      <td>1</td>\n",
       "    </tr>\n",
       "    <tr>\n",
       "      <th>3</th>\n",
       "      <td>305</td>\n",
       "      <td>WoZ</td>\n",
       "      <td>1</td>\n",
       "      <td>4</td>\n",
       "    </tr>\n",
       "    <tr>\n",
       "      <th>4</th>\n",
       "      <td>306</td>\n",
       "      <td>WoZ</td>\n",
       "      <td>2</td>\n",
       "      <td>3</td>\n",
       "    </tr>\n",
       "  </tbody>\n",
       "</table>\n",
       "</div>"
      ],
      "text/plain": [
       "  Participant_ID Condition Gender_Code Race_Code\n",
       "0            302       WoZ           1         1\n",
       "1            303       WoZ           2         1\n",
       "2            304       WoZ           2         1\n",
       "3            305       WoZ           1         4\n",
       "4            306       WoZ           2         3"
      ]
     },
     "execution_count": 4,
     "metadata": {},
     "output_type": "execute_result"
    }
   ],
   "source": [
    "\n",
    "raw_demo_df.rename(columns={\n",
    "    \"Partic#\": \"Participant_ID\",\n",
    "    \"gender\": \"Gender_Code\",\n",
    "    \"race\": \"Race_Code\"\n",
    "}, inplace=True)\n",
    "\n",
    "raw_demo_df.head()\n",
    "\n"
   ]
  },
  {
   "cell_type": "code",
   "execution_count": 5,
   "id": "009cea93",
   "metadata": {},
   "outputs": [],
   "source": [
    "# Merging the PHQ Scores with Map codes to the Labels [Demographic + Depression]\n",
    "merged_df = pd.merge(raw_demo_df, phq_df, on=\"Participant_ID\")"
   ]
  },
  {
   "cell_type": "code",
   "execution_count": 6,
   "id": "b98f89db",
   "metadata": {},
   "outputs": [],
   "source": [
    "# Converts the numeric gender and race codes into clear labels using mapping dictionaries\n",
    "gender_map = {1: \"Male\", 2: \"Female\"}\n",
    "race_map = {\n",
    "    1: \"African American\",\n",
    "    2: \"Asian\",\n",
    "    3: \"White American\",\n",
    "    4: \"Hispanic\",\n",
    "    5: \"Native American\",\n",
    "    6: \"Native Hawaiian/Other Pacific Islander\",\n",
    "    7: \"Other\"\n",
    "}\n",
    "\n",
    "# Applying mappings\n",
    "merged_df[\"Gender\"] = merged_df[\"Gender_Code\"].map(gender_map)\n",
    "merged_df[\"Race\"] = merged_df[\"Race_Code\"].map(race_map)\n"
   ]
  },
  {
   "cell_type": "code",
   "execution_count": 7,
   "id": "0bca327d",
   "metadata": {},
   "outputs": [
    {
     "name": "stdout",
     "output_type": "stream",
     "text": [
      "Participants after filtering: 186\n"
     ]
    }
   ],
   "source": [
    "# Step 5: Filter relevant race groups and removing unwanted race group rows\n",
    "target_races = [\"African American\", \"Hispanic\", \"White American\"]\n",
    "filtered_df = merged_df[merged_df[\"Race\"].isin(target_races)].copy()\n",
    "\n",
    "print(\"Participants after filtering:\", len(filtered_df))\n"
   ]
  },
  {
   "cell_type": "code",
   "execution_count": 8,
   "id": "118481c3",
   "metadata": {},
   "outputs": [
    {
     "data": {
      "text/html": [
       "<div>\n",
       "<style scoped>\n",
       "    .dataframe tbody tr th:only-of-type {\n",
       "        vertical-align: middle;\n",
       "    }\n",
       "\n",
       "    .dataframe tbody tr th {\n",
       "        vertical-align: top;\n",
       "    }\n",
       "\n",
       "    .dataframe thead th {\n",
       "        text-align: right;\n",
       "    }\n",
       "</style>\n",
       "<table border=\"1\" class=\"dataframe\">\n",
       "  <thead>\n",
       "    <tr style=\"text-align: right;\">\n",
       "      <th></th>\n",
       "      <th>Participant_ID</th>\n",
       "      <th>Condition</th>\n",
       "      <th>Gender_Code</th>\n",
       "      <th>Race_Code</th>\n",
       "      <th>PHQ_Score</th>\n",
       "      <th>Gender</th>\n",
       "      <th>Race</th>\n",
       "    </tr>\n",
       "  </thead>\n",
       "  <tbody>\n",
       "    <tr>\n",
       "      <th>0</th>\n",
       "      <td>302</td>\n",
       "      <td>WoZ</td>\n",
       "      <td>1</td>\n",
       "      <td>1</td>\n",
       "      <td>4</td>\n",
       "      <td>Male</td>\n",
       "      <td>African American</td>\n",
       "    </tr>\n",
       "    <tr>\n",
       "      <th>1</th>\n",
       "      <td>303</td>\n",
       "      <td>WoZ</td>\n",
       "      <td>2</td>\n",
       "      <td>1</td>\n",
       "      <td>0</td>\n",
       "      <td>Female</td>\n",
       "      <td>African American</td>\n",
       "    </tr>\n",
       "    <tr>\n",
       "      <th>2</th>\n",
       "      <td>304</td>\n",
       "      <td>WoZ</td>\n",
       "      <td>2</td>\n",
       "      <td>1</td>\n",
       "      <td>6</td>\n",
       "      <td>Female</td>\n",
       "      <td>African American</td>\n",
       "    </tr>\n",
       "    <tr>\n",
       "      <th>3</th>\n",
       "      <td>305</td>\n",
       "      <td>WoZ</td>\n",
       "      <td>1</td>\n",
       "      <td>4</td>\n",
       "      <td>7</td>\n",
       "      <td>Male</td>\n",
       "      <td>Hispanic</td>\n",
       "    </tr>\n",
       "    <tr>\n",
       "      <th>4</th>\n",
       "      <td>306</td>\n",
       "      <td>WoZ</td>\n",
       "      <td>2</td>\n",
       "      <td>3</td>\n",
       "      <td>0</td>\n",
       "      <td>Female</td>\n",
       "      <td>White American</td>\n",
       "    </tr>\n",
       "    <tr>\n",
       "      <th>...</th>\n",
       "      <td>...</td>\n",
       "      <td>...</td>\n",
       "      <td>...</td>\n",
       "      <td>...</td>\n",
       "      <td>...</td>\n",
       "      <td>...</td>\n",
       "      <td>...</td>\n",
       "    </tr>\n",
       "    <tr>\n",
       "      <th>211</th>\n",
       "      <td>697</td>\n",
       "      <td>AI</td>\n",
       "      <td>1</td>\n",
       "      <td>4</td>\n",
       "      <td>5</td>\n",
       "      <td>Male</td>\n",
       "      <td>Hispanic</td>\n",
       "    </tr>\n",
       "    <tr>\n",
       "      <th>213</th>\n",
       "      <td>702</td>\n",
       "      <td>AI</td>\n",
       "      <td>1</td>\n",
       "      <td>3</td>\n",
       "      <td>0</td>\n",
       "      <td>Male</td>\n",
       "      <td>White American</td>\n",
       "    </tr>\n",
       "    <tr>\n",
       "      <th>214</th>\n",
       "      <td>703</td>\n",
       "      <td>AI</td>\n",
       "      <td>1</td>\n",
       "      <td>1</td>\n",
       "      <td>8</td>\n",
       "      <td>Male</td>\n",
       "      <td>African American</td>\n",
       "    </tr>\n",
       "    <tr>\n",
       "      <th>215</th>\n",
       "      <td>707</td>\n",
       "      <td>AI</td>\n",
       "      <td>1</td>\n",
       "      <td>3</td>\n",
       "      <td>1</td>\n",
       "      <td>Male</td>\n",
       "      <td>White American</td>\n",
       "    </tr>\n",
       "    <tr>\n",
       "      <th>216</th>\n",
       "      <td>713</td>\n",
       "      <td>AI</td>\n",
       "      <td>NaN</td>\n",
       "      <td>3</td>\n",
       "      <td>0</td>\n",
       "      <td>NaN</td>\n",
       "      <td>White American</td>\n",
       "    </tr>\n",
       "  </tbody>\n",
       "</table>\n",
       "<p>186 rows × 7 columns</p>\n",
       "</div>"
      ],
      "text/plain": [
       "    Participant_ID Condition Gender_Code Race_Code  PHQ_Score  Gender  \\\n",
       "0              302       WoZ           1         1          4    Male   \n",
       "1              303       WoZ           2         1          0  Female   \n",
       "2              304       WoZ           2         1          6  Female   \n",
       "3              305       WoZ           1         4          7    Male   \n",
       "4              306       WoZ           2         3          0  Female   \n",
       "..             ...       ...         ...       ...        ...     ...   \n",
       "211            697        AI           1         4          5    Male   \n",
       "213            702        AI           1         3          0    Male   \n",
       "214            703        AI           1         1          8    Male   \n",
       "215            707        AI           1         3          1    Male   \n",
       "216            713        AI         NaN         3          0     NaN   \n",
       "\n",
       "                 Race  \n",
       "0    African American  \n",
       "1    African American  \n",
       "2    African American  \n",
       "3            Hispanic  \n",
       "4      White American  \n",
       "..                ...  \n",
       "211          Hispanic  \n",
       "213    White American  \n",
       "214  African American  \n",
       "215    White American  \n",
       "216    White American  \n",
       "\n",
       "[186 rows x 7 columns]"
      ]
     },
     "execution_count": 8,
     "metadata": {},
     "output_type": "execute_result"
    }
   ],
   "source": [
    "filtered_df"
   ]
  },
  {
   "cell_type": "code",
   "execution_count": 9,
   "id": "ee2810cf",
   "metadata": {},
   "outputs": [
    {
     "name": "stdout",
     "output_type": "stream",
     "text": [
      "Fold\n",
      "0    38\n",
      "2    37\n",
      "4    37\n",
      "1    37\n",
      "3    37\n",
      "Name: count, dtype: int64\n"
     ]
    },
    {
     "name": "stderr",
     "output_type": "stream",
     "text": [
      "c:\\ProgramData\\anaconda3\\Lib\\site-packages\\sklearn\\model_selection\\_split.py:776: UserWarning: The least populated class in y has only 1 members, which is less than n_splits=5.\n",
      "  warnings.warn(\n"
     ]
    }
   ],
   "source": [
    "# Initialize a 5 fold stratified split ensuring PHQ score distribution is balanced in each fold\n",
    "skf = StratifiedKFold(n_splits=5, shuffle=True, random_state=42)\n",
    "\n",
    "# Initially adding a new column 'Fold' and initializing all the values in Fold column as -1\n",
    "filtered_df[\"Fold\"] = -1\n",
    "\n",
    "# Every row is now tagged with a number from 0 to 4, indicating its assigned fold.\n",
    "# Enumerate here gives the current fold number\n",
    "# 'StratifiedKFold' splits based on PHQ_Score distribution ensuring the balance\n",
    "for fold, (train_idx, test_idx) in enumerate(skf.split(filtered_df, filtered_df[\"PHQ_Score\"])):\n",
    "    filtered_df.loc[filtered_df.iloc[test_idx].index, \"Fold\"] = fold\n",
    "    \n",
    "# Printing the number of participants in each fold\n",
    "print(filtered_df[\"Fold\"].value_counts())\n"
   ]
  },
  {
   "cell_type": "markdown",
   "id": "577e0a6d",
   "metadata": {},
   "source": [
    " #### a) Extracting language features"
   ]
  },
  {
   "cell_type": "code",
   "execution_count": null,
   "id": "ce1dd4b4",
   "metadata": {},
   "outputs": [],
   "source": [
    "import os\n",
    "import pandas as pd\n",
    "import csv\n",
    "\n",
    "# Defining the paths to transcripts csv\n",
    "transcript_path = os.path.join(base_path, \"E-DAIC_Transcripts\")\n",
    "# Initializing a dictionary 'participant_texts' to store transcripts text per participant\n",
    "participant_texts = {}\n",
    "\n",
    "# Looping Through sll files in the transcript folder\n",
    "for filename in os.listdir(transcript_path):\n",
    "    if filename.endswith(\"_Transcript.csv\"):\n",
    "        pid = int(filename.split(\"_\")[0])\n",
    "        \n",
    "        \n",
    "        try:\n",
    "            df = pd.read_csv(\n",
    "                os.path.join(transcript_path, filename),\n",
    "                engine='python',\n",
    "                quoting=csv.QUOTE_NONE,\n",
    "                on_bad_lines='skip'\n",
    "            )\n",
    "            \n",
    "            # Extracting the text column\n",
    "            if \"Text\" in df.columns:\n",
    "                full_text = \" \".join(str(x) for x in df[\"Text\"] if pd.notnull(x))\n",
    "                participant_texts[pid] = full_text\n",
    "\n",
    "        \n",
    "        except Exception as e:\n",
    "            print(f\"Skipping {filename} due to error: {e}\")\n"
   ]
  },
  {
   "cell_type": "code",
   "execution_count": 11,
   "id": "c323449c",
   "metadata": {},
   "outputs": [
    {
     "data": {
      "text/html": [
       "<div>\n",
       "<style scoped>\n",
       "    .dataframe tbody tr th:only-of-type {\n",
       "        vertical-align: middle;\n",
       "    }\n",
       "\n",
       "    .dataframe tbody tr th {\n",
       "        vertical-align: top;\n",
       "    }\n",
       "\n",
       "    .dataframe thead th {\n",
       "        text-align: right;\n",
       "    }\n",
       "</style>\n",
       "<table border=\"1\" class=\"dataframe\">\n",
       "  <thead>\n",
       "    <tr style=\"text-align: right;\">\n",
       "      <th></th>\n",
       "      <th>Participant_ID</th>\n",
       "      <th>Gender</th>\n",
       "      <th>Text</th>\n",
       "    </tr>\n",
       "  </thead>\n",
       "  <tbody>\n",
       "    <tr>\n",
       "      <th>0</th>\n",
       "      <td>386</td>\n",
       "      <td>Female</td>\n",
       "      <td>might have pulled something that  I'm going to...</td>\n",
       "    </tr>\n",
       "    <tr>\n",
       "      <th>1</th>\n",
       "      <td>387</td>\n",
       "      <td>Male</td>\n",
       "      <td>when she's done she'll let you know  alrighty ...</td>\n",
       "    </tr>\n",
       "    <tr>\n",
       "      <th>2</th>\n",
       "      <td>388</td>\n",
       "      <td>Male</td>\n",
       "      <td>are you okay with  yes  doing all right  from ...</td>\n",
       "    </tr>\n",
       "    <tr>\n",
       "      <th>3</th>\n",
       "      <td>389</td>\n",
       "      <td>Male</td>\n",
       "      <td>and please  are you okay  sure  I'm okay  smal...</td>\n",
       "    </tr>\n",
       "    <tr>\n",
       "      <th>4</th>\n",
       "      <td>390</td>\n",
       "      <td>Male</td>\n",
       "      <td>and now she's going to chat with you for a bit...</td>\n",
       "    </tr>\n",
       "  </tbody>\n",
       "</table>\n",
       "</div>"
      ],
      "text/plain": [
       "  Participant_ID  Gender                                               Text\n",
       "0            386  Female  might have pulled something that  I'm going to...\n",
       "1            387    Male  when she's done she'll let you know  alrighty ...\n",
       "2            388    Male  are you okay with  yes  doing all right  from ...\n",
       "3            389    Male  and please  are you okay  sure  I'm okay  smal...\n",
       "4            390    Male  and now she's going to chat with you for a bit..."
      ]
     },
     "execution_count": 11,
     "metadata": {},
     "output_type": "execute_result"
    }
   ],
   "source": [
    "# map the transcript using the participant_texts dictionary\n",
    "filtered_df[\"Text\"] = filtered_df[\"Participant_ID\"].map(participant_texts)\n",
    "\n",
    "# Dropping rows where no transcript was found\n",
    "filtered_df = filtered_df.dropna(subset=[\"Text\"])\n",
    "\n",
    "# Resetting the index to keep things clean\n",
    "filtered_df = filtered_df.reset_index(drop=True)\n",
    "\n",
    "# Preview the data: participant ID, gender, and transcript\n",
    "filtered_df[[\"Participant_ID\", \"Gender\", \"Text\"]].head()\n"
   ]
  },
  {
   "cell_type": "markdown",
   "id": "9af37fed",
   "metadata": {},
   "source": [
    "Syntactic Feature - TF - IDF Vectorizer\n",
    "\n",
    "- Synctactic features tells us 'How a language is structured' by focusing on 'Grammar, word frequency, parts of speech'\n",
    "- Order only matters here\n",
    "- Ex: Suppose a student is writing with a lot of passive voice, long sentences and adjectives - \" analyzing how they write, not what they write about\""
   ]
  },
  {
   "cell_type": "code",
   "execution_count": 12,
   "id": "0cd45a1e",
   "metadata": {},
   "outputs": [
    {
     "data": {
      "text/html": [
       "<div>\n",
       "<style scoped>\n",
       "    .dataframe tbody tr th:only-of-type {\n",
       "        vertical-align: middle;\n",
       "    }\n",
       "\n",
       "    .dataframe tbody tr th {\n",
       "        vertical-align: top;\n",
       "    }\n",
       "\n",
       "    .dataframe thead th {\n",
       "        text-align: right;\n",
       "    }\n",
       "</style>\n",
       "<table border=\"1\" class=\"dataframe\">\n",
       "  <thead>\n",
       "    <tr style=\"text-align: right;\">\n",
       "      <th></th>\n",
       "      <th>Participant_ID</th>\n",
       "      <th>Condition</th>\n",
       "      <th>Gender_Code</th>\n",
       "      <th>Race_Code</th>\n",
       "      <th>PHQ_Score</th>\n",
       "      <th>Gender</th>\n",
       "      <th>Race</th>\n",
       "      <th>Fold</th>\n",
       "      <th>Text</th>\n",
       "      <th>10</th>\n",
       "      <th>...</th>\n",
       "      <th>writing</th>\n",
       "      <th>wrong</th>\n",
       "      <th>yeah</th>\n",
       "      <th>year</th>\n",
       "      <th>years</th>\n",
       "      <th>yes</th>\n",
       "      <th>yesterday</th>\n",
       "      <th>york</th>\n",
       "      <th>young</th>\n",
       "      <th>younger</th>\n",
       "    </tr>\n",
       "  </thead>\n",
       "  <tbody>\n",
       "    <tr>\n",
       "      <th>0</th>\n",
       "      <td>386</td>\n",
       "      <td>WoZ</td>\n",
       "      <td>2</td>\n",
       "      <td>3</td>\n",
       "      <td>11</td>\n",
       "      <td>Female</td>\n",
       "      <td>White American</td>\n",
       "      <td>2</td>\n",
       "      <td>might have pulled something that  I'm going to...</td>\n",
       "      <td>0.019052</td>\n",
       "      <td>...</td>\n",
       "      <td>0.0</td>\n",
       "      <td>0.0</td>\n",
       "      <td>0.081220</td>\n",
       "      <td>0.000000</td>\n",
       "      <td>0.038184</td>\n",
       "      <td>0.023540</td>\n",
       "      <td>0.000000</td>\n",
       "      <td>0.000000</td>\n",
       "      <td>0.024369</td>\n",
       "      <td>0.0</td>\n",
       "    </tr>\n",
       "    <tr>\n",
       "      <th>1</th>\n",
       "      <td>387</td>\n",
       "      <td>WoZ</td>\n",
       "      <td>1</td>\n",
       "      <td>1</td>\n",
       "      <td>2</td>\n",
       "      <td>Male</td>\n",
       "      <td>African American</td>\n",
       "      <td>3</td>\n",
       "      <td>when she's done she'll let you know  alrighty ...</td>\n",
       "      <td>0.047133</td>\n",
       "      <td>...</td>\n",
       "      <td>0.0</td>\n",
       "      <td>0.0</td>\n",
       "      <td>0.100466</td>\n",
       "      <td>0.042595</td>\n",
       "      <td>0.125952</td>\n",
       "      <td>0.000000</td>\n",
       "      <td>0.000000</td>\n",
       "      <td>0.081347</td>\n",
       "      <td>0.120574</td>\n",
       "      <td>0.0</td>\n",
       "    </tr>\n",
       "    <tr>\n",
       "      <th>2</th>\n",
       "      <td>388</td>\n",
       "      <td>WoZ</td>\n",
       "      <td>1</td>\n",
       "      <td>4</td>\n",
       "      <td>17</td>\n",
       "      <td>Male</td>\n",
       "      <td>Hispanic</td>\n",
       "      <td>4</td>\n",
       "      <td>are you okay with  yes  doing all right  from ...</td>\n",
       "      <td>0.053568</td>\n",
       "      <td>...</td>\n",
       "      <td>0.0</td>\n",
       "      <td>0.0</td>\n",
       "      <td>0.114184</td>\n",
       "      <td>0.048411</td>\n",
       "      <td>0.071575</td>\n",
       "      <td>0.066188</td>\n",
       "      <td>0.000000</td>\n",
       "      <td>0.000000</td>\n",
       "      <td>0.000000</td>\n",
       "      <td>0.0</td>\n",
       "    </tr>\n",
       "    <tr>\n",
       "      <th>3</th>\n",
       "      <td>389</td>\n",
       "      <td>WoZ</td>\n",
       "      <td>1</td>\n",
       "      <td>1</td>\n",
       "      <td>14</td>\n",
       "      <td>Male</td>\n",
       "      <td>African American</td>\n",
       "      <td>3</td>\n",
       "      <td>and please  are you okay  sure  I'm okay  smal...</td>\n",
       "      <td>0.100627</td>\n",
       "      <td>...</td>\n",
       "      <td>0.0</td>\n",
       "      <td>0.0</td>\n",
       "      <td>0.107245</td>\n",
       "      <td>0.000000</td>\n",
       "      <td>0.067226</td>\n",
       "      <td>0.000000</td>\n",
       "      <td>0.000000</td>\n",
       "      <td>0.000000</td>\n",
       "      <td>0.000000</td>\n",
       "      <td>0.0</td>\n",
       "    </tr>\n",
       "    <tr>\n",
       "      <th>4</th>\n",
       "      <td>390</td>\n",
       "      <td>WoZ</td>\n",
       "      <td>1</td>\n",
       "      <td>3</td>\n",
       "      <td>9</td>\n",
       "      <td>Male</td>\n",
       "      <td>White American</td>\n",
       "      <td>2</td>\n",
       "      <td>and now she's going to chat with you for a bit...</td>\n",
       "      <td>0.000000</td>\n",
       "      <td>...</td>\n",
       "      <td>0.0</td>\n",
       "      <td>0.0</td>\n",
       "      <td>0.129622</td>\n",
       "      <td>0.032974</td>\n",
       "      <td>0.170630</td>\n",
       "      <td>0.022541</td>\n",
       "      <td>0.051599</td>\n",
       "      <td>0.000000</td>\n",
       "      <td>0.000000</td>\n",
       "      <td>0.0</td>\n",
       "    </tr>\n",
       "  </tbody>\n",
       "</table>\n",
       "<p>5 rows × 509 columns</p>\n",
       "</div>"
      ],
      "text/plain": [
       "  Participant_ID Condition Gender_Code Race_Code  PHQ_Score  Gender  \\\n",
       "0            386       WoZ           2         3         11  Female   \n",
       "1            387       WoZ           1         1          2    Male   \n",
       "2            388       WoZ           1         4         17    Male   \n",
       "3            389       WoZ           1         1         14    Male   \n",
       "4            390       WoZ           1         3          9    Male   \n",
       "\n",
       "               Race  Fold                                               Text  \\\n",
       "0    White American     2  might have pulled something that  I'm going to...   \n",
       "1  African American     3  when she's done she'll let you know  alrighty ...   \n",
       "2          Hispanic     4  are you okay with  yes  doing all right  from ...   \n",
       "3  African American     3  and please  are you okay  sure  I'm okay  smal...   \n",
       "4    White American     2  and now she's going to chat with you for a bit...   \n",
       "\n",
       "         10  ...  writing  wrong      yeah      year     years       yes  \\\n",
       "0  0.019052  ...      0.0    0.0  0.081220  0.000000  0.038184  0.023540   \n",
       "1  0.047133  ...      0.0    0.0  0.100466  0.042595  0.125952  0.000000   \n",
       "2  0.053568  ...      0.0    0.0  0.114184  0.048411  0.071575  0.066188   \n",
       "3  0.100627  ...      0.0    0.0  0.107245  0.000000  0.067226  0.000000   \n",
       "4  0.000000  ...      0.0    0.0  0.129622  0.032974  0.170630  0.022541   \n",
       "\n",
       "   yesterday      york     young  younger  \n",
       "0   0.000000  0.000000  0.024369      0.0  \n",
       "1   0.000000  0.081347  0.120574      0.0  \n",
       "2   0.000000  0.000000  0.000000      0.0  \n",
       "3   0.000000  0.000000  0.000000      0.0  \n",
       "4   0.051599  0.000000  0.000000      0.0  \n",
       "\n",
       "[5 rows x 509 columns]"
      ]
     },
     "execution_count": 12,
     "metadata": {},
     "output_type": "execute_result"
    }
   ],
   "source": [
    "from sklearn.feature_extraction.text import TfidfVectorizer\n",
    "\n",
    "# Create TF-IDF vectorizer for unigrams (single words)\n",
    "tfidf = TfidfVectorizer(\n",
    "    max_features=500,      # limit to top 500 important features\n",
    "    stop_words='english'   # remove common words like \"the\", \"is\", \"and\"\n",
    ")\n",
    "\n",
    "# transforming all transcripts into a numerical TF-IDF matrix — rows are participants, columns are the selected top words.\n",
    "tfidf_matrix = tfidf.fit_transform(filtered_df[\"Text\"])\n",
    "\n",
    "# Converting the sparse matrix to a full DataFrame for easier merging and viewing.\n",
    "tfidf_df = pd.DataFrame(tfidf_matrix.toarray(), columns=tfidf.get_feature_names_out())\n",
    " \n",
    "# TF-IDF features with the main dataset -> Stores in 'model_df'\n",
    "model_df = pd.concat([filtered_df.reset_index(drop=True), tfidf_df], axis=1)\n",
    "\n",
    "\n",
    "model_df.head()\n"
   ]
  },
  {
   "cell_type": "markdown",
   "id": "bf133d2e",
   "metadata": {},
   "source": [
    "##### We need to translate words into numbers - Feature extraction\n",
    "We are checking\n",
    "- How often a word appears in someone’s transcript\n",
    "- How unique that word is across all transcripts\n",
    "- Picking the top 500 most meaningful words used across all interviews.\n",
    "- each person is represented as a row of 500 numbers, where each number tells how strongly that person used a particular word"
   ]
  },
  {
   "cell_type": "code",
   "execution_count": 13,
   "id": "33319114",
   "metadata": {},
   "outputs": [
    {
     "name": "stdout",
     "output_type": "stream",
     "text": [
      "Defaulting to user installation because normal site-packages is not writeable\n",
      "Looking in indexes: https://pypi.org/simple, https://pypi.ngc.nvidia.com\n",
      "Requirement already satisfied: nltk in c:\\programdata\\anaconda3\\lib\\site-packages (3.9.1)\n",
      "Requirement already satisfied: click in c:\\programdata\\anaconda3\\lib\\site-packages (from nltk) (8.1.7)\n",
      "Requirement already satisfied: joblib in c:\\programdata\\anaconda3\\lib\\site-packages (from nltk) (1.4.2)\n",
      "Requirement already satisfied: regex>=2021.8.3 in c:\\programdata\\anaconda3\\lib\\site-packages (from nltk) (2024.9.11)\n",
      "Requirement already satisfied: tqdm in c:\\programdata\\anaconda3\\lib\\site-packages (from nltk) (4.66.5)\n",
      "Requirement already satisfied: colorama in c:\\users\\yoges\\appdata\\roaming\\python\\python312\\site-packages (from click->nltk) (0.4.6)\n"
     ]
    },
    {
     "name": "stderr",
     "output_type": "stream",
     "text": [
      "[nltk_data] Downloading package vader_lexicon to\n",
      "[nltk_data]     C:\\Users\\yoges\\AppData\\Roaming\\nltk_data...\n",
      "[nltk_data]   Package vader_lexicon is already up-to-date!\n"
     ]
    },
    {
     "data": {
      "text/plain": [
       "True"
      ]
     },
     "execution_count": 13,
     "metadata": {},
     "output_type": "execute_result"
    }
   ],
   "source": [
    "!pip install nltk\n",
    "import nltk\n",
    "nltk.download('vader_lexicon') \n",
    "# Installing the VADER sentiment lexicon from NLTK library [VADER - simple rule based sentiment model designed for short texts]\n"
   ]
  },
  {
   "cell_type": "markdown",
   "id": "79c5b1cd",
   "metadata": {},
   "source": [
    "Semantic Feature -  Sentiment Scores with VADER \n",
    "- Semantic : Meaning & Emotion\n",
    "- what the person is trying to say ie. the intent, sentiment and emotion behind the words.\n",
    "- how humans interpret language\n",
    "- Eg: I don’t feel good today. I didn’t sleep last night.\n",
    "##### Analyzing: \n",
    "- Sentiment: Negative (they’re expressing discomfort)\n",
    "\n",
    "- Emotion: Possible signs of sadness or fatigue\n",
    "\n",
    "- Meaning: This person may be feeling low energy or depressed"
   ]
  },
  {
   "cell_type": "code",
   "execution_count": 14,
   "id": "c4b4f2c9",
   "metadata": {},
   "outputs": [
    {
     "data": {
      "text/html": [
       "<div>\n",
       "<style scoped>\n",
       "    .dataframe tbody tr th:only-of-type {\n",
       "        vertical-align: middle;\n",
       "    }\n",
       "\n",
       "    .dataframe tbody tr th {\n",
       "        vertical-align: top;\n",
       "    }\n",
       "\n",
       "    .dataframe thead th {\n",
       "        text-align: right;\n",
       "    }\n",
       "</style>\n",
       "<table border=\"1\" class=\"dataframe\">\n",
       "  <thead>\n",
       "    <tr style=\"text-align: right;\">\n",
       "      <th></th>\n",
       "      <th>Participant_ID</th>\n",
       "      <th>compound</th>\n",
       "      <th>pos</th>\n",
       "      <th>neu</th>\n",
       "      <th>neg</th>\n",
       "    </tr>\n",
       "  </thead>\n",
       "  <tbody>\n",
       "    <tr>\n",
       "      <th>0</th>\n",
       "      <td>386</td>\n",
       "      <td>0.9999</td>\n",
       "      <td>0.200</td>\n",
       "      <td>0.752</td>\n",
       "      <td>0.048</td>\n",
       "    </tr>\n",
       "    <tr>\n",
       "      <th>1</th>\n",
       "      <td>387</td>\n",
       "      <td>0.9995</td>\n",
       "      <td>0.286</td>\n",
       "      <td>0.638</td>\n",
       "      <td>0.075</td>\n",
       "    </tr>\n",
       "    <tr>\n",
       "      <th>2</th>\n",
       "      <td>388</td>\n",
       "      <td>0.9924</td>\n",
       "      <td>0.165</td>\n",
       "      <td>0.745</td>\n",
       "      <td>0.090</td>\n",
       "    </tr>\n",
       "    <tr>\n",
       "      <th>3</th>\n",
       "      <td>389</td>\n",
       "      <td>0.9817</td>\n",
       "      <td>0.126</td>\n",
       "      <td>0.814</td>\n",
       "      <td>0.060</td>\n",
       "    </tr>\n",
       "    <tr>\n",
       "      <th>4</th>\n",
       "      <td>390</td>\n",
       "      <td>0.9997</td>\n",
       "      <td>0.215</td>\n",
       "      <td>0.716</td>\n",
       "      <td>0.069</td>\n",
       "    </tr>\n",
       "  </tbody>\n",
       "</table>\n",
       "</div>"
      ],
      "text/plain": [
       "  Participant_ID  compound    pos    neu    neg\n",
       "0            386    0.9999  0.200  0.752  0.048\n",
       "1            387    0.9995  0.286  0.638  0.075\n",
       "2            388    0.9924  0.165  0.745  0.090\n",
       "3            389    0.9817  0.126  0.814  0.060\n",
       "4            390    0.9997  0.215  0.716  0.069"
      ]
     },
     "execution_count": 14,
     "metadata": {},
     "output_type": "execute_result"
    }
   ],
   "source": [
    "from nltk.sentiment import SentimentIntensityAnalyzer\n",
    "\n",
    "# Loading the VADER sentiment analyzer\n",
    "sia = SentimentIntensityAnalyzer()\n",
    "\n",
    "# Apply sentiment scoring to each transcript - VADER returns a dictionary with compound 'overall score'(value b/w -1 to 1) & 'pos','neg','neu' score\n",
    "sentiment_scores = filtered_df[\"Text\"].apply(sia.polarity_scores)\n",
    "\n",
    "# Dictionary -> Dataframe \n",
    "sentiment_df = pd.DataFrame(sentiment_scores.tolist())\n",
    "\n",
    "# Merging the sentiment features (compund, pos, neg, neu) in model_df\n",
    "model_df = pd.concat([model_df.reset_index(drop=True), sentiment_df.reset_index(drop=True)], axis=1)\n",
    "model_df[[\"Participant_ID\", \"compound\", \"pos\", \"neu\", \"neg\"]].head()\n"
   ]
  },
  {
   "cell_type": "code",
   "execution_count": 15,
   "id": "14f87915",
   "metadata": {},
   "outputs": [
    {
     "data": {
      "text/html": [
       "<div>\n",
       "<style scoped>\n",
       "    .dataframe tbody tr th:only-of-type {\n",
       "        vertical-align: middle;\n",
       "    }\n",
       "\n",
       "    .dataframe tbody tr th {\n",
       "        vertical-align: top;\n",
       "    }\n",
       "\n",
       "    .dataframe thead th {\n",
       "        text-align: right;\n",
       "    }\n",
       "</style>\n",
       "<table border=\"1\" class=\"dataframe\">\n",
       "  <thead>\n",
       "    <tr style=\"text-align: right;\">\n",
       "      <th></th>\n",
       "      <th>Participant_ID</th>\n",
       "      <th>Condition</th>\n",
       "      <th>Gender_Code</th>\n",
       "      <th>Race_Code</th>\n",
       "      <th>PHQ_Score</th>\n",
       "      <th>Gender</th>\n",
       "      <th>Race</th>\n",
       "      <th>Fold</th>\n",
       "      <th>Text</th>\n",
       "      <th>10</th>\n",
       "      <th>...</th>\n",
       "      <th>years</th>\n",
       "      <th>yes</th>\n",
       "      <th>yesterday</th>\n",
       "      <th>york</th>\n",
       "      <th>young</th>\n",
       "      <th>younger</th>\n",
       "      <th>neg</th>\n",
       "      <th>neu</th>\n",
       "      <th>pos</th>\n",
       "      <th>compound</th>\n",
       "    </tr>\n",
       "  </thead>\n",
       "  <tbody>\n",
       "    <tr>\n",
       "      <th>0</th>\n",
       "      <td>386</td>\n",
       "      <td>WoZ</td>\n",
       "      <td>2</td>\n",
       "      <td>3</td>\n",
       "      <td>11</td>\n",
       "      <td>Female</td>\n",
       "      <td>White American</td>\n",
       "      <td>2</td>\n",
       "      <td>might have pulled something that  I'm going to...</td>\n",
       "      <td>0.019052</td>\n",
       "      <td>...</td>\n",
       "      <td>0.038184</td>\n",
       "      <td>0.023540</td>\n",
       "      <td>0.000000</td>\n",
       "      <td>0.000000</td>\n",
       "      <td>0.024369</td>\n",
       "      <td>0.0</td>\n",
       "      <td>0.048</td>\n",
       "      <td>0.752</td>\n",
       "      <td>0.200</td>\n",
       "      <td>0.9999</td>\n",
       "    </tr>\n",
       "    <tr>\n",
       "      <th>1</th>\n",
       "      <td>387</td>\n",
       "      <td>WoZ</td>\n",
       "      <td>1</td>\n",
       "      <td>1</td>\n",
       "      <td>2</td>\n",
       "      <td>Male</td>\n",
       "      <td>African American</td>\n",
       "      <td>3</td>\n",
       "      <td>when she's done she'll let you know  alrighty ...</td>\n",
       "      <td>0.047133</td>\n",
       "      <td>...</td>\n",
       "      <td>0.125952</td>\n",
       "      <td>0.000000</td>\n",
       "      <td>0.000000</td>\n",
       "      <td>0.081347</td>\n",
       "      <td>0.120574</td>\n",
       "      <td>0.0</td>\n",
       "      <td>0.075</td>\n",
       "      <td>0.638</td>\n",
       "      <td>0.286</td>\n",
       "      <td>0.9995</td>\n",
       "    </tr>\n",
       "    <tr>\n",
       "      <th>2</th>\n",
       "      <td>388</td>\n",
       "      <td>WoZ</td>\n",
       "      <td>1</td>\n",
       "      <td>4</td>\n",
       "      <td>17</td>\n",
       "      <td>Male</td>\n",
       "      <td>Hispanic</td>\n",
       "      <td>4</td>\n",
       "      <td>are you okay with  yes  doing all right  from ...</td>\n",
       "      <td>0.053568</td>\n",
       "      <td>...</td>\n",
       "      <td>0.071575</td>\n",
       "      <td>0.066188</td>\n",
       "      <td>0.000000</td>\n",
       "      <td>0.000000</td>\n",
       "      <td>0.000000</td>\n",
       "      <td>0.0</td>\n",
       "      <td>0.090</td>\n",
       "      <td>0.745</td>\n",
       "      <td>0.165</td>\n",
       "      <td>0.9924</td>\n",
       "    </tr>\n",
       "    <tr>\n",
       "      <th>3</th>\n",
       "      <td>389</td>\n",
       "      <td>WoZ</td>\n",
       "      <td>1</td>\n",
       "      <td>1</td>\n",
       "      <td>14</td>\n",
       "      <td>Male</td>\n",
       "      <td>African American</td>\n",
       "      <td>3</td>\n",
       "      <td>and please  are you okay  sure  I'm okay  smal...</td>\n",
       "      <td>0.100627</td>\n",
       "      <td>...</td>\n",
       "      <td>0.067226</td>\n",
       "      <td>0.000000</td>\n",
       "      <td>0.000000</td>\n",
       "      <td>0.000000</td>\n",
       "      <td>0.000000</td>\n",
       "      <td>0.0</td>\n",
       "      <td>0.060</td>\n",
       "      <td>0.814</td>\n",
       "      <td>0.126</td>\n",
       "      <td>0.9817</td>\n",
       "    </tr>\n",
       "    <tr>\n",
       "      <th>4</th>\n",
       "      <td>390</td>\n",
       "      <td>WoZ</td>\n",
       "      <td>1</td>\n",
       "      <td>3</td>\n",
       "      <td>9</td>\n",
       "      <td>Male</td>\n",
       "      <td>White American</td>\n",
       "      <td>2</td>\n",
       "      <td>and now she's going to chat with you for a bit...</td>\n",
       "      <td>0.000000</td>\n",
       "      <td>...</td>\n",
       "      <td>0.170630</td>\n",
       "      <td>0.022541</td>\n",
       "      <td>0.051599</td>\n",
       "      <td>0.000000</td>\n",
       "      <td>0.000000</td>\n",
       "      <td>0.0</td>\n",
       "      <td>0.069</td>\n",
       "      <td>0.716</td>\n",
       "      <td>0.215</td>\n",
       "      <td>0.9997</td>\n",
       "    </tr>\n",
       "  </tbody>\n",
       "</table>\n",
       "<p>5 rows × 513 columns</p>\n",
       "</div>"
      ],
      "text/plain": [
       "  Participant_ID Condition Gender_Code Race_Code  PHQ_Score  Gender  \\\n",
       "0            386       WoZ           2         3         11  Female   \n",
       "1            387       WoZ           1         1          2    Male   \n",
       "2            388       WoZ           1         4         17    Male   \n",
       "3            389       WoZ           1         1         14    Male   \n",
       "4            390       WoZ           1         3          9    Male   \n",
       "\n",
       "               Race  Fold                                               Text  \\\n",
       "0    White American     2  might have pulled something that  I'm going to...   \n",
       "1  African American     3  when she's done she'll let you know  alrighty ...   \n",
       "2          Hispanic     4  are you okay with  yes  doing all right  from ...   \n",
       "3  African American     3  and please  are you okay  sure  I'm okay  smal...   \n",
       "4    White American     2  and now she's going to chat with you for a bit...   \n",
       "\n",
       "         10  ...     years       yes  yesterday      york     young  younger  \\\n",
       "0  0.019052  ...  0.038184  0.023540   0.000000  0.000000  0.024369      0.0   \n",
       "1  0.047133  ...  0.125952  0.000000   0.000000  0.081347  0.120574      0.0   \n",
       "2  0.053568  ...  0.071575  0.066188   0.000000  0.000000  0.000000      0.0   \n",
       "3  0.100627  ...  0.067226  0.000000   0.000000  0.000000  0.000000      0.0   \n",
       "4  0.000000  ...  0.170630  0.022541   0.051599  0.000000  0.000000      0.0   \n",
       "\n",
       "     neg    neu    pos  compound  \n",
       "0  0.048  0.752  0.200    0.9999  \n",
       "1  0.075  0.638  0.286    0.9995  \n",
       "2  0.090  0.745  0.165    0.9924  \n",
       "3  0.060  0.814  0.126    0.9817  \n",
       "4  0.069  0.716  0.215    0.9997  \n",
       "\n",
       "[5 rows x 513 columns]"
      ]
     },
     "execution_count": 15,
     "metadata": {},
     "output_type": "execute_result"
    }
   ],
   "source": [
    "model_df.head()"
   ]
  },
  {
   "cell_type": "markdown",
   "id": "a1a8f7f7",
   "metadata": {},
   "source": [
    "####  b) Classifying for gender - based on how they spoke in the interview"
   ]
  },
  {
   "cell_type": "code",
   "execution_count": 16,
   "id": "f5d20b99",
   "metadata": {},
   "outputs": [
    {
     "name": "stdout",
     "output_type": "stream",
     "text": [
      "  Gender_Code  Gender_Label\n",
      "0           2             0\n",
      "1           1             1\n"
     ]
    }
   ],
   "source": [
    "# Preparing the gender label\n",
    "\n",
    "# Use Gender_Code (1 = Male, 2 = Female) → Map to (0 = Female, 1 = Male)\n",
    "gender_df = model_df.copy()\n",
    "\n",
    "# Drop rows with missing Gender_Code\n",
    "gender_df = gender_df.dropna(subset=[\"Gender_Code\"])\n",
    "\n",
    "# Convert gender codes to 0/1 labels: Female=0, Male=1\n",
    "gender_df[\"Gender_Label\"] = gender_df[\"Gender_Code\"].map({2: 0, 1: 1})\n",
    "\n",
    "print(gender_df[[\"Gender_Code\", \"Gender_Label\"]].drop_duplicates())\n",
    "\n",
    "# 0 - Female\n",
    "# 1 - Male\n"
   ]
  },
  {
   "cell_type": "markdown",
   "id": "0160220d",
   "metadata": {},
   "source": [
    "TREE BASED GENDER CLASSIFICATION MODEL"
   ]
  },
  {
   "cell_type": "code",
   "execution_count": 17,
   "id": "18498a6e",
   "metadata": {},
   "outputs": [
    {
     "name": "stdout",
     "output_type": "stream",
     "text": [
      "Random Forest Model Results (Tree-Based)\n",
      "n=20 | Accuracy: 0.8592 | Balanced Accuracy: 0.8586\n",
      "n=30 | Accuracy: 0.8148 | Balanced Accuracy: 0.7856\n",
      "n=40 | Accuracy: 0.7958 | Balanced Accuracy: 0.7815\n",
      "n=50 | Accuracy: 0.8291 | Balanced Accuracy: 0.8141\n"
     ]
    }
   ],
   "source": [
    "from sklearn.feature_selection import SelectKBest, f_classif\n",
    "from sklearn.ensemble import RandomForestClassifier\n",
    "from sklearn.metrics import accuracy_score\n",
    "import numpy as np\n",
    "\n",
    "tree_results = []\n",
    "\n",
    "feature_cols = gender_df.select_dtypes(include=np.number).columns.difference(\n",
    "    [\"Participant_ID\", \"PHQ_Score\", \"Fold\", \"Gender_Label\"]\n",
    ")\n",
    "\n",
    "n_values = [20, 30, 40, 50]\n",
    "\n",
    "for n in n_values:\n",
    "    selector = SelectKBest(score_func=f_classif, k=n)\n",
    "    selector.fit(gender_df[feature_cols], gender_df[\"Gender_Label\"])\n",
    "    selected_feats = feature_cols[selector.get_support()]\n",
    "\n",
    "    acc_list = []\n",
    "    ba_list = []\n",
    "\n",
    "    for fold in range(5):\n",
    "        train_df = gender_df[gender_df[\"Fold\"] != fold]\n",
    "        test_df = gender_df[gender_df[\"Fold\"] == fold]\n",
    "\n",
    "        X_train = train_df[selected_feats]\n",
    "        y_train = train_df[\"Gender_Label\"]\n",
    "        X_test = test_df[selected_feats]\n",
    "        y_test = test_df[\"Gender_Label\"]\n",
    "\n",
    "        rf = RandomForestClassifier(n_estimators=100, random_state=42)\n",
    "        rf.fit(X_train, y_train)\n",
    "        y_pred = rf.predict(X_test)\n",
    "\n",
    "        acc = accuracy_score(y_test, y_pred)\n",
    "\n",
    "        mask_f = (y_test == 0)\n",
    "        mask_m = (y_test == 1)\n",
    "        correct_f = sum((y_test == 0) & (y_pred == 0))\n",
    "        correct_m = sum((y_test == 1) & (y_pred == 1))\n",
    "        ba = 0.5 * (correct_f / mask_f.sum()) + 0.5 * (correct_m / mask_m.sum())\n",
    "\n",
    "        acc_list.append(acc)\n",
    "        ba_list.append(ba)\n",
    "\n",
    "    tree_results.append((n, np.mean(acc_list), np.mean(ba_list)))\n",
    "\n",
    "print(\"Random Forest Model Results (Tree-Based)\")\n",
    "for n, acc, ba in tree_results:\n",
    "    print(f\"n={n:>2} | Accuracy: {acc:.4f} | Balanced Accuracy: {ba:.4f}\")\n"
   ]
  },
  {
   "cell_type": "markdown",
   "id": "194ea9f2",
   "metadata": {},
   "source": [
    "NEURAL NETWORK BASED GENDER CLASSIFICATION MODEL"
   ]
  },
  {
   "cell_type": "code",
   "execution_count": 18,
   "id": "eb629fde",
   "metadata": {},
   "outputs": [
    {
     "name": "stderr",
     "output_type": "stream",
     "text": [
      "C:\\Users\\yoges\\AppData\\Roaming\\Python\\Python312\\site-packages\\keras\\src\\layers\\core\\dense.py:87: UserWarning: Do not pass an `input_shape`/`input_dim` argument to a layer. When using Sequential models, prefer using an `Input(shape)` object as the first layer in the model instead.\n",
      "  super().__init__(activity_regularizer=activity_regularizer, **kwargs)\n"
     ]
    },
    {
     "name": "stdout",
     "output_type": "stream",
     "text": [
      "\u001b[1m1/1\u001b[0m \u001b[32m━━━━━━━━━━━━━━━━━━━━\u001b[0m\u001b[37m\u001b[0m \u001b[1m0s\u001b[0m 48ms/step\n"
     ]
    },
    {
     "name": "stderr",
     "output_type": "stream",
     "text": [
      "C:\\Users\\yoges\\AppData\\Roaming\\Python\\Python312\\site-packages\\keras\\src\\layers\\core\\dense.py:87: UserWarning: Do not pass an `input_shape`/`input_dim` argument to a layer. When using Sequential models, prefer using an `Input(shape)` object as the first layer in the model instead.\n",
      "  super().__init__(activity_regularizer=activity_regularizer, **kwargs)\n"
     ]
    },
    {
     "name": "stdout",
     "output_type": "stream",
     "text": [
      "\u001b[1m1/1\u001b[0m \u001b[32m━━━━━━━━━━━━━━━━━━━━\u001b[0m\u001b[37m\u001b[0m \u001b[1m0s\u001b[0m 43ms/step\n"
     ]
    },
    {
     "name": "stderr",
     "output_type": "stream",
     "text": [
      "C:\\Users\\yoges\\AppData\\Roaming\\Python\\Python312\\site-packages\\keras\\src\\layers\\core\\dense.py:87: UserWarning: Do not pass an `input_shape`/`input_dim` argument to a layer. When using Sequential models, prefer using an `Input(shape)` object as the first layer in the model instead.\n",
      "  super().__init__(activity_regularizer=activity_regularizer, **kwargs)\n"
     ]
    },
    {
     "name": "stdout",
     "output_type": "stream",
     "text": [
      "\u001b[1m1/1\u001b[0m \u001b[32m━━━━━━━━━━━━━━━━━━━━\u001b[0m\u001b[37m\u001b[0m \u001b[1m0s\u001b[0m 44ms/step\n"
     ]
    },
    {
     "name": "stderr",
     "output_type": "stream",
     "text": [
      "C:\\Users\\yoges\\AppData\\Roaming\\Python\\Python312\\site-packages\\keras\\src\\layers\\core\\dense.py:87: UserWarning: Do not pass an `input_shape`/`input_dim` argument to a layer. When using Sequential models, prefer using an `Input(shape)` object as the first layer in the model instead.\n",
      "  super().__init__(activity_regularizer=activity_regularizer, **kwargs)\n"
     ]
    },
    {
     "name": "stdout",
     "output_type": "stream",
     "text": [
      "\u001b[1m1/1\u001b[0m \u001b[32m━━━━━━━━━━━━━━━━━━━━\u001b[0m\u001b[37m\u001b[0m \u001b[1m0s\u001b[0m 45ms/step\n"
     ]
    },
    {
     "name": "stderr",
     "output_type": "stream",
     "text": [
      "C:\\Users\\yoges\\AppData\\Roaming\\Python\\Python312\\site-packages\\keras\\src\\layers\\core\\dense.py:87: UserWarning: Do not pass an `input_shape`/`input_dim` argument to a layer. When using Sequential models, prefer using an `Input(shape)` object as the first layer in the model instead.\n",
      "  super().__init__(activity_regularizer=activity_regularizer, **kwargs)\n"
     ]
    },
    {
     "name": "stdout",
     "output_type": "stream",
     "text": [
      "WARNING:tensorflow:5 out of the last 5 calls to <function TensorFlowTrainer.make_predict_function.<locals>.one_step_on_data_distributed at 0x000002281B4B6520> triggered tf.function retracing. Tracing is expensive and the excessive number of tracings could be due to (1) creating @tf.function repeatedly in a loop, (2) passing tensors with different shapes, (3) passing Python objects instead of tensors. For (1), please define your @tf.function outside of the loop. For (2), @tf.function has reduce_retracing=True option that can avoid unnecessary retracing. For (3), please refer to https://www.tensorflow.org/guide/function#controlling_retracing and https://www.tensorflow.org/api_docs/python/tf/function for  more details.\n",
      "\u001b[1m1/1\u001b[0m \u001b[32m━━━━━━━━━━━━━━━━━━━━\u001b[0m\u001b[37m\u001b[0m \u001b[1m0s\u001b[0m 44ms/step\n"
     ]
    },
    {
     "name": "stderr",
     "output_type": "stream",
     "text": [
      "C:\\Users\\yoges\\AppData\\Roaming\\Python\\Python312\\site-packages\\keras\\src\\layers\\core\\dense.py:87: UserWarning: Do not pass an `input_shape`/`input_dim` argument to a layer. When using Sequential models, prefer using an `Input(shape)` object as the first layer in the model instead.\n",
      "  super().__init__(activity_regularizer=activity_regularizer, **kwargs)\n"
     ]
    },
    {
     "name": "stdout",
     "output_type": "stream",
     "text": [
      "WARNING:tensorflow:6 out of the last 6 calls to <function TensorFlowTrainer.make_predict_function.<locals>.one_step_on_data_distributed at 0x0000022821033E20> triggered tf.function retracing. Tracing is expensive and the excessive number of tracings could be due to (1) creating @tf.function repeatedly in a loop, (2) passing tensors with different shapes, (3) passing Python objects instead of tensors. For (1), please define your @tf.function outside of the loop. For (2), @tf.function has reduce_retracing=True option that can avoid unnecessary retracing. For (3), please refer to https://www.tensorflow.org/guide/function#controlling_retracing and https://www.tensorflow.org/api_docs/python/tf/function for  more details.\n",
      "\u001b[1m1/1\u001b[0m \u001b[32m━━━━━━━━━━━━━━━━━━━━\u001b[0m\u001b[37m\u001b[0m \u001b[1m0s\u001b[0m 47ms/step\n"
     ]
    },
    {
     "name": "stderr",
     "output_type": "stream",
     "text": [
      "C:\\Users\\yoges\\AppData\\Roaming\\Python\\Python312\\site-packages\\keras\\src\\layers\\core\\dense.py:87: UserWarning: Do not pass an `input_shape`/`input_dim` argument to a layer. When using Sequential models, prefer using an `Input(shape)` object as the first layer in the model instead.\n",
      "  super().__init__(activity_regularizer=activity_regularizer, **kwargs)\n"
     ]
    },
    {
     "name": "stdout",
     "output_type": "stream",
     "text": [
      "\u001b[1m1/1\u001b[0m \u001b[32m━━━━━━━━━━━━━━━━━━━━\u001b[0m\u001b[37m\u001b[0m \u001b[1m0s\u001b[0m 45ms/step\n"
     ]
    },
    {
     "name": "stderr",
     "output_type": "stream",
     "text": [
      "C:\\Users\\yoges\\AppData\\Roaming\\Python\\Python312\\site-packages\\keras\\src\\layers\\core\\dense.py:87: UserWarning: Do not pass an `input_shape`/`input_dim` argument to a layer. When using Sequential models, prefer using an `Input(shape)` object as the first layer in the model instead.\n",
      "  super().__init__(activity_regularizer=activity_regularizer, **kwargs)\n"
     ]
    },
    {
     "name": "stdout",
     "output_type": "stream",
     "text": [
      "\u001b[1m1/1\u001b[0m \u001b[32m━━━━━━━━━━━━━━━━━━━━\u001b[0m\u001b[37m\u001b[0m \u001b[1m0s\u001b[0m 46ms/step\n"
     ]
    },
    {
     "name": "stderr",
     "output_type": "stream",
     "text": [
      "C:\\Users\\yoges\\AppData\\Roaming\\Python\\Python312\\site-packages\\keras\\src\\layers\\core\\dense.py:87: UserWarning: Do not pass an `input_shape`/`input_dim` argument to a layer. When using Sequential models, prefer using an `Input(shape)` object as the first layer in the model instead.\n",
      "  super().__init__(activity_regularizer=activity_regularizer, **kwargs)\n"
     ]
    },
    {
     "name": "stdout",
     "output_type": "stream",
     "text": [
      "\u001b[1m1/1\u001b[0m \u001b[32m━━━━━━━━━━━━━━━━━━━━\u001b[0m\u001b[37m\u001b[0m \u001b[1m0s\u001b[0m 46ms/step\n"
     ]
    },
    {
     "name": "stderr",
     "output_type": "stream",
     "text": [
      "C:\\Users\\yoges\\AppData\\Roaming\\Python\\Python312\\site-packages\\keras\\src\\layers\\core\\dense.py:87: UserWarning: Do not pass an `input_shape`/`input_dim` argument to a layer. When using Sequential models, prefer using an `Input(shape)` object as the first layer in the model instead.\n",
      "  super().__init__(activity_regularizer=activity_regularizer, **kwargs)\n"
     ]
    },
    {
     "name": "stdout",
     "output_type": "stream",
     "text": [
      "\u001b[1m1/1\u001b[0m \u001b[32m━━━━━━━━━━━━━━━━━━━━\u001b[0m\u001b[37m\u001b[0m \u001b[1m0s\u001b[0m 53ms/step\n"
     ]
    },
    {
     "name": "stderr",
     "output_type": "stream",
     "text": [
      "C:\\Users\\yoges\\AppData\\Roaming\\Python\\Python312\\site-packages\\keras\\src\\layers\\core\\dense.py:87: UserWarning: Do not pass an `input_shape`/`input_dim` argument to a layer. When using Sequential models, prefer using an `Input(shape)` object as the first layer in the model instead.\n",
      "  super().__init__(activity_regularizer=activity_regularizer, **kwargs)\n"
     ]
    },
    {
     "name": "stdout",
     "output_type": "stream",
     "text": [
      "\u001b[1m1/1\u001b[0m \u001b[32m━━━━━━━━━━━━━━━━━━━━\u001b[0m\u001b[37m\u001b[0m \u001b[1m0s\u001b[0m 45ms/step\n"
     ]
    },
    {
     "name": "stderr",
     "output_type": "stream",
     "text": [
      "C:\\Users\\yoges\\AppData\\Roaming\\Python\\Python312\\site-packages\\keras\\src\\layers\\core\\dense.py:87: UserWarning: Do not pass an `input_shape`/`input_dim` argument to a layer. When using Sequential models, prefer using an `Input(shape)` object as the first layer in the model instead.\n",
      "  super().__init__(activity_regularizer=activity_regularizer, **kwargs)\n"
     ]
    },
    {
     "name": "stdout",
     "output_type": "stream",
     "text": [
      "\u001b[1m1/1\u001b[0m \u001b[32m━━━━━━━━━━━━━━━━━━━━\u001b[0m\u001b[37m\u001b[0m \u001b[1m0s\u001b[0m 48ms/step\n"
     ]
    },
    {
     "name": "stderr",
     "output_type": "stream",
     "text": [
      "C:\\Users\\yoges\\AppData\\Roaming\\Python\\Python312\\site-packages\\keras\\src\\layers\\core\\dense.py:87: UserWarning: Do not pass an `input_shape`/`input_dim` argument to a layer. When using Sequential models, prefer using an `Input(shape)` object as the first layer in the model instead.\n",
      "  super().__init__(activity_regularizer=activity_regularizer, **kwargs)\n"
     ]
    },
    {
     "name": "stdout",
     "output_type": "stream",
     "text": [
      "\u001b[1m1/1\u001b[0m \u001b[32m━━━━━━━━━━━━━━━━━━━━\u001b[0m\u001b[37m\u001b[0m \u001b[1m0s\u001b[0m 46ms/step\n"
     ]
    },
    {
     "name": "stderr",
     "output_type": "stream",
     "text": [
      "C:\\Users\\yoges\\AppData\\Roaming\\Python\\Python312\\site-packages\\keras\\src\\layers\\core\\dense.py:87: UserWarning: Do not pass an `input_shape`/`input_dim` argument to a layer. When using Sequential models, prefer using an `Input(shape)` object as the first layer in the model instead.\n",
      "  super().__init__(activity_regularizer=activity_regularizer, **kwargs)\n"
     ]
    },
    {
     "name": "stdout",
     "output_type": "stream",
     "text": [
      "\u001b[1m1/1\u001b[0m \u001b[32m━━━━━━━━━━━━━━━━━━━━\u001b[0m\u001b[37m\u001b[0m \u001b[1m0s\u001b[0m 49ms/step\n"
     ]
    },
    {
     "name": "stderr",
     "output_type": "stream",
     "text": [
      "C:\\Users\\yoges\\AppData\\Roaming\\Python\\Python312\\site-packages\\keras\\src\\layers\\core\\dense.py:87: UserWarning: Do not pass an `input_shape`/`input_dim` argument to a layer. When using Sequential models, prefer using an `Input(shape)` object as the first layer in the model instead.\n",
      "  super().__init__(activity_regularizer=activity_regularizer, **kwargs)\n"
     ]
    },
    {
     "name": "stdout",
     "output_type": "stream",
     "text": [
      "\u001b[1m1/1\u001b[0m \u001b[32m━━━━━━━━━━━━━━━━━━━━\u001b[0m\u001b[37m\u001b[0m \u001b[1m0s\u001b[0m 44ms/step\n"
     ]
    },
    {
     "name": "stderr",
     "output_type": "stream",
     "text": [
      "C:\\Users\\yoges\\AppData\\Roaming\\Python\\Python312\\site-packages\\keras\\src\\layers\\core\\dense.py:87: UserWarning: Do not pass an `input_shape`/`input_dim` argument to a layer. When using Sequential models, prefer using an `Input(shape)` object as the first layer in the model instead.\n",
      "  super().__init__(activity_regularizer=activity_regularizer, **kwargs)\n"
     ]
    },
    {
     "name": "stdout",
     "output_type": "stream",
     "text": [
      "\u001b[1m1/1\u001b[0m \u001b[32m━━━━━━━━━━━━━━━━━━━━\u001b[0m\u001b[37m\u001b[0m \u001b[1m0s\u001b[0m 49ms/step\n"
     ]
    },
    {
     "name": "stderr",
     "output_type": "stream",
     "text": [
      "C:\\Users\\yoges\\AppData\\Roaming\\Python\\Python312\\site-packages\\keras\\src\\layers\\core\\dense.py:87: UserWarning: Do not pass an `input_shape`/`input_dim` argument to a layer. When using Sequential models, prefer using an `Input(shape)` object as the first layer in the model instead.\n",
      "  super().__init__(activity_regularizer=activity_regularizer, **kwargs)\n"
     ]
    },
    {
     "name": "stdout",
     "output_type": "stream",
     "text": [
      "\u001b[1m1/1\u001b[0m \u001b[32m━━━━━━━━━━━━━━━━━━━━\u001b[0m\u001b[37m\u001b[0m \u001b[1m0s\u001b[0m 45ms/step\n"
     ]
    },
    {
     "name": "stderr",
     "output_type": "stream",
     "text": [
      "C:\\Users\\yoges\\AppData\\Roaming\\Python\\Python312\\site-packages\\keras\\src\\layers\\core\\dense.py:87: UserWarning: Do not pass an `input_shape`/`input_dim` argument to a layer. When using Sequential models, prefer using an `Input(shape)` object as the first layer in the model instead.\n",
      "  super().__init__(activity_regularizer=activity_regularizer, **kwargs)\n"
     ]
    },
    {
     "name": "stdout",
     "output_type": "stream",
     "text": [
      "\u001b[1m1/1\u001b[0m \u001b[32m━━━━━━━━━━━━━━━━━━━━\u001b[0m\u001b[37m\u001b[0m \u001b[1m0s\u001b[0m 45ms/step\n"
     ]
    },
    {
     "name": "stderr",
     "output_type": "stream",
     "text": [
      "C:\\Users\\yoges\\AppData\\Roaming\\Python\\Python312\\site-packages\\keras\\src\\layers\\core\\dense.py:87: UserWarning: Do not pass an `input_shape`/`input_dim` argument to a layer. When using Sequential models, prefer using an `Input(shape)` object as the first layer in the model instead.\n",
      "  super().__init__(activity_regularizer=activity_regularizer, **kwargs)\n"
     ]
    },
    {
     "name": "stdout",
     "output_type": "stream",
     "text": [
      "\u001b[1m1/1\u001b[0m \u001b[32m━━━━━━━━━━━━━━━━━━━━\u001b[0m\u001b[37m\u001b[0m \u001b[1m0s\u001b[0m 46ms/step\n"
     ]
    },
    {
     "name": "stderr",
     "output_type": "stream",
     "text": [
      "C:\\Users\\yoges\\AppData\\Roaming\\Python\\Python312\\site-packages\\keras\\src\\layers\\core\\dense.py:87: UserWarning: Do not pass an `input_shape`/`input_dim` argument to a layer. When using Sequential models, prefer using an `Input(shape)` object as the first layer in the model instead.\n",
      "  super().__init__(activity_regularizer=activity_regularizer, **kwargs)\n"
     ]
    },
    {
     "name": "stdout",
     "output_type": "stream",
     "text": [
      "\u001b[1m1/1\u001b[0m \u001b[32m━━━━━━━━━━━━━━━━━━━━\u001b[0m\u001b[37m\u001b[0m \u001b[1m0s\u001b[0m 46ms/step\n",
      "\n",
      "Deep Learning Model Results\n",
      "n=20 | Accuracy: 0.8859 | Balanced Accuracy: 0.8777\n",
      "n=30 | Accuracy: 0.8704 | Balanced Accuracy: 0.8623\n",
      "n=40 | Accuracy: 0.7988 | Balanced Accuracy: 0.8147\n",
      "n=50 | Accuracy: 0.9026 | Balanced Accuracy: 0.9049\n"
     ]
    }
   ],
   "source": [
    "import tensorflow as tf\n",
    "from tensorflow.keras.models import Sequential\n",
    "from tensorflow.keras.layers import Dense\n",
    "from tensorflow.keras.callbacks import EarlyStopping\n",
    "\n",
    "dl_results = []\n",
    "\n",
    "for n in n_values:\n",
    "    selector = SelectKBest(score_func=f_classif, k=n)\n",
    "    selector.fit(gender_df[feature_cols], gender_df[\"Gender_Label\"])\n",
    "    selected_feats = feature_cols[selector.get_support()]\n",
    "\n",
    "    acc_list = []\n",
    "    ba_list = []\n",
    "\n",
    "    for fold in range(5):\n",
    "        train_df = gender_df[gender_df[\"Fold\"] != fold]\n",
    "        test_df = gender_df[gender_df[\"Fold\"] == fold]\n",
    "\n",
    "        X_train = train_df[selected_feats]\n",
    "        y_train = train_df[\"Gender_Label\"]\n",
    "        X_test = test_df[selected_feats]\n",
    "        y_test = test_df[\"Gender_Label\"]\n",
    "\n",
    "        model = Sequential([\n",
    "            Dense(64, activation='relu', input_shape=(X_train.shape[1],)),\n",
    "            Dense(32, activation='relu'),\n",
    "            Dense(1, activation='sigmoid')\n",
    "        ])\n",
    "        model.compile(optimizer='adam', loss='binary_crossentropy', metrics=['accuracy'])\n",
    "        early_stop = EarlyStopping(monitor='val_loss', patience=5, restore_best_weights=True)\n",
    "\n",
    "        model.fit(X_train, y_train, validation_split=0.1, epochs=50,\n",
    "                  batch_size=16, verbose=0, callbacks=[early_stop])\n",
    "\n",
    "        y_pred_dl = model.predict(X_test).flatten()\n",
    "        y_pred_binary = (y_pred_dl >= 0.5).astype(int)\n",
    "\n",
    "        acc = accuracy_score(y_test, y_pred_binary)\n",
    "\n",
    "        mask_f = (y_test == 0)\n",
    "        mask_m = (y_test == 1)\n",
    "        correct_f = sum((y_test == 0) & (y_pred_binary == 0))\n",
    "        correct_m = sum((y_test == 1) & (y_pred_binary == 1))\n",
    "        ba = 0.5 * (correct_f / mask_f.sum()) + 0.5 * (correct_m / mask_m.sum())\n",
    "\n",
    "        acc_list.append(acc)\n",
    "        ba_list.append(ba)\n",
    "\n",
    "    dl_results.append((n, np.mean(acc_list), np.mean(ba_list)))\n",
    "\n",
    "print(\"\\nDeep Learning Model Results\")\n",
    "for n, acc, ba in dl_results:\n",
    "    print(f\"n={n:>2} | Accuracy: {acc:.4f} | Balanced Accuracy: {ba:.4f}\")\n"
   ]
  },
  {
   "cell_type": "markdown",
   "id": "3a2243df",
   "metadata": {},
   "source": [
    "VISUALIZATION OF RESULTS"
   ]
  },
  {
   "cell_type": "code",
   "execution_count": 19,
   "id": "74a8be80",
   "metadata": {},
   "outputs": [
    {
     "data": {
      "image/png": "[encoded data removed]",
      "text/plain": [
       "<Figure size 1000x600 with 1 Axes>"
      ]
     },
     "metadata": {},
     "output_type": "display_data"
    }
   ],
   "source": [
    "import matplotlib.pyplot as plt\n",
    "\n",
    "n_vals = [x[0] for x in tree_results]\n",
    "acc_rf = [x[1] for x in tree_results]\n",
    "ba_rf = [x[2] for x in tree_results]\n",
    "\n",
    "acc_dl = [x[1] for x in dl_results]\n",
    "ba_dl = [x[2] for x in dl_results]\n",
    "\n",
    "\n",
    "plt.figure(figsize=(10, 6))\n",
    "plt.plot(n_vals, acc_rf, marker='o', label=\"Random Forest Accuracy\", linestyle='--')\n",
    "plt.plot(n_vals, ba_rf, marker='s', label=\"Random Forest Balanced Accuracy\", linestyle='--')\n",
    "\n",
    "plt.plot(n_vals, acc_dl, marker='o', label=\"DL Model Accuracy\", linestyle='-')\n",
    "plt.plot(n_vals, ba_dl, marker='s', label=\"DL Model Balanced Accuracy\", linestyle='-')\n",
    "\n",
    "plt.xlabel(\"Number of Selected Features (n)\")\n",
    "plt.ylabel(\"Score\")\n",
    "plt.title(\"Comparison: Random Forest vs Deep Learning on Gender Classification\")\n",
    "plt.legend()\n",
    "plt.grid(True)\n",
    "plt.tight_layout()\n",
    "plt.show()\n"
   ]
  },
  {
   "cell_type": "markdown",
   "id": "443cc1e1",
   "metadata": {},
   "source": [
    "% 1. Random Forest starts moderate, dips in the middle, then recovers\n",
    "- With 20 features, Random Forest starts at a decent accuracy (~0.86), but...\n",
    "- Accuracy and fairness drop at 30 and hit their lowest around 40 features.\n",
    "- However, both accuracy (~0.83) and balanced accuracy (~0.82) improve again at n=50.\n",
    "\n",
    "% 2. Deep Learning starts strong, dips slightly, then dominates\n",
    "- At n=20, Deep Learning already has the highest accuracy (~0.89), with fairness (~0.88).\n",
    "- Accuracy and balanced accuracy dip around n=40 (~0.81), possibly due to overfitting.\n",
    "- At n=50, both metrics bounce back, reaching peak performance: accuracy (~0.91) and fairness (~0.90).\n",
    "\n",
    "- Even if a model has high accuracy, it might be biased toward one gender.\n",
    "\n",
    "- For example, at n=40, both models show a visible dip in balanced accuracy — signaling possible fairness issues.\n",
    "\n",
    "- Deep Learning maintains a much closer match between accuracy and balanced accuracy overall — meaning it’s more fair across male and female participants.\n",
    "\n",
    "% End Results:\n",
    "- Random Forest seems sensitive to feature quantity — too few or too many affects it.\n",
    "- Deep Learning, although briefly inconsistent, ends up generalizing better at higher feature counts.\n",
    "- Balanced accuracy serves as a fairness indicator — and Deep Learning wins on that front in the end.\n"
   ]
  },
  {
   "cell_type": "markdown",
   "id": "5a6ba579",
   "metadata": {},
   "source": [
    "#### c) Classifying for race/ethnicity"
   ]
  },
  {
   "cell_type": "code",
   "execution_count": 20,
   "id": "cdd6ae9b",
   "metadata": {},
   "outputs": [
    {
     "name": "stdout",
     "output_type": "stream",
     "text": [
      "{'African American': 0, 'Hispanic': 1, 'White American': 2}\n"
     ]
    }
   ],
   "source": [
    "from sklearn.preprocessing import LabelEncoder\n",
    "race_df = model_df.copy()\n",
    "\n",
    "# Filtering the participants to include only 3 race categories (for better balancing)\n",
    "race_df = race_df[race_df[\"Race\"].isin([\"African American\", \"Hispanic\", \"White American\"])].copy()\n",
    "\n",
    "# Encoding Race:  African American=0, Hispanic=1, White American=2\n",
    "le_race = LabelEncoder()\n",
    "race_df[\"Race_Label\"] = le_race.fit_transform(race_df[\"Race\"])\n",
    "\n",
    "# Check mapping\n",
    "print(dict(zip(le_race.classes_, le_race.transform(le_race.classes_))))\n"
   ]
  },
  {
   "cell_type": "markdown",
   "id": "53539b6d",
   "metadata": {},
   "source": [
    "TREE BASED RACE CLASSIFICATION MODEL"
   ]
  },
  {
   "cell_type": "code",
   "execution_count": 21,
   "id": "edb0a0e2",
   "metadata": {},
   "outputs": [
    {
     "name": "stdout",
     "output_type": "stream",
     "text": [
      "Random Forest (Race Classification)\n",
      "m=20 | Accuracy: 0.6563 | Balanced Accuracy: 0.5592\n",
      "m=30 | Accuracy: 0.5971 | Balanced Accuracy: 0.4810\n",
      "m=40 | Accuracy: 0.6287 | Balanced Accuracy: 0.5279\n",
      "m=50 | Accuracy: 0.6456 | Balanced Accuracy: 0.5344\n"
     ]
    }
   ],
   "source": [
    "from sklearn.feature_selection import SelectKBest, f_classif\n",
    "from sklearn.ensemble import RandomForestClassifier\n",
    "from sklearn.metrics import accuracy_score\n",
    "import numpy as np\n",
    "\n",
    "race_results_tree = []\n",
    "m_values = [20, 30, 40, 50]\n",
    "\n",
    "# Features to be used\n",
    "feature_cols = race_df.select_dtypes(include=np.number).columns.difference(\n",
    "    [\"Participant_ID\", \"PHQ_Score\", \"Fold\", \"Gender_Label\", \"Race_Label\"]\n",
    ")\n",
    "X_all = race_df[feature_cols]\n",
    "y_all = race_df[\"Race_Label\"]\n",
    "\n",
    "# Loop for hyperparameter tuning\n",
    "for m in m_values:\n",
    "    selector = SelectKBest(score_func=f_classif, k=m)\n",
    "    X_selected = selector.fit_transform(X_all, y_all)\n",
    "    selected_feats = feature_cols[selector.get_support()]\n",
    "    \n",
    "    acc_list, ba_list = [], []\n",
    "\n",
    "    # Loop over each fold\n",
    "    for fold in sorted(race_df[\"Fold\"].unique()):\n",
    "        train_df = race_df[race_df[\"Fold\"] != fold]\n",
    "        test_df = race_df[race_df[\"Fold\"] == fold]\n",
    "\n",
    "        X_train = train_df[selected_feats]\n",
    "        y_train = train_df[\"Race_Label\"]\n",
    "        X_test = test_df[selected_feats]\n",
    "        y_test = test_df[\"Race_Label\"]\n",
    "\n",
    "        rf = RandomForestClassifier(n_estimators=100, random_state=42)\n",
    "        rf.fit(X_train, y_train)\n",
    "        y_pred = rf.predict(X_test)\n",
    "\n",
    "        acc = accuracy_score(y_test, y_pred)\n",
    "\n",
    "        # Balanced Accuracy\n",
    "        ba = 0\n",
    "        for label in np.unique(y_all):\n",
    "            correct = sum((y_test == label) & (y_pred == label))\n",
    "            total = sum(y_test == label)\n",
    "            ba += correct / total\n",
    "        ba /= len(np.unique(y_all))\n",
    "\n",
    "        acc_list.append(acc)\n",
    "        ba_list.append(ba)\n",
    "\n",
    "    race_results_tree.append((m, np.mean(acc_list), np.mean(ba_list)))\n",
    "\n",
    "# Display\n",
    "print(\"Random Forest (Race Classification)\")\n",
    "for m, acc, ba in race_results_tree:\n",
    "    print(f\"m={m:>2} | Accuracy: {acc:.4f} | Balanced Accuracy: {ba:.4f}\")\n"
   ]
  },
  {
   "cell_type": "markdown",
   "id": "832b7d37",
   "metadata": {},
   "source": [
    "NEURAL NETWORK BASED RACE CLASSIFICATION MODEL"
   ]
  },
  {
   "cell_type": "code",
   "execution_count": 22,
   "id": "49bdecd3",
   "metadata": {},
   "outputs": [
    {
     "name": "stderr",
     "output_type": "stream",
     "text": [
      "C:\\Users\\yoges\\AppData\\Roaming\\Python\\Python312\\site-packages\\keras\\src\\layers\\core\\dense.py:87: UserWarning: Do not pass an `input_shape`/`input_dim` argument to a layer. When using Sequential models, prefer using an `Input(shape)` object as the first layer in the model instead.\n",
      "  super().__init__(activity_regularizer=activity_regularizer, **kwargs)\n"
     ]
    },
    {
     "name": "stdout",
     "output_type": "stream",
     "text": [
      "\u001b[1m1/1\u001b[0m \u001b[32m━━━━━━━━━━━━━━━━━━━━\u001b[0m\u001b[37m\u001b[0m \u001b[1m0s\u001b[0m 47ms/step\n"
     ]
    },
    {
     "name": "stderr",
     "output_type": "stream",
     "text": [
      "C:\\Users\\yoges\\AppData\\Roaming\\Python\\Python312\\site-packages\\keras\\src\\layers\\core\\dense.py:87: UserWarning: Do not pass an `input_shape`/`input_dim` argument to a layer. When using Sequential models, prefer using an `Input(shape)` object as the first layer in the model instead.\n",
      "  super().__init__(activity_regularizer=activity_regularizer, **kwargs)\n"
     ]
    },
    {
     "name": "stdout",
     "output_type": "stream",
     "text": [
      "\u001b[1m1/1\u001b[0m \u001b[32m━━━━━━━━━━━━━━━━━━━━\u001b[0m\u001b[37m\u001b[0m \u001b[1m0s\u001b[0m 48ms/step\n"
     ]
    },
    {
     "name": "stderr",
     "output_type": "stream",
     "text": [
      "C:\\Users\\yoges\\AppData\\Roaming\\Python\\Python312\\site-packages\\keras\\src\\layers\\core\\dense.py:87: UserWarning: Do not pass an `input_shape`/`input_dim` argument to a layer. When using Sequential models, prefer using an `Input(shape)` object as the first layer in the model instead.\n",
      "  super().__init__(activity_regularizer=activity_regularizer, **kwargs)\n"
     ]
    },
    {
     "name": "stdout",
     "output_type": "stream",
     "text": [
      "\u001b[1m1/1\u001b[0m \u001b[32m━━━━━━━━━━━━━━━━━━━━\u001b[0m\u001b[37m\u001b[0m \u001b[1m0s\u001b[0m 43ms/step\n"
     ]
    },
    {
     "name": "stderr",
     "output_type": "stream",
     "text": [
      "C:\\Users\\yoges\\AppData\\Roaming\\Python\\Python312\\site-packages\\keras\\src\\layers\\core\\dense.py:87: UserWarning: Do not pass an `input_shape`/`input_dim` argument to a layer. When using Sequential models, prefer using an `Input(shape)` object as the first layer in the model instead.\n",
      "  super().__init__(activity_regularizer=activity_regularizer, **kwargs)\n"
     ]
    },
    {
     "name": "stdout",
     "output_type": "stream",
     "text": [
      "\u001b[1m1/1\u001b[0m \u001b[32m━━━━━━━━━━━━━━━━━━━━\u001b[0m\u001b[37m\u001b[0m \u001b[1m0s\u001b[0m 44ms/step\n"
     ]
    },
    {
     "name": "stderr",
     "output_type": "stream",
     "text": [
      "C:\\Users\\yoges\\AppData\\Roaming\\Python\\Python312\\site-packages\\keras\\src\\layers\\core\\dense.py:87: UserWarning: Do not pass an `input_shape`/`input_dim` argument to a layer. When using Sequential models, prefer using an `Input(shape)` object as the first layer in the model instead.\n",
      "  super().__init__(activity_regularizer=activity_regularizer, **kwargs)\n"
     ]
    },
    {
     "name": "stdout",
     "output_type": "stream",
     "text": [
      "\u001b[1m1/1\u001b[0m \u001b[32m━━━━━━━━━━━━━━━━━━━━\u001b[0m\u001b[37m\u001b[0m \u001b[1m0s\u001b[0m 45ms/step\n"
     ]
    },
    {
     "name": "stderr",
     "output_type": "stream",
     "text": [
      "C:\\Users\\yoges\\AppData\\Roaming\\Python\\Python312\\site-packages\\keras\\src\\layers\\core\\dense.py:87: UserWarning: Do not pass an `input_shape`/`input_dim` argument to a layer. When using Sequential models, prefer using an `Input(shape)` object as the first layer in the model instead.\n",
      "  super().__init__(activity_regularizer=activity_regularizer, **kwargs)\n"
     ]
    },
    {
     "name": "stdout",
     "output_type": "stream",
     "text": [
      "\u001b[1m1/1\u001b[0m \u001b[32m━━━━━━━━━━━━━━━━━━━━\u001b[0m\u001b[37m\u001b[0m \u001b[1m0s\u001b[0m 41ms/step\n"
     ]
    },
    {
     "name": "stderr",
     "output_type": "stream",
     "text": [
      "C:\\Users\\yoges\\AppData\\Roaming\\Python\\Python312\\site-packages\\keras\\src\\layers\\core\\dense.py:87: UserWarning: Do not pass an `input_shape`/`input_dim` argument to a layer. When using Sequential models, prefer using an `Input(shape)` object as the first layer in the model instead.\n",
      "  super().__init__(activity_regularizer=activity_regularizer, **kwargs)\n"
     ]
    },
    {
     "name": "stdout",
     "output_type": "stream",
     "text": [
      "\u001b[1m1/1\u001b[0m \u001b[32m━━━━━━━━━━━━━━━━━━━━\u001b[0m\u001b[37m\u001b[0m \u001b[1m0s\u001b[0m 43ms/step\n"
     ]
    },
    {
     "name": "stderr",
     "output_type": "stream",
     "text": [
      "C:\\Users\\yoges\\AppData\\Roaming\\Python\\Python312\\site-packages\\keras\\src\\layers\\core\\dense.py:87: UserWarning: Do not pass an `input_shape`/`input_dim` argument to a layer. When using Sequential models, prefer using an `Input(shape)` object as the first layer in the model instead.\n",
      "  super().__init__(activity_regularizer=activity_regularizer, **kwargs)\n"
     ]
    },
    {
     "name": "stdout",
     "output_type": "stream",
     "text": [
      "\u001b[1m1/1\u001b[0m \u001b[32m━━━━━━━━━━━━━━━━━━━━\u001b[0m\u001b[37m\u001b[0m \u001b[1m0s\u001b[0m 43ms/step\n"
     ]
    },
    {
     "name": "stderr",
     "output_type": "stream",
     "text": [
      "C:\\Users\\yoges\\AppData\\Roaming\\Python\\Python312\\site-packages\\keras\\src\\layers\\core\\dense.py:87: UserWarning: Do not pass an `input_shape`/`input_dim` argument to a layer. When using Sequential models, prefer using an `Input(shape)` object as the first layer in the model instead.\n",
      "  super().__init__(activity_regularizer=activity_regularizer, **kwargs)\n"
     ]
    },
    {
     "name": "stdout",
     "output_type": "stream",
     "text": [
      "\u001b[1m1/1\u001b[0m \u001b[32m━━━━━━━━━━━━━━━━━━━━\u001b[0m\u001b[37m\u001b[0m \u001b[1m0s\u001b[0m 44ms/step\n"
     ]
    },
    {
     "name": "stderr",
     "output_type": "stream",
     "text": [
      "C:\\Users\\yoges\\AppData\\Roaming\\Python\\Python312\\site-packages\\keras\\src\\layers\\core\\dense.py:87: UserWarning: Do not pass an `input_shape`/`input_dim` argument to a layer. When using Sequential models, prefer using an `Input(shape)` object as the first layer in the model instead.\n",
      "  super().__init__(activity_regularizer=activity_regularizer, **kwargs)\n"
     ]
    },
    {
     "name": "stdout",
     "output_type": "stream",
     "text": [
      "\u001b[1m1/1\u001b[0m \u001b[32m━━━━━━━━━━━━━━━━━━━━\u001b[0m\u001b[37m\u001b[0m \u001b[1m0s\u001b[0m 48ms/step\n"
     ]
    },
    {
     "name": "stderr",
     "output_type": "stream",
     "text": [
      "C:\\Users\\yoges\\AppData\\Roaming\\Python\\Python312\\site-packages\\keras\\src\\layers\\core\\dense.py:87: UserWarning: Do not pass an `input_shape`/`input_dim` argument to a layer. When using Sequential models, prefer using an `Input(shape)` object as the first layer in the model instead.\n",
      "  super().__init__(activity_regularizer=activity_regularizer, **kwargs)\n"
     ]
    },
    {
     "name": "stdout",
     "output_type": "stream",
     "text": [
      "\u001b[1m1/1\u001b[0m \u001b[32m━━━━━━━━━━━━━━━━━━━━\u001b[0m\u001b[37m\u001b[0m \u001b[1m0s\u001b[0m 49ms/step\n"
     ]
    },
    {
     "name": "stderr",
     "output_type": "stream",
     "text": [
      "C:\\Users\\yoges\\AppData\\Roaming\\Python\\Python312\\site-packages\\keras\\src\\layers\\core\\dense.py:87: UserWarning: Do not pass an `input_shape`/`input_dim` argument to a layer. When using Sequential models, prefer using an `Input(shape)` object as the first layer in the model instead.\n",
      "  super().__init__(activity_regularizer=activity_regularizer, **kwargs)\n"
     ]
    },
    {
     "name": "stdout",
     "output_type": "stream",
     "text": [
      "\u001b[1m1/1\u001b[0m \u001b[32m━━━━━━━━━━━━━━━━━━━━\u001b[0m\u001b[37m\u001b[0m \u001b[1m0s\u001b[0m 50ms/step\n"
     ]
    },
    {
     "name": "stderr",
     "output_type": "stream",
     "text": [
      "C:\\Users\\yoges\\AppData\\Roaming\\Python\\Python312\\site-packages\\keras\\src\\layers\\core\\dense.py:87: UserWarning: Do not pass an `input_shape`/`input_dim` argument to a layer. When using Sequential models, prefer using an `Input(shape)` object as the first layer in the model instead.\n",
      "  super().__init__(activity_regularizer=activity_regularizer, **kwargs)\n"
     ]
    },
    {
     "name": "stdout",
     "output_type": "stream",
     "text": [
      "\u001b[1m1/1\u001b[0m \u001b[32m━━━━━━━━━━━━━━━━━━━━\u001b[0m\u001b[37m\u001b[0m \u001b[1m0s\u001b[0m 50ms/step\n"
     ]
    },
    {
     "name": "stderr",
     "output_type": "stream",
     "text": [
      "C:\\Users\\yoges\\AppData\\Roaming\\Python\\Python312\\site-packages\\keras\\src\\layers\\core\\dense.py:87: UserWarning: Do not pass an `input_shape`/`input_dim` argument to a layer. When using Sequential models, prefer using an `Input(shape)` object as the first layer in the model instead.\n",
      "  super().__init__(activity_regularizer=activity_regularizer, **kwargs)\n"
     ]
    },
    {
     "name": "stdout",
     "output_type": "stream",
     "text": [
      "\u001b[1m1/1\u001b[0m \u001b[32m━━━━━━━━━━━━━━━━━━━━\u001b[0m\u001b[37m\u001b[0m \u001b[1m0s\u001b[0m 50ms/step\n"
     ]
    },
    {
     "name": "stderr",
     "output_type": "stream",
     "text": [
      "C:\\Users\\yoges\\AppData\\Roaming\\Python\\Python312\\site-packages\\keras\\src\\layers\\core\\dense.py:87: UserWarning: Do not pass an `input_shape`/`input_dim` argument to a layer. When using Sequential models, prefer using an `Input(shape)` object as the first layer in the model instead.\n",
      "  super().__init__(activity_regularizer=activity_regularizer, **kwargs)\n"
     ]
    },
    {
     "name": "stdout",
     "output_type": "stream",
     "text": [
      "\u001b[1m1/1\u001b[0m \u001b[32m━━━━━━━━━━━━━━━━━━━━\u001b[0m\u001b[37m\u001b[0m \u001b[1m0s\u001b[0m 46ms/step\n"
     ]
    },
    {
     "name": "stderr",
     "output_type": "stream",
     "text": [
      "C:\\Users\\yoges\\AppData\\Roaming\\Python\\Python312\\site-packages\\keras\\src\\layers\\core\\dense.py:87: UserWarning: Do not pass an `input_shape`/`input_dim` argument to a layer. When using Sequential models, prefer using an `Input(shape)` object as the first layer in the model instead.\n",
      "  super().__init__(activity_regularizer=activity_regularizer, **kwargs)\n"
     ]
    },
    {
     "name": "stdout",
     "output_type": "stream",
     "text": [
      "\u001b[1m1/1\u001b[0m \u001b[32m━━━━━━━━━━━━━━━━━━━━\u001b[0m\u001b[37m\u001b[0m \u001b[1m0s\u001b[0m 47ms/step\n"
     ]
    },
    {
     "name": "stderr",
     "output_type": "stream",
     "text": [
      "C:\\Users\\yoges\\AppData\\Roaming\\Python\\Python312\\site-packages\\keras\\src\\layers\\core\\dense.py:87: UserWarning: Do not pass an `input_shape`/`input_dim` argument to a layer. When using Sequential models, prefer using an `Input(shape)` object as the first layer in the model instead.\n",
      "  super().__init__(activity_regularizer=activity_regularizer, **kwargs)\n"
     ]
    },
    {
     "name": "stdout",
     "output_type": "stream",
     "text": [
      "\u001b[1m1/1\u001b[0m \u001b[32m━━━━━━━━━━━━━━━━━━━━\u001b[0m\u001b[37m\u001b[0m \u001b[1m0s\u001b[0m 44ms/step\n"
     ]
    },
    {
     "name": "stderr",
     "output_type": "stream",
     "text": [
      "C:\\Users\\yoges\\AppData\\Roaming\\Python\\Python312\\site-packages\\keras\\src\\layers\\core\\dense.py:87: UserWarning: Do not pass an `input_shape`/`input_dim` argument to a layer. When using Sequential models, prefer using an `Input(shape)` object as the first layer in the model instead.\n",
      "  super().__init__(activity_regularizer=activity_regularizer, **kwargs)\n"
     ]
    },
    {
     "name": "stdout",
     "output_type": "stream",
     "text": [
      "\u001b[1m1/1\u001b[0m \u001b[32m━━━━━━━━━━━━━━━━━━━━\u001b[0m\u001b[37m\u001b[0m \u001b[1m0s\u001b[0m 47ms/step\n"
     ]
    },
    {
     "name": "stderr",
     "output_type": "stream",
     "text": [
      "C:\\Users\\yoges\\AppData\\Roaming\\Python\\Python312\\site-packages\\keras\\src\\layers\\core\\dense.py:87: UserWarning: Do not pass an `input_shape`/`input_dim` argument to a layer. When using Sequential models, prefer using an `Input(shape)` object as the first layer in the model instead.\n",
      "  super().__init__(activity_regularizer=activity_regularizer, **kwargs)\n"
     ]
    },
    {
     "name": "stdout",
     "output_type": "stream",
     "text": [
      "\u001b[1m1/1\u001b[0m \u001b[32m━━━━━━━━━━━━━━━━━━━━\u001b[0m\u001b[37m\u001b[0m \u001b[1m0s\u001b[0m 49ms/step\n"
     ]
    },
    {
     "name": "stderr",
     "output_type": "stream",
     "text": [
      "C:\\Users\\yoges\\AppData\\Roaming\\Python\\Python312\\site-packages\\keras\\src\\layers\\core\\dense.py:87: UserWarning: Do not pass an `input_shape`/`input_dim` argument to a layer. When using Sequential models, prefer using an `Input(shape)` object as the first layer in the model instead.\n",
      "  super().__init__(activity_regularizer=activity_regularizer, **kwargs)\n"
     ]
    },
    {
     "name": "stdout",
     "output_type": "stream",
     "text": [
      "\u001b[1m1/1\u001b[0m \u001b[32m━━━━━━━━━━━━━━━━━━━━\u001b[0m\u001b[37m\u001b[0m \u001b[1m0s\u001b[0m 62ms/step\n",
      "\n",
      "Deep Learning (Race Classification)\n",
      "m=20 | Accuracy: 0.6227 | Balanced Accuracy: 0.4968\n",
      "m=30 | Accuracy: 0.6852 | Balanced Accuracy: 0.5946\n",
      "m=40 | Accuracy: 0.7606 | Balanced Accuracy: 0.6743\n",
      "m=50 | Accuracy: 0.7769 | Balanced Accuracy: 0.6922\n"
     ]
    }
   ],
   "source": [
    "import tensorflow as tf\n",
    "from tensorflow.keras.models import Sequential\n",
    "from tensorflow.keras.layers import Dense\n",
    "from tensorflow.keras.utils import to_categorical\n",
    "from tensorflow.keras.callbacks import EarlyStopping\n",
    "\n",
    "race_results_dl = []\n",
    "\n",
    "for m in m_values:\n",
    "    selector = SelectKBest(score_func=f_classif, k=m)\n",
    "    X_selected = selector.fit_transform(X_all, y_all)\n",
    "    selected_feats = feature_cols[selector.get_support()]\n",
    "\n",
    "    acc_list, ba_list = [], []\n",
    "\n",
    "    for fold in sorted(race_df[\"Fold\"].unique()):\n",
    "        train_df = race_df[race_df[\"Fold\"] != fold]\n",
    "        test_df = race_df[race_df[\"Fold\"] == fold]\n",
    "\n",
    "        X_train = train_df[selected_feats]\n",
    "        y_train = train_df[\"Race_Label\"]\n",
    "        X_test = test_df[selected_feats]\n",
    "        y_test = test_df[\"Race_Label\"]\n",
    "\n",
    "        y_train_cat = to_categorical(y_train)\n",
    "        y_test_cat = to_categorical(y_test)\n",
    "\n",
    "        model = Sequential([\n",
    "            Dense(64, activation='relu', input_shape=(X_train.shape[1],)),\n",
    "            Dense(32, activation='relu'),\n",
    "            Dense(3, activation='softmax')\n",
    "        ])\n",
    "        model.compile(optimizer='adam', loss='categorical_crossentropy', metrics=['accuracy'])\n",
    "\n",
    "        early_stop = EarlyStopping(monitor='val_loss', patience=5, restore_best_weights=True)\n",
    "\n",
    "        model.fit(X_train, y_train_cat, validation_split=0.1, epochs=50, batch_size=16, verbose=0, callbacks=[early_stop])\n",
    "\n",
    "        y_pred_prob = model.predict(X_test)\n",
    "        y_pred = np.argmax(y_pred_prob, axis=1)\n",
    "\n",
    "        acc = accuracy_score(y_test, y_pred)\n",
    "\n",
    "        ba = 0\n",
    "        for label in np.unique(y_all):\n",
    "            correct = sum((y_test == label) & (y_pred == label))\n",
    "            total = sum(y_test == label)\n",
    "            ba += correct / total\n",
    "        ba /= len(np.unique(y_all))\n",
    "\n",
    "        acc_list.append(acc)\n",
    "        ba_list.append(ba)\n",
    "\n",
    "    race_results_dl.append((m, np.mean(acc_list), np.mean(ba_list)))\n",
    "\n",
    "# Results\n",
    "print(\"\\nDeep Learning (Race Classification)\")\n",
    "for m, acc, ba in race_results_dl:\n",
    "    print(f\"m={m:>2} | Accuracy: {acc:.4f} | Balanced Accuracy: {ba:.4f}\")\n"
   ]
  },
  {
   "cell_type": "markdown",
   "id": "5d5db53c",
   "metadata": {},
   "source": [
    "VISUALIZATION OF RESULTS"
   ]
  },
  {
   "cell_type": "code",
   "execution_count": 23,
   "id": "f8d84291",
   "metadata": {},
   "outputs": [
    {
     "data": {
      "image/png": "[encoded data removed]",
      "text/plain": [
       "<Figure size 1000x600 with 1 Axes>"
      ]
     },
     "metadata": {},
     "output_type": "display_data"
    }
   ],
   "source": [
    "import matplotlib.pyplot as plt\n",
    "\n",
    "# Extract values from your results\n",
    "m_vals = [x[0] for x in race_results_tree]\n",
    "\n",
    "# Random Forest metrics\n",
    "acc_rf = [x[1] for x in race_results_tree]\n",
    "ba_rf = [x[2] for x in race_results_tree]\n",
    "\n",
    "# Deep Learning metrics\n",
    "acc_dl = [x[1] for x in race_results_dl]\n",
    "ba_dl = [x[2] for x in race_results_dl]\n",
    "\n",
    "# Plotting\n",
    "plt.figure(figsize=(10, 6))\n",
    "\n",
    "# Random Forest\n",
    "plt.plot(m_vals, acc_rf, marker='o', linestyle='--', color='blue', label='RF Accuracy')\n",
    "plt.plot(m_vals, ba_rf, marker='s', linestyle='--', color='orange', label='RF Balanced Accuracy')\n",
    "\n",
    "# Deep Learning\n",
    "plt.plot(m_vals, acc_dl, marker='o', linestyle='-', color='green', label='DL Accuracy')\n",
    "plt.plot(m_vals, ba_dl, marker='s', linestyle='-', color='red', label='DL Balanced Accuracy')\n",
    "\n",
    "# Chart labels\n",
    "plt.title(\"Comparison: Random Forest vs Deep Learning on Race/Ethnicity Classification\")\n",
    "plt.xlabel(\"Number of Selected Features (m)\")\n",
    "plt.ylabel(\"Score\")\n",
    "plt.xticks(m_vals)\n",
    "plt.legend()\n",
    "plt.grid(True)\n",
    "plt.tight_layout()\n",
    "plt.show()\n"
   ]
  },
  {
   "cell_type": "markdown",
   "id": "d35f4a64",
   "metadata": {},
   "source": [
    "% 1. Random Forest starts stronger but saturates early\n",
    "- RF Accuracy (blue line) begins high at m=20 (~0.66), but dips at m=30 and then slightly recovers by m=50 (~0.65).\n",
    "- Its peak performance is early, but it struggles to maintain improvement with more features.\n",
    "\n",
    "% 2. Deep Learning improves consistently\n",
    "- DL Accuracy (green line) starts lower (~0.62) but increases steadily, peaking at m=50 (~0.78).\n",
    "- This shows that the neural network learns more as we add richer language features.\n",
    "\n",
    "% 3. Balanced Accuracy reveals fairness issues\n",
    "- Both models show lower Balanced Accuracy (orange for RF, red for DL), indicating struggles in fairly classifying all racial groups.\n",
    "- DL Balanced Accuracy improves steadily with more features, reaching ~0.69 at m=50.\n",
    "- RF Balanced Accuracy fluctuates and stays below 0.56 — suggesting it favors majority groups more strongly.\n",
    "\n",
    "% Final Results:\n",
    "- Random Forest learns fast from smaller sets of features, but adding more doesn't help it generalize better.\n",
    "- Deep learning benefits from feature richness — both its accuracy and fairness improve as we give it more informative tokens.\n",
    "- Despite improvements, both models show lower fairness — likely due to imbalanced participant representation.\n",
    "- DL outperforms RF in both accuracy and fairness at m=50, making it a more robust choice in this setting.\n",
    "- More features = more context = better learning for deep models — but tree models need careful tuning to avoid overfitting or bias.\n"
   ]
  },
  {
   "cell_type": "markdown",
   "id": "c959c2be",
   "metadata": {},
   "source": [
    "#### d) Estimating depression severity - Regression Model"
   ]
  },
  {
   "cell_type": "code",
   "execution_count": 36,
   "id": "76c9a47c",
   "metadata": {},
   "outputs": [],
   "source": [
    "import pandas as pd\n",
    "import numpy as np\n",
    "from sklearn.feature_selection import SelectKBest, f_regression\n",
    "from sklearn.ensemble import RandomForestRegressor\n",
    "from sklearn.metrics import mean_absolute_error\n",
    "from sklearn.model_selection import train_test_split\n",
    "from scipy.stats import pearsonr\n",
    "import tensorflow as tf\n",
    "from tensorflow.keras.models import Sequential\n",
    "from tensorflow.keras.layers import Dense\n",
    "from tensorflow.keras.callbacks import EarlyStopping\n",
    "\n",
    "depression_df = model_df.copy()\n",
    "\n",
    "# Cleaning up the missing values in the dataset\n",
    "depression_df = depression_df.dropna(subset=[\"PHQ_Score\", \"Gender_Code\", \"Race\"])\n",
    "\n",
    "# Converts gender code into readable text (e.g., 1 → Male) and Creates a \"Group\" label like \"Female - White American\"\n",
    "depression_df[\"Gender\"] = depression_df[\"Gender_Code\"].map({1: \"Male\", 2: \"Female\"})\n",
    "depression_df[\"Group\"] = depression_df[\"Gender\"] + \" - \" + depression_df[\"Race\"]\n",
    "\n",
    "#  Features - Choosing only numerical features  like TF IDF scores and the sentiment values excluding below mentioned features\n",
    "feature_cols = depression_df.select_dtypes(include='number').columns.difference(\n",
    "    [\"Participant_ID\", \"PHQ_Score\", \"Gender_Label\", \"Race_Label\"]\n",
    ")\n",
    "X_all = depression_df[feature_cols]\n",
    "y_depress = depression_df[\"PHQ_Score\"]\n"
   ]
  },
  {
   "cell_type": "code",
   "execution_count": 37,
   "id": "fd400503",
   "metadata": {},
   "outputs": [
    {
     "name": "stderr",
     "output_type": "stream",
     "text": [
      "C:\\Users\\yoges\\AppData\\Roaming\\Python\\Python312\\site-packages\\keras\\src\\layers\\core\\dense.py:87: UserWarning: Do not pass an `input_shape`/`input_dim` argument to a layer. When using Sequential models, prefer using an `Input(shape)` object as the first layer in the model instead.\n",
      "  super().__init__(activity_regularizer=activity_regularizer, **kwargs)\n"
     ]
    },
    {
     "name": "stdout",
     "output_type": "stream",
     "text": [
      "\u001b[1m1/1\u001b[0m \u001b[32m━━━━━━━━━━━━━━━━━━━━\u001b[0m\u001b[37m\u001b[0m \u001b[1m0s\u001b[0m 113ms/step\n"
     ]
    },
    {
     "name": "stderr",
     "output_type": "stream",
     "text": [
      "C:\\Users\\yoges\\AppData\\Roaming\\Python\\Python312\\site-packages\\keras\\src\\layers\\core\\dense.py:87: UserWarning: Do not pass an `input_shape`/`input_dim` argument to a layer. When using Sequential models, prefer using an `Input(shape)` object as the first layer in the model instead.\n",
      "  super().__init__(activity_regularizer=activity_regularizer, **kwargs)\n"
     ]
    },
    {
     "name": "stdout",
     "output_type": "stream",
     "text": [
      "\u001b[1m1/1\u001b[0m \u001b[32m━━━━━━━━━━━━━━━━━━━━\u001b[0m\u001b[37m\u001b[0m \u001b[1m0s\u001b[0m 51ms/step\n"
     ]
    },
    {
     "name": "stderr",
     "output_type": "stream",
     "text": [
      "C:\\Users\\yoges\\AppData\\Roaming\\Python\\Python312\\site-packages\\keras\\src\\layers\\core\\dense.py:87: UserWarning: Do not pass an `input_shape`/`input_dim` argument to a layer. When using Sequential models, prefer using an `Input(shape)` object as the first layer in the model instead.\n",
      "  super().__init__(activity_regularizer=activity_regularizer, **kwargs)\n"
     ]
    },
    {
     "name": "stdout",
     "output_type": "stream",
     "text": [
      "\u001b[1m1/1\u001b[0m \u001b[32m━━━━━━━━━━━━━━━━━━━━\u001b[0m\u001b[37m\u001b[0m \u001b[1m0s\u001b[0m 52ms/step\n"
     ]
    },
    {
     "name": "stderr",
     "output_type": "stream",
     "text": [
      "C:\\Users\\yoges\\AppData\\Roaming\\Python\\Python312\\site-packages\\keras\\src\\layers\\core\\dense.py:87: UserWarning: Do not pass an `input_shape`/`input_dim` argument to a layer. When using Sequential models, prefer using an `Input(shape)` object as the first layer in the model instead.\n",
      "  super().__init__(activity_regularizer=activity_regularizer, **kwargs)\n"
     ]
    },
    {
     "name": "stdout",
     "output_type": "stream",
     "text": [
      "\u001b[1m1/1\u001b[0m \u001b[32m━━━━━━━━━━━━━━━━━━━━\u001b[0m\u001b[37m\u001b[0m \u001b[1m0s\u001b[0m 48ms/step\n"
     ]
    },
    {
     "name": "stderr",
     "output_type": "stream",
     "text": [
      "C:\\Users\\yoges\\AppData\\Roaming\\Python\\Python312\\site-packages\\keras\\src\\layers\\core\\dense.py:87: UserWarning: Do not pass an `input_shape`/`input_dim` argument to a layer. When using Sequential models, prefer using an `Input(shape)` object as the first layer in the model instead.\n",
      "  super().__init__(activity_regularizer=activity_regularizer, **kwargs)\n"
     ]
    },
    {
     "name": "stdout",
     "output_type": "stream",
     "text": [
      "\u001b[1m1/1\u001b[0m \u001b[32m━━━━━━━━━━━━━━━━━━━━\u001b[0m\u001b[37m\u001b[0m \u001b[1m0s\u001b[0m 62ms/step\n"
     ]
    },
    {
     "name": "stderr",
     "output_type": "stream",
     "text": [
      "C:\\Users\\yoges\\AppData\\Roaming\\Python\\Python312\\site-packages\\keras\\src\\layers\\core\\dense.py:87: UserWarning: Do not pass an `input_shape`/`input_dim` argument to a layer. When using Sequential models, prefer using an `Input(shape)` object as the first layer in the model instead.\n",
      "  super().__init__(activity_regularizer=activity_regularizer, **kwargs)\n"
     ]
    },
    {
     "name": "stdout",
     "output_type": "stream",
     "text": [
      "\u001b[1m1/1\u001b[0m \u001b[32m━━━━━━━━━━━━━━━━━━━━\u001b[0m\u001b[37m\u001b[0m \u001b[1m0s\u001b[0m 45ms/step\n"
     ]
    },
    {
     "name": "stderr",
     "output_type": "stream",
     "text": [
      "C:\\Users\\yoges\\AppData\\Roaming\\Python\\Python312\\site-packages\\keras\\src\\layers\\core\\dense.py:87: UserWarning: Do not pass an `input_shape`/`input_dim` argument to a layer. When using Sequential models, prefer using an `Input(shape)` object as the first layer in the model instead.\n",
      "  super().__init__(activity_regularizer=activity_regularizer, **kwargs)\n"
     ]
    },
    {
     "name": "stdout",
     "output_type": "stream",
     "text": [
      "\u001b[1m1/1\u001b[0m \u001b[32m━━━━━━━━━━━━━━━━━━━━\u001b[0m\u001b[37m\u001b[0m \u001b[1m0s\u001b[0m 43ms/step\n"
     ]
    },
    {
     "name": "stderr",
     "output_type": "stream",
     "text": [
      "C:\\Users\\yoges\\AppData\\Roaming\\Python\\Python312\\site-packages\\keras\\src\\layers\\core\\dense.py:87: UserWarning: Do not pass an `input_shape`/`input_dim` argument to a layer. When using Sequential models, prefer using an `Input(shape)` object as the first layer in the model instead.\n",
      "  super().__init__(activity_regularizer=activity_regularizer, **kwargs)\n"
     ]
    },
    {
     "name": "stdout",
     "output_type": "stream",
     "text": [
      "\u001b[1m1/1\u001b[0m \u001b[32m━━━━━━━━━━━━━━━━━━━━\u001b[0m\u001b[37m\u001b[0m \u001b[1m0s\u001b[0m 53ms/step\n"
     ]
    },
    {
     "name": "stderr",
     "output_type": "stream",
     "text": [
      "C:\\Users\\yoges\\AppData\\Roaming\\Python\\Python312\\site-packages\\keras\\src\\layers\\core\\dense.py:87: UserWarning: Do not pass an `input_shape`/`input_dim` argument to a layer. When using Sequential models, prefer using an `Input(shape)` object as the first layer in the model instead.\n",
      "  super().__init__(activity_regularizer=activity_regularizer, **kwargs)\n"
     ]
    },
    {
     "name": "stdout",
     "output_type": "stream",
     "text": [
      "\u001b[1m1/1\u001b[0m \u001b[32m━━━━━━━━━━━━━━━━━━━━\u001b[0m\u001b[37m\u001b[0m \u001b[1m0s\u001b[0m 59ms/step\n"
     ]
    },
    {
     "name": "stderr",
     "output_type": "stream",
     "text": [
      "C:\\Users\\yoges\\AppData\\Roaming\\Python\\Python312\\site-packages\\keras\\src\\layers\\core\\dense.py:87: UserWarning: Do not pass an `input_shape`/`input_dim` argument to a layer. When using Sequential models, prefer using an `Input(shape)` object as the first layer in the model instead.\n",
      "  super().__init__(activity_regularizer=activity_regularizer, **kwargs)\n"
     ]
    },
    {
     "name": "stdout",
     "output_type": "stream",
     "text": [
      "\u001b[1m1/1\u001b[0m \u001b[32m━━━━━━━━━━━━━━━━━━━━\u001b[0m\u001b[37m\u001b[0m \u001b[1m0s\u001b[0m 47ms/step\n"
     ]
    },
    {
     "name": "stderr",
     "output_type": "stream",
     "text": [
      "C:\\Users\\yoges\\AppData\\Roaming\\Python\\Python312\\site-packages\\keras\\src\\layers\\core\\dense.py:87: UserWarning: Do not pass an `input_shape`/`input_dim` argument to a layer. When using Sequential models, prefer using an `Input(shape)` object as the first layer in the model instead.\n",
      "  super().__init__(activity_regularizer=activity_regularizer, **kwargs)\n"
     ]
    },
    {
     "name": "stdout",
     "output_type": "stream",
     "text": [
      "\u001b[1m1/1\u001b[0m \u001b[32m━━━━━━━━━━━━━━━━━━━━\u001b[0m\u001b[37m\u001b[0m \u001b[1m0s\u001b[0m 47ms/step\n"
     ]
    },
    {
     "name": "stderr",
     "output_type": "stream",
     "text": [
      "C:\\Users\\yoges\\AppData\\Roaming\\Python\\Python312\\site-packages\\keras\\src\\layers\\core\\dense.py:87: UserWarning: Do not pass an `input_shape`/`input_dim` argument to a layer. When using Sequential models, prefer using an `Input(shape)` object as the first layer in the model instead.\n",
      "  super().__init__(activity_regularizer=activity_regularizer, **kwargs)\n"
     ]
    },
    {
     "name": "stdout",
     "output_type": "stream",
     "text": [
      "\u001b[1m1/1\u001b[0m \u001b[32m━━━━━━━━━━━━━━━━━━━━\u001b[0m\u001b[37m\u001b[0m \u001b[1m0s\u001b[0m 49ms/step\n"
     ]
    },
    {
     "name": "stderr",
     "output_type": "stream",
     "text": [
      "C:\\Users\\yoges\\AppData\\Roaming\\Python\\Python312\\site-packages\\keras\\src\\layers\\core\\dense.py:87: UserWarning: Do not pass an `input_shape`/`input_dim` argument to a layer. When using Sequential models, prefer using an `Input(shape)` object as the first layer in the model instead.\n",
      "  super().__init__(activity_regularizer=activity_regularizer, **kwargs)\n"
     ]
    },
    {
     "name": "stdout",
     "output_type": "stream",
     "text": [
      "\u001b[1m1/1\u001b[0m \u001b[32m━━━━━━━━━━━━━━━━━━━━\u001b[0m\u001b[37m\u001b[0m \u001b[1m0s\u001b[0m 46ms/step\n"
     ]
    },
    {
     "name": "stderr",
     "output_type": "stream",
     "text": [
      "C:\\Users\\yoges\\AppData\\Roaming\\Python\\Python312\\site-packages\\keras\\src\\layers\\core\\dense.py:87: UserWarning: Do not pass an `input_shape`/`input_dim` argument to a layer. When using Sequential models, prefer using an `Input(shape)` object as the first layer in the model instead.\n",
      "  super().__init__(activity_regularizer=activity_regularizer, **kwargs)\n"
     ]
    },
    {
     "name": "stdout",
     "output_type": "stream",
     "text": [
      "\u001b[1m1/1\u001b[0m \u001b[32m━━━━━━━━━━━━━━━━━━━━\u001b[0m\u001b[37m\u001b[0m \u001b[1m0s\u001b[0m 46ms/step\n"
     ]
    },
    {
     "name": "stderr",
     "output_type": "stream",
     "text": [
      "C:\\Users\\yoges\\AppData\\Roaming\\Python\\Python312\\site-packages\\keras\\src\\layers\\core\\dense.py:87: UserWarning: Do not pass an `input_shape`/`input_dim` argument to a layer. When using Sequential models, prefer using an `Input(shape)` object as the first layer in the model instead.\n",
      "  super().__init__(activity_regularizer=activity_regularizer, **kwargs)\n"
     ]
    },
    {
     "name": "stdout",
     "output_type": "stream",
     "text": [
      "\u001b[1m1/1\u001b[0m \u001b[32m━━━━━━━━━━━━━━━━━━━━\u001b[0m\u001b[37m\u001b[0m \u001b[1m0s\u001b[0m 128ms/step\n"
     ]
    },
    {
     "name": "stderr",
     "output_type": "stream",
     "text": [
      "C:\\Users\\yoges\\AppData\\Roaming\\Python\\Python312\\site-packages\\keras\\src\\layers\\core\\dense.py:87: UserWarning: Do not pass an `input_shape`/`input_dim` argument to a layer. When using Sequential models, prefer using an `Input(shape)` object as the first layer in the model instead.\n",
      "  super().__init__(activity_regularizer=activity_regularizer, **kwargs)\n"
     ]
    },
    {
     "name": "stdout",
     "output_type": "stream",
     "text": [
      "\u001b[1m1/1\u001b[0m \u001b[32m━━━━━━━━━━━━━━━━━━━━\u001b[0m\u001b[37m\u001b[0m \u001b[1m0s\u001b[0m 46ms/step\n"
     ]
    },
    {
     "name": "stderr",
     "output_type": "stream",
     "text": [
      "C:\\Users\\yoges\\AppData\\Roaming\\Python\\Python312\\site-packages\\keras\\src\\layers\\core\\dense.py:87: UserWarning: Do not pass an `input_shape`/`input_dim` argument to a layer. When using Sequential models, prefer using an `Input(shape)` object as the first layer in the model instead.\n",
      "  super().__init__(activity_regularizer=activity_regularizer, **kwargs)\n"
     ]
    },
    {
     "name": "stdout",
     "output_type": "stream",
     "text": [
      "\u001b[1m1/1\u001b[0m \u001b[32m━━━━━━━━━━━━━━━━━━━━\u001b[0m\u001b[37m\u001b[0m \u001b[1m0s\u001b[0m 46ms/step\n"
     ]
    },
    {
     "name": "stderr",
     "output_type": "stream",
     "text": [
      "C:\\Users\\yoges\\AppData\\Roaming\\Python\\Python312\\site-packages\\keras\\src\\layers\\core\\dense.py:87: UserWarning: Do not pass an `input_shape`/`input_dim` argument to a layer. When using Sequential models, prefer using an `Input(shape)` object as the first layer in the model instead.\n",
      "  super().__init__(activity_regularizer=activity_regularizer, **kwargs)\n"
     ]
    },
    {
     "name": "stdout",
     "output_type": "stream",
     "text": [
      "\u001b[1m1/1\u001b[0m \u001b[32m━━━━━━━━━━━━━━━━━━━━\u001b[0m\u001b[37m\u001b[0m \u001b[1m0s\u001b[0m 46ms/step\n"
     ]
    },
    {
     "name": "stderr",
     "output_type": "stream",
     "text": [
      "C:\\Users\\yoges\\AppData\\Roaming\\Python\\Python312\\site-packages\\keras\\src\\layers\\core\\dense.py:87: UserWarning: Do not pass an `input_shape`/`input_dim` argument to a layer. When using Sequential models, prefer using an `Input(shape)` object as the first layer in the model instead.\n",
      "  super().__init__(activity_regularizer=activity_regularizer, **kwargs)\n"
     ]
    },
    {
     "name": "stdout",
     "output_type": "stream",
     "text": [
      "\u001b[1m1/1\u001b[0m \u001b[32m━━━━━━━━━━━━━━━━━━━━\u001b[0m\u001b[37m\u001b[0m \u001b[1m0s\u001b[0m 52ms/step\n"
     ]
    },
    {
     "name": "stderr",
     "output_type": "stream",
     "text": [
      "C:\\Users\\yoges\\AppData\\Roaming\\Python\\Python312\\site-packages\\keras\\src\\layers\\core\\dense.py:87: UserWarning: Do not pass an `input_shape`/`input_dim` argument to a layer. When using Sequential models, prefer using an `Input(shape)` object as the first layer in the model instead.\n",
      "  super().__init__(activity_regularizer=activity_regularizer, **kwargs)\n"
     ]
    },
    {
     "name": "stdout",
     "output_type": "stream",
     "text": [
      "\u001b[1m1/1\u001b[0m \u001b[32m━━━━━━━━━━━━━━━━━━━━\u001b[0m\u001b[37m\u001b[0m \u001b[1m0s\u001b[0m 81ms/step\n"
     ]
    }
   ],
   "source": [
    "# Hyper parameter tuning with different no. of top features 'k'\n",
    "k_values = [20, 30, 40, 50]\n",
    "results_rf, results_dl = [], []\n",
    "\n",
    "# Ensure fold is integer\n",
    "depression_df[\"Fold\"] = depression_df[\"Fold\"].astype(int)\n",
    "\n",
    "for k in k_values:\n",
    "    r_rf_scores, re_rf_scores = [], []\n",
    "    r_dl_scores, re_dl_scores = [], []\n",
    "\n",
    "    for fold in range(5):\n",
    "        train_df = depression_df[depression_df[\"Fold\"] != fold]\n",
    "        test_df = depression_df[depression_df[\"Fold\"] == fold]\n",
    "\n",
    "        # Feature Selection based on train\n",
    "        selector = SelectKBest(score_func=f_regression, k=k)\n",
    "        selector.fit(train_df[feature_cols], train_df[\"PHQ_Score\"])\n",
    "        selected_feats = feature_cols[selector.get_support()]\n",
    "\n",
    "        X_train, y_train = train_df[selected_feats], train_df[\"PHQ_Score\"]\n",
    "        X_test, y_test = test_df[selected_feats], test_df[\"PHQ_Score\"]\n",
    "\n",
    "        # --- Random Forest ---\n",
    "        rf = RandomForestRegressor(n_estimators=100, random_state=42)\n",
    "        rf.fit(X_train, y_train)\n",
    "        y_pred_rf = rf.predict(X_test)\n",
    "        r_rf, _ = pearsonr(y_test, y_pred_rf)\n",
    "        re_rf = np.mean(np.abs(y_pred_rf - y_test) / y_test.max())\n",
    "        r_rf_scores.append(r_rf)\n",
    "        re_rf_scores.append(re_rf)\n",
    "\n",
    "        # --- Deep Learning ---\n",
    "        tf.random.set_seed(42)\n",
    "        model = Sequential([\n",
    "            Dense(64, activation='relu', input_shape=(X_train.shape[1],)),\n",
    "            Dense(32, activation='relu'),\n",
    "            Dense(1)\n",
    "        ])\n",
    "        model.compile(optimizer='adam', loss='mse')\n",
    "        model.fit(X_train, y_train, validation_split=0.1, epochs=50, batch_size=16, verbose=0,\n",
    "                  callbacks=[EarlyStopping(monitor='val_loss', patience=5, restore_best_weights=True)])\n",
    "        y_pred_dl = model.predict(X_test).flatten()\n",
    "        r_dl, _ = pearsonr(y_test, y_pred_dl)\n",
    "        re_dl = np.mean(np.abs(y_pred_dl - y_test) / y_test.max())\n",
    "        r_dl_scores.append(r_dl)\n",
    "        re_dl_scores.append(re_dl)\n",
    "\n",
    "    # Average across all 5 folds\n",
    "    results_rf.append((k, np.mean(r_rf_scores), np.mean(re_rf_scores)))\n",
    "    results_dl.append((k, np.mean(r_dl_scores), np.mean(re_dl_scores)))\n",
    "\n",
    "    # pearsonr  - How closely it tracks real depression scores\n",
    "    # Absolute Relative Error - How far off its predictions are, on average\n"
   ]
  },
  {
   "cell_type": "code",
   "execution_count": 38,
   "id": "6ef11a8c",
   "metadata": {},
   "outputs": [],
   "source": [
    "def evaluate_groupwise_by_fold(df, group_column, model_type='rf', k=30):\n",
    "    groupwise_results = []\n",
    "\n",
    "    for group in df[group_column].unique():\n",
    "        group_df = df[df[group_column] == group]\n",
    "        if len(group_df) < 10:\n",
    "            continue\n",
    "\n",
    "        for fold in range(5):\n",
    "            train_df = group_df[group_df[\"Fold\"] != fold]\n",
    "            test_df = group_df[group_df[\"Fold\"] == fold]\n",
    "\n",
    "            if len(test_df) < 2:\n",
    "                continue\n",
    "\n",
    "            y_train = train_df[\"PHQ_Score\"]\n",
    "            y_test = test_df[\"PHQ_Score\"]\n",
    "\n",
    "            selector = SelectKBest(score_func=f_regression, k=min(k, train_df.shape[1]))\n",
    "            selector.fit(train_df[feature_cols], y_train)\n",
    "            selected_feats = feature_cols[selector.get_support()]\n",
    "\n",
    "            X_train = train_df[selected_feats]\n",
    "            X_test = test_df[selected_feats]\n",
    "\n",
    "            if model_type == 'rf':\n",
    "                model = RandomForestRegressor(n_estimators=100, random_state=42)\n",
    "                model.fit(X_train, y_train)\n",
    "                y_pred = model.predict(X_test)\n",
    "            else:\n",
    "                tf.random.set_seed(42)\n",
    "                model = Sequential([\n",
    "                    Dense(64, activation='relu', input_shape=(X_train.shape[1],)),\n",
    "                    Dense(32, activation='relu'),\n",
    "                    Dense(1)\n",
    "                ])\n",
    "                model.compile(optimizer='adam', loss='mse')\n",
    "                model.fit(X_train, y_train, epochs=30, verbose=0)\n",
    "                y_pred = model.predict(X_test).flatten()\n",
    "\n",
    "            r, _ = pearsonr(y_test, y_pred)\n",
    "            re = np.mean(np.abs(y_pred - y_test) / y_test.max())\n",
    "            groupwise_results.append((group, r, re))\n",
    "\n",
    "    return pd.DataFrame(groupwise_results, columns=[\"Group\", \"Pearson_r\", \"RE\"])\n",
    "\n",
    "\n",
    "\n",
    "# Tells\n",
    " # Are some groups harder for the model to predict?\n",
    " # Is there bias in how well we estimate depression for different communities?\n"
   ]
  },
  {
   "cell_type": "code",
   "execution_count": 39,
   "id": "199b5fc9",
   "metadata": {},
   "outputs": [
    {
     "name": "stdout",
     "output_type": "stream",
     "text": [
      "=== Groupwise by Gender (RF) ===\n",
      "    Group  Pearson_r        RE\n",
      "0  Female   0.317918  0.303333\n",
      "1  Female   0.598833  0.257600\n",
      "2  Female   0.672689  0.213333\n",
      "3  Female   0.069589  0.336444\n",
      "4  Female  -0.103100  0.286909\n",
      "5    Male   0.212873  0.288019\n",
      "6    Male  -0.379129  0.385882\n",
      "7    Male   0.108751  0.268229\n",
      "8    Male   0.203775  0.246691\n",
      "9    Male  -0.290756  0.346806\n",
      "\n",
      "=== Groupwise by Race (RF) ===\n",
      "               Group  Pearson_r        RE\n",
      "0     White American   0.401283  0.250000\n",
      "1     White American  -0.410176  0.309412\n",
      "2     White American   0.170750  0.243982\n",
      "3     White American   0.464756  0.422626\n",
      "4     White American   0.467547  0.227828\n",
      "5   African American  -0.442384  0.364286\n",
      "6   African American  -0.016913  0.497500\n",
      "7   African American  -0.304339  0.329643\n",
      "8   African American  -0.536689  0.357647\n",
      "9   African American   0.300054  0.335500\n",
      "10          Hispanic   0.584547  0.401667\n",
      "11          Hispanic   0.974744  0.363056\n",
      "12          Hispanic   0.666150  0.297344\n",
      "13          Hispanic   0.542163  0.419600\n",
      "14          Hispanic   0.219401  0.238824\n",
      "\n",
      "=== Groupwise by Gender × Race (RF) ===\n"
     ]
    },
    {
     "name": "stderr",
     "output_type": "stream",
     "text": [
      "C:\\Users\\yoges\\AppData\\Local\\Temp\\ipykernel_6892\\3656396066.py:41: ConstantInputWarning: An input array is constant; the correlation coefficient is not defined.\n",
      "  r, _ = pearsonr(y_test, y_pred)\n"
     ]
    },
    {
     "name": "stdout",
     "output_type": "stream",
     "text": [
      "                        Group  Pearson_r        RE\n",
      "0     Female - White American   1.000000  1.041250\n",
      "1     Female - White American   1.000000  0.291500\n",
      "2     Female - White American  -0.042246  0.257143\n",
      "3     Female - White American   0.500814  0.273148\n",
      "4     Female - White American   0.785790  0.282500\n",
      "5     Male - African American   0.978618  1.023333\n",
      "6     Male - African American  -0.993753  0.620000\n",
      "7     Male - African American   1.000000  0.426667\n",
      "8     Male - African American  -0.505149  0.368067\n",
      "9             Male - Hispanic        NaN       inf\n",
      "10            Male - Hispanic   0.885141  0.279531\n",
      "11            Male - Hispanic   0.796880  0.314500\n",
      "12            Male - Hispanic   0.778779  0.302500\n",
      "13      Male - White American   0.406778  0.274444\n",
      "14      Male - White American  -0.469344  0.375574\n",
      "15      Male - White American  -0.110570  0.622593\n",
      "16      Male - White American  -0.288884  1.396667\n",
      "17      Male - White American   0.080106  0.295238\n",
      "18  Female - African American  -0.503117  0.452778\n",
      "19  Female - African American   0.972649  0.439600\n",
      "20  Female - African American   0.684936  0.309500\n",
      "21  Female - African American   1.000000  0.428000\n",
      "22  Female - African American  -0.673197  0.486563\n",
      "\n",
      "=== Groupwise by Gender (DL) ===\n"
     ]
    },
    {
     "name": "stderr",
     "output_type": "stream",
     "text": [
      "C:\\Users\\yoges\\AppData\\Roaming\\Python\\Python312\\site-packages\\keras\\src\\layers\\core\\dense.py:87: UserWarning: Do not pass an `input_shape`/`input_dim` argument to a layer. When using Sequential models, prefer using an `Input(shape)` object as the first layer in the model instead.\n",
      "  super().__init__(activity_regularizer=activity_regularizer, **kwargs)\n"
     ]
    },
    {
     "name": "stdout",
     "output_type": "stream",
     "text": [
      "\u001b[1m1/1\u001b[0m \u001b[32m━━━━━━━━━━━━━━━━━━━━\u001b[0m\u001b[37m\u001b[0m \u001b[1m0s\u001b[0m 58ms/step\n"
     ]
    },
    {
     "name": "stderr",
     "output_type": "stream",
     "text": [
      "C:\\Users\\yoges\\AppData\\Roaming\\Python\\Python312\\site-packages\\keras\\src\\layers\\core\\dense.py:87: UserWarning: Do not pass an `input_shape`/`input_dim` argument to a layer. When using Sequential models, prefer using an `Input(shape)` object as the first layer in the model instead.\n",
      "  super().__init__(activity_regularizer=activity_regularizer, **kwargs)\n"
     ]
    },
    {
     "name": "stdout",
     "output_type": "stream",
     "text": [
      "\u001b[1m1/1\u001b[0m \u001b[32m━━━━━━━━━━━━━━━━━━━━\u001b[0m\u001b[37m\u001b[0m \u001b[1m0s\u001b[0m 45ms/step\n"
     ]
    },
    {
     "name": "stderr",
     "output_type": "stream",
     "text": [
      "C:\\Users\\yoges\\AppData\\Roaming\\Python\\Python312\\site-packages\\keras\\src\\layers\\core\\dense.py:87: UserWarning: Do not pass an `input_shape`/`input_dim` argument to a layer. When using Sequential models, prefer using an `Input(shape)` object as the first layer in the model instead.\n",
      "  super().__init__(activity_regularizer=activity_regularizer, **kwargs)\n"
     ]
    },
    {
     "name": "stdout",
     "output_type": "stream",
     "text": [
      "\u001b[1m1/1\u001b[0m \u001b[32m━━━━━━━━━━━━━━━━━━━━\u001b[0m\u001b[37m\u001b[0m \u001b[1m0s\u001b[0m 48ms/step\n"
     ]
    },
    {
     "name": "stderr",
     "output_type": "stream",
     "text": [
      "C:\\Users\\yoges\\AppData\\Roaming\\Python\\Python312\\site-packages\\keras\\src\\layers\\core\\dense.py:87: UserWarning: Do not pass an `input_shape`/`input_dim` argument to a layer. When using Sequential models, prefer using an `Input(shape)` object as the first layer in the model instead.\n",
      "  super().__init__(activity_regularizer=activity_regularizer, **kwargs)\n"
     ]
    },
    {
     "name": "stdout",
     "output_type": "stream",
     "text": [
      "\u001b[1m1/1\u001b[0m \u001b[32m━━━━━━━━━━━━━━━━━━━━\u001b[0m\u001b[37m\u001b[0m \u001b[1m0s\u001b[0m 47ms/step\n"
     ]
    },
    {
     "name": "stderr",
     "output_type": "stream",
     "text": [
      "C:\\Users\\yoges\\AppData\\Roaming\\Python\\Python312\\site-packages\\keras\\src\\layers\\core\\dense.py:87: UserWarning: Do not pass an `input_shape`/`input_dim` argument to a layer. When using Sequential models, prefer using an `Input(shape)` object as the first layer in the model instead.\n",
      "  super().__init__(activity_regularizer=activity_regularizer, **kwargs)\n"
     ]
    },
    {
     "name": "stdout",
     "output_type": "stream",
     "text": [
      "\u001b[1m1/1\u001b[0m \u001b[32m━━━━━━━━━━━━━━━━━━━━\u001b[0m\u001b[37m\u001b[0m \u001b[1m0s\u001b[0m 51ms/step\n"
     ]
    },
    {
     "name": "stderr",
     "output_type": "stream",
     "text": [
      "C:\\Users\\yoges\\AppData\\Roaming\\Python\\Python312\\site-packages\\keras\\src\\layers\\core\\dense.py:87: UserWarning: Do not pass an `input_shape`/`input_dim` argument to a layer. When using Sequential models, prefer using an `Input(shape)` object as the first layer in the model instead.\n",
      "  super().__init__(activity_regularizer=activity_regularizer, **kwargs)\n"
     ]
    },
    {
     "name": "stdout",
     "output_type": "stream",
     "text": [
      "\u001b[1m1/1\u001b[0m \u001b[32m━━━━━━━━━━━━━━━━━━━━\u001b[0m\u001b[37m\u001b[0m \u001b[1m0s\u001b[0m 43ms/step\n"
     ]
    },
    {
     "name": "stderr",
     "output_type": "stream",
     "text": [
      "C:\\Users\\yoges\\AppData\\Roaming\\Python\\Python312\\site-packages\\keras\\src\\layers\\core\\dense.py:87: UserWarning: Do not pass an `input_shape`/`input_dim` argument to a layer. When using Sequential models, prefer using an `Input(shape)` object as the first layer in the model instead.\n",
      "  super().__init__(activity_regularizer=activity_regularizer, **kwargs)\n"
     ]
    },
    {
     "name": "stdout",
     "output_type": "stream",
     "text": [
      "\u001b[1m1/1\u001b[0m \u001b[32m━━━━━━━━━━━━━━━━━━━━\u001b[0m\u001b[37m\u001b[0m \u001b[1m0s\u001b[0m 47ms/step\n"
     ]
    },
    {
     "name": "stderr",
     "output_type": "stream",
     "text": [
      "C:\\Users\\yoges\\AppData\\Roaming\\Python\\Python312\\site-packages\\keras\\src\\layers\\core\\dense.py:87: UserWarning: Do not pass an `input_shape`/`input_dim` argument to a layer. When using Sequential models, prefer using an `Input(shape)` object as the first layer in the model instead.\n",
      "  super().__init__(activity_regularizer=activity_regularizer, **kwargs)\n"
     ]
    },
    {
     "name": "stdout",
     "output_type": "stream",
     "text": [
      "\u001b[1m1/1\u001b[0m \u001b[32m━━━━━━━━━━━━━━━━━━━━\u001b[0m\u001b[37m\u001b[0m \u001b[1m0s\u001b[0m 127ms/step\n"
     ]
    },
    {
     "name": "stderr",
     "output_type": "stream",
     "text": [
      "C:\\Users\\yoges\\AppData\\Roaming\\Python\\Python312\\site-packages\\keras\\src\\layers\\core\\dense.py:87: UserWarning: Do not pass an `input_shape`/`input_dim` argument to a layer. When using Sequential models, prefer using an `Input(shape)` object as the first layer in the model instead.\n",
      "  super().__init__(activity_regularizer=activity_regularizer, **kwargs)\n"
     ]
    },
    {
     "name": "stdout",
     "output_type": "stream",
     "text": [
      "\u001b[1m1/1\u001b[0m \u001b[32m━━━━━━━━━━━━━━━━━━━━\u001b[0m\u001b[37m\u001b[0m \u001b[1m0s\u001b[0m 46ms/step\n"
     ]
    },
    {
     "name": "stderr",
     "output_type": "stream",
     "text": [
      "C:\\Users\\yoges\\AppData\\Roaming\\Python\\Python312\\site-packages\\keras\\src\\layers\\core\\dense.py:87: UserWarning: Do not pass an `input_shape`/`input_dim` argument to a layer. When using Sequential models, prefer using an `Input(shape)` object as the first layer in the model instead.\n",
      "  super().__init__(activity_regularizer=activity_regularizer, **kwargs)\n"
     ]
    },
    {
     "name": "stdout",
     "output_type": "stream",
     "text": [
      "\u001b[1m1/1\u001b[0m \u001b[32m━━━━━━━━━━━━━━━━━━━━\u001b[0m\u001b[37m\u001b[0m \u001b[1m0s\u001b[0m 44ms/step\n",
      "    Group  Pearson_r        RE\n",
      "0  Female   0.470603  0.316560\n",
      "1  Female   0.366861  0.329013\n",
      "2  Female   0.352612  0.321723\n",
      "3  Female   0.387521  0.379212\n",
      "4  Female   0.686883  0.399342\n",
      "5    Male  -0.057867  0.241550\n",
      "6    Male   0.479876  0.316169\n",
      "7    Male   0.213668  0.205111\n",
      "8    Male   0.487035  0.200379\n",
      "9    Male  -0.178029  0.291392\n",
      "\n",
      "=== Groupwise by Race (DL) ===\n"
     ]
    },
    {
     "name": "stderr",
     "output_type": "stream",
     "text": [
      "C:\\Users\\yoges\\AppData\\Roaming\\Python\\Python312\\site-packages\\keras\\src\\layers\\core\\dense.py:87: UserWarning: Do not pass an `input_shape`/`input_dim` argument to a layer. When using Sequential models, prefer using an `Input(shape)` object as the first layer in the model instead.\n",
      "  super().__init__(activity_regularizer=activity_regularizer, **kwargs)\n"
     ]
    },
    {
     "name": "stdout",
     "output_type": "stream",
     "text": [
      "\u001b[1m1/1\u001b[0m \u001b[32m━━━━━━━━━━━━━━━━━━━━\u001b[0m\u001b[37m\u001b[0m \u001b[1m0s\u001b[0m 46ms/step\n"
     ]
    },
    {
     "name": "stderr",
     "output_type": "stream",
     "text": [
      "C:\\Users\\yoges\\AppData\\Roaming\\Python\\Python312\\site-packages\\keras\\src\\layers\\core\\dense.py:87: UserWarning: Do not pass an `input_shape`/`input_dim` argument to a layer. When using Sequential models, prefer using an `Input(shape)` object as the first layer in the model instead.\n",
      "  super().__init__(activity_regularizer=activity_regularizer, **kwargs)\n"
     ]
    },
    {
     "name": "stdout",
     "output_type": "stream",
     "text": [
      "\u001b[1m1/1\u001b[0m \u001b[32m━━━━━━━━━━━━━━━━━━━━\u001b[0m\u001b[37m\u001b[0m \u001b[1m0s\u001b[0m 45ms/step\n"
     ]
    },
    {
     "name": "stderr",
     "output_type": "stream",
     "text": [
      "C:\\Users\\yoges\\AppData\\Roaming\\Python\\Python312\\site-packages\\keras\\src\\layers\\core\\dense.py:87: UserWarning: Do not pass an `input_shape`/`input_dim` argument to a layer. When using Sequential models, prefer using an `Input(shape)` object as the first layer in the model instead.\n",
      "  super().__init__(activity_regularizer=activity_regularizer, **kwargs)\n"
     ]
    },
    {
     "name": "stdout",
     "output_type": "stream",
     "text": [
      "\u001b[1m1/1\u001b[0m \u001b[32m━━━━━━━━━━━━━━━━━━━━\u001b[0m\u001b[37m\u001b[0m \u001b[1m0s\u001b[0m 49ms/step\n"
     ]
    },
    {
     "name": "stderr",
     "output_type": "stream",
     "text": [
      "C:\\Users\\yoges\\AppData\\Roaming\\Python\\Python312\\site-packages\\keras\\src\\layers\\core\\dense.py:87: UserWarning: Do not pass an `input_shape`/`input_dim` argument to a layer. When using Sequential models, prefer using an `Input(shape)` object as the first layer in the model instead.\n",
      "  super().__init__(activity_regularizer=activity_regularizer, **kwargs)\n"
     ]
    },
    {
     "name": "stdout",
     "output_type": "stream",
     "text": [
      "\u001b[1m1/1\u001b[0m \u001b[32m━━━━━━━━━━━━━━━━━━━━\u001b[0m\u001b[37m\u001b[0m \u001b[1m0s\u001b[0m 46ms/step\n"
     ]
    },
    {
     "name": "stderr",
     "output_type": "stream",
     "text": [
      "C:\\Users\\yoges\\AppData\\Roaming\\Python\\Python312\\site-packages\\keras\\src\\layers\\core\\dense.py:87: UserWarning: Do not pass an `input_shape`/`input_dim` argument to a layer. When using Sequential models, prefer using an `Input(shape)` object as the first layer in the model instead.\n",
      "  super().__init__(activity_regularizer=activity_regularizer, **kwargs)\n"
     ]
    },
    {
     "name": "stdout",
     "output_type": "stream",
     "text": [
      "\u001b[1m1/1\u001b[0m \u001b[32m━━━━━━━━━━━━━━━━━━━━\u001b[0m\u001b[37m\u001b[0m \u001b[1m0s\u001b[0m 103ms/step\n"
     ]
    },
    {
     "name": "stderr",
     "output_type": "stream",
     "text": [
      "C:\\Users\\yoges\\AppData\\Roaming\\Python\\Python312\\site-packages\\keras\\src\\layers\\core\\dense.py:87: UserWarning: Do not pass an `input_shape`/`input_dim` argument to a layer. When using Sequential models, prefer using an `Input(shape)` object as the first layer in the model instead.\n",
      "  super().__init__(activity_regularizer=activity_regularizer, **kwargs)\n"
     ]
    },
    {
     "name": "stdout",
     "output_type": "stream",
     "text": [
      "\u001b[1m1/1\u001b[0m \u001b[32m━━━━━━━━━━━━━━━━━━━━\u001b[0m\u001b[37m\u001b[0m \u001b[1m0s\u001b[0m 75ms/step\n"
     ]
    },
    {
     "name": "stderr",
     "output_type": "stream",
     "text": [
      "C:\\Users\\yoges\\AppData\\Roaming\\Python\\Python312\\site-packages\\keras\\src\\layers\\core\\dense.py:87: UserWarning: Do not pass an `input_shape`/`input_dim` argument to a layer. When using Sequential models, prefer using an `Input(shape)` object as the first layer in the model instead.\n",
      "  super().__init__(activity_regularizer=activity_regularizer, **kwargs)\n"
     ]
    },
    {
     "name": "stdout",
     "output_type": "stream",
     "text": [
      "\u001b[1m1/1\u001b[0m \u001b[32m━━━━━━━━━━━━━━━━━━━━\u001b[0m\u001b[37m\u001b[0m \u001b[1m0s\u001b[0m 48ms/step\n"
     ]
    },
    {
     "name": "stderr",
     "output_type": "stream",
     "text": [
      "C:\\Users\\yoges\\AppData\\Roaming\\Python\\Python312\\site-packages\\keras\\src\\layers\\core\\dense.py:87: UserWarning: Do not pass an `input_shape`/`input_dim` argument to a layer. When using Sequential models, prefer using an `Input(shape)` object as the first layer in the model instead.\n",
      "  super().__init__(activity_regularizer=activity_regularizer, **kwargs)\n"
     ]
    },
    {
     "name": "stdout",
     "output_type": "stream",
     "text": [
      "\u001b[1m1/1\u001b[0m \u001b[32m━━━━━━━━━━━━━━━━━━━━\u001b[0m\u001b[37m\u001b[0m \u001b[1m0s\u001b[0m 45ms/step\n"
     ]
    },
    {
     "name": "stderr",
     "output_type": "stream",
     "text": [
      "C:\\Users\\yoges\\AppData\\Roaming\\Python\\Python312\\site-packages\\keras\\src\\layers\\core\\dense.py:87: UserWarning: Do not pass an `input_shape`/`input_dim` argument to a layer. When using Sequential models, prefer using an `Input(shape)` object as the first layer in the model instead.\n",
      "  super().__init__(activity_regularizer=activity_regularizer, **kwargs)\n"
     ]
    },
    {
     "name": "stdout",
     "output_type": "stream",
     "text": [
      "\u001b[1m1/1\u001b[0m \u001b[32m━━━━━━━━━━━━━━━━━━━━\u001b[0m\u001b[37m\u001b[0m \u001b[1m0s\u001b[0m 53ms/step\n"
     ]
    },
    {
     "name": "stderr",
     "output_type": "stream",
     "text": [
      "C:\\Users\\yoges\\AppData\\Roaming\\Python\\Python312\\site-packages\\keras\\src\\layers\\core\\dense.py:87: UserWarning: Do not pass an `input_shape`/`input_dim` argument to a layer. When using Sequential models, prefer using an `Input(shape)` object as the first layer in the model instead.\n",
      "  super().__init__(activity_regularizer=activity_regularizer, **kwargs)\n"
     ]
    },
    {
     "name": "stdout",
     "output_type": "stream",
     "text": [
      "\u001b[1m1/1\u001b[0m \u001b[32m━━━━━━━━━━━━━━━━━━━━\u001b[0m\u001b[37m\u001b[0m \u001b[1m0s\u001b[0m 103ms/step\n"
     ]
    },
    {
     "name": "stderr",
     "output_type": "stream",
     "text": [
      "C:\\Users\\yoges\\AppData\\Roaming\\Python\\Python312\\site-packages\\keras\\src\\layers\\core\\dense.py:87: UserWarning: Do not pass an `input_shape`/`input_dim` argument to a layer. When using Sequential models, prefer using an `Input(shape)` object as the first layer in the model instead.\n",
      "  super().__init__(activity_regularizer=activity_regularizer, **kwargs)\n"
     ]
    },
    {
     "name": "stdout",
     "output_type": "stream",
     "text": [
      "\u001b[1m1/1\u001b[0m \u001b[32m━━━━━━━━━━━━━━━━━━━━\u001b[0m\u001b[37m\u001b[0m \u001b[1m0s\u001b[0m 47ms/step\n"
     ]
    },
    {
     "name": "stderr",
     "output_type": "stream",
     "text": [
      "C:\\Users\\yoges\\AppData\\Roaming\\Python\\Python312\\site-packages\\keras\\src\\layers\\core\\dense.py:87: UserWarning: Do not pass an `input_shape`/`input_dim` argument to a layer. When using Sequential models, prefer using an `Input(shape)` object as the first layer in the model instead.\n",
      "  super().__init__(activity_regularizer=activity_regularizer, **kwargs)\n"
     ]
    },
    {
     "name": "stdout",
     "output_type": "stream",
     "text": [
      "\u001b[1m1/1\u001b[0m \u001b[32m━━━━━━━━━━━━━━━━━━━━\u001b[0m\u001b[37m\u001b[0m \u001b[1m0s\u001b[0m 46ms/step\n"
     ]
    },
    {
     "name": "stderr",
     "output_type": "stream",
     "text": [
      "C:\\Users\\yoges\\AppData\\Roaming\\Python\\Python312\\site-packages\\keras\\src\\layers\\core\\dense.py:87: UserWarning: Do not pass an `input_shape`/`input_dim` argument to a layer. When using Sequential models, prefer using an `Input(shape)` object as the first layer in the model instead.\n",
      "  super().__init__(activity_regularizer=activity_regularizer, **kwargs)\n"
     ]
    },
    {
     "name": "stdout",
     "output_type": "stream",
     "text": [
      "\u001b[1m1/1\u001b[0m \u001b[32m━━━━━━━━━━━━━━━━━━━━\u001b[0m\u001b[37m\u001b[0m \u001b[1m0s\u001b[0m 43ms/step\n"
     ]
    },
    {
     "name": "stderr",
     "output_type": "stream",
     "text": [
      "C:\\Users\\yoges\\AppData\\Roaming\\Python\\Python312\\site-packages\\keras\\src\\layers\\core\\dense.py:87: UserWarning: Do not pass an `input_shape`/`input_dim` argument to a layer. When using Sequential models, prefer using an `Input(shape)` object as the first layer in the model instead.\n",
      "  super().__init__(activity_regularizer=activity_regularizer, **kwargs)\n"
     ]
    },
    {
     "name": "stdout",
     "output_type": "stream",
     "text": [
      "\u001b[1m1/1\u001b[0m \u001b[32m━━━━━━━━━━━━━━━━━━━━\u001b[0m\u001b[37m\u001b[0m \u001b[1m0s\u001b[0m 44ms/step\n"
     ]
    },
    {
     "name": "stderr",
     "output_type": "stream",
     "text": [
      "C:\\Users\\yoges\\AppData\\Roaming\\Python\\Python312\\site-packages\\keras\\src\\layers\\core\\dense.py:87: UserWarning: Do not pass an `input_shape`/`input_dim` argument to a layer. When using Sequential models, prefer using an `Input(shape)` object as the first layer in the model instead.\n",
      "  super().__init__(activity_regularizer=activity_regularizer, **kwargs)\n"
     ]
    },
    {
     "name": "stdout",
     "output_type": "stream",
     "text": [
      "\u001b[1m1/1\u001b[0m \u001b[32m━━━━━━━━━━━━━━━━━━━━\u001b[0m\u001b[37m\u001b[0m \u001b[1m0s\u001b[0m 41ms/step\n",
      "               Group  Pearson_r        RE\n",
      "0     White American   0.568806  0.271500\n",
      "1     White American   0.099193  0.428827\n",
      "2     White American   0.247788  0.244246\n",
      "3     White American   0.039723  0.270808\n",
      "4     White American   0.226198  0.247383\n",
      "5   African American   0.065673  0.257772\n",
      "6   African American   0.460233  0.298432\n",
      "7   African American  -0.419763  0.372280\n",
      "8   African American   0.300419  0.412885\n",
      "9   African American  -0.270650  0.325802\n",
      "10          Hispanic  -0.733345  0.367325\n",
      "11          Hispanic   0.976923  0.330850\n",
      "12          Hispanic   0.875477  0.325735\n",
      "13          Hispanic  -0.007859  0.368758\n",
      "14          Hispanic   0.481970  0.477970\n",
      "\n",
      "=== Groupwise by Gender × Race (DL) ===\n"
     ]
    },
    {
     "name": "stderr",
     "output_type": "stream",
     "text": [
      "C:\\Users\\yoges\\AppData\\Roaming\\Python\\Python312\\site-packages\\keras\\src\\layers\\core\\dense.py:87: UserWarning: Do not pass an `input_shape`/`input_dim` argument to a layer. When using Sequential models, prefer using an `Input(shape)` object as the first layer in the model instead.\n",
      "  super().__init__(activity_regularizer=activity_regularizer, **kwargs)\n"
     ]
    },
    {
     "name": "stdout",
     "output_type": "stream",
     "text": [
      "\u001b[1m1/1\u001b[0m \u001b[32m━━━━━━━━━━━━━━━━━━━━\u001b[0m\u001b[37m\u001b[0m \u001b[1m0s\u001b[0m 45ms/step\n"
     ]
    },
    {
     "name": "stderr",
     "output_type": "stream",
     "text": [
      "C:\\Users\\yoges\\AppData\\Roaming\\Python\\Python312\\site-packages\\keras\\src\\layers\\core\\dense.py:87: UserWarning: Do not pass an `input_shape`/`input_dim` argument to a layer. When using Sequential models, prefer using an `Input(shape)` object as the first layer in the model instead.\n",
      "  super().__init__(activity_regularizer=activity_regularizer, **kwargs)\n"
     ]
    },
    {
     "name": "stdout",
     "output_type": "stream",
     "text": [
      "\u001b[1m1/1\u001b[0m \u001b[32m━━━━━━━━━━━━━━━━━━━━\u001b[0m\u001b[37m\u001b[0m \u001b[1m0s\u001b[0m 46ms/step\n"
     ]
    },
    {
     "name": "stderr",
     "output_type": "stream",
     "text": [
      "C:\\Users\\yoges\\AppData\\Roaming\\Python\\Python312\\site-packages\\keras\\src\\layers\\core\\dense.py:87: UserWarning: Do not pass an `input_shape`/`input_dim` argument to a layer. When using Sequential models, prefer using an `Input(shape)` object as the first layer in the model instead.\n",
      "  super().__init__(activity_regularizer=activity_regularizer, **kwargs)\n"
     ]
    },
    {
     "name": "stdout",
     "output_type": "stream",
     "text": [
      "\u001b[1m1/1\u001b[0m \u001b[32m━━━━━━━━━━━━━━━━━━━━\u001b[0m\u001b[37m\u001b[0m \u001b[1m0s\u001b[0m 45ms/step\n"
     ]
    },
    {
     "name": "stderr",
     "output_type": "stream",
     "text": [
      "C:\\Users\\yoges\\AppData\\Roaming\\Python\\Python312\\site-packages\\keras\\src\\layers\\core\\dense.py:87: UserWarning: Do not pass an `input_shape`/`input_dim` argument to a layer. When using Sequential models, prefer using an `Input(shape)` object as the first layer in the model instead.\n",
      "  super().__init__(activity_regularizer=activity_regularizer, **kwargs)\n"
     ]
    },
    {
     "name": "stdout",
     "output_type": "stream",
     "text": [
      "\u001b[1m1/1\u001b[0m \u001b[32m━━━━━━━━━━━━━━━━━━━━\u001b[0m\u001b[37m\u001b[0m \u001b[1m0s\u001b[0m 55ms/step\n"
     ]
    },
    {
     "name": "stderr",
     "output_type": "stream",
     "text": [
      "C:\\Users\\yoges\\AppData\\Roaming\\Python\\Python312\\site-packages\\keras\\src\\layers\\core\\dense.py:87: UserWarning: Do not pass an `input_shape`/`input_dim` argument to a layer. When using Sequential models, prefer using an `Input(shape)` object as the first layer in the model instead.\n",
      "  super().__init__(activity_regularizer=activity_regularizer, **kwargs)\n"
     ]
    },
    {
     "name": "stdout",
     "output_type": "stream",
     "text": [
      "\u001b[1m1/1\u001b[0m \u001b[32m━━━━━━━━━━━━━━━━━━━━\u001b[0m\u001b[37m\u001b[0m \u001b[1m0s\u001b[0m 41ms/step\n"
     ]
    },
    {
     "name": "stderr",
     "output_type": "stream",
     "text": [
      "C:\\Users\\yoges\\AppData\\Roaming\\Python\\Python312\\site-packages\\keras\\src\\layers\\core\\dense.py:87: UserWarning: Do not pass an `input_shape`/`input_dim` argument to a layer. When using Sequential models, prefer using an `Input(shape)` object as the first layer in the model instead.\n",
      "  super().__init__(activity_regularizer=activity_regularizer, **kwargs)\n"
     ]
    },
    {
     "name": "stdout",
     "output_type": "stream",
     "text": [
      "\u001b[1m1/1\u001b[0m \u001b[32m━━━━━━━━━━━━━━━━━━━━\u001b[0m\u001b[37m\u001b[0m \u001b[1m0s\u001b[0m 46ms/step\n"
     ]
    },
    {
     "name": "stderr",
     "output_type": "stream",
     "text": [
      "C:\\Users\\yoges\\AppData\\Roaming\\Python\\Python312\\site-packages\\keras\\src\\layers\\core\\dense.py:87: UserWarning: Do not pass an `input_shape`/`input_dim` argument to a layer. When using Sequential models, prefer using an `Input(shape)` object as the first layer in the model instead.\n",
      "  super().__init__(activity_regularizer=activity_regularizer, **kwargs)\n"
     ]
    },
    {
     "name": "stdout",
     "output_type": "stream",
     "text": [
      "\u001b[1m1/1\u001b[0m \u001b[32m━━━━━━━━━━━━━━━━━━━━\u001b[0m\u001b[37m\u001b[0m \u001b[1m0s\u001b[0m 44ms/step\n"
     ]
    },
    {
     "name": "stderr",
     "output_type": "stream",
     "text": [
      "C:\\Users\\yoges\\AppData\\Roaming\\Python\\Python312\\site-packages\\keras\\src\\layers\\core\\dense.py:87: UserWarning: Do not pass an `input_shape`/`input_dim` argument to a layer. When using Sequential models, prefer using an `Input(shape)` object as the first layer in the model instead.\n",
      "  super().__init__(activity_regularizer=activity_regularizer, **kwargs)\n"
     ]
    },
    {
     "name": "stdout",
     "output_type": "stream",
     "text": [
      "\u001b[1m1/1\u001b[0m \u001b[32m━━━━━━━━━━━━━━━━━━━━\u001b[0m\u001b[37m\u001b[0m \u001b[1m0s\u001b[0m 43ms/step\n"
     ]
    },
    {
     "name": "stderr",
     "output_type": "stream",
     "text": [
      "C:\\Users\\yoges\\AppData\\Roaming\\Python\\Python312\\site-packages\\keras\\src\\layers\\core\\dense.py:87: UserWarning: Do not pass an `input_shape`/`input_dim` argument to a layer. When using Sequential models, prefer using an `Input(shape)` object as the first layer in the model instead.\n",
      "  super().__init__(activity_regularizer=activity_regularizer, **kwargs)\n"
     ]
    },
    {
     "name": "stdout",
     "output_type": "stream",
     "text": [
      "\u001b[1m1/1\u001b[0m \u001b[32m━━━━━━━━━━━━━━━━━━━━\u001b[0m\u001b[37m\u001b[0m \u001b[1m0s\u001b[0m 43ms/step\n"
     ]
    },
    {
     "name": "stderr",
     "output_type": "stream",
     "text": [
      "C:\\Users\\yoges\\AppData\\Roaming\\Python\\Python312\\site-packages\\keras\\src\\layers\\core\\dense.py:87: UserWarning: Do not pass an `input_shape`/`input_dim` argument to a layer. When using Sequential models, prefer using an `Input(shape)` object as the first layer in the model instead.\n",
      "  super().__init__(activity_regularizer=activity_regularizer, **kwargs)\n"
     ]
    },
    {
     "name": "stdout",
     "output_type": "stream",
     "text": [
      "\u001b[1m1/1\u001b[0m \u001b[32m━━━━━━━━━━━━━━━━━━━━\u001b[0m\u001b[37m\u001b[0m \u001b[1m0s\u001b[0m 43ms/step\n"
     ]
    },
    {
     "name": "stderr",
     "output_type": "stream",
     "text": [
      "C:\\Users\\yoges\\AppData\\Local\\Temp\\ipykernel_6892\\3656396066.py:41: ConstantInputWarning: An input array is constant; the correlation coefficient is not defined.\n",
      "  r, _ = pearsonr(y_test, y_pred)\n",
      "C:\\Users\\yoges\\AppData\\Roaming\\Python\\Python312\\site-packages\\keras\\src\\layers\\core\\dense.py:87: UserWarning: Do not pass an `input_shape`/`input_dim` argument to a layer. When using Sequential models, prefer using an `Input(shape)` object as the first layer in the model instead.\n",
      "  super().__init__(activity_regularizer=activity_regularizer, **kwargs)\n"
     ]
    },
    {
     "name": "stdout",
     "output_type": "stream",
     "text": [
      "\u001b[1m1/1\u001b[0m \u001b[32m━━━━━━━━━━━━━━━━━━━━\u001b[0m\u001b[37m\u001b[0m \u001b[1m0s\u001b[0m 43ms/step\n"
     ]
    },
    {
     "name": "stderr",
     "output_type": "stream",
     "text": [
      "C:\\Users\\yoges\\AppData\\Roaming\\Python\\Python312\\site-packages\\keras\\src\\layers\\core\\dense.py:87: UserWarning: Do not pass an `input_shape`/`input_dim` argument to a layer. When using Sequential models, prefer using an `Input(shape)` object as the first layer in the model instead.\n",
      "  super().__init__(activity_regularizer=activity_regularizer, **kwargs)\n"
     ]
    },
    {
     "name": "stdout",
     "output_type": "stream",
     "text": [
      "\u001b[1m1/1\u001b[0m \u001b[32m━━━━━━━━━━━━━━━━━━━━\u001b[0m\u001b[37m\u001b[0m \u001b[1m0s\u001b[0m 45ms/step\n"
     ]
    },
    {
     "name": "stderr",
     "output_type": "stream",
     "text": [
      "C:\\Users\\yoges\\AppData\\Roaming\\Python\\Python312\\site-packages\\keras\\src\\layers\\core\\dense.py:87: UserWarning: Do not pass an `input_shape`/`input_dim` argument to a layer. When using Sequential models, prefer using an `Input(shape)` object as the first layer in the model instead.\n",
      "  super().__init__(activity_regularizer=activity_regularizer, **kwargs)\n"
     ]
    },
    {
     "name": "stdout",
     "output_type": "stream",
     "text": [
      "\u001b[1m1/1\u001b[0m \u001b[32m━━━━━━━━━━━━━━━━━━━━\u001b[0m\u001b[37m\u001b[0m \u001b[1m0s\u001b[0m 53ms/step\n"
     ]
    },
    {
     "name": "stderr",
     "output_type": "stream",
     "text": [
      "C:\\Users\\yoges\\AppData\\Roaming\\Python\\Python312\\site-packages\\keras\\src\\layers\\core\\dense.py:87: UserWarning: Do not pass an `input_shape`/`input_dim` argument to a layer. When using Sequential models, prefer using an `Input(shape)` object as the first layer in the model instead.\n",
      "  super().__init__(activity_regularizer=activity_regularizer, **kwargs)\n"
     ]
    },
    {
     "name": "stdout",
     "output_type": "stream",
     "text": [
      "\u001b[1m1/1\u001b[0m \u001b[32m━━━━━━━━━━━━━━━━━━━━\u001b[0m\u001b[37m\u001b[0m \u001b[1m0s\u001b[0m 47ms/step\n"
     ]
    },
    {
     "name": "stderr",
     "output_type": "stream",
     "text": [
      "C:\\Users\\yoges\\AppData\\Roaming\\Python\\Python312\\site-packages\\keras\\src\\layers\\core\\dense.py:87: UserWarning: Do not pass an `input_shape`/`input_dim` argument to a layer. When using Sequential models, prefer using an `Input(shape)` object as the first layer in the model instead.\n",
      "  super().__init__(activity_regularizer=activity_regularizer, **kwargs)\n"
     ]
    },
    {
     "name": "stdout",
     "output_type": "stream",
     "text": [
      "\u001b[1m1/1\u001b[0m \u001b[32m━━━━━━━━━━━━━━━━━━━━\u001b[0m\u001b[37m\u001b[0m \u001b[1m0s\u001b[0m 45ms/step\n"
     ]
    },
    {
     "name": "stderr",
     "output_type": "stream",
     "text": [
      "C:\\Users\\yoges\\AppData\\Roaming\\Python\\Python312\\site-packages\\keras\\src\\layers\\core\\dense.py:87: UserWarning: Do not pass an `input_shape`/`input_dim` argument to a layer. When using Sequential models, prefer using an `Input(shape)` object as the first layer in the model instead.\n",
      "  super().__init__(activity_regularizer=activity_regularizer, **kwargs)\n"
     ]
    },
    {
     "name": "stdout",
     "output_type": "stream",
     "text": [
      "\u001b[1m1/1\u001b[0m \u001b[32m━━━━━━━━━━━━━━━━━━━━\u001b[0m\u001b[37m\u001b[0m \u001b[1m0s\u001b[0m 45ms/step\n"
     ]
    },
    {
     "name": "stderr",
     "output_type": "stream",
     "text": [
      "C:\\Users\\yoges\\AppData\\Roaming\\Python\\Python312\\site-packages\\keras\\src\\layers\\core\\dense.py:87: UserWarning: Do not pass an `input_shape`/`input_dim` argument to a layer. When using Sequential models, prefer using an `Input(shape)` object as the first layer in the model instead.\n",
      "  super().__init__(activity_regularizer=activity_regularizer, **kwargs)\n"
     ]
    },
    {
     "name": "stdout",
     "output_type": "stream",
     "text": [
      "\u001b[1m1/1\u001b[0m \u001b[32m━━━━━━━━━━━━━━━━━━━━\u001b[0m\u001b[37m\u001b[0m \u001b[1m0s\u001b[0m 48ms/step\n"
     ]
    },
    {
     "name": "stderr",
     "output_type": "stream",
     "text": [
      "C:\\Users\\yoges\\AppData\\Roaming\\Python\\Python312\\site-packages\\keras\\src\\layers\\core\\dense.py:87: UserWarning: Do not pass an `input_shape`/`input_dim` argument to a layer. When using Sequential models, prefer using an `Input(shape)` object as the first layer in the model instead.\n",
      "  super().__init__(activity_regularizer=activity_regularizer, **kwargs)\n"
     ]
    },
    {
     "name": "stdout",
     "output_type": "stream",
     "text": [
      "\u001b[1m1/1\u001b[0m \u001b[32m━━━━━━━━━━━━━━━━━━━━\u001b[0m\u001b[37m\u001b[0m \u001b[1m0s\u001b[0m 45ms/step\n"
     ]
    },
    {
     "name": "stderr",
     "output_type": "stream",
     "text": [
      "C:\\Users\\yoges\\AppData\\Roaming\\Python\\Python312\\site-packages\\keras\\src\\layers\\core\\dense.py:87: UserWarning: Do not pass an `input_shape`/`input_dim` argument to a layer. When using Sequential models, prefer using an `Input(shape)` object as the first layer in the model instead.\n",
      "  super().__init__(activity_regularizer=activity_regularizer, **kwargs)\n"
     ]
    },
    {
     "name": "stdout",
     "output_type": "stream",
     "text": [
      "\u001b[1m1/1\u001b[0m \u001b[32m━━━━━━━━━━━━━━━━━━━━\u001b[0m\u001b[37m\u001b[0m \u001b[1m0s\u001b[0m 46ms/step\n"
     ]
    },
    {
     "name": "stderr",
     "output_type": "stream",
     "text": [
      "C:\\Users\\yoges\\AppData\\Roaming\\Python\\Python312\\site-packages\\keras\\src\\layers\\core\\dense.py:87: UserWarning: Do not pass an `input_shape`/`input_dim` argument to a layer. When using Sequential models, prefer using an `Input(shape)` object as the first layer in the model instead.\n",
      "  super().__init__(activity_regularizer=activity_regularizer, **kwargs)\n"
     ]
    },
    {
     "name": "stdout",
     "output_type": "stream",
     "text": [
      "\u001b[1m1/1\u001b[0m \u001b[32m━━━━━━━━━━━━━━━━━━━━\u001b[0m\u001b[37m\u001b[0m \u001b[1m0s\u001b[0m 45ms/step\n"
     ]
    },
    {
     "name": "stderr",
     "output_type": "stream",
     "text": [
      "C:\\Users\\yoges\\AppData\\Roaming\\Python\\Python312\\site-packages\\keras\\src\\layers\\core\\dense.py:87: UserWarning: Do not pass an `input_shape`/`input_dim` argument to a layer. When using Sequential models, prefer using an `Input(shape)` object as the first layer in the model instead.\n",
      "  super().__init__(activity_regularizer=activity_regularizer, **kwargs)\n"
     ]
    },
    {
     "name": "stdout",
     "output_type": "stream",
     "text": [
      "\u001b[1m1/1\u001b[0m \u001b[32m━━━━━━━━━━━━━━━━━━━━\u001b[0m\u001b[37m\u001b[0m \u001b[1m0s\u001b[0m 45ms/step\n"
     ]
    },
    {
     "name": "stderr",
     "output_type": "stream",
     "text": [
      "C:\\Users\\yoges\\AppData\\Roaming\\Python\\Python312\\site-packages\\keras\\src\\layers\\core\\dense.py:87: UserWarning: Do not pass an `input_shape`/`input_dim` argument to a layer. When using Sequential models, prefer using an `Input(shape)` object as the first layer in the model instead.\n",
      "  super().__init__(activity_regularizer=activity_regularizer, **kwargs)\n"
     ]
    },
    {
     "name": "stdout",
     "output_type": "stream",
     "text": [
      "\u001b[1m1/1\u001b[0m \u001b[32m━━━━━━━━━━━━━━━━━━━━\u001b[0m\u001b[37m\u001b[0m \u001b[1m0s\u001b[0m 44ms/step\n"
     ]
    },
    {
     "name": "stderr",
     "output_type": "stream",
     "text": [
      "C:\\Users\\yoges\\AppData\\Roaming\\Python\\Python312\\site-packages\\keras\\src\\layers\\core\\dense.py:87: UserWarning: Do not pass an `input_shape`/`input_dim` argument to a layer. When using Sequential models, prefer using an `Input(shape)` object as the first layer in the model instead.\n",
      "  super().__init__(activity_regularizer=activity_regularizer, **kwargs)\n"
     ]
    },
    {
     "name": "stdout",
     "output_type": "stream",
     "text": [
      "\u001b[1m1/1\u001b[0m \u001b[32m━━━━━━━━━━━━━━━━━━━━\u001b[0m\u001b[37m\u001b[0m \u001b[1m0s\u001b[0m 47ms/step\n",
      "                        Group  Pearson_r        RE\n",
      "0     Female - White American  -1.000000  0.688899\n",
      "1     Female - White American  -1.000000  0.926157\n",
      "2     Female - White American   0.175175  0.414969\n",
      "3     Female - White American  -0.005636  0.540300\n",
      "4     Female - White American   0.989926  0.422506\n",
      "5     Male - African American  -0.991904  0.516596\n",
      "6     Male - African American  -0.212637  0.371042\n",
      "7     Male - African American   1.000000  0.497120\n",
      "8     Male - African American  -0.339934  0.444991\n",
      "9             Male - Hispanic        NaN       inf\n",
      "10            Male - Hispanic   0.923745  0.324045\n",
      "11            Male - Hispanic   0.832605  0.506781\n",
      "12            Male - Hispanic   0.614670  0.490292\n",
      "13      Male - White American   0.036858  0.378030\n",
      "14      Male - White American   0.235300  0.499036\n",
      "15      Male - White American  -0.401046  0.272212\n",
      "16      Male - White American  -0.387305  0.508595\n",
      "17      Male - White American   0.650711  0.267508\n",
      "18  Female - African American  -0.380981  0.311823\n",
      "19  Female - African American   0.401625  0.452856\n",
      "20  Female - African American   0.261774  0.436986\n",
      "21  Female - African American   1.000000  0.493690\n",
      "22  Female - African American   0.521860  0.443103\n"
     ]
    }
   ],
   "source": [
    "print(\"=== Groupwise by Gender (RF) ===\")\n",
    "groupwise_gender_rf = evaluate_groupwise_by_fold(depression_df, group_column=\"Gender\", model_type='rf')\n",
    "print(groupwise_gender_rf)\n",
    "\n",
    "print(\"\\n=== Groupwise by Race (RF) ===\")\n",
    "groupwise_race_rf = evaluate_groupwise_by_fold(depression_df, group_column=\"Race\", model_type='rf')\n",
    "print(groupwise_race_rf)\n",
    "\n",
    "print(\"\\n=== Groupwise by Gender × Race (RF) ===\")\n",
    "groupwise_intersect_rf = evaluate_groupwise_by_fold(depression_df, group_column=\"Group\", model_type='rf')\n",
    "print(groupwise_intersect_rf)\n",
    "\n",
    "print(\"\\n=== Groupwise by Gender (DL) ===\")\n",
    "groupwise_gender_dl = evaluate_groupwise_by_fold(depression_df, group_column=\"Gender\", model_type='dl')\n",
    "print(groupwise_gender_dl)\n",
    "\n",
    "print(\"\\n=== Groupwise by Race (DL) ===\")\n",
    "groupwise_race_dl = evaluate_groupwise_by_fold(depression_df, group_column=\"Race\", model_type='dl')\n",
    "print(groupwise_race_dl)\n",
    "\n",
    "print(\"\\n=== Groupwise by Gender × Race (DL) ===\")\n",
    "groupwise_intersect_dl = evaluate_groupwise_by_fold(depression_df, group_column=\"Group\", model_type='dl')\n",
    "print(groupwise_intersect_dl)\n"
   ]
  },
  {
   "cell_type": "code",
   "execution_count": 40,
   "id": "ea137d6a",
   "metadata": {},
   "outputs": [
    {
     "data": {
      "image/png": "[encoded data removed]",
      "text/plain": [
       "<Figure size 1400x600 with 2 Axes>"
      ]
     },
     "metadata": {},
     "output_type": "display_data"
    }
   ],
   "source": [
    "import matplotlib.pyplot as plt\n",
    "\n",
    "k_vals = [x[0] for x in results_rf]\n",
    "r_rf_vals = [x[1] for x in results_rf]\n",
    "re_rf_vals = [x[2] for x in results_rf]\n",
    "r_dl_vals = [x[1] for x in results_dl]\n",
    "re_dl_vals = [x[2] for x in results_dl]\n",
    "\n",
    "fig, axs = plt.subplots(1, 2, figsize=(14, 6))\n",
    "\n",
    "axs[0].plot(k_vals, r_rf_vals, marker='o', linestyle='--', label='Random Forest r')\n",
    "axs[0].plot(k_vals, r_dl_vals, marker='s', linestyle='-', label='Deep Learning r')\n",
    "axs[0].set_title('Pearson Correlation (r) vs Number of Features')\n",
    "axs[0].set_xlabel('Number of Selected Features (k)')\n",
    "axs[0].set_ylabel('Pearson r')\n",
    "axs[0].legend()\n",
    "axs[0].grid(True)\n",
    "\n",
    "axs[1].plot(k_vals, re_rf_vals, marker='o', linestyle='--', label='Random Forest RE')\n",
    "axs[1].plot(k_vals, re_dl_vals, marker='s', linestyle='-', label='Deep Learning RE')\n",
    "axs[1].set_title('Relative Error (RE) vs Number of Features')\n",
    "axs[1].set_xlabel('Number of Selected Features (k)')\n",
    "axs[1].set_ylabel('Absolute Relative Error (RE)')\n",
    "axs[1].legend()\n",
    "axs[1].grid(True)\n",
    "\n",
    "plt.suptitle(\"Depression Severity Estimation: Random Forest vs Deep Learning\", fontsize=14)\n",
    "plt.tight_layout(rect=[0, 0, 1, 0.96])\n",
    "plt.show()\n"
   ]
  },
  {
   "cell_type": "markdown",
   "id": "cfaac981",
   "metadata": {},
   "source": [
    "% Left Plot [Pearson Correlation (r)]:\n",
    "- Deep Learning peaks at k = 40 with r ≈ 0.334, showing strong correlation between predicted and actual depression scores.\n",
    "- Random Forest improves slightly up to k = 40 (r ≈ 0.197), but its performance is limited and drops again at k = 50.\n",
    "- Deep Learning captures richer relationships from language features, while Random Forest appears constrained by its simplicity.\n",
    "\n",
    "\n",
    "% Right Plot [Relative Error (RE)]:\n",
    "- Deep Learning consistently achieves lower RE, reaching its best at k = 30 (RE ≈ 0.222) and stays stable afterward.\n",
    "\n",
    "- Random Forest maintains higher error across all k values (between 0.236 and 0.251), showing it’s less precise.\n",
    "\n",
    "- The gap in RE between the two models becomes clear as more features are added.\n",
    "\n",
    "\n",
    "\n",
    "% Final Results:\n",
    "- Deep Learning shows more predictive power, especially in how well it tracks actual PHQ scores.\n",
    "\n",
    "- Random Forest performs steadily but cannot match deep learning, especially in correlation.\n",
    "\n",
    "- When estimating depression severity from conversations, deep learning is better at recognizing subtle patterns in language, especially when enough features are provided (k = 30 to 40).\n",
    "\n",
    "- While both models are useful, deep learning offers better accuracy and correlation, making it more suitable for sensitive tasks like mental health prediction."
   ]
  },
  {
   "cell_type": "markdown",
   "id": "26f93866",
   "metadata": {},
   "source": [
    "#### e) Mitigating bias via reducing socio-demographic dependencies in features"
   ]
  },
  {
   "cell_type": "code",
   "execution_count": 41,
   "id": "b94540b5",
   "metadata": {},
   "outputs": [
    {
     "name": "stdout",
     "output_type": "stream",
     "text": [
      "Race mapping: {'African American': 0, 'Hispanic': 1, 'White American': 2}\n"
     ]
    }
   ],
   "source": [
    "from sklearn.preprocessing import LabelEncoder\n",
    "model_df = model_df.copy()\n",
    "\n",
    "# Encoding Gender & Race\n",
    "\n",
    "model_df = model_df[model_df[\"Gender_Code\"].isin([1, 2])].copy()\n",
    "# Converts gender to binary: Female = 0, Male = 1\n",
    "model_df[\"Gender_Label\"] = model_df[\"Gender_Code\"].map({2: 0, 1: 1})  # 2=Female, 1=Male\n",
    "\n",
    "# Converts race to numeric using label encoding\n",
    "race_encoder = LabelEncoder()\n",
    "model_df[\"Race_Label\"] = race_encoder.fit_transform(model_df[\"Race\"])\n",
    "\n",
    "print(\"Race mapping:\", dict(zip(race_encoder.classes_, race_encoder.transform(race_encoder.classes_))))\n"
   ]
  },
  {
   "cell_type": "code",
   "execution_count": 42,
   "id": "7d26dfe6",
   "metadata": {},
   "outputs": [],
   "source": [
    "# Features - Choosing only numerical features  like TF IDF scores and the sentiment values excluding below mentioned features\n",
    "feature_cols = model_df.select_dtypes(include='number').columns.difference(\n",
    "    [\"Participant_ID\", \"PHQ_Score\", \"Race_Label\", \"Gender_Label\"]\n",
    ")\n"
   ]
  },
  {
   "cell_type": "code",
   "execution_count": 43,
   "id": "0010c9b0",
   "metadata": {},
   "outputs": [
    {
     "name": "stdout",
     "output_type": "stream",
     "text": [
      "Top Gender Features: ['areas', 'boyfriend', 'child', 'friend', 'girlfriend', 'husband', 'kids', 'love', 'meet', 'neg', 'play', 'really', 'son', 'stay', 'taught', 'thoughts', 'travel', 'ways', 'wife', 'wonderful']\n",
      "Top Race Features: ['baby', 'bed', 'city', 'control', 'controlling', 'day', 'differently', 'does', 'handled', 'hardest', 'kind', 'learning', 'loving', 'party', 'people', 'relax', 'sad', 'school', 'state', 'temper']\n"
     ]
    }
   ],
   "source": [
    "from sklearn.feature_selection import SelectKBest, f_classif\n",
    "\n",
    "# Defining n and m\n",
    "n = 20  # Top gender-informative features\n",
    "m = 20  # Top race-informative features\n",
    "\n",
    "# Gender features\n",
    "X_gender = model_df[feature_cols]\n",
    "y_gender = model_df[\"Gender_Label\"]\n",
    "selector_gender = SelectKBest(score_func=f_classif, k=n).fit(X_gender, y_gender)\n",
    "gender_feats = feature_cols[selector_gender.get_support()].tolist()\n",
    "\n",
    "# Race features\n",
    "X_race = model_df[feature_cols]\n",
    "y_race = model_df[\"Race_Label\"]\n",
    "selector_race = SelectKBest(score_func=f_classif, k=m).fit(X_race, y_race)\n",
    "race_feats = feature_cols[selector_race.get_support()].tolist()\n",
    "\n",
    "print(\"Top Gender Features:\", gender_feats)\n",
    "print(\"Top Race Features:\", race_feats)\n"
   ]
  },
  {
   "cell_type": "code",
   "execution_count": 44,
   "id": "31f3507b",
   "metadata": {},
   "outputs": [
    {
     "name": "stdout",
     "output_type": "stream",
     "text": [
      "Remaining fair features: 465\n"
     ]
    }
   ],
   "source": [
    "# Combine and remove duplicates\n",
    "bias_feats = list(set(gender_feats + race_feats))\n",
    "\n",
    "# Removes Biased features from Modeling\n",
    "fair_feature_cols = [col for col in feature_cols if col not in bias_feats]\n",
    "print(f\"Remaining fair features: {len(fair_feature_cols)}\")\n"
   ]
  },
  {
   "cell_type": "code",
   "execution_count": 45,
   "id": "aa2922b5",
   "metadata": {},
   "outputs": [],
   "source": [
    "# Drop rows with missing values in PHQ score or demographic info\n",
    "fair_df = model_df.dropna(subset=[\"PHQ_Score\", \"Gender_Label\", \"Race_Label\"])\n",
    "\n",
    "# Intersection group (e.g., Female - Hispanic)\n",
    "gender_map = {0: \"Female\", 1: \"Male\"}\n",
    "race_names = race_encoder.inverse_transform(fair_df[\"Race_Label\"])\n",
    "fair_df[\"Group\"] = fair_df[\"Gender_Label\"].map(gender_map) + \" - \" + race_names\n",
    "\n",
    "X_fair = fair_df[fair_feature_cols]\n",
    "y_fair = fair_df[\"PHQ_Score\"]\n"
   ]
  },
  {
   "cell_type": "code",
   "execution_count": 46,
   "id": "3cd9b6f0",
   "metadata": {},
   "outputs": [],
   "source": [
    "# Assigns higher weights to underrepresented groups which helps the models not be biased toward majority classes\n",
    "group_counts = fair_df[\"Group\"].value_counts()\n",
    "weights = fair_df[\"Group\"].apply(lambda g: 1 / group_counts[g])\n"
   ]
  },
  {
   "cell_type": "code",
   "execution_count": 47,
   "id": "1a24c4b5",
   "metadata": {},
   "outputs": [
    {
     "name": "stdout",
     "output_type": "stream",
     "text": [
      " Debiased RF → Pearson r: 0.1944 | RE: 0.2220\n"
     ]
    }
   ],
   "source": [
    "from sklearn.ensemble import RandomForestRegressor\n",
    "from sklearn.model_selection import StratifiedKFold\n",
    "from scipy.stats import pearsonr\n",
    "import numpy as np\n",
    "\n",
    "skf = StratifiedKFold(n_splits=5, shuffle=True, random_state=42)\n",
    "r_rf_list, re_rf_list = [], []\n",
    "\n",
    "for train_idx, test_idx in skf.split(fair_df, fair_df[\"Group\"]):\n",
    "    X_train, X_test = X_fair.iloc[train_idx], X_fair.iloc[test_idx]\n",
    "    y_train, y_test = y_fair.iloc[train_idx], y_fair.iloc[test_idx]\n",
    "    w_train = weights.iloc[train_idx]\n",
    "\n",
    "    rf = RandomForestRegressor(n_estimators=100, random_state=42)\n",
    "    rf.fit(X_train, y_train, sample_weight=w_train)\n",
    "    y_pred = rf.predict(X_test)\n",
    "\n",
    "    r, _ = pearsonr(y_test, y_pred)\n",
    "    re = np.mean(np.abs(y_pred - y_test) / y_test.max())\n",
    "    r_rf_list.append(r)\n",
    "    re_rf_list.append(re)\n",
    "\n",
    "r_rf = np.mean(r_rf_list)\n",
    "re_rf = np.mean(re_rf_list)\n",
    "print(f\" Debiased RF → Pearson r: {r_rf:.4f} | RE: {re_rf:.4f}\")\n"
   ]
  },
  {
   "cell_type": "code",
   "execution_count": 48,
   "id": "e0a92d38",
   "metadata": {},
   "outputs": [
    {
     "name": "stderr",
     "output_type": "stream",
     "text": [
      "C:\\Users\\yoges\\AppData\\Roaming\\Python\\Python312\\site-packages\\keras\\src\\layers\\core\\dense.py:87: UserWarning: Do not pass an `input_shape`/`input_dim` argument to a layer. When using Sequential models, prefer using an `Input(shape)` object as the first layer in the model instead.\n",
      "  super().__init__(activity_regularizer=activity_regularizer, **kwargs)\n"
     ]
    },
    {
     "name": "stdout",
     "output_type": "stream",
     "text": [
      "\u001b[1m1/1\u001b[0m \u001b[32m━━━━━━━━━━━━━━━━━━━━\u001b[0m\u001b[37m\u001b[0m \u001b[1m0s\u001b[0m 54ms/step\n"
     ]
    },
    {
     "name": "stderr",
     "output_type": "stream",
     "text": [
      "C:\\Users\\yoges\\AppData\\Roaming\\Python\\Python312\\site-packages\\keras\\src\\layers\\core\\dense.py:87: UserWarning: Do not pass an `input_shape`/`input_dim` argument to a layer. When using Sequential models, prefer using an `Input(shape)` object as the first layer in the model instead.\n",
      "  super().__init__(activity_regularizer=activity_regularizer, **kwargs)\n"
     ]
    },
    {
     "name": "stdout",
     "output_type": "stream",
     "text": [
      "\u001b[1m1/1\u001b[0m \u001b[32m━━━━━━━━━━━━━━━━━━━━\u001b[0m\u001b[37m\u001b[0m \u001b[1m0s\u001b[0m 44ms/step\n"
     ]
    },
    {
     "name": "stderr",
     "output_type": "stream",
     "text": [
      "C:\\Users\\yoges\\AppData\\Roaming\\Python\\Python312\\site-packages\\keras\\src\\layers\\core\\dense.py:87: UserWarning: Do not pass an `input_shape`/`input_dim` argument to a layer. When using Sequential models, prefer using an `Input(shape)` object as the first layer in the model instead.\n",
      "  super().__init__(activity_regularizer=activity_regularizer, **kwargs)\n"
     ]
    },
    {
     "name": "stdout",
     "output_type": "stream",
     "text": [
      "\u001b[1m1/1\u001b[0m \u001b[32m━━━━━━━━━━━━━━━━━━━━\u001b[0m\u001b[37m\u001b[0m \u001b[1m0s\u001b[0m 43ms/step\n"
     ]
    },
    {
     "name": "stderr",
     "output_type": "stream",
     "text": [
      "C:\\Users\\yoges\\AppData\\Roaming\\Python\\Python312\\site-packages\\keras\\src\\layers\\core\\dense.py:87: UserWarning: Do not pass an `input_shape`/`input_dim` argument to a layer. When using Sequential models, prefer using an `Input(shape)` object as the first layer in the model instead.\n",
      "  super().__init__(activity_regularizer=activity_regularizer, **kwargs)\n"
     ]
    },
    {
     "name": "stdout",
     "output_type": "stream",
     "text": [
      "\u001b[1m1/1\u001b[0m \u001b[32m━━━━━━━━━━━━━━━━━━━━\u001b[0m\u001b[37m\u001b[0m \u001b[1m0s\u001b[0m 45ms/step\n"
     ]
    },
    {
     "name": "stderr",
     "output_type": "stream",
     "text": [
      "C:\\Users\\yoges\\AppData\\Roaming\\Python\\Python312\\site-packages\\keras\\src\\layers\\core\\dense.py:87: UserWarning: Do not pass an `input_shape`/`input_dim` argument to a layer. When using Sequential models, prefer using an `Input(shape)` object as the first layer in the model instead.\n",
      "  super().__init__(activity_regularizer=activity_regularizer, **kwargs)\n"
     ]
    },
    {
     "name": "stdout",
     "output_type": "stream",
     "text": [
      "\u001b[1m1/1\u001b[0m \u001b[32m━━━━━━━━━━━━━━━━━━━━\u001b[0m\u001b[37m\u001b[0m \u001b[1m0s\u001b[0m 45ms/step\n",
      " Debiased DL → Pearson r: 0.1395 | RE: 0.2212\n"
     ]
    }
   ],
   "source": [
    "from tensorflow.keras.models import Sequential\n",
    "from tensorflow.keras.layers import Dense\n",
    "from tensorflow.keras.callbacks import EarlyStopping\n",
    "import tensorflow as tf\n",
    "\n",
    "r_dl_list, re_dl_list = [], []\n",
    "\n",
    "for train_idx, test_idx in skf.split(fair_df, fair_df[\"Group\"]):\n",
    "    X_train, X_test = X_fair.iloc[train_idx], X_fair.iloc[test_idx]\n",
    "    y_train, y_test = y_fair.iloc[train_idx], y_fair.iloc[test_idx]\n",
    "    w_train = weights.iloc[train_idx]\n",
    "\n",
    "    model = Sequential([\n",
    "        Dense(64, activation='relu', input_shape=(X_train.shape[1],)),\n",
    "        Dense(32, activation='relu'),\n",
    "        Dense(1)\n",
    "    ])\n",
    "    model.compile(optimizer='adam', loss='mse')\n",
    "    early_stop = EarlyStopping(monitor='val_loss', patience=5, restore_best_weights=True)\n",
    "    model.fit(X_train, y_train, validation_split=0.1,\n",
    "              sample_weight=w_train, epochs=50, batch_size=16, verbose=0, callbacks=[early_stop])\n",
    "    y_pred = model.predict(X_test).flatten()\n",
    "    r, _ = pearsonr(y_test, y_pred)\n",
    "    re = np.mean(np.abs(y_pred - y_test) / y_test.max())\n",
    "\n",
    "    r_dl_list.append(r)\n",
    "    re_dl_list.append(re)\n",
    "\n",
    "r_dl = np.mean(r_dl_list)\n",
    "re_dl = np.mean(re_dl_list)\n",
    "print(f\" Debiased DL → Pearson r: {r_dl:.4f} | RE: {re_dl:.4f}\")\n"
   ]
  },
  {
   "cell_type": "code",
   "execution_count": 49,
   "id": "202b538c",
   "metadata": {},
   "outputs": [],
   "source": [
    "def evaluate_groupwise_debiased(df, group_column, model_type='rf'):\n",
    "    groupwise_results = []\n",
    "    skf = StratifiedKFold(n_splits=5, shuffle=True, random_state=42)\n",
    "\n",
    "    for group in df[group_column].unique():\n",
    "        group_df = df[df[group_column] == group]\n",
    "        if len(group_df) < 10:\n",
    "            continue\n",
    "\n",
    "        X_group = group_df[fair_feature_cols]\n",
    "        y_group = group_df[\"PHQ_Score\"]\n",
    "        group_weights = group_df[\"Group\"].apply(lambda g: 1 / group_counts[g])\n",
    "\n",
    "        r_list, re_list = [], []\n",
    "\n",
    "        for train_idx, test_idx in skf.split(group_df, group_df[group_column]):\n",
    "            X_train = X_group.iloc[train_idx]\n",
    "            X_test = X_group.iloc[test_idx]\n",
    "            y_train = y_group.iloc[train_idx]\n",
    "            y_test = y_group.iloc[test_idx]\n",
    "            w_train = group_weights.iloc[train_idx]\n",
    "\n",
    "            if model_type == 'rf':\n",
    "                model = RandomForestRegressor(n_estimators=100, random_state=42)\n",
    "                model.fit(X_train, y_train, sample_weight=w_train)\n",
    "                y_pred = model.predict(X_test)\n",
    "            else:\n",
    "                tf.random.set_seed(42)\n",
    "                model = Sequential([\n",
    "                    Dense(64, activation='relu', input_shape=(X_train.shape[1],)),\n",
    "                    Dense(32, activation='relu'),\n",
    "                    Dense(1)\n",
    "                ])\n",
    "                model.compile(optimizer='adam', loss='mse')\n",
    "                model.fit(X_train, y_train, validation_split=0.1,\n",
    "                          sample_weight=w_train, epochs=50, batch_size=16, verbose=0,\n",
    "                          callbacks=[EarlyStopping(monitor='val_loss', patience=5, restore_best_weights=True)])\n",
    "                y_pred = model.predict(X_test).flatten()\n",
    "\n",
    "            r, _ = pearsonr(y_test, y_pred)\n",
    "            re = np.mean(np.abs(y_pred - y_test) / y_test.max())\n",
    "            r_list.append(r)\n",
    "            re_list.append(re)\n",
    "\n",
    "        groupwise_results.append((group, np.mean(r_list), np.mean(re_list)))\n",
    "\n",
    "    return pd.DataFrame(groupwise_results, columns=[\"Group\", \"Pearson_r\", \"RE\"])\n"
   ]
  },
  {
   "cell_type": "code",
   "execution_count": 50,
   "id": "5ba1d081",
   "metadata": {},
   "outputs": [
    {
     "name": "stdout",
     "output_type": "stream",
     "text": [
      "=== Groupwise by Gender  ===\n",
      "    Group  Pearson_r        RE\n",
      "0  Female   0.363084  0.271641\n",
      "1    Male  -0.020114  0.343746\n",
      "\n",
      "=== Groupwise by Race  ===\n",
      "              Group  Pearson_r        RE\n",
      "0    White American   0.418260  0.272392\n",
      "1  African American   0.267422  0.419396\n",
      "2          Hispanic   0.069446  0.437672\n",
      "\n",
      "=== Groupwise by Gender × Race===\n",
      "                       Group  Pearson_r        RE\n",
      "0    Female - White American   0.407786  0.298881\n",
      "1    Male - African American   0.165103  1.256798\n",
      "2            Male - Hispanic   0.644826  0.409436\n",
      "3      Male - White American   0.087004  0.422292\n",
      "4  Female - African American   0.288297  0.350611\n",
      "\n",
      "=== Groupwise by Gender ===\n"
     ]
    },
    {
     "name": "stderr",
     "output_type": "stream",
     "text": [
      "C:\\Users\\yoges\\AppData\\Roaming\\Python\\Python312\\site-packages\\keras\\src\\layers\\core\\dense.py:87: UserWarning: Do not pass an `input_shape`/`input_dim` argument to a layer. When using Sequential models, prefer using an `Input(shape)` object as the first layer in the model instead.\n",
      "  super().__init__(activity_regularizer=activity_regularizer, **kwargs)\n"
     ]
    },
    {
     "name": "stdout",
     "output_type": "stream",
     "text": [
      "\u001b[1m1/1\u001b[0m \u001b[32m━━━━━━━━━━━━━━━━━━━━\u001b[0m\u001b[37m\u001b[0m \u001b[1m0s\u001b[0m 44ms/step\n"
     ]
    },
    {
     "name": "stderr",
     "output_type": "stream",
     "text": [
      "C:\\Users\\yoges\\AppData\\Roaming\\Python\\Python312\\site-packages\\keras\\src\\layers\\core\\dense.py:87: UserWarning: Do not pass an `input_shape`/`input_dim` argument to a layer. When using Sequential models, prefer using an `Input(shape)` object as the first layer in the model instead.\n",
      "  super().__init__(activity_regularizer=activity_regularizer, **kwargs)\n"
     ]
    },
    {
     "name": "stdout",
     "output_type": "stream",
     "text": [
      "\u001b[1m1/1\u001b[0m \u001b[32m━━━━━━━━━━━━━━━━━━━━\u001b[0m\u001b[37m\u001b[0m \u001b[1m0s\u001b[0m 44ms/step\n"
     ]
    },
    {
     "name": "stderr",
     "output_type": "stream",
     "text": [
      "C:\\Users\\yoges\\AppData\\Roaming\\Python\\Python312\\site-packages\\keras\\src\\layers\\core\\dense.py:87: UserWarning: Do not pass an `input_shape`/`input_dim` argument to a layer. When using Sequential models, prefer using an `Input(shape)` object as the first layer in the model instead.\n",
      "  super().__init__(activity_regularizer=activity_regularizer, **kwargs)\n"
     ]
    },
    {
     "name": "stdout",
     "output_type": "stream",
     "text": [
      "\u001b[1m1/1\u001b[0m \u001b[32m━━━━━━━━━━━━━━━━━━━━\u001b[0m\u001b[37m\u001b[0m \u001b[1m0s\u001b[0m 42ms/step\n"
     ]
    },
    {
     "name": "stderr",
     "output_type": "stream",
     "text": [
      "C:\\Users\\yoges\\AppData\\Roaming\\Python\\Python312\\site-packages\\keras\\src\\layers\\core\\dense.py:87: UserWarning: Do not pass an `input_shape`/`input_dim` argument to a layer. When using Sequential models, prefer using an `Input(shape)` object as the first layer in the model instead.\n",
      "  super().__init__(activity_regularizer=activity_regularizer, **kwargs)\n"
     ]
    },
    {
     "name": "stdout",
     "output_type": "stream",
     "text": [
      "\u001b[1m1/1\u001b[0m \u001b[32m━━━━━━━━━━━━━━━━━━━━\u001b[0m\u001b[37m\u001b[0m \u001b[1m0s\u001b[0m 43ms/step\n"
     ]
    },
    {
     "name": "stderr",
     "output_type": "stream",
     "text": [
      "C:\\Users\\yoges\\AppData\\Roaming\\Python\\Python312\\site-packages\\keras\\src\\layers\\core\\dense.py:87: UserWarning: Do not pass an `input_shape`/`input_dim` argument to a layer. When using Sequential models, prefer using an `Input(shape)` object as the first layer in the model instead.\n",
      "  super().__init__(activity_regularizer=activity_regularizer, **kwargs)\n"
     ]
    },
    {
     "name": "stdout",
     "output_type": "stream",
     "text": [
      "\u001b[1m1/1\u001b[0m \u001b[32m━━━━━━━━━━━━━━━━━━━━\u001b[0m\u001b[37m\u001b[0m \u001b[1m0s\u001b[0m 46ms/step\n"
     ]
    },
    {
     "name": "stderr",
     "output_type": "stream",
     "text": [
      "C:\\Users\\yoges\\AppData\\Roaming\\Python\\Python312\\site-packages\\keras\\src\\layers\\core\\dense.py:87: UserWarning: Do not pass an `input_shape`/`input_dim` argument to a layer. When using Sequential models, prefer using an `Input(shape)` object as the first layer in the model instead.\n",
      "  super().__init__(activity_regularizer=activity_regularizer, **kwargs)\n"
     ]
    },
    {
     "name": "stdout",
     "output_type": "stream",
     "text": [
      "\u001b[1m1/1\u001b[0m \u001b[32m━━━━━━━━━━━━━━━━━━━━\u001b[0m\u001b[37m\u001b[0m \u001b[1m0s\u001b[0m 44ms/step\n"
     ]
    },
    {
     "name": "stderr",
     "output_type": "stream",
     "text": [
      "C:\\Users\\yoges\\AppData\\Roaming\\Python\\Python312\\site-packages\\keras\\src\\layers\\core\\dense.py:87: UserWarning: Do not pass an `input_shape`/`input_dim` argument to a layer. When using Sequential models, prefer using an `Input(shape)` object as the first layer in the model instead.\n",
      "  super().__init__(activity_regularizer=activity_regularizer, **kwargs)\n"
     ]
    },
    {
     "name": "stdout",
     "output_type": "stream",
     "text": [
      "\u001b[1m1/1\u001b[0m \u001b[32m━━━━━━━━━━━━━━━━━━━━\u001b[0m\u001b[37m\u001b[0m \u001b[1m0s\u001b[0m 43ms/step\n"
     ]
    },
    {
     "name": "stderr",
     "output_type": "stream",
     "text": [
      "C:\\Users\\yoges\\AppData\\Roaming\\Python\\Python312\\site-packages\\keras\\src\\layers\\core\\dense.py:87: UserWarning: Do not pass an `input_shape`/`input_dim` argument to a layer. When using Sequential models, prefer using an `Input(shape)` object as the first layer in the model instead.\n",
      "  super().__init__(activity_regularizer=activity_regularizer, **kwargs)\n"
     ]
    },
    {
     "name": "stdout",
     "output_type": "stream",
     "text": [
      "\u001b[1m1/1\u001b[0m \u001b[32m━━━━━━━━━━━━━━━━━━━━\u001b[0m\u001b[37m\u001b[0m \u001b[1m0s\u001b[0m 43ms/step\n"
     ]
    },
    {
     "name": "stderr",
     "output_type": "stream",
     "text": [
      "C:\\Users\\yoges\\AppData\\Roaming\\Python\\Python312\\site-packages\\keras\\src\\layers\\core\\dense.py:87: UserWarning: Do not pass an `input_shape`/`input_dim` argument to a layer. When using Sequential models, prefer using an `Input(shape)` object as the first layer in the model instead.\n",
      "  super().__init__(activity_regularizer=activity_regularizer, **kwargs)\n"
     ]
    },
    {
     "name": "stdout",
     "output_type": "stream",
     "text": [
      "\u001b[1m1/1\u001b[0m \u001b[32m━━━━━━━━━━━━━━━━━━━━\u001b[0m\u001b[37m\u001b[0m \u001b[1m0s\u001b[0m 44ms/step\n"
     ]
    },
    {
     "name": "stderr",
     "output_type": "stream",
     "text": [
      "C:\\Users\\yoges\\AppData\\Roaming\\Python\\Python312\\site-packages\\keras\\src\\layers\\core\\dense.py:87: UserWarning: Do not pass an `input_shape`/`input_dim` argument to a layer. When using Sequential models, prefer using an `Input(shape)` object as the first layer in the model instead.\n",
      "  super().__init__(activity_regularizer=activity_regularizer, **kwargs)\n"
     ]
    },
    {
     "name": "stdout",
     "output_type": "stream",
     "text": [
      "\u001b[1m1/1\u001b[0m \u001b[32m━━━━━━━━━━━━━━━━━━━━\u001b[0m\u001b[37m\u001b[0m \u001b[1m0s\u001b[0m 43ms/step\n",
      "    Group  Pearson_r        RE\n",
      "0  Female   0.153797  0.292159\n",
      "1    Male   0.046917  0.322230\n",
      "\n",
      "=== Groupwise by Race ===\n"
     ]
    },
    {
     "name": "stderr",
     "output_type": "stream",
     "text": [
      "C:\\Users\\yoges\\AppData\\Roaming\\Python\\Python312\\site-packages\\keras\\src\\layers\\core\\dense.py:87: UserWarning: Do not pass an `input_shape`/`input_dim` argument to a layer. When using Sequential models, prefer using an `Input(shape)` object as the first layer in the model instead.\n",
      "  super().__init__(activity_regularizer=activity_regularizer, **kwargs)\n"
     ]
    },
    {
     "name": "stdout",
     "output_type": "stream",
     "text": [
      "\u001b[1m1/1\u001b[0m \u001b[32m━━━━━━━━━━━━━━━━━━━━\u001b[0m\u001b[37m\u001b[0m \u001b[1m0s\u001b[0m 49ms/step\n"
     ]
    },
    {
     "name": "stderr",
     "output_type": "stream",
     "text": [
      "C:\\Users\\yoges\\AppData\\Roaming\\Python\\Python312\\site-packages\\keras\\src\\layers\\core\\dense.py:87: UserWarning: Do not pass an `input_shape`/`input_dim` argument to a layer. When using Sequential models, prefer using an `Input(shape)` object as the first layer in the model instead.\n",
      "  super().__init__(activity_regularizer=activity_regularizer, **kwargs)\n"
     ]
    },
    {
     "name": "stdout",
     "output_type": "stream",
     "text": [
      "\u001b[1m1/1\u001b[0m \u001b[32m━━━━━━━━━━━━━━━━━━━━\u001b[0m\u001b[37m\u001b[0m \u001b[1m0s\u001b[0m 45ms/step\n"
     ]
    },
    {
     "name": "stderr",
     "output_type": "stream",
     "text": [
      "C:\\Users\\yoges\\AppData\\Roaming\\Python\\Python312\\site-packages\\keras\\src\\layers\\core\\dense.py:87: UserWarning: Do not pass an `input_shape`/`input_dim` argument to a layer. When using Sequential models, prefer using an `Input(shape)` object as the first layer in the model instead.\n",
      "  super().__init__(activity_regularizer=activity_regularizer, **kwargs)\n"
     ]
    },
    {
     "name": "stdout",
     "output_type": "stream",
     "text": [
      "\u001b[1m1/1\u001b[0m \u001b[32m━━━━━━━━━━━━━━━━━━━━\u001b[0m\u001b[37m\u001b[0m \u001b[1m0s\u001b[0m 44ms/step\n"
     ]
    },
    {
     "name": "stderr",
     "output_type": "stream",
     "text": [
      "C:\\Users\\yoges\\AppData\\Roaming\\Python\\Python312\\site-packages\\keras\\src\\layers\\core\\dense.py:87: UserWarning: Do not pass an `input_shape`/`input_dim` argument to a layer. When using Sequential models, prefer using an `Input(shape)` object as the first layer in the model instead.\n",
      "  super().__init__(activity_regularizer=activity_regularizer, **kwargs)\n"
     ]
    },
    {
     "name": "stdout",
     "output_type": "stream",
     "text": [
      "\u001b[1m1/1\u001b[0m \u001b[32m━━━━━━━━━━━━━━━━━━━━\u001b[0m\u001b[37m\u001b[0m \u001b[1m0s\u001b[0m 46ms/step\n"
     ]
    },
    {
     "name": "stderr",
     "output_type": "stream",
     "text": [
      "C:\\Users\\yoges\\AppData\\Roaming\\Python\\Python312\\site-packages\\keras\\src\\layers\\core\\dense.py:87: UserWarning: Do not pass an `input_shape`/`input_dim` argument to a layer. When using Sequential models, prefer using an `Input(shape)` object as the first layer in the model instead.\n",
      "  super().__init__(activity_regularizer=activity_regularizer, **kwargs)\n"
     ]
    },
    {
     "name": "stdout",
     "output_type": "stream",
     "text": [
      "\u001b[1m1/1\u001b[0m \u001b[32m━━━━━━━━━━━━━━━━━━━━\u001b[0m\u001b[37m\u001b[0m \u001b[1m0s\u001b[0m 44ms/step\n"
     ]
    },
    {
     "name": "stderr",
     "output_type": "stream",
     "text": [
      "C:\\Users\\yoges\\AppData\\Roaming\\Python\\Python312\\site-packages\\keras\\src\\layers\\core\\dense.py:87: UserWarning: Do not pass an `input_shape`/`input_dim` argument to a layer. When using Sequential models, prefer using an `Input(shape)` object as the first layer in the model instead.\n",
      "  super().__init__(activity_regularizer=activity_regularizer, **kwargs)\n"
     ]
    },
    {
     "name": "stdout",
     "output_type": "stream",
     "text": [
      "\u001b[1m1/1\u001b[0m \u001b[32m━━━━━━━━━━━━━━━━━━━━\u001b[0m\u001b[37m\u001b[0m \u001b[1m0s\u001b[0m 44ms/step\n"
     ]
    },
    {
     "name": "stderr",
     "output_type": "stream",
     "text": [
      "C:\\Users\\yoges\\AppData\\Roaming\\Python\\Python312\\site-packages\\keras\\src\\layers\\core\\dense.py:87: UserWarning: Do not pass an `input_shape`/`input_dim` argument to a layer. When using Sequential models, prefer using an `Input(shape)` object as the first layer in the model instead.\n",
      "  super().__init__(activity_regularizer=activity_regularizer, **kwargs)\n"
     ]
    },
    {
     "name": "stdout",
     "output_type": "stream",
     "text": [
      "\u001b[1m1/1\u001b[0m \u001b[32m━━━━━━━━━━━━━━━━━━━━\u001b[0m\u001b[37m\u001b[0m \u001b[1m0s\u001b[0m 44ms/step\n"
     ]
    },
    {
     "name": "stderr",
     "output_type": "stream",
     "text": [
      "C:\\Users\\yoges\\AppData\\Roaming\\Python\\Python312\\site-packages\\keras\\src\\layers\\core\\dense.py:87: UserWarning: Do not pass an `input_shape`/`input_dim` argument to a layer. When using Sequential models, prefer using an `Input(shape)` object as the first layer in the model instead.\n",
      "  super().__init__(activity_regularizer=activity_regularizer, **kwargs)\n"
     ]
    },
    {
     "name": "stdout",
     "output_type": "stream",
     "text": [
      "\u001b[1m1/1\u001b[0m \u001b[32m━━━━━━━━━━━━━━━━━━━━\u001b[0m\u001b[37m\u001b[0m \u001b[1m0s\u001b[0m 51ms/step\n"
     ]
    },
    {
     "name": "stderr",
     "output_type": "stream",
     "text": [
      "C:\\Users\\yoges\\AppData\\Roaming\\Python\\Python312\\site-packages\\keras\\src\\layers\\core\\dense.py:87: UserWarning: Do not pass an `input_shape`/`input_dim` argument to a layer. When using Sequential models, prefer using an `Input(shape)` object as the first layer in the model instead.\n",
      "  super().__init__(activity_regularizer=activity_regularizer, **kwargs)\n"
     ]
    },
    {
     "name": "stdout",
     "output_type": "stream",
     "text": [
      "\u001b[1m1/1\u001b[0m \u001b[32m━━━━━━━━━━━━━━━━━━━━\u001b[0m\u001b[37m\u001b[0m \u001b[1m0s\u001b[0m 47ms/step\n"
     ]
    },
    {
     "name": "stderr",
     "output_type": "stream",
     "text": [
      "C:\\Users\\yoges\\AppData\\Roaming\\Python\\Python312\\site-packages\\keras\\src\\layers\\core\\dense.py:87: UserWarning: Do not pass an `input_shape`/`input_dim` argument to a layer. When using Sequential models, prefer using an `Input(shape)` object as the first layer in the model instead.\n",
      "  super().__init__(activity_regularizer=activity_regularizer, **kwargs)\n"
     ]
    },
    {
     "name": "stdout",
     "output_type": "stream",
     "text": [
      "\u001b[1m1/1\u001b[0m \u001b[32m━━━━━━━━━━━━━━━━━━━━\u001b[0m\u001b[37m\u001b[0m \u001b[1m0s\u001b[0m 42ms/step\n"
     ]
    },
    {
     "name": "stderr",
     "output_type": "stream",
     "text": [
      "C:\\Users\\yoges\\AppData\\Roaming\\Python\\Python312\\site-packages\\keras\\src\\layers\\core\\dense.py:87: UserWarning: Do not pass an `input_shape`/`input_dim` argument to a layer. When using Sequential models, prefer using an `Input(shape)` object as the first layer in the model instead.\n",
      "  super().__init__(activity_regularizer=activity_regularizer, **kwargs)\n"
     ]
    },
    {
     "name": "stdout",
     "output_type": "stream",
     "text": [
      "\u001b[1m1/1\u001b[0m \u001b[32m━━━━━━━━━━━━━━━━━━━━\u001b[0m\u001b[37m\u001b[0m \u001b[1m0s\u001b[0m 42ms/step\n"
     ]
    },
    {
     "name": "stderr",
     "output_type": "stream",
     "text": [
      "C:\\Users\\yoges\\AppData\\Roaming\\Python\\Python312\\site-packages\\keras\\src\\layers\\core\\dense.py:87: UserWarning: Do not pass an `input_shape`/`input_dim` argument to a layer. When using Sequential models, prefer using an `Input(shape)` object as the first layer in the model instead.\n",
      "  super().__init__(activity_regularizer=activity_regularizer, **kwargs)\n"
     ]
    },
    {
     "name": "stdout",
     "output_type": "stream",
     "text": [
      "\u001b[1m1/1\u001b[0m \u001b[32m━━━━━━━━━━━━━━━━━━━━\u001b[0m\u001b[37m\u001b[0m \u001b[1m0s\u001b[0m 44ms/step\n"
     ]
    },
    {
     "name": "stderr",
     "output_type": "stream",
     "text": [
      "C:\\Users\\yoges\\AppData\\Roaming\\Python\\Python312\\site-packages\\keras\\src\\layers\\core\\dense.py:87: UserWarning: Do not pass an `input_shape`/`input_dim` argument to a layer. When using Sequential models, prefer using an `Input(shape)` object as the first layer in the model instead.\n",
      "  super().__init__(activity_regularizer=activity_regularizer, **kwargs)\n"
     ]
    },
    {
     "name": "stdout",
     "output_type": "stream",
     "text": [
      "\u001b[1m1/1\u001b[0m \u001b[32m━━━━━━━━━━━━━━━━━━━━\u001b[0m\u001b[37m\u001b[0m \u001b[1m0s\u001b[0m 45ms/step\n"
     ]
    },
    {
     "name": "stderr",
     "output_type": "stream",
     "text": [
      "C:\\Users\\yoges\\AppData\\Roaming\\Python\\Python312\\site-packages\\keras\\src\\layers\\core\\dense.py:87: UserWarning: Do not pass an `input_shape`/`input_dim` argument to a layer. When using Sequential models, prefer using an `Input(shape)` object as the first layer in the model instead.\n",
      "  super().__init__(activity_regularizer=activity_regularizer, **kwargs)\n"
     ]
    },
    {
     "name": "stdout",
     "output_type": "stream",
     "text": [
      "\u001b[1m1/1\u001b[0m \u001b[32m━━━━━━━━━━━━━━━━━━━━\u001b[0m\u001b[37m\u001b[0m \u001b[1m0s\u001b[0m 44ms/step\n"
     ]
    },
    {
     "name": "stderr",
     "output_type": "stream",
     "text": [
      "C:\\Users\\yoges\\AppData\\Roaming\\Python\\Python312\\site-packages\\keras\\src\\layers\\core\\dense.py:87: UserWarning: Do not pass an `input_shape`/`input_dim` argument to a layer. When using Sequential models, prefer using an `Input(shape)` object as the first layer in the model instead.\n",
      "  super().__init__(activity_regularizer=activity_regularizer, **kwargs)\n"
     ]
    },
    {
     "name": "stdout",
     "output_type": "stream",
     "text": [
      "\u001b[1m1/1\u001b[0m \u001b[32m━━━━━━━━━━━━━━━━━━━━\u001b[0m\u001b[37m\u001b[0m \u001b[1m0s\u001b[0m 47ms/step\n",
      "              Group  Pearson_r        RE\n",
      "0    White American  -0.097062  0.288832\n",
      "1  African American   0.252803  0.483977\n",
      "2          Hispanic   0.215061  0.431833\n",
      "\n",
      "=== Groupwise by Gender × Race  ===\n"
     ]
    },
    {
     "name": "stderr",
     "output_type": "stream",
     "text": [
      "C:\\Users\\yoges\\AppData\\Roaming\\Python\\Python312\\site-packages\\keras\\src\\layers\\core\\dense.py:87: UserWarning: Do not pass an `input_shape`/`input_dim` argument to a layer. When using Sequential models, prefer using an `Input(shape)` object as the first layer in the model instead.\n",
      "  super().__init__(activity_regularizer=activity_regularizer, **kwargs)\n"
     ]
    },
    {
     "name": "stdout",
     "output_type": "stream",
     "text": [
      "\u001b[1m1/1\u001b[0m \u001b[32m━━━━━━━━━━━━━━━━━━━━\u001b[0m\u001b[37m\u001b[0m \u001b[1m0s\u001b[0m 45ms/step\n"
     ]
    },
    {
     "name": "stderr",
     "output_type": "stream",
     "text": [
      "C:\\Users\\yoges\\AppData\\Roaming\\Python\\Python312\\site-packages\\keras\\src\\layers\\core\\dense.py:87: UserWarning: Do not pass an `input_shape`/`input_dim` argument to a layer. When using Sequential models, prefer using an `Input(shape)` object as the first layer in the model instead.\n",
      "  super().__init__(activity_regularizer=activity_regularizer, **kwargs)\n"
     ]
    },
    {
     "name": "stdout",
     "output_type": "stream",
     "text": [
      "\u001b[1m1/1\u001b[0m \u001b[32m━━━━━━━━━━━━━━━━━━━━\u001b[0m\u001b[37m\u001b[0m \u001b[1m0s\u001b[0m 42ms/step\n"
     ]
    },
    {
     "name": "stderr",
     "output_type": "stream",
     "text": [
      "C:\\Users\\yoges\\AppData\\Roaming\\Python\\Python312\\site-packages\\keras\\src\\layers\\core\\dense.py:87: UserWarning: Do not pass an `input_shape`/`input_dim` argument to a layer. When using Sequential models, prefer using an `Input(shape)` object as the first layer in the model instead.\n",
      "  super().__init__(activity_regularizer=activity_regularizer, **kwargs)\n"
     ]
    },
    {
     "name": "stdout",
     "output_type": "stream",
     "text": [
      "\u001b[1m1/1\u001b[0m \u001b[32m━━━━━━━━━━━━━━━━━━━━\u001b[0m\u001b[37m\u001b[0m \u001b[1m0s\u001b[0m 47ms/step\n"
     ]
    },
    {
     "name": "stderr",
     "output_type": "stream",
     "text": [
      "C:\\Users\\yoges\\AppData\\Roaming\\Python\\Python312\\site-packages\\keras\\src\\layers\\core\\dense.py:87: UserWarning: Do not pass an `input_shape`/`input_dim` argument to a layer. When using Sequential models, prefer using an `Input(shape)` object as the first layer in the model instead.\n",
      "  super().__init__(activity_regularizer=activity_regularizer, **kwargs)\n"
     ]
    },
    {
     "name": "stdout",
     "output_type": "stream",
     "text": [
      "\u001b[1m1/1\u001b[0m \u001b[32m━━━━━━━━━━━━━━━━━━━━\u001b[0m\u001b[37m\u001b[0m \u001b[1m0s\u001b[0m 41ms/step\n"
     ]
    },
    {
     "name": "stderr",
     "output_type": "stream",
     "text": [
      "C:\\Users\\yoges\\AppData\\Roaming\\Python\\Python312\\site-packages\\keras\\src\\layers\\core\\dense.py:87: UserWarning: Do not pass an `input_shape`/`input_dim` argument to a layer. When using Sequential models, prefer using an `Input(shape)` object as the first layer in the model instead.\n",
      "  super().__init__(activity_regularizer=activity_regularizer, **kwargs)\n"
     ]
    },
    {
     "name": "stdout",
     "output_type": "stream",
     "text": [
      "\u001b[1m1/1\u001b[0m \u001b[32m━━━━━━━━━━━━━━━━━━━━\u001b[0m\u001b[37m\u001b[0m \u001b[1m0s\u001b[0m 45ms/step\n"
     ]
    },
    {
     "name": "stderr",
     "output_type": "stream",
     "text": [
      "C:\\Users\\yoges\\AppData\\Roaming\\Python\\Python312\\site-packages\\keras\\src\\layers\\core\\dense.py:87: UserWarning: Do not pass an `input_shape`/`input_dim` argument to a layer. When using Sequential models, prefer using an `Input(shape)` object as the first layer in the model instead.\n",
      "  super().__init__(activity_regularizer=activity_regularizer, **kwargs)\n"
     ]
    },
    {
     "name": "stdout",
     "output_type": "stream",
     "text": [
      "\u001b[1m1/1\u001b[0m \u001b[32m━━━━━━━━━━━━━━━━━━━━\u001b[0m\u001b[37m\u001b[0m \u001b[1m0s\u001b[0m 44ms/step\n"
     ]
    },
    {
     "name": "stderr",
     "output_type": "stream",
     "text": [
      "C:\\Users\\yoges\\AppData\\Roaming\\Python\\Python312\\site-packages\\keras\\src\\layers\\core\\dense.py:87: UserWarning: Do not pass an `input_shape`/`input_dim` argument to a layer. When using Sequential models, prefer using an `Input(shape)` object as the first layer in the model instead.\n",
      "  super().__init__(activity_regularizer=activity_regularizer, **kwargs)\n"
     ]
    },
    {
     "name": "stdout",
     "output_type": "stream",
     "text": [
      "\u001b[1m1/1\u001b[0m \u001b[32m━━━━━━━━━━━━━━━━━━━━\u001b[0m\u001b[37m\u001b[0m \u001b[1m0s\u001b[0m 45ms/step\n"
     ]
    },
    {
     "name": "stderr",
     "output_type": "stream",
     "text": [
      "C:\\Users\\yoges\\AppData\\Roaming\\Python\\Python312\\site-packages\\keras\\src\\layers\\core\\dense.py:87: UserWarning: Do not pass an `input_shape`/`input_dim` argument to a layer. When using Sequential models, prefer using an `Input(shape)` object as the first layer in the model instead.\n",
      "  super().__init__(activity_regularizer=activity_regularizer, **kwargs)\n"
     ]
    },
    {
     "name": "stdout",
     "output_type": "stream",
     "text": [
      "\u001b[1m1/1\u001b[0m \u001b[32m━━━━━━━━━━━━━━━━━━━━\u001b[0m\u001b[37m\u001b[0m \u001b[1m0s\u001b[0m 43ms/step\n"
     ]
    },
    {
     "name": "stderr",
     "output_type": "stream",
     "text": [
      "C:\\Users\\yoges\\AppData\\Roaming\\Python\\Python312\\site-packages\\keras\\src\\layers\\core\\dense.py:87: UserWarning: Do not pass an `input_shape`/`input_dim` argument to a layer. When using Sequential models, prefer using an `Input(shape)` object as the first layer in the model instead.\n",
      "  super().__init__(activity_regularizer=activity_regularizer, **kwargs)\n"
     ]
    },
    {
     "name": "stdout",
     "output_type": "stream",
     "text": [
      "\u001b[1m1/1\u001b[0m \u001b[32m━━━━━━━━━━━━━━━━━━━━\u001b[0m\u001b[37m\u001b[0m \u001b[1m0s\u001b[0m 44ms/step\n"
     ]
    },
    {
     "name": "stderr",
     "output_type": "stream",
     "text": [
      "C:\\Users\\yoges\\AppData\\Roaming\\Python\\Python312\\site-packages\\keras\\src\\layers\\core\\dense.py:87: UserWarning: Do not pass an `input_shape`/`input_dim` argument to a layer. When using Sequential models, prefer using an `Input(shape)` object as the first layer in the model instead.\n",
      "  super().__init__(activity_regularizer=activity_regularizer, **kwargs)\n"
     ]
    },
    {
     "name": "stdout",
     "output_type": "stream",
     "text": [
      "\u001b[1m1/1\u001b[0m \u001b[32m━━━━━━━━━━━━━━━━━━━━\u001b[0m\u001b[37m\u001b[0m \u001b[1m0s\u001b[0m 43ms/step\n"
     ]
    },
    {
     "name": "stderr",
     "output_type": "stream",
     "text": [
      "C:\\Users\\yoges\\AppData\\Roaming\\Python\\Python312\\site-packages\\keras\\src\\layers\\core\\dense.py:87: UserWarning: Do not pass an `input_shape`/`input_dim` argument to a layer. When using Sequential models, prefer using an `Input(shape)` object as the first layer in the model instead.\n",
      "  super().__init__(activity_regularizer=activity_regularizer, **kwargs)\n"
     ]
    },
    {
     "name": "stdout",
     "output_type": "stream",
     "text": [
      "\u001b[1m1/1\u001b[0m \u001b[32m━━━━━━━━━━━━━━━━━━━━\u001b[0m\u001b[37m\u001b[0m \u001b[1m0s\u001b[0m 46ms/step\n"
     ]
    },
    {
     "name": "stderr",
     "output_type": "stream",
     "text": [
      "C:\\Users\\yoges\\AppData\\Roaming\\Python\\Python312\\site-packages\\keras\\src\\layers\\core\\dense.py:87: UserWarning: Do not pass an `input_shape`/`input_dim` argument to a layer. When using Sequential models, prefer using an `Input(shape)` object as the first layer in the model instead.\n",
      "  super().__init__(activity_regularizer=activity_regularizer, **kwargs)\n"
     ]
    },
    {
     "name": "stdout",
     "output_type": "stream",
     "text": [
      "\u001b[1m1/1\u001b[0m \u001b[32m━━━━━━━━━━━━━━━━━━━━\u001b[0m\u001b[37m\u001b[0m \u001b[1m0s\u001b[0m 45ms/step\n"
     ]
    },
    {
     "name": "stderr",
     "output_type": "stream",
     "text": [
      "C:\\Users\\yoges\\AppData\\Roaming\\Python\\Python312\\site-packages\\keras\\src\\layers\\core\\dense.py:87: UserWarning: Do not pass an `input_shape`/`input_dim` argument to a layer. When using Sequential models, prefer using an `Input(shape)` object as the first layer in the model instead.\n",
      "  super().__init__(activity_regularizer=activity_regularizer, **kwargs)\n"
     ]
    },
    {
     "name": "stdout",
     "output_type": "stream",
     "text": [
      "\u001b[1m1/1\u001b[0m \u001b[32m━━━━━━━━━━━━━━━━━━━━\u001b[0m\u001b[37m\u001b[0m \u001b[1m0s\u001b[0m 43ms/step\n"
     ]
    },
    {
     "name": "stderr",
     "output_type": "stream",
     "text": [
      "C:\\Users\\yoges\\AppData\\Roaming\\Python\\Python312\\site-packages\\keras\\src\\layers\\core\\dense.py:87: UserWarning: Do not pass an `input_shape`/`input_dim` argument to a layer. When using Sequential models, prefer using an `Input(shape)` object as the first layer in the model instead.\n",
      "  super().__init__(activity_regularizer=activity_regularizer, **kwargs)\n"
     ]
    },
    {
     "name": "stdout",
     "output_type": "stream",
     "text": [
      "\u001b[1m1/1\u001b[0m \u001b[32m━━━━━━━━━━━━━━━━━━━━\u001b[0m\u001b[37m\u001b[0m \u001b[1m0s\u001b[0m 46ms/step\n"
     ]
    },
    {
     "name": "stderr",
     "output_type": "stream",
     "text": [
      "C:\\Users\\yoges\\AppData\\Roaming\\Python\\Python312\\site-packages\\keras\\src\\layers\\core\\dense.py:87: UserWarning: Do not pass an `input_shape`/`input_dim` argument to a layer. When using Sequential models, prefer using an `Input(shape)` object as the first layer in the model instead.\n",
      "  super().__init__(activity_regularizer=activity_regularizer, **kwargs)\n"
     ]
    },
    {
     "name": "stdout",
     "output_type": "stream",
     "text": [
      "\u001b[1m1/1\u001b[0m \u001b[32m━━━━━━━━━━━━━━━━━━━━\u001b[0m\u001b[37m\u001b[0m \u001b[1m0s\u001b[0m 47ms/step\n"
     ]
    },
    {
     "name": "stderr",
     "output_type": "stream",
     "text": [
      "C:\\Users\\yoges\\AppData\\Roaming\\Python\\Python312\\site-packages\\keras\\src\\layers\\core\\dense.py:87: UserWarning: Do not pass an `input_shape`/`input_dim` argument to a layer. When using Sequential models, prefer using an `Input(shape)` object as the first layer in the model instead.\n",
      "  super().__init__(activity_regularizer=activity_regularizer, **kwargs)\n"
     ]
    },
    {
     "name": "stdout",
     "output_type": "stream",
     "text": [
      "\u001b[1m1/1\u001b[0m \u001b[32m━━━━━━━━━━━━━━━━━━━━\u001b[0m\u001b[37m\u001b[0m \u001b[1m0s\u001b[0m 44ms/step\n"
     ]
    },
    {
     "name": "stderr",
     "output_type": "stream",
     "text": [
      "C:\\Users\\yoges\\AppData\\Roaming\\Python\\Python312\\site-packages\\keras\\src\\layers\\core\\dense.py:87: UserWarning: Do not pass an `input_shape`/`input_dim` argument to a layer. When using Sequential models, prefer using an `Input(shape)` object as the first layer in the model instead.\n",
      "  super().__init__(activity_regularizer=activity_regularizer, **kwargs)\n"
     ]
    },
    {
     "name": "stdout",
     "output_type": "stream",
     "text": [
      "\u001b[1m1/1\u001b[0m \u001b[32m━━━━━━━━━━━━━━━━━━━━\u001b[0m\u001b[37m\u001b[0m \u001b[1m0s\u001b[0m 43ms/step\n"
     ]
    },
    {
     "name": "stderr",
     "output_type": "stream",
     "text": [
      "C:\\Users\\yoges\\AppData\\Roaming\\Python\\Python312\\site-packages\\keras\\src\\layers\\core\\dense.py:87: UserWarning: Do not pass an `input_shape`/`input_dim` argument to a layer. When using Sequential models, prefer using an `Input(shape)` object as the first layer in the model instead.\n",
      "  super().__init__(activity_regularizer=activity_regularizer, **kwargs)\n"
     ]
    },
    {
     "name": "stdout",
     "output_type": "stream",
     "text": [
      "\u001b[1m1/1\u001b[0m \u001b[32m━━━━━━━━━━━━━━━━━━━━\u001b[0m\u001b[37m\u001b[0m \u001b[1m0s\u001b[0m 45ms/step\n"
     ]
    },
    {
     "name": "stderr",
     "output_type": "stream",
     "text": [
      "C:\\Users\\yoges\\AppData\\Roaming\\Python\\Python312\\site-packages\\keras\\src\\layers\\core\\dense.py:87: UserWarning: Do not pass an `input_shape`/`input_dim` argument to a layer. When using Sequential models, prefer using an `Input(shape)` object as the first layer in the model instead.\n",
      "  super().__init__(activity_regularizer=activity_regularizer, **kwargs)\n"
     ]
    },
    {
     "name": "stdout",
     "output_type": "stream",
     "text": [
      "\u001b[1m1/1\u001b[0m \u001b[32m━━━━━━━━━━━━━━━━━━━━\u001b[0m\u001b[37m\u001b[0m \u001b[1m0s\u001b[0m 49ms/step\n"
     ]
    },
    {
     "name": "stderr",
     "output_type": "stream",
     "text": [
      "C:\\Users\\yoges\\AppData\\Roaming\\Python\\Python312\\site-packages\\keras\\src\\layers\\core\\dense.py:87: UserWarning: Do not pass an `input_shape`/`input_dim` argument to a layer. When using Sequential models, prefer using an `Input(shape)` object as the first layer in the model instead.\n",
      "  super().__init__(activity_regularizer=activity_regularizer, **kwargs)\n"
     ]
    },
    {
     "name": "stdout",
     "output_type": "stream",
     "text": [
      "\u001b[1m1/1\u001b[0m \u001b[32m━━━━━━━━━━━━━━━━━━━━\u001b[0m\u001b[37m\u001b[0m \u001b[1m0s\u001b[0m 44ms/step\n"
     ]
    },
    {
     "name": "stderr",
     "output_type": "stream",
     "text": [
      "C:\\Users\\yoges\\AppData\\Roaming\\Python\\Python312\\site-packages\\keras\\src\\layers\\core\\dense.py:87: UserWarning: Do not pass an `input_shape`/`input_dim` argument to a layer. When using Sequential models, prefer using an `Input(shape)` object as the first layer in the model instead.\n",
      "  super().__init__(activity_regularizer=activity_regularizer, **kwargs)\n"
     ]
    },
    {
     "name": "stdout",
     "output_type": "stream",
     "text": [
      "\u001b[1m1/1\u001b[0m \u001b[32m━━━━━━━━━━━━━━━━━━━━\u001b[0m\u001b[37m\u001b[0m \u001b[1m0s\u001b[0m 46ms/step\n"
     ]
    },
    {
     "name": "stderr",
     "output_type": "stream",
     "text": [
      "C:\\Users\\yoges\\AppData\\Roaming\\Python\\Python312\\site-packages\\keras\\src\\layers\\core\\dense.py:87: UserWarning: Do not pass an `input_shape`/`input_dim` argument to a layer. When using Sequential models, prefer using an `Input(shape)` object as the first layer in the model instead.\n",
      "  super().__init__(activity_regularizer=activity_regularizer, **kwargs)\n"
     ]
    },
    {
     "name": "stdout",
     "output_type": "stream",
     "text": [
      "\u001b[1m1/1\u001b[0m \u001b[32m━━━━━━━━━━━━━━━━━━━━\u001b[0m\u001b[37m\u001b[0m \u001b[1m0s\u001b[0m 65ms/step\n"
     ]
    },
    {
     "name": "stderr",
     "output_type": "stream",
     "text": [
      "C:\\Users\\yoges\\AppData\\Roaming\\Python\\Python312\\site-packages\\keras\\src\\layers\\core\\dense.py:87: UserWarning: Do not pass an `input_shape`/`input_dim` argument to a layer. When using Sequential models, prefer using an `Input(shape)` object as the first layer in the model instead.\n",
      "  super().__init__(activity_regularizer=activity_regularizer, **kwargs)\n"
     ]
    },
    {
     "name": "stdout",
     "output_type": "stream",
     "text": [
      "\u001b[1m1/1\u001b[0m \u001b[32m━━━━━━━━━━━━━━━━━━━━\u001b[0m\u001b[37m\u001b[0m \u001b[1m0s\u001b[0m 44ms/step\n"
     ]
    },
    {
     "name": "stderr",
     "output_type": "stream",
     "text": [
      "C:\\Users\\yoges\\AppData\\Roaming\\Python\\Python312\\site-packages\\keras\\src\\layers\\core\\dense.py:87: UserWarning: Do not pass an `input_shape`/`input_dim` argument to a layer. When using Sequential models, prefer using an `Input(shape)` object as the first layer in the model instead.\n",
      "  super().__init__(activity_regularizer=activity_regularizer, **kwargs)\n"
     ]
    },
    {
     "name": "stdout",
     "output_type": "stream",
     "text": [
      "\u001b[1m1/1\u001b[0m \u001b[32m━━━━━━━━━━━━━━━━━━━━\u001b[0m\u001b[37m\u001b[0m \u001b[1m0s\u001b[0m 59ms/step\n"
     ]
    },
    {
     "name": "stderr",
     "output_type": "stream",
     "text": [
      "C:\\Users\\yoges\\AppData\\Roaming\\Python\\Python312\\site-packages\\keras\\src\\layers\\core\\dense.py:87: UserWarning: Do not pass an `input_shape`/`input_dim` argument to a layer. When using Sequential models, prefer using an `Input(shape)` object as the first layer in the model instead.\n",
      "  super().__init__(activity_regularizer=activity_regularizer, **kwargs)\n"
     ]
    },
    {
     "name": "stdout",
     "output_type": "stream",
     "text": [
      "\u001b[1m1/1\u001b[0m \u001b[32m━━━━━━━━━━━━━━━━━━━━\u001b[0m\u001b[37m\u001b[0m \u001b[1m0s\u001b[0m 52ms/step\n",
      "                       Group  Pearson_r        RE\n",
      "0    Female - White American   0.237638  0.328325\n",
      "1    Male - African American   0.623523  0.908464\n",
      "2            Male - Hispanic   0.380755  0.331511\n",
      "3      Male - White American  -0.275894  0.359673\n",
      "4  Female - African American   0.249494  0.410038\n"
     ]
    }
   ],
   "source": [
    "print(\"=== Groupwise by Gender  ===\")\n",
    "groupwise_gender_rf = evaluate_groupwise_debiased(fair_df, group_column=\"Gender\", model_type='rf')\n",
    "print(groupwise_gender_rf)\n",
    "\n",
    "print(\"\\n=== Groupwise by Race  ===\")\n",
    "groupwise_race_rf = evaluate_groupwise_debiased(fair_df, group_column=\"Race\", model_type='rf')\n",
    "print(groupwise_race_rf)\n",
    "\n",
    "print(\"\\n=== Groupwise by Gender × Race===\")\n",
    "groupwise_intersect_rf = evaluate_groupwise_debiased(fair_df, group_column=\"Group\", model_type='rf')\n",
    "print(groupwise_intersect_rf)\n",
    "\n",
    "\n",
    "print(\"\\n=== Groupwise by Gender ===\")\n",
    "groupwise_gender_dl = evaluate_groupwise_debiased(fair_df, group_column=\"Gender\", model_type='dl')\n",
    "print(groupwise_gender_dl)\n",
    "\n",
    "print(\"\\n=== Groupwise by Race ===\")\n",
    "groupwise_race_dl = evaluate_groupwise_debiased(fair_df, group_column=\"Race\", model_type='dl')\n",
    "print(groupwise_race_dl)\n",
    "\n",
    "print(\"\\n=== Groupwise by Gender × Race  ===\")\n",
    "groupwise_intersect_dl = evaluate_groupwise_debiased(fair_df, group_column=\"Group\", model_type='dl')\n",
    "print(groupwise_intersect_dl)\n"
   ]
  },
  {
   "cell_type": "code",
   "execution_count": 51,
   "id": "4f150b73",
   "metadata": {},
   "outputs": [
    {
     "name": "stdout",
     "output_type": "stream",
     "text": [
      "[RF] Female - White American → r: 0.9827 | RE: 0.0738\n",
      "[RF] Male - African American → r: 0.7489 | RE: 0.1390\n",
      "[RF] Male - Hispanic → r: 0.8653 | RE: 0.1260\n",
      "[RF] Male - White American → r: 0.9146 | RE: 0.1061\n",
      "[RF] Female - Hispanic → r: 0.8905 | RE: 0.1703\n",
      "[RF] Female - African American → r: 0.8594 | RE: 0.1470\n"
     ]
    }
   ],
   "source": [
    "groups = fair_df[\"Group\"].unique()\n",
    "\n",
    "for group in groups:\n",
    "    mask = fair_df[\"Group\"] == group\n",
    "    X_g = X_fair[mask]\n",
    "    y_g = y_fair[mask]\n",
    "    \n",
    "    if len(y_g) > 1:\n",
    "        y_pred_g = rf.predict(X_g)\n",
    "        r_g, _ = pearsonr(y_g, y_pred_g)\n",
    "        re_g = np.mean(np.abs(y_pred_g - y_g) / y_g.max())\n",
    "        print(f\"[RF] {group} → r: {r_g:.4f} | RE: {re_g:.4f}\")\n",
    "\n",
    "# It tells Do some groups perform worse than others even after debiasing?\n"
   ]
  },
  {
   "cell_type": "code",
   "execution_count": 52,
   "id": "ed602ad7",
   "metadata": {},
   "outputs": [
    {
     "data": {
      "image/png": "[encoded data removed]",
      "text/plain": [
       "<Figure size 1000x600 with 1 Axes>"
      ]
     },
     "metadata": {},
     "output_type": "display_data"
    }
   ],
   "source": [
    "import matplotlib.pyplot as plt\n",
    "\n",
    "labels = ['Pearson r', 'Relative Error (RE)']\n",
    "rf_values = [r_rf, re_rf]\n",
    "dl_values = [r_dl, re_dl]\n",
    "\n",
    "x = range(len(labels))\n",
    "width = 0.35\n",
    "\n",
    "fig, ax = plt.subplots(figsize=(10, 6))\n",
    "\n",
    "bars1 = ax.bar([i - width/2 for i in x], rf_values, width, label='Random Forest (Debiased)', color='skyblue')\n",
    "bars2 = ax.bar([i + width/2 for i in x], dl_values, width, label='Deep Learning (Debiased)', color='coral')\n",
    "\n",
    "for i in x:\n",
    "    ax.text(i - width/2, rf_values[i] + 0.01, f\"{rf_values[i]:.2f}\", ha='center')\n",
    "    ax.text(i + width/2, dl_values[i] + 0.01, f\"{dl_values[i]:.2f}\", ha='center')\n",
    "\n",
    "ax.set_ylabel('Score')\n",
    "ax.set_title('Debiased Model Performance Comparison')\n",
    "ax.set_xticks(x)\n",
    "ax.set_xticklabels(labels)\n",
    "ax.legend()\n",
    "ax.grid(axis='y', linestyle='--', alpha=0.7)\n",
    "\n",
    "plt.tight_layout()\n",
    "plt.show()\n"
   ]
  },
  {
   "cell_type": "markdown",
   "id": "3201f3e9",
   "metadata": {},
   "source": [
    "% Pearson r  \n",
    "- Random Forest maintains moderate correlation after debiasing (r = 0.19)  \n",
    "- Deep Learning's correlation drops significantly (r = 0.09)  \n",
    "\n",
    "% Relative Error (RE)  \n",
    "- Both models have nearly identical error after debiasing (~0.22)  \n",
    "- The gap in predictive performance (RE) has been mostly closed  \n",
    "\n",
    "% Final Results:  \n",
    "- Debiasing reduced model performance, especially for Deep Learning in terms of correlation  \n",
    "- However, both models remain comparable in error rate, which suggests they are still usable after fairness interventions  \n",
    "- Random Forest shows better resilience in correlation after biased features are removed  \n",
    "- Deep Learning may have overfit to certain demographic patterns that were removed during debiasing  \n",
    "- This highlights the trade-off between fairness and performance — fair models may be less precise, but more ethical in real-world deployment\n"
   ]
  },
  {
   "cell_type": "markdown",
   "id": "04ec647b",
   "metadata": {},
   "source": [
    "#### f) Experimenting with Transformers"
   ]
  },
  {
   "cell_type": "code",
   "execution_count": 34,
   "id": "1f84a6a6",
   "metadata": {},
   "outputs": [
    {
     "name": "stdout",
     "output_type": "stream",
     "text": [
      "Defaulting to user installation because normal site-packages is not writeable\n",
      "Looking in indexes: https://pypi.org/simple, https://pypi.ngc.nvidia.com\n",
      "Requirement already satisfied: transformers in c:\\users\\yoges\\appdata\\roaming\\python\\python312\\site-packages (4.51.3)\n",
      "Requirement already satisfied: filelock in c:\\programdata\\anaconda3\\lib\\site-packages (from transformers) (3.13.1)\n",
      "Requirement already satisfied: huggingface-hub<1.0,>=0.30.0 in c:\\users\\yoges\\appdata\\roaming\\python\\python312\\site-packages (from transformers) (0.30.2)\n",
      "Requirement already satisfied: numpy>=1.17 in c:\\programdata\\anaconda3\\lib\\site-packages (from transformers) (1.26.4)\n",
      "Requirement already satisfied: packaging>=20.0 in c:\\users\\yoges\\appdata\\roaming\\python\\python312\\site-packages (from transformers) (24.2)\n",
      "Requirement already satisfied: pyyaml>=5.1 in c:\\programdata\\anaconda3\\lib\\site-packages (from transformers) (6.0.1)\n",
      "Requirement already satisfied: regex!=2019.12.17 in c:\\programdata\\anaconda3\\lib\\site-packages (from transformers) (2024.9.11)\n",
      "Requirement already satisfied: requests in c:\\programdata\\anaconda3\\lib\\site-packages (from transformers) (2.32.3)\n",
      "Requirement already satisfied: tokenizers<0.22,>=0.21 in c:\\users\\yoges\\appdata\\roaming\\python\\python312\\site-packages (from transformers) (0.21.1)\n",
      "Requirement already satisfied: safetensors>=0.4.3 in c:\\users\\yoges\\appdata\\roaming\\python\\python312\\site-packages (from transformers) (0.5.3)\n",
      "Requirement already satisfied: tqdm>=4.27 in c:\\programdata\\anaconda3\\lib\\site-packages (from transformers) (4.66.5)\n",
      "Requirement already satisfied: fsspec>=2023.5.0 in c:\\programdata\\anaconda3\\lib\\site-packages (from huggingface-hub<1.0,>=0.30.0->transformers) (2024.6.1)\n",
      "Requirement already satisfied: typing-extensions>=3.7.4.3 in c:\\programdata\\anaconda3\\lib\\site-packages (from huggingface-hub<1.0,>=0.30.0->transformers) (4.11.0)\n",
      "Requirement already satisfied: colorama in c:\\users\\yoges\\appdata\\roaming\\python\\python312\\site-packages (from tqdm>=4.27->transformers) (0.4.6)\n",
      "Requirement already satisfied: charset-normalizer<4,>=2 in c:\\programdata\\anaconda3\\lib\\site-packages (from requests->transformers) (3.3.2)\n",
      "Requirement already satisfied: idna<4,>=2.5 in c:\\programdata\\anaconda3\\lib\\site-packages (from requests->transformers) (3.7)\n",
      "Requirement already satisfied: urllib3<3,>=1.21.1 in c:\\programdata\\anaconda3\\lib\\site-packages (from requests->transformers) (2.2.3)\n",
      "Requirement already satisfied: certifi>=2017.4.17 in c:\\programdata\\anaconda3\\lib\\site-packages (from requests->transformers) (2024.8.30)\n"
     ]
    }
   ],
   "source": [
    "!pip install transformers\n"
   ]
  },
  {
   "cell_type": "code",
   "execution_count": 35,
   "id": "4259934d",
   "metadata": {},
   "outputs": [
    {
     "name": "stdout",
     "output_type": "stream",
     "text": [
      "Defaulting to user installation because normal site-packages is not writeable\n",
      "Looking in indexes: https://download.pytorch.org/whl/cu118, https://pypi.ngc.nvidia.com\n",
      "Requirement already satisfied: torch in c:\\users\\yoges\\appdata\\roaming\\python\\python312\\site-packages (2.6.0+cu118)\n",
      "Requirement already satisfied: torchvision in c:\\users\\yoges\\appdata\\roaming\\python\\python312\\site-packages (0.21.0+cu118)\n",
      "Requirement already satisfied: torchaudio in c:\\users\\yoges\\appdata\\roaming\\python\\python312\\site-packages (2.6.0+cu118)\n",
      "Requirement already satisfied: filelock in c:\\programdata\\anaconda3\\lib\\site-packages (from torch) (3.13.1)\n",
      "Requirement already satisfied: typing-extensions>=4.10.0 in c:\\programdata\\anaconda3\\lib\\site-packages (from torch) (4.11.0)\n",
      "Requirement already satisfied: networkx in c:\\programdata\\anaconda3\\lib\\site-packages (from torch) (3.3)\n",
      "Requirement already satisfied: jinja2 in c:\\programdata\\anaconda3\\lib\\site-packages (from torch) (3.1.4)\n",
      "Requirement already satisfied: fsspec in c:\\programdata\\anaconda3\\lib\\site-packages (from torch) (2024.6.1)\n",
      "Requirement already satisfied: setuptools in c:\\programdata\\anaconda3\\lib\\site-packages (from torch) (75.1.0)\n",
      "Requirement already satisfied: sympy==1.13.1 in c:\\users\\yoges\\appdata\\roaming\\python\\python312\\site-packages (from torch) (1.13.1)\n",
      "Requirement already satisfied: mpmath<1.4,>=1.1.0 in c:\\programdata\\anaconda3\\lib\\site-packages (from sympy==1.13.1->torch) (1.3.0)\n",
      "Requirement already satisfied: numpy in c:\\programdata\\anaconda3\\lib\\site-packages (from torchvision) (1.26.4)\n",
      "Requirement already satisfied: pillow!=8.3.*,>=5.3.0 in c:\\programdata\\anaconda3\\lib\\site-packages (from torchvision) (10.4.0)\n",
      "Requirement already satisfied: MarkupSafe>=2.0 in c:\\programdata\\anaconda3\\lib\\site-packages (from jinja2->torch) (2.1.3)\n"
     ]
    }
   ],
   "source": [
    "!pip3 install torch torchvision torchaudio --index-url https://download.pytorch.org/whl/cu118"
   ]
  },
  {
   "cell_type": "code",
   "execution_count": 53,
   "id": "1a2cf99c",
   "metadata": {},
   "outputs": [],
   "source": [
    "import torch\n",
    "from transformers import GPT2Tokenizer, GPT2LMHeadModel\n",
    "import pandas as pd\n",
    "import numpy as np\n",
    "from scipy.stats import pearsonr\n"
   ]
  },
  {
   "cell_type": "code",
   "execution_count": 54,
   "id": "c4eaaa3c",
   "metadata": {},
   "outputs": [
    {
     "data": {
      "text/plain": [
       "GPT2LMHeadModel(\n",
       "  (transformer): GPT2Model(\n",
       "    (wte): Embedding(50257, 768)\n",
       "    (wpe): Embedding(1024, 768)\n",
       "    (drop): Dropout(p=0.1, inplace=False)\n",
       "    (h): ModuleList(\n",
       "      (0-11): 12 x GPT2Block(\n",
       "        (ln_1): LayerNorm((768,), eps=1e-05, elementwise_affine=True)\n",
       "        (attn): GPT2Attention(\n",
       "          (c_attn): Conv1D(nf=2304, nx=768)\n",
       "          (c_proj): Conv1D(nf=768, nx=768)\n",
       "          (attn_dropout): Dropout(p=0.1, inplace=False)\n",
       "          (resid_dropout): Dropout(p=0.1, inplace=False)\n",
       "        )\n",
       "        (ln_2): LayerNorm((768,), eps=1e-05, elementwise_affine=True)\n",
       "        (mlp): GPT2MLP(\n",
       "          (c_fc): Conv1D(nf=3072, nx=768)\n",
       "          (c_proj): Conv1D(nf=768, nx=3072)\n",
       "          (act): NewGELUActivation()\n",
       "          (dropout): Dropout(p=0.1, inplace=False)\n",
       "        )\n",
       "      )\n",
       "    )\n",
       "    (ln_f): LayerNorm((768,), eps=1e-05, elementwise_affine=True)\n",
       "  )\n",
       "  (lm_head): Linear(in_features=768, out_features=50257, bias=False)\n",
       ")"
      ]
     },
     "execution_count": 54,
     "metadata": {},
     "output_type": "execute_result"
    }
   ],
   "source": [
    "# Loading a transformer model (GPT 2) to generate human like text\n",
    "tokenizer = GPT2Tokenizer.from_pretrained(\"gpt2\")\n",
    "# Tokenizer breaks text into tokens GPT - 2 can understand\n",
    "model = GPT2LMHeadModel.from_pretrained(\"gpt2\")\n",
    "\n",
    "# model is the actual neural network that generates prediction\n",
    "model.eval()\n"
   ]
  },
  {
   "cell_type": "code",
   "execution_count": 55,
   "id": "84611abf",
   "metadata": {},
   "outputs": [],
   "source": [
    "# Extracts only the participants with complete data & keeps only text and labels(PHQ score, gender, race)\n",
    "df = model_df[[\"Participant_ID\", \"Text\", \"PHQ_Score\", \"Gender\", \"Race\",\"Fold\"]].dropna().copy()\n",
    "df[\"PHQ_Score\"] = df[\"PHQ_Score\"].astype(int)\n",
    "df = df.reset_index(drop=True)\n"
   ]
  },
  {
   "cell_type": "code",
   "execution_count": 56,
   "id": "8d0705f0",
   "metadata": {},
   "outputs": [
    {
     "data": {
      "text/plain": [
       "device(type='cuda')"
      ]
     },
     "execution_count": 56,
     "metadata": {},
     "output_type": "execute_result"
    }
   ],
   "source": [
    "device = torch.device(\"cuda\" if torch.cuda.is_available() else \"cpu\")\n",
    "model.to(device)\n",
    "device"
   ]
  },
  {
   "cell_type": "code",
   "execution_count": 57,
   "id": "0347d8f8",
   "metadata": {},
   "outputs": [],
   "source": [
    "# Few-Shot Prompt Engineering\n",
    "# Selecting 3 participants randomly with known PHQ Scores\n",
    "# Using the transcripts and scores as examples in the prompt -> Few shot learning\n",
    "\n",
    "few_shot_df = df.sample(3, random_state=42)\n",
    "\n",
    "def format_example(row):\n",
    "    return f\"Transcript:\\n{row['Text'][:300]}\\nPHQ-8 Score: {row['PHQ_Score']}\\n\"\n",
    "\n",
    "# Combine them into a prompt prefix\n",
    "prompt_prefix = \"\".join([format_example(row) for _, row in few_shot_df.iterrows()])\n"
   ]
  },
  {
   "cell_type": "markdown",
   "id": "efc3ff10",
   "metadata": {},
   "source": [
    "Few shot prompting is a technique used in LLM where we give a few example of the task directly in the prompt so that the model can learn how to respond without any fine tuning.\n",
    "Eg. here is \n",
    "- Transcript A → PHQ-8 Score = 4\n",
    "- Transcript B → PHQ-8 Score = 12\n",
    "- Transcript C → PHQ-8 Score = 19"
   ]
  },
  {
   "cell_type": "code",
   "execution_count": 58,
   "id": "9b216af4",
   "metadata": {},
   "outputs": [],
   "source": [
    "def build_prompt(transcript):\n",
    "    return f\"{prompt_prefix}\\nTranscript:\\n{transcript[:300]}\\nPHQ-8 Score:\"\n",
    "\n",
    "# Building a custom prompt for GPT 2 with few examples then asks it to predict the score for a new transcript"
   ]
  },
  {
   "cell_type": "code",
   "execution_count": 59,
   "id": "b0f9c49f",
   "metadata": {},
   "outputs": [],
   "source": [
    "def predict_phq(prompt_text):\n",
    "    inputs = tokenizer(prompt_text, return_tensors=\"pt\").to(device)\n",
    "    outputs = model.generate(\n",
    "        **inputs,\n",
    "        max_new_tokens=10,\n",
    "        num_return_sequences=1,\n",
    "        do_sample=False,\n",
    "        pad_token_id=tokenizer.eos_token_id\n",
    "    )\n",
    "    decoded = tokenizer.decode(outputs[0], skip_special_tokens=True)\n",
    "    try:\n",
    "        phq = int(decoded.split(\"PHQ-8 Score:\")[-1].strip().split()[0])\n",
    "        return max(0, min(phq, 24))\n",
    "    except:\n",
    "        return 10  # fallback\n",
    "\n",
    "    \n",
    "    # Here we feed the constructed prompt to GPT 2\n",
    "    # GPT 2 will generate the next few words with the PHQ score\n",
    "    # Then we parse that number as the predicted PHQ Score here\n"
   ]
  },
  {
   "cell_type": "code",
   "execution_count": 60,
   "id": "c50505a7",
   "metadata": {},
   "outputs": [
    {
     "name": "stderr",
     "output_type": "stream",
     "text": [
      "c:\\ProgramData\\anaconda3\\Lib\\site-packages\\sklearn\\model_selection\\_split.py:776: UserWarning: The least populated class in y has only 1 members, which is less than n_splits=5.\n",
      "  warnings.warn(\n"
     ]
    },
    {
     "name": "stdout",
     "output_type": "stream",
     "text": [
      " GPT-2 (PyTorch) Average across folds → Pearson r: 0.1193 | RE: 0.2223\n"
     ]
    }
   ],
   "source": [
    "from sklearn.model_selection import StratifiedKFold\n",
    "\n",
    "kf = StratifiedKFold(n_splits=5, shuffle=True, random_state=42)\n",
    "results = []\n",
    "\n",
    "# Initialize predicted column\n",
    "df[\"Predicted_PHQ\"] = np.nan\n",
    "\n",
    "for fold, (train_idx, test_idx) in enumerate(kf.split(df, df[\"PHQ_Score\"])):\n",
    "    test_df = df.iloc[test_idx].copy()\n",
    "    predicted_scores = []\n",
    "\n",
    "    for _, row in test_df.iterrows():\n",
    "        prompt = build_prompt(row[\"Text\"])\n",
    "        score = predict_phq(prompt)\n",
    "        predicted_scores.append(score)\n",
    "\n",
    "    # Store predictions in original df\n",
    "    df.loc[test_df.index, \"Predicted_PHQ\"] = predicted_scores\n",
    "\n",
    "    y_true = test_df[\"PHQ_Score\"]\n",
    "    y_pred = predicted_scores\n",
    "    r, _ = pearsonr(y_true, y_pred)\n",
    "    re = np.mean(np.abs(np.array(y_pred) - y_true) / y_true.max())\n",
    "    results.append((fold, r, re))\n",
    "\n",
    "# Final average\n",
    "r = np.mean([x[1] for x in results])\n",
    "re = np.mean([x[2] for x in results])\n",
    "print(f\" GPT-2 (PyTorch) Average across folds → Pearson r: {r:.4f} | RE: {re:.4f}\")\n"
   ]
  },
  {
   "cell_type": "code",
   "execution_count": 62,
   "id": "d7de3e58",
   "metadata": {},
   "outputs": [
    {
     "name": "stdout",
     "output_type": "stream",
     "text": [
      "Female - White American → r: 0.1454 | RE: 0.2297\n",
      "Male - African American → r: 0.2035 | RE: 0.2096\n",
      "Male - Hispanic → r: nan | RE: 0.2314\n",
      "Male - White American → r: -0.0047 | RE: 0.2099\n",
      "Female - Hispanic → r: 0.5587 | RE: 0.3968\n",
      "Female - African American → r: -0.1705 | RE: 0.2583\n"
     ]
    },
    {
     "name": "stderr",
     "output_type": "stream",
     "text": [
      "C:\\Users\\yoges\\AppData\\Local\\Temp\\ipykernel_6892\\1431699627.py:6: ConstantInputWarning: An input array is constant; the correlation coefficient is not defined.\n",
      "  r_g, _ = pearsonr(group_df[\"PHQ_Score\"], group_df[\"Predicted_PHQ\"])\n"
     ]
    }
   ],
   "source": [
    "df[\"Group\"] = df[\"Gender\"] + \" - \" + df[\"Race\"]\n",
    "\n",
    "for group in df[\"Group\"].unique():\n",
    "    group_df = df[df[\"Group\"] == group]\n",
    "    if len(group_df) >= 2:\n",
    "        r_g, _ = pearsonr(group_df[\"PHQ_Score\"], group_df[\"Predicted_PHQ\"])\n",
    "        re_g = np.mean(np.abs(group_df[\"PHQ_Score\"] - group_df[\"Predicted_PHQ\"]) / group_df[\"PHQ_Score\"].max())\n",
    "        print(f\"{group} → r: {r_g:.4f} | RE: {re_g:.4f}\")\n"
   ]
  },
  {
   "cell_type": "code",
   "execution_count": 63,
   "id": "ed03c58f",
   "metadata": {},
   "outputs": [],
   "source": [
    "def evaluate_transformer_groupwise(df, group_column):\n",
    "    groupwise_results = []\n",
    "    for group in df[group_column].unique():\n",
    "        group_df = df[df[group_column] == group]\n",
    "        if len(group_df) >= 2:\n",
    "            r_g, _ = pearsonr(group_df[\"PHQ_Score\"], group_df[\"Predicted_PHQ\"])\n",
    "            re_g = np.mean(np.abs(group_df[\"PHQ_Score\"] - group_df[\"Predicted_PHQ\"]) / group_df[\"PHQ_Score\"].max())\n",
    "            groupwise_results.append((group, r_g, re_g))\n",
    "    return pd.DataFrame(groupwise_results, columns=[\"Group\", \"Pearson_r\", \"RE\"])\n"
   ]
  },
  {
   "cell_type": "code",
   "execution_count": 66,
   "id": "edc96b4e",
   "metadata": {},
   "outputs": [
    {
     "name": "stdout",
     "output_type": "stream",
     "text": [
      "=== Groupwise Evaluation for GPT-2 (Transformer) ===\n",
      "\n",
      " By Gender:\n",
      "    Group  Pearson_r        RE\n",
      "0  Female   0.125579  0.207108\n",
      "1    Male   0.035339  0.190909\n",
      "\n",
      " By Race:\n",
      "              Group  Pearson_r        RE\n",
      "0    White American   0.025150  0.197521\n",
      "1  African American   0.000512  0.194444\n",
      "2          Hispanic   0.217067  0.224599\n",
      "\n",
      " By Gender × Race (Intersection):\n",
      "                       Group  Pearson_r        RE\n",
      "0    Female - White American   0.145369  0.229692\n",
      "1    Male - African American   0.203486  0.209559\n",
      "2            Male - Hispanic        NaN  0.231373\n",
      "3      Male - White American  -0.004663  0.209893\n",
      "4          Female - Hispanic   0.558694  0.396825\n",
      "5  Female - African American  -0.170501  0.258333\n"
     ]
    },
    {
     "name": "stderr",
     "output_type": "stream",
     "text": [
      "C:\\Users\\yoges\\AppData\\Local\\Temp\\ipykernel_6892\\160917261.py:6: ConstantInputWarning: An input array is constant; the correlation coefficient is not defined.\n",
      "  r_g, _ = pearsonr(group_df[\"PHQ_Score\"], group_df[\"Predicted_PHQ\"])\n"
     ]
    }
   ],
   "source": [
    "print(\"=== Groupwise Evaluation for GPT-2 (Transformer) ===\")\n",
    "\n",
    "print(\"\\n By Gender:\")\n",
    "groupwise_gender_gpt = evaluate_transformer_groupwise(df, group_column=\"Gender\")\n",
    "print(groupwise_gender_gpt)\n",
    "\n",
    "print(\"\\n By Race:\")\n",
    "groupwise_race_gpt = evaluate_transformer_groupwise(df, group_column=\"Race\")\n",
    "print(groupwise_race_gpt)\n",
    "\n",
    "print(\"\\n By Gender × Race (Intersection):\")\n",
    "groupwise_intersection_gpt = evaluate_transformer_groupwise(df, group_column=\"Group\")\n",
    "print(groupwise_intersection_gpt)\n"
   ]
  },
  {
   "cell_type": "code",
   "execution_count": 67,
   "id": "4d6c154c",
   "metadata": {},
   "outputs": [
    {
     "data": {
      "image/png": "[encoded data removed]",
      "text/plain": [
       "<Figure size 1000x600 with 1 Axes>"
      ]
     },
     "metadata": {},
     "output_type": "display_data"
    }
   ],
   "source": [
    "import matplotlib.pyplot as plt\n",
    "\n",
    "\n",
    "r_rf, re_rf = 0.19, 0.22\n",
    "r_dl, re_dl = 0.09, 0.22\n",
    "\n",
    "r_gpt = r\n",
    "re_gpt = re\n",
    "\n",
    "labels = ['Pearson r', 'Relative Error (RE)']\n",
    "rf_values = [r_rf, re_rf]\n",
    "dl_values = [r_dl, re_dl]\n",
    "gpt_values = [r_gpt, re_gpt]\n",
    "\n",
    "x = range(len(labels))\n",
    "width = 0.25\n",
    "\n",
    "fig, ax = plt.subplots(figsize=(10, 6))\n",
    "\n",
    "ax.bar([i - width for i in x], rf_values, width, label='Random Forest (Debiased)', color='skyblue')\n",
    "ax.bar(x, dl_values, width, label='Deep Learning (Debiased)', color='coral')\n",
    "ax.bar([i + width for i in x], gpt_values, width, label='GPT-2 Transformer', color='mediumseagreen')\n",
    "\n",
    "for i in x:\n",
    "    ax.text(i - width, rf_values[i] + 0.01, f\"{rf_values[i]:.2f}\", ha='center')\n",
    "    ax.text(i, dl_values[i] + 0.01, f\"{dl_values[i]:.2f}\", ha='center')\n",
    "    ax.text(i + width, gpt_values[i] + 0.01, f\"{gpt_values[i]:.2f}\", ha='center')\n",
    "\n",
    "ax.set_ylabel(\"Score\")\n",
    "ax.set_title(\"Depression Severity Estimation: Model Comparison\")\n",
    "ax.set_xticks(x)\n",
    "ax.set_xticklabels(labels)\n",
    "ax.legend()\n",
    "ax.grid(axis='y', linestyle='--', alpha=0.7)\n",
    "\n",
    "plt.tight_layout()\n",
    "plt.show()\n"
   ]
  },
  {
   "cell_type": "markdown",
   "id": "3e94deff",
   "metadata": {},
   "source": [
    "% Random Forest (Debiased)\n",
    "- Pearson r = 0.19 → Captures weak linear relationship after removing demographic features.\n",
    "- RE = 0.22 → Performs decently in error, but lacks deep insight into text.\n",
    "\n",
    "% Deep Learning (MLP, Debiased)\n",
    "- Pearson r = 0.09 → Struggles to correlate predictions after debiasing.\n",
    "- RE = 0.22 → Same average error as Random Forest, but slightly less effective at correlation.\n",
    "\n",
    "% GPT-2 Transformer\n",
    "- Pearson r = 0.12 → Slightly better correlation than Deep Learning, but not significant.\n",
    "- RE = 0.22 → Matches other models in average prediction error.\n",
    "\n",
    "% Final Results:\n",
    "- After debiasing, all models converge to a similar error (~0.22), meaning they all generalize similarly when demographic shortcuts are removed.\n",
    "- However, GPT-2 maintains a slight edge in correlation — thanks to its ability to understand subtle linguistic patterns through few-shot learning.\n",
    "- Deep Learning is impacted more heavily in terms of correlation but still stable in average prediction error.\n",
    "- Random Forest, though more interpretable, performs similarly in RE but doesn't capture complex linguistic signals.\n",
    "- Overall, GPT-2 remains promising, even in debiased settings, and could benefit further from fine-tuning or domain-specific prompts.\n"
   ]
  },
  {
   "cell_type": "markdown",
   "id": "7ca295ae",
   "metadata": {},
   "source": [
    "**We have used AI only for correcting the grammatical mistakes, changing tense and sentence structures.**"
   ]
  }
 ],
 "metadata": {
  "kernelspec": {
   "display_name": "Python 3 (ipykernel)",
   "language": "python",
   "name": "python3"
  },
  "language_info": {
   "codemirror_mode": {
    "name": "ipython",
    "version": 3
   },
   "file_extension": ".py",
   "mimetype": "text/x-python",
   "name": "python",
   "nbconvert_exporter": "python",
   "pygments_lexer": "ipython3",
   "version": "3.12.7"
  }
 },
 "nbformat": 4,
 "nbformat_minor": 5
}

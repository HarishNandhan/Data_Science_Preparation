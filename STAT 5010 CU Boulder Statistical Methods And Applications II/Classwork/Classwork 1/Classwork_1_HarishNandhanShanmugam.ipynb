{
  "cells": [
    {
      "cell_type": "markdown",
      "id": "379e2b64-a9a2-4e2f-ac78-02ae40ce3e0f",
      "metadata": {
        "id": "379e2b64-a9a2-4e2f-ac78-02ae40ce3e0f"
      },
      "source": [
        "## Classwork 1\n",
        "## Introduction to the Tidyverse in R\n",
        "\n",
        "Note that this notebook relies heavily on material from the textbook [R for Data Science](https://r4ds.had.co.nz/index.html) by Hadley Wickham and Garrett Grolemund, and to a lesser extent, on the [DataCamp course on the Tidyverse](https://www.datacamp.com/courses/introduction-to-the-tidyverse). Both are great resources to explore!"
      ]
    },
    {
      "cell_type": "markdown",
      "id": "994846b4-f621-4476-9e22-bbc6a4452788",
      "metadata": {
        "id": "994846b4-f621-4476-9e22-bbc6a4452788"
      },
      "source": [
        "### A. What is the Tidyverse? And how do we install it?\n",
        "\n",
        "The Tidyverse is a collection of R packages meant to streamline data science tasks. All Tidyverse packages share an underlying design philosophy, grammar, and data structures. In this notebook, we'll learn some basics of the Tidyverse."
      ]
    },
    {
      "cell_type": "code",
      "execution_count": 1,
      "id": "4fe05d60-d6ff-46ee-bf7c-3a79701206d6",
      "metadata": {
        "colab": {
          "base_uri": "https://localhost:8080/"
        },
        "id": "4fe05d60-d6ff-46ee-bf7c-3a79701206d6",
        "outputId": "01f06eeb-1d5e-44fe-e06b-0a527a3106b0"
      },
      "outputs": [
        {
          "output_type": "stream",
          "name": "stderr",
          "text": [
            "Installing package into ‘/usr/local/lib/R/site-library’\n",
            "(as ‘lib’ is unspecified)\n",
            "\n",
            "also installing the dependencies ‘lazyeval’, ‘rex’, ‘covr’, ‘feather’, ‘mockr’\n",
            "\n",
            "\n",
            "── \u001b[1mAttaching core tidyverse packages\u001b[22m ──────────────────────── tidyverse 2.0.0 ──\n",
            "\u001b[32m✔\u001b[39m \u001b[34mdplyr    \u001b[39m 1.1.4     \u001b[32m✔\u001b[39m \u001b[34mreadr    \u001b[39m 2.1.5\n",
            "\u001b[32m✔\u001b[39m \u001b[34mforcats  \u001b[39m 1.0.0     \u001b[32m✔\u001b[39m \u001b[34mstringr  \u001b[39m 1.5.1\n",
            "\u001b[32m✔\u001b[39m \u001b[34mggplot2  \u001b[39m 3.5.1     \u001b[32m✔\u001b[39m \u001b[34mtibble   \u001b[39m 3.2.1\n",
            "\u001b[32m✔\u001b[39m \u001b[34mlubridate\u001b[39m 1.9.4     \u001b[32m✔\u001b[39m \u001b[34mtidyr    \u001b[39m 1.3.1\n",
            "\u001b[32m✔\u001b[39m \u001b[34mpurrr    \u001b[39m 1.0.2     \n",
            "── \u001b[1mConflicts\u001b[22m ────────────────────────────────────────── tidyverse_conflicts() ──\n",
            "\u001b[31m✖\u001b[39m \u001b[34mdplyr\u001b[39m::\u001b[32mfilter()\u001b[39m masks \u001b[34mstats\u001b[39m::filter()\n",
            "\u001b[31m✖\u001b[39m \u001b[34mdplyr\u001b[39m::\u001b[32mlag()\u001b[39m    masks \u001b[34mstats\u001b[39m::lag()\n",
            "\u001b[36mℹ\u001b[39m Use the conflicted package (\u001b[3m\u001b[34m<http://conflicted.r-lib.org/>\u001b[39m\u001b[23m) to force all conflicts to become errors\n"
          ]
        }
      ],
      "source": [
        "install.packages(\"tidyverse\", dependencies = TRUE)\n",
        "library(tidyverse)"
      ]
    },
    {
      "cell_type": "markdown",
      "id": "4c4efdde-45d0-4fb5-b465-a30899430354",
      "metadata": {
        "id": "4c4efdde-45d0-4fb5-b465-a30899430354"
      },
      "source": [
        "### B. Some very basic plotting with ggplot\n",
        "\n",
        "Let's do some plotting with the mpg dataset. mpg contains observations collected by the US Environmental Protection Agency on 38 models of car.\n",
        "\n",
        "First, load and learn about the variables contained in this dataset. The dataset is in the ggplot2 package, which is included in the tidyverse. So, you can load the data using data(mpg)."
      ]
    },
    {
      "cell_type": "code",
      "execution_count": 2,
      "id": "3a6ab4e9-bdf2-47db-a76f-6f23a81a14f1",
      "metadata": {
        "colab": {
          "base_uri": "https://localhost:8080/",
          "height": 286
        },
        "id": "3a6ab4e9-bdf2-47db-a76f-6f23a81a14f1",
        "outputId": "c90ec851-06fd-48fc-ac8d-34afe0e31d89"
      },
      "outputs": [
        {
          "output_type": "display_data",
          "data": {
            "text/html": [
              "<table class=\"dataframe\">\n",
              "<caption>A tibble: 6 × 11</caption>\n",
              "<thead>\n",
              "\t<tr><th scope=col>manufacturer</th><th scope=col>model</th><th scope=col>displ</th><th scope=col>year</th><th scope=col>cyl</th><th scope=col>trans</th><th scope=col>drv</th><th scope=col>cty</th><th scope=col>hwy</th><th scope=col>fl</th><th scope=col>class</th></tr>\n",
              "\t<tr><th scope=col>&lt;chr&gt;</th><th scope=col>&lt;chr&gt;</th><th scope=col>&lt;dbl&gt;</th><th scope=col>&lt;int&gt;</th><th scope=col>&lt;int&gt;</th><th scope=col>&lt;chr&gt;</th><th scope=col>&lt;chr&gt;</th><th scope=col>&lt;int&gt;</th><th scope=col>&lt;int&gt;</th><th scope=col>&lt;chr&gt;</th><th scope=col>&lt;chr&gt;</th></tr>\n",
              "</thead>\n",
              "<tbody>\n",
              "\t<tr><td>audi</td><td>a4</td><td>1.8</td><td>1999</td><td>4</td><td>auto(l5)  </td><td>f</td><td>18</td><td>29</td><td>p</td><td>compact</td></tr>\n",
              "\t<tr><td>audi</td><td>a4</td><td>1.8</td><td>1999</td><td>4</td><td>manual(m5)</td><td>f</td><td>21</td><td>29</td><td>p</td><td>compact</td></tr>\n",
              "\t<tr><td>audi</td><td>a4</td><td>2.0</td><td>2008</td><td>4</td><td>manual(m6)</td><td>f</td><td>20</td><td>31</td><td>p</td><td>compact</td></tr>\n",
              "\t<tr><td>audi</td><td>a4</td><td>2.0</td><td>2008</td><td>4</td><td>auto(av)  </td><td>f</td><td>21</td><td>30</td><td>p</td><td>compact</td></tr>\n",
              "\t<tr><td>audi</td><td>a4</td><td>2.8</td><td>1999</td><td>6</td><td>auto(l5)  </td><td>f</td><td>16</td><td>26</td><td>p</td><td>compact</td></tr>\n",
              "\t<tr><td>audi</td><td>a4</td><td>2.8</td><td>1999</td><td>6</td><td>manual(m5)</td><td>f</td><td>18</td><td>26</td><td>p</td><td>compact</td></tr>\n",
              "</tbody>\n",
              "</table>\n"
            ],
            "text/markdown": "\nA tibble: 6 × 11\n\n| manufacturer &lt;chr&gt; | model &lt;chr&gt; | displ &lt;dbl&gt; | year &lt;int&gt; | cyl &lt;int&gt; | trans &lt;chr&gt; | drv &lt;chr&gt; | cty &lt;int&gt; | hwy &lt;int&gt; | fl &lt;chr&gt; | class &lt;chr&gt; |\n|---|---|---|---|---|---|---|---|---|---|---|\n| audi | a4 | 1.8 | 1999 | 4 | auto(l5)   | f | 18 | 29 | p | compact |\n| audi | a4 | 1.8 | 1999 | 4 | manual(m5) | f | 21 | 29 | p | compact |\n| audi | a4 | 2.0 | 2008 | 4 | manual(m6) | f | 20 | 31 | p | compact |\n| audi | a4 | 2.0 | 2008 | 4 | auto(av)   | f | 21 | 30 | p | compact |\n| audi | a4 | 2.8 | 1999 | 6 | auto(l5)   | f | 16 | 26 | p | compact |\n| audi | a4 | 2.8 | 1999 | 6 | manual(m5) | f | 18 | 26 | p | compact |\n\n",
            "text/latex": "A tibble: 6 × 11\n\\begin{tabular}{lllllllllll}\n manufacturer & model & displ & year & cyl & trans & drv & cty & hwy & fl & class\\\\\n <chr> & <chr> & <dbl> & <int> & <int> & <chr> & <chr> & <int> & <int> & <chr> & <chr>\\\\\n\\hline\n\t audi & a4 & 1.8 & 1999 & 4 & auto(l5)   & f & 18 & 29 & p & compact\\\\\n\t audi & a4 & 1.8 & 1999 & 4 & manual(m5) & f & 21 & 29 & p & compact\\\\\n\t audi & a4 & 2.0 & 2008 & 4 & manual(m6) & f & 20 & 31 & p & compact\\\\\n\t audi & a4 & 2.0 & 2008 & 4 & auto(av)   & f & 21 & 30 & p & compact\\\\\n\t audi & a4 & 2.8 & 1999 & 6 & auto(l5)   & f & 16 & 26 & p & compact\\\\\n\t audi & a4 & 2.8 & 1999 & 6 & manual(m5) & f & 18 & 26 & p & compact\\\\\n\\end{tabular}\n",
            "text/plain": [
              "  manufacturer model displ year cyl trans      drv cty hwy fl class  \n",
              "1 audi         a4    1.8   1999 4   auto(l5)   f   18  29  p  compact\n",
              "2 audi         a4    1.8   1999 4   manual(m5) f   21  29  p  compact\n",
              "3 audi         a4    2.0   2008 4   manual(m6) f   20  31  p  compact\n",
              "4 audi         a4    2.0   2008 4   auto(av)   f   21  30  p  compact\n",
              "5 audi         a4    2.8   1999 6   auto(l5)   f   16  26  p  compact\n",
              "6 audi         a4    2.8   1999 6   manual(m5) f   18  26  p  compact"
            ]
          },
          "metadata": {}
        }
      ],
      "source": [
        "data(mpg)\n",
        "#help(mpg)\n",
        "head(mpg)\n",
        "?mpg"
      ]
    },
    {
      "cell_type": "markdown",
      "id": "1a62be92-0fbf-40db-8b84-5091867b172f",
      "metadata": {
        "id": "1a62be92-0fbf-40db-8b84-5091867b172f"
      },
      "source": [
        "Let's look at a plot that might tell us about the relationship between drv (whether the car is front, rear, or 4-wheel drive) and hwy (highway miles per gallon).\n",
        "\n",
        "We begin a plot with the function `ggplot()`, which creates a coordinate system that you can add layers to. Layers are created with `+` `geom_boxplot()` will make a boxplot. In general, a template for creating plots would be\n",
        "\n",
        "`ggplot(data = DATA) +\n",
        "  <GEOM_FUNCTION>(mapping = aes(<MAPPINGS>))`\n",
        "\n",
        "**Below is the basic code for the boxplot (fill in the correct variables).**"
      ]
    },
    {
      "cell_type": "code",
      "execution_count": 3,
      "id": "ed25db36-ffde-4fb7-95e8-62d7d8ef6f46",
      "metadata": {
        "colab": {
          "base_uri": "https://localhost:8080/",
          "height": 197
        },
        "id": "ed25db36-ffde-4fb7-95e8-62d7d8ef6f46",
        "outputId": "b6bb96bb-6821-4bbf-bc35-3e1f07d0087e"
      },
      "outputs": [
        {
          "output_type": "display_data",
          "data": {
            "text/plain": [
              "plot without title"
            ],
            "image/png": "[encoded data removed]"
          },
          "metadata": {
            "image/png": {
              "width": 240,
              "height": 180
            }
          }
        }
      ],
      "source": [
        "options(repr.plot.width=4, repr.plot.height=3) #this line just changes the size of the boxplots\n",
        "p = ggplot(data = mpg) +\n",
        "    geom_boxplot(mapping = aes(x = drv , y = hwy, color = drv))\n",
        "### (1) Your code here.\n",
        "p\n",
        "###"
      ]
    },
    {
      "cell_type": "markdown",
      "id": "f3910f00-7714-4ebb-8fd1-7dc9a9e7051f",
      "metadata": {
        "id": "f3910f00-7714-4ebb-8fd1-7dc9a9e7051f"
      },
      "source": [
        "**What do we notice about the relationship?**"
      ]
    },
    {
      "cell_type": "markdown",
      "id": "e4af0009-5aff-47fc-85bb-26ff732836d0",
      "metadata": {
        "id": "e4af0009-5aff-47fc-85bb-26ff732836d0"
      },
      "source": [
        "- When compared to 4-wheel drive or rear wheel drive, front-wheel is more efficient with respect to highway miles per gallon.\n",
        "\n",
        "\n",
        "- There are some potential outliers in the front-wheel drive category.\n",
        "\n",
        "\n",
        "- The 4-wheel drive group has a long/heavy upper tail."
      ]
    },
    {
      "cell_type": "markdown",
      "id": "8cc25cb6-2783-4a2e-9ccd-24e154333fa1",
      "metadata": {
        "id": "8cc25cb6-2783-4a2e-9ccd-24e154333fa1"
      },
      "source": [
        "You can mess with *all* sorts of things. For example, you could change colors:"
      ]
    },
    {
      "cell_type": "code",
      "execution_count": 4,
      "id": "3aa0be20-10ba-408b-9ec3-f1469f09cafc",
      "metadata": {
        "colab": {
          "base_uri": "https://localhost:8080/",
          "height": 197
        },
        "id": "3aa0be20-10ba-408b-9ec3-f1469f09cafc",
        "outputId": "ca9ff9ff-fc29-4a29-ca03-5145dd0a7d75"
      },
      "outputs": [
        {
          "output_type": "display_data",
          "data": {
            "text/plain": [
              "plot without title"
            ],
            "image/png": "[encoded data removed]"
          },
          "metadata": {
            "image/png": {
              "width": 240,
              "height": 180
            }
          }
        }
      ],
      "source": [
        "options(repr.plot.width=4, repr.plot.height=3)\n",
        "ggplot(data = mpg) +\n",
        "  geom_boxplot(mapping = aes(x = drv, y = hwy, color = drv)) +\n",
        "    scale_color_manual(values=c(\"#999999\", \"#CFB87C\", \"black\"))+\n",
        "    theme_bw()"
      ]
    },
    {
      "cell_type": "markdown",
      "id": "a65f134f-54f3-4993-b832-358c46009205",
      "metadata": {
        "id": "a65f134f-54f3-4993-b832-358c46009205"
      },
      "source": [
        "In some instances, it is helpful to swap the axes. For example, the levels of the factor along the horizontal axis might have long names. **Try flipping the axes using `coord_flip()`**."
      ]
    },
    {
      "cell_type": "code",
      "execution_count": 5,
      "id": "ed2b14f4-4f41-4886-96fb-5b39a032f3d1",
      "metadata": {
        "colab": {
          "base_uri": "https://localhost:8080/",
          "height": 197
        },
        "id": "ed2b14f4-4f41-4886-96fb-5b39a032f3d1",
        "outputId": "ad3f2160-fc6a-4c0c-a365-2fa8652e7e0c"
      },
      "outputs": [
        {
          "output_type": "display_data",
          "data": {
            "text/plain": [
              "plot without title"
            ],
            "image/png": "[encoded data removed]"
          },
          "metadata": {
            "image/png": {
              "width": 240,
              "height": 180
            }
          }
        }
      ],
      "source": [
        "### (2) Your code here\n",
        "options(repr.plot.width=4, repr.plot.height=3) #this line just changes the size of the boxplots\n",
        "p = ggplot(data = mpg) +\n",
        "    geom_boxplot(mapping = aes(x = drv , y = hwy, color = drv)) +\n",
        "      scale_color_manual(values = c('#999999','red','black')) +\n",
        "      theme_bw()+\n",
        "      coord_flip()\n",
        "### (1) Your code here.\n",
        "p\n",
        "###\n",
        "###"
      ]
    },
    {
      "cell_type": "markdown",
      "id": "0ae8dc80-025a-4be8-85ad-843b973aa51b",
      "metadata": {
        "id": "0ae8dc80-025a-4be8-85ad-843b973aa51b"
      },
      "source": [
        "Now let's try a scatterplot. **Use the template above to plot hwy (y) against displ (x).** `geom_point()` will give a scatterplot."
      ]
    },
    {
      "cell_type": "code",
      "execution_count": 6,
      "id": "0136aaaa-ae6c-4ff3-9c3c-21ec0acae245",
      "metadata": {
        "colab": {
          "base_uri": "https://localhost:8080/",
          "height": 197
        },
        "id": "0136aaaa-ae6c-4ff3-9c3c-21ec0acae245",
        "outputId": "8650d4ce-cad8-4ea4-dc7b-17483002d0c4"
      },
      "outputs": [
        {
          "output_type": "display_data",
          "data": {
            "text/plain": [
              "plot without title"
            ],
            "image/png": "[encoded data removed]"
          },
          "metadata": {
            "image/png": {
              "width": 240,
              "height": 180
            }
          }
        }
      ],
      "source": [
        "options(repr.plot.width=4, repr.plot.height=3)\n",
        "\n",
        "p_scatter = ggplot(data = mpg) +\n",
        "  geom_point(mapping = aes(x=displ,y=hwy))+\n",
        "  theme_bw()\n",
        "p_scatter\n",
        "###"
      ]
    },
    {
      "cell_type": "markdown",
      "id": "28125f2b-b99c-41b4-a1b8-695a4141f857",
      "metadata": {
        "id": "28125f2b-b99c-41b4-a1b8-695a4141f857"
      },
      "source": [
        "**What do we notice about the relationship between engine displacement and highway miles per gallon?**"
      ]
    },
    {
      "cell_type": "markdown",
      "id": "d75df694-204f-42c6-a4ed-b05f456a4f97",
      "metadata": {
        "id": "d75df694-204f-42c6-a4ed-b05f456a4f97"
      },
      "source": [
        "There is a downward trend in `hwy` as `displ` increases. The trend appears roughly linear. However, there may be some evidence of curvature at the extremes of `displ`."
      ]
    },
    {
      "cell_type": "markdown",
      "id": "d112b8ab-034b-4540-aae8-62e89062bf9d",
      "metadata": {
        "id": "d112b8ab-034b-4540-aae8-62e89062bf9d"
      },
      "source": [
        "**Now, let's color points based on whether they represent a vehicle that is front, rear, or 4-wheel drive (`drv`). We will map the `drv` variable to the *aesthetic* `color`. In general, an aesthetic is a \"visual property of the objects in the plot\" ([Wickham, Section 3.3](https://r4ds.had.co.nz/index.html)). Other aesthetics include size and shape.**\n",
        "\n",
        "**Further, use the `scale_color_manual()` function to specify the [CU Boulder Colors](https://www.colorado.edu/brand/how-use/color).**"
      ]
    },
    {
      "cell_type": "code",
      "execution_count": 7,
      "id": "02d92ccd-5f90-405f-be0f-5c258d433a1a",
      "metadata": {
        "colab": {
          "base_uri": "https://localhost:8080/",
          "height": 197
        },
        "id": "02d92ccd-5f90-405f-be0f-5c258d433a1a",
        "outputId": "3956fd58-f32d-4114-e9d0-42737fe20496"
      },
      "outputs": [
        {
          "output_type": "display_data",
          "data": {
            "text/plain": [
              "plot without title"
            ],
            "image/png": "[encoded data removed]"
          },
          "metadata": {
            "image/png": {
              "width": 240,
              "height": 180
            }
          }
        }
      ],
      "source": [
        "options(repr.plot.width=4, repr.plot.height=3)\n",
        "ggplot(data = mpg) +\n",
        "  geom_point(mapping = aes(x = displ, y = hwy, color = drv)) +\n",
        "    scale_color_manual(values=c(\"#CFB87C\", \"#000000\", \"#A2A4A3\")) +\n",
        "    theme_bw()"
      ]
    },
    {
      "cell_type": "markdown",
      "id": "c036015d-7c27-48ee-8349-20ea9cd8ed53",
      "metadata": {
        "id": "c036015d-7c27-48ee-8349-20ea9cd8ed53"
      },
      "source": [
        "**What do we notice about the relationships between these variables?**"
      ]
    },
    {
      "cell_type": "markdown",
      "id": "2321a4e2-997a-4051-9e98-23780e2ee085",
      "metadata": {
        "id": "2321a4e2-997a-4051-9e98-23780e2ee085"
      },
      "source": []
    },
    {
      "cell_type": "markdown",
      "id": "6f627460-7247-41d9-a22b-9b5abe381970",
      "metadata": {
        "id": "6f627460-7247-41d9-a22b-9b5abe381970"
      },
      "source": [
        "Another way to add information from categorical variables to plots is by using *facets*. Facets split a plot into subplots, where each subplot contains data for a particular level of the categorical variable. We can facet by adding `facet_wrap(~ CatVar, nrow = x)` to our ggplot, where `CatVar` is the categorical variable that we want to facet on, and `x` is the number of rows that we'd like (we could also use ncol...).  \n",
        "\n",
        "**Create a facet plot where you split the data based on the class variable**."
      ]
    },
    {
      "cell_type": "code",
      "execution_count": 8,
      "id": "380bfef2-8bc6-4adb-9a67-003e643402bf",
      "metadata": {
        "colab": {
          "base_uri": "https://localhost:8080/",
          "height": 197
        },
        "id": "380bfef2-8bc6-4adb-9a67-003e643402bf",
        "outputId": "ba20393a-2fb4-4c5a-aa55-7274b9e43603"
      },
      "outputs": [
        {
          "output_type": "display_data",
          "data": {
            "text/plain": [
              "plot without title"
            ],
            "image/png": "[encoded data removed]"
          },
          "metadata": {
            "image/png": {
              "width": 240,
              "height": 180
            }
          }
        }
      ],
      "source": [
        "options(repr.plot.width=4, repr.plot.height=3)\n",
        "\n",
        "### (4) Your code here.\n",
        "p_facet = ggplot(data = mpg) +\n",
        "  geom_point(mapping = aes(x = displ, y = hwy))+\n",
        "    facet_wrap(~class,ncol = 3)+ #doing the plots based on the classes\n",
        "    theme_bw()\n",
        "p_facet\n",
        "###"
      ]
    },
    {
      "cell_type": "markdown",
      "id": "621c319d-e98d-42b8-b513-454a648a45b6",
      "metadata": {
        "id": "621c319d-e98d-42b8-b513-454a648a45b6"
      },
      "source": [
        "Instead of seeing the individual data points, we might be interested in visualizing some overall trend between displ and hwy. We could do this by substituting `geom_points()` with `geom_smooth()`. **Try it!**"
      ]
    },
    {
      "cell_type": "code",
      "execution_count": 9,
      "id": "6e8d338e-3eee-43b3-b10f-dddf23af9336",
      "metadata": {
        "colab": {
          "base_uri": "https://localhost:8080/",
          "height": 214
        },
        "id": "6e8d338e-3eee-43b3-b10f-dddf23af9336",
        "outputId": "3974f59b-53ab-4d33-9e4c-dd86bc3f39d9"
      },
      "outputs": [
        {
          "output_type": "stream",
          "name": "stderr",
          "text": [
            "\u001b[1m\u001b[22m`geom_smooth()` using method = 'loess' and formula = 'y ~ x'\n"
          ]
        },
        {
          "output_type": "display_data",
          "data": {
            "text/plain": [
              "plot without title"
            ],
            "image/png": "[encoded data removed]"
          },
          "metadata": {
            "image/png": {
              "width": 240,
              "height": 180
            }
          }
        }
      ],
      "source": [
        "options(repr.plot.width=4, repr.plot.height=3)\n",
        "ggplot(data = mpg) +\n",
        "  geom_smooth(mapping = aes(x = displ, y = hwy), color = \"#CFB87C\")+\n",
        "    theme_bw()"
      ]
    },
    {
      "cell_type": "markdown",
      "id": "cd9f2621-3af5-494b-8f9f-a134fc491bf4",
      "metadata": {
        "id": "cd9f2621-3af5-494b-8f9f-a134fc491bf4"
      },
      "source": [
        "And, we can layer the smooth over the scatterplot pretty easily by adding `+ geom_point()`. **Try it!**"
      ]
    },
    {
      "cell_type": "code",
      "execution_count": 10,
      "id": "c39fa871-574f-459d-a6c5-3ec378ad0fec",
      "metadata": {
        "colab": {
          "base_uri": "https://localhost:8080/",
          "height": 214
        },
        "id": "c39fa871-574f-459d-a6c5-3ec378ad0fec",
        "outputId": "dcdb8042-01d4-4883-bdff-a5153b137e69"
      },
      "outputs": [
        {
          "output_type": "stream",
          "name": "stderr",
          "text": [
            "\u001b[1m\u001b[22m`geom_smooth()` using method = 'loess' and formula = 'y ~ x'\n"
          ]
        },
        {
          "output_type": "display_data",
          "data": {
            "text/plain": [
              "plot without title"
            ],
            "image/png": "[encoded data removed]"
          },
          "metadata": {
            "image/png": {
              "width": 240,
              "height": 180
            }
          }
        }
      ],
      "source": [
        "ggplot(data = mpg) +\n",
        "    geom_point(mapping = aes(x = displ, y = hwy, color = drv))+\n",
        "    geom_smooth(mapping = aes(x = displ, y = hwy, color = drv)) +\n",
        "    scale_color_manual(values=c(\"#CFB87C\", \"#000000\", \"#A2A4A3\"))"
      ]
    },
    {
      "cell_type": "markdown",
      "id": "ee58b4fa-e63a-480a-92eb-3032b50f49e8",
      "metadata": {
        "id": "ee58b4fa-e63a-480a-92eb-3032b50f49e8"
      },
      "source": [
        "### C. Data Manipulation and Exploration\n",
        "\n",
        "`dplyr` is a package in the Tidyverse that provides simple “verbs”, or functions, that correspond to the most common data manipulation tasks; these verbs help you translate your thoughts into code. Let's see how some of these verbs work on the gapminder dataset. **First, if you haven't already, let's install and load the gapminder package.**"
      ]
    },
    {
      "cell_type": "code",
      "execution_count": 11,
      "id": "99cecc1d-5e49-4268-bd4f-9fb6729d1db3",
      "metadata": {
        "colab": {
          "base_uri": "https://localhost:8080/"
        },
        "id": "99cecc1d-5e49-4268-bd4f-9fb6729d1db3",
        "outputId": "b2144ade-7382-4296-c90c-9d73f4089308"
      },
      "outputs": [
        {
          "output_type": "stream",
          "name": "stderr",
          "text": [
            "Installing package into ‘/usr/local/lib/R/site-library’\n",
            "(as ‘lib’ is unspecified)\n",
            "\n"
          ]
        }
      ],
      "source": [
        "install.packages(\"gapminder\")\n",
        "library(gapminder)\n",
        "library(dplyr)"
      ]
    },
    {
      "cell_type": "markdown",
      "id": "fea184ba-c035-463f-9747-0cfbf88afa12",
      "metadata": {
        "id": "fea184ba-c035-463f-9747-0cfbf88afa12"
      },
      "source": [
        "**Write a summary of the variables in this dataset.**"
      ]
    },
    {
      "cell_type": "code",
      "execution_count": 12,
      "id": "c70285fd-d981-49b5-bcbf-c6c521c99e12",
      "metadata": {
        "colab": {
          "base_uri": "https://localhost:8080/",
          "height": 286
        },
        "id": "c70285fd-d981-49b5-bcbf-c6c521c99e12",
        "outputId": "76d2ddfb-1967-4418-e05e-1fdf3390b3d7"
      },
      "outputs": [
        {
          "output_type": "display_data",
          "data": {
            "text/html": [
              "<table class=\"dataframe\">\n",
              "<caption>A tibble: 6 × 6</caption>\n",
              "<thead>\n",
              "\t<tr><th scope=col>country</th><th scope=col>continent</th><th scope=col>year</th><th scope=col>lifeExp</th><th scope=col>pop</th><th scope=col>gdpPercap</th></tr>\n",
              "\t<tr><th scope=col>&lt;fct&gt;</th><th scope=col>&lt;fct&gt;</th><th scope=col>&lt;int&gt;</th><th scope=col>&lt;dbl&gt;</th><th scope=col>&lt;int&gt;</th><th scope=col>&lt;dbl&gt;</th></tr>\n",
              "</thead>\n",
              "<tbody>\n",
              "\t<tr><td>Afghanistan</td><td>Asia</td><td>1952</td><td>28.801</td><td> 8425333</td><td>779.4453</td></tr>\n",
              "\t<tr><td>Afghanistan</td><td>Asia</td><td>1957</td><td>30.332</td><td> 9240934</td><td>820.8530</td></tr>\n",
              "\t<tr><td>Afghanistan</td><td>Asia</td><td>1962</td><td>31.997</td><td>10267083</td><td>853.1007</td></tr>\n",
              "\t<tr><td>Afghanistan</td><td>Asia</td><td>1967</td><td>34.020</td><td>11537966</td><td>836.1971</td></tr>\n",
              "\t<tr><td>Afghanistan</td><td>Asia</td><td>1972</td><td>36.088</td><td>13079460</td><td>739.9811</td></tr>\n",
              "\t<tr><td>Afghanistan</td><td>Asia</td><td>1977</td><td>38.438</td><td>14880372</td><td>786.1134</td></tr>\n",
              "</tbody>\n",
              "</table>\n"
            ],
            "text/markdown": "\nA tibble: 6 × 6\n\n| country &lt;fct&gt; | continent &lt;fct&gt; | year &lt;int&gt; | lifeExp &lt;dbl&gt; | pop &lt;int&gt; | gdpPercap &lt;dbl&gt; |\n|---|---|---|---|---|---|\n| Afghanistan | Asia | 1952 | 28.801 |  8425333 | 779.4453 |\n| Afghanistan | Asia | 1957 | 30.332 |  9240934 | 820.8530 |\n| Afghanistan | Asia | 1962 | 31.997 | 10267083 | 853.1007 |\n| Afghanistan | Asia | 1967 | 34.020 | 11537966 | 836.1971 |\n| Afghanistan | Asia | 1972 | 36.088 | 13079460 | 739.9811 |\n| Afghanistan | Asia | 1977 | 38.438 | 14880372 | 786.1134 |\n\n",
            "text/latex": "A tibble: 6 × 6\n\\begin{tabular}{llllll}\n country & continent & year & lifeExp & pop & gdpPercap\\\\\n <fct> & <fct> & <int> & <dbl> & <int> & <dbl>\\\\\n\\hline\n\t Afghanistan & Asia & 1952 & 28.801 &  8425333 & 779.4453\\\\\n\t Afghanistan & Asia & 1957 & 30.332 &  9240934 & 820.8530\\\\\n\t Afghanistan & Asia & 1962 & 31.997 & 10267083 & 853.1007\\\\\n\t Afghanistan & Asia & 1967 & 34.020 & 11537966 & 836.1971\\\\\n\t Afghanistan & Asia & 1972 & 36.088 & 13079460 & 739.9811\\\\\n\t Afghanistan & Asia & 1977 & 38.438 & 14880372 & 786.1134\\\\\n\\end{tabular}\n",
            "text/plain": [
              "  country     continent year lifeExp pop      gdpPercap\n",
              "1 Afghanistan Asia      1952 28.801   8425333 779.4453 \n",
              "2 Afghanistan Asia      1957 30.332   9240934 820.8530 \n",
              "3 Afghanistan Asia      1962 31.997  10267083 853.1007 \n",
              "4 Afghanistan Asia      1967 34.020  11537966 836.1971 \n",
              "5 Afghanistan Asia      1972 36.088  13079460 739.9811 \n",
              "6 Afghanistan Asia      1977 38.438  14880372 786.1134 "
            ]
          },
          "metadata": {}
        }
      ],
      "source": [
        "data(gapminder)\n",
        "head(gapminder)"
      ]
    },
    {
      "cell_type": "markdown",
      "id": "8bbaf24d-5ecf-4b41-99a6-bfddc1778b19",
      "metadata": {
        "id": "8bbaf24d-5ecf-4b41-99a6-bfddc1778b19"
      },
      "source": [
        "**Filter rows with filter()**\n",
        "\n",
        "It is often useful to study a subset of your data. The verb `filter()` will easily allow you to filter rows (observations) in a data frame. Here's one possibility:"
      ]
    },
    {
      "cell_type": "code",
      "execution_count": 18,
      "id": "d33fee3f-0406-4b63-a914-9cc7d276c605",
      "metadata": {
        "colab": {
          "base_uri": "https://localhost:8080/",
          "height": 474
        },
        "id": "d33fee3f-0406-4b63-a914-9cc7d276c605",
        "outputId": "702818e2-ff52-4f31-dbe5-4e739d3945d7"
      },
      "outputs": [
        {
          "output_type": "display_data",
          "data": {
            "text/html": [
              "<table class=\"dataframe\">\n",
              "<caption>A tibble: 12 × 6</caption>\n",
              "<thead>\n",
              "\t<tr><th scope=col>country</th><th scope=col>continent</th><th scope=col>year</th><th scope=col>lifeExp</th><th scope=col>pop</th><th scope=col>gdpPercap</th></tr>\n",
              "\t<tr><th scope=col>&lt;fct&gt;</th><th scope=col>&lt;fct&gt;</th><th scope=col>&lt;int&gt;</th><th scope=col>&lt;dbl&gt;</th><th scope=col>&lt;int&gt;</th><th scope=col>&lt;dbl&gt;</th></tr>\n",
              "</thead>\n",
              "<tbody>\n",
              "\t<tr><td>United States</td><td>Americas</td><td>1952</td><td>68.440</td><td>157553000</td><td>13990.48</td></tr>\n",
              "\t<tr><td>United States</td><td>Americas</td><td>1957</td><td>69.490</td><td>171984000</td><td>14847.13</td></tr>\n",
              "\t<tr><td>United States</td><td>Americas</td><td>1962</td><td>70.210</td><td>186538000</td><td>16173.15</td></tr>\n",
              "\t<tr><td>United States</td><td>Americas</td><td>1967</td><td>70.760</td><td>198712000</td><td>19530.37</td></tr>\n",
              "\t<tr><td>United States</td><td>Americas</td><td>1972</td><td>71.340</td><td>209896000</td><td>21806.04</td></tr>\n",
              "\t<tr><td>United States</td><td>Americas</td><td>1977</td><td>73.380</td><td>220239000</td><td>24072.63</td></tr>\n",
              "\t<tr><td>United States</td><td>Americas</td><td>1982</td><td>74.650</td><td>232187835</td><td>25009.56</td></tr>\n",
              "\t<tr><td>United States</td><td>Americas</td><td>1987</td><td>75.020</td><td>242803533</td><td>29884.35</td></tr>\n",
              "\t<tr><td>United States</td><td>Americas</td><td>1992</td><td>76.090</td><td>256894189</td><td>32003.93</td></tr>\n",
              "\t<tr><td>United States</td><td>Americas</td><td>1997</td><td>76.810</td><td>272911760</td><td>35767.43</td></tr>\n",
              "\t<tr><td>United States</td><td>Americas</td><td>2002</td><td>77.310</td><td>287675526</td><td>39097.10</td></tr>\n",
              "\t<tr><td>United States</td><td>Americas</td><td>2007</td><td>78.242</td><td>301139947</td><td>42951.65</td></tr>\n",
              "</tbody>\n",
              "</table>\n"
            ],
            "text/markdown": "\nA tibble: 12 × 6\n\n| country &lt;fct&gt; | continent &lt;fct&gt; | year &lt;int&gt; | lifeExp &lt;dbl&gt; | pop &lt;int&gt; | gdpPercap &lt;dbl&gt; |\n|---|---|---|---|---|---|\n| United States | Americas | 1952 | 68.440 | 157553000 | 13990.48 |\n| United States | Americas | 1957 | 69.490 | 171984000 | 14847.13 |\n| United States | Americas | 1962 | 70.210 | 186538000 | 16173.15 |\n| United States | Americas | 1967 | 70.760 | 198712000 | 19530.37 |\n| United States | Americas | 1972 | 71.340 | 209896000 | 21806.04 |\n| United States | Americas | 1977 | 73.380 | 220239000 | 24072.63 |\n| United States | Americas | 1982 | 74.650 | 232187835 | 25009.56 |\n| United States | Americas | 1987 | 75.020 | 242803533 | 29884.35 |\n| United States | Americas | 1992 | 76.090 | 256894189 | 32003.93 |\n| United States | Americas | 1997 | 76.810 | 272911760 | 35767.43 |\n| United States | Americas | 2002 | 77.310 | 287675526 | 39097.10 |\n| United States | Americas | 2007 | 78.242 | 301139947 | 42951.65 |\n\n",
            "text/latex": "A tibble: 12 × 6\n\\begin{tabular}{llllll}\n country & continent & year & lifeExp & pop & gdpPercap\\\\\n <fct> & <fct> & <int> & <dbl> & <int> & <dbl>\\\\\n\\hline\n\t United States & Americas & 1952 & 68.440 & 157553000 & 13990.48\\\\\n\t United States & Americas & 1957 & 69.490 & 171984000 & 14847.13\\\\\n\t United States & Americas & 1962 & 70.210 & 186538000 & 16173.15\\\\\n\t United States & Americas & 1967 & 70.760 & 198712000 & 19530.37\\\\\n\t United States & Americas & 1972 & 71.340 & 209896000 & 21806.04\\\\\n\t United States & Americas & 1977 & 73.380 & 220239000 & 24072.63\\\\\n\t United States & Americas & 1982 & 74.650 & 232187835 & 25009.56\\\\\n\t United States & Americas & 1987 & 75.020 & 242803533 & 29884.35\\\\\n\t United States & Americas & 1992 & 76.090 & 256894189 & 32003.93\\\\\n\t United States & Americas & 1997 & 76.810 & 272911760 & 35767.43\\\\\n\t United States & Americas & 2002 & 77.310 & 287675526 & 39097.10\\\\\n\t United States & Americas & 2007 & 78.242 & 301139947 & 42951.65\\\\\n\\end{tabular}\n",
            "text/plain": [
              "   country       continent year lifeExp pop       gdpPercap\n",
              "1  United States Americas  1952 68.440  157553000 13990.48 \n",
              "2  United States Americas  1957 69.490  171984000 14847.13 \n",
              "3  United States Americas  1962 70.210  186538000 16173.15 \n",
              "4  United States Americas  1967 70.760  198712000 19530.37 \n",
              "5  United States Americas  1972 71.340  209896000 21806.04 \n",
              "6  United States Americas  1977 73.380  220239000 24072.63 \n",
              "7  United States Americas  1982 74.650  232187835 25009.56 \n",
              "8  United States Americas  1987 75.020  242803533 29884.35 \n",
              "9  United States Americas  1992 76.090  256894189 32003.93 \n",
              "10 United States Americas  1997 76.810  272911760 35767.43 \n",
              "11 United States Americas  2002 77.310  287675526 39097.10 \n",
              "12 United States Americas  2007 78.242  301139947 42951.65 "
            ]
          },
          "metadata": {}
        }
      ],
      "source": [
        "### (5) Your code here.\n",
        "filter(gapminder,country == 'United States')\n",
        "###"
      ]
    },
    {
      "cell_type": "markdown",
      "id": "c5856729-8f2f-45b3-b7a3-4869f2c94521",
      "metadata": {
        "id": "c5856729-8f2f-45b3-b7a3-4869f2c94521"
      },
      "source": [
        "**Has the code above modified the exiting data frame or created a new one?**"
      ]
    },
    {
      "cell_type": "markdown",
      "id": "e87a95e4-43ec-4697-90a1-1c1c30530e9c",
      "metadata": {
        "id": "e87a95e4-43ec-4697-90a1-1c1c30530e9c"
      },
      "source": [
        "Not unless we store `filter(...)` back into `df`!"
      ]
    },
    {
      "cell_type": "markdown",
      "id": "8725c58b-0bce-4512-b945-71886484db50",
      "metadata": {
        "id": "8725c58b-0bce-4512-b945-71886484db50"
      },
      "source": [
        "**Filter the original dataset to show only observations where the year is later than 1987 and the life expectancy is greater than or equal to 70. Save your answer in `gapminder_filter`**"
      ]
    },
    {
      "cell_type": "code",
      "execution_count": 13,
      "id": "76f366b0-476b-4732-a19e-d7bea67b83eb",
      "metadata": {
        "colab": {
          "base_uri": "https://localhost:8080/",
          "height": 1000
        },
        "id": "76f366b0-476b-4732-a19e-d7bea67b83eb",
        "outputId": "87c118eb-0f38-4559-ad52-f3f3393807ca"
      },
      "outputs": [
        {
          "output_type": "display_data",
          "data": {
            "text/html": [
              "<table class=\"dataframe\">\n",
              "<caption>A tibble: 277 × 6</caption>\n",
              "<thead>\n",
              "\t<tr><th scope=col>country</th><th scope=col>continent</th><th scope=col>year</th><th scope=col>lifeExp</th><th scope=col>pop</th><th scope=col>gdpPercap</th></tr>\n",
              "\t<tr><th scope=col>&lt;fct&gt;</th><th scope=col>&lt;fct&gt;</th><th scope=col>&lt;int&gt;</th><th scope=col>&lt;dbl&gt;</th><th scope=col>&lt;int&gt;</th><th scope=col>&lt;dbl&gt;</th></tr>\n",
              "</thead>\n",
              "<tbody>\n",
              "\t<tr><td>Albania               </td><td>Europe  </td><td>1992</td><td>71.581</td><td> 3326498</td><td> 2497.438</td></tr>\n",
              "\t<tr><td>Albania               </td><td>Europe  </td><td>1997</td><td>72.950</td><td> 3428038</td><td> 3193.055</td></tr>\n",
              "\t<tr><td>Albania               </td><td>Europe  </td><td>2002</td><td>75.651</td><td> 3508512</td><td> 4604.212</td></tr>\n",
              "\t<tr><td>Albania               </td><td>Europe  </td><td>2007</td><td>76.423</td><td> 3600523</td><td> 5937.030</td></tr>\n",
              "\t<tr><td>Algeria               </td><td>Africa  </td><td>2002</td><td>70.994</td><td>31287142</td><td> 5288.040</td></tr>\n",
              "\t<tr><td>Algeria               </td><td>Africa  </td><td>2007</td><td>72.301</td><td>33333216</td><td> 6223.367</td></tr>\n",
              "\t<tr><td>Argentina             </td><td>Americas</td><td>1992</td><td>71.868</td><td>33958947</td><td> 9308.419</td></tr>\n",
              "\t<tr><td>Argentina             </td><td>Americas</td><td>1997</td><td>73.275</td><td>36203463</td><td>10967.282</td></tr>\n",
              "\t<tr><td>Argentina             </td><td>Americas</td><td>2002</td><td>74.340</td><td>38331121</td><td> 8797.641</td></tr>\n",
              "\t<tr><td>Argentina             </td><td>Americas</td><td>2007</td><td>75.320</td><td>40301927</td><td>12779.380</td></tr>\n",
              "\t<tr><td>Australia             </td><td>Oceania </td><td>1992</td><td>77.560</td><td>17481977</td><td>23424.767</td></tr>\n",
              "\t<tr><td>Australia             </td><td>Oceania </td><td>1997</td><td>78.830</td><td>18565243</td><td>26997.937</td></tr>\n",
              "\t<tr><td>Australia             </td><td>Oceania </td><td>2002</td><td>80.370</td><td>19546792</td><td>30687.755</td></tr>\n",
              "\t<tr><td>Australia             </td><td>Oceania </td><td>2007</td><td>81.235</td><td>20434176</td><td>34435.367</td></tr>\n",
              "\t<tr><td>Austria               </td><td>Europe  </td><td>1992</td><td>76.040</td><td> 7914969</td><td>27042.019</td></tr>\n",
              "\t<tr><td>Austria               </td><td>Europe  </td><td>1997</td><td>77.510</td><td> 8069876</td><td>29095.921</td></tr>\n",
              "\t<tr><td>Austria               </td><td>Europe  </td><td>2002</td><td>78.980</td><td> 8148312</td><td>32417.608</td></tr>\n",
              "\t<tr><td>Austria               </td><td>Europe  </td><td>2007</td><td>79.829</td><td> 8199783</td><td>36126.493</td></tr>\n",
              "\t<tr><td>Bahrain               </td><td>Asia    </td><td>1992</td><td>72.601</td><td>  529491</td><td>19035.579</td></tr>\n",
              "\t<tr><td>Bahrain               </td><td>Asia    </td><td>1997</td><td>73.925</td><td>  598561</td><td>20292.017</td></tr>\n",
              "\t<tr><td>Bahrain               </td><td>Asia    </td><td>2002</td><td>74.795</td><td>  656397</td><td>23403.559</td></tr>\n",
              "\t<tr><td>Bahrain               </td><td>Asia    </td><td>2007</td><td>75.635</td><td>  708573</td><td>29796.048</td></tr>\n",
              "\t<tr><td>Belgium               </td><td>Europe  </td><td>1992</td><td>76.460</td><td>10045622</td><td>25575.571</td></tr>\n",
              "\t<tr><td>Belgium               </td><td>Europe  </td><td>1997</td><td>77.530</td><td>10199787</td><td>27561.197</td></tr>\n",
              "\t<tr><td>Belgium               </td><td>Europe  </td><td>2002</td><td>78.320</td><td>10311970</td><td>30485.884</td></tr>\n",
              "\t<tr><td>Belgium               </td><td>Europe  </td><td>2007</td><td>79.441</td><td>10392226</td><td>33692.605</td></tr>\n",
              "\t<tr><td>Bosnia and Herzegovina</td><td>Europe  </td><td>1992</td><td>72.178</td><td> 4256013</td><td> 2546.781</td></tr>\n",
              "\t<tr><td>Bosnia and Herzegovina</td><td>Europe  </td><td>1997</td><td>73.244</td><td> 3607000</td><td> 4766.356</td></tr>\n",
              "\t<tr><td>Bosnia and Herzegovina</td><td>Europe  </td><td>2002</td><td>74.090</td><td> 4165416</td><td> 6018.975</td></tr>\n",
              "\t<tr><td>Bosnia and Herzegovina</td><td>Europe  </td><td>2007</td><td>74.852</td><td> 4552198</td><td> 7446.299</td></tr>\n",
              "\t<tr><td>⋮</td><td>⋮</td><td>⋮</td><td>⋮</td><td>⋮</td><td>⋮</td></tr>\n",
              "\t<tr><td>Taiwan            </td><td>Asia    </td><td>2007</td><td>78.400</td><td> 23174294</td><td>28718.277</td></tr>\n",
              "\t<tr><td>Thailand          </td><td>Asia    </td><td>2007</td><td>70.616</td><td> 65068149</td><td> 7458.396</td></tr>\n",
              "\t<tr><td>Tunisia           </td><td>Africa  </td><td>1992</td><td>70.001</td><td>  8523077</td><td> 4332.720</td></tr>\n",
              "\t<tr><td>Tunisia           </td><td>Africa  </td><td>1997</td><td>71.973</td><td>  9231669</td><td> 4876.799</td></tr>\n",
              "\t<tr><td>Tunisia           </td><td>Africa  </td><td>2002</td><td>73.042</td><td>  9770575</td><td> 5722.896</td></tr>\n",
              "\t<tr><td>Tunisia           </td><td>Africa  </td><td>2007</td><td>73.923</td><td> 10276158</td><td> 7092.923</td></tr>\n",
              "\t<tr><td>Turkey            </td><td>Europe  </td><td>2002</td><td>70.845</td><td> 67308928</td><td> 6508.086</td></tr>\n",
              "\t<tr><td>Turkey            </td><td>Europe  </td><td>2007</td><td>71.777</td><td> 71158647</td><td> 8458.276</td></tr>\n",
              "\t<tr><td>United Kingdom    </td><td>Europe  </td><td>1992</td><td>76.420</td><td> 57866349</td><td>22705.093</td></tr>\n",
              "\t<tr><td>United Kingdom    </td><td>Europe  </td><td>1997</td><td>77.218</td><td> 58808266</td><td>26074.531</td></tr>\n",
              "\t<tr><td>United Kingdom    </td><td>Europe  </td><td>2002</td><td>78.471</td><td> 59912431</td><td>29478.999</td></tr>\n",
              "\t<tr><td>United Kingdom    </td><td>Europe  </td><td>2007</td><td>79.425</td><td> 60776238</td><td>33203.261</td></tr>\n",
              "\t<tr><td>United States     </td><td>Americas</td><td>1992</td><td>76.090</td><td>256894189</td><td>32003.932</td></tr>\n",
              "\t<tr><td>United States     </td><td>Americas</td><td>1997</td><td>76.810</td><td>272911760</td><td>35767.433</td></tr>\n",
              "\t<tr><td>United States     </td><td>Americas</td><td>2002</td><td>77.310</td><td>287675526</td><td>39097.100</td></tr>\n",
              "\t<tr><td>United States     </td><td>Americas</td><td>2007</td><td>78.242</td><td>301139947</td><td>42951.653</td></tr>\n",
              "\t<tr><td>Uruguay           </td><td>Americas</td><td>1992</td><td>72.752</td><td>  3149262</td><td> 8137.005</td></tr>\n",
              "\t<tr><td>Uruguay           </td><td>Americas</td><td>1997</td><td>74.223</td><td>  3262838</td><td> 9230.241</td></tr>\n",
              "\t<tr><td>Uruguay           </td><td>Americas</td><td>2002</td><td>75.307</td><td>  3363085</td><td> 7727.002</td></tr>\n",
              "\t<tr><td>Uruguay           </td><td>Americas</td><td>2007</td><td>76.384</td><td>  3447496</td><td>10611.463</td></tr>\n",
              "\t<tr><td>Venezuela         </td><td>Americas</td><td>1992</td><td>71.150</td><td> 20265563</td><td>10733.926</td></tr>\n",
              "\t<tr><td>Venezuela         </td><td>Americas</td><td>1997</td><td>72.146</td><td> 22374398</td><td>10165.495</td></tr>\n",
              "\t<tr><td>Venezuela         </td><td>Americas</td><td>2002</td><td>72.766</td><td> 24287670</td><td> 8605.048</td></tr>\n",
              "\t<tr><td>Venezuela         </td><td>Americas</td><td>2007</td><td>73.747</td><td> 26084662</td><td>11415.806</td></tr>\n",
              "\t<tr><td>Vietnam           </td><td>Asia    </td><td>1997</td><td>70.672</td><td> 76048996</td><td> 1385.897</td></tr>\n",
              "\t<tr><td>Vietnam           </td><td>Asia    </td><td>2002</td><td>73.017</td><td> 80908147</td><td> 1764.457</td></tr>\n",
              "\t<tr><td>Vietnam           </td><td>Asia    </td><td>2007</td><td>74.249</td><td> 85262356</td><td> 2441.576</td></tr>\n",
              "\t<tr><td>West Bank and Gaza</td><td>Asia    </td><td>1997</td><td>71.096</td><td>  2826046</td><td> 7110.668</td></tr>\n",
              "\t<tr><td>West Bank and Gaza</td><td>Asia    </td><td>2002</td><td>72.370</td><td>  3389578</td><td> 4515.488</td></tr>\n",
              "\t<tr><td>West Bank and Gaza</td><td>Asia    </td><td>2007</td><td>73.422</td><td>  4018332</td><td> 3025.350</td></tr>\n",
              "</tbody>\n",
              "</table>\n"
            ],
            "text/markdown": "\nA tibble: 277 × 6\n\n| country &lt;fct&gt; | continent &lt;fct&gt; | year &lt;int&gt; | lifeExp &lt;dbl&gt; | pop &lt;int&gt; | gdpPercap &lt;dbl&gt; |\n|---|---|---|---|---|---|\n| Albania                | Europe   | 1992 | 71.581 |  3326498 |  2497.438 |\n| Albania                | Europe   | 1997 | 72.950 |  3428038 |  3193.055 |\n| Albania                | Europe   | 2002 | 75.651 |  3508512 |  4604.212 |\n| Albania                | Europe   | 2007 | 76.423 |  3600523 |  5937.030 |\n| Algeria                | Africa   | 2002 | 70.994 | 31287142 |  5288.040 |\n| Algeria                | Africa   | 2007 | 72.301 | 33333216 |  6223.367 |\n| Argentina              | Americas | 1992 | 71.868 | 33958947 |  9308.419 |\n| Argentina              | Americas | 1997 | 73.275 | 36203463 | 10967.282 |\n| Argentina              | Americas | 2002 | 74.340 | 38331121 |  8797.641 |\n| Argentina              | Americas | 2007 | 75.320 | 40301927 | 12779.380 |\n| Australia              | Oceania  | 1992 | 77.560 | 17481977 | 23424.767 |\n| Australia              | Oceania  | 1997 | 78.830 | 18565243 | 26997.937 |\n| Australia              | Oceania  | 2002 | 80.370 | 19546792 | 30687.755 |\n| Australia              | Oceania  | 2007 | 81.235 | 20434176 | 34435.367 |\n| Austria                | Europe   | 1992 | 76.040 |  7914969 | 27042.019 |\n| Austria                | Europe   | 1997 | 77.510 |  8069876 | 29095.921 |\n| Austria                | Europe   | 2002 | 78.980 |  8148312 | 32417.608 |\n| Austria                | Europe   | 2007 | 79.829 |  8199783 | 36126.493 |\n| Bahrain                | Asia     | 1992 | 72.601 |   529491 | 19035.579 |\n| Bahrain                | Asia     | 1997 | 73.925 |   598561 | 20292.017 |\n| Bahrain                | Asia     | 2002 | 74.795 |   656397 | 23403.559 |\n| Bahrain                | Asia     | 2007 | 75.635 |   708573 | 29796.048 |\n| Belgium                | Europe   | 1992 | 76.460 | 10045622 | 25575.571 |\n| Belgium                | Europe   | 1997 | 77.530 | 10199787 | 27561.197 |\n| Belgium                | Europe   | 2002 | 78.320 | 10311970 | 30485.884 |\n| Belgium                | Europe   | 2007 | 79.441 | 10392226 | 33692.605 |\n| Bosnia and Herzegovina | Europe   | 1992 | 72.178 |  4256013 |  2546.781 |\n| Bosnia and Herzegovina | Europe   | 1997 | 73.244 |  3607000 |  4766.356 |\n| Bosnia and Herzegovina | Europe   | 2002 | 74.090 |  4165416 |  6018.975 |\n| Bosnia and Herzegovina | Europe   | 2007 | 74.852 |  4552198 |  7446.299 |\n| ⋮ | ⋮ | ⋮ | ⋮ | ⋮ | ⋮ |\n| Taiwan             | Asia     | 2007 | 78.400 |  23174294 | 28718.277 |\n| Thailand           | Asia     | 2007 | 70.616 |  65068149 |  7458.396 |\n| Tunisia            | Africa   | 1992 | 70.001 |   8523077 |  4332.720 |\n| Tunisia            | Africa   | 1997 | 71.973 |   9231669 |  4876.799 |\n| Tunisia            | Africa   | 2002 | 73.042 |   9770575 |  5722.896 |\n| Tunisia            | Africa   | 2007 | 73.923 |  10276158 |  7092.923 |\n| Turkey             | Europe   | 2002 | 70.845 |  67308928 |  6508.086 |\n| Turkey             | Europe   | 2007 | 71.777 |  71158647 |  8458.276 |\n| United Kingdom     | Europe   | 1992 | 76.420 |  57866349 | 22705.093 |\n| United Kingdom     | Europe   | 1997 | 77.218 |  58808266 | 26074.531 |\n| United Kingdom     | Europe   | 2002 | 78.471 |  59912431 | 29478.999 |\n| United Kingdom     | Europe   | 2007 | 79.425 |  60776238 | 33203.261 |\n| United States      | Americas | 1992 | 76.090 | 256894189 | 32003.932 |\n| United States      | Americas | 1997 | 76.810 | 272911760 | 35767.433 |\n| United States      | Americas | 2002 | 77.310 | 287675526 | 39097.100 |\n| United States      | Americas | 2007 | 78.242 | 301139947 | 42951.653 |\n| Uruguay            | Americas | 1992 | 72.752 |   3149262 |  8137.005 |\n| Uruguay            | Americas | 1997 | 74.223 |   3262838 |  9230.241 |\n| Uruguay            | Americas | 2002 | 75.307 |   3363085 |  7727.002 |\n| Uruguay            | Americas | 2007 | 76.384 |   3447496 | 10611.463 |\n| Venezuela          | Americas | 1992 | 71.150 |  20265563 | 10733.926 |\n| Venezuela          | Americas | 1997 | 72.146 |  22374398 | 10165.495 |\n| Venezuela          | Americas | 2002 | 72.766 |  24287670 |  8605.048 |\n| Venezuela          | Americas | 2007 | 73.747 |  26084662 | 11415.806 |\n| Vietnam            | Asia     | 1997 | 70.672 |  76048996 |  1385.897 |\n| Vietnam            | Asia     | 2002 | 73.017 |  80908147 |  1764.457 |\n| Vietnam            | Asia     | 2007 | 74.249 |  85262356 |  2441.576 |\n| West Bank and Gaza | Asia     | 1997 | 71.096 |   2826046 |  7110.668 |\n| West Bank and Gaza | Asia     | 2002 | 72.370 |   3389578 |  4515.488 |\n| West Bank and Gaza | Asia     | 2007 | 73.422 |   4018332 |  3025.350 |\n\n",
            "text/latex": "A tibble: 277 × 6\n\\begin{tabular}{llllll}\n country & continent & year & lifeExp & pop & gdpPercap\\\\\n <fct> & <fct> & <int> & <dbl> & <int> & <dbl>\\\\\n\\hline\n\t Albania                & Europe   & 1992 & 71.581 &  3326498 &  2497.438\\\\\n\t Albania                & Europe   & 1997 & 72.950 &  3428038 &  3193.055\\\\\n\t Albania                & Europe   & 2002 & 75.651 &  3508512 &  4604.212\\\\\n\t Albania                & Europe   & 2007 & 76.423 &  3600523 &  5937.030\\\\\n\t Algeria                & Africa   & 2002 & 70.994 & 31287142 &  5288.040\\\\\n\t Algeria                & Africa   & 2007 & 72.301 & 33333216 &  6223.367\\\\\n\t Argentina              & Americas & 1992 & 71.868 & 33958947 &  9308.419\\\\\n\t Argentina              & Americas & 1997 & 73.275 & 36203463 & 10967.282\\\\\n\t Argentina              & Americas & 2002 & 74.340 & 38331121 &  8797.641\\\\\n\t Argentina              & Americas & 2007 & 75.320 & 40301927 & 12779.380\\\\\n\t Australia              & Oceania  & 1992 & 77.560 & 17481977 & 23424.767\\\\\n\t Australia              & Oceania  & 1997 & 78.830 & 18565243 & 26997.937\\\\\n\t Australia              & Oceania  & 2002 & 80.370 & 19546792 & 30687.755\\\\\n\t Australia              & Oceania  & 2007 & 81.235 & 20434176 & 34435.367\\\\\n\t Austria                & Europe   & 1992 & 76.040 &  7914969 & 27042.019\\\\\n\t Austria                & Europe   & 1997 & 77.510 &  8069876 & 29095.921\\\\\n\t Austria                & Europe   & 2002 & 78.980 &  8148312 & 32417.608\\\\\n\t Austria                & Europe   & 2007 & 79.829 &  8199783 & 36126.493\\\\\n\t Bahrain                & Asia     & 1992 & 72.601 &   529491 & 19035.579\\\\\n\t Bahrain                & Asia     & 1997 & 73.925 &   598561 & 20292.017\\\\\n\t Bahrain                & Asia     & 2002 & 74.795 &   656397 & 23403.559\\\\\n\t Bahrain                & Asia     & 2007 & 75.635 &   708573 & 29796.048\\\\\n\t Belgium                & Europe   & 1992 & 76.460 & 10045622 & 25575.571\\\\\n\t Belgium                & Europe   & 1997 & 77.530 & 10199787 & 27561.197\\\\\n\t Belgium                & Europe   & 2002 & 78.320 & 10311970 & 30485.884\\\\\n\t Belgium                & Europe   & 2007 & 79.441 & 10392226 & 33692.605\\\\\n\t Bosnia and Herzegovina & Europe   & 1992 & 72.178 &  4256013 &  2546.781\\\\\n\t Bosnia and Herzegovina & Europe   & 1997 & 73.244 &  3607000 &  4766.356\\\\\n\t Bosnia and Herzegovina & Europe   & 2002 & 74.090 &  4165416 &  6018.975\\\\\n\t Bosnia and Herzegovina & Europe   & 2007 & 74.852 &  4552198 &  7446.299\\\\\n\t ⋮ & ⋮ & ⋮ & ⋮ & ⋮ & ⋮\\\\\n\t Taiwan             & Asia     & 2007 & 78.400 &  23174294 & 28718.277\\\\\n\t Thailand           & Asia     & 2007 & 70.616 &  65068149 &  7458.396\\\\\n\t Tunisia            & Africa   & 1992 & 70.001 &   8523077 &  4332.720\\\\\n\t Tunisia            & Africa   & 1997 & 71.973 &   9231669 &  4876.799\\\\\n\t Tunisia            & Africa   & 2002 & 73.042 &   9770575 &  5722.896\\\\\n\t Tunisia            & Africa   & 2007 & 73.923 &  10276158 &  7092.923\\\\\n\t Turkey             & Europe   & 2002 & 70.845 &  67308928 &  6508.086\\\\\n\t Turkey             & Europe   & 2007 & 71.777 &  71158647 &  8458.276\\\\\n\t United Kingdom     & Europe   & 1992 & 76.420 &  57866349 & 22705.093\\\\\n\t United Kingdom     & Europe   & 1997 & 77.218 &  58808266 & 26074.531\\\\\n\t United Kingdom     & Europe   & 2002 & 78.471 &  59912431 & 29478.999\\\\\n\t United Kingdom     & Europe   & 2007 & 79.425 &  60776238 & 33203.261\\\\\n\t United States      & Americas & 1992 & 76.090 & 256894189 & 32003.932\\\\\n\t United States      & Americas & 1997 & 76.810 & 272911760 & 35767.433\\\\\n\t United States      & Americas & 2002 & 77.310 & 287675526 & 39097.100\\\\\n\t United States      & Americas & 2007 & 78.242 & 301139947 & 42951.653\\\\\n\t Uruguay            & Americas & 1992 & 72.752 &   3149262 &  8137.005\\\\\n\t Uruguay            & Americas & 1997 & 74.223 &   3262838 &  9230.241\\\\\n\t Uruguay            & Americas & 2002 & 75.307 &   3363085 &  7727.002\\\\\n\t Uruguay            & Americas & 2007 & 76.384 &   3447496 & 10611.463\\\\\n\t Venezuela          & Americas & 1992 & 71.150 &  20265563 & 10733.926\\\\\n\t Venezuela          & Americas & 1997 & 72.146 &  22374398 & 10165.495\\\\\n\t Venezuela          & Americas & 2002 & 72.766 &  24287670 &  8605.048\\\\\n\t Venezuela          & Americas & 2007 & 73.747 &  26084662 & 11415.806\\\\\n\t Vietnam            & Asia     & 1997 & 70.672 &  76048996 &  1385.897\\\\\n\t Vietnam            & Asia     & 2002 & 73.017 &  80908147 &  1764.457\\\\\n\t Vietnam            & Asia     & 2007 & 74.249 &  85262356 &  2441.576\\\\\n\t West Bank and Gaza & Asia     & 1997 & 71.096 &   2826046 &  7110.668\\\\\n\t West Bank and Gaza & Asia     & 2002 & 72.370 &   3389578 &  4515.488\\\\\n\t West Bank and Gaza & Asia     & 2007 & 73.422 &   4018332 &  3025.350\\\\\n\\end{tabular}\n",
            "text/plain": [
              "    country                continent year lifeExp pop       gdpPercap\n",
              "1   Albania                Europe    1992 71.581   3326498   2497.438\n",
              "2   Albania                Europe    1997 72.950   3428038   3193.055\n",
              "3   Albania                Europe    2002 75.651   3508512   4604.212\n",
              "4   Albania                Europe    2007 76.423   3600523   5937.030\n",
              "5   Algeria                Africa    2002 70.994  31287142   5288.040\n",
              "6   Algeria                Africa    2007 72.301  33333216   6223.367\n",
              "7   Argentina              Americas  1992 71.868  33958947   9308.419\n",
              "8   Argentina              Americas  1997 73.275  36203463  10967.282\n",
              "9   Argentina              Americas  2002 74.340  38331121   8797.641\n",
              "10  Argentina              Americas  2007 75.320  40301927  12779.380\n",
              "11  Australia              Oceania   1992 77.560  17481977  23424.767\n",
              "12  Australia              Oceania   1997 78.830  18565243  26997.937\n",
              "13  Australia              Oceania   2002 80.370  19546792  30687.755\n",
              "14  Australia              Oceania   2007 81.235  20434176  34435.367\n",
              "15  Austria                Europe    1992 76.040   7914969  27042.019\n",
              "16  Austria                Europe    1997 77.510   8069876  29095.921\n",
              "17  Austria                Europe    2002 78.980   8148312  32417.608\n",
              "18  Austria                Europe    2007 79.829   8199783  36126.493\n",
              "19  Bahrain                Asia      1992 72.601    529491  19035.579\n",
              "20  Bahrain                Asia      1997 73.925    598561  20292.017\n",
              "21  Bahrain                Asia      2002 74.795    656397  23403.559\n",
              "22  Bahrain                Asia      2007 75.635    708573  29796.048\n",
              "23  Belgium                Europe    1992 76.460  10045622  25575.571\n",
              "24  Belgium                Europe    1997 77.530  10199787  27561.197\n",
              "25  Belgium                Europe    2002 78.320  10311970  30485.884\n",
              "26  Belgium                Europe    2007 79.441  10392226  33692.605\n",
              "27  Bosnia and Herzegovina Europe    1992 72.178   4256013   2546.781\n",
              "28  Bosnia and Herzegovina Europe    1997 73.244   3607000   4766.356\n",
              "29  Bosnia and Herzegovina Europe    2002 74.090   4165416   6018.975\n",
              "30  Bosnia and Herzegovina Europe    2007 74.852   4552198   7446.299\n",
              "⋮   ⋮                      ⋮         ⋮    ⋮       ⋮         ⋮        \n",
              "248 Taiwan                 Asia      2007 78.400   23174294 28718.277\n",
              "249 Thailand               Asia      2007 70.616   65068149  7458.396\n",
              "250 Tunisia                Africa    1992 70.001    8523077  4332.720\n",
              "251 Tunisia                Africa    1997 71.973    9231669  4876.799\n",
              "252 Tunisia                Africa    2002 73.042    9770575  5722.896\n",
              "253 Tunisia                Africa    2007 73.923   10276158  7092.923\n",
              "254 Turkey                 Europe    2002 70.845   67308928  6508.086\n",
              "255 Turkey                 Europe    2007 71.777   71158647  8458.276\n",
              "256 United Kingdom         Europe    1992 76.420   57866349 22705.093\n",
              "257 United Kingdom         Europe    1997 77.218   58808266 26074.531\n",
              "258 United Kingdom         Europe    2002 78.471   59912431 29478.999\n",
              "259 United Kingdom         Europe    2007 79.425   60776238 33203.261\n",
              "260 United States          Americas  1992 76.090  256894189 32003.932\n",
              "261 United States          Americas  1997 76.810  272911760 35767.433\n",
              "262 United States          Americas  2002 77.310  287675526 39097.100\n",
              "263 United States          Americas  2007 78.242  301139947 42951.653\n",
              "264 Uruguay                Americas  1992 72.752    3149262  8137.005\n",
              "265 Uruguay                Americas  1997 74.223    3262838  9230.241\n",
              "266 Uruguay                Americas  2002 75.307    3363085  7727.002\n",
              "267 Uruguay                Americas  2007 76.384    3447496 10611.463\n",
              "268 Venezuela              Americas  1992 71.150   20265563 10733.926\n",
              "269 Venezuela              Americas  1997 72.146   22374398 10165.495\n",
              "270 Venezuela              Americas  2002 72.766   24287670  8605.048\n",
              "271 Venezuela              Americas  2007 73.747   26084662 11415.806\n",
              "272 Vietnam                Asia      1997 70.672   76048996  1385.897\n",
              "273 Vietnam                Asia      2002 73.017   80908147  1764.457\n",
              "274 Vietnam                Asia      2007 74.249   85262356  2441.576\n",
              "275 West Bank and Gaza     Asia      1997 71.096    2826046  7110.668\n",
              "276 West Bank and Gaza     Asia      2002 72.370    3389578  4515.488\n",
              "277 West Bank and Gaza     Asia      2007 73.422    4018332  3025.350"
            ]
          },
          "metadata": {}
        }
      ],
      "source": [
        "### (6) Your code here.\n",
        "gapminder_filter = filter(gapminder,year>1987,lifeExp>=70)\n",
        "###\n",
        "gapminder_filter"
      ]
    },
    {
      "cell_type": "markdown",
      "id": "9de12820-dccb-44fe-8a73-abfe2e43237f",
      "metadata": {
        "id": "9de12820-dccb-44fe-8a73-abfe2e43237f"
      },
      "source": [
        "**Important notes:**\n",
        "\n",
        "1. The arguments in `filter()` are combined with \"and\". To combine in other ways (e.g., \"or\"), use the Boolean operators (e.g., `|` is for \"or\").\n",
        "2. Missing values: `filter()` only includes rows for which the variable is *not* `NA`. If you would like to preserve missing values, ask for them explicitly:"
      ]
    },
    {
      "cell_type": "code",
      "execution_count": 17,
      "id": "01a02fe8-d5bf-4a8b-bd6d-26f511239f30",
      "metadata": {
        "colab": {
          "base_uri": "https://localhost:8080/",
          "height": 474
        },
        "id": "01a02fe8-d5bf-4a8b-bd6d-26f511239f30",
        "outputId": "21e4a752-829d-4db1-da99-9a2f2336f44e"
      },
      "outputs": [
        {
          "output_type": "display_data",
          "data": {
            "text/html": [
              "<table class=\"dataframe\">\n",
              "<caption>A tibble: 12 × 6</caption>\n",
              "<thead>\n",
              "\t<tr><th scope=col>country</th><th scope=col>continent</th><th scope=col>year</th><th scope=col>lifeExp</th><th scope=col>pop</th><th scope=col>gdpPercap</th></tr>\n",
              "\t<tr><th scope=col>&lt;fct&gt;</th><th scope=col>&lt;fct&gt;</th><th scope=col>&lt;int&gt;</th><th scope=col>&lt;dbl&gt;</th><th scope=col>&lt;int&gt;</th><th scope=col>&lt;dbl&gt;</th></tr>\n",
              "</thead>\n",
              "<tbody>\n",
              "\t<tr><td>United States</td><td>Americas</td><td>1952</td><td>68.440</td><td>157553000</td><td>13990.48</td></tr>\n",
              "\t<tr><td>United States</td><td>Americas</td><td>1957</td><td>69.490</td><td>171984000</td><td>14847.13</td></tr>\n",
              "\t<tr><td>United States</td><td>Americas</td><td>1962</td><td>70.210</td><td>186538000</td><td>16173.15</td></tr>\n",
              "\t<tr><td>United States</td><td>Americas</td><td>1967</td><td>70.760</td><td>198712000</td><td>19530.37</td></tr>\n",
              "\t<tr><td>United States</td><td>Americas</td><td>1972</td><td>71.340</td><td>209896000</td><td>21806.04</td></tr>\n",
              "\t<tr><td>United States</td><td>Americas</td><td>1977</td><td>73.380</td><td>220239000</td><td>24072.63</td></tr>\n",
              "\t<tr><td>United States</td><td>Americas</td><td>1982</td><td>74.650</td><td>232187835</td><td>25009.56</td></tr>\n",
              "\t<tr><td>United States</td><td>Americas</td><td>1987</td><td>75.020</td><td>242803533</td><td>29884.35</td></tr>\n",
              "\t<tr><td>United States</td><td>Americas</td><td>1992</td><td>76.090</td><td>256894189</td><td>32003.93</td></tr>\n",
              "\t<tr><td>United States</td><td>Americas</td><td>1997</td><td>76.810</td><td>272911760</td><td>35767.43</td></tr>\n",
              "\t<tr><td>United States</td><td>Americas</td><td>2002</td><td>77.310</td><td>287675526</td><td>39097.10</td></tr>\n",
              "\t<tr><td>United States</td><td>Americas</td><td>2007</td><td>78.242</td><td>301139947</td><td>42951.65</td></tr>\n",
              "</tbody>\n",
              "</table>\n"
            ],
            "text/markdown": "\nA tibble: 12 × 6\n\n| country &lt;fct&gt; | continent &lt;fct&gt; | year &lt;int&gt; | lifeExp &lt;dbl&gt; | pop &lt;int&gt; | gdpPercap &lt;dbl&gt; |\n|---|---|---|---|---|---|\n| United States | Americas | 1952 | 68.440 | 157553000 | 13990.48 |\n| United States | Americas | 1957 | 69.490 | 171984000 | 14847.13 |\n| United States | Americas | 1962 | 70.210 | 186538000 | 16173.15 |\n| United States | Americas | 1967 | 70.760 | 198712000 | 19530.37 |\n| United States | Americas | 1972 | 71.340 | 209896000 | 21806.04 |\n| United States | Americas | 1977 | 73.380 | 220239000 | 24072.63 |\n| United States | Americas | 1982 | 74.650 | 232187835 | 25009.56 |\n| United States | Americas | 1987 | 75.020 | 242803533 | 29884.35 |\n| United States | Americas | 1992 | 76.090 | 256894189 | 32003.93 |\n| United States | Americas | 1997 | 76.810 | 272911760 | 35767.43 |\n| United States | Americas | 2002 | 77.310 | 287675526 | 39097.10 |\n| United States | Americas | 2007 | 78.242 | 301139947 | 42951.65 |\n\n",
            "text/latex": "A tibble: 12 × 6\n\\begin{tabular}{llllll}\n country & continent & year & lifeExp & pop & gdpPercap\\\\\n <fct> & <fct> & <int> & <dbl> & <int> & <dbl>\\\\\n\\hline\n\t United States & Americas & 1952 & 68.440 & 157553000 & 13990.48\\\\\n\t United States & Americas & 1957 & 69.490 & 171984000 & 14847.13\\\\\n\t United States & Americas & 1962 & 70.210 & 186538000 & 16173.15\\\\\n\t United States & Americas & 1967 & 70.760 & 198712000 & 19530.37\\\\\n\t United States & Americas & 1972 & 71.340 & 209896000 & 21806.04\\\\\n\t United States & Americas & 1977 & 73.380 & 220239000 & 24072.63\\\\\n\t United States & Americas & 1982 & 74.650 & 232187835 & 25009.56\\\\\n\t United States & Americas & 1987 & 75.020 & 242803533 & 29884.35\\\\\n\t United States & Americas & 1992 & 76.090 & 256894189 & 32003.93\\\\\n\t United States & Americas & 1997 & 76.810 & 272911760 & 35767.43\\\\\n\t United States & Americas & 2002 & 77.310 & 287675526 & 39097.10\\\\\n\t United States & Americas & 2007 & 78.242 & 301139947 & 42951.65\\\\\n\\end{tabular}\n",
            "text/plain": [
              "   country       continent year lifeExp pop       gdpPercap\n",
              "1  United States Americas  1952 68.440  157553000 13990.48 \n",
              "2  United States Americas  1957 69.490  171984000 14847.13 \n",
              "3  United States Americas  1962 70.210  186538000 16173.15 \n",
              "4  United States Americas  1967 70.760  198712000 19530.37 \n",
              "5  United States Americas  1972 71.340  209896000 21806.04 \n",
              "6  United States Americas  1977 73.380  220239000 24072.63 \n",
              "7  United States Americas  1982 74.650  232187835 25009.56 \n",
              "8  United States Americas  1987 75.020  242803533 29884.35 \n",
              "9  United States Americas  1992 76.090  256894189 32003.93 \n",
              "10 United States Americas  1997 76.810  272911760 35767.43 \n",
              "11 United States Americas  2002 77.310  287675526 39097.10 \n",
              "12 United States Americas  2007 78.242  301139947 42951.65 "
            ]
          },
          "metadata": {}
        }
      ],
      "source": [
        "### (7) Your code here.\n",
        "filter(gapminder, is.na(country) | country == 'United States')\n",
        "\n",
        "###"
      ]
    },
    {
      "cell_type": "markdown",
      "id": "ddb93d8a-b03e-48c1-a90a-72fcb40a9acf",
      "metadata": {
        "id": "ddb93d8a-b03e-48c1-a90a-72fcb40a9acf"
      },
      "source": [
        "**Arranging with arrange()**\n",
        "\n",
        "\n",
        "Use the `arrange()` verb, in conjunction with the code above to put the United States data (and only that data) in descending order with respect to year."
      ]
    },
    {
      "cell_type": "code",
      "execution_count": 19,
      "id": "6fdc7728-de1f-441c-8b95-d5c7eaa827ca",
      "metadata": {
        "id": "6fdc7728-de1f-441c-8b95-d5c7eaa827ca",
        "colab": {
          "base_uri": "https://localhost:8080/",
          "height": 474
        },
        "outputId": "c9658ae6-afce-4983-9400-edfbd616b1eb"
      },
      "outputs": [
        {
          "output_type": "display_data",
          "data": {
            "text/html": [
              "<table class=\"dataframe\">\n",
              "<caption>A tibble: 12 × 6</caption>\n",
              "<thead>\n",
              "\t<tr><th scope=col>country</th><th scope=col>continent</th><th scope=col>year</th><th scope=col>lifeExp</th><th scope=col>pop</th><th scope=col>gdpPercap</th></tr>\n",
              "\t<tr><th scope=col>&lt;fct&gt;</th><th scope=col>&lt;fct&gt;</th><th scope=col>&lt;int&gt;</th><th scope=col>&lt;dbl&gt;</th><th scope=col>&lt;int&gt;</th><th scope=col>&lt;dbl&gt;</th></tr>\n",
              "</thead>\n",
              "<tbody>\n",
              "\t<tr><td>United States</td><td>Americas</td><td>2007</td><td>78.242</td><td>301139947</td><td>42951.65</td></tr>\n",
              "\t<tr><td>United States</td><td>Americas</td><td>2002</td><td>77.310</td><td>287675526</td><td>39097.10</td></tr>\n",
              "\t<tr><td>United States</td><td>Americas</td><td>1997</td><td>76.810</td><td>272911760</td><td>35767.43</td></tr>\n",
              "\t<tr><td>United States</td><td>Americas</td><td>1992</td><td>76.090</td><td>256894189</td><td>32003.93</td></tr>\n",
              "\t<tr><td>United States</td><td>Americas</td><td>1987</td><td>75.020</td><td>242803533</td><td>29884.35</td></tr>\n",
              "\t<tr><td>United States</td><td>Americas</td><td>1982</td><td>74.650</td><td>232187835</td><td>25009.56</td></tr>\n",
              "\t<tr><td>United States</td><td>Americas</td><td>1977</td><td>73.380</td><td>220239000</td><td>24072.63</td></tr>\n",
              "\t<tr><td>United States</td><td>Americas</td><td>1972</td><td>71.340</td><td>209896000</td><td>21806.04</td></tr>\n",
              "\t<tr><td>United States</td><td>Americas</td><td>1967</td><td>70.760</td><td>198712000</td><td>19530.37</td></tr>\n",
              "\t<tr><td>United States</td><td>Americas</td><td>1962</td><td>70.210</td><td>186538000</td><td>16173.15</td></tr>\n",
              "\t<tr><td>United States</td><td>Americas</td><td>1957</td><td>69.490</td><td>171984000</td><td>14847.13</td></tr>\n",
              "\t<tr><td>United States</td><td>Americas</td><td>1952</td><td>68.440</td><td>157553000</td><td>13990.48</td></tr>\n",
              "</tbody>\n",
              "</table>\n"
            ],
            "text/markdown": "\nA tibble: 12 × 6\n\n| country &lt;fct&gt; | continent &lt;fct&gt; | year &lt;int&gt; | lifeExp &lt;dbl&gt; | pop &lt;int&gt; | gdpPercap &lt;dbl&gt; |\n|---|---|---|---|---|---|\n| United States | Americas | 2007 | 78.242 | 301139947 | 42951.65 |\n| United States | Americas | 2002 | 77.310 | 287675526 | 39097.10 |\n| United States | Americas | 1997 | 76.810 | 272911760 | 35767.43 |\n| United States | Americas | 1992 | 76.090 | 256894189 | 32003.93 |\n| United States | Americas | 1987 | 75.020 | 242803533 | 29884.35 |\n| United States | Americas | 1982 | 74.650 | 232187835 | 25009.56 |\n| United States | Americas | 1977 | 73.380 | 220239000 | 24072.63 |\n| United States | Americas | 1972 | 71.340 | 209896000 | 21806.04 |\n| United States | Americas | 1967 | 70.760 | 198712000 | 19530.37 |\n| United States | Americas | 1962 | 70.210 | 186538000 | 16173.15 |\n| United States | Americas | 1957 | 69.490 | 171984000 | 14847.13 |\n| United States | Americas | 1952 | 68.440 | 157553000 | 13990.48 |\n\n",
            "text/latex": "A tibble: 12 × 6\n\\begin{tabular}{llllll}\n country & continent & year & lifeExp & pop & gdpPercap\\\\\n <fct> & <fct> & <int> & <dbl> & <int> & <dbl>\\\\\n\\hline\n\t United States & Americas & 2007 & 78.242 & 301139947 & 42951.65\\\\\n\t United States & Americas & 2002 & 77.310 & 287675526 & 39097.10\\\\\n\t United States & Americas & 1997 & 76.810 & 272911760 & 35767.43\\\\\n\t United States & Americas & 1992 & 76.090 & 256894189 & 32003.93\\\\\n\t United States & Americas & 1987 & 75.020 & 242803533 & 29884.35\\\\\n\t United States & Americas & 1982 & 74.650 & 232187835 & 25009.56\\\\\n\t United States & Americas & 1977 & 73.380 & 220239000 & 24072.63\\\\\n\t United States & Americas & 1972 & 71.340 & 209896000 & 21806.04\\\\\n\t United States & Americas & 1967 & 70.760 & 198712000 & 19530.37\\\\\n\t United States & Americas & 1962 & 70.210 & 186538000 & 16173.15\\\\\n\t United States & Americas & 1957 & 69.490 & 171984000 & 14847.13\\\\\n\t United States & Americas & 1952 & 68.440 & 157553000 & 13990.48\\\\\n\\end{tabular}\n",
            "text/plain": [
              "   country       continent year lifeExp pop       gdpPercap\n",
              "1  United States Americas  2007 78.242  301139947 42951.65 \n",
              "2  United States Americas  2002 77.310  287675526 39097.10 \n",
              "3  United States Americas  1997 76.810  272911760 35767.43 \n",
              "4  United States Americas  1992 76.090  256894189 32003.93 \n",
              "5  United States Americas  1987 75.020  242803533 29884.35 \n",
              "6  United States Americas  1982 74.650  232187835 25009.56 \n",
              "7  United States Americas  1977 73.380  220239000 24072.63 \n",
              "8  United States Americas  1972 71.340  209896000 21806.04 \n",
              "9  United States Americas  1967 70.760  198712000 19530.37 \n",
              "10 United States Americas  1962 70.210  186538000 16173.15 \n",
              "11 United States Americas  1957 69.490  171984000 14847.13 \n",
              "12 United States Americas  1952 68.440  157553000 13990.48 "
            ]
          },
          "metadata": {}
        }
      ],
      "source": [
        "### (8) Your code here.\n",
        "gapminder%>%\n",
        "  filter(country == \"United States\") %>%\n",
        "  arrange(desc(year))\n",
        "###"
      ]
    },
    {
      "cell_type": "markdown",
      "id": "f1acee87-dd81-4980-8285-72c3a76f9579",
      "metadata": {
        "id": "f1acee87-dd81-4980-8285-72c3a76f9579"
      },
      "source": [
        "**Selecting columns with select()**\n",
        "\n",
        "In addition to being able to filter out a subset of rows, you can also filter out a subset of columns with the `select()` verb. **Try to select just the country and year variables.**"
      ]
    },
    {
      "cell_type": "code",
      "execution_count": 20,
      "id": "09d528db-caa1-469e-9760-116cf984ba50",
      "metadata": {
        "id": "09d528db-caa1-469e-9760-116cf984ba50",
        "colab": {
          "base_uri": "https://localhost:8080/",
          "height": 286
        },
        "outputId": "e43246ea-35d3-4289-8798-a3693ad7c881"
      },
      "outputs": [
        {
          "output_type": "display_data",
          "data": {
            "text/html": [
              "<table class=\"dataframe\">\n",
              "<caption>A tibble: 6 × 2</caption>\n",
              "<thead>\n",
              "\t<tr><th scope=col>country</th><th scope=col>year</th></tr>\n",
              "\t<tr><th scope=col>&lt;fct&gt;</th><th scope=col>&lt;int&gt;</th></tr>\n",
              "</thead>\n",
              "<tbody>\n",
              "\t<tr><td>Afghanistan</td><td>1952</td></tr>\n",
              "\t<tr><td>Afghanistan</td><td>1957</td></tr>\n",
              "\t<tr><td>Afghanistan</td><td>1962</td></tr>\n",
              "\t<tr><td>Afghanistan</td><td>1967</td></tr>\n",
              "\t<tr><td>Afghanistan</td><td>1972</td></tr>\n",
              "\t<tr><td>Afghanistan</td><td>1977</td></tr>\n",
              "</tbody>\n",
              "</table>\n"
            ],
            "text/markdown": "\nA tibble: 6 × 2\n\n| country &lt;fct&gt; | year &lt;int&gt; |\n|---|---|\n| Afghanistan | 1952 |\n| Afghanistan | 1957 |\n| Afghanistan | 1962 |\n| Afghanistan | 1967 |\n| Afghanistan | 1972 |\n| Afghanistan | 1977 |\n\n",
            "text/latex": "A tibble: 6 × 2\n\\begin{tabular}{ll}\n country & year\\\\\n <fct> & <int>\\\\\n\\hline\n\t Afghanistan & 1952\\\\\n\t Afghanistan & 1957\\\\\n\t Afghanistan & 1962\\\\\n\t Afghanistan & 1967\\\\\n\t Afghanistan & 1972\\\\\n\t Afghanistan & 1977\\\\\n\\end{tabular}\n",
            "text/plain": [
              "  country     year\n",
              "1 Afghanistan 1952\n",
              "2 Afghanistan 1957\n",
              "3 Afghanistan 1962\n",
              "4 Afghanistan 1967\n",
              "5 Afghanistan 1972\n",
              "6 Afghanistan 1977"
            ]
          },
          "metadata": {}
        }
      ],
      "source": [
        "### (9) Your code here.\n",
        "head(select(gapminder, country, year))\n",
        "###"
      ]
    },
    {
      "cell_type": "markdown",
      "id": "81a18f09-4f60-40b6-813c-3f4928778a75",
      "metadata": {
        "id": "81a18f09-4f60-40b6-813c-3f4928778a75"
      },
      "source": [
        "**Changing columns with mutate()**\n",
        "\n",
        "We can also mutate certain columns. For example, suppose that we wanted life expectancy to be measured in months. We might write:"
      ]
    },
    {
      "cell_type": "code",
      "execution_count": 23,
      "id": "e7a7a5a0-1ecd-4243-8bcb-5e37b7fd74e3",
      "metadata": {
        "id": "e7a7a5a0-1ecd-4243-8bcb-5e37b7fd74e3",
        "colab": {
          "base_uri": "https://localhost:8080/",
          "height": 286
        },
        "outputId": "02534ae8-505c-4a91-e817-41dec7075b0c"
      },
      "outputs": [
        {
          "output_type": "display_data",
          "data": {
            "text/html": [
              "<table class=\"dataframe\">\n",
              "<caption>A tibble: 6 × 6</caption>\n",
              "<thead>\n",
              "\t<tr><th scope=col>country</th><th scope=col>continent</th><th scope=col>year</th><th scope=col>lifeExp</th><th scope=col>pop</th><th scope=col>gdpPercap</th></tr>\n",
              "\t<tr><th scope=col>&lt;fct&gt;</th><th scope=col>&lt;fct&gt;</th><th scope=col>&lt;int&gt;</th><th scope=col>&lt;dbl&gt;</th><th scope=col>&lt;int&gt;</th><th scope=col>&lt;dbl&gt;</th></tr>\n",
              "</thead>\n",
              "<tbody>\n",
              "\t<tr><td>Afghanistan</td><td>Asia</td><td>1952</td><td>345.612</td><td> 8425333</td><td>779.4453</td></tr>\n",
              "\t<tr><td>Afghanistan</td><td>Asia</td><td>1957</td><td>363.984</td><td> 9240934</td><td>820.8530</td></tr>\n",
              "\t<tr><td>Afghanistan</td><td>Asia</td><td>1962</td><td>383.964</td><td>10267083</td><td>853.1007</td></tr>\n",
              "\t<tr><td>Afghanistan</td><td>Asia</td><td>1967</td><td>408.240</td><td>11537966</td><td>836.1971</td></tr>\n",
              "\t<tr><td>Afghanistan</td><td>Asia</td><td>1972</td><td>433.056</td><td>13079460</td><td>739.9811</td></tr>\n",
              "\t<tr><td>Afghanistan</td><td>Asia</td><td>1977</td><td>461.256</td><td>14880372</td><td>786.1134</td></tr>\n",
              "</tbody>\n",
              "</table>\n"
            ],
            "text/markdown": "\nA tibble: 6 × 6\n\n| country &lt;fct&gt; | continent &lt;fct&gt; | year &lt;int&gt; | lifeExp &lt;dbl&gt; | pop &lt;int&gt; | gdpPercap &lt;dbl&gt; |\n|---|---|---|---|---|---|\n| Afghanistan | Asia | 1952 | 345.612 |  8425333 | 779.4453 |\n| Afghanistan | Asia | 1957 | 363.984 |  9240934 | 820.8530 |\n| Afghanistan | Asia | 1962 | 383.964 | 10267083 | 853.1007 |\n| Afghanistan | Asia | 1967 | 408.240 | 11537966 | 836.1971 |\n| Afghanistan | Asia | 1972 | 433.056 | 13079460 | 739.9811 |\n| Afghanistan | Asia | 1977 | 461.256 | 14880372 | 786.1134 |\n\n",
            "text/latex": "A tibble: 6 × 6\n\\begin{tabular}{llllll}\n country & continent & year & lifeExp & pop & gdpPercap\\\\\n <fct> & <fct> & <int> & <dbl> & <int> & <dbl>\\\\\n\\hline\n\t Afghanistan & Asia & 1952 & 345.612 &  8425333 & 779.4453\\\\\n\t Afghanistan & Asia & 1957 & 363.984 &  9240934 & 820.8530\\\\\n\t Afghanistan & Asia & 1962 & 383.964 & 10267083 & 853.1007\\\\\n\t Afghanistan & Asia & 1967 & 408.240 & 11537966 & 836.1971\\\\\n\t Afghanistan & Asia & 1972 & 433.056 & 13079460 & 739.9811\\\\\n\t Afghanistan & Asia & 1977 & 461.256 & 14880372 & 786.1134\\\\\n\\end{tabular}\n",
            "text/plain": [
              "  country     continent year lifeExp pop      gdpPercap\n",
              "1 Afghanistan Asia      1952 345.612  8425333 779.4453 \n",
              "2 Afghanistan Asia      1957 363.984  9240934 820.8530 \n",
              "3 Afghanistan Asia      1962 383.964 10267083 853.1007 \n",
              "4 Afghanistan Asia      1967 408.240 11537966 836.1971 \n",
              "5 Afghanistan Asia      1972 433.056 13079460 739.9811 \n",
              "6 Afghanistan Asia      1977 461.256 14880372 786.1134 "
            ]
          },
          "metadata": {}
        }
      ],
      "source": [
        "head(gapminder %>%\n",
        "    mutate(lifeExp = lifeExp*12))"
      ]
    },
    {
      "cell_type": "markdown",
      "id": "e3996ef2-3003-4de3-b613-9ea74bbc45b7",
      "metadata": {
        "id": "e3996ef2-3003-4de3-b613-9ea74bbc45b7"
      },
      "source": [
        "**Create a new column in the data frame that is just GDP (not GDP per capita). Store your new data frame in `gapminder_GDP`**"
      ]
    },
    {
      "cell_type": "code",
      "execution_count": 25,
      "id": "3ae4e5c4-bd7e-44d2-bf6d-eec84bdd3e5d",
      "metadata": {
        "id": "3ae4e5c4-bd7e-44d2-bf6d-eec84bdd3e5d"
      },
      "outputs": [],
      "source": [
        "### (10) Your code here.\n",
        "gapminder_GDP = head(gapminder %>%\n",
        "  mutate(gdp = gdpPercap * pop))\n",
        "###"
      ]
    },
    {
      "cell_type": "markdown",
      "id": "0277d459-a93c-4139-b1e9-b5d1926805e9",
      "metadata": {
        "id": "0277d459-a93c-4139-b1e9-b5d1926805e9"
      },
      "source": [
        "### D. Exploratory Data Analysis\n",
        "\n",
        "Let's explore a [dataset](https://dasl.datadescription.com/datafile/amazon-books/?_sfm_methods=Multiple+Regression&_sfm_cases=4+59943) about book prices from Amazon. The data consists of data on $n = 325$ books and includes measurements of:\n",
        "\n",
        "- `aprice`: The price listed on Amazon (dollars)\n",
        "\n",
        "\n",
        "- `lprice`: The book's list price (dollars)\n",
        "\n",
        "\n",
        "- `weight`: The book's weight (ounces)\n",
        "\n",
        "\n",
        "- `pages`: The number of pages in the book\n",
        "\n",
        "\n",
        "- `height`: The book's height (inches)\n",
        "\n",
        "\n",
        "- `width`: The book's width (inches)\n",
        "\n",
        "\n",
        "- `thick`: The thickness of the book (inches)\n",
        "\n",
        "\n",
        "- `cover`: Whether the book is a hard cover of paperback.\n",
        "\n",
        "\n",
        "- And other variables...\n",
        "\n",
        "First, we'll read this data in from Github..."
      ]
    },
    {
      "cell_type": "code",
      "execution_count": 27,
      "id": "27f81177-a65d-4fd5-ab57-adbea2194c84",
      "metadata": {
        "id": "27f81177-a65d-4fd5-ab57-adbea2194c84",
        "colab": {
          "base_uri": "https://localhost:8080/",
          "height": 295
        },
        "outputId": "0598abbd-2641-4254-b0de-02dd4194b3ab"
      },
      "outputs": [
        {
          "output_type": "stream",
          "name": "stderr",
          "text": [
            "Installing package into ‘/usr/local/lib/R/site-library’\n",
            "(as ‘lib’ is unspecified)\n",
            "\n",
            "also installing the dependency ‘bitops’\n",
            "\n",
            "\n",
            "\n",
            "Attaching package: ‘RCurl’\n",
            "\n",
            "\n",
            "The following object is masked from ‘package:tidyr’:\n",
            "\n",
            "    complete\n",
            "\n",
            "\n"
          ]
        },
        {
          "output_type": "display_data",
          "data": {
            "text/html": [
              "<style>\n",
              ".list-inline {list-style: none; margin:0; padding: 0}\n",
              ".list-inline>li {display: inline-block}\n",
              ".list-inline>li:not(:last-child)::after {content: \"\\00b7\"; padding: 0 .5ex}\n",
              "</style>\n",
              "<ol class=list-inline><li>'Title'</li><li>'Author'</li><li>'List.Price'</li><li>'Amazon.Price'</li><li>'Hard..Paper'</li><li>'NumPages'</li><li>'Publisher'</li><li>'Pub.year'</li><li>'ISBN.10'</li><li>'Height'</li><li>'Width'</li><li>'Thick'</li><li>'Weight..oz.'</li></ol>\n"
            ],
            "text/markdown": "1. 'Title'\n2. 'Author'\n3. 'List.Price'\n4. 'Amazon.Price'\n5. 'Hard..Paper'\n6. 'NumPages'\n7. 'Publisher'\n8. 'Pub.year'\n9. 'ISBN.10'\n10. 'Height'\n11. 'Width'\n12. 'Thick'\n13. 'Weight..oz.'\n\n\n",
            "text/latex": "\\begin{enumerate*}\n\\item 'Title'\n\\item 'Author'\n\\item 'List.Price'\n\\item 'Amazon.Price'\n\\item 'Hard..Paper'\n\\item 'NumPages'\n\\item 'Publisher'\n\\item 'Pub.year'\n\\item 'ISBN.10'\n\\item 'Height'\n\\item 'Width'\n\\item 'Thick'\n\\item 'Weight..oz.'\n\\end{enumerate*}\n",
            "text/plain": [
              " [1] \"Title\"        \"Author\"       \"List.Price\"   \"Amazon.Price\" \"Hard..Paper\" \n",
              " [6] \"NumPages\"     \"Publisher\"    \"Pub.year\"     \"ISBN.10\"      \"Height\"      \n",
              "[11] \"Width\"        \"Thick\"        \"Weight..oz.\" "
            ]
          },
          "metadata": {}
        }
      ],
      "source": [
        "install.packages(\"RCurl\")\n",
        "library(RCurl) #a package that includes the function getURL(), which allows for reading data from github.\n",
        "library(ggplot2) #a package for nice plots!\n",
        "\n",
        "#getURL is a nice way of reading in data from the web\n",
        "url = getURL(paste0(\"https://raw.githubusercontent.com/bzaharatos/\",\n",
        "                    \"-Statistical-Modeling-for-Data-Science-Applications/\",\n",
        "                    \"master/Modern%20Regression%20Analysis%20/Datasets/amazon.txt\"))\n",
        "#stores the data in the dataframe amazon\n",
        "amazon = read.csv(text = url, sep = \"\\t\")\n",
        "\n",
        "#prints the names in the dataframe\n",
        "names(amazon)"
      ]
    },
    {
      "cell_type": "markdown",
      "id": "63221a37-b29d-448e-ba68-ca65113559ac",
      "metadata": {
        "id": "63221a37-b29d-448e-ba68-ca65113559ac"
      },
      "source": [
        "Next, let's create a new data frame, called `df`, and store a subset of the variables. In addition, we'll change the names of the variables in the dataframe to something cleaner and easier to work with."
      ]
    },
    {
      "cell_type": "code",
      "execution_count": 28,
      "id": "de5c2881-522e-433a-8bdb-769b29971dc6",
      "metadata": {
        "id": "de5c2881-522e-433a-8bdb-769b29971dc6",
        "colab": {
          "base_uri": "https://localhost:8080/",
          "height": 295
        },
        "outputId": "c259d491-cd4a-4a07-d7ce-aa8faddccc9c"
      },
      "outputs": [
        {
          "output_type": "display_data",
          "data": {
            "text/plain": [
              "     aprice           lprice           pages           width      \n",
              " Min.   :  0.77   Min.   :  1.50   Min.   : 24.0   Min.   :4.100  \n",
              " 1st Qu.:  8.60   1st Qu.: 13.95   1st Qu.:208.0   1st Qu.:5.200  \n",
              " Median : 10.20   Median : 15.00   Median :320.0   Median :5.400  \n",
              " Mean   : 13.33   Mean   : 18.58   Mean   :335.9   Mean   :5.585  \n",
              " 3rd Qu.: 13.13   3rd Qu.: 19.95   3rd Qu.:416.0   3rd Qu.:5.900  \n",
              " Max.   :139.95   Max.   :139.95   Max.   :896.0   Max.   :9.500  \n",
              "                  NA's   :1        NA's   :2       NA's   :5      \n",
              "     weight          height           thick           cover          \n",
              " Min.   : 1.20   Min.   : 5.100   Min.   :0.1000   Length:325        \n",
              " 1st Qu.: 7.80   1st Qu.: 7.900   1st Qu.:0.6000   Class :character  \n",
              " Median :11.20   Median : 8.100   Median :0.9000   Mode  :character  \n",
              " Mean   :12.49   Mean   : 8.163   Mean   :0.9077                     \n",
              " 3rd Qu.:16.00   3rd Qu.: 8.500   3rd Qu.:1.1000                     \n",
              " Max.   :35.20   Max.   :12.100   Max.   :2.1000                     \n",
              " NA's   :9       NA's   :4        NA's   :1                          "
            ]
          },
          "metadata": {}
        }
      ],
      "source": [
        "### (11) Your code here.\n",
        "df = data.frame(aprice = amazon$Amazon.Price,\n",
        "                lprice = as.numeric(amazon$List.Price),\n",
        "                pages = amazon$NumPages,\n",
        "                width = amazon$Width,\n",
        "                weight = amazon$Weight..oz.,\n",
        "                height = amazon$Height,\n",
        "                thick = amazon$Thick,\n",
        "                cover = amazon$Hard..Paper)\n",
        "\n",
        "summary(df)\n",
        "###"
      ]
    },
    {
      "cell_type": "markdown",
      "id": "f35f632f-9d47-4bec-ad99-66db5bbc4d81",
      "metadata": {
        "id": "f35f632f-9d47-4bec-ad99-66db5bbc4d81"
      },
      "source": [
        "From the summary, we can see that there are missing values in the dataset, coded as `NA`. There are many ways to deal with missing data. Suppose that sample unit $i$ has a missing measurement for variable $z_j$. We could:\n",
        "\n",
        "1. Delete sample unit $i$ from the dataset, i.e., delete the entire row. That might be reasonable if there are very view missing values and if we think the values are missing at random.\n",
        "\n",
        "2. Delete the variable $z_j$ from the dataset, i.e., delete the entire column. This might be reasonable if there are many many other missing values for $z_j$ and if we think $z_j$ might not be neccesary for our overall prediction/explanation goals.\n",
        "\n",
        "3.  Impute missing values by substituting each missing value with an estimate.\n",
        "\n",
        "Since most of our columns/variables are not missing values, and since these variables will be useful to us in our analysis, option 2 seems unreasonable. Let's first try option 3: impute the missing values of `lprice`, `pages`, `width`, `weight`, `height`, and `thick` with the mean of each. The following code might help you get started!"
      ]
    },
    {
      "cell_type": "code",
      "execution_count": 29,
      "id": "749d9da7-667f-4b1e-adbd-d602da2e65ab",
      "metadata": {
        "id": "749d9da7-667f-4b1e-adbd-d602da2e65ab",
        "colab": {
          "base_uri": "https://localhost:8080/",
          "height": 34
        },
        "outputId": "f76e6531-27fc-4575-bbbe-4cba6a90abbf"
      },
      "outputs": [
        {
          "output_type": "display_data",
          "data": {
            "text/html": [
              "205"
            ],
            "text/markdown": "205",
            "text/latex": "205",
            "text/plain": [
              "[1] 205"
            ]
          },
          "metadata": {}
        }
      ],
      "source": [
        "which(is.na(df$lprice))\n",
        "df = df %>%\n",
        "  mutate(lprice = replace(lprice, is.na(lprice),mean(lprice, na.rm = TRUE)))"
      ]
    },
    {
      "cell_type": "code",
      "execution_count": 30,
      "id": "29809164-9a7f-47a4-aac5-42115d7fd58c",
      "metadata": {
        "id": "29809164-9a7f-47a4-aac5-42115d7fd58c",
        "colab": {
          "base_uri": "https://localhost:8080/",
          "height": 260
        },
        "outputId": "0ffdfaf5-1e48-457d-9e27-f06ae0d8eb1d"
      },
      "outputs": [
        {
          "output_type": "display_data",
          "data": {
            "text/plain": [
              "     aprice           lprice           pages           width      \n",
              " Min.   :  0.77   Min.   :  1.50   Min.   : 24.0   Min.   :4.100  \n",
              " 1st Qu.:  8.60   1st Qu.: 13.95   1st Qu.:208.0   1st Qu.:5.200  \n",
              " Median : 10.20   Median : 15.00   Median :320.0   Median :5.400  \n",
              " Mean   : 13.33   Mean   : 18.58   Mean   :335.9   Mean   :5.585  \n",
              " 3rd Qu.: 13.13   3rd Qu.: 19.95   3rd Qu.:416.0   3rd Qu.:5.900  \n",
              " Max.   :139.95   Max.   :139.95   Max.   :896.0   Max.   :9.500  \n",
              "     weight          height           thick           cover          \n",
              " Min.   : 1.20   Min.   : 5.100   Min.   :0.1000   Length:325        \n",
              " 1st Qu.: 7.80   1st Qu.: 7.900   1st Qu.:0.6000   Class :character  \n",
              " Median :11.20   Median : 8.100   Median :0.9000   Mode  :character  \n",
              " Mean   :12.49   Mean   : 8.163   Mean   :0.9077                     \n",
              " 3rd Qu.:16.00   3rd Qu.: 8.500   3rd Qu.:1.1000                     \n",
              " Max.   :35.20   Max.   :12.100   Max.   :2.1000                     "
            ]
          },
          "metadata": {}
        }
      ],
      "source": [
        "### (12) Your code here.\n",
        "df = df %>%\n",
        "    mutate(lprice = replace(lprice, is.na(lprice),mean(lprice, na.rm = TRUE)))%>%\n",
        "    mutate(weight = replace(weight, is.na(weight),mean(weight, na.rm = TRUE)))%>%\n",
        "    mutate(pages = replace(pages, is.na(pages),mean(pages, na.rm = TRUE)))%>%\n",
        "    mutate(height = replace(height, is.na(height),mean(height, na.rm = TRUE)))%>%\n",
        "    mutate(width = replace(width, is.na(width),mean(width, na.rm = TRUE)))%>%\n",
        "    mutate(thick = replace(thick, is.na(thick),mean(thick, na.rm = TRUE)))\n",
        "summary(df)\n",
        "###"
      ]
    },
    {
      "cell_type": "markdown",
      "id": "02a1159e-e7d3-41b6-b673-eb88bf1c5737",
      "metadata": {
        "id": "02a1159e-e7d3-41b6-b673-eb88bf1c5737"
      },
      "source": [
        "**Use the `summary()` function to print numerical summaries of this dataset.**"
      ]
    },
    {
      "cell_type": "code",
      "execution_count": 31,
      "id": "c14f5893-7568-4375-9e66-dffb4caaf2b3",
      "metadata": {
        "id": "c14f5893-7568-4375-9e66-dffb4caaf2b3",
        "colab": {
          "base_uri": "https://localhost:8080/",
          "height": 260
        },
        "outputId": "0ffa1e55-b441-4d64-88b3-00a7b8191a4f"
      },
      "outputs": [
        {
          "output_type": "display_data",
          "data": {
            "text/plain": [
              "     aprice           lprice           pages           width      \n",
              " Min.   :  0.77   Min.   :  1.50   Min.   : 24.0   Min.   :4.100  \n",
              " 1st Qu.:  8.60   1st Qu.: 13.95   1st Qu.:208.0   1st Qu.:5.200  \n",
              " Median : 10.20   Median : 15.00   Median :320.0   Median :5.400  \n",
              " Mean   : 13.33   Mean   : 18.58   Mean   :335.9   Mean   :5.585  \n",
              " 3rd Qu.: 13.13   3rd Qu.: 19.95   3rd Qu.:416.0   3rd Qu.:5.900  \n",
              " Max.   :139.95   Max.   :139.95   Max.   :896.0   Max.   :9.500  \n",
              "     weight          height           thick           cover          \n",
              " Min.   : 1.20   Min.   : 5.100   Min.   :0.1000   Length:325        \n",
              " 1st Qu.: 7.80   1st Qu.: 7.900   1st Qu.:0.6000   Class :character  \n",
              " Median :11.20   Median : 8.100   Median :0.9000   Mode  :character  \n",
              " Mean   :12.49   Mean   : 8.163   Mean   :0.9077                     \n",
              " 3rd Qu.:16.00   3rd Qu.: 8.500   3rd Qu.:1.1000                     \n",
              " Max.   :35.20   Max.   :12.100   Max.   :2.1000                     "
            ]
          },
          "metadata": {}
        }
      ],
      "source": [
        "### (13) Your code here.\n",
        "summary(df)\n",
        "###"
      ]
    },
    {
      "cell_type": "markdown",
      "id": "cfd8dea9-94cb-46b9-8dd2-5a74b2615278",
      "metadata": {
        "id": "cfd8dea9-94cb-46b9-8dd2-5a74b2615278"
      },
      "source": [
        "**Use the `arrange()` verb to rearrange the `df` dataframe in descending order with respect to `lprice` (that is, with the row corresponding to the highest `lprice` at the top, the row corresponding to the next highest `lprice` second, etc.). Do *not* rewrite the dataframe in `df`.**"
      ]
    },
    {
      "cell_type": "code",
      "execution_count": 32,
      "id": "a663b12b-2495-4265-9186-fc09ddba55a5",
      "metadata": {
        "id": "a663b12b-2495-4265-9186-fc09ddba55a5",
        "colab": {
          "base_uri": "https://localhost:8080/",
          "height": 1000
        },
        "outputId": "68de0434-b071-45f3-dcd5-d91f4b796d40"
      },
      "outputs": [
        {
          "output_type": "display_data",
          "data": {
            "text/html": [
              "<table class=\"dataframe\">\n",
              "<caption>A data.frame: 325 × 8</caption>\n",
              "<thead>\n",
              "\t<tr><th scope=col>aprice</th><th scope=col>lprice</th><th scope=col>pages</th><th scope=col>width</th><th scope=col>weight</th><th scope=col>height</th><th scope=col>thick</th><th scope=col>cover</th></tr>\n",
              "\t<tr><th scope=col>&lt;dbl&gt;</th><th scope=col>&lt;dbl&gt;</th><th scope=col>&lt;dbl&gt;</th><th scope=col>&lt;dbl&gt;</th><th scope=col>&lt;dbl&gt;</th><th scope=col>&lt;dbl&gt;</th><th scope=col>&lt;dbl&gt;</th><th scope=col>&lt;chr&gt;</th></tr>\n",
              "</thead>\n",
              "<tbody>\n",
              "\t<tr><td>139.95</td><td>139.95</td><td>160.0000</td><td>8.200</td><td>22.40000</td><td>10.60000</td><td>0.500000</td><td>P</td></tr>\n",
              "\t<tr><td> 83.04</td><td>114.95</td><td>544.0000</td><td>7.300</td><td>28.80000</td><td> 9.10000</td><td>0.800000</td><td>P</td></tr>\n",
              "\t<tr><td> 98.95</td><td> 98.95</td><td>778.0000</td><td>9.500</td><td>12.48797</td><td>11.30000</td><td>1.500000</td><td>H</td></tr>\n",
              "\t<tr><td> 97.50</td><td> 97.50</td><td>480.0000</td><td>8.900</td><td>14.40000</td><td>10.70000</td><td>0.900000</td><td>P</td></tr>\n",
              "\t<tr><td> 54.61</td><td> 86.95</td><td>512.0000</td><td>7.400</td><td>23.20000</td><td> 9.10000</td><td>0.800000</td><td>P</td></tr>\n",
              "\t<tr><td> 39.45</td><td> 75.00</td><td>700.0000</td><td>6.500</td><td>12.48797</td><td> 9.50000</td><td>0.907716</td><td>H</td></tr>\n",
              "\t<tr><td> 55.75</td><td> 70.80</td><td>560.0000</td><td>5.800</td><td>19.20000</td><td> 8.90000</td><td>0.900000</td><td>P</td></tr>\n",
              "\t<tr><td> 39.92</td><td> 53.95</td><td>192.0000</td><td>6.100</td><td>11.20000</td><td> 9.10000</td><td>0.500000</td><td>P</td></tr>\n",
              "\t<tr><td> 44.32</td><td> 48.20</td><td>384.0000</td><td>6.000</td><td>14.40000</td><td> 8.90000</td><td>0.600000</td><td>P</td></tr>\n",
              "\t<tr><td> 39.72</td><td> 48.20</td><td>400.0000</td><td>5.900</td><td>16.00000</td><td> 8.90000</td><td>0.600000</td><td>P</td></tr>\n",
              "\t<tr><td> 37.95</td><td> 39.95</td><td>384.0000</td><td>6.600</td><td>22.40000</td><td> 9.20000</td><td>0.800000</td><td>P</td></tr>\n",
              "\t<tr><td> 23.79</td><td> 39.95</td><td>256.0000</td><td>5.585</td><td>12.48797</td><td> 8.16324</td><td>1.000000</td><td>H</td></tr>\n",
              "\t<tr><td> 25.00</td><td> 37.50</td><td>384.0000</td><td>7.300</td><td>12.48797</td><td> 9.10000</td><td>1.400000</td><td>H</td></tr>\n",
              "\t<tr><td> 35.95</td><td> 35.95</td><td>176.0000</td><td>6.100</td><td> 9.90000</td><td> 9.10000</td><td>0.500000</td><td>P</td></tr>\n",
              "\t<tr><td> 25.84</td><td> 35.75</td><td>436.0000</td><td>7.400</td><td>25.60000</td><td> 9.50000</td><td>1.000000</td><td>P</td></tr>\n",
              "\t<tr><td> 21.68</td><td> 35.75</td><td>288.0000</td><td>5.400</td><td>12.00000</td><td> 8.40000</td><td>0.500000</td><td>P</td></tr>\n",
              "\t<tr><td> 18.81</td><td> 35.00</td><td>335.8576</td><td>6.500</td><td>12.48797</td><td> 9.60000</td><td>2.100000</td><td>H</td></tr>\n",
              "\t<tr><td> 23.10</td><td> 35.00</td><td>336.0000</td><td>6.100</td><td>17.60000</td><td> 8.90000</td><td>1.300000</td><td>H</td></tr>\n",
              "\t<tr><td> 24.90</td><td> 34.80</td><td>368.0000</td><td>6.700</td><td>19.20000</td><td> 9.40000</td><td>0.900000</td><td>P</td></tr>\n",
              "\t<tr><td> 21.75</td><td> 32.95</td><td>352.0000</td><td>6.500</td><td>25.60000</td><td> 9.50000</td><td>1.200000</td><td>H</td></tr>\n",
              "\t<tr><td> 16.77</td><td> 30.50</td><td>720.0000</td><td>5.200</td><td>22.40000</td><td> 8.00000</td><td>1.400000</td><td>P</td></tr>\n",
              "\t<tr><td> 19.80</td><td> 30.00</td><td>304.0000</td><td>6.400</td><td>19.20000</td><td> 9.60000</td><td>1.100000</td><td>H</td></tr>\n",
              "\t<tr><td> 17.43</td><td> 30.00</td><td>255.0000</td><td>6.500</td><td>16.00000</td><td> 9.60000</td><td>0.900000</td><td>H</td></tr>\n",
              "\t<tr><td> 20.00</td><td> 30.00</td><td>384.0000</td><td>9.000</td><td>32.00000</td><td>11.00000</td><td>1.000000</td><td>P</td></tr>\n",
              "\t<tr><td> 23.94</td><td> 30.00</td><td>248.0000</td><td>5.500</td><td>12.00000</td><td> 8.50000</td><td>0.600000</td><td>P</td></tr>\n",
              "\t<tr><td> 26.61</td><td> 29.50</td><td>192.0000</td><td>6.000</td><td> 9.60000</td><td> 8.90000</td><td>0.500000</td><td>P</td></tr>\n",
              "\t<tr><td> 16.44</td><td> 28.95</td><td>460.0000</td><td>6.300</td><td>32.00000</td><td> 8.90000</td><td>1.700000</td><td>H</td></tr>\n",
              "\t<tr><td> 16.09</td><td> 28.00</td><td>208.0000</td><td>6.300</td><td>19.20000</td><td> 9.20000</td><td>0.800000</td><td>H</td></tr>\n",
              "\t<tr><td> 16.08</td><td> 28.00</td><td>480.0000</td><td>6.200</td><td>25.60000</td><td> 9.10000</td><td>1.700000</td><td>H</td></tr>\n",
              "\t<tr><td> 11.20</td><td> 27.99</td><td>464.0000</td><td>6.000</td><td> 1.20000</td><td> 9.10000</td><td>1.700000</td><td>H</td></tr>\n",
              "\t<tr><td>⋮</td><td>⋮</td><td>⋮</td><td>⋮</td><td>⋮</td><td>⋮</td><td>⋮</td><td>⋮</td></tr>\n",
              "\t<tr><td>7.99</td><td>7.99</td><td>352</td><td>4.2</td><td> 6.9</td><td>6.9</td><td>1.0</td><td>P</td></tr>\n",
              "\t<tr><td>7.99</td><td>7.99</td><td>224</td><td>5.4</td><td> 4.8</td><td>8.2</td><td>0.5</td><td>P</td></tr>\n",
              "\t<tr><td>7.95</td><td>7.95</td><td>336</td><td>6.3</td><td>16.0</td><td>8.7</td><td>1.1</td><td>H</td></tr>\n",
              "\t<tr><td>7.95</td><td>7.95</td><td>283</td><td>4.5</td><td> 4.2</td><td>6.3</td><td>0.6</td><td>H</td></tr>\n",
              "\t<tr><td>7.95</td><td>7.95</td><td>272</td><td>5.2</td><td> 7.2</td><td>8.2</td><td>0.7</td><td>H</td></tr>\n",
              "\t<tr><td>7.95</td><td>7.95</td><td>688</td><td>4.1</td><td>11.2</td><td>6.6</td><td>1.7</td><td>H</td></tr>\n",
              "\t<tr><td>7.77</td><td>7.77</td><td>140</td><td>5.1</td><td>16.0</td><td>7.8</td><td>1.0</td><td>P</td></tr>\n",
              "\t<tr><td>7.75</td><td>7.75</td><td>168</td><td>5.9</td><td> 9.6</td><td>8.9</td><td>0.5</td><td>P</td></tr>\n",
              "\t<tr><td>5.87</td><td>7.50</td><td>160</td><td>4.1</td><td> 4.0</td><td>6.7</td><td>0.6</td><td>P</td></tr>\n",
              "\t<tr><td>6.99</td><td>6.99</td><td> 32</td><td>9.3</td><td> 1.6</td><td>8.5</td><td>0.1</td><td>P</td></tr>\n",
              "\t<tr><td>6.99</td><td>6.99</td><td>352</td><td>4.2</td><td> 5.6</td><td>6.7</td><td>1.0</td><td>P</td></tr>\n",
              "\t<tr><td>6.99</td><td>6.99</td><td>208</td><td>4.1</td><td> 4.0</td><td>6.9</td><td>0.7</td><td>P</td></tr>\n",
              "\t<tr><td>6.99</td><td>6.99</td><td>560</td><td>4.1</td><td> 9.6</td><td>6.7</td><td>0.9</td><td>P</td></tr>\n",
              "\t<tr><td>6.99</td><td>6.99</td><td>320</td><td>5.2</td><td> 8.0</td><td>7.5</td><td>0.9</td><td>P</td></tr>\n",
              "\t<tr><td>6.99</td><td>6.99</td><td>160</td><td>7.2</td><td> 8.0</td><td>9.0</td><td>0.4</td><td>P</td></tr>\n",
              "\t<tr><td>6.99</td><td>6.99</td><td>192</td><td>4.2</td><td> 4.0</td><td>6.7</td><td>0.6</td><td>P</td></tr>\n",
              "\t<tr><td>6.99</td><td>6.99</td><td>176</td><td>5.2</td><td> 3.2</td><td>7.6</td><td>0.4</td><td>P</td></tr>\n",
              "\t<tr><td>6.95</td><td>6.95</td><td>272</td><td>5.4</td><td> 9.6</td><td>8.3</td><td>0.8</td><td>P</td></tr>\n",
              "\t<tr><td>6.95</td><td>6.95</td><td> 92</td><td>5.1</td><td>16.0</td><td>7.8</td><td>1.0</td><td>P</td></tr>\n",
              "\t<tr><td>6.95</td><td>6.95</td><td>224</td><td>5.3</td><td> 8.0</td><td>7.6</td><td>0.6</td><td>P</td></tr>\n",
              "\t<tr><td>6.99</td><td>6.69</td><td>288</td><td>5.2</td><td> 4.8</td><td>7.6</td><td>0.8</td><td>P</td></tr>\n",
              "\t<tr><td>5.99</td><td>5.99</td><td>128</td><td>4.1</td><td> 2.4</td><td>6.8</td><td>0.4</td><td>P</td></tr>\n",
              "\t<tr><td>5.99</td><td>5.99</td><td>160</td><td>5.2</td><td> 4.8</td><td>6.6</td><td>0.4</td><td>P</td></tr>\n",
              "\t<tr><td>5.99</td><td>5.99</td><td>336</td><td>4.2</td><td> 6.4</td><td>6.6</td><td>1.0</td><td>P</td></tr>\n",
              "\t<tr><td>3.99</td><td>5.95</td><td>192</td><td>5.2</td><td> 8.8</td><td>7.4</td><td>0.5</td><td>P</td></tr>\n",
              "\t<tr><td>4.99</td><td>4.99</td><td> 24</td><td>4.3</td><td> 4.0</td><td>5.8</td><td>0.5</td><td>H</td></tr>\n",
              "\t<tr><td>4.99</td><td>4.99</td><td> 24</td><td>4.3</td><td> 8.0</td><td>5.7</td><td>0.4</td><td>H</td></tr>\n",
              "\t<tr><td>3.95</td><td>3.95</td><td>288</td><td>4.1</td><td> 5.6</td><td>6.7</td><td>1.0</td><td>P</td></tr>\n",
              "\t<tr><td>0.77</td><td>2.00</td><td>128</td><td>5.2</td><td> 4.2</td><td>8.2</td><td>0.3</td><td>P</td></tr>\n",
              "\t<tr><td>1.50</td><td>1.50</td><td> 96</td><td>5.2</td><td> 4.0</td><td>8.3</td><td>0.3</td><td>P</td></tr>\n",
              "</tbody>\n",
              "</table>\n"
            ],
            "text/markdown": "\nA data.frame: 325 × 8\n\n| aprice &lt;dbl&gt; | lprice &lt;dbl&gt; | pages &lt;dbl&gt; | width &lt;dbl&gt; | weight &lt;dbl&gt; | height &lt;dbl&gt; | thick &lt;dbl&gt; | cover &lt;chr&gt; |\n|---|---|---|---|---|---|---|---|\n| 139.95 | 139.95 | 160.0000 | 8.200 | 22.40000 | 10.60000 | 0.500000 | P |\n|  83.04 | 114.95 | 544.0000 | 7.300 | 28.80000 |  9.10000 | 0.800000 | P |\n|  98.95 |  98.95 | 778.0000 | 9.500 | 12.48797 | 11.30000 | 1.500000 | H |\n|  97.50 |  97.50 | 480.0000 | 8.900 | 14.40000 | 10.70000 | 0.900000 | P |\n|  54.61 |  86.95 | 512.0000 | 7.400 | 23.20000 |  9.10000 | 0.800000 | P |\n|  39.45 |  75.00 | 700.0000 | 6.500 | 12.48797 |  9.50000 | 0.907716 | H |\n|  55.75 |  70.80 | 560.0000 | 5.800 | 19.20000 |  8.90000 | 0.900000 | P |\n|  39.92 |  53.95 | 192.0000 | 6.100 | 11.20000 |  9.10000 | 0.500000 | P |\n|  44.32 |  48.20 | 384.0000 | 6.000 | 14.40000 |  8.90000 | 0.600000 | P |\n|  39.72 |  48.20 | 400.0000 | 5.900 | 16.00000 |  8.90000 | 0.600000 | P |\n|  37.95 |  39.95 | 384.0000 | 6.600 | 22.40000 |  9.20000 | 0.800000 | P |\n|  23.79 |  39.95 | 256.0000 | 5.585 | 12.48797 |  8.16324 | 1.000000 | H |\n|  25.00 |  37.50 | 384.0000 | 7.300 | 12.48797 |  9.10000 | 1.400000 | H |\n|  35.95 |  35.95 | 176.0000 | 6.100 |  9.90000 |  9.10000 | 0.500000 | P |\n|  25.84 |  35.75 | 436.0000 | 7.400 | 25.60000 |  9.50000 | 1.000000 | P |\n|  21.68 |  35.75 | 288.0000 | 5.400 | 12.00000 |  8.40000 | 0.500000 | P |\n|  18.81 |  35.00 | 335.8576 | 6.500 | 12.48797 |  9.60000 | 2.100000 | H |\n|  23.10 |  35.00 | 336.0000 | 6.100 | 17.60000 |  8.90000 | 1.300000 | H |\n|  24.90 |  34.80 | 368.0000 | 6.700 | 19.20000 |  9.40000 | 0.900000 | P |\n|  21.75 |  32.95 | 352.0000 | 6.500 | 25.60000 |  9.50000 | 1.200000 | H |\n|  16.77 |  30.50 | 720.0000 | 5.200 | 22.40000 |  8.00000 | 1.400000 | P |\n|  19.80 |  30.00 | 304.0000 | 6.400 | 19.20000 |  9.60000 | 1.100000 | H |\n|  17.43 |  30.00 | 255.0000 | 6.500 | 16.00000 |  9.60000 | 0.900000 | H |\n|  20.00 |  30.00 | 384.0000 | 9.000 | 32.00000 | 11.00000 | 1.000000 | P |\n|  23.94 |  30.00 | 248.0000 | 5.500 | 12.00000 |  8.50000 | 0.600000 | P |\n|  26.61 |  29.50 | 192.0000 | 6.000 |  9.60000 |  8.90000 | 0.500000 | P |\n|  16.44 |  28.95 | 460.0000 | 6.300 | 32.00000 |  8.90000 | 1.700000 | H |\n|  16.09 |  28.00 | 208.0000 | 6.300 | 19.20000 |  9.20000 | 0.800000 | H |\n|  16.08 |  28.00 | 480.0000 | 6.200 | 25.60000 |  9.10000 | 1.700000 | H |\n|  11.20 |  27.99 | 464.0000 | 6.000 |  1.20000 |  9.10000 | 1.700000 | H |\n| ⋮ | ⋮ | ⋮ | ⋮ | ⋮ | ⋮ | ⋮ | ⋮ |\n| 7.99 | 7.99 | 352 | 4.2 |  6.9 | 6.9 | 1.0 | P |\n| 7.99 | 7.99 | 224 | 5.4 |  4.8 | 8.2 | 0.5 | P |\n| 7.95 | 7.95 | 336 | 6.3 | 16.0 | 8.7 | 1.1 | H |\n| 7.95 | 7.95 | 283 | 4.5 |  4.2 | 6.3 | 0.6 | H |\n| 7.95 | 7.95 | 272 | 5.2 |  7.2 | 8.2 | 0.7 | H |\n| 7.95 | 7.95 | 688 | 4.1 | 11.2 | 6.6 | 1.7 | H |\n| 7.77 | 7.77 | 140 | 5.1 | 16.0 | 7.8 | 1.0 | P |\n| 7.75 | 7.75 | 168 | 5.9 |  9.6 | 8.9 | 0.5 | P |\n| 5.87 | 7.50 | 160 | 4.1 |  4.0 | 6.7 | 0.6 | P |\n| 6.99 | 6.99 |  32 | 9.3 |  1.6 | 8.5 | 0.1 | P |\n| 6.99 | 6.99 | 352 | 4.2 |  5.6 | 6.7 | 1.0 | P |\n| 6.99 | 6.99 | 208 | 4.1 |  4.0 | 6.9 | 0.7 | P |\n| 6.99 | 6.99 | 560 | 4.1 |  9.6 | 6.7 | 0.9 | P |\n| 6.99 | 6.99 | 320 | 5.2 |  8.0 | 7.5 | 0.9 | P |\n| 6.99 | 6.99 | 160 | 7.2 |  8.0 | 9.0 | 0.4 | P |\n| 6.99 | 6.99 | 192 | 4.2 |  4.0 | 6.7 | 0.6 | P |\n| 6.99 | 6.99 | 176 | 5.2 |  3.2 | 7.6 | 0.4 | P |\n| 6.95 | 6.95 | 272 | 5.4 |  9.6 | 8.3 | 0.8 | P |\n| 6.95 | 6.95 |  92 | 5.1 | 16.0 | 7.8 | 1.0 | P |\n| 6.95 | 6.95 | 224 | 5.3 |  8.0 | 7.6 | 0.6 | P |\n| 6.99 | 6.69 | 288 | 5.2 |  4.8 | 7.6 | 0.8 | P |\n| 5.99 | 5.99 | 128 | 4.1 |  2.4 | 6.8 | 0.4 | P |\n| 5.99 | 5.99 | 160 | 5.2 |  4.8 | 6.6 | 0.4 | P |\n| 5.99 | 5.99 | 336 | 4.2 |  6.4 | 6.6 | 1.0 | P |\n| 3.99 | 5.95 | 192 | 5.2 |  8.8 | 7.4 | 0.5 | P |\n| 4.99 | 4.99 |  24 | 4.3 |  4.0 | 5.8 | 0.5 | H |\n| 4.99 | 4.99 |  24 | 4.3 |  8.0 | 5.7 | 0.4 | H |\n| 3.95 | 3.95 | 288 | 4.1 |  5.6 | 6.7 | 1.0 | P |\n| 0.77 | 2.00 | 128 | 5.2 |  4.2 | 8.2 | 0.3 | P |\n| 1.50 | 1.50 |  96 | 5.2 |  4.0 | 8.3 | 0.3 | P |\n\n",
            "text/latex": "A data.frame: 325 × 8\n\\begin{tabular}{llllllll}\n aprice & lprice & pages & width & weight & height & thick & cover\\\\\n <dbl> & <dbl> & <dbl> & <dbl> & <dbl> & <dbl> & <dbl> & <chr>\\\\\n\\hline\n\t 139.95 & 139.95 & 160.0000 & 8.200 & 22.40000 & 10.60000 & 0.500000 & P\\\\\n\t  83.04 & 114.95 & 544.0000 & 7.300 & 28.80000 &  9.10000 & 0.800000 & P\\\\\n\t  98.95 &  98.95 & 778.0000 & 9.500 & 12.48797 & 11.30000 & 1.500000 & H\\\\\n\t  97.50 &  97.50 & 480.0000 & 8.900 & 14.40000 & 10.70000 & 0.900000 & P\\\\\n\t  54.61 &  86.95 & 512.0000 & 7.400 & 23.20000 &  9.10000 & 0.800000 & P\\\\\n\t  39.45 &  75.00 & 700.0000 & 6.500 & 12.48797 &  9.50000 & 0.907716 & H\\\\\n\t  55.75 &  70.80 & 560.0000 & 5.800 & 19.20000 &  8.90000 & 0.900000 & P\\\\\n\t  39.92 &  53.95 & 192.0000 & 6.100 & 11.20000 &  9.10000 & 0.500000 & P\\\\\n\t  44.32 &  48.20 & 384.0000 & 6.000 & 14.40000 &  8.90000 & 0.600000 & P\\\\\n\t  39.72 &  48.20 & 400.0000 & 5.900 & 16.00000 &  8.90000 & 0.600000 & P\\\\\n\t  37.95 &  39.95 & 384.0000 & 6.600 & 22.40000 &  9.20000 & 0.800000 & P\\\\\n\t  23.79 &  39.95 & 256.0000 & 5.585 & 12.48797 &  8.16324 & 1.000000 & H\\\\\n\t  25.00 &  37.50 & 384.0000 & 7.300 & 12.48797 &  9.10000 & 1.400000 & H\\\\\n\t  35.95 &  35.95 & 176.0000 & 6.100 &  9.90000 &  9.10000 & 0.500000 & P\\\\\n\t  25.84 &  35.75 & 436.0000 & 7.400 & 25.60000 &  9.50000 & 1.000000 & P\\\\\n\t  21.68 &  35.75 & 288.0000 & 5.400 & 12.00000 &  8.40000 & 0.500000 & P\\\\\n\t  18.81 &  35.00 & 335.8576 & 6.500 & 12.48797 &  9.60000 & 2.100000 & H\\\\\n\t  23.10 &  35.00 & 336.0000 & 6.100 & 17.60000 &  8.90000 & 1.300000 & H\\\\\n\t  24.90 &  34.80 & 368.0000 & 6.700 & 19.20000 &  9.40000 & 0.900000 & P\\\\\n\t  21.75 &  32.95 & 352.0000 & 6.500 & 25.60000 &  9.50000 & 1.200000 & H\\\\\n\t  16.77 &  30.50 & 720.0000 & 5.200 & 22.40000 &  8.00000 & 1.400000 & P\\\\\n\t  19.80 &  30.00 & 304.0000 & 6.400 & 19.20000 &  9.60000 & 1.100000 & H\\\\\n\t  17.43 &  30.00 & 255.0000 & 6.500 & 16.00000 &  9.60000 & 0.900000 & H\\\\\n\t  20.00 &  30.00 & 384.0000 & 9.000 & 32.00000 & 11.00000 & 1.000000 & P\\\\\n\t  23.94 &  30.00 & 248.0000 & 5.500 & 12.00000 &  8.50000 & 0.600000 & P\\\\\n\t  26.61 &  29.50 & 192.0000 & 6.000 &  9.60000 &  8.90000 & 0.500000 & P\\\\\n\t  16.44 &  28.95 & 460.0000 & 6.300 & 32.00000 &  8.90000 & 1.700000 & H\\\\\n\t  16.09 &  28.00 & 208.0000 & 6.300 & 19.20000 &  9.20000 & 0.800000 & H\\\\\n\t  16.08 &  28.00 & 480.0000 & 6.200 & 25.60000 &  9.10000 & 1.700000 & H\\\\\n\t  11.20 &  27.99 & 464.0000 & 6.000 &  1.20000 &  9.10000 & 1.700000 & H\\\\\n\t ⋮ & ⋮ & ⋮ & ⋮ & ⋮ & ⋮ & ⋮ & ⋮\\\\\n\t 7.99 & 7.99 & 352 & 4.2 &  6.9 & 6.9 & 1.0 & P\\\\\n\t 7.99 & 7.99 & 224 & 5.4 &  4.8 & 8.2 & 0.5 & P\\\\\n\t 7.95 & 7.95 & 336 & 6.3 & 16.0 & 8.7 & 1.1 & H\\\\\n\t 7.95 & 7.95 & 283 & 4.5 &  4.2 & 6.3 & 0.6 & H\\\\\n\t 7.95 & 7.95 & 272 & 5.2 &  7.2 & 8.2 & 0.7 & H\\\\\n\t 7.95 & 7.95 & 688 & 4.1 & 11.2 & 6.6 & 1.7 & H\\\\\n\t 7.77 & 7.77 & 140 & 5.1 & 16.0 & 7.8 & 1.0 & P\\\\\n\t 7.75 & 7.75 & 168 & 5.9 &  9.6 & 8.9 & 0.5 & P\\\\\n\t 5.87 & 7.50 & 160 & 4.1 &  4.0 & 6.7 & 0.6 & P\\\\\n\t 6.99 & 6.99 &  32 & 9.3 &  1.6 & 8.5 & 0.1 & P\\\\\n\t 6.99 & 6.99 & 352 & 4.2 &  5.6 & 6.7 & 1.0 & P\\\\\n\t 6.99 & 6.99 & 208 & 4.1 &  4.0 & 6.9 & 0.7 & P\\\\\n\t 6.99 & 6.99 & 560 & 4.1 &  9.6 & 6.7 & 0.9 & P\\\\\n\t 6.99 & 6.99 & 320 & 5.2 &  8.0 & 7.5 & 0.9 & P\\\\\n\t 6.99 & 6.99 & 160 & 7.2 &  8.0 & 9.0 & 0.4 & P\\\\\n\t 6.99 & 6.99 & 192 & 4.2 &  4.0 & 6.7 & 0.6 & P\\\\\n\t 6.99 & 6.99 & 176 & 5.2 &  3.2 & 7.6 & 0.4 & P\\\\\n\t 6.95 & 6.95 & 272 & 5.4 &  9.6 & 8.3 & 0.8 & P\\\\\n\t 6.95 & 6.95 &  92 & 5.1 & 16.0 & 7.8 & 1.0 & P\\\\\n\t 6.95 & 6.95 & 224 & 5.3 &  8.0 & 7.6 & 0.6 & P\\\\\n\t 6.99 & 6.69 & 288 & 5.2 &  4.8 & 7.6 & 0.8 & P\\\\\n\t 5.99 & 5.99 & 128 & 4.1 &  2.4 & 6.8 & 0.4 & P\\\\\n\t 5.99 & 5.99 & 160 & 5.2 &  4.8 & 6.6 & 0.4 & P\\\\\n\t 5.99 & 5.99 & 336 & 4.2 &  6.4 & 6.6 & 1.0 & P\\\\\n\t 3.99 & 5.95 & 192 & 5.2 &  8.8 & 7.4 & 0.5 & P\\\\\n\t 4.99 & 4.99 &  24 & 4.3 &  4.0 & 5.8 & 0.5 & H\\\\\n\t 4.99 & 4.99 &  24 & 4.3 &  8.0 & 5.7 & 0.4 & H\\\\\n\t 3.95 & 3.95 & 288 & 4.1 &  5.6 & 6.7 & 1.0 & P\\\\\n\t 0.77 & 2.00 & 128 & 5.2 &  4.2 & 8.2 & 0.3 & P\\\\\n\t 1.50 & 1.50 &  96 & 5.2 &  4.0 & 8.3 & 0.3 & P\\\\\n\\end{tabular}\n",
            "text/plain": [
              "    aprice lprice pages    width weight   height   thick    cover\n",
              "1   139.95 139.95 160.0000 8.200 22.40000 10.60000 0.500000 P    \n",
              "2    83.04 114.95 544.0000 7.300 28.80000  9.10000 0.800000 P    \n",
              "3    98.95  98.95 778.0000 9.500 12.48797 11.30000 1.500000 H    \n",
              "4    97.50  97.50 480.0000 8.900 14.40000 10.70000 0.900000 P    \n",
              "5    54.61  86.95 512.0000 7.400 23.20000  9.10000 0.800000 P    \n",
              "6    39.45  75.00 700.0000 6.500 12.48797  9.50000 0.907716 H    \n",
              "7    55.75  70.80 560.0000 5.800 19.20000  8.90000 0.900000 P    \n",
              "8    39.92  53.95 192.0000 6.100 11.20000  9.10000 0.500000 P    \n",
              "9    44.32  48.20 384.0000 6.000 14.40000  8.90000 0.600000 P    \n",
              "10   39.72  48.20 400.0000 5.900 16.00000  8.90000 0.600000 P    \n",
              "11   37.95  39.95 384.0000 6.600 22.40000  9.20000 0.800000 P    \n",
              "12   23.79  39.95 256.0000 5.585 12.48797  8.16324 1.000000 H    \n",
              "13   25.00  37.50 384.0000 7.300 12.48797  9.10000 1.400000 H    \n",
              "14   35.95  35.95 176.0000 6.100  9.90000  9.10000 0.500000 P    \n",
              "15   25.84  35.75 436.0000 7.400 25.60000  9.50000 1.000000 P    \n",
              "16   21.68  35.75 288.0000 5.400 12.00000  8.40000 0.500000 P    \n",
              "17   18.81  35.00 335.8576 6.500 12.48797  9.60000 2.100000 H    \n",
              "18   23.10  35.00 336.0000 6.100 17.60000  8.90000 1.300000 H    \n",
              "19   24.90  34.80 368.0000 6.700 19.20000  9.40000 0.900000 P    \n",
              "20   21.75  32.95 352.0000 6.500 25.60000  9.50000 1.200000 H    \n",
              "21   16.77  30.50 720.0000 5.200 22.40000  8.00000 1.400000 P    \n",
              "22   19.80  30.00 304.0000 6.400 19.20000  9.60000 1.100000 H    \n",
              "23   17.43  30.00 255.0000 6.500 16.00000  9.60000 0.900000 H    \n",
              "24   20.00  30.00 384.0000 9.000 32.00000 11.00000 1.000000 P    \n",
              "25   23.94  30.00 248.0000 5.500 12.00000  8.50000 0.600000 P    \n",
              "26   26.61  29.50 192.0000 6.000  9.60000  8.90000 0.500000 P    \n",
              "27   16.44  28.95 460.0000 6.300 32.00000  8.90000 1.700000 H    \n",
              "28   16.09  28.00 208.0000 6.300 19.20000  9.20000 0.800000 H    \n",
              "29   16.08  28.00 480.0000 6.200 25.60000  9.10000 1.700000 H    \n",
              "30   11.20  27.99 464.0000 6.000  1.20000  9.10000 1.700000 H    \n",
              "⋮   ⋮      ⋮      ⋮        ⋮     ⋮        ⋮        ⋮        ⋮    \n",
              "296 7.99   7.99   352      4.2    6.9     6.9      1.0      P    \n",
              "297 7.99   7.99   224      5.4    4.8     8.2      0.5      P    \n",
              "298 7.95   7.95   336      6.3   16.0     8.7      1.1      H    \n",
              "299 7.95   7.95   283      4.5    4.2     6.3      0.6      H    \n",
              "300 7.95   7.95   272      5.2    7.2     8.2      0.7      H    \n",
              "301 7.95   7.95   688      4.1   11.2     6.6      1.7      H    \n",
              "302 7.77   7.77   140      5.1   16.0     7.8      1.0      P    \n",
              "303 7.75   7.75   168      5.9    9.6     8.9      0.5      P    \n",
              "304 5.87   7.50   160      4.1    4.0     6.7      0.6      P    \n",
              "305 6.99   6.99    32      9.3    1.6     8.5      0.1      P    \n",
              "306 6.99   6.99   352      4.2    5.6     6.7      1.0      P    \n",
              "307 6.99   6.99   208      4.1    4.0     6.9      0.7      P    \n",
              "308 6.99   6.99   560      4.1    9.6     6.7      0.9      P    \n",
              "309 6.99   6.99   320      5.2    8.0     7.5      0.9      P    \n",
              "310 6.99   6.99   160      7.2    8.0     9.0      0.4      P    \n",
              "311 6.99   6.99   192      4.2    4.0     6.7      0.6      P    \n",
              "312 6.99   6.99   176      5.2    3.2     7.6      0.4      P    \n",
              "313 6.95   6.95   272      5.4    9.6     8.3      0.8      P    \n",
              "314 6.95   6.95    92      5.1   16.0     7.8      1.0      P    \n",
              "315 6.95   6.95   224      5.3    8.0     7.6      0.6      P    \n",
              "316 6.99   6.69   288      5.2    4.8     7.6      0.8      P    \n",
              "317 5.99   5.99   128      4.1    2.4     6.8      0.4      P    \n",
              "318 5.99   5.99   160      5.2    4.8     6.6      0.4      P    \n",
              "319 5.99   5.99   336      4.2    6.4     6.6      1.0      P    \n",
              "320 3.99   5.95   192      5.2    8.8     7.4      0.5      P    \n",
              "321 4.99   4.99    24      4.3    4.0     5.8      0.5      H    \n",
              "322 4.99   4.99    24      4.3    8.0     5.7      0.4      H    \n",
              "323 3.95   3.95   288      4.1    5.6     6.7      1.0      P    \n",
              "324 0.77   2.00   128      5.2    4.2     8.2      0.3      P    \n",
              "325 1.50   1.50    96      5.2    4.0     8.3      0.3      P    "
            ]
          },
          "metadata": {}
        }
      ],
      "source": [
        "### (14) Your code here.\n",
        "df %>% arrange(desc(lprice))\n",
        "###"
      ]
    },
    {
      "cell_type": "markdown",
      "id": "bd454bad-a3e0-4513-ad1f-8fd8865d05ef",
      "metadata": {
        "id": "bd454bad-a3e0-4513-ad1f-8fd8865d05ef"
      },
      "source": [
        "**Note that you could provide more descriptive labels for the levels of this factor (note that `H` = \"Hardcover\" and `P` = \"Paperback\"). The easiest way do do this is with the `levels()` function: `levels(x) = value`.**"
      ]
    },
    {
      "cell_type": "code",
      "execution_count": null,
      "id": "32b82a7f-632d-4e7d-846c-274ac2e2202e",
      "metadata": {
        "id": "32b82a7f-632d-4e7d-846c-274ac2e2202e"
      },
      "outputs": [],
      "source": [
        "levels(df$cover) = c(\"Hardcover\",\"Paperback\")\n",
        "summary(df)"
      ]
    },
    {
      "cell_type": "markdown",
      "id": "fbfc217a-c727-4a9a-bf91-f19086e51538",
      "metadata": {
        "id": "fbfc217a-c727-4a9a-bf91-f19086e51538"
      },
      "source": [
        "**Use `ggplot` to create a histogram of the `pages` variable. Change the number of bins to 15. For credit, store the histogram in the variable `p_hist`. Comment on it's shape.**"
      ]
    },
    {
      "cell_type": "code",
      "execution_count": 36,
      "id": "1a371f63-4df5-4417-b893-cda3c3a2c123",
      "metadata": {
        "id": "1a371f63-4df5-4417-b893-cda3c3a2c123",
        "colab": {
          "base_uri": "https://localhost:8080/",
          "height": 197
        },
        "outputId": "b1b18940-a54d-4fd0-b2a6-c38b08fb9257"
      },
      "outputs": [
        {
          "output_type": "display_data",
          "data": {
            "text/plain": [
              "plot without title"
            ],
            "image/png": "[encoded data removed]"
          },
          "metadata": {
            "image/png": {
              "width": 240,
              "height": 180
            }
          }
        }
      ],
      "source": [
        "### (15) Your code here.\n",
        "p_hist = ggplot(df) +\n",
        "    geom_histogram(aes(x = pages), bins =12, alpha = 0.8, color = \"black\") +\n",
        "    xlab(\"Amazon Price\") +\n",
        "    theme_bw()\n",
        "p_hist\n",
        "###"
      ]
    },
    {
      "cell_type": "markdown",
      "id": "a681107f-4e84-4f01-b137-b6df8384a1ae",
      "metadata": {
        "id": "a681107f-4e84-4f01-b137-b6df8384a1ae"
      },
      "source": [
        "The histogram is somewhat bellshaped, but there is certainly skew in the data, with a long right tail."
      ]
    },
    {
      "cell_type": "markdown",
      "id": "e4d8369f-b233-4645-8d50-3a60dda65022",
      "metadata": {
        "id": "e4d8369f-b233-4645-8d50-3a60dda65022"
      },
      "source": [
        "**Use `ggplot` to create a scatterplot of `aprice` ($y$) against `lprice` ($x$). What do you notice about this plot?**"
      ]
    },
    {
      "cell_type": "code",
      "execution_count": 37,
      "id": "e31817f7-cb90-4b8c-be64-88ef0fa3210e",
      "metadata": {
        "id": "e31817f7-cb90-4b8c-be64-88ef0fa3210e",
        "colab": {
          "base_uri": "https://localhost:8080/",
          "height": 197
        },
        "outputId": "68fee8bb-96b9-442a-e1a5-64b5e043213a"
      },
      "outputs": [
        {
          "output_type": "display_data",
          "data": {
            "text/plain": [
              "plot without title"
            ],
            "image/png": "[encoded data removed]"
          },
          "metadata": {
            "image/png": {
              "width": 240,
              "height": 180
            }
          }
        }
      ],
      "source": [
        "### (16) Your code here.\n",
        "ggplot(df) +\n",
        "    geom_point(aes(x = lprice, y = aprice), alpha = 0.5)+\n",
        "    theme_bw()\n",
        "###"
      ]
    },
    {
      "cell_type": "markdown",
      "id": "1c589b1c-6233-499b-abd4-da101190400c",
      "metadata": {
        "id": "1c589b1c-6233-499b-abd4-da101190400c"
      },
      "source": [
        "The relationship between these variables looks linear, but there is at least one outlier at roughly $(20,120)$. Could that be the value that we imputed?!"
      ]
    },
    {
      "cell_type": "markdown",
      "id": "2d306167-d9e9-4e8e-83a3-7fff7f6428d7",
      "metadata": {
        "id": "2d306167-d9e9-4e8e-83a3-7fff7f6428d7"
      },
      "source": [
        "**Use `ggplot` to produce a boxplot of `pages` conditioned on `cover`. Interpret this plot.**"
      ]
    },
    {
      "cell_type": "code",
      "execution_count": 38,
      "id": "bf15ff92-a0e4-4bd8-8ba2-a7475dc612dc",
      "metadata": {
        "id": "bf15ff92-a0e4-4bd8-8ba2-a7475dc612dc",
        "colab": {
          "base_uri": "https://localhost:8080/",
          "height": 197
        },
        "outputId": "7c1f0a68-0489-4809-8078-b7547f512aa5"
      },
      "outputs": [
        {
          "output_type": "display_data",
          "data": {
            "text/plain": [
              "plot without title"
            ],
            "image/png": "[encoded data removed]"
          },
          "metadata": {
            "image/png": {
              "width": 240,
              "height": 180
            }
          }
        }
      ],
      "source": [
        "### (17) Your code here.\n",
        "ggplot(df) +\n",
        "    geom_boxplot(aes(x = cover, y = pages), alpha = 0.5, fill = \"#CFB87C\") +\n",
        "    theme_bw()\n",
        "###"
      ]
    },
    {
      "cell_type": "markdown",
      "id": "dff5c245-0856-4174-9aaf-dcee64bdb7b2",
      "metadata": {
        "id": "dff5c245-0856-4174-9aaf-dcee64bdb7b2"
      },
      "source": [
        "The average number of pages appears to be a bit higher in hardcover books than in paperback books. These distributions are skewed a bit, with a long tail for high values of `pages`. We note that there are two potential outliers in the `Hardcover` group, and four in the `Paperback` group."
      ]
    }
  ],
  "metadata": {
    "kernelspec": {
      "display_name": "R",
      "name": "ir"
    },
    "language_info": {
      "codemirror_mode": "r",
      "file_extension": ".r",
      "mimetype": "text/x-r-source",
      "name": "R",
      "pygments_lexer": "r",
      "version": "3.6.1"
    },
    "colab": {
      "provenance": []
    }
  },
  "nbformat": 4,
  "nbformat_minor": 5
}
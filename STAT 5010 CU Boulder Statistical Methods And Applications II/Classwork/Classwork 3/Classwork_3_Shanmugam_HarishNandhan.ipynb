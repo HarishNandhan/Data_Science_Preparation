{
  "cells": [
    {
      "cell_type": "markdown",
      "id": "55b1e67f-f7c1-467a-b632-0632a3c97b2c",
      "metadata": {
        "id": "55b1e67f-f7c1-467a-b632-0632a3c97b2c"
      },
      "source": [
        "# Classwork 3 - Regression modeling in R - a second pass\n",
        "\n",
        "The following dataset containts measurements related to the impact of three advertising medias on sales of a product, $P$. The variables are:\n",
        "\n",
        "- `youtube`: the advertising budget allocated to YouTube. Measured in thousands of dollars;\n",
        "\n",
        "- `facebook`: the advertising budget allocated to Facebook. Measured in thousands of dollars; and\n",
        "\n",
        "- `newspaper`: the advertising budget allocated to a local newspaper. Measured in thousands of dollars.\n",
        "\n",
        "- `sales`: the value in the $i^{th}$ row of the sales column is a measurement of the sales (in thousands of units) for product $P$ for company $i$.\n",
        "\n",
        "The advertising data treat \"a company selling product $P$\" as the statistical unit, and \"all companies selling product $P$\" as the population. We assume that the $n = 200$ companies in the dataset were chosen at random from the population (a strong assumption!)."
      ]
    },
    {
      "cell_type": "code",
      "execution_count": null,
      "id": "39f210cf-f796-45cf-8143-15b8a4d68dad",
      "metadata": {
        "colab": {
          "base_uri": "https://localhost:8080/",
          "height": 303
        },
        "id": "39f210cf-f796-45cf-8143-15b8a4d68dad",
        "outputId": "46406cc2-5b38-49fe-e89f-0efa956a6714"
      },
      "outputs": [
        {
          "output_type": "display_data",
          "data": {
            "text/html": [
              "4"
            ],
            "text/markdown": "4",
            "text/latex": "4",
            "text/plain": [
              "[1] 4"
            ]
          },
          "metadata": {}
        },
        {
          "output_type": "display_data",
          "data": {
            "text/html": [
              "<table class=\"dataframe\">\n",
              "<caption>A data.frame: 6 × 4</caption>\n",
              "<thead>\n",
              "\t<tr><th></th><th scope=col>youtube</th><th scope=col>facebook</th><th scope=col>newspaper</th><th scope=col>sales</th></tr>\n",
              "\t<tr><th></th><th scope=col>&lt;dbl&gt;</th><th scope=col>&lt;dbl&gt;</th><th scope=col>&lt;dbl&gt;</th><th scope=col>&lt;dbl&gt;</th></tr>\n",
              "</thead>\n",
              "<tbody>\n",
              "\t<tr><th scope=row>1</th><td>276.12</td><td>45.36</td><td>83.04</td><td>26.52</td></tr>\n",
              "\t<tr><th scope=row>2</th><td> 53.40</td><td>47.16</td><td>54.12</td><td>12.48</td></tr>\n",
              "\t<tr><th scope=row>3</th><td> 20.64</td><td>55.08</td><td>83.16</td><td>11.16</td></tr>\n",
              "\t<tr><th scope=row>4</th><td>181.80</td><td>49.56</td><td>70.20</td><td>22.20</td></tr>\n",
              "\t<tr><th scope=row>5</th><td>216.96</td><td>12.96</td><td>70.08</td><td>15.48</td></tr>\n",
              "\t<tr><th scope=row>6</th><td> 10.44</td><td>58.68</td><td>90.00</td><td> 8.64</td></tr>\n",
              "</tbody>\n",
              "</table>\n"
            ],
            "text/markdown": "\nA data.frame: 6 × 4\n\n| <!--/--> | youtube &lt;dbl&gt; | facebook &lt;dbl&gt; | newspaper &lt;dbl&gt; | sales &lt;dbl&gt; |\n|---|---|---|---|---|\n| 1 | 276.12 | 45.36 | 83.04 | 26.52 |\n| 2 |  53.40 | 47.16 | 54.12 | 12.48 |\n| 3 |  20.64 | 55.08 | 83.16 | 11.16 |\n| 4 | 181.80 | 49.56 | 70.20 | 22.20 |\n| 5 | 216.96 | 12.96 | 70.08 | 15.48 |\n| 6 |  10.44 | 58.68 | 90.00 |  8.64 |\n\n",
            "text/latex": "A data.frame: 6 × 4\n\\begin{tabular}{r|llll}\n  & youtube & facebook & newspaper & sales\\\\\n  & <dbl> & <dbl> & <dbl> & <dbl>\\\\\n\\hline\n\t1 & 276.12 & 45.36 & 83.04 & 26.52\\\\\n\t2 &  53.40 & 47.16 & 54.12 & 12.48\\\\\n\t3 &  20.64 & 55.08 & 83.16 & 11.16\\\\\n\t4 & 181.80 & 49.56 & 70.20 & 22.20\\\\\n\t5 & 216.96 & 12.96 & 70.08 & 15.48\\\\\n\t6 &  10.44 & 58.68 & 90.00 &  8.64\\\\\n\\end{tabular}\n",
            "text/plain": [
              "  youtube facebook newspaper sales\n",
              "1 276.12  45.36    83.04     26.52\n",
              "2  53.40  47.16    54.12     12.48\n",
              "3  20.64  55.08    83.16     11.16\n",
              "4 181.80  49.56    70.20     22.20\n",
              "5 216.96  12.96    70.08     15.48\n",
              "6  10.44  58.68    90.00      8.64"
            ]
          },
          "metadata": {}
        }
      ],
      "source": [
        "library(ggplot2)\n",
        "\n",
        "marketing = read.csv('marketing_data.csv')\n",
        "# length(marketing)\n",
        "head(marketing)\n",
        "n = dim(marketing)[1]; p = dim(marketing)[2] - 1"
      ]
    },
    {
      "cell_type": "markdown",
      "id": "69183ad4-43bd-4aa6-8ff7-a75fb108cd73",
      "metadata": {
        "id": "69183ad4-43bd-4aa6-8ff7-a75fb108cd73"
      },
      "source": [
        "Note that, before an analysis, one should explore the data. We did this in \"Classwork 2: Regression modeling in R\"."
      ]
    },
    {
      "cell_type": "markdown",
      "id": "4fa140e4-d5b3-4b1d-bfa8-7d67d118132a",
      "metadata": {
        "id": "4fa140e4-d5b3-4b1d-bfa8-7d67d118132a"
      },
      "source": [
        "### Sums of squares and $R^2$ for simple linear regression\n",
        "\n",
        "First, let's fit the same model that we fit in the previous notebook (but to the entire dataset, rather than just a training set). In addition to running a summary of the model (using `summary()`), we'll also run an \"analysis of variance\", using the `anova()` function. The analysis of variance decomposes the total variability ($TSS$) into the explained variability ($ESS$), and the residual/unexplained variability ($RSS$). It also produces an \"F-test\" that we'll learn how to interpret in the next module."
      ]
    },
    {
      "cell_type": "code",
      "execution_count": null,
      "id": "4a7ce86a-61a6-4b22-8795-2d6897b199d5",
      "metadata": {
        "colab": {
          "base_uri": "https://localhost:8080/",
          "height": 489
        },
        "id": "4a7ce86a-61a6-4b22-8795-2d6897b199d5",
        "outputId": "c92eae8b-9a1f-4882-d1be-7144819250f0"
      },
      "outputs": [
        {
          "output_type": "display_data",
          "data": {
            "text/plain": [
              "\n",
              "Call:\n",
              "lm(formula = sales ~ facebook, data = marketing)\n",
              "\n",
              "Residuals:\n",
              "     Min       1Q   Median       3Q      Max \n",
              "-18.8766  -2.5589   0.9248   3.3330   9.8173 \n",
              "\n",
              "Coefficients:\n",
              "            Estimate Std. Error t value Pr(>|t|)    \n",
              "(Intercept) 11.17397    0.67548  16.542   <2e-16 ***\n",
              "facebook     0.20250    0.02041   9.921   <2e-16 ***\n",
              "---\n",
              "Signif. codes:  0 ‘***’ 0.001 ‘**’ 0.01 ‘*’ 0.05 ‘.’ 0.1 ‘ ’ 1\n",
              "\n",
              "Residual standard error: 5.13 on 198 degrees of freedom\n",
              "Multiple R-squared:  0.332,\tAdjusted R-squared:  0.3287 \n",
              "F-statistic: 98.42 on 1 and 198 DF,  p-value: < 2.2e-16\n"
            ]
          },
          "metadata": {}
        },
        {
          "output_type": "display_data",
          "data": {
            "text/html": [
              "<table class=\"dataframe\">\n",
              "<caption>A anova: 2 × 5</caption>\n",
              "<thead>\n",
              "\t<tr><th></th><th scope=col>Df</th><th scope=col>Sum Sq</th><th scope=col>Mean Sq</th><th scope=col>F value</th><th scope=col>Pr(&gt;F)</th></tr>\n",
              "\t<tr><th></th><th scope=col>&lt;int&gt;</th><th scope=col>&lt;dbl&gt;</th><th scope=col>&lt;dbl&gt;</th><th scope=col>&lt;dbl&gt;</th><th scope=col>&lt;dbl&gt;</th></tr>\n",
              "</thead>\n",
              "<tbody>\n",
              "\t<tr><th scope=row>facebook</th><td>  1</td><td>2590.084</td><td>2590.08365</td><td>98.42159</td><td>4.354966e-19</td></tr>\n",
              "\t<tr><th scope=row>Residuals</th><td>198</td><td>5210.611</td><td>  26.31621</td><td>      NA</td><td>          NA</td></tr>\n",
              "</tbody>\n",
              "</table>\n"
            ],
            "text/markdown": "\nA anova: 2 × 5\n\n| <!--/--> | Df &lt;int&gt; | Sum Sq &lt;dbl&gt; | Mean Sq &lt;dbl&gt; | F value &lt;dbl&gt; | Pr(&gt;F) &lt;dbl&gt; |\n|---|---|---|---|---|---|\n| facebook |   1 | 2590.084 | 2590.08365 | 98.42159 | 4.354966e-19 |\n| Residuals | 198 | 5210.611 |   26.31621 |       NA |           NA |\n\n",
            "text/latex": "A anova: 2 × 5\n\\begin{tabular}{r|lllll}\n  & Df & Sum Sq & Mean Sq & F value & Pr(>F)\\\\\n  & <int> & <dbl> & <dbl> & <dbl> & <dbl>\\\\\n\\hline\n\tfacebook &   1 & 2590.084 & 2590.08365 & 98.42159 & 4.354966e-19\\\\\n\tResiduals & 198 & 5210.611 &   26.31621 &       NA &           NA\\\\\n\\end{tabular}\n",
            "text/plain": [
              "          Df  Sum Sq   Mean Sq    F value  Pr(>F)      \n",
              "facebook    1 2590.084 2590.08365 98.42159 4.354966e-19\n",
              "Residuals 198 5210.611   26.31621       NA           NA"
            ]
          },
          "metadata": {}
        }
      ],
      "source": [
        "lm_marketing = lm(sales ~ facebook, data = marketing)\n",
        "summary(lm_marketing)\n",
        "anova(lm_marketing)"
      ]
    },
    {
      "cell_type": "markdown",
      "id": "5392167b-3717-4b3b-b499-71f71a4acd76",
      "metadata": {
        "id": "5392167b-3717-4b3b-b499-71f71a4acd76"
      },
      "source": [
        "From the output, we see that:\n",
        "\n",
        "- $(SSR) ESS \\approx 2,590.1$\n",
        "- $(SSE) RSS \\approx 5,210.6$\n",
        "- $(SST) TSS \\approx 2,590.1 + 5,210.6 = 7,800.7$"
      ]
    },
    {
      "cell_type": "markdown",
      "id": "28d25747-1bd3-4629-afc1-e897efed2e76",
      "metadata": {
        "id": "28d25747-1bd3-4629-afc1-e897efed2e76"
      },
      "source": [
        "#### Computing regression quantities \"by hand\"\n",
        "\n",
        "Let's connect the `lm()` function output to the computations that we studied in a previous lecture."
      ]
    },
    {
      "cell_type": "code",
      "execution_count": null,
      "id": "d08dea0d-3a18-4f79-bd89-7a7f5253abe0",
      "metadata": {
        "colab": {
          "base_uri": "https://localhost:8080/",
          "height": 52
        },
        "id": "d08dea0d-3a18-4f79-bd89-7a7f5253abe0",
        "outputId": "3856827f-9c4d-419f-c89f-1c9308e7d6eb"
      },
      "outputs": [
        {
          "output_type": "display_data",
          "data": {
            "text/html": [
              "5.12993322588127"
            ],
            "text/markdown": "5.12993322588127",
            "text/latex": "5.12993322588127",
            "text/plain": [
              "[1] 5.129933"
            ]
          },
          "metadata": {}
        },
        {
          "output_type": "display_data",
          "data": {
            "text/html": [
              "198"
            ],
            "text/markdown": "198",
            "text/latex": "198",
            "text/plain": [
              "[1] 198"
            ]
          },
          "metadata": {}
        }
      ],
      "source": [
        "# 1) CODE HERE\n",
        "SSE_RSS =  sum(residuals(lm_marketing)^2)           # sum((y-y_hat)^2)\n",
        "SSR_ESS =  sum((fitted(lm_marketing) - mean(marketing$sales))^2)  # sum((yhat-y_bar)^2)\n",
        "# SST_TSS =  with(marketing, sum((sales-mean(sales))^2))\n",
        "SST_TSS = sum(((marketing$sales) -mean(marketing$sales))^2) # sum((y-y_bar)^2)\n",
        "# SSE_RSS\n",
        "# SSR_ESS\n",
        "# SST_TSS\n",
        "\n",
        "# R2 = 1 - SSE_RSS/SST_TSS\n",
        "# R2\n",
        "\n",
        "# sigma_hat^2 = SSE/n-2 n-2 = n-1-1 where p is 1 for SLR\n",
        "# sigma_hat^2 = SSE/n-p-1 where p is the number of predictors\n",
        "p = 1\n",
        "sigma_hat = sqrt(SSE_RSS/(n-p-1))\n",
        "sigma_hat\n",
        "n-p-1"
      ]
    },
    {
      "cell_type": "markdown",
      "id": "c3fc2cc6-f82f-471a-8a9c-9aa8b3f0a6e9",
      "metadata": {
        "id": "c3fc2cc6-f82f-471a-8a9c-9aa8b3f0a6e9"
      },
      "source": [
        "## Multiple linear regression\n",
        "\n",
        "Now, let's include the other predictors in our regression model."
      ]
    },
    {
      "cell_type": "code",
      "execution_count": null,
      "id": "2ff79c0a-732b-4fb6-95c6-b77aa01b7ee4",
      "metadata": {
        "colab": {
          "base_uri": "https://localhost:8080/",
          "height": 382
        },
        "id": "2ff79c0a-732b-4fb6-95c6-b77aa01b7ee4",
        "outputId": "63b94f14-29f2-4150-e837-cac7c19c89fa"
      },
      "outputs": [
        {
          "output_type": "display_data",
          "data": {
            "text/plain": [
              "\n",
              "Call:\n",
              "lm(formula = sales ~ ., data = marketing)\n",
              "\n",
              "Residuals:\n",
              "     Min       1Q   Median       3Q      Max \n",
              "-10.5932  -1.0690   0.2902   1.4272   3.3951 \n",
              "\n",
              "Coefficients:\n",
              "             Estimate Std. Error t value Pr(>|t|)    \n",
              "(Intercept)  3.526667   0.374290   9.422   <2e-16 ***\n",
              "youtube      0.045765   0.001395  32.809   <2e-16 ***\n",
              "facebook     0.188530   0.008611  21.893   <2e-16 ***\n",
              "newspaper   -0.001037   0.005871  -0.177     0.86    \n",
              "---\n",
              "Signif. codes:  0 ‘***’ 0.001 ‘**’ 0.01 ‘*’ 0.05 ‘.’ 0.1 ‘ ’ 1\n",
              "\n",
              "Residual standard error: 2.023 on 196 degrees of freedom\n",
              "Multiple R-squared:  0.8972,\tAdjusted R-squared:  0.8956 \n",
              "F-statistic: 570.3 on 3 and 196 DF,  p-value: < 2.2e-16\n"
            ]
          },
          "metadata": {}
        }
      ],
      "source": [
        "# 2) CODE HERE\n",
        "\n",
        "lm_marketing_MLR = lm(sales~., data = marketing)\n",
        "summary(lm_marketing_MLR)"
      ]
    },
    {
      "cell_type": "markdown",
      "id": "484c3140-a78e-435c-abb8-e6c82bcf04ae",
      "metadata": {
        "id": "484c3140-a78e-435c-abb8-e6c82bcf04ae"
      },
      "source": [
        "First, note that the intercept and `facebook` parameter estimates have changed. The reason for these changes is the fact that we've now introduced new variables that explain some variability in `sales`.\n",
        "\n",
        "- If the model is correct, a company with no Facebook, YouTube, or newspaper advertising budget can expect to sell $\\widehat\\beta_0 \\times 1,000 \\approx 3.53 \\times 1,000 = 3,530$ units of product $P$. Notice that this is down from $\\approx 11,174$ units in our previous simple linear regression model. Different models can have very different predictions and explanations, so it's important to attempt to find a good model! We'll focus more on the problem of model selection later in the course.\n",
        "\n",
        "- If the model is correct, then, for a $\\$1,000$ increase in the Facebook advertising budget, a company can expect to sell roughly $\\widehat\\beta_1 \\times 1000 = 0.19 \\times 1,000 = 190$ more unts, on average, *adjusting for YouTube and newspaper advertising budgets.* The adjustment is important: what we mean here is that the YouTube and newspaper advertising budgets can be held at a constant value, and the $190$ unit change is the specific change associated with the Facebook advertising budget. (Similar interpretations can be made for `youtube` and `newspaper`.)\n",
        "\n",
        "- Recall the interpretation of \"multiple R-squared\", $R^2$: assuming the linear model is correct, $R^2$ is the proportion of observed variability in `sales` that can be explained by the linear regression model.\n",
        "    - For the simple linear regression model, $R^2 \\approx 0.33$. Assuming that the model is correct (but it likely isn't!), only about $33\\%$ of the variability in sales of $P$ can be explained by the Facebook advertising budget.\n",
        "\n",
        "    - For the multiple linear regression model, $R^2$ increases sharply to $0.90$. We should be caseful in comparing $R^2$ across models with a different number of predictors; $R^2$ will always increase when adding a predictor. What we'd really like to know is whether that increase is important enough to attribute to a real relationship between the added precitors and the response.\n",
        "    \n",
        "    - \"Adjusted-$R^2$\", which adjusts for the number of predictors in each model, is meant to compare models of different sizes. The sharp increase in the adjusted-$R^2$ suggests that adding `youtube`  and `newspaper` did, in fact, explain significantly more of the variability. We'll study the adjusted- $R^2$ more later in the course."
      ]
    },
    {
      "cell_type": "markdown",
      "id": "8efe9874-78ec-4d26-aa6b-9b47cbb2e004",
      "metadata": {
        "id": "8efe9874-78ec-4d26-aa6b-9b47cbb2e004"
      },
      "source": [
        "### Sums of squares and $R^2$ for multiple linear regression\n",
        "\n",
        "Note that we can compute the sums of squares for multiple linear regression in the same was as for simple linear regression."
      ]
    },
    {
      "cell_type": "code",
      "execution_count": null,
      "id": "b5a186f2-9338-4e3b-a69d-3a9619b7ea7e",
      "metadata": {
        "colab": {
          "base_uri": "https://localhost:8080/",
          "height": 333
        },
        "id": "b5a186f2-9338-4e3b-a69d-3a9619b7ea7e",
        "outputId": "f9cc3d99-7889-42be-9a5f-3865b9afa9c6"
      },
      "outputs": [
        {
          "output_type": "stream",
          "name": "stdout",
          "text": [
            "SSE:  801.8284\n",
            "SSR:  6998.866\n",
            "SST:  7800.694\n",
            "R2:  0.8972106\n",
            "Sigma_hat:  2.022612\n",
            "Degrees of Freedom:  196"
          ]
        },
        {
          "output_type": "display_data",
          "data": {
            "text/html": [
              "<table class=\"dataframe\">\n",
              "<caption>A anova: 4 × 5</caption>\n",
              "<thead>\n",
              "\t<tr><th></th><th scope=col>Df</th><th scope=col>Sum Sq</th><th scope=col>Mean Sq</th><th scope=col>F value</th><th scope=col>Pr(&gt;F)</th></tr>\n",
              "\t<tr><th></th><th scope=col>&lt;int&gt;</th><th scope=col>&lt;dbl&gt;</th><th scope=col>&lt;dbl&gt;</th><th scope=col>&lt;dbl&gt;</th><th scope=col>&lt;dbl&gt;</th></tr>\n",
              "</thead>\n",
              "<tbody>\n",
              "\t<tr><th scope=row>youtube</th><td>  1</td><td>4773.0501603</td><td>4773.0501603</td><td>1.166731e+03</td><td>1.809337e-84</td></tr>\n",
              "\t<tr><th scope=row>facebook</th><td>  1</td><td>2225.6879084</td><td>2225.6879084</td><td>5.440501e+02</td><td>1.882722e-58</td></tr>\n",
              "\t<tr><th scope=row>newspaper</th><td>  1</td><td>   0.1277527</td><td>   0.1277527</td><td>3.122805e-02</td><td>8.599151e-01</td></tr>\n",
              "\t<tr><th scope=row>Residuals</th><td>196</td><td> 801.8283786</td><td>   4.0909611</td><td>          NA</td><td>          NA</td></tr>\n",
              "</tbody>\n",
              "</table>\n"
            ],
            "text/markdown": "\nA anova: 4 × 5\n\n| <!--/--> | Df &lt;int&gt; | Sum Sq &lt;dbl&gt; | Mean Sq &lt;dbl&gt; | F value &lt;dbl&gt; | Pr(&gt;F) &lt;dbl&gt; |\n|---|---|---|---|---|---|\n| youtube |   1 | 4773.0501603 | 4773.0501603 | 1.166731e+03 | 1.809337e-84 |\n| facebook |   1 | 2225.6879084 | 2225.6879084 | 5.440501e+02 | 1.882722e-58 |\n| newspaper |   1 |    0.1277527 |    0.1277527 | 3.122805e-02 | 8.599151e-01 |\n| Residuals | 196 |  801.8283786 |    4.0909611 |           NA |           NA |\n\n",
            "text/latex": "A anova: 4 × 5\n\\begin{tabular}{r|lllll}\n  & Df & Sum Sq & Mean Sq & F value & Pr(>F)\\\\\n  & <int> & <dbl> & <dbl> & <dbl> & <dbl>\\\\\n\\hline\n\tyoutube &   1 & 4773.0501603 & 4773.0501603 & 1.166731e+03 & 1.809337e-84\\\\\n\tfacebook &   1 & 2225.6879084 & 2225.6879084 & 5.440501e+02 & 1.882722e-58\\\\\n\tnewspaper &   1 &    0.1277527 &    0.1277527 & 3.122805e-02 & 8.599151e-01\\\\\n\tResiduals & 196 &  801.8283786 &    4.0909611 &           NA &           NA\\\\\n\\end{tabular}\n",
            "text/plain": [
              "          Df  Sum Sq       Mean Sq      F value      Pr(>F)      \n",
              "youtube     1 4773.0501603 4773.0501603 1.166731e+03 1.809337e-84\n",
              "facebook    1 2225.6879084 2225.6879084 5.440501e+02 1.882722e-58\n",
              "newspaper   1    0.1277527    0.1277527 3.122805e-02 8.599151e-01\n",
              "Residuals 196  801.8283786    4.0909611           NA           NA"
            ]
          },
          "metadata": {}
        }
      ],
      "source": [
        "# 3) CODE HERE\n",
        "SSE_RSS =  sum(residuals(lm_marketing_MLR)^2)           # sum((y-y_hat)^2)\n",
        "SSR_ESS =  sum((fitted(lm_marketing_MLR) - mean(marketing$sales))^2)  # sum((yhat-y_bar)^2)\n",
        "# SST_TSS =  with(marketing, sum((sales-mean(sales))^2))\n",
        "SST_TSS = sum(((marketing$sales) - mean(marketing$sales))^2) # sum((y-y_bar)^2)\n",
        "cat(\"SSE: \", SSE_RSS)\n",
        "cat(\"\\nSSR: \", SSR_ESS)\n",
        "cat(\"\\nSST: \", SST_TSS)\n",
        "R2 = 1 - SSE_RSS/SST_TSS\n",
        "cat(\"\\nR2: \", R2)\n",
        "\n",
        "\n",
        "\n",
        "# sigma_hat^2 = SSE/n-2 n-2 = n-1-1 where p is 1 for SLR\n",
        "# sigma_hat^2 = SSE/n-p-1 where p is the number of predictors (MLR)\n",
        "\n",
        "p = 3 # here there are three predictors(features) are involved [facebook, youtube, newspaper]\n",
        "sigma_hat = sqrt(SSE_RSS/(n-p-1))\n",
        "cat(\"\\nSigma_hat: \",sigma_hat)\n",
        "cat(\"\\nDegrees of Freedom: \",n-p-1)\n",
        "\n",
        "anova(lm_marketing_MLR)"
      ]
    },
    {
      "cell_type": "markdown",
      "id": "eb655ba4-8dd5-4204-b994-f68340790b28",
      "metadata": {
        "id": "eb655ba4-8dd5-4204-b994-f68340790b28"
      },
      "source": [
        "## Non-identifiability: a simulation\n",
        "\n",
        "A linear regression model will have non-identifiable parameters when the matrix $\\left(X^TX\\right)^{-1}$ does not exist, where $X$ is the design matrix. $\\left(X^TX\\right)^{-1}$ does not exist when the columns of $X$ are linearly dependent.\n",
        "\n",
        "Let's simulate such a situation.\n",
        "\n",
        "*An aside: simulations are an invaluable tool in statistics and data science. In a simulation, we construct a dataset ourselves, rather than collect it from the world. In doing so, we know how the data were generated. With the simulated data (sometimes called \"synthetic data\"), we can fit various models - models that are correct, and models that are incorrect - and study how those models perform on data with known relationships.*\n",
        "\n",
        "Let's start out by simulating data in the following way. Let $Y_i = 2 + 3x_{i,1} + \\varepsilon_i$,  where $\\varepsilon_i \\overset{iid}{\\sim} N(0, 0.5^2)$,  $i = 1,...,n$, and $n = 75$. We'll generate the predictors, $x_i$ randomly from the interval $(0,1)$. This model will be identifiable."
      ]
    },
    {
      "cell_type": "code",
      "execution_count": 1,
      "id": "c87e963b-fdd4-4a5b-bed0-467cfe61f30d",
      "metadata": {
        "colab": {
          "base_uri": "https://localhost:8080/",
          "height": 437
        },
        "id": "c87e963b-fdd4-4a5b-bed0-467cfe61f30d",
        "outputId": "4517c564-b1ee-438d-bc6b-6a0658cc2517"
      },
      "outputs": [
        {
          "output_type": "display_data",
          "data": {
            "text/plain": [
              "plot without title"
            ],
            "image/png": "[encoded data removed]"
          },
          "metadata": {
            "image/png": {
              "width": 420,
              "height": 420
            }
          }
        }
      ],
      "source": [
        "# 4) CODE HERE\n",
        "n = 75\n",
        "sigma = 0.5\n",
        "e = rnorm(75, 0, sigma)\n",
        "\n",
        "beta0 = 2\n",
        "beta1 = 3\n",
        "\n",
        "x1 = runif(n, 0, 1)\n",
        "y = beta0 + beta1*x1 + e\n",
        "plot(x1, y)"
      ]
    },
    {
      "cell_type": "markdown",
      "id": "a0de2d26-2c07-4f80-bb25-708d6b3530f0",
      "metadata": {
        "id": "a0de2d26-2c07-4f80-bb25-708d6b3530f0"
      },
      "source": [
        "Now that we've simulated the data, let's fit a simple linear regression model to the data. We know that the model will be correct, because we know how the data were generated...we generated it!"
      ]
    },
    {
      "cell_type": "code",
      "execution_count": 2,
      "id": "c0e68688-620b-4ee8-b492-0bd7f76bfe39",
      "metadata": {
        "colab": {
          "base_uri": "https://localhost:8080/",
          "height": 346
        },
        "id": "c0e68688-620b-4ee8-b492-0bd7f76bfe39",
        "outputId": "e87c5df2-c354-4843-9ce2-2997debbe867"
      },
      "outputs": [
        {
          "output_type": "display_data",
          "data": {
            "text/plain": [
              "\n",
              "Call:\n",
              "lm(formula = y ~ x1)\n",
              "\n",
              "Residuals:\n",
              "     Min       1Q   Median       3Q      Max \n",
              "-1.35540 -0.28493  0.01849  0.28994  1.03654 \n",
              "\n",
              "Coefficients:\n",
              "            Estimate Std. Error t value Pr(>|t|)    \n",
              "(Intercept)   1.9160     0.1161   16.50   <2e-16 ***\n",
              "x1            3.2175     0.1901   16.92   <2e-16 ***\n",
              "---\n",
              "Signif. codes:  0 ‘***’ 0.001 ‘**’ 0.01 ‘*’ 0.05 ‘.’ 0.1 ‘ ’ 1\n",
              "\n",
              "Residual standard error: 0.4413 on 73 degrees of freedom\n",
              "Multiple R-squared:  0.7968,\tAdjusted R-squared:  0.7941 \n",
              "F-statistic: 286.3 on 1 and 73 DF,  p-value: < 2.2e-16\n"
            ]
          },
          "metadata": {}
        }
      ],
      "source": [
        "# 5) CODE HERE\n",
        "slr_mod = lm(y~x1)\n",
        "summary(slr_mod)"
      ]
    },
    {
      "cell_type": "markdown",
      "id": "a5bd4792-832c-40aa-9b67-a5f7291281ce",
      "metadata": {
        "id": "a5bd4792-832c-40aa-9b67-a5f7291281ce"
      },
      "source": [
        "So far, there is nothing alarming in the summary output, because we've fit the correct linear model. Now, let's add a second predictor, $x_{i,2}$, such that $x_{i,2} = 2x_{i,1}$, and $Y_i = 2 + 3x_{i,1} + 2x_{i,2} + \\varepsilon_i$ (same assumptions on $\\varepsilon_i$). This model should be non-identifiable, since two columns in the design matrix will be a constant multiple of each other."
      ]
    },
    {
      "cell_type": "code",
      "execution_count": 3,
      "id": "eb887792-563b-4935-a2f2-77710762702f",
      "metadata": {
        "colab": {
          "base_uri": "https://localhost:8080/",
          "height": 364
        },
        "id": "eb887792-563b-4935-a2f2-77710762702f",
        "outputId": "ba2a28f4-81d4-466c-abdc-2d292c1b5b0c"
      },
      "outputs": [
        {
          "output_type": "display_data",
          "data": {
            "text/plain": [
              "\n",
              "Call:\n",
              "lm(formula = y_new ~ x1 + x2)\n",
              "\n",
              "Residuals:\n",
              "     Min       1Q   Median       3Q      Max \n",
              "-1.35540 -0.28493  0.01849  0.28994  1.03654 \n",
              "\n",
              "Coefficients: (1 not defined because of singularities)\n",
              "            Estimate Std. Error t value Pr(>|t|)    \n",
              "(Intercept)   1.9160     0.1161   16.50   <2e-16 ***\n",
              "x1            7.2175     0.1901   37.96   <2e-16 ***\n",
              "x2                NA         NA      NA       NA    \n",
              "---\n",
              "Signif. codes:  0 ‘***’ 0.001 ‘**’ 0.01 ‘*’ 0.05 ‘.’ 0.1 ‘ ’ 1\n",
              "\n",
              "Residual standard error: 0.4413 on 73 degrees of freedom\n",
              "Multiple R-squared:  0.9518,\tAdjusted R-squared:  0.9511 \n",
              "F-statistic:  1441 on 1 and 73 DF,  p-value: < 2.2e-16\n"
            ]
          },
          "metadata": {}
        }
      ],
      "source": [
        "# 6) CODE HERE\n",
        "x2 = 2*x1\n",
        "beta2 = 2\n",
        "\n",
        "y_new = beta0 + beta1*x1 + beta2 * x2 + e\n",
        "new_mod = lm(y_new~x1+x2)\n",
        "summary(new_mod)\n",
        "# because of singularity - it became NA"
      ]
    },
    {
      "cell_type": "markdown",
      "id": "70749c5d-6ad7-44ec-8a6a-fd7e46bdab9b",
      "metadata": {
        "id": "70749c5d-6ad7-44ec-8a6a-fd7e46bdab9b"
      },
      "source": [
        "Notice that the row of the cofficients table corresponding to `x2` is populated with `NA`. That is because the coefficient cannot be estimated due to non-identifiability.\n",
        "\n",
        "The situation of \"strict\" non-identifiability is rare and easy to diagnose: if one column is a linear combination of others, it will show up in the coefficients table as `NA`. However, \"near\" non-identifiability, called *collinearity* or *multicollinearity*, is less rare, and a bit trickier to diagnose. Let's simulate some collinear data. We'll set $x_3 = \\gamma x_1$, where $\\gamma \\overset{iid}{\\sim}N(0,0.05^2)$. Then we'll fit the model $Y_i = \\beta_0 + \\beta_1x_{i,1} + \\beta_2x_{i,3} + \\varepsilon_i$."
      ]
    },
    {
      "cell_type": "code",
      "execution_count": 5,
      "id": "2989bac4-af25-49ca-9dca-45d6e14b71f5",
      "metadata": {
        "id": "2989bac4-af25-49ca-9dca-45d6e14b71f5",
        "colab": {
          "base_uri": "https://localhost:8080/",
          "height": 364
        },
        "outputId": "98de9c73-2eae-4039-dce3-d4aea4833d70"
      },
      "outputs": [
        {
          "output_type": "display_data",
          "data": {
            "text/plain": [
              "\n",
              "Call:\n",
              "lm(formula = y_MC ~ x1 + x3)\n",
              "\n",
              "Residuals:\n",
              "     Min       1Q   Median       3Q      Max \n",
              "-1.34426 -0.27509  0.03889  0.28653  1.00293 \n",
              "\n",
              "Coefficients:\n",
              "            Estimate Std. Error t value Pr(>|t|)    \n",
              "(Intercept)   1.9131     0.1170  16.358   <2e-16 ***\n",
              "x1            3.2311     0.1938  16.675   <2e-16 ***\n",
              "x3            1.2446     1.7398   0.715    0.477    \n",
              "---\n",
              "Signif. codes:  0 ‘***’ 0.001 ‘**’ 0.01 ‘*’ 0.05 ‘.’ 0.1 ‘ ’ 1\n",
              "\n",
              "Residual standard error: 0.4438 on 72 degrees of freedom\n",
              "Multiple R-squared:  0.8011,\tAdjusted R-squared:  0.7956 \n",
              "F-statistic:   145 on 2 and 72 DF,  p-value: < 2.2e-16\n"
            ]
          },
          "metadata": {}
        }
      ],
      "source": [
        "# 7) CODE HERE\n",
        "x3 = x1*rnorm(n,0,0.05)\n",
        "y_MC = beta0 + beta1*x1 + beta2*x3 + e\n",
        "\n",
        "lm_MC = lm(y_MC ~ x1+x3)\n",
        "summary(lm_MC)"
      ]
    },
    {
      "cell_type": "markdown",
      "id": "853a398e-64c0-4afb-b1c9-6528672b3ea7",
      "metadata": {
        "id": "853a398e-64c0-4afb-b1c9-6528672b3ea7"
      },
      "source": [
        "Here, we notice that the coefficients table does not have any `NA` values. The reason for this is because, strictly speaking, the model is identifiable. However, there are problems with the fit. Notice that the estimate for $\\beta_2$ is negative, but that the true $\\beta_2 = 2$ is positive. This can easily happen with collinear data (for reasons that we will understand soon!), and is a sign that `x3` is a near constant multiple of `x1`.\n",
        "\n",
        "Note that, if we were working with real data - data for which we didn't know the data generating process - it wouldn't necessarily be clear that that the sign of the estimate of the parameter is different from the true parameter. But, you may have reasons to believe that the sign is off, e.g., if you have good theoretical reasons to believe that `x3` and `y` ought to be positively correlated but the sign of the estimate is negative. There are other methods to diagnose and deal with collinear data, and we'll look at some of them in a later lesson!"
      ]
    },
    {
      "cell_type": "code",
      "execution_count": null,
      "id": "a3851d60-359c-472d-a71f-4d0bba46c789",
      "metadata": {
        "id": "a3851d60-359c-472d-a71f-4d0bba46c789"
      },
      "outputs": [],
      "source": []
    }
  ],
  "metadata": {
    "kernelspec": {
      "display_name": "R",
      "language": "R",
      "name": "ir"
    },
    "language_info": {
      "codemirror_mode": "r",
      "file_extension": ".r",
      "mimetype": "text/x-r-source",
      "name": "R",
      "pygments_lexer": "r",
      "version": "4.2.2"
    },
    "colab": {
      "provenance": []
    }
  },
  "nbformat": 4,
  "nbformat_minor": 5
}
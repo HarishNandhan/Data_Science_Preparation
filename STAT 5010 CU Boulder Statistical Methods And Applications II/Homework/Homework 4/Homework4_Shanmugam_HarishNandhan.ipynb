{
  "cells": [
    {
      "cell_type": "markdown",
      "id": "1e4af1f1-5b4b-4d53-94e0-496f7b261b5a",
      "metadata": {
        "id": "1e4af1f1-5b4b-4d53-94e0-496f7b261b5a"
      },
      "source": [
        "# Homework 4: Multiple Linear Regression\n",
        "***\n",
        "\n",
        "**Name**: HARISH NANDHAN SHANMUGAM\n",
        "\n",
        "***\n",
        "\n",
        "This assignment is due on Gradescope by **Friday February 21st at 5:00PM**. If you submit the assignment  by this deadline, you will receive 2 bonus points. If you need a little extra time, you may submit your work by **Monday February 24th at 5:00PM**. Your solutions to theoretical questions should be done in Markdown directly below the associated question.  Your solutions to computational questions should include any specified R code and results as well as written commentary on your conclusions.  Remember that you are encouraged to discuss the problems with your classmates, but **you must write all code and solutions on your own**.\n",
        "\n",
        "**NOTES**:\n",
        "\n",
        "- There are 2 total questions on this assignment.\n",
        "- If you're not familiar with typesetting math directly into Markdown then by all means, do your work on paper first and then typeset it later.  Remember that there is a [reference guide](https://math.meta.stackexchange.com/questions/5020/mathjax-basic-tutorial-and-quick-reference) linked here. **All** of your written commentary, justifications and mathematical work should be in Markdown.\n",
        "- Because you can technically evaluate notebook cells in a non-linear order, it's a good idea to do Kernel $\\rightarrow$ Restart & Run All as a check before submitting your solutions.  That way if we need to run your code you will know that it will work as expected.\n",
        "- It is **bad form** to make your reader interpret numerical output from your code.  If a question asks you to compute some value from the data you should show your code output **AND** write a summary of the results in Markdown directly below your code.\n",
        "- This probably goes without saying, but... For any question that asks you to calculate something, you **must show all work and justify your answers to receive credit**. Sparse or nonexistent work will receive sparse or nonexistent credit.\n",
        "\n",
        "\n",
        "\n",
        "---"
      ]
    },
    {
      "cell_type": "markdown",
      "id": "26764484-eafc-4aba-bea9-2d1d8f764a85",
      "metadata": {
        "id": "26764484-eafc-4aba-bea9-2d1d8f764a85"
      },
      "source": [
        "### Problem 1 <span style=\"color: #CFB87C;\">(STAT 5010 Students Only)</span> (50 Points) Trace of the hat matrix\n",
        "\n",
        "Define the trace of a square matrix\n",
        "\n",
        "$A = \\left(\\begin{matrix}\n",
        "a_{1,1} & a_{1,2} & \\cdots & a_{1,n} \\\\\n",
        "a_{2,1} & a_{2,2} & \\cdots & a_{2,n} \\\\\n",
        "\\vdots & \\vdots & \\ddots & \\vdots \\\\\n",
        "a_{n,1} & a_{n,2} & \\cdots & a_{n,n}\n",
        "\\end{matrix} \\right)$\n",
        "\n",
        "to be $tr(A) = \\sum^n_{i=1}a_{i,i}$, i.e., the sum of the diagonal elements of $A$.\n",
        "\n",
        "**PART A:** Let $B$ be a $m \\times n$ matrix and $C$ $n\\times m$ matrix. Prove that $tr(BC) = tr(CB).$"
      ]
    },
    {
      "cell_type": "markdown",
      "id": "6d04a5e2-5177-4db5-b6b0-e0d31907a202",
      "metadata": {
        "id": "6d04a5e2-5177-4db5-b6b0-e0d31907a202"
      },
      "source": [
        "$$ \\text{The trace of a square matrix } A \\text{ is defined as:} $$\n",
        "\n",
        "$$ tr(A) = \\sum_{i=1}^{k}A_{ii} \\quad \\text{(Sum of its diagonal elements)} $$\n",
        "\n",
        "$$ \\text{For two matrices } B \\text{ (} m \\times n \\text{) and } C \\text{ (} n \\times m \\text{), we consider the product } BC \\text{ (} m \\times m \\text{):} $$\n",
        "\n",
        "$$ tr(BC) = \\sum_{i=1}^{m}(BC)_{ii} \\quad \\text{(Sum of diagonal elements of } BC \\text{)} $$\n",
        "\n",
        "$$ \\text{Expanding the diagonal elements of } BC: $$\n",
        "\n",
        "$$ (BC)_{ii} =  \\sum_{k=1}^{n}B_{ik}C_{ki} \\quad \\text{(Matrix multiplication formula for diagonal elements)} $$\n",
        "\n",
        "$$ \\text{Thus, the trace of } BC \\text{ is:} $$\n",
        "\n",
        "$$ tr(BC) =\\sum_{i=1}^{m}\\sum_{k=1}^{n}B_{ik}C_{ki} $$\n",
        "\n",
        "$$ \\text{Since summation is commutative, we can swap the summation order:} $$\n",
        "\n",
        "$$ tr(BC) =\\sum_{k=1}^{n}\\sum_{i=1}^{m}C_{ki}B_{ik} $$\n",
        "\n",
        "$$ \\text{Now, consider the trace of } CB \\text{ (} n \\times n \\text{):} $$\n",
        "\n",
        "$$ tr(CB) = \\sum_{i=1}^{n}(CB)_{ii} $$\n",
        "\n",
        "$$ \\text{Expanding the diagonal elements of } CB: $$\n",
        "\n",
        "$$ (CB)_{ii} =  \\sum_{k=1}^{m}C_{ik}B_{ki} $$\n",
        "\n",
        "$$ \\text{Thus, the trace of } CB \\text{ is:} $$\n",
        "\n",
        "$$ tr(CB) = \\sum_{i=1}^{n}\\sum_{k=1}^{m}C_{ik}B_{ki} $$\n",
        "\n",
        "$$ \\text{Comparing the two results:} $$\n",
        "\n",
        "$$ tr(BC) = \\sum_{k=1}^{n}\\sum_{i=1}^{m}C_{ki}B_{ik} \\quad \\text{(Equation 1)} $$\n",
        "\n",
        "$$ tr(CB) = \\sum_{i=1}^{n}\\sum_{k=1}^{m}C_{ik}B_{ki} \\quad \\text{(Equation 2)} $$\n",
        "\n",
        "$$ \\text{Since both expressions are identical, we conclude:} $$\n",
        "\n",
        "$$ tr(BC) = tr(CB) \\quad \\text{(Hence proved)} $$\n"
      ]
    },
    {
      "cell_type": "markdown",
      "id": "e874b005-c18c-4a7f-b6cd-4a1523dabec0",
      "metadata": {
        "id": "e874b005-c18c-4a7f-b6cd-4a1523dabec0"
      },
      "source": [
        "**PART B:** Let $H$ be the hat matrix as defined in class. Prove that $tr(H) = p+1$, where $p$ is the number of parameters in the regression."
      ]
    },
    {
      "cell_type": "markdown",
      "id": "d09f8af5-a9e2-4db1-b283-3a327f18c61f",
      "metadata": {
        "id": "d09f8af5-a9e2-4db1-b283-3a327f18c61f"
      },
      "source": [
        "$$ \\text{The hat matrix } H \\text{ is defined as:} $$\n",
        "\n",
        "$$ H = X(X^TX)^{-1}X^T $$\n",
        "\n",
        "$$ \\text{where } X \\text{ has dimensions } N \\times (p+1), \\text{ with } p \\text{ predictors and 1 intercept.} $$\n",
        "\n",
        "$$ \\text{A key property of the trace function is its cyclic property:} $$\n",
        "\n",
        "$$ tr(ABC) = tr(CAB) = tr(BAC) $$\n",
        "\n",
        "$$ \\text{Applying this property to the hat matrix:} $$\n",
        "\n",
        "$$ tr(H) = tr(X(X^TX)^{-1}X^T) $$\n",
        "\n",
        "$$ \\text{Using the cyclic property of trace, we rearrange:} $$\n",
        "\n",
        "$$ tr(X(X^TX)^{-1}X^T) = tr((X^TX)^{-1}X^TX) $$\n",
        "\n",
        "$$ \\text{Since } (X^TX)^{-1}X^TX = I_{p+1}, \\text{ where } I_{p+1} \\text{ is the identity matrix of size } (p+1) \\times (p+1), $$\n",
        "\n",
        "$$ \\text{Taking the trace of the identity matrix:} $$\n",
        "\n",
        "$$ tr(I_{p+1}) = p+1 $$\n",
        "\n",
        "$$ \\text{Thus, we conclude:} $$\n",
        "\n",
        "$$ tr(H) = p+1 $$\n",
        "\n",
        "$$ \\text{Comparing the two results:} $$\n",
        "\n",
        "$$ tr(H) = tr(I_{p+1}) \\quad \\text{(Equation 1)} $$\n",
        "\n",
        "$$ p+1 = tr(H) \\quad \\text{(Equation 2)} $$\n",
        "\n",
        "$$ \\text{Since both expressions are identical, we conclude:} $$\n",
        "\n",
        "$$ tr(H) = p+1 \\quad \\text{(Hence proved)} $$\n"
      ]
    },
    {
      "cell_type": "markdown",
      "id": "4602a2fd-0362-42f0-bde5-568ed1f19142",
      "metadata": {
        "id": "4602a2fd-0362-42f0-bde5-568ed1f19142"
      },
      "source": [
        "---\n",
        "\n",
        "### Problem 2 - Multiple Linear Regression and Model Selection (50 points)"
      ]
    },
    {
      "cell_type": "markdown",
      "id": "dcbfd9ed-5e32-4aca-83af-13c23d34321d",
      "metadata": {
        "id": "dcbfd9ed-5e32-4aca-83af-13c23d34321d"
      },
      "source": [
        "We will further examine the `Fish.csv` dataset in this problem.\n",
        "\n",
        "\"This dataset is a record of 7 common different fish species in fish market sales. With this dataset, a predictive model can be performed using machine friendly data and estimate the weight of fish can be predicted.\"\n",
        "\n",
        "**Response**:\n",
        "- Weight (in grams)\n",
        "\n",
        "**Features**:\n",
        "- Length1 (vertical length in cm)\n",
        "- Length2 (diagonal length in cm)\n",
        "- Length3 (cross length in cm)\n",
        "- Height (in cm)\n",
        "- Width (diagonal width in cm)\n",
        "\n",
        "The species name of the fish is also given."
      ]
    },
    {
      "cell_type": "markdown",
      "id": "4527c665-391f-4464-9fc8-5f03ee034302",
      "metadata": {
        "id": "4527c665-391f-4464-9fc8-5f03ee034302"
      },
      "source": [
        "**Part A**: Read the data from the csv.  As you are reading in `Fish.csv`, drop the species column as it is non-numerical.\n",
        "\n",
        "Also, make sure to re-order the columns so that the response variable is the last column."
      ]
    },
    {
      "cell_type": "code",
      "execution_count": null,
      "id": "46acbe97-7edb-49e0-aab9-6570d4813814",
      "metadata": {
        "colab": {
          "base_uri": "https://localhost:8080/",
          "height": 286
        },
        "id": "46acbe97-7edb-49e0-aab9-6570d4813814",
        "outputId": "ebbfb52b-57b7-4c9c-d51e-7947d81a75f2"
      },
      "outputs": [
        {
          "output_type": "display_data",
          "data": {
            "text/html": [
              "<table class=\"dataframe\">\n",
              "<caption>A data.frame: 6 × 6</caption>\n",
              "<thead>\n",
              "\t<tr><th></th><th scope=col>Length1</th><th scope=col>Length2</th><th scope=col>Length3</th><th scope=col>Height</th><th scope=col>Width</th><th scope=col>Weight</th></tr>\n",
              "\t<tr><th></th><th scope=col>&lt;dbl&gt;</th><th scope=col>&lt;dbl&gt;</th><th scope=col>&lt;dbl&gt;</th><th scope=col>&lt;dbl&gt;</th><th scope=col>&lt;dbl&gt;</th><th scope=col>&lt;dbl&gt;</th></tr>\n",
              "</thead>\n",
              "<tbody>\n",
              "\t<tr><th scope=row>1</th><td>23.2</td><td>25.4</td><td>30.0</td><td>11.5200</td><td>4.0200</td><td>242</td></tr>\n",
              "\t<tr><th scope=row>2</th><td>24.0</td><td>26.3</td><td>31.2</td><td>12.4800</td><td>4.3056</td><td>290</td></tr>\n",
              "\t<tr><th scope=row>3</th><td>23.9</td><td>26.5</td><td>31.1</td><td>12.3778</td><td>4.6961</td><td>340</td></tr>\n",
              "\t<tr><th scope=row>4</th><td>26.3</td><td>29.0</td><td>33.5</td><td>12.7300</td><td>4.4555</td><td>363</td></tr>\n",
              "\t<tr><th scope=row>5</th><td>26.5</td><td>29.0</td><td>34.0</td><td>12.4440</td><td>5.1340</td><td>430</td></tr>\n",
              "\t<tr><th scope=row>6</th><td>26.8</td><td>29.7</td><td>34.7</td><td>13.6024</td><td>4.9274</td><td>450</td></tr>\n",
              "</tbody>\n",
              "</table>\n"
            ],
            "text/markdown": "\nA data.frame: 6 × 6\n\n| <!--/--> | Length1 &lt;dbl&gt; | Length2 &lt;dbl&gt; | Length3 &lt;dbl&gt; | Height &lt;dbl&gt; | Width &lt;dbl&gt; | Weight &lt;dbl&gt; |\n|---|---|---|---|---|---|---|\n| 1 | 23.2 | 25.4 | 30.0 | 11.5200 | 4.0200 | 242 |\n| 2 | 24.0 | 26.3 | 31.2 | 12.4800 | 4.3056 | 290 |\n| 3 | 23.9 | 26.5 | 31.1 | 12.3778 | 4.6961 | 340 |\n| 4 | 26.3 | 29.0 | 33.5 | 12.7300 | 4.4555 | 363 |\n| 5 | 26.5 | 29.0 | 34.0 | 12.4440 | 5.1340 | 430 |\n| 6 | 26.8 | 29.7 | 34.7 | 13.6024 | 4.9274 | 450 |\n\n",
            "text/latex": "A data.frame: 6 × 6\n\\begin{tabular}{r|llllll}\n  & Length1 & Length2 & Length3 & Height & Width & Weight\\\\\n  & <dbl> & <dbl> & <dbl> & <dbl> & <dbl> & <dbl>\\\\\n\\hline\n\t1 & 23.2 & 25.4 & 30.0 & 11.5200 & 4.0200 & 242\\\\\n\t2 & 24.0 & 26.3 & 31.2 & 12.4800 & 4.3056 & 290\\\\\n\t3 & 23.9 & 26.5 & 31.1 & 12.3778 & 4.6961 & 340\\\\\n\t4 & 26.3 & 29.0 & 33.5 & 12.7300 & 4.4555 & 363\\\\\n\t5 & 26.5 & 29.0 & 34.0 & 12.4440 & 5.1340 & 430\\\\\n\t6 & 26.8 & 29.7 & 34.7 & 13.6024 & 4.9274 & 450\\\\\n\\end{tabular}\n",
            "text/plain": [
              "  Length1 Length2 Length3 Height  Width  Weight\n",
              "1 23.2    25.4    30.0    11.5200 4.0200 242   \n",
              "2 24.0    26.3    31.2    12.4800 4.3056 290   \n",
              "3 23.9    26.5    31.1    12.3778 4.6961 340   \n",
              "4 26.3    29.0    33.5    12.7300 4.4555 363   \n",
              "5 26.5    29.0    34.0    12.4440 5.1340 430   \n",
              "6 26.8    29.7    34.7    13.6024 4.9274 450   "
            ]
          },
          "metadata": {}
        }
      ],
      "source": [
        "df <- read.csv(\"Fish.csv\")\n",
        "df <- df[, -1]\n",
        "df <- df[, c(setdiff(names(df), \"Weight\"), \"Weight\")]\n",
        "head(df)\n"
      ]
    },
    {
      "cell_type": "markdown",
      "id": "9b076d2c-f8c8-42ee-bc6f-7b4cd931ad72",
      "metadata": {
        "id": "9b076d2c-f8c8-42ee-bc6f-7b4cd931ad72"
      },
      "source": [
        "**Part B:** Fit a multiple linear regression model to the data.\n",
        "\n",
        "- print the regression coeficients to the screen.\n",
        "\n",
        "- Use a Markdown cell to specify the MLR model in the form: $ \\hat{y} = \\beta_0+\\beta_1 X_1 + \\beta_2 X_2 + ... + \\beta_p X_p $"
      ]
    },
    {
      "cell_type": "code",
      "execution_count": null,
      "id": "04874a01-cdba-4d1c-b9f4-6d49e189a02c",
      "metadata": {
        "colab": {
          "base_uri": "https://localhost:8080/",
          "height": 416
        },
        "id": "04874a01-cdba-4d1c-b9f4-6d49e189a02c",
        "outputId": "5876d416-9d49-47fd-81aa-a0e88368fe0f"
      },
      "outputs": [
        {
          "output_type": "display_data",
          "data": {
            "text/plain": [
              "\n",
              "Call:\n",
              "lm(formula = Weight ~ Length1 + Length2 + Length3 + Height + \n",
              "    Width, data = df)\n",
              "\n",
              "Residuals:\n",
              "    Min      1Q  Median      3Q     Max \n",
              "-243.69  -65.10  -25.52   57.98  447.25 \n",
              "\n",
              "Coefficients:\n",
              "            Estimate Std. Error t value Pr(>|t|)    \n",
              "(Intercept) -499.587     29.572 -16.894  < 2e-16 ***\n",
              "Length1       62.355     40.209   1.551  0.12302    \n",
              "Length2       -6.527     41.759  -0.156  0.87601    \n",
              "Length3      -29.026     17.353  -1.673  0.09643 .  \n",
              "Height        28.297      8.729   3.242  0.00146 ** \n",
              "Width         22.473     20.372   1.103  0.27169    \n",
              "---\n",
              "Signif. codes:  0 ‘***’ 0.001 ‘**’ 0.01 ‘*’ 0.05 ‘.’ 0.1 ‘ ’ 1\n",
              "\n",
              "Residual standard error: 123.2 on 153 degrees of freedom\n",
              "Multiple R-squared:  0.8853,\tAdjusted R-squared:  0.8815 \n",
              "F-statistic: 236.2 on 5 and 153 DF,  p-value: < 2.2e-16\n"
            ]
          },
          "metadata": {}
        }
      ],
      "source": [
        "mlr_model = lm(Weight~Length1+Length2+Length3+Height+Width,data=df)\n",
        "summary(mlr_model)"
      ]
    },
    {
      "cell_type": "markdown",
      "id": "c0781595-d424-4eea-ab78-8babbf962984",
      "metadata": {
        "id": "c0781595-d424-4eea-ab78-8babbf962984"
      },
      "source": [
        " $ \\hat{y} = -499.58 + 62.35 * Length1 - 6.52 * Length2 - 29.02 * Length3 + 28.29 * Height + 22.47 * Width $"
      ]
    },
    {
      "cell_type": "markdown",
      "id": "d026e650-b16c-40ec-a330-d5b271ef7d25",
      "metadata": {
        "id": "d026e650-b16c-40ec-a330-d5b271ef7d25"
      },
      "source": [
        "**Part C**: Perform the appropriate statistical hypothesis test at the $\\alpha = 0.01$ significance level to determine if _at least one_ of the features is related to the the response $y$.  "
      ]
    },
    {
      "cell_type": "markdown",
      "id": "b97bd719-2345-49d9-a77e-d0d1d80eb715",
      "metadata": {
        "id": "b97bd719-2345-49d9-a77e-d0d1d80eb715"
      },
      "source": [
        "- H0 : No predictor values are related to the target response $\\beta1 = \\beta2 = \\beta3 = \\beta4 ... \\beta{p} = 0$\n",
        "- H1 : Atleast one predictor value is related to the target response ($\\beta{k}$ is not equal to zero for k = 1,2,3..p)\n",
        "\n",
        "The hypothesis test is performed using this formula:\n",
        "$$F = \\frac{\\frac{SST - SSE}{p}}{\\frac{SSE}{n-p-1}}$$\n",
        "\n"
      ]
    },
    {
      "cell_type": "code",
      "execution_count": null,
      "id": "7ba406e5-79b4-49a9-8b0f-2470c14dcf44",
      "metadata": {
        "colab": {
          "base_uri": "https://localhost:8080/"
        },
        "id": "7ba406e5-79b4-49a9-8b0f-2470c14dcf44",
        "outputId": "c8d2f882-d7c2-46a5-c063-fcead8088ff6"
      },
      "outputs": [
        {
          "output_type": "stream",
          "name": "stdout",
          "text": [
            "SSE:  2322653\n",
            "SSR:  17924806\n",
            "SST:  20247459\n",
            "F stat calc:  236.152\n",
            "F Critical:  3.139089"
          ]
        }
      ],
      "source": [
        "SSE =  sum(residuals(mlr_model)^2)\n",
        "SSR =  sum((fitted(mlr_model) - mean(df$Weight))^2)\n",
        "SST =  sum(((df$Weight) - mean(df$Weight))^2)\n",
        "cat(\"SSE: \", SSE)\n",
        "cat(\"\\nSSR: \", SSR)\n",
        "cat(\"\\nSST: \", SST)\n",
        "\n",
        "p = 5\n",
        "n = nrow(df)\n",
        "\n",
        "F_test = ((SST - SSE)/p)/(SSE/(n-p-1))\n",
        "alpha = 0.01\n",
        "F_crit = qf(alpha, df1 = p, df2 = n-p-1, lower.tail = FALSE)\n",
        "\n",
        "cat(\"\\nF stat calc: \", F_test)\n",
        "cat(\"\\nF Critical: \", F_crit)\n"
      ]
    },
    {
      "cell_type": "markdown",
      "source": [
        "$F_{Calc}>F_{Crit}$ so, we reject the null hypothesis and state that atleast one of the predictors is related in predicting the target response.\n"
      ],
      "metadata": {
        "id": "ZOOC2cZ5uYCo"
      },
      "id": "ZOOC2cZ5uYCo"
    },
    {
      "cell_type": "markdown",
      "id": "e9392681-08c1-42ff-a94f-710aec83dcd2",
      "metadata": {
        "id": "e9392681-08c1-42ff-a94f-710aec83dcd2"
      },
      "source": [
        "**Part D**: Write a function `forward_select(df, resp_str, maxk)` that takes in the DataFrame, the name of the column corresponding to the response, and the maximum number of desired features, and returns a list of feature names corresponding to the `maxk` most important features via forward selection.  At each stage in forward selection you should add the feature whose inclusion in the model would result in the lowest sum of squared errors $(SSE)$. Use your function to determine the best $k=3$ features to include in the model. Clearly indicate which feature was added in each stage.\n",
        "\n",
        "**Note**: The point of this exercise is to see if you can implement **foward_select** yourself.  You may not call any R method that explicitly performs forward selection."
      ]
    },
    {
      "cell_type": "code",
      "execution_count": null,
      "id": "98e1ac84-9743-43dc-928a-f622ad4c60f2",
      "metadata": {
        "id": "98e1ac84-9743-43dc-928a-f622ad4c60f2",
        "colab": {
          "base_uri": "https://localhost:8080/",
          "height": 86
        },
        "outputId": "4d576a2e-81de-482b-9e78-77971e32cfa1"
      },
      "outputs": [
        {
          "output_type": "stream",
          "name": "stdout",
          "text": [
            "1: feature 'Length3' with SSE = 2996433.36\n",
            "2: feature 'Width' with SSE = 2489410.25\n",
            "3: feature 'Height' with SSE = 2473413.58\n"
          ]
        },
        {
          "output_type": "display_data",
          "data": {
            "text/html": [
              "<style>\n",
              ".list-inline {list-style: none; margin:0; padding: 0}\n",
              ".list-inline>li {display: inline-block}\n",
              ".list-inline>li:not(:last-child)::after {content: \"\\00b7\"; padding: 0 .5ex}\n",
              "</style>\n",
              "<ol class=list-inline><li>'Length3'</li><li>'Width'</li><li>'Height'</li></ol>\n"
            ],
            "text/markdown": "1. 'Length3'\n2. 'Width'\n3. 'Height'\n\n\n",
            "text/latex": "\\begin{enumerate*}\n\\item 'Length3'\n\\item 'Width'\n\\item 'Height'\n\\end{enumerate*}\n",
            "text/plain": [
              "[1] \"Length3\" \"Width\"   \"Height\" "
            ]
          },
          "metadata": {}
        }
      ],
      "source": [
        "forward_select = function(df, resp_str, maxk) {\n",
        "\n",
        "  y = df[[resp_str]]\n",
        "  X_all = df[, !(names(df) %in% resp_str)]\n",
        "\n",
        "  selected_features = c()\n",
        "  remaining_features = names(X_all)\n",
        "\n",
        "  for (i in 1:maxk) {\n",
        "    best_feature = NULL\n",
        "    best_sse = Inf\n",
        "\n",
        "    for (feature in remaining_features) {\n",
        "      temp_features = c(selected_features, feature)\n",
        "      X_temp = X_all[, temp_features, drop = FALSE]\n",
        "      X_temp = cbind(1, X_temp)\n",
        "\n",
        "      model = lm(y ~ ., data = data.frame(y = y, X_temp))\n",
        "\n",
        "      sse = sum(residuals(model)^2)\n",
        "\n",
        "      if (sse < best_sse) {\n",
        "        best_sse = sse\n",
        "        best_feature = feature\n",
        "      }\n",
        "    }\n",
        "\n",
        "    if (!is.null(best_feature)) {\n",
        "      selected_features = c(selected_features, best_feature)\n",
        "      remaining_features = setdiff(remaining_features, best_feature)\n",
        "      cat(sprintf(\"%d: feature '%s' with SSE = %.2f\\n\", i, best_feature, best_sse))\n",
        "    }\n",
        "  }\n",
        "\n",
        "  return(selected_features)\n",
        "}\n",
        "\n",
        "selected_features = forward_select(df, \"Weight\", 3)\n",
        "selected_features"
      ]
    },
    {
      "cell_type": "markdown",
      "id": "fd56ec85-5f6f-4b18-b722-44e9c326702a",
      "metadata": {
        "id": "fd56ec85-5f6f-4b18-b722-44e9c326702a"
      },
      "source": [
        "**Part E**: Write down the reduced multiple linear regression model, including estimated parameters, obtained by your forward selection process."
      ]
    },
    {
      "cell_type": "code",
      "source": [
        "mlr_model_reduced = lm(Weight~Length3+Width+Height,data=df)\n",
        "summary(mlr_model_reduced)"
      ],
      "metadata": {
        "colab": {
          "base_uri": "https://localhost:8080/",
          "height": 364
        },
        "id": "ciI0zsc3IYUv",
        "outputId": "776b2782-364e-4640-dd18-e9bdc9f6aeee"
      },
      "id": "ciI0zsc3IYUv",
      "execution_count": null,
      "outputs": [
        {
          "output_type": "display_data",
          "data": {
            "text/plain": [
              "\n",
              "Call:\n",
              "lm(formula = Weight ~ Length3 + Width + Height, data = df)\n",
              "\n",
              "Residuals:\n",
              "    Min      1Q  Median      3Q     Max \n",
              "-246.79  -77.57  -33.26   82.47  453.51 \n",
              "\n",
              "Coefficients:\n",
              "            Estimate Std. Error t value Pr(>|t|)    \n",
              "(Intercept) -521.000     29.331 -17.763  < 2e-16 ***\n",
              "Length3       19.445      1.812  10.728  < 2e-16 ***\n",
              "Width         62.833     14.560   4.315 2.83e-05 ***\n",
              "Height         3.853      3.849   1.001    0.318    \n",
              "---\n",
              "Signif. codes:  0 ‘***’ 0.001 ‘**’ 0.01 ‘*’ 0.05 ‘.’ 0.1 ‘ ’ 1\n",
              "\n",
              "Residual standard error: 126.3 on 155 degrees of freedom\n",
              "Multiple R-squared:  0.8778,\tAdjusted R-squared:  0.8755 \n",
              "F-statistic: 371.3 on 3 and 155 DF,  p-value: < 2.2e-16\n"
            ]
          },
          "metadata": {}
        }
      ]
    },
    {
      "cell_type": "markdown",
      "id": "b008f7b2-f930-471d-b509-80774407d0d8",
      "metadata": {
        "id": "b008f7b2-f930-471d-b509-80774407d0d8"
      },
      "source": [
        " $ \\hat{y} = -521 + 19.445 * Length3 +  62.833 * Width + 3.853 * Height $"
      ]
    }
  ],
  "metadata": {
    "kernelspec": {
      "display_name": "R",
      "language": "R",
      "name": "ir"
    },
    "language_info": {
      "codemirror_mode": "r",
      "file_extension": ".r",
      "mimetype": "text/x-r-source",
      "name": "R",
      "pygments_lexer": "r",
      "version": "4.2.2"
    },
    "colab": {
      "provenance": []
    }
  },
  "nbformat": 4,
  "nbformat_minor": 5
}
{
  "cells": [
    {
      "cell_type": "markdown",
      "metadata": {
        "nbgrader": {
          "grade": false,
          "grade_id": "cell-416e121e21ac9f95",
          "locked": true,
          "schema_version": 3,
          "solution": false,
          "task": false
        },
        "id": "wy3dR7p1WnKk"
      },
      "source": [
        "# Homework 8: GLMs and GAMs\n",
        "***\n",
        "\n",
        "**Name**: Harish Nandhan Shanmugam\n",
        "\n",
        "***\n",
        "\n",
        "This assignment is due on Gradescope by **Friday April 25 at 5:00PM**. If you submit the assignment  by this deadline, you will receive 2 bonus points. If you need a little extra time, you may submit your work by **Monday April 28 at 5:00PM**. Your solutions to theoretical questions should be done in Markdown directly below the associated question.  Your solutions to computational questions should include any specified R code and results as well as written commentary on your conclusions.  Remember that you are encouraged to discuss the problems with your classmates, but **you must write all code and solutions on your own**.\n",
        "\n",
        "**NOTES**:\n",
        "\n",
        "- There are 2 total questions on this assignment.\n",
        "- If you're not familiar with typesetting math directly into Markdown then by all means, do your work on paper first and then typeset it later.  Remember that there is a [reference guide](https://math.meta.stackexchange.com/questions/5020/mathjax-basic-tutorial-and-quick-reference) linked here. **All** of your written commentary, justifications and mathematical work should be in Markdown.\n",
        "- Because you can technically evaluate notebook cells in a non-linear order, it's a good idea to do Kernel $\\rightarrow$ Restart & Run All as a check before submitting your solutions.  That way if we need to run your code you will know that it will work as expected.\n",
        "- It is **bad form** to make your reader interpret numerical output from your code.  If a question asks you to compute some value from the data you should show your code output **AND** write a summary of the results in Markdown directly below your code.\n",
        "- This probably goes without saying, but... For any question that asks you to calculate something, you **must show all work and justify your answers to receive credit**. Sparse or nonexistent work will receive sparse or nonexistent credit.\n",
        "\n",
        "\n",
        "\n",
        "---"
      ]
    },
    {
      "cell_type": "code",
      "execution_count": 17,
      "metadata": {
        "nbgrader": {
          "grade": false,
          "grade_id": "cell-9fae6211caf3fc81",
          "locked": true,
          "schema_version": 3,
          "solution": false,
          "task": false
        },
        "id": "a3TmOYeFWnKl"
      },
      "outputs": [],
      "source": [
        "library(mgcv)"
      ]
    },
    {
      "cell_type": "markdown",
      "metadata": {
        "nbgrader": {
          "grade": false,
          "grade_id": "cell-918cbebcc4faa5f9",
          "locked": true,
          "schema_version": 3,
          "solution": false,
          "task": false
        },
        "id": "X2rZXh_7WnKm"
      },
      "source": [
        "### Problem #1 (50 Points)\n",
        "\n",
        "Consider a statistical model that attempts to predict whether an office is occupied or not from light, temperature, humidity and CO2 measurements. The variables in the dataset include:\n",
        "\n",
        "`date`: time year-month-day\n",
        "`hour`:minute:second\n",
        "`Temperature`: in Celsius\n",
        "`Relative Humidity`: as a percentage\n",
        "`Light`: measured in Lux\n",
        "`CO2`: in ppm\n",
        "`Occupancy`: 0 for not occupied, 1 for occupied status"
      ]
    },
    {
      "cell_type": "code",
      "execution_count": 18,
      "metadata": {
        "nbgrader": {
          "grade": false,
          "grade_id": "cell-77d02039d6616a61",
          "locked": true,
          "schema_version": 3,
          "solution": false,
          "task": false
        },
        "scrolled": true,
        "colab": {
          "base_uri": "https://localhost:8080/",
          "height": 545
        },
        "id": "QV-d2tJdWnKm",
        "outputId": "68ddb4e8-812c-4ecd-990f-7cb8eaf2e4ba"
      },
      "outputs": [
        {
          "output_type": "display_data",
          "data": {
            "text/html": [
              "<table class=\"dataframe\">\n",
              "<caption>A data.frame: 6 × 5</caption>\n",
              "<thead>\n",
              "\t<tr><th></th><th scope=col>Temperature</th><th scope=col>Humidity</th><th scope=col>Light</th><th scope=col>CO2</th><th scope=col>Occupancy</th></tr>\n",
              "\t<tr><th></th><th scope=col>&lt;dbl&gt;</th><th scope=col>&lt;dbl&gt;</th><th scope=col>&lt;dbl&gt;</th><th scope=col>&lt;dbl&gt;</th><th scope=col>&lt;int&gt;</th></tr>\n",
              "</thead>\n",
              "<tbody>\n",
              "\t<tr><th scope=row>140</th><td>23.7000</td><td>26.272</td><td>585.2000</td><td>749.2000</td><td>1</td></tr>\n",
              "\t<tr><th scope=row>141</th><td>23.7180</td><td>26.290</td><td>578.4000</td><td>760.4000</td><td>1</td></tr>\n",
              "\t<tr><th scope=row>142</th><td>23.7300</td><td>26.230</td><td>572.6667</td><td>769.6667</td><td>1</td></tr>\n",
              "\t<tr><th scope=row>143</th><td>23.7225</td><td>26.125</td><td>493.7500</td><td>774.7500</td><td>1</td></tr>\n",
              "\t<tr><th scope=row>144</th><td>23.7540</td><td>26.200</td><td>488.6000</td><td>779.0000</td><td>1</td></tr>\n",
              "\t<tr><th scope=row>145</th><td>23.7600</td><td>26.260</td><td>568.6667</td><td>790.0000</td><td>1</td></tr>\n",
              "</tbody>\n",
              "</table>\n"
            ],
            "text/markdown": "\nA data.frame: 6 × 5\n\n| <!--/--> | Temperature &lt;dbl&gt; | Humidity &lt;dbl&gt; | Light &lt;dbl&gt; | CO2 &lt;dbl&gt; | Occupancy &lt;int&gt; |\n|---|---|---|---|---|---|\n| 140 | 23.7000 | 26.272 | 585.2000 | 749.2000 | 1 |\n| 141 | 23.7180 | 26.290 | 578.4000 | 760.4000 | 1 |\n| 142 | 23.7300 | 26.230 | 572.6667 | 769.6667 | 1 |\n| 143 | 23.7225 | 26.125 | 493.7500 | 774.7500 | 1 |\n| 144 | 23.7540 | 26.200 | 488.6000 | 779.0000 | 1 |\n| 145 | 23.7600 | 26.260 | 568.6667 | 790.0000 | 1 |\n\n",
            "text/latex": "A data.frame: 6 × 5\n\\begin{tabular}{r|lllll}\n  & Temperature & Humidity & Light & CO2 & Occupancy\\\\\n  & <dbl> & <dbl> & <dbl> & <dbl> & <int>\\\\\n\\hline\n\t140 & 23.7000 & 26.272 & 585.2000 & 749.2000 & 1\\\\\n\t141 & 23.7180 & 26.290 & 578.4000 & 760.4000 & 1\\\\\n\t142 & 23.7300 & 26.230 & 572.6667 & 769.6667 & 1\\\\\n\t143 & 23.7225 & 26.125 & 493.7500 & 774.7500 & 1\\\\\n\t144 & 23.7540 & 26.200 & 488.6000 & 779.0000 & 1\\\\\n\t145 & 23.7600 & 26.260 & 568.6667 & 790.0000 & 1\\\\\n\\end{tabular}\n",
            "text/plain": [
              "    Temperature Humidity Light    CO2      Occupancy\n",
              "140 23.7000     26.272   585.2000 749.2000 1        \n",
              "141 23.7180     26.290   578.4000 760.4000 1        \n",
              "142 23.7300     26.230   572.6667 769.6667 1        \n",
              "143 23.7225     26.125   493.7500 774.7500 1        \n",
              "144 23.7540     26.200   488.6000 779.0000 1        \n",
              "145 23.7600     26.260   568.6667 790.0000 1        "
            ]
          },
          "metadata": {}
        },
        {
          "output_type": "display_data",
          "data": {
            "text/plain": [
              "  Temperature       Humidity         Light             CO2        \n",
              " Min.   :20.20   Min.   :22.10   Min.   :   0.0   Min.   : 427.5  \n",
              " 1st Qu.:20.65   1st Qu.:23.26   1st Qu.:   0.0   1st Qu.: 466.0  \n",
              " Median :20.89   Median :25.00   Median :   0.0   Median : 580.5  \n",
              " Mean   :21.43   Mean   :25.35   Mean   : 193.2   Mean   : 717.9  \n",
              " 3rd Qu.:22.36   3rd Qu.:26.86   3rd Qu.: 442.5   3rd Qu.: 956.3  \n",
              " Max.   :24.41   Max.   :31.47   Max.   :1697.2   Max.   :1402.2  \n",
              "   Occupancy     \n",
              " Min.   :0.0000  \n",
              " 1st Qu.:0.0000  \n",
              " Median :0.0000  \n",
              " Mean   :0.3647  \n",
              " 3rd Qu.:1.0000  \n",
              " Max.   :1.0000  "
            ]
          },
          "metadata": {}
        }
      ],
      "source": [
        "# install.packages('RCurl')\n",
        "library(RCurl) #a package that includes the function getURL(), which allows for reading data from github.\n",
        "library(ggplot2)\n",
        "\n",
        "url = getURL(\"https://raw.githubusercontent.com/LuisM78/Occupancy-detection-data/master/datatest.txt\")\n",
        "occ = read.csv(text = url)\n",
        "head(occ[,c(2,3,4,5,7)])\n",
        "summary(occ[,c(2,3,4,5,7)])"
      ]
    },
    {
      "cell_type": "markdown",
      "metadata": {
        "id": "75vlwmQ1WnKm"
      },
      "source": [
        "#### PART A:\n",
        "\n",
        "Load in the data by executing the cell above and them fit a Generalized Linear Model using `Occupancy` as the response and `Temperature`, `Humidity`, `Light`, and `CO2` as predictors.\n",
        "\n",
        "- Identify the significant and non-significant features.\n",
        "\n",
        "- Make interpretations of the coefficient estimates for each of the significant features, commenting on how a unit increase in that particular feature, holding the others constant, will effect the response."
      ]
    },
    {
      "cell_type": "code",
      "execution_count": 19,
      "metadata": {
        "colab": {
          "base_uri": "https://localhost:8080/",
          "height": 423
        },
        "id": "AI9pCSQVWnKn",
        "outputId": "412ab9b2-e757-4ceb-dae0-cb262d17742b"
      },
      "outputs": [
        {
          "output_type": "display_data",
          "data": {
            "text/plain": [
              "\n",
              "Call:\n",
              "glm(formula = Occupancy ~ Temperature + Humidity + Light + CO2, \n",
              "    family = binomial, data = occ)\n",
              "\n",
              "Coefficients:\n",
              "              Estimate Std. Error z value Pr(>|z|)    \n",
              "(Intercept) -29.316563  11.038232  -2.656  0.00791 ** \n",
              "Temperature  -0.333612   0.318492  -1.047  0.29488    \n",
              "Humidity      1.353727   0.298368   4.537  5.7e-06 ***\n",
              "Light         0.021921   0.001586  13.819  < 2e-16 ***\n",
              "CO2          -0.006839   0.003257  -2.099  0.03578 *  \n",
              "---\n",
              "Signif. codes:  0 ‘***’ 0.001 ‘**’ 0.01 ‘*’ 0.05 ‘.’ 0.1 ‘ ’ 1\n",
              "\n",
              "(Dispersion parameter for binomial family taken to be 1)\n",
              "\n",
              "    Null deviance: 3496.96  on 2664  degrees of freedom\n",
              "Residual deviance:  375.66  on 2660  degrees of freedom\n",
              "AIC: 385.66\n",
              "\n",
              "Number of Fisher Scoring iterations: 9\n"
            ]
          },
          "metadata": {}
        }
      ],
      "source": [
        "glm_model = glm(Occupancy ~ Temperature + Humidity + Light + CO2, data = occ, family = binomial)\n",
        "summary(glm_model)"
      ]
    },
    {
      "cell_type": "markdown",
      "metadata": {
        "id": "UFaGlNQnWnKn"
      },
      "source": [
        "- Humidity (p < 0.05)\n",
        "- Light (p < 0.05)\n",
        "- CO2 (p < 0.05)\n",
        "- Temperature is not significant (p > 0.05)\n",
        "\n",
        "In the fitted glm: Humidity, Light, and CO2 were found to be statistically significant predictors of occupancy, while Temperature was not.\n",
        "\n",
        "For each unit increase in Humidity, the log-odds of the room being occupied increase by 1.354, holding Light and CO2 constant.\n",
        "\n",
        "For each unit increase in Light, the log-odds increase by 0.0219, indicating that higher light levels are associated with greater odds of the room being occupied.\n",
        "\n",
        "For each unit increase in CO2, the log-odds decrease by 0.00684, suggesting that higher CO2 levels are linked with a lower likelihood of occupancy"
      ]
    },
    {
      "cell_type": "markdown",
      "metadata": {
        "id": "XoDIh8ssWnKn"
      },
      "source": [
        "#### PART B:\n",
        "\n",
        "Remove `Temperature` and refit the GLM. What has changed?"
      ]
    },
    {
      "cell_type": "code",
      "execution_count": 20,
      "metadata": {
        "colab": {
          "base_uri": "https://localhost:8080/",
          "height": 405
        },
        "id": "mgLvfyc5WnKn",
        "outputId": "097d1007-815d-4975-b810-1ea6a9773ac4"
      },
      "outputs": [
        {
          "output_type": "display_data",
          "data": {
            "text/plain": [
              "\n",
              "Call:\n",
              "glm(formula = Occupancy ~ Humidity + Light + CO2, family = binomial, \n",
              "    data = occ)\n",
              "\n",
              "Coefficients:\n",
              "              Estimate Std. Error z value Pr(>|z|)    \n",
              "(Intercept) -39.975578   5.116124  -7.814 5.56e-15 ***\n",
              "Humidity      1.564936   0.237405   6.592 4.34e-11 ***\n",
              "Light         0.022595   0.001525  14.821  < 2e-16 ***\n",
              "CO2          -0.009718   0.001907  -5.095 3.48e-07 ***\n",
              "---\n",
              "Signif. codes:  0 ‘***’ 0.001 ‘**’ 0.01 ‘*’ 0.05 ‘.’ 0.1 ‘ ’ 1\n",
              "\n",
              "(Dispersion parameter for binomial family taken to be 1)\n",
              "\n",
              "    Null deviance: 3497.0  on 2664  degrees of freedom\n",
              "Residual deviance:  376.7  on 2661  degrees of freedom\n",
              "AIC: 384.7\n",
              "\n",
              "Number of Fisher Scoring iterations: 9\n"
            ]
          },
          "metadata": {}
        }
      ],
      "source": [
        "glm_model_red = glm(Occupancy ~ Humidity + Light + CO2, data = occ, family = binomial)\n",
        "summary(glm_model_red)"
      ]
    },
    {
      "cell_type": "markdown",
      "metadata": {
        "id": "zR6SmaF8WnKn"
      },
      "source": [
        "The significant features' Humidity, Light and CO2 p values decreased more and  became stronger after dropping the temperature feature. AIC slightly increased after dropping this feature. The model become more simpler without compromising the accuracy/predictiion power."
      ]
    },
    {
      "cell_type": "markdown",
      "metadata": {
        "id": "FyemVPCKWnKn"
      },
      "source": [
        "#### PART C:\n",
        "Use the deviance values to conduct a formal test to determine whether using the reduced model is justified. Explain your results."
      ]
    },
    {
      "cell_type": "code",
      "execution_count": 21,
      "metadata": {
        "colab": {
          "base_uri": "https://localhost:8080/"
        },
        "id": "wDKrDBIDWnKn",
        "outputId": "f358260c-4a49-4ce1-e025-2fc95ed93e25"
      },
      "outputs": [
        {
          "output_type": "stream",
          "name": "stdout",
          "text": [
            "P-value: 0.3063742 \n"
          ]
        }
      ],
      "source": [
        "deviance_full = deviance(glm_model)\n",
        "deviance_reduced = deviance(glm_model_red)\n",
        "resid_full = df.residual(glm_model)\n",
        "resid_reduced = df.residual(glm_model_red)\n",
        "\n",
        "chi_sq = deviance_reduced - deviance_full\n",
        "resid_diff = resid_reduced - resid_full\n",
        "p_value = pchisq(chi_sq, df = resid_diff, lower.tail = FALSE)\n",
        "\n",
        "cat(\"P-value:\", p_value, \"\\n\")\n"
      ]
    },
    {
      "cell_type": "markdown",
      "metadata": {
        "id": "UUcde_IqWnKn"
      },
      "source": [
        "The p value of 0.3063742 indicates that the reduced model without the temperature feature is statisticallly justified bercause there is no significant difference between the full and reduced models"
      ]
    },
    {
      "cell_type": "markdown",
      "metadata": {
        "id": "OpYcdbnjWnKn"
      },
      "source": [
        "#### PART D: (5010 Students Only)\n",
        "\n",
        "Use a drop in deviance test to compare the null model with the reduced model. Explain your results."
      ]
    },
    {
      "cell_type": "code",
      "execution_count": 22,
      "metadata": {
        "colab": {
          "base_uri": "https://localhost:8080/",
          "height": 161
        },
        "id": "ItgCJtSYWnKn",
        "outputId": "a5c9d9cd-9d77-45e2-859f-9ef52c6c670d"
      },
      "outputs": [
        {
          "output_type": "display_data",
          "data": {
            "text/html": [
              "<table class=\"dataframe\">\n",
              "<caption>A anova: 2 × 5</caption>\n",
              "<thead>\n",
              "\t<tr><th></th><th scope=col>Resid. Df</th><th scope=col>Resid. Dev</th><th scope=col>Df</th><th scope=col>Deviance</th><th scope=col>Pr(&gt;Chi)</th></tr>\n",
              "\t<tr><th></th><th scope=col>&lt;dbl&gt;</th><th scope=col>&lt;dbl&gt;</th><th scope=col>&lt;dbl&gt;</th><th scope=col>&lt;dbl&gt;</th><th scope=col>&lt;dbl&gt;</th></tr>\n",
              "</thead>\n",
              "<tbody>\n",
              "\t<tr><th scope=row>1</th><td>2664</td><td>3496.9601</td><td>NA</td><td>      NA</td><td>NA</td></tr>\n",
              "\t<tr><th scope=row>2</th><td>2661</td><td> 376.7014</td><td> 3</td><td>3120.259</td><td> 0</td></tr>\n",
              "</tbody>\n",
              "</table>\n"
            ],
            "text/markdown": "\nA anova: 2 × 5\n\n| <!--/--> | Resid. Df &lt;dbl&gt; | Resid. Dev &lt;dbl&gt; | Df &lt;dbl&gt; | Deviance &lt;dbl&gt; | Pr(&gt;Chi) &lt;dbl&gt; |\n|---|---|---|---|---|---|\n| 1 | 2664 | 3496.9601 | NA |       NA | NA |\n| 2 | 2661 |  376.7014 |  3 | 3120.259 |  0 |\n\n",
            "text/latex": "A anova: 2 × 5\n\\begin{tabular}{r|lllll}\n  & Resid. Df & Resid. Dev & Df & Deviance & Pr(>Chi)\\\\\n  & <dbl> & <dbl> & <dbl> & <dbl> & <dbl>\\\\\n\\hline\n\t1 & 2664 & 3496.9601 & NA &       NA & NA\\\\\n\t2 & 2661 &  376.7014 &  3 & 3120.259 &  0\\\\\n\\end{tabular}\n",
            "text/plain": [
              "  Resid. Df Resid. Dev Df Deviance Pr(>Chi)\n",
              "1 2664      3496.9601  NA       NA NA      \n",
              "2 2661       376.7014   3 3120.259  0      "
            ]
          },
          "metadata": {}
        }
      ],
      "source": [
        "null_model = glm(Occupancy ~ 1, data = occ, family = binomial)\n",
        "anova(null_model, glm_model_red, test = \"Chisq\")"
      ]
    },
    {
      "cell_type": "markdown",
      "metadata": {
        "id": "H1e3ckCIWnKn"
      },
      "source": [
        "- H0 : The null model (no predictors) is sufficient.\n",
        "- H₁: The reduced model is significantly better (predictors\n",
        "are improving the fit).\n",
        "- p value of 0 indicates that we reject the null hypothesis. The reduced model is significantly better than the null model.\n",
        "-  Humidity, Light, and CO2 as predictors results in a substantial improvement in model fit compared to using no predictors at all\n"
      ]
    },
    {
      "cell_type": "markdown",
      "metadata": {
        "nbgrader": {
          "grade": false,
          "grade_id": "cell-11fd71f3c4edbff4",
          "locked": true,
          "schema_version": 3,
          "solution": false,
          "task": false
        },
        "id": "3v0eHtIHWnKn"
      },
      "source": [
        "### Problem 2: GAMs with Binary Response (50 Points)\n",
        "\n",
        "In 1911, the Titanic sailed off on its maiden voyage from Southampton, on its way towards New York City. Unfortunately, the ship would eventually collide with an iceberg and sink to the bottom of the ocean. As the ship was sinking, it is said that lifeboats (and floating doors) were prioritized for women and children, and thus many of them were able to surive until rescue arrived. This poses an interesting statistical question. If we have the list of passengers, can we predict who will survive the sinking of the Titanic?\n",
        "\n",
        "It turns out that GAMs can be used for different kinds of response as well, including Binary responses. That means we can use GAMs to try to answer our question. We load in the data below. It may help to do some basic data analysis before doing too much modeling."
      ]
    },
    {
      "cell_type": "code",
      "execution_count": 24,
      "metadata": {
        "nbgrader": {
          "grade": false,
          "grade_id": "cell-918c802d61a832f5",
          "locked": true,
          "schema_version": 3,
          "solution": false,
          "task": false
        },
        "colab": {
          "base_uri": "https://localhost:8080/",
          "height": 356
        },
        "id": "YIJGnazLWnKn",
        "outputId": "fc8cc008-c9f9-4f5d-92e2-7eb037fa8ad3"
      },
      "outputs": [
        {
          "output_type": "display_data",
          "data": {
            "text/html": [
              "<table class=\"dataframe\">\n",
              "<caption>A data.frame: 6 × 12</caption>\n",
              "<thead>\n",
              "\t<tr><th></th><th scope=col>PassengerId</th><th scope=col>Survived</th><th scope=col>Pclass</th><th scope=col>Name</th><th scope=col>Sex</th><th scope=col>Age</th><th scope=col>SibSp</th><th scope=col>Parch</th><th scope=col>Ticket</th><th scope=col>Fare</th><th scope=col>Cabin</th><th scope=col>Embarked</th></tr>\n",
              "\t<tr><th></th><th scope=col>&lt;int&gt;</th><th scope=col>&lt;int&gt;</th><th scope=col>&lt;int&gt;</th><th scope=col>&lt;chr&gt;</th><th scope=col>&lt;chr&gt;</th><th scope=col>&lt;dbl&gt;</th><th scope=col>&lt;int&gt;</th><th scope=col>&lt;int&gt;</th><th scope=col>&lt;chr&gt;</th><th scope=col>&lt;dbl&gt;</th><th scope=col>&lt;chr&gt;</th><th scope=col>&lt;chr&gt;</th></tr>\n",
              "</thead>\n",
              "<tbody>\n",
              "\t<tr><th scope=row>1</th><td>1</td><td>0</td><td>3</td><td>Braund, Mr. Owen Harris                            </td><td>male  </td><td>22</td><td>1</td><td>0</td><td>A/5 21171       </td><td> 7.2500</td><td>    </td><td>S</td></tr>\n",
              "\t<tr><th scope=row>2</th><td>2</td><td>1</td><td>1</td><td>Cumings, Mrs. John Bradley (Florence Briggs Thayer)</td><td>female</td><td>38</td><td>1</td><td>0</td><td>PC 17599        </td><td>71.2833</td><td>C85 </td><td>C</td></tr>\n",
              "\t<tr><th scope=row>3</th><td>3</td><td>1</td><td>3</td><td>Heikkinen, Miss. Laina                             </td><td>female</td><td>26</td><td>0</td><td>0</td><td>STON/O2. 3101282</td><td> 7.9250</td><td>    </td><td>S</td></tr>\n",
              "\t<tr><th scope=row>4</th><td>4</td><td>1</td><td>1</td><td>Futrelle, Mrs. Jacques Heath (Lily May Peel)       </td><td>female</td><td>35</td><td>1</td><td>0</td><td>113803          </td><td>53.1000</td><td>C123</td><td>S</td></tr>\n",
              "\t<tr><th scope=row>5</th><td>5</td><td>0</td><td>3</td><td>Allen, Mr. William Henry                           </td><td>male  </td><td>35</td><td>0</td><td>0</td><td>373450          </td><td> 8.0500</td><td>    </td><td>S</td></tr>\n",
              "\t<tr><th scope=row>6</th><td>6</td><td>0</td><td>3</td><td>Moran, Mr. James                                   </td><td>male  </td><td>NA</td><td>0</td><td>0</td><td>330877          </td><td> 8.4583</td><td>    </td><td>Q</td></tr>\n",
              "</tbody>\n",
              "</table>\n"
            ],
            "text/markdown": "\nA data.frame: 6 × 12\n\n| <!--/--> | PassengerId &lt;int&gt; | Survived &lt;int&gt; | Pclass &lt;int&gt; | Name &lt;chr&gt; | Sex &lt;chr&gt; | Age &lt;dbl&gt; | SibSp &lt;int&gt; | Parch &lt;int&gt; | Ticket &lt;chr&gt; | Fare &lt;dbl&gt; | Cabin &lt;chr&gt; | Embarked &lt;chr&gt; |\n|---|---|---|---|---|---|---|---|---|---|---|---|---|\n| 1 | 1 | 0 | 3 | Braund, Mr. Owen Harris                             | male   | 22 | 1 | 0 | A/5 21171        |  7.2500 | <!----> | S |\n| 2 | 2 | 1 | 1 | Cumings, Mrs. John Bradley (Florence Briggs Thayer) | female | 38 | 1 | 0 | PC 17599         | 71.2833 | C85  | C |\n| 3 | 3 | 1 | 3 | Heikkinen, Miss. Laina                              | female | 26 | 0 | 0 | STON/O2. 3101282 |  7.9250 | <!----> | S |\n| 4 | 4 | 1 | 1 | Futrelle, Mrs. Jacques Heath (Lily May Peel)        | female | 35 | 1 | 0 | 113803           | 53.1000 | C123 | S |\n| 5 | 5 | 0 | 3 | Allen, Mr. William Henry                            | male   | 35 | 0 | 0 | 373450           |  8.0500 | <!----> | S |\n| 6 | 6 | 0 | 3 | Moran, Mr. James                                    | male   | NA | 0 | 0 | 330877           |  8.4583 | <!----> | Q |\n\n",
            "text/latex": "A data.frame: 6 × 12\n\\begin{tabular}{r|llllllllllll}\n  & PassengerId & Survived & Pclass & Name & Sex & Age & SibSp & Parch & Ticket & Fare & Cabin & Embarked\\\\\n  & <int> & <int> & <int> & <chr> & <chr> & <dbl> & <int> & <int> & <chr> & <dbl> & <chr> & <chr>\\\\\n\\hline\n\t1 & 1 & 0 & 3 & Braund, Mr. Owen Harris                             & male   & 22 & 1 & 0 & A/5 21171        &  7.2500 &      & S\\\\\n\t2 & 2 & 1 & 1 & Cumings, Mrs. John Bradley (Florence Briggs Thayer) & female & 38 & 1 & 0 & PC 17599         & 71.2833 & C85  & C\\\\\n\t3 & 3 & 1 & 3 & Heikkinen, Miss. Laina                              & female & 26 & 0 & 0 & STON/O2. 3101282 &  7.9250 &      & S\\\\\n\t4 & 4 & 1 & 1 & Futrelle, Mrs. Jacques Heath (Lily May Peel)        & female & 35 & 1 & 0 & 113803           & 53.1000 & C123 & S\\\\\n\t5 & 5 & 0 & 3 & Allen, Mr. William Henry                            & male   & 35 & 0 & 0 & 373450           &  8.0500 &      & S\\\\\n\t6 & 6 & 0 & 3 & Moran, Mr. James                                    & male   & NA & 0 & 0 & 330877           &  8.4583 &      & Q\\\\\n\\end{tabular}\n",
            "text/plain": [
              "  PassengerId Survived Pclass\n",
              "1 1           0        3     \n",
              "2 2           1        1     \n",
              "3 3           1        3     \n",
              "4 4           1        1     \n",
              "5 5           0        3     \n",
              "6 6           0        3     \n",
              "  Name                                                Sex    Age SibSp Parch\n",
              "1 Braund, Mr. Owen Harris                             male   22  1     0    \n",
              "2 Cumings, Mrs. John Bradley (Florence Briggs Thayer) female 38  1     0    \n",
              "3 Heikkinen, Miss. Laina                              female 26  0     0    \n",
              "4 Futrelle, Mrs. Jacques Heath (Lily May Peel)        female 35  1     0    \n",
              "5 Allen, Mr. William Henry                            male   35  0     0    \n",
              "6 Moran, Mr. James                                    male   NA  0     0    \n",
              "  Ticket           Fare    Cabin Embarked\n",
              "1 A/5 21171         7.2500       S       \n",
              "2 PC 17599         71.2833 C85   C       \n",
              "3 STON/O2. 3101282  7.9250       S       \n",
              "4 113803           53.1000 C123  S       \n",
              "5 373450            8.0500       S       \n",
              "6 330877            8.4583       Q       "
            ]
          },
          "metadata": {}
        }
      ],
      "source": [
        "# Load in the Data\n",
        "titanic = read.csv(\"titanic.csv\")\n",
        "head(titanic)"
      ]
    },
    {
      "cell_type": "markdown",
      "metadata": {
        "nbgrader": {
          "grade": false,
          "grade_id": "cell-4e15a14ea1189bbd",
          "locked": true,
          "schema_version": 3,
          "solution": false,
          "task": false
        },
        "id": "jc0ArPr7WnKo"
      },
      "source": [
        "#### PART A: Data Cleaning\n",
        "\n",
        "Before we get to work, we need to clean up this data a bit. If you look over it, you will notice a fair number of columns, many missing values and some NA values. We're going to need to clean our data before we're able to do any modelling. When you're done, you will have a cleaned dataset `titanic`, your training set `titanic.train` and your test set `titanic.test`. Here's what needs to be done:\n",
        "\n",
        "* We have a lot of predictors, but we don't need them all. Restrict the data to on the `Survived`, `Pclass`, `Sex`, `Age` and `Fare` columns.\n",
        "* There's still missing data in our dataframe. That won't do. Remove any rows that have at least one missing value in any column.\n",
        "* If you look at the types of each column, you'll notice that some factors have been loaded as numeric. We should change that. Set `Survived` and `Pclass` to categorical.\n",
        "* We will eventually want to analyze how well our model performs. Split the data into training and test sets. Do this by putting every fifth row into the test set, and use the rest for training. For example, the first 4 rows will be in the training set, and the $5^{th}$ row will be in the test set. Repeat that pattern for the rest of the data."
      ]
    },
    {
      "cell_type": "code",
      "execution_count": 25,
      "metadata": {
        "nbgrader": {
          "grade": false,
          "grade_id": "cell-30b51f38951955c1",
          "locked": false,
          "schema_version": 3,
          "solution": true,
          "task": false
        },
        "id": "T0NAvzG6WnKo"
      },
      "outputs": [],
      "source": [
        "titanic = titanic[, c(\"Survived\", \"Pclass\", \"Sex\", \"Age\", \"Fare\")]\n",
        "titanic = na.omit(titanic)\n",
        "titanic$Survived = as.factor(titanic$Survived)\n",
        "titanic$Pclass = as.factor(titanic$Pclass)\n",
        "\n",
        "test_indices = seq(5, nrow(titanic), by = 5)\n",
        "titanic.test = titanic[test_indices, ]\n",
        "titanic.train = titanic[-test_indices, ]"
      ]
    },
    {
      "cell_type": "markdown",
      "metadata": {
        "nbgrader": {
          "grade": false,
          "grade_id": "cell-86987153691d6519",
          "locked": true,
          "schema_version": 3,
          "solution": false,
          "task": false
        },
        "id": "q-OHAl7aWnKo"
      },
      "source": [
        "#### PART B: Fit Your GAM\n",
        "\n",
        "Now that our dataset is clean, we can fit our model. Fit your GAM as `titanic.gam` with `Survived` as your response and all other values as predictors. Make sure to smooth the necesary predictors!\n",
        "\n",
        "Hint: The response is binary, so you will need to tell your model to expect that. How did we do that when we were fitting GLMs?\n",
        "\n",
        "Look at the summary for your GAM model. Where any predictors insignificant? Save the string name of any/all insignificant predictors into the list `insig.predictors`."
      ]
    },
    {
      "cell_type": "code",
      "execution_count": 26,
      "metadata": {
        "nbgrader": {
          "grade": false,
          "grade_id": "cell-ace90fc13b189bd6",
          "locked": false,
          "schema_version": 3,
          "solution": true,
          "task": false
        },
        "colab": {
          "base_uri": "https://localhost:8080/",
          "height": 478
        },
        "id": "lGLnU6AEWnKo",
        "outputId": "57a556fe-ecb2-47b0-de9c-d0f36b33b255"
      },
      "outputs": [
        {
          "output_type": "display_data",
          "data": {
            "text/plain": [
              "\n",
              "Family: binomial \n",
              "Link function: logit \n",
              "\n",
              "Formula:\n",
              "Survived ~ Pclass + Sex + s(Age) + s(Fare)\n",
              "\n",
              "Parametric coefficients:\n",
              "            Estimate Std. Error z value Pr(>|z|)    \n",
              "(Intercept)   2.6562     0.3394   7.826 5.03e-15 ***\n",
              "Pclass2      -1.4661     0.3756  -3.904 9.47e-05 ***\n",
              "Pclass3      -2.4575     0.4024  -6.107 1.01e-09 ***\n",
              "Sexmale      -2.4886     0.2315 -10.752  < 2e-16 ***\n",
              "---\n",
              "Signif. codes:  0 ‘***’ 0.001 ‘**’ 0.01 ‘*’ 0.05 ‘.’ 0.1 ‘ ’ 1\n",
              "\n",
              "Approximate significance of smooth terms:\n",
              "          edf Ref.df Chi.sq p-value   \n",
              "s(Age)  3.995  4.959  19.28 0.00155 **\n",
              "s(Fare) 2.024  2.524   1.26 0.52023   \n",
              "---\n",
              "Signif. codes:  0 ‘***’ 0.001 ‘**’ 0.01 ‘*’ 0.05 ‘.’ 0.1 ‘ ’ 1\n",
              "\n",
              "R-sq.(adj) =  0.387   Deviance explained = 31.8%\n",
              "UBRE = -0.043402  Scale est. = 1         n = 572"
            ]
          },
          "metadata": {}
        }
      ],
      "source": [
        "library(mgcv)\n",
        "titanic.gam = gam(Survived ~ Pclass + Sex + s(Age) + s(Fare),\n",
        "                   family = binomial, data = titanic.train)\n",
        "summary(titanic.gam)\n",
        "\n",
        "\n",
        "insig.predictors = c(\"Fare\")"
      ]
    },
    {
      "cell_type": "markdown",
      "metadata": {
        "id": "3de0YK6WWnKo"
      },
      "source": [
        "Age (smoothed), Sex and Pclass were significant predictors of survival\n",
        "\n",
        "Fare (smoothed) was not significant, meaning it did not contribute meaningfully to the prediction of survival after accounting for the other features"
      ]
    },
    {
      "cell_type": "markdown",
      "metadata": {
        "nbgrader": {
          "grade": false,
          "grade_id": "cell-6fa13b45d86046f4",
          "locked": true,
          "schema_version": 3,
          "solution": false,
          "task": false
        },
        "id": "DJ5c12BgWnKo"
      },
      "source": [
        "#### PART C: Effective Degrees of Freedom\n",
        "\n",
        "Let's take a look at our continuous predictors and see if they appear linearly in our GAM model. There are two ways of doing this:\n",
        "\n",
        "* Use the `plot.gam()` function to plot the curves of your continuous predictors.\n",
        "* Look at the Effective Degrees of Freedom for the continuous variables.\n",
        "\n",
        "After conducting these analysis, determine whether each continuous predictor is linear or not. Remember, in statistical terms, a \"smooth term\" is linear if you can draw a line through the 95% confidence band.\n",
        "\n",
        "Save your answer as `TRUE` if it is linear and `FALSE` if it is not. Use `age.is.linear` for `Age` and `Fare.is.linear` for `Fare`."
      ]
    },
    {
      "cell_type": "code",
      "execution_count": 28,
      "metadata": {
        "nbgrader": {
          "grade": false,
          "grade_id": "cell-ad296a07e9a7c139",
          "locked": false,
          "schema_version": 3,
          "solution": true,
          "task": false
        },
        "colab": {
          "base_uri": "https://localhost:8080/",
          "height": 898
        },
        "id": "uuIeUhNYWnKo",
        "outputId": "b6e343d9-a572-4ece-ce9d-070e92189b4d"
      },
      "outputs": [
        {
          "output_type": "display_data",
          "data": {
            "text/plain": [
              "\n",
              "Family: binomial \n",
              "Link function: logit \n",
              "\n",
              "Formula:\n",
              "Survived ~ Pclass + Sex + s(Age) + s(Fare)\n",
              "\n",
              "Parametric coefficients:\n",
              "            Estimate Std. Error z value Pr(>|z|)    \n",
              "(Intercept)   2.6562     0.3394   7.826 5.03e-15 ***\n",
              "Pclass2      -1.4661     0.3756  -3.904 9.47e-05 ***\n",
              "Pclass3      -2.4575     0.4024  -6.107 1.01e-09 ***\n",
              "Sexmale      -2.4886     0.2315 -10.752  < 2e-16 ***\n",
              "---\n",
              "Signif. codes:  0 ‘***’ 0.001 ‘**’ 0.01 ‘*’ 0.05 ‘.’ 0.1 ‘ ’ 1\n",
              "\n",
              "Approximate significance of smooth terms:\n",
              "          edf Ref.df Chi.sq p-value   \n",
              "s(Age)  3.995  4.959  19.28 0.00155 **\n",
              "s(Fare) 2.024  2.524   1.26 0.52023   \n",
              "---\n",
              "Signif. codes:  0 ‘***’ 0.001 ‘**’ 0.01 ‘*’ 0.05 ‘.’ 0.1 ‘ ’ 1\n",
              "\n",
              "R-sq.(adj) =  0.387   Deviance explained = 31.8%\n",
              "UBRE = -0.043402  Scale est. = 1         n = 572"
            ]
          },
          "metadata": {}
        },
        {
          "output_type": "display_data",
          "data": {
            "text/plain": [
              "plot without title"
            ],
            "image/png": "[encoded data removed]"
          },
          "metadata": {
            "image/png": {
              "width": 420,
              "height": 420
            }
          }
        }
      ],
      "source": [
        "plot(titanic.gam, pages = 1, se = TRUE, shade = TRUE)\n",
        "summary(titanic.gam)\n",
        "age.is.linear = FALSE\n",
        "fare.is.linear = FALSE"
      ]
    },
    {
      "cell_type": "markdown",
      "metadata": {
        "id": "zeIyapfCWnKo"
      },
      "source": [
        "Age: With an Effective dof of 3.995 and a clearly curved smooth plot, we conclude the effect is nonlinear.\n",
        "\n",
        "Fare: Although the p-value is high, the Effective dof is 2.024, and the plot shows nonlinear curvature, especially at high values. Thus, we also consider it nonlinear."
      ]
    }
  ],
  "metadata": {
    "celltoolbar": "Create Assignment",
    "kernelspec": {
      "display_name": "R",
      "language": "R",
      "name": "ir"
    },
    "language_info": {
      "codemirror_mode": "r",
      "file_extension": ".r",
      "mimetype": "text/x-r-source",
      "name": "R",
      "pygments_lexer": "r",
      "version": "4.2.2"
    },
    "colab": {
      "provenance": []
    }
  },
  "nbformat": 4,
  "nbformat_minor": 0
}
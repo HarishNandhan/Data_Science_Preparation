{
  "cells": [
    {
      "cell_type": "markdown",
      "id": "1e4af1f1-5b4b-4d53-94e0-496f7b261b5a",
      "metadata": {
        "id": "1e4af1f1-5b4b-4d53-94e0-496f7b261b5a"
      },
      "source": [
        "# Homework 3: Multiple Linear Regression\n",
        "***\n",
        "\n",
        "**Name**: HARISH NANDHAN SHANMUGAM\n",
        "\n",
        "***\n",
        "\n",
        "This assignment is due on Gradescope by **Friday February 14th at 5:00PM**. If you submit the assignment  by this deadline, you will receive 2 bonus points. If you need a little extra time, you may submit your work by **Monday February 17th at 5:00PM**. Your solutions to theoretical questions should be done in Markdown directly below the associated question.  Your solutions to computational questions should include any specified R code and results as well as written commentary on your conclusions.  Remember that you are encouraged to discuss the problems with your classmates, but **you must write all code and solutions on your own**.\n",
        "\n",
        "**NOTES**:\n",
        "\n",
        "- There are 2 total questions on this assignment.\n",
        "- If you're not familiar with typesetting math directly into Markdown then by all means, do your work on paper first and then typeset it later.  Remember that there is a [reference guide](https://math.meta.stackexchange.com/questions/5020/mathjax-basic-tutorial-and-quick-reference) linked here. **All** of your written commentary, justifications and mathematical work should be in Markdown.\n",
        "- Because you can technically evaluate notebook cells in a non-linear order, it's a good idea to do Kernel $\\rightarrow$ Restart & Run All as a check before submitting your solutions.  That way if we need to run your code you will know that it will work as expected.\n",
        "- It is **bad form** to make your reader interpret numerical output from your code.  If a question asks you to compute some value from the data you should show your code output **AND** write a summary of the results in Markdown directly below your code.\n",
        "- This probably goes without saying, but... For any question that asks you to calculate something, you **must show all work and justify your answers to receive credit**. Sparse or nonexistent work will receive sparse or nonexistent credit.\n",
        "\n",
        "\n",
        "\n",
        "---"
      ]
    },
    {
      "cell_type": "markdown",
      "id": "2211315d-e9a6-4fe8-bc55-8aa077d73ae5",
      "metadata": {
        "id": "2211315d-e9a6-4fe8-bc55-8aa077d73ae5"
      },
      "source": [
        "### Problem 1 (50 Points)\n",
        "\n",
        "**PART A:**\n",
        "\n",
        "Prove that $t = \\frac{\\widehat\\beta_1}{\\widehat{s.e.}(\\widehat\\beta_1)}$ can be written in the form of a t-distributed random variable with $n-2$ degrees of freedom. Specifically, let $Z$ be defined as $Z = \\frac{\\widehat\\beta_1}{\\sqrt{\\frac{\\sigma^2}{\\sum^n_{i=1}\\left(x_i - \\bar{x}\\right)^2}}}$, and $W = \\frac{(n-2)\\widehat\\sigma^2}{\\sigma^2}$. Show that\n",
        "\n",
        "\\begin{align*}\n",
        "\\frac{Z}{\\sqrt{W\\big/(n-2)}} = \\frac{\\widehat\\beta_1}{\\widehat{s.e.}(\\widehat\\beta_1)} = t  ,\n",
        "\\end{align*}\n",
        "\n",
        "which, by definition, means that $t \\sim t(n-2)$."
      ]
    },
    {
      "cell_type": "markdown",
      "id": "af001c84-3aae-4663-8d05-3387ff78a616",
      "metadata": {
        "id": "af001c84-3aae-4663-8d05-3387ff78a616"
      },
      "source": [
        "$$\n",
        "\\text{To prove:} \\quad \\frac{z}{\\sqrt{\\frac{W}{n-2}}} = \\frac{\\hat{\\beta}_1}{s.e(\\hat{\\beta}_1)} = t\n",
        "$$\n",
        "\n",
        "$$\n",
        "\\text{Given:}\n",
        "$$\n",
        "\n",
        "$$\n",
        "z = \\frac{\\hat{\\beta}_1}{\\sqrt{\\frac{\\sigma^2}{\\sum_{i=1}^{n} (x_i - \\bar{x})^2}}}\n",
        "$$\n",
        "\n",
        "$$\n",
        "W = (n-2) \\frac{\\hat{\\sigma}^2}{\\sigma^2}\n",
        "$$\n",
        "\n",
        "$$\n",
        "\\frac{Z}{\\sqrt{W}} = \\frac{\\hat{\\beta}_1}{\\sqrt{\\frac{\\sigma^2}{\\sum_{i=1}^{n} (x_i - \\bar{x})^2}}}\n",
        "$$\n",
        "\n",
        "$$\n",
        "= \\frac{\\hat{\\beta}_1}{\\sqrt{\\frac{\\sigma^2}{\\sum_{i=1}^{n} (x_i - \\bar{x})^2}}} \\times \\sqrt{\\frac{(n-2) \\hat{\\sigma}^2}{\\sigma^2}}\n",
        "$$\n",
        "\n",
        "$$\n",
        "= \\frac{\\hat{\\beta}_1}{\\sqrt{\\frac{(n-2) \\hat{\\sigma}^2}{\\sum_{i=1}^{n} (x_i - \\bar{x})^2}}}\n",
        "$$\n",
        "\n",
        "$$\n",
        "\\frac{z}{\\sqrt{W}} = \\frac{\\hat{\\beta}_1}{\\hat{\\sigma}} \\times \\sqrt{\\frac{\\sum_{i=1}^{n} (x_i - \\bar{x})^2}{(n-2)}}\n",
        "$$\n",
        "\n",
        "$$\n",
        "\\frac{z \\sqrt{n-2}}{\\sqrt{W}} = \\frac{\\hat{\\beta}_1}{\\hat{\\sigma}} \\times \\sqrt{\\sum_{i=1}^{n} (x_i - \\bar{x})^2}\n",
        "$$\n",
        "\n",
        "$$\n",
        "\\text{We know that the standard error of } \\hat{\\beta}_1 \\text{ is:}\n",
        "$$\n",
        "\n",
        "$$\n",
        "s.e(\\hat{\\beta}_1) = \\frac{\\hat{\\sigma}}{\\sqrt{\\sum_{i=1}^{n} (x_i - \\bar{x})^2}}\n",
        "$$\n",
        "\n",
        "$$\n",
        "\\therefore \\frac{z}{\\sqrt{\\frac{W}{n-2}}} = \\frac{\\hat{\\beta}_1}{s.e(\\hat{\\beta}_1)} = t\n",
        "$$\n",
        "\n",
        "$$\n",
        "\\text{(because } t = \\frac{z}{\\sqrt{\\frac{v}{dof}}} \\text{)}\n",
        "$$\n",
        "\n",
        "$$\n",
        "\\text{where } n-2 \\text{ is the degrees of freedom.}\n",
        "$$\n"
      ]
    },
    {
      "cell_type": "markdown",
      "id": "330e6249-d6b5-4430-9e87-6236ac6741f0",
      "metadata": {
        "id": "330e6249-d6b5-4430-9e87-6236ac6741f0"
      },
      "source": [
        "**PART B:**\n",
        "\n",
        "In class, we defined the *hat* or *projection* matrix as\n",
        "\n",
        "$$H = X(X^TX)^{-1}X^T.$$\n",
        "\n",
        "The goal of this question is to use the hat matrix to prove that the fitted values, $\\widehat{\\mathbf Y}$, and the residuals, $\\widehat{\\boldsymbol\\varepsilon}$, are uncorrelated. We will do it in steps.\n",
        "\n",
        "First, show that $\\widehat{Y} = HY$. That is, $H$ \"puts a hat on\" $Y$."
      ]
    },
    {
      "cell_type": "markdown",
      "id": "64aa27f0-6a9d-4b50-a319-dfb1a787841e",
      "metadata": {
        "id": "64aa27f0-6a9d-4b50-a319-dfb1a787841e"
      },
      "source": [
        "$$\n",
        "\\textbf{Given HAT matrix:}\n",
        "$$\n",
        "\n",
        "$$\n",
        "H = X(X^T X)^{-1} X^T\n",
        "$$\n",
        "\n",
        "$$\n",
        "\\text{To prove:} \\quad \\hat{Y} = H Y\n",
        "$$\n",
        "\n",
        "$$\n",
        "\\text{We know that:} \\quad Y = X \\beta  \\quad \\text{(Equation 1)}\n",
        "$$\n",
        "\n",
        "$$\n",
        "\\text{Multiply } X^T \\text{ on both sides:}\n",
        "$$\n",
        "\n",
        "$$\n",
        "X^T Y = X^T X \\beta\n",
        "$$\n",
        "\n",
        "$$\n",
        "\\text{Let’s assume that } X^T X \\text{ is invertible.}\n",
        "$$\n",
        "\n",
        "$$\n",
        "(X^T X)^{-1} X^T Y = (X^T X)^{-1} X^T X \\beta\n",
        "$$\n",
        "\n",
        "$$\n",
        "\\text{Since } (X^T X)^{-1} X^T X = I\n",
        "$$\n",
        "\n",
        "$$\n",
        "(X^T X)^{-1} X^T Y = I \\beta\n",
        "$$\n",
        "\n",
        "$$\n",
        "\\hat{\\beta} = (X^T X)^{-1} X^T Y  \\quad \\text{(Equation 2)}\n",
        "$$\n",
        "\n",
        "$$\n",
        "\\text{Substituting (2) into (1):}\n",
        "$$\n",
        "\n",
        "$$\n",
        "\\hat{Y} = X \\hat{\\beta}\n",
        "$$\n",
        "\n",
        "$$\n",
        "\\hat{Y} = X (X^T X)^{-1} X^T Y\n",
        "$$\n",
        "\n",
        "$$\n",
        "H = X (X^T X)^{-1} X^T  \\quad \\text{(Given)}\n",
        "$$\n",
        "\n",
        "$$\n",
        "\\hat{Y} = H Y\n",
        "$$\n",
        "\n",
        "$$\n",
        "\\therefore \\text{Hence proved.}\n",
        "$$\n"
      ]
    },
    {
      "cell_type": "markdown",
      "id": "39215432-788e-4e08-909c-eee7caba0632",
      "metadata": {
        "id": "39215432-788e-4e08-909c-eee7caba0632"
      },
      "source": [
        "**PART C:**\n",
        "Show that $H$ is symmetric: $H = H^T$."
      ]
    },
    {
      "cell_type": "markdown",
      "id": "8726e26d-39e2-4731-968c-89d34f63789c",
      "metadata": {
        "id": "8726e26d-39e2-4731-968c-89d34f63789c"
      },
      "source": [
        "$$\n",
        "\\textbf{We know the transpose property:}\n",
        "$$\n",
        "\n",
        "$$\n",
        "(AB)^T = B^T A^T\n",
        "$$\n",
        "\n",
        "$$\n",
        "(A^T)^T = A\n",
        "$$\n",
        "\n",
        "$$\n",
        "H^T = \\left( X (X^T X)^{-1} X^T \\right)^T\n",
        "$$\n",
        "\n",
        "$$\n",
        "= (X^T)^T \\left( (X^T X)^{-1} \\right)^T X^T\n",
        "$$\n",
        "\n",
        "$$\n",
        "\\textbf{Here, the inverse of a symmetric matrix is also symmetric:}\n",
        "$$\n",
        "\n",
        "$$\n",
        "(X^T X)^{-1} = \\left( (X^T X)^{-1} \\right)^T\n",
        "$$\n",
        "\n",
        "$$\n",
        "\\text{So,}\n",
        "$$\n",
        "\n",
        "$$\n",
        "H^T = X (X^T X)^{-1} X^T\n",
        "$$\n",
        "\n",
        "$$\n",
        "\\therefore H^T = H\n",
        "$$\n",
        "\n",
        "$$\n",
        "\\text{Hence proved.}\n",
        "$$\n"
      ]
    },
    {
      "cell_type": "markdown",
      "id": "6674737c-7204-4390-bf35-15c5ea93a430",
      "metadata": {
        "id": "6674737c-7204-4390-bf35-15c5ea93a430"
      },
      "source": [
        "**PART D:** Show that $H(I_n - H) = 0_n$, where $0_n$ is the zero matrix of size $n \\times n$."
      ]
    },
    {
      "cell_type": "markdown",
      "id": "7c7a8cca-c2af-4ac4-8476-e06afbf9d519",
      "metadata": {
        "id": "7c7a8cca-c2af-4ac4-8476-e06afbf9d519"
      },
      "source": [
        "$$\n",
        "\\textbf{To prove:} \\quad H (I_n - H) = O_n\n",
        "$$\n",
        "\n",
        "$$\n",
        "H (I_n - H) = H I_n - H H  \\quad \\text{(Equation 1)}\n",
        "$$\n",
        "\n",
        "$$\n",
        "\\text{where } I_n \\text{ is the Identity matrix, so } H I_n = H  \\quad \\text{(Equation 2)}\n",
        "$$\n",
        "\n",
        "$$\n",
        "HH = X (X^T X)^{-1} X^T X (X^T X)^{-1} X^T\n",
        "$$\n",
        "\n",
        "$$\n",
        "\\textbf{We know that:} \\quad (X^T X) (X^T X)^{-1} = I\n",
        "$$\n",
        "\n",
        "$$\n",
        "\\text{So here,}\n",
        "$$\n",
        "\n",
        "$$\n",
        "HH = X (X^T X)^{-1} I X^T\n",
        "$$\n",
        "\n",
        "$$\n",
        "HH = X (X^T X)^{-1} X^T\n",
        "$$\n",
        "\n",
        "$$\n",
        "HH = H  \\quad \\text{(Equation 3)}\n",
        "$$\n",
        "\n",
        "$$\n",
        "\\text{Substituting (2) and (3) into (1):}\n",
        "$$\n",
        "\n",
        "$$\n",
        "H (I_n - H) = H - H\n",
        "$$\n",
        "\n",
        "$$\n",
        "H (I_n - H) = 0_n\n",
        "$$\n",
        "\n",
        "$$\n",
        "\\textbf{Hence proved.}\n",
        "$$\n"
      ]
    },
    {
      "cell_type": "markdown",
      "id": "174753f3-bc6e-4072-b25e-d22261bdd75e",
      "metadata": {
        "id": "174753f3-bc6e-4072-b25e-d22261bdd75e"
      },
      "source": [
        "**PART E:**\n",
        "\n",
        "Stating that $\\widehat{\\mathbf Y}$ is uncorrelated with $\\widehat{\\boldsymbol\\varepsilon}$ is equivalent to showing that these vectors are orthogonal. That is, we need to show that their dot product is zero:**\n",
        "\n",
        "$$ \\widehat{\\mathbf Y}^T\\widehat{\\boldsymbol\\varepsilon} = 0.$$ **Prove this result.**"
      ]
    },
    {
      "cell_type": "markdown",
      "id": "6039e56b-d6d0-4ba9-9616-eb89615e8ec6",
      "metadata": {
        "id": "6039e56b-d6d0-4ba9-9616-eb89615e8ec6"
      },
      "source": [
        "$$\n",
        "\\textbf{To prove:} \\quad \\hat{Y}^T \\hat{\\varepsilon} = 0\n",
        "$$\n",
        "\n",
        "$$\n",
        "\\textbf{Error:} \\quad \\hat{\\varepsilon} = Y - \\hat{Y}\n",
        "$$\n",
        "\n",
        "$$\n",
        "\\text{We know from Part B that:} \\quad \\hat{Y} = H Y\n",
        "$$\n",
        "\n",
        "$$\n",
        "\\hat{\\varepsilon} = Y - H Y\n",
        "$$\n",
        "\n",
        "$$\n",
        "\\hat{\\varepsilon} = (I - H) Y\n",
        "$$\n",
        "\n",
        "$$\n",
        "(\\hat{Y})^T = (H Y)^T\n",
        "$$\n",
        "\n",
        "$$\n",
        "= Y^T H^T\n",
        "$$\n",
        "\n",
        "$$\n",
        "\\text{From Part C, we know:} \\quad H = H^T\n",
        "$$\n",
        "\n",
        "$$\n",
        "\\therefore (\\hat{Y})^T = Y^T H\n",
        "$$\n",
        "\n",
        "$$\n",
        "\\hat{Y}^T \\hat{\\varepsilon} = Y^T H (I - H) Y\n",
        "$$\n",
        "\n",
        "$$\n",
        "\\text{From Part D, we know:} \\quad H (I_n - H) = O_n\n",
        "$$\n",
        "\n",
        "$$\n",
        "\\therefore \\hat{Y}^T \\hat{\\varepsilon} = Y^T O_n Y\n",
        "$$\n",
        "\n",
        "$$\n",
        "\\hat{Y}^T \\hat{\\varepsilon} = 0\n",
        "$$\n",
        "\n",
        "$$\n",
        "\\textbf{Hence proved.}\n",
        "$$\n"
      ]
    },
    {
      "cell_type": "markdown",
      "id": "f712f8da-9f21-4b3f-a5d3-804f1aa910f1",
      "metadata": {
        "id": "f712f8da-9f21-4b3f-a5d3-804f1aa910f1"
      },
      "source": [
        "**PART F:** Why is this result important in the practical use of linear regression?"
      ]
    },
    {
      "cell_type": "markdown",
      "id": "4395188a-3c39-46e0-823f-3a010b6da779",
      "metadata": {
        "id": "4395188a-3c39-46e0-823f-3a010b6da779"
      },
      "source": [
        "- The residuals are uncorrelated with the fitted values, so the Ordinary least square estimates will be remained unbiased which leads to the accurate interpretation of coefficients (orthogonal represents there is no relationship between feature and the response).\n",
        "- The decomposition of SST = SSR + SSE is true only if it is orthogonal which makes the $R^2$ estimate a goodness of fit measure (model very well explains the variability in Y).\n",
        "- The residuals and the fitted values orthogonal also shows that the model minimized error and the coefficients are accurate for the fitted line."
      ]
    },
    {
      "cell_type": "markdown",
      "id": "30c6e901-fe60-495d-a043-a063a6402955",
      "metadata": {
        "id": "30c6e901-fe60-495d-a043-a063a6402955"
      },
      "source": [
        "---\n",
        "\n",
        "\n",
        "### Problem 2 - Polynomial Regression via Multiple Linear Regression (50 points)"
      ]
    },
    {
      "cell_type": "markdown",
      "id": "3b9d047d-b560-4ee3-a5e1-4bed74409fb3",
      "metadata": {
        "id": "3b9d047d-b560-4ee3-a5e1-4bed74409fb3"
      },
      "source": [
        "It's not too difficult to believe that some relationships between features and the response are nonlinear. Consider the following example, where the single feature $x$ and the response $y$ have a quadratic relationship of the form\n",
        "\n",
        "$$\n",
        "Y = \\frac{1}{4} - X + X^2 + \\epsilon\n",
        "$$\n",
        "\n",
        "**Part A:** Write code that samples $n=30$ data points from the true model, fits the SLR model, and plots it against the data. It should be clear from both the picture and the $R^2$-value that the SLR model is a very poor fit of the data."
      ]
    },
    {
      "cell_type": "code",
      "execution_count": 16,
      "id": "83683e29-1880-4e34-af0f-d558e5ac757e",
      "metadata": {
        "colab": {
          "base_uri": "https://localhost:8080/",
          "height": 766
        },
        "id": "83683e29-1880-4e34-af0f-d558e5ac757e",
        "outputId": "b82165e2-2a8e-436e-c189-a306619fda28"
      },
      "outputs": [
        {
          "output_type": "display_data",
          "data": {
            "text/plain": [
              "\n",
              "Call:\n",
              "lm(formula = y ~ x)\n",
              "\n",
              "Residuals:\n",
              "    Min      1Q  Median      3Q     Max \n",
              "-3.3581 -1.1249 -0.3869  1.7150  2.9794 \n",
              "\n",
              "Coefficients:\n",
              "            Estimate Std. Error t value Pr(>|t|)    \n",
              "(Intercept)   1.9430     0.3176   6.118 1.33e-06 ***\n",
              "x            -0.9020     0.2660  -3.391  0.00209 ** \n",
              "---\n",
              "Signif. codes:  0 ‘***’ 0.001 ‘**’ 0.01 ‘*’ 0.05 ‘.’ 0.1 ‘ ’ 1\n",
              "\n",
              "Residual standard error: 1.739 on 28 degrees of freedom\n",
              "Multiple R-squared:  0.2911,\tAdjusted R-squared:  0.2658 \n",
              "F-statistic:  11.5 on 1 and 28 DF,  p-value: 0.002091\n"
            ]
          },
          "metadata": {}
        },
        {
          "output_type": "display_data",
          "data": {
            "text/plain": [
              "Plot with title “SLR Model Fitted on Quadratic Data”"
            ],
            "image/png": "[encoded data removed]"
          },
          "metadata": {
            "image/png": {
              "width": 420,
              "height": 420
            }
          }
        }
      ],
      "source": [
        "set.seed(16)\n",
        "n = 30\n",
        "x = seq(-2, 2, length.out = n)\n",
        "e = rnorm(n)\n",
        "\n",
        "y = (1/4) - x + x^2 + e\n",
        "slr_model = lm(y ~ x)\n",
        "summary(slr_model)\n",
        "\n",
        "plot(x, y, main = \"SLR Model Fitted on Quadratic Data\",\n",
        "     xlab = \"X\", ylab = \"Y\", col = \"blue\", pch = 16)\n",
        "abline(slr_model, col = \"red\", lwd = 2)"
      ]
    },
    {
      "cell_type": "markdown",
      "id": "a9f39047-f237-40f6-9dc9-a6ea622af60a",
      "metadata": {
        "id": "a9f39047-f237-40f6-9dc9-a6ea622af60a"
      },
      "source": [
        "**Part B**: We can fit a **polynomial** model to the single-feature data be thinking of the polynomial features as features in a multiple linear regression model.  If we make the association  \n",
        "\n",
        "$$\n",
        "x_1 = x \\quad \\textrm{and} \\quad x_2 = x^2\n",
        "$$\n",
        "\n",
        "then we can fit a multiple linear regression of the form\n",
        "\n",
        "$$\n",
        "\\hat{y} = \\hat{\\beta}_0 + \\hat{\\beta}_1 x_1 + \\hat{\\beta}_2 x_2\n",
        "$$\n",
        "\n",
        "Fit this model and print the regression coefficients to the screen."
      ]
    },
    {
      "cell_type": "code",
      "execution_count": 17,
      "id": "b7ed5dc7-922e-47df-a754-5147d8aea833",
      "metadata": {
        "colab": {
          "base_uri": "https://localhost:8080/",
          "height": 418
        },
        "id": "b7ed5dc7-922e-47df-a754-5147d8aea833",
        "outputId": "d9c830e8-1b69-440e-b2a6-d2dc9956e4f5"
      },
      "outputs": [
        {
          "output_type": "display_data",
          "data": {
            "text/plain": [
              "   Min. 1st Qu.  Median    Mean 3rd Qu.    Max. \n",
              "-0.9020 -0.2513  0.3994  0.1935  0.7412  1.0830 "
            ]
          },
          "metadata": {}
        },
        {
          "output_type": "display_data",
          "data": {
            "text/plain": [
              "\n",
              "Call:\n",
              "lm(formula = y ~ x1 + x2)\n",
              "\n",
              "Residuals:\n",
              "    Min      1Q  Median      3Q     Max \n",
              "-1.9193 -0.6285  0.2057  0.7964  1.7267 \n",
              "\n",
              "Coefficients:\n",
              "            Estimate Std. Error t value Pr(>|t|)    \n",
              "(Intercept)   0.3994     0.2778   1.438    0.162    \n",
              "x1           -0.9020     0.1550  -5.821 3.40e-06 ***\n",
              "x2            1.0830     0.1454   7.450 5.15e-08 ***\n",
              "---\n",
              "Signif. codes:  0 ‘***’ 0.001 ‘**’ 0.01 ‘*’ 0.05 ‘.’ 0.1 ‘ ’ 1\n",
              "\n",
              "Residual standard error: 1.013 on 27 degrees of freedom\n",
              "Multiple R-squared:  0.768,\tAdjusted R-squared:  0.7508 \n",
              "F-statistic: 44.69 on 2 and 27 DF,  p-value: 2.714e-09\n"
            ]
          },
          "metadata": {}
        },
        {
          "output_type": "display_data",
          "data": {
            "text/html": [
              "<style>\n",
              ".dl-inline {width: auto; margin:0; padding: 0}\n",
              ".dl-inline>dt, .dl-inline>dd {float: none; width: auto; display: inline-block}\n",
              ".dl-inline>dt::after {content: \":\\0020\"; padding-right: .5ex}\n",
              ".dl-inline>dt:not(:first-of-type) {padding-left: .5ex}\n",
              "</style><dl class=dl-inline><dt>(Intercept)</dt><dd>0.399354903083031</dd><dt>x1</dt><dd>-0.902022546968271</dd><dt>x2</dt><dd>1.083020511279</dd></dl>\n"
            ],
            "text/markdown": "(Intercept)\n:   0.399354903083031x1\n:   -0.902022546968271x2\n:   1.083020511279\n\n",
            "text/latex": "\\begin{description*}\n\\item[(Intercept)] 0.399354903083031\n\\item[x1] -0.902022546968271\n\\item[x2] 1.083020511279\n\\end{description*}\n",
            "text/plain": [
              "(Intercept)          x1          x2 \n",
              "  0.3993549  -0.9020225   1.0830205 "
            ]
          },
          "metadata": {}
        }
      ],
      "source": [
        "x1 = x\n",
        "x2 = x^2\n",
        "poly_model_mlr = lm(y~x1+x2)\n",
        "summary(poly_model_mlr$coefficients)\n",
        "summary(poly_model_mlr)\n",
        "coef_poly_model = coef(poly_model_mlr)\n",
        "coef_poly_model"
      ]
    },
    {
      "cell_type": "markdown",
      "id": "e56093c2-1011-4e52-ae29-6f2f1393f959",
      "metadata": {
        "id": "e56093c2-1011-4e52-ae29-6f2f1393f959"
      },
      "source": [
        "**Part C**: Write down the estimated MLR model in terms of the features $x_1$ and $x_2$ as well as the interpretation of the associated polynomial model in terms of the single feature $x$. Does this model seem close to the true model that the data was generated from?  "
      ]
    },
    {
      "cell_type": "markdown",
      "id": "c6203899-f0ed-43a5-a612-855ac7fe326b",
      "metadata": {
        "id": "c6203899-f0ed-43a5-a612-855ac7fe326b"
      },
      "source": [
        "$$\\text{True Model}$$\n",
        "$$ Y = 1/4 - X+ X^2 + ϵ $$\n",
        "$$\\text{Estimated Multiple Linear Regression model}$$\n",
        "$$ \\hat{y}  = 0.399 - 0.902x + 1.083 x^2 $$\n",
        "\n",
        "\n",
        "Yes, the estimated multiple linear regression model is close to the true model the data was generated from because the $\\hat{\\beta_1}$ is negative in both of the models, $\\hat{\\beta_2}$ is positive in both the cases while there is a minor difference in numbers (1 vs 0.902) in $\\hat{\\beta_1}$ and (1 vs 1.083) in $\\hat{\\beta_2}$. And the intercept $\\hat{\\beta_0}$ is positive in both of these cases although a small difference in value (0.25 vs 0.39). This MLR model is better than the SLR model."
      ]
    },
    {
      "cell_type": "markdown",
      "id": "bbc7308b-a478-4625-8e0c-f82bfe6ee935",
      "metadata": {
        "id": "bbc7308b-a478-4625-8e0c-f82bfe6ee935"
      },
      "source": [
        "**Part D**: Plot the obtained polynomial regression model against the data.  Comment on the fit."
      ]
    },
    {
      "cell_type": "code",
      "execution_count": 18,
      "id": "c0c8e9fb-09e9-4924-9d65-8a32e5158e81",
      "metadata": {
        "id": "c0c8e9fb-09e9-4924-9d65-8a32e5158e81",
        "colab": {
          "base_uri": "https://localhost:8080/",
          "height": 437
        },
        "outputId": "bc02128e-bc5c-4325-b6f9-f96c9baa3a6c"
      },
      "outputs": [
        {
          "output_type": "display_data",
          "data": {
            "text/plain": [
              "Plot with title “Polynomial Regression Fit”"
            ],
            "image/png": "[encoded data removed]"
          },
          "metadata": {
            "image/png": {
              "width": 420,
              "height": 420
            }
          }
        }
      ],
      "source": [
        "plot(x, y, pch = 16, col = \"blue\", main = \"Polynomial Regression Fit\")\n",
        "x_smooth = seq(min(x), max(x), length.out = 100)\n",
        "y_pred = coef_poly_model[1] + coef_poly_model[2] * x_smooth + coef_poly_model[3] * x_smooth^2\n",
        "lines(x_smooth, y_pred, col = \"red\", lwd = 2)"
      ]
    },
    {
      "cell_type": "markdown",
      "id": "8637cdf2-cbe9-414f-9ee9-b1b0973d0830",
      "metadata": {
        "id": "8637cdf2-cbe9-414f-9ee9-b1b0973d0830"
      },
      "source": [
        "- Here the polynomial ultiple linear regression model follows a U shaped curve.\n",
        "- This curve captured the data points very well compared to the Simple linear regression line.\n",
        "- The R squared score improved from 0.3 to 0.7 with this polynomial MLR model.\n",
        "- This curve still has some residual variability does the model does not fully capture, since some of the points deviate significantly from the curve."
      ]
    },
    {
      "cell_type": "code",
      "source": [],
      "metadata": {
        "id": "5Pp8xdxg0wuO"
      },
      "id": "5Pp8xdxg0wuO",
      "execution_count": null,
      "outputs": []
    }
  ],
  "metadata": {
    "kernelspec": {
      "display_name": "R",
      "name": "ir"
    },
    "language_info": {
      "name": "R"
    },
    "colab": {
      "provenance": []
    }
  },
  "nbformat": 4,
  "nbformat_minor": 5
}
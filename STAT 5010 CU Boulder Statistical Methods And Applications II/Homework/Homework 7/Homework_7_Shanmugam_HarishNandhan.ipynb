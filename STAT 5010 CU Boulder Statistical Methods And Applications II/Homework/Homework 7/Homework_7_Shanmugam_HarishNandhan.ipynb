{
 "cells": [
  {
   "cell_type": "markdown",
   "metadata": {
    "id": "VmqUxL101Jfz",
    "nbgrader": {
     "grade": false,
     "grade_id": "cell-6badffe8a7575b37",
     "locked": true,
     "schema_version": 3,
     "solution": false,
     "task": false
    }
   },
   "source": [
    "# Homework 7\n",
    "***\n",
    "\n",
    "**Name**: HARISH NANDHAN SHANMUGAM\n",
    "\n",
    "***\n",
    "\n",
    "This assignment is due on Gradescope by **Friday April 11 at 5:00PM**. If you submit the assignment  by this deadline, you will receive 2 bonus points. If you need a little extra time, you may submit your work by **Monday April 14 at 5:00PM**. Your solutions to theoretical questions should be done in Markdown directly below the associated question.  Your solutions to computational questions should include any specified R code and results as well as written commentary on your conclusions.  Remember that you are encouraged to discuss the problems with your classmates, but **you must write all code and solutions on your own**.\n",
    "\n",
    "**NOTES**:\n",
    "\n",
    "- There are 3 total questions on this assignment.\n",
    "- If you're not familiar with typesetting math directly into Markdown then by all means, do your work on paper first and then typeset it later.  Remember that there is a [reference guide](https://math.meta.stackexchange.com/questions/5020/mathjax-basic-tutorial-and-quick-reference) linked here. **All** of your written commentary, justifications and mathematical work should be in Markdown.\n",
    "- Because you can technically evaluate notebook cells in a non-linear order, it's a good idea to do Kernel $\\rightarrow$ Restart & Run All as a check before submitting your solutions.  That way if we need to run your code you will know that it will work as expected.\n",
    "- It is **bad form** to make your reader interpret numerical output from your code.  If a question asks you to compute some value from the data you should show your code output **AND** write a summary of the results in Markdown directly below your code.\n",
    "- This probably goes without saying, but... For any question that asks you to calculate something, you **must show all work and justify your answers to receive credit**. Sparse or nonexistent work will receive sparse or nonexistent credit.\n",
    "\n",
    "\n",
    "\n",
    "---"
   ]
  },
  {
   "cell_type": "markdown",
   "metadata": {
    "id": "o548udsq1Jf1",
    "nbgrader": {
     "grade": false,
     "grade_id": "cell-57cea8644cfbd927",
     "locked": true,
     "schema_version": 3,
     "solution": false,
     "task": false
    }
   },
   "source": [
    "### Problem 1"
   ]
  },
  {
   "cell_type": "markdown",
   "metadata": {
    "id": "QgZgGQe11Jf1",
    "nbgrader": {
     "grade": false,
     "grade_id": "cell-3865ef5dd259e8fc",
     "locked": true,
     "schema_version": 3,
     "solution": false,
     "task": false
    }
   },
   "source": [
    "Let $Y_1,...,Y_n \\overset{i}{\\sim} Poisson(\\lambda_i)$. Show that, if $\\eta_i = \\beta_0$, then the maximum likelihood estimator of $\\lambda_i$ is $\\widehat\\lambda_i = \\bar{Y}$, for all $i=1,...,n$."
   ]
  },
  {
   "cell_type": "markdown",
   "metadata": {
    "id": "fIOMxBFYE8bG"
   },
   "source": [
    "$$\n",
    "\\text{Given,} \\quad Y_1, \\ldots, Y_n \\overset{i.i.d.}{\\sim} \\text{Poisson}(\\lambda_i)\n",
    "$$\n",
    "\n",
    "$$\n",
    "\\text{As} \\quad \\eta_i = \\beta_0, \\quad \\lambda_i = e^{\\eta_i} = e^{\\beta_0} \\quad \\text{for all } i\n",
    "$$\n",
    "\n",
    "$$\n",
    "\\text{Thus,} \\quad \\lambda_1 = \\lambda_2 = \\lambda_3 = \\cdots = \\lambda_n = \\lambda\n",
    "$$\n",
    "\n",
    "$$\n",
    "\\text{The joint likelihood function for } Y_1, \\ldots, Y_n \\text{ is:}\n",
    "$$\n",
    "\n",
    "$$\n",
    "L(\\lambda) = \\prod_{i=1}^n \\frac{e^{-\\lambda} \\lambda^{y_i}}{y_i!}\n",
    "$$\n",
    "\n",
    "$$\n",
    "= e^{-n\\lambda} \\lambda^{\\sum_{i=1}^n y_i} \\prod_{i=1}^n \\frac{1}{y_i!}\n",
    "$$\n",
    "\n",
    "$$\n",
    "\\text{Log-likelihood function:}\n",
    "$$\n",
    "\n",
    "$$\n",
    "l(\\lambda) = -n\\lambda + \\left( \\sum_{i=1}^n y_i \\right) \\log \\lambda - \\sum_{i=1}^n \\log (y_i!)\n",
    "$$\n",
    "\n",
    "$$\n",
    "\\text{Diff. wrt } \\lambda \\text{ find the MLE:}\n",
    "$$\n",
    "\n",
    "$$\n",
    "\\frac{d l(\\lambda)}{d\\lambda} = -n + \\frac{1}{\\lambda} \\sum_{i=1}^n y_i\n",
    "$$\n",
    "\n",
    "$$\n",
    "\\text{Equating to zero:}\n",
    "$$\n",
    "\n",
    "$$\n",
    "-n + \\frac{1}{\\lambda} \\sum_{i=1}^n y_i = 0\n",
    "$$\n",
    "\n",
    "$$\n",
    "\\sum_{i=1}^n y_i = \\lambda n\n",
    "$$\n",
    "\n",
    "$$\n",
    "\\lambda = \\frac{1}{n} \\sum_{i=1}^n y_i\n",
    "$$\n",
    "\n",
    "$$\n",
    "\\text{MLE, }\n",
    "\\hat \\lambda = \\bar{Y}\n",
    "$$\n",
    "\n",
    "$$\n",
    "\\text{We know that, for all } i, \\quad \\lambda_i = \\lambda\n",
    "$$\n",
    "\n",
    "$$\n",
    "\\text{Hence, } \\hat \\lambda_i = \\bar{Y}\n",
    "$$\n"
   ]
  },
  {
   "cell_type": "markdown",
   "metadata": {
    "id": "P_KCHoaU1Ben",
    "nbgrader": {
     "grade": false,
     "grade_id": "cell-700dce1c8e38444e",
     "locked": true,
     "schema_version": 3,
     "solution": false,
     "task": false
    }
   },
   "source": [
    "---\n",
    "### Problem 2 - Generalized Linear Models: Logistic Regression\n",
    "\n",
    "The National Institute of Diabetes and Digestive and Kidney Diseases conducted a study of 768 adult female Pima Indians living near Phoenix, AZ. The purpose of the study was the investigate factors related to diabetes.\n",
    "\n",
    "*Before we analyze these data, we should note that some have raised ethical issues with its collection and popularity in the statistics and data science community. We should think seriously about these concerns. For example, Maya Iskandarani wrote a brief [piece](https://researchblog.duke.edu/2016/10/24/diabetes-and-privacy-meet-big-data/) on consent and privacy concerns raised by this dataset. After you familarize yourself with the data, we'll then turn to these ethical concerns.*\n",
    "\n",
    "\n",
    "**PART A:** Perform simple graphical and numerical summaries of the data. Can you find any obvious irregularities in the data? If so, take appropriate steps to correct these problems. Hints given in cell comments below."
   ]
  },
  {
   "cell_type": "code",
   "execution_count": null,
   "metadata": {
    "colab": {
     "base_uri": "https://localhost:8080/",
     "height": 286
    },
    "id": "ykbnMcm81Ben",
    "nbgrader": {
     "grade": false,
     "grade_id": "cell-c08ab4146209bebc",
     "locked": true,
     "schema_version": 3,
     "solution": false,
     "task": false
    },
    "outputId": "3957e2d5-46f3-430f-cf2d-ac4a17f4b1db"
   },
   "outputs": [
    {
     "data": {
      "text/html": [
       "<table class=\"dataframe\">\n",
       "<caption>A data.frame: 6 × 9</caption>\n",
       "<thead>\n",
       "\t<tr><th></th><th scope=col>pregnant</th><th scope=col>glucose</th><th scope=col>diastolic</th><th scope=col>triceps</th><th scope=col>insulin</th><th scope=col>bmi</th><th scope=col>diabetes</th><th scope=col>age</th><th scope=col>test</th></tr>\n",
       "\t<tr><th></th><th scope=col>&lt;dbl&gt;</th><th scope=col>&lt;dbl&gt;</th><th scope=col>&lt;dbl&gt;</th><th scope=col>&lt;dbl&gt;</th><th scope=col>&lt;dbl&gt;</th><th scope=col>&lt;dbl&gt;</th><th scope=col>&lt;dbl&gt;</th><th scope=col>&lt;dbl&gt;</th><th scope=col>&lt;dbl&gt;</th></tr>\n",
       "</thead>\n",
       "<tbody>\n",
       "\t<tr><th scope=row>1</th><td>6</td><td>148</td><td>72</td><td>35</td><td>  0</td><td>33.6</td><td>0.627</td><td>50</td><td>1</td></tr>\n",
       "\t<tr><th scope=row>2</th><td>1</td><td> 85</td><td>66</td><td>29</td><td>  0</td><td>26.6</td><td>0.351</td><td>31</td><td>0</td></tr>\n",
       "\t<tr><th scope=row>3</th><td>8</td><td>183</td><td>64</td><td> 0</td><td>  0</td><td>23.3</td><td>0.672</td><td>32</td><td>1</td></tr>\n",
       "\t<tr><th scope=row>4</th><td>1</td><td> 89</td><td>66</td><td>23</td><td> 94</td><td>28.1</td><td>0.167</td><td>21</td><td>0</td></tr>\n",
       "\t<tr><th scope=row>5</th><td>0</td><td>137</td><td>40</td><td>35</td><td>168</td><td>43.1</td><td>2.288</td><td>33</td><td>1</td></tr>\n",
       "\t<tr><th scope=row>6</th><td>5</td><td>116</td><td>74</td><td> 0</td><td>  0</td><td>25.6</td><td>0.201</td><td>30</td><td>0</td></tr>\n",
       "</tbody>\n",
       "</table>\n"
      ],
      "text/latex": [
       "A data.frame: 6 × 9\n",
       "\\begin{tabular}{r|lllllllll}\n",
       "  & pregnant & glucose & diastolic & triceps & insulin & bmi & diabetes & age & test\\\\\n",
       "  & <dbl> & <dbl> & <dbl> & <dbl> & <dbl> & <dbl> & <dbl> & <dbl> & <dbl>\\\\\n",
       "\\hline\n",
       "\t1 & 6 & 148 & 72 & 35 &   0 & 33.6 & 0.627 & 50 & 1\\\\\n",
       "\t2 & 1 &  85 & 66 & 29 &   0 & 26.6 & 0.351 & 31 & 0\\\\\n",
       "\t3 & 8 & 183 & 64 &  0 &   0 & 23.3 & 0.672 & 32 & 1\\\\\n",
       "\t4 & 1 &  89 & 66 & 23 &  94 & 28.1 & 0.167 & 21 & 0\\\\\n",
       "\t5 & 0 & 137 & 40 & 35 & 168 & 43.1 & 2.288 & 33 & 1\\\\\n",
       "\t6 & 5 & 116 & 74 &  0 &   0 & 25.6 & 0.201 & 30 & 0\\\\\n",
       "\\end{tabular}\n"
      ],
      "text/markdown": [
       "\n",
       "A data.frame: 6 × 9\n",
       "\n",
       "| <!--/--> | pregnant &lt;dbl&gt; | glucose &lt;dbl&gt; | diastolic &lt;dbl&gt; | triceps &lt;dbl&gt; | insulin &lt;dbl&gt; | bmi &lt;dbl&gt; | diabetes &lt;dbl&gt; | age &lt;dbl&gt; | test &lt;dbl&gt; |\n",
       "|---|---|---|---|---|---|---|---|---|---|\n",
       "| 1 | 6 | 148 | 72 | 35 |   0 | 33.6 | 0.627 | 50 | 1 |\n",
       "| 2 | 1 |  85 | 66 | 29 |   0 | 26.6 | 0.351 | 31 | 0 |\n",
       "| 3 | 8 | 183 | 64 |  0 |   0 | 23.3 | 0.672 | 32 | 1 |\n",
       "| 4 | 1 |  89 | 66 | 23 |  94 | 28.1 | 0.167 | 21 | 0 |\n",
       "| 5 | 0 | 137 | 40 | 35 | 168 | 43.1 | 2.288 | 33 | 1 |\n",
       "| 6 | 5 | 116 | 74 |  0 |   0 | 25.6 | 0.201 | 30 | 0 |\n",
       "\n"
      ],
      "text/plain": [
       "  pregnant glucose diastolic triceps insulin bmi  diabetes age test\n",
       "1 6        148     72        35        0     33.6 0.627    50  1   \n",
       "2 1         85     66        29        0     26.6 0.351    31  0   \n",
       "3 8        183     64         0        0     23.3 0.672    32  1   \n",
       "4 1         89     66        23       94     28.1 0.167    21  0   \n",
       "5 0        137     40        35      168     43.1 2.288    33  1   \n",
       "6 5        116     74         0        0     25.6 0.201    30  0   "
      ]
     },
     "metadata": {},
     "output_type": "display_data"
    }
   ],
   "source": [
    "library(ggplot2)\n",
    "library(dplyr)\n",
    "#Here's a description of the data: https://rdrr.io/cran/faraway/man/pima.html\n",
    "pima = read.csv(\"pima.csv\")\n",
    "head(pima)"
   ]
  },
  {
   "cell_type": "code",
   "execution_count": null,
   "metadata": {
    "colab": {
     "base_uri": "https://localhost:8080/",
     "height": 1000
    },
    "id": "7BoByNfd1Beo",
    "nbgrader": {
     "grade": true,
     "grade_id": "cell-b0e21d68d24ee9c7",
     "locked": false,
     "points": 5,
     "schema_version": 3,
     "solution": true,
     "task": false
    },
    "outputId": "59969cca-0eb9-4804-ddcd-60f876ddb09f"
   },
   "outputs": [
    {
     "data": {
      "text/html": [
       "FALSE"
      ],
      "text/latex": [
       "FALSE"
      ],
      "text/markdown": [
       "FALSE"
      ],
      "text/plain": [
       "[1] FALSE"
      ]
     },
     "metadata": {},
     "output_type": "display_data"
    },
    {
     "data": {
      "image/png": "[encoded data removed]",
      "text/plain": [
       "Plot with title “Glucose”"
      ]
     },
     "metadata": {
      "image/png": {
       "height": 420,
       "width": 420
      }
     },
     "output_type": "display_data"
    },
    {
     "data": {
      "image/png": "[encoded data removed]",
      "text/plain": [
       "Plot with title “Diastolic BP”"
      ]
     },
     "metadata": {
      "image/png": {
       "height": 420,
       "width": 420
      }
     },
     "output_type": "display_data"
    },
    {
     "data": {
      "image/png": "[encoded data removed]",
      "text/plain": [
       "Plot with title “Triceps Skinfold”"
      ]
     },
     "metadata": {
      "image/png": {
       "height": 420,
       "width": 420
      }
     },
     "output_type": "display_data"
    },
    {
     "data": {
      "image/png": "[encoded data removed]",
      "text/plain": [
       "Plot with title “Insulin”"
      ]
     },
     "metadata": {
      "image/png": {
       "height": 420,
       "width": 420
      }
     },
     "output_type": "display_data"
    },
    {
     "data": {
      "text/plain": [
       "    pregnant         glucose        diastolic         triceps     \n",
       " Min.   : 0.000   Min.   : 44.0   Min.   : 24.00   Min.   : 7.00  \n",
       " 1st Qu.: 1.000   1st Qu.: 99.0   1st Qu.: 64.00   1st Qu.:22.00  \n",
       " Median : 3.000   Median :117.0   Median : 72.00   Median :29.00  \n",
       " Mean   : 3.845   Mean   :121.7   Mean   : 72.41   Mean   :29.15  \n",
       " 3rd Qu.: 6.000   3rd Qu.:141.0   3rd Qu.: 80.00   3rd Qu.:36.00  \n",
       " Max.   :17.000   Max.   :199.0   Max.   :122.00   Max.   :99.00  \n",
       "                  NA's   :5       NA's   :35       NA's   :227    \n",
       "    insulin            bmi           diabetes           age       \n",
       " Min.   : 14.00   Min.   :18.20   Min.   :0.0780   Min.   :21.00  \n",
       " 1st Qu.: 76.25   1st Qu.:27.50   1st Qu.:0.2437   1st Qu.:24.00  \n",
       " Median :125.00   Median :32.30   Median :0.3725   Median :29.00  \n",
       " Mean   :155.55   Mean   :32.46   Mean   :0.4719   Mean   :33.24  \n",
       " 3rd Qu.:190.00   3rd Qu.:36.60   3rd Qu.:0.6262   3rd Qu.:41.00  \n",
       " Max.   :846.00   Max.   :67.10   Max.   :2.4200   Max.   :81.00  \n",
       " NA's   :374      NA's   :11                                      \n",
       "      test      \n",
       " Min.   :0.000  \n",
       " 1st Qu.:0.000  \n",
       " Median :0.000  \n",
       " Mean   :0.349  \n",
       " 3rd Qu.:1.000  \n",
       " Max.   :1.000  \n",
       "                "
      ]
     },
     "metadata": {},
     "output_type": "display_data"
    },
    {
     "data": {
      "image/png": "[encoded data removed]",
      "text/plain": [
       "Plot with title “BMI”"
      ]
     },
     "metadata": {
      "image/png": {
       "height": 420,
       "width": 420
      }
     },
     "output_type": "display_data"
    }
   ],
   "source": [
    "# check to see if there are missing values\n",
    "any(is.na(pima))\n",
    "# note how the histograms show weirdness -- glucose, diastolic, triceps,\n",
    "# BMI, and insulin should never be zero\n",
    "hist(pima$glucose, main = \"Glucose\", xlab = \"Glucose\")\n",
    "hist(pima$diastolic, main = \"Diastolic BP\", xlab = \"Diastolic\")\n",
    "hist(pima$triceps, main = \"Triceps Skinfold\", xlab = \"Triceps\")\n",
    "hist(pima$insulin, main = \"Insulin\", xlab = \"Insulin\")\n",
    "hist(pima$bmi, main = \"BMI\", xlab = \"BMI\")\n",
    "# recode zeros to NAs for values that can't be zero\n",
    "recode_cols <- c(\"glucose\", \"diastolic\", \"triceps\", \"insulin\", \"bmi\")\n",
    "pima[recode_cols] <- lapply(pima[recode_cols], function(x) ifelse(x == 0, NA, x))\n",
    "\n",
    "# Print the summary of the edited data frame to verify that you have made the change\n",
    "# above.\n",
    "summary(pima)"
   ]
  },
  {
   "cell_type": "markdown",
   "metadata": {
    "id": "ggUrTToe1Beo",
    "nbgrader": {
     "grade": true,
     "grade_id": "cell-4b89a5a446e4657c",
     "locked": false,
     "points": 3,
     "schema_version": 3,
     "solution": true,
     "task": false
    }
   },
   "source": [
    "- There are some obvious irregularities in data such as \"glucose\", \"diastolic\", \"triceps\",\"BMI\" and \"insulin\" has the zero values, but it should not be zero. So what I did is, Replaced all the zero values with \"NA\".\n",
    "- Then from the summary we can see that \"Glucose\",\"Diastolic\",\"Triceps\",\"BMI\" and \"Insulin\" which has the zero values are replaced by \"NA\".\n"
   ]
  },
  {
   "cell_type": "markdown",
   "metadata": {
    "id": "eXs_cKuL1Beo",
    "nbgrader": {
     "grade": false,
     "grade_id": "cell-febf7fcccb305c09",
     "locked": true,
     "schema_version": 3,
     "solution": false,
     "task": false
    }
   },
   "source": [
    "**PART B:** Fit a model with the result of the diabetes `test` as the response and all the other variables as predictors. Store this model as  `glmod_pima`."
   ]
  },
  {
   "cell_type": "code",
   "execution_count": null,
   "metadata": {
    "colab": {
     "base_uri": "https://localhost:8080/",
     "height": 491
    },
    "id": "_SRlKC1h1Beo",
    "nbgrader": {
     "grade": false,
     "grade_id": "cell-02f26ab7c793b0dc",
     "locked": false,
     "schema_version": 3,
     "solution": true,
     "task": false
    },
    "outputId": "b2dc6c1c-64f9-4d33-b96c-9485cdb37bd8"
   },
   "outputs": [
    {
     "data": {
      "text/plain": [
       "\n",
       "Call:\n",
       "glm(formula = test ~ ., family = binomial, data = pima)\n",
       "\n",
       "Coefficients:\n",
       "              Estimate Std. Error z value Pr(>|z|)    \n",
       "(Intercept) -1.004e+01  1.218e+00  -8.246  < 2e-16 ***\n",
       "pregnant     8.216e-02  5.543e-02   1.482  0.13825    \n",
       "glucose      3.827e-02  5.768e-03   6.635 3.24e-11 ***\n",
       "diastolic   -1.420e-03  1.183e-02  -0.120  0.90446    \n",
       "triceps      1.122e-02  1.708e-02   0.657  0.51128    \n",
       "insulin     -8.253e-04  1.306e-03  -0.632  0.52757    \n",
       "bmi          7.054e-02  2.734e-02   2.580  0.00989 ** \n",
       "diabetes     1.141e+00  4.274e-01   2.669  0.00760 ** \n",
       "age          3.395e-02  1.838e-02   1.847  0.06474 .  \n",
       "---\n",
       "Signif. codes:  0 ‘***’ 0.001 ‘**’ 0.01 ‘*’ 0.05 ‘.’ 0.1 ‘ ’ 1\n",
       "\n",
       "(Dispersion parameter for binomial family taken to be 1)\n",
       "\n",
       "    Null deviance: 498.10  on 391  degrees of freedom\n",
       "Residual deviance: 344.02  on 383  degrees of freedom\n",
       "  (376 observations deleted due to missingness)\n",
       "AIC: 362.02\n",
       "\n",
       "Number of Fisher Scoring iterations: 5\n"
      ]
     },
     "metadata": {},
     "output_type": "display_data"
    }
   ],
   "source": [
    "glmod_pima = glm(test~.,data=pima,family=binomial)\n",
    "summary(glmod_pima)"
   ]
  },
  {
   "cell_type": "markdown",
   "metadata": {
    "id": "MxP9vlrb1Bep",
    "nbgrader": {
     "grade": false,
     "grade_id": "cell-9bde328927be45ff",
     "locked": true,
     "schema_version": 3,
     "solution": false,
     "task": false
    }
   },
   "source": [
    "**PART C:** Using the model above, write R code to calculate the odds ratio of testing positive for diabetes for a woman with a BMI at the first quartile compared with a woman at the third quartile, assuming all other factors are held constant. Store your answer in a  variable `x`. Give an interpretation of this value."
   ]
  },
  {
   "cell_type": "markdown",
   "metadata": {
    "id": "MTvBx2ws8dHS",
    "nbgrader": {
     "grade": true,
     "grade_id": "cell-d12c39933da4adbf",
     "locked": false,
     "points": 0,
     "schema_version": 3,
     "solution": true,
     "task": false
    },
    "outputId": "31066294-5a34-48e6-864c-de7d723be726"
   },
   "source": [
    "$$e ^{\\beta_{bmi}*({Q3-Q1})}$$"
   ]
  },
  {
   "cell_type": "code",
   "execution_count": null,
   "metadata": {
    "colab": {
     "base_uri": "https://localhost:8080/",
     "height": 34
    },
    "id": "4ATdwYKY1Bep",
    "nbgrader": {
     "grade": false,
     "grade_id": "cell-efbd160ab61dfd45",
     "locked": false,
     "schema_version": 3,
     "solution": true,
     "task": false
    },
    "outputId": "11612d08-2e1d-4195-9b42-1a4cba014ef8"
   },
   "outputs": [
    {
     "data": {
      "text/html": [
       "<strong>bmi:</strong> 1.90007242086808"
      ],
      "text/latex": [
       "\\textbf{bmi:} 1.90007242086808"
      ],
      "text/markdown": [
       "**bmi:** 1.90007242086808"
      ],
      "text/plain": [
       "     bmi \n",
       "1.900072 "
      ]
     },
     "metadata": {},
     "output_type": "display_data"
    }
   ],
   "source": [
    "\n",
    "bmi_q1 = quantile(pima$bmi, 0.25, na.rm = TRUE)\n",
    "bmi_q3 = quantile(pima$bmi, 0.75, na.rm = TRUE)\n",
    "beta_bmi = coef(glmod_pima)[\"bmi\"]\n",
    "x = exp(beta_bmi * (bmi_q3 - bmi_q1))\n",
    "x\n",
    "\n"
   ]
  },
  {
   "cell_type": "markdown",
   "metadata": {
    "id": "W0uB36_L1Bep",
    "nbgrader": {
     "grade": true,
     "grade_id": "cell-343521d38c691896",
     "locked": false,
     "points": 5,
     "schema_version": 3,
     "solution": true,
     "task": false
    }
   },
   "source": [
    " The ODDs ratio of testing positive for diabetes for a woman with a BMI at the first quartile is 1.9x more compared with a woman who tested positive for diabetes with a BMI at the third quartile"
   ]
  },
  {
   "cell_type": "markdown",
   "metadata": {
    "id": "6b-uWww81Bep",
    "nbgrader": {
     "grade": false,
     "grade_id": "cell-bc97e532d418b0c0",
     "locked": true,
     "schema_version": 3,
     "solution": false,
     "task": false
    }
   },
   "source": [
    "**PART D:** <span style=\"color: #CFB87C;\">(STAT 5010 Students Only)</span>  Do women who test positive for diabetes have higher diastolic blood pressures? Is the diastolic blood pressure significant in the regression model? Explain the distinction between the two questions and discuss why the answers are only apparently contradictory."
   ]
  },
  {
   "cell_type": "code",
   "execution_count": null,
   "metadata": {
    "colab": {
     "base_uri": "https://localhost:8080/",
     "height": 161
    },
    "id": "2cvG-JH41Bep",
    "nbgrader": {
     "grade": true,
     "grade_id": "cell-423d4238ea6bcd99",
     "locked": false,
     "points": 5,
     "schema_version": 3,
     "solution": true,
     "task": false
    },
    "outputId": "3226d2bd-f0ba-4486-c55f-06ba0635e2b8"
   },
   "outputs": [
    {
     "data": {
      "text/html": [
       "<table class=\"dataframe\">\n",
       "<caption>A tibble: 2 × 2</caption>\n",
       "<thead>\n",
       "\t<tr><th scope=col>test</th><th scope=col>mean_diastolic</th></tr>\n",
       "\t<tr><th scope=col>&lt;dbl&gt;</th><th scope=col>&lt;dbl&gt;</th></tr>\n",
       "</thead>\n",
       "<tbody>\n",
       "\t<tr><td>0</td><td>70.87734</td></tr>\n",
       "\t<tr><td>1</td><td>75.32143</td></tr>\n",
       "</tbody>\n",
       "</table>\n"
      ],
      "text/latex": [
       "A tibble: 2 × 2\n",
       "\\begin{tabular}{ll}\n",
       " test & mean\\_diastolic\\\\\n",
       " <dbl> & <dbl>\\\\\n",
       "\\hline\n",
       "\t 0 & 70.87734\\\\\n",
       "\t 1 & 75.32143\\\\\n",
       "\\end{tabular}\n"
      ],
      "text/markdown": [
       "\n",
       "A tibble: 2 × 2\n",
       "\n",
       "| test &lt;dbl&gt; | mean_diastolic &lt;dbl&gt; |\n",
       "|---|---|\n",
       "| 0 | 70.87734 |\n",
       "| 1 | 75.32143 |\n",
       "\n"
      ],
      "text/plain": [
       "  test mean_diastolic\n",
       "1 0    70.87734      \n",
       "2 1    75.32143      "
      ]
     },
     "metadata": {},
     "output_type": "display_data"
    }
   ],
   "source": [
    "pima %>%\n",
    "  group_by(test) %>%\n",
    "  summarize(mean_diastolic = mean(diastolic, na.rm = TRUE))\n",
    "# confint(glmod_pima)"
   ]
  },
  {
   "cell_type": "markdown",
   "metadata": {
    "id": "_1uZdrX71Bep",
    "nbgrader": {
     "grade": true,
     "grade_id": "cell-e73733d0766fbfd1",
     "locked": false,
     "points": 5,
     "schema_version": 3,
     "solution": true,
     "task": false
    }
   },
   "source": [
    "It is true that the women tested positive for Diabetes have higher diastolic BP. From the model summary, we can also confirm that p value for diastolic blood pressure is 0.9 so that feature won't have a significant contribution for the regression model.\n",
    "\n",
    "The distinction b/w the two questions and why the answers are only apparently contradictory are:\n",
    "\n",
    "- in the first question it is a descriptive study, the diastolic blood pressure of women with diabetes and those without the disease is compared, and the raw group averages are examined without modifying the other factors.\n",
    "\n",
    "- in the question 2, When other indicators are present, it is inferential to determine if diastolic blood pressure can predict diabetes on its own.\n",
    "\n",
    "The answers looks contradictory since first one is Descriptive and second is Inferential.\n",
    "Hence, Although the diastolic blood pressure variable in this instance may indicate a group-level difference, it may not be significant in a multivariate setting."
   ]
  },
  {
   "cell_type": "markdown",
   "metadata": {
    "id": "jNsmLfrK1Bep",
    "nbgrader": {
     "grade": false,
     "grade_id": "cell-f02f6535ffce9aba",
     "locked": true,
     "schema_version": 3,
     "solution": false,
     "task": false
    }
   },
   "source": [
    "**PART E:** Ethical Issues in Data Collection\n",
    "\n",
    "Read Maya Iskandarani's [piece](https://researchblog.duke.edu/2016/10/24/diabetes-and-privacy-meet-big-data/) on consent and privacy concerns raised by this dataset. Summarize those concerns here. I'm expecting a few sentences or a paragraph or two."
   ]
  },
  {
   "cell_type": "markdown",
   "metadata": {
    "id": "GDbPZLsh1Bep",
    "nbgrader": {
     "grade": true,
     "grade_id": "cell-d2ca5f14109e9be9",
     "locked": false,
     "points": 7,
     "schema_version": 3,
     "solution": true,
     "task": false
    }
   },
   "source": [
    "- In \"Diabetes and Privacy Meet Big Data,\" Maya discusses important privacy and consent concerns related to the usage of the Pima Indians Diabetes dataset. Although this dataset is extensively utilized for statistics and machine learning, Maya warns that neither the Pima Indian community nor the medical experts who handled their data were aware of how medical data will be misused and made public for study and entertainment.\n",
    "\n",
    "- It is also important to observe that no consent is obtained for any secondary use.  Data is being used for algorithm and development testing, even though it was first suggested that it would only be gathered for health-related studies.  It's true that occasionally this occurs without the community's knowledge or approval, but this causes ethical concerns about respect for these Indigenous communities, data ownership, and the necessity of open data governance."
   ]
  },
  {
   "cell_type": "markdown",
   "metadata": {
    "id": "hzdZPkCaD-IE",
    "nbgrader": {
     "grade": false,
     "grade_id": "cell-810d18743d00ac70",
     "locked": true,
     "schema_version": 3,
     "solution": false,
     "task": false
    }
   },
   "source": [
    "---\n",
    "### Problem 3 - Poisson regression\n",
    "\n",
    "The ships dataset gives the number of damage incidents and aggregate months of service for different types of ships broken down by year of construction and period of operation.\n",
    "\n",
    "The code below splits the data into a training set (80% of the data) and a test set (the remaining 20%)."
   ]
  },
  {
   "cell_type": "code",
   "execution_count": null,
   "metadata": {
    "colab": {
     "base_uri": "https://localhost:8080/",
     "height": 578
    },
    "id": "Bcz4I47pD-IF",
    "outputId": "f7703e7b-abc3-4fe5-a799-2bfde697499b"
   },
   "outputs": [
    {
     "name": "stderr",
     "output_type": "stream",
     "text": [
      "\n",
      "Attaching package: ‘MASS’\n",
      "\n",
      "\n",
      "The following object is masked from ‘package:dplyr’:\n",
      "\n",
      "    select\n",
      "\n",
      "\n"
     ]
    },
    {
     "data": {
      "text/html": [
       "<table class=\"dataframe\">\n",
       "<caption>A data.frame: 6 × 5</caption>\n",
       "<thead>\n",
       "\t<tr><th></th><th scope=col>type</th><th scope=col>year</th><th scope=col>period</th><th scope=col>service</th><th scope=col>incidents</th></tr>\n",
       "\t<tr><th></th><th scope=col>&lt;fct&gt;</th><th scope=col>&lt;fct&gt;</th><th scope=col>&lt;fct&gt;</th><th scope=col>&lt;int&gt;</th><th scope=col>&lt;int&gt;</th></tr>\n",
       "</thead>\n",
       "<tbody>\n",
       "\t<tr><th scope=row>40</th><td>E</td><td>75</td><td>75</td><td> 542</td><td>1</td></tr>\n",
       "\t<tr><th scope=row>28</th><td>D</td><td>65</td><td>75</td><td> 192</td><td>0</td></tr>\n",
       "\t<tr><th scope=row>18</th><td>C</td><td>60</td><td>75</td><td> 552</td><td>1</td></tr>\n",
       "\t<tr><th scope=row>19</th><td>C</td><td>65</td><td>60</td><td> 781</td><td>0</td></tr>\n",
       "\t<tr><th scope=row>5</th><td>A</td><td>70</td><td>60</td><td>1512</td><td>6</td></tr>\n",
       "\t<tr><th scope=row>32</th><td>D</td><td>75</td><td>75</td><td>2051</td><td>4</td></tr>\n",
       "</tbody>\n",
       "</table>\n"
      ],
      "text/latex": [
       "A data.frame: 6 × 5\n",
       "\\begin{tabular}{r|lllll}\n",
       "  & type & year & period & service & incidents\\\\\n",
       "  & <fct> & <fct> & <fct> & <int> & <int>\\\\\n",
       "\\hline\n",
       "\t40 & E & 75 & 75 &  542 & 1\\\\\n",
       "\t28 & D & 65 & 75 &  192 & 0\\\\\n",
       "\t18 & C & 60 & 75 &  552 & 1\\\\\n",
       "\t19 & C & 65 & 60 &  781 & 0\\\\\n",
       "\t5 & A & 70 & 60 & 1512 & 6\\\\\n",
       "\t32 & D & 75 & 75 & 2051 & 4\\\\\n",
       "\\end{tabular}\n"
      ],
      "text/markdown": [
       "\n",
       "A data.frame: 6 × 5\n",
       "\n",
       "| <!--/--> | type &lt;fct&gt; | year &lt;fct&gt; | period &lt;fct&gt; | service &lt;int&gt; | incidents &lt;int&gt; |\n",
       "|---|---|---|---|---|---|\n",
       "| 40 | E | 75 | 75 |  542 | 1 |\n",
       "| 28 | D | 65 | 75 |  192 | 0 |\n",
       "| 18 | C | 60 | 75 |  552 | 1 |\n",
       "| 19 | C | 65 | 60 |  781 | 0 |\n",
       "| 5 | A | 70 | 60 | 1512 | 6 |\n",
       "| 32 | D | 75 | 75 | 2051 | 4 |\n",
       "\n"
      ],
      "text/plain": [
       "   type year period service incidents\n",
       "40 E    75   75      542    1        \n",
       "28 D    65   75      192    0        \n",
       "18 C    60   75      552    1        \n",
       "19 C    65   60      781    0        \n",
       "5  A    70   60     1512    6        \n",
       "32 D    75   75     2051    4        "
      ]
     },
     "metadata": {},
     "output_type": "display_data"
    },
    {
     "data": {
      "text/plain": [
       " type  year   period     service          incidents    \n",
       " A:5   60:7   60:11   Min.   :   45.0   Min.   : 0.00  \n",
       " B:5   65:8   75:16   1st Qu.:  318.5   1st Qu.: 0.50  \n",
       " C:6   70:8           Median : 1095.0   Median : 2.00  \n",
       " D:7   75:4           Mean   : 5012.2   Mean   :10.63  \n",
       " E:4                  3rd Qu.: 2202.5   3rd Qu.:11.50  \n",
       "                      Max.   :44882.0   Max.   :58.00  "
      ]
     },
     "metadata": {},
     "output_type": "display_data"
    }
   ],
   "source": [
    "library(MASS)\n",
    "data(ships)\n",
    "ships = ships[ships$service != 0,]\n",
    "ships$year = as.factor(ships$year)\n",
    "ships$period = as.factor(ships$period)\n",
    "\n",
    "set.seed(11)\n",
    "n = floor(0.8 * nrow(ships))\n",
    "index = sample(seq_len(nrow(ships)), size = n)\n",
    "\n",
    "train = ships[index, ]\n",
    "test = ships[-index, ]\n",
    "head(train)\n",
    "summary(train)"
   ]
  },
  {
   "cell_type": "markdown",
   "metadata": {
    "id": "KTBIQfkBD-IG",
    "nbgrader": {
     "grade": false,
     "grade_id": "cell-41a74d43aa7f30cb",
     "locked": true,
     "schema_version": 3,
     "solution": false,
     "task": false
    }
   },
   "source": [
    "**PART A:** Use the training set to develop an appropriate regression model for `incidents`, using `type`, `period`, and `year` as predictors (HINT: is this a count model or a rate model?). Calculate the mean squared prediction error (MSPE) for the test set. Display your results."
   ]
  },
  {
   "cell_type": "code",
   "execution_count": null,
   "metadata": {
    "colab": {
     "base_uri": "https://localhost:8080/",
     "height": 491
    },
    "id": "ftr9PSEDD-IH",
    "nbgrader": {
     "grade": true,
     "grade_id": "cell-7605e772d8c51783",
     "locked": false,
     "points": 8,
     "schema_version": 3,
     "solution": true,
     "task": false
    },
    "outputId": "df65913a-9aae-4937-8f58-54abbf2b571c"
   },
   "outputs": [
    {
     "data": {
      "text/plain": [
       "\n",
       "Call:\n",
       "glm(formula = incidents ~ type + period + year, family = poisson, \n",
       "    data = train)\n",
       "\n",
       "Coefficients:\n",
       "            Estimate Std. Error z value Pr(>|z|)    \n",
       "(Intercept)   1.5644     0.2199   7.113 1.13e-12 ***\n",
       "typeB         1.6795     0.1889   8.889  < 2e-16 ***\n",
       "typeC        -2.0789     0.4408  -4.717 2.40e-06 ***\n",
       "typeD        -1.1551     0.2930  -3.943 8.06e-05 ***\n",
       "typeE        -0.5113     0.2781  -1.839   0.0660 .  \n",
       "period75      0.4123     0.1282   3.216   0.0013 ** \n",
       "year65        0.4379     0.1885   2.324   0.0201 *  \n",
       "year70        0.2260     0.1916   1.180   0.2382    \n",
       "year75        0.1436     0.3147   0.456   0.6481    \n",
       "---\n",
       "Signif. codes:  0 ‘***’ 0.001 ‘**’ 0.01 ‘*’ 0.05 ‘.’ 0.1 ‘ ’ 1\n",
       "\n",
       "(Dispersion parameter for poisson family taken to be 1)\n",
       "\n",
       "    Null deviance: 554.70  on 26  degrees of freedom\n",
       "Residual deviance: 109.21  on 18  degrees of freedom\n",
       "AIC: 200.92\n",
       "\n",
       "Number of Fisher Scoring iterations: 6\n"
      ]
     },
     "metadata": {},
     "output_type": "display_data"
    }
   ],
   "source": [
    "glm_mod_pois = glm(incidents ~ type + period + year, data = train, family = poisson)\n",
    "summary(glm_mod_pois)\n"
   ]
  },
  {
   "cell_type": "code",
   "execution_count": null,
   "metadata": {
    "colab": {
     "base_uri": "https://localhost:8080/",
     "height": 34
    },
    "id": "uZQoT6An8EZ2",
    "outputId": "bd99f0a6-c883-4fea-b18d-978a276a06b0"
   },
   "outputs": [
    {
     "data": {
      "text/html": [
       "131.077556337427"
      ],
      "text/latex": [
       "131.077556337427"
      ],
      "text/markdown": [
       "131.077556337427"
      ],
      "text/plain": [
       "[1] 131.0776"
      ]
     },
     "metadata": {},
     "output_type": "display_data"
    }
   ],
   "source": [
    "pred = predict(glm_mod_pois,test, type = 'response')\n",
    "true_val = test$incidents\n",
    "\n",
    "MSPE = mean((true_val - pred)^2)\n",
    "MSPE"
   ]
  },
  {
   "cell_type": "markdown",
   "metadata": {
    "id": "AuL79NzAD-IK",
    "nbgrader": {
     "grade": true,
     "grade_id": "cell-0ab96006702bcb3f",
     "locked": false,
     "points": 2,
     "schema_version": 3,
     "solution": true,
     "task": false
    }
   },
   "source": [
    "Here the model fitting is done with  type, period, year and the family used here is 'poisson reg'. MSPE is used in checking the error with the testing set, to check how the model is performing with unseen data."
   ]
  },
  {
   "cell_type": "markdown",
   "metadata": {
    "id": "E3Ddh4NdD-IL",
    "nbgrader": {
     "grade": false,
     "grade_id": "cell-48f7ab52f9f6ec9c",
     "locked": true,
     "schema_version": 3,
     "solution": false,
     "task": false
    }
   },
   "source": [
    "**PART B:** Do we really need all of these predictors? Construct a new regression model leaving out `year` and calculate the MSPE for this second model. Decide which model is better. Explain why you chose the model that you did."
   ]
  },
  {
   "cell_type": "code",
   "execution_count": null,
   "metadata": {
    "colab": {
     "base_uri": "https://localhost:8080/",
     "height": 436
    },
    "id": "sR_ZZfhBD-IM",
    "nbgrader": {
     "grade": true,
     "grade_id": "cell-be77551d6db1cc6f",
     "locked": false,
     "points": 5,
     "schema_version": 3,
     "solution": true,
     "task": false
    },
    "outputId": "1c23860b-5b3f-48e5-8219-5687afacce6d"
   },
   "outputs": [
    {
     "data": {
      "text/plain": [
       "\n",
       "Call:\n",
       "glm(formula = incidents ~ type + period, family = poisson, data = train)\n",
       "\n",
       "Coefficients:\n",
       "            Estimate Std. Error z value Pr(>|z|)    \n",
       "(Intercept)   1.7190     0.1838   9.355  < 2e-16 ***\n",
       "typeB         1.7831     0.1781  10.014  < 2e-16 ***\n",
       "typeC        -2.0573     0.4394  -4.683 2.83e-06 ***\n",
       "typeD        -1.1281     0.2918  -3.866 0.000111 ***\n",
       "typeE        -0.4831     0.2767  -1.746 0.080787 .  \n",
       "period75      0.4723     0.1222   3.865 0.000111 ***\n",
       "---\n",
       "Signif. codes:  0 ‘***’ 0.001 ‘**’ 0.01 ‘*’ 0.05 ‘.’ 0.1 ‘ ’ 1\n",
       "\n",
       "(Dispersion parameter for poisson family taken to be 1)\n",
       "\n",
       "    Null deviance: 554.70  on 26  degrees of freedom\n",
       "Residual deviance: 115.63  on 21  degrees of freedom\n",
       "AIC: 201.34\n",
       "\n",
       "Number of Fisher Scoring iterations: 6\n"
      ]
     },
     "metadata": {},
     "output_type": "display_data"
    },
    {
     "data": {
      "text/html": [
       "275.122550627591"
      ],
      "text/latex": [
       "275.122550627591"
      ],
      "text/markdown": [
       "275.122550627591"
      ],
      "text/plain": [
       "[1] 275.1226"
      ]
     },
     "metadata": {},
     "output_type": "display_data"
    }
   ],
   "source": [
    "glm_mod_pois1 = glm(incidents ~ type + period, data = train, family = poisson)\n",
    "summary(glm_mod_pois1)\n",
    "pred = predict(glm_mod_pois1,test,type = 'response')\n",
    "true_val = test$incidents\n",
    "MSPE = mean((true_val - pred)^2)\n",
    "MSPE"
   ]
  },
  {
   "cell_type": "markdown",
   "metadata": {
    "id": "-culK-ncD-IN",
    "nbgrader": {
     "grade": true,
     "grade_id": "cell-4cf42e0c29ede417",
     "locked": false,
     "points": 2,
     "schema_version": 3,
     "solution": true,
     "task": false
    }
   },
   "source": [
    "- The model with three features type, period and year is better here because it has the low MSPE value. If we remove the 'year' feature then the MSPE goes from 131 to 275\n",
    "- Residual Deviance of second model is high compared to the first one which tells that some predictors even though when their individual contribution is not there but it will induce the prediction when combined with other features. So it's better to go with full model with the feature 'year'.\n",
    "\n"
   ]
  },
  {
   "cell_type": "markdown",
   "metadata": {
    "id": "POEJjWe6D-IN",
    "nbgrader": {
     "grade": false,
     "grade_id": "cell-bfefcd7ac3941bf6",
     "locked": true,
     "schema_version": 3,
     "solution": false,
     "task": false
    }
   },
   "source": [
    "**PART C:** Compute the AIC and BIC for both models. Which model is best according to these metrics? Does each select a different model?"
   ]
  },
  {
   "cell_type": "code",
   "execution_count": null,
   "metadata": {
    "colab": {
     "base_uri": "https://localhost:8080/",
     "height": 52
    },
    "id": "DU5Kt1PsD-IO",
    "nbgrader": {
     "grade": true,
     "grade_id": "cell-bc5dd9676164b52a",
     "locked": false,
     "points": 4,
     "schema_version": 3,
     "solution": true,
     "task": false
    },
    "outputId": "b97df521-1fbf-420a-a4d3-753206e3dc56"
   },
   "outputs": [
    {
     "data": {
      "text/html": [
       "200.919017144209"
      ],
      "text/latex": [
       "200.919017144209"
      ],
      "text/markdown": [
       "200.919017144209"
      ],
      "text/plain": [
       "[1] 200.919"
      ]
     },
     "metadata": {},
     "output_type": "display_data"
    },
    {
     "data": {
      "text/html": [
       "212.581548938248"
      ],
      "text/latex": [
       "212.581548938248"
      ],
      "text/markdown": [
       "212.581548938248"
      ],
      "text/plain": [
       "[1] 212.5815"
      ]
     },
     "metadata": {},
     "output_type": "display_data"
    }
   ],
   "source": [
    "AIC_pois = AIC(glm_mod_pois)\n",
    "BIC_pois = BIC(glm_mod_pois)\n",
    "\n",
    "AIC_pois\n",
    "BIC_pois"
   ]
  },
  {
   "cell_type": "code",
   "execution_count": null,
   "metadata": {
    "colab": {
     "base_uri": "https://localhost:8080/",
     "height": 52
    },
    "id": "xkViCzZ6-tH-",
    "outputId": "5c64e47c-4a3f-47fa-bdab-f054f7deed67"
   },
   "outputs": [
    {
     "data": {
      "text/html": [
       "201.337818267335"
      ],
      "text/latex": [
       "201.337818267335"
      ],
      "text/markdown": [
       "201.337818267335"
      ],
      "text/plain": [
       "[1] 201.3378"
      ]
     },
     "metadata": {},
     "output_type": "display_data"
    },
    {
     "data": {
      "text/html": [
       "209.112839463361"
      ],
      "text/latex": [
       "209.112839463361"
      ],
      "text/markdown": [
       "209.112839463361"
      ],
      "text/plain": [
       "[1] 209.1128"
      ]
     },
     "metadata": {},
     "output_type": "display_data"
    }
   ],
   "source": [
    "AIC_pois1 = AIC(glm_mod_pois1)\n",
    "BIC_pois1 = BIC(glm_mod_pois1)\n",
    "\n",
    "AIC_pois1\n",
    "BIC_pois1"
   ]
  },
  {
   "cell_type": "markdown",
   "metadata": {
    "id": "mLjlXPMuD-IP",
    "nbgrader": {
     "grade": true,
     "grade_id": "cell-aab79d785001e9b3",
     "locked": false,
     "points": 3,
     "schema_version": 3,
     "solution": true,
     "task": false
    }
   },
   "source": [
    "AIC score of model 1 is lower compared to AIC of model 2. BIC score of model 2 is lower compared to BIC. Both the metrics choose a different model, If prediction is our end goal then we'll go with AIC. If explanation is our end goal we can go with BIC."
   ]
  },
  {
   "cell_type": "markdown",
   "metadata": {
    "id": "92Gl1HViD-IQ",
    "nbgrader": {
     "grade": false,
     "grade_id": "cell-2032088d93d878da",
     "locked": true,
     "schema_version": 3,
     "solution": false,
     "task": false
    }
   },
   "source": [
    "How do we determine if our model is explaining anything? With linear regression, we had a F-test, but we can't do that for Poisson Regression. If we want to check if our model is better than the null model, then we're going to have to check directly. In particular, we need to compare the deviances of the models to see if they're significantly different.\n",
    "\n",
    "**PART D:** <span style=\"color: #CFB87C;\">(STAT 5010 Students Only)</span> Conduct a $\\chi^2$ test (using the deviance). Let $\\alpha = 0.05$:\n",
    "\n",
    "- Test the adequacy of the model from PART A against the saturated model (the model fit to all predictors).\n",
    "\n",
    "**What conclusions should you draw from this test?**"
   ]
  },
  {
   "cell_type": "code",
   "execution_count": null,
   "metadata": {
    "colab": {
     "base_uri": "https://localhost:8080/",
     "height": 161
    },
    "id": "oD1t5qNSD-IR",
    "nbgrader": {
     "grade": true,
     "grade_id": "cell-cda58a8b37ad8d46",
     "locked": false,
     "points": 3,
     "schema_version": 3,
     "solution": true,
     "task": false
    },
    "outputId": "06d9cb8c-e973-4f1c-aacc-14b1e9d5b0be"
   },
   "outputs": [
    {
     "data": {
      "text/html": [
       "<table class=\"dataframe\">\n",
       "<caption>A anova: 2 × 5</caption>\n",
       "<thead>\n",
       "\t<tr><th></th><th scope=col>Resid. Df</th><th scope=col>Resid. Dev</th><th scope=col>Df</th><th scope=col>Deviance</th><th scope=col>Pr(&gt;Chi)</th></tr>\n",
       "\t<tr><th></th><th scope=col>&lt;dbl&gt;</th><th scope=col>&lt;dbl&gt;</th><th scope=col>&lt;dbl&gt;</th><th scope=col>&lt;dbl&gt;</th><th scope=col>&lt;dbl&gt;</th></tr>\n",
       "</thead>\n",
       "<tbody>\n",
       "\t<tr><th scope=row>1</th><td>18</td><td>109.21228</td><td>NA</td><td>     NA</td><td>          NA</td></tr>\n",
       "\t<tr><th scope=row>2</th><td>17</td><td> 27.82257</td><td> 1</td><td>81.3897</td><td>1.853209e-19</td></tr>\n",
       "</tbody>\n",
       "</table>\n"
      ],
      "text/latex": [
       "A anova: 2 × 5\n",
       "\\begin{tabular}{r|lllll}\n",
       "  & Resid. Df & Resid. Dev & Df & Deviance & Pr(>Chi)\\\\\n",
       "  & <dbl> & <dbl> & <dbl> & <dbl> & <dbl>\\\\\n",
       "\\hline\n",
       "\t1 & 18 & 109.21228 & NA &      NA &           NA\\\\\n",
       "\t2 & 17 &  27.82257 &  1 & 81.3897 & 1.853209e-19\\\\\n",
       "\\end{tabular}\n"
      ],
      "text/markdown": [
       "\n",
       "A anova: 2 × 5\n",
       "\n",
       "| <!--/--> | Resid. Df &lt;dbl&gt; | Resid. Dev &lt;dbl&gt; | Df &lt;dbl&gt; | Deviance &lt;dbl&gt; | Pr(&gt;Chi) &lt;dbl&gt; |\n",
       "|---|---|---|---|---|---|\n",
       "| 1 | 18 | 109.21228 | NA |      NA |           NA |\n",
       "| 2 | 17 |  27.82257 |  1 | 81.3897 | 1.853209e-19 |\n",
       "\n"
      ],
      "text/plain": [
       "  Resid. Df Resid. Dev Df Deviance Pr(>Chi)    \n",
       "1 18        109.21228  NA      NA            NA\n",
       "2 17         27.82257   1 81.3897  1.853209e-19"
      ]
     },
     "metadata": {},
     "output_type": "display_data"
    }
   ],
   "source": [
    "glm_mod_full = glm(incidents ~ ., data = train, family=poisson)\n",
    "glm_mod_red = glm(incidents ~ type+period+year, data = train, family=poisson)\n",
    "anova(glm_mod_red,glm_mod_full,test =\"Chisq\")"
   ]
  },
  {
   "cell_type": "markdown",
   "metadata": {
    "id": "_XRIbtORD-IS",
    "nbgrader": {
     "grade": true,
     "grade_id": "cell-2cbe473bf8710569",
     "locked": false,
     "points": 2,
     "schema_version": 3,
     "solution": true,
     "task": false
    }
   },
   "source": [
    "- H0: Reduced model is sufficient\n",
    "- H1: Reduced model is not sufficient\n",
    "\n",
    "- The p-value is < 0.05, so we have to reject H0 and reduced model is not sufficient.\n",
    "We need all the features (full model) for better model prediction.\n"
   ]
  }
 ],
 "metadata": {
  "celltoolbar": "Create Assignment",
  "colab": {
   "provenance": []
  },
  "kernelspec": {
   "display_name": "R 4.3",
   "language": "R",
   "name": "ir43"
  },
  "language_info": {
   "codemirror_mode": "r",
   "file_extension": ".r",
   "mimetype": "text/x-r-source",
   "name": "R",
   "pygments_lexer": "r",
   "version": "4.2.2"
  }
 },
 "nbformat": 4,
 "nbformat_minor": 4
}

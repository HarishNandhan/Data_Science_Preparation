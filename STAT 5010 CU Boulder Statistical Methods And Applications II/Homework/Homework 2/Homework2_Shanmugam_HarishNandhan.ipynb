{
  "cells": [
    {
      "cell_type": "markdown",
      "id": "d539ed0b-a1e5-4d3b-bcf4-41c550f7c2e6",
      "metadata": {
        "id": "d539ed0b-a1e5-4d3b-bcf4-41c550f7c2e6"
      },
      "source": [
        "# Homework 2: Simple Linear Regression\n",
        "***\n",
        "\n",
        "**Name**: HARISH NANDHAN SHANMUGAM\n",
        "\n",
        "***\n",
        "\n",
        "This assignment is due on Gradescope by **Friday February 7 at 5:00PM**. Your solutions to theoretical questions should be done in Markdown directly below the associated question.  Your solutions to computational questions should include any specified R code and results as well as written commentary on your conclusions.  Remember that you are encouraged to discuss the problems with your classmates, but **you must write all code and solutions on your own**.\n",
        "\n",
        "**NOTES**:\n",
        "\n",
        "- There are 2 total questions on this assignment.\n",
        "- If you're not familiar with typesetting math directly into Markdown then by all means, do your work on paper first and then typeset it later.  Remember that there is a [reference guide](https://math.meta.stackexchange.com/questions/5020/mathjax-basic-tutorial-and-quick-reference) linked here. **All** of your written commentary, justifications and mathematical work should be in Markdown.\n",
        "- Because you can technically evaluate notebook cells in a non-linear order, it's a good idea to do Kernel $\\rightarrow$ Restart & Run All as a check before submitting your solutions.  That way if we need to run your code you will know that it will work as expected.\n",
        "- It is **bad form** to make your reader interpret numerical output from your code.  If a question asks you to compute some value from the data you should show your code output **AND** write a summary of the results in Markdown directly below your code.\n",
        "- This probably goes without saying, but... For any question that asks you to calculate something, you **must show all work and justify your answers to receive credit**. Sparse or nonexistent work will receive sparse or nonexistent credit.\n",
        "\n",
        "\n",
        "\n",
        "---"
      ]
    },
    {
      "cell_type": "markdown",
      "id": "7541fc1b-4780-4356-add7-b4ccc1aa98ef",
      "metadata": {
        "id": "7541fc1b-4780-4356-add7-b4ccc1aa98ef"
      },
      "source": [
        "---\n",
        "\n",
        "\n",
        "### Problem 1 - Analysis of Regression Coefficients (50 points)"
      ]
    },
    {
      "cell_type": "markdown",
      "id": "535c5cc4-28ef-4917-bae8-f5665c65bff6",
      "metadata": {
        "id": "535c5cc4-28ef-4917-bae8-f5665c65bff6"
      },
      "source": [
        "**Part A:**  In class, we analyzed regression with an intercept, $\\beta_0$. In some circumstances, we may have theoretical reasons to suggest that the intercept term is zero. As such, some have proposed to not estimate $\\beta_0$, and instead, use the one-predictor linear model: $Y_i = \\beta_1 x_i + \\epsilon_i$.\n",
        "\n",
        "Find the least squares estimator of $\\beta_1$ in this case."
      ]
    },
    {
      "cell_type": "markdown",
      "id": "408ceac5-98cd-404a-9613-3573627bbccb",
      "metadata": {
        "id": "408ceac5-98cd-404a-9613-3573627bbccb"
      },
      "source": [
        "$$\n",
        "\\text{The model is } Y_i = \\beta_1 x_i + \\varepsilon_i\n",
        "$$\n",
        "\n",
        "$$\n",
        "\\text{The Sum of Squared Errors:}\n",
        "$$\n",
        "\n",
        "$$\n",
        "SSE = \\sum_{i=1}^{n} (Y_i - \\beta_1 x_i)^2\n",
        "$$\n",
        "\n",
        "$$\n",
        "\\text{To minimize, differentiate with respect to } \\beta_1 \\text{ to find } \\hat{\\beta_1}\n",
        "$$\n",
        "\n",
        "$$\n",
        "\\frac{d}{d\\beta_1} \\sum_{i=1}^{n} (Y_i - \\beta_1 x_i)^2 = 0\n",
        "$$\n",
        "\n",
        "$$\n",
        "2 \\sum_{i=1}^{n} (Y_i - \\beta_1 x_i)(-x_i) = 0\n",
        "$$\n",
        "\n",
        "$$\n",
        "-2 \\sum_{i=1}^{n} x_i (Y_i - \\beta_1 x_i) = 0\n",
        "$$\n",
        "\n",
        "$$\n",
        "\\sum_{i=1}^{n} x_i Y_i - \\beta_1 \\sum_{i=1}^{n} x_i^2 = 0\n",
        "$$\n",
        "\n",
        "$$\n",
        "\\sum_{i=1}^{n} x_i Y_i = \\beta_1 \\sum_{i=1}^{n} x_i^2\n",
        "$$\n",
        "\n",
        "$$\n",
        "\\bar{Y} \\bar{x}*n = \\beta_1 \\bar{x}^2*n\n",
        "$$\n",
        "\n",
        "$$\n",
        "\\hat{\\beta_1} = \\frac{\\bar{Y} \\bar{x}}{\\bar{x}^2}.\n",
        "$$"
      ]
    },
    {
      "cell_type": "markdown",
      "id": "a372dc67-cf61-4123-b960-b382cfa029b4",
      "metadata": {
        "id": "a372dc67-cf61-4123-b960-b382cfa029b4"
      },
      "source": [
        "**Part B:** Show that the residuals of this model fit do not sum necessarily sum to zero. You can use a simulation to show this, if you would like."
      ]
    },
    {
      "cell_type": "markdown",
      "source": [
        "$$\n",
        "\\textbf{Residual:}\n",
        "$$\n",
        "\n",
        "$$\n",
        "\\varepsilon_i = y_i - \\widehat{\\beta}_1 x_i\n",
        "$$\n",
        "\n",
        "$$\n",
        "\\widehat{\\beta}_1 = \\frac{\\overline{xy}}{\\overline{x^2}}\n",
        "$$\n",
        "\n",
        "$$\n",
        "\\varepsilon_i = y_i - \\frac{\\overline{xy}}{\\overline{x^2}} x_i\n",
        "$$\n",
        "\n",
        "$$\n",
        "\\textbf{Sum of Residuals:}\n",
        "$$\n",
        "\n",
        "$$\n",
        "\\sum_{i=1}^{n} \\varepsilon_i = \\sum_{i=1}^{n} \\left( y_i - \\frac{\\overline{xy}}{\\overline{x^2}} x_i \\right)\n",
        "$$\n",
        "\n",
        "$$\n",
        "= n \\bar{y} - \\frac{\\overline{xy}}{\\overline{x^2}} \\sum_{i=1}^{n} x_i\n",
        "$$\n",
        "\n",
        "$$\n",
        "\\text{if the mean of\n",
        "x is not zero, residuals will not sum to zero}\n",
        "$$\n"
      ],
      "metadata": {
        "id": "K1AmKRDYp50l"
      },
      "id": "K1AmKRDYp50l"
    },
    {
      "cell_type": "code",
      "execution_count": 1,
      "id": "41335397-02fd-4f07-9e05-6d4cff00686d",
      "metadata": {
        "colab": {
          "base_uri": "https://localhost:8080/",
          "height": 52
        },
        "id": "41335397-02fd-4f07-9e05-6d4cff00686d",
        "outputId": "048f64d3-0d4b-4ea7-d78e-647b178aa9af"
      },
      "outputs": [
        {
          "output_type": "display_data",
          "data": {
            "text/html": [
              "1.939245046888"
            ],
            "text/markdown": "1.939245046888",
            "text/latex": "1.939245046888",
            "text/plain": [
              "[1] 1.939245"
            ]
          },
          "metadata": {}
        },
        {
          "output_type": "stream",
          "name": "stdout",
          "text": [
            "The residuals of the model fit is ~ -3.28 (approx) is not sum to zero"
          ]
        }
      ],
      "source": [
        "n = 100\n",
        "x = rnorm(n)\n",
        "beta_1 = 3\n",
        "e = rnorm(n)\n",
        "y = beta_1 * x + e\n",
        "\n",
        "model_no_intercept = lm(y ~ x - 1)\n",
        "y_cap = predict(model_no_intercept)\n",
        "residuals = sum(y-y_cap)\n",
        "residuals\n",
        "\n",
        "\n",
        "cat(\"The residuals of the model fit is ~ 1.93 (approx) is not sum to zero\")"
      ]
    },
    {
      "cell_type": "markdown",
      "id": "779135af-f66c-46bb-babf-f7bbb5b91d28",
      "metadata": {
        "id": "779135af-f66c-46bb-babf-f7bbb5b91d28"
      },
      "source": [
        "**Part C:** Suppose that, for $i = 1,...,n$, the pairs $(x_i, y_i)$ are generated according to a simple linear regression model\n",
        "\n",
        "$$Y_i = \\beta_0 + \\beta_1x_i + \\varepsilon_i,$$\n",
        "\n",
        "where $x_i$ are fixed constants and $\\varepsilon_i \\overset{iid}{\\sim} N(0,\\sigma^2)$. Then, imagine reparameterizing the model as\n",
        "\n",
        "$$Y_i = \\beta^*_0 + \\beta^*_1\\left(\\frac{x_i- \\bar{x}}{sd(x)}\\right) + \\varepsilon_i,$$\n",
        "\n",
        "where $sd(x) = \\frac{1}{n-1}\\sum(x_i - \\bar{x})^2$.\n",
        "\n",
        "Let $\\widehat\\beta_j$ be the least squares estimator of $\\beta_j$, and $\\widehat\\beta^*_j$ be the least squares estimator of $\\beta^*_j$ for $j=0,1$.\n",
        "\n",
        "Show that $\\widehat\\beta^*_1 \\ne \\widehat\\beta_1$.\n",
        "\n",
        "HINT: For regression with one predictor, $\\displaystyle \\widehat\\beta_1 = \\frac{\\sum^n_{i=1}\\left( x_i - \\bar{x}\\right)\\left(y_i - \\bar{y} \\right)}{\\sum^n_{i=1}\\left(x_i - \\bar{x}\\right)^2}$."
      ]
    },
    {
      "cell_type": "markdown",
      "id": "5c25c3f7-c6ff-46d0-a0b2-4943981ccb45",
      "metadata": {
        "id": "5c25c3f7-c6ff-46d0-a0b2-4943981ccb45"
      },
      "source": [
        "$$y_i = \\beta^*_0 + \\beta^*_1\\left(\\frac{x_i- \\bar{x}}{sd(x)}\\right) + \\varepsilon_i$$\n",
        "\n",
        "$$\\text{Here,}$$\n",
        " $$z_i = (x_i - \\bar{x})/sd(x)$$\n",
        "$$\\text{Sum of Squared Errors,}$$\n",
        " $$SSE = \\sum^n_{i=1} e^2_{i} = \\sum^n_{i=1} (y_{i} -\\beta^*_{0}- \\beta^*_{1}*z_i)^2$$\n",
        "\n",
        "$$\n",
        "\\text{To minimize, differentiate with respect to } \\beta_1^* \\text{ to get } \\hat{\\beta_1^*}\n",
        "$$\n",
        "\n",
        " $$\\frac{d \\sum^n_{i=1} (y_{i} - \\beta^*_{0}- \\beta^*_{1}*z_i)^2}{d\\beta_{1}} = 0$$\n",
        "\n",
        " $$\\sum^n_{i=1} 2 * (y_{i} -\\beta^*_{0}- \\beta^*_{1}*z_i)* -1 * (z_i) = 0$$\n",
        "\n",
        "\n",
        " $$ (\\sum^n_{i=1} y_{i}*z_i -\\beta^*_{0}* \\sum^n_{i=1} z_i -\\beta^*_{1}* \\sum^n_{i=1} z_i^2)= 0$$\n",
        "\n",
        " $$\\text{As $z_{i}$ is standardized value (where mean = 0, variance = 1)}$$\n",
        "\n",
        " $$ \\sum^n_{i=1}z_i =0$$\n",
        "\n",
        " $$ (\\sum^n_{i=1} y_{i}*z_i -\\beta^*_{0}* 0 -\\beta^*_{1}* \\sum^n_{i=1} z_i^2)= 0$$\n",
        "\n",
        " $$ (\\sum^n_{i=1} y_{i}*z_i -\\beta^*_{1}* \\sum^n_{i=1} z_i^2)= 0$$\n",
        "\n",
        " $$\\beta^*_{1} = \\frac{\\sum^n_{i=1} y_{i}*z_i}{\\sum^n_{i=1} z_i^2}$$\n",
        "\n",
        " $$\\beta^*_{1} = \\frac{\\sum^n_{i=1} y_{i}*z_i}{\\sum^n_{i=1} z_i^2}$$\n",
        "\n",
        "$$\\quad \\text{[NUMERATOR]}$$\n",
        "\n",
        " $$\\sum^n_{i=1} y_{i}*z_i= \\sum^n_{i=1} y_{i}*(x_i - \\bar{x})/sd(x) $$\n",
        "\n",
        " $$\\sum^n_{i=1} y_{i}*z_i= \\frac{\\sum^n_{i=1} y_{i}*(x_i - \\bar{x})}{sd(x)}$$\n",
        "\n",
        "$$\\quad \\text{[DENOMINATOR]}$$\n",
        "\n",
        " $$\\sum^n_{i=1} z_i^2 =\\sum^n_{i=1} \\frac{(x_i - \\bar{x})^2}{sd(x)^2}$$\n",
        "\n",
        " $$\\sum^n_{i=1} z_i^2 = \\frac{1}{sd(x)^2} \\sum^n_{i=1} (x_i - \\bar{x})^2$$\n",
        "\n",
        " $$\\sum^n_{i=1} z_i^2 = \\frac{1}{sd(x)^2} * (n-1) * var(x)$$\n",
        "\n",
        " $$\\sum^n_{i=1} z_i^2 = \\frac{1}{sd(x)^2} * (n-1) * sd(x)^2$$\n",
        "\n",
        " $$\\sum^n_{i=1} z_i^2 = n-1$$\n",
        "\n",
        "$$\\text{Substituting the numerator and denominator}$$\n",
        " $$\\hat{\\beta^*_{1}} = \\frac{\\sum^n_{i=1} y_{i}*(x_i - \\bar{x})}{sd(x) *(n-1)}$$\n",
        "\n",
        " $$\\hat{\\beta^*_{1}} = \\frac{\\sum^n_{i=1} y_{i}*(x_i - \\bar{x})}{\\frac{\\sum^n_{i=1}(x_i - x)^2}{sd(x)}}$$\n",
        "\n",
        " $$\\hat{\\beta^*_{1}} = sd(x) * \\frac{\\sum^n_{i=1} y_{i}*(x_i - \\bar{x})}{\\sum^n_{i=1}(x_i - x)^2}$$\n",
        "\n",
        " $$\\hat{\\beta^*_{1}} = sd(x) * \\frac{\\sum^n_{i=1} x_i *y_i - \\sum^n_{i=1} \\bar{y}*x_i - \\sum^n_{i=1} y_i*\\bar{x} - \\sum^n_{i=1} \\bar{x}*\\bar{y}}{\\sum(x_i - x)^2}$$\n",
        "\n",
        " $$\\hat{\\beta^*_{1}} = sd(x) * \\frac{n*\\bar{xy} - n*\\bar{x}*\\bar{y} - n*\\bar{x}*\\bar{y} + n *\\bar{x}*\\bar{y}}{\\sum^n_{i=1}(x_i - x)^2}$$\n",
        "\n",
        " $$\\hat{\\beta^*_{1}} = sd(x) * \\frac{n\\bar{xy} - n\\bar{x}\\bar{y}}{\\sum^n_{i=1}(x_i - x)^2}$$\n",
        "\n",
        "$$\\text{In the question, $\\hat{\\beta_{1}}$ is given as,}$$\n",
        "\n",
        " $$\\displaystyle \\widehat\\beta_1 = \\frac{\\sum^n_{i=1}\\left( x_i - \\bar{x}\\right)\\left(y_i - \\bar{y} \\right)}{\\sum^n_{i=1}\\left(x_i - \\bar{x}\\right)^2}$$\n",
        "\n",
        " $$\\displaystyle \\widehat\\beta_1 = \\frac{\\sum^n_{i=1}\\left( x_i *y_i - \\bar{y}*x_i - y_i*\\bar{x} - \\bar{x}*\\bar{y} \\right)}{\\sum^n_{i=1}\\left(x_i - \\bar{x}\\right)^2}$$\n",
        "\n",
        " $$\\displaystyle \\widehat\\beta_1 = \\frac{\\sum^n_{i=1} x_i *y_i - \\sum\\bar{y}*x_i - \\sum^n_{i=1} y_i*\\bar{x} - \\sum^n_{i=1} \\bar{x}*\\bar{y}}{\\sum^n_{i=1}\\left(x_i - \\bar{x}\\right)^2}$$\n",
        "\n",
        " $$\\displaystyle \\widehat\\beta_1 = \\frac{n*\\bar{xy} - n*\\bar{x}*\\bar{y} - n*\\bar{x}*\\bar{y} + n *\\bar{x}*\\bar{y}}{\\sum^n_{i=1}\\left(x_i - \\bar{x}\\right)^2}$$\n",
        "\n",
        " $$\\displaystyle \\widehat\\beta_1 = \\frac{n\\bar{xy} - n\\bar{x}\\bar{y}}{\\sum^n_{i=1}\\left(x_i - \\bar{x}\\right)^2}$$\n",
        "\n",
        "$$\\text{After solving $\\hat{\\beta^*_{1}}$ and $\\hat{\\beta_{1}}$, the relationship established between them is}$$\n",
        " $$\\hat{\\beta^*_{1}} = \\hat{\\beta_{1}} *sd(x)$$\n",
        "\n",
        "$$\\text{So, it is clearly proved that}$$\n",
        " $$\\hat{\\beta^*_{1}} \\ne \\hat{\\beta_{1}}$$\n"
      ]
    },
    {
      "cell_type": "markdown",
      "id": "dbf57718-804a-4e83-8f01-2af9c7313701",
      "metadata": {
        "id": "dbf57718-804a-4e83-8f01-2af9c7313701"
      },
      "source": [
        "**Part D:** Show that, in general, $\\widehat\\beta^*_0 \\ne \\widehat\\beta_0$, and find $\\widehat\\beta^*_0$ in terms of $Y_i$. In what particular case is $\\widehat\\beta^*_0 = \\widehat\\beta_0$?\n",
        "\n",
        "HINT: For SLR, $\\widehat\\beta_0 = \\bar{y} - \\widehat\\beta_1 \\bar{x}$."
      ]
    },
    {
      "cell_type": "markdown",
      "id": "53427d7a-d0e1-48f8-88fd-991d5d0fdc7b",
      "metadata": {
        "id": "53427d7a-d0e1-48f8-88fd-991d5d0fdc7b"
      },
      "source": [
        "$$\n",
        "\\text{From Simple Linear Regression, we know}\n",
        "$$\n",
        "\n",
        "$$\n",
        "\\hat{\\beta_0} = \\bar{y} - \\hat{\\beta_1} \\bar{x}\n",
        "$$\n",
        "\n",
        "$$\n",
        "\\text{Now, for the standardized intercept:}\n",
        "$$\n",
        "\n",
        "$$\n",
        "\\hat{\\beta_0^*} = \\bar{y} - \\hat{\\beta_1^*} \\bar{x^*}\n",
        "$$\n",
        "\n",
        "$$\n",
        "\\text{Here,}\n",
        "$$\n",
        "\n",
        "$$\n",
        "x^* = \\frac{x_i - \\bar{x}}{sd(x)}\n",
        "$$\n",
        "\n",
        "$$\n",
        "\\text{So,}\n",
        "$$\n",
        "\n",
        "$$\n",
        "\\hat{\\beta_0^*} = \\bar{y} - \\hat{\\beta_1^*} \\left(\\frac{x_i - \\bar{x}}{sd(x)}\\right)\n",
        "$$\n",
        "\n",
        "$$\n",
        "\\text{We know that the mean of a standardized value is 0:}\n",
        "$$\n",
        "\n",
        "$$\n",
        "\\hat{\\beta_0^*} = \\bar{y}\n",
        "$$\n",
        "\n",
        "\n",
        "$$\n",
        "\\hat{\\beta_0} = \\bar{y} - \\hat{\\beta_1} \\bar{x}\n",
        "$$\n",
        "\n",
        "$$\n",
        "\\text{Here, } \\hat{\\beta_0^*} \\neq \\hat{\\beta_0}\n",
        "$$\n",
        "\n",
        "$$\n",
        "\\text{In the case where } \\bar{x} \\text{ is equal to 0,}\n",
        "$$\n",
        "\n",
        "$$\n",
        "\\hat{\\beta_0} = \\bar{y} - \\hat{\\beta_1} (0)\n",
        "$$\n",
        "\n",
        "$$\n",
        "\\hat{\\beta_0} = \\bar{y}\n",
        "$$\n",
        "\n",
        "$$\n",
        "\\therefore \\hat{\\beta_0} = \\hat{\\beta_0^*}\n",
        "$$\n"
      ]
    },
    {
      "cell_type": "markdown",
      "id": "e8b59c95-7a08-4dda-849f-f388b214257c",
      "metadata": {
        "id": "e8b59c95-7a08-4dda-849f-f388b214257c"
      },
      "source": [
        "**Part E:** Why might the reparameterized model be beneficial?"
      ]
    },
    {
      "cell_type": "markdown",
      "id": "0a516d59-17bd-4b92-b757-f3c7ebe389bf",
      "metadata": {
        "id": "0a516d59-17bd-4b92-b757-f3c7ebe389bf"
      },
      "source": [
        "- Standardizing 'x' helps in making the coefficients comparable across different predictors, which makes sure no variable dominates due to different scales.\n",
        "- It prevents the issues related to collinearity and precision errors which are directly related to deciding the model performance.\n",
        "- The standardized slope represents the change in 'y' for 1 SD increase in 'x' which makes easier to compare the reparameterized and the normal models."
      ]
    },
    {
      "cell_type": "markdown",
      "id": "3bf3ae93-ce53-41ac-ab9d-55f15d2ab599",
      "metadata": {
        "id": "3bf3ae93-ce53-41ac-ab9d-55f15d2ab599"
      },
      "source": [
        "**Part F:** Run a simulation to confirm your result in parts 1(c) - 1(d). Let's do this in parts. In the cell directly below:**\n",
        "\n",
        "- Set `n = 50`, $\\boldsymbol\\beta = $ `beta = c(1, 3.5)`.\n",
        "- Simulate $n$ predictor values ($x$) randomly from $N(3,1)$. Store those values in a variable `x`.\n",
        "- Simulate $n$ random error terms from $N(0,2)$. Store them in the variable `e`.\n",
        "- Calculate the response ($y$) according to `y = b0 + b1 x + e`\n",
        "- Fit a simple linear regression model to the data using the `lm()` function. Store the `lm()` object in a variable `l` and the coefficients of that model in a variable `b1 = coef(l)`."
      ]
    },
    {
      "cell_type": "code",
      "execution_count": null,
      "id": "42f307ba-c8f2-4070-91a4-c01c271e7ca1",
      "metadata": {
        "id": "42f307ba-c8f2-4070-91a4-c01c271e7ca1",
        "colab": {
          "base_uri": "https://localhost:8080/",
          "height": 34
        },
        "outputId": "aa4af0f7-bfa9-4255-b5af-3438d999416e"
      },
      "outputs": [
        {
          "output_type": "display_data",
          "data": {
            "text/html": [
              "<style>\n",
              ".dl-inline {width: auto; margin:0; padding: 0}\n",
              ".dl-inline>dt, .dl-inline>dd {float: none; width: auto; display: inline-block}\n",
              ".dl-inline>dt::after {content: \":\\0020\"; padding-right: .5ex}\n",
              ".dl-inline>dt:not(:first-of-type) {padding-left: .5ex}\n",
              "</style><dl class=dl-inline><dt>(Intercept)</dt><dd>1.36564100231492</dd><dt>x</dt><dd>3.43558468905318</dd></dl>\n"
            ],
            "text/markdown": "(Intercept)\n:   1.36564100231492x\n:   3.43558468905318\n\n",
            "text/latex": "\\begin{description*}\n\\item[(Intercept)] 1.36564100231492\n\\item[x] 3.43558468905318\n\\end{description*}\n",
            "text/plain": [
              "(Intercept)           x \n",
              "   1.365641    3.435585 "
            ]
          },
          "metadata": {}
        }
      ],
      "source": [
        "set.seed(1)\n",
        "n = 50\n",
        "beta = c(1,3.5)\n",
        "\n",
        "x = rnorm(n, mean = 3, sd =1)\n",
        "e = rnorm(n, mean = 0, sd =sqrt(2))\n",
        "\n",
        "y = beta[1] + beta[2]* x + e\n",
        "\n",
        "l = lm(y~x)\n",
        "b = coef(l)\n",
        "b"
      ]
    },
    {
      "cell_type": "markdown",
      "id": "1b8ca6b5-02d0-4cab-b302-88df00136c0c",
      "metadata": {
        "id": "1b8ca6b5-02d0-4cab-b302-88df00136c0c"
      },
      "source": [
        "**Part G:**\n",
        "\n",
        "- Center and scale the predictor values and store those values in a variable `z`.\n",
        "- Fit a simple linear regression model to the new data, $(z_i, y_i)$, using the `lm()` function. Store the `lm()` object in a variable `l2` and the coefficients of that model in a variable `b2 = coef(l2)` (`b2` should be a vector of length $2$).\n",
        "- Describe the differences between `b` and `b2`."
      ]
    },
    {
      "cell_type": "code",
      "execution_count": null,
      "id": "31fbc564-5369-4aee-8f21-4ed0e257cb75",
      "metadata": {
        "id": "31fbc564-5369-4aee-8f21-4ed0e257cb75",
        "colab": {
          "base_uri": "https://localhost:8080/",
          "height": 34
        },
        "outputId": "bc175266-9ee1-441a-d154-e2ef2b894878"
      },
      "outputs": [
        {
          "output_type": "display_data",
          "data": {
            "text/html": [
              "<style>\n",
              ".dl-inline {width: auto; margin:0; padding: 0}\n",
              ".dl-inline>dt, .dl-inline>dd {float: none; width: auto; display: inline-block}\n",
              ".dl-inline>dt::after {content: \":\\0020\"; padding-right: .5ex}\n",
              ".dl-inline>dt:not(:first-of-type) {padding-left: .5ex}\n",
              "</style><dl class=dl-inline><dt>(Intercept)</dt><dd>12.0174936421477</dd><dt>z</dt><dd>3.16748720348743</dd></dl>\n"
            ],
            "text/markdown": "(Intercept)\n:   12.0174936421477z\n:   3.16748720348743\n\n",
            "text/latex": "\\begin{description*}\n\\item[(Intercept)] 12.0174936421477\n\\item[z] 3.16748720348743\n\\end{description*}\n",
            "text/plain": [
              "(Intercept)           z \n",
              "  12.017494    3.167487 "
            ]
          },
          "metadata": {}
        }
      ],
      "source": [
        "z = (y - mean(y))/sd(y)\n",
        "\n",
        "l2 = lm(y~z)\n",
        "b2 = coef(l2)\n",
        "b2"
      ]
    },
    {
      "cell_type": "markdown",
      "source": [
        "\n",
        "1. Change in Slope:  \n",
        "   - $ \\widehat{\\beta}_1^* = \\widehat{\\beta}_1 \\times sd(x) $\n",
        "   - The standardized slope can be rescaled by multiplying it with the standard deviation (x)\n",
        "\n",
        "2. Change in Intercept:  \n",
        "   - In the 'z',  $ \\widehat{\\beta}_0^* = \\bar{y} $  instead of $ \\bar{y} - \\widehat{\\beta}_1 \\bar{x} $  \n",
        "\n",
        "3. Interpretation:\n",
        "   - In the 'y', $\\widehat{\\beta}_1$ represents the change in \\( y \\) per unit increase in \\( x \\).  \n",
        "   - In the 'z', $\\widehat{\\beta}_1^*$  represents the change in \\( y \\) per one standard deviation increase in \\( x \\).  \n"
      ],
      "metadata": {
        "id": "uNSXxpkVb10-"
      },
      "id": "uNSXxpkVb10-"
    },
    {
      "cell_type": "markdown",
      "id": "f06739c1-13c4-4468-a7b6-535943ec3117",
      "metadata": {
        "id": "f06739c1-13c4-4468-a7b6-535943ec3117"
      },
      "source": [
        "---\n",
        "\n",
        "\n",
        "### Problem 2 - Simple Linear Regression (50 points)\n",
        "\n",
        "For this problem, we will be performing simple linear regression using the following dataset:\n",
        "`Fish.csv`\n",
        "\n",
        "Information about this data from the original source (kaggle): \"This dataset is a record of 7 common different fish species in fish market sales. With this dataset, a predictive model can be performed using machine friendly data and estimate the weight of fish can be predicted.\"\n",
        "\n",
        "**Response**:\n",
        "- Weight (in grams)\n",
        "\n",
        "**Features**:\n",
        "- Length1 (vertical length in cm)\n",
        "- Length2 (diagonal length in cm)\n",
        "- Length3 (cross length in cm)\n",
        "- Height (in cm)\n",
        "- Width (diagonal width in cm)\n",
        "\n",
        "The species name of the fish is also given."
      ]
    },
    {
      "cell_type": "markdown",
      "id": "7cf69846-a777-4198-b230-0706e0bf40f6",
      "metadata": {
        "id": "7cf69846-a777-4198-b230-0706e0bf40f6"
      },
      "source": [
        "**Part A**: Read the data from the csv into a DataFrame.  If you are reading in `Fish.csv`, I would recommend dropping the species column as it is non-numerical.\n",
        "\n",
        "Also, make sure to re-order the columns so that the response variable is the last column."
      ]
    },
    {
      "cell_type": "code",
      "execution_count": null,
      "id": "601f2839-d5dc-471d-b880-4c6d6b0c3ea7",
      "metadata": {
        "id": "601f2839-d5dc-471d-b880-4c6d6b0c3ea7",
        "colab": {
          "base_uri": "https://localhost:8080/",
          "height": 529
        },
        "outputId": "16c60469-9421-4365-cbe7-3376992fea1a"
      },
      "outputs": [
        {
          "output_type": "stream",
          "name": "stderr",
          "text": [
            "\n",
            "Attaching package: ‘dplyr’\n",
            "\n",
            "\n",
            "The following objects are masked from ‘package:stats’:\n",
            "\n",
            "    filter, lag\n",
            "\n",
            "\n",
            "The following objects are masked from ‘package:base’:\n",
            "\n",
            "    intersect, setdiff, setequal, union\n",
            "\n",
            "\n"
          ]
        },
        {
          "output_type": "display_data",
          "data": {
            "text/html": [
              "<table class=\"dataframe\">\n",
              "<caption>A data.frame: 6 × 6</caption>\n",
              "<thead>\n",
              "\t<tr><th></th><th scope=col>Length1</th><th scope=col>Length2</th><th scope=col>Length3</th><th scope=col>Height</th><th scope=col>Width</th><th scope=col>Weight</th></tr>\n",
              "\t<tr><th></th><th scope=col>&lt;dbl&gt;</th><th scope=col>&lt;dbl&gt;</th><th scope=col>&lt;dbl&gt;</th><th scope=col>&lt;dbl&gt;</th><th scope=col>&lt;dbl&gt;</th><th scope=col>&lt;dbl&gt;</th></tr>\n",
              "</thead>\n",
              "<tbody>\n",
              "\t<tr><th scope=row>1</th><td>23.2</td><td>25.4</td><td>30.0</td><td>11.5200</td><td>4.0200</td><td>242</td></tr>\n",
              "\t<tr><th scope=row>2</th><td>24.0</td><td>26.3</td><td>31.2</td><td>12.4800</td><td>4.3056</td><td>290</td></tr>\n",
              "\t<tr><th scope=row>3</th><td>23.9</td><td>26.5</td><td>31.1</td><td>12.3778</td><td>4.6961</td><td>340</td></tr>\n",
              "\t<tr><th scope=row>4</th><td>26.3</td><td>29.0</td><td>33.5</td><td>12.7300</td><td>4.4555</td><td>363</td></tr>\n",
              "\t<tr><th scope=row>5</th><td>26.5</td><td>29.0</td><td>34.0</td><td>12.4440</td><td>5.1340</td><td>430</td></tr>\n",
              "\t<tr><th scope=row>6</th><td>26.8</td><td>29.7</td><td>34.7</td><td>13.6024</td><td>4.9274</td><td>450</td></tr>\n",
              "</tbody>\n",
              "</table>\n"
            ],
            "text/markdown": "\nA data.frame: 6 × 6\n\n| <!--/--> | Length1 &lt;dbl&gt; | Length2 &lt;dbl&gt; | Length3 &lt;dbl&gt; | Height &lt;dbl&gt; | Width &lt;dbl&gt; | Weight &lt;dbl&gt; |\n|---|---|---|---|---|---|---|\n| 1 | 23.2 | 25.4 | 30.0 | 11.5200 | 4.0200 | 242 |\n| 2 | 24.0 | 26.3 | 31.2 | 12.4800 | 4.3056 | 290 |\n| 3 | 23.9 | 26.5 | 31.1 | 12.3778 | 4.6961 | 340 |\n| 4 | 26.3 | 29.0 | 33.5 | 12.7300 | 4.4555 | 363 |\n| 5 | 26.5 | 29.0 | 34.0 | 12.4440 | 5.1340 | 430 |\n| 6 | 26.8 | 29.7 | 34.7 | 13.6024 | 4.9274 | 450 |\n\n",
            "text/latex": "A data.frame: 6 × 6\n\\begin{tabular}{r|llllll}\n  & Length1 & Length2 & Length3 & Height & Width & Weight\\\\\n  & <dbl> & <dbl> & <dbl> & <dbl> & <dbl> & <dbl>\\\\\n\\hline\n\t1 & 23.2 & 25.4 & 30.0 & 11.5200 & 4.0200 & 242\\\\\n\t2 & 24.0 & 26.3 & 31.2 & 12.4800 & 4.3056 & 290\\\\\n\t3 & 23.9 & 26.5 & 31.1 & 12.3778 & 4.6961 & 340\\\\\n\t4 & 26.3 & 29.0 & 33.5 & 12.7300 & 4.4555 & 363\\\\\n\t5 & 26.5 & 29.0 & 34.0 & 12.4440 & 5.1340 & 430\\\\\n\t6 & 26.8 & 29.7 & 34.7 & 13.6024 & 4.9274 & 450\\\\\n\\end{tabular}\n",
            "text/plain": [
              "  Length1 Length2 Length3 Height  Width  Weight\n",
              "1 23.2    25.4    30.0    11.5200 4.0200 242   \n",
              "2 24.0    26.3    31.2    12.4800 4.3056 290   \n",
              "3 23.9    26.5    31.1    12.3778 4.6961 340   \n",
              "4 26.3    29.0    33.5    12.7300 4.4555 363   \n",
              "5 26.5    29.0    34.0    12.4440 5.1340 430   \n",
              "6 26.8    29.7    34.7    13.6024 4.9274 450   "
            ]
          },
          "metadata": {}
        }
      ],
      "source": [
        "library(dplyr)\n",
        "\n",
        "df = read.csv(\"Fish.csv\") %>%\n",
        "        select(-Species) %>%\n",
        "        select(-Weight, everything(), Weight)\n",
        "head(df)"
      ]
    },
    {
      "cell_type": "markdown",
      "id": "a56575c4-98fe-408e-bc67-3678aa77f4bd",
      "metadata": {
        "id": "a56575c4-98fe-408e-bc67-3678aa77f4bd"
      },
      "source": [
        "**Part B:** Make separate scatter plots for each feature versus the response. From these plots, we will try and make inferences about which features appear to have a relationship with the response variable. Write a brief summary of what you notice in each plot. Do you notice any trends in the data?"
      ]
    },
    {
      "cell_type": "code",
      "execution_count": null,
      "id": "6da0aa14-da9f-4908-8544-10d551875081",
      "metadata": {
        "id": "6da0aa14-da9f-4908-8544-10d551875081",
        "colab": {
          "base_uri": "https://localhost:8080/",
          "height": 437
        },
        "outputId": "578e4a58-cc66-495a-a98d-3004acb54b16"
      },
      "outputs": [
        {
          "output_type": "display_data",
          "data": {
            "text/plain": [
              "Plot with title “Width vs Weight”"
            ],
            "image/png": "[encoded data removed]"
          },
          "metadata": {
            "image/png": {
              "width": 420,
              "height": 420
            }
          }
        }
      ],
      "source": [
        "par(mfrow = c(2,3))\n",
        "\n",
        "plot(df$Length1, df$Weight, main = \"Length1 vs Weight\", xlab = \"Length1 (cm)\", ylab = \"Weight (g)\", pch = 16, col = \"red\")\n",
        "\n",
        "plot(df$Length2, df$Weight, main = \"Length2 vs Weight\", xlab = \"Length2 (cm)\", ylab = \"Weight (g)\", pch = 16, col = \"green\")\n",
        "\n",
        "plot(df$Length3, df$Weight, main = \"Length3 vs Weight\", xlab = \"Length3 (cm)\", ylab = \"Weight (g)\", pch = 16, col = \"blue\")\n",
        "\n",
        "plot(df$Height, df$Weight, main = \"Height vs Weight\", xlab = \"Height (cm)\", ylab = \"Weight (g)\", pch = 16, col = \"purple\")\n",
        "\n",
        "plot(df$Width, df$Weight, main = \"Width vs Weight\", xlab = \"Width (cm)\", ylab = \"Weight (g)\", pch = 16, col = \"orange\")\n",
        "\n",
        "par(mfrow = c(1,1))\n"
      ]
    },
    {
      "cell_type": "markdown",
      "source": [
        "- The variables 'Length1'(red), 'Length2'(green) and 'Length3'(blue) shows a strong positive correlation with 'weight'.\n",
        "- The spread has relatively large variance in higer values of lengths.\n",
        "- Linear Trend (lengths) as the length increases, the weight also increases.\n",
        "- Height is not highly correlated with weight (purple)\n",
        "since it is scattered, it has many outliers and there is no linear relationship so height is not reliable for predicting the wight.\n",
        "- Width shows a positive correlation (orange) with weight but it also has some variance in higher widths."
      ],
      "metadata": {
        "id": "Hz6cRJ2wrpRi"
      },
      "id": "Hz6cRJ2wrpRi"
    },
    {
      "cell_type": "markdown",
      "id": "8d5186b4-4945-4a01-9ce0-708d5427e76f",
      "metadata": {
        "id": "8d5186b4-4945-4a01-9ce0-708d5427e76f"
      },
      "source": [
        "**Part C:** Use your favorite method in R to fit simple linear regression models to the data. Fit a separate SLR model for each feature.\n",
        "\n",
        "\n",
        "Once you have fit each model, report the following information about each model:\n",
        "- intercept value\n",
        "- slope value\n",
        "- p-value"
      ]
    },
    {
      "cell_type": "code",
      "execution_count": null,
      "id": "494bb7df-285e-4963-aecf-0df33f60a797",
      "metadata": {
        "id": "494bb7df-285e-4963-aecf-0df33f60a797",
        "colab": {
          "base_uri": "https://localhost:8080/"
        },
        "outputId": "971273d7-1ee4-4112-b18b-d388f7d40d36"
      },
      "outputs": [
        {
          "output_type": "stream",
          "name": "stdout",
          "text": [
            "  Feature Intercept     Slope      p_value\n",
            "1 Length1 -462.3751  32.79216 2.415227e-30\n",
            "2 Length2 -473.6490  30.68637 1.295504e-31\n",
            "3 Length3 -490.4006  28.46017 1.299621e-33\n",
            "4  Height -144.3860  60.49635 1.881076e-03\n",
            "5   Width -433.2589 188.24855 4.163981e-23\n"
          ]
        }
      ],
      "source": [
        "features = c(\"Length1\", \"Length2\", \"Length3\", \"Height\", \"Width\")\n",
        "\n",
        "res_df = data.frame(Feature = character(),\n",
        "                     Intercept = numeric(),\n",
        "                     Slope = numeric(),\n",
        "                     P_Value = numeric(),\n",
        "                     stringsAsFactors = FALSE)\n",
        "\n",
        "for (feature in features) {\n",
        "  model = lm(Weight ~ df[[feature]], data = df)\n",
        "  model_summary = summary(model)\n",
        "  intercept = model_summary$coefficients[1,1]\n",
        "  slope = model_summary$coefficients[2,1]\n",
        "  p_value = model_summary$coefficients[1,4]\n",
        "  res_df = rbind(res_df, data.frame(Feature = feature,\n",
        "                                      Intercept = intercept,\n",
        "                                      Slope = slope,\n",
        "                                      p_value = p_value))\n",
        "}\n",
        "print(res_df)\n"
      ]
    },
    {
      "cell_type": "markdown",
      "id": "f79f83d8-872a-4e7c-a707-9339d0409aea",
      "metadata": {
        "id": "f79f83d8-872a-4e7c-a707-9339d0409aea"
      },
      "source": [
        "**Part D:** Use the SLR model from **Part C** for $\\texttt{Length3}$ versus $\\texttt{Weight}$ to estimate the weight of a fish whose measurement for $\\texttt{Length3}=31$ cm."
      ]
    },
    {
      "cell_type": "code",
      "execution_count": null,
      "id": "2b786de4-75b2-4bb9-ab91-ce2369833163",
      "metadata": {
        "id": "2b786de4-75b2-4bb9-ab91-ce2369833163",
        "colab": {
          "base_uri": "https://localhost:8080/",
          "height": 34
        },
        "outputId": "8e037d1b-71a7-4893-9a7f-3e03c8ddd58c"
      },
      "outputs": [
        {
          "output_type": "display_data",
          "data": {
            "text/html": [
              "391.864703358166"
            ],
            "text/markdown": "391.864703358166",
            "text/latex": "391.864703358166",
            "text/plain": [
              "[1] 391.8647"
            ]
          },
          "metadata": {}
        }
      ],
      "source": [
        "intercept_length3 = res_df[res_df$Feature == \"Length3\", \"Intercept\"]\n",
        "slope_length3 = res_df[res_df$Feature == \"Length3\", \"Slope\"]\n",
        "y_pred = intercept_length3 + slope_length3 * 31\n",
        "y_pred\n"
      ]
    },
    {
      "cell_type": "markdown",
      "id": "0b08e1bc-bc85-46e0-93b8-5fb6f2f10f01",
      "metadata": {
        "id": "0b08e1bc-bc85-46e0-93b8-5fb6f2f10f01"
      },
      "source": [
        "**Part E:** Looking at all 5 SLR models from **Part C**, what do you notice about the p-values? What inferences could you make from this information."
      ]
    },
    {
      "cell_type": "markdown",
      "id": "12d06b9a-7d6e-48b3-9f7e-c02c359304c0",
      "metadata": {
        "id": "12d06b9a-7d6e-48b3-9f7e-c02c359304c0"
      },
      "source": [
        "- The p values are very small ie. less than 0.05 which indicates each feature significantly contributes in predicting the response variable 'weight'\n",
        "- Smallest p value is for 'Length3' so it is the strongest predictor out of all the predictors.\n",
        "- The p values of Length1, Length2 and Length3 are extremely smaller (ie. $\\text{e}^-30$ and smaller) that represents lengths of fish are highly correlated with the response 'weigth' compared to other predictors such as 'height' and 'width'."
      ]
    },
    {
      "cell_type": "markdown",
      "id": "13e22585-fb42-4494-a3f9-cf208947e949",
      "metadata": {
        "id": "13e22585-fb42-4494-a3f9-cf208947e949"
      },
      "source": [
        "**Part F:(Optional for 4010 Students)**\n",
        "\n",
        "Now, let's fit a multiiple linear regression model!\n",
        "\n",
        "Explicitly write out the MLR model using the coefficients that you found so that you have an answer of the form:\n",
        "$$ \\hat{y} = \\beta_0+\\beta_1 x_1 + \\beta_2 x_2 + \\beta_3 x_3 + \\beta_4 x_4 + \\beta_5 x_5 $$"
      ]
    },
    {
      "cell_type": "code",
      "execution_count": null,
      "id": "080a5fa7-e651-4c31-b6e5-0b3770ba7d0e",
      "metadata": {
        "id": "080a5fa7-e651-4c31-b6e5-0b3770ba7d0e",
        "colab": {
          "base_uri": "https://localhost:8080/",
          "height": 121
        },
        "outputId": "9b622ace-3a28-4525-c1f0-46a83a2dd690"
      },
      "outputs": [
        {
          "output_type": "display_data",
          "data": {
            "text/html": [
              "<strong>(Intercept):</strong> -499.586955356943"
            ],
            "text/markdown": "**(Intercept):** -499.586955356943",
            "text/latex": "\\textbf{(Intercept):} -499.586955356943",
            "text/plain": [
              "(Intercept) \n",
              "   -499.587 "
            ]
          },
          "metadata": {}
        },
        {
          "output_type": "display_data",
          "data": {
            "text/html": [
              "<strong>Length1:</strong> 62.3552144324637"
            ],
            "text/markdown": "**Length1:** 62.3552144324637",
            "text/latex": "\\textbf{Length1:} 62.3552144324637",
            "text/plain": [
              " Length1 \n",
              "62.35521 "
            ]
          },
          "metadata": {}
        },
        {
          "output_type": "display_data",
          "data": {
            "text/html": [
              "<strong>Length2:</strong> -6.5267524920434"
            ],
            "text/markdown": "**Length2:** -6.5267524920434",
            "text/latex": "\\textbf{Length2:} -6.5267524920434",
            "text/plain": [
              "  Length2 \n",
              "-6.526752 "
            ]
          },
          "metadata": {}
        },
        {
          "output_type": "display_data",
          "data": {
            "text/html": [
              "<strong>Length3:</strong> -29.0262186126936"
            ],
            "text/markdown": "**Length3:** -29.0262186126936",
            "text/latex": "\\textbf{Length3:} -29.0262186126936",
            "text/plain": [
              "  Length3 \n",
              "-29.02622 "
            ]
          },
          "metadata": {}
        },
        {
          "output_type": "display_data",
          "data": {
            "text/html": [
              "<strong>Height:</strong> 28.2973513222766"
            ],
            "text/markdown": "**Height:** 28.2973513222766",
            "text/latex": "\\textbf{Height:} 28.2973513222766",
            "text/plain": [
              "  Height \n",
              "28.29735 "
            ]
          },
          "metadata": {}
        },
        {
          "output_type": "display_data",
          "data": {
            "text/html": [
              "<strong>Width:</strong> 22.4733066522373"
            ],
            "text/markdown": "**Width:** 22.4733066522373",
            "text/latex": "\\textbf{Width:} 22.4733066522373",
            "text/plain": [
              "   Width \n",
              "22.47331 "
            ]
          },
          "metadata": {}
        }
      ],
      "source": [
        "mlr_model = lm(Weight ~ Length1 + Length2 + Length3 + Height + Width, data = df)\n",
        "coeff_mlr_model = coef(mlr_model)\n",
        "\n",
        "intercept = coeff_mlr_model[1]\n",
        "beta1 = coeff_mlr_model[2]\n",
        "beta2 = coeff_mlr_model[3]\n",
        "beta3 = coeff_mlr_model[4]\n",
        "beta4 = coeff_mlr_model[5]\n",
        "beta5 = coeff_mlr_model[6]\n",
        "\n",
        "intercept\n",
        "beta1\n",
        "beta2\n",
        "beta3\n",
        "beta4\n",
        "beta5"
      ]
    },
    {
      "cell_type": "markdown",
      "id": "01617191-02da-42b3-9bf4-965c242b885a",
      "metadata": {
        "id": "01617191-02da-42b3-9bf4-965c242b885a"
      },
      "source": [
        "The **Multiple Linear Regression (MLR) equation** using the provided coefficients is:  \n",
        "\n",
        "\n",
        "$$\\hat{y} = -499.5869 + 62.3552 * \\text{Length1} - 6.5268 * \\text{Length2} - 29.0262 * \\text{Length3} + 28.2974 * \\text{Height} + 22.4733 * \\text{Width}$$\n",
        "\n",
        "\n"
      ]
    }
  ],
  "metadata": {
    "kernelspec": {
      "display_name": "R",
      "language": "R",
      "name": "ir"
    },
    "language_info": {
      "codemirror_mode": "r",
      "file_extension": ".r",
      "mimetype": "text/x-r-source",
      "name": "R",
      "pygments_lexer": "r",
      "version": "4.2.2"
    },
    "colab": {
      "provenance": []
    }
  },
  "nbformat": 4,
  "nbformat_minor": 5
}
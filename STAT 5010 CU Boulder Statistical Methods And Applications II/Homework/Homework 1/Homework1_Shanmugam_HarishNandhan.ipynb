{
  "cells": [
    {
      "cell_type": "markdown",
      "id": "77f2ca87-9940-4495-88a3-e9ce94dca95b",
      "metadata": {
        "id": "77f2ca87-9940-4495-88a3-e9ce94dca95b"
      },
      "source": [
        "# Homework 1: Confidence Intervals and Bootstrapping\n",
        "***\n",
        "\n",
        "**Name**: HARISH NANDHAN SHANMUGAM\n",
        "\n",
        "***\n",
        "\n",
        "This assignment is due on Gradescope by **Friday January 31 at 5:00PM**. Your solutions to theoretical questions should be done in Markdown directly below the associated question.  Your solutions to computational questions should include any specified R code and results as well as written commentary on your conclusions.  Remember that you are encouraged to discuss the problems with your classmates, but **you must write all code and solutions on your own**.\n",
        "\n",
        "**NOTES**:\n",
        "\n",
        "- There are 4 total questions on this assignment.\n",
        "- If you're not familiar with typesetting math directly into Markdown then by all means, do your work on paper first and then typeset it later.  Remember that there is a [reference guide](https://math.meta.stackexchange.com/questions/5020/mathjax-basic-tutorial-and-quick-reference) linked here. **All** of your written commentary, justifications and mathematical work should be in Markdown.\n",
        "- Because you can technically evaluate notebook cells in a non-linear order, it's a good idea to do Kernel $\\rightarrow$ Restart & Run All as a check before submitting your solutions.  That way if we need to run your code you will know that it will work as expected.\n",
        "- It is **bad form** to make your reader interpret numerical output from your code.  If a question asks you to compute some value from the data you should show your code output **AND** write a summary of the results in Markdown directly below your code.\n",
        "- This probably goes without saying, but... For any question that asks you to calculate something, you **must show all work and justify your answers to receive credit**. Sparse or nonexistent work will receive sparse or nonexistent credit.\n",
        "\n",
        "\n",
        "\n",
        "---"
      ]
    },
    {
      "cell_type": "markdown",
      "id": "80001430-836a-4dcd-996f-f1b3f0c7cf48",
      "metadata": {
        "id": "80001430-836a-4dcd-996f-f1b3f0c7cf48"
      },
      "source": [
        "### Problem 1 (20 Points) Net Promoter Scores\n",
        "\n",
        "Have you ever seen a survey like this?\n",
        "\n",
        "![NPS](https://github.com/alexyarosh/stat5000-f23/blob/69a5633a9a37bcc06105e9c18115a6486a45f142/NPS_survey.png?raw=true)\n",
        "\n",
        "\n",
        "One of the most widely used customer satisfaction metrics is [NPS - Net Promoter Score](https://en.wikipedia.org/wiki/Net_promoter_score). It is  extremely popular, especially among the executives  -- Wikipedia claims that \"versions of the NPS are now used by two-thirds of Fortune 1000 companies\". But statisically, it is problematic, and it has to be used with care, as you will hopefully see from this problem!\n",
        "\n",
        "Here's how the NPS is computed from a survey like the one above:\n",
        "* We call a specific response a **\"promoter\"** if the rating given is 9 or 10\n",
        "* We call a response a **\"detractor\"** if the rating given is 6 or below\n",
        "* We call a response neutral if the rating is 7 or 8\n",
        "\n",
        "$$NPS = \\frac{\\text{number of promoters}-\\text{number of detractors}}{\\text{total number of responses}} * 100$$\n",
        "\n",
        "So for example if the sample of responses to the survey is\n",
        "```\n",
        "10, 9, 5, 6, 7, 9, 9, 7, 2, 8\n",
        "```\n",
        "then we have 4 promoters (scores `10,9,9,9`) and 3 detractors (scores `5,6,2`), and  3 neutral responses, therefore\n",
        "\n",
        "$$ NPS = \\frac{4 - 3}{10}*100 = 10 $$\n",
        "\n",
        "Notice that NPS can range from -100 (all responses are detractors) to 100 (all responses are promoters). Positive NPS generally signifies positive sentiment, and one of the company's objectives can be to maximize it.\n",
        "\n",
        "NPS is supposed to measure the general customer sentiment and loyalty towards the product, but only a small subset of people usually fill the survey, so we can use **inference techniques** to estimate what the general sentiment is based on the NPS from the sample."
      ]
    },
    {
      "cell_type": "markdown",
      "id": "6c636738-1ebc-4738-a95b-53c75206230d",
      "metadata": {
        "id": "6c636738-1ebc-4738-a95b-53c75206230d"
      },
      "source": [
        "---\n",
        "**PART 1.A**\n",
        "Let's say we have a sample of 10 responses to the NPS survey\n",
        "`10, 9, 5, 6, 7, 9, 9, 7, 2, 8` and we receive another response.\n",
        "\n",
        "**What is the resulting NPS from the 11 responses if the 11th response is**:\n",
        "\n",
        "a. A promoter\n",
        "\n",
        "b. A detractor\n",
        "\n",
        "c. Neutral"
      ]
    },
    {
      "cell_type": "markdown",
      "id": "e784c773-cae2-4e9d-9e4e-6a9c142053e2",
      "metadata": {
        "id": "e784c773-cae2-4e9d-9e4e-6a9c142053e2"
      },
      "source": [
        "$$\\text{No. of Promoters} = 4$$\n",
        "$$\\text{No. of Detractors} = 3$$\n",
        "$$\\text{No. of Neutral} = 3$$\n",
        "$$\\text{Total} = 10$$\n",
        "\n",
        "(a) A Promoter:\n",
        "\n",
        "$$\\text{Promoters} = 4 + 1 = 5$$\n",
        "$$\\text{Detractors} = 3$$\n",
        "$$\\text{Neutral} = 3$$\n",
        "$$\\text{Total} = 11$$\n",
        "\n",
        "$$NPS = \\frac{5 - 3}{11} \\times 100 = \\frac{2}{11} \\times 100 \\approx 18.18$$\n",
        "\n",
        "(b) A Detractor:\n",
        "\n",
        "$$NPS = \\frac{4 - 4}{11} \\times 100 = 0$$\n",
        "\n",
        "(c) A Neutral:\n",
        "\n",
        "$$NPS = \\frac{4 - 3}{11} \\times 100 = \\frac{1}{11} \\times 100 \\approx 9.09$$\n"
      ]
    },
    {
      "cell_type": "markdown",
      "id": "9100ed22-85ae-4437-bb05-1ed68c5d3ccb",
      "metadata": {
        "id": "9100ed22-85ae-4437-bb05-1ed68c5d3ccb"
      },
      "source": [
        "---\n",
        "\n",
        "**PART 1.B**\n",
        "\n",
        "Let's say we have a survey with $n$ responses, and let $R_i$, $i=1, \\dots, n$ be a discrete random variable that takes value 1 if the response $i$ is a promoter, value 0 if the response is neutral, and -1 if $R_i$ is a detractor.\n",
        "\n",
        "In other words, $R_i$, $i=1,\\dots, n$ is a random sample of $n$ responses.\n",
        "\n",
        "If the probability of i’th response being a promoter is $p_P$, the probability of it being a detractor is $p_D$, what is the expected value $E[R_i]$ and variance  $Var[R_i]$ of $R_i$?"
      ]
    },
    {
      "cell_type": "markdown",
      "id": "50fe7238-1087-4c69-a6ce-7c7896d3e774",
      "metadata": {
        "id": "50fe7238-1087-4c69-a6ce-7c7896d3e774"
      },
      "source": [
        "EXPECTED VALUE\n",
        "$$E[X] = \\sum p(x_i) \\cdot x_i$$\n",
        "\n",
        "$$E[R_i] = \\sum_x x \\cdot P(R_i = x)$$\n",
        "\n",
        "\n",
        "$$E[R_i] = 1 \\cdot p_P + 0 \\cdot (1 - p_P - p_D) + (-1) \\cdot p_D$$\n",
        "\n",
        "$$E[R_i] = p_P - p_D$$\n",
        "\n",
        "VARIANCE\n",
        "\n",
        "$$\\text{Var}(X) = E[X^2] - (E[X])^2$$\n",
        "\n",
        "$$\\text{Var}(R_i) = E[R_i^2] - (E[R_i])^2$$\n",
        "\n",
        "$$E[R_i^2] = \\sum_x x^2 \\cdot P(R_i = x)$$\n",
        "\n",
        "$$E[R_i^2] = 1^2 \\cdot p_P + 0^2 \\cdot (1 - p_P - p_D) + (-1)^2 \\cdot p_D$$\n",
        "\n",
        "$$E[R_i^2] = p_P + p_D$$\n",
        "\n",
        "Already Known,\n",
        "$$E[R_i] = p_P - p_D$$\n",
        "\n",
        "\n",
        "$$\\text{Var}(R_i) = p_P + p_D - (p_P - p_D)^2$$\n",
        "\n",
        "$$= p_P + p_D - [p_P^2 + p_D^2 - 2p_Pp_D]$$\n",
        "\n",
        "$$= p_P + p_D - p_P^2 - p_D^2 + 2p_Pp_D$$\n",
        "\n",
        "$$\\text{Var}(R_i) = p_P(1 - p_P) + p_D(1 - p_D) + 2p_Pp_D$$"
      ]
    },
    {
      "cell_type": "markdown",
      "id": "a049f0a0-c660-44bc-87f7-e16464ebeada",
      "metadata": {
        "id": "a049f0a0-c660-44bc-87f7-e16464ebeada"
      },
      "source": [
        "---\n",
        "**PART 1.C**\n",
        "For the remainder of the problem, let's ignore multiplication by $100$ in the NPS computation. It's just rescaling, and doesn't really affect conclusion, but it complicates the computations.\n",
        "\n",
        "Explain why $NPS = \\bar{R}$, where $\\bar{R} = \\frac{R_1 + \\dots R_n}{n}$, the sample mean of $R_1, \\dots, R_n$"
      ]
    },
    {
      "cell_type": "markdown",
      "id": "c8e58e39-4da5-44a3-a91b-713bba19b94b",
      "metadata": {
        "id": "c8e58e39-4da5-44a3-a91b-713bba19b94b"
      },
      "source": [
        "$$\\text{WKT} \\quad NPS = \\frac{\\text{No. of Promoters} - \\text{No. of Detractors}}{n}$$\n",
        "\n",
        "Mean:\n",
        "\n",
        "$$\\bar{R} = R_i + R_{i1} + R_n$$\n",
        "\n",
        "Here,  \n",
        "$$R_i = 1 \\quad (\\text{Promoters})$$  \n",
        "$$R_i = -1 \\quad (\\text{Detractors})$$  \n",
        "$$R_i = 0 \\quad (\\text{Neutrals})$$\n",
        "\n",
        "$$\\bar{R} = \\frac{1}{n} \\sum_{i=1}^{n} 1(R_i = 1) + \\frac{1}{n} \\sum_{i=1}^{n} (-1)(R_i = -1) + \\frac{1}{n} \\sum_{i=1}^{n} 0(R_i = 0)$$\n",
        "$$\\bar{R} = \\frac{1}{n} \\sum_{i=1}^{n} 1(R_i = 1) - \\frac{1}{n} \\sum_{i=1}^{n} 1(R_i = -1)$$\n",
        "$$\\bar{R} = \\frac{\\text{No. of Promoters} - \\text{No. of Detractors}}{n}$$\n",
        "\n",
        "Hence, $$ NPS = \\bar{R} $$"
      ]
    },
    {
      "cell_type": "markdown",
      "id": "0a72985d-c9c8-43f0-9391-519e4dfb8245",
      "metadata": {
        "id": "0a72985d-c9c8-43f0-9391-519e4dfb8245"
      },
      "source": [
        "---\n",
        "**PART 1.D**\n",
        "\n",
        "Considering that $NPS$ can be seen as a sample mean, what is the approximate distribution of $NPS$ for large sample sizes $n$? Make sure to state the mean and variance of that distribution.\n",
        "\n",
        "\n",
        "_Hint 1. There is a *very important*, one could even say \"central\", theorem..._\n",
        "\n",
        "_Hint 2. Refer to STAT 5000 to remind yourself what is the mean and variance of a sample mean from an iid sample with population mean $\\mu$ and variance $\\sigma^2$_\n",
        "\n"
      ]
    },
    {
      "cell_type": "markdown",
      "id": "84186c5f-39da-45dd-8611-e08707734480",
      "metadata": {
        "id": "84186c5f-39da-45dd-8611-e08707734480"
      },
      "source": [
        "As per the Central Limit Theorem,  \n",
        "$$N(\\mu, \\frac{\\sigma^2}{n})$$  \n",
        "\n",
        "where  \n",
        "$$\\mu = \\text{mean}$$  \n",
        "$$\\sigma^2 = \\text{variance}$$  \n",
        "\n",
        "Here, in this NPS,  \n",
        "\n",
        "$$\\text{mean} = p_P - p_D$$  \n",
        "\n",
        "$$\\text{variance} = p_P(1 - p_P) + p_D(1 - p_d) + 2 p_P p_D$$  \n",
        "\n",
        "Thus,  \n",
        "\n",
        "$$NPS \\sim N \\left( p_P - p_D, \\frac{p_P(1 - p_P) + p_D(1 - p_D) + 2 p_P p_D}{n} \\right)$$\n"
      ]
    },
    {
      "cell_type": "markdown",
      "id": "bab1905c-ebfa-47ae-8248-c5683154ba71",
      "metadata": {
        "id": "bab1905c-ebfa-47ae-8248-c5683154ba71"
      },
      "source": [
        "---\n",
        "**PART 1.E**\n",
        "\n",
        "Write down the 95% $z$ confidence interval for $NPS$.\n",
        "\n",
        "_Note 1: Problem 1.4 is what tells us that we can use the $z$ confidence interval in the first place! Remember that \"$z$\" refers to!_\n",
        "\n",
        "_Note 2: Feel free to just use 1.96 as the critical value_"
      ]
    },
    {
      "cell_type": "markdown",
      "id": "ec1931d2-b174-4e42-9b79-1e9b8badd74e",
      "metadata": {
        "id": "ec1931d2-b174-4e42-9b79-1e9b8badd74e"
      },
      "source": [
        "Significance Value,\n",
        "$$\\alpha = 1 - 0.95 = 0.05$$\n",
        "\n",
        "$$Z_{\\alpha/2} = Z_{0.05/2} = 1.96$$\n",
        "\n",
        "$$\\bar{R} = \\text{Mean} = \\text{Expected Value} = p_P - p_D$$\n",
        "\n",
        "$$\\bar{R} - 1.96 \\times (\\frac{\\sigma}{\\sqrt{n}}), \\quad \\bar{R} + 1.96 \\times (\\frac{\\sigma}{\\sqrt{n}})$$\n",
        "\n",
        "$$p_P - p_D - 1.96* \\sqrt(\\frac{p_P(1-p_P) + p_D(1-p_D) + 2*p_P*p_D}{n})) , p_P - p_D + 1.96* \\sqrt(\\frac{p_P(1-p_P) + p_D(1-p_D) + 2*p_P*p_D}{n})$$\n"
      ]
    },
    {
      "cell_type": "markdown",
      "id": "25c50ef9-d5f9-490d-8531-dfba96dc37b4",
      "metadata": {
        "id": "25c50ef9-d5f9-490d-8531-dfba96dc37b4"
      },
      "source": [
        "---\n",
        "**PART 1.F**\n",
        "\n",
        "Let's say that on a survey with 30 responses,  the propotion of promoters was 0.5, and proportion of detractors was 0.3.\n",
        "\n",
        "Then the $NPS$ (without multiplying by 100) is $0.5 - 0.3 = 0.2$.\n",
        "What is the 95\\% confidence interval for this score?"
      ]
    },
    {
      "cell_type": "markdown",
      "id": "3a00aa32-2fa7-4dbf-af2a-e05b196f8ab3",
      "metadata": {
        "id": "3a00aa32-2fa7-4dbf-af2a-e05b196f8ab3"
      },
      "source": [
        "- NPS = 0.2\n",
        "- p_P = 0.5\n",
        "- p_D = 0.3\n",
        "\n",
        "$$ (0.5 - 0.3 - 1.96* \\sqrt(\\frac{(0.5(1-0.5) + 0.3(1-0.3) + 2*0.5*0.3)}{30})) , (0.5 - 0.3 + 1.96* \\sqrt(\\frac{(0.5(1-0.5) + 0.3(1-0.3) + 2*0.5*0.3)}{30}))$$\n",
        "$$ (0.2 - 1.96* 0.1592) , (0.2 + 1.96* 0.1592)$$\n",
        "$$ (0.2 - 0.31) , (0.2 + 0.31)$$\n",
        "$$ [-0.11,0.51] $$\n"
      ]
    },
    {
      "cell_type": "code",
      "execution_count": null,
      "id": "c9af810e-10d0-4ac3-8533-384c99b3b3d1",
      "metadata": {
        "vscode": {
          "languageId": "r"
        },
        "id": "c9af810e-10d0-4ac3-8533-384c99b3b3d1",
        "outputId": "14e1b0d8-b5ae-4495-b517-7ea04e50c205",
        "colab": {
          "base_uri": "https://localhost:8080/",
          "height": 52
        }
      },
      "outputs": [
        {
          "output_type": "display_data",
          "data": {
            "text/html": [
              "-0.111962390895655"
            ],
            "text/markdown": "-0.111962390895655",
            "text/latex": "-0.111962390895655",
            "text/plain": [
              "[1] -0.1119624"
            ]
          },
          "metadata": {}
        },
        {
          "output_type": "display_data",
          "data": {
            "text/html": [
              "0.511962390895655"
            ],
            "text/markdown": "0.511962390895655",
            "text/latex": "0.511962390895655",
            "text/plain": [
              "[1] 0.5119624"
            ]
          },
          "metadata": {}
        }
      ],
      "source": [
        "p_P = 0.5\n",
        "p_D = 0.3\n",
        "n = 30\n",
        "z = 1.96\n",
        "\n",
        "std_err = sqrt((p_P * (1 - p_P) + p_D * (1 - p_D) + 2 * p_P * p_D) / n)\n",
        "\n",
        "lower_CI = 0.2 - z * std_err\n",
        "upper_CI = 0.2 + z * std_err\n",
        "\n",
        "\n",
        "lower_CI\n",
        "upper_CI"
      ]
    },
    {
      "cell_type": "markdown",
      "id": "a3694123-3b38-40ae-937d-1cf0e8043a4a",
      "metadata": {
        "id": "a3694123-3b38-40ae-937d-1cf0e8043a4a"
      },
      "source": [
        "---\n",
        "\n",
        "NPS is widely used in customer analytics, but it doesn't have built-in procedures in R like `t.test` for mean or `prop.test` for proportion, and you might not want to go through the computation above every time you want to report NPS together with the margin of error or its CI. So creating a bootstrap confidence interval can be a good alternative.\n",
        "\n",
        "---"
      ]
    },
    {
      "cell_type": "markdown",
      "id": "03068df0-dcf0-48a2-ae1e-84e7f3b1aa93",
      "metadata": {
        "id": "03068df0-dcf0-48a2-ae1e-84e7f3b1aa93"
      },
      "source": [
        "### Problem 2 (25 Points): Bootstrapping Net Promoter Scores"
      ]
    },
    {
      "cell_type": "markdown",
      "id": "3d24d80a-90c5-4c86-be00-ffb676f1cb2d",
      "metadata": {
        "id": "3d24d80a-90c5-4c86-be00-ffb676f1cb2d"
      },
      "source": [
        "(For the definition of NPS, see Problem 1)"
      ]
    },
    {
      "cell_type": "markdown",
      "id": "3bb1e921-f4d8-4387-a18a-97aa0246b0ef",
      "metadata": {
        "id": "3bb1e921-f4d8-4387-a18a-97aa0246b0ef"
      },
      "source": [
        "The code below reads an example dataset of NPS survey responses into the dataframe `data`. The responses are in the `response` column.\n"
      ]
    },
    {
      "cell_type": "code",
      "execution_count": 3,
      "id": "3b5a7cc4-2656-4641-9592-5efe9316c4a1",
      "metadata": {
        "vscode": {
          "languageId": "r"
        },
        "id": "3b5a7cc4-2656-4641-9592-5efe9316c4a1",
        "outputId": "ba94a630-a4d8-4321-c186-6df25883322e",
        "colab": {
          "base_uri": "https://localhost:8080/",
          "height": 303
        }
      },
      "outputs": [
        {
          "output_type": "display_data",
          "data": {
            "text/html": [
              "<table class=\"dataframe\">\n",
              "<caption>A data.frame: 6 × 1</caption>\n",
              "<thead>\n",
              "\t<tr><th></th><th scope=col>response</th></tr>\n",
              "\t<tr><th></th><th scope=col>&lt;int&gt;</th></tr>\n",
              "</thead>\n",
              "<tbody>\n",
              "\t<tr><th scope=row>1</th><td>10</td></tr>\n",
              "\t<tr><th scope=row>2</th><td> 5</td></tr>\n",
              "\t<tr><th scope=row>3</th><td> 8</td></tr>\n",
              "\t<tr><th scope=row>4</th><td> 9</td></tr>\n",
              "\t<tr><th scope=row>5</th><td> 8</td></tr>\n",
              "\t<tr><th scope=row>6</th><td>10</td></tr>\n",
              "</tbody>\n",
              "</table>\n"
            ],
            "text/markdown": "\nA data.frame: 6 × 1\n\n| <!--/--> | response &lt;int&gt; |\n|---|---|\n| 1 | 10 |\n| 2 |  5 |\n| 3 |  8 |\n| 4 |  9 |\n| 5 |  8 |\n| 6 | 10 |\n\n",
            "text/latex": "A data.frame: 6 × 1\n\\begin{tabular}{r|l}\n  & response\\\\\n  & <int>\\\\\n\\hline\n\t1 & 10\\\\\n\t2 &  5\\\\\n\t3 &  8\\\\\n\t4 &  9\\\\\n\t5 &  8\\\\\n\t6 & 10\\\\\n\\end{tabular}\n",
            "text/plain": [
              "  response\n",
              "1 10      \n",
              "2  5      \n",
              "3  8      \n",
              "4  9      \n",
              "5  8      \n",
              "6 10      "
            ]
          },
          "metadata": {}
        }
      ],
      "source": [
        "data <- read.csv('/content/nps.csv')\n",
        "head(data)"
      ]
    },
    {
      "cell_type": "markdown",
      "id": "4d364b1d-f963-49e7-b88e-113b5e9b44b5",
      "metadata": {
        "id": "4d364b1d-f963-49e7-b88e-113b5e9b44b5"
      },
      "source": [
        "---\n",
        "**PART 2.A**\n",
        "\n",
        "Create a function called `nps()` that takes a vector of survey responses as an argument and returns the NPS based on those responses. Demonstrate the function by calling it on the `response` column of `data`."
      ]
    },
    {
      "cell_type": "code",
      "execution_count": 8,
      "id": "5829ed4d-8ec6-4992-b01d-9cd4595adee2",
      "metadata": {
        "vscode": {
          "languageId": "r"
        },
        "id": "5829ed4d-8ec6-4992-b01d-9cd4595adee2",
        "colab": {
          "base_uri": "https://localhost:8080/",
          "height": 34
        },
        "outputId": "b1d913e3-cdf8-469d-cb99-b3ddabe394d5"
      },
      "outputs": [
        {
          "output_type": "display_data",
          "data": {
            "text/html": [
              "8.31826401446655"
            ],
            "text/markdown": "8.31826401446655",
            "text/latex": "8.31826401446655",
            "text/plain": [
              "[1] 8.318264"
            ]
          },
          "metadata": {}
        }
      ],
      "source": [
        "nps = function(response){\n",
        "  promoters = sum(response >= 9)\n",
        "  detractors = sum(response <= 6)\n",
        "  Nps = (promoters - detractors)/length(response) * 100\n",
        "  return (Nps)\n",
        "}\n",
        "\n",
        "nps_val = nps(data$response)\n",
        "nps_val\n"
      ]
    },
    {
      "cell_type": "markdown",
      "id": "054767e6-ad02-4248-8d12-9e0e83a9cbfa",
      "metadata": {
        "id": "054767e6-ad02-4248-8d12-9e0e83a9cbfa"
      },
      "source": [
        "**PART 2.B**\n",
        "Create one bootstrap sample from the `response` column of `data`, and compute the NPS for that boostrap sample."
      ]
    },
    {
      "cell_type": "code",
      "execution_count": 9,
      "id": "1f26ed11-b33a-4d77-9b37-a79c9f18cb2c",
      "metadata": {
        "vscode": {
          "languageId": "r"
        },
        "id": "1f26ed11-b33a-4d77-9b37-a79c9f18cb2c",
        "colab": {
          "base_uri": "https://localhost:8080/",
          "height": 34
        },
        "outputId": "c8131dfb-8b3d-4e11-9d51-614a74df456f"
      },
      "outputs": [
        {
          "output_type": "display_data",
          "data": {
            "text/html": [
              "9.28270042194093"
            ],
            "text/markdown": "9.28270042194093",
            "text/latex": "9.28270042194093",
            "text/plain": [
              "[1] 9.2827"
            ]
          },
          "metadata": {}
        }
      ],
      "source": [
        "bootstrap_samples = sample(data$response,size=length(data$response),replace=TRUE)\n",
        "nps_bootstrap = nps(bootstrap_samples)\n",
        "nps_bootstrap"
      ]
    },
    {
      "cell_type": "markdown",
      "id": "e3d81aae-fbbd-425f-91c9-fd9ec4342416",
      "metadata": {
        "id": "e3d81aae-fbbd-425f-91c9-fd9ec4342416"
      },
      "source": [
        "\n",
        "---\n",
        "\n",
        "*If you created the bootstrap sample correctly, the NPS should be different from the NPS you computed from `data$responses`.*\n",
        "\n",
        "---\n"
      ]
    },
    {
      "cell_type": "markdown",
      "id": "9b0f8907-2edc-4e8d-9992-1b844d4495eb",
      "metadata": {
        "id": "9b0f8907-2edc-4e8d-9992-1b844d4495eb"
      },
      "source": [
        "**PART 2.C**\n",
        "\n",
        "1. Create 30 bootstrap samples of the `response` column of `data`. Save them in a variable.\n",
        "2. Compute NPS for each sample\n",
        "3. Plot the distribution of bootstrapped NPS by plotting a normalized histogram of these scores\n",
        "\n",
        "\n",
        "*Hint: The function `replicate()` might be helpful*\n",
        "\n",
        "*Note: If you're using `ggplot`, you can normalize a histogram by specifying `y = after_stat(density)` inside `aes` in `geom_histogram()`*\n",
        "\n",
        "_Notice that 30 is the number of bootstrap samples, not the size of them! The size of any bootstrap sample sample is just the size of the dataset, because the dataset is the sample._\n"
      ]
    },
    {
      "cell_type": "code",
      "execution_count": 11,
      "id": "f2f0fcd8-ab11-484a-8c0d-91f069eaaf9a",
      "metadata": {
        "vscode": {
          "languageId": "r"
        },
        "id": "f2f0fcd8-ab11-484a-8c0d-91f069eaaf9a",
        "colab": {
          "base_uri": "https://localhost:8080/",
          "height": 1000
        },
        "outputId": "d5d33f05-131b-4a78-c86d-a936676bd079"
      },
      "outputs": [
        {
          "output_type": "display_data",
          "data": {
            "text/html": [
              "<table class=\"dataframe\">\n",
              "<caption>A data.frame: 30 × 1</caption>\n",
              "<thead>\n",
              "\t<tr><th scope=col>NPS</th></tr>\n",
              "\t<tr><th scope=col>&lt;dbl&gt;</th></tr>\n",
              "</thead>\n",
              "<tbody>\n",
              "\t<tr><td> 8.800482</td></tr>\n",
              "\t<tr><td> 5.967450</td></tr>\n",
              "\t<tr><td> 3.435805</td></tr>\n",
              "\t<tr><td> 7.112719</td></tr>\n",
              "\t<tr><td> 9.885473</td></tr>\n",
              "\t<tr><td> 8.860759</td></tr>\n",
              "\t<tr><td> 5.605787</td></tr>\n",
              "\t<tr><td> 8.800482</td></tr>\n",
              "\t<tr><td> 6.027728</td></tr>\n",
              "\t<tr><td> 5.424955</td></tr>\n",
              "\t<tr><td> 8.559373</td></tr>\n",
              "\t<tr><td> 8.679928</td></tr>\n",
              "\t<tr><td> 7.293550</td></tr>\n",
              "\t<tr><td>10.186860</td></tr>\n",
              "\t<tr><td>10.126582</td></tr>\n",
              "\t<tr><td>10.367691</td></tr>\n",
              "\t<tr><td> 7.233273</td></tr>\n",
              "\t<tr><td> 9.523810</td></tr>\n",
              "\t<tr><td> 5.123568</td></tr>\n",
              "\t<tr><td>11.814346</td></tr>\n",
              "\t<tr><td>11.030741</td></tr>\n",
              "\t<tr><td> 5.424955</td></tr>\n",
              "\t<tr><td> 8.378541</td></tr>\n",
              "\t<tr><td> 8.679928</td></tr>\n",
              "\t<tr><td> 9.764919</td></tr>\n",
              "\t<tr><td> 5.424955</td></tr>\n",
              "\t<tr><td> 7.414105</td></tr>\n",
              "\t<tr><td> 7.353828</td></tr>\n",
              "\t<tr><td> 9.222423</td></tr>\n",
              "\t<tr><td> 7.655214</td></tr>\n",
              "</tbody>\n",
              "</table>\n"
            ],
            "text/markdown": "\nA data.frame: 30 × 1\n\n| NPS &lt;dbl&gt; |\n|---|\n|  8.800482 |\n|  5.967450 |\n|  3.435805 |\n|  7.112719 |\n|  9.885473 |\n|  8.860759 |\n|  5.605787 |\n|  8.800482 |\n|  6.027728 |\n|  5.424955 |\n|  8.559373 |\n|  8.679928 |\n|  7.293550 |\n| 10.186860 |\n| 10.126582 |\n| 10.367691 |\n|  7.233273 |\n|  9.523810 |\n|  5.123568 |\n| 11.814346 |\n| 11.030741 |\n|  5.424955 |\n|  8.378541 |\n|  8.679928 |\n|  9.764919 |\n|  5.424955 |\n|  7.414105 |\n|  7.353828 |\n|  9.222423 |\n|  7.655214 |\n\n",
            "text/latex": "A data.frame: 30 × 1\n\\begin{tabular}{l}\n NPS\\\\\n <dbl>\\\\\n\\hline\n\t  8.800482\\\\\n\t  5.967450\\\\\n\t  3.435805\\\\\n\t  7.112719\\\\\n\t  9.885473\\\\\n\t  8.860759\\\\\n\t  5.605787\\\\\n\t  8.800482\\\\\n\t  6.027728\\\\\n\t  5.424955\\\\\n\t  8.559373\\\\\n\t  8.679928\\\\\n\t  7.293550\\\\\n\t 10.186860\\\\\n\t 10.126582\\\\\n\t 10.367691\\\\\n\t  7.233273\\\\\n\t  9.523810\\\\\n\t  5.123568\\\\\n\t 11.814346\\\\\n\t 11.030741\\\\\n\t  5.424955\\\\\n\t  8.378541\\\\\n\t  8.679928\\\\\n\t  9.764919\\\\\n\t  5.424955\\\\\n\t  7.414105\\\\\n\t  7.353828\\\\\n\t  9.222423\\\\\n\t  7.655214\\\\\n\\end{tabular}\n",
            "text/plain": [
              "   NPS      \n",
              "1   8.800482\n",
              "2   5.967450\n",
              "3   3.435805\n",
              "4   7.112719\n",
              "5   9.885473\n",
              "6   8.860759\n",
              "7   5.605787\n",
              "8   8.800482\n",
              "9   6.027728\n",
              "10  5.424955\n",
              "11  8.559373\n",
              "12  8.679928\n",
              "13  7.293550\n",
              "14 10.186860\n",
              "15 10.126582\n",
              "16 10.367691\n",
              "17  7.233273\n",
              "18  9.523810\n",
              "19  5.123568\n",
              "20 11.814346\n",
              "21 11.030741\n",
              "22  5.424955\n",
              "23  8.378541\n",
              "24  8.679928\n",
              "25  9.764919\n",
              "26  5.424955\n",
              "27  7.414105\n",
              "28  7.353828\n",
              "29  9.222423\n",
              "30  7.655214"
            ]
          },
          "metadata": {}
        },
        {
          "output_type": "stream",
          "name": "stderr",
          "text": [
            "\u001b[1m\u001b[22m`stat_bin()` using `bins = 30`. Pick better value with `binwidth`.\n"
          ]
        },
        {
          "output_type": "display_data",
          "data": {
            "text/plain": [
              "plot without title"
            ],
            "image/png": "[encoded data removed]"
          },
          "metadata": {
            "image/png": {
              "width": 420,
              "height": 420
            }
          }
        }
      ],
      "source": [
        "library(ggplot2)\n",
        "bootstrap_samples = replicate(30, sample(data$response, length(data$response), replace=TRUE))\n",
        "\n",
        "bootstrap_nps = numeric(ncol(bootstrap_samples))\n",
        "\n",
        "for(i in 1:ncol(bootstrap_samples)){\n",
        "  sample_data = bootstrap_samples[,i]\n",
        "  bootstrap_nps[i] = nps(sample_data)\n",
        "}\n",
        "\n",
        "bootstrap_nps_df = data.frame(NPS = bootstrap_nps)\n",
        "bootstrap_nps_df\n",
        "ggplot(data = bootstrap_nps_df) +\n",
        "  geom_histogram(aes(x = NPS, y = after_stat(density)),\n",
        "                 alpha = 0.7, color = \"black\", fill = \"red\") +\n",
        "  theme_bw()"
      ]
    },
    {
      "cell_type": "markdown",
      "id": "11edbf77-f45b-4caf-9b2f-6a9a85b6cc5a",
      "metadata": {
        "id": "11edbf77-f45b-4caf-9b2f-6a9a85b6cc5a"
      },
      "source": [
        "---\n",
        "\n",
        "_It's very difficult to understand the distribution of scores from this histogram. For example, what is the variance of this distribution? How likely are the numbers around 8.31 (the NPS for the original data) to appear?.. To answer questions like this, we need to take more bootstrap samples to get a \"smoother\" distribution._\n",
        "\n",
        "---\n"
      ]
    },
    {
      "cell_type": "markdown",
      "id": "2224a671-720d-4f70-b719-ee7098142108",
      "metadata": {
        "id": "2224a671-720d-4f70-b719-ee7098142108"
      },
      "source": [
        "**PART 2.D**\n",
        "\n",
        "1. Repeat the process in the previous question, but generate 3000 samples this time. Save the 3000 NPS results in a variable -- you'll use them in the next question.\n",
        "2. Plot the normalized histogram of the 3000 samples, and a density plot in a different color.\n",
        "3. Also, add a vertical line at the NPS value for the original dataset (in a third color)\n",
        "\n",
        "The distribution should look much smoother now. What can you say about the shape of the bootstrap distribution, and the role of the NPS of the original dataset in it?"
      ]
    },
    {
      "cell_type": "code",
      "execution_count": 12,
      "id": "2a1bb1f1-c7eb-481c-9177-bf1a8d1ac2b1",
      "metadata": {
        "vscode": {
          "languageId": "r"
        },
        "id": "2a1bb1f1-c7eb-481c-9177-bf1a8d1ac2b1",
        "colab": {
          "base_uri": "https://localhost:8080/",
          "height": 511
        },
        "outputId": "316c15ae-657b-41c4-8d9c-9e71bc4e5ae6"
      },
      "outputs": [
        {
          "output_type": "stream",
          "name": "stderr",
          "text": [
            "Warning message:\n",
            "“\u001b[1m\u001b[22mUsing `size` aesthetic for lines was deprecated in ggplot2 3.4.0.\n",
            "\u001b[36mℹ\u001b[39m Please use `linewidth` instead.”\n",
            "\u001b[1m\u001b[22m`stat_bin()` using `bins = 30`. Pick better value with `binwidth`.\n"
          ]
        },
        {
          "output_type": "display_data",
          "data": {
            "text/plain": [
              "plot without title"
            ],
            "image/png": "[encoded data removed]"
          },
          "metadata": {
            "image/png": {
              "width": 420,
              "height": 420
            }
          }
        }
      ],
      "source": [
        "bootstrap_samples = replicate(3000, sample(data$response, length(data$response), replace=TRUE))\n",
        "bootstrap_nps = numeric(ncol(bootstrap_samples))\n",
        "\n",
        "for(i in 1:ncol(bootstrap_samples)){\n",
        "  sample_data = bootstrap_samples[,i]\n",
        "  bootstrap_nps[i] = nps(sample_data)\n",
        "}\n",
        "bootstrap_nps_df = data.frame(NPS = bootstrap_nps)\n",
        "nps_data = nps(data$response)\n",
        "\n",
        "ggplot(data = bootstrap_nps_df, aes(x=NPS))+\n",
        "geom_histogram(aes(y =  after_stat(density)),alpha=0.7,color=\"black\",fill=\"Red\")+\n",
        "geom_density(color = \"blue\", size = 1)+\n",
        "geom_vline(aes(xintercept = nps_data), color = \"green\", size = 1) +\n",
        "theme_bw()"
      ]
    },
    {
      "cell_type": "markdown",
      "id": "714f01ed-54f8-481f-b12e-49881dfeecad",
      "metadata": {
        "id": "714f01ed-54f8-481f-b12e-49881dfeecad"
      },
      "source": [
        "---\n",
        "\n",
        "When reporting business metrics (like NPS scores) that are based on samples, it's a good idea to also specify the margin of error or the the confidence interval, so that the audience of the report understands how to interpret the metric. For example, it can look something like $20.3 \\pm 3.56$, or $(52.4, 61.3)$\n",
        "\n",
        "Given the bootstrap distribution that you just obtained, we'll compute the 95\\% confidence interval for the NPS of the original dataset.\n",
        "\n",
        "There are multiple methods of obtaining CIs from bootstrap samples. We'll use a method called **percentile bootstrap**: to determine the 95\\% CI, we'll find such values that 95\\% of the bootstrap distribution lies within those values:\n",
        "\n",
        "![bootstrap distribution](https://github.com/alexyarosh/stat5000-f23/blob/main/bootstrap_ci.png?raw=true)\n",
        "\n",
        "For this symmeric distribution, this means we need to find one value such that 2.5\\% (half of 5\\%) of the bootstrap distribution is to the left of it, and another value such that 2.5\\% of the distribution is to the right.\n",
        "\n",
        "\n",
        "---\n",
        "\n",
        "**PART 2.E**\n",
        "\n",
        "Use the built in `quantile()` function to find the lower and upper limits of the 95\\% confidence interval for the bootstrap distribution that you created in 2.4."
      ]
    },
    {
      "cell_type": "code",
      "execution_count": 13,
      "id": "74949bad-26ec-4a6c-ba7f-8bb5b355ae76",
      "metadata": {
        "vscode": {
          "languageId": "r"
        },
        "id": "74949bad-26ec-4a6c-ba7f-8bb5b355ae76",
        "colab": {
          "base_uri": "https://localhost:8080/",
          "height": 52
        },
        "outputId": "48292026-eae7-4e8d-8d3f-1bc934b4994c"
      },
      "outputs": [
        {
          "output_type": "display_data",
          "data": {
            "text/html": [
              "<strong>2.5%:</strong> 4.40024110910187"
            ],
            "text/markdown": "**2.5%:** 4.40024110910187",
            "text/latex": "\\textbf{2.5\\textbackslash{}\\%:} 4.40024110910187",
            "text/plain": [
              "    2.5% \n",
              "4.400241 "
            ]
          },
          "metadata": {}
        },
        {
          "output_type": "display_data",
          "data": {
            "text/html": [
              "<strong>97.5%:</strong> 12.3568414707655"
            ],
            "text/markdown": "**97.5%:** 12.3568414707655",
            "text/latex": "\\textbf{97.5\\textbackslash{}\\%:} 12.3568414707655",
            "text/plain": [
              "   97.5% \n",
              "12.35684 "
            ]
          },
          "metadata": {}
        }
      ],
      "source": [
        "lower_CI = quantile(bootstrap_nps_df$NPS,0.025)\n",
        "upper_CI = quantile(bootstrap_nps_df$NPS,0.975)\n",
        "\n",
        "lower_CI\n",
        "upper_CI"
      ]
    },
    {
      "cell_type": "markdown",
      "id": "164e216c-db33-4e16-9649-4f5ac6619fdc",
      "metadata": {
        "id": "164e216c-db33-4e16-9649-4f5ac6619fdc"
      },
      "source": [
        "---\n",
        "**PART 2.F**\n",
        "\n",
        "Compute the differences between the original sample NPS and the lower/upper limits for the confidence interval.\n",
        "\n",
        "Are they equal? Should we expect them to be? Why or why not?\n",
        "\n",
        "Hint: is the distribution *perfectly, completely symmetric*?"
      ]
    },
    {
      "cell_type": "code",
      "execution_count": 14,
      "id": "03409e9d-71fc-43f5-b69e-45b26e11124d",
      "metadata": {
        "vscode": {
          "languageId": "r"
        },
        "id": "03409e9d-71fc-43f5-b69e-45b26e11124d",
        "colab": {
          "base_uri": "https://localhost:8080/",
          "height": 70
        },
        "outputId": "7d21a8c4-61a7-4a73-ee49-b51aa7dd96ca"
      },
      "outputs": [
        {
          "output_type": "stream",
          "name": "stdout",
          "text": [
            "Difference"
          ]
        },
        {
          "output_type": "display_data",
          "data": {
            "text/html": [
              "<strong>2.5%:</strong> 3.91802290536468"
            ],
            "text/markdown": "**2.5%:** 3.91802290536468",
            "text/latex": "\\textbf{2.5\\textbackslash{}\\%:} 3.91802290536468",
            "text/plain": [
              "    2.5% \n",
              "3.918023 "
            ]
          },
          "metadata": {}
        },
        {
          "output_type": "display_data",
          "data": {
            "text/html": [
              "<strong>97.5%:</strong> 4.03857745629898"
            ],
            "text/markdown": "**97.5%:** 4.03857745629898",
            "text/latex": "\\textbf{97.5\\textbackslash{}\\%:} 4.03857745629898",
            "text/plain": [
              "   97.5% \n",
              "4.038577 "
            ]
          },
          "metadata": {}
        }
      ],
      "source": [
        "lower_limit_difference = nps_data - lower_CI\n",
        "upper_limit_difference = upper_CI - nps_data\n",
        "cat(\"Difference\")\n",
        "lower_limit_difference\n",
        "upper_limit_difference"
      ]
    },
    {
      "cell_type": "markdown",
      "source": [
        "- No they are not equal\n",
        "- We should not expect them to be equal because the bootstrap distribution is not always perfectly completely symmetric because there'll be variability in samples, due to data skewness\n",
        "- Small sample sizes and the outliers in the data may lead to create the asymmetry and if the distribution is not symmetric then the original sample NPS and LowerCI and Upper CI differences won't be equal"
      ],
      "metadata": {
        "id": "asdnCju0B0x-"
      },
      "id": "asdnCju0B0x-"
    },
    {
      "cell_type": "markdown",
      "id": "4f235beb-3d89-429f-9025-5b0b9e3ccc70",
      "metadata": {
        "id": "4f235beb-3d89-429f-9025-5b0b9e3ccc70"
      },
      "source": [
        "### Problem 3 (25 Points): How old are cats in animal shelters?"
      ]
    },
    {
      "cell_type": "markdown",
      "id": "d79a1099-bc34-439a-b9f7-f298ed695026",
      "metadata": {
        "id": "d79a1099-bc34-439a-b9f7-f298ed695026"
      },
      "source": [
        "Austin city government regularly [publishes data](https://data.austintexas.gov/Health-and-Community-Services/Austin-Animal-Center-Outcomes/9t4d-g238) about animals in the city-run animal shelter. The code below loads information about a _sample_ of cats from that shelter into the variable `cats`:"
      ]
    },
    {
      "cell_type": "code",
      "execution_count": null,
      "id": "52e9a5c4-6046-4534-922e-6f797ab88186",
      "metadata": {
        "vscode": {
          "languageId": "r"
        },
        "id": "52e9a5c4-6046-4534-922e-6f797ab88186",
        "outputId": "ab5c3d92-9839-4eec-dd16-90e55f2bb718",
        "colab": {
          "base_uri": "https://localhost:8080/",
          "height": 286
        }
      },
      "outputs": [
        {
          "output_type": "display_data",
          "data": {
            "text/html": [
              "<table class=\"dataframe\">\n",
              "<caption>A data.frame: 6 × 8</caption>\n",
              "<thead>\n",
              "\t<tr><th></th><th scope=col>X</th><th scope=col>animal_id</th><th scope=col>name</th><th scope=col>outcome_type</th><th scope=col>animal_type</th><th scope=col>breed</th><th scope=col>color</th><th scope=col>age_days</th></tr>\n",
              "\t<tr><th></th><th scope=col>&lt;int&gt;</th><th scope=col>&lt;chr&gt;</th><th scope=col>&lt;chr&gt;</th><th scope=col>&lt;chr&gt;</th><th scope=col>&lt;chr&gt;</th><th scope=col>&lt;chr&gt;</th><th scope=col>&lt;chr&gt;</th><th scope=col>&lt;int&gt;</th></tr>\n",
              "</thead>\n",
              "<tbody>\n",
              "\t<tr><th scope=row>1</th><td>1</td><td>A846341</td><td>        </td><td>Adoption</td><td>Cat</td><td>Domestic Shorthair      </td><td>Blue Tabby       </td><td>  55</td></tr>\n",
              "\t<tr><th scope=row>2</th><td>2</td><td>A772759</td><td>*Bella  </td><td>Adoption</td><td>Cat</td><td>Domestic Medium Hair Mix</td><td>Blue             </td><td>  63</td></tr>\n",
              "\t<tr><th scope=row>3</th><td>3</td><td>A666893</td><td>Pristy  </td><td>Transfer</td><td>Cat</td><td>Domestic Shorthair Mix  </td><td>Black            </td><td>2237</td></tr>\n",
              "\t<tr><th scope=row>4</th><td>4</td><td>A753626</td><td>*Mooney </td><td>Adoption</td><td>Cat</td><td>Domestic Shorthair Mix  </td><td>Black            </td><td>  92</td></tr>\n",
              "\t<tr><th scope=row>5</th><td>5</td><td>A747591</td><td>        </td><td>Transfer</td><td>Cat</td><td>Domestic Longhair Mix   </td><td>Brown Tabby      </td><td> 369</td></tr>\n",
              "\t<tr><th scope=row>6</th><td>6</td><td>A703272</td><td>*Catelyn</td><td>Adoption</td><td>Cat</td><td>Domestic Shorthair Mix  </td><td>Cream Tabby/White</td><td>  88</td></tr>\n",
              "</tbody>\n",
              "</table>\n"
            ],
            "text/markdown": "\nA data.frame: 6 × 8\n\n| <!--/--> | X &lt;int&gt; | animal_id &lt;chr&gt; | name &lt;chr&gt; | outcome_type &lt;chr&gt; | animal_type &lt;chr&gt; | breed &lt;chr&gt; | color &lt;chr&gt; | age_days &lt;int&gt; |\n|---|---|---|---|---|---|---|---|---|\n| 1 | 1 | A846341 | <!----> | Adoption | Cat | Domestic Shorthair       | Blue Tabby        |   55 |\n| 2 | 2 | A772759 | *Bella   | Adoption | Cat | Domestic Medium Hair Mix | Blue              |   63 |\n| 3 | 3 | A666893 | Pristy   | Transfer | Cat | Domestic Shorthair Mix   | Black             | 2237 |\n| 4 | 4 | A753626 | *Mooney  | Adoption | Cat | Domestic Shorthair Mix   | Black             |   92 |\n| 5 | 5 | A747591 | <!----> | Transfer | Cat | Domestic Longhair Mix    | Brown Tabby       |  369 |\n| 6 | 6 | A703272 | *Catelyn | Adoption | Cat | Domestic Shorthair Mix   | Cream Tabby/White |   88 |\n\n",
            "text/latex": "A data.frame: 6 × 8\n\\begin{tabular}{r|llllllll}\n  & X & animal\\_id & name & outcome\\_type & animal\\_type & breed & color & age\\_days\\\\\n  & <int> & <chr> & <chr> & <chr> & <chr> & <chr> & <chr> & <int>\\\\\n\\hline\n\t1 & 1 & A846341 &          & Adoption & Cat & Domestic Shorthair       & Blue Tabby        &   55\\\\\n\t2 & 2 & A772759 & *Bella   & Adoption & Cat & Domestic Medium Hair Mix & Blue              &   63\\\\\n\t3 & 3 & A666893 & Pristy   & Transfer & Cat & Domestic Shorthair Mix   & Black             & 2237\\\\\n\t4 & 4 & A753626 & *Mooney  & Adoption & Cat & Domestic Shorthair Mix   & Black             &   92\\\\\n\t5 & 5 & A747591 &          & Transfer & Cat & Domestic Longhair Mix    & Brown Tabby       &  369\\\\\n\t6 & 6 & A703272 & *Catelyn & Adoption & Cat & Domestic Shorthair Mix   & Cream Tabby/White &   88\\\\\n\\end{tabular}\n",
            "text/plain": [
              "  X animal_id name     outcome_type animal_type breed                   \n",
              "1 1 A846341            Adoption     Cat         Domestic Shorthair      \n",
              "2 2 A772759   *Bella   Adoption     Cat         Domestic Medium Hair Mix\n",
              "3 3 A666893   Pristy   Transfer     Cat         Domestic Shorthair Mix  \n",
              "4 4 A753626   *Mooney  Adoption     Cat         Domestic Shorthair Mix  \n",
              "5 5 A747591            Transfer     Cat         Domestic Longhair Mix   \n",
              "6 6 A703272   *Catelyn Adoption     Cat         Domestic Shorthair Mix  \n",
              "  color             age_days\n",
              "1 Blue Tabby          55    \n",
              "2 Blue                63    \n",
              "3 Black             2237    \n",
              "4 Black               92    \n",
              "5 Brown Tabby        369    \n",
              "6 Cream Tabby/White   88    "
            ]
          },
          "metadata": {}
        }
      ],
      "source": [
        "cats <- read.csv('/content/cats.csv')\n",
        "head(cats)"
      ]
    },
    {
      "cell_type": "markdown",
      "id": "561bb7dc-c61f-4ed0-9a9c-b56b6c98b104",
      "metadata": {
        "id": "561bb7dc-c61f-4ed0-9a9c-b56b6c98b104"
      },
      "source": [
        "This data contains information about each cat, like their name, age and breed, as well as the outcome for them (e.g. \"Adoption\").\n",
        "\n",
        "In this problem, we'll be working with `age_days` column, which contains the estimated age of the cat (at the moment of the outcome, so e.g. at the moment of adoption).\n",
        "\n",
        "This granularity - days instead of for example years - is important, as we'll see shortly."
      ]
    },
    {
      "cell_type": "markdown",
      "id": "f40df390-d2aa-4448-8a2f-9688987ae568",
      "metadata": {
        "id": "f40df390-d2aa-4448-8a2f-9688987ae568"
      },
      "source": [
        "**PART 3.A**\n",
        "\n",
        "Do you think most of the cats in the shelter are kittens? Adults? Seniors? Everyone in equal measure?\n",
        "\n",
        "_You don't need to analyze data, and there's no incorrect answer to this question. Just write what your intuition tells you!_"
      ]
    },
    {
      "cell_type": "markdown",
      "id": "2a30cca5-51ad-4042-b599-24adb5ff54ee",
      "metadata": {
        "id": "2a30cca5-51ad-4042-b599-24adb5ff54ee"
      },
      "source": [
        "I think most of the cats in the shelter are kittens(younger ones)."
      ]
    },
    {
      "cell_type": "markdown",
      "id": "a3cbd5e5-c06d-43e9-98e4-bc0901faa8ec",
      "metadata": {
        "id": "a3cbd5e5-c06d-43e9-98e4-bc0901faa8ec"
      },
      "source": [
        "**PART 3.B**\n",
        "\n",
        "Plot the histogram of the ages of the cats in this sample (the `age_days` column)."
      ]
    },
    {
      "cell_type": "code",
      "execution_count": null,
      "id": "5bf37b5b-7974-4f33-ae87-7dd48e3d0d98",
      "metadata": {
        "vscode": {
          "languageId": "r"
        },
        "id": "5bf37b5b-7974-4f33-ae87-7dd48e3d0d98",
        "colab": {
          "base_uri": "https://localhost:8080/",
          "height": 455
        },
        "outputId": "596e3b72-eeb5-4914-d8bf-d8ca7255d10e"
      },
      "outputs": [
        {
          "output_type": "stream",
          "name": "stderr",
          "text": [
            "\u001b[1m\u001b[22m`stat_bin()` using `bins = 30`. Pick better value with `binwidth`.\n"
          ]
        },
        {
          "output_type": "display_data",
          "data": {
            "text/plain": [
              "plot without title"
            ],
            "image/png": "[encoded data removed]"
          },
          "metadata": {
            "image/png": {
              "width": 420,
              "height": 420
            }
          }
        }
      ],
      "source": [
        "library(ggplot2)\n",
        "ggplot(cats)+\n",
        "geom_histogram(aes(x=age_days), alpha = 0.7,color=\"black\",fill=\"red\")+\n",
        "labs(title = \"Histogram of the Ages of Cats\")+\n",
        "theme_bw()"
      ]
    },
    {
      "cell_type": "markdown",
      "id": "59c22d83-783d-4a03-9abc-316a6bebcefb",
      "metadata": {
        "id": "59c22d83-783d-4a03-9abc-316a6bebcefb"
      },
      "source": [
        "**PART 3.C**\n",
        "\n",
        "Compute the mean and the median of cat ages in the `cats` sample."
      ]
    },
    {
      "cell_type": "code",
      "execution_count": null,
      "id": "08b326fa-c11a-4005-99af-62cb5cfd018a",
      "metadata": {
        "vscode": {
          "languageId": "r"
        },
        "id": "08b326fa-c11a-4005-99af-62cb5cfd018a",
        "colab": {
          "base_uri": "https://localhost:8080/",
          "height": 52
        },
        "outputId": "a9275c6e-0a52-4886-f348-1791f2e5d92d"
      },
      "outputs": [
        {
          "output_type": "display_data",
          "data": {
            "text/html": [
              "518.775609756098"
            ],
            "text/markdown": "518.775609756098",
            "text/latex": "518.775609756098",
            "text/plain": [
              "[1] 518.7756"
            ]
          },
          "metadata": {}
        },
        {
          "output_type": "display_data",
          "data": {
            "text/html": [
              "110"
            ],
            "text/markdown": "110",
            "text/latex": "110",
            "text/plain": [
              "[1] 110"
            ]
          },
          "metadata": {}
        }
      ],
      "source": [
        "mean_cat_ages = mean(cats$age_days, na.rm = TRUE)\n",
        "median_cat_ages = median(cats$age_days, na.rm = TRUE)\n",
        "\n",
        "mean_cat_ages\n",
        "median_cat_ages"
      ]
    },
    {
      "cell_type": "markdown",
      "id": "572fecdf-1fca-4c2e-91ee-067bc31d05e7",
      "metadata": {
        "id": "572fecdf-1fca-4c2e-91ee-067bc31d05e7"
      },
      "source": [
        "---\n",
        "**PART 3.D**\n",
        "\n",
        "Considering the shape of the distribution that you plotted in 3.2, which of the two measures - mean or median - is a more meaningful measure of \"centrality\" for this data? Why?"
      ]
    },
    {
      "cell_type": "markdown",
      "id": "e42e4f4e-b06d-42ca-ab69-4439ef29b2f6",
      "metadata": {
        "id": "e42e4f4e-b06d-42ca-ab69-4439ef29b2f6"
      },
      "source": [
        "- Here from the shape of the distribution, the histogram is right skewed.\n",
        "- Usually mean will be affected if more number of outliers are present in the dataset.\n",
        "- Median is the great measure of 'centrality' for this data because median won't be affected by the outliers in data."
      ]
    },
    {
      "cell_type": "markdown",
      "id": "aa49ef0b-b874-4502-81a4-0dceebe02f7c",
      "metadata": {
        "id": "aa49ef0b-b874-4502-81a4-0dceebe02f7c"
      },
      "source": [
        "---\n",
        "**PART 3.E**\n",
        "\n",
        "1. Generate 1000 bootstrap samples of cat ages, and compute the median for each sample\n",
        "2. Plot the histogram and density plot (in different colors) of the distribution of the 1000 bootstrapped medians\n",
        "3. Add a vertical line (in a different color) at the value of the sample median of `cats$age_days`"
      ]
    },
    {
      "cell_type": "code",
      "execution_count": null,
      "id": "717d1005-c307-4e6d-87b1-53eaaf756738",
      "metadata": {
        "vscode": {
          "languageId": "r"
        },
        "id": "717d1005-c307-4e6d-87b1-53eaaf756738",
        "colab": {
          "base_uri": "https://localhost:8080/",
          "height": 593
        },
        "outputId": "2b0cfdc6-82c5-49fb-96e0-85f7ffec17eb"
      },
      "outputs": [
        {
          "output_type": "display_data",
          "data": {
            "text/html": [
              "<style>\n",
              ".list-inline {list-style: none; margin:0; padding: 0}\n",
              ".list-inline>li {display: inline-block}\n",
              ".list-inline>li:not(:last-child)::after {content: \"\\00b7\"; padding: 0 .5ex}\n",
              "</style>\n",
              "<ol class=list-inline><li>105</li><li>112</li><li>111</li><li>105</li><li>108</li><li>110</li><li>110</li><li>107</li><li>115</li><li>105</li><li>106</li><li>107</li><li>111</li><li>113</li><li>110</li><li>106</li><li>110</li><li>102</li><li>121</li><li>108</li><li>108</li><li>106</li><li>107</li><li>116</li><li>110</li><li>110</li><li>121</li><li>125</li><li>107</li><li>110</li><li>108</li><li>107</li><li>121</li><li>108</li><li>108</li><li>120</li><li>102</li><li>107</li><li>110</li><li>108</li><li>116</li><li>113</li><li>121</li><li>116</li><li>104</li><li>106</li><li>111</li><li>107</li><li>102</li><li>120</li><li>106</li><li>111</li><li>113</li><li>111</li><li>105</li><li>104</li><li>105</li><li>102</li><li>108</li><li>110</li><li>108</li><li>108</li><li>107</li><li>107</li><li>124</li><li>103</li><li>103</li><li>114</li><li>123</li><li>111</li><li>112</li><li>104</li><li>111</li><li>108</li><li>109</li><li>108</li><li>115</li><li>108</li><li>113</li><li>110</li><li>110</li><li>121</li><li>100</li><li>105</li><li>110</li><li>108</li><li>104</li><li>114</li><li>108</li><li>120</li><li>121</li><li>106</li><li>111</li><li>109</li><li>109</li><li>108</li><li>105</li><li>120</li><li>111</li><li>110</li><li>107</li><li>115</li><li>105</li><li>106</li><li>110</li><li>116</li><li>112</li><li>105</li><li>104</li><li>105</li><li>111</li><li>114</li><li>107</li><li>121</li><li>118</li><li>121</li><li>111</li><li>108</li><li>107</li><li>106</li><li>108</li><li>112</li><li>114</li><li>111</li><li>112</li><li>104</li><li>107</li><li>104</li><li>107</li><li>107</li><li>110</li><li>105</li><li>106</li><li>124</li><li>111</li><li>104</li><li>114</li><li>107</li><li>110</li><li>107</li><li>105</li><li>111</li><li>111</li><li>116</li><li>108</li><li>111</li><li>121</li><li>110</li><li>118</li><li>112</li><li>115</li><li>113</li><li>109</li><li>111</li><li>116</li><li>109</li><li>114</li><li>106</li><li>113</li><li>108</li><li>116</li><li>104</li><li>120</li><li>109</li><li>109</li><li>115</li><li>102</li><li>110</li><li>103</li><li>104</li><li>106</li><li>107</li><li>110</li><li>103</li><li>129</li><li>109</li><li>112</li><li>103</li><li>105</li><li>105</li><li>105</li><li>104</li><li>104</li><li>108</li><li>110</li><li>105</li><li>105</li><li>104</li><li>102</li><li>107</li><li>115</li><li>108</li><li>108</li><li>113</li><li>110</li><li>110</li><li>106</li><li>104</li><li>103</li><li>109</li><li>⋯</li><li>106</li><li>110</li><li>105</li><li>104</li><li>109</li><li>105</li><li>123</li><li>108</li><li>116</li><li>114</li><li>107</li><li>105</li><li>107</li><li>105</li><li>113</li><li>104</li><li>106</li><li>104</li><li>103</li><li>110</li><li>111</li><li>105</li><li>108</li><li>111</li><li>110</li><li>110</li><li>100</li><li>106</li><li>105</li><li>109</li><li>105</li><li>113</li><li>107</li><li>110</li><li>121</li><li>111</li><li>113</li><li>108</li><li>108</li><li>110</li><li>111</li><li>106</li><li>107</li><li>100</li><li>106</li><li>115</li><li>108</li><li>117</li><li>111</li><li>113</li><li>108</li><li>113</li><li>107</li><li>110</li><li>116</li><li>106</li><li>110</li><li>105</li><li>110</li><li>110</li><li>107</li><li>104</li><li>105</li><li>110</li><li>105</li><li>105</li><li>112</li><li>110</li><li>108</li><li>108</li><li>105</li><li>111</li><li>111</li><li>107</li><li>124</li><li>110</li><li>111</li><li>108</li><li>111</li><li>111</li><li>106</li><li>107</li><li>123</li><li>107</li><li>107</li><li>113</li><li>126</li><li>107</li><li>108</li><li>121</li><li>108</li><li>105</li><li>120</li><li>110</li><li>106</li><li>110</li><li>107</li><li>109</li><li>115</li><li>106</li><li>113</li><li>110</li><li>121</li><li>110</li><li>105</li><li>102</li><li>123</li><li>107</li><li>106</li><li>109</li><li>123</li><li>108</li><li>105</li><li>105</li><li>101</li><li>104</li><li>118</li><li>104</li><li>118</li><li>105</li><li>109</li><li>111</li><li>112</li><li>114</li><li>116</li><li>108</li><li>106</li><li>113</li><li>104</li><li>104</li><li>114</li><li>111</li><li>104</li><li>114</li><li>106</li><li>118</li><li>113</li><li>123</li><li>109</li><li>109</li><li>112</li><li>105</li><li>112</li><li>107</li><li>105</li><li>108</li><li>107</li><li>117</li><li>113</li><li>111</li><li>123</li><li>113</li><li>114</li><li>113</li><li>113</li><li>108</li><li>110</li><li>105</li><li>111</li><li>107</li><li>109</li><li>107</li><li>109</li><li>108</li><li>111</li><li>108</li><li>110</li><li>111</li><li>107</li><li>106</li><li>116</li><li>105</li><li>107</li><li>126</li><li>111</li><li>110</li><li>107</li><li>114</li><li>108</li><li>116</li><li>102</li><li>105</li><li>111</li><li>113</li><li>114</li><li>114</li><li>103</li><li>108</li><li>106</li><li>107</li><li>105</li><li>106</li><li>105</li><li>101</li><li>105</li><li>113</li><li>108</li><li>108</li><li>101</li><li>118</li></ol>\n"
            ],
            "text/markdown": "1. 105\n2. 112\n3. 111\n4. 105\n5. 108\n6. 110\n7. 110\n8. 107\n9. 115\n10. 105\n11. 106\n12. 107\n13. 111\n14. 113\n15. 110\n16. 106\n17. 110\n18. 102\n19. 121\n20. 108\n21. 108\n22. 106\n23. 107\n24. 116\n25. 110\n26. 110\n27. 121\n28. 125\n29. 107\n30. 110\n31. 108\n32. 107\n33. 121\n34. 108\n35. 108\n36. 120\n37. 102\n38. 107\n39. 110\n40. 108\n41. 116\n42. 113\n43. 121\n44. 116\n45. 104\n46. 106\n47. 111\n48. 107\n49. 102\n50. 120\n51. 106\n52. 111\n53. 113\n54. 111\n55. 105\n56. 104\n57. 105\n58. 102\n59. 108\n60. 110\n61. 108\n62. 108\n63. 107\n64. 107\n65. 124\n66. 103\n67. 103\n68. 114\n69. 123\n70. 111\n71. 112\n72. 104\n73. 111\n74. 108\n75. 109\n76. 108\n77. 115\n78. 108\n79. 113\n80. 110\n81. 110\n82. 121\n83. 100\n84. 105\n85. 110\n86. 108\n87. 104\n88. 114\n89. 108\n90. 120\n91. 121\n92. 106\n93. 111\n94. 109\n95. 109\n96. 108\n97. 105\n98. 120\n99. 111\n100. 110\n101. 107\n102. 115\n103. 105\n104. 106\n105. 110\n106. 116\n107. 112\n108. 105\n109. 104\n110. 105\n111. 111\n112. 114\n113. 107\n114. 121\n115. 118\n116. 121\n117. 111\n118. 108\n119. 107\n120. 106\n121. 108\n122. 112\n123. 114\n124. 111\n125. 112\n126. 104\n127. 107\n128. 104\n129. 107\n130. 107\n131. 110\n132. 105\n133. 106\n134. 124\n135. 111\n136. 104\n137. 114\n138. 107\n139. 110\n140. 107\n141. 105\n142. 111\n143. 111\n144. 116\n145. 108\n146. 111\n147. 121\n148. 110\n149. 118\n150. 112\n151. 115\n152. 113\n153. 109\n154. 111\n155. 116\n156. 109\n157. 114\n158. 106\n159. 113\n160. 108\n161. 116\n162. 104\n163. 120\n164. 109\n165. 109\n166. 115\n167. 102\n168. 110\n169. 103\n170. 104\n171. 106\n172. 107\n173. 110\n174. 103\n175. 129\n176. 109\n177. 112\n178. 103\n179. 105\n180. 105\n181. 105\n182. 104\n183. 104\n184. 108\n185. 110\n186. 105\n187. 105\n188. 104\n189. 102\n190. 107\n191. 115\n192. 108\n193. 108\n194. 113\n195. 110\n196. 110\n197. 106\n198. 104\n199. 103\n200. 109\n201. ⋯\n202. 106\n203. 110\n204. 105\n205. 104\n206. 109\n207. 105\n208. 123\n209. 108\n210. 116\n211. 114\n212. 107\n213. 105\n214. 107\n215. 105\n216. 113\n217. 104\n218. 106\n219. 104\n220. 103\n221. 110\n222. 111\n223. 105\n224. 108\n225. 111\n226. 110\n227. 110\n228. 100\n229. 106\n230. 105\n231. 109\n232. 105\n233. 113\n234. 107\n235. 110\n236. 121\n237. 111\n238. 113\n239. 108\n240. 108\n241. 110\n242. 111\n243. 106\n244. 107\n245. 100\n246. 106\n247. 115\n248. 108\n249. 117\n250. 111\n251. 113\n252. 108\n253. 113\n254. 107\n255. 110\n256. 116\n257. 106\n258. 110\n259. 105\n260. 110\n261. 110\n262. 107\n263. 104\n264. 105\n265. 110\n266. 105\n267. 105\n268. 112\n269. 110\n270. 108\n271. 108\n272. 105\n273. 111\n274. 111\n275. 107\n276. 124\n277. 110\n278. 111\n279. 108\n280. 111\n281. 111\n282. 106\n283. 107\n284. 123\n285. 107\n286. 107\n287. 113\n288. 126\n289. 107\n290. 108\n291. 121\n292. 108\n293. 105\n294. 120\n295. 110\n296. 106\n297. 110\n298. 107\n299. 109\n300. 115\n301. 106\n302. 113\n303. 110\n304. 121\n305. 110\n306. 105\n307. 102\n308. 123\n309. 107\n310. 106\n311. 109\n312. 123\n313. 108\n314. 105\n315. 105\n316. 101\n317. 104\n318. 118\n319. 104\n320. 118\n321. 105\n322. 109\n323. 111\n324. 112\n325. 114\n326. 116\n327. 108\n328. 106\n329. 113\n330. 104\n331. 104\n332. 114\n333. 111\n334. 104\n335. 114\n336. 106\n337. 118\n338. 113\n339. 123\n340. 109\n341. 109\n342. 112\n343. 105\n344. 112\n345. 107\n346. 105\n347. 108\n348. 107\n349. 117\n350. 113\n351. 111\n352. 123\n353. 113\n354. 114\n355. 113\n356. 113\n357. 108\n358. 110\n359. 105\n360. 111\n361. 107\n362. 109\n363. 107\n364. 109\n365. 108\n366. 111\n367. 108\n368. 110\n369. 111\n370. 107\n371. 106\n372. 116\n373. 105\n374. 107\n375. 126\n376. 111\n377. 110\n378. 107\n379. 114\n380. 108\n381. 116\n382. 102\n383. 105\n384. 111\n385. 113\n386. 114\n387. 114\n388. 103\n389. 108\n390. 106\n391. 107\n392. 105\n393. 106\n394. 105\n395. 101\n396. 105\n397. 113\n398. 108\n399. 108\n400. 101\n401. 118\n\n\n",
            "text/latex": "\\begin{enumerate*}\n\\item 105\n\\item 112\n\\item 111\n\\item 105\n\\item 108\n\\item 110\n\\item 110\n\\item 107\n\\item 115\n\\item 105\n\\item 106\n\\item 107\n\\item 111\n\\item 113\n\\item 110\n\\item 106\n\\item 110\n\\item 102\n\\item 121\n\\item 108\n\\item 108\n\\item 106\n\\item 107\n\\item 116\n\\item 110\n\\item 110\n\\item 121\n\\item 125\n\\item 107\n\\item 110\n\\item 108\n\\item 107\n\\item 121\n\\item 108\n\\item 108\n\\item 120\n\\item 102\n\\item 107\n\\item 110\n\\item 108\n\\item 116\n\\item 113\n\\item 121\n\\item 116\n\\item 104\n\\item 106\n\\item 111\n\\item 107\n\\item 102\n\\item 120\n\\item 106\n\\item 111\n\\item 113\n\\item 111\n\\item 105\n\\item 104\n\\item 105\n\\item 102\n\\item 108\n\\item 110\n\\item 108\n\\item 108\n\\item 107\n\\item 107\n\\item 124\n\\item 103\n\\item 103\n\\item 114\n\\item 123\n\\item 111\n\\item 112\n\\item 104\n\\item 111\n\\item 108\n\\item 109\n\\item 108\n\\item 115\n\\item 108\n\\item 113\n\\item 110\n\\item 110\n\\item 121\n\\item 100\n\\item 105\n\\item 110\n\\item 108\n\\item 104\n\\item 114\n\\item 108\n\\item 120\n\\item 121\n\\item 106\n\\item 111\n\\item 109\n\\item 109\n\\item 108\n\\item 105\n\\item 120\n\\item 111\n\\item 110\n\\item 107\n\\item 115\n\\item 105\n\\item 106\n\\item 110\n\\item 116\n\\item 112\n\\item 105\n\\item 104\n\\item 105\n\\item 111\n\\item 114\n\\item 107\n\\item 121\n\\item 118\n\\item 121\n\\item 111\n\\item 108\n\\item 107\n\\item 106\n\\item 108\n\\item 112\n\\item 114\n\\item 111\n\\item 112\n\\item 104\n\\item 107\n\\item 104\n\\item 107\n\\item 107\n\\item 110\n\\item 105\n\\item 106\n\\item 124\n\\item 111\n\\item 104\n\\item 114\n\\item 107\n\\item 110\n\\item 107\n\\item 105\n\\item 111\n\\item 111\n\\item 116\n\\item 108\n\\item 111\n\\item 121\n\\item 110\n\\item 118\n\\item 112\n\\item 115\n\\item 113\n\\item 109\n\\item 111\n\\item 116\n\\item 109\n\\item 114\n\\item 106\n\\item 113\n\\item 108\n\\item 116\n\\item 104\n\\item 120\n\\item 109\n\\item 109\n\\item 115\n\\item 102\n\\item 110\n\\item 103\n\\item 104\n\\item 106\n\\item 107\n\\item 110\n\\item 103\n\\item 129\n\\item 109\n\\item 112\n\\item 103\n\\item 105\n\\item 105\n\\item 105\n\\item 104\n\\item 104\n\\item 108\n\\item 110\n\\item 105\n\\item 105\n\\item 104\n\\item 102\n\\item 107\n\\item 115\n\\item 108\n\\item 108\n\\item 113\n\\item 110\n\\item 110\n\\item 106\n\\item 104\n\\item 103\n\\item 109\n\\item ⋯\n\\item 106\n\\item 110\n\\item 105\n\\item 104\n\\item 109\n\\item 105\n\\item 123\n\\item 108\n\\item 116\n\\item 114\n\\item 107\n\\item 105\n\\item 107\n\\item 105\n\\item 113\n\\item 104\n\\item 106\n\\item 104\n\\item 103\n\\item 110\n\\item 111\n\\item 105\n\\item 108\n\\item 111\n\\item 110\n\\item 110\n\\item 100\n\\item 106\n\\item 105\n\\item 109\n\\item 105\n\\item 113\n\\item 107\n\\item 110\n\\item 121\n\\item 111\n\\item 113\n\\item 108\n\\item 108\n\\item 110\n\\item 111\n\\item 106\n\\item 107\n\\item 100\n\\item 106\n\\item 115\n\\item 108\n\\item 117\n\\item 111\n\\item 113\n\\item 108\n\\item 113\n\\item 107\n\\item 110\n\\item 116\n\\item 106\n\\item 110\n\\item 105\n\\item 110\n\\item 110\n\\item 107\n\\item 104\n\\item 105\n\\item 110\n\\item 105\n\\item 105\n\\item 112\n\\item 110\n\\item 108\n\\item 108\n\\item 105\n\\item 111\n\\item 111\n\\item 107\n\\item 124\n\\item 110\n\\item 111\n\\item 108\n\\item 111\n\\item 111\n\\item 106\n\\item 107\n\\item 123\n\\item 107\n\\item 107\n\\item 113\n\\item 126\n\\item 107\n\\item 108\n\\item 121\n\\item 108\n\\item 105\n\\item 120\n\\item 110\n\\item 106\n\\item 110\n\\item 107\n\\item 109\n\\item 115\n\\item 106\n\\item 113\n\\item 110\n\\item 121\n\\item 110\n\\item 105\n\\item 102\n\\item 123\n\\item 107\n\\item 106\n\\item 109\n\\item 123\n\\item 108\n\\item 105\n\\item 105\n\\item 101\n\\item 104\n\\item 118\n\\item 104\n\\item 118\n\\item 105\n\\item 109\n\\item 111\n\\item 112\n\\item 114\n\\item 116\n\\item 108\n\\item 106\n\\item 113\n\\item 104\n\\item 104\n\\item 114\n\\item 111\n\\item 104\n\\item 114\n\\item 106\n\\item 118\n\\item 113\n\\item 123\n\\item 109\n\\item 109\n\\item 112\n\\item 105\n\\item 112\n\\item 107\n\\item 105\n\\item 108\n\\item 107\n\\item 117\n\\item 113\n\\item 111\n\\item 123\n\\item 113\n\\item 114\n\\item 113\n\\item 113\n\\item 108\n\\item 110\n\\item 105\n\\item 111\n\\item 107\n\\item 109\n\\item 107\n\\item 109\n\\item 108\n\\item 111\n\\item 108\n\\item 110\n\\item 111\n\\item 107\n\\item 106\n\\item 116\n\\item 105\n\\item 107\n\\item 126\n\\item 111\n\\item 110\n\\item 107\n\\item 114\n\\item 108\n\\item 116\n\\item 102\n\\item 105\n\\item 111\n\\item 113\n\\item 114\n\\item 114\n\\item 103\n\\item 108\n\\item 106\n\\item 107\n\\item 105\n\\item 106\n\\item 105\n\\item 101\n\\item 105\n\\item 113\n\\item 108\n\\item 108\n\\item 101\n\\item 118\n\\end{enumerate*}\n",
            "text/plain": [
              "   [1] 105 112 111 105 108 110 110 107 115 105 106 107 111 113 110 106 110 102\n",
              "  [19] 121 108 108 106 107 116 110 110 121 125 107 110 108 107 121 108 108 120\n",
              "  [37] 102 107 110 108 116 113 121 116 104 106 111 107 102 120 106 111 113 111\n",
              "  [55] 105 104 105 102 108 110 108 108 107 107 124 103 103 114 123 111 112 104\n",
              "  [73] 111 108 109 108 115 108 113 110 110 121 100 105 110 108 104 114 108 120\n",
              "  [91] 121 106 111 109 109 108 105 120 111 110 107 115 105 106 110 116 112 105\n",
              " [109] 104 105 111 114 107 121 118 121 111 108 107 106 108 112 114 111 112 104\n",
              " [127] 107 104 107 107 110 105 106 124 111 104 114 107 110 107 105 111 111 116\n",
              " [145] 108 111 121 110 118 112 115 113 109 111 116 109 114 106 113 108 116 104\n",
              " [163] 120 109 109 115 102 110 103 104 106 107 110 103 129 109 112 103 105 105\n",
              " [181] 105 104 104 108 110 105 105 104 102 107 115 108 108 113 110 110 106 104\n",
              " [199] 103 109 106 123 109 109 106 105 109 108 107 108 107 123 105 108 110 107\n",
              " [217] 105 105 106 107 113 104 110 101 108 108 121 111 109 114 111 123 107 100\n",
              " [235] 108 110 108 111 105 109 107 111 107 106 108 115 111 108 103 107 109 108\n",
              " [253] 106 108 111 111 105 110 111 111 109 114 123 113 106 124 107 104 102 108\n",
              " [271] 110 108 102 114 124 108 121 108 105 113 123 114 117 111 105 123 109  99\n",
              " [289] 106 107 108 115 110 106 105 110 112 105 105 108 110 124 108 111 106 109\n",
              " [307] 112 117 108 115 111 109 102 107 106 105 105 105 105 105 110 114 108 107\n",
              " [325] 110 110 113 103 105 121 107 104 126 114 115 112 105 127 108 105 109 111\n",
              " [343] 105 113 109 108 114 125 114 112 114 107 109 107 110 105 107 109 101 104\n",
              " [361] 104 108 110 107 109 110 111 104 109 108 110 110 101 109 111 107 102 105\n",
              " [379] 104 103 123 108 107 107 111 112 108 114 106 105 107 123 110 106 109 112\n",
              " [397] 117 116 109 108 114 107 110 114 114 113 113 108 108 110 111 110 109 109\n",
              " [415] 113 117 110 108 113 114 123 109 108 108 108 107 108 108 109 108 108 113\n",
              " [433] 109 108 108 118 110 108 105 117 110 104 108 113 107 110 117 105 108 110\n",
              " [451] 124 107 124 107 113 111 109 102 109 112 121 108 113 109 111 108 114 116\n",
              " [469] 103 107 107 105 107 108 107 107 109 107 110 114 125  99 104 109 113 110\n",
              " [487] 110 109 123 104 113 105 109 112 101 108 125 116 111 108 114 112 111 106\n",
              " [505] 113 124 104 116 109 126 102 111 111 105 101 114 124 123 110 112 113 100\n",
              " [523] 109 105 105 108 105 106 111 114 113 107 108 123 112 106 108 112 118 107\n",
              " [541] 108 112 113 109 106 102 109 107 112 116 104 107 111 125 109 109 111 107\n",
              " [559] 116 105 107 110 113 109 110 106 106 106 100 110 104 114 111 111 127 107\n",
              " [577] 111 118 106 107 106 110 112 114 102 107 127 111 106 108 108 116 109 111\n",
              " [595] 106 114 106 114 114 111 108 110 105 107 110 105 106 108 107 111 110 126\n",
              " [613] 102 104 108 118 111 108 110 121 112 107 126 107 105 113 124 109 107 108\n",
              " [631] 123 105 114 107 109 105 116 115 111 111 104 111 105 111 100 109 110 116\n",
              " [649] 112 105 114 110 104 108 115 123 112 115 120 105 124 111 106 105 105 108\n",
              " [667] 106 107 118 115 109 108 107 125 113 111 109 108 110 117 108 115 109 113\n",
              " [685] 105 110 108 105 123 110 113 114 111 116 108 112 111 113 123 115 121 112\n",
              " [703] 102 106 108 109 121 110 120 105 108 108 114 108 110 113 121 114 111 108\n",
              " [721] 115 111 108 106 113 115 110 110 112 105 104 120 107 106 115 111 116 115\n",
              " [739] 110 121 120 110 106 109 108 111 105 109 112 110 108 108 108 121 114 107\n",
              " [757] 110 113 107 113 106 121 104 114 106 107 111 116 108 110 108 104 111 108\n",
              " [775] 107 129 110 118 108 111 107 103 110 124 111 107 111 105 111 110 109 106\n",
              " [793] 121 113 110 108 121 111 107 111 106 110 105 104 109 105 123 108 116 114\n",
              " [811] 107 105 107 105 113 104 106 104 103 110 111 105 108 111 110 110 100 106\n",
              " [829] 105 109 105 113 107 110 121 111 113 108 108 110 111 106 107 100 106 115\n",
              " [847] 108 117 111 113 108 113 107 110 116 106 110 105 110 110 107 104 105 110\n",
              " [865] 105 105 112 110 108 108 105 111 111 107 124 110 111 108 111 111 106 107\n",
              " [883] 123 107 107 113 126 107 108 121 108 105 120 110 106 110 107 109 115 106\n",
              " [901] 113 110 121 110 105 102 123 107 106 109 123 108 105 105 101 104 118 104\n",
              " [919] 118 105 109 111 112 114 116 108 106 113 104 104 114 111 104 114 106 118\n",
              " [937] 113 123 109 109 112 105 112 107 105 108 107 117 113 111 123 113 114 113\n",
              " [955] 113 108 110 105 111 107 109 107 109 108 111 108 110 111 107 106 116 105\n",
              " [973] 107 126 111 110 107 114 108 116 102 105 111 113 114 114 103 108 106 107\n",
              " [991] 105 106 105 101 105 113 108 108 101 118"
            ]
          },
          "metadata": {}
        },
        {
          "output_type": "display_data",
          "data": {
            "text/plain": [
              "plot without title"
            ],
            "image/png": "[encoded data removed]"
          },
          "metadata": {
            "image/png": {
              "width": 420,
              "height": 420
            }
          }
        }
      ],
      "source": [
        "set.seed(99)\n",
        "library(ggplot2)\n",
        "bootstrap_medians = replicate(1000, {\n",
        "  sample_median = median(sample(cats$age_days, size = nrow(cats), replace = TRUE), na.rm = TRUE)\n",
        "  sample_median\n",
        "})\n",
        "bootstrap_medians\n",
        "\n",
        "bootstrap_medians_df = data.frame(bootstrap_medians = bootstrap_medians)\n",
        "\n",
        "ggplot(bootstrap_medians_df)+\n",
        "geom_histogram(aes(x=bootstrap_medians,y =  after_stat(density)), bins=15, alpha = 0.7,color=\"black\",fill=\"red\")+\n",
        "geom_density(aes(x=bootstrap_medians), color=\"green\", size =1)+\n",
        "geom_vline(aes(xintercept = median_cat_ages), color = \"blue\", size = 1) +\n",
        "theme_bw()"
      ]
    },
    {
      "cell_type": "markdown",
      "id": "c957b3f4-5344-48cb-9878-6b83997f2da5",
      "metadata": {
        "id": "c957b3f4-5344-48cb-9878-6b83997f2da5"
      },
      "source": [
        "---\n",
        "**PART 3.F**\n",
        "\n",
        "Do you think this distribution is well approximated by a normal distribution? What deviations from normality can you detect, if any?\n",
        "\n",
        "_Make sure your reasoning is consistent with your plot._"
      ]
    },
    {
      "cell_type": "markdown",
      "id": "92fae81b-5c92-4749-bc94-04f0441d644b",
      "metadata": {
        "id": "92fae81b-5c92-4749-bc94-04f0441d644b"
      },
      "source": [
        "This distribution is not well approximated  by normal distribution.\n",
        "- The deviation from normality that I can detect is that there is skewness in the right due to the presence of outliers so it contains a comparably heavier tails.\n",
        "\n"
      ]
    },
    {
      "cell_type": "markdown",
      "id": "477feda6-c3f3-4a5d-900c-d5851c95a603",
      "metadata": {
        "id": "477feda6-c3f3-4a5d-900c-d5851c95a603"
      },
      "source": [
        "---\n",
        "\n",
        "_We'll use **percentile bootstrap** to compute the 95\\% confidence interval: we'll find the $2.5$th and $97.5$th percentiles of the bootstrap distribution, which will determine the lower and upper limits of the CI. This way, 95\\% of the distribution will be within the confidence interval._\n",
        "\n",
        "---"
      ]
    },
    {
      "cell_type": "markdown",
      "id": "57a645fe-e2d2-4fdb-a7a2-92af8901ef9b",
      "metadata": {
        "id": "57a645fe-e2d2-4fdb-a7a2-92af8901ef9b"
      },
      "source": [
        "**PART 3.G**\n",
        "\n",
        "Take a look at the density plot of bootstrapped medians that you created before. Do you think the percentile bootstrap CI will be symmetric around the median of the original sample? Which of the lower/upper limits do you think will be closer to the sample median, and why?\n",
        "\n",
        "_Note: the answer completely depends on your specific bootstrap samples! It's can be different for different people, and even for different executions of the same code._\n",
        "\n",
        "_Don't forget to justify your answer! You can use the density plot you generated before to eyeball where the percentiles will be, based on the \"mass\" of the distribution._"
      ]
    },
    {
      "cell_type": "markdown",
      "id": "d36a06ba-a1da-4ed5-91b8-20324cbc4b55",
      "metadata": {
        "id": "d36a06ba-a1da-4ed5-91b8-20324cbc4b55"
      },
      "source": [
        "- I don't think the percentile bootstrap CI will be symmetric around the median of the original sample.\n",
        "- The lower CI will be closer to the sample median because it is right skewed which leads to a greater spread of the data with higher values (outliers) present in the right tail so the Upper CI won't be closer to Median."
      ]
    },
    {
      "cell_type": "markdown",
      "id": "5c537796-9b76-4e69-83cc-93f429b94f2b",
      "metadata": {
        "id": "5c537796-9b76-4e69-83cc-93f429b94f2b"
      },
      "source": [
        "---\n",
        "**PART 3.H**\n",
        "\n",
        "Compute the lower and upper limits of the 95\\% bootstrap confidence interval using the percentile method.\n",
        "Additionally, compute the difference of both lower and upper limits of the CI with the sample median"
      ]
    },
    {
      "cell_type": "code",
      "execution_count": null,
      "id": "dd3149e5-d6ca-4cf9-a9ee-8125d24aadb1",
      "metadata": {
        "vscode": {
          "languageId": "r"
        },
        "id": "dd3149e5-d6ca-4cf9-a9ee-8125d24aadb1",
        "colab": {
          "base_uri": "https://localhost:8080/",
          "height": 105
        },
        "outputId": "2f0feec2-6e65-4053-edc1-62f90655b287"
      },
      "outputs": [
        {
          "output_type": "display_data",
          "data": {
            "text/html": [
              "<strong>2.5%:</strong> 102"
            ],
            "text/markdown": "**2.5%:** 102",
            "text/latex": "\\textbf{2.5\\textbackslash{}\\%:} 102",
            "text/plain": [
              "2.5% \n",
              " 102 "
            ]
          },
          "metadata": {}
        },
        {
          "output_type": "display_data",
          "data": {
            "text/html": [
              "<strong>97.5%:</strong> 124"
            ],
            "text/markdown": "**97.5%:** 124",
            "text/latex": "\\textbf{97.5\\textbackslash{}\\%:} 124",
            "text/plain": [
              "97.5% \n",
              "  124 "
            ]
          },
          "metadata": {}
        },
        {
          "output_type": "stream",
          "name": "stdout",
          "text": [
            "Difference"
          ]
        },
        {
          "output_type": "display_data",
          "data": {
            "text/html": [
              "<strong>2.5%:</strong> 8"
            ],
            "text/markdown": "**2.5%:** 8",
            "text/latex": "\\textbf{2.5\\textbackslash{}\\%:} 8",
            "text/plain": [
              "2.5% \n",
              "   8 "
            ]
          },
          "metadata": {}
        },
        {
          "output_type": "display_data",
          "data": {
            "text/html": [
              "<strong>97.5%:</strong> 14"
            ],
            "text/markdown": "**97.5%:** 14",
            "text/latex": "\\textbf{97.5\\textbackslash{}\\%:} 14",
            "text/plain": [
              "97.5% \n",
              "   14 "
            ]
          },
          "metadata": {}
        }
      ],
      "source": [
        "lower_CI = quantile(bootstrap_medians_df$bootstrap_medians,0.025)\n",
        "upper_CI = quantile(bootstrap_medians_df$bootstrap_medians,0.975)\n",
        "\n",
        "lower_CI\n",
        "upper_CI\n",
        "\n",
        "cat(\"Difference\")\n",
        "lower_limit_difference = median_cat_ages - lower_CI\n",
        "upper_limit_difference = upper_CI - median_cat_ages\n",
        "\n",
        "lower_limit_difference\n",
        "upper_limit_difference"
      ]
    },
    {
      "cell_type": "markdown",
      "id": "ec32a7d3-a059-4a21-9c8d-9fd2c32f5064",
      "metadata": {
        "id": "ec32a7d3-a059-4a21-9c8d-9fd2c32f5064"
      },
      "source": [
        "---\n",
        "**PART 3.I**\n",
        "\n",
        "**Please note that this problem part is OPTIONAL for STAT 4010 students and is REQUIRED for STAT 5010 students.**\n",
        "\n",
        "If you want a better idea about the distribution of bootstrap statistics, you need more bootstrap samples. Now imagine if your dataset is huge  -- hundreds of millions of records, and to generate even one bootstrap sample, you'll need to sample those hundreds of millions of records with replacement.\n",
        "\n",
        "If you want to generate a million bootstrap samples, you need to sample hundreds of millions of records a million times. You can see how this can get computationally prohibitive very quick!\n",
        "\n",
        "There are many methods to make the bootstrap more computationally efficient. One of them was [developed at Spotify](https://engineering.atspotify.com/2022/03/comparing-quantiles-at-scale-in-online-a-b-testing/). The linked article  proposes a fast bootstrap algorithm for computing quantiles (like a median). It also gives Python code examples of applying that algorithm to simulated data.\n",
        "\n",
        "**Your task in this question is to reimplement the algorithm in R, and apply it to the dataset you've been working with to compute the 95\\% bootstrap confidence for the median of cat ages, using 500 000 bootstrap samples.**\n",
        "\n",
        "Here are some pointers:\n",
        "\n",
        "* You'll need the single-sample bootstrap example, which is the first code sample in the article.You'll need to figure out what each line of code does, and apply it to your case. (But please read the rest of the article too, to understand what's happening! The most exciting contribution of the article is actually the second example).\n",
        "\n",
        "* Note that the code sample uses simulated data from a normal distribution! You'll need to change it to use the data from `cats$age_days` instead. In particular, the `sample_size` will be determined by the data.\n",
        "\n",
        "* The code uses 1 000 000 bootstrap samples. You'll need to change that. (What other parts of the code will you need to change, if any?)\n",
        "\n",
        "* You'll need to expore what the Python function `binom.ppf()` does. The function `qbinom()` in R accomplishes something similar, but make sure you read the documentation for both to see how they compare.\n",
        "\n",
        "* Depending on your prior knowledge, you might also need to do some additional research to see how to do some array operations in R. This is part of the assignment!\n",
        "\n",
        "* Python uses 0-based indexing, but R uses 1-based indexing of arrays! FYI Julia also uses 1-based indexing (there's a link to Julia code later in the article).\n",
        "\n",
        "\n",
        "_Note 1: Most of you should be familiar with Python by now, and should be able to read the code in the linked article. If you are not familiar with Python, you can try one of the followifing options: (1) read through the algorithm description and just implement the code yourself, (2) click on the link in the article that leads to a repository containing Julia code and try to read the Julia code instead (Julia is often much more user-friendly for novices), or (3) ask a classmate or a Course Assistant for help._\n",
        "\n",
        "_Note 2: Implementing new algorithms from papers that use a different programming language, and applying these new algorithms to your data, is something that you are very likely going to be doing in your professional day-to-day life very often. This specific problem is good practice for such workflow because the algorithm is very simple, and the code snipped provided by authors is short but complete. Many methods that you'll work with will have such simple setup, unfortunately._"
      ]
    },
    {
      "cell_type": "markdown",
      "id": "6c35a365-fb93-48a2-adbc-5147b44d76dd",
      "metadata": {
        "id": "6c35a365-fb93-48a2-adbc-5147b44d76dd"
      },
      "source": [
        "- The bootstrapping which we usually do with resampling the data works well when it comes to computing a statistical measure which is mean and median but when it comes to predicting a statistical measure which related to Quantile it won't perform well and also it is computationally expensive to do it since it requires a large number of iterations when the sample size is really big.\n",
        "\n",
        "- So a new algorithm called the bootstrapping without resampling is introduced.\n",
        "\n",
        "- What this algorithm does is it uses the binomial distribution order statistics instead of again and again drawing the samples. The method of computing the ordered indices in which the quantiles are selected by using a Binomial(N+1,q) distribution.\n",
        "\n",
        "- This algorithm is fast and also it reduces the computational complexity."
      ]
    },
    {
      "cell_type": "code",
      "execution_count": null,
      "id": "5da4dab1-3bf4-48e9-a591-5493ca21111b",
      "metadata": {
        "vscode": {
          "languageId": "r"
        },
        "id": "5da4dab1-3bf4-48e9-a591-5493ca21111b",
        "colab": {
          "base_uri": "https://localhost:8080/",
          "height": 89
        },
        "outputId": "431a5f67-1d31-4269-8d39-90bd04e21efb"
      },
      "outputs": [
        {
          "output_type": "display_data",
          "data": {
            "text/html": [
              "<style>\n",
              ".list-inline {list-style: none; margin:0; padding: 0}\n",
              ".list-inline>li {display: inline-block}\n",
              ".list-inline>li:not(:last-child)::after {content: \"\\00b7\"; padding: 0 .5ex}\n",
              "</style>\n",
              "<ol class=list-inline><li>681</li><li>755</li></ol>\n"
            ],
            "text/markdown": "1. 681\n2. 755\n\n\n",
            "text/latex": "\\begin{enumerate*}\n\\item 681\n\\item 755\n\\end{enumerate*}\n",
            "text/plain": [
              "[1] 681 755"
            ]
          },
          "metadata": {}
        },
        {
          "output_type": "stream",
          "name": "stdout",
          "text": [
            "The original median"
          ]
        },
        {
          "output_type": "display_data",
          "data": {
            "text/html": [
              "110"
            ],
            "text/markdown": "110",
            "text/latex": "110",
            "text/plain": [
              "[1] 110"
            ]
          },
          "metadata": {}
        },
        {
          "output_type": "stream",
          "name": "stdout",
          "text": [
            "95% Bootstrap Confidence Interval for the Median: ( 102 , 124 )"
          ]
        }
      ],
      "source": [
        "alpha = 0.05\n",
        "quantile_of_interest = 0.5\n",
        "sample_size = length(cats$age_days)\n",
        "num_bootstrap_samples = 500000\n",
        "\n",
        "ordered_data = sort(cats$age_days)\n",
        "\n",
        "CI_indices = qbinom(c(alpha/2, 1-alpha/2), sample_size+1, quantile_of_interest)\n",
        "\n",
        "bootstrap_CI = ordered_data[c(CI_indices[1], CI_indices[2])]\n",
        "\n",
        "ci_indexes\n",
        "cat(\"The original median\")\n",
        "median_cat_ages\n",
        "cat(\"95% Bootstrap Confidence Interval for the Median:\", \"(\",\n",
        "    round(bootstrap_CI[1], 2), \",\", round(bootstrap_CI[2], 2), \")\")\n",
        "\n"
      ]
    },
    {
      "cell_type": "markdown",
      "id": "5ef29042-963f-4184-8f69-2991efb852e9",
      "metadata": {
        "id": "5ef29042-963f-4184-8f69-2991efb852e9"
      },
      "source": [
        "---\n",
        "### Problem 4 (30 Points): Hypothesis Testing with Randomization\n",
        "\n",
        "For this problem, we will be performing a hypothesis test with randomization.\n",
        "\n",
        "The Stanford University Heart Transplant Study was conducted to determine whether an experimental heart transplant program increased lifespan. Each patient entering the program was designated an official heart transplant candidate, meaning that they were gravely ill and would most likely benefit from a new heart. Some patients got a transplant and some did not. The variable `transplant` indicates which group the patients were in; patients in the treatment group got a transplant and those in the control group did not. Of the 34 patients in the control group, 30 died. Of the 69 people in the treatment group, 45 died. Another variable called `survived` was used to indicate whether or not the patient was alive at the end of the study.\n",
        "![transplant_study.png](attachment:e1769df5-ad40-492f-8240-174f01bc51f6.png)"
      ]
    },
    {
      "cell_type": "markdown",
      "id": "579b1d0c-7541-4fff-81a0-1b69e784a6c1",
      "metadata": {
        "id": "579b1d0c-7541-4fff-81a0-1b69e784a6c1"
      },
      "source": [
        "**Part 4.A**: Does the stacked bar plot indicate that survival is independent of whether or not the patient got a transplant? Explain your reasoning?"
      ]
    },
    {
      "cell_type": "markdown",
      "id": "4ced5db8-8a77-4970-85cf-a02843e670da",
      "metadata": {
        "id": "4ced5db8-8a77-4970-85cf-a02843e670da"
      },
      "source": [
        "No, the survival is dependent of whether or not the patient got a transplant\n",
        "because,\n",
        "- The number of people who survived in Treatment group is (24/69 ~ 0.35) who all took the treatment but the no. of people who survived in the control group is just (4/34 ~ 0.11) who did not take any treatment.\n",
        "- This indicated that the people who took the transplant have higher chances of survival compared to the people who did't do transplant so 'transplant' played a role in the patient's survival.\n",
        "- But inorder to confirm whether it played a significant role in deciding the patient 'death/survived' need to do some statistical tests to confirm it."
      ]
    },
    {
      "cell_type": "markdown",
      "id": "77211fd8-0d62-40de-8dce-7520e0681aa1",
      "metadata": {
        "id": "77211fd8-0d62-40de-8dce-7520e0681aa1"
      },
      "source": [
        "**Part 4.B:** What do the box plots above suggest about the efficacy (effectiveness) of the heart transplant treatment?"
      ]
    },
    {
      "cell_type": "markdown",
      "id": "723f10c8-3edc-4026-8aa8-50372f36848d",
      "metadata": {
        "id": "723f10c8-3edc-4026-8aa8-50372f36848d"
      },
      "source": [
        "- Patients in the treatment group lived longer days after taking a heart transplant and the patients in control group lived very few days (survival time) as per the box plot.\n",
        "- The spread of data with a large IQR also an evidence for the people who did transplant lived more days compared to the people who did not.\n",
        "- Also in the Treatment group there are people (outliers) who survived longer than usual which indicates that the heart transplant played a significant role in deciding the patient 'death/survive'"
      ]
    },
    {
      "cell_type": "markdown",
      "id": "9604d8c4-d7ad-4c13-83ed-d8fc0a541c9e",
      "metadata": {
        "id": "9604d8c4-d7ad-4c13-83ed-d8fc0a541c9e"
      },
      "source": [
        "**Part 4.C:** What proportion of patients in the treatment group and what proportion of patients in the control group died?"
      ]
    },
    {
      "cell_type": "markdown",
      "id": "f92db642-63e4-4e11-abe7-1471ef17b78c",
      "metadata": {
        "id": "f92db642-63e4-4e11-abe7-1471ef17b78c"
      },
      "source": [
        "- % of Patients died in control group:\n",
        "$$\\frac{30}{34} = 0.88 = 88\\% $$\n",
        "- % of Patients died in treatment group:\n",
        "$$\\frac{45}{69} = 0.65 = 65\\% $$"
      ]
    },
    {
      "cell_type": "markdown",
      "id": "b61b7992-f508-4c4f-8e57-4151cc31ea25",
      "metadata": {
        "id": "b61b7992-f508-4c4f-8e57-4151cc31ea25"
      },
      "source": [
        "**Part 4.D:** Now we will perform a hypothesis test using randomization. State the null and alternative hypotheses for the test."
      ]
    },
    {
      "cell_type": "markdown",
      "id": "2700d93e-8230-4a00-8787-f95fcd347121",
      "metadata": {
        "id": "2700d93e-8230-4a00-8787-f95fcd347121"
      },
      "source": [
        "- $H_{0}$ : Survival of patient is independent of whether or not receiving a heart transplant.\n",
        "- $H{1}$ : Survival of patient is dependent of whether or not receiving a heart transplant."
      ]
    },
    {
      "cell_type": "markdown",
      "id": "ba27f4f8-302b-4fc8-8ce7-ac324ab074d1",
      "metadata": {
        "id": "ba27f4f8-302b-4fc8-8ce7-ac324ab074d1"
      },
      "source": [
        "---\n",
        "**Part 4.E:** Run 1000 simulations for a randomization test and compile the results in a histogram. Display your histogram below. Please see pages 215-216 in \"Introduction to Modern Statistics\" as a reference for this. Note that this problem is taken directly from the textbook. We are trying to see if we can replicate the results. Due to random sampling, it is expected that your histograms should be slightly different from the textbook and from each other.\n",
        "\n",
        "Note, you will need to create synthetic data. There were $34+69 = 103$ Total people in this study. You will need to create a process for labeling the data points as \"survivor\" or \"non-survivor\" and making random draws from this labeled data. Hint: You could make a list or a csv file with this data and then sample it randomly. Or you could compute the rate of survivors vs non-survivors within these 103 data values and simulate the data using the survival rate as a probability distribution. Or you could come up with your own process. The first way I described it a bit closer to the classic set up we have been discussing in class. But I think the second way is a reasonable approximation. Either is fine for the sake of this homework assignment."
      ]
    },
    {
      "cell_type": "code",
      "execution_count": null,
      "id": "9df73f6f-2ef6-4afd-a695-b99e7b57bbb0",
      "metadata": {
        "vscode": {
          "languageId": "r"
        },
        "id": "9df73f6f-2ef6-4afd-a695-b99e7b57bbb0",
        "colab": {
          "base_uri": "https://localhost:8080/",
          "height": 723
        },
        "outputId": "3886cf35-2741-491b-e6d8-4f0e48f128ee"
      },
      "outputs": [
        {
          "output_type": "display_data",
          "data": {
            "text/html": [
              "<table class=\"dataframe\">\n",
              "<caption>A data.frame: 6 × 1</caption>\n",
              "<thead>\n",
              "\t<tr><th></th><th scope=col>diff</th></tr>\n",
              "\t<tr><th></th><th scope=col>&lt;dbl&gt;</th></tr>\n",
              "</thead>\n",
              "<tbody>\n",
              "\t<tr><th scope=row>1</th><td>-0.20886616</td></tr>\n",
              "\t<tr><th scope=row>2</th><td>-0.07715260</td></tr>\n",
              "\t<tr><th scope=row>3</th><td>-0.07715260</td></tr>\n",
              "\t<tr><th scope=row>4</th><td>-0.07715260</td></tr>\n",
              "\t<tr><th scope=row>5</th><td> 0.05456095</td></tr>\n",
              "\t<tr><th scope=row>6</th><td> 0.01065644</td></tr>\n",
              "</tbody>\n",
              "</table>\n"
            ],
            "text/markdown": "\nA data.frame: 6 × 1\n\n| <!--/--> | diff &lt;dbl&gt; |\n|---|---|\n| 1 | -0.20886616 |\n| 2 | -0.07715260 |\n| 3 | -0.07715260 |\n| 4 | -0.07715260 |\n| 5 |  0.05456095 |\n| 6 |  0.01065644 |\n\n",
            "text/latex": "A data.frame: 6 × 1\n\\begin{tabular}{r|l}\n  & diff\\\\\n  & <dbl>\\\\\n\\hline\n\t1 & -0.20886616\\\\\n\t2 & -0.07715260\\\\\n\t3 & -0.07715260\\\\\n\t4 & -0.07715260\\\\\n\t5 &  0.05456095\\\\\n\t6 &  0.01065644\\\\\n\\end{tabular}\n",
            "text/plain": [
              "  diff       \n",
              "1 -0.20886616\n",
              "2 -0.07715260\n",
              "3 -0.07715260\n",
              "4 -0.07715260\n",
              "5  0.05456095\n",
              "6  0.01065644"
            ]
          },
          "metadata": {}
        },
        {
          "output_type": "display_data",
          "data": {
            "text/plain": [
              "plot without title"
            ],
            "image/png": "[encoded data removed]"
          },
          "metadata": {
            "image/png": {
              "width": 420,
              "height": 420
            }
          }
        }
      ],
      "source": [
        "set.seed(47)\n",
        "patient_outcomes = c(rep(0, 28), rep(1, 75))\n",
        "num_simulations = 1000\n",
        "\n",
        "simulated_differences = numeric(num_simulations)\n",
        "\n",
        "\n",
        "for (i in seq_len(num_simulations)) {\n",
        "\n",
        "  control_indices = sample(seq_along(patient_outcomes), size = 34, replace = FALSE)\n",
        "  control_group = patient_outcomes[control_indices]\n",
        "\n",
        "  remaining_patients = patient_outcomes[-control_indices]\n",
        "  treatment_indices = sample(seq_along(remaining_patients), size = 69, replace = FALSE)\n",
        "  treatment_group = remaining_patients[treatment_indices]\n",
        "\n",
        "  control_survival_rate = sum(control_group) / 34\n",
        "  treatment_survival_rate = sum(treatment_group) / 69\n",
        "  simulated_differences[i] = control_survival_rate - treatment_survival_rate\n",
        "}\n",
        "\n",
        "\n",
        "simulated_df = data.frame(diff = simulated_differences)\n",
        "head(simulated_diff_df)\n",
        "\n",
        "library(ggplot2)\n",
        "\n",
        "ggplot(simulated_df, aes(x = diff)) +\n",
        "  geom_histogram(bins = 15, fill = \"red\", color = \"black\", alpha = 0.7) +\n",
        "  geom_text(stat = \"bin\", bins = 15, aes(label = after_stat(count), y = after_stat(count)),\n",
        "            vjust = -0.5, color = \"black\", size = 4) +\n",
        "  labs(title = \"Randomization Test\",\n",
        "       x = \"Simulated Difference in Survival Rates\",\n",
        "       y = \"Frequency\") +\n",
        "  theme_minimal()\n"
      ]
    },
    {
      "cell_type": "markdown",
      "id": "28c9bbc9-e698-4bbb-857c-a7da2247d9b0",
      "metadata": {
        "id": "28c9bbc9-e698-4bbb-857c-a7da2247d9b0"
      },
      "source": [
        "**Part F:** What is your conclusion and why? (In other words, will you reject your null hypothesis or fail to reject your null hypothesis?)"
      ]
    },
    {
      "cell_type": "code",
      "execution_count": null,
      "id": "82aa1b7d-cd8d-4388-a231-f38fe215e7b1",
      "metadata": {
        "vscode": {
          "languageId": "r"
        },
        "id": "82aa1b7d-cd8d-4388-a231-f38fe215e7b1",
        "colab": {
          "base_uri": "https://localhost:8080/"
        },
        "outputId": "43431065-99e0-454f-e288-599cd3c4c126"
      },
      "outputs": [
        {
          "output_type": "stream",
          "name": "stdout",
          "text": [
            "[1] \"P-value: 0.018\"\n"
          ]
        }
      ],
      "source": [
        "simulated_differences <- simulated_df$diff\n",
        "observed_difference = 0.23\n",
        "p_value = mean(abs(simulated_differences) >= abs(observed_difference))\n",
        "print(paste(\"P-value:\", round(p_value, 4)))"
      ]
    },
    {
      "cell_type": "markdown",
      "source": [
        "- THe p-value is 0.018 which clearly shows that approximately just 18/1000 points are above 0.23 observed difference. So we reject $H_{0}$\n",
        "- Survival of patient is dependent of whether or not receiving a heart transplant and it is not due to randomness.\n",
        "- Heart transplant plays a significant role in the survival of a patient."
      ],
      "metadata": {
        "id": "OYACkYbwQOkl"
      },
      "id": "OYACkYbwQOkl"
    },
    {
      "cell_type": "code",
      "source": [],
      "metadata": {
        "id": "ykDPJ9sZMFak"
      },
      "id": "ykDPJ9sZMFak",
      "execution_count": null,
      "outputs": []
    }
  ],
  "metadata": {
    "kernelspec": {
      "display_name": "R",
      "name": "ir"
    },
    "language_info": {
      "codemirror_mode": "r",
      "file_extension": ".r",
      "mimetype": "text/x-r-source",
      "name": "R",
      "pygments_lexer": "r",
      "version": "3.6.1"
    },
    "colab": {
      "provenance": []
    }
  },
  "nbformat": 4,
  "nbformat_minor": 5
}
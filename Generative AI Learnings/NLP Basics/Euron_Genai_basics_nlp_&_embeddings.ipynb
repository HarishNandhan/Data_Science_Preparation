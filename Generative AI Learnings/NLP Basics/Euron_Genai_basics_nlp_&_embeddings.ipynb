{
  "nbformat": 4,
  "nbformat_minor": 0,
  "metadata": {
    "colab": {
      "provenance": []
    },
    "kernelspec": {
      "name": "python3",
      "display_name": "Python 3"
    },
    "language_info": {
      "name": "python"
    },
    "widgets": {
      "application/vnd.jupyter.widget-state+json": {
        "ba92f310d41e42a58a1c031f09ea2495": {
          "model_module": "@jupyter-widgets/controls",
          "model_name": "HBoxModel",
          "model_module_version": "1.5.0",
          "state": {
            "_dom_classes": [],
            "_model_module": "@jupyter-widgets/controls",
            "_model_module_version": "1.5.0",
            "_model_name": "HBoxModel",
            "_view_count": null,
            "_view_module": "@jupyter-widgets/controls",
            "_view_module_version": "1.5.0",
            "_view_name": "HBoxView",
            "box_style": "",
            "children": [
              "IPY_MODEL_fe2dacd4a5414f0683c4e5635cb9320e",
              "IPY_MODEL_15295f6bf9884c1ba68f37836adee452",
              "IPY_MODEL_da5e52bc74b246b684a6c32cbcba0979"
            ],
            "layout": "IPY_MODEL_4a782d4167244834a3a82bb5e7b41d57"
          }
        },
        "fe2dacd4a5414f0683c4e5635cb9320e": {
          "model_module": "@jupyter-widgets/controls",
          "model_name": "HTMLModel",
          "model_module_version": "1.5.0",
          "state": {
            "_dom_classes": [],
            "_model_module": "@jupyter-widgets/controls",
            "_model_module_version": "1.5.0",
            "_model_name": "HTMLModel",
            "_view_count": null,
            "_view_module": "@jupyter-widgets/controls",
            "_view_module_version": "1.5.0",
            "_view_name": "HTMLView",
            "description": "",
            "description_tooltip": null,
            "layout": "IPY_MODEL_13b99dbadbde41f6a76ac35d55c46fa5",
            "placeholder": "​",
            "style": "IPY_MODEL_25b2094d08cd45fcbc864bf40270f7a0",
            "value": "config.json: 100%"
          }
        },
        "15295f6bf9884c1ba68f37836adee452": {
          "model_module": "@jupyter-widgets/controls",
          "model_name": "FloatProgressModel",
          "model_module_version": "1.5.0",
          "state": {
            "_dom_classes": [],
            "_model_module": "@jupyter-widgets/controls",
            "_model_module_version": "1.5.0",
            "_model_name": "FloatProgressModel",
            "_view_count": null,
            "_view_module": "@jupyter-widgets/controls",
            "_view_module_version": "1.5.0",
            "_view_name": "ProgressView",
            "bar_style": "success",
            "description": "",
            "description_tooltip": null,
            "layout": "IPY_MODEL_23a3d7d30dd74d858454929cf7808c2a",
            "max": 998,
            "min": 0,
            "orientation": "horizontal",
            "style": "IPY_MODEL_ee8fa3edd73d417b99140c59ea2fedfa",
            "value": 998
          }
        },
        "da5e52bc74b246b684a6c32cbcba0979": {
          "model_module": "@jupyter-widgets/controls",
          "model_name": "HTMLModel",
          "model_module_version": "1.5.0",
          "state": {
            "_dom_classes": [],
            "_model_module": "@jupyter-widgets/controls",
            "_model_module_version": "1.5.0",
            "_model_name": "HTMLModel",
            "_view_count": null,
            "_view_module": "@jupyter-widgets/controls",
            "_view_module_version": "1.5.0",
            "_view_name": "HTMLView",
            "description": "",
            "description_tooltip": null,
            "layout": "IPY_MODEL_7a9e554b52184c3d9e074b496fb2562d",
            "placeholder": "​",
            "style": "IPY_MODEL_2c34ad2a0e334a779f16f5f684f70462",
            "value": " 998/998 [00:00&lt;00:00, 81.0kB/s]"
          }
        },
        "4a782d4167244834a3a82bb5e7b41d57": {
          "model_module": "@jupyter-widgets/base",
          "model_name": "LayoutModel",
          "model_module_version": "1.2.0",
          "state": {
            "_model_module": "@jupyter-widgets/base",
            "_model_module_version": "1.2.0",
            "_model_name": "LayoutModel",
            "_view_count": null,
            "_view_module": "@jupyter-widgets/base",
            "_view_module_version": "1.2.0",
            "_view_name": "LayoutView",
            "align_content": null,
            "align_items": null,
            "align_self": null,
            "border": null,
            "bottom": null,
            "display": null,
            "flex": null,
            "flex_flow": null,
            "grid_area": null,
            "grid_auto_columns": null,
            "grid_auto_flow": null,
            "grid_auto_rows": null,
            "grid_column": null,
            "grid_gap": null,
            "grid_row": null,
            "grid_template_areas": null,
            "grid_template_columns": null,
            "grid_template_rows": null,
            "height": null,
            "justify_content": null,
            "justify_items": null,
            "left": null,
            "margin": null,
            "max_height": null,
            "max_width": null,
            "min_height": null,
            "min_width": null,
            "object_fit": null,
            "object_position": null,
            "order": null,
            "overflow": null,
            "overflow_x": null,
            "overflow_y": null,
            "padding": null,
            "right": null,
            "top": null,
            "visibility": null,
            "width": null
          }
        },
        "13b99dbadbde41f6a76ac35d55c46fa5": {
          "model_module": "@jupyter-widgets/base",
          "model_name": "LayoutModel",
          "model_module_version": "1.2.0",
          "state": {
            "_model_module": "@jupyter-widgets/base",
            "_model_module_version": "1.2.0",
            "_model_name": "LayoutModel",
            "_view_count": null,
            "_view_module": "@jupyter-widgets/base",
            "_view_module_version": "1.2.0",
            "_view_name": "LayoutView",
            "align_content": null,
            "align_items": null,
            "align_self": null,
            "border": null,
            "bottom": null,
            "display": null,
            "flex": null,
            "flex_flow": null,
            "grid_area": null,
            "grid_auto_columns": null,
            "grid_auto_flow": null,
            "grid_auto_rows": null,
            "grid_column": null,
            "grid_gap": null,
            "grid_row": null,
            "grid_template_areas": null,
            "grid_template_columns": null,
            "grid_template_rows": null,
            "height": null,
            "justify_content": null,
            "justify_items": null,
            "left": null,
            "margin": null,
            "max_height": null,
            "max_width": null,
            "min_height": null,
            "min_width": null,
            "object_fit": null,
            "object_position": null,
            "order": null,
            "overflow": null,
            "overflow_x": null,
            "overflow_y": null,
            "padding": null,
            "right": null,
            "top": null,
            "visibility": null,
            "width": null
          }
        },
        "25b2094d08cd45fcbc864bf40270f7a0": {
          "model_module": "@jupyter-widgets/controls",
          "model_name": "DescriptionStyleModel",
          "model_module_version": "1.5.0",
          "state": {
            "_model_module": "@jupyter-widgets/controls",
            "_model_module_version": "1.5.0",
            "_model_name": "DescriptionStyleModel",
            "_view_count": null,
            "_view_module": "@jupyter-widgets/base",
            "_view_module_version": "1.2.0",
            "_view_name": "StyleView",
            "description_width": ""
          }
        },
        "23a3d7d30dd74d858454929cf7808c2a": {
          "model_module": "@jupyter-widgets/base",
          "model_name": "LayoutModel",
          "model_module_version": "1.2.0",
          "state": {
            "_model_module": "@jupyter-widgets/base",
            "_model_module_version": "1.2.0",
            "_model_name": "LayoutModel",
            "_view_count": null,
            "_view_module": "@jupyter-widgets/base",
            "_view_module_version": "1.2.0",
            "_view_name": "LayoutView",
            "align_content": null,
            "align_items": null,
            "align_self": null,
            "border": null,
            "bottom": null,
            "display": null,
            "flex": null,
            "flex_flow": null,
            "grid_area": null,
            "grid_auto_columns": null,
            "grid_auto_flow": null,
            "grid_auto_rows": null,
            "grid_column": null,
            "grid_gap": null,
            "grid_row": null,
            "grid_template_areas": null,
            "grid_template_columns": null,
            "grid_template_rows": null,
            "height": null,
            "justify_content": null,
            "justify_items": null,
            "left": null,
            "margin": null,
            "max_height": null,
            "max_width": null,
            "min_height": null,
            "min_width": null,
            "object_fit": null,
            "object_position": null,
            "order": null,
            "overflow": null,
            "overflow_x": null,
            "overflow_y": null,
            "padding": null,
            "right": null,
            "top": null,
            "visibility": null,
            "width": null
          }
        },
        "ee8fa3edd73d417b99140c59ea2fedfa": {
          "model_module": "@jupyter-widgets/controls",
          "model_name": "ProgressStyleModel",
          "model_module_version": "1.5.0",
          "state": {
            "_model_module": "@jupyter-widgets/controls",
            "_model_module_version": "1.5.0",
            "_model_name": "ProgressStyleModel",
            "_view_count": null,
            "_view_module": "@jupyter-widgets/base",
            "_view_module_version": "1.2.0",
            "_view_name": "StyleView",
            "bar_color": null,
            "description_width": ""
          }
        },
        "7a9e554b52184c3d9e074b496fb2562d": {
          "model_module": "@jupyter-widgets/base",
          "model_name": "LayoutModel",
          "model_module_version": "1.2.0",
          "state": {
            "_model_module": "@jupyter-widgets/base",
            "_model_module_version": "1.2.0",
            "_model_name": "LayoutModel",
            "_view_count": null,
            "_view_module": "@jupyter-widgets/base",
            "_view_module_version": "1.2.0",
            "_view_name": "LayoutView",
            "align_content": null,
            "align_items": null,
            "align_self": null,
            "border": null,
            "bottom": null,
            "display": null,
            "flex": null,
            "flex_flow": null,
            "grid_area": null,
            "grid_auto_columns": null,
            "grid_auto_flow": null,
            "grid_auto_rows": null,
            "grid_column": null,
            "grid_gap": null,
            "grid_row": null,
            "grid_template_areas": null,
            "grid_template_columns": null,
            "grid_template_rows": null,
            "height": null,
            "justify_content": null,
            "justify_items": null,
            "left": null,
            "margin": null,
            "max_height": null,
            "max_width": null,
            "min_height": null,
            "min_width": null,
            "object_fit": null,
            "object_position": null,
            "order": null,
            "overflow": null,
            "overflow_x": null,
            "overflow_y": null,
            "padding": null,
            "right": null,
            "top": null,
            "visibility": null,
            "width": null
          }
        },
        "2c34ad2a0e334a779f16f5f684f70462": {
          "model_module": "@jupyter-widgets/controls",
          "model_name": "DescriptionStyleModel",
          "model_module_version": "1.5.0",
          "state": {
            "_model_module": "@jupyter-widgets/controls",
            "_model_module_version": "1.5.0",
            "_model_name": "DescriptionStyleModel",
            "_view_count": null,
            "_view_module": "@jupyter-widgets/base",
            "_view_module_version": "1.2.0",
            "_view_name": "StyleView",
            "description_width": ""
          }
        },
        "3a509b58bb204fe6b11ae8153fad8c4c": {
          "model_module": "@jupyter-widgets/controls",
          "model_name": "HBoxModel",
          "model_module_version": "1.5.0",
          "state": {
            "_dom_classes": [],
            "_model_module": "@jupyter-widgets/controls",
            "_model_module_version": "1.5.0",
            "_model_name": "HBoxModel",
            "_view_count": null,
            "_view_module": "@jupyter-widgets/controls",
            "_view_module_version": "1.5.0",
            "_view_name": "HBoxView",
            "box_style": "",
            "children": [
              "IPY_MODEL_3eb267149e43458c90d8b7b6ef7dab37",
              "IPY_MODEL_f76fa055af324634914eb259ffcd58aa",
              "IPY_MODEL_0746f8c938b246e1bbcea2f3952e95f9"
            ],
            "layout": "IPY_MODEL_111a39dbefae416cbfc955fb33af0ccb"
          }
        },
        "3eb267149e43458c90d8b7b6ef7dab37": {
          "model_module": "@jupyter-widgets/controls",
          "model_name": "HTMLModel",
          "model_module_version": "1.5.0",
          "state": {
            "_dom_classes": [],
            "_model_module": "@jupyter-widgets/controls",
            "_model_module_version": "1.5.0",
            "_model_name": "HTMLModel",
            "_view_count": null,
            "_view_module": "@jupyter-widgets/controls",
            "_view_module_version": "1.5.0",
            "_view_name": "HTMLView",
            "description": "",
            "description_tooltip": null,
            "layout": "IPY_MODEL_553d0f96b20641d0a209c002b47cdcdf",
            "placeholder": "​",
            "style": "IPY_MODEL_d9913df804304c37987d9224a7c6c2cd",
            "value": "model.safetensors: 100%"
          }
        },
        "f76fa055af324634914eb259ffcd58aa": {
          "model_module": "@jupyter-widgets/controls",
          "model_name": "FloatProgressModel",
          "model_module_version": "1.5.0",
          "state": {
            "_dom_classes": [],
            "_model_module": "@jupyter-widgets/controls",
            "_model_module_version": "1.5.0",
            "_model_name": "FloatProgressModel",
            "_view_count": null,
            "_view_module": "@jupyter-widgets/controls",
            "_view_module_version": "1.5.0",
            "_view_name": "ProgressView",
            "bar_style": "success",
            "description": "",
            "description_tooltip": null,
            "layout": "IPY_MODEL_bfd4aed0690a498b9506ffd47471786b",
            "max": 1334400964,
            "min": 0,
            "orientation": "horizontal",
            "style": "IPY_MODEL_df29725093b24f33a654198e694248a8",
            "value": 1334400964
          }
        },
        "0746f8c938b246e1bbcea2f3952e95f9": {
          "model_module": "@jupyter-widgets/controls",
          "model_name": "HTMLModel",
          "model_module_version": "1.5.0",
          "state": {
            "_dom_classes": [],
            "_model_module": "@jupyter-widgets/controls",
            "_model_module_version": "1.5.0",
            "_model_name": "HTMLModel",
            "_view_count": null,
            "_view_module": "@jupyter-widgets/controls",
            "_view_module_version": "1.5.0",
            "_view_name": "HTMLView",
            "description": "",
            "description_tooltip": null,
            "layout": "IPY_MODEL_66043de3281441aca9416079332f57f0",
            "placeholder": "​",
            "style": "IPY_MODEL_bdd0d05614c940ce89488dc4de4df218",
            "value": " 1.33G/1.33G [00:12&lt;00:00, 163MB/s]"
          }
        },
        "111a39dbefae416cbfc955fb33af0ccb": {
          "model_module": "@jupyter-widgets/base",
          "model_name": "LayoutModel",
          "model_module_version": "1.2.0",
          "state": {
            "_model_module": "@jupyter-widgets/base",
            "_model_module_version": "1.2.0",
            "_model_name": "LayoutModel",
            "_view_count": null,
            "_view_module": "@jupyter-widgets/base",
            "_view_module_version": "1.2.0",
            "_view_name": "LayoutView",
            "align_content": null,
            "align_items": null,
            "align_self": null,
            "border": null,
            "bottom": null,
            "display": null,
            "flex": null,
            "flex_flow": null,
            "grid_area": null,
            "grid_auto_columns": null,
            "grid_auto_flow": null,
            "grid_auto_rows": null,
            "grid_column": null,
            "grid_gap": null,
            "grid_row": null,
            "grid_template_areas": null,
            "grid_template_columns": null,
            "grid_template_rows": null,
            "height": null,
            "justify_content": null,
            "justify_items": null,
            "left": null,
            "margin": null,
            "max_height": null,
            "max_width": null,
            "min_height": null,
            "min_width": null,
            "object_fit": null,
            "object_position": null,
            "order": null,
            "overflow": null,
            "overflow_x": null,
            "overflow_y": null,
            "padding": null,
            "right": null,
            "top": null,
            "visibility": null,
            "width": null
          }
        },
        "553d0f96b20641d0a209c002b47cdcdf": {
          "model_module": "@jupyter-widgets/base",
          "model_name": "LayoutModel",
          "model_module_version": "1.2.0",
          "state": {
            "_model_module": "@jupyter-widgets/base",
            "_model_module_version": "1.2.0",
            "_model_name": "LayoutModel",
            "_view_count": null,
            "_view_module": "@jupyter-widgets/base",
            "_view_module_version": "1.2.0",
            "_view_name": "LayoutView",
            "align_content": null,
            "align_items": null,
            "align_self": null,
            "border": null,
            "bottom": null,
            "display": null,
            "flex": null,
            "flex_flow": null,
            "grid_area": null,
            "grid_auto_columns": null,
            "grid_auto_flow": null,
            "grid_auto_rows": null,
            "grid_column": null,
            "grid_gap": null,
            "grid_row": null,
            "grid_template_areas": null,
            "grid_template_columns": null,
            "grid_template_rows": null,
            "height": null,
            "justify_content": null,
            "justify_items": null,
            "left": null,
            "margin": null,
            "max_height": null,
            "max_width": null,
            "min_height": null,
            "min_width": null,
            "object_fit": null,
            "object_position": null,
            "order": null,
            "overflow": null,
            "overflow_x": null,
            "overflow_y": null,
            "padding": null,
            "right": null,
            "top": null,
            "visibility": null,
            "width": null
          }
        },
        "d9913df804304c37987d9224a7c6c2cd": {
          "model_module": "@jupyter-widgets/controls",
          "model_name": "DescriptionStyleModel",
          "model_module_version": "1.5.0",
          "state": {
            "_model_module": "@jupyter-widgets/controls",
            "_model_module_version": "1.5.0",
            "_model_name": "DescriptionStyleModel",
            "_view_count": null,
            "_view_module": "@jupyter-widgets/base",
            "_view_module_version": "1.2.0",
            "_view_name": "StyleView",
            "description_width": ""
          }
        },
        "bfd4aed0690a498b9506ffd47471786b": {
          "model_module": "@jupyter-widgets/base",
          "model_name": "LayoutModel",
          "model_module_version": "1.2.0",
          "state": {
            "_model_module": "@jupyter-widgets/base",
            "_model_module_version": "1.2.0",
            "_model_name": "LayoutModel",
            "_view_count": null,
            "_view_module": "@jupyter-widgets/base",
            "_view_module_version": "1.2.0",
            "_view_name": "LayoutView",
            "align_content": null,
            "align_items": null,
            "align_self": null,
            "border": null,
            "bottom": null,
            "display": null,
            "flex": null,
            "flex_flow": null,
            "grid_area": null,
            "grid_auto_columns": null,
            "grid_auto_flow": null,
            "grid_auto_rows": null,
            "grid_column": null,
            "grid_gap": null,
            "grid_row": null,
            "grid_template_areas": null,
            "grid_template_columns": null,
            "grid_template_rows": null,
            "height": null,
            "justify_content": null,
            "justify_items": null,
            "left": null,
            "margin": null,
            "max_height": null,
            "max_width": null,
            "min_height": null,
            "min_width": null,
            "object_fit": null,
            "object_position": null,
            "order": null,
            "overflow": null,
            "overflow_x": null,
            "overflow_y": null,
            "padding": null,
            "right": null,
            "top": null,
            "visibility": null,
            "width": null
          }
        },
        "df29725093b24f33a654198e694248a8": {
          "model_module": "@jupyter-widgets/controls",
          "model_name": "ProgressStyleModel",
          "model_module_version": "1.5.0",
          "state": {
            "_model_module": "@jupyter-widgets/controls",
            "_model_module_version": "1.5.0",
            "_model_name": "ProgressStyleModel",
            "_view_count": null,
            "_view_module": "@jupyter-widgets/base",
            "_view_module_version": "1.2.0",
            "_view_name": "StyleView",
            "bar_color": null,
            "description_width": ""
          }
        },
        "66043de3281441aca9416079332f57f0": {
          "model_module": "@jupyter-widgets/base",
          "model_name": "LayoutModel",
          "model_module_version": "1.2.0",
          "state": {
            "_model_module": "@jupyter-widgets/base",
            "_model_module_version": "1.2.0",
            "_model_name": "LayoutModel",
            "_view_count": null,
            "_view_module": "@jupyter-widgets/base",
            "_view_module_version": "1.2.0",
            "_view_name": "LayoutView",
            "align_content": null,
            "align_items": null,
            "align_self": null,
            "border": null,
            "bottom": null,
            "display": null,
            "flex": null,
            "flex_flow": null,
            "grid_area": null,
            "grid_auto_columns": null,
            "grid_auto_flow": null,
            "grid_auto_rows": null,
            "grid_column": null,
            "grid_gap": null,
            "grid_row": null,
            "grid_template_areas": null,
            "grid_template_columns": null,
            "grid_template_rows": null,
            "height": null,
            "justify_content": null,
            "justify_items": null,
            "left": null,
            "margin": null,
            "max_height": null,
            "max_width": null,
            "min_height": null,
            "min_width": null,
            "object_fit": null,
            "object_position": null,
            "order": null,
            "overflow": null,
            "overflow_x": null,
            "overflow_y": null,
            "padding": null,
            "right": null,
            "top": null,
            "visibility": null,
            "width": null
          }
        },
        "bdd0d05614c940ce89488dc4de4df218": {
          "model_module": "@jupyter-widgets/controls",
          "model_name": "DescriptionStyleModel",
          "model_module_version": "1.5.0",
          "state": {
            "_model_module": "@jupyter-widgets/controls",
            "_model_module_version": "1.5.0",
            "_model_name": "DescriptionStyleModel",
            "_view_count": null,
            "_view_module": "@jupyter-widgets/base",
            "_view_module_version": "1.2.0",
            "_view_name": "StyleView",
            "description_width": ""
          }
        },
        "10f4d2bd164b4a68be8c623ca1dce06f": {
          "model_module": "@jupyter-widgets/controls",
          "model_name": "HBoxModel",
          "model_module_version": "1.5.0",
          "state": {
            "_dom_classes": [],
            "_model_module": "@jupyter-widgets/controls",
            "_model_module_version": "1.5.0",
            "_model_name": "HBoxModel",
            "_view_count": null,
            "_view_module": "@jupyter-widgets/controls",
            "_view_module_version": "1.5.0",
            "_view_name": "HBoxView",
            "box_style": "",
            "children": [
              "IPY_MODEL_907b5cc4562543fcb3ae2becb76391a5",
              "IPY_MODEL_1e528cc18c564669b57ce938cece19fe",
              "IPY_MODEL_e149d9b1946d4c398c602c05c36c09f7"
            ],
            "layout": "IPY_MODEL_e8bb188ff59f4476af40cb21c02dbb3d"
          }
        },
        "907b5cc4562543fcb3ae2becb76391a5": {
          "model_module": "@jupyter-widgets/controls",
          "model_name": "HTMLModel",
          "model_module_version": "1.5.0",
          "state": {
            "_dom_classes": [],
            "_model_module": "@jupyter-widgets/controls",
            "_model_module_version": "1.5.0",
            "_model_name": "HTMLModel",
            "_view_count": null,
            "_view_module": "@jupyter-widgets/controls",
            "_view_module_version": "1.5.0",
            "_view_name": "HTMLView",
            "description": "",
            "description_tooltip": null,
            "layout": "IPY_MODEL_cbea83df0cc54e04aeee751e47fa1cfc",
            "placeholder": "​",
            "style": "IPY_MODEL_6fc952eba31a4181a22025ac5e3d95db",
            "value": "tokenizer_config.json: 100%"
          }
        },
        "1e528cc18c564669b57ce938cece19fe": {
          "model_module": "@jupyter-widgets/controls",
          "model_name": "FloatProgressModel",
          "model_module_version": "1.5.0",
          "state": {
            "_dom_classes": [],
            "_model_module": "@jupyter-widgets/controls",
            "_model_module_version": "1.5.0",
            "_model_name": "FloatProgressModel",
            "_view_count": null,
            "_view_module": "@jupyter-widgets/controls",
            "_view_module_version": "1.5.0",
            "_view_name": "ProgressView",
            "bar_style": "success",
            "description": "",
            "description_tooltip": null,
            "layout": "IPY_MODEL_1fb17ec9961a46a283bb1db4866cefd4",
            "max": 60,
            "min": 0,
            "orientation": "horizontal",
            "style": "IPY_MODEL_6fb0b7aad37f412895f1928cdaffaf07",
            "value": 60
          }
        },
        "e149d9b1946d4c398c602c05c36c09f7": {
          "model_module": "@jupyter-widgets/controls",
          "model_name": "HTMLModel",
          "model_module_version": "1.5.0",
          "state": {
            "_dom_classes": [],
            "_model_module": "@jupyter-widgets/controls",
            "_model_module_version": "1.5.0",
            "_model_name": "HTMLModel",
            "_view_count": null,
            "_view_module": "@jupyter-widgets/controls",
            "_view_module_version": "1.5.0",
            "_view_name": "HTMLView",
            "description": "",
            "description_tooltip": null,
            "layout": "IPY_MODEL_733d704ffb154749996c37a569e42093",
            "placeholder": "​",
            "style": "IPY_MODEL_40df9bf288aa485ab6fa306aacb61c5e",
            "value": " 60.0/60.0 [00:00&lt;00:00, 4.31kB/s]"
          }
        },
        "e8bb188ff59f4476af40cb21c02dbb3d": {
          "model_module": "@jupyter-widgets/base",
          "model_name": "LayoutModel",
          "model_module_version": "1.2.0",
          "state": {
            "_model_module": "@jupyter-widgets/base",
            "_model_module_version": "1.2.0",
            "_model_name": "LayoutModel",
            "_view_count": null,
            "_view_module": "@jupyter-widgets/base",
            "_view_module_version": "1.2.0",
            "_view_name": "LayoutView",
            "align_content": null,
            "align_items": null,
            "align_self": null,
            "border": null,
            "bottom": null,
            "display": null,
            "flex": null,
            "flex_flow": null,
            "grid_area": null,
            "grid_auto_columns": null,
            "grid_auto_flow": null,
            "grid_auto_rows": null,
            "grid_column": null,
            "grid_gap": null,
            "grid_row": null,
            "grid_template_areas": null,
            "grid_template_columns": null,
            "grid_template_rows": null,
            "height": null,
            "justify_content": null,
            "justify_items": null,
            "left": null,
            "margin": null,
            "max_height": null,
            "max_width": null,
            "min_height": null,
            "min_width": null,
            "object_fit": null,
            "object_position": null,
            "order": null,
            "overflow": null,
            "overflow_x": null,
            "overflow_y": null,
            "padding": null,
            "right": null,
            "top": null,
            "visibility": null,
            "width": null
          }
        },
        "cbea83df0cc54e04aeee751e47fa1cfc": {
          "model_module": "@jupyter-widgets/base",
          "model_name": "LayoutModel",
          "model_module_version": "1.2.0",
          "state": {
            "_model_module": "@jupyter-widgets/base",
            "_model_module_version": "1.2.0",
            "_model_name": "LayoutModel",
            "_view_count": null,
            "_view_module": "@jupyter-widgets/base",
            "_view_module_version": "1.2.0",
            "_view_name": "LayoutView",
            "align_content": null,
            "align_items": null,
            "align_self": null,
            "border": null,
            "bottom": null,
            "display": null,
            "flex": null,
            "flex_flow": null,
            "grid_area": null,
            "grid_auto_columns": null,
            "grid_auto_flow": null,
            "grid_auto_rows": null,
            "grid_column": null,
            "grid_gap": null,
            "grid_row": null,
            "grid_template_areas": null,
            "grid_template_columns": null,
            "grid_template_rows": null,
            "height": null,
            "justify_content": null,
            "justify_items": null,
            "left": null,
            "margin": null,
            "max_height": null,
            "max_width": null,
            "min_height": null,
            "min_width": null,
            "object_fit": null,
            "object_position": null,
            "order": null,
            "overflow": null,
            "overflow_x": null,
            "overflow_y": null,
            "padding": null,
            "right": null,
            "top": null,
            "visibility": null,
            "width": null
          }
        },
        "6fc952eba31a4181a22025ac5e3d95db": {
          "model_module": "@jupyter-widgets/controls",
          "model_name": "DescriptionStyleModel",
          "model_module_version": "1.5.0",
          "state": {
            "_model_module": "@jupyter-widgets/controls",
            "_model_module_version": "1.5.0",
            "_model_name": "DescriptionStyleModel",
            "_view_count": null,
            "_view_module": "@jupyter-widgets/base",
            "_view_module_version": "1.2.0",
            "_view_name": "StyleView",
            "description_width": ""
          }
        },
        "1fb17ec9961a46a283bb1db4866cefd4": {
          "model_module": "@jupyter-widgets/base",
          "model_name": "LayoutModel",
          "model_module_version": "1.2.0",
          "state": {
            "_model_module": "@jupyter-widgets/base",
            "_model_module_version": "1.2.0",
            "_model_name": "LayoutModel",
            "_view_count": null,
            "_view_module": "@jupyter-widgets/base",
            "_view_module_version": "1.2.0",
            "_view_name": "LayoutView",
            "align_content": null,
            "align_items": null,
            "align_self": null,
            "border": null,
            "bottom": null,
            "display": null,
            "flex": null,
            "flex_flow": null,
            "grid_area": null,
            "grid_auto_columns": null,
            "grid_auto_flow": null,
            "grid_auto_rows": null,
            "grid_column": null,
            "grid_gap": null,
            "grid_row": null,
            "grid_template_areas": null,
            "grid_template_columns": null,
            "grid_template_rows": null,
            "height": null,
            "justify_content": null,
            "justify_items": null,
            "left": null,
            "margin": null,
            "max_height": null,
            "max_width": null,
            "min_height": null,
            "min_width": null,
            "object_fit": null,
            "object_position": null,
            "order": null,
            "overflow": null,
            "overflow_x": null,
            "overflow_y": null,
            "padding": null,
            "right": null,
            "top": null,
            "visibility": null,
            "width": null
          }
        },
        "6fb0b7aad37f412895f1928cdaffaf07": {
          "model_module": "@jupyter-widgets/controls",
          "model_name": "ProgressStyleModel",
          "model_module_version": "1.5.0",
          "state": {
            "_model_module": "@jupyter-widgets/controls",
            "_model_module_version": "1.5.0",
            "_model_name": "ProgressStyleModel",
            "_view_count": null,
            "_view_module": "@jupyter-widgets/base",
            "_view_module_version": "1.2.0",
            "_view_name": "StyleView",
            "bar_color": null,
            "description_width": ""
          }
        },
        "733d704ffb154749996c37a569e42093": {
          "model_module": "@jupyter-widgets/base",
          "model_name": "LayoutModel",
          "model_module_version": "1.2.0",
          "state": {
            "_model_module": "@jupyter-widgets/base",
            "_model_module_version": "1.2.0",
            "_model_name": "LayoutModel",
            "_view_count": null,
            "_view_module": "@jupyter-widgets/base",
            "_view_module_version": "1.2.0",
            "_view_name": "LayoutView",
            "align_content": null,
            "align_items": null,
            "align_self": null,
            "border": null,
            "bottom": null,
            "display": null,
            "flex": null,
            "flex_flow": null,
            "grid_area": null,
            "grid_auto_columns": null,
            "grid_auto_flow": null,
            "grid_auto_rows": null,
            "grid_column": null,
            "grid_gap": null,
            "grid_row": null,
            "grid_template_areas": null,
            "grid_template_columns": null,
            "grid_template_rows": null,
            "height": null,
            "justify_content": null,
            "justify_items": null,
            "left": null,
            "margin": null,
            "max_height": null,
            "max_width": null,
            "min_height": null,
            "min_width": null,
            "object_fit": null,
            "object_position": null,
            "order": null,
            "overflow": null,
            "overflow_x": null,
            "overflow_y": null,
            "padding": null,
            "right": null,
            "top": null,
            "visibility": null,
            "width": null
          }
        },
        "40df9bf288aa485ab6fa306aacb61c5e": {
          "model_module": "@jupyter-widgets/controls",
          "model_name": "DescriptionStyleModel",
          "model_module_version": "1.5.0",
          "state": {
            "_model_module": "@jupyter-widgets/controls",
            "_model_module_version": "1.5.0",
            "_model_name": "DescriptionStyleModel",
            "_view_count": null,
            "_view_module": "@jupyter-widgets/base",
            "_view_module_version": "1.2.0",
            "_view_name": "StyleView",
            "description_width": ""
          }
        },
        "a607c04822884a4b96e393174e013648": {
          "model_module": "@jupyter-widgets/controls",
          "model_name": "HBoxModel",
          "model_module_version": "1.5.0",
          "state": {
            "_dom_classes": [],
            "_model_module": "@jupyter-widgets/controls",
            "_model_module_version": "1.5.0",
            "_model_name": "HBoxModel",
            "_view_count": null,
            "_view_module": "@jupyter-widgets/controls",
            "_view_module_version": "1.5.0",
            "_view_name": "HBoxView",
            "box_style": "",
            "children": [
              "IPY_MODEL_95d8a633fb6b4b118a604f7b6680ab4d",
              "IPY_MODEL_a16c0ff5fb7d472c99ee0c3016057d7b",
              "IPY_MODEL_123d412a50cd4a9fa40401d459df3a3e"
            ],
            "layout": "IPY_MODEL_3cc5b147e7a14e16a0dcfb92cb7174a4"
          }
        },
        "95d8a633fb6b4b118a604f7b6680ab4d": {
          "model_module": "@jupyter-widgets/controls",
          "model_name": "HTMLModel",
          "model_module_version": "1.5.0",
          "state": {
            "_dom_classes": [],
            "_model_module": "@jupyter-widgets/controls",
            "_model_module_version": "1.5.0",
            "_model_name": "HTMLModel",
            "_view_count": null,
            "_view_module": "@jupyter-widgets/controls",
            "_view_module_version": "1.5.0",
            "_view_name": "HTMLView",
            "description": "",
            "description_tooltip": null,
            "layout": "IPY_MODEL_7c1ec49e119e4ac2a36d84b18ac8e89a",
            "placeholder": "​",
            "style": "IPY_MODEL_79fb7bd4675b4f17b9e4ed38fc168f69",
            "value": "vocab.txt: 100%"
          }
        },
        "a16c0ff5fb7d472c99ee0c3016057d7b": {
          "model_module": "@jupyter-widgets/controls",
          "model_name": "FloatProgressModel",
          "model_module_version": "1.5.0",
          "state": {
            "_dom_classes": [],
            "_model_module": "@jupyter-widgets/controls",
            "_model_module_version": "1.5.0",
            "_model_name": "FloatProgressModel",
            "_view_count": null,
            "_view_module": "@jupyter-widgets/controls",
            "_view_module_version": "1.5.0",
            "_view_name": "ProgressView",
            "bar_style": "success",
            "description": "",
            "description_tooltip": null,
            "layout": "IPY_MODEL_dd612e1095d7430995c9d85cc8b7c739",
            "max": 213450,
            "min": 0,
            "orientation": "horizontal",
            "style": "IPY_MODEL_4d6243eba529477eada6b3a7676a76ba",
            "value": 213450
          }
        },
        "123d412a50cd4a9fa40401d459df3a3e": {
          "model_module": "@jupyter-widgets/controls",
          "model_name": "HTMLModel",
          "model_module_version": "1.5.0",
          "state": {
            "_dom_classes": [],
            "_model_module": "@jupyter-widgets/controls",
            "_model_module_version": "1.5.0",
            "_model_name": "HTMLModel",
            "_view_count": null,
            "_view_module": "@jupyter-widgets/controls",
            "_view_module_version": "1.5.0",
            "_view_name": "HTMLView",
            "description": "",
            "description_tooltip": null,
            "layout": "IPY_MODEL_8de6159f727a4b9ab9c5ebfc381ccda5",
            "placeholder": "​",
            "style": "IPY_MODEL_7223db1cba55483e9270214527f4c9e5",
            "value": " 213k/213k [00:00&lt;00:00, 1.01MB/s]"
          }
        },
        "3cc5b147e7a14e16a0dcfb92cb7174a4": {
          "model_module": "@jupyter-widgets/base",
          "model_name": "LayoutModel",
          "model_module_version": "1.2.0",
          "state": {
            "_model_module": "@jupyter-widgets/base",
            "_model_module_version": "1.2.0",
            "_model_name": "LayoutModel",
            "_view_count": null,
            "_view_module": "@jupyter-widgets/base",
            "_view_module_version": "1.2.0",
            "_view_name": "LayoutView",
            "align_content": null,
            "align_items": null,
            "align_self": null,
            "border": null,
            "bottom": null,
            "display": null,
            "flex": null,
            "flex_flow": null,
            "grid_area": null,
            "grid_auto_columns": null,
            "grid_auto_flow": null,
            "grid_auto_rows": null,
            "grid_column": null,
            "grid_gap": null,
            "grid_row": null,
            "grid_template_areas": null,
            "grid_template_columns": null,
            "grid_template_rows": null,
            "height": null,
            "justify_content": null,
            "justify_items": null,
            "left": null,
            "margin": null,
            "max_height": null,
            "max_width": null,
            "min_height": null,
            "min_width": null,
            "object_fit": null,
            "object_position": null,
            "order": null,
            "overflow": null,
            "overflow_x": null,
            "overflow_y": null,
            "padding": null,
            "right": null,
            "top": null,
            "visibility": null,
            "width": null
          }
        },
        "7c1ec49e119e4ac2a36d84b18ac8e89a": {
          "model_module": "@jupyter-widgets/base",
          "model_name": "LayoutModel",
          "model_module_version": "1.2.0",
          "state": {
            "_model_module": "@jupyter-widgets/base",
            "_model_module_version": "1.2.0",
            "_model_name": "LayoutModel",
            "_view_count": null,
            "_view_module": "@jupyter-widgets/base",
            "_view_module_version": "1.2.0",
            "_view_name": "LayoutView",
            "align_content": null,
            "align_items": null,
            "align_self": null,
            "border": null,
            "bottom": null,
            "display": null,
            "flex": null,
            "flex_flow": null,
            "grid_area": null,
            "grid_auto_columns": null,
            "grid_auto_flow": null,
            "grid_auto_rows": null,
            "grid_column": null,
            "grid_gap": null,
            "grid_row": null,
            "grid_template_areas": null,
            "grid_template_columns": null,
            "grid_template_rows": null,
            "height": null,
            "justify_content": null,
            "justify_items": null,
            "left": null,
            "margin": null,
            "max_height": null,
            "max_width": null,
            "min_height": null,
            "min_width": null,
            "object_fit": null,
            "object_position": null,
            "order": null,
            "overflow": null,
            "overflow_x": null,
            "overflow_y": null,
            "padding": null,
            "right": null,
            "top": null,
            "visibility": null,
            "width": null
          }
        },
        "79fb7bd4675b4f17b9e4ed38fc168f69": {
          "model_module": "@jupyter-widgets/controls",
          "model_name": "DescriptionStyleModel",
          "model_module_version": "1.5.0",
          "state": {
            "_model_module": "@jupyter-widgets/controls",
            "_model_module_version": "1.5.0",
            "_model_name": "DescriptionStyleModel",
            "_view_count": null,
            "_view_module": "@jupyter-widgets/base",
            "_view_module_version": "1.2.0",
            "_view_name": "StyleView",
            "description_width": ""
          }
        },
        "dd612e1095d7430995c9d85cc8b7c739": {
          "model_module": "@jupyter-widgets/base",
          "model_name": "LayoutModel",
          "model_module_version": "1.2.0",
          "state": {
            "_model_module": "@jupyter-widgets/base",
            "_model_module_version": "1.2.0",
            "_model_name": "LayoutModel",
            "_view_count": null,
            "_view_module": "@jupyter-widgets/base",
            "_view_module_version": "1.2.0",
            "_view_name": "LayoutView",
            "align_content": null,
            "align_items": null,
            "align_self": null,
            "border": null,
            "bottom": null,
            "display": null,
            "flex": null,
            "flex_flow": null,
            "grid_area": null,
            "grid_auto_columns": null,
            "grid_auto_flow": null,
            "grid_auto_rows": null,
            "grid_column": null,
            "grid_gap": null,
            "grid_row": null,
            "grid_template_areas": null,
            "grid_template_columns": null,
            "grid_template_rows": null,
            "height": null,
            "justify_content": null,
            "justify_items": null,
            "left": null,
            "margin": null,
            "max_height": null,
            "max_width": null,
            "min_height": null,
            "min_width": null,
            "object_fit": null,
            "object_position": null,
            "order": null,
            "overflow": null,
            "overflow_x": null,
            "overflow_y": null,
            "padding": null,
            "right": null,
            "top": null,
            "visibility": null,
            "width": null
          }
        },
        "4d6243eba529477eada6b3a7676a76ba": {
          "model_module": "@jupyter-widgets/controls",
          "model_name": "ProgressStyleModel",
          "model_module_version": "1.5.0",
          "state": {
            "_model_module": "@jupyter-widgets/controls",
            "_model_module_version": "1.5.0",
            "_model_name": "ProgressStyleModel",
            "_view_count": null,
            "_view_module": "@jupyter-widgets/base",
            "_view_module_version": "1.2.0",
            "_view_name": "StyleView",
            "bar_color": null,
            "description_width": ""
          }
        },
        "8de6159f727a4b9ab9c5ebfc381ccda5": {
          "model_module": "@jupyter-widgets/base",
          "model_name": "LayoutModel",
          "model_module_version": "1.2.0",
          "state": {
            "_model_module": "@jupyter-widgets/base",
            "_model_module_version": "1.2.0",
            "_model_name": "LayoutModel",
            "_view_count": null,
            "_view_module": "@jupyter-widgets/base",
            "_view_module_version": "1.2.0",
            "_view_name": "LayoutView",
            "align_content": null,
            "align_items": null,
            "align_self": null,
            "border": null,
            "bottom": null,
            "display": null,
            "flex": null,
            "flex_flow": null,
            "grid_area": null,
            "grid_auto_columns": null,
            "grid_auto_flow": null,
            "grid_auto_rows": null,
            "grid_column": null,
            "grid_gap": null,
            "grid_row": null,
            "grid_template_areas": null,
            "grid_template_columns": null,
            "grid_template_rows": null,
            "height": null,
            "justify_content": null,
            "justify_items": null,
            "left": null,
            "margin": null,
            "max_height": null,
            "max_width": null,
            "min_height": null,
            "min_width": null,
            "object_fit": null,
            "object_position": null,
            "order": null,
            "overflow": null,
            "overflow_x": null,
            "overflow_y": null,
            "padding": null,
            "right": null,
            "top": null,
            "visibility": null,
            "width": null
          }
        },
        "7223db1cba55483e9270214527f4c9e5": {
          "model_module": "@jupyter-widgets/controls",
          "model_name": "DescriptionStyleModel",
          "model_module_version": "1.5.0",
          "state": {
            "_model_module": "@jupyter-widgets/controls",
            "_model_module_version": "1.5.0",
            "_model_name": "DescriptionStyleModel",
            "_view_count": null,
            "_view_module": "@jupyter-widgets/base",
            "_view_module_version": "1.2.0",
            "_view_name": "StyleView",
            "description_width": ""
          }
        }
      }
    }
  },
  "cells": [
    {
      "cell_type": "markdown",
      "source": [
        "### 1. One Hot Encoding"
      ],
      "metadata": {
        "id": "zjIFfXH4q4S0"
      }
    },
    {
      "cell_type": "code",
      "source": [
        "corpus = [\"i love nlp\", \"i teach gen ai\", \"i am working with euron\"]"
      ],
      "metadata": {
        "id": "ZTU4QOyEr0KO"
      },
      "execution_count": null,
      "outputs": []
    },
    {
      "cell_type": "code",
      "source": [
        "set(\" \".join(corpus).split())"
      ],
      "metadata": {
        "colab": {
          "base_uri": "https://localhost:8080/"
        },
        "id": "qC0A7AbTulfU",
        "outputId": "e0dbe396-109d-4f0d-ee79-577559e08ca1"
      },
      "execution_count": null,
      "outputs": [
        {
          "output_type": "execute_result",
          "data": {
            "text/plain": [
              "{'ai', 'am', 'euron', 'gen', 'i', 'love', 'nlp', 'teach', 'with', 'working'}"
            ]
          },
          "metadata": {},
          "execution_count": 26
        }
      ]
    },
    {
      "cell_type": "code",
      "source": [
        "unique_words = list(set(\" \".join(corpus).split()))"
      ],
      "metadata": {
        "id": "kgIQlhUvuphA"
      },
      "execution_count": null,
      "outputs": []
    },
    {
      "cell_type": "code",
      "source": [
        "unique_words"
      ],
      "metadata": {
        "colab": {
          "base_uri": "https://localhost:8080/"
        },
        "id": "GYQziRQdyXcZ",
        "outputId": "3f74dc66-a6a8-4d93-e40b-8f894c048a63"
      },
      "execution_count": null,
      "outputs": [
        {
          "output_type": "execute_result",
          "data": {
            "text/plain": [
              "['gen', 'euron', 'with', 'working', 'ai', 'nlp', 'teach', 'i', 'am', 'love']"
            ]
          },
          "metadata": {},
          "execution_count": 28
        }
      ]
    },
    {
      "cell_type": "code",
      "source": [
        "for i in enumerate(unique_words):\n",
        "  print(i)"
      ],
      "metadata": {
        "colab": {
          "base_uri": "https://localhost:8080/"
        },
        "id": "9nwDq0CNybYY",
        "outputId": "c88589ff-54a7-4b84-c177-2a4d6d1fbe3c"
      },
      "execution_count": null,
      "outputs": [
        {
          "output_type": "stream",
          "name": "stdout",
          "text": [
            "(0, 'gen')\n",
            "(1, 'euron')\n",
            "(2, 'with')\n",
            "(3, 'working')\n",
            "(4, 'ai')\n",
            "(5, 'nlp')\n",
            "(6, 'teach')\n",
            "(7, 'i')\n",
            "(8, 'am')\n",
            "(9, 'love')\n"
          ]
        }
      ]
    },
    {
      "cell_type": "code",
      "source": [
        "word_to_index = {word:i for i,word in enumerate(unique_words)} #key - value pairs"
      ],
      "metadata": {
        "id": "t_pal9mzzSy8"
      },
      "execution_count": null,
      "outputs": []
    },
    {
      "cell_type": "code",
      "source": [
        "one_hot_vector = []\n",
        "for sentence in corpus:\n",
        "  print(sentence)\n",
        "  sentence_vector = []\n",
        "  for word in sentence.split():\n",
        "    vector = [0] * len(unique_words) # initializing a zero vector\n",
        "    print(vector)\n",
        "    vector[word_to_index[word]] = 1\n",
        "    # print(word_to_index[word])\n",
        "    # print(vector[word_to_index[word]])\n",
        "    sentence_vector.append(vector)\n",
        "  one_hot_vector.append(sentence_vector)\n",
        "\n"
      ],
      "metadata": {
        "colab": {
          "base_uri": "https://localhost:8080/"
        },
        "id": "fT4_yvUdzvg1",
        "outputId": "4beb2b2c-5014-4b67-c461-f503f59e5c49"
      },
      "execution_count": null,
      "outputs": [
        {
          "output_type": "stream",
          "name": "stdout",
          "text": [
            "i love nlp\n",
            "[0, 0, 0, 0, 0, 0, 0, 0, 0, 0]\n",
            "[0, 0, 0, 0, 0, 0, 0, 0, 0, 0]\n",
            "[0, 0, 0, 0, 0, 0, 0, 0, 0, 0]\n",
            "i teach gen ai\n",
            "[0, 0, 0, 0, 0, 0, 0, 0, 0, 0]\n",
            "[0, 0, 0, 0, 0, 0, 0, 0, 0, 0]\n",
            "[0, 0, 0, 0, 0, 0, 0, 0, 0, 0]\n",
            "[0, 0, 0, 0, 0, 0, 0, 0, 0, 0]\n",
            "i am working with euron\n",
            "[0, 0, 0, 0, 0, 0, 0, 0, 0, 0]\n",
            "[0, 0, 0, 0, 0, 0, 0, 0, 0, 0]\n",
            "[0, 0, 0, 0, 0, 0, 0, 0, 0, 0]\n",
            "[0, 0, 0, 0, 0, 0, 0, 0, 0, 0]\n",
            "[0, 0, 0, 0, 0, 0, 0, 0, 0, 0]\n"
          ]
        }
      ]
    },
    {
      "cell_type": "code",
      "source": [
        "one_hot_vector"
      ],
      "metadata": {
        "colab": {
          "base_uri": "https://localhost:8080/"
        },
        "id": "Vdd7qM8j0zFQ",
        "outputId": "fb43a534-666d-4ee5-8023-541a79d499aa"
      },
      "execution_count": null,
      "outputs": [
        {
          "output_type": "execute_result",
          "data": {
            "text/plain": [
              "[[[0, 0, 0, 0, 0, 0, 0, 1, 0, 0],\n",
              "  [0, 0, 0, 0, 0, 0, 0, 0, 0, 1],\n",
              "  [0, 0, 0, 0, 0, 1, 0, 0, 0, 0]],\n",
              " [[0, 0, 0, 0, 0, 0, 0, 1, 0, 0],\n",
              "  [0, 0, 0, 0, 0, 0, 1, 0, 0, 0],\n",
              "  [1, 0, 0, 0, 0, 0, 0, 0, 0, 0],\n",
              "  [0, 0, 0, 0, 1, 0, 0, 0, 0, 0]],\n",
              " [[0, 0, 0, 0, 0, 0, 0, 1, 0, 0],\n",
              "  [0, 0, 0, 0, 0, 0, 0, 0, 1, 0],\n",
              "  [0, 0, 0, 1, 0, 0, 0, 0, 0, 0],\n",
              "  [0, 0, 1, 0, 0, 0, 0, 0, 0, 0],\n",
              "  [0, 1, 0, 0, 0, 0, 0, 0, 0, 0]]]"
            ]
          },
          "metadata": {},
          "execution_count": 34
        }
      ]
    },
    {
      "cell_type": "markdown",
      "source": [
        "**Cons of using One Hot Encoding:**\n",
        "- Even for a very small dataset ie. for 3 words it created a 3x10 space of matrices. If we have a very large unique words the vector size increases significantly.\n",
        "- A lot of space(0,0) data we can find out.\n",
        "- There is no where it's building a relationship between the words (no understanding of the context)"
      ],
      "metadata": {
        "id": "5xytB00E7qEj"
      }
    },
    {
      "cell_type": "markdown",
      "source": [
        "### 2. BOW (Bag of Words)\n",
        "- A frequency based encoding technique where whatever sentence/document that we take will be represented in a vector space.\n",
        "- vector length = total no. of unique words\n",
        "- The value in each position represents the no. of times the word appears in the particular sentence."
      ],
      "metadata": {
        "id": "DXh1JtEV84qo"
      }
    },
    {
      "cell_type": "code",
      "source": [
        "from sklearn.feature_extraction.text import CountVectorizer"
      ],
      "metadata": {
        "id": "FcskPRS-4POO"
      },
      "execution_count": null,
      "outputs": []
    },
    {
      "cell_type": "code",
      "source": [
        "vectorizer = CountVectorizer(stop_words=None, vocabulary=unique_words)"
      ],
      "metadata": {
        "id": "PVLFRKX69jF3"
      },
      "execution_count": null,
      "outputs": []
    },
    {
      "cell_type": "code",
      "source": [
        "corpus = [\"i love nlp\", \"i teach gen ai\", \"i am working with euron\", \"i am with india\"]"
      ],
      "metadata": {
        "id": "Wqa6lxIz97eX"
      },
      "execution_count": null,
      "outputs": []
    },
    {
      "cell_type": "code",
      "source": [
        "X = vectorizer.fit_transform(corpus)"
      ],
      "metadata": {
        "id": "LT4wgAg5-AN7"
      },
      "execution_count": null,
      "outputs": []
    },
    {
      "cell_type": "code",
      "source": [
        "X.toarray()"
      ],
      "metadata": {
        "colab": {
          "base_uri": "https://localhost:8080/"
        },
        "id": "T8x1HMit-CGZ",
        "outputId": "09f4d2f1-f078-46e7-e00f-472d24dbc9dd"
      },
      "execution_count": null,
      "outputs": [
        {
          "output_type": "execute_result",
          "data": {
            "text/plain": [
              "array([[0, 0, 0, 0, 0, 1, 0, 0, 0, 1],\n",
              "       [1, 0, 0, 0, 1, 0, 1, 0, 0, 0],\n",
              "       [0, 1, 1, 1, 0, 0, 0, 0, 1, 0],\n",
              "       [0, 0, 1, 0, 0, 0, 0, 0, 1, 0]])"
            ]
          },
          "metadata": {},
          "execution_count": 60
        }
      ]
    },
    {
      "cell_type": "code",
      "source": [
        "vectorizer.get_feature_names_out()"
      ],
      "metadata": {
        "colab": {
          "base_uri": "https://localhost:8080/"
        },
        "id": "eBWPGgtf-E8y",
        "outputId": "379cd225-214c-407a-e338-298fa000f0d5"
      },
      "execution_count": null,
      "outputs": [
        {
          "output_type": "execute_result",
          "data": {
            "text/plain": [
              "array(['gen', 'euron', 'with', 'working', 'ai', 'nlp', 'teach', 'i', 'am',\n",
              "       'love'], dtype=object)"
            ]
          },
          "metadata": {},
          "execution_count": 61
        }
      ]
    },
    {
      "cell_type": "markdown",
      "source": [
        "### TF-IDF (Term Frequency - Inverse Document Frequency)"
      ],
      "metadata": {
        "id": "4uESe4LfC8Cw"
      }
    },
    {
      "cell_type": "markdown",
      "source": [
        "- TF = (no. of times word appeared in a document) / Total number of word in document\n",
        "- IDF = log([Total number of document]/No. of doc containing word)\n",
        "\n",
        "= TF-IDF = TF x IDF"
      ],
      "metadata": {
        "id": "YKmZ42-KDGG2"
      }
    },
    {
      "cell_type": "code",
      "source": [
        "from sklearn.feature_extraction.text import TfidfVectorizer"
      ],
      "metadata": {
        "id": "OJ419jZqA0ic"
      },
      "execution_count": null,
      "outputs": []
    },
    {
      "cell_type": "code",
      "source": [
        "vect_tf_idf = TfidfVectorizer()"
      ],
      "metadata": {
        "id": "9UxEyFZcEyO2"
      },
      "execution_count": null,
      "outputs": []
    },
    {
      "cell_type": "code",
      "source": [
        "corpus = [\"i love nlp\", \"i teach gen ai\", \"i am working with euron\"]"
      ],
      "metadata": {
        "id": "4g3KB_ZfFCmd"
      },
      "execution_count": null,
      "outputs": []
    },
    {
      "cell_type": "code",
      "source": [
        "X = vect_tf_idf.fit_transform(corpus)\n",
        "X.toarray()"
      ],
      "metadata": {
        "colab": {
          "base_uri": "https://localhost:8080/"
        },
        "id": "djMPYvVIE2wz",
        "outputId": "dda44600-176a-4caf-84c8-2d4491efccac"
      },
      "execution_count": null,
      "outputs": [
        {
          "output_type": "execute_result",
          "data": {
            "text/plain": [
              "array([[0.        , 0.        , 0.        , 0.        , 0.70710678,\n",
              "        0.70710678, 0.        , 0.        , 0.        ],\n",
              "       [0.57735027, 0.        , 0.        , 0.57735027, 0.        ,\n",
              "        0.        , 0.57735027, 0.        , 0.        ],\n",
              "       [0.        , 0.5       , 0.5       , 0.        , 0.        ,\n",
              "        0.        , 0.        , 0.5       , 0.5       ]])"
            ]
          },
          "metadata": {},
          "execution_count": 68
        }
      ]
    },
    {
      "cell_type": "markdown",
      "source": [
        "Advantages:\n",
        "- If frequency of occurence is very very high, it will automatically reduce the impact of those words.\n",
        "- If it's unique it's going to assign a large value if it's frequently occuring then it will assign a small value for that word.\n",
        "- Less sparse compared to other methods"
      ],
      "metadata": {
        "id": "IsuJpUmhFFhW"
      }
    },
    {
      "cell_type": "markdown",
      "source": [
        "### Word2Vec"
      ],
      "metadata": {
        "id": "KBp2w8XrPI6r"
      }
    },
    {
      "cell_type": "code",
      "source": [
        " !pip install gensim"
      ],
      "metadata": {
        "id": "IXx7y68VE9fT",
        "colab": {
          "base_uri": "https://localhost:8080/"
        },
        "outputId": "b7b2d976-edb7-4df1-c2dd-73d4e623b919"
      },
      "execution_count": null,
      "outputs": [
        {
          "output_type": "stream",
          "name": "stdout",
          "text": [
            "Collecting gensim\n",
            "  Downloading gensim-4.3.3-cp311-cp311-manylinux_2_17_x86_64.manylinux2014_x86_64.whl.metadata (8.1 kB)\n",
            "Collecting numpy<2.0,>=1.18.5 (from gensim)\n",
            "  Downloading numpy-1.26.4-cp311-cp311-manylinux_2_17_x86_64.manylinux2014_x86_64.whl.metadata (61 kB)\n",
            "\u001b[2K     \u001b[90m━━━━━━━━━━━━━━━━━━━━━━━━━━━━━━━━━━━━━━━━\u001b[0m \u001b[32m61.0/61.0 kB\u001b[0m \u001b[31m1.9 MB/s\u001b[0m eta \u001b[36m0:00:00\u001b[0m\n",
            "\u001b[?25hCollecting scipy<1.14.0,>=1.7.0 (from gensim)\n",
            "  Downloading scipy-1.13.1-cp311-cp311-manylinux_2_17_x86_64.manylinux2014_x86_64.whl.metadata (60 kB)\n",
            "\u001b[2K     \u001b[90m━━━━━━━━━━━━━━━━━━━━━━━━━━━━━━━━━━━━━━━━\u001b[0m \u001b[32m60.6/60.6 kB\u001b[0m \u001b[31m4.4 MB/s\u001b[0m eta \u001b[36m0:00:00\u001b[0m\n",
            "\u001b[?25hRequirement already satisfied: smart-open>=1.8.1 in /usr/local/lib/python3.11/dist-packages (from gensim) (7.1.0)\n",
            "Requirement already satisfied: wrapt in /usr/local/lib/python3.11/dist-packages (from smart-open>=1.8.1->gensim) (1.17.2)\n",
            "Downloading gensim-4.3.3-cp311-cp311-manylinux_2_17_x86_64.manylinux2014_x86_64.whl (26.7 MB)\n",
            "\u001b[2K   \u001b[90m━━━━━━━━━━━━━━━━━━━━━━━━━━━━━━━━━━━━━━━━\u001b[0m \u001b[32m26.7/26.7 MB\u001b[0m \u001b[31m39.1 MB/s\u001b[0m eta \u001b[36m0:00:00\u001b[0m\n",
            "\u001b[?25hDownloading numpy-1.26.4-cp311-cp311-manylinux_2_17_x86_64.manylinux2014_x86_64.whl (18.3 MB)\n",
            "\u001b[2K   \u001b[90m━━━━━━━━━━━━━━━━━━━━━━━━━━━━━━━━━━━━━━━━\u001b[0m \u001b[32m18.3/18.3 MB\u001b[0m \u001b[31m33.3 MB/s\u001b[0m eta \u001b[36m0:00:00\u001b[0m\n",
            "\u001b[?25hDownloading scipy-1.13.1-cp311-cp311-manylinux_2_17_x86_64.manylinux2014_x86_64.whl (38.6 MB)\n",
            "\u001b[2K   \u001b[90m━━━━━━━━━━━━━━━━━━━━━━━━━━━━━━━━━━━━━━━━\u001b[0m \u001b[32m38.6/38.6 MB\u001b[0m \u001b[31m10.7 MB/s\u001b[0m eta \u001b[36m0:00:00\u001b[0m\n",
            "\u001b[?25hInstalling collected packages: numpy, scipy, gensim\n",
            "  Attempting uninstall: numpy\n",
            "    Found existing installation: numpy 2.0.2\n",
            "    Uninstalling numpy-2.0.2:\n",
            "      Successfully uninstalled numpy-2.0.2\n",
            "  Attempting uninstall: scipy\n",
            "    Found existing installation: scipy 1.15.3\n",
            "    Uninstalling scipy-1.15.3:\n",
            "      Successfully uninstalled scipy-1.15.3\n",
            "\u001b[31mERROR: pip's dependency resolver does not currently take into account all the packages that are installed. This behaviour is the source of the following dependency conflicts.\n",
            "tsfresh 0.21.0 requires scipy>=1.14.0; python_version >= \"3.10\", but you have scipy 1.13.1 which is incompatible.\n",
            "thinc 8.3.6 requires numpy<3.0.0,>=2.0.0, but you have numpy 1.26.4 which is incompatible.\u001b[0m\u001b[31m\n",
            "\u001b[0mSuccessfully installed gensim-4.3.3 numpy-1.26.4 scipy-1.13.1\n"
          ]
        }
      ]
    },
    {
      "cell_type": "code",
      "source": [
        "!pip install --upgrade --force-reinstall numpy matplotlib gensim scipy\n"
      ],
      "metadata": {
        "colab": {
          "base_uri": "https://localhost:8080/",
          "height": 1000
        },
        "id": "KUmG5a6-T6MC",
        "outputId": "e263751a-c0e5-45c2-b802-c0dd9af3c8c8"
      },
      "execution_count": null,
      "outputs": [
        {
          "output_type": "stream",
          "name": "stdout",
          "text": [
            "Collecting numpy\n",
            "  Downloading numpy-2.2.6-cp311-cp311-manylinux_2_17_x86_64.manylinux2014_x86_64.whl.metadata (62 kB)\n",
            "\u001b[?25l     \u001b[90m━━━━━━━━━━━━━━━━━━━━━━━━━━━━━━━━━━━━━━━━\u001b[0m \u001b[32m0.0/62.0 kB\u001b[0m \u001b[31m?\u001b[0m eta \u001b[36m-:--:--\u001b[0m\r\u001b[2K     \u001b[90m━━━━━━━━━━━━━━━━━━━━━━━━━━━━━━━━━━━━━━━━\u001b[0m \u001b[32m62.0/62.0 kB\u001b[0m \u001b[31m1.6 MB/s\u001b[0m eta \u001b[36m0:00:00\u001b[0m\n",
            "\u001b[?25hCollecting matplotlib\n",
            "  Downloading matplotlib-3.10.3-cp311-cp311-manylinux_2_17_x86_64.manylinux2014_x86_64.whl.metadata (11 kB)\n",
            "Collecting gensim\n",
            "  Using cached gensim-4.3.3-cp311-cp311-manylinux_2_17_x86_64.manylinux2014_x86_64.whl.metadata (8.1 kB)\n",
            "Collecting scipy\n",
            "  Downloading scipy-1.15.3-cp311-cp311-manylinux_2_17_x86_64.manylinux2014_x86_64.whl.metadata (61 kB)\n",
            "\u001b[2K     \u001b[90m━━━━━━━━━━━━━━━━━━━━━━━━━━━━━━━━━━━━━━━━\u001b[0m \u001b[32m62.0/62.0 kB\u001b[0m \u001b[31m2.4 MB/s\u001b[0m eta \u001b[36m0:00:00\u001b[0m\n",
            "\u001b[?25hCollecting contourpy>=1.0.1 (from matplotlib)\n",
            "  Downloading contourpy-1.3.2-cp311-cp311-manylinux_2_17_x86_64.manylinux2014_x86_64.whl.metadata (5.5 kB)\n",
            "Collecting cycler>=0.10 (from matplotlib)\n",
            "  Downloading cycler-0.12.1-py3-none-any.whl.metadata (3.8 kB)\n",
            "Collecting fonttools>=4.22.0 (from matplotlib)\n",
            "  Downloading fonttools-4.58.1-cp311-cp311-manylinux_2_17_x86_64.manylinux2014_x86_64.whl.metadata (106 kB)\n",
            "\u001b[2K     \u001b[90m━━━━━━━━━━━━━━━━━━━━━━━━━━━━━━━━━━━━━━━\u001b[0m \u001b[32m106.1/106.1 kB\u001b[0m \u001b[31m8.2 MB/s\u001b[0m eta \u001b[36m0:00:00\u001b[0m\n",
            "\u001b[?25hCollecting kiwisolver>=1.3.1 (from matplotlib)\n",
            "  Downloading kiwisolver-1.4.8-cp311-cp311-manylinux_2_17_x86_64.manylinux2014_x86_64.whl.metadata (6.2 kB)\n",
            "Collecting packaging>=20.0 (from matplotlib)\n",
            "  Downloading packaging-25.0-py3-none-any.whl.metadata (3.3 kB)\n",
            "Collecting pillow>=8 (from matplotlib)\n",
            "  Downloading pillow-11.2.1-cp311-cp311-manylinux_2_28_x86_64.whl.metadata (8.9 kB)\n",
            "Collecting pyparsing>=2.3.1 (from matplotlib)\n",
            "  Downloading pyparsing-3.2.3-py3-none-any.whl.metadata (5.0 kB)\n",
            "Collecting python-dateutil>=2.7 (from matplotlib)\n",
            "  Downloading python_dateutil-2.9.0.post0-py2.py3-none-any.whl.metadata (8.4 kB)\n",
            "Collecting numpy\n",
            "  Using cached numpy-1.26.4-cp311-cp311-manylinux_2_17_x86_64.manylinux2014_x86_64.whl.metadata (61 kB)\n",
            "Collecting scipy\n",
            "  Using cached scipy-1.13.1-cp311-cp311-manylinux_2_17_x86_64.manylinux2014_x86_64.whl.metadata (60 kB)\n",
            "Collecting smart-open>=1.8.1 (from gensim)\n",
            "  Downloading smart_open-7.1.0-py3-none-any.whl.metadata (24 kB)\n",
            "Collecting six>=1.5 (from python-dateutil>=2.7->matplotlib)\n",
            "  Downloading six-1.17.0-py2.py3-none-any.whl.metadata (1.7 kB)\n",
            "Collecting wrapt (from smart-open>=1.8.1->gensim)\n",
            "  Downloading wrapt-1.17.2-cp311-cp311-manylinux_2_5_x86_64.manylinux1_x86_64.manylinux_2_17_x86_64.manylinux2014_x86_64.whl.metadata (6.4 kB)\n",
            "Downloading matplotlib-3.10.3-cp311-cp311-manylinux_2_17_x86_64.manylinux2014_x86_64.whl (8.6 MB)\n",
            "\u001b[2K   \u001b[90m━━━━━━━━━━━━━━━━━━━━━━━━━━━━━━━━━━━━━━━━\u001b[0m \u001b[32m8.6/8.6 MB\u001b[0m \u001b[31m64.9 MB/s\u001b[0m eta \u001b[36m0:00:00\u001b[0m\n",
            "\u001b[?25hUsing cached gensim-4.3.3-cp311-cp311-manylinux_2_17_x86_64.manylinux2014_x86_64.whl (26.7 MB)\n",
            "Using cached numpy-1.26.4-cp311-cp311-manylinux_2_17_x86_64.manylinux2014_x86_64.whl (18.3 MB)\n",
            "Using cached scipy-1.13.1-cp311-cp311-manylinux_2_17_x86_64.manylinux2014_x86_64.whl (38.6 MB)\n",
            "Downloading contourpy-1.3.2-cp311-cp311-manylinux_2_17_x86_64.manylinux2014_x86_64.whl (326 kB)\n",
            "\u001b[2K   \u001b[90m━━━━━━━━━━━━━━━━━━━━━━━━━━━━━━━━━━━━━━━━\u001b[0m \u001b[32m326.2/326.2 kB\u001b[0m \u001b[31m14.9 MB/s\u001b[0m eta \u001b[36m0:00:00\u001b[0m\n",
            "\u001b[?25hDownloading cycler-0.12.1-py3-none-any.whl (8.3 kB)\n",
            "Downloading fonttools-4.58.1-cp311-cp311-manylinux_2_17_x86_64.manylinux2014_x86_64.whl (4.9 MB)\n",
            "\u001b[2K   \u001b[90m━━━━━━━━━━━━━━━━━━━━━━━━━━━━━━━━━━━━━━━━\u001b[0m \u001b[32m4.9/4.9 MB\u001b[0m \u001b[31m49.6 MB/s\u001b[0m eta \u001b[36m0:00:00\u001b[0m\n",
            "\u001b[?25hDownloading kiwisolver-1.4.8-cp311-cp311-manylinux_2_17_x86_64.manylinux2014_x86_64.whl (1.4 MB)\n",
            "\u001b[2K   \u001b[90m━━━━━━━━━━━━━━━━━━━━━━━━━━━━━━━━━━━━━━━━\u001b[0m \u001b[32m1.4/1.4 MB\u001b[0m \u001b[31m50.7 MB/s\u001b[0m eta \u001b[36m0:00:00\u001b[0m\n",
            "\u001b[?25hDownloading packaging-25.0-py3-none-any.whl (66 kB)\n",
            "\u001b[2K   \u001b[90m━━━━━━━━━━━━━━━━━━━━━━━━━━━━━━━━━━━━━━━━\u001b[0m \u001b[32m66.5/66.5 kB\u001b[0m \u001b[31m5.1 MB/s\u001b[0m eta \u001b[36m0:00:00\u001b[0m\n",
            "\u001b[?25hDownloading pillow-11.2.1-cp311-cp311-manylinux_2_28_x86_64.whl (4.6 MB)\n",
            "\u001b[2K   \u001b[90m━━━━━━━━━━━━━━━━━━━━━━━━━━━━━━━━━━━━━━━━\u001b[0m \u001b[32m4.6/4.6 MB\u001b[0m \u001b[31m14.4 MB/s\u001b[0m eta \u001b[36m0:00:00\u001b[0m\n",
            "\u001b[?25hDownloading pyparsing-3.2.3-py3-none-any.whl (111 kB)\n",
            "\u001b[2K   \u001b[90m━━━━━━━━━━━━━━━━━━━━━━━━━━━━━━━━━━━━━━━━\u001b[0m \u001b[32m111.1/111.1 kB\u001b[0m \u001b[31m8.2 MB/s\u001b[0m eta \u001b[36m0:00:00\u001b[0m\n",
            "\u001b[?25hDownloading python_dateutil-2.9.0.post0-py2.py3-none-any.whl (229 kB)\n",
            "\u001b[2K   \u001b[90m━━━━━━━━━━━━━━━━━━━━━━━━━━━━━━━━━━━━━━━━\u001b[0m \u001b[32m229.9/229.9 kB\u001b[0m \u001b[31m16.8 MB/s\u001b[0m eta \u001b[36m0:00:00\u001b[0m\n",
            "\u001b[?25hDownloading smart_open-7.1.0-py3-none-any.whl (61 kB)\n",
            "\u001b[2K   \u001b[90m━━━━━━━━━━━━━━━━━━━━━━━━━━━━━━━━━━━━━━━━\u001b[0m \u001b[32m61.7/61.7 kB\u001b[0m \u001b[31m2.1 MB/s\u001b[0m eta \u001b[36m0:00:00\u001b[0m\n",
            "\u001b[?25hDownloading six-1.17.0-py2.py3-none-any.whl (11 kB)\n",
            "Downloading wrapt-1.17.2-cp311-cp311-manylinux_2_5_x86_64.manylinux1_x86_64.manylinux_2_17_x86_64.manylinux2014_x86_64.whl (83 kB)\n",
            "\u001b[2K   \u001b[90m━━━━━━━━━━━━━━━━━━━━━━━━━━━━━━━━━━━━━━━━\u001b[0m \u001b[32m83.2/83.2 kB\u001b[0m \u001b[31m6.2 MB/s\u001b[0m eta \u001b[36m0:00:00\u001b[0m\n",
            "\u001b[?25hInstalling collected packages: wrapt, six, pyparsing, pillow, packaging, numpy, kiwisolver, fonttools, cycler, smart-open, scipy, python-dateutil, contourpy, matplotlib, gensim\n",
            "  Attempting uninstall: wrapt\n",
            "    Found existing installation: wrapt 1.17.2\n",
            "    Uninstalling wrapt-1.17.2:\n",
            "      Successfully uninstalled wrapt-1.17.2\n",
            "  Attempting uninstall: six\n",
            "    Found existing installation: six 1.17.0\n",
            "    Uninstalling six-1.17.0:\n",
            "      Successfully uninstalled six-1.17.0\n",
            "  Attempting uninstall: pyparsing\n",
            "    Found existing installation: pyparsing 3.2.3\n",
            "    Uninstalling pyparsing-3.2.3:\n",
            "      Successfully uninstalled pyparsing-3.2.3\n",
            "  Attempting uninstall: pillow\n",
            "    Found existing installation: pillow 11.2.1\n",
            "    Uninstalling pillow-11.2.1:\n",
            "      Successfully uninstalled pillow-11.2.1\n",
            "  Attempting uninstall: packaging\n",
            "    Found existing installation: packaging 24.2\n",
            "    Uninstalling packaging-24.2:\n",
            "      Successfully uninstalled packaging-24.2\n",
            "  Attempting uninstall: numpy\n",
            "    Found existing installation: numpy 1.26.4\n",
            "    Uninstalling numpy-1.26.4:\n",
            "      Successfully uninstalled numpy-1.26.4\n",
            "  Attempting uninstall: kiwisolver\n",
            "    Found existing installation: kiwisolver 1.4.8\n",
            "    Uninstalling kiwisolver-1.4.8:\n",
            "      Successfully uninstalled kiwisolver-1.4.8\n",
            "  Attempting uninstall: fonttools\n",
            "    Found existing installation: fonttools 4.58.0\n",
            "    Uninstalling fonttools-4.58.0:\n",
            "      Successfully uninstalled fonttools-4.58.0\n",
            "  Attempting uninstall: cycler\n",
            "    Found existing installation: cycler 0.12.1\n",
            "    Uninstalling cycler-0.12.1:\n",
            "      Successfully uninstalled cycler-0.12.1\n",
            "  Attempting uninstall: smart-open\n",
            "    Found existing installation: smart-open 7.1.0\n",
            "    Uninstalling smart-open-7.1.0:\n",
            "      Successfully uninstalled smart-open-7.1.0\n",
            "  Attempting uninstall: scipy\n",
            "    Found existing installation: scipy 1.13.1\n",
            "    Uninstalling scipy-1.13.1:\n",
            "      Successfully uninstalled scipy-1.13.1\n",
            "  Attempting uninstall: python-dateutil\n",
            "    Found existing installation: python-dateutil 2.9.0.post0\n",
            "    Uninstalling python-dateutil-2.9.0.post0:\n",
            "      Successfully uninstalled python-dateutil-2.9.0.post0\n",
            "  Attempting uninstall: contourpy\n",
            "    Found existing installation: contourpy 1.3.2\n",
            "    Uninstalling contourpy-1.3.2:\n",
            "      Successfully uninstalled contourpy-1.3.2\n",
            "  Attempting uninstall: matplotlib\n",
            "    Found existing installation: matplotlib 3.10.0\n",
            "    Uninstalling matplotlib-3.10.0:\n",
            "      Successfully uninstalled matplotlib-3.10.0\n",
            "  Attempting uninstall: gensim\n",
            "    Found existing installation: gensim 4.3.3\n",
            "    Uninstalling gensim-4.3.3:\n",
            "      Successfully uninstalled gensim-4.3.3\n",
            "\u001b[31mERROR: pip's dependency resolver does not currently take into account all the packages that are installed. This behaviour is the source of the following dependency conflicts.\n",
            "langchain-core 0.3.60 requires packaging<25,>=23.2, but you have packaging 25.0 which is incompatible.\n",
            "tsfresh 0.21.0 requires scipy>=1.14.0; python_version >= \"3.10\", but you have scipy 1.13.1 which is incompatible.\n",
            "thinc 8.3.6 requires numpy<3.0.0,>=2.0.0, but you have numpy 1.26.4 which is incompatible.\u001b[0m\u001b[31m\n",
            "\u001b[0mSuccessfully installed contourpy-1.3.2 cycler-0.12.1 fonttools-4.58.1 gensim-4.3.3 kiwisolver-1.4.8 matplotlib-3.10.3 numpy-1.26.4 packaging-25.0 pillow-11.2.1 pyparsing-3.2.3 python-dateutil-2.9.0.post0 scipy-1.13.1 six-1.17.0 smart-open-7.1.0 wrapt-1.17.2\n"
          ]
        },
        {
          "output_type": "display_data",
          "data": {
            "application/vnd.colab-display-data+json": {
              "pip_warning": {
                "packages": [
                  "PIL",
                  "cycler",
                  "dateutil",
                  "kiwisolver",
                  "six"
                ]
              },
              "id": "6b8af7b71df54d02af41724acd693795"
            }
          },
          "metadata": {}
        }
      ]
    },
    {
      "cell_type": "code",
      "source": [
        "!pip install nltk"
      ],
      "metadata": {
        "colab": {
          "base_uri": "https://localhost:8080/"
        },
        "id": "Fa7crUS0S8Hc",
        "outputId": "d6d855bd-0fb2-40a8-f69c-124121b613a5"
      },
      "execution_count": null,
      "outputs": [
        {
          "output_type": "stream",
          "name": "stdout",
          "text": [
            "Requirement already satisfied: nltk in /usr/local/lib/python3.11/dist-packages (3.9.1)\n",
            "Requirement already satisfied: click in /usr/local/lib/python3.11/dist-packages (from nltk) (8.2.1)\n",
            "Requirement already satisfied: joblib in /usr/local/lib/python3.11/dist-packages (from nltk) (1.5.0)\n",
            "Requirement already satisfied: regex>=2021.8.3 in /usr/local/lib/python3.11/dist-packages (from nltk) (2024.11.6)\n",
            "Requirement already satisfied: tqdm in /usr/local/lib/python3.11/dist-packages (from nltk) (4.67.1)\n",
            "^C\n"
          ]
        }
      ]
    },
    {
      "cell_type": "code",
      "source": [
        "import nltk\n",
        "import gensim\n",
        "import string\n",
        "import matplotlib.pyplot as plt\n",
        "from gensim.models import Word2Vec\n",
        "from nltk.tokenize import word_tokenize\n",
        "from nltk.corpus import stopwords\n",
        "import numpy as np\n",
        "import re # regular expression"
      ],
      "metadata": {
        "id": "4vsQFP3FSKQw"
      },
      "execution_count": null,
      "outputs": []
    },
    {
      "cell_type": "code",
      "source": [
        "nltk.download('all')\n",
        "nltk.download('stopwords')"
      ],
      "metadata": {
        "colab": {
          "base_uri": "https://localhost:8080/"
        },
        "id": "vw_3rg02S1IG",
        "outputId": "0244f7d7-901c-430a-d0c7-1e821596da4d"
      },
      "execution_count": null,
      "outputs": [
        {
          "output_type": "stream",
          "name": "stderr",
          "text": [
            "[nltk_data] Downloading collection 'all'\n",
            "[nltk_data]    | \n",
            "[nltk_data]    | Downloading package abc to /root/nltk_data...\n",
            "[nltk_data]    |   Unzipping corpora/abc.zip.\n",
            "[nltk_data]    | Downloading package alpino to /root/nltk_data...\n",
            "[nltk_data]    |   Unzipping corpora/alpino.zip.\n",
            "[nltk_data]    | Downloading package averaged_perceptron_tagger to\n",
            "[nltk_data]    |     /root/nltk_data...\n",
            "[nltk_data]    |   Unzipping taggers/averaged_perceptron_tagger.zip.\n",
            "[nltk_data]    | Downloading package averaged_perceptron_tagger_eng to\n",
            "[nltk_data]    |     /root/nltk_data...\n",
            "[nltk_data]    |   Unzipping\n",
            "[nltk_data]    |       taggers/averaged_perceptron_tagger_eng.zip.\n",
            "[nltk_data]    | Downloading package averaged_perceptron_tagger_ru to\n",
            "[nltk_data]    |     /root/nltk_data...\n",
            "[nltk_data]    |   Unzipping\n",
            "[nltk_data]    |       taggers/averaged_perceptron_tagger_ru.zip.\n",
            "[nltk_data]    | Downloading package averaged_perceptron_tagger_rus to\n",
            "[nltk_data]    |     /root/nltk_data...\n",
            "[nltk_data]    |   Unzipping\n",
            "[nltk_data]    |       taggers/averaged_perceptron_tagger_rus.zip.\n",
            "[nltk_data]    | Downloading package basque_grammars to\n",
            "[nltk_data]    |     /root/nltk_data...\n",
            "[nltk_data]    |   Unzipping grammars/basque_grammars.zip.\n",
            "[nltk_data]    | Downloading package bcp47 to /root/nltk_data...\n",
            "[nltk_data]    | Downloading package biocreative_ppi to\n",
            "[nltk_data]    |     /root/nltk_data...\n",
            "[nltk_data]    |   Unzipping corpora/biocreative_ppi.zip.\n",
            "[nltk_data]    | Downloading package bllip_wsj_no_aux to\n",
            "[nltk_data]    |     /root/nltk_data...\n",
            "[nltk_data]    |   Unzipping models/bllip_wsj_no_aux.zip.\n",
            "[nltk_data]    | Downloading package book_grammars to\n",
            "[nltk_data]    |     /root/nltk_data...\n",
            "[nltk_data]    |   Unzipping grammars/book_grammars.zip.\n",
            "[nltk_data]    | Downloading package brown to /root/nltk_data...\n",
            "[nltk_data]    |   Unzipping corpora/brown.zip.\n",
            "[nltk_data]    | Downloading package brown_tei to /root/nltk_data...\n",
            "[nltk_data]    |   Unzipping corpora/brown_tei.zip.\n",
            "[nltk_data]    | Downloading package cess_cat to /root/nltk_data...\n",
            "[nltk_data]    |   Unzipping corpora/cess_cat.zip.\n",
            "[nltk_data]    | Downloading package cess_esp to /root/nltk_data...\n",
            "[nltk_data]    |   Unzipping corpora/cess_esp.zip.\n",
            "[nltk_data]    | Downloading package chat80 to /root/nltk_data...\n",
            "[nltk_data]    |   Unzipping corpora/chat80.zip.\n",
            "[nltk_data]    | Downloading package city_database to\n",
            "[nltk_data]    |     /root/nltk_data...\n",
            "[nltk_data]    |   Unzipping corpora/city_database.zip.\n",
            "[nltk_data]    | Downloading package cmudict to /root/nltk_data...\n",
            "[nltk_data]    |   Unzipping corpora/cmudict.zip.\n",
            "[nltk_data]    | Downloading package comparative_sentences to\n",
            "[nltk_data]    |     /root/nltk_data...\n",
            "[nltk_data]    |   Unzipping corpora/comparative_sentences.zip.\n",
            "[nltk_data]    | Downloading package comtrans to /root/nltk_data...\n",
            "[nltk_data]    | Downloading package conll2000 to /root/nltk_data...\n",
            "[nltk_data]    |   Unzipping corpora/conll2000.zip.\n",
            "[nltk_data]    | Downloading package conll2002 to /root/nltk_data...\n",
            "[nltk_data]    |   Unzipping corpora/conll2002.zip.\n",
            "[nltk_data]    | Downloading package conll2007 to /root/nltk_data...\n",
            "[nltk_data]    | Downloading package crubadan to /root/nltk_data...\n",
            "[nltk_data]    |   Unzipping corpora/crubadan.zip.\n",
            "[nltk_data]    | Downloading package dependency_treebank to\n",
            "[nltk_data]    |     /root/nltk_data...\n",
            "[nltk_data]    |   Unzipping corpora/dependency_treebank.zip.\n",
            "[nltk_data]    | Downloading package dolch to /root/nltk_data...\n",
            "[nltk_data]    |   Unzipping corpora/dolch.zip.\n",
            "[nltk_data]    | Downloading package english_wordnet to\n",
            "[nltk_data]    |     /root/nltk_data...\n",
            "[nltk_data]    |   Unzipping corpora/english_wordnet.zip.\n",
            "[nltk_data]    | Downloading package europarl_raw to\n",
            "[nltk_data]    |     /root/nltk_data...\n",
            "[nltk_data]    |   Unzipping corpora/europarl_raw.zip.\n",
            "[nltk_data]    | Downloading package extended_omw to\n",
            "[nltk_data]    |     /root/nltk_data...\n",
            "[nltk_data]    | Downloading package floresta to /root/nltk_data...\n",
            "[nltk_data]    |   Unzipping corpora/floresta.zip.\n",
            "[nltk_data]    | Downloading package framenet_v15 to\n",
            "[nltk_data]    |     /root/nltk_data...\n",
            "[nltk_data]    |   Unzipping corpora/framenet_v15.zip.\n",
            "[nltk_data]    | Downloading package framenet_v17 to\n",
            "[nltk_data]    |     /root/nltk_data...\n",
            "[nltk_data]    |   Unzipping corpora/framenet_v17.zip.\n",
            "[nltk_data]    | Downloading package gazetteers to /root/nltk_data...\n",
            "[nltk_data]    |   Unzipping corpora/gazetteers.zip.\n",
            "[nltk_data]    | Downloading package genesis to /root/nltk_data...\n",
            "[nltk_data]    |   Unzipping corpora/genesis.zip.\n",
            "[nltk_data]    | Downloading package gutenberg to /root/nltk_data...\n",
            "[nltk_data]    |   Unzipping corpora/gutenberg.zip.\n",
            "[nltk_data]    | Downloading package ieer to /root/nltk_data...\n",
            "[nltk_data]    |   Unzipping corpora/ieer.zip.\n",
            "[nltk_data]    | Downloading package inaugural to /root/nltk_data...\n",
            "[nltk_data]    |   Unzipping corpora/inaugural.zip.\n",
            "[nltk_data]    | Downloading package indian to /root/nltk_data...\n",
            "[nltk_data]    |   Unzipping corpora/indian.zip.\n",
            "[nltk_data]    | Downloading package jeita to /root/nltk_data...\n",
            "[nltk_data]    | Downloading package kimmo to /root/nltk_data...\n",
            "[nltk_data]    |   Unzipping corpora/kimmo.zip.\n",
            "[nltk_data]    | Downloading package knbc to /root/nltk_data...\n",
            "[nltk_data]    | Downloading package large_grammars to\n",
            "[nltk_data]    |     /root/nltk_data...\n",
            "[nltk_data]    |   Unzipping grammars/large_grammars.zip.\n",
            "[nltk_data]    | Downloading package lin_thesaurus to\n",
            "[nltk_data]    |     /root/nltk_data...\n",
            "[nltk_data]    |   Unzipping corpora/lin_thesaurus.zip.\n",
            "[nltk_data]    | Downloading package mac_morpho to /root/nltk_data...\n",
            "[nltk_data]    |   Unzipping corpora/mac_morpho.zip.\n",
            "[nltk_data]    | Downloading package machado to /root/nltk_data...\n",
            "[nltk_data]    | Downloading package masc_tagged to /root/nltk_data...\n",
            "[nltk_data]    | Downloading package maxent_ne_chunker to\n",
            "[nltk_data]    |     /root/nltk_data...\n",
            "[nltk_data]    |   Unzipping chunkers/maxent_ne_chunker.zip.\n",
            "[nltk_data]    | Downloading package maxent_ne_chunker_tab to\n",
            "[nltk_data]    |     /root/nltk_data...\n",
            "[nltk_data]    |   Unzipping chunkers/maxent_ne_chunker_tab.zip.\n",
            "[nltk_data]    | Downloading package maxent_treebank_pos_tagger to\n",
            "[nltk_data]    |     /root/nltk_data...\n",
            "[nltk_data]    |   Unzipping taggers/maxent_treebank_pos_tagger.zip.\n",
            "[nltk_data]    | Downloading package maxent_treebank_pos_tagger_tab to\n",
            "[nltk_data]    |     /root/nltk_data...\n",
            "[nltk_data]    |   Unzipping\n",
            "[nltk_data]    |       taggers/maxent_treebank_pos_tagger_tab.zip.\n",
            "[nltk_data]    | Downloading package moses_sample to\n",
            "[nltk_data]    |     /root/nltk_data...\n",
            "[nltk_data]    |   Unzipping models/moses_sample.zip.\n",
            "[nltk_data]    | Downloading package movie_reviews to\n",
            "[nltk_data]    |     /root/nltk_data...\n",
            "[nltk_data]    |   Unzipping corpora/movie_reviews.zip.\n",
            "[nltk_data]    | Downloading package mte_teip5 to /root/nltk_data...\n",
            "[nltk_data]    |   Unzipping corpora/mte_teip5.zip.\n",
            "[nltk_data]    | Downloading package mwa_ppdb to /root/nltk_data...\n",
            "[nltk_data]    |   Unzipping misc/mwa_ppdb.zip.\n",
            "[nltk_data]    | Downloading package names to /root/nltk_data...\n",
            "[nltk_data]    |   Unzipping corpora/names.zip.\n",
            "[nltk_data]    | Downloading package nombank.1.0 to /root/nltk_data...\n",
            "[nltk_data]    | Downloading package nonbreaking_prefixes to\n",
            "[nltk_data]    |     /root/nltk_data...\n",
            "[nltk_data]    |   Unzipping corpora/nonbreaking_prefixes.zip.\n",
            "[nltk_data]    | Downloading package nps_chat to /root/nltk_data...\n",
            "[nltk_data]    |   Unzipping corpora/nps_chat.zip.\n",
            "[nltk_data]    | Downloading package omw to /root/nltk_data...\n",
            "[nltk_data]    | Downloading package omw-1.4 to /root/nltk_data...\n",
            "[nltk_data]    | Downloading package opinion_lexicon to\n",
            "[nltk_data]    |     /root/nltk_data...\n",
            "[nltk_data]    |   Unzipping corpora/opinion_lexicon.zip.\n",
            "[nltk_data]    | Downloading package panlex_swadesh to\n",
            "[nltk_data]    |     /root/nltk_data...\n",
            "[nltk_data]    | Downloading package paradigms to /root/nltk_data...\n",
            "[nltk_data]    |   Unzipping corpora/paradigms.zip.\n",
            "[nltk_data]    | Downloading package pe08 to /root/nltk_data...\n",
            "[nltk_data]    |   Unzipping corpora/pe08.zip.\n",
            "[nltk_data]    | Downloading package perluniprops to\n",
            "[nltk_data]    |     /root/nltk_data...\n",
            "[nltk_data]    |   Unzipping misc/perluniprops.zip.\n",
            "[nltk_data]    | Downloading package pil to /root/nltk_data...\n",
            "[nltk_data]    |   Unzipping corpora/pil.zip.\n",
            "[nltk_data]    | Downloading package pl196x to /root/nltk_data...\n",
            "[nltk_data]    |   Unzipping corpora/pl196x.zip.\n",
            "[nltk_data]    | Downloading package porter_test to /root/nltk_data...\n",
            "[nltk_data]    |   Unzipping stemmers/porter_test.zip.\n",
            "[nltk_data]    | Downloading package ppattach to /root/nltk_data...\n",
            "[nltk_data]    |   Unzipping corpora/ppattach.zip.\n",
            "[nltk_data]    | Downloading package problem_reports to\n",
            "[nltk_data]    |     /root/nltk_data...\n",
            "[nltk_data]    |   Unzipping corpora/problem_reports.zip.\n",
            "[nltk_data]    | Downloading package product_reviews_1 to\n",
            "[nltk_data]    |     /root/nltk_data...\n",
            "[nltk_data]    |   Unzipping corpora/product_reviews_1.zip.\n",
            "[nltk_data]    | Downloading package product_reviews_2 to\n",
            "[nltk_data]    |     /root/nltk_data...\n",
            "[nltk_data]    |   Unzipping corpora/product_reviews_2.zip.\n",
            "[nltk_data]    | Downloading package propbank to /root/nltk_data...\n",
            "[nltk_data]    | Downloading package pros_cons to /root/nltk_data...\n",
            "[nltk_data]    |   Unzipping corpora/pros_cons.zip.\n",
            "[nltk_data]    | Downloading package ptb to /root/nltk_data...\n",
            "[nltk_data]    |   Unzipping corpora/ptb.zip.\n",
            "[nltk_data]    | Downloading package punkt to /root/nltk_data...\n",
            "[nltk_data]    |   Unzipping tokenizers/punkt.zip.\n",
            "[nltk_data]    | Downloading package punkt_tab to /root/nltk_data...\n",
            "[nltk_data]    |   Unzipping tokenizers/punkt_tab.zip.\n",
            "[nltk_data]    | Downloading package qc to /root/nltk_data...\n",
            "[nltk_data]    |   Unzipping corpora/qc.zip.\n",
            "[nltk_data]    | Downloading package reuters to /root/nltk_data...\n",
            "[nltk_data]    | Downloading package rslp to /root/nltk_data...\n",
            "[nltk_data]    |   Unzipping stemmers/rslp.zip.\n",
            "[nltk_data]    | Downloading package rte to /root/nltk_data...\n",
            "[nltk_data]    |   Unzipping corpora/rte.zip.\n",
            "[nltk_data]    | Downloading package sample_grammars to\n",
            "[nltk_data]    |     /root/nltk_data...\n",
            "[nltk_data]    |   Unzipping grammars/sample_grammars.zip.\n",
            "[nltk_data]    | Downloading package semcor to /root/nltk_data...\n",
            "[nltk_data]    | Downloading package senseval to /root/nltk_data...\n",
            "[nltk_data]    |   Unzipping corpora/senseval.zip.\n",
            "[nltk_data]    | Downloading package sentence_polarity to\n",
            "[nltk_data]    |     /root/nltk_data...\n",
            "[nltk_data]    |   Unzipping corpora/sentence_polarity.zip.\n",
            "[nltk_data]    | Downloading package sentiwordnet to\n",
            "[nltk_data]    |     /root/nltk_data...\n",
            "[nltk_data]    |   Unzipping corpora/sentiwordnet.zip.\n",
            "[nltk_data]    | Downloading package shakespeare to /root/nltk_data...\n",
            "[nltk_data]    |   Unzipping corpora/shakespeare.zip.\n",
            "[nltk_data]    | Downloading package sinica_treebank to\n",
            "[nltk_data]    |     /root/nltk_data...\n",
            "[nltk_data]    |   Unzipping corpora/sinica_treebank.zip.\n",
            "[nltk_data]    | Downloading package smultron to /root/nltk_data...\n",
            "[nltk_data]    |   Unzipping corpora/smultron.zip.\n",
            "[nltk_data]    | Downloading package snowball_data to\n",
            "[nltk_data]    |     /root/nltk_data...\n",
            "[nltk_data]    | Downloading package spanish_grammars to\n",
            "[nltk_data]    |     /root/nltk_data...\n",
            "[nltk_data]    |   Unzipping grammars/spanish_grammars.zip.\n",
            "[nltk_data]    | Downloading package state_union to /root/nltk_data...\n",
            "[nltk_data]    |   Unzipping corpora/state_union.zip.\n",
            "[nltk_data]    | Downloading package stopwords to /root/nltk_data...\n",
            "[nltk_data]    |   Unzipping corpora/stopwords.zip.\n",
            "[nltk_data]    | Downloading package subjectivity to\n",
            "[nltk_data]    |     /root/nltk_data...\n",
            "[nltk_data]    |   Unzipping corpora/subjectivity.zip.\n",
            "[nltk_data]    | Downloading package swadesh to /root/nltk_data...\n",
            "[nltk_data]    |   Unzipping corpora/swadesh.zip.\n",
            "[nltk_data]    | Downloading package switchboard to /root/nltk_data...\n",
            "[nltk_data]    |   Unzipping corpora/switchboard.zip.\n",
            "[nltk_data]    | Downloading package tagsets to /root/nltk_data...\n",
            "[nltk_data]    |   Unzipping help/tagsets.zip.\n",
            "[nltk_data]    | Downloading package tagsets_json to\n",
            "[nltk_data]    |     /root/nltk_data...\n",
            "[nltk_data]    |   Unzipping help/tagsets_json.zip.\n",
            "[nltk_data]    | Downloading package timit to /root/nltk_data...\n",
            "[nltk_data]    |   Unzipping corpora/timit.zip.\n",
            "[nltk_data]    | Downloading package toolbox to /root/nltk_data...\n",
            "[nltk_data]    |   Unzipping corpora/toolbox.zip.\n",
            "[nltk_data]    | Downloading package treebank to /root/nltk_data...\n",
            "[nltk_data]    |   Unzipping corpora/treebank.zip.\n",
            "[nltk_data]    | Downloading package twitter_samples to\n",
            "[nltk_data]    |     /root/nltk_data...\n",
            "[nltk_data]    |   Unzipping corpora/twitter_samples.zip.\n",
            "[nltk_data]    | Downloading package udhr to /root/nltk_data...\n",
            "[nltk_data]    |   Unzipping corpora/udhr.zip.\n",
            "[nltk_data]    | Downloading package udhr2 to /root/nltk_data...\n",
            "[nltk_data]    |   Unzipping corpora/udhr2.zip.\n",
            "[nltk_data]    | Downloading package unicode_samples to\n",
            "[nltk_data]    |     /root/nltk_data...\n",
            "[nltk_data]    |   Unzipping corpora/unicode_samples.zip.\n",
            "[nltk_data]    | Downloading package universal_tagset to\n",
            "[nltk_data]    |     /root/nltk_data...\n",
            "[nltk_data]    |   Unzipping taggers/universal_tagset.zip.\n",
            "[nltk_data]    | Downloading package universal_treebanks_v20 to\n",
            "[nltk_data]    |     /root/nltk_data...\n",
            "[nltk_data]    | Downloading package vader_lexicon to\n",
            "[nltk_data]    |     /root/nltk_data...\n",
            "[nltk_data]    | Downloading package verbnet to /root/nltk_data...\n",
            "[nltk_data]    |   Unzipping corpora/verbnet.zip.\n",
            "[nltk_data]    | Downloading package verbnet3 to /root/nltk_data...\n",
            "[nltk_data]    |   Unzipping corpora/verbnet3.zip.\n",
            "[nltk_data]    | Downloading package webtext to /root/nltk_data...\n",
            "[nltk_data]    |   Unzipping corpora/webtext.zip.\n",
            "[nltk_data]    | Downloading package wmt15_eval to /root/nltk_data...\n",
            "[nltk_data]    |   Unzipping models/wmt15_eval.zip.\n",
            "[nltk_data]    | Downloading package word2vec_sample to\n",
            "[nltk_data]    |     /root/nltk_data...\n",
            "[nltk_data]    |   Unzipping models/word2vec_sample.zip.\n",
            "[nltk_data]    | Downloading package wordnet to /root/nltk_data...\n",
            "[nltk_data]    | Downloading package wordnet2021 to /root/nltk_data...\n",
            "[nltk_data]    | Downloading package wordnet2022 to /root/nltk_data...\n",
            "[nltk_data]    |   Unzipping corpora/wordnet2022.zip.\n",
            "[nltk_data]    | Downloading package wordnet31 to /root/nltk_data...\n",
            "[nltk_data]    | Downloading package wordnet_ic to /root/nltk_data...\n",
            "[nltk_data]    |   Unzipping corpora/wordnet_ic.zip.\n",
            "[nltk_data]    | Downloading package words to /root/nltk_data...\n",
            "[nltk_data]    |   Unzipping corpora/words.zip.\n",
            "[nltk_data]    | Downloading package ycoe to /root/nltk_data...\n",
            "[nltk_data]    |   Unzipping corpora/ycoe.zip.\n",
            "[nltk_data]    | \n",
            "[nltk_data]  Done downloading collection all\n",
            "[nltk_data] Downloading package stopwords to /root/nltk_data...\n",
            "[nltk_data]   Package stopwords is already up-to-date!\n"
          ]
        },
        {
          "output_type": "execute_result",
          "data": {
            "text/plain": [
              "True"
            ]
          },
          "metadata": {},
          "execution_count": 2
        }
      ]
    },
    {
      "cell_type": "code",
      "source": [
        "corpus = [\n",
        "    \"my name is Harish Nandhan\",\n",
        "    \"i use to teach all the data stack along with ops and cloud !\",\n",
        "    \"fsfs dasjkdfnafkd adjnadfnm 2634 #$#!Q₹@4 ,\",\n",
        "    \"nlp is very very amazing\",\n",
        "    \"we are trying to learn word2vec\",\n",
        "    \"we will try to build two models for word 2 vec cbow and skipgram\",\n",
        "    \"we will also work on cleaning the data which is basically a part of data preprocessing\",\n",
        "    \"natural language processing is a part of AI,\",\n",
        "    \"my phone number is 234 w342 324324\",\n",
        "    \"word 2 vec is being used for word embeddings\",\n",
        "    \"it is going to perform better then one hot, bow or TF-IDF\"\n",
        "]"
      ],
      "metadata": {
        "id": "HyBD0w2DUXGB"
      },
      "execution_count": null,
      "outputs": []
    },
    {
      "cell_type": "markdown",
      "source": [
        "preprocessing\n",
        "1. Lowercasing"
      ],
      "metadata": {
        "id": "V3YOnohwXPnA"
      }
    },
    {
      "cell_type": "code",
      "source": [
        "s = \"my name is Harish Nandhan 62w36 823.\"\n",
        "s.lower()\n",
        "re.sub(r'\\d+',\"\",s)"
      ],
      "metadata": {
        "colab": {
          "base_uri": "https://localhost:8080/",
          "height": 35
        },
        "id": "8MqICcCCVndZ",
        "outputId": "4eff5967-19ce-4bcd-c89a-b55bca4a0ab5"
      },
      "execution_count": null,
      "outputs": [
        {
          "output_type": "execute_result",
          "data": {
            "text/plain": [
              "'my name is Harish Nandhan w .'"
            ],
            "application/vnd.google.colaboratory.intrinsic+json": {
              "type": "string"
            }
          },
          "metadata": {},
          "execution_count": 4
        }
      ]
    },
    {
      "cell_type": "code",
      "source": [
        "string.punctuation"
      ],
      "metadata": {
        "colab": {
          "base_uri": "https://localhost:8080/",
          "height": 35
        },
        "id": "AuSQxmRDVswO",
        "outputId": "14e5c280-adcc-4fba-f09a-a0fa836e8e8e"
      },
      "execution_count": null,
      "outputs": [
        {
          "output_type": "execute_result",
          "data": {
            "text/plain": [
              "'!\"#$%&\\'()*+,-./:;<=>?@[\\\\]^_`{|}~'"
            ],
            "application/vnd.google.colaboratory.intrinsic+json": {
              "type": "string"
            }
          },
          "metadata": {},
          "execution_count": 5
        }
      ]
    },
    {
      "cell_type": "code",
      "source": [
        "s.translate(str.maketrans(\"\",\"\",string.punctuation))"
      ],
      "metadata": {
        "colab": {
          "base_uri": "https://localhost:8080/",
          "height": 35
        },
        "id": "s3QnpwJXWCR3",
        "outputId": "fd76e2f7-6ace-4177-d1c1-f31dbcf6f091"
      },
      "execution_count": null,
      "outputs": [
        {
          "output_type": "execute_result",
          "data": {
            "text/plain": [
              "'my name is Harish Nandhan 62w36 823'"
            ],
            "application/vnd.google.colaboratory.intrinsic+json": {
              "type": "string"
            }
          },
          "metadata": {},
          "execution_count": 6
        }
      ]
    },
    {
      "cell_type": "code",
      "source": [
        "word_tokenize(s)"
      ],
      "metadata": {
        "colab": {
          "base_uri": "https://localhost:8080/"
        },
        "id": "47L7WmM0WG4S",
        "outputId": "98f23451-375d-4988-8bb3-e219d9711714"
      },
      "execution_count": null,
      "outputs": [
        {
          "output_type": "execute_result",
          "data": {
            "text/plain": [
              "['my', 'name', 'is', 'Harish', 'Nandhan', '62w36', '823', '.']"
            ]
          },
          "metadata": {},
          "execution_count": 7
        }
      ]
    },
    {
      "cell_type": "code",
      "source": [
        "s1 = ['my', 'name', 'is', 'Harish', 'Nandhan', '62w36', '823', '.']"
      ],
      "metadata": {
        "id": "loAQODb2WuaC"
      },
      "execution_count": null,
      "outputs": []
    },
    {
      "cell_type": "code",
      "source": [
        "[ i for i in s1 if i not in stopwords.words('english')]"
      ],
      "metadata": {
        "colab": {
          "base_uri": "https://localhost:8080/"
        },
        "id": "nBV02gnQWzw-",
        "outputId": "26c9ab30-782a-46d1-9ac1-5f884a4e371e"
      },
      "execution_count": null,
      "outputs": [
        {
          "output_type": "execute_result",
          "data": {
            "text/plain": [
              "['name', 'Harish', 'Nandhan', '62w36', '823', '.']"
            ]
          },
          "metadata": {},
          "execution_count": 9
        }
      ]
    },
    {
      "cell_type": "code",
      "source": [
        "def word_preprocessing(text):\n",
        "  text = text.lower() # lower casing\n",
        "  text = re.sub(r'\\d+',\"\",text) # remove all the numerical values\n",
        "  text = text.translate(str.maketrans(\"\",\"\",string.punctuation)) # removing the punctuation\n",
        "  word = word_tokenize(text) # tokenization\n",
        "  word = [i for i in word if i not in stopwords.words('english')] # removing the stopwords\n",
        "  return word"
      ],
      "metadata": {
        "id": "RvxPM-uWW9RS"
      },
      "execution_count": null,
      "outputs": []
    },
    {
      "cell_type": "code",
      "source": [
        "corpus = [\n",
        "    \"my name is Harish Nandhan\",\n",
        "    \"i use to teach all the data stack along with ops and cloud !\",\n",
        "    \"fsfs dasjkdfnafkd adjnadfnm 2634 #$#!Q₹@4 ,\",\n",
        "    \"nlp is very very amazing\",\n",
        "    \"we are trying to learn word2vec\",\n",
        "    \"we will try to build two models for word 2 vec cbow and skipgram\",\n",
        "    \"we will also work on cleaning the data which is basically a part of data preprocessing\",\n",
        "    \"natural language processing is a part of AI,\",\n",
        "    \"my phone number is 234 w342 324324\",\n",
        "    \"word 2 vec is being used for word embeddings\",\n",
        "    \"it is going to perform better then one hot, bow or TF-IDF\"\n",
        "]\n",
        "preprocessed_corpus = []\n",
        "for sentence in corpus:\n",
        "  preprocessed_corpus.append(word_preprocessing(sentence))"
      ],
      "metadata": {
        "id": "YwSvyhGwYY1X"
      },
      "execution_count": null,
      "outputs": []
    },
    {
      "cell_type": "code",
      "source": [
        "preprocessed_corpus"
      ],
      "metadata": {
        "colab": {
          "base_uri": "https://localhost:8080/"
        },
        "id": "av85T8jqYlTR",
        "outputId": "2aa30361-796f-4ea8-ac04-f87cb14d670a"
      },
      "execution_count": null,
      "outputs": [
        {
          "output_type": "execute_result",
          "data": {
            "text/plain": [
              "[['name', 'harish', 'nandhan'],\n",
              " ['use', 'teach', 'data', 'stack', 'along', 'ops', 'cloud'],\n",
              " ['fsfs', 'dasjkdfnafkd', 'adjnadfnm', 'q₹'],\n",
              " ['nlp', 'amazing'],\n",
              " ['trying', 'learn', 'wordvec'],\n",
              " ['try', 'build', 'two', 'models', 'word', 'vec', 'cbow', 'skipgram'],\n",
              " ['also',\n",
              "  'work',\n",
              "  'cleaning',\n",
              "  'data',\n",
              "  'basically',\n",
              "  'part',\n",
              "  'data',\n",
              "  'preprocessing'],\n",
              " ['natural', 'language', 'processing', 'part', 'ai'],\n",
              " ['phone', 'number', 'w'],\n",
              " ['word', 'vec', 'used', 'word', 'embeddings'],\n",
              " ['going', 'perform', 'better', 'one', 'hot', 'bow', 'tfidf']]"
            ]
          },
          "metadata": {},
          "execution_count": 12
        }
      ]
    },
    {
      "cell_type": "code",
      "source": [
        "word2vec_cbow = Word2Vec(sentences=preprocessed_corpus,vector_size=100,window=5, min_count=1,sg=0)\n",
        "word2vec_skipgram = Word2Vec(sentences=preprocessed_corpus,vector_size=100,window=5, min_count=1,sg=1)\n",
        "# window -> maximum distance between the target word and the context word\n",
        "# if window size is larger more semantic relationship (grammar) , if smaller then to learn syntactic (order) of the word."
      ],
      "metadata": {
        "id": "Wv946WEVaMkN"
      },
      "execution_count": null,
      "outputs": []
    },
    {
      "cell_type": "code",
      "source": [
        "word2vec_cbow.wv['harish']"
      ],
      "metadata": {
        "colab": {
          "base_uri": "https://localhost:8080/"
        },
        "id": "rHhVnMdydLlN",
        "outputId": "2f7fdfcd-a847-4fa7-91bc-59d11b958875"
      },
      "execution_count": null,
      "outputs": [
        {
          "output_type": "execute_result",
          "data": {
            "text/plain": [
              "array([-0.0025059 , -0.00590359,  0.00748347, -0.00725998, -0.00896659,\n",
              "       -0.00178924, -0.00836577,  0.00039025,  0.00194543, -0.00247019,\n",
              "       -0.00644696, -0.00032104, -0.00109656,  0.00349364,  0.0081264 ,\n",
              "        0.00585743,  0.00844373, -0.00896954,  0.00944315, -0.00236901,\n",
              "        0.0086977 ,  0.00238394,  0.00358888, -0.00958221, -0.0094851 ,\n",
              "        0.00898416, -0.00289762,  0.00281721,  0.00641923, -0.00029882,\n",
              "        0.00972277, -0.00103211, -0.00967024, -0.00705649, -0.0010435 ,\n",
              "       -0.00867459,  0.00742109,  0.00361832, -0.00874977,  0.00847851,\n",
              "        0.00892784,  0.0058483 ,  0.00690927, -0.00957105,  0.00049218,\n",
              "       -0.00922169, -0.00366774,  0.0002524 , -0.00028176,  0.00146754,\n",
              "        0.00327611,  0.00212618,  0.00531667,  0.00752064, -0.00588621,\n",
              "        0.00795524,  0.00599017,  0.00978553,  0.0046218 , -0.00332569,\n",
              "       -0.00374672, -0.00063091, -0.00165416,  0.00987365,  0.00112082,\n",
              "        0.00400765,  0.00341644, -0.00885249,  0.00672092,  0.00819028,\n",
              "       -0.00166509,  0.00233492, -0.00647928, -0.00612449,  0.00821637,\n",
              "       -0.00304792,  0.00674124,  0.00155239, -0.00198323,  0.00305608,\n",
              "       -0.00402028, -0.00178575,  0.00137933,  0.00488857, -0.00140783,\n",
              "        0.00065573, -0.00793024,  0.00949566, -0.0087634 ,  0.00706887,\n",
              "        0.00390561, -0.00699644, -0.00529642, -0.00793724, -0.00512987,\n",
              "        0.00707031,  0.00964124,  0.002152  ,  0.00064146,  0.00952403],\n",
              "      dtype=float32)"
            ]
          },
          "metadata": {},
          "execution_count": 14
        }
      ]
    },
    {
      "cell_type": "code",
      "source": [
        "word2vec_skipgram.vector_size"
      ],
      "metadata": {
        "colab": {
          "base_uri": "https://localhost:8080/"
        },
        "id": "fZJb0thcdL8x",
        "outputId": "5b01ea0b-66c2-4f85-e7b9-178823d71646"
      },
      "execution_count": null,
      "outputs": [
        {
          "output_type": "execute_result",
          "data": {
            "text/plain": [
              "100"
            ]
          },
          "metadata": {},
          "execution_count": 15
        }
      ]
    },
    {
      "cell_type": "code",
      "source": [
        "len(word2vec_cbow.wv['harish'])"
      ],
      "metadata": {
        "colab": {
          "base_uri": "https://localhost:8080/"
        },
        "id": "mkFUQk76dQK7",
        "outputId": "8da10b82-6e2b-45c0-a2cf-bacb50bd7083"
      },
      "execution_count": null,
      "outputs": [
        {
          "output_type": "execute_result",
          "data": {
            "text/plain": [
              "100"
            ]
          },
          "metadata": {},
          "execution_count": 16
        }
      ]
    },
    {
      "cell_type": "code",
      "source": [
        "word2vec_skipgram.wv.most_similar('harish',topn=3)"
      ],
      "metadata": {
        "colab": {
          "base_uri": "https://localhost:8080/"
        },
        "id": "TCttsJClfP2R",
        "outputId": "5afa32ac-b103-4005-b9d3-eb60b5db6b8d"
      },
      "execution_count": null,
      "outputs": [
        {
          "output_type": "execute_result",
          "data": {
            "text/plain": [
              "[('language', 0.22200626134872437),\n",
              " ('adjnadfnm', 0.1714509278535843),\n",
              " ('use', 0.15663227438926697)]"
            ]
          },
          "metadata": {},
          "execution_count": 17
        }
      ]
    },
    {
      "cell_type": "code",
      "source": [
        "word2vec_cbow.wv.similarity(\"nlp\",\"ai\")"
      ],
      "metadata": {
        "colab": {
          "base_uri": "https://localhost:8080/"
        },
        "id": "yjHmC7_Hffcd",
        "outputId": "7cc4534d-30f2-4fa2-b314-9eec412be107"
      },
      "execution_count": null,
      "outputs": [
        {
          "output_type": "execute_result",
          "data": {
            "text/plain": [
              "0.24757281"
            ]
          },
          "metadata": {},
          "execution_count": 18
        }
      ]
    },
    {
      "cell_type": "code",
      "source": [
        "word2vec_cbow.wv.index_to_key"
      ],
      "metadata": {
        "colab": {
          "base_uri": "https://localhost:8080/"
        },
        "id": "iaUB9qrhf2Cb",
        "outputId": "657e03dd-ce12-489b-d7fb-d8929529c892"
      },
      "execution_count": null,
      "outputs": [
        {
          "output_type": "execute_result",
          "data": {
            "text/plain": [
              "['data',\n",
              " 'word',\n",
              " 'vec',\n",
              " 'part',\n",
              " 'q₹',\n",
              " 'two',\n",
              " 'build',\n",
              " 'try',\n",
              " 'wordvec',\n",
              " 'learn',\n",
              " 'trying',\n",
              " 'amazing',\n",
              " 'nlp',\n",
              " 'dasjkdfnafkd',\n",
              " 'adjnadfnm',\n",
              " 'fsfs',\n",
              " 'cloud',\n",
              " 'ops',\n",
              " 'along',\n",
              " 'stack',\n",
              " 'teach',\n",
              " 'use',\n",
              " 'nandhan',\n",
              " 'harish',\n",
              " 'models',\n",
              " 'tfidf',\n",
              " 'bow',\n",
              " 'phone',\n",
              " 'hot',\n",
              " 'one',\n",
              " 'better',\n",
              " 'perform',\n",
              " 'going',\n",
              " 'embeddings',\n",
              " 'used',\n",
              " 'w',\n",
              " 'number',\n",
              " 'ai',\n",
              " 'cbow',\n",
              " 'processing',\n",
              " 'language',\n",
              " 'natural',\n",
              " 'preprocessing',\n",
              " 'basically',\n",
              " 'cleaning',\n",
              " 'work',\n",
              " 'also',\n",
              " 'skipgram',\n",
              " 'name']"
            ]
          },
          "metadata": {},
          "execution_count": 19
        }
      ]
    },
    {
      "cell_type": "code",
      "source": [
        "word2vec_skipgram.wv.most_similar('harish',topn=5)\n",
        "# skipgram - prediction based on the surroundings\n",
        "# skipgram will give the surrounding context based on the target word"
      ],
      "metadata": {
        "colab": {
          "base_uri": "https://localhost:8080/"
        },
        "id": "UofmKaUaf_Tp",
        "outputId": "2029c286-a06d-4377-abd2-f295f317d77c"
      },
      "execution_count": null,
      "outputs": [
        {
          "output_type": "execute_result",
          "data": {
            "text/plain": [
              "[('language', 0.22200626134872437),\n",
              " ('adjnadfnm', 0.1714509278535843),\n",
              " ('use', 0.15663227438926697),\n",
              " ('dasjkdfnafkd', 0.14714640378952026),\n",
              " ('one', 0.13270670175552368)]"
            ]
          },
          "metadata": {},
          "execution_count": 20
        }
      ]
    },
    {
      "cell_type": "code",
      "source": [
        "word2vec_cbow.wv.most_similar('harish',topn=5)\n",
        "# cbow - target based on the context\n",
        "# cbow is predicting the target word based on the surrounding context"
      ],
      "metadata": {
        "colab": {
          "base_uri": "https://localhost:8080/"
        },
        "id": "DsA4VMyXhs4Z",
        "outputId": "4ed02e3a-f3c8-465c-8356-183bdc2e6ac1"
      },
      "execution_count": null,
      "outputs": [
        {
          "output_type": "execute_result",
          "data": {
            "text/plain": [
              "[('language', 0.22202251851558685),\n",
              " ('adjnadfnm', 0.1713337004184723),\n",
              " ('use', 0.15668316185474396),\n",
              " ('dasjkdfnafkd', 0.1471843123435974),\n",
              " ('one', 0.13265280425548553)]"
            ]
          },
          "metadata": {},
          "execution_count": 21
        }
      ]
    },
    {
      "cell_type": "code",
      "source": [
        "from sklearn.manifold import TSNE\n",
        "import numpy as np\n",
        "import matplotlib.pyplot as plt\n"
      ],
      "metadata": {
        "id": "egsMIj5shvAw"
      },
      "execution_count": null,
      "outputs": []
    },
    {
      "cell_type": "code",
      "source": [
        "word_vectors = word2vec_cbow.wv\n",
        "vocab = list(word_vectors.index_to_key)"
      ],
      "metadata": {
        "id": "I2qyxM0Dmm7y"
      },
      "execution_count": null,
      "outputs": []
    },
    {
      "cell_type": "code",
      "source": [
        "vocab"
      ],
      "metadata": {
        "colab": {
          "base_uri": "https://localhost:8080/"
        },
        "id": "vmr4Mpx62usg",
        "outputId": "f6fbf3f8-ceca-4456-8ef1-ac5797c5b26a"
      },
      "execution_count": null,
      "outputs": [
        {
          "output_type": "execute_result",
          "data": {
            "text/plain": [
              "['data',\n",
              " 'word',\n",
              " 'vec',\n",
              " 'part',\n",
              " 'q₹',\n",
              " 'two',\n",
              " 'build',\n",
              " 'try',\n",
              " 'wordvec',\n",
              " 'learn',\n",
              " 'trying',\n",
              " 'amazing',\n",
              " 'nlp',\n",
              " 'dasjkdfnafkd',\n",
              " 'adjnadfnm',\n",
              " 'fsfs',\n",
              " 'cloud',\n",
              " 'ops',\n",
              " 'along',\n",
              " 'stack',\n",
              " 'teach',\n",
              " 'use',\n",
              " 'nandhan',\n",
              " 'harish',\n",
              " 'models',\n",
              " 'tfidf',\n",
              " 'bow',\n",
              " 'phone',\n",
              " 'hot',\n",
              " 'one',\n",
              " 'better',\n",
              " 'perform',\n",
              " 'going',\n",
              " 'embeddings',\n",
              " 'used',\n",
              " 'w',\n",
              " 'number',\n",
              " 'ai',\n",
              " 'cbow',\n",
              " 'processing',\n",
              " 'language',\n",
              " 'natural',\n",
              " 'preprocessing',\n",
              " 'basically',\n",
              " 'cleaning',\n",
              " 'work',\n",
              " 'also',\n",
              " 'skipgram',\n",
              " 'name']"
            ]
          },
          "metadata": {},
          "execution_count": 24
        }
      ]
    },
    {
      "cell_type": "code",
      "source": [
        "len(vocab)"
      ],
      "metadata": {
        "colab": {
          "base_uri": "https://localhost:8080/"
        },
        "id": "0qQoIhD42vRY",
        "outputId": "4b31fb25-9aef-4607-feeb-c9f279b4208a"
      },
      "execution_count": null,
      "outputs": [
        {
          "output_type": "execute_result",
          "data": {
            "text/plain": [
              "49"
            ]
          },
          "metadata": {},
          "execution_count": 25
        }
      ]
    },
    {
      "cell_type": "code",
      "source": [
        "[word_vectors[i] for i in vocab]"
      ],
      "metadata": {
        "colab": {
          "base_uri": "https://localhost:8080/"
        },
        "id": "czvmEcKW3ABF",
        "outputId": "a7c969ec-06d1-432b-b9ea-e8c96c908b10"
      },
      "execution_count": null,
      "outputs": [
        {
          "output_type": "execute_result",
          "data": {
            "text/plain": [
              "[array([-5.4064975e-04,  2.4253559e-04,  5.1016589e-03,  9.0064025e-03,\n",
              "        -9.2981802e-03, -7.1188994e-03,  6.4618443e-03,  8.9757089e-03,\n",
              "        -5.0149965e-03, -3.7656438e-03,  7.3843068e-03, -1.5332082e-03,\n",
              "        -4.5282468e-03,  6.5553151e-03, -4.8550866e-03, -1.8198190e-03,\n",
              "         2.8817474e-03,  9.9257007e-04, -8.2938457e-03, -9.4497427e-03,\n",
              "         7.3117488e-03,  5.0722505e-03,  6.7602065e-03,  7.6373050e-04,\n",
              "         6.3508507e-03, -3.4073992e-03, -9.4056095e-04,  5.7678167e-03,\n",
              "        -7.5235721e-03, -3.9389725e-03, -7.5078206e-03, -9.3109405e-04,\n",
              "         9.5359497e-03, -7.3199286e-03, -2.3351465e-03, -1.9320922e-03,\n",
              "         8.0794189e-03, -5.9332838e-03,  4.2859778e-05, -4.7537875e-03,\n",
              "        -9.6039074e-03,  5.0098551e-03, -8.7521933e-03, -4.3972326e-03,\n",
              "        -3.2523138e-05, -2.9518217e-04, -7.6608188e-03,  9.6135065e-03,\n",
              "         4.9811387e-03,  9.2323292e-03, -8.1566330e-03,  4.4955099e-03,\n",
              "        -4.1424767e-03,  8.1929989e-04,  8.4955050e-03, -4.4641718e-03,\n",
              "         4.5221634e-03, -6.7831408e-03, -3.5471977e-03,  9.3961051e-03,\n",
              "        -1.5733120e-03,  3.1935881e-04, -4.1343174e-03, -7.6818718e-03,\n",
              "        -1.5111028e-03,  2.4694046e-03, -8.9351123e-04,  5.5344664e-03,\n",
              "        -2.7508745e-03,  2.2629921e-03,  5.4587820e-03,  8.3452128e-03,\n",
              "        -1.4512897e-03, -9.2019774e-03,  4.3702554e-03,  5.6861376e-04,\n",
              "         7.4421372e-03, -8.1103854e-04, -2.6447747e-03, -8.7526413e-03,\n",
              "        -8.5658516e-04,  2.8277554e-03,  5.3966041e-03,  7.0554600e-03,\n",
              "        -5.7014693e-03,  1.8576793e-03,  6.0902792e-03, -4.7954465e-03,\n",
              "        -3.1079783e-03,  6.7969407e-03,  1.6294270e-03,  1.8915157e-04,\n",
              "         3.4754835e-03,  2.1490816e-04,  9.6210623e-03,  5.0611245e-03,\n",
              "        -8.9140870e-03, -7.0476392e-03,  9.0416957e-04,  6.3856691e-03],\n",
              "       dtype=float32),\n",
              " array([-8.6247101e-03,  3.6711246e-03,  5.1897541e-03,  5.7434752e-03,\n",
              "         7.4735908e-03, -6.1701485e-03,  1.1084701e-03,  6.0520736e-03,\n",
              "        -2.8406847e-03, -6.1778682e-03, -4.0492968e-04, -8.3661722e-03,\n",
              "        -5.5969707e-03,  7.1018380e-03,  3.3614521e-03,  7.2257873e-03,\n",
              "         6.8052514e-03,  7.5258552e-03, -3.7965050e-03, -5.6158646e-04,\n",
              "         2.3467052e-03, -4.5186393e-03,  8.3971117e-03, -9.8587321e-03,\n",
              "         6.7643444e-03,  2.9158336e-03, -4.9299346e-03,  4.4046328e-03,\n",
              "        -1.7407588e-03,  6.7133037e-03,  9.9671111e-03, -4.3692151e-03,\n",
              "        -6.0140062e-04, -5.6983531e-03,  3.8550461e-03,  2.7907949e-03,\n",
              "         6.8959338e-03,  6.1002946e-03,  9.5361648e-03,  9.2796208e-03,\n",
              "         7.8950468e-03, -6.9864881e-03, -9.1562979e-03, -3.5462409e-04,\n",
              "        -3.0950182e-03,  7.8939050e-03,  5.9388336e-03, -1.5418164e-03,\n",
              "         1.5086567e-03,  1.7897554e-03,  7.8197252e-03, -9.5094964e-03,\n",
              "        -2.1117443e-04,  3.4626061e-03, -9.4090472e-04,  8.3828839e-03,\n",
              "         9.0127699e-03,  6.5430957e-03, -7.0836820e-04,  7.7113686e-03,\n",
              "        -8.5366163e-03,  3.2070309e-03, -4.6325098e-03, -5.0864792e-03,\n",
              "         3.5899193e-03,  5.3693671e-03,  7.7704238e-03, -5.7587726e-03,\n",
              "         7.4291513e-03,  6.6240830e-03, -3.7071123e-03, -8.7468941e-03,\n",
              "         5.4387613e-03,  6.5140538e-03, -7.9211581e-04, -6.7161983e-03,\n",
              "        -7.0881159e-03, -2.4967117e-03,  5.1403735e-03, -3.6690847e-03,\n",
              "        -9.3757538e-03,  3.8273393e-03,  4.8862738e-03, -6.4273272e-03,\n",
              "         1.2100729e-03, -2.0740747e-03,  2.8384635e-05, -9.8834392e-03,\n",
              "         2.6944140e-03, -4.7533987e-03,  1.0823854e-03, -1.5762777e-03,\n",
              "         2.1978021e-03, -7.8830887e-03, -2.7096928e-03,  2.6653381e-03,\n",
              "         5.3512957e-03, -2.3952669e-03, -9.5084775e-03,  4.4985893e-03],\n",
              "       dtype=float32),\n",
              " array([ 9.3220078e-05,  3.0766311e-03, -6.8175797e-03, -1.3775526e-03,\n",
              "         7.6717660e-03,  7.3395204e-03, -3.6693180e-03,  2.6510272e-03,\n",
              "        -8.3111543e-03,  6.1954660e-03, -4.6264199e-03, -3.1586667e-03,\n",
              "         9.3091866e-03,  8.7367406e-04,  7.4945800e-03, -6.0665221e-03,\n",
              "         5.1688640e-03,  9.9205878e-03, -8.4592262e-03, -5.1364056e-03,\n",
              "        -7.0697861e-03, -4.8687323e-03, -3.7692341e-03, -8.5325241e-03,\n",
              "         7.9504801e-03, -4.8451368e-03,  8.4264381e-03,  5.2669994e-03,\n",
              "        -6.5448079e-03,  3.9585596e-03,  5.4756738e-03, -7.4289455e-03,\n",
              "        -7.4045490e-03, -2.4778706e-03, -8.6187422e-03, -1.5814209e-03,\n",
              "        -3.9655383e-04,  3.2915641e-03,  1.4359761e-03, -8.7303988e-04,\n",
              "        -5.5953013e-03,  1.7344848e-03, -8.9778914e-04,  6.7925462e-03,\n",
              "         3.9831237e-03,  4.5295460e-03,  1.4351583e-03, -2.6962550e-03,\n",
              "        -4.3709823e-03, -1.0322628e-03,  1.4410464e-03, -2.6444560e-03,\n",
              "        -7.0801890e-03, -7.8077679e-03, -9.1227079e-03, -5.9304540e-03,\n",
              "        -1.8451881e-03, -4.3198387e-03, -6.4541921e-03, -3.7150253e-03,\n",
              "         4.2837816e-03, -3.7390643e-03,  8.3851777e-03,  1.5400816e-03,\n",
              "        -7.2434582e-03,  9.4318576e-03,  7.6303571e-03,  5.4981126e-03,\n",
              "        -6.8467483e-03,  5.8150035e-03,  4.0153880e-03,  5.1770490e-03,\n",
              "         4.2575500e-03,  1.9489256e-03, -3.1737720e-03,  8.3425324e-03,\n",
              "         9.6101016e-03,  3.7941798e-03, -2.8408251e-03,  6.1174578e-06,\n",
              "         1.2141375e-03, -8.4540593e-03, -8.2185892e-03, -2.2798228e-04,\n",
              "         1.2408306e-03, -5.7405611e-03, -4.7163796e-03, -7.3460052e-03,\n",
              "         8.3315717e-03,  1.1724684e-04, -4.5148325e-03,  5.7007251e-03,\n",
              "         9.1755707e-03, -4.0988685e-03,  7.9729855e-03,  5.3752586e-03,\n",
              "         5.8828476e-03,  5.0413964e-04,  8.2122171e-03, -7.0224702e-03],\n",
              "       dtype=float32),\n",
              " array([-8.2473801e-03,  9.2979828e-03, -2.0168930e-04, -1.9703892e-03,\n",
              "         4.6076891e-03, -4.1012201e-03,  2.7479525e-03,  6.9474392e-03,\n",
              "         6.0616522e-03, -7.5209271e-03,  9.3896622e-03,  4.6639522e-03,\n",
              "         3.9759004e-03, -6.2343865e-03,  8.4616039e-03, -2.1495856e-03,\n",
              "         8.8359741e-03, -5.3589945e-03, -8.1409989e-03,  6.8090148e-03,\n",
              "         1.6684969e-03, -2.1965080e-03,  9.5183998e-03,  9.4906455e-03,\n",
              "        -9.7737992e-03,  2.5028093e-03,  6.1628940e-03,  3.8721748e-03,\n",
              "         2.0197646e-03,  4.2597629e-04,  6.7525881e-04, -3.8153841e-03,\n",
              "        -7.1363924e-03, -2.0961857e-03,  3.9201765e-03,  8.8219494e-03,\n",
              "         9.2598815e-03, -5.9874156e-03, -9.4088959e-03,  9.7678648e-03,\n",
              "         3.4326955e-03,  5.1635280e-03,  6.2886775e-03, -2.8091352e-03,\n",
              "         7.3361038e-03,  2.8292525e-03,  2.8693296e-03, -2.3846463e-03,\n",
              "        -3.1289738e-03, -2.3716593e-03,  4.2758328e-03,  7.4834963e-05,\n",
              "        -9.5869191e-03, -9.6677383e-03, -6.1491099e-03, -1.3179306e-04,\n",
              "         2.0072041e-03,  9.4354991e-03,  5.5891881e-03, -4.2881528e-03,\n",
              "         2.8386482e-04,  4.9536545e-03,  7.7090170e-03, -1.1348790e-03,\n",
              "         4.3134480e-03, -5.8094678e-03, -8.1652100e-04,  8.1038987e-03,\n",
              "        -2.3708530e-03, -9.6594868e-03,  5.7863840e-03, -3.9343354e-03,\n",
              "        -1.2117890e-03,  9.9907834e-03, -2.2576840e-03, -4.7652782e-03,\n",
              "        -5.3240429e-03,  6.9820564e-03, -5.7188109e-03,  2.1130629e-03,\n",
              "        -5.2608149e-03,  6.1192592e-03,  4.3474399e-03,  2.6133650e-03,\n",
              "        -1.4836376e-03, -2.7437191e-03,  9.0018986e-03,  5.2238158e-03,\n",
              "        -2.1550849e-03, -9.4658453e-03, -7.4288878e-03, -1.0615890e-03,\n",
              "        -7.9518161e-04, -2.5618877e-03,  9.6908798e-03, -4.5144165e-04,\n",
              "         5.8776108e-03, -7.4602189e-03, -2.4994921e-03, -5.5548777e-03],\n",
              "       dtype=float32),\n",
              " array([-0.00713697,  0.00124013, -0.00718119, -0.00224584,  0.00372125,\n",
              "         0.0058306 ,  0.00119549,  0.00210681, -0.00410834,  0.00722424,\n",
              "        -0.00630325,  0.00464445, -0.00821497,  0.00204231, -0.00497447,\n",
              "        -0.00424536, -0.00310778,  0.00565496,  0.00579993, -0.00497749,\n",
              "         0.00077496, -0.0084955 ,  0.00781369,  0.00925741, -0.00273932,\n",
              "         0.00079762,  0.0007463 ,  0.00547958, -0.00860377,  0.00058438,\n",
              "         0.00687078,  0.00222861,  0.00113219, -0.0093228 ,  0.00848438,\n",
              "        -0.00626109, -0.00299081,  0.0034913 , -0.00077474,  0.00141275,\n",
              "         0.00177877, -0.00682682, -0.00972708,  0.00903875,  0.00619698,\n",
              "        -0.00691105,  0.00340142,  0.00020836,  0.00475064, -0.00711876,\n",
              "         0.00402396,  0.00434311,  0.0099535 , -0.00447157, -0.00138381,\n",
              "        -0.00731768, -0.00969553, -0.00908123, -0.00102006, -0.00650215,\n",
              "         0.00484536, -0.00616862,  0.00252245,  0.00074324, -0.00339912,\n",
              "        -0.00097707,  0.00997715,  0.00914575, -0.0044629 ,  0.00908782,\n",
              "        -0.00563811,  0.00592965, -0.00309321,  0.00343482,  0.00301615,\n",
              "         0.00689784, -0.00237424,  0.00877061,  0.00758437, -0.00954626,\n",
              "        -0.00801133, -0.00763775,  0.00292292, -0.00279033, -0.00692933,\n",
              "        -0.00812457,  0.00830914,  0.0019885 , -0.00932552, -0.0047902 ,\n",
              "         0.00313789, -0.00471067,  0.00528018, -0.00423447,  0.00263979,\n",
              "        -0.00804322,  0.0062093 ,  0.00481627,  0.00078762,  0.00301344],\n",
              "       dtype=float32),\n",
              " array([-8.7274825e-03,  2.1301615e-03, -8.7354420e-04, -9.3190884e-03,\n",
              "        -9.4281426e-03, -1.4107180e-03,  4.4324086e-03,  3.7040710e-03,\n",
              "        -6.4986930e-03, -6.8730675e-03, -4.9994122e-03, -2.2868442e-03,\n",
              "        -7.2502876e-03, -9.6033178e-03, -2.7436293e-03, -8.3628409e-03,\n",
              "        -6.0388758e-03, -5.6709289e-03, -2.3441375e-03, -1.7069972e-03,\n",
              "        -8.9569986e-03, -7.3519943e-04,  8.1525063e-03,  7.6904297e-03,\n",
              "        -7.2061159e-03, -3.6668312e-03,  3.1185520e-03, -9.5707225e-03,\n",
              "         1.4764392e-03,  6.5244664e-03,  5.7464195e-03, -8.7630618e-03,\n",
              "        -4.5171441e-03, -8.1401607e-03,  4.5956374e-05,  9.2636338e-03,\n",
              "         5.9733056e-03,  5.0673080e-03,  5.0610625e-03, -3.2429171e-03,\n",
              "         9.5521836e-03, -7.3564244e-03, -7.2703874e-03, -2.2653891e-03,\n",
              "        -7.7856064e-04, -3.2161034e-03, -5.9258583e-04,  7.4888230e-03,\n",
              "        -6.9751858e-04, -1.6249407e-03,  2.7443992e-03, -8.3591007e-03,\n",
              "         7.8558037e-03,  8.5361041e-03, -9.5840869e-03,  2.4462664e-03,\n",
              "         9.9049713e-03, -7.6658037e-03, -6.9669187e-03, -7.7365171e-03,\n",
              "         8.3959233e-03, -6.8133592e-04,  9.1444086e-03, -8.1582209e-03,\n",
              "         3.7430846e-03,  2.6350426e-03,  7.4271322e-04,  2.3276759e-03,\n",
              "        -7.4690939e-03, -9.3583735e-03,  2.3545765e-03,  6.1484552e-03,\n",
              "         7.9856887e-03,  5.7358947e-03, -7.7733636e-04,  8.3061643e-03,\n",
              "        -9.3363142e-03,  3.4061326e-03,  2.6675343e-04,  3.8572443e-03,\n",
              "         7.3857834e-03, -6.7251669e-03,  5.5844807e-03, -9.5222248e-03,\n",
              "        -8.0445886e-04, -8.6887367e-03, -5.0986730e-03,  9.2892265e-03,\n",
              "        -1.8582619e-03,  2.9144264e-03,  9.0712793e-03,  8.9381328e-03,\n",
              "        -8.2084350e-03, -3.0123137e-03,  9.8866057e-03,  5.1044310e-03,\n",
              "        -1.5880871e-03, -8.6920215e-03,  2.9615164e-03, -6.6758976e-03],\n",
              "       dtype=float32),\n",
              " array([ 8.1320228e-03, -4.4568828e-03, -1.0685311e-03,  1.0067897e-03,\n",
              "        -1.9033662e-04,  1.1488148e-03,  6.1126715e-03, -2.0692038e-05,\n",
              "        -3.2453341e-03, -1.5099554e-03,  5.8967341e-03,  1.5137570e-03,\n",
              "        -7.2410720e-04,  9.3324138e-03, -4.9205571e-03, -8.3872024e-04,\n",
              "         9.1745742e-03,  6.7481995e-03,  1.5035218e-03, -8.8814488e-03,\n",
              "         1.1493710e-03, -2.2880484e-03,  9.3681188e-03,  1.2094374e-03,\n",
              "         1.4904492e-03,  2.4066886e-03, -1.8362608e-03, -4.9985996e-03,\n",
              "         2.3229689e-04, -2.0134533e-03,  6.5996395e-03,  8.9387419e-03,\n",
              "        -6.7484035e-04,  2.9763260e-03, -6.1075357e-03,  1.6996621e-03,\n",
              "        -6.9264551e-03, -8.6925831e-03, -5.9003718e-03, -8.9559881e-03,\n",
              "         7.2772629e-03, -5.7712980e-03,  8.2749883e-03, -7.2425487e-03,\n",
              "         3.4207627e-03,  9.6747112e-03, -7.7854954e-03, -9.9442322e-03,\n",
              "        -4.3294304e-03, -2.6826719e-03, -2.7173787e-04, -8.8315494e-03,\n",
              "        -8.6170807e-03,  2.7998870e-03, -8.2061579e-03, -9.0692528e-03,\n",
              "        -2.3409552e-03, -8.6317966e-03, -7.0566493e-03, -8.4011192e-03,\n",
              "        -3.0198097e-04, -4.5639370e-03,  6.6267326e-03,  1.5269095e-03,\n",
              "        -3.3412133e-03,  6.1084381e-03, -6.0121366e-03, -4.6550496e-03,\n",
              "        -7.2067608e-03, -4.3369411e-03, -1.8089012e-03,  6.4896811e-03,\n",
              "        -2.7705587e-03,  4.9184971e-03,  6.9037545e-03, -7.4634063e-03,\n",
              "         4.5642150e-03,  6.1260471e-03, -2.9543394e-03,  6.6244351e-03,\n",
              "         6.1246874e-03, -6.4431974e-03, -6.7636506e-03,  2.5382452e-03,\n",
              "        -1.6241010e-03, -6.0648769e-03,  9.4987089e-03, -5.1300055e-03,\n",
              "        -6.5540820e-03, -1.2043219e-04, -2.7012897e-03,  4.4503578e-04,\n",
              "        -3.5372004e-03, -4.1932677e-04, -7.0886989e-04,  8.2350004e-04,\n",
              "         8.1934109e-03, -5.7357084e-03, -1.6598504e-03,  5.5719106e-03],\n",
              "       dtype=float32),\n",
              " array([ 8.1664762e-03, -4.4408459e-03,  8.9844940e-03,  8.2543390e-03,\n",
              "        -4.4317772e-03,  3.0401297e-04,  4.2716158e-03, -3.9260141e-03,\n",
              "        -5.5588265e-03, -6.5117790e-03, -6.7088951e-04, -2.9699525e-04,\n",
              "         4.4646552e-03, -2.4761283e-03, -1.6887244e-04,  2.4602863e-03,\n",
              "         4.8674154e-03, -3.2229502e-05, -6.3393014e-03, -9.2587406e-03,\n",
              "         2.6868835e-05,  6.6614235e-03,  1.4656344e-03, -8.9679724e-03,\n",
              "        -7.9384865e-03,  6.5528951e-03, -3.7854153e-03,  6.2590227e-03,\n",
              "        -6.6813682e-03,  8.4812604e-03, -6.5197540e-03,  3.2844055e-03,\n",
              "        -1.0593560e-03, -6.7895954e-03, -3.2874504e-03, -1.1606769e-03,\n",
              "        -5.4703718e-03, -1.2086050e-03, -7.5649004e-03,  2.6497708e-03,\n",
              "         9.0701478e-03, -2.3749229e-03, -9.7967265e-04,  3.5167788e-03,\n",
              "         8.6642448e-03, -5.9220083e-03, -6.8875020e-03, -2.9305813e-03,\n",
              "         9.1461325e-03,  8.6583343e-04, -8.6779799e-03, -1.4469842e-03,\n",
              "         9.4796391e-03, -7.5519909e-03, -5.3596562e-03,  9.3168691e-03,\n",
              "        -8.9748157e-03,  3.8254524e-03,  6.6673430e-04,  6.6595641e-03,\n",
              "         8.3109066e-03, -2.8503526e-03, -3.9911331e-03,  8.8982498e-03,\n",
              "         2.0898562e-03,  6.2485440e-03, -9.4424989e-03,  9.5943799e-03,\n",
              "        -1.3478064e-03, -6.0542845e-03,  2.9947092e-03, -4.5661643e-04,\n",
              "         4.7061681e-03, -2.2825468e-03, -4.1406681e-03,  2.2794607e-03,\n",
              "         8.3538266e-03, -4.9966094e-03,  2.6684008e-03, -7.9917535e-03,\n",
              "        -6.7777731e-03, -4.6605378e-04, -8.7646749e-03,  2.7876578e-03,\n",
              "         1.5986245e-03, -2.3191052e-03,  5.0036996e-03,  9.7493986e-03,\n",
              "         8.4556788e-03, -1.8821327e-03,  2.0581107e-03, -4.0020784e-03,\n",
              "        -8.2406430e-03,  6.2782331e-03, -1.9474324e-03, -6.6417543e-04,\n",
              "        -1.7733317e-03, -4.5341235e-03,  4.0606055e-03, -4.2700968e-03],\n",
              "       dtype=float32),\n",
              " array([-9.5763048e-03,  8.9410227e-03,  4.1632382e-03,  9.2323497e-03,\n",
              "         6.6420147e-03,  2.9247196e-03,  9.8050172e-03, -4.4228123e-03,\n",
              "        -6.8046828e-03,  4.2272303e-03,  3.7315174e-03, -5.6642550e-03,\n",
              "         9.7049847e-03, -3.5597335e-03,  9.5510026e-03,  8.3743694e-04,\n",
              "        -6.3360231e-03, -1.9772358e-03, -7.3763360e-03, -2.9812881e-03,\n",
              "         1.0403545e-03,  9.4817765e-03,  9.3605286e-03, -6.5949229e-03,\n",
              "         3.4727622e-03,  2.2759943e-03, -2.4900537e-03, -9.2303865e-03,\n",
              "         1.0296020e-03, -8.1655281e-03,  6.3235387e-03, -5.8014188e-03,\n",
              "         5.5396412e-03,  9.8357396e-03, -1.5758933e-04,  4.5265700e-03,\n",
              "        -1.8077909e-03,  7.3572798e-03,  3.9390153e-03, -9.0071987e-03,\n",
              "        -2.4004949e-03,  3.6287338e-03, -9.7894866e-05, -1.1992718e-03,\n",
              "        -1.0514067e-03, -1.6708387e-03,  6.0590374e-04,  4.1646506e-03,\n",
              "        -4.2552995e-03, -3.8348653e-03, -5.3197371e-05,  2.6881087e-04,\n",
              "        -1.7039328e-04, -4.7852406e-03,  4.3149828e-03, -2.1726200e-03,\n",
              "         2.1031066e-03,  6.6922681e-04,  5.9725521e-03, -6.8438412e-03,\n",
              "        -6.8175304e-03, -4.4795750e-03,  9.4387764e-03, -1.5871240e-03,\n",
              "        -9.4321640e-03, -5.4077245e-04, -4.4492637e-03,  6.0002264e-03,\n",
              "        -9.5853806e-03,  2.8604057e-03, -9.2555080e-03,  1.2500311e-03,\n",
              "         6.0020341e-03,  7.3976195e-03, -7.6221009e-03, -6.0523381e-03,\n",
              "        -6.8379003e-03, -7.9175411e-03, -9.5012095e-03, -2.1222564e-03,\n",
              "        -8.3721342e-04, -7.2598094e-03,  6.7859557e-03,  1.1237148e-03,\n",
              "         5.8293957e-03,  1.4736571e-03,  7.9170230e-04, -7.3702182e-03,\n",
              "        -2.1743078e-03,  4.3209009e-03, -5.0884597e-03,  1.1310745e-03,\n",
              "         2.8826995e-03, -1.5367009e-03,  9.9365106e-03,  8.3489185e-03,\n",
              "         2.4207772e-03,  7.1197227e-03,  5.8916416e-03, -5.5825189e-03],\n",
              "       dtype=float32),\n",
              " array([-0.00515572, -0.0066697 , -0.00777987,  0.0083085 , -0.0019781 ,\n",
              "        -0.00685547, -0.0041567 ,  0.00514665, -0.0028684 , -0.00374977,\n",
              "         0.00162353, -0.00277798, -0.00158136,  0.00107614, -0.0029752 ,\n",
              "         0.00852054,  0.00391238, -0.00996045,  0.00626076, -0.00675777,\n",
              "         0.00076995,  0.00440264, -0.00510022, -0.00211219,  0.00809681,\n",
              "        -0.00424457, -0.00763659,  0.00926136, -0.00215388, -0.00472005,\n",
              "         0.0085715 ,  0.00428199,  0.00432816,  0.00928391, -0.00844971,\n",
              "         0.00525457,  0.00204096,  0.00418699,  0.00169644,  0.00446673,\n",
              "         0.00448398,  0.00610506, -0.00320374, -0.00457428, -0.00042703,\n",
              "         0.00253333, -0.0032649 ,  0.00606065,  0.00415219,  0.00776461,\n",
              "         0.002569  ,  0.00811435, -0.00138898,  0.00807905,  0.00371953,\n",
              "        -0.00804815, -0.00393149, -0.00247102,  0.00489543, -0.0008708 ,\n",
              "        -0.00283328,  0.00783056,  0.00932675, -0.00161111, -0.0051635 ,\n",
              "        -0.00469987, -0.00484507, -0.00960059,  0.00137079, -0.00422299,\n",
              "         0.0025287 ,  0.00561446, -0.00406344, -0.00959459,  0.00154437,\n",
              "        -0.00670348,  0.00249692, -0.00378282,  0.00707582,  0.0006397 ,\n",
              "         0.00355612, -0.00273935, -0.00171138,  0.00765558,  0.0014077 ,\n",
              "        -0.00584798, -0.00783403,  0.00123344,  0.00645635,  0.00555674,\n",
              "        -0.00897602,  0.00859515,  0.00404686,  0.00747149,  0.00974818,\n",
              "        -0.00728748, -0.00903834,  0.00583543,  0.00939089,  0.00350568],\n",
              "       dtype=float32),\n",
              " array([ 7.0919041e-03, -1.5713355e-03,  7.9466952e-03, -9.4900774e-03,\n",
              "        -8.0294292e-03, -6.6400389e-03, -4.0062638e-03,  4.9883197e-03,\n",
              "        -3.8140968e-03, -8.3183618e-03,  8.4107742e-03, -3.7481529e-03,\n",
              "         8.6085554e-03, -4.8948247e-03,  3.9179916e-03,  4.9229055e-03,\n",
              "         2.3903777e-03, -2.8194562e-03,  2.8522876e-03, -8.2586342e-03,\n",
              "        -2.7663924e-03, -2.5911501e-03,  7.2477474e-03, -3.4671878e-03,\n",
              "        -6.5966961e-03,  4.3399576e-03, -4.7593660e-04, -3.5969047e-03,\n",
              "         6.8828799e-03,  3.8729394e-03, -3.9017466e-03,  7.7143591e-04,\n",
              "         9.1469651e-03,  7.7550896e-03,  6.3628489e-03,  4.6652914e-03,\n",
              "         2.3817958e-03, -1.8405400e-03, -6.3695512e-03, -3.0321462e-04,\n",
              "        -1.5673497e-03, -5.7325134e-04, -6.2658717e-03,  7.4359006e-03,\n",
              "        -6.5944442e-03, -7.2412645e-03, -2.7588627e-03, -1.5129247e-03,\n",
              "        -7.6364903e-03,  6.9958024e-04, -5.3279405e-03, -1.2760967e-03,\n",
              "        -7.3634256e-03,  1.9640448e-03,  3.2758065e-03, -2.3140141e-05,\n",
              "        -5.4485379e-03, -1.7279731e-03,  7.0848274e-03,  3.7382201e-03,\n",
              "        -8.8828243e-03, -3.4157191e-03,  2.3530060e-03,  2.1397963e-03,\n",
              "        -9.4663659e-03,  4.5733298e-03, -8.6566536e-03, -7.3885270e-03,\n",
              "         3.4833220e-03, -3.4684788e-03,  3.5642171e-03,  8.8961627e-03,\n",
              "        -3.5741052e-03,  9.3180519e-03,  1.7109821e-03,  9.8484699e-03,\n",
              "         5.7068272e-03, -9.1531985e-03, -3.3271543e-03,  6.5295273e-03,\n",
              "         5.6026317e-03,  8.7052621e-03,  6.9252178e-03,  8.0393804e-03,\n",
              "        -9.8231416e-03,  4.3013599e-03, -5.0330553e-03,  3.5118291e-03,\n",
              "         6.0580987e-03,  4.3948968e-03,  7.5147264e-03,  1.4991103e-03,\n",
              "        -1.2648902e-03,  5.7701408e-03, -5.6425692e-03,  3.9540959e-05,\n",
              "         9.4553772e-03, -5.4795397e-03,  3.8147373e-03, -8.1129391e-03],\n",
              "       dtype=float32),\n",
              " array([ 9.7702928e-03,  8.1651136e-03,  1.2809718e-03,  5.0975787e-03,\n",
              "         1.4081288e-03, -6.4551616e-03, -1.4280510e-03,  6.4491653e-03,\n",
              "        -4.6173059e-03, -3.9930656e-03,  4.9244044e-03,  2.7130984e-03,\n",
              "        -1.8479753e-03, -2.8769434e-03,  6.0107317e-03, -5.7167388e-03,\n",
              "        -3.2367026e-03, -6.4878250e-03, -4.2346325e-03, -8.5809948e-03,\n",
              "        -4.4697891e-03, -8.5112294e-03,  1.4037776e-03, -8.6181965e-03,\n",
              "        -9.9166557e-03, -8.2016252e-03, -6.7726658e-03,  6.6805850e-03,\n",
              "         3.7845564e-03,  3.5616636e-04, -2.9579818e-03, -7.4283206e-03,\n",
              "         5.3341867e-04,  4.9989222e-04,  1.9561886e-04,  8.5259555e-04,\n",
              "         7.8633073e-04, -6.8160298e-05, -8.0070542e-03, -5.8702733e-03,\n",
              "        -8.3829118e-03, -1.3120425e-03,  1.8206370e-03,  7.4171280e-03,\n",
              "        -1.9634271e-03, -2.3252917e-03,  9.4871549e-03,  7.9704521e-05,\n",
              "        -2.4045217e-03,  8.6048469e-03,  2.6870037e-03, -5.3439722e-03,\n",
              "         6.5881060e-03,  4.5101536e-03, -7.0544672e-03, -3.2317400e-04,\n",
              "         8.3448651e-04,  5.7473574e-03, -1.7176545e-03, -2.8065301e-03,\n",
              "         1.7484308e-03,  8.4717153e-04,  1.1928272e-03, -2.6342822e-03,\n",
              "        -5.9857843e-03,  7.3229838e-03,  7.5873756e-03,  8.2963575e-03,\n",
              "        -8.5988473e-03,  2.6364254e-03, -3.5599626e-03,  9.6204039e-03,\n",
              "         2.9037679e-03,  4.6411133e-03,  2.3856151e-03,  6.6084778e-03,\n",
              "        -5.7432903e-03,  7.8944126e-03, -2.4109220e-03, -4.5618857e-03,\n",
              "        -2.0609903e-03,  9.7335577e-03, -6.8565905e-03, -2.1917201e-03,\n",
              "         7.0009995e-03, -5.5749417e-05, -6.2949671e-03, -6.3935257e-03,\n",
              "         8.9403950e-03,  6.4295758e-03,  4.7735930e-03, -3.2620477e-03,\n",
              "        -9.2676198e-03,  3.7868882e-03,  7.1605504e-03, -5.6328895e-03,\n",
              "        -7.8650126e-03, -2.9727400e-03, -4.9318983e-03, -2.3151112e-03],\n",
              "       dtype=float32),\n",
              " array([-1.9442164e-03, -5.2675214e-03,  9.4471136e-03, -9.2987325e-03,\n",
              "         4.5039477e-03,  5.4041781e-03, -1.4092624e-03,  9.0070926e-03,\n",
              "         9.8853596e-03, -5.4750429e-03, -6.0210000e-03, -6.7469729e-03,\n",
              "        -7.8948820e-03, -3.0479168e-03, -5.5940272e-03, -8.3446801e-03,\n",
              "         7.8290224e-04,  2.9946566e-03,  6.4147436e-03, -2.6289499e-03,\n",
              "        -4.4534765e-03,  1.2495709e-03,  3.9146186e-04,  8.1169987e-03,\n",
              "         1.8280029e-04,  7.2315861e-03, -8.2645155e-03,  8.4335366e-03,\n",
              "        -1.8889094e-03,  8.7011540e-03, -7.6168370e-03,  1.7963862e-03,\n",
              "         1.0564864e-03,  4.6005251e-05, -5.1032533e-03, -9.2476979e-03,\n",
              "        -7.2642174e-03, -7.9511739e-03,  1.9137275e-03,  4.7846674e-04,\n",
              "        -1.8131376e-03,  7.1201660e-03, -2.4756920e-03, -1.3473093e-03,\n",
              "        -8.9005642e-03, -9.9254129e-03,  8.9493981e-03, -5.7539381e-03,\n",
              "        -6.3729975e-03,  5.1994072e-03,  6.6699935e-03, -6.8316413e-03,\n",
              "         9.5975993e-04, -6.0084737e-03,  1.6473436e-03, -4.2892788e-03,\n",
              "        -3.4407973e-03,  2.1856665e-03,  8.6615775e-03,  6.7281104e-03,\n",
              "        -9.6770572e-03, -5.6221043e-03,  7.8803329e-03,  1.9893574e-03,\n",
              "        -4.2560520e-03,  5.9881213e-04,  9.5209610e-03, -1.1027169e-03,\n",
              "        -9.4246380e-03,  1.6084099e-03,  6.2323548e-03,  6.2823701e-03,\n",
              "         4.0916502e-03, -5.6502391e-03, -3.7069322e-04, -5.5317880e-05,\n",
              "         4.5717955e-03, -8.0415895e-03, -8.0183093e-03,  2.6475071e-04,\n",
              "        -8.6082993e-03,  5.8201565e-03, -4.1781188e-04,  9.9711772e-03,\n",
              "        -5.3439774e-03, -4.8613906e-04,  7.7567734e-03, -4.0679323e-03,\n",
              "        -5.0159004e-03,  1.5900708e-03,  2.6506938e-03, -2.5649595e-03,\n",
              "         6.4475285e-03, -7.6599526e-03,  3.3935606e-03,  4.8997044e-04,\n",
              "         8.7321829e-03,  5.9827138e-03,  6.8153618e-03,  7.8225443e-03],\n",
              "       dtype=float32),\n",
              " array([-0.00950012,  0.00956222, -0.00777076, -0.00264551, -0.00490641,\n",
              "        -0.0049667 , -0.00802359, -0.00778358, -0.00455321, -0.00127536,\n",
              "        -0.00510299,  0.00614054, -0.00951662, -0.0053071 ,  0.00943715,\n",
              "         0.00699133,  0.00767582,  0.00423474,  0.00050709, -0.00598114,\n",
              "         0.00601878,  0.00263503,  0.00769943,  0.00639384,  0.00794257,\n",
              "         0.00865741, -0.00989575, -0.0067557 ,  0.00133757,  0.0064403 ,\n",
              "         0.00737382,  0.00551698,  0.00766163, -0.00512557,  0.00658441,\n",
              "        -0.00410837, -0.00905534,  0.00914168,  0.0013314 , -0.00275968,\n",
              "        -0.00247784, -0.00422048,  0.00481234,  0.00440022, -0.00265336,\n",
              "        -0.00734188, -0.00356585, -0.00033661,  0.00609589, -0.00283734,\n",
              "        -0.00012089,  0.00087973, -0.00709565,  0.002065  , -0.00143242,\n",
              "         0.00280215,  0.00484222, -0.00135202, -0.00278014,  0.00773865,\n",
              "         0.0050456 ,  0.00671352,  0.00451564,  0.00866716,  0.00747497,\n",
              "        -0.00108189,  0.00874764,  0.00460172,  0.00544063, -0.00138608,\n",
              "        -0.00204132, -0.00442435, -0.0085152 ,  0.00303773,  0.00888319,\n",
              "         0.00891974, -0.00194235,  0.00608616,  0.00377972, -0.00429597,\n",
              "         0.00204292, -0.00543789,  0.00820889,  0.00543291,  0.00318443,\n",
              "         0.00410257,  0.00865715,  0.00727203, -0.00083347, -0.00707277,\n",
              "         0.00838047,  0.00723358,  0.00173047, -0.00134749, -0.00589009,\n",
              "        -0.00453309,  0.00864797, -0.00313511, -0.00633882,  0.00987008],\n",
              "       dtype=float32),\n",
              " array([ 7.6998458e-03,  9.1191586e-03,  1.1342765e-03, -8.3256355e-03,\n",
              "         8.4244246e-03, -3.6994645e-03,  5.7434691e-03,  4.3953732e-03,\n",
              "         9.6871965e-03, -9.2948955e-03,  9.2107235e-03, -9.2825238e-03,\n",
              "        -6.9037406e-03, -9.0961624e-03, -5.5473270e-03,  7.3694037e-03,\n",
              "         9.1679003e-03, -3.3242218e-03,  3.7210316e-03, -3.6306342e-03,\n",
              "         7.8821816e-03,  5.8682309e-03,  3.5981232e-06, -3.6304893e-03,\n",
              "        -7.2206822e-03,  4.7654542e-03,  1.4534104e-03, -2.6104674e-03,\n",
              "         7.8367339e-03, -4.0506599e-03, -9.1485223e-03, -2.2554246e-03,\n",
              "         1.3060276e-04, -6.6408780e-03, -5.4873489e-03, -8.4983539e-03,\n",
              "         9.2311697e-03,  7.4207792e-03, -2.9725168e-04,  7.3656691e-03,\n",
              "         7.9459930e-03, -7.8098389e-04,  6.6112969e-03,  3.7665633e-03,\n",
              "         5.0768997e-03,  7.2534848e-03, -4.7455519e-03, -2.1827170e-03,\n",
              "         8.7265909e-04,  4.2381361e-03,  3.3002456e-03,  5.0954768e-03,\n",
              "         4.5825788e-03, -8.4387921e-03, -3.1811919e-03, -7.2377762e-03,\n",
              "         9.6829189e-03,  5.0050998e-03,  1.7226551e-04,  4.1163242e-03,\n",
              "        -7.6563139e-03, -6.2993607e-03,  3.0779194e-03,  6.5373466e-03,\n",
              "         3.9448147e-03,  6.0210661e-03, -1.9902701e-03, -3.3453808e-03,\n",
              "         2.0468327e-04, -3.1902832e-03, -5.5137365e-03, -7.7857738e-03,\n",
              "         6.5365182e-03, -1.0899738e-03, -1.8889350e-03, -7.8070113e-03,\n",
              "         9.3423259e-03,  8.6493860e-04,  1.7655318e-03,  2.4901421e-03,\n",
              "        -7.3872707e-03,  1.6391980e-03,  2.9742192e-03, -8.5622407e-03,\n",
              "         4.9542938e-03,  2.4355941e-03,  7.4991058e-03,  5.0437590e-03,\n",
              "        -3.0301544e-03, -7.1597644e-03,  7.0982608e-03,  1.9025115e-03,\n",
              "         5.1985509e-03,  6.3818735e-03,  1.9116863e-03, -6.1261002e-03,\n",
              "        -6.7443989e-06,  8.2630878e-03, -6.0952068e-03,  9.4374819e-03],\n",
              "       dtype=float32),\n",
              " array([-7.1885074e-03,  4.2305514e-03,  2.1584863e-03,  7.4378168e-03,\n",
              "        -4.8892451e-03, -4.5650378e-03, -6.1014425e-03,  3.3016356e-03,\n",
              "        -4.4969330e-03,  8.5231569e-03, -4.2875833e-03, -9.1067245e-03,\n",
              "        -4.8104944e-03,  6.4225621e-03, -6.3711558e-03, -5.2635116e-03,\n",
              "        -7.3017236e-03,  6.0210424e-03,  3.3573480e-03,  2.8469448e-03,\n",
              "        -3.1350700e-03,  6.0318387e-03, -6.1516003e-03, -1.9777559e-03,\n",
              "        -5.9806495e-03, -9.9886069e-04, -2.0187909e-03,  8.4863463e-03,\n",
              "         7.7926779e-05, -8.5749570e-03, -5.4296125e-03, -6.8758987e-03,\n",
              "         2.6965097e-03,  9.4534187e-03, -5.8174757e-03,  8.2687242e-03,\n",
              "         8.5305301e-03, -7.0670126e-03, -8.8855233e-03,  9.4689718e-03,\n",
              "         8.3731469e-03, -4.6894713e-03, -6.7220409e-03,  7.8370403e-03,\n",
              "         3.7638266e-03,  8.0978302e-03, -7.5747008e-03, -9.5259221e-03,\n",
              "         1.5761793e-03, -9.8039983e-03, -4.8904819e-03, -3.4638145e-03,\n",
              "         9.6172960e-03,  8.6246571e-03, -2.8328453e-03,  5.8239126e-03,\n",
              "         8.2397116e-03, -2.2617853e-03,  9.5295189e-03,  7.1594412e-03,\n",
              "         2.0430468e-03, -3.8529201e-03, -5.0797677e-03, -3.0489045e-03,\n",
              "         7.8829387e-03, -6.1890092e-03, -2.9187405e-03,  9.1900434e-03,\n",
              "         3.4533900e-03,  6.0772006e-03, -8.0280276e-03, -7.5106445e-04,\n",
              "         5.5247112e-03, -4.7135353e-03,  7.4810754e-03,  9.3181105e-03,\n",
              "        -4.0904115e-04, -2.0643831e-03, -5.9887086e-04, -5.7826713e-03,\n",
              "        -8.3875833e-03, -1.5072614e-03, -2.5627902e-03,  4.3877638e-03,\n",
              "        -6.8677939e-03,  5.4146959e-03, -6.7442330e-03, -7.8177564e-03,\n",
              "         8.4716547e-03,  8.9202691e-03, -3.4812209e-03,  3.4931705e-03,\n",
              "        -5.7956725e-03, -8.7519083e-03, -5.5193859e-03,  6.7508412e-03,\n",
              "         6.4159320e-03,  9.4331782e-03,  7.0561562e-03,  6.7557991e-03],\n",
              "       dtype=float32),\n",
              " array([ 1.29915029e-03, -9.80299152e-03,  4.58589476e-03, -5.38174470e-04,\n",
              "         6.33358816e-03,  1.78283604e-03, -3.12906713e-03,  7.76245631e-03,\n",
              "         1.55485421e-03,  5.39033426e-05, -4.60992334e-03, -8.45423713e-03,\n",
              "        -7.76590034e-03,  8.67130235e-03, -8.92331358e-03,  9.03459638e-03,\n",
              "        -9.27933864e-03, -2.77108018e-04, -1.90950779e-03, -8.93316697e-03,\n",
              "         8.63041356e-03,  6.77895779e-03,  3.02300230e-03,  4.83311387e-03,\n",
              "         1.12674432e-04,  9.42398980e-03,  7.02252006e-03, -9.85258352e-03,\n",
              "        -4.43418650e-03, -1.29002670e-03,  3.04827350e-03, -4.32659173e-03,\n",
              "         1.45192409e-03, -7.84747489e-03,  2.77786725e-03,  4.70401580e-03,\n",
              "         4.93785925e-03, -3.17713362e-03, -8.42730142e-03, -9.21991095e-03,\n",
              "        -7.23482633e-04, -7.32771400e-03, -6.81471406e-03,  6.11917116e-03,\n",
              "         7.17541482e-03,  2.11799517e-03, -7.89866503e-03, -5.69976214e-03,\n",
              "         8.05191137e-03,  3.92180821e-03, -5.24186762e-03, -7.39309611e-03,\n",
              "         7.70835613e-04,  3.46245780e-03,  2.08079512e-03,  3.09862592e-03,\n",
              "        -5.61851356e-03, -9.88769904e-03, -7.02066347e-03,  2.30796155e-04,\n",
              "         4.61864611e-03,  4.52498207e-03,  1.88206404e-03,  5.17160352e-03,\n",
              "        -1.07716616e-04,  4.11507208e-03, -9.12335794e-03,  7.70398742e-03,\n",
              "         6.14396390e-03,  5.12674265e-03,  7.20785093e-03,  8.43878835e-03,\n",
              "         7.42573000e-04, -1.70253566e-03,  5.18046727e-04, -9.31813195e-03,\n",
              "         8.40554666e-03, -6.37928396e-03,  8.42484366e-03, -4.24587540e-03,\n",
              "         6.45662949e-04, -9.16583091e-03, -9.56039038e-03, -7.83442240e-03,\n",
              "        -7.72926351e-03,  3.75816249e-04, -7.22461520e-03, -4.95052245e-03,\n",
              "        -5.27167739e-03, -4.28891694e-03,  7.01044733e-03,  4.82989429e-03,\n",
              "         8.68445355e-03,  7.09166657e-03, -5.69206709e-03,  7.24245841e-03,\n",
              "        -9.29308869e-03, -2.58812052e-03, -7.75525020e-03,  4.19088639e-03],\n",
              "       dtype=float32),\n",
              " array([ 0.00180023,  0.00704609,  0.0029447 , -0.00698085,  0.00771268,\n",
              "        -0.00598893,  0.00899771,  0.0029592 , -0.00401529, -0.00468899,\n",
              "        -0.00441672, -0.00614646,  0.00937874, -0.0026496 ,  0.00777244,\n",
              "        -0.00968034,  0.00210879, -0.00123361,  0.00754423, -0.0090546 ,\n",
              "         0.00743756, -0.0051058 , -0.00601377, -0.00564916, -0.00337917,\n",
              "        -0.0034111 , -0.00319566, -0.0074922 ,  0.00070878, -0.00057607,\n",
              "        -0.001684  ,  0.00375713, -0.00762019, -0.00322142,  0.00515534,\n",
              "         0.00854386, -0.00980994,  0.00719534,  0.00530949, -0.0038797 ,\n",
              "         0.00857616, -0.00922199,  0.00724868,  0.00536383,  0.00129359,\n",
              "        -0.00519975, -0.00417865, -0.00335678,  0.00160829,  0.0015867 ,\n",
              "         0.00738824,  0.00997759,  0.00886734, -0.00400645,  0.00964539,\n",
              "        -0.00062954,  0.00486543,  0.00254902, -0.00062981,  0.00366745,\n",
              "        -0.00531941, -0.00575668, -0.00760464,  0.00190643,  0.00652587,\n",
              "         0.00088213,  0.00125695,  0.0031716 ,  0.00813467, -0.00770006,\n",
              "         0.00226075, -0.00747411,  0.00370981,  0.00951055,  0.00752026,\n",
              "         0.00642603,  0.00801478,  0.00655115,  0.00685668,  0.00868209,\n",
              "        -0.00494804,  0.00921295,  0.0050592 , -0.00213025,  0.00848745,\n",
              "         0.00508134,  0.00964895,  0.0028324 ,  0.00986754,  0.001197  ,\n",
              "         0.00912918,  0.00358697,  0.00656481, -0.00361133,  0.00679291,\n",
              "         0.00724357, -0.00213346, -0.00185955,  0.00361175, -0.00703643],\n",
              "       dtype=float32),\n",
              " array([ 0.00973614, -0.00977977, -0.00650105,  0.002782  ,  0.0064334 ,\n",
              "        -0.00536782,  0.0027511 ,  0.00912119, -0.00681322, -0.00610081,\n",
              "        -0.004989  , -0.00367483,  0.00185128,  0.00968394,  0.00643867,\n",
              "         0.00039624,  0.00247227,  0.00843857,  0.00912985,  0.00562964,\n",
              "         0.00594642, -0.00762112, -0.0038276 , -0.00567917,  0.0061821 ,\n",
              "        -0.00225713, -0.00877901,  0.00762084,  0.00840014, -0.00331968,\n",
              "         0.00911671, -0.00073767, -0.00362722, -0.00038531,  0.00019481,\n",
              "        -0.00350304,  0.00281259,  0.00572899,  0.00686756, -0.00890246,\n",
              "        -0.0021927 , -0.00548143,  0.00752306,  0.00649938, -0.00436185,\n",
              "         0.00232701, -0.00595377,  0.00023595,  0.00946103, -0.00260956,\n",
              "        -0.00518728, -0.00739829, -0.00291366, -0.00086398,  0.00352746,\n",
              "         0.00974113, -0.00338828,  0.00190304,  0.00968016,  0.00153169,\n",
              "         0.00098711,  0.00980222,  0.00929574,  0.00770885, -0.00617033,\n",
              "         0.00998204,  0.00584843,  0.0090712 , -0.00199571,  0.0033502 ,\n",
              "         0.00683557, -0.00389499,  0.00664232,  0.00256398,  0.009314  ,\n",
              "        -0.00303821, -0.00311014,  0.00621602, -0.00907899, -0.00725338,\n",
              "        -0.00649968, -0.0007478 , -0.00236491,  0.00681581,  0.00923677,\n",
              "        -0.00090937,  0.00141271,  0.00202276, -0.00202049, -0.00803459,\n",
              "         0.00744155, -0.00429775,  0.00457525,  0.00908908,  0.00304046,\n",
              "         0.00313792,  0.00406247, -0.00270323,  0.00382486,  0.00033657],\n",
              "       dtype=float32),\n",
              " array([ 5.6267120e-03,  5.4973708e-03,  1.8291199e-03,  5.7494068e-03,\n",
              "        -8.9680776e-03,  6.5593575e-03,  9.2259916e-03, -4.2071473e-03,\n",
              "         1.6075504e-03, -5.2338815e-03,  1.0582185e-03,  2.7701687e-03,\n",
              "         8.1607364e-03,  5.4401276e-04,  2.5570584e-03,  1.2977350e-03,\n",
              "         8.4025227e-03, -5.7077026e-03, -6.2618302e-03, -3.6275184e-03,\n",
              "        -2.3005498e-03,  5.0410628e-03, -8.1203571e-03, -2.8335357e-03,\n",
              "        -8.1974268e-03,  5.1497100e-03, -2.5680638e-03, -9.0671070e-03,\n",
              "         4.0717293e-03,  9.0173231e-03, -3.0376601e-03, -5.8385395e-03,\n",
              "         3.0198884e-03, -4.3584823e-04, -9.9794362e-03,  8.4177041e-03,\n",
              "        -7.3388875e-03, -4.9304068e-03, -2.6570810e-03, -5.4523144e-03,\n",
              "         1.7165100e-03,  9.7128144e-03,  4.5722723e-03,  8.0886027e-03,\n",
              "        -4.7045827e-04,  6.4492342e-04, -2.6683521e-03, -8.7795611e-03,\n",
              "         3.4313034e-03,  2.0933736e-03, -9.4218543e-03, -4.9684369e-03,\n",
              "        -9.7340988e-03, -5.7197916e-03,  4.0645422e-03,  8.6428607e-03,\n",
              "         4.1116499e-03,  2.3884643e-03,  8.1447782e-03, -1.1192096e-03,\n",
              "        -1.3977134e-03, -8.7468233e-03, -1.2579202e-04, -2.5675725e-03,\n",
              "         3.8607715e-04,  7.2796619e-03, -7.0414604e-03, -3.9464748e-03,\n",
              "        -6.6646053e-03, -3.5441148e-03, -3.3158315e-03,  2.1371210e-03,\n",
              "         3.3281683e-03, -4.9571870e-03, -4.5462907e-03,  1.1386942e-03,\n",
              "         5.4534827e-03,  5.3736498e-03, -2.9685367e-03, -4.2665256e-03,\n",
              "        -5.6166472e-03, -5.4498314e-04,  1.9463730e-03,  1.5253461e-03,\n",
              "         7.3525296e-03, -2.7333724e-03, -6.5923930e-05, -5.5276332e-03,\n",
              "        -1.1700654e-03, -7.7119637e-03, -9.5932960e-04,  1.3096749e-03,\n",
              "        -8.5947439e-03,  8.7485835e-03, -9.2078662e-03, -9.6246768e-03,\n",
              "        -8.5116243e-03,  7.3132683e-03,  5.4655685e-03,  9.2494618e-03],\n",
              "       dtype=float32),\n",
              " array([ 0.00257018,  0.00084653, -0.00253944,  0.00935767,  0.00275751,\n",
              "         0.00409565, -0.00118294,  0.0009045 ,  0.00662431, -0.0007265 ,\n",
              "         0.00334151, -0.00067202,  0.0052484 ,  0.00363993,  0.00258253,\n",
              "        -0.00530989, -0.0047081 ,  0.00430802, -0.00590717, -0.00018021,\n",
              "        -0.00063352,  0.00349324, -0.00844227,  0.00881723, -0.00144874,\n",
              "        -0.00533093,  0.00405447, -0.00193549, -0.00776548, -0.0044968 ,\n",
              "        -0.00038773, -0.00894647,  0.00057056,  0.00244179, -0.00322527,\n",
              "         0.0025704 ,  0.0024808 ,  0.00998822,  0.00143051,  0.00202054,\n",
              "         0.00277956, -0.00207787, -0.00869862,  0.00802317, -0.0019747 ,\n",
              "        -0.00969231, -0.006552  , -0.00394586,  0.00395435,  0.00503858,\n",
              "         0.00608601, -0.00677026,  0.00068884, -0.00277528, -0.0052092 ,\n",
              "         0.00698127,  0.00395197, -0.00310651, -0.00827691, -0.00514079,\n",
              "        -0.00064953,  0.00781176,  0.00604419, -0.00845166, -0.00956354,\n",
              "         0.00713384, -0.00232757, -0.00369231,  0.00574983, -0.00584431,\n",
              "         0.00509395, -0.00024243, -0.00687516, -0.00033164,  0.00635899,\n",
              "         0.00929394,  0.00222091,  0.00505009, -0.00497452, -0.00079755,\n",
              "        -0.00531764,  0.00118896, -0.00179321, -0.00363263, -0.00701438,\n",
              "         0.00965443,  0.00297583, -0.00228122, -0.00418409,  0.00771379,\n",
              "        -0.00648185,  0.00312154,  0.00078736,  0.00832288,  0.00683618,\n",
              "        -0.00290865,  0.0025351 , -0.00166607, -0.00945466, -0.00261346],\n",
              "       dtype=float32),\n",
              " array([ 1.3325238e-03,  6.5408563e-03,  9.9846032e-03,  9.0624550e-03,\n",
              "        -8.0153607e-03,  6.4913859e-03, -5.7147373e-03, -9.7157480e-04,\n",
              "         4.8282265e-04,  6.5819337e-03,  4.4701435e-03,  4.6037268e-03,\n",
              "         9.4831241e-03,  3.8266421e-04, -6.0387133e-03, -6.3301004e-03,\n",
              "         6.4317896e-03, -5.2425815e-03, -2.8498126e-03,  4.0752841e-03,\n",
              "        -2.2902358e-03, -6.0252128e-03, -2.3236549e-03,  1.2069190e-03,\n",
              "         2.1833598e-03,  6.0837734e-03, -5.2140011e-03,  3.0779613e-03,\n",
              "         7.2406759e-03,  2.1951138e-03,  5.3974902e-03, -4.8453333e-03,\n",
              "         6.1526122e-03, -7.6012816e-03,  3.4928655e-03, -9.3218042e-03,\n",
              "        -2.6043104e-03, -9.0731988e-03, -1.5882683e-03, -5.3647519e-03,\n",
              "        -3.9439187e-03,  1.1536527e-03,  2.8003477e-03, -1.5263951e-03,\n",
              "        -8.1705153e-03, -5.9180222e-03,  8.1929564e-04, -3.9462578e-03,\n",
              "        -9.4304476e-03, -7.7497482e-04,  6.6332687e-03,  5.9788441e-03,\n",
              "        -9.9172592e-03,  3.1185830e-03, -5.9873010e-03, -9.1818906e-03,\n",
              "         1.7021298e-04, -3.6962033e-04, -6.9719995e-03, -6.2800576e-03,\n",
              "        -2.4260855e-03,  7.0966566e-03, -7.5458791e-03,  7.6980842e-03,\n",
              "        -4.7544480e-04,  1.0932934e-03,  9.4826613e-03,  4.7281599e-03,\n",
              "        -3.5727667e-03,  3.7356198e-03,  3.5192859e-03,  6.3366974e-03,\n",
              "         6.9339272e-05, -4.4236863e-03,  1.3182712e-03, -5.4142345e-03,\n",
              "         1.4117574e-03,  4.9261809e-03,  5.1548481e-03,  9.1816373e-03,\n",
              "        -7.5126649e-03, -5.4036439e-03,  6.4693727e-03,  1.3554788e-03,\n",
              "        -6.6118012e-03,  8.8438985e-04,  2.6770402e-03, -2.5288356e-03,\n",
              "        -4.9601602e-03,  5.0047552e-03,  9.6218213e-03, -7.3646735e-03,\n",
              "        -1.1532188e-04, -2.5644589e-03, -6.3651418e-03, -1.3786554e-03,\n",
              "        -5.2507855e-03,  9.0599954e-03, -5.7907687e-03,  3.6860751e-03],\n",
              "       dtype=float32),\n",
              " array([-2.3737797e-04,  4.2188717e-03,  2.1128200e-03,  9.9930847e-03,\n",
              "         6.2931178e-04, -5.4665632e-03, -1.1808522e-03,  2.0729261e-03,\n",
              "        -3.3718869e-03, -7.8471377e-03, -5.5977087e-03, -6.7517925e-03,\n",
              "         6.3543646e-03,  3.9232504e-03,  8.2148807e-03,  6.5199030e-03,\n",
              "        -6.1279736e-03,  2.7161292e-03,  8.4735528e-03,  1.5944391e-03,\n",
              "         3.0689412e-03,  5.8115134e-03, -8.8386005e-03,  9.1241160e-03,\n",
              "         6.8193269e-03,  8.5082008e-03, -8.2253553e-03,  6.1751176e-03,\n",
              "         6.6297948e-03, -1.3595781e-03, -6.2946379e-03,  5.3268229e-03,\n",
              "        -6.8560913e-03, -5.3235716e-03,  3.5124733e-03,  8.0809435e-03,\n",
              "         8.6935600e-03, -4.4065178e-03, -9.1902344e-03,  9.6079269e-03,\n",
              "         6.2895427e-03, -3.9655175e-03, -8.4612081e-03, -4.7180550e-03,\n",
              "        -3.9585042e-03, -3.2742503e-03,  8.1828091e-04, -2.9590170e-04,\n",
              "        -3.1138626e-03, -5.9954193e-03,  9.4198659e-03, -4.7251307e-03,\n",
              "        -7.2624232e-03,  7.6860744e-03,  2.5200224e-03,  8.6261360e-03,\n",
              "        -4.4630244e-03, -6.8935477e-03,  9.8632160e-04, -1.1718915e-03,\n",
              "        -9.3979063e-03, -1.6048520e-03,  3.0514360e-03,  6.5661389e-03,\n",
              "         6.8430593e-03,  3.2095597e-03, -4.4438820e-03, -1.8396477e-03,\n",
              "        -3.9398959e-03,  5.7742745e-03, -6.3573890e-03,  2.1031825e-03,\n",
              "        -1.3445049e-03, -5.8114901e-03, -7.2448784e-03,  5.8525396e-03,\n",
              "        -8.3564073e-03, -6.8951002e-04,  2.8255775e-03,  7.7390862e-03,\n",
              "        -7.2994684e-03,  3.3064913e-03,  9.8095713e-03, -6.9755432e-03,\n",
              "        -3.5355166e-03,  5.1349546e-03,  5.2389889e-03,  1.6250532e-03,\n",
              "         7.9719499e-03,  8.3316502e-04,  1.8727408e-03, -1.6044189e-03,\n",
              "        -8.1665739e-03,  3.2586951e-03,  1.9666152e-03, -8.7332148e-03,\n",
              "        -6.7645288e-04,  7.5968797e-05, -5.7492316e-06,  8.7100351e-03],\n",
              "       dtype=float32),\n",
              " array([-0.0025059 , -0.00590359,  0.00748347, -0.00725998, -0.00896659,\n",
              "        -0.00178924, -0.00836577,  0.00039025,  0.00194543, -0.00247019,\n",
              "        -0.00644696, -0.00032104, -0.00109656,  0.00349364,  0.0081264 ,\n",
              "         0.00585743,  0.00844373, -0.00896954,  0.00944315, -0.00236901,\n",
              "         0.0086977 ,  0.00238394,  0.00358888, -0.00958221, -0.0094851 ,\n",
              "         0.00898416, -0.00289762,  0.00281721,  0.00641923, -0.00029882,\n",
              "         0.00972277, -0.00103211, -0.00967024, -0.00705649, -0.0010435 ,\n",
              "        -0.00867459,  0.00742109,  0.00361832, -0.00874977,  0.00847851,\n",
              "         0.00892784,  0.0058483 ,  0.00690927, -0.00957105,  0.00049218,\n",
              "        -0.00922169, -0.00366774,  0.0002524 , -0.00028176,  0.00146754,\n",
              "         0.00327611,  0.00212618,  0.00531667,  0.00752064, -0.00588621,\n",
              "         0.00795524,  0.00599017,  0.00978553,  0.0046218 , -0.00332569,\n",
              "        -0.00374672, -0.00063091, -0.00165416,  0.00987365,  0.00112082,\n",
              "         0.00400765,  0.00341644, -0.00885249,  0.00672092,  0.00819028,\n",
              "        -0.00166509,  0.00233492, -0.00647928, -0.00612449,  0.00821637,\n",
              "        -0.00304792,  0.00674124,  0.00155239, -0.00198323,  0.00305608,\n",
              "        -0.00402028, -0.00178575,  0.00137933,  0.00488857, -0.00140783,\n",
              "         0.00065573, -0.00793024,  0.00949566, -0.0087634 ,  0.00706887,\n",
              "         0.00390561, -0.00699644, -0.00529642, -0.00793724, -0.00512987,\n",
              "         0.00707031,  0.00964124,  0.002152  ,  0.00064146,  0.00952403],\n",
              "       dtype=float32),\n",
              " array([-4.9724504e-03, -1.2828012e-03,  3.2757679e-03, -6.4152596e-03,\n",
              "        -9.7002657e-03, -9.2581129e-03,  9.0193292e-03,  5.3709168e-03,\n",
              "        -4.7875633e-03, -8.3259130e-03,  1.2925018e-03,  2.8765185e-03,\n",
              "        -1.2413006e-03,  1.2731388e-03, -4.3219789e-03,  4.7905650e-03,\n",
              "         1.4770943e-03,  8.8762790e-03, -9.9743716e-03, -5.2699964e-03,\n",
              "        -9.1010397e-03, -3.4813568e-04, -7.8571960e-03,  5.0326157e-03,\n",
              "        -6.3954410e-03, -5.9555601e-03,  5.0711296e-03, -8.1576863e-03,\n",
              "         1.4554989e-03, -7.2414968e-03,  9.8631615e-03,  8.6336443e-03,\n",
              "         1.7708926e-03,  5.7869488e-03,  4.5942822e-03, -5.9915790e-03,\n",
              "         9.7578773e-03, -9.6818060e-03,  8.0450298e-03,  2.7567567e-03,\n",
              "        -3.0591341e-03, -3.5573742e-03,  9.0725077e-03, -5.4402021e-03,\n",
              "         8.1863767e-03, -6.0078693e-03,  8.3886106e-03, -5.5459340e-04,\n",
              "         7.9406397e-03, -3.1544287e-03,  5.9774593e-03,  8.8055748e-03,\n",
              "         2.5422701e-03,  1.3173277e-03,  5.0391876e-03,  7.9994947e-03,\n",
              "         8.5679023e-03,  8.4907282e-03,  7.0523052e-03,  8.0020092e-03,\n",
              "         8.6010424e-03, -3.7117148e-05, -1.0017295e-03,  1.6685162e-03,\n",
              "        -2.8285422e-07,  6.8386085e-04, -8.6020222e-03, -9.5944572e-03,\n",
              "        -2.3138556e-03,  8.9298468e-03, -3.6458466e-03, -6.9784056e-03,\n",
              "         4.8800898e-03,  1.0696757e-03,  1.8507044e-03,  3.6514327e-03,\n",
              "         3.5226203e-03,  5.7255467e-03,  1.2313558e-03,  8.4496144e-04,\n",
              "         9.0425601e-03,  2.7802791e-03, -4.7048796e-03,  6.5434268e-03,\n",
              "         5.2112844e-03,  2.8706421e-03, -3.1373845e-03,  3.3375530e-03,\n",
              "         6.3644359e-03,  7.0806430e-03,  9.4145566e-04, -8.5283834e-03,\n",
              "         2.5669840e-04,  3.7031822e-04,  3.9434903e-03, -9.4684102e-03,\n",
              "         9.7045051e-03, -6.9725611e-03,  5.7631931e-03, -9.4284201e-03],\n",
              "       dtype=float32),\n",
              " array([ 0.00964785,  0.00732357,  0.00125731, -0.00340693, -0.0004485 ,\n",
              "         0.00042136, -0.00640887,  0.00574911,  0.00236975,  0.00377556,\n",
              "        -0.00725317,  0.00852551,  0.00050879, -0.00020011, -0.00907183,\n",
              "         0.00404921,  0.00676828,  0.007354  , -0.00641844, -0.00786082,\n",
              "        -0.00552384, -0.00060485, -0.00833309, -0.00824017, -0.00191494,\n",
              "         0.00113802, -0.00950458, -0.00373079,  0.00064333,  0.00681128,\n",
              "         0.00173793, -0.00063264, -0.0074789 , -0.00674713, -0.00069327,\n",
              "         0.00746939,  0.00544307, -0.00148522,  0.00117087, -0.00960483,\n",
              "        -0.00138645, -0.00462789,  0.00580873, -0.00233826, -0.00476046,\n",
              "        -0.00947566, -0.0012006 , -0.00719911, -0.00168589, -0.00406823,\n",
              "        -0.00237427, -0.00324816, -0.00815927, -0.00124763,  0.00169109,\n",
              "        -0.00405034, -0.00764006, -0.00358648, -0.00904883, -0.00075672,\n",
              "         0.00588321, -0.00296487,  0.00316457,  0.00499901,  0.0084651 ,\n",
              "         0.00562272,  0.00950672, -0.00964634, -0.00796576, -0.00675419,\n",
              "        -0.00746465, -0.00796365, -0.00778621, -0.00293986,  0.00139706,\n",
              "        -0.00287866, -0.00881546,  0.00498755,  0.00089957,  0.00458909,\n",
              "         0.00719368,  0.00764682, -0.00080771,  0.00366145, -0.00512423,\n",
              "         0.00191031,  0.00454121,  0.00988771, -0.00318623,  0.00283954,\n",
              "        -0.00573741, -0.00221014,  0.00812636, -0.00390582, -0.00118784,\n",
              "        -0.00928426, -0.00947505,  0.00887796, -0.00570032,  0.00505133],\n",
              "       dtype=float32),\n",
              " array([-6.9653648e-03, -2.4596744e-03, -8.0261510e-03,  7.4968603e-03,\n",
              "         6.1289528e-03,  5.2563222e-03,  8.3773397e-03, -6.9084059e-04,\n",
              "        -9.3135536e-03,  9.1122249e-03, -4.9241232e-03,  7.8465929e-03,\n",
              "         5.5363774e-03, -1.0760544e-03, -7.6622497e-03, -1.4620567e-03,\n",
              "         6.2576216e-03, -6.9666081e-03,  1.4389664e-03, -7.9586208e-03,\n",
              "         8.7217931e-03, -2.8555591e-03,  9.4431061e-03, -5.7083745e-03,\n",
              "        -9.7180791e-03, -8.6281057e-03, -4.0712683e-03,  4.7098892e-03,\n",
              "        -2.4443882e-04,  9.2228651e-03,  3.1101587e-03,  3.7474975e-03,\n",
              "         2.9994391e-03,  8.1443340e-03, -2.3962129e-03,  7.4106199e-03,\n",
              "        -9.5377937e-03,  2.9135696e-03, -6.8559899e-04,  4.5284876e-04,\n",
              "         6.8446300e-03, -2.8464487e-03, -2.3542910e-03, -1.0357462e-04,\n",
              "        -4.9198960e-04, -3.5766906e-03,  6.2459265e-03, -6.5635587e-03,\n",
              "         7.8917379e-03, -9.2868344e-05,  2.6075069e-03,  3.2196788e-03,\n",
              "        -2.8399564e-04,  1.7084004e-03, -3.1399005e-03,  4.7526923e-03,\n",
              "         2.4715823e-04, -3.2786280e-03, -8.7162126e-03, -9.9986177e-03,\n",
              "         3.1567315e-04, -5.7500498e-03, -1.1048238e-03, -4.2025563e-03,\n",
              "        -8.6426968e-03,  1.0659589e-03,  5.9075733e-03, -2.2078026e-03,\n",
              "        -7.1798461e-03,  3.1584562e-03, -3.8118919e-04, -5.5195154e-03,\n",
              "        -1.1003956e-03, -6.3710409e-04, -3.1808675e-03, -9.9568628e-03,\n",
              "         7.6398100e-03,  3.7293301e-03, -2.5343623e-03,  7.3068859e-03,\n",
              "         4.5365171e-04,  7.1715671e-03, -1.5547799e-03,  7.4989041e-03,\n",
              "        -4.1655290e-05, -6.0772751e-03, -4.7121597e-03,  9.6322848e-03,\n",
              "         5.8113562e-04,  1.0297623e-03,  8.4483773e-03, -6.2886691e-03,\n",
              "        -1.7622461e-03, -8.1812451e-03, -6.6723847e-03, -8.5771652e-03,\n",
              "         3.9362703e-03,  2.7349263e-03,  5.6185494e-03,  2.5675406e-03],\n",
              "       dtype=float32),\n",
              " array([ 0.00211352,  0.00573516, -0.00211641,  0.0031723 ,  0.00844376,\n",
              "         0.00038807,  0.00629458, -0.00674357,  0.00657582,  0.00468948,\n",
              "         0.00508035, -0.00991878, -0.00042944,  0.00320611, -0.00582599,\n",
              "        -0.00669379,  0.00636391, -0.00682375, -0.0051825 ,  0.00812184,\n",
              "        -0.0070203 ,  0.00854537,  0.00065462,  0.00440571, -0.00301244,\n",
              "        -0.00542773, -0.00894753, -0.00061247, -0.00510224, -0.00307603,\n",
              "         0.00811145, -0.00764791, -0.00630928, -0.00526368, -0.00660374,\n",
              "        -0.00884062, -0.00111004,  0.00944598,  0.00803654, -0.0052741 ,\n",
              "        -0.00813751, -0.00225739, -0.00926678, -0.00506774, -0.00594781,\n",
              "         0.00302512, -0.00756904,  0.00125059,  0.0022869 ,  0.00531332,\n",
              "        -0.0020204 , -0.00977166,  0.00522167, -0.00590649,  0.00488576,\n",
              "         0.00197475,  0.00881742,  0.00153134, -0.00182746,  0.00648877,\n",
              "        -0.00706992, -0.00838906,  0.00378917, -0.00257695, -0.00418384,\n",
              "        -0.00192488, -0.00987509,  0.00026054, -0.00105665, -0.00297142,\n",
              "         0.00250064,  0.00469339,  0.00634261, -0.00791375, -0.00498899,\n",
              "        -0.00878747, -0.00894904, -0.00373006, -0.00127371, -0.00821263,\n",
              "        -0.00537632, -0.00215177,  0.00634269,  0.00156861,  0.00831469,\n",
              "        -0.00831621, -0.00457587, -0.00080408,  0.00880018,  0.00110635,\n",
              "         0.00153998,  0.00129079,  0.00292262, -0.00939595,  0.0032544 ,\n",
              "         0.00546469,  0.00528633,  0.00443989, -0.00808637, -0.00405978],\n",
              "       dtype=float32),\n",
              " array([ 8.3507895e-03, -5.7697517e-04, -9.4606327e-03,  4.7671865e-03,\n",
              "        -6.0354047e-03,  6.6704303e-03,  5.3707953e-03, -5.0275223e-03,\n",
              "         2.5776268e-03,  5.4041366e-03, -3.5710242e-03, -1.5212648e-03,\n",
              "         9.1783712e-03,  9.0845143e-03, -9.3916198e-03,  7.5756293e-03,\n",
              "         9.9052917e-03, -2.8427511e-03,  2.4653003e-03, -2.8163902e-03,\n",
              "         8.6438619e-03, -2.9053981e-04,  5.6546843e-03,  9.2184693e-03,\n",
              "         4.1153156e-03, -7.1309982e-03, -1.9197658e-03,  9.8435394e-04,\n",
              "         2.0374109e-03,  2.9509766e-03,  9.4556268e-03,  4.4010342e-03,\n",
              "         9.9330302e-03, -8.6744661e-03, -5.7513546e-03,  1.9952639e-03,\n",
              "         3.6596113e-03, -1.0067119e-03, -6.9334363e-03, -3.2044763e-03,\n",
              "        -8.5399766e-03,  9.4198491e-03,  3.7200393e-03, -7.8810249e-03,\n",
              "         3.1976143e-03,  4.1742097e-03, -5.6417426e-03, -5.9122122e-03,\n",
              "         1.0251631e-03,  8.9655733e-03, -9.6474616e-03,  4.9701516e-06,\n",
              "        -6.8789083e-03, -9.2939363e-04,  3.0480360e-03, -5.0384318e-03,\n",
              "        -2.7694080e-03,  6.6882838e-04, -6.3593085e-03,  7.2872303e-03,\n",
              "         4.3736291e-03, -8.5763782e-03, -2.1335841e-03,  3.1847965e-03,\n",
              "        -8.3490824e-03, -7.0671425e-03, -8.4645925e-03, -5.4999450e-03,\n",
              "         8.8536199e-03,  7.0845340e-03,  2.9066466e-03, -8.5642254e-03,\n",
              "         5.7533626e-03,  4.6527842e-03,  1.1946213e-04, -8.8628028e-03,\n",
              "        -1.8806141e-03,  1.8788058e-04, -7.7748420e-03,  2.4720861e-03,\n",
              "         4.7338192e-04, -7.0574358e-03, -8.2732048e-03,  6.0485541e-03,\n",
              "        -8.3476445e-03, -5.5704312e-03,  5.5951076e-03, -4.8009076e-04,\n",
              "        -3.0501741e-03, -5.1930980e-03, -1.1953753e-03,  5.2788346e-03,\n",
              "        -5.9521417e-03, -4.9783303e-03, -4.9464428e-03, -4.7505144e-03,\n",
              "        -7.9843346e-03, -9.7759096e-03,  7.5861407e-03,  7.9949116e-03],\n",
              "       dtype=float32),\n",
              " array([-4.2838994e-03, -9.3262633e-03, -1.8807160e-03, -3.7149831e-03,\n",
              "         9.1082044e-03,  2.9352529e-03, -5.9808372e-03, -3.3491505e-03,\n",
              "        -9.8958537e-03,  1.9371307e-03, -3.9801355e-03, -2.7059806e-03,\n",
              "         5.1799393e-03,  7.6044002e-03,  4.3909093e-03, -6.8186289e-03,\n",
              "         6.7074853e-03, -9.6384399e-03, -6.9872169e-03, -8.0104144e-03,\n",
              "        -2.2646943e-03,  4.7904006e-04, -3.7625828e-03,  1.8464532e-03,\n",
              "         9.2101609e-03,  6.6767791e-03, -1.0521564e-03,  9.1054887e-03,\n",
              "         1.5566995e-03, -1.9719498e-03, -6.5949503e-03,  6.4685657e-03,\n",
              "        -9.0648700e-03, -1.9052284e-03,  7.6957759e-03, -2.5818686e-03,\n",
              "         1.6099703e-03, -7.3526138e-03,  4.9685682e-03,  7.3822821e-03,\n",
              "        -9.3144309e-03, -3.2740133e-03,  7.8919036e-03,  2.9329688e-03,\n",
              "         1.9500798e-05,  3.4281713e-04, -9.8666372e-03,  9.9389507e-03,\n",
              "        -2.0059769e-03, -4.8846626e-03,  2.7499516e-03,  1.0265370e-03,\n",
              "        -5.9397300e-03,  5.7909857e-03, -2.5031178e-03, -6.1832219e-03,\n",
              "         7.2407690e-03,  6.4683729e-03,  8.8209826e-03,  1.1663715e-03,\n",
              "         5.0751650e-04, -7.9345647e-03,  4.6566161e-03,  9.3701882e-03,\n",
              "        -6.8478251e-04, -1.7649609e-03, -3.8135892e-03, -4.8756725e-04,\n",
              "        -7.6227174e-03,  5.6931614e-03,  1.5001838e-03,  9.2896866e-03,\n",
              "        -6.4200014e-03, -5.0847824e-03, -6.2369253e-03, -7.2882958e-03,\n",
              "         2.7562105e-03,  4.8957476e-03,  1.3349970e-03,  3.5388288e-03,\n",
              "        -9.3944650e-03, -1.0677129e-03, -7.7478332e-03,  2.9557918e-03,\n",
              "        -2.6844973e-03,  8.8883936e-03, -3.4292426e-03,  6.8425531e-03,\n",
              "         4.1148504e-03,  1.3625721e-03, -4.0801475e-05,  8.1765745e-03,\n",
              "         2.3607719e-03,  8.2561010e-03,  3.3370664e-03,  5.4249740e-03,\n",
              "         5.1074000e-03, -7.6355725e-03, -5.7873139e-03,  1.2289627e-03],\n",
              "       dtype=float32),\n",
              " array([ 1.9336793e-04,  2.1482464e-03,  1.0673293e-03,  7.5820787e-03,\n",
              "        -4.4212183e-03,  3.2142026e-04,  7.0039444e-03,  2.2573629e-03,\n",
              "         4.2423764e-03,  4.2975461e-03, -1.2595901e-03, -8.3230231e-03,\n",
              "         3.0485110e-03, -8.8737123e-03, -2.6553450e-03, -9.3966154e-03,\n",
              "        -4.5774537e-04, -7.8667449e-03,  7.4081211e-03, -4.8945500e-03,\n",
              "         9.9203661e-03, -9.0287533e-03, -4.3086251e-03,  1.9305905e-03,\n",
              "        -2.9990908e-03,  1.4488060e-03, -3.6774736e-03, -8.9074008e-04,\n",
              "        -5.7291971e-03, -9.8196231e-03,  6.3339975e-03,  3.8120401e-04,\n",
              "         6.5098838e-03, -7.4751289e-03,  3.6647627e-03, -9.8934462e-03,\n",
              "         7.6132431e-03,  5.9205093e-03, -6.1195078e-03,  8.2162479e-03,\n",
              "        -5.5799917e-03, -8.5557848e-03,  1.5038466e-03,  3.1779346e-03,\n",
              "        -8.0947615e-03, -8.9356881e-03,  9.1715911e-03,  1.6420448e-03,\n",
              "         8.7517773e-04,  2.4794789e-03, -3.5096516e-03,  1.7326464e-03,\n",
              "         1.9540528e-03,  9.8036705e-03, -5.6071319e-03,  2.2674210e-03,\n",
              "         6.3101752e-03, -6.6724857e-03, -8.9328634e-03,  8.6563798e-03,\n",
              "         6.8393201e-03, -4.0202094e-03,  5.7456554e-03,  7.8961719e-04,\n",
              "        -5.0126766e-03, -1.3478573e-03, -4.9009095e-03,  6.1371201e-03,\n",
              "         1.9528376e-03, -8.3154105e-03, -1.4171135e-04, -2.6428315e-03,\n",
              "         6.6081067e-03, -1.1457969e-03,  7.6669180e-03,  1.9519649e-03,\n",
              "        -3.8288068e-03,  8.1617134e-03,  2.9459929e-03, -3.9694412e-03,\n",
              "        -5.5994783e-03, -3.0872896e-03, -5.1388503e-03,  3.4459124e-03,\n",
              "        -9.2837419e-03, -5.8194413e-03,  3.3408466e-03,  2.0341694e-04,\n",
              "         5.9943073e-03, -3.6041173e-03, -5.0528693e-06,  2.4748873e-03,\n",
              "         5.4653701e-03,  1.6100897e-03,  9.8166447e-03,  3.7191629e-03,\n",
              "        -7.1750423e-03, -1.4098042e-03, -8.3667915e-03, -5.3323144e-03],\n",
              "       dtype=float32),\n",
              " array([-0.00219651, -0.00970861,  0.00929218,  0.00203043, -0.00115944,\n",
              "        -0.00550517, -0.00850974, -0.00990005,  0.00894392, -0.00250105,\n",
              "         0.00459422, -0.00451836,  0.00995964,  0.0036576 ,  0.00102559,\n",
              "        -0.00404457,  0.00121331, -0.00264743,  0.00734909,  0.0044747 ,\n",
              "         0.0009872 ,  0.00348241,  0.00371731, -0.00678581,  0.00893237,\n",
              "         0.00173407, -0.00578499,  0.00865716, -0.00129288,  0.00818668,\n",
              "        -0.00150558,  0.00698781,  0.00272856, -0.00436284, -0.00374798,\n",
              "         0.00919367,  0.00159138, -0.00601013,  0.00034846, -0.00196261,\n",
              "         0.00158413, -0.00771839,  0.0073847 ,  0.00131042,  0.00787784,\n",
              "         0.00445289, -0.00439439,  0.00375162, -0.00063886, -0.00985501,\n",
              "         0.00824154,  0.00964878,  0.0096514 , -0.00379916, -0.00844858,\n",
              "         0.00482582, -0.00765274,  0.00853266,  0.00275946,  0.00560413,\n",
              "         0.0061175 ,  0.00046248, -0.00209242,  0.00077475,  0.00983336,\n",
              "        -0.00712302, -0.00155429, -0.00235761,  0.00486264,  0.00645246,\n",
              "        -0.00412914,  0.00362364, -0.00447889,  0.00327248,  0.00816967,\n",
              "         0.00362528, -0.00457153, -0.00300882,  0.00786394,  0.0096034 ,\n",
              "         0.00581592, -0.00327454, -0.00182832, -0.00625529, -0.0042949 ,\n",
              "         0.00337429, -0.00648541, -0.00661438,  0.00811228,  0.00950672,\n",
              "         0.00813962,  0.00151091, -0.00879496, -0.00759774,  0.00157314,\n",
              "        -0.00952579, -0.00740976,  0.00202047, -0.00291888, -0.00915845],\n",
              "       dtype=float32),\n",
              " array([ 6.4109182e-03, -8.9544496e-03, -7.3476946e-03, -1.7494764e-03,\n",
              "         1.7032336e-03, -1.0345355e-03, -5.2053975e-03,  6.5834406e-03,\n",
              "         8.7828180e-03, -7.4182348e-03,  9.8112216e-03,  7.3617906e-03,\n",
              "        -7.4601122e-03, -1.8991431e-03,  4.2570857e-03,  7.0674527e-03,\n",
              "        -3.6593452e-03, -6.9738920e-03,  4.7224397e-03, -9.0491520e-03,\n",
              "        -5.8527389e-03, -1.2864545e-03,  5.4891137e-03, -5.6928075e-03,\n",
              "         4.7873608e-03, -4.3223440e-04,  2.6656687e-03,  6.4092823e-03,\n",
              "         1.4201200e-03,  7.7120918e-03, -3.1894966e-04, -8.2649728e-03,\n",
              "         9.1828415e-03, -4.8616962e-03,  4.7261254e-03, -3.9041797e-03,\n",
              "        -7.3270812e-03, -6.5174536e-03,  4.6790573e-03, -6.5362803e-04,\n",
              "         1.4643635e-03, -8.9341253e-03, -5.1513785e-03, -6.0556270e-03,\n",
              "         8.4196664e-03, -8.7003093e-03,  5.0301189e-03, -8.6483505e-04,\n",
              "         1.8903038e-04,  8.8023664e-03, -3.5831062e-03, -6.9447071e-03,\n",
              "         7.6272740e-04,  7.7476623e-03,  9.1243945e-03, -3.6861373e-03,\n",
              "         2.7387016e-03,  4.9503404e-03, -5.2907248e-03,  6.8588625e-03,\n",
              "        -6.4582443e-03,  2.1002945e-03,  4.5933817e-03,  4.3879370e-03,\n",
              "        -4.6717022e-03,  2.6443023e-03,  7.3136115e-03,  8.6169858e-03,\n",
              "        -9.5153265e-03,  5.5788029e-03,  4.9690744e-03, -1.6001682e-03,\n",
              "         9.1977306e-03, -4.1751936e-03, -1.7557603e-03, -6.8703205e-03,\n",
              "        -3.7802849e-03,  2.4344344e-04, -3.2763162e-03, -5.4191388e-03,\n",
              "         6.5644574e-03, -5.3051934e-03, -6.3237478e-03,  7.6459544e-03,\n",
              "         9.6553368e-03,  3.9963750e-03,  2.9529911e-05,  7.8981125e-04,\n",
              "        -9.5890189e-04,  6.8630651e-03, -6.2572821e-03,  5.1224581e-04,\n",
              "         4.2930222e-03, -2.1120803e-03,  9.0220245e-04,  3.7159054e-03,\n",
              "         9.7204447e-03,  2.1744333e-03,  9.5031606e-03, -5.8310954e-03],\n",
              "       dtype=float32),\n",
              " array([ 0.00480103, -0.00363004, -0.00427003,  0.00121738, -0.0041251 ,\n",
              "        -0.00562983,  0.0031448 ,  0.00834159, -0.00654269, -0.00911672,\n",
              "        -0.00332608,  0.0075278 , -0.00968892,  0.00959986, -0.00041881,\n",
              "         0.00230918, -0.00184505, -0.00576076,  0.00310033,  0.00618995,\n",
              "        -0.00705622, -0.00117757,  0.00156352,  0.00424688,  0.00714237,\n",
              "        -0.00355068,  0.00727759, -0.00556809, -0.00219311,  0.00908247,\n",
              "         0.00538539, -0.00848465, -0.00165182, -0.00884035, -0.0016408 ,\n",
              "         0.00565329, -0.00741576,  0.00550466,  0.00608617, -0.00376986,\n",
              "        -0.00965815, -0.00251585, -0.00255544,  0.00375727,  0.00892443,\n",
              "         0.00199432, -0.00211244,  0.00297138, -0.00680644, -0.00129059,\n",
              "        -0.00148203,  0.00960584, -0.00581283, -0.00703837,  0.00236139,\n",
              "         0.00263445, -0.00714255, -0.00587917, -0.00118283, -0.00329885,\n",
              "        -0.00897686, -0.00405161, -0.00296111,  0.00650512,  0.00096992,\n",
              "         0.00159909,  0.00027769, -0.00338202,  0.00310255,  0.00070986,\n",
              "         0.00598671, -0.00077843, -0.00889812,  0.00088728,  0.00992217,\n",
              "        -0.00525601, -0.00521347, -0.0025193 ,  0.00857859, -0.00083404,\n",
              "         0.00941665, -0.00833425,  0.00901691, -0.00971017,  0.0092005 ,\n",
              "         0.00187422,  0.00266474, -0.0058592 ,  0.00844005,  0.00604382,\n",
              "        -0.00548899, -0.0094962 ,  0.00696586, -0.0055345 , -0.0093152 ,\n",
              "         0.00259888, -0.00497789, -0.00736456,  0.00973312, -0.00158707],\n",
              "       dtype=float32),\n",
              " array([-1.5099288e-03, -4.0341574e-03, -4.3998579e-03, -4.6321307e-03,\n",
              "        -5.5934545e-03, -5.3027878e-03, -8.0224779e-03,  9.5178690e-03,\n",
              "         6.3994401e-03, -3.6073197e-03,  2.4780666e-03, -7.6435301e-03,\n",
              "         7.5254589e-03,  8.3085243e-03,  7.8808155e-04, -6.8342360e-03,\n",
              "        -2.9568139e-03,  4.7360049e-03, -2.9397602e-03,  3.1726002e-03,\n",
              "         9.4073862e-03,  4.3539987e-03, -5.1481049e-03,  5.4629408e-03,\n",
              "        -2.8756331e-03, -6.3958564e-03,  7.0091207e-03, -9.2540327e-03,\n",
              "        -1.1329290e-03, -1.3871373e-03, -8.4155397e-03, -1.0998154e-03,\n",
              "         5.5974647e-03, -5.2691349e-03, -7.0289164e-03,  6.2007997e-03,\n",
              "        -3.4296690e-03, -7.8188302e-03,  2.9278325e-04, -5.3726166e-05,\n",
              "         7.5409622e-03,  5.6866294e-04,  7.8832433e-03, -9.8154787e-03,\n",
              "         4.0306458e-03,  6.2161647e-03,  1.0282901e-03, -2.8371292e-03,\n",
              "         1.0271869e-03, -8.3753426e-04, -8.1080394e-03, -6.7836116e-03,\n",
              "         1.2007758e-03, -2.0161390e-03,  9.5479097e-03, -9.5068931e-04,\n",
              "         6.1209607e-03,  2.0429874e-03,  8.0960067e-03, -9.2888298e-03,\n",
              "         2.3959076e-03, -1.4533185e-03,  2.1551680e-03, -2.1909444e-04,\n",
              "        -6.6429786e-03,  9.0504913e-03, -2.8470096e-03,  1.9105325e-03,\n",
              "        -6.4441334e-03,  3.7175284e-03,  9.9979844e-03, -1.1960297e-03,\n",
              "         6.5808413e-03, -1.2311302e-04,  7.9294387e-03,  9.6486844e-03,\n",
              "        -3.8809012e-04, -1.6996131e-03, -9.5225181e-03,  9.8727420e-03,\n",
              "        -2.5303657e-03,  2.1907585e-03, -1.7037661e-03,  8.3260313e-03,\n",
              "         8.3447555e-03,  1.5375168e-03,  2.8832785e-03,  6.4362125e-03,\n",
              "         2.2466504e-03,  6.4469324e-03,  1.5072028e-04, -2.2853096e-03,\n",
              "         5.3069727e-03, -3.4150486e-03, -2.6203746e-03,  8.7916609e-03,\n",
              "        -9.1559980e-03, -3.4163699e-03, -2.9220595e-03,  5.6670601e-03],\n",
              "       dtype=float32),\n",
              " array([ 0.0079435 , -0.00645161,  0.00579453, -0.00021767, -0.00903186,\n",
              "        -0.00244267, -0.00158433, -0.00448082, -0.00079378, -0.00523843,\n",
              "         0.00594059,  0.00930338, -0.00158767,  0.00337674, -0.00074802,\n",
              "        -0.00069963, -0.00701056,  0.0014569 ,  0.00390269,  0.00691007,\n",
              "         0.00653884,  0.0035366 ,  0.00466167, -0.00743211, -0.0013865 ,\n",
              "        -0.00578264,  0.00680105,  0.00782664, -0.00427402,  0.00115366,\n",
              "         0.0051094 ,  0.00180948,  0.00078592, -0.00674016,  0.00983268,\n",
              "        -0.0072597 , -0.00603375, -0.00566608, -0.00634796, -0.00349106,\n",
              "        -0.0094003 ,  0.00117813, -0.00375023, -0.00255129,  0.00578494,\n",
              "         0.00355048,  0.00182092, -0.00137405,  0.00987748,  0.00028656,\n",
              "         0.00501546,  0.00903775, -0.00976658, -0.00915537,  0.00992283,\n",
              "         0.00273679, -0.00188558,  0.00472406, -0.0043154 , -0.00639764,\n",
              "        -0.00825741,  0.00721012, -0.00244937, -0.00754317, -0.00591039,\n",
              "         0.00617552, -0.00247969, -0.00614579, -0.00161798, -0.00147355,\n",
              "        -0.00325484, -0.00208924,  0.00410573,  0.0014466 , -0.00349034,\n",
              "         0.00269237,  0.00522894, -0.00919081, -0.00755834,  0.00629637,\n",
              "        -0.0089381 ,  0.00052822, -0.00899382,  0.00836983, -0.00429354,\n",
              "        -0.0066205 , -0.00138377, -0.00111367,  0.00753303,  0.00910952,\n",
              "        -0.00035077,  0.00269358,  0.0047372 ,  0.00014275, -0.00578   ,\n",
              "        -0.00059442,  0.00218297,  0.00830171, -0.00359233, -0.00984555],\n",
              "       dtype=float32),\n",
              " array([ 5.3829267e-03,  9.8106898e-03, -7.0547746e-03, -5.8250665e-04,\n",
              "        -5.0645340e-03,  6.4350259e-03,  9.6573029e-03, -3.3306240e-04,\n",
              "         5.1404452e-03,  6.5386808e-03,  4.4090427e-03, -8.0312332e-03,\n",
              "         3.1026434e-03, -1.4863861e-03, -2.1610796e-03,  5.4020835e-03,\n",
              "        -1.3170600e-03,  9.9274693e-03, -6.3917873e-04,  2.6362896e-04,\n",
              "        -2.2936391e-03, -8.5134944e-03, -9.8111508e-03,  4.9507655e-03,\n",
              "        -6.6208350e-03,  2.9654969e-03,  2.7743829e-03, -7.0067821e-03,\n",
              "        -3.1360174e-03, -5.8075618e-03, -8.5645560e-03,  3.8166047e-05,\n",
              "         9.7870557e-03, -6.6758823e-03, -4.3618535e-03,  8.3303275e-03,\n",
              "         9.2985127e-03,  9.8154061e-03, -9.8923175e-03,  5.0479542e-03,\n",
              "        -6.6420911e-03,  6.8798447e-03,  6.1408984e-03, -3.3756078e-03,\n",
              "         6.8841362e-03, -7.8663919e-03,  4.5495653e-03,  4.5803715e-03,\n",
              "         5.9232819e-03,  5.8795023e-03, -2.6633476e-03,  3.8956022e-03,\n",
              "        -6.1085271e-03, -6.4589716e-03,  2.7430165e-03, -9.4661880e-03,\n",
              "        -2.9909133e-04,  1.0911369e-03,  8.0044614e-03, -7.0015872e-03,\n",
              "        -2.3229539e-03, -4.1061365e-03, -5.2279388e-03, -4.7188759e-04,\n",
              "         4.6112146e-03, -4.9819136e-03, -1.6456568e-03,  8.6563788e-03,\n",
              "        -1.3084364e-03, -3.5718156e-03,  7.4316356e-03,  1.2192046e-03,\n",
              "        -3.4047366e-04,  9.4597749e-03,  8.1256069e-03,  3.4178542e-03,\n",
              "         3.3582544e-03, -2.2847129e-03,  8.0945203e-03,  5.0608860e-03,\n",
              "        -5.4257442e-03, -6.1291386e-03, -5.9935212e-04, -7.9204561e-03,\n",
              "         3.3667099e-03, -9.2244186e-03, -1.5445673e-03,  3.3561743e-03,\n",
              "         3.0458248e-03,  3.1597614e-03, -9.0636667e-03,  3.4191823e-03,\n",
              "         5.3463373e-03,  3.4679305e-03,  7.7929161e-03,  1.6555488e-03,\n",
              "         6.2702191e-03,  8.8351145e-03, -9.4265700e-04, -8.0324174e-04],\n",
              "       dtype=float32),\n",
              " array([ 2.22580880e-03, -7.53117166e-03,  5.62784914e-03, -4.99447389e-03,\n",
              "        -3.27078020e-03, -1.83266320e-03,  8.22441000e-03,  2.24999362e-03,\n",
              "        -9.11307754e-04, -2.85187108e-03, -2.10816925e-03, -1.28227635e-03,\n",
              "        -5.08545805e-03, -4.12580138e-03,  1.88190927e-04,  4.55658510e-03,\n",
              "         1.80433353e-03,  6.90093962e-03,  6.31673494e-04, -3.22888372e-03,\n",
              "        -7.37409340e-03,  6.00807648e-03,  6.97774114e-03, -6.05483679e-03,\n",
              "         4.68499027e-03,  9.50061809e-03, -6.37763320e-03, -2.87462212e-03,\n",
              "        -9.09363944e-03,  3.23242601e-03, -3.43519612e-03,  2.04236968e-03,\n",
              "         9.43647884e-03, -8.36456474e-03, -9.31451004e-03,  1.71857828e-03,\n",
              "        -8.03219248e-03, -9.07016266e-03, -9.35510918e-03, -2.87837378e-04,\n",
              "        -1.10273296e-03,  7.41601049e-04, -1.33704208e-03,  9.03655123e-03,\n",
              "         8.79939087e-03, -6.35556644e-03,  8.69630929e-03, -9.03208740e-03,\n",
              "        -1.33628619e-03,  2.54201284e-03, -1.10188514e-04, -3.79950856e-03,\n",
              "         4.63821751e-04,  9.99578740e-04, -9.41233151e-03, -4.89298860e-03,\n",
              "        -7.71130621e-03,  3.81038035e-03, -8.89407704e-04, -7.48166582e-03,\n",
              "         5.63629437e-03,  2.37072672e-04,  2.70033092e-03,  5.43251215e-03,\n",
              "        -4.22932068e-03,  7.84378499e-03, -7.85955600e-03, -3.43845948e-03,\n",
              "        -7.37102982e-03,  9.75324074e-04, -7.38821737e-03,  9.06033348e-03,\n",
              "         5.53639000e-03, -7.22849416e-03,  6.17374387e-03,  6.59736292e-03,\n",
              "        -7.41739944e-03,  4.66200244e-03, -7.72147672e-03,  9.31718946e-03,\n",
              "         4.69265832e-03, -2.34920401e-04, -8.94434005e-03, -8.94537254e-04,\n",
              "        -2.68934469e-04,  9.02765605e-04,  8.66969209e-03, -2.77747214e-03,\n",
              "        -8.68268497e-03, -8.83629452e-03, -1.06396899e-03,  1.36914512e-03,\n",
              "         9.02145039e-05, -2.20726221e-03,  8.55266489e-03,  1.06260180e-04,\n",
              "         6.42402004e-03,  3.98378260e-03, -7.19793700e-03, -2.12498638e-03],\n",
              "       dtype=float32),\n",
              " array([-0.00777766, -0.00675619, -0.0031544 ,  0.00661547, -0.00083221,\n",
              "         0.00888428, -0.00229047, -0.0053035 ,  0.00391523,  0.00221565,\n",
              "        -0.00027925, -0.00245227, -0.0060026 ,  0.00403782, -0.00761064,\n",
              "        -0.00890661, -0.00915912,  0.00838826,  0.00399856,  0.00709118,\n",
              "         0.00988971, -0.00722604,  0.00403059,  0.00282088,  0.00615438,\n",
              "        -0.00338736,  0.00933126, -0.00579834,  0.00703113,  0.00695037,\n",
              "        -0.00039007,  0.00505899,  0.00664353,  0.00154231,  0.00736863,\n",
              "         0.00240912, -0.00152006,  0.00739448,  0.00468711, -0.00317154,\n",
              "         0.00164643, -0.00014011,  0.00496379, -0.00541256, -0.00418272,\n",
              "        -0.00093735,  0.00382268, -0.00658236,  0.00784631, -0.00308767,\n",
              "         0.00574082,  0.00286368,  0.00682194, -0.00446777, -0.00320394,\n",
              "         0.00305671, -0.00277445,  0.00594346, -0.00595506,  0.00259149,\n",
              "        -0.00072221, -0.00061413,  0.00253968, -0.00218497, -0.00425771,\n",
              "        -0.00855297,  0.00248819,  0.00532571, -0.00586842,  0.00910953,\n",
              "         0.00403704, -0.00517629, -0.00131228,  0.003928  , -0.00700618,\n",
              "         0.0020536 ,  0.00550631,  0.00625655,  0.00542639,  0.0036588 ,\n",
              "        -0.00275254, -0.00607882,  0.00815872, -0.0073019 , -0.00161984,\n",
              "        -0.00326481,  0.00648944, -0.00627771,  0.00339466,  0.00204601,\n",
              "        -0.00407948, -0.00824303, -0.0080369 ,  0.00350446, -0.00956041,\n",
              "         0.00570662, -0.00291045, -0.00917406, -0.00513617,  0.00774307],\n",
              "       dtype=float32),\n",
              " array([-0.00172147,  0.00640695, -0.00927878, -0.00914791, -0.00520169,\n",
              "         0.00094821, -0.0071729 , -0.00943917, -0.00888741, -0.00047026,\n",
              "         0.00741837, -0.00837806, -0.0053293 ,  0.00152001,  0.00332232,\n",
              "        -0.00845773,  0.00787334, -0.00821181,  0.00473003,  0.00940766,\n",
              "         0.00565592,  0.00617183,  0.00823732,  0.00345134, -0.00714616,\n",
              "         0.00574442, -0.00830777, -0.0057229 ,  0.00590298, -0.00792904,\n",
              "        -0.00586632, -0.00355861,  0.00339244,  0.00521576,  0.00205457,\n",
              "         0.00510795, -0.00262541,  0.00434731, -0.00704941, -0.00165883,\n",
              "        -0.00774352,  0.00017229,  0.00469995,  0.00479743, -0.00464724,\n",
              "         0.00174888,  0.00781279, -0.00557513, -0.00378619, -0.00059784,\n",
              "        -0.00471906,  0.00869704,  0.00754043,  0.00921757,  0.0093616 ,\n",
              "        -0.00844971, -0.00047811, -0.00760583, -0.00480952, -0.00883801,\n",
              "         0.00341816,  0.00010375, -0.00691031,  0.00796767,  0.0009489 ,\n",
              "         0.00030343, -0.00356793, -0.0033441 , -0.00264902,  0.00762438,\n",
              "         0.00239986, -0.00517277,  0.004735  ,  0.00099491, -0.00273362,\n",
              "         0.00770983, -0.00394236,  0.00743392, -0.00421749, -0.00735877,\n",
              "        -0.00449559, -0.00389885, -0.00070848, -0.00184098,  0.00511547,\n",
              "         0.00544961, -0.00173598,  0.00373608, -0.00202297,  0.00073765,\n",
              "        -0.00136727, -0.00246593, -0.00471514, -0.00426206,  0.00013065,\n",
              "         0.00164926, -0.00944352,  0.00606991, -0.0016746 , -0.00298082],\n",
              "       dtype=float32),\n",
              " array([-4.7940742e-03, -4.3165493e-03, -4.8005986e-03, -9.8039713e-03,\n",
              "        -7.7741384e-04, -7.7923872e-03, -4.8120250e-03, -7.3749805e-03,\n",
              "         9.9356826e-03, -1.3558948e-03, -7.7542425e-03,  5.5166902e-03,\n",
              "        -8.0663553e-03, -1.9122851e-03,  2.7354658e-03, -7.0791459e-03,\n",
              "        -8.7335268e-03, -6.6415728e-03,  7.4683428e-03,  9.0576969e-03,\n",
              "         3.9914977e-03,  2.4036837e-03,  4.1378508e-03, -4.0704296e-03,\n",
              "         9.7580375e-03,  6.8893204e-03,  4.1137338e-03,  8.9488886e-03,\n",
              "        -8.3937636e-03,  9.3408703e-04,  8.8922093e-03, -9.3913556e-04,\n",
              "        -6.7378758e-03, -2.2687817e-03, -2.7884161e-03, -2.4982262e-03,\n",
              "        -1.8441832e-03,  7.2826683e-03, -3.0046940e-04,  4.2423378e-03,\n",
              "        -3.7515305e-03,  8.2323737e-03, -6.5021561e-03, -9.3382774e-03,\n",
              "        -4.1394867e-03, -7.3657990e-03, -4.8766150e-03,  4.9479725e-04,\n",
              "         2.3848522e-03,  1.7398680e-03,  5.0075795e-03, -1.3956451e-03,\n",
              "         2.2821999e-03,  3.5144330e-04,  7.8454027e-03,  8.0267880e-03,\n",
              "        -1.9734919e-03,  1.2574327e-03, -6.0319114e-03, -4.7585871e-03,\n",
              "        -6.9708242e-03, -3.1685829e-06, -4.9146996e-03, -4.0462972e-03,\n",
              "         1.5047038e-03,  2.6100075e-03, -9.1182115e-03,  1.7474103e-03,\n",
              "         5.1302100e-03,  4.1605639e-03, -2.9069602e-03,  9.4805993e-03,\n",
              "         9.4492761e-03, -2.7168990e-05,  8.5529685e-04, -9.2482707e-03,\n",
              "        -4.8049106e-03, -1.0150075e-04,  4.0434911e-03,  1.5845298e-04,\n",
              "        -8.7246373e-03,  5.8148708e-03, -7.4150776e-03,  8.5537788e-03,\n",
              "         5.5163861e-03, -6.7754458e-03,  2.8424871e-03,  7.7182818e-03,\n",
              "        -6.1090374e-03, -6.5469132e-03,  9.1990363e-03,  1.8047917e-03,\n",
              "         9.7104488e-03, -9.9066366e-03, -1.5014100e-03,  6.8998290e-03,\n",
              "        -1.4631819e-03, -1.7565764e-03, -7.0790136e-03, -5.6657698e-03],\n",
              "       dtype=float32),\n",
              " array([-6.5152268e-03,  8.9220498e-03, -1.5861295e-03, -8.2856100e-03,\n",
              "         8.0138752e-03, -2.9660258e-03, -1.3271060e-03, -6.6949072e-04,\n",
              "         2.8270537e-03, -4.7221021e-03, -2.5253001e-04, -2.8438165e-03,\n",
              "         8.7809404e-03,  6.8842755e-03,  1.0978024e-03, -6.0667866e-03,\n",
              "         3.1406682e-03,  1.1389747e-03, -6.1291610e-03, -5.7574818e-03,\n",
              "        -3.0941488e-03,  2.3888201e-03, -8.1103528e-03, -4.9895616e-03,\n",
              "         8.0946628e-03, -3.6965432e-03,  7.9615219e-03,  5.3608406e-04,\n",
              "        -5.5367751e-03, -4.9655093e-03, -2.1423119e-04,  4.5959684e-03,\n",
              "        -6.0796267e-03, -5.5118962e-03, -6.8142912e-03,  6.7485166e-03,\n",
              "        -2.4027838e-03,  4.0066475e-03, -1.6336974e-03, -7.4140630e-03,\n",
              "        -1.2668570e-03,  4.0506577e-04,  3.5942935e-03, -8.6813187e-03,\n",
              "        -6.7976923e-03, -6.5529537e-03,  2.9854274e-03, -3.7438341e-03,\n",
              "         1.0182644e-03,  4.1567883e-03,  4.5147315e-03,  2.3642909e-03,\n",
              "        -2.8770275e-03,  6.3501176e-04, -5.3921142e-03, -6.3526058e-03,\n",
              "         8.7177940e-03, -4.0482907e-03, -9.3163755e-03,  3.7313688e-03,\n",
              "         8.4595094e-03, -1.9452539e-04,  2.2681793e-03, -3.5407436e-03,\n",
              "        -4.1946159e-03, -8.6131385e-03, -7.8612342e-03, -9.0777548e-03,\n",
              "        -5.9765717e-03,  8.4871966e-03,  9.4409678e-03, -1.6795362e-03,\n",
              "         1.8310773e-05,  7.8540621e-03,  1.2668620e-03, -5.1493682e-03,\n",
              "         2.6363032e-03,  1.8058605e-03, -3.7312200e-03, -4.8885685e-03,\n",
              "         9.6408967e-03,  7.6480722e-03, -8.5777221e-03, -5.5183740e-03,\n",
              "         1.4233281e-03,  9.1418973e-04, -8.3419867e-03,  9.3325693e-03,\n",
              "        -5.3786635e-03,  4.6023116e-03,  9.2302384e-03,  1.0877238e-03,\n",
              "         4.2166593e-03, -2.7143725e-03, -9.6810460e-03,  5.9851666e-04,\n",
              "        -1.0835057e-03, -9.9290274e-03,  7.0077749e-03, -7.3880651e-03],\n",
              "       dtype=float32),\n",
              " array([ 5.1164068e-03, -4.4163195e-03, -9.1948546e-03, -9.0674339e-03,\n",
              "         6.2398850e-03, -5.2417777e-03,  5.2548815e-03, -1.5694943e-03,\n",
              "         9.7012203e-03,  7.1591767e-03,  9.8960735e-03,  8.3775315e-03,\n",
              "        -7.8620529e-03, -9.5825410e-03, -5.5695404e-03, -8.0080389e-04,\n",
              "         5.0134780e-03,  3.6710682e-03, -2.0270904e-03,  5.0402451e-03,\n",
              "        -3.3994140e-03, -6.8163527e-03,  4.7161910e-03, -9.8551959e-03,\n",
              "         8.9032849e-04, -5.0165216e-03,  7.5968858e-03, -3.7118862e-03,\n",
              "         2.8162457e-03, -6.2632328e-03,  9.6174972e-03, -5.5881413e-03,\n",
              "         3.5741641e-03,  3.2371739e-03,  8.9343535e-03, -5.5646459e-03,\n",
              "        -4.3673590e-03, -6.2289936e-03,  6.1436640e-03, -4.5775524e-03,\n",
              "         4.8092203e-03, -8.8974996e-04,  7.2711552e-03, -6.0360562e-03,\n",
              "        -9.5929514e-05, -8.7388682e-05, -8.5446341e-03,  8.7432489e-03,\n",
              "        -2.1071739e-03,  6.4337477e-03,  9.5270232e-05,  5.0277011e-03,\n",
              "         2.2097223e-03,  8.8493731e-03, -8.3279992e-03,  8.4319403e-03,\n",
              "         8.6563118e-03,  1.0606328e-03,  4.4273683e-03,  3.8365885e-03,\n",
              "         4.0554944e-03, -2.9517536e-03,  2.8519458e-03,  7.7048625e-04,\n",
              "         4.8216493e-03,  8.4152259e-03, -7.7482974e-03,  1.5438659e-04,\n",
              "        -8.7350551e-03, -1.5742761e-03, -9.0287691e-03,  3.1613563e-03,\n",
              "        -1.5742858e-03, -6.9292623e-04,  6.4267088e-03, -8.1062512e-03,\n",
              "         1.1543761e-03, -2.4225756e-03, -3.7348261e-03, -7.2844815e-03,\n",
              "        -7.9838289e-03,  8.2955156e-03, -7.4376236e-03,  4.8204265e-03,\n",
              "        -3.7864365e-03, -1.2111375e-03,  2.8159572e-03, -8.5816532e-03,\n",
              "        -5.6524309e-03, -7.7387262e-03, -9.4092879e-03, -4.7488771e-03,\n",
              "        -3.1616911e-03,  4.8854871e-04, -6.8946555e-04, -7.8748707e-03,\n",
              "        -3.7864766e-03, -2.7472947e-03, -6.3854493e-03, -6.3802674e-03],\n",
              "       dtype=float32),\n",
              " array([-2.60575186e-03, -7.92328082e-03, -8.25991854e-03, -7.58682285e-03,\n",
              "         3.55259189e-03, -7.59181334e-03, -3.70813766e-03,  6.63057109e-03,\n",
              "         7.39904074e-03, -6.40295632e-03,  6.80173282e-03, -7.77274836e-03,\n",
              "         1.32486108e-04,  6.62031909e-03, -2.84248823e-03,  9.22413450e-03,\n",
              "        -3.21244035e-04,  4.68887575e-03,  6.95188902e-03, -8.54832958e-03,\n",
              "        -6.07340224e-03, -7.29671633e-03, -1.17006490e-03, -7.09271943e-03,\n",
              "         1.06883635e-04, -8.04491527e-03,  5.10095037e-04, -3.90193367e-04,\n",
              "         6.47293590e-03, -8.88396148e-03, -3.17291077e-03,  5.90427406e-03,\n",
              "         9.23706498e-03, -1.78571115e-03,  7.76021276e-04, -6.09718543e-03,\n",
              "         8.19996581e-04, -8.14566482e-03, -7.64273619e-03,  1.38228154e-03,\n",
              "        -7.81778726e-05,  5.56089496e-03, -9.73657146e-03,  1.65398070e-03,\n",
              "         1.57956977e-03, -5.24927350e-03,  6.90693487e-05,  6.05686009e-03,\n",
              "        -6.59954920e-03,  2.88384763e-04,  3.89519241e-03,  1.70498376e-03,\n",
              "         2.86198896e-03,  8.15626141e-03,  6.68992894e-03,  3.50839249e-03,\n",
              "         7.97693431e-03, -7.66897993e-03,  7.53527367e-03,  3.89154418e-03,\n",
              "        -5.89976693e-03, -4.19508899e-03,  6.39625080e-03,  5.80456015e-03,\n",
              "        -9.86368209e-03,  1.25127006e-03, -4.05578001e-04,  8.13595194e-04,\n",
              "         7.07769953e-03, -7.17611331e-03,  9.64374933e-03, -9.46009904e-03,\n",
              "         6.22267090e-03,  9.49996524e-03, -3.82587221e-03, -9.39629786e-03,\n",
              "         6.18945528e-03, -8.96545779e-03, -8.29763338e-03, -8.30081350e-04,\n",
              "        -6.64520590e-03,  8.74922890e-03,  7.84969237e-03,  8.31250858e-04,\n",
              "         8.00524745e-03,  9.84620489e-03,  5.19418810e-03,  4.32168180e-03,\n",
              "         5.38070081e-03,  6.41597249e-03,  4.73007001e-03,  6.38602488e-03,\n",
              "        -7.45465746e-03,  8.86422582e-03,  8.28501023e-03,  9.37998760e-03,\n",
              "        -9.01763048e-03, -3.45145655e-03, -3.40910483e-04,  4.16707667e-03],\n",
              "       dtype=float32),\n",
              " array([-0.00821697,  0.00016809,  0.00602542,  0.00957525, -0.00284208,\n",
              "         0.00182598,  0.00632441, -0.0019994 ,  0.00195651, -0.00932489,\n",
              "         0.00071045,  0.00457895,  0.0044982 , -0.00974666, -0.00514935,\n",
              "         0.00297075,  0.00159165, -0.00470025,  0.00581928,  0.00351177,\n",
              "        -0.00782483,  0.0098364 , -0.0077168 , -0.00303008,  0.00974285,\n",
              "         0.00114359, -0.00554511,  0.00112662, -0.00409143, -0.00674252,\n",
              "        -0.00775831,  0.00475816, -0.00903287,  0.00406133, -0.00552586,\n",
              "         0.00542788, -0.00436551, -0.00558372,  0.00635124, -0.00864531,\n",
              "         0.00133298, -0.00212547, -0.00668594, -0.00765528,  0.0067571 ,\n",
              "        -0.00446474,  0.0045859 , -0.00966061,  0.0019073 , -0.00195502,\n",
              "        -0.0058981 , -0.00278645, -0.00865705, -0.00347539, -0.00257811,\n",
              "        -0.0022888 , -0.00510663, -0.00919507,  0.00534361, -0.00130049,\n",
              "         0.00617359,  0.00307429,  0.00854924, -0.00351579, -0.00889483,\n",
              "         0.00133322, -0.00898747,  0.00604277,  0.00844257,  0.00050205,\n",
              "         0.00770249,  0.00853724,  0.00420071,  0.00541497,  0.00912859,\n",
              "         0.00114713, -0.00825096, -0.0083258 , -0.00178279, -0.00062588,\n",
              "         0.00882132, -0.00931078, -0.0025929 ,  0.00911312, -0.00144224,\n",
              "        -0.0090769 ,  0.00201476, -0.00583915, -0.00548248, -0.00634223,\n",
              "         0.00012608,  0.0072251 ,  0.00411931,  0.00815343,  0.00884776,\n",
              "         0.004521  , -0.00605119,  0.00706872, -0.00952732, -0.00479128],\n",
              "       dtype=float32),\n",
              " array([ 8.0021331e-03,  7.9017114e-03, -5.4233065e-03, -7.9794647e-03,\n",
              "         8.0744345e-03, -3.8166412e-03, -4.0633334e-03,  7.1873143e-03,\n",
              "         5.4244306e-03,  3.8117333e-03, -1.2251772e-03,  8.6661493e-03,\n",
              "         8.4528541e-03,  6.9785542e-03,  9.0632448e-03, -5.7727220e-03,\n",
              "         1.0019583e-03, -1.6257185e-03,  6.3404841e-03,  9.7693196e-03,\n",
              "         5.1636319e-03,  4.0573836e-03,  6.5329899e-03,  5.8738347e-03,\n",
              "         9.9969475e-05, -8.3458060e-03, -2.1705388e-03,  9.0738693e-03,\n",
              "        -5.0782561e-03,  1.0052326e-03,  4.8747589e-03, -6.9211912e-03,\n",
              "         8.1949532e-03,  1.4726407e-03,  2.4266413e-03,  8.3041433e-03,\n",
              "         1.4556254e-03,  8.8222005e-04, -9.4294287e-03,  9.8619899e-03,\n",
              "        -9.8627992e-03,  8.5507343e-03,  5.0512287e-03, -5.7479912e-05,\n",
              "        -7.8685898e-03,  9.3391798e-03, -1.3800864e-03,  5.3463560e-03,\n",
              "        -3.0304545e-03, -4.9056089e-03,  1.6461917e-04, -8.0304099e-03,\n",
              "        -6.6392594e-03, -9.4524771e-03,  5.3506340e-03,  4.3188271e-04,\n",
              "        -9.1343845e-04,  5.0958865e-03, -1.9673018e-03, -7.3821405e-03,\n",
              "         2.8689248e-03, -5.9652235e-03,  4.9243850e-04,  9.4817746e-03,\n",
              "        -9.5938495e-04,  6.1435946e-03,  4.4581215e-03, -3.5346565e-03,\n",
              "        -5.2254233e-03,  8.8490406e-03,  2.1089173e-03, -4.5639841e-04,\n",
              "         8.9942012e-04, -4.9162442e-03,  3.5362821e-03, -3.1047233e-03,\n",
              "         4.2201923e-03, -4.5595448e-03, -7.9656328e-04,  3.9014844e-03,\n",
              "        -7.1510468e-03, -2.5199363e-03, -8.7224916e-03,  1.5588127e-03,\n",
              "         2.0151315e-03,  2.4103292e-03,  1.0858688e-03,  9.3729192e-05,\n",
              "         2.2168050e-03, -9.4263756e-04,  5.9237662e-03, -2.9536623e-03,\n",
              "        -5.0909207e-03, -5.3222277e-03, -9.6651213e-03, -8.1100306e-03,\n",
              "         2.1167933e-03,  3.9795274e-03, -5.7744635e-03, -9.6809324e-03],\n",
              "       dtype=float32),\n",
              " array([-6.1585223e-03,  4.6694577e-03, -9.0732994e-03,  5.0790380e-03,\n",
              "         6.3552056e-03,  6.1187367e-03, -7.6303845e-03,  2.8365534e-03,\n",
              "        -5.4543042e-03,  9.0457005e-03, -4.3112398e-03, -2.3543583e-03,\n",
              "         5.2242070e-03, -8.1993075e-04,  5.0935666e-03, -4.2209472e-03,\n",
              "         4.9847667e-03, -9.7950185e-03,  6.0715051e-03, -1.2477408e-03,\n",
              "        -5.6064609e-03, -1.8797798e-05, -1.2218998e-03, -7.2125596e-04,\n",
              "        -1.7608256e-03, -9.2739277e-03, -7.8017660e-03, -6.7971377e-03,\n",
              "        -8.6305970e-03, -4.5398059e-03,  9.1886492e-03, -1.8118282e-03,\n",
              "        -7.5949961e-03, -5.8964007e-03,  3.6048691e-03, -2.7148526e-03,\n",
              "        -1.5555713e-03, -4.2565102e-03,  5.9584421e-03, -7.8281164e-03,\n",
              "        -7.4995295e-03,  7.5267334e-03, -6.9597508e-03,  2.1575058e-03,\n",
              "         3.7294335e-04,  9.6685411e-03,  4.2395378e-03,  2.0679920e-03,\n",
              "         2.7557816e-03,  2.3027281e-03,  2.2003411e-03, -2.7215986e-03,\n",
              "         4.0899259e-03,  6.0991091e-03,  8.9372294e-03, -7.5093715e-04,\n",
              "        -1.2191064e-03,  6.4673023e-03, -8.4628761e-03, -6.5590086e-04,\n",
              "        -6.6706790e-03,  4.7795731e-03, -8.9430921e-03,  3.2532476e-03,\n",
              "         9.0015111e-03, -2.0667270e-03, -8.8332426e-03, -8.1770150e-03,\n",
              "         3.2427125e-03, -5.3430134e-03,  6.4499248e-03, -1.1886230e-03,\n",
              "         7.8563672e-03, -5.0175161e-04, -6.2173661e-03, -5.7037612e-03,\n",
              "         7.7149709e-04, -4.7768899e-03,  6.5596206e-03, -3.5195949e-03,\n",
              "        -5.6312596e-03,  9.5271843e-04, -4.8732348e-03, -8.2098655e-03,\n",
              "        -5.2478323e-03, -1.8606657e-03,  4.3749120e-04,  3.6402955e-03,\n",
              "         6.8710796e-03,  6.7280773e-03,  5.8613205e-03,  3.2266791e-04,\n",
              "        -5.8202492e-03,  8.9999400e-03, -6.4913300e-04,  4.7109229e-03,\n",
              "        -1.4244552e-03,  5.7956092e-03,  5.3030746e-03, -7.2987103e-03],\n",
              "       dtype=float32),\n",
              " array([-0.00274576,  0.00011144,  0.00203282, -0.00929106,  0.00484095,\n",
              "         0.0033679 , -0.00017071, -0.00349096, -0.00760701,  0.00759432,\n",
              "        -0.00859883, -0.00738661,  0.00445399, -0.00850812, -0.00328153,\n",
              "        -0.00209279, -0.00189954, -0.00683205,  0.00429093,  0.00099637,\n",
              "         0.00365775, -0.00132719,  0.0069395 , -0.00953494,  0.00584831,\n",
              "        -0.00513497,  0.00170658, -0.00694319, -0.00248359, -0.00643321,\n",
              "        -0.00334838,  0.00972696,  0.00269292,  0.00160386, -0.00608485,\n",
              "         0.00557417, -0.00812613, -0.00229618, -0.00646787, -0.00638299,\n",
              "         0.00229427, -0.0032847 ,  0.00243176,  0.00391438, -0.00626763,\n",
              "        -0.00174213, -0.00276321, -0.00979333, -0.00984042,  0.00110981,\n",
              "         0.00438102,  0.00023327, -0.00487537,  0.00362539,  0.00169056,\n",
              "        -0.00944333,  0.00719377,  0.00777269, -0.00772951, -0.00076664,\n",
              "         0.00603087, -0.00278376, -0.00033273, -0.00421916,  0.0061107 ,\n",
              "         0.00700139,  0.00208467, -0.00469826, -0.00183637, -0.00399555,\n",
              "        -0.00976573,  0.00781246, -0.00060947, -0.00060226,  0.00708678,\n",
              "        -0.00903756,  0.00632899, -0.0075657 , -0.005363  ,  0.00507508,\n",
              "        -0.00349733, -0.00348749, -0.00630771, -0.00390722, -0.00265786,\n",
              "        -0.0040943 ,  0.00945784,  0.00945167, -0.00038061, -0.00028191,\n",
              "        -0.00564359,  0.00791654, -0.00494135,  0.0058886 ,  0.00911908,\n",
              "         0.00575817, -0.00094847,  0.00553827,  0.00694522, -0.00388287],\n",
              "       dtype=float32),\n",
              " array([ 0.0006687 ,  0.00648878,  0.00587001, -0.00017738,  0.0023801 ,\n",
              "        -0.00651387, -0.00936036, -0.00494762, -0.00538789,  0.00058703,\n",
              "        -0.00396823, -0.00036959,  0.00763455,  0.00973569,  0.00787588,\n",
              "         0.00238922, -0.00271333,  0.00243172, -0.00268992, -0.00895014,\n",
              "         0.00689304, -0.00864854,  0.00378768, -0.00395623, -0.00554306,\n",
              "        -0.00104358, -0.00656298,  0.00858411, -0.00687793, -0.00896055,\n",
              "         0.00576626,  0.00446401,  0.00473146,  0.00242694, -0.00372551,\n",
              "        -0.0051173 ,  0.00177215,  0.00834657, -0.00565228, -0.00238244,\n",
              "         0.00184836,  0.00672219, -0.0063974 , -0.00452775, -0.00263857,\n",
              "         0.00133483,  0.00537128,  0.00554937, -0.0087095 ,  0.00727261,\n",
              "        -0.00250222, -0.00284264, -0.00885856, -0.00577508,  0.00944861,\n",
              "         0.00308753, -0.00804277,  0.0028074 , -0.00707276, -0.00905789,\n",
              "         0.00386578,  0.00203697,  0.00125465,  0.00884633,  0.0062607 ,\n",
              "        -0.00507063,  0.00272783,  0.0025451 ,  0.00239783,  0.00833306,\n",
              "        -0.00691342, -0.00229943,  0.00100895,  0.00637776, -0.00064873,\n",
              "         0.00792812, -0.00465192, -0.0090314 , -0.0070541 , -0.00413769,\n",
              "         0.0095833 , -0.00512727, -0.00484836,  0.00817348, -0.00745618,\n",
              "         0.00200976,  0.00571604, -0.00753034, -0.00026298, -0.00236819,\n",
              "         0.00556562, -0.00456045, -0.00660479,  0.00989174, -0.00462315,\n",
              "         0.00760426, -0.00845476,  0.00701734, -0.00338977, -0.00781486],\n",
              "       dtype=float32)]"
            ]
          },
          "metadata": {},
          "execution_count": 26
        }
      ]
    },
    {
      "cell_type": "code",
      "source": [
        "x = np.array([word_vectors[i] for i in vocab])"
      ],
      "metadata": {
        "id": "FS65Xv8s4TkN"
      },
      "execution_count": null,
      "outputs": []
    },
    {
      "cell_type": "code",
      "source": [
        "tsne = TSNE(n_components=2) #TSNE is a dimensionality reduction technique"
      ],
      "metadata": {
        "id": "ZeDdNNAM4ant"
      },
      "execution_count": null,
      "outputs": []
    },
    {
      "cell_type": "code",
      "source": [
        "x_new_reduced_embeddings = tsne.fit_transform(x)"
      ],
      "metadata": {
        "id": "01DPoXPJ4r3B"
      },
      "execution_count": null,
      "outputs": []
    },
    {
      "cell_type": "code",
      "source": [
        "plt.figure(figsize=(12,6))\n",
        "plt.scatter(x_new_reduced_embeddings[:,0],x_new_reduced_embeddings[:,1],marker='o')"
      ],
      "metadata": {
        "colab": {
          "base_uri": "https://localhost:8080/",
          "height": 539
        },
        "id": "KsSLhuHL41ex",
        "outputId": "7425e8c6-faa9-4c6c-c9c8-64b9a4b82e58"
      },
      "execution_count": null,
      "outputs": [
        {
          "output_type": "execute_result",
          "data": {
            "text/plain": [
              "<matplotlib.collections.PathCollection at 0x793b9a662090>"
            ]
          },
          "metadata": {},
          "execution_count": 30
        },
        {
          "output_type": "display_data",
          "data": {
            "text/plain": [
              "<Figure size 1200x600 with 1 Axes>"
            ],
            "image/png": "[encoded data removed]"
          },
          "metadata": {}
        }
      ]
    },
    {
      "cell_type": "code",
      "source": [
        "plt.figure(figsize=(12,6))\n",
        "plt.scatter(x_new_reduced_embeddings[:,0],x_new_reduced_embeddings[:,1],marker='o')\n",
        "for i,words in enumerate(vocab[:len(x_new_reduced_embeddings)]):\n",
        "  plt.annotate(words,xy=(x_new_reduced_embeddings[i,0],x_new_reduced_embeddings[i,1]))\n",
        "plt.show()"
      ],
      "metadata": {
        "colab": {
          "base_uri": "https://localhost:8080/",
          "height": 522
        },
        "id": "-xEA25bC5PDx",
        "outputId": "8b823c94-9f98-48e1-cbb8-1221eebcb58b"
      },
      "execution_count": null,
      "outputs": [
        {
          "output_type": "display_data",
          "data": {
            "text/plain": [
              "<Figure size 1200x600 with 1 Axes>"
            ],
            "image/png": "[encoded data removed]"
          },
          "metadata": {}
        }
      ]
    },
    {
      "cell_type": "code",
      "source": [
        "# Named Entity Recognition\n",
        "\n",
        "text = \"Barrack Obama was the president of United States\""
      ],
      "metadata": {
        "id": "T6Cq-Oqm5z3y"
      },
      "execution_count": null,
      "outputs": []
    },
    {
      "cell_type": "code",
      "source": [
        "word_tokenize(text)"
      ],
      "metadata": {
        "colab": {
          "base_uri": "https://localhost:8080/"
        },
        "id": "i3yUM2k79ImX",
        "outputId": "f463252a-6bcc-40aa-9a82-293297fead59"
      },
      "execution_count": null,
      "outputs": [
        {
          "output_type": "execute_result",
          "data": {
            "text/plain": [
              "['Barrack', 'Obama', 'was', 'the', 'president', 'of', 'United', 'States']"
            ]
          },
          "metadata": {},
          "execution_count": 47
        }
      ]
    },
    {
      "cell_type": "code",
      "source": [
        "from nltk import ne_chunk\n",
        "from nltk import pos_tag\n",
        "ne_chunk(pos_tag(word_tokenize(text)))"
      ],
      "metadata": {
        "colab": {
          "base_uri": "https://localhost:8080/",
          "height": 189
        },
        "id": "inbFnnC69KVL",
        "outputId": "616a35ff-5734-4241-ab4c-c462be83b3f5"
      },
      "execution_count": null,
      "outputs": [
        {
          "output_type": "execute_result",
          "data": {
            "text/plain": [
              "Tree('S', [Tree('PERSON', [('Barrack', 'NNP')]), Tree('PERSON', [('Obama', 'NNP')]), ('was', 'VBD'), ('the', 'DT'), ('president', 'NN'), ('of', 'IN'), Tree('GPE', [('United', 'NNP'), ('States', 'NNPS')])])"
            ],
            "image/svg+xml": "<svg baseProfile=\"full\" height=\"168px\" preserveAspectRatio=\"xMidYMid meet\" style=\"font-family: times, serif; font-weight: normal; font-style: normal; font-size: 16px\" version=\"1.1\" viewBox=\"0,0,464.0,168.0\" width=\"464px\" xmlns=\"http://www.w3.org/2000/svg\" xmlns:ev=\"http://www.w3.org/2001/xml-events\" xmlns:xlink=\"http://www.w3.org/1999/xlink\"><defs /><svg width=\"100%\" x=\"0\" y=\"0px\"><defs /><text text-anchor=\"middle\" x=\"50%\" y=\"16px\">S</text></svg><svg width=\"15.5172%\" x=\"0%\" y=\"48px\"><defs /><svg width=\"100%\" x=\"0\" y=\"0px\"><defs /><text text-anchor=\"middle\" x=\"50%\" y=\"16px\">PERSON</text></svg><svg width=\"100%\" x=\"0%\" y=\"48px\"><defs /><svg width=\"100%\" x=\"0\" y=\"0px\"><defs /><text text-anchor=\"middle\" x=\"50%\" y=\"16px\">Barrack</text></svg><svg width=\"100%\" x=\"0%\" y=\"48px\"><defs /><svg width=\"100%\" x=\"0\" y=\"0px\"><defs /><text text-anchor=\"middle\" x=\"50%\" y=\"16px\">NNP</text></svg></svg><line stroke=\"black\" x1=\"50%\" x2=\"50%\" y1=\"20px\" y2=\"48px\" /></svg><line stroke=\"black\" x1=\"50%\" x2=\"50%\" y1=\"20px\" y2=\"48px\" /></svg><line stroke=\"black\" x1=\"50%\" x2=\"7.75862%\" y1=\"20px\" y2=\"48px\" /><svg width=\"13.7931%\" x=\"15.5172%\" y=\"48px\"><defs /><svg width=\"100%\" x=\"0\" y=\"0px\"><defs /><text text-anchor=\"middle\" x=\"50%\" y=\"16px\">PERSON</text></svg><svg width=\"100%\" x=\"0%\" y=\"48px\"><defs /><svg width=\"100%\" x=\"0\" y=\"0px\"><defs /><text text-anchor=\"middle\" x=\"50%\" y=\"16px\">Obama</text></svg><svg width=\"100%\" x=\"0%\" y=\"48px\"><defs /><svg width=\"100%\" x=\"0\" y=\"0px\"><defs /><text text-anchor=\"middle\" x=\"50%\" y=\"16px\">NNP</text></svg></svg><line stroke=\"black\" x1=\"50%\" x2=\"50%\" y1=\"20px\" y2=\"48px\" /></svg><line stroke=\"black\" x1=\"50%\" x2=\"50%\" y1=\"20px\" y2=\"48px\" /></svg><line stroke=\"black\" x1=\"50%\" x2=\"22.4138%\" y1=\"20px\" y2=\"48px\" /><svg width=\"8.62069%\" x=\"29.3103%\" y=\"48px\"><defs /><svg width=\"100%\" x=\"0\" y=\"0px\"><defs /><text text-anchor=\"middle\" x=\"50%\" y=\"16px\">was</text></svg><svg width=\"100%\" x=\"0%\" y=\"48px\"><defs /><svg width=\"100%\" x=\"0\" y=\"0px\"><defs /><text text-anchor=\"middle\" x=\"50%\" y=\"16px\">VBD</text></svg></svg><line stroke=\"black\" x1=\"50%\" x2=\"50%\" y1=\"20px\" y2=\"48px\" /></svg><line stroke=\"black\" x1=\"50%\" x2=\"33.6207%\" y1=\"20px\" y2=\"48px\" /><svg width=\"8.62069%\" x=\"37.931%\" y=\"48px\"><defs /><svg width=\"100%\" x=\"0\" y=\"0px\"><defs /><text text-anchor=\"middle\" x=\"50%\" y=\"16px\">the</text></svg><svg width=\"100%\" x=\"0%\" y=\"48px\"><defs /><svg width=\"100%\" x=\"0\" y=\"0px\"><defs /><text text-anchor=\"middle\" x=\"50%\" y=\"16px\">DT</text></svg></svg><line stroke=\"black\" x1=\"50%\" x2=\"50%\" y1=\"20px\" y2=\"48px\" /></svg><line stroke=\"black\" x1=\"50%\" x2=\"42.2414%\" y1=\"20px\" y2=\"48px\" /><svg width=\"18.9655%\" x=\"46.5517%\" y=\"48px\"><defs /><svg width=\"100%\" x=\"0\" y=\"0px\"><defs /><text text-anchor=\"middle\" x=\"50%\" y=\"16px\">president</text></svg><svg width=\"100%\" x=\"0%\" y=\"48px\"><defs /><svg width=\"100%\" x=\"0\" y=\"0px\"><defs /><text text-anchor=\"middle\" x=\"50%\" y=\"16px\">NN</text></svg></svg><line stroke=\"black\" x1=\"50%\" x2=\"50%\" y1=\"20px\" y2=\"48px\" /></svg><line stroke=\"black\" x1=\"50%\" x2=\"56.0345%\" y1=\"20px\" y2=\"48px\" /><svg width=\"6.89655%\" x=\"65.5172%\" y=\"48px\"><defs /><svg width=\"100%\" x=\"0\" y=\"0px\"><defs /><text text-anchor=\"middle\" x=\"50%\" y=\"16px\">of</text></svg><svg width=\"100%\" x=\"0%\" y=\"48px\"><defs /><svg width=\"100%\" x=\"0\" y=\"0px\"><defs /><text text-anchor=\"middle\" x=\"50%\" y=\"16px\">IN</text></svg></svg><line stroke=\"black\" x1=\"50%\" x2=\"50%\" y1=\"20px\" y2=\"48px\" /></svg><line stroke=\"black\" x1=\"50%\" x2=\"68.9655%\" y1=\"20px\" y2=\"48px\" /><svg width=\"27.5862%\" x=\"72.4138%\" y=\"48px\"><defs /><svg width=\"100%\" x=\"0\" y=\"0px\"><defs /><text text-anchor=\"middle\" x=\"50%\" y=\"16px\">GPE</text></svg><svg width=\"50%\" x=\"0%\" y=\"48px\"><defs /><svg width=\"100%\" x=\"0\" y=\"0px\"><defs /><text text-anchor=\"middle\" x=\"50%\" y=\"16px\">United</text></svg><svg width=\"100%\" x=\"0%\" y=\"48px\"><defs /><svg width=\"100%\" x=\"0\" y=\"0px\"><defs /><text text-anchor=\"middle\" x=\"50%\" y=\"16px\">NNP</text></svg></svg><line stroke=\"black\" x1=\"50%\" x2=\"50%\" y1=\"20px\" y2=\"48px\" /></svg><line stroke=\"black\" x1=\"50%\" x2=\"25%\" y1=\"20px\" y2=\"48px\" /><svg width=\"50%\" x=\"50%\" y=\"48px\"><defs /><svg width=\"100%\" x=\"0\" y=\"0px\"><defs /><text text-anchor=\"middle\" x=\"50%\" y=\"16px\">States</text></svg><svg width=\"100%\" x=\"0%\" y=\"48px\"><defs /><svg width=\"100%\" x=\"0\" y=\"0px\"><defs /><text text-anchor=\"middle\" x=\"50%\" y=\"16px\">NNPS</text></svg></svg><line stroke=\"black\" x1=\"50%\" x2=\"50%\" y1=\"20px\" y2=\"48px\" /></svg><line stroke=\"black\" x1=\"50%\" x2=\"75%\" y1=\"20px\" y2=\"48px\" /></svg><line stroke=\"black\" x1=\"50%\" x2=\"86.2069%\" y1=\"20px\" y2=\"48px\" /></svg>"
          },
          "metadata": {},
          "execution_count": 48
        }
      ]
    },
    {
      "cell_type": "code",
      "source": [
        "!pip install svgling"
      ],
      "metadata": {
        "colab": {
          "base_uri": "https://localhost:8080/"
        },
        "id": "RMSOiJ9P9UXz",
        "outputId": "a3f62a3c-88fb-4867-afa2-c6abf49dfbf1"
      },
      "execution_count": null,
      "outputs": [
        {
          "output_type": "stream",
          "name": "stdout",
          "text": [
            "Collecting svgling\n",
            "  Downloading svgling-0.5.0-py3-none-any.whl.metadata (7.4 kB)\n",
            "Collecting svgwrite (from svgling)\n",
            "  Downloading svgwrite-1.4.3-py3-none-any.whl.metadata (8.8 kB)\n",
            "Downloading svgling-0.5.0-py3-none-any.whl (31 kB)\n",
            "Downloading svgwrite-1.4.3-py3-none-any.whl (67 kB)\n",
            "\u001b[2K   \u001b[90m━━━━━━━━━━━━━━━━━━━━━━━━━━━━━━━━━━━━━━━━\u001b[0m \u001b[32m67.1/67.1 kB\u001b[0m \u001b[31m3.8 MB/s\u001b[0m eta \u001b[36m0:00:00\u001b[0m\n",
            "\u001b[?25hInstalling collected packages: svgwrite, svgling\n",
            "Successfully installed svgling-0.5.0 svgwrite-1.4.3\n"
          ]
        }
      ]
    },
    {
      "cell_type": "code",
      "source": [
        "!pip install transformers"
      ],
      "metadata": {
        "id": "uryxgT6-9yc7",
        "colab": {
          "base_uri": "https://localhost:8080/"
        },
        "outputId": "a0958861-9c89-4279-aad0-bea11b5dddea"
      },
      "execution_count": null,
      "outputs": [
        {
          "output_type": "stream",
          "name": "stdout",
          "text": [
            "Requirement already satisfied: transformers in /usr/local/lib/python3.11/dist-packages (4.52.2)\n",
            "Requirement already satisfied: filelock in /usr/local/lib/python3.11/dist-packages (from transformers) (3.18.0)\n",
            "Requirement already satisfied: huggingface-hub<1.0,>=0.30.0 in /usr/local/lib/python3.11/dist-packages (from transformers) (0.31.4)\n",
            "Requirement already satisfied: numpy>=1.17 in /usr/local/lib/python3.11/dist-packages (from transformers) (1.26.4)\n",
            "Requirement already satisfied: packaging>=20.0 in /usr/local/lib/python3.11/dist-packages (from transformers) (25.0)\n",
            "Requirement already satisfied: pyyaml>=5.1 in /usr/local/lib/python3.11/dist-packages (from transformers) (6.0.2)\n",
            "Requirement already satisfied: regex!=2019.12.17 in /usr/local/lib/python3.11/dist-packages (from transformers) (2024.11.6)\n",
            "Requirement already satisfied: requests in /usr/local/lib/python3.11/dist-packages (from transformers) (2.32.3)\n",
            "Requirement already satisfied: tokenizers<0.22,>=0.21 in /usr/local/lib/python3.11/dist-packages (from transformers) (0.21.1)\n",
            "Requirement already satisfied: safetensors>=0.4.3 in /usr/local/lib/python3.11/dist-packages (from transformers) (0.5.3)\n",
            "Requirement already satisfied: tqdm>=4.27 in /usr/local/lib/python3.11/dist-packages (from transformers) (4.67.1)\n",
            "Requirement already satisfied: fsspec>=2023.5.0 in /usr/local/lib/python3.11/dist-packages (from huggingface-hub<1.0,>=0.30.0->transformers) (2025.3.2)\n",
            "Requirement already satisfied: typing-extensions>=3.7.4.3 in /usr/local/lib/python3.11/dist-packages (from huggingface-hub<1.0,>=0.30.0->transformers) (4.13.2)\n",
            "Requirement already satisfied: charset-normalizer<4,>=2 in /usr/local/lib/python3.11/dist-packages (from requests->transformers) (3.4.2)\n",
            "Requirement already satisfied: idna<4,>=2.5 in /usr/local/lib/python3.11/dist-packages (from requests->transformers) (3.10)\n",
            "Requirement already satisfied: urllib3<3,>=1.21.1 in /usr/local/lib/python3.11/dist-packages (from requests->transformers) (2.4.0)\n",
            "Requirement already satisfied: certifi>=2017.4.17 in /usr/local/lib/python3.11/dist-packages (from requests->transformers) (2025.4.26)\n"
          ]
        }
      ]
    },
    {
      "cell_type": "code",
      "source": [
        "from transformers import pipeline\n",
        "ner_generation = pipeline('ner',model=\"dbmdz/bert-large-cased-finetuned-conll03-english\")"
      ],
      "metadata": {
        "colab": {
          "base_uri": "https://localhost:8080/",
          "height": 269,
          "referenced_widgets": [
            "ba92f310d41e42a58a1c031f09ea2495",
            "fe2dacd4a5414f0683c4e5635cb9320e",
            "15295f6bf9884c1ba68f37836adee452",
            "da5e52bc74b246b684a6c32cbcba0979",
            "4a782d4167244834a3a82bb5e7b41d57",
            "13b99dbadbde41f6a76ac35d55c46fa5",
            "25b2094d08cd45fcbc864bf40270f7a0",
            "23a3d7d30dd74d858454929cf7808c2a",
            "ee8fa3edd73d417b99140c59ea2fedfa",
            "7a9e554b52184c3d9e074b496fb2562d",
            "2c34ad2a0e334a779f16f5f684f70462",
            "3a509b58bb204fe6b11ae8153fad8c4c",
            "3eb267149e43458c90d8b7b6ef7dab37",
            "f76fa055af324634914eb259ffcd58aa",
            "0746f8c938b246e1bbcea2f3952e95f9",
            "111a39dbefae416cbfc955fb33af0ccb",
            "553d0f96b20641d0a209c002b47cdcdf",
            "d9913df804304c37987d9224a7c6c2cd",
            "bfd4aed0690a498b9506ffd47471786b",
            "df29725093b24f33a654198e694248a8",
            "66043de3281441aca9416079332f57f0",
            "bdd0d05614c940ce89488dc4de4df218",
            "10f4d2bd164b4a68be8c623ca1dce06f",
            "907b5cc4562543fcb3ae2becb76391a5",
            "1e528cc18c564669b57ce938cece19fe",
            "e149d9b1946d4c398c602c05c36c09f7",
            "e8bb188ff59f4476af40cb21c02dbb3d",
            "cbea83df0cc54e04aeee751e47fa1cfc",
            "6fc952eba31a4181a22025ac5e3d95db",
            "1fb17ec9961a46a283bb1db4866cefd4",
            "6fb0b7aad37f412895f1928cdaffaf07",
            "733d704ffb154749996c37a569e42093",
            "40df9bf288aa485ab6fa306aacb61c5e",
            "a607c04822884a4b96e393174e013648",
            "95d8a633fb6b4b118a604f7b6680ab4d",
            "a16c0ff5fb7d472c99ee0c3016057d7b",
            "123d412a50cd4a9fa40401d459df3a3e",
            "3cc5b147e7a14e16a0dcfb92cb7174a4",
            "7c1ec49e119e4ac2a36d84b18ac8e89a",
            "79fb7bd4675b4f17b9e4ed38fc168f69",
            "dd612e1095d7430995c9d85cc8b7c739",
            "4d6243eba529477eada6b3a7676a76ba",
            "8de6159f727a4b9ab9c5ebfc381ccda5",
            "7223db1cba55483e9270214527f4c9e5"
          ]
        },
        "id": "LL4OZLYj_0_R",
        "outputId": "bbebd1c2-211f-44b4-f4ee-3bb66f733286"
      },
      "execution_count": null,
      "outputs": [
        {
          "output_type": "display_data",
          "data": {
            "text/plain": [
              "config.json:   0%|          | 0.00/998 [00:00<?, ?B/s]"
            ],
            "application/vnd.jupyter.widget-view+json": {
              "version_major": 2,
              "version_minor": 0,
              "model_id": "ba92f310d41e42a58a1c031f09ea2495"
            }
          },
          "metadata": {}
        },
        {
          "output_type": "stream",
          "name": "stderr",
          "text": [
            "Xet Storage is enabled for this repo, but the 'hf_xet' package is not installed. Falling back to regular HTTP download. For better performance, install the package with: `pip install huggingface_hub[hf_xet]` or `pip install hf_xet`\n",
            "WARNING:huggingface_hub.file_download:Xet Storage is enabled for this repo, but the 'hf_xet' package is not installed. Falling back to regular HTTP download. For better performance, install the package with: `pip install huggingface_hub[hf_xet]` or `pip install hf_xet`\n"
          ]
        },
        {
          "output_type": "display_data",
          "data": {
            "text/plain": [
              "model.safetensors:   0%|          | 0.00/1.33G [00:00<?, ?B/s]"
            ],
            "application/vnd.jupyter.widget-view+json": {
              "version_major": 2,
              "version_minor": 0,
              "model_id": "3a509b58bb204fe6b11ae8153fad8c4c"
            }
          },
          "metadata": {}
        },
        {
          "output_type": "stream",
          "name": "stderr",
          "text": [
            "Some weights of the model checkpoint at dbmdz/bert-large-cased-finetuned-conll03-english were not used when initializing BertForTokenClassification: ['bert.pooler.dense.bias', 'bert.pooler.dense.weight']\n",
            "- This IS expected if you are initializing BertForTokenClassification from the checkpoint of a model trained on another task or with another architecture (e.g. initializing a BertForSequenceClassification model from a BertForPreTraining model).\n",
            "- This IS NOT expected if you are initializing BertForTokenClassification from the checkpoint of a model that you expect to be exactly identical (initializing a BertForSequenceClassification model from a BertForSequenceClassification model).\n"
          ]
        },
        {
          "output_type": "display_data",
          "data": {
            "text/plain": [
              "tokenizer_config.json:   0%|          | 0.00/60.0 [00:00<?, ?B/s]"
            ],
            "application/vnd.jupyter.widget-view+json": {
              "version_major": 2,
              "version_minor": 0,
              "model_id": "10f4d2bd164b4a68be8c623ca1dce06f"
            }
          },
          "metadata": {}
        },
        {
          "output_type": "display_data",
          "data": {
            "text/plain": [
              "vocab.txt:   0%|          | 0.00/213k [00:00<?, ?B/s]"
            ],
            "application/vnd.jupyter.widget-view+json": {
              "version_major": 2,
              "version_minor": 0,
              "model_id": "a607c04822884a4b96e393174e013648"
            }
          },
          "metadata": {}
        },
        {
          "output_type": "stream",
          "name": "stderr",
          "text": [
            "Device set to use cpu\n"
          ]
        }
      ]
    },
    {
      "cell_type": "code",
      "source": [
        "!pip install pytorch\n",
        "!pip install tensorflow"
      ],
      "metadata": {
        "colab": {
          "base_uri": "https://localhost:8080/"
        },
        "id": "6trUEQSeBThh",
        "outputId": "4433c95f-578b-4b06-df1b-59f11bc08821"
      },
      "execution_count": null,
      "outputs": [
        {
          "output_type": "stream",
          "name": "stdout",
          "text": [
            "Collecting pytorch\n",
            "  Downloading pytorch-1.0.2.tar.gz (689 bytes)\n",
            "  Preparing metadata (setup.py) ... \u001b[?25l\u001b[?25hdone\n",
            "Building wheels for collected packages: pytorch\n",
            "  \u001b[1;31merror\u001b[0m: \u001b[1msubprocess-exited-with-error\u001b[0m\n",
            "  \n",
            "  \u001b[31m×\u001b[0m \u001b[32mpython setup.py bdist_wheel\u001b[0m did not run successfully.\n",
            "  \u001b[31m│\u001b[0m exit code: \u001b[1;36m1\u001b[0m\n",
            "  \u001b[31m╰─>\u001b[0m See above for output.\n",
            "  \n",
            "  \u001b[1;35mnote\u001b[0m: This error originates from a subprocess, and is likely not a problem with pip.\n",
            "  Building wheel for pytorch (setup.py) ... \u001b[?25lerror\n",
            "\u001b[31m  ERROR: Failed building wheel for pytorch\u001b[0m\u001b[31m\n",
            "\u001b[0m\u001b[?25h  Running setup.py clean for pytorch\n",
            "Failed to build pytorch\n",
            "\u001b[31mERROR: ERROR: Failed to build installable wheels for some pyproject.toml based projects (pytorch)\u001b[0m\u001b[31m\n",
            "\u001b[0mRequirement already satisfied: tensorflow in /usr/local/lib/python3.11/dist-packages (2.18.0)\n",
            "Requirement already satisfied: absl-py>=1.0.0 in /usr/local/lib/python3.11/dist-packages (from tensorflow) (1.4.0)\n",
            "Requirement already satisfied: astunparse>=1.6.0 in /usr/local/lib/python3.11/dist-packages (from tensorflow) (1.6.3)\n",
            "Requirement already satisfied: flatbuffers>=24.3.25 in /usr/local/lib/python3.11/dist-packages (from tensorflow) (25.2.10)\n",
            "Requirement already satisfied: gast!=0.5.0,!=0.5.1,!=0.5.2,>=0.2.1 in /usr/local/lib/python3.11/dist-packages (from tensorflow) (0.6.0)\n",
            "Requirement already satisfied: google-pasta>=0.1.1 in /usr/local/lib/python3.11/dist-packages (from tensorflow) (0.2.0)\n",
            "Requirement already satisfied: libclang>=13.0.0 in /usr/local/lib/python3.11/dist-packages (from tensorflow) (18.1.1)\n",
            "Requirement already satisfied: opt-einsum>=2.3.2 in /usr/local/lib/python3.11/dist-packages (from tensorflow) (3.4.0)\n",
            "Requirement already satisfied: packaging in /usr/local/lib/python3.11/dist-packages (from tensorflow) (25.0)\n",
            "Requirement already satisfied: protobuf!=4.21.0,!=4.21.1,!=4.21.2,!=4.21.3,!=4.21.4,!=4.21.5,<6.0.0dev,>=3.20.3 in /usr/local/lib/python3.11/dist-packages (from tensorflow) (5.29.4)\n",
            "Requirement already satisfied: requests<3,>=2.21.0 in /usr/local/lib/python3.11/dist-packages (from tensorflow) (2.32.3)\n",
            "Requirement already satisfied: setuptools in /usr/local/lib/python3.11/dist-packages (from tensorflow) (75.2.0)\n",
            "Requirement already satisfied: six>=1.12.0 in /usr/local/lib/python3.11/dist-packages (from tensorflow) (1.17.0)\n",
            "Requirement already satisfied: termcolor>=1.1.0 in /usr/local/lib/python3.11/dist-packages (from tensorflow) (3.1.0)\n",
            "Requirement already satisfied: typing-extensions>=3.6.6 in /usr/local/lib/python3.11/dist-packages (from tensorflow) (4.13.2)\n",
            "Requirement already satisfied: wrapt>=1.11.0 in /usr/local/lib/python3.11/dist-packages (from tensorflow) (1.17.2)\n",
            "Requirement already satisfied: grpcio<2.0,>=1.24.3 in /usr/local/lib/python3.11/dist-packages (from tensorflow) (1.71.0)\n",
            "Requirement already satisfied: tensorboard<2.19,>=2.18 in /usr/local/lib/python3.11/dist-packages (from tensorflow) (2.18.0)\n",
            "Requirement already satisfied: keras>=3.5.0 in /usr/local/lib/python3.11/dist-packages (from tensorflow) (3.8.0)\n",
            "Requirement already satisfied: numpy<2.1.0,>=1.26.0 in /usr/local/lib/python3.11/dist-packages (from tensorflow) (1.26.4)\n",
            "Requirement already satisfied: h5py>=3.11.0 in /usr/local/lib/python3.11/dist-packages (from tensorflow) (3.13.0)\n",
            "Requirement already satisfied: ml-dtypes<0.5.0,>=0.4.0 in /usr/local/lib/python3.11/dist-packages (from tensorflow) (0.4.1)\n",
            "Requirement already satisfied: tensorflow-io-gcs-filesystem>=0.23.1 in /usr/local/lib/python3.11/dist-packages (from tensorflow) (0.37.1)\n",
            "Requirement already satisfied: wheel<1.0,>=0.23.0 in /usr/local/lib/python3.11/dist-packages (from astunparse>=1.6.0->tensorflow) (0.45.1)\n",
            "Requirement already satisfied: rich in /usr/local/lib/python3.11/dist-packages (from keras>=3.5.0->tensorflow) (13.9.4)\n",
            "Requirement already satisfied: namex in /usr/local/lib/python3.11/dist-packages (from keras>=3.5.0->tensorflow) (0.0.9)\n",
            "Requirement already satisfied: optree in /usr/local/lib/python3.11/dist-packages (from keras>=3.5.0->tensorflow) (0.15.0)\n",
            "Requirement already satisfied: charset-normalizer<4,>=2 in /usr/local/lib/python3.11/dist-packages (from requests<3,>=2.21.0->tensorflow) (3.4.2)\n",
            "Requirement already satisfied: idna<4,>=2.5 in /usr/local/lib/python3.11/dist-packages (from requests<3,>=2.21.0->tensorflow) (3.10)\n",
            "Requirement already satisfied: urllib3<3,>=1.21.1 in /usr/local/lib/python3.11/dist-packages (from requests<3,>=2.21.0->tensorflow) (2.4.0)\n",
            "Requirement already satisfied: certifi>=2017.4.17 in /usr/local/lib/python3.11/dist-packages (from requests<3,>=2.21.0->tensorflow) (2025.4.26)\n",
            "Requirement already satisfied: markdown>=2.6.8 in /usr/local/lib/python3.11/dist-packages (from tensorboard<2.19,>=2.18->tensorflow) (3.8)\n",
            "Requirement already satisfied: tensorboard-data-server<0.8.0,>=0.7.0 in /usr/local/lib/python3.11/dist-packages (from tensorboard<2.19,>=2.18->tensorflow) (0.7.2)\n",
            "Requirement already satisfied: werkzeug>=1.0.1 in /usr/local/lib/python3.11/dist-packages (from tensorboard<2.19,>=2.18->tensorflow) (3.1.3)\n",
            "Requirement already satisfied: MarkupSafe>=2.1.1 in /usr/local/lib/python3.11/dist-packages (from werkzeug>=1.0.1->tensorboard<2.19,>=2.18->tensorflow) (3.0.2)\n",
            "Requirement already satisfied: markdown-it-py>=2.2.0 in /usr/local/lib/python3.11/dist-packages (from rich->keras>=3.5.0->tensorflow) (3.0.0)\n",
            "Requirement already satisfied: pygments<3.0.0,>=2.13.0 in /usr/local/lib/python3.11/dist-packages (from rich->keras>=3.5.0->tensorflow) (2.19.1)\n",
            "Requirement already satisfied: mdurl~=0.1 in /usr/local/lib/python3.11/dist-packages (from markdown-it-py>=2.2.0->rich->keras>=3.5.0->tensorflow) (0.1.2)\n"
          ]
        }
      ]
    },
    {
      "cell_type": "code",
      "source": [
        "ner_generation."
      ],
      "metadata": {
        "colab": {
          "base_uri": "https://localhost:8080/"
        },
        "id": "7eM3TscCBjlF",
        "outputId": "a5982a75-0ce9-4e28-ce37-b832fd29273d"
      },
      "execution_count": null,
      "outputs": [
        {
          "output_type": "execute_result",
          "data": {
            "text/plain": [
              "[{'entity': 'I-PER',\n",
              "  'score': 0.9955402,\n",
              "  'index': 4,\n",
              "  'word': 'ha',\n",
              "  'start': 11,\n",
              "  'end': 13},\n",
              " {'entity': 'I-PER',\n",
              "  'score': 0.9923282,\n",
              "  'index': 5,\n",
              "  'word': '##ris',\n",
              "  'start': 13,\n",
              "  'end': 16},\n",
              " {'entity': 'I-PER',\n",
              "  'score': 0.99687886,\n",
              "  'index': 6,\n",
              "  'word': '##h',\n",
              "  'start': 16,\n",
              "  'end': 17},\n",
              " {'entity': 'I-PER',\n",
              "  'score': 0.99183077,\n",
              "  'index': 7,\n",
              "  'word': 'na',\n",
              "  'start': 18,\n",
              "  'end': 20},\n",
              " {'entity': 'I-PER',\n",
              "  'score': 0.9790238,\n",
              "  'index': 8,\n",
              "  'word': '##nd',\n",
              "  'start': 20,\n",
              "  'end': 22},\n",
              " {'entity': 'I-PER',\n",
              "  'score': 0.97212,\n",
              "  'index': 9,\n",
              "  'word': '##han',\n",
              "  'start': 22,\n",
              "  'end': 25},\n",
              " {'entity': 'I-ORG',\n",
              "  'score': 0.85535836,\n",
              "  'index': 15,\n",
              "  'word': 'beacon',\n",
              "  'start': 45,\n",
              "  'end': 51},\n",
              " {'entity': 'I-ORG',\n",
              "  'score': 0.99483913,\n",
              "  'index': 16,\n",
              "  'word': '##A',\n",
              "  'start': 51,\n",
              "  'end': 52},\n",
              " {'entity': 'I-ORG',\n",
              "  'score': 0.9905399,\n",
              "  'index': 17,\n",
              "  'word': '##I',\n",
              "  'start': 52,\n",
              "  'end': 53},\n",
              " {'entity': 'I-ORG',\n",
              "  'score': 0.9992021,\n",
              "  'index': 21,\n",
              "  'word': 'AI',\n",
              "  'start': 61,\n",
              "  'end': 63},\n",
              " {'entity': 'I-ORG',\n",
              "  'score': 0.9971928,\n",
              "  'index': 22,\n",
              "  'word': 'Engineering',\n",
              "  'start': 64,\n",
              "  'end': 75},\n",
              " {'entity': 'I-MISC',\n",
              "  'score': 0.97516996,\n",
              "  'index': 47,\n",
              "  'word': 'AI',\n",
              "  'start': 188,\n",
              "  'end': 190}]"
            ]
          },
          "metadata": {},
          "execution_count": 40
        }
      ]
    },
    {
      "cell_type": "code",
      "source": [],
      "metadata": {
        "id": "mhtH8uIkB2kB"
      },
      "execution_count": null,
      "outputs": []
    }
  ]
}
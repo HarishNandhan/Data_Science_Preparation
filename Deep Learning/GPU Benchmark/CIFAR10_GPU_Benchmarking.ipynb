{
 "cells": [
  {
   "cell_type": "code",
   "execution_count": 3,
   "id": "02d314f7-3b6e-47d1-a50b-0f44fbc3d5a6",
   "metadata": {},
   "outputs": [],
   "source": [
    "import tensorflow as tf\n",
    "from tensorflow import keras\n",
    "import matplotlib.pyplot as plt\n",
    "import numpy as np"
   ]
  },
  {
   "cell_type": "code",
   "execution_count": 2,
   "id": "a6dca7a7",
   "metadata": {},
   "outputs": [
    {
     "name": "stdout",
     "output_type": "stream",
     "text": [
      "Collecting matplotlib\n",
      "  Downloading matplotlib-3.10.0-cp310-cp310-win_amd64.whl.metadata (11 kB)\n",
      "Collecting contourpy>=1.0.1 (from matplotlib)\n",
      "  Downloading contourpy-1.3.1-cp310-cp310-win_amd64.whl.metadata (5.4 kB)\n",
      "Collecting cycler>=0.10 (from matplotlib)\n",
      "  Using cached cycler-0.12.1-py3-none-any.whl.metadata (3.8 kB)\n",
      "Collecting fonttools>=4.22.0 (from matplotlib)\n",
      "  Downloading fonttools-4.55.3-cp310-cp310-win_amd64.whl.metadata (168 kB)\n",
      "Collecting kiwisolver>=1.3.1 (from matplotlib)\n",
      "  Downloading kiwisolver-1.4.8-cp310-cp310-win_amd64.whl.metadata (6.3 kB)\n",
      "Requirement already satisfied: numpy>=1.23 in c:\\users\\yoges\\anaconda3\\envs\\py310\\lib\\site-packages (from matplotlib) (1.23.5)\n",
      "Requirement already satisfied: packaging>=20.0 in c:\\users\\yoges\\anaconda3\\envs\\py310\\lib\\site-packages (from matplotlib) (24.2)\n",
      "Collecting pillow>=8 (from matplotlib)\n",
      "  Downloading pillow-11.1.0-cp310-cp310-win_amd64.whl.metadata (9.3 kB)\n",
      "Collecting pyparsing>=2.3.1 (from matplotlib)\n",
      "  Downloading pyparsing-3.2.1-py3-none-any.whl.metadata (5.0 kB)\n",
      "Requirement already satisfied: python-dateutil>=2.7 in c:\\users\\yoges\\anaconda3\\envs\\py310\\lib\\site-packages (from matplotlib) (2.9.0.post0)\n",
      "Requirement already satisfied: six>=1.5 in c:\\users\\yoges\\anaconda3\\envs\\py310\\lib\\site-packages (from python-dateutil>=2.7->matplotlib) (1.17.0)\n",
      "Downloading matplotlib-3.10.0-cp310-cp310-win_amd64.whl (8.0 MB)\n",
      "   ---------------------------------------- 0.0/8.0 MB ? eta -:--:--\n",
      "   ------------------------------------- -- 7.6/8.0 MB 39.3 MB/s eta 0:00:01\n",
      "   ---------------------------------------- 8.0/8.0 MB 38.2 MB/s eta 0:00:00\n",
      "Downloading contourpy-1.3.1-cp310-cp310-win_amd64.whl (218 kB)\n",
      "Using cached cycler-0.12.1-py3-none-any.whl (8.3 kB)\n",
      "Downloading fonttools-4.55.3-cp310-cp310-win_amd64.whl (2.2 MB)\n",
      "   ---------------------------------------- 0.0/2.2 MB ? eta -:--:--\n",
      "   ---------------------------------------- 2.2/2.2 MB 42.5 MB/s eta 0:00:00\n",
      "Downloading kiwisolver-1.4.8-cp310-cp310-win_amd64.whl (71 kB)\n",
      "Downloading pillow-11.1.0-cp310-cp310-win_amd64.whl (2.6 MB)\n",
      "   ---------------------------------------- 0.0/2.6 MB ? eta -:--:--\n",
      "   ---------------------------------------- 2.6/2.6 MB 37.5 MB/s eta 0:00:00\n",
      "Downloading pyparsing-3.2.1-py3-none-any.whl (107 kB)\n",
      "Installing collected packages: pyparsing, pillow, kiwisolver, fonttools, cycler, contourpy, matplotlib\n",
      "Successfully installed contourpy-1.3.1 cycler-0.12.1 fonttools-4.55.3 kiwisolver-1.4.8 matplotlib-3.10.0 pillow-11.1.0 pyparsing-3.2.1\n"
     ]
    }
   ],
   "source": [
    "!pip install matplotlib"
   ]
  },
  {
   "cell_type": "code",
   "execution_count": 4,
   "id": "3e43ab82-8ee6-4635-90ce-d48e9058eabb",
   "metadata": {},
   "outputs": [
    {
     "data": {
      "text/plain": [
       "[PhysicalDevice(name='/physical_device:CPU:0', device_type='CPU'),\n",
       " PhysicalDevice(name='/physical_device:GPU:0', device_type='GPU')]"
      ]
     },
     "execution_count": 4,
     "metadata": {},
     "output_type": "execute_result"
    }
   ],
   "source": [
    "tf.config.experimental.list_physical_devices()"
   ]
  },
  {
   "cell_type": "code",
   "execution_count": 5,
   "id": "e1f57d4d",
   "metadata": {},
   "outputs": [
    {
     "data": {
      "text/plain": [
       "True"
      ]
     },
     "execution_count": 5,
     "metadata": {},
     "output_type": "execute_result"
    }
   ],
   "source": [
    "tf.test.is_built_with_cuda()"
   ]
  },
  {
   "cell_type": "code",
   "execution_count": 6,
   "id": "9e79614b",
   "metadata": {},
   "outputs": [
    {
     "name": "stdout",
     "output_type": "stream",
     "text": [
      "Downloading data from https://www.cs.toronto.edu/~kriz/cifar-10-python.tar.gz\n",
      "170498071/170498071 [==============================] - 4s 0us/step\n"
     ]
    }
   ],
   "source": [
    "(X_train, y_train), (X_test, y_test) = tf.keras.datasets.cifar10.load_data()"
   ]
  },
  {
   "cell_type": "code",
   "execution_count": 7,
   "id": "d2750f83",
   "metadata": {},
   "outputs": [
    {
     "data": {
      "text/plain": [
       "(50000, 32, 32, 3)"
      ]
     },
     "execution_count": 7,
     "metadata": {},
     "output_type": "execute_result"
    }
   ],
   "source": [
    "X_train.shape\n"
   ]
  },
  {
   "cell_type": "markdown",
   "id": "cd87f259",
   "metadata": {},
   "source": [
    "##### Here the third dimension 3 - represents the RGB (Red,Green,Blue)"
   ]
  },
  {
   "cell_type": "code",
   "execution_count": 8,
   "id": "f12d5912",
   "metadata": {},
   "outputs": [
    {
     "data": {
      "text/plain": [
       "array([[[ 59,  62,  63],\n",
       "        [ 43,  46,  45],\n",
       "        [ 50,  48,  43],\n",
       "        ...,\n",
       "        [158, 132, 108],\n",
       "        [152, 125, 102],\n",
       "        [148, 124, 103]],\n",
       "\n",
       "       [[ 16,  20,  20],\n",
       "        [  0,   0,   0],\n",
       "        [ 18,   8,   0],\n",
       "        ...,\n",
       "        [123,  88,  55],\n",
       "        [119,  83,  50],\n",
       "        [122,  87,  57]],\n",
       "\n",
       "       [[ 25,  24,  21],\n",
       "        [ 16,   7,   0],\n",
       "        [ 49,  27,   8],\n",
       "        ...,\n",
       "        [118,  84,  50],\n",
       "        [120,  84,  50],\n",
       "        [109,  73,  42]],\n",
       "\n",
       "       ...,\n",
       "\n",
       "       [[208, 170,  96],\n",
       "        [201, 153,  34],\n",
       "        [198, 161,  26],\n",
       "        ...,\n",
       "        [160, 133,  70],\n",
       "        [ 56,  31,   7],\n",
       "        [ 53,  34,  20]],\n",
       "\n",
       "       [[180, 139,  96],\n",
       "        [173, 123,  42],\n",
       "        [186, 144,  30],\n",
       "        ...,\n",
       "        [184, 148,  94],\n",
       "        [ 97,  62,  34],\n",
       "        [ 83,  53,  34]],\n",
       "\n",
       "       [[177, 144, 116],\n",
       "        [168, 129,  94],\n",
       "        [179, 142,  87],\n",
       "        ...,\n",
       "        [216, 184, 140],\n",
       "        [151, 118,  84],\n",
       "        [123,  92,  72]]], dtype=uint8)"
      ]
     },
     "execution_count": 8,
     "metadata": {},
     "output_type": "execute_result"
    }
   ],
   "source": [
    "X_train[0]"
   ]
  },
  {
   "cell_type": "code",
   "execution_count": 9,
   "id": "e551bbff",
   "metadata": {},
   "outputs": [
    {
     "data": {
      "text/plain": [
       "array([[6],\n",
       "       [9],\n",
       "       [9],\n",
       "       [4],\n",
       "       [1]], dtype=uint8)"
      ]
     },
     "execution_count": 9,
     "metadata": {},
     "output_type": "execute_result"
    }
   ],
   "source": [
    "y_train[0:5]"
   ]
  },
  {
   "cell_type": "code",
   "execution_count": 10,
   "id": "b4284237",
   "metadata": {},
   "outputs": [],
   "source": [
    "def plot_sample(index):\n",
    "    plt.figure(figsize=(10,1))\n",
    "    plt.imshow(X_train[index])"
   ]
  },
  {
   "cell_type": "code",
   "execution_count": 11,
   "id": "702cad64",
   "metadata": {},
   "outputs": [
    {
     "data": {
      "image/png": "[encoded data removed]",
      "text/plain": [
       "<Figure size 1000x100 with 1 Axes>"
      ]
     },
     "metadata": {},
     "output_type": "display_data"
    }
   ],
   "source": [
    "plot_sample(1)"
   ]
  },
  {
   "cell_type": "code",
   "execution_count": 12,
   "id": "25e88db3",
   "metadata": {},
   "outputs": [
    {
     "data": {
      "image/png": "[encoded data removed]",
      "text/plain": [
       "<Figure size 1000x100 with 1 Axes>"
      ]
     },
     "metadata": {},
     "output_type": "display_data"
    }
   ],
   "source": [
    "plot_sample(2)"
   ]
  },
  {
   "cell_type": "code",
   "execution_count": 13,
   "id": "6b72ca7e",
   "metadata": {},
   "outputs": [],
   "source": [
    "classes = [\"airplane\",\"automobile\",\"bird\",\"cat\",\"deer\",\"dog\",\"frog\",\"horse\",\"ship\",\"truck\"]"
   ]
  },
  {
   "cell_type": "code",
   "execution_count": 14,
   "id": "8c30fe7e",
   "metadata": {},
   "outputs": [
    {
     "data": {
      "image/png": "[encoded data removed]",
      "text/plain": [
       "<Figure size 1000x100 with 1 Axes>"
      ]
     },
     "metadata": {},
     "output_type": "display_data"
    }
   ],
   "source": [
    "plot_sample(3)"
   ]
  },
  {
   "cell_type": "code",
   "execution_count": 15,
   "id": "2ff35770",
   "metadata": {},
   "outputs": [
    {
     "data": {
      "text/plain": [
       "array([4], dtype=uint8)"
      ]
     },
     "execution_count": 15,
     "metadata": {},
     "output_type": "execute_result"
    }
   ],
   "source": [
    "y_train[3]"
   ]
  },
  {
   "cell_type": "code",
   "execution_count": 17,
   "id": "c1a52cd6",
   "metadata": {},
   "outputs": [
    {
     "data": {
      "text/plain": [
       "'deer'"
      ]
     },
     "execution_count": 17,
     "metadata": {},
     "output_type": "execute_result"
    }
   ],
   "source": [
    "classes[y_train[3][0]]"
   ]
  },
  {
   "cell_type": "code",
   "execution_count": 20,
   "id": "5e8826dd",
   "metadata": {},
   "outputs": [],
   "source": [
    "X_train_scaled = X_train / 255\n",
    "X_test_scaled = X_test / 255"
   ]
  },
  {
   "cell_type": "code",
   "execution_count": 21,
   "id": "c2e2cbc1",
   "metadata": {},
   "outputs": [
    {
     "data": {
      "text/plain": [
       "(50000, 32, 32, 3)"
      ]
     },
     "execution_count": 21,
     "metadata": {},
     "output_type": "execute_result"
    }
   ],
   "source": [
    "X_train_scaled.shape"
   ]
  },
  {
   "cell_type": "code",
   "execution_count": 22,
   "id": "498a8672",
   "metadata": {},
   "outputs": [
    {
     "data": {
      "text/plain": [
       "array([[6],\n",
       "       [9],\n",
       "       [9],\n",
       "       [4],\n",
       "       [1]], dtype=uint8)"
      ]
     },
     "execution_count": 22,
     "metadata": {},
     "output_type": "execute_result"
    }
   ],
   "source": [
    "y_train[:5]"
   ]
  },
  {
   "cell_type": "markdown",
   "id": "6e030fe5",
   "metadata": {},
   "source": [
    "#### One Hot Encoding"
   ]
  },
  {
   "cell_type": "code",
   "execution_count": 24,
   "id": "40a8b8c7",
   "metadata": {},
   "outputs": [
    {
     "data": {
      "text/plain": [
       "array([[0., 0., 0., 0., 0., 0., 1., 0., 0., 0.],\n",
       "       [0., 0., 0., 0., 0., 0., 0., 0., 0., 1.],\n",
       "       [0., 0., 0., 0., 0., 0., 0., 0., 0., 1.],\n",
       "       [0., 0., 0., 0., 1., 0., 0., 0., 0., 0.],\n",
       "       [0., 1., 0., 0., 0., 0., 0., 0., 0., 0.]], dtype=float32)"
      ]
     },
     "execution_count": 24,
     "metadata": {},
     "output_type": "execute_result"
    }
   ],
   "source": [
    "y_train_categorical = keras.utils.to_categorical(\n",
    "    y_train, num_classes = 10, dtype='float32'\n",
    ")\n",
    "y_train_categorical[:5]"
   ]
  },
  {
   "cell_type": "code",
   "execution_count": 25,
   "id": "ccfacf1f",
   "metadata": {},
   "outputs": [],
   "source": [
    "y_test_categorical = keras.utils.to_categorical(\n",
    "    y_test, num_classes = 10, dtype='float32'\n",
    ")"
   ]
  },
  {
   "cell_type": "code",
   "execution_count": 26,
   "id": "ac2d54d2",
   "metadata": {},
   "outputs": [
    {
     "data": {
      "text/plain": [
       "(50000, 32, 32, 3)"
      ]
     },
     "execution_count": 26,
     "metadata": {},
     "output_type": "execute_result"
    }
   ],
   "source": [
    "X_train_scaled.shape"
   ]
  },
  {
   "cell_type": "code",
   "execution_count": 27,
   "id": "2d9633b7",
   "metadata": {},
   "outputs": [
    {
     "data": {
      "text/plain": [
       "3072"
      ]
     },
     "execution_count": 27,
     "metadata": {},
     "output_type": "execute_result"
    }
   ],
   "source": [
    "32*32*3"
   ]
  },
  {
   "cell_type": "code",
   "execution_count": 31,
   "id": "b28d44dd",
   "metadata": {},
   "outputs": [
    {
     "name": "stdout",
     "output_type": "stream",
     "text": [
      "Epoch 1/50\n",
      "1563/1563 [==============================] - 7s 3ms/step - loss: 1.8112 - accuracy: 0.3557\n",
      "Epoch 2/50\n",
      "1563/1563 [==============================] - 5s 3ms/step - loss: 1.6200 - accuracy: 0.4304\n",
      "Epoch 3/50\n",
      "1563/1563 [==============================] - 5s 3ms/step - loss: 1.5382 - accuracy: 0.4566\n",
      "Epoch 4/50\n",
      "1563/1563 [==============================] - 5s 3ms/step - loss: 1.4772 - accuracy: 0.4836\n",
      "Epoch 5/50\n",
      "1563/1563 [==============================] - 5s 3ms/step - loss: 1.4266 - accuracy: 0.4964\n",
      "Epoch 6/50\n",
      "1563/1563 [==============================] - 5s 3ms/step - loss: 1.3856 - accuracy: 0.5127\n",
      "Epoch 7/50\n",
      "1563/1563 [==============================] - 5s 3ms/step - loss: 1.3451 - accuracy: 0.5277\n",
      "Epoch 8/50\n",
      "1563/1563 [==============================] - 5s 3ms/step - loss: 1.3063 - accuracy: 0.5406\n",
      "Epoch 9/50\n",
      "1563/1563 [==============================] - 5s 3ms/step - loss: 1.2775 - accuracy: 0.5515\n",
      "Epoch 10/50\n",
      "1563/1563 [==============================] - 5s 3ms/step - loss: 1.2460 - accuracy: 0.5635\n",
      "Epoch 11/50\n",
      "1563/1563 [==============================] - 5s 4ms/step - loss: 1.2140 - accuracy: 0.5752\n",
      "Epoch 12/50\n",
      "1563/1563 [==============================] - 5s 3ms/step - loss: 1.1830 - accuracy: 0.5879\n",
      "Epoch 13/50\n",
      "1563/1563 [==============================] - 5s 3ms/step - loss: 1.1575 - accuracy: 0.5948\n",
      "Epoch 14/50\n",
      "1563/1563 [==============================] - 5s 3ms/step - loss: 1.1287 - accuracy: 0.6083\n",
      "Epoch 15/50\n",
      "1563/1563 [==============================] - 5s 3ms/step - loss: 1.1008 - accuracy: 0.6175\n",
      "Epoch 16/50\n",
      "1563/1563 [==============================] - 5s 3ms/step - loss: 1.0710 - accuracy: 0.6268\n",
      "Epoch 17/50\n",
      "1563/1563 [==============================] - 5s 3ms/step - loss: 1.0454 - accuracy: 0.6369\n",
      "Epoch 18/50\n",
      "1563/1563 [==============================] - 5s 3ms/step - loss: 1.0182 - accuracy: 0.6461\n",
      "Epoch 19/50\n",
      "1563/1563 [==============================] - 5s 3ms/step - loss: 0.9893 - accuracy: 0.6609\n",
      "Epoch 20/50\n",
      "1563/1563 [==============================] - 5s 3ms/step - loss: 0.9644 - accuracy: 0.6652\n",
      "Epoch 21/50\n",
      "1563/1563 [==============================] - 5s 3ms/step - loss: 0.9354 - accuracy: 0.6775\n",
      "Epoch 22/50\n",
      "1563/1563 [==============================] - 5s 3ms/step - loss: 0.9116 - accuracy: 0.6870\n",
      "Epoch 23/50\n",
      "1563/1563 [==============================] - 5s 3ms/step - loss: 0.8846 - accuracy: 0.6954\n",
      "Epoch 24/50\n",
      "1563/1563 [==============================] - 5s 3ms/step - loss: 0.8572 - accuracy: 0.7063\n",
      "Epoch 25/50\n",
      "1563/1563 [==============================] - 5s 3ms/step - loss: 0.8332 - accuracy: 0.7131\n",
      "Epoch 26/50\n",
      "1563/1563 [==============================] - 5s 3ms/step - loss: 0.8030 - accuracy: 0.7266\n",
      "Epoch 27/50\n",
      "1563/1563 [==============================] - 5s 3ms/step - loss: 0.7790 - accuracy: 0.7363\n",
      "Epoch 28/50\n",
      "1563/1563 [==============================] - 5s 3ms/step - loss: 0.7528 - accuracy: 0.7430\n",
      "Epoch 29/50\n",
      "1563/1563 [==============================] - 5s 3ms/step - loss: 0.7226 - accuracy: 0.7556\n",
      "Epoch 30/50\n",
      "1563/1563 [==============================] - 5s 3ms/step - loss: 0.6967 - accuracy: 0.7669\n",
      "Epoch 31/50\n",
      "1563/1563 [==============================] - 5s 3ms/step - loss: 0.6706 - accuracy: 0.7755\n",
      "Epoch 32/50\n",
      "1563/1563 [==============================] - 5s 3ms/step - loss: 0.6451 - accuracy: 0.7856\n",
      "Epoch 33/50\n",
      "1563/1563 [==============================] - 5s 3ms/step - loss: 0.6218 - accuracy: 0.7934\n",
      "Epoch 34/50\n",
      "1563/1563 [==============================] - 5s 3ms/step - loss: 0.5910 - accuracy: 0.8049\n",
      "Epoch 35/50\n",
      "1563/1563 [==============================] - 5s 3ms/step - loss: 0.5716 - accuracy: 0.8122\n",
      "Epoch 36/50\n",
      "1563/1563 [==============================] - 5s 3ms/step - loss: 0.5426 - accuracy: 0.8231\n",
      "Epoch 37/50\n",
      "1563/1563 [==============================] - 5s 3ms/step - loss: 0.5189 - accuracy: 0.8293\n",
      "Epoch 38/50\n",
      "1563/1563 [==============================] - 5s 3ms/step - loss: 0.5003 - accuracy: 0.8373\n",
      "Epoch 39/50\n",
      "1563/1563 [==============================] - 5s 3ms/step - loss: 0.4715 - accuracy: 0.8479\n",
      "Epoch 40/50\n",
      "1563/1563 [==============================] - 5s 3ms/step - loss: 0.4500 - accuracy: 0.8566\n",
      "Epoch 41/50\n",
      "1563/1563 [==============================] - 5s 3ms/step - loss: 0.4278 - accuracy: 0.8640\n",
      "Epoch 42/50\n",
      "1563/1563 [==============================] - 5s 3ms/step - loss: 0.4041 - accuracy: 0.8728\n",
      "Epoch 43/50\n",
      "1563/1563 [==============================] - 5s 3ms/step - loss: 0.3837 - accuracy: 0.8811\n",
      "Epoch 44/50\n",
      "1563/1563 [==============================] - 5s 3ms/step - loss: 0.3622 - accuracy: 0.8872\n",
      "Epoch 45/50\n",
      "1563/1563 [==============================] - 5s 3ms/step - loss: 0.3449 - accuracy: 0.8950\n",
      "Epoch 46/50\n",
      "1563/1563 [==============================] - 5s 3ms/step - loss: 0.3206 - accuracy: 0.9034\n",
      "Epoch 47/50\n",
      "1563/1563 [==============================] - 5s 3ms/step - loss: 0.3044 - accuracy: 0.9094\n",
      "Epoch 48/50\n",
      "1563/1563 [==============================] - 5s 3ms/step - loss: 0.2816 - accuracy: 0.9184\n",
      "Epoch 49/50\n",
      "1563/1563 [==============================] - 5s 3ms/step - loss: 0.2693 - accuracy: 0.9244\n",
      "Epoch 50/50\n",
      "1563/1563 [==============================] - 5s 3ms/step - loss: 0.2499 - accuracy: 0.9302\n"
     ]
    },
    {
     "data": {
      "text/plain": [
       "<keras.callbacks.History at 0x24fd9ee9630>"
      ]
     },
     "execution_count": 31,
     "metadata": {},
     "output_type": "execute_result"
    }
   ],
   "source": [
    "\n",
    "model = keras.Sequential([\n",
    "    keras.layers.Flatten(input_shape=(32, 32, 3)), # input layer\n",
    "    keras.layers.Dense(3000,activation='relu'), # hidden layer 1\n",
    "    keras.layers.Dense(3000,activation='relu'), # hidden layer 2\n",
    "    keras.layers.Dense(10, activation='sigmoid') # output layer\n",
    "])\n",
    "\n",
    "model.compile(optimizer='SGD',\n",
    "              loss='categorical_crossentropy', \n",
    "# when ever we have one hot encoded categorical value we should use 'categorical_Crossentropy'\n",
    "              metrics=['accuracy'])\n",
    "\n",
    "model.fit(X_train_scaled, y_train_categorical, epochs=50)"
   ]
  },
  {
   "cell_type": "code",
   "execution_count": 41,
   "id": "85b6ca64",
   "metadata": {},
   "outputs": [
    {
     "name": "stdout",
     "output_type": "stream",
     "text": [
      "313/313 [==============================] - 0s 1ms/step\n"
     ]
    },
    {
     "data": {
      "text/plain": [
       "'ship'"
      ]
     },
     "execution_count": 41,
     "metadata": {},
     "output_type": "execute_result"
    }
   ],
   "source": [
    "classes[np.argmax(model.predict(X_test_scaled)[1])]"
   ]
  },
  {
   "cell_type": "code",
   "execution_count": 40,
   "id": "ac84af8d",
   "metadata": {},
   "outputs": [
    {
     "data": {
      "text/plain": [
       "'ship'"
      ]
     },
     "execution_count": 40,
     "metadata": {},
     "output_type": "execute_result"
    }
   ],
   "source": [
    "classes[y_test[1][0]]"
   ]
  },
  {
   "cell_type": "code",
   "execution_count": 42,
   "id": "7f355082",
   "metadata": {},
   "outputs": [
    {
     "name": "stdout",
     "output_type": "stream",
     "text": [
      "313/313 [==============================] - 1s 2ms/step - loss: 2.0177 - accuracy: 0.4929\n"
     ]
    },
    {
     "data": {
      "text/plain": [
       "[2.0177299976348877, 0.492900013923645]"
      ]
     },
     "execution_count": 42,
     "metadata": {},
     "output_type": "execute_result"
    }
   ],
   "source": [
    "model.evaluate(X_test_scaled, y_test_categorical)"
   ]
  },
  {
   "cell_type": "code",
   "execution_count": 43,
   "id": "f684d22d",
   "metadata": {},
   "outputs": [],
   "source": [
    "def get_model():\n",
    "    model = keras.Sequential([\n",
    "            keras.layers.Flatten(input_shape=(32, 32, 3)), # input layer\n",
    "            keras.layers.Dense(3000,activation='relu'), # hidden layer 1\n",
    "            keras.layers.Dense(3000,activation='relu'), # hidden layer 2\n",
    "            keras.layers.Dense(10, activation='sigmoid') # output layer\n",
    "            ])\n",
    "\n",
    "    model.compile(optimizer='SGD',\n",
    "              loss='categorical_crossentropy', \n",
    "# when ever we have one hot encoded categorical value we should use 'categorical_Crossentropy'\n",
    "              metrics=['accuracy'])\n",
    "\n",
    "    return model"
   ]
  },
  {
   "cell_type": "markdown",
   "id": "9813bae3",
   "metadata": {},
   "source": [
    "#### CPU Benchmarking"
   ]
  },
  {
   "cell_type": "code",
   "execution_count": 44,
   "id": "e9df638c",
   "metadata": {},
   "outputs": [
    {
     "name": "stdout",
     "output_type": "stream",
     "text": [
      "1563/1563 [==============================] - 52s 33ms/step - loss: 1.8099 - accuracy: 0.3582\n",
      "52.2 s ± 0 ns per loop (mean ± std. dev. of 1 run, 1 loop each)\n"
     ]
    }
   ],
   "source": [
    "%%timeit -n1 -r1  # arguments for executing it only once\n",
    "with tf.device('/CPU:0'):\n",
    "    cpu_model = get_model()\n",
    "    cpu_model.fit(X_train_scaled, y_train_categorical, epochs = 1)"
   ]
  },
  {
   "cell_type": "markdown",
   "id": "81083f2a",
   "metadata": {},
   "source": [
    "#### GPU Benchmarking"
   ]
  },
  {
   "cell_type": "code",
   "execution_count": 45,
   "id": "643f2f00",
   "metadata": {},
   "outputs": [
    {
     "name": "stdout",
     "output_type": "stream",
     "text": [
      "1563/1563 [==============================] - 6s 3ms/step - loss: 1.8091 - accuracy: 0.3580\n",
      "6.47 s ± 0 ns per loop (mean ± std. dev. of 1 run, 1 loop each)\n"
     ]
    }
   ],
   "source": [
    "%%timeit -n1 -r1  # arguments for executing it only once\n",
    "with tf.device('/GPU:0'):\n",
    "    cpu_model = get_model()\n",
    "    cpu_model.fit(X_train_scaled, y_train_categorical, epochs = 1)"
   ]
  },
  {
   "cell_type": "code",
   "execution_count": null,
   "id": "76e200fb",
   "metadata": {},
   "outputs": [],
   "source": []
  }
 ],
 "metadata": {
  "kernelspec": {
   "display_name": "py310",
   "language": "python",
   "name": "python3"
  },
  "language_info": {
   "codemirror_mode": {
    "name": "ipython",
    "version": 3
   },
   "file_extension": ".py",
   "mimetype": "text/x-python",
   "name": "python",
   "nbconvert_exporter": "python",
   "pygments_lexer": "ipython3",
   "version": "3.10.16"
  }
 },
 "nbformat": 4,
 "nbformat_minor": 5
}

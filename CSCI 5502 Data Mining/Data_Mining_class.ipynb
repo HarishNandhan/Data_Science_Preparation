{
 "cells": [
  {
   "cell_type": "code",
   "execution_count": null,
   "metadata": {
    "colab": {
     "base_uri": "https://localhost:8080/"
    },
    "id": "Gh7v_Z64dnlB",
    "outputId": "060160b7-ee28-463f-96ca-e5553fe0eeb2"
   },
   "outputs": [
    {
     "name": "stdout",
     "output_type": "stream",
     "text": [
      "Dataset URL: https://www.kaggle.com/datasets/earthfromtop/amazon-sales-fy202021\n",
      "License(s): CC0-1.0\n",
      "Downloading amazon-sales-fy202021.zip to /content\n",
      " 52% 6.00M/11.6M [00:00<00:00, 57.2MB/s]\n",
      "100% 11.6M/11.6M [00:00<00:00, 81.7MB/s]\n"
     ]
    }
   ],
   "source": [
    "!kaggle datasets download -d earthfromtop/amazon-sales-fy202021"
   ]
  },
  {
   "cell_type": "code",
   "execution_count": null,
   "metadata": {
    "colab": {
     "base_uri": "https://localhost:8080/"
    },
    "id": "5knvoLBNbu-q",
    "outputId": "b2842be8-6dff-4f63-e36f-d6f33919c88c"
   },
   "outputs": [
    {
     "name": "stdout",
     "output_type": "stream",
     "text": [
      "Archive:  amazon-consumer-behaviour-dataset.zip\n",
      "  inflating: Amazon Customer Behavior Survey.csv  \n"
     ]
    }
   ],
   "source": [
    "!unzip \\*.zip && rm *.zip"
   ]
  },
  {
   "cell_type": "code",
   "execution_count": null,
   "metadata": {
    "colab": {
     "base_uri": "https://localhost:8080/"
    },
    "id": "BM1VHIsJb3kz",
    "outputId": "63612000-035d-4066-de10-9bba08fc4282"
   },
   "outputs": [
    {
     "name": "stdout",
     "output_type": "stream",
     "text": [
      "Dataset URL: https://www.kaggle.com/datasets/swathiunnikrishnan/amazon-consumer-behaviour-dataset\n",
      "License(s): other\n",
      "Downloading amazon-consumer-behaviour-dataset.zip to /content\n",
      "  0% 0.00/15.5k [00:00<?, ?B/s]\n",
      "100% 15.5k/15.5k [00:00<00:00, 26.2MB/s]\n"
     ]
    }
   ],
   "source": [
    "!kaggle datasets download -d swathiunnikrishnan/amazon-consumer-behaviour-dataset\n",
    "\n"
   ]
  },
  {
   "cell_type": "code",
   "execution_count": null,
   "metadata": {
    "colab": {
     "base_uri": "https://localhost:8080/"
    },
    "id": "PvjVle2yiMwB",
    "outputId": "225e56ea-cc25-4d1e-b4c4-e0d7ad5e67de"
   },
   "outputs": [
    {
     "name": "stdout",
     "output_type": "stream",
     "text": [
      "Archive:  amazon-consumer-behaviour-dataset.zip\n",
      "  inflating: Amazon Customer Behavior Survey.csv  \n"
     ]
    }
   ],
   "source": [
    "!unzip \\*.zip && rm *.zip"
   ]
  },
  {
   "cell_type": "code",
   "execution_count": 17,
   "metadata": {
    "colab": {
     "base_uri": "https://localhost:8080/"
    },
    "id": "mOeEXbAMikZG",
    "outputId": "60db3f52-6740-4a08-fd1c-a9b96e426d63"
   },
   "outputs": [
    {
     "name": "stderr",
     "output_type": "stream",
     "text": [
      "<ipython-input-17-ab8c5569b274>:4: DtypeWarning: Columns (0) have mixed types. Specify dtype option on import or set low_memory=False.\n",
      "  df_amazon_sales = pd.read_csv('/content/Amazon Sales FY2020-21.csv')\n"
     ]
    }
   ],
   "source": [
    "import pandas as pd\n",
    "\n",
    "df_customer_behavior = pd.read_csv('/content/Amazon Customer Behavior Survey.csv')\n",
    "df_amazon_sales = pd.read_csv('/content/Amazon Sales FY2020-21.csv')\n"
   ]
  },
  {
   "cell_type": "code",
   "execution_count": 18,
   "metadata": {
    "id": "u056ruiaWvB2"
   },
   "outputs": [],
   "source": [
    "new_df = pd.DataFrame()\n",
    "new_df['product categories'] = df_customer_behavior['Purchase_Categories']\n",
    "new_df['customer demographies'] = df_customer_behavior['Gender']"
   ]
  },
  {
   "cell_type": "code",
   "execution_count": 19,
   "metadata": {
    "id": "RpAi2A-7YOfX"
   },
   "outputs": [],
   "source": [
    "\n",
    "new_df['purchase dates'] = df_amazon_sales['order_date'].iloc[:602]\n",
    "new_df['purchase amounts in USD'] = df_amazon_sales['price'].iloc[:602]\n"
   ]
  },
  {
   "cell_type": "code",
   "execution_count": 20,
   "metadata": {
    "id": "MvmgZVzjZOMW"
   },
   "outputs": [],
   "source": [
    "new_df = new_df[['purchase amounts in USD', 'product categories', 'customer demographies','purchase dates']]\n",
    "new_df.to_csv('ecommerce.csv', index=False)\n"
   ]
  },
  {
   "cell_type": "code",
   "execution_count": null,
   "metadata": {
    "id": "PApJvyitZ2EF"
   },
   "outputs": [],
   "source": []
  }
 ],
 "metadata": {
  "colab": {
   "provenance": []
  },
  "kernelspec": {
   "display_name": "Python 3 (ipykernel)",
   "language": "python",
   "name": "python3"
  },
  "language_info": {
   "codemirror_mode": {
    "name": "ipython",
    "version": 3
   },
   "file_extension": ".py",
   "mimetype": "text/x-python",
   "name": "python",
   "nbconvert_exporter": "python",
   "pygments_lexer": "ipython3",
   "version": "3.12.4"
  }
 },
 "nbformat": 4,
 "nbformat_minor": 4
}

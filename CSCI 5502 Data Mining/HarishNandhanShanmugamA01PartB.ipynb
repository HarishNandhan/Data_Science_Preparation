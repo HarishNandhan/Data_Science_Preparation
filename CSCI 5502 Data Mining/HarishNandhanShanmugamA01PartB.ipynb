{
 "cells": [
  {
   "cell_type": "markdown",
   "id": "90ac2d1e-53ce-451e-81e3-a07fe7b1a858",
   "metadata": {},
   "source": [
    "Inorder to perform Web Scrapping, the first step is to install the **requests** library which is used for making HTTP requests in Python and **beautifulsoup4** library ehich is used for parsing HTML and XML documents. It is used for scrape and extract data from web pages by parsing the HTML."
   ]
  },
  {
   "cell_type": "code",
   "execution_count": 8,
   "id": "55ecfc9e-d3b9-46e5-89cc-427f5d1d64be",
   "metadata": {},
   "outputs": [
    {
     "name": "stdout",
     "output_type": "stream",
     "text": [
      "Requirement already satisfied: requests==2.32.3 in c:\\users\\yoges\\anaconda3\\lib\\site-packages (2.32.3)\n",
      "Requirement already satisfied: charset-normalizer<4,>=2 in c:\\users\\yoges\\anaconda3\\lib\\site-packages (from requests==2.32.3) (2.0.4)\n",
      "Requirement already satisfied: idna<4,>=2.5 in c:\\users\\yoges\\anaconda3\\lib\\site-packages (from requests==2.32.3) (3.7)\n",
      "Requirement already satisfied: urllib3<3,>=1.21.1 in c:\\users\\yoges\\anaconda3\\lib\\site-packages (from requests==2.32.3) (2.2.2)\n",
      "Requirement already satisfied: certifi>=2017.4.17 in c:\\users\\yoges\\anaconda3\\lib\\site-packages (from requests==2.32.3) (2024.7.4)\n",
      "Requirement already satisfied: beautifulsoup4 in c:\\users\\yoges\\anaconda3\\lib\\site-packages (4.12.3)\n",
      "Requirement already satisfied: soupsieve>1.2 in c:\\users\\yoges\\anaconda3\\lib\\site-packages (from beautifulsoup4) (2.5)\n"
     ]
    }
   ],
   "source": [
    "!pip install requests==2.32.3\n",
    "!pip install beautifulsoup4"
   ]
  },
  {
   "cell_type": "markdown",
   "id": "bafe46d2-5920-484d-8376-513d78fafc64",
   "metadata": {},
   "source": [
    "Now we are importing the libraries, requests, beautifulsoup and urlopen to get the raw HTML data "
   ]
  },
  {
   "cell_type": "code",
   "execution_count": 3,
   "id": "b0d29288-e826-401e-84d8-7343f4d975fb",
   "metadata": {},
   "outputs": [],
   "source": [
    "import requests\n",
    "from bs4 import BeautifulSoup as bs\n",
    "from urllib.request import urlopen"
   ]
  },
  {
   "cell_type": "markdown",
   "id": "77459b0f-0934-4dbf-90d6-eb684514d5df",
   "metadata": {},
   "source": [
    "Defining a variable named nyu_times_url and assining it with the Website link that we are going to scrap"
   ]
  },
  {
   "cell_type": "code",
   "execution_count": 5,
   "id": "7d5c757a-4462-4125-901e-6a138befc1f6",
   "metadata": {},
   "outputs": [
    {
     "data": {
      "text/plain": [
       "'https://www.nytimes.com/books/best-sellers/combined-print-and-e-book-fiction/'"
      ]
     },
     "execution_count": 5,
     "metadata": {},
     "output_type": "execute_result"
    }
   ],
   "source": [
    "nyu_times_url = \"https://www.nytimes.com/books/best-sellers/combined-print-and-e-book-fiction/\" \n",
    "nyu_times_url"
   ]
  },
  {
   "cell_type": "markdown",
   "id": "e17bbaf6-296c-4fc3-a065-da8432242f89",
   "metadata": {},
   "source": [
    "Now 'urlclient' opens a connection to the URL which is specified in the 'nyu_times_url' variable and a response object is assigned to the variable 'urlclient'"
   ]
  },
  {
   "cell_type": "code",
   "execution_count": 6,
   "id": "7f6e65cf-efa6-4b96-80c6-7f8b8632065f",
   "metadata": {},
   "outputs": [],
   "source": [
    "urlclient = urlopen(nyu_times_url)"
   ]
  },
  {
   "cell_type": "code",
   "execution_count": 7,
   "id": "79086ff1-0d57-417a-8241-52e7e4ec5902",
   "metadata": {},
   "outputs": [],
   "source": [
    "nyu_times_page = urlclient.read()"
   ]
  },
  {
   "cell_type": "markdown",
   "id": "10332afb-58e7-4ec0-809f-d07268550b91",
   "metadata": {},
   "source": [
    "Now we are initializing the Beautifulsoup object and using the 'html.parser' for parsing the HTML Webpage."
   ]
  },
  {
   "cell_type": "code",
   "execution_count": 8,
   "id": "5e66c6fa-f538-4ebf-b87a-96775585f179",
   "metadata": {},
   "outputs": [],
   "source": [
    "nyu_times_html = bs(nyu_times_page, 'html.parser')"
   ]
  },
  {
   "cell_type": "markdown",
   "id": "b46f2324-a6c7-410b-9dbf-feec3ba1de6f",
   "metadata": {},
   "source": [
    "This code utilized the BeautifulSoup's 'find_all' function to search the Parsed HTML for all the '\\<li>' element with a target class. \n",
    "This will return a list of these elements and find all the fiction book details in that specific New York Times Sellers web page.\n",
    "Then the result will get stored in the 'fiction_books' variable."
   ]
  },
  {
   "cell_type": "code",
   "execution_count": 14,
   "id": "838d5a8e-94c3-4ca4-8166-e856219d177b",
   "metadata": {},
   "outputs": [
    {
     "data": {
      "text/plain": [
       "[<li class=\"css-1m0jikr\" id=\"QmVzdFNlbGxlckJvb2s6MTY2ODAyNjI1Mi05NzgxNjY4MDI2MjUw\"><article class=\"css-1u6k25n\" itemprop=\"itemListElement\" itemscope=\"\" itemtype=\"https://schema.org/Book\"><div class=\"css-xe4cfy\"><a><p class=\"css-1o26r9v\">New this week</p><h3 class=\"css-5pe77f\" itemprop=\"name\">DAYDREAM</h3><p class=\"css-hjukut\" itemprop=\"author\">by Hannah Grace</p><p class=\"css-heg334\" itemprop=\"publisher\">Atria</p><p class=\"css-14lubdp\" itemprop=\"description\">The third book in the Maple Hills series. A college student with writer’s block offers to tutor the captain of the hockey team.</p></a><div class=\"css-1cpfh5o\"><div class=\"css-fugswm\"><div class=\"css-79elbk\"><button aria-expanded=\"false\" aria-haspopup=\"true\" class=\"css-80zux2\" type=\"button\">Buy<span aria-hidden=\"true\"> ▾</span></button><ul aria-label=\"Links to Book Retailers\" class=\"css-8dud8s\" hidden=\"\"><li><a class=\"css-114t425\" href=\"https://www.amazon.com/dp/1668026252?tag=thenewyorktim-20\" rel=\"noopener noreferrer\" target=\"_blank\">Amazon</a></li><li><a class=\"css-114t425\" href=\"https://goto.applebooks.apple/9781668026250?at=10lIEQ\" rel=\"noopener noreferrer\" target=\"_blank\">Apple Books</a></li><li><a class=\"css-114t425\" href=\"https://www.anrdoezrs.net/click-7990613-11819508?url=https%3A%2F%2Fwww.barnesandnoble.com%2Fw%2F%3Fean%3D9781668026250\" rel=\"noopener noreferrer\" target=\"_blank\">Barnes and Noble</a></li><li><a class=\"css-114t425\" href=\"https://www.anrdoezrs.net/click-7990613-35140?url=https%3A%2F%2Fwww.booksamillion.com%2Fp%2FDAYDREAM%2FHannah%2BGrace%2F9781668026250\" rel=\"noopener noreferrer\" target=\"_blank\">Books-A-Million</a></li><li><a class=\"css-114t425\" href=\"https://bookshop.org/a/3546/9781668026250\" rel=\"noopener noreferrer\" target=\"_blank\">Bookshop.org</a></li></ul></div></div></div></div><footer class=\"css-1d36f7m\"><div class=\"css-szqx50\"><a><img alt=\"DAYDREAM by Hannah Grace\" itemprop=\"image\" role=\"presentation\" src=\"https://storage.googleapis.com/du-prd/books/images/9781668026250.jpg\"/></a></div></footer><meta content=\"1668026252\" itemprop=\"isbn\"/><meta content=\"9781668026250\" itemprop=\"isbn\"/><meta content=\"1\" itemprop=\"position\"/><meta content=\"https://www.nytimes.com/books/best-sellers/2024/09/15/combined-print-and-e-book-fiction#QmVzdFNlbGxlckJvb2s6MTY2ODAyNjI1Mi05NzgxNjY4MDI2MjUw\" itemprop=\"url\"/></article></li>,\n",
       " <li class=\"css-1m0jikr\" id=\"QmVzdFNlbGxlckJvb2s6MTUwMTExMDM2NS05NzgxNTAxMTEwMzY4\"><article class=\"css-1u6k25n\" itemprop=\"itemListElement\" itemscope=\"\" itemtype=\"https://schema.org/Book\"><div class=\"css-xe4cfy\"><a><p class=\"css-1o26r9v\">136<!-- --> weeks on the list</p><h3 class=\"css-5pe77f\" itemprop=\"name\">IT ENDS WITH US</h3><p class=\"css-hjukut\" itemprop=\"author\">by Colleen Hoover</p><p class=\"css-heg334\" itemprop=\"publisher\">Atria</p><p class=\"css-14lubdp\" itemprop=\"description\">A battered wife raised in a violent home attempts to halt the cycle of abuse; the basis of the film.</p></a><div class=\"css-1cpfh5o\"><div class=\"css-fugswm\"><div class=\"css-79elbk\"><button aria-expanded=\"false\" aria-haspopup=\"true\" class=\"css-80zux2\" type=\"button\">Buy<span aria-hidden=\"true\"> ▾</span></button><ul aria-label=\"Links to Book Retailers\" class=\"css-8dud8s\" hidden=\"\"><li><a class=\"css-114t425\" href=\"http://www.amazon.com/Ends-Us-Novel-Colleen-Hoover-ebook/dp/B0176M3U10?tag=thenewyorktim-20\" rel=\"noopener noreferrer\" target=\"_blank\">Amazon</a></li><li><a class=\"css-114t425\" href=\"https://goto.applebooks.apple/9781501110368?at=10lIEQ\" rel=\"noopener noreferrer\" target=\"_blank\">Apple Books</a></li><li><a class=\"css-114t425\" href=\"https://www.anrdoezrs.net/click-7990613-11819508?url=https%3A%2F%2Fwww.barnesandnoble.com%2Fw%2F%3Fean%3D9781501110368\" rel=\"noopener noreferrer\" target=\"_blank\">Barnes and Noble</a></li><li><a class=\"css-114t425\" href=\"https://www.anrdoezrs.net/click-7990613-35140?url=https%3A%2F%2Fwww.booksamillion.com%2Fp%2FIT%2BENDS%2BWITH%2BUS%2FColleen%2BHoover%2F9781501110368\" rel=\"noopener noreferrer\" target=\"_blank\">Books-A-Million</a></li><li><a class=\"css-114t425\" href=\"https://bookshop.org/a/3546/9781501110368\" rel=\"noopener noreferrer\" target=\"_blank\">Bookshop.org</a></li></ul></div></div></div></div><footer class=\"css-1d36f7m\"><div class=\"css-szqx50\"><a><img alt=\"IT ENDS WITH US by Colleen Hoover\" itemprop=\"image\" role=\"presentation\" src=\"https://storage.googleapis.com/du-prd/books/images/9781501110375.jpg\"/></a></div></footer><meta content=\"1501110365\" itemprop=\"isbn\"/><meta content=\"9781501110368\" itemprop=\"isbn\"/><meta content=\"2\" itemprop=\"position\"/><meta content=\"https://www.nytimes.com/books/best-sellers/2024/09/15/combined-print-and-e-book-fiction#QmVzdFNlbGxlckJvb2s6MTUwMTExMDM2NS05NzgxNTAxMTEwMzY4\" itemprop=\"url\"/></article><div class=\"css-1lpu81a\" data-tooltip=\"Ranked 1 last week\"></div><div class=\"css-1dv1kvn\">Ranked 1 last week</div></li>,\n",
       " <li class=\"css-1m0jikr\" id=\"QmVzdFNlbGxlckJvb2s6MTY2ODAwMTIyNS05NzgxNjY4MDAxMjI2\"><article class=\"css-1u6k25n\" itemprop=\"itemListElement\" itemscope=\"\" itemtype=\"https://schema.org/Book\"><div class=\"css-xe4cfy\"><a><p class=\"css-1o26r9v\">52<!-- --> weeks on the list</p><h3 class=\"css-5pe77f\" itemprop=\"name\">IT STARTS WITH US</h3><p class=\"css-hjukut\" itemprop=\"author\">by Colleen Hoover</p><p class=\"css-heg334\" itemprop=\"publisher\">Atria</p><p class=\"css-14lubdp\" itemprop=\"description\">In the sequel to “It Ends With Us,” Lily deals with her jealous ex-husband as she reconnects with her first boyfriend.</p></a><div class=\"css-1cpfh5o\"><div class=\"css-fugswm\"><div class=\"css-79elbk\"><button aria-expanded=\"false\" aria-haspopup=\"true\" class=\"css-80zux2\" type=\"button\">Buy<span aria-hidden=\"true\"> ▾</span></button><ul aria-label=\"Links to Book Retailers\" class=\"css-8dud8s\" hidden=\"\"><li><a class=\"css-114t425\" href=\"https://www.amazon.com/dp/1668001225?tag=thenewyorktim-20\" rel=\"noopener noreferrer\" target=\"_blank\">Amazon</a></li><li><a class=\"css-114t425\" href=\"https://goto.applebooks.apple/9781668001226?at=10lIEQ\" rel=\"noopener noreferrer\" target=\"_blank\">Apple Books</a></li><li><a class=\"css-114t425\" href=\"https://www.anrdoezrs.net/click-7990613-11819508?url=https%3A%2F%2Fwww.barnesandnoble.com%2Fw%2F%3Fean%3D9781668001226\" rel=\"noopener noreferrer\" target=\"_blank\">Barnes and Noble</a></li><li><a class=\"css-114t425\" href=\"https://www.anrdoezrs.net/click-7990613-35140?url=https%3A%2F%2Fwww.booksamillion.com%2Fp%2FIT%2BSTARTS%2BWITH%2BUS%2FColleen%2BHoover%2F9781668001226\" rel=\"noopener noreferrer\" target=\"_blank\">Books-A-Million</a></li><li><a class=\"css-114t425\" href=\"https://bookshop.org/a/3546/9781668001226\" rel=\"noopener noreferrer\" target=\"_blank\">Bookshop.org</a></li></ul></div></div></div></div><footer class=\"css-1d36f7m\"><div class=\"css-szqx50\"><a><img alt=\"IT STARTS WITH US by Colleen Hoover\" itemprop=\"image\" role=\"presentation\" src=\"https://storage.googleapis.com/du-prd/books/images/9781668001226.jpg\"/></a></div></footer><meta content=\"1668001225\" itemprop=\"isbn\"/><meta content=\"9781668001226\" itemprop=\"isbn\"/><meta content=\"3\" itemprop=\"position\"/><meta content=\"https://www.nytimes.com/books/best-sellers/2024/09/15/combined-print-and-e-book-fiction#QmVzdFNlbGxlckJvb2s6MTY2ODAwMTIyNS05NzgxNjY4MDAxMjI2\" itemprop=\"url\"/></article><div class=\"css-1lpu81a\" data-tooltip=\"Ranked 2 last week\"></div><div class=\"css-1dv1kvn\">Ranked 2 last week</div></li>,\n",
       " <li class=\"css-1m0jikr\" id=\"QmVzdFNlbGxlckJvb2s6MTI1MDE3ODYzMC05NzgxMjUwMTc4NjMz\"><article class=\"css-1u6k25n\" itemprop=\"itemListElement\" itemscope=\"\" itemtype=\"https://schema.org/Book\"><div class=\"css-xe4cfy\"><a><p class=\"css-1o26r9v\">30<!-- --> weeks on the list</p><h3 class=\"css-5pe77f\" itemprop=\"name\">THE WOMEN</h3><p class=\"css-hjukut\" itemprop=\"author\">by Kristin Hannah</p><p class=\"css-heg334\" itemprop=\"publisher\">St. Martin's</p><p class=\"css-14lubdp\" itemprop=\"description\">In 1965, a nursing student follows her brother to serve during the Vietnam War and returns to a divided America.</p></a><div class=\"css-1cpfh5o\"><div class=\"css-fugswm\"><div class=\"css-79elbk\"><button aria-expanded=\"false\" aria-haspopup=\"true\" class=\"css-80zux2\" type=\"button\">Buy<span aria-hidden=\"true\"> ▾</span></button><ul aria-label=\"Links to Book Retailers\" class=\"css-8dud8s\" hidden=\"\"><li><a class=\"css-114t425\" href=\"https://www.amazon.com/dp/1250178630?tag=thenewyorktim-20\" rel=\"noopener noreferrer\" target=\"_blank\">Amazon</a></li><li><a class=\"css-114t425\" href=\"https://goto.applebooks.apple/9781250178633?at=10lIEQ\" rel=\"noopener noreferrer\" target=\"_blank\">Apple Books</a></li><li><a class=\"css-114t425\" href=\"https://www.anrdoezrs.net/click-7990613-11819508?url=https%3A%2F%2Fwww.barnesandnoble.com%2Fw%2F%3Fean%3D9781250178633\" rel=\"noopener noreferrer\" target=\"_blank\">Barnes and Noble</a></li><li><a class=\"css-114t425\" href=\"https://www.anrdoezrs.net/click-7990613-35140?url=https%3A%2F%2Fwww.booksamillion.com%2Fp%2FTHE%2BWOMEN%2FKristin%2BHannah%2F9781250178633\" rel=\"noopener noreferrer\" target=\"_blank\">Books-A-Million</a></li><li><a class=\"css-114t425\" href=\"https://bookshop.org/a/3546/9781250178633\" rel=\"noopener noreferrer\" target=\"_blank\">Bookshop.org</a></li></ul></div></div></div></div><footer class=\"css-1d36f7m\"><div class=\"css-szqx50\"><a><img alt=\"THE WOMEN by Kristin Hannah\" itemprop=\"image\" role=\"presentation\" src=\"https://storage.googleapis.com/du-prd/books/images/9781250178633.jpg\"/></a></div></footer><meta content=\"1250178630\" itemprop=\"isbn\"/><meta content=\"9781250178633\" itemprop=\"isbn\"/><meta content=\"4\" itemprop=\"position\"/><meta content=\"https://www.nytimes.com/books/best-sellers/2024/09/15/combined-print-and-e-book-fiction#QmVzdFNlbGxlckJvb2s6MTI1MDE3ODYzMC05NzgxMjUwMTc4NjMz\" itemprop=\"url\"/></article><div class=\"css-1h7ov7u\" data-tooltip=\"Ranked 5 last week\"></div><div class=\"css-1dv1kvn\">Ranked 5 last week</div></li>,\n",
       " <li class=\"css-1m0jikr\" id=\"QmVzdFNlbGxlckJvb2s6MTYzNTU3NTU2Ny05NzgxNjM1NTc1NTY5\"><article class=\"css-1u6k25n\" itemprop=\"itemListElement\" itemscope=\"\" itemtype=\"https://schema.org/Book\"><div class=\"css-xe4cfy\"><a><p class=\"css-1o26r9v\">21<!-- --> weeks on the list</p><h3 class=\"css-5pe77f\" itemprop=\"name\">A COURT OF THORNS AND ROSES</h3><p class=\"css-hjukut\" itemprop=\"author\">by Sarah J. Maas</p><p class=\"css-heg334\" itemprop=\"publisher\">Bloomsbury</p><p class=\"css-14lubdp\" itemprop=\"description\">After killing a wolf in the woods, Feyre is taken from her home and placed inside the world of the Fae.</p></a><div class=\"css-1cpfh5o\"><div class=\"css-fugswm\"><div class=\"css-79elbk\"><button aria-expanded=\"false\" aria-haspopup=\"true\" class=\"css-80zux2\" type=\"button\">Buy<span aria-hidden=\"true\"> ▾</span></button><ul aria-label=\"Links to Book Retailers\" class=\"css-8dud8s\" hidden=\"\"><li><a class=\"css-114t425\" href=\"http://www.amazon.com/Court-Thorns-Roses-Sarah-Maas-ebook/dp/B00OZP5VRS?tag=thenewyorktim-20\" rel=\"noopener noreferrer\" target=\"_blank\">Amazon</a></li><li><a class=\"css-114t425\" href=\"https://goto.applebooks.apple/9781635575569?at=10lIEQ\" rel=\"noopener noreferrer\" target=\"_blank\">Apple Books</a></li><li><a class=\"css-114t425\" href=\"https://www.anrdoezrs.net/click-7990613-11819508?url=https%3A%2F%2Fwww.barnesandnoble.com%2Fw%2F%3Fean%3D9781635575569\" rel=\"noopener noreferrer\" target=\"_blank\">Barnes and Noble</a></li><li><a class=\"css-114t425\" href=\"https://www.anrdoezrs.net/click-7990613-35140?url=https%3A%2F%2Fwww.booksamillion.com%2Fp%2FA%2BCOURT%2BOF%2BTHORNS%2BAND%2BROSES%2FSarah%2BJ.%2BMaas%2F9781635575569\" rel=\"noopener noreferrer\" target=\"_blank\">Books-A-Million</a></li><li><a class=\"css-114t425\" href=\"https://bookshop.org/a/3546/9781635575569\" rel=\"noopener noreferrer\" target=\"_blank\">Bookshop.org</a></li></ul></div></div></div></div><footer class=\"css-1d36f7m\"><div class=\"css-szqx50\"><a><img alt=\"A COURT OF THORNS AND ROSES by Sarah J. Maas\" itemprop=\"image\" role=\"presentation\" src=\"https://storage.googleapis.com/du-prd/books/images/9781619634459.jpg\"/></a></div></footer><meta content=\"1619634457\" itemprop=\"isbn\"/><meta content=\"9781619634459\" itemprop=\"isbn\"/><meta content=\"5\" itemprop=\"position\"/><meta content=\"https://www.nytimes.com/books/best-sellers/2024/09/15/combined-print-and-e-book-fiction#QmVzdFNlbGxlckJvb2s6MTYzNTU3NTU2Ny05NzgxNjM1NTc1NTY5\" itemprop=\"url\"/></article><div class=\"css-1h7ov7u\" data-tooltip=\"Ranked 7 last week\"></div><div class=\"css-1dv1kvn\">Ranked 7 last week</div></li>,\n",
       " <li class=\"css-1m0jikr\" id=\"QmVzdFNlbGxlckJvb2s6MTUzODc0MjU3OC05NzgxNTM4NzQyNTcw\"><article class=\"css-1u6k25n\" itemprop=\"itemListElement\" itemscope=\"\" itemtype=\"https://schema.org/Book\"><div class=\"css-xe4cfy\"><a><p class=\"css-1o26r9v\">60<!-- --> weeks on the list</p><h3 class=\"css-5pe77f\" itemprop=\"name\">THE HOUSEMAID</h3><p class=\"css-hjukut\" itemprop=\"author\">by Freida McFadden</p><p class=\"css-heg334\" itemprop=\"publisher\">Grand Central</p><p class=\"css-14lubdp\" itemprop=\"description\">Troubles surface when a woman looking to make a fresh start takes a job in the home of the Winchesters.</p></a><div class=\"css-1cpfh5o\"><div class=\"css-fugswm\"><div class=\"css-79elbk\"><button aria-expanded=\"false\" aria-haspopup=\"true\" class=\"css-80zux2\" type=\"button\">Buy<span aria-hidden=\"true\"> ▾</span></button><ul aria-label=\"Links to Book Retailers\" class=\"css-8dud8s\" hidden=\"\"><li><a class=\"css-114t425\" href=\"https://www.amazon.com/dp/1538742578?tag=thenewyorktim-20\" rel=\"noopener noreferrer\" target=\"_blank\">Amazon</a></li><li><a class=\"css-114t425\" href=\"https://goto.applebooks.apple/9781538742570?at=10lIEQ\" rel=\"noopener noreferrer\" target=\"_blank\">Apple Books</a></li><li><a class=\"css-114t425\" href=\"https://www.anrdoezrs.net/click-7990613-11819508?url=https%3A%2F%2Fwww.barnesandnoble.com%2Fw%2F%3Fean%3D9781538742570\" rel=\"noopener noreferrer\" target=\"_blank\">Barnes and Noble</a></li><li><a class=\"css-114t425\" href=\"https://www.anrdoezrs.net/click-7990613-35140?url=https%3A%2F%2Fwww.booksamillion.com%2Fp%2FTHE%2BHOUSEMAID%2FFreida%2BMcFadden%2F9781538742570\" rel=\"noopener noreferrer\" target=\"_blank\">Books-A-Million</a></li><li><a class=\"css-114t425\" href=\"https://bookshop.org/a/3546/9781538742570\" rel=\"noopener noreferrer\" target=\"_blank\">Bookshop.org</a></li></ul></div></div></div></div><footer class=\"css-1d36f7m\"><div class=\"css-szqx50\"><a><img alt=\"THE HOUSEMAID by Freida McFadden\" itemprop=\"image\" role=\"presentation\" src=\"https://storage.googleapis.com/du-prd/books/images/9781538742570.jpg\"/></a></div></footer><meta content=\"1538742578\" itemprop=\"isbn\"/><meta content=\"9781538742570\" itemprop=\"isbn\"/><meta content=\"6\" itemprop=\"position\"/><meta content=\"https://www.nytimes.com/books/best-sellers/2024/09/15/combined-print-and-e-book-fiction#QmVzdFNlbGxlckJvb2s6MTUzODc0MjU3OC05NzgxNTM4NzQyNTcw\" itemprop=\"url\"/></article><div class=\"css-1vdc7s9\" data-tooltip=\"Ranked 6 last week\"></div><div class=\"css-1dv1kvn\">Ranked 6 last week</div></li>,\n",
       " <li class=\"css-1m0jikr\" id=\"QmVzdFNlbGxlckJvb2s6Tm9uZS05NzgxNjQ5Mzc1ODU4\"><article class=\"css-1u6k25n\" itemprop=\"itemListElement\" itemscope=\"\" itemtype=\"https://schema.org/Book\"><div class=\"css-xe4cfy\"><a><p class=\"css-1o26r9v\">35<!-- --> weeks on the list</p><h3 class=\"css-5pe77f\" itemprop=\"name\">IRON FLAME</h3><p class=\"css-hjukut\" itemprop=\"author\">by Rebecca Yarros</p><p class=\"css-heg334\" itemprop=\"publisher\">Red Tower</p><p class=\"css-14lubdp\" itemprop=\"description\">The second book in the Empyrean series. Violet Sorrengail’s next round of training might require her to betray the man she loves.</p></a><div class=\"css-1cpfh5o\"><div class=\"css-fugswm\"><div class=\"css-79elbk\"><button aria-expanded=\"false\" aria-haspopup=\"true\" class=\"css-80zux2\" type=\"button\">Buy<span aria-hidden=\"true\"> ▾</span></button><ul aria-label=\"Links to Book Retailers\" class=\"css-8dud8s\" hidden=\"\"><li><a class=\"css-114t425\" href=\"https://www.amazon.com/dp/1649374178?tag=thenewyorktim-20\" rel=\"noopener noreferrer\" target=\"_blank\">Amazon</a></li><li><a class=\"css-114t425\" href=\"https://goto.applebooks.apple/9781649375858?at=10lIEQ\" rel=\"noopener noreferrer\" target=\"_blank\">Apple Books</a></li><li><a class=\"css-114t425\" href=\"https://www.anrdoezrs.net/click-7990613-11819508?url=https%3A%2F%2Fwww.barnesandnoble.com%2Fw%2F%3Fean%3D9781649375858\" rel=\"noopener noreferrer\" target=\"_blank\">Barnes and Noble</a></li><li><a class=\"css-114t425\" href=\"https://www.anrdoezrs.net/click-7990613-35140?url=https%3A%2F%2Fwww.booksamillion.com%2Fp%2FIRON%2BFLAME%2FRebecca%2BYarros%2F9781649375858\" rel=\"noopener noreferrer\" target=\"_blank\">Books-A-Million</a></li><li><a class=\"css-114t425\" href=\"https://bookshop.org/a/3546/9781649375858\" rel=\"noopener noreferrer\" target=\"_blank\">Bookshop.org</a></li></ul></div></div></div></div><footer class=\"css-1d36f7m\"><div class=\"css-szqx50\"><a><img alt=\"IRON FLAME by Rebecca Yarros\" itemprop=\"image\" role=\"presentation\" src=\"https://storage.googleapis.com/du-prd/books/images/9781649374172.jpg\"/></a></div></footer><meta content=\"1649374178\" itemprop=\"isbn\"/><meta content=\"9781649374172\" itemprop=\"isbn\"/><meta content=\"7\" itemprop=\"position\"/><meta content=\"https://www.nytimes.com/books/best-sellers/2024/09/15/combined-print-and-e-book-fiction#QmVzdFNlbGxlckJvb2s6Tm9uZS05NzgxNjQ5Mzc1ODU4\" itemprop=\"url\"/></article><div class=\"css-1h7ov7u\" data-tooltip=\"Ranked 11 last week\"></div><div class=\"css-1dv1kvn\">Ranked 11 last week</div></li>,\n",
       " <li class=\"css-1m0jikr\" id=\"QmVzdFNlbGxlckJvb2s6MDA2MzI1MTk4MS05NzgwMDYzMjUxOTg0\"><article class=\"css-1u6k25n\" itemprop=\"itemListElement\" itemscope=\"\" itemtype=\"https://schema.org/Book\"><div class=\"css-xe4cfy\"><a><p class=\"css-1o26r9v\">29<!-- --> weeks on the list</p><h3 class=\"css-5pe77f\" itemprop=\"name\">DEMON COPPERHEAD</h3><p class=\"css-hjukut\" itemprop=\"author\">by Barbara Kingsolver</p><p class=\"css-heg334\" itemprop=\"publisher\">Harper Perennial</p><p class=\"css-14lubdp\" itemprop=\"description\">Winner of a 2023 Pulitzer Prize for fiction. A reimagining of Charles Dickens’s “David Copperfield” set in the mountains of southern Appalachia.</p></a><div class=\"css-1cpfh5o\"><div class=\"css-fugswm\"><div class=\"css-79elbk\"><button aria-expanded=\"false\" aria-haspopup=\"true\" class=\"css-80zux2\" type=\"button\">Buy<span aria-hidden=\"true\"> ▾</span></button><ul aria-label=\"Links to Book Retailers\" class=\"css-8dud8s\" hidden=\"\"><li><a class=\"css-114t425\" href=\"https://www.amazon.com/dp/0063251922?tag=thenewyorktim-20\" rel=\"noopener noreferrer\" target=\"_blank\">Amazon</a></li><li><a class=\"css-114t425\" href=\"https://goto.applebooks.apple/9780063251984?at=10lIEQ\" rel=\"noopener noreferrer\" target=\"_blank\">Apple Books</a></li><li><a class=\"css-114t425\" href=\"https://www.anrdoezrs.net/click-7990613-11819508?url=https%3A%2F%2Fwww.barnesandnoble.com%2Fw%2F%3Fean%3D9780063251984\" rel=\"noopener noreferrer\" target=\"_blank\">Barnes and Noble</a></li><li><a class=\"css-114t425\" href=\"https://www.anrdoezrs.net/click-7990613-35140?url=https%3A%2F%2Fwww.booksamillion.com%2Fp%2FDEMON%2BCOPPERHEAD%2FBarbara%2BKingsolver%2F9780063251984\" rel=\"noopener noreferrer\" target=\"_blank\">Books-A-Million</a></li><li><a class=\"css-114t425\" href=\"https://bookshop.org/a/3546/9780063251984\" rel=\"noopener noreferrer\" target=\"_blank\">Bookshop.org</a></li></ul></div></div></div></div><footer class=\"css-1d36f7m\"><div class=\"css-szqx50\"><a><img alt=\"DEMON COPPERHEAD by Barbara Kingsolver\" itemprop=\"image\" role=\"presentation\" src=\"https://storage.googleapis.com/du-prd/books/images/9780063251922.jpg\"/></a></div></footer><meta content=\"0063251922\" itemprop=\"isbn\"/><meta content=\"9780063251922\" itemprop=\"isbn\"/><meta content=\"8\" itemprop=\"position\"/><meta content=\"https://www.nytimes.com/books/best-sellers/2024/09/15/combined-print-and-e-book-fiction#QmVzdFNlbGxlckJvb2s6MDA2MzI1MTk4MS05NzgwMDYzMjUxOTg0\" itemprop=\"url\"/></article></li>,\n",
       " <li class=\"css-1m0jikr\" id=\"QmVzdFNlbGxlckJvb2s6MTI1MDgzNjg1OS05NzgxMjUwODM2ODU0\"><article class=\"css-1u6k25n\" itemprop=\"itemListElement\" itemscope=\"\" itemtype=\"https://schema.org/Book\"><div class=\"css-xe4cfy\"><a><p class=\"css-1o26r9v\">New this week</p><h3 class=\"css-5pe77f\" itemprop=\"name\">THE DARK WIVES</h3><p class=\"css-hjukut\" itemprop=\"author\">by Ann Cleeves</p><p class=\"css-heg334\" itemprop=\"publisher\">Minotaur</p><p class=\"css-14lubdp\" itemprop=\"description\">The 11th book in the Vera Stanhope series. Vera and her team search for a missing teen who may be responsible for murder.</p></a><div class=\"css-1cpfh5o\"><div class=\"css-fugswm\"><div class=\"css-79elbk\"><button aria-expanded=\"false\" aria-haspopup=\"true\" class=\"css-80zux2\" type=\"button\">Buy<span aria-hidden=\"true\"> ▾</span></button><ul aria-label=\"Links to Book Retailers\" class=\"css-8dud8s\" hidden=\"\"><li><a class=\"css-114t425\" href=\"https://www.amazon.com/dp/1250836840?tag=thenewyorktim-20\" rel=\"noopener noreferrer\" target=\"_blank\">Amazon</a></li><li><a class=\"css-114t425\" href=\"https://goto.applebooks.apple/9781250836854?at=10lIEQ\" rel=\"noopener noreferrer\" target=\"_blank\">Apple Books</a></li><li><a class=\"css-114t425\" href=\"https://www.anrdoezrs.net/click-7990613-11819508?url=https%3A%2F%2Fwww.barnesandnoble.com%2Fw%2F%3Fean%3D9781250836854\" rel=\"noopener noreferrer\" target=\"_blank\">Barnes and Noble</a></li><li><a class=\"css-114t425\" href=\"https://www.anrdoezrs.net/click-7990613-35140?url=https%3A%2F%2Fwww.booksamillion.com%2Fp%2FTHE%2BDARK%2BWIVES%2FAnn%2BCleeves%2F9781250836854\" rel=\"noopener noreferrer\" target=\"_blank\">Books-A-Million</a></li><li><a class=\"css-114t425\" href=\"https://bookshop.org/a/3546/9781250836854\" rel=\"noopener noreferrer\" target=\"_blank\">Bookshop.org</a></li></ul></div></div></div></div><footer class=\"css-1d36f7m\"><div class=\"css-szqx50\"><a><img alt=\"THE DARK WIVES by Ann Cleeves\" itemprop=\"image\" role=\"presentation\" src=\"https://storage.googleapis.com/du-prd/books/images/9781250836847.jpg\"/></a></div></footer><meta content=\"1250836840\" itemprop=\"isbn\"/><meta content=\"9781250836847\" itemprop=\"isbn\"/><meta content=\"9\" itemprop=\"position\"/><meta content=\"https://www.nytimes.com/books/best-sellers/2024/09/15/combined-print-and-e-book-fiction#QmVzdFNlbGxlckJvb2s6MTI1MDgzNjg1OS05NzgxMjUwODM2ODU0\" itemprop=\"url\"/></article></li>,\n",
       " <li class=\"css-1m0jikr\" id=\"QmVzdFNlbGxlckJvb2s6MDU5MzQ5NzIxWC05NzgwNTkzNDk3MjEw\"><article class=\"css-1u6k25n\" itemprop=\"itemListElement\" itemscope=\"\" itemtype=\"https://schema.org/Book\"><div class=\"css-xe4cfy\"><a><p class=\"css-1o26r9v\">2<!-- --> weeks on the list</p><h3 class=\"css-5pe77f\" itemprop=\"name\">BY ANY OTHER NAME</h3><p class=\"css-hjukut\" itemprop=\"author\">by Jodi Picoult</p><p class=\"css-heg334\" itemprop=\"publisher\">Ballantine</p><p class=\"css-14lubdp\" itemprop=\"description\">A young woman’s play about her ancestor Emilia Bassano, who wrote Shakespeare’s works, is submitted to a festival under a male pseudonym.</p></a><div class=\"css-1cpfh5o\"><div class=\"css-fugswm\"><div class=\"css-79elbk\"><button aria-expanded=\"false\" aria-haspopup=\"true\" class=\"css-80zux2\" type=\"button\">Buy<span aria-hidden=\"true\"> ▾</span></button><ul aria-label=\"Links to Book Retailers\" class=\"css-8dud8s\" hidden=\"\"><li><a class=\"css-114t425\" href=\"https://www.amazon.com/dp/059349721X?tag=thenewyorktim-20\" rel=\"noopener noreferrer\" target=\"_blank\">Amazon</a></li><li><a class=\"css-114t425\" href=\"https://goto.applebooks.apple/9780593497210?at=10lIEQ\" rel=\"noopener noreferrer\" target=\"_blank\">Apple Books</a></li><li><a class=\"css-114t425\" href=\"https://www.anrdoezrs.net/click-7990613-11819508?url=https%3A%2F%2Fwww.barnesandnoble.com%2Fw%2F%3Fean%3D9780593497210\" rel=\"noopener noreferrer\" target=\"_blank\">Barnes and Noble</a></li><li><a class=\"css-114t425\" href=\"https://www.anrdoezrs.net/click-7990613-35140?url=https%3A%2F%2Fwww.booksamillion.com%2Fp%2FBY%2BANY%2BOTHER%2BNAME%2FJodi%2BPicoult%2F9780593497210\" rel=\"noopener noreferrer\" target=\"_blank\">Books-A-Million</a></li><li><a class=\"css-114t425\" href=\"https://bookshop.org/a/3546/9780593497210\" rel=\"noopener noreferrer\" target=\"_blank\">Bookshop.org</a></li></ul></div></div></div></div><footer class=\"css-1d36f7m\"><div class=\"css-szqx50\"><a><img alt=\"BY ANY OTHER NAME by Jodi Picoult\" itemprop=\"image\" role=\"presentation\" src=\"https://storage.googleapis.com/du-prd/books/images/9780593497210.jpg\"/></a></div></footer><meta content=\"059349721X\" itemprop=\"isbn\"/><meta content=\"9780593497210\" itemprop=\"isbn\"/><meta content=\"10\" itemprop=\"position\"/><meta content=\"https://www.nytimes.com/books/best-sellers/2024/09/15/combined-print-and-e-book-fiction#QmVzdFNlbGxlckJvb2s6MDU5MzQ5NzIxWC05NzgwNTkzNDk3MjEw\" itemprop=\"url\"/></article><div class=\"css-1lpu81a\" data-tooltip=\"Ranked 3 last week\"></div><div class=\"css-1dv1kvn\">Ranked 3 last week</div></li>,\n",
       " <li class=\"css-1m0jikr\" id=\"QmVzdFNlbGxlckJvb2s6MDU5MzQxODkxMy05NzgwNTkzNDE4OTE4\"><article class=\"css-1u6k25n\" itemprop=\"itemListElement\" itemscope=\"\" itemtype=\"https://schema.org/Book\"><div class=\"css-xe4cfy\"><a><p class=\"css-1o26r9v\">6<!-- --> weeks on the list</p><h3 class=\"css-5pe77f\" itemprop=\"name\">THE GOD OF THE WOODS</h3><p class=\"css-hjukut\" itemprop=\"author\">by Liz Moore</p><p class=\"css-heg334\" itemprop=\"publisher\">Riverhead</p><p class=\"css-14lubdp\" itemprop=\"description\">When a 13-year-old girl disappears from an Adirondack summer camp in 1975, secrets kept by the Van Laar family emerge.</p></a><div class=\"css-1cpfh5o\"><div class=\"css-fugswm\"><div class=\"css-79elbk\"><button aria-expanded=\"false\" aria-haspopup=\"true\" class=\"css-80zux2\" type=\"button\">Buy<span aria-hidden=\"true\"> ▾</span></button><ul aria-label=\"Links to Book Retailers\" class=\"css-8dud8s\" hidden=\"\"><li><a class=\"css-114t425\" href=\"https://www.amazon.com/dp/0593418913?tag=thenewyorktim-20\" rel=\"noopener noreferrer\" target=\"_blank\">Amazon</a></li><li><a class=\"css-114t425\" href=\"https://goto.applebooks.apple/9780593418918?at=10lIEQ\" rel=\"noopener noreferrer\" target=\"_blank\">Apple Books</a></li><li><a class=\"css-114t425\" href=\"https://www.anrdoezrs.net/click-7990613-11819508?url=https%3A%2F%2Fwww.barnesandnoble.com%2Fw%2F%3Fean%3D9780593418918\" rel=\"noopener noreferrer\" target=\"_blank\">Barnes and Noble</a></li><li><a class=\"css-114t425\" href=\"https://www.anrdoezrs.net/click-7990613-35140?url=https%3A%2F%2Fwww.booksamillion.com%2Fp%2FTHE%2BGOD%2BOF%2BTHE%2BWOODS%2FLiz%2BMoore%2F9780593418918\" rel=\"noopener noreferrer\" target=\"_blank\">Books-A-Million</a></li><li><a class=\"css-114t425\" href=\"https://bookshop.org/a/3546/9780593418918\" rel=\"noopener noreferrer\" target=\"_blank\">Bookshop.org</a></li></ul></div></div></div></div><footer class=\"css-1d36f7m\"><div class=\"css-szqx50\"><a><img alt=\"THE GOD OF THE WOODS by Liz Moore\" itemprop=\"image\" role=\"presentation\" src=\"https://storage.googleapis.com/du-prd/books/images/9780593418918.jpg\"/></a></div></footer><meta content=\"0593418913\" itemprop=\"isbn\"/><meta content=\"9780593418918\" itemprop=\"isbn\"/><meta content=\"11\" itemprop=\"position\"/><meta content=\"https://www.nytimes.com/books/best-sellers/2024/09/15/combined-print-and-e-book-fiction#QmVzdFNlbGxlckJvb2s6MDU5MzQxODkxMy05NzgwNTkzNDE4OTE4\" itemprop=\"url\"/></article><div class=\"css-1h7ov7u\" data-tooltip=\"Ranked 15 last week\"></div><div class=\"css-1dv1kvn\">Ranked 15 last week</div></li>,\n",
       " <li class=\"css-1m0jikr\" id=\"QmVzdFNlbGxlckJvb2s6MTYzNTU3NTU4My05NzgxNjM1NTc1NTgz\"><article class=\"css-1u6k25n\" itemprop=\"itemListElement\" itemscope=\"\" itemtype=\"https://schema.org/Book\"><div class=\"css-xe4cfy\"><a><p class=\"css-1o26r9v\">19<!-- --> weeks on the list</p><h3 class=\"css-5pe77f\" itemprop=\"name\">A COURT OF MIST AND FURY</h3><p class=\"css-hjukut\" itemprop=\"author\">by Sarah J. Maas</p><p class=\"css-heg334\" itemprop=\"publisher\">Bloomsbury</p><p class=\"css-14lubdp\" itemprop=\"description\">The second book in the Court of Thorns and Roses series. Feyre gains the powers of the High Fae and a greater evil emerges.</p></a><div class=\"css-1cpfh5o\"><div class=\"css-fugswm\"><div class=\"css-79elbk\"><button aria-expanded=\"false\" aria-haspopup=\"true\" class=\"css-80zux2\" type=\"button\">Buy<span aria-hidden=\"true\"> ▾</span></button><ul aria-label=\"Links to Book Retailers\" class=\"css-8dud8s\" hidden=\"\"><li><a class=\"css-114t425\" href=\"https://www.amazon.com/dp/1635575583?tag=thenewyorktim-20\" rel=\"noopener noreferrer\" target=\"_blank\">Amazon</a></li><li><a class=\"css-114t425\" href=\"https://goto.applebooks.apple/9781635575583?at=10lIEQ\" rel=\"noopener noreferrer\" target=\"_blank\">Apple Books</a></li><li><a class=\"css-114t425\" href=\"https://www.anrdoezrs.net/click-7990613-11819508?url=https%3A%2F%2Fwww.barnesandnoble.com%2Fw%2F%3Fean%3D9781635575583\" rel=\"noopener noreferrer\" target=\"_blank\">Barnes and Noble</a></li><li><a class=\"css-114t425\" href=\"https://www.anrdoezrs.net/click-7990613-35140?url=https%3A%2F%2Fwww.booksamillion.com%2Fp%2FA%2BCOURT%2BOF%2BMIST%2BAND%2BFURY%2FSarah%2BJ.%2BMaas%2F9781635575583\" rel=\"noopener noreferrer\" target=\"_blank\">Books-A-Million</a></li><li><a class=\"css-114t425\" href=\"https://bookshop.org/a/3546/9781635575583\" rel=\"noopener noreferrer\" target=\"_blank\">Bookshop.org</a></li></ul></div></div></div></div><footer class=\"css-1d36f7m\"><div class=\"css-szqx50\"><a><img alt=\"A COURT OF MIST AND FURY by Sarah J. Maas\" itemprop=\"image\" role=\"presentation\" src=\"https://storage.googleapis.com/du-prd/books/images/9781635575583.jpg\"/></a></div></footer><meta content=\"1619634473\" itemprop=\"isbn\"/><meta content=\"9781619634473\" itemprop=\"isbn\"/><meta content=\"12\" itemprop=\"position\"/><meta content=\"https://www.nytimes.com/books/best-sellers/2024/09/15/combined-print-and-e-book-fiction#QmVzdFNlbGxlckJvb2s6MTYzNTU3NTU4My05NzgxNjM1NTc1NTgz\" itemprop=\"url\"/></article><div class=\"css-1h7ov7u\" data-tooltip=\"Ranked 13 last week\"></div><div class=\"css-1dv1kvn\">Ranked 13 last week</div></li>,\n",
       " <li class=\"css-1m0jikr\" id=\"QmVzdFNlbGxlckJvb2s6MTI1MDg5OTU2Ny05NzgxMjUwODk5NTY5\"><article class=\"css-1u6k25n\" itemprop=\"itemListElement\" itemscope=\"\" itemtype=\"https://schema.org/Book\"><div class=\"css-xe4cfy\"><a><p class=\"css-1o26r9v\">4<!-- --> weeks on the list</p><h3 class=\"css-5pe77f\" itemprop=\"name\">THE WEDDING PEOPLE</h3><p class=\"css-hjukut\" itemprop=\"author\">by Alison Espach</p><p class=\"css-heg334\" itemprop=\"publisher\">Holt</p><p class=\"css-14lubdp\" itemprop=\"description\">A woman who is down on her luck forms an unexpected bond with the bride at a wedding in Rhode Island.</p></a><div class=\"css-1cpfh5o\"><div class=\"css-fugswm\"><div class=\"css-79elbk\"><button aria-expanded=\"false\" aria-haspopup=\"true\" class=\"css-80zux2\" type=\"button\">Buy<span aria-hidden=\"true\"> ▾</span></button><ul aria-label=\"Links to Book Retailers\" class=\"css-8dud8s\" hidden=\"\"><li><a class=\"css-114t425\" href=\"https://www.amazon.com/dp/1250899575?tag=thenewyorktim-20\" rel=\"noopener noreferrer\" target=\"_blank\">Amazon</a></li><li><a class=\"css-114t425\" href=\"https://goto.applebooks.apple/9781250899569?at=10lIEQ\" rel=\"noopener noreferrer\" target=\"_blank\">Apple Books</a></li><li><a class=\"css-114t425\" href=\"https://www.anrdoezrs.net/click-7990613-11819508?url=https%3A%2F%2Fwww.barnesandnoble.com%2Fw%2F%3Fean%3D9781250899569\" rel=\"noopener noreferrer\" target=\"_blank\">Barnes and Noble</a></li><li><a class=\"css-114t425\" href=\"https://www.anrdoezrs.net/click-7990613-35140?url=https%3A%2F%2Fwww.booksamillion.com%2Fp%2FTHE%2BWEDDING%2BPEOPLE%2FAlison%2BEspach%2F9781250899569\" rel=\"noopener noreferrer\" target=\"_blank\">Books-A-Million</a></li><li><a class=\"css-114t425\" href=\"https://bookshop.org/a/3546/9781250899569\" rel=\"noopener noreferrer\" target=\"_blank\">Bookshop.org</a></li></ul></div></div></div></div><footer class=\"css-1d36f7m\"><div class=\"css-szqx50\"><a><img alt=\"THE WEDDING PEOPLE by Alison Espach\" itemprop=\"image\" role=\"presentation\" src=\"https://storage.googleapis.com/du-prd/books/images/9781250899576.jpg\"/></a></div></footer><meta content=\"1250899575\" itemprop=\"isbn\"/><meta content=\"9781250899576\" itemprop=\"isbn\"/><meta content=\"13\" itemprop=\"position\"/><meta content=\"https://www.nytimes.com/books/best-sellers/2024/09/15/combined-print-and-e-book-fiction#QmVzdFNlbGxlckJvb2s6MTI1MDg5OTU2Ny05NzgxMjUwODk5NTY5\" itemprop=\"url\"/></article><div class=\"css-1lpu81a\" data-tooltip=\"Ranked 12 last week\"></div><div class=\"css-1dv1kvn\">Ranked 12 last week</div></li>,\n",
       " <li class=\"css-1m0jikr\" id=\"QmVzdFNlbGxlckJvb2s6MTQ2NDIyMTEzOC05NzgxNDY0MjIxMTMy\"><article class=\"css-1u6k25n\" itemprop=\"itemListElement\" itemscope=\"\" itemtype=\"https://schema.org/Book\"><div class=\"css-xe4cfy\"><a><p class=\"css-1o26r9v\">12<!-- --> weeks on the list</p><h3 class=\"css-5pe77f\" itemprop=\"name\">THE HOUSEMAID IS WATCHING</h3><p class=\"css-hjukut\" itemprop=\"author\">by Freida McFadden</p><p class=\"css-heg334\" itemprop=\"publisher\">Poisoned Pen</p><p class=\"css-14lubdp\" itemprop=\"description\">The third book in the Housemaid series. Dangers lurk in a quiet neighborhood.</p></a><div class=\"css-1cpfh5o\"><div class=\"css-fugswm\"><div class=\"css-79elbk\"><button aria-expanded=\"false\" aria-haspopup=\"true\" class=\"css-80zux2\" type=\"button\">Buy<span aria-hidden=\"true\"> ▾</span></button><ul aria-label=\"Links to Book Retailers\" class=\"css-8dud8s\" hidden=\"\"><li><a class=\"css-114t425\" href=\"https://www.amazon.com/dp/1464221138?tag=thenewyorktim-20\" rel=\"noopener noreferrer\" target=\"_blank\">Amazon</a></li><li><a class=\"css-114t425\" href=\"https://goto.applebooks.apple/9781464221132?at=10lIEQ\" rel=\"noopener noreferrer\" target=\"_blank\">Apple Books</a></li><li><a class=\"css-114t425\" href=\"https://www.anrdoezrs.net/click-7990613-11819508?url=https%3A%2F%2Fwww.barnesandnoble.com%2Fw%2F%3Fean%3D9781464221132\" rel=\"noopener noreferrer\" target=\"_blank\">Barnes and Noble</a></li><li><a class=\"css-114t425\" href=\"https://www.anrdoezrs.net/click-7990613-35140?url=https%3A%2F%2Fwww.booksamillion.com%2Fp%2FTHE%2BHOUSEMAID%2BIS%2BWATCHING%2FFreida%2BMcFadden%2F9781464221132\" rel=\"noopener noreferrer\" target=\"_blank\">Books-A-Million</a></li><li><a class=\"css-114t425\" href=\"https://bookshop.org/a/3546/9781464221132\" rel=\"noopener noreferrer\" target=\"_blank\">Bookshop.org</a></li></ul></div></div></div></div><footer class=\"css-1d36f7m\"><div class=\"css-szqx50\"><a><img alt=\"THE HOUSEMAID IS WATCHING by Freida McFadden\" itemprop=\"image\" role=\"presentation\" src=\"https://storage.googleapis.com/du-prd/books/images/9781464221132.jpg\"/></a></div></footer><meta content=\"1464221138\" itemprop=\"isbn\"/><meta content=\"9781464221132\" itemprop=\"isbn\"/><meta content=\"14\" itemprop=\"position\"/><meta content=\"https://www.nytimes.com/books/best-sellers/2024/09/15/combined-print-and-e-book-fiction#QmVzdFNlbGxlckJvb2s6MTQ2NDIyMTEzOC05NzgxNDY0MjIxMTMy\" itemprop=\"url\"/></article><div class=\"css-1vdc7s9\" data-tooltip=\"Ranked 14 last week\"></div><div class=\"css-1dv1kvn\">Ranked 14 last week</div></li>,\n",
       " <li class=\"css-1m0jikr\" id=\"QmVzdFNlbGxlckJvb2s6MDM0OTEzMjYxNS05NzgwMzQ5MTMyNjE3\"><article class=\"css-1u6k25n\" itemprop=\"itemListElement\" itemscope=\"\" itemtype=\"https://schema.org/Book\"><div class=\"css-xe4cfy\"><a><p class=\"css-1o26r9v\">8<!-- --> weeks on the list</p><h3 class=\"css-5pe77f\" itemprop=\"name\">THE HOUSEMAID'S SECRET</h3><p class=\"css-hjukut\" itemprop=\"author\">by Freida McFadden</p><p class=\"css-heg334\" itemprop=\"publisher\">Mobius</p><p class=\"css-14lubdp\" itemprop=\"description\">The second book in the Housemaid series. The sound of crying and the appearance of blood portend misdeeds.</p></a><div class=\"css-1cpfh5o\"><div class=\"css-fugswm\"><div class=\"css-79elbk\"><button aria-expanded=\"false\" aria-haspopup=\"true\" class=\"css-80zux2\" type=\"button\">Buy<span aria-hidden=\"true\"> ▾</span></button><ul aria-label=\"Links to Book Retailers\" class=\"css-8dud8s\" hidden=\"\"><li><a class=\"css-114t425\" href=\"https://www.amazon.com/dp/0349132615?tag=thenewyorktim-20\" rel=\"noopener noreferrer\" target=\"_blank\">Amazon</a></li><li><a class=\"css-114t425\" href=\"https://goto.applebooks.apple/9780349132617?at=10lIEQ\" rel=\"noopener noreferrer\" target=\"_blank\">Apple Books</a></li><li><a class=\"css-114t425\" href=\"https://www.anrdoezrs.net/click-7990613-11819508?url=https%3A%2F%2Fwww.barnesandnoble.com%2Fw%2F%3Fean%3D9780349132617\" rel=\"noopener noreferrer\" target=\"_blank\">Barnes and Noble</a></li><li><a class=\"css-114t425\" href=\"https://www.anrdoezrs.net/click-7990613-35140?url=https%3A%2F%2Fwww.booksamillion.com%2Fp%2FTHE%2BHOUSEMAID%2527S%2BSECRET%2FFreida%2BMcFadden%2F9780349132617\" rel=\"noopener noreferrer\" target=\"_blank\">Books-A-Million</a></li><li><a class=\"css-114t425\" href=\"https://bookshop.org/a/3546/9780349132617\" rel=\"noopener noreferrer\" target=\"_blank\">Bookshop.org</a></li></ul></div></div></div></div><footer class=\"css-1d36f7m\"><div class=\"css-szqx50\"><a><img alt=\"THE HOUSEMAID'S SECRET by Freida McFadden\" itemprop=\"image\" role=\"presentation\" src=\"https://storage.googleapis.com/du-prd/books/images/9780349132617.jpg\"/></a></div></footer><meta itemprop=\"isbn\"/><meta itemprop=\"isbn\"/><meta content=\"15\" itemprop=\"position\"/><meta content=\"https://www.nytimes.com/books/best-sellers/2024/09/15/combined-print-and-e-book-fiction#QmVzdFNlbGxlckJvb2s6MDM0OTEzMjYxNS05NzgwMzQ5MTMyNjE3\" itemprop=\"url\"/></article></li>]"
      ]
     },
     "execution_count": 14,
     "metadata": {},
     "output_type": "execute_result"
    }
   ],
   "source": [
    "fiction_books = nyu_times_html.find_all(\"li\", {\"class\":\"css-1m0jikr\"})\n",
    "fiction_books\n"
   ]
  },
  {
   "cell_type": "markdown",
   "id": "69a3442a-0168-4359-9d15-393da355db44",
   "metadata": {},
   "source": [
    "Then, we need to extract the book names, author names, publisher names, and descriptions from each '\\<li>' element in 'fiction_books'.\n",
    "The 'find' function of BeautifulSoup is used to get specific HTML tags with the designated class and all these extracted texts are combined together and stored in their corresponding lists. \n"
   ]
  },
  {
   "cell_type": "code",
   "execution_count": 23,
   "id": "ba68af18-a087-416c-9577-ac2556139b65",
   "metadata": {},
   "outputs": [
    {
     "name": "stdout",
     "output_type": "stream",
     "text": [
      "['DAYDREAM', 'IT ENDS WITH US', 'IT STARTS WITH US', 'THE WOMEN', 'A COURT OF THORNS AND ROSES', 'THE HOUSEMAID', 'IRON FLAME', 'DEMON COPPERHEAD', 'THE DARK WIVES', 'BY ANY OTHER NAME', 'THE GOD OF THE WOODS', 'A COURT OF MIST AND FURY', 'THE WEDDING PEOPLE', 'THE HOUSEMAID IS WATCHING', \"THE HOUSEMAID'S SECRET\"]\n",
      "['by Hannah Grace', 'by Colleen Hoover', 'by Colleen Hoover', 'by Kristin Hannah', 'by Sarah J. Maas', 'by Freida McFadden', 'by Rebecca Yarros', 'by Barbara Kingsolver', 'by Ann Cleeves', 'by Jodi Picoult', 'by Liz Moore', 'by Sarah J. Maas', 'by Alison Espach', 'by Freida McFadden', 'by Freida McFadden']\n",
      "['Atria', 'Atria', 'Atria', \"St. Martin's\", 'Bloomsbury', 'Grand Central', 'Red Tower', 'Harper Perennial', 'Minotaur', 'Ballantine', 'Riverhead', 'Bloomsbury', 'Holt', 'Poisoned Pen', 'Mobius']\n",
      "['The third book in the Maple Hills series. A college student with writer’s block offers to tutor the captain of the hockey team.', 'A battered wife raised in a violent home attempts to halt the cycle of abuse; the basis of the film.', 'In the sequel to “It Ends With Us,” Lily deals with her jealous ex-husband as she reconnects with her first boyfriend.', 'In 1965, a nursing student follows her brother to serve during the Vietnam War and returns to a divided America.', 'After killing a wolf in the woods, Feyre is taken from her home and placed inside the world of the Fae.', 'Troubles surface when a woman looking to make a fresh start takes a job in the home of the Winchesters.', 'The second book in the Empyrean series. Violet Sorrengail’s next round of training might require her to betray the man she loves.', 'Winner of a 2023 Pulitzer Prize for fiction. A reimagining of Charles Dickens’s “David Copperfield” set in the mountains of southern Appalachia.', 'The 11th book in the Vera Stanhope series. Vera and her team search for a missing teen who may be responsible for murder.', 'A young woman’s play about her ancestor Emilia Bassano, who wrote Shakespeare’s works, is submitted to a festival under a male pseudonym.', 'When a 13-year-old girl disappears from an Adirondack summer camp in 1975, secrets kept by the Van Laar family emerge.', 'The second book in the Court of Thorns and Roses series. Feyre gains the powers of the High Fae and a greater evil emerges.', 'A woman who is down on her luck forms an unexpected bond with the bride at a wedding in Rhode Island.', 'The third book in the Housemaid series. Dangers lurk in a quiet neighborhood.', 'The second book in the Housemaid series. The sound of crying and the appearance of blood portend misdeeds.']\n"
     ]
    }
   ],
   "source": [
    "book_names = []\n",
    "author_names = []\n",
    "publisher_names = []\n",
    "description_details = []\n",
    "\n",
    "for fiction in fiction_books:\n",
    "    book_name = fiction.find(\"h3\", {\"class\": \"css-5pe77f\"}).text\n",
    "    author_name = fiction.find(\"p\",{\"class\":\"css-hjukut\"}).text\n",
    "    publisher_name = fiction.find(\"p\",{\"class\":\"css-heg334\"}).text\n",
    "    description_detail = fiction.find(\"p\",{\"class\":\"css-14lubdp\"}).text\n",
    "    book_names.append(book_name)\n",
    "    author_names.append(author_name)\n",
    "    publisher_names.append(publisher_name)\n",
    "    description_details.append(description_detail)\n",
    "\n",
    "print(book_names)\n",
    "print(author_names)\n",
    "print(publisher_names)\n",
    "print(description_details)"
   ]
  },
  {
   "cell_type": "code",
   "execution_count": 26,
   "id": "df207e53-cb5c-46cf-b024-1062e83a5570",
   "metadata": {},
   "outputs": [
    {
     "data": {
      "text/plain": [
       "['Hannah Grace',\n",
       " 'Colleen Hoover',\n",
       " 'Colleen Hoover',\n",
       " 'Kristin Hannah',\n",
       " 'Sarah J. Maas',\n",
       " 'Freida McFadden',\n",
       " 'Rebecca Yarros',\n",
       " 'Barbara Kingsolver',\n",
       " 'Ann Cleeves',\n",
       " 'Jodi Picoult',\n",
       " 'Liz Moore',\n",
       " 'Sarah J. Maas',\n",
       " 'Alison Espach',\n",
       " 'Freida McFadden',\n",
       " 'Freida McFadden']"
      ]
     },
     "execution_count": 26,
     "metadata": {},
     "output_type": "execute_result"
    }
   ],
   "source": [
    "modified_author_names = [i.replace('by ','') for i in author_names]\n",
    "modified_author_names"
   ]
  },
  {
   "cell_type": "markdown",
   "id": "f97dceba-48ca-4e3b-9685-41449bebc313",
   "metadata": {},
   "source": [
    "Now these lists are converted into Dictionaries for converting it into a dataframe."
   ]
  },
  {
   "cell_type": "code",
   "execution_count": 28,
   "id": "7801f96c-f272-44f6-a35d-657087422260",
   "metadata": {},
   "outputs": [
    {
     "data": {
      "text/plain": [
       "{'Book Name': ['DAYDREAM',\n",
       "  'IT ENDS WITH US',\n",
       "  'IT STARTS WITH US',\n",
       "  'THE WOMEN',\n",
       "  'A COURT OF THORNS AND ROSES',\n",
       "  'THE HOUSEMAID',\n",
       "  'IRON FLAME',\n",
       "  'DEMON COPPERHEAD',\n",
       "  'THE DARK WIVES',\n",
       "  'BY ANY OTHER NAME',\n",
       "  'THE GOD OF THE WOODS',\n",
       "  'A COURT OF MIST AND FURY',\n",
       "  'THE WEDDING PEOPLE',\n",
       "  'THE HOUSEMAID IS WATCHING',\n",
       "  \"THE HOUSEMAID'S SECRET\"],\n",
       " 'Author': ['Hannah Grace',\n",
       "  'Colleen Hoover',\n",
       "  'Colleen Hoover',\n",
       "  'Kristin Hannah',\n",
       "  'Sarah J. Maas',\n",
       "  'Freida McFadden',\n",
       "  'Rebecca Yarros',\n",
       "  'Barbara Kingsolver',\n",
       "  'Ann Cleeves',\n",
       "  'Jodi Picoult',\n",
       "  'Liz Moore',\n",
       "  'Sarah J. Maas',\n",
       "  'Alison Espach',\n",
       "  'Freida McFadden',\n",
       "  'Freida McFadden'],\n",
       " 'Publisher': ['Atria',\n",
       "  'Atria',\n",
       "  'Atria',\n",
       "  \"St. Martin's\",\n",
       "  'Bloomsbury',\n",
       "  'Grand Central',\n",
       "  'Red Tower',\n",
       "  'Harper Perennial',\n",
       "  'Minotaur',\n",
       "  'Ballantine',\n",
       "  'Riverhead',\n",
       "  'Bloomsbury',\n",
       "  'Holt',\n",
       "  'Poisoned Pen',\n",
       "  'Mobius'],\n",
       " 'Description': ['The third book in the Maple Hills series. A college student with writer’s block offers to tutor the captain of the hockey team.',\n",
       "  'A battered wife raised in a violent home attempts to halt the cycle of abuse; the basis of the film.',\n",
       "  'In the sequel to “It Ends With Us,” Lily deals with her jealous ex-husband as she reconnects with her first boyfriend.',\n",
       "  'In 1965, a nursing student follows her brother to serve during the Vietnam War and returns to a divided America.',\n",
       "  'After killing a wolf in the woods, Feyre is taken from her home and placed inside the world of the Fae.',\n",
       "  'Troubles surface when a woman looking to make a fresh start takes a job in the home of the Winchesters.',\n",
       "  'The second book in the Empyrean series. Violet Sorrengail’s next round of training might require her to betray the man she loves.',\n",
       "  'Winner of a 2023 Pulitzer Prize for fiction. A reimagining of Charles Dickens’s “David Copperfield” set in the mountains of southern Appalachia.',\n",
       "  'The 11th book in the Vera Stanhope series. Vera and her team search for a missing teen who may be responsible for murder.',\n",
       "  'A young woman’s play about her ancestor Emilia Bassano, who wrote Shakespeare’s works, is submitted to a festival under a male pseudonym.',\n",
       "  'When a 13-year-old girl disappears from an Adirondack summer camp in 1975, secrets kept by the Van Laar family emerge.',\n",
       "  'The second book in the Court of Thorns and Roses series. Feyre gains the powers of the High Fae and a greater evil emerges.',\n",
       "  'A woman who is down on her luck forms an unexpected bond with the bride at a wedding in Rhode Island.',\n",
       "  'The third book in the Housemaid series. Dangers lurk in a quiet neighborhood.',\n",
       "  'The second book in the Housemaid series. The sound of crying and the appearance of blood portend misdeeds.']}"
      ]
     },
     "execution_count": 28,
     "metadata": {},
     "output_type": "execute_result"
    }
   ],
   "source": [
    "fiction = {'Book Name': book_names, 'Author': modified_author_names, 'Publisher': publisher_names, 'Description': description_details}\n",
    "fiction"
   ]
  },
  {
   "cell_type": "markdown",
   "id": "ad62582f-def0-4002-a119-24eb6fe44c51",
   "metadata": {},
   "source": [
    "Converting the dictionaries to a dataframe and then converting the dataframe to a '.csv' file"
   ]
  },
  {
   "cell_type": "code",
   "execution_count": 30,
   "id": "f02d6450-527d-47b0-93fc-a815815bd47c",
   "metadata": {},
   "outputs": [
    {
     "name": "stdout",
     "output_type": "stream",
     "text": [
      "Collecting pandas\n",
      "  Downloading pandas-2.2.2-cp312-cp312-win_amd64.whl.metadata (19 kB)\n",
      "Collecting numpy>=1.26.0 (from pandas)\n",
      "  Downloading numpy-2.1.1-cp312-cp312-win_amd64.whl.metadata (59 kB)\n",
      "Requirement already satisfied: python-dateutil>=2.8.2 in c:\\users\\yoges\\anaconda3\\envs\\mynewenv\\lib\\site-packages (from pandas) (2.9.0.post0)\n",
      "Requirement already satisfied: pytz>=2020.1 in c:\\users\\yoges\\anaconda3\\envs\\mynewenv\\lib\\site-packages (from pandas) (2024.1)\n",
      "Collecting tzdata>=2022.7 (from pandas)\n",
      "  Downloading tzdata-2024.1-py2.py3-none-any.whl.metadata (1.4 kB)\n",
      "Requirement already satisfied: six>=1.5 in c:\\users\\yoges\\anaconda3\\envs\\mynewenv\\lib\\site-packages (from python-dateutil>=2.8.2->pandas) (1.16.0)\n",
      "Downloading pandas-2.2.2-cp312-cp312-win_amd64.whl (11.5 MB)\n",
      "   ---------------------------------------- 0.0/11.5 MB ? eta -:--:--\n",
      "   ---------------------- ----------------- 6.6/11.5 MB 36.6 MB/s eta 0:00:01\n",
      "   ---------------------------------------- 11.5/11.5 MB 37.8 MB/s eta 0:00:00\n",
      "Downloading numpy-2.1.1-cp312-cp312-win_amd64.whl (12.6 MB)\n",
      "   ---------------------------------------- 0.0/12.6 MB ? eta -:--:--\n",
      "   ------------------------------ --------- 9.4/12.6 MB 45.2 MB/s eta 0:00:01\n",
      "   ---------------------------------------- 12.6/12.6 MB 41.4 MB/s eta 0:00:00\n",
      "Downloading tzdata-2024.1-py2.py3-none-any.whl (345 kB)\n",
      "Installing collected packages: tzdata, numpy, pandas\n",
      "Successfully installed numpy-2.1.1 pandas-2.2.2 tzdata-2024.1\n"
     ]
    },
    {
     "data": {
      "text/html": [
       "<div>\n",
       "<style scoped>\n",
       "    .dataframe tbody tr th:only-of-type {\n",
       "        vertical-align: middle;\n",
       "    }\n",
       "\n",
       "    .dataframe tbody tr th {\n",
       "        vertical-align: top;\n",
       "    }\n",
       "\n",
       "    .dataframe thead th {\n",
       "        text-align: right;\n",
       "    }\n",
       "</style>\n",
       "<table border=\"1\" class=\"dataframe\">\n",
       "  <thead>\n",
       "    <tr style=\"text-align: right;\">\n",
       "      <th></th>\n",
       "      <th>Book Name</th>\n",
       "      <th>Author</th>\n",
       "      <th>Publisher</th>\n",
       "      <th>Description</th>\n",
       "    </tr>\n",
       "  </thead>\n",
       "  <tbody>\n",
       "    <tr>\n",
       "      <th>0</th>\n",
       "      <td>DAYDREAM</td>\n",
       "      <td>Hannah Grace</td>\n",
       "      <td>Atria</td>\n",
       "      <td>The third book in the Maple Hills series. A co...</td>\n",
       "    </tr>\n",
       "    <tr>\n",
       "      <th>1</th>\n",
       "      <td>IT ENDS WITH US</td>\n",
       "      <td>Colleen Hoover</td>\n",
       "      <td>Atria</td>\n",
       "      <td>A battered wife raised in a violent home attem...</td>\n",
       "    </tr>\n",
       "    <tr>\n",
       "      <th>2</th>\n",
       "      <td>IT STARTS WITH US</td>\n",
       "      <td>Colleen Hoover</td>\n",
       "      <td>Atria</td>\n",
       "      <td>In the sequel to “It Ends With Us,” Lily deals...</td>\n",
       "    </tr>\n",
       "    <tr>\n",
       "      <th>3</th>\n",
       "      <td>THE WOMEN</td>\n",
       "      <td>Kristin Hannah</td>\n",
       "      <td>St. Martin's</td>\n",
       "      <td>In 1965, a nursing student follows her brother...</td>\n",
       "    </tr>\n",
       "    <tr>\n",
       "      <th>4</th>\n",
       "      <td>A COURT OF THORNS AND ROSES</td>\n",
       "      <td>Sarah J. Maas</td>\n",
       "      <td>Bloomsbury</td>\n",
       "      <td>After killing a wolf in the woods, Feyre is ta...</td>\n",
       "    </tr>\n",
       "    <tr>\n",
       "      <th>5</th>\n",
       "      <td>THE HOUSEMAID</td>\n",
       "      <td>Freida McFadden</td>\n",
       "      <td>Grand Central</td>\n",
       "      <td>Troubles surface when a woman looking to make ...</td>\n",
       "    </tr>\n",
       "    <tr>\n",
       "      <th>6</th>\n",
       "      <td>IRON FLAME</td>\n",
       "      <td>Rebecca Yarros</td>\n",
       "      <td>Red Tower</td>\n",
       "      <td>The second book in the Empyrean series. Violet...</td>\n",
       "    </tr>\n",
       "    <tr>\n",
       "      <th>7</th>\n",
       "      <td>DEMON COPPERHEAD</td>\n",
       "      <td>Barbara Kingsolver</td>\n",
       "      <td>Harper Perennial</td>\n",
       "      <td>Winner of a 2023 Pulitzer Prize for fiction. A...</td>\n",
       "    </tr>\n",
       "    <tr>\n",
       "      <th>8</th>\n",
       "      <td>THE DARK WIVES</td>\n",
       "      <td>Ann Cleeves</td>\n",
       "      <td>Minotaur</td>\n",
       "      <td>The 11th book in the Vera Stanhope series. Ver...</td>\n",
       "    </tr>\n",
       "    <tr>\n",
       "      <th>9</th>\n",
       "      <td>BY ANY OTHER NAME</td>\n",
       "      <td>Jodi Picoult</td>\n",
       "      <td>Ballantine</td>\n",
       "      <td>A young woman’s play about her ancestor Emilia...</td>\n",
       "    </tr>\n",
       "    <tr>\n",
       "      <th>10</th>\n",
       "      <td>THE GOD OF THE WOODS</td>\n",
       "      <td>Liz Moore</td>\n",
       "      <td>Riverhead</td>\n",
       "      <td>When a 13-year-old girl disappears from an Adi...</td>\n",
       "    </tr>\n",
       "    <tr>\n",
       "      <th>11</th>\n",
       "      <td>A COURT OF MIST AND FURY</td>\n",
       "      <td>Sarah J. Maas</td>\n",
       "      <td>Bloomsbury</td>\n",
       "      <td>The second book in the Court of Thorns and Ros...</td>\n",
       "    </tr>\n",
       "    <tr>\n",
       "      <th>12</th>\n",
       "      <td>THE WEDDING PEOPLE</td>\n",
       "      <td>Alison Espach</td>\n",
       "      <td>Holt</td>\n",
       "      <td>A woman who is down on her luck forms an unexp...</td>\n",
       "    </tr>\n",
       "    <tr>\n",
       "      <th>13</th>\n",
       "      <td>THE HOUSEMAID IS WATCHING</td>\n",
       "      <td>Freida McFadden</td>\n",
       "      <td>Poisoned Pen</td>\n",
       "      <td>The third book in the Housemaid series. Danger...</td>\n",
       "    </tr>\n",
       "    <tr>\n",
       "      <th>14</th>\n",
       "      <td>THE HOUSEMAID'S SECRET</td>\n",
       "      <td>Freida McFadden</td>\n",
       "      <td>Mobius</td>\n",
       "      <td>The second book in the Housemaid series. The s...</td>\n",
       "    </tr>\n",
       "  </tbody>\n",
       "</table>\n",
       "</div>"
      ],
      "text/plain": [
       "                      Book Name              Author         Publisher  \\\n",
       "0                      DAYDREAM        Hannah Grace             Atria   \n",
       "1               IT ENDS WITH US      Colleen Hoover             Atria   \n",
       "2             IT STARTS WITH US      Colleen Hoover             Atria   \n",
       "3                     THE WOMEN      Kristin Hannah      St. Martin's   \n",
       "4   A COURT OF THORNS AND ROSES       Sarah J. Maas        Bloomsbury   \n",
       "5                 THE HOUSEMAID     Freida McFadden     Grand Central   \n",
       "6                    IRON FLAME      Rebecca Yarros         Red Tower   \n",
       "7              DEMON COPPERHEAD  Barbara Kingsolver  Harper Perennial   \n",
       "8                THE DARK WIVES         Ann Cleeves          Minotaur   \n",
       "9             BY ANY OTHER NAME        Jodi Picoult        Ballantine   \n",
       "10         THE GOD OF THE WOODS           Liz Moore         Riverhead   \n",
       "11     A COURT OF MIST AND FURY       Sarah J. Maas        Bloomsbury   \n",
       "12           THE WEDDING PEOPLE       Alison Espach              Holt   \n",
       "13    THE HOUSEMAID IS WATCHING     Freida McFadden      Poisoned Pen   \n",
       "14       THE HOUSEMAID'S SECRET     Freida McFadden            Mobius   \n",
       "\n",
       "                                          Description  \n",
       "0   The third book in the Maple Hills series. A co...  \n",
       "1   A battered wife raised in a violent home attem...  \n",
       "2   In the sequel to “It Ends With Us,” Lily deals...  \n",
       "3   In 1965, a nursing student follows her brother...  \n",
       "4   After killing a wolf in the woods, Feyre is ta...  \n",
       "5   Troubles surface when a woman looking to make ...  \n",
       "6   The second book in the Empyrean series. Violet...  \n",
       "7   Winner of a 2023 Pulitzer Prize for fiction. A...  \n",
       "8   The 11th book in the Vera Stanhope series. Ver...  \n",
       "9   A young woman’s play about her ancestor Emilia...  \n",
       "10  When a 13-year-old girl disappears from an Adi...  \n",
       "11  The second book in the Court of Thorns and Ros...  \n",
       "12  A woman who is down on her luck forms an unexp...  \n",
       "13  The third book in the Housemaid series. Danger...  \n",
       "14  The second book in the Housemaid series. The s...  "
      ]
     },
     "execution_count": 30,
     "metadata": {},
     "output_type": "execute_result"
    }
   ],
   "source": [
    "!pip install pandas\n",
    "import pandas as pd\n",
    "df_fiction = pd.DataFrame(fiction)\n",
    "df_fiction"
   ]
  },
  {
   "cell_type": "code",
   "execution_count": 31,
   "id": "13fca1a5-201f-4514-a0d6-1430ad4da575",
   "metadata": {},
   "outputs": [],
   "source": [
    "df_fiction.to_csv('Fiction_books.csv', index=False)"
   ]
  },
  {
   "cell_type": "code",
   "execution_count": 34,
   "id": "4bcd57e3-ef32-4450-9e61-eb514f79242a",
   "metadata": {},
   "outputs": [
    {
     "data": {
      "text/html": [
       "<div>\n",
       "<style scoped>\n",
       "    .dataframe tbody tr th:only-of-type {\n",
       "        vertical-align: middle;\n",
       "    }\n",
       "\n",
       "    .dataframe tbody tr th {\n",
       "        vertical-align: top;\n",
       "    }\n",
       "\n",
       "    .dataframe thead th {\n",
       "        text-align: right;\n",
       "    }\n",
       "</style>\n",
       "<table border=\"1\" class=\"dataframe\">\n",
       "  <thead>\n",
       "    <tr style=\"text-align: right;\">\n",
       "      <th></th>\n",
       "      <th>Book Name</th>\n",
       "      <th>Author</th>\n",
       "      <th>Publisher</th>\n",
       "      <th>Description</th>\n",
       "    </tr>\n",
       "  </thead>\n",
       "  <tbody>\n",
       "    <tr>\n",
       "      <th>0</th>\n",
       "      <td>DAYDREAM</td>\n",
       "      <td>Hannah Grace</td>\n",
       "      <td>Atria</td>\n",
       "      <td>The third book in the Maple Hills series. A co...</td>\n",
       "    </tr>\n",
       "    <tr>\n",
       "      <th>1</th>\n",
       "      <td>IT ENDS WITH US</td>\n",
       "      <td>Colleen Hoover</td>\n",
       "      <td>Atria</td>\n",
       "      <td>A battered wife raised in a violent home attem...</td>\n",
       "    </tr>\n",
       "    <tr>\n",
       "      <th>2</th>\n",
       "      <td>IT STARTS WITH US</td>\n",
       "      <td>Colleen Hoover</td>\n",
       "      <td>Atria</td>\n",
       "      <td>In the sequel to “It Ends With Us,” Lily deals...</td>\n",
       "    </tr>\n",
       "    <tr>\n",
       "      <th>3</th>\n",
       "      <td>THE WOMEN</td>\n",
       "      <td>Kristin Hannah</td>\n",
       "      <td>St. Martin's</td>\n",
       "      <td>In 1965, a nursing student follows her brother...</td>\n",
       "    </tr>\n",
       "    <tr>\n",
       "      <th>4</th>\n",
       "      <td>A COURT OF THORNS AND ROSES</td>\n",
       "      <td>Sarah J. Maas</td>\n",
       "      <td>Bloomsbury</td>\n",
       "      <td>After killing a wolf in the woods, Feyre is ta...</td>\n",
       "    </tr>\n",
       "    <tr>\n",
       "      <th>5</th>\n",
       "      <td>THE HOUSEMAID</td>\n",
       "      <td>Freida McFadden</td>\n",
       "      <td>Grand Central</td>\n",
       "      <td>Troubles surface when a woman looking to make ...</td>\n",
       "    </tr>\n",
       "    <tr>\n",
       "      <th>6</th>\n",
       "      <td>IRON FLAME</td>\n",
       "      <td>Rebecca Yarros</td>\n",
       "      <td>Red Tower</td>\n",
       "      <td>The second book in the Empyrean series. Violet...</td>\n",
       "    </tr>\n",
       "    <tr>\n",
       "      <th>7</th>\n",
       "      <td>DEMON COPPERHEAD</td>\n",
       "      <td>Barbara Kingsolver</td>\n",
       "      <td>Harper Perennial</td>\n",
       "      <td>Winner of a 2023 Pulitzer Prize for fiction. A...</td>\n",
       "    </tr>\n",
       "    <tr>\n",
       "      <th>8</th>\n",
       "      <td>THE DARK WIVES</td>\n",
       "      <td>Ann Cleeves</td>\n",
       "      <td>Minotaur</td>\n",
       "      <td>The 11th book in the Vera Stanhope series. Ver...</td>\n",
       "    </tr>\n",
       "    <tr>\n",
       "      <th>9</th>\n",
       "      <td>BY ANY OTHER NAME</td>\n",
       "      <td>Jodi Picoult</td>\n",
       "      <td>Ballantine</td>\n",
       "      <td>A young woman’s play about her ancestor Emilia...</td>\n",
       "    </tr>\n",
       "    <tr>\n",
       "      <th>10</th>\n",
       "      <td>THE GOD OF THE WOODS</td>\n",
       "      <td>Liz Moore</td>\n",
       "      <td>Riverhead</td>\n",
       "      <td>When a 13-year-old girl disappears from an Adi...</td>\n",
       "    </tr>\n",
       "    <tr>\n",
       "      <th>11</th>\n",
       "      <td>A COURT OF MIST AND FURY</td>\n",
       "      <td>Sarah J. Maas</td>\n",
       "      <td>Bloomsbury</td>\n",
       "      <td>The second book in the Court of Thorns and Ros...</td>\n",
       "    </tr>\n",
       "    <tr>\n",
       "      <th>12</th>\n",
       "      <td>THE WEDDING PEOPLE</td>\n",
       "      <td>Alison Espach</td>\n",
       "      <td>Holt</td>\n",
       "      <td>A woman who is down on her luck forms an unexp...</td>\n",
       "    </tr>\n",
       "    <tr>\n",
       "      <th>13</th>\n",
       "      <td>THE HOUSEMAID IS WATCHING</td>\n",
       "      <td>Freida McFadden</td>\n",
       "      <td>Poisoned Pen</td>\n",
       "      <td>The third book in the Housemaid series. Danger...</td>\n",
       "    </tr>\n",
       "    <tr>\n",
       "      <th>14</th>\n",
       "      <td>THE HOUSEMAID'S SECRET</td>\n",
       "      <td>Freida McFadden</td>\n",
       "      <td>Mobius</td>\n",
       "      <td>The second book in the Housemaid series. The s...</td>\n",
       "    </tr>\n",
       "  </tbody>\n",
       "</table>\n",
       "</div>"
      ],
      "text/plain": [
       "                      Book Name              Author         Publisher  \\\n",
       "0                      DAYDREAM        Hannah Grace             Atria   \n",
       "1               IT ENDS WITH US      Colleen Hoover             Atria   \n",
       "2             IT STARTS WITH US      Colleen Hoover             Atria   \n",
       "3                     THE WOMEN      Kristin Hannah      St. Martin's   \n",
       "4   A COURT OF THORNS AND ROSES       Sarah J. Maas        Bloomsbury   \n",
       "5                 THE HOUSEMAID     Freida McFadden     Grand Central   \n",
       "6                    IRON FLAME      Rebecca Yarros         Red Tower   \n",
       "7              DEMON COPPERHEAD  Barbara Kingsolver  Harper Perennial   \n",
       "8                THE DARK WIVES         Ann Cleeves          Minotaur   \n",
       "9             BY ANY OTHER NAME        Jodi Picoult        Ballantine   \n",
       "10         THE GOD OF THE WOODS           Liz Moore         Riverhead   \n",
       "11     A COURT OF MIST AND FURY       Sarah J. Maas        Bloomsbury   \n",
       "12           THE WEDDING PEOPLE       Alison Espach              Holt   \n",
       "13    THE HOUSEMAID IS WATCHING     Freida McFadden      Poisoned Pen   \n",
       "14       THE HOUSEMAID'S SECRET     Freida McFadden            Mobius   \n",
       "\n",
       "                                          Description  \n",
       "0   The third book in the Maple Hills series. A co...  \n",
       "1   A battered wife raised in a violent home attem...  \n",
       "2   In the sequel to “It Ends With Us,” Lily deals...  \n",
       "3   In 1965, a nursing student follows her brother...  \n",
       "4   After killing a wolf in the woods, Feyre is ta...  \n",
       "5   Troubles surface when a woman looking to make ...  \n",
       "6   The second book in the Empyrean series. Violet...  \n",
       "7   Winner of a 2023 Pulitzer Prize for fiction. A...  \n",
       "8   The 11th book in the Vera Stanhope series. Ver...  \n",
       "9   A young woman’s play about her ancestor Emilia...  \n",
       "10  When a 13-year-old girl disappears from an Adi...  \n",
       "11  The second book in the Court of Thorns and Ros...  \n",
       "12  A woman who is down on her luck forms an unexp...  \n",
       "13  The third book in the Housemaid series. Danger...  \n",
       "14  The second book in the Housemaid series. The s...  "
      ]
     },
     "execution_count": 34,
     "metadata": {},
     "output_type": "execute_result"
    }
   ],
   "source": [
    "fiction_data = pd.read_csv(\"Fiction_books.csv\")\n",
    "fiction_data\n",
    "                "
   ]
  },
  {
   "cell_type": "code",
   "execution_count": null,
   "id": "130ae012-516c-4470-99f9-ed98c93d839c",
   "metadata": {},
   "outputs": [],
   "source": []
  }
 ],
 "metadata": {
  "kernelspec": {
   "display_name": "Python 3 (ipykernel)",
   "language": "python",
   "name": "python3"
  },
  "language_info": {
   "codemirror_mode": {
    "name": "ipython",
    "version": 3
   },
   "file_extension": ".py",
   "mimetype": "text/x-python",
   "name": "python",
   "nbconvert_exporter": "python",
   "pygments_lexer": "ipython3",
   "version": "3.12.4"
  }
 },
 "nbformat": 4,
 "nbformat_minor": 5
}

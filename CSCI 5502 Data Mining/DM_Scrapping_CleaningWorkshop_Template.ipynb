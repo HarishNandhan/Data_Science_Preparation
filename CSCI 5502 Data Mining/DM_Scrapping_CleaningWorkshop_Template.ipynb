{
 "cells": [
  {
   "cell_type": "markdown",
   "metadata": {
    "id": "uG6l6QHtwOKQ"
   },
   "source": [
    "# Workshop - in class activity"
   ]
  },
  {
   "cell_type": "markdown",
   "metadata": {
    "id": "jlF5jKwp8duh"
   },
   "source": [
    "## Q1 Web scrapping"
   ]
  },
  {
   "cell_type": "markdown",
   "metadata": {
    "id": "KYaVZarO8i0R"
   },
   "source": [
    "For this question, follow the below mentioned instructions clearly:\n",
    "\n",
    "+ Make an HTTP GET request to the Colorado.edu News website (https://www.colorado.edu/today/news-headlines)\n",
    "+ Use Beautiful Soup to parse the HTML content.\n",
    "+ Locate and extract article titles (tips: **div** tags with the class **\"article-view-mode-sidebar-content\"**.)\n",
    "+ Store them in a list, including: Title, Link and plain (html content) of each news.\n",
    "+ Finally, create a DataFrame from the list of titles and display it and save it a CSV file."
   ]
  },
  {
   "cell_type": "markdown",
   "metadata": {
    "id": "VVUR0Wr08qmb"
   },
   "source": [
    "### Step 1. Import libraries"
   ]
  },
  {
   "cell_type": "code",
   "execution_count": 26,
   "metadata": {
    "id": "n6fdA11E8glL"
   },
   "outputs": [
    {
     "name": "stdout",
     "output_type": "stream",
     "text": [
      "Requirement already satisfied: requests==2.32.3 in c:\\users\\yoges\\anaconda3\\lib\\site-packages (2.32.3)\n",
      "Requirement already satisfied: charset-normalizer<4,>=2 in c:\\users\\yoges\\anaconda3\\lib\\site-packages (from requests==2.32.3) (2.0.4)\n",
      "Requirement already satisfied: idna<4,>=2.5 in c:\\users\\yoges\\anaconda3\\lib\\site-packages (from requests==2.32.3) (3.7)\n",
      "Requirement already satisfied: urllib3<3,>=1.21.1 in c:\\users\\yoges\\anaconda3\\lib\\site-packages (from requests==2.32.3) (2.2.2)\n",
      "Requirement already satisfied: certifi>=2017.4.17 in c:\\users\\yoges\\anaconda3\\lib\\site-packages (from requests==2.32.3) (2024.7.4)\n",
      "Requirement already satisfied: beautifulsoup4 in c:\\users\\yoges\\anaconda3\\lib\\site-packages (4.12.3)\n",
      "Requirement already satisfied: soupsieve>1.2 in c:\\users\\yoges\\anaconda3\\lib\\site-packages (from beautifulsoup4) (2.5)\n"
     ]
    }
   ],
   "source": [
    "!pip install requests==2.32.3\n",
    "!pip install beautifulsoup4\n",
    "import requests\n",
    "from bs4 import BeautifulSoup as bs\n",
    "from urllib.request import urlopen"
   ]
  },
  {
   "cell_type": "markdown",
   "metadata": {
    "id": "QprMqpU18wiT"
   },
   "source": [
    "### Step 2. Send an HTTP GET request to the website - https://www.colorado.edu/today/news-headlines"
   ]
  },
  {
   "cell_type": "code",
   "execution_count": 28,
   "metadata": {
    "id": "SdcZ53NQ83LU"
   },
   "outputs": [],
   "source": [
    "url = \"https://www.colorado.edu/today/news-headlines\"\n",
    "urlclient = urlopen(url)\n",
    "webpage = urlclient.read()\n",
    "# Your Code Here"
   ]
  },
  {
   "cell_type": "markdown",
   "metadata": {
    "id": "WA8Gikpn89P3"
   },
   "source": [
    "### Step3. Parse the HTML content of the page with Beautiful Soup"
   ]
  },
  {
   "cell_type": "code",
   "execution_count": 30,
   "metadata": {
    "id": "wOBH8-oR87Q_"
   },
   "outputs": [],
   "source": [
    "# Your Code Here\n",
    "cutoday_html = bs(webpage, 'html.parser')"
   ]
  },
  {
   "cell_type": "markdown",
   "metadata": {
    "id": "_nutMav79EoY"
   },
   "source": [
    "### Step 4. Find the elements containing article titles and links. Save it as a list of elements (HINT - use class='article-view-mode-sidebar-content')"
   ]
  },
  {
   "cell_type": "code",
   "execution_count": 32,
   "metadata": {
    "id": "1N_xT8eW9Itl"
   },
   "outputs": [
    {
     "data": {
      "text/plain": [
       "[<div class=\"article-view-mode-sidebar-content node-view-mode-sidebar-content\">\n",
       " <a href=\"/today/2024/09/12/discovery-could-lead-longer-lasting-ev-batteries-hasten-energy-transition\">Discovery could lead to longer-lasting EV batteries, hasten energy transition</a>\n",
       " </div>,\n",
       " <div class=\"article-view-mode-sidebar-content node-view-mode-sidebar-content\">\n",
       " <a href=\"/today/2024/09/11/wildfire-smoke-exposure-boosts-risk-mental-illness-youth\">Wildfire smoke exposure boosts risk of mental illness in youth</a>\n",
       " </div>,\n",
       " <div class=\"article-view-mode-sidebar-content node-view-mode-sidebar-content\">\n",
       " <a href=\"/today/2024/09/11/increased-krill-fishing-threatens-whale-comeback\">Increased krill fishing threatens whale comeback</a>\n",
       " </div>,\n",
       " <div class=\"article-view-mode-sidebar-content node-view-mode-sidebar-content\">\n",
       " <a href=\"/today/2024/09/10/lemur-csi-researchers-id-predators-threatening-madagascars-iconic-primates\">Lemur CSI: Researchers ID predators threatening Madagascar’s iconic primates</a>\n",
       " </div>,\n",
       " <div class=\"article-view-mode-sidebar-content node-view-mode-sidebar-content\">\n",
       " <a href=\"/today/cu-boulder-agu-2023\">CU Boulder at AGU 2023: From Earth to space</a>\n",
       " </div>,\n",
       " <div class=\"article-view-mode-sidebar-content node-view-mode-sidebar-content\">\n",
       " <a href=\"/today/2023/11/28/cu-boulder-cop28-addressing-climate-change-through-innovation\">CU Boulder at COP28: Addressing climate change through innovation</a>\n",
       " </div>,\n",
       " <div class=\"article-view-mode-sidebar-content node-view-mode-sidebar-content\">\n",
       " <a href=\"/today/2023/10/10/conflict-middle-east-campus-resources-insights-and-more\">Conflict in the Middle East: Campus resources, insights and more</a>\n",
       " </div>,\n",
       " <div class=\"article-view-mode-sidebar-content node-view-mode-sidebar-content\">\n",
       " <a href=\"/today/gun-violence\">Gun violence and public health</a>\n",
       " </div>,\n",
       " <div class=\"article-view-mode-sidebar-content node-view-mode-sidebar-content\">\n",
       " <a href=\"/today/2022/quantum-revolution\">Colorado's quantum revolution turning state into new Silicon Valley</a>\n",
       " </div>]"
      ]
     },
     "execution_count": 32,
     "metadata": {},
     "output_type": "execute_result"
    }
   ],
   "source": [
    "# Your Code Here\n",
    "article = cutoday_html.find_all(\"div\",{\"class\":\"article-view-mode-sidebar-content\"})\n",
    "article"
   ]
  },
  {
   "cell_type": "markdown",
   "metadata": {
    "id": "TtcPuqgj9MIR"
   },
   "source": [
    "### Step 5. Initialize empty lists to store data (titles, links, contet)"
   ]
  },
  {
   "cell_type": "code",
   "execution_count": 42,
   "metadata": {
    "id": "IsYwh0g09Pks"
   },
   "outputs": [],
   "source": [
    "# Your Code Here\n",
    "titles = []\n",
    "links = []\n",
    "content = []\n",
    "\n",
    "for article_details in article:\n",
    "    title = article_details.find(\"a\").get_text() \n",
    "    link = article_details.find(\"a\")['href']\n",
    "    titles.append(title)\n",
    "    links.append(link)\n",
    "    content.append(article_details)"
   ]
  },
  {
   "cell_type": "markdown",
   "metadata": {
    "id": "unMkQFVb9W6y"
   },
   "source": [
    "### Step 6. Extract data from the scraped elements."
   ]
  },
  {
   "cell_type": "code",
   "execution_count": 44,
   "metadata": {
    "id": "HCDxak8pkDDp"
   },
   "outputs": [
    {
     "name": "stdout",
     "output_type": "stream",
     "text": [
      "['https://www.colorado.edu//today/2024/09/12/discovery-could-lead-longer-lasting-ev-batteries-hasten-energy-transition', 'https://www.colorado.edu//today/2024/09/11/wildfire-smoke-exposure-boosts-risk-mental-illness-youth', 'https://www.colorado.edu//today/2024/09/11/increased-krill-fishing-threatens-whale-comeback', 'https://www.colorado.edu//today/2024/09/10/lemur-csi-researchers-id-predators-threatening-madagascars-iconic-primates', 'https://www.colorado.edu//today/cu-boulder-agu-2023', 'https://www.colorado.edu//today/2023/11/28/cu-boulder-cop28-addressing-climate-change-through-innovation', 'https://www.colorado.edu//today/2023/10/10/conflict-middle-east-campus-resources-insights-and-more', 'https://www.colorado.edu//today/gun-violence', 'https://www.colorado.edu//today/2022/quantum-revolution']\n"
     ]
    }
   ],
   "source": [
    "# Your Code Here\n",
    "base_url = \"https://www.colorado.edu/\"\n",
    "modified_links = [base_url + link for link in links]\n",
    "print(modified_links)"
   ]
  },
  {
   "cell_type": "markdown",
   "metadata": {
    "id": "u5w8zdbBSjLm"
   },
   "source": [
    "### Step 7. Create a DataFrame"
   ]
  },
  {
   "cell_type": "code",
   "execution_count": 46,
   "metadata": {
    "id": "nK2gsZwZ9bIS"
   },
   "outputs": [
    {
     "data": {
      "text/plain": [
       "{'Titles': ['Discovery could lead to longer-lasting EV batteries, hasten energy transition',\n",
       "  'Wildfire smoke exposure boosts risk of mental illness in youth',\n",
       "  'Increased krill fishing threatens whale comeback',\n",
       "  'Lemur CSI: Researchers ID predators threatening Madagascar’s iconic primates',\n",
       "  'CU Boulder at AGU 2023: From Earth to space',\n",
       "  'CU Boulder at COP28: Addressing climate change through innovation',\n",
       "  'Conflict in the Middle East: Campus resources, insights and more',\n",
       "  'Gun violence and public health',\n",
       "  \"Colorado's quantum revolution turning state into new Silicon Valley\"],\n",
       " 'Links': ['https://www.colorado.edu//today/2024/09/12/discovery-could-lead-longer-lasting-ev-batteries-hasten-energy-transition',\n",
       "  'https://www.colorado.edu//today/2024/09/11/wildfire-smoke-exposure-boosts-risk-mental-illness-youth',\n",
       "  'https://www.colorado.edu//today/2024/09/11/increased-krill-fishing-threatens-whale-comeback',\n",
       "  'https://www.colorado.edu//today/2024/09/10/lemur-csi-researchers-id-predators-threatening-madagascars-iconic-primates',\n",
       "  'https://www.colorado.edu//today/cu-boulder-agu-2023',\n",
       "  'https://www.colorado.edu//today/2023/11/28/cu-boulder-cop28-addressing-climate-change-through-innovation',\n",
       "  'https://www.colorado.edu//today/2023/10/10/conflict-middle-east-campus-resources-insights-and-more',\n",
       "  'https://www.colorado.edu//today/gun-violence',\n",
       "  'https://www.colorado.edu//today/2022/quantum-revolution'],\n",
       " 'Content': [<div class=\"article-view-mode-sidebar-content node-view-mode-sidebar-content\">\n",
       "  <a href=\"/today/2024/09/12/discovery-could-lead-longer-lasting-ev-batteries-hasten-energy-transition\">Discovery could lead to longer-lasting EV batteries, hasten energy transition</a>\n",
       "  </div>,\n",
       "  <div class=\"article-view-mode-sidebar-content node-view-mode-sidebar-content\">\n",
       "  <a href=\"/today/2024/09/11/wildfire-smoke-exposure-boosts-risk-mental-illness-youth\">Wildfire smoke exposure boosts risk of mental illness in youth</a>\n",
       "  </div>,\n",
       "  <div class=\"article-view-mode-sidebar-content node-view-mode-sidebar-content\">\n",
       "  <a href=\"/today/2024/09/11/increased-krill-fishing-threatens-whale-comeback\">Increased krill fishing threatens whale comeback</a>\n",
       "  </div>,\n",
       "  <div class=\"article-view-mode-sidebar-content node-view-mode-sidebar-content\">\n",
       "  <a href=\"/today/2024/09/10/lemur-csi-researchers-id-predators-threatening-madagascars-iconic-primates\">Lemur CSI: Researchers ID predators threatening Madagascar’s iconic primates</a>\n",
       "  </div>,\n",
       "  <div class=\"article-view-mode-sidebar-content node-view-mode-sidebar-content\">\n",
       "  <a href=\"/today/cu-boulder-agu-2023\">CU Boulder at AGU 2023: From Earth to space</a>\n",
       "  </div>,\n",
       "  <div class=\"article-view-mode-sidebar-content node-view-mode-sidebar-content\">\n",
       "  <a href=\"/today/2023/11/28/cu-boulder-cop28-addressing-climate-change-through-innovation\">CU Boulder at COP28: Addressing climate change through innovation</a>\n",
       "  </div>,\n",
       "  <div class=\"article-view-mode-sidebar-content node-view-mode-sidebar-content\">\n",
       "  <a href=\"/today/2023/10/10/conflict-middle-east-campus-resources-insights-and-more\">Conflict in the Middle East: Campus resources, insights and more</a>\n",
       "  </div>,\n",
       "  <div class=\"article-view-mode-sidebar-content node-view-mode-sidebar-content\">\n",
       "  <a href=\"/today/gun-violence\">Gun violence and public health</a>\n",
       "  </div>,\n",
       "  <div class=\"article-view-mode-sidebar-content node-view-mode-sidebar-content\">\n",
       "  <a href=\"/today/2022/quantum-revolution\">Colorado's quantum revolution turning state into new Silicon Valley</a>\n",
       "  </div>]}"
      ]
     },
     "execution_count": 46,
     "metadata": {},
     "output_type": "execute_result"
    }
   ],
   "source": [
    "# Your Code Here\n",
    "article_details = {'Titles': titles, 'Links': modified_links, 'Content': content}\n",
    "article_details"
   ]
  },
  {
   "cell_type": "markdown",
   "metadata": {
    "id": "iyTwpOcTSuwH"
   },
   "source": [
    "Optional, load content for each page here..."
   ]
  },
  {
   "cell_type": "code",
   "execution_count": 48,
   "metadata": {
    "colab": {
     "base_uri": "https://localhost:8080/"
    },
    "id": "ybvVUpuHzAFx",
    "outputId": "2fa1bff7-b68e-4430-bebc-93ece6b58dd1"
   },
   "outputs": [
    {
     "data": {
      "text/html": [
       "<div>\n",
       "<style scoped>\n",
       "    .dataframe tbody tr th:only-of-type {\n",
       "        vertical-align: middle;\n",
       "    }\n",
       "\n",
       "    .dataframe tbody tr th {\n",
       "        vertical-align: top;\n",
       "    }\n",
       "\n",
       "    .dataframe thead th {\n",
       "        text-align: right;\n",
       "    }\n",
       "</style>\n",
       "<table border=\"1\" class=\"dataframe\">\n",
       "  <thead>\n",
       "    <tr style=\"text-align: right;\">\n",
       "      <th></th>\n",
       "      <th>Titles</th>\n",
       "      <th>Links</th>\n",
       "      <th>Content</th>\n",
       "    </tr>\n",
       "  </thead>\n",
       "  <tbody>\n",
       "    <tr>\n",
       "      <th>0</th>\n",
       "      <td>Discovery could lead to longer-lasting EV batt...</td>\n",
       "      <td>https://www.colorado.edu//today/2024/09/12/dis...</td>\n",
       "      <td>[\\n, [Discovery could lead to longer-lasting E...</td>\n",
       "    </tr>\n",
       "    <tr>\n",
       "      <th>1</th>\n",
       "      <td>Wildfire smoke exposure boosts risk of mental ...</td>\n",
       "      <td>https://www.colorado.edu//today/2024/09/11/wil...</td>\n",
       "      <td>[\\n, [Wildfire smoke exposure boosts risk of m...</td>\n",
       "    </tr>\n",
       "    <tr>\n",
       "      <th>2</th>\n",
       "      <td>Increased krill fishing threatens whale comeback</td>\n",
       "      <td>https://www.colorado.edu//today/2024/09/11/inc...</td>\n",
       "      <td>[\\n, [Increased krill fishing threatens whale ...</td>\n",
       "    </tr>\n",
       "    <tr>\n",
       "      <th>3</th>\n",
       "      <td>Lemur CSI: Researchers ID predators threatenin...</td>\n",
       "      <td>https://www.colorado.edu//today/2024/09/10/lem...</td>\n",
       "      <td>[\\n, [Lemur CSI: Researchers ID predators thre...</td>\n",
       "    </tr>\n",
       "    <tr>\n",
       "      <th>4</th>\n",
       "      <td>CU Boulder at AGU 2023: From Earth to space</td>\n",
       "      <td>https://www.colorado.edu//today/cu-boulder-agu...</td>\n",
       "      <td>[\\n, [CU Boulder at AGU 2023: From Earth to sp...</td>\n",
       "    </tr>\n",
       "    <tr>\n",
       "      <th>5</th>\n",
       "      <td>CU Boulder at COP28: Addressing climate change...</td>\n",
       "      <td>https://www.colorado.edu//today/2023/11/28/cu-...</td>\n",
       "      <td>[\\n, [CU Boulder at COP28: Addressing climate ...</td>\n",
       "    </tr>\n",
       "    <tr>\n",
       "      <th>6</th>\n",
       "      <td>Conflict in the Middle East: Campus resources,...</td>\n",
       "      <td>https://www.colorado.edu//today/2023/10/10/con...</td>\n",
       "      <td>[\\n, [Conflict in the Middle East: Campus reso...</td>\n",
       "    </tr>\n",
       "    <tr>\n",
       "      <th>7</th>\n",
       "      <td>Gun violence and public health</td>\n",
       "      <td>https://www.colorado.edu//today/gun-violence</td>\n",
       "      <td>[\\n, [Gun violence and public health], \\n]</td>\n",
       "    </tr>\n",
       "    <tr>\n",
       "      <th>8</th>\n",
       "      <td>Colorado's quantum revolution turning state in...</td>\n",
       "      <td>https://www.colorado.edu//today/2022/quantum-r...</td>\n",
       "      <td>[\\n, [Colorado's quantum revolution turning st...</td>\n",
       "    </tr>\n",
       "  </tbody>\n",
       "</table>\n",
       "</div>"
      ],
      "text/plain": [
       "                                              Titles  \\\n",
       "0  Discovery could lead to longer-lasting EV batt...   \n",
       "1  Wildfire smoke exposure boosts risk of mental ...   \n",
       "2   Increased krill fishing threatens whale comeback   \n",
       "3  Lemur CSI: Researchers ID predators threatenin...   \n",
       "4        CU Boulder at AGU 2023: From Earth to space   \n",
       "5  CU Boulder at COP28: Addressing climate change...   \n",
       "6  Conflict in the Middle East: Campus resources,...   \n",
       "7                     Gun violence and public health   \n",
       "8  Colorado's quantum revolution turning state in...   \n",
       "\n",
       "                                               Links  \\\n",
       "0  https://www.colorado.edu//today/2024/09/12/dis...   \n",
       "1  https://www.colorado.edu//today/2024/09/11/wil...   \n",
       "2  https://www.colorado.edu//today/2024/09/11/inc...   \n",
       "3  https://www.colorado.edu//today/2024/09/10/lem...   \n",
       "4  https://www.colorado.edu//today/cu-boulder-agu...   \n",
       "5  https://www.colorado.edu//today/2023/11/28/cu-...   \n",
       "6  https://www.colorado.edu//today/2023/10/10/con...   \n",
       "7       https://www.colorado.edu//today/gun-violence   \n",
       "8  https://www.colorado.edu//today/2022/quantum-r...   \n",
       "\n",
       "                                             Content  \n",
       "0  [\\n, [Discovery could lead to longer-lasting E...  \n",
       "1  [\\n, [Wildfire smoke exposure boosts risk of m...  \n",
       "2  [\\n, [Increased krill fishing threatens whale ...  \n",
       "3  [\\n, [Lemur CSI: Researchers ID predators thre...  \n",
       "4  [\\n, [CU Boulder at AGU 2023: From Earth to sp...  \n",
       "5  [\\n, [CU Boulder at COP28: Addressing climate ...  \n",
       "6  [\\n, [Conflict in the Middle East: Campus reso...  \n",
       "7         [\\n, [Gun violence and public health], \\n]  \n",
       "8  [\\n, [Colorado's quantum revolution turning st...  "
      ]
     },
     "execution_count": 48,
     "metadata": {},
     "output_type": "execute_result"
    }
   ],
   "source": [
    "# Your Code Here\n",
    "import pandas as pd\n",
    "df_article = pd.DataFrame(article_details)\n",
    "df_article\n"
   ]
  },
  {
   "cell_type": "markdown",
   "metadata": {
    "id": "rCe5BjSuEtyv"
   },
   "source": [
    "### Step 8. Save CSV file"
   ]
  },
  {
   "cell_type": "code",
   "execution_count": 52,
   "metadata": {
    "id": "3hal49rP7a1F"
   },
   "outputs": [],
   "source": [
    "# Your Code Here\n",
    "df_article.to_csv('CUBoulderArticles.csv',index=False)"
   ]
  },
  {
   "cell_type": "markdown",
   "metadata": {
    "id": "BkgHuQV-kuvd"
   },
   "source": [
    "## Q2 Data Cleaning - Workshop"
   ]
  },
  {
   "cell_type": "markdown",
   "metadata": {
    "id": "6X0TUSvyTrsX"
   },
   "source": [
    "###This workshop involves cleaning of a financial dataset, which entails credit card transaction details."
   ]
  },
  {
   "cell_type": "markdown",
   "metadata": {
    "id": "bpTZhdUPkvrh"
   },
   "source": [
    "\n",
    "\n",
    "Download the dataset called *transactions.csv* from Canvas. Here's a description of the columns in the dataset:\n",
    "\n",
    "+ `transactionDateTime`: The date and time of the transaction.\n",
    "+ `transactionAmount`: The amount of the transaction.\n",
    "+ `merchantName`: The name of the merchant where the transaction took place.\n",
    "+ `acqCountry`: The country where the transaction was acquired.\n",
    "+ `merchantCategoryCode`: The category or type of the merchant.\n",
    "+ `currentExpDate`: The current expiration date of the credit card.\n",
    "+ `accountOpenDate`: The account open date.\n",
    "+ `cardCVV`: The CVV associated with the credit card.\n",
    "+ `enteredCVV`: The CVV entered during the transaction.\n",
    "+ `cardLast4Digits`: The last four digits of the credit card number.\n",
    "+ `transactionType`: The type of transaction.\n",
    "+ `cardPresent`: Indicates whether the card was present during the transaction."
   ]
  },
  {
   "cell_type": "markdown",
   "metadata": {
    "id": "cMETM_BblEzM"
   },
   "source": [
    "### Step 1. Import the necessary libraries"
   ]
  },
  {
   "cell_type": "code",
   "execution_count": null,
   "metadata": {
    "id": "LU1hfb3Tkovh"
   },
   "outputs": [],
   "source": [
    "# Your Code Here\n",
    "import pandas as pd\n",
    "\n"
   ]
  },
  {
   "cell_type": "markdown",
   "metadata": {
    "id": "Ay2cjSzolNux"
   },
   "source": [
    "### Step 2. Download the dataset, load it (Google Colab), and save it as a DataFrame."
   ]
  },
  {
   "cell_type": "code",
   "execution_count": null,
   "metadata": {
    "id": "ET07RtI5lYWR"
   },
   "outputs": [],
   "source": [
    "# Your Code Here\n"
   ]
  },
  {
   "cell_type": "markdown",
   "metadata": {
    "id": "KktkmkvllcYS"
   },
   "source": [
    "### For this next part, there are certain columns which need cleaning. Details for such columns are provided along with the task which needs to be done"
   ]
  },
  {
   "cell_type": "markdown",
   "metadata": {
    "id": "ttWdrnl4ljqn"
   },
   "source": [
    "### Step3. Capitalize **all column names** for the given dataset"
   ]
  },
  {
   "cell_type": "code",
   "execution_count": null,
   "metadata": {
    "id": "95tXHewXlcHc"
   },
   "outputs": [],
   "source": [
    "# Your Code Here"
   ]
  },
  {
   "cell_type": "markdown",
   "metadata": {
    "id": "BTyeQNbtmTol"
   },
   "source": [
    "### Separate the date and time - create new columns- **transactionDateTime**"
   ]
  },
  {
   "cell_type": "code",
   "execution_count": null,
   "metadata": {
    "id": "G3pLjgXpmTST"
   },
   "outputs": [],
   "source": [
    "# Your Code Here"
   ]
  },
  {
   "cell_type": "markdown",
   "metadata": {
    "id": "SO80pBjW3RKc"
   },
   "source": [
    "### Missing values / Error values"
   ]
  },
  {
   "cell_type": "markdown",
   "metadata": {
    "id": "VMA81A4Wmdnn"
   },
   "source": [
    "> Check **transactionAmount** for negative values and zeros. If they exist, saved them in a local variable called err"
   ]
  },
  {
   "cell_type": "code",
   "execution_count": null,
   "metadata": {
    "id": "hODufIrvmdWk"
   },
   "outputs": [],
   "source": [
    "# Your Code Here"
   ]
  },
  {
   "cell_type": "markdown",
   "metadata": {
    "id": "2G6II4kv3Z-P"
   },
   "source": [
    "Strategies to replaces missing values (TRANSACTIONAMOUNT)\n",
    "* Strategy 1. Removed them from the list. Tips: use **dropna** and create a new Dataframe Q2_st1\n",
    "* Strategy 2. Replace for the mean. Tips: use **fillna** and create a new Dataframe Q2_st2\n",
    "\n",
    "#### Which one is better?, why?"
   ]
  },
  {
   "cell_type": "code",
   "execution_count": null,
   "metadata": {
    "id": "FKnlYT-zr4IM"
   },
   "outputs": [],
   "source": [
    "#Strategy 1\n",
    "# Your Code Here\n"
   ]
  },
  {
   "cell_type": "code",
   "execution_count": null,
   "metadata": {
    "id": "4W8uwLbI6Dlk"
   },
   "outputs": [],
   "source": [
    "#Strategy 2\n",
    "# Your Code Here\n",
    "\n"
   ]
  }
 ],
 "metadata": {
  "colab": {
   "provenance": []
  },
  "kernelspec": {
   "display_name": "Python 3 (ipykernel)",
   "language": "python",
   "name": "python3"
  },
  "language_info": {
   "codemirror_mode": {
    "name": "ipython",
    "version": 3
   },
   "file_extension": ".py",
   "mimetype": "text/x-python",
   "name": "python",
   "nbconvert_exporter": "python",
   "pygments_lexer": "ipython3",
   "version": "3.12.4"
  }
 },
 "nbformat": 4,
 "nbformat_minor": 4
}

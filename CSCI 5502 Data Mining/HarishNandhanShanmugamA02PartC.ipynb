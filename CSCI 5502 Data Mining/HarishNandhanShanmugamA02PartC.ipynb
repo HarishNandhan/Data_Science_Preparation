{
 "cells": [
  {
   "cell_type": "markdown",
   "id": "29f71c3f-cc10-462b-9977-9948ec377ac3",
   "metadata": {},
   "source": [
    "### EXPLORATORY DATA ANALYSIS"
   ]
  },
  {
   "cell_type": "markdown",
   "id": "a688f789-f450-4a4b-9453-fbdc85d2a5c8",
   "metadata": {},
   "source": [
    "I am using a new dataset for this task, as I used a different one for the in-class activity. At that time, due to time constraints, I worked with a small dataset on fruit prices. Now, I am using a larger Vehicle Price dataset to analyze domain-specific data. This time, I am focusing on the Exploratory Data Analysis of Sales Data to understand how the automobile industry has evolved and how prices have fluctuated.\n",
    "\n",
    "\n",
    "The Vehicle sales data provides a view on how the vehicle sales happened. These data were collected based on year, brand, model, type of body, transmission, Colors, MMR Values, Selling Prices and Sales Date. \n",
    "By using this data we can analyse on how the prices of the cars varies each year, which brand is evolving with new models and technologies and which model and brand people prefer the most.\n",
    "\n",
    "\n",
    "Dataset URL: https://www.kaggle.com/datasets/syedanwarafridi/vehicle-sales-data"
   ]
  },
  {
   "cell_type": "markdown",
   "id": "7cf8830d-7fb6-41c2-af5d-6d7642f572b4",
   "metadata": {},
   "source": [
    "### PART - A"
   ]
  },
  {
   "cell_type": "code",
   "execution_count": 209,
   "id": "68ee6a36-f8d9-4461-9128-bee6821f4f9f",
   "metadata": {},
   "outputs": [
    {
     "data": {
      "text/html": [
       "<div>\n",
       "<style scoped>\n",
       "    .dataframe tbody tr th:only-of-type {\n",
       "        vertical-align: middle;\n",
       "    }\n",
       "\n",
       "    .dataframe tbody tr th {\n",
       "        vertical-align: top;\n",
       "    }\n",
       "\n",
       "    .dataframe thead th {\n",
       "        text-align: right;\n",
       "    }\n",
       "</style>\n",
       "<table border=\"1\" class=\"dataframe\">\n",
       "  <thead>\n",
       "    <tr style=\"text-align: right;\">\n",
       "      <th></th>\n",
       "      <th>year</th>\n",
       "      <th>make</th>\n",
       "      <th>model</th>\n",
       "      <th>trim</th>\n",
       "      <th>body</th>\n",
       "      <th>transmission</th>\n",
       "      <th>vin</th>\n",
       "      <th>state</th>\n",
       "      <th>condition</th>\n",
       "      <th>odometer</th>\n",
       "      <th>color</th>\n",
       "      <th>interior</th>\n",
       "      <th>seller</th>\n",
       "      <th>mmr</th>\n",
       "      <th>sellingprice</th>\n",
       "      <th>saledate</th>\n",
       "    </tr>\n",
       "  </thead>\n",
       "  <tbody>\n",
       "    <tr>\n",
       "      <th>0</th>\n",
       "      <td>2015</td>\n",
       "      <td>Kia</td>\n",
       "      <td>Sorento</td>\n",
       "      <td>LX</td>\n",
       "      <td>SUV</td>\n",
       "      <td>automatic</td>\n",
       "      <td>5xyktca69fg566472</td>\n",
       "      <td>ca</td>\n",
       "      <td>5.0</td>\n",
       "      <td>16639.0</td>\n",
       "      <td>white</td>\n",
       "      <td>black</td>\n",
       "      <td>kia motors america  inc</td>\n",
       "      <td>20500.0</td>\n",
       "      <td>21500.0</td>\n",
       "      <td>Tue Dec 16 2014 12:30:00 GMT-0800 (PST)</td>\n",
       "    </tr>\n",
       "    <tr>\n",
       "      <th>1</th>\n",
       "      <td>2015</td>\n",
       "      <td>Kia</td>\n",
       "      <td>Sorento</td>\n",
       "      <td>LX</td>\n",
       "      <td>SUV</td>\n",
       "      <td>automatic</td>\n",
       "      <td>5xyktca69fg561319</td>\n",
       "      <td>ca</td>\n",
       "      <td>5.0</td>\n",
       "      <td>9393.0</td>\n",
       "      <td>white</td>\n",
       "      <td>beige</td>\n",
       "      <td>kia motors america  inc</td>\n",
       "      <td>20800.0</td>\n",
       "      <td>21500.0</td>\n",
       "      <td>Tue Dec 16 2014 12:30:00 GMT-0800 (PST)</td>\n",
       "    </tr>\n",
       "    <tr>\n",
       "      <th>2</th>\n",
       "      <td>2014</td>\n",
       "      <td>BMW</td>\n",
       "      <td>3 Series</td>\n",
       "      <td>328i SULEV</td>\n",
       "      <td>Sedan</td>\n",
       "      <td>automatic</td>\n",
       "      <td>wba3c1c51ek116351</td>\n",
       "      <td>ca</td>\n",
       "      <td>45.0</td>\n",
       "      <td>1331.0</td>\n",
       "      <td>gray</td>\n",
       "      <td>black</td>\n",
       "      <td>financial services remarketing (lease)</td>\n",
       "      <td>31900.0</td>\n",
       "      <td>30000.0</td>\n",
       "      <td>Thu Jan 15 2015 04:30:00 GMT-0800 (PST)</td>\n",
       "    </tr>\n",
       "    <tr>\n",
       "      <th>3</th>\n",
       "      <td>2015</td>\n",
       "      <td>Volvo</td>\n",
       "      <td>S60</td>\n",
       "      <td>T5</td>\n",
       "      <td>Sedan</td>\n",
       "      <td>automatic</td>\n",
       "      <td>yv1612tb4f1310987</td>\n",
       "      <td>ca</td>\n",
       "      <td>41.0</td>\n",
       "      <td>14282.0</td>\n",
       "      <td>white</td>\n",
       "      <td>black</td>\n",
       "      <td>volvo na rep/world omni</td>\n",
       "      <td>27500.0</td>\n",
       "      <td>27750.0</td>\n",
       "      <td>Thu Jan 29 2015 04:30:00 GMT-0800 (PST)</td>\n",
       "    </tr>\n",
       "    <tr>\n",
       "      <th>4</th>\n",
       "      <td>2014</td>\n",
       "      <td>BMW</td>\n",
       "      <td>6 Series Gran Coupe</td>\n",
       "      <td>650i</td>\n",
       "      <td>Sedan</td>\n",
       "      <td>automatic</td>\n",
       "      <td>wba6b2c57ed129731</td>\n",
       "      <td>ca</td>\n",
       "      <td>43.0</td>\n",
       "      <td>2641.0</td>\n",
       "      <td>gray</td>\n",
       "      <td>black</td>\n",
       "      <td>financial services remarketing (lease)</td>\n",
       "      <td>66000.0</td>\n",
       "      <td>67000.0</td>\n",
       "      <td>Thu Dec 18 2014 12:30:00 GMT-0800 (PST)</td>\n",
       "    </tr>\n",
       "  </tbody>\n",
       "</table>\n",
       "</div>"
      ],
      "text/plain": [
       "   year   make                model        trim   body transmission  \\\n",
       "0  2015    Kia              Sorento          LX    SUV    automatic   \n",
       "1  2015    Kia              Sorento          LX    SUV    automatic   \n",
       "2  2014    BMW             3 Series  328i SULEV  Sedan    automatic   \n",
       "3  2015  Volvo                  S60          T5  Sedan    automatic   \n",
       "4  2014    BMW  6 Series Gran Coupe        650i  Sedan    automatic   \n",
       "\n",
       "                 vin state  condition  odometer  color interior  \\\n",
       "0  5xyktca69fg566472    ca        5.0   16639.0  white    black   \n",
       "1  5xyktca69fg561319    ca        5.0    9393.0  white    beige   \n",
       "2  wba3c1c51ek116351    ca       45.0    1331.0   gray    black   \n",
       "3  yv1612tb4f1310987    ca       41.0   14282.0  white    black   \n",
       "4  wba6b2c57ed129731    ca       43.0    2641.0   gray    black   \n",
       "\n",
       "                                   seller      mmr  sellingprice  \\\n",
       "0                 kia motors america  inc  20500.0       21500.0   \n",
       "1                 kia motors america  inc  20800.0       21500.0   \n",
       "2  financial services remarketing (lease)  31900.0       30000.0   \n",
       "3                 volvo na rep/world omni  27500.0       27750.0   \n",
       "4  financial services remarketing (lease)  66000.0       67000.0   \n",
       "\n",
       "                                  saledate  \n",
       "0  Tue Dec 16 2014 12:30:00 GMT-0800 (PST)  \n",
       "1  Tue Dec 16 2014 12:30:00 GMT-0800 (PST)  \n",
       "2  Thu Jan 15 2015 04:30:00 GMT-0800 (PST)  \n",
       "3  Thu Jan 29 2015 04:30:00 GMT-0800 (PST)  \n",
       "4  Thu Dec 18 2014 12:30:00 GMT-0800 (PST)  "
      ]
     },
     "execution_count": 209,
     "metadata": {},
     "output_type": "execute_result"
    }
   ],
   "source": [
    "import pandas as pd\n",
    "\n",
    "df = pd.read_csv(\"car_prices.csv\")\n",
    "df.head()"
   ]
  },
  {
   "cell_type": "code",
   "execution_count": 37,
   "id": "80b93df0-aa40-435d-834a-8891dbf8e3f1",
   "metadata": {},
   "outputs": [
    {
     "name": "stdout",
     "output_type": "stream",
     "text": [
      "Total no.of rows =  558837\n",
      "Total no. of columns =  16\n"
     ]
    }
   ],
   "source": [
    "#Num of Rows and Columns\n",
    "a = df.shape\n",
    "print(\"Total no.of rows = \", a[0])\n",
    "print(\"Total no. of columns = \", a[1])"
   ]
  },
  {
   "cell_type": "code",
   "execution_count": 211,
   "id": "5f33b6ed-1944-44dc-9597-b59a560a5edd",
   "metadata": {},
   "outputs": [
    {
     "data": {
      "text/html": [
       "<div>\n",
       "<style scoped>\n",
       "    .dataframe tbody tr th:only-of-type {\n",
       "        vertical-align: middle;\n",
       "    }\n",
       "\n",
       "    .dataframe tbody tr th {\n",
       "        vertical-align: top;\n",
       "    }\n",
       "\n",
       "    .dataframe thead th {\n",
       "        text-align: right;\n",
       "    }\n",
       "</style>\n",
       "<table border=\"1\" class=\"dataframe\">\n",
       "  <thead>\n",
       "    <tr style=\"text-align: right;\">\n",
       "      <th></th>\n",
       "      <th>year</th>\n",
       "      <th>condition</th>\n",
       "      <th>odometer</th>\n",
       "      <th>mmr</th>\n",
       "      <th>sellingprice</th>\n",
       "    </tr>\n",
       "  </thead>\n",
       "  <tbody>\n",
       "    <tr>\n",
       "      <th>count</th>\n",
       "      <td>558837.000000</td>\n",
       "      <td>547017.000000</td>\n",
       "      <td>558743.000000</td>\n",
       "      <td>558799.000000</td>\n",
       "      <td>558825.000000</td>\n",
       "    </tr>\n",
       "    <tr>\n",
       "      <th>mean</th>\n",
       "      <td>2010.038927</td>\n",
       "      <td>30.672365</td>\n",
       "      <td>68320.017767</td>\n",
       "      <td>13769.377495</td>\n",
       "      <td>13611.358810</td>\n",
       "    </tr>\n",
       "    <tr>\n",
       "      <th>std</th>\n",
       "      <td>3.966864</td>\n",
       "      <td>13.402832</td>\n",
       "      <td>53398.542821</td>\n",
       "      <td>9679.967174</td>\n",
       "      <td>9749.501628</td>\n",
       "    </tr>\n",
       "    <tr>\n",
       "      <th>min</th>\n",
       "      <td>1982.000000</td>\n",
       "      <td>1.000000</td>\n",
       "      <td>1.000000</td>\n",
       "      <td>25.000000</td>\n",
       "      <td>1.000000</td>\n",
       "    </tr>\n",
       "    <tr>\n",
       "      <th>25%</th>\n",
       "      <td>2007.000000</td>\n",
       "      <td>23.000000</td>\n",
       "      <td>28371.000000</td>\n",
       "      <td>7100.000000</td>\n",
       "      <td>6900.000000</td>\n",
       "    </tr>\n",
       "    <tr>\n",
       "      <th>50%</th>\n",
       "      <td>2012.000000</td>\n",
       "      <td>35.000000</td>\n",
       "      <td>52254.000000</td>\n",
       "      <td>12250.000000</td>\n",
       "      <td>12100.000000</td>\n",
       "    </tr>\n",
       "    <tr>\n",
       "      <th>75%</th>\n",
       "      <td>2013.000000</td>\n",
       "      <td>42.000000</td>\n",
       "      <td>99109.000000</td>\n",
       "      <td>18300.000000</td>\n",
       "      <td>18200.000000</td>\n",
       "    </tr>\n",
       "    <tr>\n",
       "      <th>max</th>\n",
       "      <td>2015.000000</td>\n",
       "      <td>49.000000</td>\n",
       "      <td>999999.000000</td>\n",
       "      <td>182000.000000</td>\n",
       "      <td>230000.000000</td>\n",
       "    </tr>\n",
       "  </tbody>\n",
       "</table>\n",
       "</div>"
      ],
      "text/plain": [
       "                year      condition       odometer            mmr  \\\n",
       "count  558837.000000  547017.000000  558743.000000  558799.000000   \n",
       "mean     2010.038927      30.672365   68320.017767   13769.377495   \n",
       "std         3.966864      13.402832   53398.542821    9679.967174   \n",
       "min      1982.000000       1.000000       1.000000      25.000000   \n",
       "25%      2007.000000      23.000000   28371.000000    7100.000000   \n",
       "50%      2012.000000      35.000000   52254.000000   12250.000000   \n",
       "75%      2013.000000      42.000000   99109.000000   18300.000000   \n",
       "max      2015.000000      49.000000  999999.000000  182000.000000   \n",
       "\n",
       "        sellingprice  \n",
       "count  558825.000000  \n",
       "mean    13611.358810  \n",
       "std      9749.501628  \n",
       "min         1.000000  \n",
       "25%      6900.000000  \n",
       "50%     12100.000000  \n",
       "75%     18200.000000  \n",
       "max    230000.000000  "
      ]
     },
     "execution_count": 211,
     "metadata": {},
     "output_type": "execute_result"
    }
   ],
   "source": [
    "df.describe()"
   ]
  },
  {
   "cell_type": "code",
   "execution_count": 43,
   "id": "b9dc96e5-133b-4f7b-ac79-c77b85775883",
   "metadata": {},
   "outputs": [
    {
     "name": "stdout",
     "output_type": "stream",
     "text": [
      "<class 'pandas.core.frame.DataFrame'>\n",
      "RangeIndex: 558837 entries, 0 to 558836\n",
      "Data columns (total 16 columns):\n",
      " #   Column        Non-Null Count   Dtype  \n",
      "---  ------        --------------   -----  \n",
      " 0   year          558837 non-null  int64  \n",
      " 1   make          548536 non-null  object \n",
      " 2   model         548438 non-null  object \n",
      " 3   trim          548186 non-null  object \n",
      " 4   body          545642 non-null  object \n",
      " 5   transmission  493485 non-null  object \n",
      " 6   vin           558833 non-null  object \n",
      " 7   state         558837 non-null  object \n",
      " 8   condition     547017 non-null  float64\n",
      " 9   odometer      558743 non-null  float64\n",
      " 10  color         558088 non-null  object \n",
      " 11  interior      558088 non-null  object \n",
      " 12  seller        558837 non-null  object \n",
      " 13  mmr           558799 non-null  float64\n",
      " 14  sellingprice  558825 non-null  float64\n",
      " 15  saledate      558825 non-null  object \n",
      "dtypes: float64(4), int64(1), object(11)\n",
      "memory usage: 68.2+ MB\n"
     ]
    }
   ],
   "source": [
    "#Data Type of Each attribute\n",
    "df.info()"
   ]
  },
  {
   "cell_type": "code",
   "execution_count": 51,
   "id": "c1b78484-f2e5-4fc8-8e86-4f6ac5da062c",
   "metadata": {},
   "outputs": [
    {
     "name": "stdout",
     "output_type": "stream",
     "text": [
      "Index(['make', 'model', 'trim', 'body', 'transmission', 'vin', 'state',\n",
      "       'color', 'interior', 'seller', 'saledate'],\n",
      "      dtype='object')\n",
      "Index(['year', 'condition', 'odometer', 'mmr', 'sellingprice'], dtype='object')\n"
     ]
    }
   ],
   "source": [
    "categ = df.select_dtypes(include=['object']).columns\n",
    "print(categ)\n",
    "numeric = df.select_dtypes(include=['number']).columns\n",
    "print(numeric)\n"
   ]
  },
  {
   "cell_type": "markdown",
   "id": "8755edee-9a9d-4887-888c-057bfffd9bff",
   "metadata": {},
   "source": [
    "### PART - B"
   ]
  },
  {
   "cell_type": "markdown",
   "id": "e82d5bf3-5b07-4392-a0fc-8af4821337b9",
   "metadata": {},
   "source": [
    "##### Categorical Attribute\n",
    "###### Categorical Attribute which I chose is the 'Make'"
   ]
  },
  {
   "cell_type": "code",
   "execution_count": 120,
   "id": "f391964e-7443-4b1f-bb03-fc88efdd895e",
   "metadata": {},
   "outputs": [
    {
     "name": "stdout",
     "output_type": "stream",
     "text": [
      "The count of different categories in the categorical attribute make are: \n",
      " make\n",
      "Acura            5901\n",
      "Aston Martin       25\n",
      "Audi             5869\n",
      "BMW             20719\n",
      "Bentley           116\n",
      "                ...  \n",
      "subaru             60\n",
      "suzuki              5\n",
      "toyota             95\n",
      "volkswagen         24\n",
      "vw                 24\n",
      "Length: 96, dtype: int64\n",
      "\n",
      "\n",
      " The most frequently occuring category in the Make column is:  Ford\n"
     ]
    }
   ],
   "source": [
    "df['make'].count()\n",
    "a = df.groupby(['make']).size()\n",
    "b = df['make'].mode()[0]\n",
    "print(\"The count of different categories in the categorical attribute make are: \\n\", a)\n",
    "print(\"\\n\\n The most frequently occuring category in the Make column is: \",b)"
   ]
  },
  {
   "cell_type": "code",
   "execution_count": 108,
   "id": "b77dfb20-1d90-4450-ae49-00f91a492c15",
   "metadata": {},
   "outputs": [
    {
     "name": "stdout",
     "output_type": "stream",
     "text": [
      "The no. of rows which consists of 'Ford' made cars are:  93554\n"
     ]
    }
   ],
   "source": [
    "c = a['Ford']\n",
    "print(\"The no. of rows which consists of 'Ford' made cars are: \",c) "
   ]
  },
  {
   "cell_type": "markdown",
   "id": "a6bb8f8f-2282-43de-8b84-4d181587a280",
   "metadata": {},
   "source": [
    "##### Numerical Attribute\n",
    "###### Let's consider the 'selling price' numerical attribute"
   ]
  },
  {
   "cell_type": "code",
   "execution_count": 126,
   "id": "002c2a0c-2226-4915-9b2a-4d574882df2d",
   "metadata": {},
   "outputs": [
    {
     "name": "stdout",
     "output_type": "stream",
     "text": [
      "Minimum selling price of Cars:  1.0\n",
      "Maximum selling price of Cars:  230000.0\n"
     ]
    }
   ],
   "source": [
    "min_selling_price = df['sellingprice'].min()\n",
    "max_selling_price = df['sellingprice'].max()\n",
    "print('Minimum selling price of Cars: ',min_selling_price)\n",
    "print('Maximum selling price of Cars: ',max_selling_price)\n",
    "\n"
   ]
  },
  {
   "cell_type": "markdown",
   "id": "59da39ab-b12e-4194-9e32-3416bb7fcd59",
   "metadata": {},
   "source": [
    "###### Central Tendency"
   ]
  },
  {
   "cell_type": "code",
   "execution_count": 154,
   "id": "f771a682-1ac7-4df6-9b25-e95e9b91f06a",
   "metadata": {},
   "outputs": [
    {
     "name": "stdout",
     "output_type": "stream",
     "text": [
      "Mean of the Selling price is:  13611.358810003132\n",
      "Median of the selling price is:  12100.0\n",
      "Mode of the selling price is:  0    11000.0\n",
      "Name: sellingprice, dtype: float64\n"
     ]
    }
   ],
   "source": [
    "#Mean, Median, Mode\n",
    "mean_selling_price = df['sellingprice'].mean()\n",
    "median_selling_price = df['sellingprice'].median()\n",
    "mode_selling_price = df['sellingprice'].mode()\n",
    "\n",
    "print(\"Mean of the Selling price is: \",mean_selling_price)\n",
    "print(\"Median of the selling price is: \",median_selling_price)\n",
    "print(\"Mode of the selling price is: \",mode_selling_price)\n",
    "# It is having two modes so it is Bimodal"
   ]
  },
  {
   "cell_type": "markdown",
   "id": "a5ce1c2f-fd3c-4057-be5b-c75a4dc9dfa7",
   "metadata": {},
   "source": [
    "##### Dispersion and Spread Analysis"
   ]
  },
  {
   "cell_type": "code",
   "execution_count": 158,
   "id": "357f5348-e93e-4a50-b6c6-628b7401a490",
   "metadata": {},
   "outputs": [
    {
     "name": "stdout",
     "output_type": "stream",
     "text": [
      "The range of selling price is:  229900.0\n"
     ]
    }
   ],
   "source": [
    "# Range\n",
    "range_selling_price = max_selling_price - min_selling_price\n",
    "range_selling_price\n",
    "print(\"The range of selling price is: \",range_selling_price)"
   ]
  },
  {
   "cell_type": "code",
   "execution_count": 160,
   "id": "83440673-f68e-4dc5-9981-261d24ec72ab",
   "metadata": {},
   "outputs": [
    {
     "name": "stdout",
     "output_type": "stream",
     "text": [
      "The Midrange of selling price is:  115050.0\n"
     ]
    }
   ],
   "source": [
    "# Midrange\n",
    "midrange_selling_price = (max_selling_price + min_selling_price)/2\n",
    "midrange_selling_price\n",
    "print(\"The Midrange of selling price is: \",midrange_selling_price)"
   ]
  },
  {
   "cell_type": "code",
   "execution_count": 170,
   "id": "4d67ecff-3979-4f58-be5b-06011cdb27ed",
   "metadata": {},
   "outputs": [
    {
     "name": "stdout",
     "output_type": "stream",
     "text": [
      "Q1(25th percentile) of Selling Price is:  6900.0\n",
      "Q2(50th percentile) or The Median of Selling Price is:  12100.0\n",
      "Q3(75th percentile) of Selling Price is:  18200.0\n"
     ]
    }
   ],
   "source": [
    "# Quartiles\n",
    "q_1 = df['sellingprice'].quantile(0.25)\n",
    "print(\"Q1(25th percentile) of Selling Price is: \",q_1)\n",
    "q_2 = df['sellingprice'].quantile(0.50)\n",
    "print(\"Q2(50th percentile) or The Median of Selling Price is: \",q_2)\n",
    "q_3 = df['sellingprice'].quantile(0.75)\n",
    "print(\"Q3(75th percentile) of Selling Price is: \",q_3)"
   ]
  },
  {
   "cell_type": "code",
   "execution_count": 172,
   "id": "18ff8bd0-82bf-49e7-8ec0-59057d743198",
   "metadata": {},
   "outputs": [
    {
     "name": "stdout",
     "output_type": "stream",
     "text": [
      "The Interquartile Range (IQR) for Selling Price is:  11300.0\n"
     ]
    }
   ],
   "source": [
    "#Inter Quartile Range(IQR)\n",
    "iqr_selling_price = q_3 - q_1\n",
    "print(\"The Interquartile Range (IQR) for Selling Price is: \",iqr_selling_price)"
   ]
  },
  {
   "cell_type": "code",
   "execution_count": 174,
   "id": "ab5f4d6a-bebe-42f3-b04b-73edad453e34",
   "metadata": {},
   "outputs": [
    {
     "name": "stdout",
     "output_type": "stream",
     "text": [
      "The Variance for Selling Price is:  95052781.99095178\n",
      "The Standard Deviation for Selling Price is:  9749.501627824458\n"
     ]
    }
   ],
   "source": [
    "# Variance and Standard Deviation\n",
    "variance_selling_price = df['sellingprice'].var()\n",
    "standard_deviation_selling_price = df['sellingprice'].std()\n",
    "print(\"The Variance for Selling Price is: \",variance_selling_price)\n",
    "print(\"The Standard Deviation for Selling Price is: \",standard_deviation_selling_price)"
   ]
  },
  {
   "cell_type": "markdown",
   "id": "68854509-6771-4745-beeb-1eeef26488df",
   "metadata": {},
   "source": [
    "##### Outliers Detection"
   ]
  },
  {
   "cell_type": "code",
   "execution_count": 184,
   "id": "661d23d2-8b1b-4c1f-8f32-32a484f08537",
   "metadata": {},
   "outputs": [
    {
     "name": "stdout",
     "output_type": "stream",
     "text": [
      "Outliers in Sellingprice are:\n"
     ]
    },
    {
     "data": {
      "text/html": [
       "<div>\n",
       "<style scoped>\n",
       "    .dataframe tbody tr th:only-of-type {\n",
       "        vertical-align: middle;\n",
       "    }\n",
       "\n",
       "    .dataframe tbody tr th {\n",
       "        vertical-align: top;\n",
       "    }\n",
       "\n",
       "    .dataframe thead th {\n",
       "        text-align: right;\n",
       "    }\n",
       "</style>\n",
       "<table border=\"1\" class=\"dataframe\">\n",
       "  <thead>\n",
       "    <tr style=\"text-align: right;\">\n",
       "      <th></th>\n",
       "      <th>year</th>\n",
       "      <th>make</th>\n",
       "      <th>model</th>\n",
       "      <th>trim</th>\n",
       "      <th>body</th>\n",
       "      <th>transmission</th>\n",
       "      <th>vin</th>\n",
       "      <th>state</th>\n",
       "      <th>condition</th>\n",
       "      <th>odometer</th>\n",
       "      <th>color</th>\n",
       "      <th>interior</th>\n",
       "      <th>seller</th>\n",
       "      <th>mmr</th>\n",
       "      <th>sellingprice</th>\n",
       "      <th>saledate</th>\n",
       "    </tr>\n",
       "  </thead>\n",
       "  <tbody>\n",
       "    <tr>\n",
       "      <th>4</th>\n",
       "      <td>2014</td>\n",
       "      <td>BMW</td>\n",
       "      <td>6 Series Gran Coupe</td>\n",
       "      <td>650i</td>\n",
       "      <td>Sedan</td>\n",
       "      <td>automatic</td>\n",
       "      <td>wba6b2c57ed129731</td>\n",
       "      <td>ca</td>\n",
       "      <td>43.0</td>\n",
       "      <td>2641.0</td>\n",
       "      <td>gray</td>\n",
       "      <td>black</td>\n",
       "      <td>financial services remarketing (lease)</td>\n",
       "      <td>66000.0</td>\n",
       "      <td>67000.0</td>\n",
       "      <td>Thu Dec 18 2014 12:30:00 GMT-0800 (PST)</td>\n",
       "    </tr>\n",
       "    <tr>\n",
       "      <th>6</th>\n",
       "      <td>2014</td>\n",
       "      <td>BMW</td>\n",
       "      <td>M5</td>\n",
       "      <td>Base</td>\n",
       "      <td>Sedan</td>\n",
       "      <td>automatic</td>\n",
       "      <td>wbsfv9c51ed593089</td>\n",
       "      <td>ca</td>\n",
       "      <td>34.0</td>\n",
       "      <td>14943.0</td>\n",
       "      <td>black</td>\n",
       "      <td>black</td>\n",
       "      <td>the hertz corporation</td>\n",
       "      <td>69000.0</td>\n",
       "      <td>65000.0</td>\n",
       "      <td>Wed Dec 17 2014 12:30:00 GMT-0800 (PST)</td>\n",
       "    </tr>\n",
       "    <tr>\n",
       "      <th>10</th>\n",
       "      <td>2014</td>\n",
       "      <td>Audi</td>\n",
       "      <td>A6</td>\n",
       "      <td>3.0T Prestige quattro</td>\n",
       "      <td>Sedan</td>\n",
       "      <td>automatic</td>\n",
       "      <td>wauhgafc0en062916</td>\n",
       "      <td>ca</td>\n",
       "      <td>48.0</td>\n",
       "      <td>14414.0</td>\n",
       "      <td>black</td>\n",
       "      <td>black</td>\n",
       "      <td>desert auto trade</td>\n",
       "      <td>47300.0</td>\n",
       "      <td>49750.0</td>\n",
       "      <td>Tue Dec 16 2014 12:30:00 GMT-0800 (PST)</td>\n",
       "    </tr>\n",
       "    <tr>\n",
       "      <th>17</th>\n",
       "      <td>2014</td>\n",
       "      <td>Audi</td>\n",
       "      <td>Q5</td>\n",
       "      <td>2.0T Premium Plus quattro</td>\n",
       "      <td>SUV</td>\n",
       "      <td>automatic</td>\n",
       "      <td>wa1lfafpxea085074</td>\n",
       "      <td>ca</td>\n",
       "      <td>49.0</td>\n",
       "      <td>7983.0</td>\n",
       "      <td>white</td>\n",
       "      <td>black</td>\n",
       "      <td>audi north scottsdale</td>\n",
       "      <td>37100.0</td>\n",
       "      <td>40000.0</td>\n",
       "      <td>Thu Dec 18 2014 12:30:00 GMT-0800 (PST)</td>\n",
       "    </tr>\n",
       "    <tr>\n",
       "      <th>19</th>\n",
       "      <td>2014</td>\n",
       "      <td>BMW</td>\n",
       "      <td>6 Series</td>\n",
       "      <td>650i</td>\n",
       "      <td>Convertible</td>\n",
       "      <td>automatic</td>\n",
       "      <td>wbayp9c53ed169260</td>\n",
       "      <td>ca</td>\n",
       "      <td>34.0</td>\n",
       "      <td>8819.0</td>\n",
       "      <td>black</td>\n",
       "      <td>black</td>\n",
       "      <td>the hertz corporation</td>\n",
       "      <td>68000.0</td>\n",
       "      <td>67200.0</td>\n",
       "      <td>Wed Dec 17 2014 12:30:00 GMT-0800 (PST)</td>\n",
       "    </tr>\n",
       "  </tbody>\n",
       "</table>\n",
       "</div>"
      ],
      "text/plain": [
       "    year  make                model                       trim         body  \\\n",
       "4   2014   BMW  6 Series Gran Coupe                       650i        Sedan   \n",
       "6   2014   BMW                   M5                       Base        Sedan   \n",
       "10  2014  Audi                   A6      3.0T Prestige quattro        Sedan   \n",
       "17  2014  Audi                   Q5  2.0T Premium Plus quattro          SUV   \n",
       "19  2014   BMW             6 Series                       650i  Convertible   \n",
       "\n",
       "   transmission                vin state  condition  odometer  color interior  \\\n",
       "4     automatic  wba6b2c57ed129731    ca       43.0    2641.0   gray    black   \n",
       "6     automatic  wbsfv9c51ed593089    ca       34.0   14943.0  black    black   \n",
       "10    automatic  wauhgafc0en062916    ca       48.0   14414.0  black    black   \n",
       "17    automatic  wa1lfafpxea085074    ca       49.0    7983.0  white    black   \n",
       "19    automatic  wbayp9c53ed169260    ca       34.0    8819.0  black    black   \n",
       "\n",
       "                                    seller      mmr  sellingprice  \\\n",
       "4   financial services remarketing (lease)  66000.0       67000.0   \n",
       "6                    the hertz corporation  69000.0       65000.0   \n",
       "10                       desert auto trade  47300.0       49750.0   \n",
       "17                   audi north scottsdale  37100.0       40000.0   \n",
       "19                   the hertz corporation  68000.0       67200.0   \n",
       "\n",
       "                                   saledate  \n",
       "4   Thu Dec 18 2014 12:30:00 GMT-0800 (PST)  \n",
       "6   Wed Dec 17 2014 12:30:00 GMT-0800 (PST)  \n",
       "10  Tue Dec 16 2014 12:30:00 GMT-0800 (PST)  \n",
       "17  Thu Dec 18 2014 12:30:00 GMT-0800 (PST)  \n",
       "19  Wed Dec 17 2014 12:30:00 GMT-0800 (PST)  "
      ]
     },
     "execution_count": 184,
     "metadata": {},
     "output_type": "execute_result"
    }
   ],
   "source": [
    "lower_whisker = q_1 - 1.5*iqr_selling_price\n",
    "upper_whisker = q_3 + 1.5*iqr_selling_price\n",
    "outliers_selling_price = df[(df['sellingprice'] < lower_whisker) | (df['sellingprice'] > upper_whisker)]\n",
    "print(\"Outliers in Sellingprice are:\")\n",
    "outliers_selling_price.head()"
   ]
  },
  {
   "cell_type": "markdown",
   "id": "2a7a7d25-0fdb-48b4-8859-93cd55e21da9",
   "metadata": {},
   "source": [
    "##### Visualization"
   ]
  },
  {
   "cell_type": "code",
   "execution_count": 194,
   "id": "d710e581-f62d-48a6-bb24-ead2a34a6a24",
   "metadata": {},
   "outputs": [
    {
     "data": {
      "image/png": "[encoded data removed]",
      "text/plain": [
       "<Figure size 640x480 with 1 Axes>"
      ]
     },
     "metadata": {},
     "output_type": "display_data"
    }
   ],
   "source": [
    "\n",
    "import seaborn as sns\n",
    "import matplotlib.pyplot as plt\n",
    "\n",
    "sns.boxplot(df['sellingprice'],color='red')\n",
    "plt.title('Box Plot of Selling price showing Outliers')\n",
    "plt.show()"
   ]
  },
  {
   "cell_type": "code",
   "execution_count": 198,
   "id": "bf21a23f-44c9-43e7-87eb-e1546c5c10d7",
   "metadata": {},
   "outputs": [
    {
     "data": {
      "image/png": "[encoded data removed]",
      "text/plain": [
       "<Figure size 640x480 with 1 Axes>"
      ]
     },
     "metadata": {},
     "output_type": "display_data"
    }
   ],
   "source": [
    "plt.hist(df['sellingprice'], bins=10, edgecolor='black')\n",
    "plt.title('Distribution of Selling Price which shows the distribution and Outliers')\n",
    "plt.xlabel('Selling Price')\n",
    "plt.ylabel('Number of Cars')\n",
    "plt.show()"
   ]
  },
  {
   "cell_type": "markdown",
   "id": "ffc075e9-c3f2-4dcd-aed0-1661d98a9eac",
   "metadata": {},
   "source": [
    "#### Part 3 : Knowledge Discovery"
   ]
  },
  {
   "cell_type": "markdown",
   "id": "9f8a6eb1-a721-4e23-bdcb-f1db7f3c36f4",
   "metadata": {},
   "source": [
    "1. ##### Data Mining Opportunities\n",
    "   - While analyzing the categorical attribute 'Make' it clearly shows that some of the Brands like Audi, Acura, BMW and Ford are the ones that sold many cars during this particular time frame. All other brands sold relatively lower cars compared to these brands.\n",
    "  - While analyzing the numerical attribute 'SellingPrice' it shows that there are outliers present in this selling price data because the minimum value is just 1$, in that price we cannot get a car. So some inconsistency is there in that data.\n",
    "  -  The histogram clearly shows that the price of most cars falls in the range of 0 - 50000 USD. Some outliers are not useful for the model development in the dataset. \r",
    "  -  \tThe box plot is really useful in visualizing the outliers present in the data. The outliers are present above the price of 50000.\n",
    "\n",
    "\n",
    "\n",
    "\n",
    "\n",
    "2. ##### Potential Applications\n",
    "    - The potential application of this data is that we can use these attributes in predicting car prices when a new car launches by comparing all the car's features.\r\n",
    "   - \r\n",
    "This dataset is also useful in segregating or clustering the cars based on the price range. We can cluster cars like 'Low Budget', 'Mid Range Cars', 'Expensive or High Budget cars'$\r\n",
    "\n",
    "   "
   ]
  },
  {
   "cell_type": "markdown",
   "id": "ecf6b47e-a8a0-4310-9b57-6c957001f06c",
   "metadata": {},
   "source": [
    "#### PART 4: Reflection"
   ]
  },
  {
   "cell_type": "markdown",
   "id": "b2e4d499-94ac-4bd0-a97c-2f31803849c0",
   "metadata": {},
   "source": [
    "In this task by analyzing the dataset, I learned about some new parameters such as \"odometer reading, \"Manheim Market Report values\" which are useful in determining the price of a car.\n",
    "\r\n",
    "The challenging part here is \"The presence of outliers and The Null values are more in this dataset\" which may affect the model prediction so we have to perform Data Cleaning and Data preprocessing operations before performing the model development operation. It is very useful in predicting future car prices and this data is also useful in comparing the features of the car what are the features which are improved and what are the features which are same in the car and based on which aspect the prices got hiked and decreased."
   ]
  }
 ],
 "metadata": {
  "kernelspec": {
   "display_name": "Python 3 (ipykernel)",
   "language": "python",
   "name": "python3"
  },
  "language_info": {
   "codemirror_mode": {
    "name": "ipython",
    "version": 3
   },
   "file_extension": ".py",
   "mimetype": "text/x-python",
   "name": "python",
   "nbconvert_exporter": "python",
   "pygments_lexer": "ipython3",
   "version": "3.12.4"
  }
 },
 "nbformat": 4,
 "nbformat_minor": 5
}
